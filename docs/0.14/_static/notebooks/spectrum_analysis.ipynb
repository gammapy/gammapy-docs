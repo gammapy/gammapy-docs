{
 "cells": [
  {
   "cell_type": "markdown",
   "metadata": {},
   "source": [
    "\n",
    "# Spectral analysis with Gammapy"
   ]
  },
  {
   "cell_type": "markdown",
   "metadata": {},
   "source": [
    "## Introduction\n",
    "\n",
    "This notebook explains in detail how to use the classes in [gammapy.spectrum](https://docs.gammapy.org/0.14/spectrum/index.html) and related ones.\n",
    "\n",
    "Based on a datasets of 4 Crab observations with H.E.S.S. (simulated events for now) we will perform a full region based spectral analysis, i.e. extracting source and background counts from certain \n",
    "regions, and fitting them using the forward-folding approach. We will use the following classes\n",
    "\n",
    "Data handling:\n",
    "\n",
    "* [gammapy.data.DataStore](https://docs.gammapy.org/0.14/api/gammapy.data.DataStore.html)\n",
    "* [gammapy.data.DataStoreObservation](https://docs.gammapy.org/0.14/api/gammapy.data.DataStoreObservation.html)\n",
    "* [gammapy.data.ObservationStats](https://docs.gammapy.org/0.14/api/gammapy.data.ObservationStats.html)\n",
    "* [gammapy.data.ObservationSummary](https://docs.gammapy.org/0.14/api/gammapy.data.ObservationSummary.html)\n",
    "\n",
    "To extract the 1-dim spectral information:\n",
    "\n",
    "* [gammapy.spectrum.SpectrumExtraction](https://docs.gammapy.org/0.14/api/gammapy.spectrum.SpectrumExtraction.html)\n",
    "* [gammapy.spectrum.ReflectedRegionsBackgroundEstimator](https://docs.gammapy.org/0.14/api/gammapy.spectrum.ReflectedRegionsBackgroundEstimator.html)\n",
    "\n",
    "To perform the joint fit:\n",
    "\n",
    "* [gammapy.spectrum.SpectrumDatasetOnOff](https://docs.gammapy.org/0.14/api/gammapy.spectrum.SpectrumDatasetOnOff.html)\n",
    "* [gammapy.modeling.models.PowerLawSpectralModel](https://docs.gammapy.org/0.14/api/gammapy.modeling.models.PowerLawSpectralModel.html)\n",
    "* [gammapy.modeling.models.ExpCutoffPowerLawSpectralModel](https://docs.gammapy.org/0.14/api/gammapy.modeling.models.ExpCutoffPowerLawSpectralModel.html)\n",
    "* [gammapy.modeling.models.LogParabolaSpectralModel](https://docs.gammapy.org/0.14/api/gammapy.modeling.models.LogParabolaSpectralModel.html)\n",
    "\n",
    "To compute flux points (a.k.a. \"SED\" = \"spectral energy distribution\")\n",
    "\n",
    "* [gammapy.spectrum.FluxPoints](https://docs.gammapy.org/0.14/api/gammapy.spectrum.FluxPoints.html)\n",
    "* [gammapy.spectrum.FluxPointsEstimator](https://docs.gammapy.org/0.14/api/gammapy.spectrum.FluxPointsEstimator.html)\n",
    "\n",
    "Feedback welcome!"
   ]
  },
  {
   "cell_type": "markdown",
   "metadata": {},
   "source": [
    "## Setup\n",
    "\n",
    "As usual, we'll start with some setup ..."
   ]
  },
  {
   "cell_type": "code",
   "execution_count": null,
   "metadata": {},
   "outputs": [],
   "source": [
    "%matplotlib inline\n",
    "import matplotlib.pyplot as plt"
   ]
  },
  {
   "cell_type": "code",
   "execution_count": null,
   "metadata": {},
   "outputs": [],
   "source": [
    "# Check package versions\n",
    "import gammapy\n",
    "import numpy as np\n",
    "import astropy\n",
    "import regions\n",
    "\n",
    "print(\"gammapy:\", gammapy.__version__)\n",
    "print(\"numpy:\", np.__version__)\n",
    "print(\"astropy\", astropy.__version__)\n",
    "print(\"regions\", regions.__version__)"
   ]
  },
  {
   "cell_type": "code",
   "execution_count": null,
   "metadata": {},
   "outputs": [],
   "source": [
    "import astropy.units as u\n",
    "from astropy.coordinates import SkyCoord, Angle\n",
    "from regions import CircleSkyRegion\n",
    "from gammapy.maps import Map\n",
    "from gammapy.modeling import Fit, Datasets\n",
    "from gammapy.data import ObservationStats, ObservationSummary, DataStore\n",
    "from gammapy.modeling.models import (\n",
    "    PowerLawSpectralModel,\n",
    "    create_crab_spectral_model,\n",
    ")\n",
    "from gammapy.spectrum import (\n",
    "    SpectrumExtraction,\n",
    "    FluxPointsEstimator,\n",
    "    FluxPointsDataset,\n",
    "    ReflectedRegionsBackgroundEstimator,\n",
    ")"
   ]
  },
  {
   "cell_type": "markdown",
   "metadata": {},
   "source": [
    "## Load Data\n",
    "\n",
    "First, we select and load some H.E.S.S. observations of the Crab nebula (simulated events for now).\n",
    "\n",
    "We will access the events, effective area, energy dispersion, livetime and PSF for containement correction."
   ]
  },
  {
   "cell_type": "code",
   "execution_count": null,
   "metadata": {},
   "outputs": [],
   "source": [
    "datastore = DataStore.from_dir(\"$GAMMAPY_DATA/hess-dl3-dr1/\")\n",
    "obs_ids = [23523, 23526, 23559, 23592]\n",
    "observations = datastore.get_observations(obs_ids)"
   ]
  },
  {
   "cell_type": "markdown",
   "metadata": {},
   "source": [
    "## Define Target Region\n",
    "\n",
    "The next step is to define a signal extraction region, also known as on region. In the simplest case this is just a [CircleSkyRegion](http://astropy-regions.readthedocs.io/en/latest/api/regions.CircleSkyRegion.html), but here we will use the ``Target`` class in gammapy that is useful for book-keeping if you run several analysis in a script."
   ]
  },
  {
   "cell_type": "code",
   "execution_count": null,
   "metadata": {},
   "outputs": [],
   "source": [
    "target_position = SkyCoord(ra=83.63, dec=22.01, unit=\"deg\", frame=\"icrs\")\n",
    "on_region_radius = Angle(\"0.11 deg\")\n",
    "on_region = CircleSkyRegion(center=target_position, radius=on_region_radius)"
   ]
  },
  {
   "cell_type": "markdown",
   "metadata": {},
   "source": [
    "## Create exclusion mask\n",
    "\n",
    "We will use the reflected regions method to place off regions to estimate the background level in the on region.\n",
    "To make sure the off regions don't contain gamma-ray emission, we create an exclusion mask.\n",
    "\n",
    "Using http://gamma-sky.net/ we find that there's only one known gamma-ray source near the Crab nebula: the AGN called [RGB J0521+212](http://gamma-sky.net/#/cat/tev/23) at GLON = 183.604 deg and GLAT = -8.708 deg."
   ]
  },
  {
   "cell_type": "code",
   "execution_count": null,
   "metadata": {
    "scrolled": true
   },
   "outputs": [],
   "source": [
    "exclusion_region = CircleSkyRegion(\n",
    "    center=SkyCoord(183.604, -8.708, unit=\"deg\", frame=\"galactic\"),\n",
    "    radius=0.5 * u.deg,\n",
    ")\n",
    "\n",
    "skydir = target_position.galactic\n",
    "exclusion_mask = Map.create(\n",
    "    npix=(150, 150), binsz=0.05, skydir=skydir, proj=\"TAN\", coordsys=\"GAL\"\n",
    ")\n",
    "\n",
    "mask = exclusion_mask.geom.region_mask([exclusion_region], inside=False)\n",
    "exclusion_mask.data = mask\n",
    "exclusion_mask.plot();"
   ]
  },
  {
   "cell_type": "markdown",
   "metadata": {},
   "source": [
    "## Estimate background\n",
    "\n",
    "Next we will manually perform a background estimate by placing [reflected regions](https://docs.gammapy.org/0.14/spectrum/reflected.html) around the pointing position and looking at the source statistics. This will result in a  [gammapy.spectrum.BackgroundEstimate](https://docs.gammapy.org/0.14/api/gammapy.spectrum.BackgroundEstimate.html) that serves as input for other classes in gammapy."
   ]
  },
  {
   "cell_type": "code",
   "execution_count": null,
   "metadata": {},
   "outputs": [],
   "source": [
    "background_estimator = ReflectedRegionsBackgroundEstimator(\n",
    "    observations=observations,\n",
    "    on_region=on_region,\n",
    "    exclusion_mask=exclusion_mask,\n",
    ")\n",
    "\n",
    "background_estimator.run()"
   ]
  },
  {
   "cell_type": "code",
   "execution_count": null,
   "metadata": {},
   "outputs": [],
   "source": [
    "plt.figure(figsize=(8, 8))\n",
    "background_estimator.plot(add_legend=True);"
   ]
  },
  {
   "cell_type": "markdown",
   "metadata": {},
   "source": [
    "## Source statistic\n",
    "\n",
    "Next we're going to look at the overall source statistics in our signal region. For more info about what debug plots you can create check out the [ObservationSummary](https://docs.gammapy.org/0.14/api/gammapy.data.ObservationSummary.html) class."
   ]
  },
  {
   "cell_type": "code",
   "execution_count": null,
   "metadata": {},
   "outputs": [],
   "source": [
    "stats = []\n",
    "for obs, bkg in zip(observations, background_estimator.result):\n",
    "    stats.append(ObservationStats.from_observation(obs, bkg))\n",
    "\n",
    "print(stats[1])\n",
    "\n",
    "obs_summary = ObservationSummary(stats)\n",
    "fig = plt.figure(figsize=(10, 6))\n",
    "ax1 = fig.add_subplot(121)\n",
    "\n",
    "obs_summary.plot_excess_vs_livetime(ax=ax1)\n",
    "ax2 = fig.add_subplot(122)\n",
    "obs_summary.plot_significance_vs_livetime(ax=ax2);"
   ]
  },
  {
   "cell_type": "markdown",
   "metadata": {},
   "source": [
    "## Extract spectrum\n",
    "\n",
    "Now, we're going to extract a spectrum using the [SpectrumExtraction](https://docs.gammapy.org/0.14/api/gammapy.spectrum.SpectrumExtraction.html) class. We provide the reconstructed energy binning we want to use. It is expected to be a Quantity with unit energy, i.e. an array with an energy unit. We also provide the true energy binning to use."
   ]
  },
  {
   "cell_type": "code",
   "execution_count": null,
   "metadata": {},
   "outputs": [],
   "source": [
    "e_reco = np.logspace(-1, np.log10(40), 40) * u.TeV\n",
    "e_true = np.logspace(np.log10(0.05), 2, 200) * u.TeV"
   ]
  },
  {
   "cell_type": "markdown",
   "metadata": {},
   "source": [
    "Instantiate a [SpectrumExtraction](https://docs.gammapy.org/0.14/api/gammapy.spectrum.SpectrumExtraction.html) object that will do the extraction. The containment_correction parameter is there to allow for PSF leakage correction if one is working with full enclosure IRFs. We also compute a threshold energy and store the result in OGIP compliant files (pha, rmf, arf). This last step might be omitted though."
   ]
  },
  {
   "cell_type": "code",
   "execution_count": null,
   "metadata": {},
   "outputs": [],
   "source": [
    "extraction = SpectrumExtraction(\n",
    "    observations=observations,\n",
    "    bkg_estimate=background_estimator.result,\n",
    "    containment_correction=False,\n",
    "    e_reco=e_reco,\n",
    "    e_true=e_true,\n",
    ")"
   ]
  },
  {
   "cell_type": "code",
   "execution_count": null,
   "metadata": {},
   "outputs": [],
   "source": [
    "%%time\n",
    "extraction.run()"
   ]
  },
  {
   "cell_type": "markdown",
   "metadata": {},
   "source": [
    "Now we can (optionally) compute the energy thresholds for the analysis, acoording to different methods. Here we choose the energy where the effective area drops below 10% of the maximum:"
   ]
  },
  {
   "cell_type": "code",
   "execution_count": null,
   "metadata": {},
   "outputs": [],
   "source": [
    "# Add a condition on correct energy range in case it is not set by default\n",
    "extraction.compute_energy_threshold(method_lo=\"area_max\", area_percent_lo=10.0)"
   ]
  },
  {
   "cell_type": "markdown",
   "metadata": {},
   "source": [
    "Let's take a look at the datasets, we just extracted:"
   ]
  },
  {
   "cell_type": "code",
   "execution_count": null,
   "metadata": {},
   "outputs": [],
   "source": [
    "# Requires IPython widgets\n",
    "# extraction.spectrum_observations.peek()\n",
    "\n",
    "extraction.spectrum_observations[0].peek()"
   ]
  },
  {
   "cell_type": "markdown",
   "metadata": {},
   "source": [
    "Finally you can write the extrated datasets to disk using the OGIP format (PHA, ARF, RMF, BKG, see [here](https://gamma-astro-data-formats.readthedocs.io/en/latest/spectra/ogip/index.html) for details):"
   ]
  },
  {
   "cell_type": "code",
   "execution_count": null,
   "metadata": {},
   "outputs": [],
   "source": [
    "# ANALYSIS_DIR = \"crab_analysis\"\n",
    "# extraction.write(outdir=ANALYSIS_DIR, overwrite=True)"
   ]
  },
  {
   "cell_type": "markdown",
   "metadata": {},
   "source": [
    "If you want to read back the datasets from disk you can use:"
   ]
  },
  {
   "cell_type": "code",
   "execution_count": null,
   "metadata": {},
   "outputs": [],
   "source": [
    "# datasets = []\n",
    "# for obs_id in obs_ids:\n",
    "#     filename = ANALYSIS_DIR + \"/ogip_data/pha_obs{}.fits\".format(obs_id)\n",
    "#     datasets.append(SpectrumDatasetOnOff.from_ogip_files(filename))"
   ]
  },
  {
   "cell_type": "markdown",
   "metadata": {},
   "source": [
    "## Fit spectrum\n",
    "\n",
    "Now we'll fit a global model to the spectrum. First we do a joint likelihood fit to all observations. If you want to stack the observations see below. We will also produce a debug plot in order to show how the global fit matches one of the individual observations."
   ]
  },
  {
   "cell_type": "code",
   "execution_count": null,
   "metadata": {},
   "outputs": [],
   "source": [
    "model = PowerLawSpectralModel(\n",
    "    index=2, amplitude=2e-11 * u.Unit(\"cm-2 s-1 TeV-1\"), reference=1 * u.TeV\n",
    ")\n",
    "\n",
    "datasets_joint = extraction.spectrum_observations\n",
    "\n",
    "for dataset in datasets_joint:\n",
    "    dataset.model = model\n",
    "\n",
    "fit_joint = Fit(datasets_joint)\n",
    "result_joint = fit_joint.run()\n",
    "\n",
    "# we make a copy here to compare it later\n",
    "model_best_joint = model.copy()\n",
    "model_best_joint.parameters.covariance = result_joint.parameters.covariance"
   ]
  },
  {
   "cell_type": "code",
   "execution_count": null,
   "metadata": {},
   "outputs": [],
   "source": [
    "print(result_joint)"
   ]
  },
  {
   "cell_type": "code",
   "execution_count": null,
   "metadata": {},
   "outputs": [],
   "source": [
    "plt.figure(figsize=(8, 6))\n",
    "ax_spectrum, ax_residual = datasets_joint[0].plot_fit()\n",
    "ax_spectrum.set_ylim(0, 25)"
   ]
  },
  {
   "cell_type": "markdown",
   "metadata": {},
   "source": [
    "## Compute Flux Points\n",
    "\n",
    "To round up our analysis we can compute flux points by fitting the norm of the global model in energy bands. We'll use a fixed energy binning for now:"
   ]
  },
  {
   "cell_type": "code",
   "execution_count": null,
   "metadata": {},
   "outputs": [],
   "source": [
    "e_min, e_max = 0.7, 30\n",
    "e_edges = np.logspace(np.log10(e_min), np.log10(e_max), 11) * u.TeV"
   ]
  },
  {
   "cell_type": "markdown",
   "metadata": {},
   "source": [
    "Now we create an instance of the `FluxPointsEstimator`, by passing the dataset and the energy binning:"
   ]
  },
  {
   "cell_type": "code",
   "execution_count": null,
   "metadata": {},
   "outputs": [],
   "source": [
    "fpe = FluxPointsEstimator(datasets=datasets_joint, e_edges=e_edges)\n",
    "flux_points = fpe.run()"
   ]
  },
  {
   "cell_type": "markdown",
   "metadata": {},
   "source": [
    "Here is a the table of the resulting flux points:"
   ]
  },
  {
   "cell_type": "code",
   "execution_count": null,
   "metadata": {},
   "outputs": [],
   "source": [
    "flux_points.table_formatted"
   ]
  },
  {
   "cell_type": "markdown",
   "metadata": {},
   "source": [
    "Now we plot the flux points and their likelihood profiles. For the plotting of upper limits we choose a threshold of TS < 4."
   ]
  },
  {
   "cell_type": "code",
   "execution_count": null,
   "metadata": {},
   "outputs": [],
   "source": [
    "plt.figure(figsize=(8, 5))\n",
    "flux_points.table[\"is_ul\"] = flux_points.table[\"ts\"] < 4\n",
    "ax = flux_points.plot(\n",
    "    energy_power=2, flux_unit=\"erg-1 cm-2 s-1\", color=\"darkorange\"\n",
    ")\n",
    "flux_points.to_sed_type(\"e2dnde\").plot_likelihood(ax=ax)"
   ]
  },
  {
   "cell_type": "markdown",
   "metadata": {},
   "source": [
    "The final plot with the best fit model, flux points and residuals can be quickly made like this: "
   ]
  },
  {
   "cell_type": "code",
   "execution_count": null,
   "metadata": {},
   "outputs": [],
   "source": [
    "flux_points_dataset = FluxPointsDataset(\n",
    "    data=flux_points, model=model_best_joint\n",
    ")"
   ]
  },
  {
   "cell_type": "code",
   "execution_count": null,
   "metadata": {},
   "outputs": [],
   "source": [
    "plt.figure(figsize=(8, 6))\n",
    "flux_points_dataset.peek();"
   ]
  },
  {
   "cell_type": "markdown",
   "metadata": {},
   "source": [
    "## Stack observations\n",
    "\n",
    "And alternative approach to fitting the spectrum is stacking all observations first and the fitting a model. For this we first stack the individual datasets:"
   ]
  },
  {
   "cell_type": "code",
   "execution_count": null,
   "metadata": {},
   "outputs": [],
   "source": [
    "dataset_stacked = Datasets(datasets_joint).stack_reduce()"
   ]
  },
  {
   "cell_type": "markdown",
   "metadata": {},
   "source": [
    "Again we set the model on the dataset we would like to fit (in this case it's only a singel one) and pass it to the `Fit` object:"
   ]
  },
  {
   "cell_type": "code",
   "execution_count": null,
   "metadata": {},
   "outputs": [],
   "source": [
    "dataset_stacked.model = model\n",
    "stacked_fit = Fit([dataset_stacked])\n",
    "result_stacked = stacked_fit.run()\n",
    "\n",
    "# make a copy to compare later\n",
    "model_best_stacked = model.copy()\n",
    "model_best_stacked.parameters.covariance = result_stacked.parameters.covariance"
   ]
  },
  {
   "cell_type": "code",
   "execution_count": null,
   "metadata": {},
   "outputs": [],
   "source": [
    "print(result_stacked)"
   ]
  },
  {
   "cell_type": "code",
   "execution_count": null,
   "metadata": {},
   "outputs": [],
   "source": [
    "model_best_joint.parameters.to_table()"
   ]
  },
  {
   "cell_type": "code",
   "execution_count": null,
   "metadata": {},
   "outputs": [],
   "source": [
    "model_best_stacked.parameters.to_table()"
   ]
  },
  {
   "cell_type": "markdown",
   "metadata": {},
   "source": [
    "Finally, we compare the results of our stacked analysis to a previously published Crab Nebula Spectrum for reference. This is available in `gammapy.spectrum`."
   ]
  },
  {
   "cell_type": "code",
   "execution_count": null,
   "metadata": {},
   "outputs": [],
   "source": [
    "plot_kwargs = {\n",
    "    \"energy_range\": [0.1, 30] * u.TeV,\n",
    "    \"energy_power\": 2,\n",
    "    \"flux_unit\": \"erg-1 cm-2 s-1\",\n",
    "}\n",
    "\n",
    "# plot stacked model\n",
    "model_best_stacked.plot(**plot_kwargs, label=\"Stacked analysis result\")\n",
    "model_best_stacked.plot_error(**plot_kwargs)\n",
    "\n",
    "# plot joint model\n",
    "model_best_joint.plot(**plot_kwargs, label=\"Joint analysis result\", ls=\"--\")\n",
    "model_best_joint.plot_error(**plot_kwargs)\n",
    "\n",
    "create_crab_spectral_model().plot(**plot_kwargs, label=\"Crab reference\")\n",
    "plt.legend()"
   ]
  },
  {
   "cell_type": "markdown",
   "metadata": {},
   "source": [
    "## Exercises\n",
    "\n",
    "Now you have learned the basics of a spectral analysis with Gammapy. To practice you can continue with the following exercises:\n",
    "\n",
    "- Fit a different spectral model to the data. You could try e.g. an `ExpCutoffPowerLawSpectralModel` or `LogParabolaSpectralModel` model.\n",
    "- Compute flux points for the stacked dataset.\n",
    "- Create a `FluxPointsDataset` with the flux points you have computed for the stacked dataset and fit the flux points again with obe of the spectral models. How does the result compare to the best fit model, that was directly fitted to the counts data?"
   ]
  },
  {
   "cell_type": "code",
   "execution_count": null,
   "metadata": {},
   "outputs": [],
   "source": []
  }
 ],
 "metadata": {
  "kernelspec": {
   "display_name": "Python 3",
   "language": "python",
   "name": "python3"
  },
  "language_info": {
   "codemirror_mode": {
    "name": "ipython",
    "version": 3
   },
   "file_extension": ".py",
   "mimetype": "text/x-python",
   "name": "python",
   "nbconvert_exporter": "python",
   "pygments_lexer": "ipython3",
   "version": "3.7.0"
  }
 },
 "nbformat": 4,
 "nbformat_minor": 2
}
