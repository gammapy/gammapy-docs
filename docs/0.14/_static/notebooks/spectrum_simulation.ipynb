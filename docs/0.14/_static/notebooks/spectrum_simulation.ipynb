{
 "cells": [
  {
   "cell_type": "markdown",
   "metadata": {},
   "source": [
    "# Spectrum simulation for CTA\n",
    "\n",
    "A quick example how to use the functions and classes in gammapy.spectrum in order to simulate and fit spectra. \n",
    "\n",
    "We will simulate observations for the [Cherenkov Telescope Array (CTA)](https://www.cta-observatory.org) first using a power law model without any background. Than we will add a power law shaped background component. The next part of the tutorial shows how to use user defined models for simulations and fitting.\n",
    "\n",
    "We will use the following classes:\n",
    "\n",
    "* [gammapy.spectrum.SpectrumDatasetOnOff](https://docs.gammapy.org/0.14/api/gammapy.spectrum.SpectrumDatasetOnOff.html)\n",
    "* [gammapy.spectrum.SpectrumDataset](https://docs.gammapy.org/0.14/api/gammapy.spectrum.SpectrumDataset.html)\n",
    "* [gammapy.irf.load_cta_irfs](https://docs.gammapy.org/0.14/api/gammapy.irf.load_cta_irfs.html)\n",
    "* [gammapy.modeling.models.PowerLawSpectralModel](https://docs.gammapy.org/0.14/api/gammapy.modeling.models.PowerLawSpectralModel.html)"
   ]
  },
  {
   "cell_type": "markdown",
   "metadata": {},
   "source": [
    "## Setup\n",
    "\n",
    "Same procedure as in every script ..."
   ]
  },
  {
   "cell_type": "code",
   "execution_count": null,
   "metadata": {},
   "outputs": [],
   "source": [
    "%matplotlib inline\n",
    "import matplotlib.pyplot as plt"
   ]
  },
  {
   "cell_type": "code",
   "execution_count": null,
   "metadata": {},
   "outputs": [],
   "source": [
    "import numpy as np\n",
    "import astropy.units as u\n",
    "from gammapy.spectrum import (\n",
    "    SpectrumDatasetOnOff,\n",
    "    CountsSpectrum,\n",
    "    SpectrumDataset,\n",
    ")\n",
    "from gammapy.modeling import Fit, Parameter\n",
    "from gammapy.modeling.models import PowerLawSpectralModel, SpectralModel\n",
    "from gammapy.irf import load_cta_irfs"
   ]
  },
  {
   "cell_type": "markdown",
   "metadata": {},
   "source": [
    "## Simulation of a single spectrum\n",
    "\n",
    "To do a simulation, we need to define the observational parameters like the livetime, the offset, the assumed integration radius, the energy range to perform the simulation for and the choice of spectral model. This will then be convolved with the IRFs, and Poission fluctuated, to get the simulated counts for each observation.  "
   ]
  },
  {
   "cell_type": "code",
   "execution_count": null,
   "metadata": {},
   "outputs": [],
   "source": [
    "# Define simulation parameters parameters\n",
    "livetime = 1 * u.h\n",
    "offset = 0.5 * u.deg\n",
    "integration_radius = 0.1 * u.deg\n",
    "# Energy from 0.1 to 100 TeV with 10 bins/decade\n",
    "energy = np.logspace(-1, 2, 31) * u.TeV\n",
    "\n",
    "solid_angle = 2 * np.pi * (1 - np.cos(integration_radius)) * u.sr"
   ]
  },
  {
   "cell_type": "code",
   "execution_count": null,
   "metadata": {},
   "outputs": [],
   "source": [
    "# Define spectral model - a simple Power Law in this case\n",
    "model_ref = PowerLawSpectralModel(\n",
    "    index=3.0,\n",
    "    amplitude=2.5e-12 * u.Unit(\"cm-2 s-1 TeV-1\"),\n",
    "    reference=1 * u.TeV,\n",
    ")\n",
    "print(model_ref)"
   ]
  },
  {
   "cell_type": "markdown",
   "metadata": {},
   "source": [
    "### Get and set the model parameters after initialising\n",
    "The model parameters are stored in the `Parameters` object on the spectal model. Each model parameter is a `Parameter` instance. It has a `value` and a `unit` attribute, as well as a `quantity` property for convenience."
   ]
  },
  {
   "cell_type": "code",
   "execution_count": null,
   "metadata": {},
   "outputs": [],
   "source": [
    "print(model_ref.parameters)"
   ]
  },
  {
   "cell_type": "code",
   "execution_count": null,
   "metadata": {},
   "outputs": [],
   "source": [
    "print(model_ref.parameters[\"index\"])\n",
    "model_ref.parameters[\"index\"].value = 2.1\n",
    "print(model_ref.parameters[\"index\"])"
   ]
  },
  {
   "cell_type": "code",
   "execution_count": null,
   "metadata": {},
   "outputs": [],
   "source": [
    "# Load IRFs\n",
    "filename = (\n",
    "    \"$GAMMAPY_DATA/cta-1dc/caldb/data/cta/1dc/bcf/South_z20_50h/irf_file.fits\"\n",
    ")\n",
    "cta_irf = load_cta_irfs(filename)"
   ]
  },
  {
   "cell_type": "markdown",
   "metadata": {},
   "source": [
    "A quick look into the effective area and energy dispersion:"
   ]
  },
  {
   "cell_type": "code",
   "execution_count": null,
   "metadata": {},
   "outputs": [],
   "source": [
    "aeff = cta_irf[\"aeff\"].to_effective_area_table(offset=offset, energy=energy)\n",
    "aeff.plot()\n",
    "plt.loglog()\n",
    "print(cta_irf[\"aeff\"].data)"
   ]
  },
  {
   "cell_type": "code",
   "execution_count": null,
   "metadata": {},
   "outputs": [],
   "source": [
    "edisp = cta_irf[\"edisp\"].to_energy_dispersion(\n",
    "    offset=offset, e_true=energy, e_reco=energy\n",
    ")\n",
    "edisp.plot_matrix()\n",
    "print(edisp.data)"
   ]
  },
  {
   "cell_type": "code",
   "execution_count": null,
   "metadata": {},
   "outputs": [],
   "source": [
    "dataset = SpectrumDataset(\n",
    "    aeff=aeff, edisp=edisp, model=model_ref, livetime=livetime, name=\"obs-0\"\n",
    ")\n",
    "\n",
    "dataset.fake(random_state=42)"
   ]
  },
  {
   "cell_type": "code",
   "execution_count": null,
   "metadata": {},
   "outputs": [],
   "source": [
    "# Take a quick look at the simulated counts\n",
    "dataset.counts.plot()"
   ]
  },
  {
   "cell_type": "markdown",
   "metadata": {},
   "source": [
    "## Include Background \n",
    "\n",
    "In this section we will include a background component extracted from the IRF. Furthermore, we will also simulate more than one observation and fit each one individually in order to get average fit results."
   ]
  },
  {
   "cell_type": "code",
   "execution_count": null,
   "metadata": {},
   "outputs": [],
   "source": [
    "# We assume a PowerLawSpectralModel shape of the background as well\n",
    "bkg_data = (\n",
    "    cta_irf[\"bkg\"].evaluate_integrate(\n",
    "        fov_lon=0 * u.deg, fov_lat=offset, energy_reco=energy\n",
    "    )\n",
    "    * solid_angle\n",
    "    * livetime\n",
    ")\n",
    "bkg = CountsSpectrum(\n",
    "    energy[:-1], energy[1:], data=bkg_data.to_value(\"\"), unit=\"\"\n",
    ")"
   ]
  },
  {
   "cell_type": "code",
   "execution_count": null,
   "metadata": {},
   "outputs": [],
   "source": [
    "dataset = SpectrumDatasetOnOff(\n",
    "    aeff=aeff,\n",
    "    edisp=edisp,\n",
    "    model=model_ref,\n",
    "    livetime=livetime,\n",
    "    acceptance=1,\n",
    "    acceptance_off=5,\n",
    ")"
   ]
  },
  {
   "cell_type": "code",
   "execution_count": null,
   "metadata": {},
   "outputs": [],
   "source": [
    "%%time\n",
    "# Now simulate 30 indepenent spectra using the same set of observation conditions.\n",
    "n_obs = 100\n",
    "seeds = np.arange(n_obs)\n",
    "\n",
    "datasets = []\n",
    "\n",
    "for idx in range(n_obs):\n",
    "    dataset.fake(random_state=idx, background_model=bkg)\n",
    "    datasets.append(dataset.copy())"
   ]
  },
  {
   "cell_type": "markdown",
   "metadata": {},
   "source": [
    "Before moving on to the fit let's have a look at the simulated observations."
   ]
  },
  {
   "cell_type": "code",
   "execution_count": null,
   "metadata": {},
   "outputs": [],
   "source": [
    "n_on = [dataset.counts.data.sum() for dataset in datasets]\n",
    "n_off = [dataset.counts_off.data.sum() for dataset in datasets]\n",
    "excess = [dataset.excess.data.sum() for dataset in datasets]\n",
    "\n",
    "fix, axes = plt.subplots(1, 3, figsize=(12, 4))\n",
    "axes[0].hist(n_on)\n",
    "axes[0].set_xlabel(\"n_on\")\n",
    "axes[1].hist(n_off)\n",
    "axes[1].set_xlabel(\"n_off\")\n",
    "axes[2].hist(excess)\n",
    "axes[2].set_xlabel(\"excess\");"
   ]
  },
  {
   "cell_type": "markdown",
   "metadata": {},
   "source": [
    "Now, we fit each simulated spectrum individually "
   ]
  },
  {
   "cell_type": "code",
   "execution_count": null,
   "metadata": {},
   "outputs": [],
   "source": [
    "%%time\n",
    "results = []\n",
    "for dataset in datasets:\n",
    "    dataset.model = model_ref.copy()\n",
    "    fit = Fit([dataset])\n",
    "    result = fit.optimize()\n",
    "    results.append(\n",
    "        {\n",
    "            \"index\": result.parameters[\"index\"].value,\n",
    "            \"amplitude\": result.parameters[\"amplitude\"].value,\n",
    "        }\n",
    "    )"
   ]
  },
  {
   "cell_type": "markdown",
   "metadata": {},
   "source": [
    "We take a look at the distribution of the fitted indices. This matches very well with the spectrum that we initially injected, index=2.1"
   ]
  },
  {
   "cell_type": "code",
   "execution_count": null,
   "metadata": {},
   "outputs": [],
   "source": [
    "index = np.array([_[\"index\"] for _ in results])\n",
    "plt.hist(index, bins=10, alpha=0.5)\n",
    "plt.axvline(x=model_ref.parameters[\"index\"].value, color=\"red\")\n",
    "print(\"spectral index: {:.2f} +/- {:.2f}\".format(index.mean(), index.std()))"
   ]
  },
  {
   "cell_type": "markdown",
   "metadata": {},
   "source": [
    "## Adding a user defined model\n",
    "\n",
    "Many spectral models in gammapy are subclasses of `SpectralModel`. The list of available models is shown below."
   ]
  },
  {
   "cell_type": "code",
   "execution_count": null,
   "metadata": {},
   "outputs": [],
   "source": [
    "SpectralModel.__subclasses__()"
   ]
  },
  {
   "cell_type": "markdown",
   "metadata": {},
   "source": [
    "This section shows how to add a user defined spectral model. \n",
    "\n",
    "To do that you need to subclass `SpectralModel`. All `SpectralModel` subclasses need to have an `__init__` function, which sets up the `Parameters` of the model and a `static` function called `evaluate` where the mathematical expression for the model is defined.\n",
    "\n",
    "As an example we will use a PowerLawSpectralModel plus a Gaussian (with fixed width)."
   ]
  },
  {
   "cell_type": "code",
   "execution_count": null,
   "metadata": {},
   "outputs": [],
   "source": [
    "class UserModel(SpectralModel):\n",
    "    def __init__(self, index, amplitude, reference, mean, width):\n",
    "        super().__init__(\n",
    "            [\n",
    "                Parameter(\"index\", index, min=0),\n",
    "                Parameter(\"amplitude\", amplitude, min=0),\n",
    "                Parameter(\"reference\", reference, frozen=True),\n",
    "                Parameter(\"mean\", mean, min=0),\n",
    "                Parameter(\"width\", width, min=0, frozen=True),\n",
    "            ]\n",
    "        )\n",
    "\n",
    "    @staticmethod\n",
    "    def evaluate(energy, index, amplitude, reference, mean, width):\n",
    "        pwl = PowerLawSpectralModel.evaluate(\n",
    "            energy=energy,\n",
    "            index=index,\n",
    "            amplitude=amplitude,\n",
    "            reference=reference,\n",
    "        )\n",
    "        gauss = amplitude * np.exp(-(energy - mean) ** 2 / (2 * width ** 2))\n",
    "        return pwl + gauss"
   ]
  },
  {
   "cell_type": "code",
   "execution_count": null,
   "metadata": {},
   "outputs": [],
   "source": [
    "model = UserModel(\n",
    "    index=2,\n",
    "    amplitude=1e-12 * u.Unit(\"cm-2 s-1 TeV-1\"),\n",
    "    reference=1 * u.TeV,\n",
    "    mean=5 * u.TeV,\n",
    "    width=0.2 * u.TeV,\n",
    ")\n",
    "print(model)"
   ]
  },
  {
   "cell_type": "code",
   "execution_count": null,
   "metadata": {},
   "outputs": [],
   "source": [
    "energy_range = [1, 10] * u.TeV\n",
    "model.plot(energy_range=energy_range);"
   ]
  },
  {
   "cell_type": "markdown",
   "metadata": {},
   "source": [
    "## Exercises\n",
    "\n",
    "* Change the observation time to something longer or shorter. Does the observation and spectrum results change as you expected?\n",
    "* Change the spectral model, e.g. add a cutoff at 5 TeV, or put a steep-spectrum source with spectral index of 4.0\n",
    "* Simulate spectra with the spectral model we just defined. How much observation duration do you need to get back the injected parameters?"
   ]
  },
  {
   "cell_type": "markdown",
   "metadata": {},
   "source": [
    "## What next?\n",
    "\n",
    "In this tutorial we simulated and analysed the spectrum of source using CTA prod 2 IRFs.\n",
    "\n",
    "If you'd like to go further, please see the other tutorial notebooks."
   ]
  }
 ],
 "metadata": {
  "kernelspec": {
   "display_name": "Python 3",
   "language": "python",
   "name": "python3"
  },
  "language_info": {
   "codemirror_mode": {
    "name": "ipython",
    "version": 3
   },
   "file_extension": ".py",
   "mimetype": "text/x-python",
   "name": "python",
   "nbconvert_exporter": "python",
   "pygments_lexer": "ipython3",
   "version": "3.7.0"
  }
 },
 "nbformat": 4,
 "nbformat_minor": 2
}
