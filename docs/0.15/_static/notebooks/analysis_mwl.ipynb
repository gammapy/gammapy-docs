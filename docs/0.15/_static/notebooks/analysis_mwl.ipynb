{
 "cells": [
  {
   "cell_type": "markdown",
   "metadata": {},
   "source": [
    "# Joint modeling, fitting, and serialization\n"
   ]
  },
  {
   "cell_type": "markdown",
   "metadata": {},
   "source": [
    "This tutorial illustrates how to perfom a joint modeling and fitting of the Crab Nebula spectrum using different datasets.\n",
    "We look at the gamma-ray emission from the Crab nebula between 10 GeV and 100 TeV.\n",
    "The spectral parameters are optimized by combining a 3D analysis of Fermi-LAT data, a ON/OFF spectral analysis of HESS data, and flux points from HAWC.\n",
    "\n",
    "In this tutorial we are going to use pre-made datasets. We prepared maps of the Crab region as seen by Fermi-LAT using the same event selection than the [3FHL catalog](https://arxiv.org/abs/1702.00664) (7 years of data with energy from 10 GeV to 2 TeV). For the HESS ON/OFF analysis we used two observations from the [first public data release](https://arxiv.org/abs/1810.04516) with a significant signal from energy of about 600 GeV to 10 TeV. These observations have an offset of 0.5° and a zenith angle of 45-48°. The HAWC flux points data are taken from a [recent analysis](https://arxiv.org/pdf/1905.12518.pdf) based on 2.5 years of data with energy between 300 Gev and 300 TeV. \n",
    "\n",
    "More details on how to prepare datasets with the high and low level interfaces are available in these tutorials: \n",
    "\n",
    "- https://docs.gammapy.org/0.14/notebooks/fermi_lat.html\n",
    "- https://docs.gammapy.org/dev/notebooks/hess.html\n",
    "- https://docs.gammapy.org/dev/notebooks/spectrum_analysis.html\n"
   ]
  },
  {
   "cell_type": "code",
   "execution_count": null,
   "metadata": {},
   "outputs": [],
   "source": [
    "from astropy import units as u\n",
    "import matplotlib.pyplot as plt\n",
    "from gammapy.modeling import Fit, Datasets\n",
    "from gammapy.spectrum import (\n",
    "    FluxPoints,\n",
    "    FluxPointsEstimator,\n",
    "    FluxPointsDataset,\n",
    "    SpectrumDatasetOnOff,\n",
    ")\n",
    "from gammapy.maps import MapAxis\n",
    "from pathlib import Path"
   ]
  },
  {
   "cell_type": "markdown",
   "metadata": {},
   "source": [
    "## Data and models files\n",
    "\n",
    "\n",
    "The datasets serialization produce YAML files listing the datasets and models. In the following cells we show an example containning only the Fermi-LAT dataset and the Crab model. \n",
    "\n",
    "Fermi-LAT-3FHL_datasets.yaml:\n",
    "\n",
    "```yaml\n",
    "datasets:\n",
    "- name: Fermi-LAT\n",
    "  type: MapDataset\n",
    "  likelihood: cash\n",
    "  models:\n",
    "- Crab Nebula\n",
    "  background: background\n",
    "  filename: $GAMMAPY_DATA/fermi-3fhl-crab/Fermi-LAT-3FHL_data_Fermi-LAT.fits\n",
    "```\n",
    "\n",
    "We used as model a point source with a log-parabola spectrum. The initial parameters were taken from the latest Fermi-LAT catalog [4FGL](https://arxiv.org/abs/1902.10045), then we have re-optimized the spectral parameters for our dataset in the 10 GeV - 2 TeV energy range (fixing the source position).\n",
    "\n",
    "Fermi-LAT-3FHL_models.yaml:\n",
    "\n",
    "```yaml\n",
    "components:\n",
    "- name: Crab Nebula\n",
    "  type: SkyModel\n",
    "  spatial:\n",
    "    type: PointSpatialModel\n",
    "    frame: icrs\n",
    "    parameters:\n",
    "    - name: lon_0\n",
    "      value: 83.63310241699219\n",
    "      unit: deg\n",
    "      min: .nan\n",
    "      max: .nan\n",
    "      frozen: true\n",
    "    - name: lat_0\n",
    "      value: 22.019899368286133\n",
    "      unit: deg\n",
    "      min: -90.0\n",
    "      max: 90.0\n",
    "      frozen: true\n",
    "  spectral:\n",
    "    type: LogParabolaSpectralModel\n",
    "    parameters:\n",
    "    - name: amplitude\n",
    "      value: 0.3415498620816483\n",
    "      unit: cm-2 s-1 TeV-1\n",
    "      min: .nan\n",
    "      max: .nan\n",
    "      frozen: false\n",
    "    - name: reference\n",
    "      value: 5.054833602905273e-05\n",
    "      unit: TeV\n",
    "      min: .nan\n",
    "      max: .nan\n",
    "      frozen: true\n",
    "    - name: alpha\n",
    "      value: 2.510798031388936\n",
    "      unit: ''\n",
    "      min: .nan\n",
    "      max: .nan\n",
    "      frozen: false\n",
    "    - name: beta\n",
    "      value: -0.022476498188855533\n",
    "      unit: ''\n",
    "      min: .nan\n",
    "      max: .nan\n",
    "      frozen: false\n",
    "- name: background\n",
    "  type: BackgroundModel\n",
    "  parameters:\n",
    "  - name: norm\n",
    "    value: 0.9544383244743555\n",
    "    unit: ''\n",
    "    min: 0.0\n",
    "    max: .nan\n",
    "    frozen: false\n",
    "  - name: tilt\n",
    "    value: 0.0\n",
    "    unit: ''\n",
    "    min: .nan\n",
    "    max: .nan\n",
    "    frozen: true\n",
    "  - name: reference\n",
    "    value: 1.0\n",
    "    unit: TeV\n",
    "    min: .nan\n",
    "    max: .nan\n",
    "    frozen: true\n",
    "\n",
    "```"
   ]
  },
  {
   "cell_type": "markdown",
   "metadata": {},
   "source": [
    "## Reading  different datasets\n",
    "\n",
    "\n",
    "### Fermi-LAT 3FHL: map dataset for 3D analysis\n",
    "For now we let's use the datasets serialization only to read the 3D `MapDataset` associated to Fermi-LAT 3FHL data and models."
   ]
  },
  {
   "cell_type": "code",
   "execution_count": null,
   "metadata": {},
   "outputs": [],
   "source": [
    "path = \"$GAMMAPY_DATA/fermi-3fhl-crab/Fermi-LAT-3FHL\"\n",
    "filedata = Path(path + \"_datasets.yaml\")\n",
    "filemodel = Path(path + \"_models.yaml\")\n",
    "datasets = Datasets.read(filedata=filedata, filemodel=filemodel)\n",
    "dataset_fermi = datasets[0]"
   ]
  },
  {
   "cell_type": "markdown",
   "metadata": {},
   "source": [
    "We get the Crab model in order to share it with the other datasets"
   ]
  },
  {
   "cell_type": "code",
   "execution_count": null,
   "metadata": {},
   "outputs": [],
   "source": [
    "crab_model = dataset_fermi.models[\"Crab Nebula\"]\n",
    "crab_spec = crab_model.spectral_model\n",
    "print(crab_spec)"
   ]
  },
  {
   "cell_type": "markdown",
   "metadata": {},
   "source": [
    "### HESS-DL3: 1D ON/OFF dataset for spectral fitting\n",
    "\n",
    "The ON/OFF datasets can be read from PHA files following the [OGIP standards](https://heasarc.gsfc.nasa.gov/docs/heasarc/ofwg/docs/spectra/ogip_92_007/node5.html).\n",
    "We read the PHA files from each observation, and compute a stacked dataset for simplicity.\n",
    "Then the Crab spectral model previously defined is added to the dataset."
   ]
  },
  {
   "cell_type": "code",
   "execution_count": null,
   "metadata": {},
   "outputs": [],
   "source": [
    "datasets = []\n",
    "\n",
    "for obs_id in [23523, 23526]:\n",
    "    dataset = SpectrumDatasetOnOff.from_ogip_files(\n",
    "        f\"$GAMMAPY_DATA/joint-crab/spectra/hess/pha_obs{obs_id}.fits\"\n",
    "    )\n",
    "    datasets.append(dataset)\n",
    "\n",
    "dataset_hess = Datasets(datasets).stack_reduce()\n",
    "dataset_hess.name = \"HESS\"\n",
    "dataset_hess.models = crab_model"
   ]
  },
  {
   "cell_type": "markdown",
   "metadata": {},
   "source": [
    "### HAWC: 1D dataset for flux point fitting\n",
    "\n",
    "The HAWC flux point are taken from https://arxiv.org/pdf/1905.12518.pdf. Then these flux points are read from a pre-made FITS file and passed to a `FluxPointsDataset` together with the source spectral model.\n"
   ]
  },
  {
   "cell_type": "code",
   "execution_count": null,
   "metadata": {},
   "outputs": [],
   "source": [
    "# read flux points from https://arxiv.org/pdf/1905.12518.pdf\n",
    "filename = \"$GAMMAPY_DATA/hawc_crab/HAWC19_flux_points.fits\"\n",
    "flux_points_hawc = FluxPoints.read(filename)\n",
    "dataset_hawc = FluxPointsDataset(crab_model, flux_points_hawc, name=\"HAWC\")"
   ]
  },
  {
   "cell_type": "markdown",
   "metadata": {},
   "source": [
    "## Datasets serialization\n",
    "\n",
    "The `datasets` object contains each dataset previously defined. \n",
    "It can be saved on disk as datasets.yaml, models.yaml, and several data files specific to each dataset. Then the `datasets` can be rebuild later from these files."
   ]
  },
  {
   "cell_type": "code",
   "execution_count": null,
   "metadata": {},
   "outputs": [],
   "source": [
    "datasets = Datasets([dataset_fermi, dataset_hess, dataset_hawc])\n",
    "path = Path(\"crab-3datasets\")\n",
    "path.mkdir(exist_ok=True)\n",
    "\n",
    "datasets.write(path=path, prefix=\"crab_10GeV_100TeV\", overwrite=True)\n",
    "filedata = path / \"crab_10GeV_100TeV_datasets.yaml\"\n",
    "filemodel = path / \"crab_10GeV_100TeV_models.yaml\"\n",
    "datasets = Datasets.read(filedata=filedata, filemodel=filemodel)"
   ]
  },
  {
   "cell_type": "markdown",
   "metadata": {},
   "source": [
    "## Joint analysis\n",
    "\n",
    "We run the fit on the `Datasets` object that include a dataset for each instrument\n"
   ]
  },
  {
   "cell_type": "code",
   "execution_count": null,
   "metadata": {},
   "outputs": [],
   "source": [
    "%%time\n",
    "fit_joint = Fit(datasets)\n",
    "results_joint = fit_joint.run()\n",
    "print(results_joint)\n",
    "print(results_joint.parameters.to_table())"
   ]
  },
  {
   "cell_type": "markdown",
   "metadata": {},
   "source": [
    "Let's display only the parameters of the Crab spectral model"
   ]
  },
  {
   "cell_type": "code",
   "execution_count": null,
   "metadata": {},
   "outputs": [],
   "source": [
    "crab_spec = datasets[0].models[\"Crab Nebula\"].spectral_model\n",
    "crab_spec.parameters.covariance = results_joint.parameters.get_subcovariance(\n",
    "    crab_spec.parameters\n",
    ")\n",
    "print(crab_spec)"
   ]
  },
  {
   "cell_type": "markdown",
   "metadata": {},
   "source": [
    "We can compute flux points for Fermi-LAT and HESS datasets in order plot them together with the HAWC flux point."
   ]
  },
  {
   "cell_type": "code",
   "execution_count": null,
   "metadata": {},
   "outputs": [],
   "source": [
    "# compute Fermi-LAT and HESS flux points\n",
    "e_edges = MapAxis.from_bounds(\n",
    "    0.01, 2.0, nbin=6, interp=\"log\", unit=\"TeV\"\n",
    ").edges\n",
    "\n",
    "flux_points_fermi = FluxPointsEstimator(\n",
    "    datasets=[dataset_fermi], e_edges=e_edges, source=\"Crab Nebula\"\n",
    ").run()\n",
    "\n",
    "\n",
    "e_edges = MapAxis.from_bounds(1, 15, nbin=6, interp=\"log\", unit=\"TeV\").edges\n",
    "flux_points_hess = FluxPointsEstimator(\n",
    "    datasets=[dataset_hess], e_edges=e_edges\n",
    ").run()"
   ]
  },
  {
   "cell_type": "markdown",
   "metadata": {},
   "source": [
    "Now, Let's plot the Crab spectrum fitted and the flux points of each instrument.\n"
   ]
  },
  {
   "cell_type": "code",
   "execution_count": null,
   "metadata": {},
   "outputs": [],
   "source": [
    "# display spectrum and flux points\n",
    "energy_range = [0.01, 120] * u.TeV\n",
    "plt.figure(figsize=(8, 6))\n",
    "ax = crab_spec.plot(energy_range=energy_range, energy_power=2, label=\"Model\")\n",
    "crab_spec.plot_error(ax=ax, energy_range=energy_range, energy_power=2)\n",
    "flux_points_fermi.plot(ax=ax, energy_power=2, label=\"Fermi-LAT\")\n",
    "flux_points_hess.plot(ax=ax, energy_power=2, label=\"HESS\")\n",
    "flux_points_hawc.plot(ax=ax, energy_power=2, label=\"HAWC\")\n",
    "plt.legend();"
   ]
  }
 ],
 "metadata": {
  "kernelspec": {
   "display_name": "Python 3",
   "language": "python",
   "name": "python3"
  },
  "language_info": {
   "codemirror_mode": {
    "name": "ipython",
    "version": 3
   },
   "file_extension": ".py",
   "mimetype": "text/x-python",
   "name": "python",
   "nbconvert_exporter": "python",
   "pygments_lexer": "ipython3",
   "version": "3.7.0"
  }
 },
 "nbformat": 4,
 "nbformat_minor": 4
}
