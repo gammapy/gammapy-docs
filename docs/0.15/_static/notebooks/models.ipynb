{
 "cells": [
  {
   "cell_type": "markdown",
   "metadata": {},
   "source": [
    "# Model Gallery\n",
    "\n",
    "**TODO: Write me!**\n",
    "\n",
    "This is an overview of the Gammapy built-in models in `~gammapy.modeling.models`.\n",
    "\n",
    "Note that there is a separate tutorial `modeling.ipynb` that explains about `~gammapy.modeling`,\n",
    "the Gammapy modeling and fitting framework. You have to read that to learn how to work with models.\n",
    "\n",
    "Topics covered here:\n",
    "\n",
    "- How to create spatial, spectral and temporal models.\n",
    "- How to create 3D sky models and other compound models.\n",
    "- How to serialize/read and deserialize/write models.\n",
    "- How to use the model registries to list all available models or serialise models."
   ]
  },
  {
   "cell_type": "code",
   "execution_count": null,
   "metadata": {},
   "outputs": [],
   "source": [
    "import numpy as np\n",
    "import matplotlib.pyplot as plt\n",
    "from astropy import units as u\n",
    "from astropy.coordinates import Angle\n",
    "from gammapy.maps import Map, WcsGeom\n",
    "import gammapy.modeling.models as gm"
   ]
  },
  {
   "cell_type": "markdown",
   "metadata": {
    "pycharm": {
     "name": "#%% md\n"
    }
   },
   "source": [
    "## Spatial models"
   ]
  },
  {
   "cell_type": "code",
   "execution_count": null,
   "metadata": {
    "collapsed": false,
    "jupyter": {
     "outputs_hidden": false
    }
   },
   "outputs": [],
   "source": [
    "m_geom = WcsGeom.create(\n",
    "    binsz=0.01, width=(5, 5), skydir=(2, 2), coordsys=\"GAL\", proj=\"AIT\"\n",
    ")\n",
    "phi = Angle(\"30 deg\")\n",
    "model = gm.GaussianSpatialModel(\n",
    "    lon_0=\"2 deg\",\n",
    "    lat_0=\"2 deg\",\n",
    "    sigma=\"1 deg\",\n",
    "    e=0.7,\n",
    "    phi=phi,\n",
    "    frame=\"galactic\",\n",
    ")\n",
    "\n",
    "coords = m_geom.get_coord()\n",
    "vals = model(coords.lon, coords.lat)\n",
    "skymap = Map.from_geom(m_geom, data=vals.value)\n",
    "\n",
    "_, ax, _ = skymap.smooth(\"0.05 deg\").plot()\n",
    "\n",
    "transform = ax.get_transform(\"galactic\")\n",
    "ax.scatter(2, 2, transform=transform, s=20, edgecolor=\"red\", facecolor=\"red\")\n",
    "ax.text(1.5, 1.85, r\"$(l_0, b_0)$\", transform=transform, ha=\"center\")\n",
    "ax.plot(\n",
    "    [2, 2 + np.sin(phi)], [2, 2 + np.cos(phi)], color=\"r\", transform=transform\n",
    ")\n",
    "ax.vlines(x=2, color=\"r\", linestyle=\"--\", transform=transform, ymin=-5, ymax=5)\n",
    "ax.text(2.25, 2.45, r\"$\\phi$\", transform=transform)\n",
    "ax.contour(skymap.data, cmap=\"coolwarm\", levels=10, alpha=0.6)"
   ]
  },
  {
   "cell_type": "code",
   "execution_count": null,
   "metadata": {
    "collapsed": false,
    "jupyter": {
     "outputs_hidden": false
    }
   },
   "outputs": [],
   "source": [
    "model = gm.DiskSpatialModel(\n",
    "    lon_0=\"2 deg\",\n",
    "    lat_0=\"2 deg\",\n",
    "    r_0=\"1 deg\",\n",
    "    e=0.8,\n",
    "    phi=\"30 deg\",\n",
    "    frame=\"galactic\",\n",
    ")\n",
    "\n",
    "m_geom = WcsGeom.create(\n",
    "    binsz=0.01, width=(3, 3), skydir=(2, 2), coordsys=\"GAL\", proj=\"AIT\"\n",
    ")\n",
    "coords = m_geom.get_coord()\n",
    "vals = model(coords.lon, coords.lat)\n",
    "skymap = Map.from_geom(m_geom, data=vals.value)\n",
    "\n",
    "_, ax, _ = skymap.smooth(\"0.05 deg\").plot()\n",
    "\n",
    "transform = ax.get_transform(\"galactic\")\n",
    "ax.scatter(2, 2, transform=transform, s=20, edgecolor=\"red\", facecolor=\"red\")\n",
    "ax.text(1.7, 1.85, r\"$(l_0, b_0)$\", transform=transform, ha=\"center\")\n",
    "ax.plot(\n",
    "    [2, 2 + np.sin(np.pi / 6)],\n",
    "    [2, 2 + np.cos(np.pi / 6)],\n",
    "    color=\"r\",\n",
    "    transform=transform,\n",
    ")\n",
    "ax.vlines(x=2, color=\"r\", linestyle=\"--\", transform=transform, ymin=0, ymax=5)\n",
    "ax.text(2.15, 2.3, r\"$\\phi$\", transform=transform)"
   ]
  },
  {
   "cell_type": "markdown",
   "metadata": {},
   "source": [
    "## Spectral models"
   ]
  },
  {
   "cell_type": "code",
   "execution_count": null,
   "metadata": {
    "collapsed": false,
    "jupyter": {
     "outputs_hidden": false
    }
   },
   "outputs": [],
   "source": [
    "energy_range = [0.1, 100] * u.TeV\n",
    "\n",
    "pwl = gm.PowerLawSpectralModel()\n",
    "pwl.plot(energy_range)\n",
    "\n",
    "pwl2 = gm.PowerLaw2SpectralModel()\n",
    "pwl2.plot(energy_range)\n",
    "\n",
    "ecpl = gm.ExpCutoffPowerLawSpectralModel()\n",
    "ecpl.plot(energy_range)\n",
    "\n",
    "ecpl_3fgl = gm.ExpCutoffPowerLaw3FGLSpectralModel()\n",
    "ecpl_3fgl.plot(energy_range)\n",
    "\n",
    "secpl_3fgl = gm.SuperExpCutoffPowerLaw3FGLSpectralModel()\n",
    "secpl_3fgl.plot(energy_range)\n",
    "\n",
    "secpl_4fgl = gm.SuperExpCutoffPowerLaw4FGLSpectralModel()\n",
    "secpl_4fgl.plot(energy_range)\n",
    "\n",
    "log_parabola = gm.LogParabolaSpectralModel()\n",
    "log_parabola.plot(energy_range)\n",
    "\n",
    "plt.ylim(1e-18, 1e-10)"
   ]
  },
  {
   "cell_type": "code",
   "execution_count": null,
   "metadata": {
    "collapsed": false,
    "jupyter": {
     "outputs_hidden": false
    }
   },
   "outputs": [],
   "source": [
    "# Create and plot EBL absorption models for a redshift of 0.5\n",
    "\n",
    "redshift = 0.5\n",
    "dominguez = gm.Absorption.read_builtin(\"dominguez\").table_model(redshift)\n",
    "franceschini = gm.Absorption.read_builtin(\"franceschini\").table_model(redshift)\n",
    "finke = gm.Absorption.read_builtin(\"finke\").table_model(redshift)\n",
    "\n",
    "plt.figure()\n",
    "energy_range = [0.08, 3] * u.TeV\n",
    "opts = dict(energy_range=energy_range, energy_unit=\"TeV\", flux_unit=\"\")\n",
    "franceschini.plot(label=\"Franceschini 2008\", **opts)\n",
    "finke.plot(label=\"Finke 2010\", **opts)\n",
    "dominguez.plot(label=\"Dominguez 2011\", **opts)\n",
    "\n",
    "plt.ylabel(r\"Absorption coefficient [$\\exp{(-\\tau(E))}$]\")\n",
    "plt.xlim(energy_range.value)\n",
    "plt.ylim(1e-4, 2)\n",
    "plt.title(f\"EBL models (z={redshift})\")\n",
    "plt.grid(which=\"both\")\n",
    "plt.legend(loc=\"best\")"
   ]
  },
  {
   "cell_type": "code",
   "execution_count": null,
   "metadata": {
    "collapsed": false,
    "jupyter": {
     "outputs_hidden": false
    }
   },
   "outputs": [],
   "source": [
    "# Create and plot a spectral model that convolves an `ExpCutoffPowerLawSpectralModel` electron distribution\n",
    "# with an `InverseCompton` radiative model, in the presence of multiple seed photon fields.\n",
    "\n",
    "import naima\n",
    "\n",
    "particle_distribution = naima.models.ExponentialCutoffPowerLaw(\n",
    "    1e30 / u.eV, 10 * u.TeV, 3.0, 30 * u.TeV\n",
    ")\n",
    "radiative_model = naima.radiative.InverseCompton(\n",
    "    particle_distribution,\n",
    "    seed_photon_fields=[\"CMB\", [\"FIR\", 26.5 * u.K, 0.415 * u.eV / u.cm ** 3]],\n",
    "    Eemin=100 * u.GeV,\n",
    ")\n",
    "\n",
    "model = gm.NaimaSpectralModel(radiative_model, distance=1.5 * u.kpc)\n",
    "\n",
    "opts = {\n",
    "    \"energy_range\": [10 * u.GeV, 80 * u.TeV],\n",
    "    \"energy_power\": 2,\n",
    "    \"flux_unit\": \"erg-1 cm-2 s-1\",\n",
    "}\n",
    "\n",
    "# Plot the total inverse Compton emission\n",
    "model.plot(label=\"IC (total)\", **opts)\n",
    "\n",
    "# Plot the separate contributions from each seed photon field\n",
    "for seed, ls in zip([\"CMB\", \"FIR\"], [\"-\", \"--\"]):\n",
    "    model = gm.NaimaSpectralModel(\n",
    "        radiative_model, seed=seed, distance=1.5 * u.kpc\n",
    "    )\n",
    "    model.plot(label=f\"IC ({seed})\", ls=ls, color=\"gray\", **opts)\n",
    "\n",
    "plt.legend(loc=\"best\")"
   ]
  },
  {
   "cell_type": "code",
   "execution_count": null,
   "metadata": {
    "collapsed": false,
    "jupyter": {
     "outputs_hidden": false
    }
   },
   "outputs": [],
   "source": [
    "gaussian = gm.GaussianSpectralModel(mean=\"1 TeV\")\n",
    "gaussian.plot(energy_range)"
   ]
  },
  {
   "cell_type": "code",
   "execution_count": null,
   "metadata": {
    "collapsed": false,
    "jupyter": {
     "outputs_hidden": false
    }
   },
   "outputs": [],
   "source": []
  }
 ],
 "metadata": {
  "kernelspec": {
   "display_name": "Python 3",
   "language": "python",
   "name": "python3"
  },
  "language_info": {
   "codemirror_mode": {
    "name": "ipython",
    "version": 3
   },
   "file_extension": ".py",
   "mimetype": "text/x-python",
   "name": "python",
   "nbconvert_exporter": "python",
   "pygments_lexer": "ipython3",
   "version": "3.7.0"
  }
 },
 "nbformat": 4,
 "nbformat_minor": 4
}
