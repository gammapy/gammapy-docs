{
  "cells": [
    {
      "cell_type": "code",
      "execution_count": null,
      "metadata": {
        "collapsed": false
      },
      "outputs": [],
      "source": [
        "%matplotlib inline"
      ]
    },
    {
      "cell_type": "markdown",
      "metadata": {},
      "source": [
        "\n\nTemplate Spectral Model\n=======================\n\nThis model is defined by custom tabular values.\n\nThe units returned will be the units of the values array provided at\ninitialization. The model will return values interpolated in\nlog-space, returning 0 for energies outside of the limits of the provided\nenergy array.\n\nThe class implementation follows closely what has been done in\n`naima.models.TemplateSpectralModel`\n"
      ]
    },
    {
      "cell_type": "markdown",
      "metadata": {},
      "source": [
        "Example plot\n------------\nHere is an example plot of the model:\n\n"
      ]
    },
    {
      "cell_type": "code",
      "execution_count": null,
      "metadata": {
        "collapsed": false
      },
      "outputs": [],
      "source": [
        "import numpy as np\nfrom astropy import units as u\nimport matplotlib.pyplot as plt\nfrom gammapy.modeling.models import Models, SkyModel, TemplateSpectralModel\n\nenergy_range = [0.1, 1] * u.TeV\nenergy = np.array([1e6, 3e6, 1e7, 3e7]) * u.MeV\nvalues = np.array([4.4e-38, 2.0e-38, 8.8e-39, 3.9e-39]) * u.Unit(\"MeV-1 s-1 cm-2\")\nmodel = TemplateSpectralModel(energy=energy, values=values)\nmodel.plot(energy_range)\nplt.grid(which=\"both\")"
      ]
    },
    {
      "cell_type": "markdown",
      "metadata": {},
      "source": [
        "YAML representation\n-------------------\nHere is an example YAML file using the model:\n\n"
      ]
    },
    {
      "cell_type": "code",
      "execution_count": null,
      "metadata": {
        "collapsed": false
      },
      "outputs": [],
      "source": [
        "model = SkyModel(spectral_model=model, name=\"template-model\")\nmodels = Models([model])\n\nprint(models.to_yaml())"
      ]
    }
  ],
  "metadata": {
    "kernelspec": {
      "display_name": "Python 3",
      "language": "python",
      "name": "python3"
    },
    "language_info": {
      "codemirror_mode": {
        "name": "ipython",
        "version": 3
      },
      "file_extension": ".py",
      "mimetype": "text/x-python",
      "name": "python",
      "nbconvert_exporter": "python",
      "pygments_lexer": "ipython3",
      "version": "3.7.0"
    }
  },
  "nbformat": 4,
  "nbformat_minor": 0
}