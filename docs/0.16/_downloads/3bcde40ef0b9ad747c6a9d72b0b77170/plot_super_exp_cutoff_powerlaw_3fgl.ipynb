{
  "cells": [
    {
      "cell_type": "code",
      "execution_count": null,
      "metadata": {
        "collapsed": false
      },
      "outputs": [],
      "source": [
        "%matplotlib inline"
      ]
    },
    {
      "cell_type": "markdown",
      "metadata": {},
      "source": [
        "\n\nSuper Exponential Cutoff Power Law Model used for 3FGL\n======================================================\n\nThis model parametrises super exponential cutoff power-law model spectrum used for 3FGL.\n\nIt is defined by the following equation:\n\n\\begin{align}\\phi(E) = \\phi_0 \\cdot \\left(\\frac{E}{E_0}\\right)^{-\\Gamma_1}\n              \\exp \\left( \\left(\\frac{E_0}{E_{C}} \\right)^{\\Gamma_2} -\n                          \\left(\\frac{E}{E_{C}} \\right)^{\\Gamma_2}\n                          \\right)\\end{align}\n"
      ]
    },
    {
      "cell_type": "markdown",
      "metadata": {},
      "source": [
        "Example plot\n------------\nHere is an example plot of the model:\n\n"
      ]
    },
    {
      "cell_type": "code",
      "execution_count": null,
      "metadata": {
        "collapsed": false
      },
      "outputs": [],
      "source": [
        "from astropy import units as u\nimport matplotlib.pyplot as plt\nfrom gammapy.modeling.models import (\n    Models,\n    SkyModel,\n    SuperExpCutoffPowerLaw3FGLSpectralModel,\n)\n\nenergy_range = [0.1, 100] * u.TeV\nmodel = SuperExpCutoffPowerLaw3FGLSpectralModel(\n    index_1=1,\n    index_2=2,\n    amplitude=\"1e-12 TeV-1 s-1 cm-2\",\n    reference=\"1 TeV\",\n    ecut=\"10 TeV\",\n)\nmodel.plot(energy_range)\nplt.grid(which=\"both\")\nplt.ylim(1e-24, 1e-10)"
      ]
    },
    {
      "cell_type": "markdown",
      "metadata": {},
      "source": [
        "YAML representation\n-------------------\nHere is an example YAML file using the model:\n\n"
      ]
    },
    {
      "cell_type": "code",
      "execution_count": null,
      "metadata": {
        "collapsed": false
      },
      "outputs": [],
      "source": [
        "model = SkyModel(spectral_model=model, name=\"super-exp-cutoff-power-law-3fgl-model\")\nmodels = Models([model])\n\nprint(models.to_yaml())"
      ]
    }
  ],
  "metadata": {
    "kernelspec": {
      "display_name": "Python 3",
      "language": "python",
      "name": "python3"
    },
    "language_info": {
      "codemirror_mode": {
        "name": "ipython",
        "version": 3
      },
      "file_extension": ".py",
      "mimetype": "text/x-python",
      "name": "python",
      "nbconvert_exporter": "python",
      "pygments_lexer": "ipython3",
      "version": "3.7.0"
    }
  },
  "nbformat": 4,
  "nbformat_minor": 0
}