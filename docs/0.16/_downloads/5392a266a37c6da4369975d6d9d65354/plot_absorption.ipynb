{
  "cells": [
    {
      "cell_type": "code",
      "execution_count": null,
      "metadata": {
        "collapsed": false
      },
      "outputs": [],
      "source": [
        "%matplotlib inline"
      ]
    },
    {
      "cell_type": "markdown",
      "metadata": {},
      "source": [
        "\n\nAbsorption Spectral Model\n=========================\n\nThis model represents EBL absorption models.\n\nThey are usually used as part of `~gammapy.modeling.models.AbsorbedSpectralModel`\n"
      ]
    },
    {
      "cell_type": "markdown",
      "metadata": {},
      "source": [
        "Example plot\n------------\nHere we illustrate how to create and plot EBL absorption models for a redshift of 0.5:\n\n"
      ]
    },
    {
      "cell_type": "code",
      "execution_count": null,
      "metadata": {
        "collapsed": false
      },
      "outputs": [],
      "source": [
        "from astropy import units as u\nimport matplotlib.pyplot as plt\nfrom gammapy.modeling.models import Absorption\n\nredshift = 0.5\ndominguez = Absorption.read_builtin(\"dominguez\").table_model(redshift)\nfranceschini = Absorption.read_builtin(\"franceschini\").table_model(redshift)\nfinke = Absorption.read_builtin(\"finke\").table_model(redshift)\n\nplt.figure()\nenergy_range = [0.08, 3] * u.TeV\nopts = dict(energy_range=energy_range, energy_unit=\"TeV\", flux_unit=\"\")\nfranceschini.plot(label=\"Franceschini 2008\", **opts)\nfinke.plot(label=\"Finke 2010\", **opts)\ndominguez.plot(label=\"Dominguez 2011\", **opts)\n\nplt.ylabel(r\"Absorption coefficient [$\\exp{(-\\tau(E))}$]\")\nplt.xlim(energy_range.value)\nplt.ylim(1e-4, 2)\nplt.title(f\"EBL models (z={redshift})\")\nplt.grid(which=\"both\")\nplt.legend(loc=\"best\")"
      ]
    }
  ],
  "metadata": {
    "kernelspec": {
      "display_name": "Python 3",
      "language": "python",
      "name": "python3"
    },
    "language_info": {
      "codemirror_mode": {
        "name": "ipython",
        "version": 3
      },
      "file_extension": ".py",
      "mimetype": "text/x-python",
      "name": "python",
      "nbconvert_exporter": "python",
      "pygments_lexer": "ipython3",
      "version": "3.7.0"
    }
  },
  "nbformat": 4,
  "nbformat_minor": 0
}