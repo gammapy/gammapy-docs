{
  "cells": [
    {
      "cell_type": "code",
      "execution_count": null,
      "metadata": {
        "collapsed": false
      },
      "outputs": [],
      "source": [
        "%matplotlib inline"
      ]
    },
    {
      "cell_type": "markdown",
      "metadata": {},
      "source": [
        "\n\nAbsorbed Spectral Model\n=======================\n\nThis model evaluates absorbed spectral model.\n\nThe spectral model is evaluated, and then multiplied with an EBL\nabsorption factor given by\n\n\\begin{align}\\exp{ \\left ( -\\alpha \\times \\tau(E, z) \\right )}\\end{align}\n\nwhere $\\tau(E, z)$ is the optical depth predicted by the model\n(`~gammapy.modeling.models.Absorption`), which depends on the energy of the gamma-rays and the\nredshift z of the source, and $\\alpha$ is a scale factor\n(default: 1) for the optical depth.\n"
      ]
    },
    {
      "cell_type": "markdown",
      "metadata": {},
      "source": [
        "Example plot\n------------\nHere is an example plot of the model:\n\n"
      ]
    },
    {
      "cell_type": "code",
      "execution_count": null,
      "metadata": {
        "collapsed": false
      },
      "outputs": [],
      "source": [
        "from astropy import units as u\nimport matplotlib.pyplot as plt\nfrom gammapy.modeling.models import (\n    AbsorbedSpectralModel,\n    Absorption,\n    Models,\n    PowerLawSpectralModel,\n    SkyModel,\n)\n\nredshift = 0.117\nabsorption = Absorption.read_builtin(\"dominguez\")\n\n# Spectral model corresponding to PKS 2155-304 (quiescent state)\nindex = 3.53\namplitude = 1.81 * 1e-12 * u.Unit(\"cm-2 s-1 TeV-1\")\nreference = 1 * u.TeV\npwl = PowerLawSpectralModel(index=index, amplitude=amplitude, reference=reference)\n\n# EBL + PWL model\nmodel = AbsorbedSpectralModel(\n    spectral_model=pwl, absorption=absorption, parameter=redshift\n)\n\nenergy_range = [0.1, 100] * u.TeV\nmodel.plot(energy_range)\nplt.grid(which=\"both\")\nplt.ylim(1e-24, 1e-8)"
      ]
    },
    {
      "cell_type": "markdown",
      "metadata": {},
      "source": [
        "YAML representation\n-------------------\nHere is an example YAML file using the model:\n\n"
      ]
    },
    {
      "cell_type": "code",
      "execution_count": null,
      "metadata": {
        "collapsed": false
      },
      "outputs": [],
      "source": [
        "model = SkyModel(spectral_model=model, name=\"absorbed-model\")\nmodels = Models([model])\n\nprint(models.to_yaml())"
      ]
    }
  ],
  "metadata": {
    "kernelspec": {
      "display_name": "Python 3",
      "language": "python",
      "name": "python3"
    },
    "language_info": {
      "codemirror_mode": {
        "name": "ipython",
        "version": 3
      },
      "file_extension": ".py",
      "mimetype": "text/x-python",
      "name": "python",
      "nbconvert_exporter": "python",
      "pygments_lexer": "ipython3",
      "version": "3.7.0"
    }
  },
  "nbformat": 4,
  "nbformat_minor": 0
}