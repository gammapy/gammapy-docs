{
  "cells": [
    {
      "cell_type": "code",
      "execution_count": null,
      "metadata": {
        "collapsed": false
      },
      "outputs": [],
      "source": [
        "%matplotlib inline"
      ]
    },
    {
      "cell_type": "markdown",
      "metadata": {},
      "source": [
        "\n\nShell Spatial Model\n===================\n\nThis is a spatial model parametrizing a projected radiating shell.\n\nThe shell spatial model is defined by the following equations:\n\n\\begin{align}\\phi(lon, lat) = \\frac{3}{2 \\pi (r_{out}^3 - r_{in}^3)} \\cdot\n            \\begin{cases}\n                \\sqrt{r_{out}^2 - \\theta^2} - \\sqrt{r_{in}^2 - \\theta^2} &\n                             \\text{for } \\theta \\lt r_{in} \\\\\n                \\sqrt{r_{out}^2 - \\theta^2} &\n                             \\text{for } r_{in} \\leq \\theta \\lt r_{out} \\\\\n                0 & \\text{for } \\theta > r_{out}\n            \\end{cases}\\end{align}\n\nwhere $\\theta$ is the sky separation and $r_{\\text{out}} = r_{\\text{in}}$ + width\n\nNote that the normalization is a small angle approximation,\nalthough that approximation is still very good even for 10 deg radius shells.\n"
      ]
    },
    {
      "cell_type": "markdown",
      "metadata": {},
      "source": [
        "Example plot\n------------\nHere is an example plot of the model:\n\n"
      ]
    },
    {
      "cell_type": "code",
      "execution_count": null,
      "metadata": {
        "collapsed": false
      },
      "outputs": [],
      "source": [
        "from gammapy.modeling.models import (\n    Models,\n    PowerLawSpectralModel,\n    ShellSpatialModel,\n    SkyModel,\n)\n\nmodel = ShellSpatialModel(\n    lon_0=\"10 deg\", lat_0=\"20 deg\", radius=\"2 deg\", width=\"0.5 deg\", frame=\"galactic\",\n)\n\nmodel.plot(add_cbar=True)"
      ]
    },
    {
      "cell_type": "markdown",
      "metadata": {},
      "source": [
        "YAML representation\n-------------------\nHere is an example YAML file using the model:\n\n"
      ]
    },
    {
      "cell_type": "code",
      "execution_count": null,
      "metadata": {
        "collapsed": false
      },
      "outputs": [],
      "source": [
        "pwl = PowerLawSpectralModel()\nshell = ShellSpatialModel()\n\nmodel = SkyModel(spectral_model=pwl, spatial_model=shell, name=\"pwl-shell-model\")\nmodels = Models([model])\n\nprint(models.to_yaml())"
      ]
    }
  ],
  "metadata": {
    "kernelspec": {
      "display_name": "Python 3",
      "language": "python",
      "name": "python3"
    },
    "language_info": {
      "codemirror_mode": {
        "name": "ipython",
        "version": 3
      },
      "file_extension": ".py",
      "mimetype": "text/x-python",
      "name": "python",
      "nbconvert_exporter": "python",
      "pygments_lexer": "ipython3",
      "version": "3.7.0"
    }
  },
  "nbformat": 4,
  "nbformat_minor": 0
}