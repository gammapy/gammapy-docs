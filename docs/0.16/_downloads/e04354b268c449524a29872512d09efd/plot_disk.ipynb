{
  "cells": [
    {
      "cell_type": "code",
      "execution_count": null,
      "metadata": {
        "collapsed": false
      },
      "outputs": [],
      "source": [
        "%matplotlib inline"
      ]
    },
    {
      "cell_type": "markdown",
      "metadata": {},
      "source": [
        "\n\nDisk Spatial Model\n==================\n\nThis is a spatial model parametrising a disk.\n\nBy default, the model is symmetric, i.e. a disk:\n\n\\begin{align}\\phi(lon, lat) = \\frac{1}{2 \\pi (1 - \\cos{r_0}) } \\cdot\n            \\begin{cases}\n                1 & \\text{for } \\theta \\leq r_0 \\\n                0 & \\text{for } \\theta > r_0\n            \\end{cases}\\end{align}\n\nwhere $\\theta$ is the sky separation. To improve fit convergence of the\nmodel, the sharp edges is smoothed using `~scipy.special.erf`.\n\nIn case an eccentricity (`e`) and rotation angle ($\\phi$) are passed,\nthen the model is an elongated disk (i.e. an ellipse), with a major semiaxis of length $r_0$\nand position angle $\\phi$ (increaing counter-clockwise from the North direction).\n\nThe model is defined on the celestial sphere, with a normalization defined by:\n\n\\begin{align}\\int_{4\\pi}\\phi(\\text{lon}, \\text{lat}) \\,d\\Omega = 1\\,.\\end{align}\n"
      ]
    },
    {
      "cell_type": "markdown",
      "metadata": {},
      "source": [
        "Example plot\n------------\nHere is an example plot of the model:\n\n"
      ]
    },
    {
      "cell_type": "code",
      "execution_count": null,
      "metadata": {
        "collapsed": false
      },
      "outputs": [],
      "source": [
        "import numpy as np\nfrom astropy.coordinates import Angle\nfrom gammapy.modeling.models import (\n    DiskSpatialModel,\n    Models,\n    PowerLawSpectralModel,\n    SkyModel,\n)\n\nphi = Angle(\"30 deg\")\nmodel = DiskSpatialModel(\n    lon_0=\"2 deg\", lat_0=\"2 deg\", r_0=\"1 deg\", e=0.8, phi=\"30 deg\", frame=\"galactic\",\n)\n\nax = model.plot(add_cbar=True)\n\n# illustrate size parameter\nregion = model.to_region().to_pixel(ax.wcs)\nartist = region.as_artist(facecolor=\"none\", edgecolor=\"red\")\nax.add_artist(artist)\n\ntransform = ax.get_transform(\"galactic\")\nax.scatter(2, 2, transform=transform, s=20, edgecolor=\"red\", facecolor=\"red\")\nax.text(1.7, 1.85, r\"$(l_0, b_0)$\", transform=transform, ha=\"center\")\nax.plot([2, 2 + np.sin(phi)], [2, 2 + np.cos(phi)], color=\"r\", transform=transform)\nax.vlines(x=2, color=\"r\", linestyle=\"--\", transform=transform, ymin=0, ymax=5)\nax.text(2.15, 2.3, r\"$\\phi$\", transform=transform)"
      ]
    },
    {
      "cell_type": "markdown",
      "metadata": {},
      "source": [
        "YAML representation\n-------------------\nHere is an example YAML file using the model:\n\n"
      ]
    },
    {
      "cell_type": "code",
      "execution_count": null,
      "metadata": {
        "collapsed": false
      },
      "outputs": [],
      "source": [
        "pwl = PowerLawSpectralModel()\ngauss = DiskSpatialModel()\n\nmodel = SkyModel(spectral_model=pwl, spatial_model=gauss, name=\"pwl-disk-model\")\nmodels = Models([model])\n\nprint(models.to_yaml())"
      ]
    }
  ],
  "metadata": {
    "kernelspec": {
      "display_name": "Python 3",
      "language": "python",
      "name": "python3"
    },
    "language_info": {
      "codemirror_mode": {
        "name": "ipython",
        "version": 3
      },
      "file_extension": ".py",
      "mimetype": "text/x-python",
      "name": "python",
      "nbconvert_exporter": "python",
      "pygments_lexer": "ipython3",
      "version": "3.7.0"
    }
  },
  "nbformat": 4,
  "nbformat_minor": 0
}