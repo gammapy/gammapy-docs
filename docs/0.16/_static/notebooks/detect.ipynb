{
 "cells": [
  {
   "cell_type": "markdown",
   "metadata": {},
   "source": [
    "# Source detection with Gammapy\n",
    "\n",
    "## Context\n",
    "\n",
    "The first task in a source catalogue production is to identify significant excesses in the data that can be associated to unknown sources and provide a preliminary parametrization in term of position, extent, and flux. In this notebook we will use Fermi-LAT data to illustrate how to detect candidate sources in counts images with known background.\n",
    "\n",
    "**Objective: build a list of significant excesses in a Fermi-LAT map**\n",
    "\n",
    "\n",
    "## Proposed approach \n",
    "\n",
    "This notebook show how to do source detection with Gammapy using the methods available in `~gammapy.detect`.\n",
    "We will use images from a Fermi-LAT 3FHL high-energy Galactic center dataset to do this:\n",
    "\n",
    "* perform adaptive smoothing on counts image\n",
    "* produce 2-dimensional test-statistics (TS)\n",
    "* run a peak finder to detect point-source candidates\n",
    "* compute Li & Ma significance images\n",
    "* estimate source candidates radius and excess counts\n",
    "\n",
    "Note that what we do here is a quick-look analysis, the production of real source catalogs use more elaborate procedures.\n",
    "\n",
    "We will work with the following functions and classes:\n",
    "\n",
    "* `~gammapy.maps.WcsNDMap`\n",
    "* `~gammapy.detect.ASmoothEstimator`\n",
    "* `~gammapy.detect.TSMapEstimator`\n",
    "* `~gammapy.detect.find_peaks`"
   ]
  },
  {
   "cell_type": "markdown",
   "metadata": {},
   "source": [
    "## Setup\n",
    "\n",
    "As always, let's get started with some setup ..."
   ]
  },
  {
   "cell_type": "code",
   "execution_count": null,
   "metadata": {},
   "outputs": [],
   "source": [
    "%matplotlib inline\n",
    "import matplotlib.pyplot as plt\n",
    "import matplotlib.cm as cm\n",
    "from gammapy.maps import Map\n",
    "from gammapy.detect import (\n",
    "    ASmoothMapEstimator,\n",
    "    TSMapEstimator,\n",
    "    find_peaks,\n",
    "    compute_lima_image,\n",
    ")\n",
    "from gammapy.catalog import SOURCE_CATALOGS\n",
    "from gammapy.modeling.models import BackgroundModel\n",
    "from gammapy.cube import PSFKernel, MapDataset\n",
    "from gammapy.stats import significance\n",
    "from astropy.coordinates import SkyCoord\n",
    "from astropy.convolution import Tophat2DKernel\n",
    "import astropy.units as u\n",
    "import numpy as np"
   ]
  },
  {
   "cell_type": "markdown",
   "metadata": {},
   "source": [
    "## Read in input images\n",
    "\n",
    "We first read in the counts cube and sum over the energy axis:"
   ]
  },
  {
   "cell_type": "code",
   "execution_count": null,
   "metadata": {},
   "outputs": [],
   "source": [
    "counts = Map.read(\n",
    "    \"$GAMMAPY_DATA/fermi-3fhl-gc/fermi-3fhl-gc-counts-cube.fits.gz\"\n",
    ")\n",
    "background = Map.read(\n",
    "    \"$GAMMAPY_DATA/fermi-3fhl-gc/fermi-3fhl-gc-background-cube.fits.gz\"\n",
    ")\n",
    "background = BackgroundModel(background)\n",
    "\n",
    "exposure = Map.read(\n",
    "    \"$GAMMAPY_DATA/fermi-3fhl-gc/fermi-3fhl-gc-exposure-cube.fits.gz\"\n",
    ")\n",
    "mask_safe = counts.copy(data=np.ones_like(counts.data).astype(\"bool\"))\n",
    "\n",
    "dataset = MapDataset(\n",
    "    counts=counts,\n",
    "    background_model=background,\n",
    "    exposure=exposure,\n",
    "    mask_safe=mask_safe,\n",
    ")\n",
    "\n",
    "dataset = dataset.to_image()"
   ]
  },
  {
   "cell_type": "code",
   "execution_count": null,
   "metadata": {},
   "outputs": [],
   "source": [
    "kernel = PSFKernel.read(\n",
    "    \"$GAMMAPY_DATA/fermi-3fhl-gc/fermi-3fhl-gc-psf.fits.gz\"\n",
    ")"
   ]
  },
  {
   "cell_type": "markdown",
   "metadata": {},
   "source": [
    "## Adaptive smoothing\n",
    " \n",
    "For visualisation purpose it can be nice to look at a smoothed counts image. This can be performed using the adaptive smoothing algorithm from [Ebeling et al. (2006)](https://ui.adsabs.harvard.edu/abs/2006MNRAS.368...65E/abstract).\n",
    "     \n",
    "In the following example the `threshold` argument gives the minimum significance expected, values below are clipped."
   ]
  },
  {
   "cell_type": "code",
   "execution_count": null,
   "metadata": {},
   "outputs": [],
   "source": [
    "%%time\n",
    "scales = u.Quantity(np.arange(0.05, 1, 0.05), unit=\"deg\")\n",
    "smooth = ASmoothMapEstimator(threshold=3, scales=scales)\n",
    "images = smooth.run(dataset)\n",
    "\n",
    "plt.figure(figsize=(15, 5))\n",
    "images[\"counts\"].plot(add_cbar=True, vmax=10)"
   ]
  },
  {
   "cell_type": "markdown",
   "metadata": {},
   "source": [
    "## TS map estimation\n",
    "\n",
    "The Test Statistic, TS = 2 ∆ log L ([Mattox et al. 1996](https://ui.adsabs.harvard.edu/abs/1996ApJ...461..396M/abstract)), compares the likelihood function L optimized with and without a given source.\n",
    "The TS map is computed by fitting by a single amplitude parameter on each pixel as described in Appendix A of [Stewart (2009)](https://ui.adsabs.harvard.edu/abs/2009A%26A...495..989S/abstract). The fit is simplified by finding roots of the derivative of the fit statistics (default settings use [Brent's method](https://en.wikipedia.org/wiki/Brent%27s_method))."
   ]
  },
  {
   "cell_type": "code",
   "execution_count": null,
   "metadata": {},
   "outputs": [],
   "source": [
    "%%time\n",
    "estimator = TSMapEstimator()\n",
    "images = estimator.run(dataset, kernel.data)"
   ]
  },
  {
   "cell_type": "markdown",
   "metadata": {},
   "source": [
    "### Plot resulting images"
   ]
  },
  {
   "cell_type": "code",
   "execution_count": null,
   "metadata": {},
   "outputs": [],
   "source": [
    "plt.figure(figsize=(15, 5))\n",
    "images[\"sqrt_ts\"].plot(add_cbar=True);"
   ]
  },
  {
   "cell_type": "code",
   "execution_count": null,
   "metadata": {},
   "outputs": [],
   "source": [
    "plt.figure(figsize=(15, 5))\n",
    "images[\"flux\"].plot(add_cbar=True, stretch=\"sqrt\", vmin=0);"
   ]
  },
  {
   "cell_type": "code",
   "execution_count": null,
   "metadata": {},
   "outputs": [],
   "source": [
    "plt.figure(figsize=(15, 5))\n",
    "images[\"niter\"].plot(add_cbar=True);"
   ]
  },
  {
   "cell_type": "markdown",
   "metadata": {},
   "source": [
    "## Source candidates\n",
    "\n",
    "Let's run a peak finder on the `sqrt_ts` image to get a list of point-sources candidates (positions and peak `sqrt_ts` values).\n",
    "The `find_peaks` function performs a local maximun search in a sliding window, the argument `min_distance` is the minimum pixel distance between peaks (smallest possible value and default is 1 pixel)."
   ]
  },
  {
   "cell_type": "code",
   "execution_count": null,
   "metadata": {},
   "outputs": [],
   "source": [
    "sources = find_peaks(images[\"sqrt_ts\"], threshold=8, min_distance=1)\n",
    "nsou = len(sources)\n",
    "sources"
   ]
  },
  {
   "cell_type": "code",
   "execution_count": null,
   "metadata": {},
   "outputs": [],
   "source": [
    "# Plot sources on top of significance sky image\n",
    "plt.figure(figsize=(15, 5))\n",
    "\n",
    "_, ax, _ = images[\"sqrt_ts\"].plot(add_cbar=True)\n",
    "\n",
    "ax.scatter(\n",
    "    sources[\"ra\"],\n",
    "    sources[\"dec\"],\n",
    "    transform=plt.gca().get_transform(\"icrs\"),\n",
    "    color=\"none\",\n",
    "    edgecolor=\"w\",\n",
    "    marker=\"o\",\n",
    "    s=600,\n",
    "    lw=1.5,\n",
    ");"
   ]
  },
  {
   "cell_type": "markdown",
   "metadata": {},
   "source": [
    "Note that we used the instrument point-spread-function (PSF) as kernel, so the hypothesis we test is the presence of a point source. In order to test for extended sources we would have to use as kernel an extended template convolved by the PSF. Alternatively, we can compute the significance of an extended excess using the Li & Ma formalism, which is faster as no fitting is involve."
   ]
  },
  {
   "cell_type": "markdown",
   "metadata": {},
   "source": [
    "## What next?\n",
    "\n",
    "In this notebook, we have seen how to work with images and compute TS and significance images from counts data, if a background estimate is already available.\n",
    "\n",
    "Here's some suggestions what to do next:\n",
    "\n",
    "- Look how background estimation is performed for IACTs with and without the high-level interface in [analysis_1](analysis_1.ipynb) and [analysis_2](analysis_2.ipynb) notebooks, respectively\n",
    "- Learn about 2D model fitting in the [modeling 2D](modeling_2D.ipynb) notebook\n",
    "- find more about Fermi-LAT data analysis in the [fermi_lat](fermi_lat.ipynb) notebook\n",
    "- Use source candidates to build a model and perform a 3D fitting (see [analysis_3d](analysis_3d.ipynb), [analysis_mwl](analysis_mwl.ipynb) notebooks for some hints)"
   ]
  },
  {
   "cell_type": "code",
   "execution_count": null,
   "metadata": {},
   "outputs": [],
   "source": []
  }
 ],
 "metadata": {
  "kernelspec": {
   "display_name": "Python 3",
   "language": "python",
   "name": "python3"
  },
  "language_info": {
   "codemirror_mode": {
    "name": "ipython",
    "version": 3
   },
   "file_extension": ".py",
   "mimetype": "text/x-python",
   "name": "python",
   "nbconvert_exporter": "python",
   "pygments_lexer": "ipython3",
   "version": "3.7.0"
  }
 },
 "nbformat": 4,
 "nbformat_minor": 4
}
