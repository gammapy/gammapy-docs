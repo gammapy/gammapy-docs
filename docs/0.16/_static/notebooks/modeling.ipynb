{
 "cells": [
  {
   "cell_type": "markdown",
   "metadata": {},
   "source": [
    "# Modeling and fitting\n",
    "\n",
    "**TODO: write me! Does this contain a model gallery or do we move this to rst pages?**\n",
    "\n",
    "This is a hands-on tutorial to `~gammapy.modeling`, showing examples how\n",
    "the model, dataset and fit classes work together, and how to define your\n",
    "own models and register them with Gammapy.\n",
    "\n",
    "See also: `models.ipynb` (built-in model gallery) and `docs/modeling/index.rst`.\n",
    "\n",
    "- Introduction how Model, Models, Dataset, Fit and Analysis works\n",
    "- How model evaluation works\n",
    "- Covariance matrix and parameter errors"
   ]
  },
  {
   "cell_type": "code",
   "execution_count": null,
   "metadata": {},
   "outputs": [],
   "source": []
  }
 ],
 "metadata": {
  "kernelspec": {
   "display_name": "Python 3",
   "language": "python",
   "name": "python3"
  },
  "language_info": {
   "codemirror_mode": {
    "name": "ipython",
    "version": 3
   },
   "file_extension": ".py",
   "mimetype": "text/x-python",
   "name": "python",
   "nbconvert_exporter": "python",
   "pygments_lexer": "ipython3",
   "version": "3.7.0"
  }
 },
 "nbformat": 4,
 "nbformat_minor": 4
}
