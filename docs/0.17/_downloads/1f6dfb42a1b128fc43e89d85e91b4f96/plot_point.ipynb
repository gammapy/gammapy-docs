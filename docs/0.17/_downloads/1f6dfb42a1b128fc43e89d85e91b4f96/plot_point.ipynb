{
  "cells": [
    {
      "cell_type": "code",
      "execution_count": null,
      "metadata": {
        "collapsed": false
      },
      "outputs": [],
      "source": [
        "%matplotlib inline"
      ]
    },
    {
      "cell_type": "markdown",
      "metadata": {},
      "source": [
        "\n\nPoint Spatial Model\n===================\n\nThis model is a delta function centered in *lon_0* and *lat_0* parameters provided:\n\n\\begin{align}\\phi(lon, lat) = \\delta{(lon - lon_0, lat - lat_0)}\\end{align}\n\nThe model is defined on the celestial sphere in the coordinate frame provided by the user.\n\nIf the point source is not centered on a pixel, the flux is re-distributed\nacross 4 neighbouring pixels. This ensured that the center of mass position\nis conserved.\n"
      ]
    },
    {
      "cell_type": "markdown",
      "metadata": {},
      "source": [
        "Example plot\n------------\nHere is an example plot of the model:\n\n"
      ]
    },
    {
      "cell_type": "code",
      "execution_count": null,
      "metadata": {
        "collapsed": false
      },
      "outputs": [],
      "source": [
        "from astropy.coordinates import SkyCoord\nfrom gammapy.maps import WcsGeom\nfrom gammapy.modeling.models import (\n    Models,\n    PointSpatialModel,\n    PowerLawSpectralModel,\n    SkyModel,\n)\n\nmodel = PointSpatialModel(lon_0=\"0.01 deg\", lat_0=\"0.01 deg\", frame=\"galactic\",)\n\ngeom = WcsGeom.create(\n    skydir=SkyCoord(\"0d 0d\", frame=\"galactic\"), width=(1, 1), binsz=0.1\n)\nmodel.plot(geom=geom, add_cbar=True)"
      ]
    },
    {
      "cell_type": "markdown",
      "metadata": {},
      "source": [
        "YAML representation\n-------------------\nHere is an example YAML file using the model:\n\n"
      ]
    },
    {
      "cell_type": "code",
      "execution_count": null,
      "metadata": {
        "collapsed": false
      },
      "outputs": [],
      "source": [
        "pwl = PowerLawSpectralModel()\npoint = PointSpatialModel()\n\nmodel = SkyModel(spectral_model=pwl, spatial_model=point, name=\"pwl-point-model\")\nmodels = Models([model])\n\nprint(models.to_yaml())"
      ]
    }
  ],
  "metadata": {
    "kernelspec": {
      "display_name": "Python 3",
      "language": "python",
      "name": "python3"
    },
    "language_info": {
      "codemirror_mode": {
        "name": "ipython",
        "version": 3
      },
      "file_extension": ".py",
      "mimetype": "text/x-python",
      "name": "python",
      "nbconvert_exporter": "python",
      "pygments_lexer": "ipython3",
      "version": "3.7.0"
    }
  },
  "nbformat": 4,
  "nbformat_minor": 0
}