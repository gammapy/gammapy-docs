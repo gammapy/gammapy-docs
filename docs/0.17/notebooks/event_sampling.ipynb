{
 "cells": [
  {
   "cell_type": "markdown",
   "metadata": {},
   "source": [
    "\n",
    "<div class=\"alert alert-info\">\n",
    "\n",
    "**This is a fixed-text formatted version of a Jupyter notebook**\n",
    "\n",
    "- Try online [![Binder](https://static.mybinder.org/badge.svg)](https://mybinder.org/v2/gh/gammapy/gammapy-webpage/v0.17?urlpath=lab/tree/event_sampling.ipynb)\n",
    "- You can contribute with your own notebooks in this\n",
    "[GitHub repository](https://github.com/gammapy/gammapy/tree/master/tutorials).\n",
    "- **Source files:**\n",
    "[event_sampling.ipynb](../_static/notebooks/event_sampling.ipynb) |\n",
    "[event_sampling.py](../_static/notebooks/event_sampling.py)\n",
    "</div>\n"
   ]
  },
  {
   "cell_type": "markdown",
   "metadata": {},
   "source": [
    "# Event Sampling"
   ]
  },
  {
   "cell_type": "markdown",
   "metadata": {},
   "source": [
    "## Prerequisites "
   ]
  },
  {
   "cell_type": "markdown",
   "metadata": {},
   "source": [
    "To understand how to generate a Model and a MapDataset, and how to fit the data, please refer to the `~gammapy.modeling.models.SkyModel` and [simulate_3d](simulate_3d.ipynb)."
   ]
  },
  {
   "cell_type": "markdown",
   "metadata": {},
   "source": [
    "## Context \n",
    "\n",
    "This tutorial describes how to sample events from an observation of a one (or more) gamma-ray source(s). The main aim of the tutorial will be to set the minimal configuration needed to deal with the Gammapy event-sampler and how to obtain an output photon event list.\n",
    "\n",
    "The core of the event sampling lies into the Gammapy `~gammapy.datasets.MapDatasetEventSampler` class, which is based on the inverse cumulative distribution function [(Inverse CDF)](https://en.wikipedia.org/wiki/Cumulative_distribution_function#Inverse_distribution_function_(quantile_function)). \n",
    "\n",
    "The `~gammapy.datasets.MapDatasetEventSampler` takes in input a `~gammapy.datasets.Dataset` object containing the spectral, spatial and temporal properties of the source(s) of interest.\n",
    "\n",
    "The `~gammapy.datasets.MapDatasetEventSampler` class evaluates the map of predicted counts (`npred`) per bin of the given Sky model, and the `npred` map is then used to sample the events. In particular, the output of the event-sampler will be a set of events having information about their true coordinates, true energies and times of arrival. \n",
    "\n",
    "To these events, IRF corrections (i.e. PSF and energy dispersion) can also further applied in order to obtain reconstructed coordinates and energies of the sampled events. \n",
    "\n",
    "At the end of this process, you will obtain an event-list in FITS format. "
   ]
  },
  {
   "cell_type": "markdown",
   "metadata": {},
   "source": [
    "## Objective\n",
    "Describe the process of sampling events from a given Sky model and obtaining an output event-list."
   ]
  },
  {
   "cell_type": "markdown",
   "metadata": {},
   "source": [
    "## Proposed approach\n",
    "\n",
    "In this section, we will show how to define a `gammapy.data.Observations` and to create a `~gammapy.datasets.Dataset` object (for more info on `~gammapy.datasets.Dataset` objects, please visit this [link](https://docs.gammapy.org/dev/notebooks/analysis_2.html#Preparing-reduced-datasets-geometry)). These are both necessary for the event sampling. \n",
    "Then, we will define the Sky model from which we sample events. \n",
    "\n",
    "In this tutorial, we propose two examples for sampling events: one chosing a point-like source and one using a template map. "
   ]
  },
  {
   "cell_type": "markdown",
   "metadata": {},
   "source": [
    "## Setup\n",
    "As usual, let's start with some general imports...\n"
   ]
  },
  {
   "cell_type": "code",
   "execution_count": 1,
   "metadata": {},
   "outputs": [],
   "source": [
    "%matplotlib inline"
   ]
  },
  {
   "cell_type": "code",
   "execution_count": 2,
   "metadata": {},
   "outputs": [],
   "source": [
    "import matplotlib.pyplot as plt\n",
    "from pathlib import Path\n",
    "import numpy as np\n",
    "import copy\n",
    "import astropy.units as u\n",
    "from astropy.io import fits\n",
    "from astropy.coordinates import SkyCoord\n",
    "from gammapy.data import DataStore, GTI, Observation\n",
    "from gammapy.datasets import MapDataset, MapDatasetEventSampler\n",
    "from gammapy.maps import MapAxis, WcsGeom, Map\n",
    "from gammapy.irf import load_cta_irfs\n",
    "from gammapy.makers import MapDatasetMaker\n",
    "from gammapy.modeling import Fit\n",
    "from gammapy.modeling.models import (\n",
    "    Model,\n",
    "    Models,\n",
    "    SkyModel,\n",
    "    PowerLawSpectralModel,\n",
    "    PointSpatialModel,\n",
    "    GaussianSpatialModel,\n",
    "    SkyDiffuseCube,\n",
    ")\n",
    "from regions import CircleSkyRegion"
   ]
  },
  {
   "cell_type": "markdown",
   "metadata": {},
   "source": [
    "### Define an Observation\n",
    "\n",
    "You can firstly create a `gammapy.data.Observations` object that contains the pointing position, the GTIs and the IRF you want to consider. \n",
    "\n",
    "Hereafter, we chose the IRF of the South configuration used for the CTA DC1 and we set the pointing position of the simulated field at the Galactic Center. We also fix the exposure time to 1 hr.\n",
    "\n",
    "Let's start with some initial settings:"
   ]
  },
  {
   "cell_type": "code",
   "execution_count": 3,
   "metadata": {},
   "outputs": [],
   "source": [
    "IRF_FILE = (\n",
    "    \"$GAMMAPY_DATA/cta-1dc/caldb/data/cta/1dc/bcf/South_z20_50h/irf_file.fits\"\n",
    ")\n",
    "\n",
    "POINTING = SkyCoord(0.0, 0.0, frame=\"galactic\", unit=\"deg\")\n",
    "LIVETIME = 1 * u.hr"
   ]
  },
  {
   "cell_type": "markdown",
   "metadata": {},
   "source": [
    "Now you can create the observation:"
   ]
  },
  {
   "cell_type": "code",
   "execution_count": 4,
   "metadata": {},
   "outputs": [],
   "source": [
    "irfs = load_cta_irfs(IRF_FILE)\n",
    "observation = Observation.create(\n",
    "    obs_id=1001, pointing=POINTING, livetime=LIVETIME, irfs=irfs\n",
    ")"
   ]
  },
  {
   "cell_type": "markdown",
   "metadata": {},
   "source": [
    "### Define the MapDataset\n",
    "\n",
    "Let's generate the `~gammapy.datasets.Dataset` object: we define the energy axes (true and reconstruncted), the migration axis and the geometry of the observation. \n",
    "\n",
    "*This is a crucial point for the correct configuration of the event sampler. Indeed the spatial and energetic binning should be treaten carefully and... the finer the better. For this reason, we suggest to define the energy axes by setting a minimum binning of least 10-20 bins per decade for all the sources of interest. The spatial binning may instead be different from source to source and, at first order, it should be adopted a binning significantly smaller than the expected source size.*\n",
    "\n",
    "For the examples that will be shown hereafter, we set the geometry of the dataset to a field of view of 2degx2deg and we  bin the spatial map with pixels of 0.02 deg."
   ]
  },
  {
   "cell_type": "code",
   "execution_count": 5,
   "metadata": {},
   "outputs": [],
   "source": [
    "ENERGY_AXIS = MapAxis.from_energy_bounds(\n",
    "    \"0.1 TeV\", \"100 TeV\", nbin=10, per_decade=True\n",
    ")\n",
    "ENERGY_AXIS_TRUE = MapAxis.from_energy_bounds(\n",
    "    \"0.03 TeV\", \"300 TeV\", nbin=20, per_decade=True, name=\"energy_true\"\n",
    ")\n",
    "MIGRA_AXIS = MapAxis.from_bounds(\n",
    "    0.5, 2, nbin=150, node_type=\"edges\", name=\"migra\"\n",
    ")\n",
    "\n",
    "WCS_GEOM = WcsGeom.create(\n",
    "    skydir=POINTING,\n",
    "    width=(2, 2),\n",
    "    binsz=0.02,\n",
    "    frame=\"galactic\",\n",
    "    axes=[ENERGY_AXIS],\n",
    ")"
   ]
  },
  {
   "cell_type": "markdown",
   "metadata": {},
   "source": [
    "In the following, the dataset is created by selecting the effective area, background model, the PSF and the Edisp from the IRF. The dataset thus produced can be saved into a FITS file just using the `write()` function. We put it into the `evt_sampling` sub-folder:"
   ]
  },
  {
   "cell_type": "code",
   "execution_count": 6,
   "metadata": {},
   "outputs": [
    {
     "name": "stdout",
     "output_type": "stream",
     "text": [
      "CPU times: user 1.49 s, sys: 510 ms, total: 2 s\n",
      "Wall time: 2.03 s\n"
     ]
    }
   ],
   "source": [
    "%%time\n",
    "empty = MapDataset.create(\n",
    "    WCS_GEOM, energy_axis_true=ENERGY_AXIS_TRUE, migra_axis=MIGRA_AXIS\n",
    ")\n",
    "maker = MapDatasetMaker(selection=[\"exposure\", \"background\", \"psf\", \"edisp\"])\n",
    "dataset = maker.run(empty, observation)\n",
    "\n",
    "Path(\"event_sampling\").mkdir(exist_ok=True)\n",
    "dataset.write(\"./event_sampling/dataset.fits\", overwrite=True)"
   ]
  },
  {
   "cell_type": "markdown",
   "metadata": {},
   "source": [
    "### Define the Sky model: a point-like source\n",
    "\n",
    "Now let's define a Sky model (see how to create it [here](https://docs.gammapy.org/dev/notebooks/models.html)) for a point-like source centered 0.5 deg far from the Galactic Center and with a power-law spectrum. We then save the model into a yaml file."
   ]
  },
  {
   "cell_type": "code",
   "execution_count": 7,
   "metadata": {},
   "outputs": [],
   "source": [
    "spectral_model_pwl = PowerLawSpectralModel(\n",
    "    index=2, amplitude=\"1e-12 TeV-1 cm-2 s-1\", reference=\"1 TeV\"\n",
    ")\n",
    "spatial_model_point = PointSpatialModel(\n",
    "    lon_0=\"0 deg\", lat_0=\"0.5 deg\", frame=\"galactic\"\n",
    ")\n",
    "sky_model_pntpwl = SkyModel(\n",
    "    spectral_model=spectral_model_pwl,\n",
    "    spatial_model=spatial_model_point,\n",
    "    name=\"point-pwl\",\n",
    ")\n",
    "\n",
    "models_pntpwl = Models([sky_model_pntpwl])\n",
    "\n",
    "file_model = \"./event_sampling/point-pwl.yaml\"\n",
    "models_pntpwl.write(file_model, overwrite=True)"
   ]
  },
  {
   "cell_type": "markdown",
   "metadata": {},
   "source": [
    "### Sampling the source and background events"
   ]
  },
  {
   "cell_type": "markdown",
   "metadata": {},
   "source": [
    "Now, we can finally add the `~gammapy.modeling.models.SkyModel` we want to event-sample to the `~gammapy.datasets.Dataset` container:"
   ]
  },
  {
   "cell_type": "code",
   "execution_count": 8,
   "metadata": {},
   "outputs": [
    {
     "name": "stdout",
     "output_type": "stream",
     "text": [
      "Models\n",
      "\n",
      "Component 0: BackgroundModel\n",
      "\n",
      "  Name                      : 5x1qxXyj-bkg\n",
      "  Datasets names            : ['5x1qxXyj']\n",
      "  Parameters:\n",
      "    norm                    :   1.000              \n",
      "    tilt         (frozen)   :   0.000              \n",
      "    reference    (frozen)   :   1.000  TeV         \n",
      "\n",
      "Component 1: SkyModel\n",
      "\n",
      "  Name                      : point-pwl\n",
      "  Datasets names            : None\n",
      "  Spectral model type       : PowerLawSpectralModel\n",
      "  Spatial  model type       : PointSpatialModel\n",
      "  Temporal model type       : None\n",
      "  Parameters:\n",
      "    index                   :   2.000              \n",
      "    amplitude               :   1.00e-12  1 / (cm2 s TeV)\n",
      "    reference    (frozen)   :   1.000  TeV         \n",
      "    lon_0                   :   0.000  deg         \n",
      "    lat_0                   :   0.500  deg         \n",
      "\n",
      "\n"
     ]
    }
   ],
   "source": [
    "dataset.models.extend(models_pntpwl)\n",
    "print(dataset.models)"
   ]
  },
  {
   "cell_type": "markdown",
   "metadata": {},
   "source": [
    "The next step shows how to sample the events with the `~gammapy.datasets.MapDatasetEventSampler` class. The class requests a random number seed generator (that we set with `random_state=0`), the `~gammapy.datasets.Dataset` and the `gammapy.data.Observations` object. From the latter, the `~gammapy.datasets.MapDatasetEventSampler` class takes all the meta data information."
   ]
  },
  {
   "cell_type": "code",
   "execution_count": 9,
   "metadata": {},
   "outputs": [
    {
     "name": "stdout",
     "output_type": "stream",
     "text": [
      "CPU times: user 1.08 s, sys: 96.6 ms, total: 1.17 s\n",
      "Wall time: 1.18 s\n"
     ]
    }
   ],
   "source": [
    "%%time\n",
    "sampler = MapDatasetEventSampler(random_state=0)\n",
    "events = sampler.run(dataset, observation)"
   ]
  },
  {
   "cell_type": "markdown",
   "metadata": {},
   "source": [
    "The output of the event-sampler is an event list with coordinates, energies and time of arrivals of the source and background events. Source and background events are flagged by the MC_ID identifier (where 0 is the default identifier for the background)."
   ]
  },
  {
   "cell_type": "code",
   "execution_count": 10,
   "metadata": {},
   "outputs": [
    {
     "name": "stdout",
     "output_type": "stream",
     "text": [
      "Source events: 178\n",
      "Background events: 11804\n"
     ]
    }
   ],
   "source": [
    "print(f\"Source events: {(events.table['MC_ID'] == 2).sum()}\")\n",
    "print(f\"Background events: {(events.table['MC_ID'] == 0).sum()}\")"
   ]
  },
  {
   "cell_type": "markdown",
   "metadata": {},
   "source": [
    "We can inspect the properties of the simulated events as follows:"
   ]
  },
  {
   "cell_type": "code",
   "execution_count": 11,
   "metadata": {},
   "outputs": [
    {
     "data": {
      "image/png": "[encoded data removed]",
      "text/plain": [
       "<Figure size 864x576 with 6 Axes>"
      ]
     },
     "metadata": {
      "needs_background": "light"
     },
     "output_type": "display_data"
    }
   ],
   "source": [
    "events.peek()"
   ]
  },
  {
   "cell_type": "markdown",
   "metadata": {},
   "source": [
    "By default, the `~gammapy.datasets.MapDatasetEventSampler` fills the metadata keyword `OBJECT` in the event list using the first model of the SkyModel object. You can change it with the following commands:"
   ]
  },
  {
   "cell_type": "code",
   "execution_count": 12,
   "metadata": {},
   "outputs": [],
   "source": [
    "events.table.meta[\"OBJECT\"] = dataset.models[1].name"
   ]
  },
  {
   "cell_type": "markdown",
   "metadata": {},
   "source": [
    "Let's write the event list and its GTI extension to a FITS file. We make use of `fits` library in `astropy`:"
   ]
  },
  {
   "cell_type": "code",
   "execution_count": 13,
   "metadata": {},
   "outputs": [],
   "source": [
    "primary_hdu = fits.PrimaryHDU()\n",
    "hdu_evt = fits.BinTableHDU(events.table)\n",
    "hdu_gti = fits.BinTableHDU(dataset.gti.table, name=\"GTI\")\n",
    "hdu_all = fits.HDUList([primary_hdu, hdu_evt, hdu_gti])\n",
    "hdu_all.writeto(\"./event_sampling/events_0001.fits\", overwrite=True)"
   ]
  },
  {
   "cell_type": "markdown",
   "metadata": {},
   "source": [
    "#### Generate a skymap\n",
    "A skymap of the simulated events can be obtained with:"
   ]
  },
  {
   "cell_type": "code",
   "execution_count": 14,
   "metadata": {},
   "outputs": [
    {
     "data": {
      "image/png": "[encoded data removed]",
      "text/plain": [
       "<Figure size 432x288 with 2 Axes>"
      ]
     },
     "metadata": {
      "needs_background": "light"
     },
     "output_type": "display_data"
    }
   ],
   "source": [
    "counts = Map.create(\n",
    "    frame=\"galactic\", skydir=(0, 0.0), binsz=0.02, npix=(100, 100)\n",
    ")\n",
    "counts.fill_events(events)\n",
    "counts.plot(add_cbar=True);"
   ]
  },
  {
   "cell_type": "markdown",
   "metadata": {},
   "source": [
    "#### Fit the simulated data\n",
    "We can now check the sake of the event sampling by fitting the data (a tutorial of source fitting is [here](https://docs.gammapy.org/dev/notebooks/analysis_2.html#Fit-the-model) and [here](https://docs.gammapy.org/dev/notebooks/simulate_3d)). We make use of the same `~gammapy.modeling.models.Models` adopted for the simulation. \n",
    "Hence, we firstly read the `~gammapy.datasets.Dataset` and the model file, and we fill the `~gammapy.datasets.Dataset` with the sampled events."
   ]
  },
  {
   "cell_type": "code",
   "execution_count": 15,
   "metadata": {},
   "outputs": [],
   "source": [
    "dataset = MapDataset.read(\"./event_sampling/dataset.fits\")\n",
    "models_sim_point = Models.read(\"./event_sampling/point-pwl.yaml\")\n",
    "\n",
    "counts = Map.from_geom(WCS_GEOM)\n",
    "counts.fill_events(events)\n",
    "\n",
    "dataset.counts = counts\n",
    "dataset.models.extend(models_sim_point)"
   ]
  },
  {
   "cell_type": "markdown",
   "metadata": {},
   "source": [
    "Let's fit the data and look at the results:"
   ]
  },
  {
   "cell_type": "code",
   "execution_count": 16,
   "metadata": {},
   "outputs": [
    {
     "name": "stdout",
     "output_type": "stream",
     "text": [
      "------------------------------------------------------------------\n",
      "| FCN = 7.137E+04               |     Ncalls=100 (100 total)     |\n",
      "| EDM = 2.26E-05 (Goal: 1E-05)  |            up = 1.0            |\n",
      "------------------------------------------------------------------\n",
      "|  Valid Min.   | Valid Param.  | Above EDM | Reached call limit |\n",
      "------------------------------------------------------------------\n",
      "|     True      |     True      |   False   |       False        |\n",
      "------------------------------------------------------------------\n",
      "| Hesse failed  |   Has cov.    | Accurate  | Pos. def. | Forced |\n",
      "------------------------------------------------------------------\n",
      "|     False     |     True      |   True    |   True    | False  |\n",
      "------------------------------------------------------------------\n",
      "OptimizeResult\n",
      "\n",
      "\tbackend    : minuit\n",
      "\tmethod     : minuit\n",
      "\tsuccess    : True\n",
      "\tmessage    : Optimization terminated successfully.\n",
      "\tnfev       : 100\n",
      "\ttotal stat : 71371.11\n",
      "\n",
      "CPU times: user 13.2 s, sys: 601 ms, total: 13.8 s\n",
      "Wall time: 13.9 s\n"
     ]
    }
   ],
   "source": [
    "%%time\n",
    "fit = Fit([dataset])\n",
    "result = fit.run(optimize_opts={\"print_level\": 1})\n",
    "print(result)"
   ]
  },
  {
   "cell_type": "code",
   "execution_count": 17,
   "metadata": {},
   "outputs": [
    {
     "data": {
      "text/html": [
       "<i>Table length=8</i>\n",
       "<table id=\"table4852313952\" class=\"table-striped table-bordered table-condensed\">\n",
       "<thead><tr><th>name</th><th>value</th><th>unit</th><th>min</th><th>max</th><th>frozen</th><th>error</th></tr></thead>\n",
       "<thead><tr><th>str9</th><th>float64</th><th>str14</th><th>float64</th><th>float64</th><th>bool</th><th>float64</th></tr></thead>\n",
       "<tr><td>norm</td><td>9.894e-01</td><td></td><td>0.000e+00</td><td>nan</td><td>False</td><td>9.154e-03</td></tr>\n",
       "<tr><td>tilt</td><td>0.000e+00</td><td></td><td>nan</td><td>nan</td><td>True</td><td>0.000e+00</td></tr>\n",
       "<tr><td>reference</td><td>1.000e+00</td><td>TeV</td><td>nan</td><td>nan</td><td>True</td><td>0.000e+00</td></tr>\n",
       "<tr><td>index</td><td>1.998e+00</td><td></td><td>nan</td><td>nan</td><td>False</td><td>6.349e-02</td></tr>\n",
       "<tr><td>amplitude</td><td>1.042e-12</td><td>cm-2 s-1 TeV-1</td><td>nan</td><td>nan</td><td>False</td><td>9.926e-14</td></tr>\n",
       "<tr><td>reference</td><td>1.000e+00</td><td>TeV</td><td>nan</td><td>nan</td><td>True</td><td>0.000e+00</td></tr>\n",
       "<tr><td>lon_0</td><td>1.272e-03</td><td>deg</td><td>nan</td><td>nan</td><td>False</td><td>3.447e-03</td></tr>\n",
       "<tr><td>lat_0</td><td>5.022e-01</td><td>deg</td><td>-9.000e+01</td><td>9.000e+01</td><td>False</td><td>3.424e-03</td></tr>\n",
       "</table>"
      ],
      "text/plain": [
       "<Table length=8>\n",
       "   name     value        unit         min        max    frozen   error  \n",
       "   str9    float64      str14       float64    float64   bool   float64 \n",
       "--------- --------- -------------- ---------- --------- ------ ---------\n",
       "     norm 9.894e-01                 0.000e+00       nan  False 9.154e-03\n",
       "     tilt 0.000e+00                       nan       nan   True 0.000e+00\n",
       "reference 1.000e+00            TeV        nan       nan   True 0.000e+00\n",
       "    index 1.998e+00                       nan       nan  False 6.349e-02\n",
       "amplitude 1.042e-12 cm-2 s-1 TeV-1        nan       nan  False 9.926e-14\n",
       "reference 1.000e+00            TeV        nan       nan   True 0.000e+00\n",
       "    lon_0 1.272e-03            deg        nan       nan  False 3.447e-03\n",
       "    lat_0 5.022e-01            deg -9.000e+01 9.000e+01  False 3.424e-03"
      ]
     },
     "execution_count": 17,
     "metadata": {},
     "output_type": "execute_result"
    }
   ],
   "source": [
    "result.parameters.to_table()"
   ]
  },
  {
   "cell_type": "markdown",
   "metadata": {},
   "source": [
    "The results looks great!"
   ]
  },
  {
   "cell_type": "markdown",
   "metadata": {},
   "source": [
    "## Extended source using a template\n",
    "The event sampler can also work with a template model.\n",
    "Here we use the interstellar emission model map of the Fermi 3FHL, which can be found in the GAMMAPY data repository.\n",
    "\n",
    "We proceed following the same steps showed above and we finally have a look at the event's properties:"
   ]
  },
  {
   "cell_type": "code",
   "execution_count": 18,
   "metadata": {},
   "outputs": [],
   "source": [
    "diffuse = SkyDiffuseCube.read(\n",
    "    \"$GAMMAPY_DATA/fermi-3fhl-gc/gll_iem_v06_gc.fits.gz\"\n",
    ")\n",
    "models_diffuse = Models([diffuse])\n",
    "\n",
    "file_model = \"./event_sampling/diffuse.yaml\"\n",
    "models_diffuse.write(file_model, overwrite=True)"
   ]
  },
  {
   "cell_type": "code",
   "execution_count": 19,
   "metadata": {},
   "outputs": [
    {
     "name": "stdout",
     "output_type": "stream",
     "text": [
      "Models\n",
      "\n",
      "Component 0: BackgroundModel\n",
      "\n",
      "  Name                      : avWdQV1s-bkg\n",
      "  Datasets names            : ['avWdQV1s']\n",
      "  Parameters:\n",
      "    norm                    :   1.000              \n",
      "    tilt         (frozen)   :   0.000              \n",
      "    reference    (frozen)   :   1.000  TeV         \n",
      "\n",
      "Component 1: SkyDiffuseCube\n",
      "\n",
      "  Name                      : gll_iem_v06_gc.fits\n",
      "  Datasets names            : None\n",
      "  Parameters:\n",
      "    norm                    :   1.000              \n",
      "    tilt         (frozen)   :   0.000              \n",
      "    reference    (frozen)   :   1.000  TeV         \n",
      "\n",
      "\n"
     ]
    }
   ],
   "source": [
    "dataset = MapDataset.read(\"./event_sampling/dataset.fits\")\n",
    "dataset.models.extend(models_diffuse)\n",
    "print(dataset.models)"
   ]
  },
  {
   "cell_type": "code",
   "execution_count": 20,
   "metadata": {},
   "outputs": [
    {
     "name": "stdout",
     "output_type": "stream",
     "text": [
      "CPU times: user 2.66 s, sys: 494 ms, total: 3.15 s\n",
      "Wall time: 3.16 s\n"
     ]
    }
   ],
   "source": [
    "%%time\n",
    "sampler = MapDatasetEventSampler(random_state=0)\n",
    "events = sampler.run(dataset, observation)"
   ]
  },
  {
   "cell_type": "code",
   "execution_count": 21,
   "metadata": {},
   "outputs": [
    {
     "data": {
      "image/png": "[encoded data removed]",
      "text/plain": [
       "<Figure size 864x576 with 6 Axes>"
      ]
     },
     "metadata": {
      "needs_background": "light"
     },
     "output_type": "display_data"
    }
   ],
   "source": [
    "events.peek()"
   ]
  },
  {
   "cell_type": "markdown",
   "metadata": {},
   "source": [
    "### Simulate mutiple event list\n",
    "In some user case, you may want to sample events from a number of observations. \n",
    "In this section, we show how to simulate a set of event lists. For simplicity we consider only one point-like source, observed three times for 1 hr and assuming the same pointing position.\n",
    "\n",
    "Let's firstly define the time start and the livetime of each observation:"
   ]
  },
  {
   "cell_type": "code",
   "execution_count": 22,
   "metadata": {},
   "outputs": [],
   "source": [
    "tstarts = [1, 5, 7] * u.hr\n",
    "livetimes = [1, 1, 1] * u.hr"
   ]
  },
  {
   "cell_type": "code",
   "execution_count": 23,
   "metadata": {},
   "outputs": [],
   "source": [
    "for idx, tstart in enumerate(tstarts):\n",
    "\n",
    "    observation = Observation.create(\n",
    "        obs_id=idx,\n",
    "        pointing=POINTING,\n",
    "        tstart=tstart,\n",
    "        livetime=livetimes[idx],\n",
    "        irfs=irfs,\n",
    "    )\n",
    "\n",
    "    dataset = maker.run(empty, observation)\n",
    "    dataset.models.extend(models_pntpwl)\n",
    "\n",
    "    sampler = MapDatasetEventSampler(random_state=idx)\n",
    "    events = sampler.run(dataset, observation)\n",
    "    events.table.write(\n",
    "        f\"./event_sampling/events_{idx:04d}.fits\", overwrite=True\n",
    "    )"
   ]
  },
  {
   "cell_type": "markdown",
   "metadata": {},
   "source": [
    "You can now load the event list with `Datastore.from_events_files()` and make your own analysis following the instructions in the [`analysis_2`](analysis_2.ipynb) tutorial."
   ]
  },
  {
   "cell_type": "code",
   "execution_count": 24,
   "metadata": {},
   "outputs": [
    {
     "data": {
      "text/html": [
       "<i>ObservationTable length=3</i>\n",
       "<table id=\"table4829296400\" class=\"table-striped table-bordered table-condensed\">\n",
       "<thead><tr><th>OBS_ID</th><th>RA_PNT</th><th>DEC_PNT</th><th>GLON_PNT</th><th>GLAT_PNT</th><th>ZEN_PNT</th><th>ALT_PNT</th><th>AZ_PNT</th><th>ONTIME</th><th>LIVETIME</th><th>DEADC</th><th>TSTART</th><th>TSTOP</th><th>DATE-OBS</th><th>TIME-OBS</th><th>DATE-END</th><th>TIME-END</th><th>N_TELS</th><th>OBJECT</th><th>TELESCOP</th><th>CALDB</th><th>IRF</th><th>EVENTS_FILENAME</th><th>EVENT_COUNT</th></tr></thead>\n",
       "<thead><tr><th></th><th>deg</th><th>deg</th><th>deg</th><th>deg</th><th>deg</th><th>deg</th><th>deg</th><th>s</th><th>s</th><th></th><th>s</th><th>s</th><th></th><th></th><th></th><th></th><th></th><th></th><th></th><th></th><th></th><th></th><th></th></tr></thead>\n",
       "<thead><tr><th>int64</th><th>float64</th><th>float64</th><th>float64</th><th>float64</th><th>float64</th><th>str6</th><th>str5</th><th>float64</th><th>float64</th><th>float64</th><th>float64</th><th>float64</th><th>str13</th><th>str13</th><th>str13</th><th>str13</th><th>str1</th><th>str9</th><th>str3</th><th>str3</th><th>str12</th><th>str31</th><th>int64</th></tr></thead>\n",
       "<tr><td>2</td><td>266.4049882865447</td><td>-28.93617776179147</td><td>0.0</td><td>4.4527765540489235e-14</td><td>70.0</td><td>20.000</td><td>0.000</td><td>3600.0</td><td>3600.0</td><td>0.0</td><td>25199.99999979045</td><td>28800.00000020955</td><td>NOT AVAILABLE</td><td>NOT AVAILABLE</td><td>NOT AVAILABLE</td><td>NOT AVAILABLE</td><td></td><td>point-pwl</td><td>CTA</td><td>1dc</td><td>South_z20_50</td><td>event_sampling/events_0002.fits</td><td>12232</td></tr>\n",
       "<tr><td>0</td><td>266.4049882865447</td><td>-28.93617776179147</td><td>0.0</td><td>4.4527765540489235e-14</td><td>70.0</td><td>20.000</td><td>0.000</td><td>3600.0</td><td>3600.0</td><td>0.0</td><td>3599.999999790452</td><td>7200.000000209548</td><td>NOT AVAILABLE</td><td>NOT AVAILABLE</td><td>NOT AVAILABLE</td><td>NOT AVAILABLE</td><td></td><td>point-pwl</td><td>CTA</td><td>1dc</td><td>South_z20_50</td><td>event_sampling/events_0000.fits</td><td>11982</td></tr>\n",
       "<tr><td>1</td><td>266.4049882865447</td><td>-28.93617776179147</td><td>0.0</td><td>4.4527765540489235e-14</td><td>70.0</td><td>20.000</td><td>0.000</td><td>3600.0</td><td>3600.0</td><td>0.0</td><td>18000.00000020955</td><td>21600.0</td><td>NOT AVAILABLE</td><td>NOT AVAILABLE</td><td>NOT AVAILABLE</td><td>NOT AVAILABLE</td><td></td><td>point-pwl</td><td>CTA</td><td>1dc</td><td>South_z20_50</td><td>event_sampling/events_0001.fits</td><td>12171</td></tr>\n",
       "</table>"
      ],
      "text/plain": [
       "<ObservationTable length=3>\n",
       "OBS_ID       RA_PNT      ...         EVENTS_FILENAME         EVENT_COUNT\n",
       "              deg        ...                                            \n",
       "int64       float64      ...              str31                 int64   \n",
       "------ ----------------- ... ------------------------------- -----------\n",
       "     2 266.4049882865447 ... event_sampling/events_0002.fits       12232\n",
       "     0 266.4049882865447 ... event_sampling/events_0000.fits       11982\n",
       "     1 266.4049882865447 ... event_sampling/events_0001.fits       12171"
      ]
     },
     "execution_count": 24,
     "metadata": {},
     "output_type": "execute_result"
    }
   ],
   "source": [
    "path = Path(\"./event_sampling/\")\n",
    "paths = list(path.rglob(\"events*.fits\"))\n",
    "data_store = DataStore.from_events_files(paths)\n",
    "data_store.obs_table"
   ]
  },
  {
   "cell_type": "markdown",
   "metadata": {},
   "source": [
    "<!-- ## Read simulated event lists with Datastore.from_events_lists\n",
    "Here we show how to simulate a set of event lists of the same Sky model, but with different GTIs. We make use of the settings we applied previously.\n",
    "Let's define the GTI firstly, chosing a time start and a duration of the observation: -->"
   ]
  },
  {
   "cell_type": "markdown",
   "metadata": {},
   "source": [
    "## Exercises\n",
    "- Try to sample events for an extended source (e.g. a radial gaussian morphology);\n",
    "- Change the spatial model and the spectrum of the simulated Sky model;\n",
    "- Include a temporal model in the simulation"
   ]
  }
 ],
 "metadata": {
  "kernelspec": {
   "display_name": "Python 3",
   "language": "python",
   "name": "python3"
  },
  "language_info": {
   "codemirror_mode": {
    "name": "ipython",
    "version": 3
   },
   "file_extension": ".py",
   "mimetype": "text/x-python",
   "name": "python",
   "nbconvert_exporter": "python",
   "pygments_lexer": "ipython3",
   "version": "3.7.0"
  },
  "nbsphinx": {
   "orphan": true
  }
 },
 "nbformat": 4,
 "nbformat_minor": 4
}
