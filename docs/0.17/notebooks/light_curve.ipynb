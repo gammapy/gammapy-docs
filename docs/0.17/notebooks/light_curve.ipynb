{
 "cells": [
  {
   "cell_type": "markdown",
   "metadata": {},
   "source": [
    "\n",
    "<div class=\"alert alert-info\">\n",
    "\n",
    "**This is a fixed-text formatted version of a Jupyter notebook**\n",
    "\n",
    "- Try online [![Binder](https://static.mybinder.org/badge.svg)](https://mybinder.org/v2/gh/gammapy/gammapy-webpage/v0.17?urlpath=lab/tree/light_curve.ipynb)\n",
    "- You can contribute with your own notebooks in this\n",
    "[GitHub repository](https://github.com/gammapy/gammapy/tree/master/tutorials).\n",
    "- **Source files:**\n",
    "[light_curve.ipynb](../_static/notebooks/light_curve.ipynb) |\n",
    "[light_curve.py](../_static/notebooks/light_curve.py)\n",
    "</div>\n"
   ]
  },
  {
   "cell_type": "markdown",
   "metadata": {},
   "source": [
    "# Light curve estimation\n",
    "\n",
    "## Prerequisites\n",
    "\n",
    "- Knowledge of the high level interface to perform data reduction, see [first gammapy analysis with the high level interface tutorial](analysis_1.ipynb)\n",
    "\n",
    "## Context\n",
    "\n",
    "This tutorial presents how light curve extraction is performed in gammapy, i.e. how to measure the flux of a source\n",
    "in different time bins.\n",
    "\n",
    "Cherenkov telescopes usually work with observing runs and distribute data according to this basic time interval. A typical use case is to look for variability of a source on various time binnings: observation run-wise binning, nightly, weekly etc.\n",
    "\n",
    "**Objective: The Crab nebula is not known to be variable at TeV energies, so we expect constant brightness within statistical and systematic errors. Compute per-observation and nightly fluxes of the four Crab nebula observations from the [H.E.S.S. first public test data release](https://www.mpi-hd.mpg.de/hfm/HESS/pages/dl3-dr1/) to check it.**\n",
    "\n",
    "## Proposed approach\n",
    "\n",
    "We will demonstrate how to compute a `~gammapy.estimators.LightCurve` from 3D reduced datasets (`~gammapy.datasets.MapDataset`) as well as 1D ON-OFF spectral datasets (`~gammapy.datasets.SpectrumDatasetOnOff`). \n",
    "\n",
    "The data reduction will be performed with the high level interface for the data reduction. Then we will use the `~gammapy.estimators.LightCurveEstimator` class, which  is able to extract a light curve independently of the dataset type. \n",
    "\n"
   ]
  },
  {
   "cell_type": "markdown",
   "metadata": {},
   "source": [
    "## Setup\n",
    "\n",
    "As usual, we'll start with some general imports..."
   ]
  },
  {
   "cell_type": "code",
   "execution_count": 1,
   "metadata": {},
   "outputs": [],
   "source": [
    "%matplotlib inline\n",
    "import matplotlib.pyplot as plt\n",
    "\n",
    "import astropy.units as u\n",
    "from astropy.coordinates import SkyCoord\n",
    "import logging\n",
    "\n",
    "from astropy.time import Time\n",
    "\n",
    "log = logging.getLogger(__name__)"
   ]
  },
  {
   "cell_type": "markdown",
   "metadata": {},
   "source": [
    "Now let's import gammapy specific classes and functions"
   ]
  },
  {
   "cell_type": "code",
   "execution_count": 2,
   "metadata": {},
   "outputs": [],
   "source": [
    "from gammapy.modeling.models import PowerLawSpectralModel\n",
    "from gammapy.modeling.models import PointSpatialModel\n",
    "from gammapy.modeling.models import SkyModel, Models\n",
    "from gammapy.estimators import LightCurveEstimator\n",
    "from gammapy.analysis import Analysis, AnalysisConfig"
   ]
  },
  {
   "cell_type": "markdown",
   "metadata": {},
   "source": [
    "## Analysis configuration \n",
    "For the 1D and 3D extraction, we will use the same CrabNebula configuration than in the notebook analysis_1.ipynb using the high level interface of Gammapy.\n",
    "\n",
    "From the high level interface, the data reduction for those observations is performed as followed"
   ]
  },
  {
   "cell_type": "markdown",
   "metadata": {},
   "source": [
    "### Building the 3D analysis configuration\n"
   ]
  },
  {
   "cell_type": "code",
   "execution_count": 3,
   "metadata": {},
   "outputs": [],
   "source": [
    "conf_3d = AnalysisConfig()"
   ]
  },
  {
   "cell_type": "markdown",
   "metadata": {},
   "source": [
    "#### Definition of the data selection\n",
    "\n",
    "Here we use the Crab runs from the HESS DL3 data release 1"
   ]
  },
  {
   "cell_type": "code",
   "execution_count": 4,
   "metadata": {},
   "outputs": [],
   "source": [
    "conf_3d.observations.obs_ids = [23523, 23526, 23559, 23592]"
   ]
  },
  {
   "cell_type": "markdown",
   "metadata": {},
   "source": [
    "#### Definition of the dataset geometry"
   ]
  },
  {
   "cell_type": "code",
   "execution_count": 5,
   "metadata": {},
   "outputs": [],
   "source": [
    "# We want a 3D analysis\n",
    "conf_3d.datasets.type = \"3d\"\n",
    "\n",
    "# We want to extract the data by observation and therefore to not stack them\n",
    "conf_3d.datasets.stack = False\n",
    "\n",
    "# Here is the WCS geometry of the Maps\n",
    "conf_3d.datasets.geom.wcs.skydir = dict(\n",
    "    frame=\"icrs\", lon=83.63308 * u.deg, lat=22.01450 * u.deg\n",
    ")\n",
    "conf_3d.datasets.geom.wcs.binsize = 0.02 * u.deg\n",
    "conf_3d.datasets.geom.wcs.fov = dict(width=1 * u.deg, height=1 * u.deg)\n",
    "\n",
    "# We define a value for the IRF Maps binsize\n",
    "conf_3d.datasets.geom.wcs.binsize_irf = 0.2 * u.deg\n",
    "\n",
    "# Define energy binning for the Maps\n",
    "conf_3d.datasets.geom.axes.energy = dict(\n",
    "    min=0.7 * u.TeV, max=10 * u.TeV, nbins=5\n",
    ")\n",
    "conf_3d.datasets.geom.axes.energy_true = dict(\n",
    "    min=0.3 * u.TeV, max=20 * u.TeV, nbins=10\n",
    ")"
   ]
  },
  {
   "cell_type": "markdown",
   "metadata": {},
   "source": [
    "### Run the 3D data reduction"
   ]
  },
  {
   "cell_type": "code",
   "execution_count": 6,
   "metadata": {},
   "outputs": [
    {
     "name": "stderr",
     "output_type": "stream",
     "text": [
      "Setting logging config: {'level': 'INFO', 'filename': None, 'filemode': None, 'format': None, 'datefmt': None}\n",
      "Fetching observations.\n",
      "Number of selected observations: 4\n",
      "Creating geometry.\n",
      "Creating datasets.\n",
      "No background maker set for 3d analysis. Check configuration.\n",
      "Processing observation 23523\n",
      "Processing observation 23526\n",
      "Processing observation 23559\n",
      "Processing observation 23592\n"
     ]
    }
   ],
   "source": [
    "analysis_3d = Analysis(conf_3d)\n",
    "analysis_3d.get_observations()\n",
    "analysis_3d.get_datasets()"
   ]
  },
  {
   "cell_type": "markdown",
   "metadata": {},
   "source": [
    "### Define the model to be used\n",
    "\n",
    "Here we don't try to fit the model parameters to the whole dataset, but we use predefined values instead. "
   ]
  },
  {
   "cell_type": "code",
   "execution_count": 7,
   "metadata": {},
   "outputs": [],
   "source": [
    "target_position = SkyCoord(ra=83.63308, dec=22.01450, unit=\"deg\")\n",
    "spatial_model = PointSpatialModel(\n",
    "    lon_0=target_position.ra, lat_0=target_position.dec, frame=\"icrs\"\n",
    ")\n",
    "\n",
    "spectral_model = PowerLawSpectralModel(\n",
    "    index=2.702,\n",
    "    amplitude=4.712e-11 * u.Unit(\"1 / (cm2 s TeV)\"),\n",
    "    reference=1 * u.TeV,\n",
    ")\n",
    "\n",
    "sky_model = SkyModel(\n",
    "    spatial_model=spatial_model, spectral_model=spectral_model, name=\"crab\"\n",
    ")\n",
    "# Now we freeze these parameters that we don't want the light curve estimator to change\n",
    "sky_model.parameters[\"index\"].frozen = True\n",
    "sky_model.parameters[\"lon_0\"].frozen = True\n",
    "sky_model.parameters[\"lat_0\"].frozen = True"
   ]
  },
  {
   "cell_type": "markdown",
   "metadata": {},
   "source": [
    "We assign them the model to be fitted to each dataset"
   ]
  },
  {
   "cell_type": "code",
   "execution_count": 8,
   "metadata": {},
   "outputs": [
    {
     "name": "stderr",
     "output_type": "stream",
     "text": [
      "Reading model.\n",
      "Models\n",
      "\n",
      "Component 0: SkyModel\n",
      "\n",
      "  Name                      : crab\n",
      "  Datasets names            : None\n",
      "  Spectral model type       : PowerLawSpectralModel\n",
      "  Spatial  model type       : PointSpatialModel\n",
      "  Temporal model type       : None\n",
      "  Parameters:\n",
      "    index        (frozen)   :   2.702              \n",
      "    amplitude               :   4.71e-11  1 / (cm2 s TeV)\n",
      "    reference    (frozen)   :   1.000  TeV         \n",
      "    lon_0        (frozen)   :  83.633  deg         \n",
      "    lat_0        (frozen)   :  22.015  deg         \n",
      "\n",
      "\n"
     ]
    }
   ],
   "source": [
    "models = Models([sky_model])\n",
    "analysis_3d.set_models(models)"
   ]
  },
  {
   "cell_type": "markdown",
   "metadata": {},
   "source": [
    "## Light Curve estimation: by observation\n",
    "\n",
    "We can now create the light curve estimator.\n",
    "\n",
    "We pass it the list of datasets and the name of the model component for which we want to build the light curve. \n",
    "We can optionally ask for parameters reoptimization during fit, that is most of the time to fit background normalization in each time bin. \n",
    "\n",
    "If we don't set any time interval, the `~gammapy.time.LightCurveEstimator` is determines the flux of each dataset and places it at the corresponding time in the light curve. \n",
    "Here one dataset equals to one observing run."
   ]
  },
  {
   "cell_type": "code",
   "execution_count": 9,
   "metadata": {},
   "outputs": [],
   "source": [
    "lc_maker_3d = LightCurveEstimator(\n",
    "    energy_range=[1, 10] * u.TeV, source=\"crab\", reoptimize=False\n",
    ")\n",
    "lc_3d = lc_maker_3d.run(analysis_3d.datasets)"
   ]
  },
  {
   "cell_type": "markdown",
   "metadata": {},
   "source": [
    "The LightCurve object contains a table which we can explore."
   ]
  },
  {
   "cell_type": "code",
   "execution_count": 10,
   "metadata": {},
   "outputs": [
    {
     "data": {
      "text/html": [
       "<i>Table length=4</i>\n",
       "<table id=\"table4415721424\" class=\"table-striped table-bordered table-condensed\">\n",
       "<thead><tr><th>time_min</th><th>time_max</th><th>e_min</th><th>e_max</th><th>flux</th><th>flux_err</th></tr></thead>\n",
       "<thead><tr><th></th><th></th><th>TeV</th><th>TeV</th><th>1 / (cm2 s)</th><th>1 / (cm2 s)</th></tr></thead>\n",
       "<thead><tr><th>float64</th><th>float64</th><th>float64</th><th>float64</th><th>float64</th><th>float64</th></tr></thead>\n",
       "<tr><td>53343.92234009259</td><td>53343.94186555556</td><td>1.0</td><td>10.0</td><td>2.6779643094879604e-11</td><td>2.775921929654896e-12</td></tr>\n",
       "<tr><td>53343.95421509259</td><td>53343.97369425926</td><td>1.0</td><td>10.0</td><td>2.721545565003662e-11</td><td>2.8188680454633786e-12</td></tr>\n",
       "<tr><td>53345.96198129629</td><td>53345.98149518518</td><td>1.0</td><td>10.0</td><td>2.8162768142950586e-11</td><td>2.5030802475931698e-12</td></tr>\n",
       "<tr><td>53347.913196574074</td><td>53347.93271046296</td><td>1.0</td><td>10.0</td><td>3.32315240377972e-11</td><td>3.8518133079264055e-12</td></tr>\n",
       "</table>"
      ],
      "text/plain": [
       "<Table length=4>\n",
       "     time_min           time_max     ...        flux_err       \n",
       "                                     ...      1 / (cm2 s)      \n",
       "     float64            float64      ...        float64        \n",
       "------------------ ----------------- ... ----------------------\n",
       " 53343.92234009259 53343.94186555556 ...  2.775921929654896e-12\n",
       " 53343.95421509259 53343.97369425926 ... 2.8188680454633786e-12\n",
       " 53345.96198129629 53345.98149518518 ... 2.5030802475931698e-12\n",
       "53347.913196574074 53347.93271046296 ... 3.8518133079264055e-12"
      ]
     },
     "execution_count": 10,
     "metadata": {},
     "output_type": "execute_result"
    }
   ],
   "source": [
    "lc_3d.table[\"time_min\", \"time_max\", \"e_min\", \"e_max\", \"flux\", \"flux_err\"]"
   ]
  },
  {
   "cell_type": "markdown",
   "metadata": {},
   "source": [
    "## Running the light curve extraction in 1D"
   ]
  },
  {
   "cell_type": "markdown",
   "metadata": {},
   "source": [
    "### Building the 1D analysis configuration\n"
   ]
  },
  {
   "cell_type": "code",
   "execution_count": 11,
   "metadata": {},
   "outputs": [],
   "source": [
    "conf_1d = AnalysisConfig()"
   ]
  },
  {
   "cell_type": "markdown",
   "metadata": {},
   "source": [
    "#### Definition of the data selection\n",
    "\n",
    "Here we use the Crab runs from the HESS DL3 data release 1"
   ]
  },
  {
   "cell_type": "code",
   "execution_count": 12,
   "metadata": {},
   "outputs": [],
   "source": [
    "conf_1d.observations.obs_ids = [23523, 23526, 23559, 23592]"
   ]
  },
  {
   "cell_type": "markdown",
   "metadata": {},
   "source": [
    "#### Definition of the dataset geometry"
   ]
  },
  {
   "cell_type": "code",
   "execution_count": 13,
   "metadata": {},
   "outputs": [],
   "source": [
    "# We want a 1D analysis\n",
    "conf_1d.datasets.type = \"1d\"\n",
    "\n",
    "# We want to extract the data by observation and therefore to not stack them\n",
    "conf_1d.datasets.stack = False\n",
    "\n",
    "# Here we define the ON region and make sure that PSF leakage is corrected\n",
    "conf_1d.datasets.on_region = dict(\n",
    "    frame=\"icrs\",\n",
    "    lon=83.63308 * u.deg,\n",
    "    lat=22.01450 * u.deg,\n",
    "    radius=0.1 * u.deg,\n",
    ")\n",
    "conf_1d.datasets.containment_correction = True\n",
    "\n",
    "# Finally we define the energy binning for the spectra\n",
    "conf_1d.datasets.geom.axes.energy = dict(\n",
    "    min=0.7 * u.TeV, max=10 * u.TeV, nbins=20\n",
    ")\n",
    "conf_1d.datasets.geom.axes.energy_true = dict(\n",
    "    min=0.3 * u.TeV, max=20 * u.TeV, nbins=40\n",
    ")"
   ]
  },
  {
   "cell_type": "markdown",
   "metadata": {},
   "source": [
    "### Run the 1D data reduction"
   ]
  },
  {
   "cell_type": "code",
   "execution_count": 14,
   "metadata": {},
   "outputs": [
    {
     "name": "stderr",
     "output_type": "stream",
     "text": [
      "Setting logging config: {'level': 'INFO', 'filename': None, 'filemode': None, 'format': None, 'datefmt': None}\n",
      "Fetching observations.\n",
      "Number of selected observations: 4\n",
      "Reducing spectrum datasets.\n",
      "No background maker set for 1d analysis. Check configuration.\n",
      "Processing observation 23523\n",
      "Processing observation 23526\n",
      "Processing observation 23559\n",
      "Processing observation 23592\n"
     ]
    }
   ],
   "source": [
    "analysis_1d = Analysis(conf_1d)\n",
    "analysis_1d.get_observations()\n",
    "analysis_1d.get_datasets()"
   ]
  },
  {
   "cell_type": "markdown",
   "metadata": {},
   "source": [
    "### Define the model to be used\n",
    "\n",
    "Here we don't try to fit the model parameters to the whole dataset, but we use predefined values instead. "
   ]
  },
  {
   "cell_type": "code",
   "execution_count": 15,
   "metadata": {},
   "outputs": [],
   "source": [
    "target_position = SkyCoord(ra=83.63308, dec=22.01450, unit=\"deg\")\n",
    "spatial_model = PointSpatialModel(\n",
    "    lon_0=target_position.ra, lat_0=target_position.dec, frame=\"icrs\"\n",
    ")\n",
    "\n",
    "spectral_model = PowerLawSpectralModel(\n",
    "    index=2.702,\n",
    "    amplitude=4.712e-11 * u.Unit(\"1 / (cm2 s TeV)\"),\n",
    "    reference=1 * u.TeV,\n",
    ")\n",
    "\n",
    "sky_model = SkyModel(\n",
    "    spatial_model=spatial_model, spectral_model=spectral_model, name=\"crab\"\n",
    ")\n",
    "# Now we freeze these parameters that we don't want the light curve estimator to change\n",
    "sky_model.parameters[\"index\"].frozen = True\n",
    "sky_model.parameters[\"lon_0\"].frozen = True\n",
    "sky_model.parameters[\"lat_0\"].frozen = True"
   ]
  },
  {
   "cell_type": "markdown",
   "metadata": {},
   "source": [
    "We assign the model to be fitted to each dataset. We can use the same `~gammapy.modeling.models.SkyModel` as before."
   ]
  },
  {
   "cell_type": "code",
   "execution_count": 16,
   "metadata": {},
   "outputs": [
    {
     "name": "stderr",
     "output_type": "stream",
     "text": [
      "Reading model.\n",
      "Models\n",
      "\n",
      "Component 0: SkyModel\n",
      "\n",
      "  Name                      : crab\n",
      "  Datasets names            : None\n",
      "  Spectral model type       : PowerLawSpectralModel\n",
      "  Spatial  model type       : PointSpatialModel\n",
      "  Temporal model type       : None\n",
      "  Parameters:\n",
      "    index        (frozen)   :   2.702              \n",
      "    amplitude               :   4.71e-11  1 / (cm2 s TeV)\n",
      "    reference    (frozen)   :   1.000  TeV         \n",
      "    lon_0        (frozen)   :  83.633  deg         \n",
      "    lat_0        (frozen)   :  22.015  deg         \n",
      "\n",
      "\n"
     ]
    }
   ],
   "source": [
    "models = Models([sky_model])\n",
    "analysis_1d.set_models(models)"
   ]
  },
  {
   "cell_type": "markdown",
   "metadata": {},
   "source": [
    "### Extracting the light curve"
   ]
  },
  {
   "cell_type": "code",
   "execution_count": 17,
   "metadata": {},
   "outputs": [],
   "source": [
    "lc_maker_1d = LightCurveEstimator(\n",
    "    energy_range=[1, 10] * u.TeV, source=\"crab\", reoptimize=False\n",
    ")\n",
    "lc_1d = lc_maker_1d.run(analysis_1d.datasets)"
   ]
  },
  {
   "cell_type": "markdown",
   "metadata": {},
   "source": [
    "### Compare results\n",
    "\n",
    "Finally we compare the result for the 1D and 3D lightcurve in a single figure:"
   ]
  },
  {
   "cell_type": "code",
   "execution_count": 18,
   "metadata": {},
   "outputs": [
    {
     "data": {
      "text/plain": [
       "<matplotlib.legend.Legend at 0x1166e38d0>"
      ]
     },
     "execution_count": 18,
     "metadata": {},
     "output_type": "execute_result"
    },
    {
     "data": {
      "image/png": "[encoded data removed]",
      "text/plain": [
       "<Figure size 432x288 with 1 Axes>"
      ]
     },
     "metadata": {
      "needs_background": "light"
     },
     "output_type": "display_data"
    }
   ],
   "source": [
    "ax = lc_1d.plot(marker=\"o\", label=\"1D\")\n",
    "lc_3d.plot(ax=ax, marker=\"o\", label=\"3D\")\n",
    "plt.legend()"
   ]
  },
  {
   "cell_type": "markdown",
   "metadata": {},
   "source": [
    "## Night-wise LC estimation\n",
    "\n",
    "Here we want to extract a night curve per night. We define the time intervals that cover the three nights."
   ]
  },
  {
   "cell_type": "code",
   "execution_count": 19,
   "metadata": {},
   "outputs": [],
   "source": [
    "time_intervals = [\n",
    "    Time([53343.5, 53344.5], format=\"mjd\", scale=\"utc\"),\n",
    "    Time([53345.5, 53346.5], format=\"mjd\", scale=\"utc\"),\n",
    "    Time([53347.5, 53348.5], format=\"mjd\", scale=\"utc\"),\n",
    "]"
   ]
  },
  {
   "cell_type": "markdown",
   "metadata": {},
   "source": [
    "To compute the LC on the time intervals defined above, we pass the `LightCurveEstimator` the list of time intervals. \n",
    "\n",
    "Internally, datasets are grouped per time interval and a flux extraction is performed for each group."
   ]
  },
  {
   "cell_type": "code",
   "execution_count": 20,
   "metadata": {},
   "outputs": [
    {
     "data": {
      "text/plain": [
       "<matplotlib.axes._subplots.AxesSubplot at 0x1164e7b38>"
      ]
     },
     "execution_count": 20,
     "metadata": {},
     "output_type": "execute_result"
    },
    {
     "data": {
      "image/png": "[encoded data removed]",
      "text/plain": [
       "<Figure size 432x288 with 1 Axes>"
      ]
     },
     "metadata": {
      "needs_background": "light"
     },
     "output_type": "display_data"
    }
   ],
   "source": [
    "lc_maker_1d = LightCurveEstimator(\n",
    "    energy_range=[1, 10] * u.TeV,\n",
    "    time_intervals=time_intervals,\n",
    "    source=\"crab\",\n",
    "    reoptimize=False,\n",
    ")\n",
    "\n",
    "nightwise_lc = lc_maker_1d.run(analysis_1d.datasets)\n",
    "\n",
    "nightwise_lc.plot()"
   ]
  },
  {
   "cell_type": "markdown",
   "metadata": {},
   "source": [
    "## What next?\n",
    "\n",
    "When sources are bight enough to look for variability at small time scales, the per-observation time binning is no longer relevant. One can easily extend the light curve estimation approach presented above to any time binning. This is demonstrated in the [following tutorial](light_curve_flare.ipynb) which shows the extraction of the lightcurve of an AGN flare."
   ]
  },
  {
   "cell_type": "code",
   "execution_count": null,
   "metadata": {},
   "outputs": [],
   "source": []
  }
 ],
 "metadata": {
  "kernelspec": {
   "display_name": "Python 3",
   "language": "python",
   "name": "python3"
  },
  "language_info": {
   "codemirror_mode": {
    "name": "ipython",
    "version": 3
   },
   "file_extension": ".py",
   "mimetype": "text/x-python",
   "name": "python",
   "nbconvert_exporter": "python",
   "pygments_lexer": "ipython3",
   "version": "3.7.0"
  },
  "nbsphinx": {
   "orphan": true
  }
 },
 "nbformat": 4,
 "nbformat_minor": 4
}
