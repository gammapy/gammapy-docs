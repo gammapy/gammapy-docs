{
  "cells": [
    {
      "cell_type": "code",
      "execution_count": null,
      "metadata": {
        "collapsed": false
      },
      "outputs": [],
      "source": [
        "%matplotlib inline"
      ]
    },
    {
      "cell_type": "markdown",
      "metadata": {},
      "source": [
        "\n\nLightCurve Temporal Model\n=========================\n\nThis model parametrises a lightCurve time model.\n"
      ]
    },
    {
      "cell_type": "code",
      "execution_count": null,
      "metadata": {
        "collapsed": false
      },
      "outputs": [],
      "source": [
        "from astropy.time import Time"
      ]
    },
    {
      "cell_type": "markdown",
      "metadata": {},
      "source": [
        "YAML representation\n-------------------\nHere is an example YAML file using the model:\n\n"
      ]
    },
    {
      "cell_type": "code",
      "execution_count": null,
      "metadata": {
        "collapsed": false
      },
      "outputs": [],
      "source": [
        "from gammapy.modeling.models import (\n    LightCurveTemplateTemporalModel,\n    Models,\n    PowerLawSpectralModel,\n    SkyModel,\n)\n\ntime_range = [Time(\"59100\", format=\"mjd\"), Time(\"59365\", format=\"mjd\")]\npath = \"$GAMMAPY_DATA/tests/models/light_curve/lightcrv_PKSB1222+216.fits\"\nlight_curve_model = LightCurveTemplateTemporalModel.read(path)\nlight_curve_model.plot(time_range)\n\n\nmodel = SkyModel(\n    spectral_model=PowerLawSpectralModel(),\n    temporal_model=light_curve_model,\n    name=\"light_curve_model\",\n)\nmodels = Models([model])\n\nprint(models.to_yaml())"
      ]
    }
  ],
  "metadata": {
    "kernelspec": {
      "display_name": "Python 3",
      "language": "python",
      "name": "python3"
    },
    "language_info": {
      "codemirror_mode": {
        "name": "ipython",
        "version": 3
      },
      "file_extension": ".py",
      "mimetype": "text/x-python",
      "name": "python",
      "nbconvert_exporter": "python",
      "pygments_lexer": "ipython3",
      "version": "3.7.0"
    }
  },
  "nbformat": 4,
  "nbformat_minor": 0
}