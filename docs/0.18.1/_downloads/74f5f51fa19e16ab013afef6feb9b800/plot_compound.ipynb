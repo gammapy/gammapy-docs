{
  "cells": [
    {
      "cell_type": "code",
      "execution_count": null,
      "metadata": {
        "collapsed": false
      },
      "outputs": [],
      "source": [
        "%matplotlib inline"
      ]
    },
    {
      "cell_type": "markdown",
      "metadata": {},
      "source": [
        "\n\nCompound Spectral Model\n=======================\n\nThis model is formed by the arithmetic combination of any two other spectral models.\n"
      ]
    },
    {
      "cell_type": "markdown",
      "metadata": {},
      "source": [
        "Example plot\n------------\nHere is an example plot of the model:\n\n"
      ]
    },
    {
      "cell_type": "code",
      "execution_count": null,
      "metadata": {
        "collapsed": false
      },
      "outputs": [],
      "source": [
        "import operator\nfrom astropy import units as u\nimport matplotlib.pyplot as plt\nfrom gammapy.modeling.models import (\n    CompoundSpectralModel,\n    LogParabolaSpectralModel,\n    Models,\n    PowerLawSpectralModel,\n    SkyModel,\n)\n\nenergy_range = [0.1, 100] * u.TeV\npwl = PowerLawSpectralModel(\n    index=2.0, amplitude=\"1e-12 cm-2 s-1 TeV-1\", reference=\"1 TeV\"\n)\nlp = LogParabolaSpectralModel(\n    amplitude=\"1e-12 cm-2 s-1 TeV-1\", reference=\"10 TeV\", alpha=2.0, beta=1.0\n)\nmodel = CompoundSpectralModel(pwl, lp, operator.add)\nmodel.plot(energy_range)\nplt.grid(which=\"both\")"
      ]
    },
    {
      "cell_type": "markdown",
      "metadata": {},
      "source": [
        "YAML representation\n-------------------\nHere is an example YAML file using the model:\n\n"
      ]
    },
    {
      "cell_type": "code",
      "execution_count": null,
      "metadata": {
        "collapsed": false
      },
      "outputs": [],
      "source": [
        "model = SkyModel(spectral_model=model, name=\"compound-model\")\nmodels = Models([model])\n\nprint(models.to_yaml())"
      ]
    }
  ],
  "metadata": {
    "kernelspec": {
      "display_name": "Python 3",
      "language": "python",
      "name": "python3"
    },
    "language_info": {
      "codemirror_mode": {
        "name": "ipython",
        "version": 3
      },
      "file_extension": ".py",
      "mimetype": "text/x-python",
      "name": "python",
      "nbconvert_exporter": "python",
      "pygments_lexer": "ipython3",
      "version": "3.7.0"
    }
  },
  "nbformat": 4,
  "nbformat_minor": 0
}