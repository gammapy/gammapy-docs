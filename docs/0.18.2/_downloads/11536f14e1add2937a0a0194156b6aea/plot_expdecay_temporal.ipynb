{
  "cells": [
    {
      "cell_type": "code",
      "execution_count": null,
      "metadata": {
        "collapsed": false
      },
      "outputs": [],
      "source": [
        "%matplotlib inline"
      ]
    },
    {
      "cell_type": "markdown",
      "metadata": {},
      "source": [
        "\n\nExpDecay Temporal Model\n=======================\n\nThis model parametrises an ExpDecay time model.\n\n\\begin{align}F(t) = exp(t - t_{ref})/t0\\end{align}\n"
      ]
    },
    {
      "cell_type": "markdown",
      "metadata": {},
      "source": [
        "Example plot\n------------\nHere is an example plot of the model:\n\n"
      ]
    },
    {
      "cell_type": "code",
      "execution_count": null,
      "metadata": {
        "collapsed": false
      },
      "outputs": [],
      "source": [
        "from astropy import units as u\nfrom astropy.time import Time\nimport matplotlib.pyplot as plt"
      ]
    },
    {
      "cell_type": "markdown",
      "metadata": {},
      "source": [
        "YAML representation\n-------------------\nHere is an example YAML file using the model:\n\n"
      ]
    },
    {
      "cell_type": "code",
      "execution_count": null,
      "metadata": {
        "collapsed": false
      },
      "outputs": [],
      "source": [
        "from gammapy.modeling.models import (\n    ExpDecayTemporalModel,\n    Models,\n    PowerLawSpectralModel,\n    SkyModel,\n)\n\nt0 = \"5 h\"\nt_ref = Time(\"2020-10-01\")\ntime_range = [t_ref, t_ref + 1 * u.d]\nexpdecay_model = ExpDecayTemporalModel(t_ref=t_ref.mjd * u.d, t0=t0)\nexpdecay_model.plot(time_range)\nplt.grid(which=\"both\")\n\n\nmodel = SkyModel(\n    spectral_model=PowerLawSpectralModel(),\n    temporal_model=expdecay_model,\n    name=\"expdecay_model\",\n)\nmodels = Models([model])\n\nprint(models.to_yaml())"
      ]
    }
  ],
  "metadata": {
    "kernelspec": {
      "display_name": "Python 3",
      "language": "python",
      "name": "python3"
    },
    "language_info": {
      "codemirror_mode": {
        "name": "ipython",
        "version": 3
      },
      "file_extension": ".py",
      "mimetype": "text/x-python",
      "name": "python",
      "nbconvert_exporter": "python",
      "pygments_lexer": "ipython3",
      "version": "3.7.0"
    }
  },
  "nbformat": 4,
  "nbformat_minor": 0
}