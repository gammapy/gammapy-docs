{
  "cells": [
    {
      "cell_type": "code",
      "execution_count": null,
      "metadata": {
        "collapsed": false
      },
      "outputs": [],
      "source": [
        "%matplotlib inline"
      ]
    },
    {
      "cell_type": "markdown",
      "metadata": {},
      "source": [
        "\n\nEBL Absorbption Spectral Model\n==============================\n\nThis model evaluates absorbed spectral model.\n\nThe EBL absorption factor given by\n\n\\begin{align}\\exp{ \\left ( -\\alpha \\times \\tau(E, z) \\right )}\\end{align}\n\nwhere $\\tau(E, z)$ is the optical depth predicted by the model\n(`~gammapy.modeling.models.Absorption`), which depends on the energy of the gamma-rays and the\nredshift z of the source, and $\\alpha$ is a scale factor\n(default: 1) for the optical depth.\n"
      ]
    },
    {
      "cell_type": "markdown",
      "metadata": {},
      "source": [
        "Example plot\n------------\nHere is an example plot of the model:\n\n"
      ]
    },
    {
      "cell_type": "code",
      "execution_count": null,
      "metadata": {
        "collapsed": false
      },
      "outputs": [],
      "source": [
        "from astropy import units as u\nimport matplotlib.pyplot as plt\nfrom gammapy.modeling.models import (\n    EBLAbsorptionNormSpectralModel,\n    Models,\n    PowerLawSpectralModel,\n    SkyModel,\n)\n\n# Here we illustrate how to create and plot EBL absorption models for a redshift of 0.5\n# sphinx_gallery_thumbnail_number = 1\n\nredshift = 0.5\ndominguez = EBLAbsorptionNormSpectralModel.read_builtin(\"dominguez\", redshift=redshift)\nfranceschini = EBLAbsorptionNormSpectralModel.read_builtin(\n    \"franceschini\", redshift=redshift\n)\nfinke = EBLAbsorptionNormSpectralModel.read_builtin(\"finke\", redshift=redshift)\n\nplt.figure()\nenergy_range = [0.08, 3] * u.TeV\nopts = dict(energy_range=energy_range, energy_unit=\"TeV\", flux_unit=\"\")\nfranceschini.plot(label=\"Franceschini 2008\", **opts)\nfinke.plot(label=\"Finke 2010\", **opts)\ndominguez.plot(label=\"Dominguez 2011\", **opts)\n\nplt.ylabel(r\"Absorption coefficient [$\\exp{(-\\tau(E))}$]\")\nplt.xlim(energy_range.value)\nplt.ylim(1e-4, 2)\nplt.title(f\"EBL models (z={redshift})\")\nplt.grid(which=\"both\")\nplt.legend(loc=\"best\")\n\n\n# Spectral model corresponding to PKS 2155-304 (quiescent state)\nindex = 3.53\namplitude = 1.81 * 1e-12 * u.Unit(\"cm-2 s-1 TeV-1\")\nreference = 1 * u.TeV\npwl = PowerLawSpectralModel(index=index, amplitude=amplitude, reference=reference)\n\n# The power-law model is multiplied by the EBL norm spectral model\nredshift = 0.117\nabsorption = EBLAbsorptionNormSpectralModel.read_builtin(\"dominguez\", redshift=redshift)\n\nmodel = pwl * absorption\n\nenergy_range = [0.1, 100] * u.TeV\nplt.figure()\nmodel.plot(energy_range)\nplt.grid(which=\"both\")\nplt.ylim(1e-24, 1e-8)"
      ]
    },
    {
      "cell_type": "markdown",
      "metadata": {},
      "source": [
        "YAML representation\n-------------------\nHere is an example YAML file using the model:\n\n"
      ]
    },
    {
      "cell_type": "code",
      "execution_count": null,
      "metadata": {
        "collapsed": false
      },
      "outputs": [],
      "source": [
        "model = SkyModel(spectral_model=model, name=\"absorbed-model\")\nmodels = Models([model])\n\nprint(models.to_yaml())"
      ]
    }
  ],
  "metadata": {
    "kernelspec": {
      "display_name": "Python 3",
      "language": "python",
      "name": "python3"
    },
    "language_info": {
      "codemirror_mode": {
        "name": "ipython",
        "version": 3
      },
      "file_extension": ".py",
      "mimetype": "text/x-python",
      "name": "python",
      "nbconvert_exporter": "python",
      "pygments_lexer": "ipython3",
      "version": "3.7.0"
    }
  },
  "nbformat": 4,
  "nbformat_minor": 0
}