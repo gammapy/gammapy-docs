{
  "cells": [
    {
      "cell_type": "code",
      "execution_count": null,
      "metadata": {
        "collapsed": false
      },
      "outputs": [],
      "source": [
        "%matplotlib inline"
      ]
    },
    {
      "cell_type": "markdown",
      "metadata": {},
      "source": [
        "\n\nPower Law 2 Spectral Model\n==========================\n\nThis model parametrises a power law spectrum with integral as amplitude parameter.\n\nIt is defined by the following equation:\n\n\\begin{align}\\phi(E) = F_0 \\cdot \\frac{\\Gamma + 1}{E_{0, max}^{-\\Gamma + 1}\n     - E_{0, min}^{-\\Gamma + 1}} \\cdot E^{-\\Gamma}\\end{align}\n\nSee also: https://fermi.gsfc.nasa.gov/ssc/data/analysis/scitools/source_models.html\n"
      ]
    },
    {
      "cell_type": "markdown",
      "metadata": {},
      "source": [
        "Example plot\n------------\nHere is an example plot of the model:\n\n"
      ]
    },
    {
      "cell_type": "code",
      "execution_count": null,
      "metadata": {
        "collapsed": false
      },
      "outputs": [],
      "source": [
        "from astropy import units as u\nimport matplotlib.pyplot as plt\nfrom gammapy.modeling.models import Models, PowerLaw2SpectralModel, SkyModel\n\nenergy_range = [0.1, 100] * u.TeV\nmodel = PowerLaw2SpectralModel(\n    amplitude=u.Quantity(1e-12, \"cm-2 s-1\"), index=2.3, emin=1 * u.TeV, emax=10 * u.TeV,\n)\nmodel.plot(energy_range)\nplt.grid(which=\"both\")"
      ]
    },
    {
      "cell_type": "markdown",
      "metadata": {},
      "source": [
        "YAML representation\n-------------------\nHere is an example YAML file using the model:\n\n"
      ]
    },
    {
      "cell_type": "code",
      "execution_count": null,
      "metadata": {
        "collapsed": false
      },
      "outputs": [],
      "source": [
        "model = SkyModel(spectral_model=model, name=\"power-law2-model\")\nmodels = Models([model])\n\nprint(models.to_yaml())"
      ]
    }
  ],
  "metadata": {
    "kernelspec": {
      "display_name": "Python 3",
      "language": "python",
      "name": "python3"
    },
    "language_info": {
      "codemirror_mode": {
        "name": "ipython",
        "version": 3
      },
      "file_extension": ".py",
      "mimetype": "text/x-python",
      "name": "python",
      "nbconvert_exporter": "python",
      "pygments_lexer": "ipython3",
      "version": "3.7.0"
    }
  },
  "nbformat": 4,
  "nbformat_minor": 0
}