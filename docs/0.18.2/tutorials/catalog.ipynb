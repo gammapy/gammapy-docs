{
 "cells": [
  {
   "cell_type": "markdown",
   "metadata": {},
   "source": [
    "\n",
    "<div class=\"alert alert-info\">\n",
    "\n",
    "**This is a fixed-text formatted version of a Jupyter notebook**\n",
    "\n",
    "- Try online [![Binder](https://static.mybinder.org/badge.svg)](https://mybinder.org/v2/gh/gammapy/gammapy-webpage/v0.18.2?urlpath=lab/tree/catalog.ipynb)\n",
    "- You can contribute with your own notebooks in this\n",
    "[GitHub repository](https://github.com/gammapy/gammapy/tree/master/docs/tutorials).\n",
    "- **Source files:**\n",
    "[catalog.ipynb](../_static/notebooks/catalog.ipynb) |\n",
    "[catalog.py](../_static/notebooks/catalog.py)\n",
    "</div>\n"
   ]
  },
  {
   "cell_type": "markdown",
   "metadata": {},
   "source": [
    "# Source catalogs\n",
    "\n",
    "`~gammapy.catalog` provides convenient access to common gamma-ray source catalogs. E.g. creating a spectral model and spectral points for a given Fermi-LAT catalog and source from the FITS table is tedious, `~gammapy.catalog` has this implemented and makes it easy.\n",
    "\n",
    "In this tutorial you will learn how to:\n",
    "\n",
    "- List available catalogs\n",
    "- Load a catalog\n",
    "- Select a source\n",
    "- Pretty-print the source information\n",
    "- Get source spectral and spatial models\n",
    "- Get flux points (if available)\n",
    "- Get lightcurves (if available)\n",
    "- Access the source catalog table data\n",
    "\n",
    "In this tutorial we will show examples using the following catalogs:\n",
    "\n",
    "- `~gammapy.catalog.SourceCatalogHGPS`\n",
    "- `~gammapy.catalog.SourceCatalogGammaCat`\n",
    "- `~gammapy.catalog.SourceCatalog3FHL`\n",
    "- `~gammapy.catalog.SourceCatalog4FGL`\n",
    "\n",
    "All catalog and source classes work the same, as long as some information is available. E.g. trying to access a lightcurve from a catalog and source that doesn't have that information will return ``None``.\n",
    "\n",
    "Further information is available at `~gammapy.catalog`."
   ]
  },
  {
   "cell_type": "code",
   "execution_count": 1,
   "metadata": {},
   "outputs": [],
   "source": [
    "%matplotlib inline\n",
    "import matplotlib.pyplot as plt"
   ]
  },
  {
   "cell_type": "code",
   "execution_count": 2,
   "metadata": {},
   "outputs": [],
   "source": [
    "import astropy.units as u\n",
    "from gammapy.catalog import CATALOG_REGISTRY"
   ]
  },
  {
   "cell_type": "markdown",
   "metadata": {},
   "source": [
    "## List available catalogs\n",
    "\n",
    "`~gammapy.catalog` contains a catalog registry ``CATALOG_REGISTRY``, which maps catalog names (e.g. \"3fhl\") to catalog classes (e.g. ``SourceCatalog3FHL``). "
   ]
  },
  {
   "cell_type": "code",
   "execution_count": 3,
   "metadata": {},
   "outputs": [
    {
     "data": {
      "text/plain": [
       "[gammapy.catalog.gammacat.SourceCatalogGammaCat,\n",
       " gammapy.catalog.hess.SourceCatalogHGPS,\n",
       " gammapy.catalog.hawc.SourceCatalog2HWC,\n",
       " gammapy.catalog.fermi.SourceCatalog3FGL,\n",
       " gammapy.catalog.fermi.SourceCatalog4FGL,\n",
       " gammapy.catalog.fermi.SourceCatalog2FHL,\n",
       " gammapy.catalog.fermi.SourceCatalog3FHL]"
      ]
     },
     "execution_count": 3,
     "metadata": {},
     "output_type": "execute_result"
    }
   ],
   "source": [
    "CATALOG_REGISTRY"
   ]
  },
  {
   "cell_type": "code",
   "execution_count": 4,
   "metadata": {},
   "outputs": [
    {
     "data": {
      "text/plain": [
       "[gammapy.catalog.gammacat.SourceCatalogGammaCat,\n",
       " gammapy.catalog.hess.SourceCatalogHGPS,\n",
       " gammapy.catalog.hawc.SourceCatalog2HWC,\n",
       " gammapy.catalog.fermi.SourceCatalog3FGL,\n",
       " gammapy.catalog.fermi.SourceCatalog4FGL,\n",
       " gammapy.catalog.fermi.SourceCatalog2FHL,\n",
       " gammapy.catalog.fermi.SourceCatalog3FHL]"
      ]
     },
     "execution_count": 4,
     "metadata": {},
     "output_type": "execute_result"
    }
   ],
   "source": [
    "list(CATALOG_REGISTRY)"
   ]
  },
  {
   "cell_type": "markdown",
   "metadata": {},
   "source": [
    "## Load catalogs\n",
    "\n",
    "If you have run `gammapy download datasets` or `gammapy download tutorials`,\n",
    "you have a copy of the catalogs as FITS files in `$GAMMAPY_DATA/catalogs`,\n",
    "and that is the default location where `~gammapy.catalog` loads from.\n",
    "\n",
    "You can load a catalog by name via `CATALOG_REGISTRY.get_cls(name)()` (note the `()` to instantiate a catalog object from the catalog class - only this will load the catalog and be useful), or by importing the catalog class (e.g. `SourceCatalog3FGL`) directly. The two ways are equivalent, the result will be the same.\n",
    "\n",
    "Note that `$GAMMAPY_DATA/catalogs` is just the default, you could pass a different `filename` when creating the catalog."
   ]
  },
  {
   "cell_type": "code",
   "execution_count": 5,
   "metadata": {},
   "outputs": [
    {
     "name": "stdout",
     "output_type": "stream",
     "text": [
      "2HWC.ecsv\r\n",
      "2HWC.yaml\r\n",
      "README.rst\r\n",
      "\u001b[34mfermi\u001b[m\u001b[m\r\n",
      "\u001b[34mgammacat\u001b[m\u001b[m\r\n",
      "hgps_catalog_v1.fits.gz\r\n",
      "make_2hwc.py\r\n"
     ]
    }
   ],
   "source": [
    "!ls -1 $GAMMAPY_DATA/catalogs"
   ]
  },
  {
   "cell_type": "code",
   "execution_count": 6,
   "metadata": {},
   "outputs": [
    {
     "data": {
      "text/plain": [
       "<gammapy.catalog.fermi.SourceCatalog3FGL at 0x11ff724a8>"
      ]
     },
     "execution_count": 6,
     "metadata": {},
     "output_type": "execute_result"
    }
   ],
   "source": [
    "# Catalog object - FITS file is loaded\n",
    "catalog = CATALOG_REGISTRY.get_cls(\"3fgl\")()\n",
    "catalog"
   ]
  },
  {
   "cell_type": "code",
   "execution_count": 7,
   "metadata": {},
   "outputs": [
    {
     "data": {
      "text/plain": [
       "<gammapy.catalog.fermi.SourceCatalog3FGL at 0x11ff8b208>"
      ]
     },
     "execution_count": 7,
     "metadata": {},
     "output_type": "execute_result"
    }
   ],
   "source": [
    "from gammapy.catalog import SourceCatalog3FGL\n",
    "\n",
    "catalog = SourceCatalog3FGL()\n",
    "catalog"
   ]
  },
  {
   "cell_type": "code",
   "execution_count": 8,
   "metadata": {},
   "outputs": [],
   "source": [
    "# Let's load the source catalogs we will use throughout this tutorial\n",
    "catalog_gammacat = CATALOG_REGISTRY.get_cls(\"gamma-cat\")()\n",
    "catalog_3fhl = CATALOG_REGISTRY.get_cls(\"3fhl\")()\n",
    "catalog_4fgl = CATALOG_REGISTRY.get_cls(\"4fgl\")()\n",
    "catalog_hgps = CATALOG_REGISTRY.get_cls(\"hgps\")()"
   ]
  },
  {
   "cell_type": "markdown",
   "metadata": {},
   "source": [
    "## Select a source\n",
    "\n",
    "To create a source object, index into the catalog using `[]`, passing a catalog table row index (zero-based, first row is `[0]`), or a source name. If passing a name, catalog table columns with source names and association names (\"ASSOC1\" in the example below) are searched top to bottom. There is no name resolution web query."
   ]
  },
  {
   "cell_type": "code",
   "execution_count": 9,
   "metadata": {},
   "outputs": [
    {
     "data": {
      "text/plain": [
       "<gammapy.catalog.fermi.SourceCatalogObject4FGL at 0x120016cc0>"
      ]
     },
     "execution_count": 9,
     "metadata": {},
     "output_type": "execute_result"
    }
   ],
   "source": [
    "source = catalog_4fgl[42]\n",
    "source"
   ]
  },
  {
   "cell_type": "code",
   "execution_count": 10,
   "metadata": {},
   "outputs": [
    {
     "data": {
      "text/plain": [
       "(42, '4FGL J0010.8-2154')"
      ]
     },
     "execution_count": 10,
     "metadata": {},
     "output_type": "execute_result"
    }
   ],
   "source": [
    "source.row_index, source.name"
   ]
  },
  {
   "cell_type": "code",
   "execution_count": 11,
   "metadata": {},
   "outputs": [
    {
     "data": {
      "text/plain": [
       "<gammapy.catalog.fermi.SourceCatalogObject4FGL at 0x10f96af28>"
      ]
     },
     "execution_count": 11,
     "metadata": {},
     "output_type": "execute_result"
    }
   ],
   "source": [
    "source = catalog_4fgl[\"4FGL J0010.8-2154\"]\n",
    "source"
   ]
  },
  {
   "cell_type": "code",
   "execution_count": 12,
   "metadata": {},
   "outputs": [
    {
     "data": {
      "text/plain": [
       "(42, '4FGL J0010.8-2154')"
      ]
     },
     "execution_count": 12,
     "metadata": {},
     "output_type": "execute_result"
    }
   ],
   "source": [
    "source.row_index, source.name"
   ]
  },
  {
   "cell_type": "code",
   "execution_count": 13,
   "metadata": {},
   "outputs": [
    {
     "data": {
      "text/plain": [
       "'PKS 0008-222                '"
      ]
     },
     "execution_count": 13,
     "metadata": {},
     "output_type": "execute_result"
    }
   ],
   "source": [
    "source.data[\"ASSOC1\"]"
   ]
  },
  {
   "cell_type": "code",
   "execution_count": 14,
   "metadata": {},
   "outputs": [
    {
     "data": {
      "text/plain": [
       "(42, '4FGL J0010.8-2154')"
      ]
     },
     "execution_count": 14,
     "metadata": {},
     "output_type": "execute_result"
    }
   ],
   "source": [
    "source = catalog_4fgl[\"PKS 0008-222\"]\n",
    "source.row_index, source.name"
   ]
  },
  {
   "cell_type": "markdown",
   "metadata": {},
   "source": [
    "## Pretty-print source information\n",
    "\n",
    "A source object has a nice string representation that you can print.\n",
    "You can also call `source.info()` instead and pass an option what information to print."
   ]
  },
  {
   "cell_type": "code",
   "execution_count": 15,
   "metadata": {},
   "outputs": [
    {
     "name": "stdout",
     "output_type": "stream",
     "text": [
      "\n",
      "*** Basic info ***\n",
      "\n",
      "Catalog row index (zero-based) : 18\n",
      "Source name          : HESS J1514-591\n",
      "Analysis reference   : HGPS\n",
      "Source class         : PWN\n",
      "Identified object    : MSH 15-52\n",
      "Gamma-Cat id         : 79\n",
      "\n",
      "\n",
      "*** Info from map analysis ***\n",
      "\n",
      "RA                   :  228.499 deg = 15h14m00s\n",
      "DEC                  :  -59.161 deg = -59d09m41s\n",
      "GLON                 :  320.315 +/- 0.008 deg\n",
      "GLAT                 :   -1.188 +/- 0.007 deg\n",
      "Position Error (68%) : 0.020 deg\n",
      "Position Error (95%) : 0.033 deg\n",
      "ROI number           : 13\n",
      "Spatial model        : 3-Gaussian\n",
      "Spatial components   : HGPSC 023, HGPSC 024, HGPSC 025\n",
      "TS                   : 1763.4\n",
      "sqrt(TS)             : 42.0\n",
      "Size                 : 0.145 +/- 0.026 (UL: nan) deg\n",
      "R70                  : 0.215 deg\n",
      "RSpec                : 0.215 deg\n",
      "Total model excess   : 3502.8\n",
      "Excess in RSpec      : 2440.5\n",
      "Model Excess in RSpec : 2414.3\n",
      "Background in RSpec  : 1052.5\n",
      "Livetime             : 41.4 hours\n",
      "Energy threshold     : 0.61 TeV\n",
      "Source flux (>1 TeV) : (6.434 +/- 0.211) x 10^-12 cm^-2 s^-1 = (28.47 +/- 0.94) % Crab\n",
      "\n",
      "Fluxes in RSpec (> 1 TeV):\n",
      "Map measurement                : 4.552 x 10^-12 cm^-2 s^-1 = 20.14 % Crab\n",
      "Source model                   : 4.505 x 10^-12 cm^-2 s^-1 = 19.94 % Crab\n",
      "Other component model          : 0.000 x 10^-12 cm^-2 s^-1 =  0.00 % Crab\n",
      "Large scale component model    : 0.000 x 10^-12 cm^-2 s^-1 =  0.00 % Crab\n",
      "Total model                    : 4.505 x 10^-12 cm^-2 s^-1 = 19.94 % Crab\n",
      "Containment in RSpec                :  70.0 %\n",
      "Contamination in RSpec              :   0.0 %\n",
      "Flux correction (RSpec -> Total)    : 142.8 %\n",
      "Flux correction (Total -> RSpec)    :  70.0 %\n",
      "\n",
      "*** Info from spectral analysis ***\n",
      "\n",
      "Livetime             : 13.7 hours\n",
      "Energy range:        : 0.38 to 61.90 TeV\n",
      "Background           : 1825.9\n",
      "Excess               : 2061.1\n",
      "Spectral model       : ECPL\n",
      "TS ECPL over PL      : 10.2\n",
      "Best-fit model flux(> 1 TeV) : (5.720 +/- 0.417) x 10^-12 cm^-2 s^-1  = (25.31 +/- 1.84) % Crab\n",
      "Best-fit model energy flux(1 to 10 TeV) : (20.779 +/- 1.878) x 10^-12 erg cm^-2 s^-1\n",
      "Pivot energy         : 1.54 TeV\n",
      "Flux at pivot energy : (2.579 +/- 0.083) x 10^-12 cm^-2 s^-1 TeV^-1  = (11.41 +/- 0.24) % Crab\n",
      "PL   Flux(> 1 TeV)   : (5.437 +/- 0.186) x 10^-12 cm^-2 s^-1  = (24.06 +/- 0.82) % Crab\n",
      "PL   Flux(@ 1 TeV)   : (6.868 +/- 0.241) x 10^-12 cm^-2 s^-1 TeV^-1  = (30.39 +/- 0.69) % Crab\n",
      "PL   Index           : 2.26 +/- 0.03\n",
      "ECPL   Flux(@ 1 TeV) : (6.860 +/- 0.252) x 10^-12 cm^-2 s^-1 TeV^-1  = (30.35 +/- 0.72) % Crab\n",
      "ECPL   Flux(> 1 TeV) : (5.720 +/- 0.417) x 10^-12 cm^-2 s^-1  = (25.31 +/- 1.84) % Crab\n",
      "ECPL Index           : 2.05 +/- 0.06\n",
      "ECPL Lambda          : 0.052 +/- 0.014 TeV^-1\n",
      "ECPL E_cut           : 19.20 +/- 5.01 TeV\n",
      "\n",
      "*** Flux points info ***\n",
      "\n",
      "Number of flux points: 6\n",
      "Flux points table: \n",
      "\n",
      "e_ref  e_min  e_max        dnde         dnde_errn       dnde_errp        dnde_ul     is_ul\n",
      " TeV    TeV    TeV   1 / (cm2 s TeV) 1 / (cm2 s TeV) 1 / (cm2 s TeV) 1 / (cm2 s TeV)      \n",
      "------ ------ ------ --------------- --------------- --------------- --------------- -----\n",
      " 0.562  0.383  0.825       2.439e-11       1.419e-12       1.509e-12       2.732e-11 False\n",
      " 1.212  0.825  1.778       4.439e-12       2.489e-13       2.654e-13       4.970e-12 False\n",
      " 2.738  1.778  4.217       7.295e-13       4.788e-14       4.898e-14       8.302e-13 False\n",
      " 6.190  4.217  9.085       1.305e-13       1.220e-14       1.282e-14       1.571e-13 False\n",
      "13.991  9.085 21.544       1.994e-14       2.723e-15       2.858e-15       2.588e-14 False\n",
      "31.623 21.544 46.416       9.474e-16       3.480e-16       4.329e-16       1.919e-15 False\n",
      "\n",
      "*** Gaussian component info ***\n",
      "\n",
      "Number of components: 3\n",
      "Spatial components   : HGPSC 023, HGPSC 024, HGPSC 025\n",
      "\n",
      "Component HGPSC 023:\n",
      "GLON                 :  320.303 +/- 0.005 deg\n",
      "GLAT                 :   -1.124 +/- 0.007 deg\n",
      "Size                 : 0.057 +/- 0.005 deg\n",
      "Flux (>1 TeV)        : (2.01 +/- 0.23) x 10^-12 cm^-2 s^-1 = (8.9 +/- 1.0) % Crab\n",
      "\n",
      "Component HGPSC 024:\n",
      "GLON                 :  320.298 +/- 0.020 deg\n",
      "GLAT                 :   -1.168 +/- 0.021 deg\n",
      "Size                 : 0.206 +/- 0.020 deg\n",
      "Flux (>1 TeV)        : (2.54 +/- 0.29) x 10^-12 cm^-2 s^-1 = (11.2 +/- 1.3) % Crab\n",
      "\n",
      "Component HGPSC 025:\n",
      "GLON                 :  320.351 +/- 0.005 deg\n",
      "GLAT                 :   -1.284 +/- 0.007 deg\n",
      "Size                 : 0.055 +/- 0.005 deg\n",
      "Flux (>1 TeV)        : (1.88 +/- 0.22) x 10^-12 cm^-2 s^-1 = (8.3 +/- 1.0) % Crab\n",
      "\n",
      "\n",
      "*** Source associations info ***\n",
      "\n",
      "  Source_Name    Association_Catalog    Association_Name   Separation\n",
      "                                                              deg    \n",
      "---------------- ------------------- --------------------- ----------\n",
      "  HESS J1514-591                2FHL    2FHL J1514.0-5915e   0.098903\n",
      "  HESS J1514-591                3FGL     3FGL J1513.9-5908   0.026914\n",
      "  HESS J1514-591                3FGL    3FGL J1514.0-5915e   0.094834\n",
      "  HESS J1514-591                COMP            G320.4-1.2   0.070483\n",
      "  HESS J1514-591                 PSR              B1509-58   0.026891\n",
      "\n",
      "*** Source identification info ***\n",
      "\n",
      "Source_Name: HESS J1514-591\n",
      "Identified_Object: MSH 15-52\n",
      "Class: PWN\n",
      "Evidence: Morphology\n",
      "Reference: 2005A%26A...435L..17A\n",
      "Distance_Reference: SNRCat\n",
      "Distance: 5.199999809265137 kpc\n",
      "Distance_Min: 3.799999952316284 kpc\n",
      "Distance_Max: 6.599999904632568 kpc\n",
      "\n"
     ]
    }
   ],
   "source": [
    "source = catalog_hgps[\"MSH 15-52\"]\n",
    "print(source)"
   ]
  },
  {
   "cell_type": "code",
   "execution_count": 16,
   "metadata": {},
   "outputs": [
    {
     "name": "stdout",
     "output_type": "stream",
     "text": [
      "\n",
      "*** Source associations info ***\n",
      "\n",
      "  Source_Name    Association_Catalog    Association_Name   Separation\n",
      "                                                              deg    \n",
      "---------------- ------------------- --------------------- ----------\n",
      "  HESS J1514-591                2FHL    2FHL J1514.0-5915e   0.098903\n",
      "  HESS J1514-591                3FGL     3FGL J1513.9-5908   0.026914\n",
      "  HESS J1514-591                3FGL    3FGL J1514.0-5915e   0.094834\n",
      "  HESS J1514-591                COMP            G320.4-1.2   0.070483\n",
      "  HESS J1514-591                 PSR              B1509-58   0.026891\n",
      "\n"
     ]
    }
   ],
   "source": [
    "print(source.info(\"associations\"))"
   ]
  },
  {
   "cell_type": "markdown",
   "metadata": {},
   "source": [
    "## Source models\n",
    "\n",
    "The `~gammapy.catalog.SourceCatalogObject` classes have a `sky_model()` model\n",
    "which creates a `gammapy.modeling.models.SkyModel` object, with model parameter\n",
    "values and parameter errors from the catalog filled in.\n",
    "\n",
    "In most cases, the `spectral_model()` method provides the `gammapy.modeling.models.SpectralModel`\n",
    "part of the sky model, and the `spatial_model()` method the `gammapy.modeling.models.SpatialModel`\n",
    "part individually.\n",
    "\n",
    "We use the `gammapy.catalog.SourceCatalog3FHL` for the examples in this section."
   ]
  },
  {
   "cell_type": "code",
   "execution_count": 17,
   "metadata": {},
   "outputs": [],
   "source": [
    "source = catalog_4fgl[\"PKS 2155-304\"]"
   ]
  },
  {
   "cell_type": "code",
   "execution_count": 18,
   "metadata": {},
   "outputs": [
    {
     "data": {
      "text/plain": [
       "SkyModel(spatial_model=<gammapy.modeling.models.spatial.PointSpatialModel object at 0x11ff39ac8>, spectral_model=<gammapy.modeling.models.spectral.LogParabolaSpectralModel object at 0x11ffb3748>)temporal_model=None)"
      ]
     },
     "execution_count": 18,
     "metadata": {},
     "output_type": "execute_result"
    }
   ],
   "source": [
    "model = source.sky_model()\n",
    "model"
   ]
  },
  {
   "cell_type": "code",
   "execution_count": 19,
   "metadata": {},
   "outputs": [
    {
     "name": "stdout",
     "output_type": "stream",
     "text": [
      "SkyModel\n",
      "\n",
      "  Name                      : 4FGL J2158.8-3013\n",
      "  Datasets names            : None\n",
      "  Spectral model type       : LogParabolaSpectralModel\n",
      "  Spatial  model type       : PointSpatialModel\n",
      "  Temporal model type       : \n",
      "  Parameters:\n",
      "    amplitude               :   1.38e-05  1 / (cm2 s TeV)\n",
      "    reference    (frozen)   :   0.001  TeV         \n",
      "    alpha                   :   1.763              \n",
      "    beta                    :   0.042              \n",
      "    lon_0                   : 329.714  deg         \n",
      "    lat_0                   : -30.225  deg         \n",
      "\n",
      "\n"
     ]
    }
   ],
   "source": [
    "print(model)"
   ]
  },
  {
   "cell_type": "code",
   "execution_count": 20,
   "metadata": {},
   "outputs": [
    {
     "name": "stdout",
     "output_type": "stream",
     "text": [
      "PointSpatialModel\n",
      "\n",
      " name    value    unit    min        max    frozen   error  \n",
      "----- ----------- ---- ---------- --------- ------ ---------\n",
      "lon_0  3.2971e+02  deg        nan       nan  False 3.735e-03\n",
      "lat_0 -3.0225e+01  deg -9.000e+01 9.000e+01  False 3.227e-03\n"
     ]
    }
   ],
   "source": [
    "print(model.spatial_model)"
   ]
  },
  {
   "cell_type": "code",
   "execution_count": 21,
   "metadata": {},
   "outputs": [
    {
     "name": "stdout",
     "output_type": "stream",
     "text": [
      "LogParabolaSpectralModel\n",
      "\n",
      "   name     value         unit      min max frozen   error  \n",
      "--------- ---------- -------------- --- --- ------ ---------\n",
      "amplitude 1.3769e-05 cm-2 s-1 TeV-1 nan nan  False 1.801e-07\n",
      "reference 1.1365e-03            TeV nan nan   True 0.000e+00\n",
      "    alpha 1.7632e+00                nan nan  False 1.332e-02\n",
      "     beta 4.1718e-02                nan nan  False 4.680e-03\n"
     ]
    }
   ],
   "source": [
    "print(model.spectral_model)"
   ]
  },
  {
   "cell_type": "code",
   "execution_count": 22,
   "metadata": {},
   "outputs": [
    {
     "data": {
      "text/plain": [
       "<matplotlib.axes._subplots.AxesSubplot at 0x11ff2bf28>"
      ]
     },
     "execution_count": 22,
     "metadata": {},
     "output_type": "execute_result"
    },
    {
     "data": {
      "image/png": "[encoded data removed]",
      "text/plain": [
       "<Figure size 432x288 with 1 Axes>"
      ]
     },
     "metadata": {
      "needs_background": "light"
     },
     "output_type": "display_data"
    }
   ],
   "source": [
    "energy_range = (100 * u.MeV, 100 * u.GeV)\n",
    "opts = dict(energy_power=2, flux_unit=\"erg-1 cm-2 s-1\")\n",
    "model.spectral_model.plot(energy_range, **opts)\n",
    "model.spectral_model.plot_error(energy_range, **opts)"
   ]
  },
  {
   "cell_type": "markdown",
   "metadata": {},
   "source": [
    "## Flux points\n",
    "\n",
    "The flux points are available via the `flux_points` property as a `gammapy.spectrum.FluxPoints` object."
   ]
  },
  {
   "cell_type": "code",
   "execution_count": 23,
   "metadata": {},
   "outputs": [],
   "source": [
    "source = catalog_4fgl[\"PKS 2155-304\"]\n",
    "flux_points = source.flux_points"
   ]
  },
  {
   "cell_type": "code",
   "execution_count": 24,
   "metadata": {},
   "outputs": [
    {
     "data": {
      "text/plain": [
       "FluxPoints(sed_type='flux', n_points=7)"
      ]
     },
     "execution_count": 24,
     "metadata": {},
     "output_type": "execute_result"
    }
   ],
   "source": [
    "flux_points"
   ]
  },
  {
   "cell_type": "code",
   "execution_count": 25,
   "metadata": {},
   "outputs": [
    {
     "data": {
      "text/html": [
       "<i>Table length=7</i>\n",
       "<table id=\"table4864213960\" class=\"table-striped table-bordered table-condensed\">\n",
       "<thead><tr><th>e_min</th><th>e_max</th><th>flux</th><th>flux_errn</th></tr></thead>\n",
       "<thead><tr><th>MeV</th><th>MeV</th><th>1 / (cm2 s)</th><th>1 / (cm2 s)</th></tr></thead>\n",
       "<thead><tr><th>float64</th><th>float64</th><th>float32</th><th>float32</th></tr></thead>\n",
       "<tr><td>50.0</td><td>100.0</td><td>7.72853e-08</td><td>4.0041947e-08</td></tr>\n",
       "<tr><td>100.0</td><td>300.0</td><td>6.633264e-08</td><td>3.3468415e-09</td></tr>\n",
       "<tr><td>300.0</td><td>1000.0</td><td>3.2824694e-08</td><td>6.9634254e-10</td></tr>\n",
       "<tr><td>1000.0</td><td>3000.0</td><td>1.2609229e-08</td><td>2.4615918e-10</td></tr>\n",
       "<tr><td>3000.0</td><td>10000.0</td><td>5.407803e-09</td><td>1.3989285e-10</td></tr>\n",
       "<tr><td>10000.0</td><td>30000.0</td><td>1.7188525e-09</td><td>7.4735836e-11</td></tr>\n",
       "<tr><td>30000.0</td><td>300000.0</td><td>6.818578e-10</td><td>4.5728827e-11</td></tr>\n",
       "</table>"
      ],
      "text/plain": [
       "<Table length=7>\n",
       " e_min   e_max        flux       flux_errn  \n",
       "  MeV     MeV     1 / (cm2 s)   1 / (cm2 s) \n",
       "float64 float64     float32       float32   \n",
       "------- -------- ------------- -------------\n",
       "   50.0    100.0   7.72853e-08 4.0041947e-08\n",
       "  100.0    300.0  6.633264e-08 3.3468415e-09\n",
       "  300.0   1000.0 3.2824694e-08 6.9634254e-10\n",
       " 1000.0   3000.0 1.2609229e-08 2.4615918e-10\n",
       " 3000.0  10000.0  5.407803e-09 1.3989285e-10\n",
       "10000.0  30000.0 1.7188525e-09 7.4735836e-11\n",
       "30000.0 300000.0  6.818578e-10 4.5728827e-11"
      ]
     },
     "execution_count": 25,
     "metadata": {},
     "output_type": "execute_result"
    }
   ],
   "source": [
    "flux_points.table[[\"e_min\", \"e_max\", \"flux\", \"flux_errn\"]]"
   ]
  },
  {
   "cell_type": "code",
   "execution_count": 26,
   "metadata": {},
   "outputs": [
    {
     "data": {
      "text/plain": [
       "<matplotlib.axes._subplots.AxesSubplot at 0x121ee0978>"
      ]
     },
     "execution_count": 26,
     "metadata": {},
     "output_type": "execute_result"
    },
    {
     "data": {
      "image/png": "[encoded data removed]",
      "text/plain": [
       "<Figure size 432x288 with 1 Axes>"
      ]
     },
     "metadata": {
      "needs_background": "light"
     },
     "output_type": "display_data"
    }
   ],
   "source": [
    "flux_points.plot()"
   ]
  },
  {
   "cell_type": "markdown",
   "metadata": {},
   "source": [
    "## Lightcurves\n",
    "\n",
    "The Fermi catalogs contain lightcurves for each source. It is available via the `source.lightcurve` property as a `~gammapy.time.LightCurve` object."
   ]
  },
  {
   "cell_type": "code",
   "execution_count": 27,
   "metadata": {},
   "outputs": [],
   "source": [
    "lightcurve = catalog_4fgl[\"4FGL J0349.8-2103\"].lightcurve"
   ]
  },
  {
   "cell_type": "code",
   "execution_count": 28,
   "metadata": {},
   "outputs": [
    {
     "data": {
      "text/plain": [
       "LightCurve(len=8)"
      ]
     },
     "execution_count": 28,
     "metadata": {},
     "output_type": "execute_result"
    }
   ],
   "source": [
    "lightcurve"
   ]
  },
  {
   "cell_type": "code",
   "execution_count": 29,
   "metadata": {},
   "outputs": [
    {
     "data": {
      "text/html": [
       "<i>Table length=3</i>\n",
       "<table id=\"table4868211768\" class=\"table-striped table-bordered table-condensed\">\n",
       "<thead><tr><th>time_min</th><th>time_max</th><th>flux</th><th>flux_errp</th><th>flux_errn</th></tr></thead>\n",
       "<thead><tr><th></th><th></th><th>1 / (cm2 s)</th><th>1 / (cm2 s)</th><th>1 / (cm2 s)</th></tr></thead>\n",
       "<thead><tr><th>float64</th><th>float64</th><th>float32</th><th>float32</th><th>float32</th></tr></thead>\n",
       "<tr><td>54682.655277777776</td><td>55047.603239293836</td><td>8.4104094e-08</td><td>4.119689e-09</td><td>4.119689e-09</td></tr>\n",
       "<tr><td>55047.603239293836</td><td>55412.55121238397</td><td>3.6117186e-08</td><td>3.434389e-09</td><td>3.434389e-09</td></tr>\n",
       "<tr><td>55412.55121238397</td><td>55777.4991854741</td><td>1.4224756e-08</td><td>2.7470255e-09</td><td>2.6878597e-09</td></tr>\n",
       "</table>"
      ],
      "text/plain": [
       "<Table length=3>\n",
       "     time_min           time_max           flux       flux_errp     flux_errn  \n",
       "                                       1 / (cm2 s)   1 / (cm2 s)   1 / (cm2 s) \n",
       "     float64            float64          float32       float32       float32   \n",
       "------------------ ------------------ ------------- ------------- -------------\n",
       "54682.655277777776 55047.603239293836 8.4104094e-08  4.119689e-09  4.119689e-09\n",
       "55047.603239293836  55412.55121238397 3.6117186e-08  3.434389e-09  3.434389e-09\n",
       " 55412.55121238397   55777.4991854741 1.4224756e-08 2.7470255e-09 2.6878597e-09"
      ]
     },
     "execution_count": 29,
     "metadata": {},
     "output_type": "execute_result"
    }
   ],
   "source": [
    "lightcurve.table[:3]"
   ]
  },
  {
   "cell_type": "code",
   "execution_count": 30,
   "metadata": {},
   "outputs": [
    {
     "name": "stderr",
     "output_type": "stream",
     "text": [
      "No handles with labels found to put in legend.\n"
     ]
    },
    {
     "data": {
      "text/plain": [
       "<matplotlib.axes._subplots.AxesSubplot at 0x1222b6fd0>"
      ]
     },
     "execution_count": 30,
     "metadata": {},
     "output_type": "execute_result"
    },
    {
     "data": {
      "image/png": "[encoded data removed]",
      "text/plain": [
       "<Figure size 432x288 with 1 Axes>"
      ]
     },
     "metadata": {
      "needs_background": "light"
     },
     "output_type": "display_data"
    }
   ],
   "source": [
    "lightcurve.plot()"
   ]
  },
  {
   "cell_type": "markdown",
   "metadata": {},
   "source": [
    "## Catalog table and source dictionary\n",
    "\n",
    "Source catalogs are given as `FITS` files that contain one or multiple tables.\n",
    "Above we showed how to get spectra, light curves and other information as Gammapy objects.\n",
    "\n",
    "However, you can also access the underlying `astropy.table.Table` for a catalog,\n",
    "and the row data as a Python `dict`. This can be useful if you want to do something\n",
    "that is not pre-scripted by the `~gammapy.catalog` classes, such as e.g. selecting\n",
    "sources by sky position or association class, or accessing special source information\n",
    "(like e.g. `Npred` in the example below).\n",
    "\n",
    "Note that you can also do a `for source in catalog` loop, to find or process\n",
    "sources of interest."
   ]
  },
  {
   "cell_type": "code",
   "execution_count": 31,
   "metadata": {},
   "outputs": [
    {
     "data": {
      "text/plain": [
       "astropy.table.table.Table"
      ]
     },
     "execution_count": 31,
     "metadata": {},
     "output_type": "execute_result"
    }
   ],
   "source": [
    "type(catalog_3fhl.table)"
   ]
  },
  {
   "cell_type": "code",
   "execution_count": 32,
   "metadata": {},
   "outputs": [
    {
     "data": {
      "text/plain": [
       "1556"
      ]
     },
     "execution_count": 32,
     "metadata": {},
     "output_type": "execute_result"
    }
   ],
   "source": [
    "len(catalog_3fhl.table)"
   ]
  },
  {
   "cell_type": "code",
   "execution_count": 33,
   "metadata": {},
   "outputs": [
    {
     "data": {
      "text/html": [
       "<i>Table length=3</i>\n",
       "<table id=\"table4869701024\" class=\"table-striped table-bordered table-condensed\">\n",
       "<thead><tr><th>Source_Name</th><th>RAJ2000</th><th>DEJ2000</th></tr></thead>\n",
       "<thead><tr><th></th><th>deg</th><th>deg</th></tr></thead>\n",
       "<thead><tr><th>bytes18</th><th>float32</th><th>float32</th></tr></thead>\n",
       "<tr><td>3FHL J0001.2-0748</td><td>0.3107</td><td>-7.8075</td></tr>\n",
       "<tr><td>3FHL J0001.9-4155</td><td>0.4849</td><td>-41.9303</td></tr>\n",
       "<tr><td>3FHL J0002.1-6728</td><td>0.5283</td><td>-67.4825</td></tr>\n",
       "</table>"
      ],
      "text/plain": [
       "<Table length=3>\n",
       "   Source_Name     RAJ2000  DEJ2000 \n",
       "                     deg      deg   \n",
       "     bytes18       float32  float32 \n",
       "------------------ -------- --------\n",
       "3FHL J0001.2-0748    0.3107  -7.8075\n",
       "3FHL J0001.9-4155    0.4849 -41.9303\n",
       "3FHL J0002.1-6728    0.5283 -67.4825"
      ]
     },
     "execution_count": 33,
     "metadata": {},
     "output_type": "execute_result"
    }
   ],
   "source": [
    "catalog_3fhl.table[:3][[\"Source_Name\", \"RAJ2000\", \"DEJ2000\"]]"
   ]
  },
  {
   "cell_type": "code",
   "execution_count": 34,
   "metadata": {},
   "outputs": [],
   "source": [
    "source = catalog_3fhl[\"PKS 2155-304\"]"
   ]
  },
  {
   "cell_type": "code",
   "execution_count": 35,
   "metadata": {},
   "outputs": [
    {
     "data": {
      "text/plain": [
       "'3FHL J2158.8-3013 '"
      ]
     },
     "execution_count": 35,
     "metadata": {},
     "output_type": "execute_result"
    }
   ],
   "source": [
    "source.data[\"Source_Name\"]"
   ]
  },
  {
   "cell_type": "code",
   "execution_count": 36,
   "metadata": {},
   "outputs": [
    {
     "data": {
      "text/plain": [
       "678.95544"
      ]
     },
     "execution_count": 36,
     "metadata": {},
     "output_type": "execute_result"
    }
   ],
   "source": [
    "source.data[\"Npred\"]"
   ]
  },
  {
   "cell_type": "code",
   "execution_count": 37,
   "metadata": {},
   "outputs": [
    {
     "data": {
      "text/plain": [
       "<SkyCoord (ICRS): (ra, dec) in deg\n",
       "    (329.71694946, -30.22418594)>"
      ]
     },
     "execution_count": 37,
     "metadata": {},
     "output_type": "execute_result"
    }
   ],
   "source": [
    "source.position"
   ]
  },
  {
   "cell_type": "code",
   "execution_count": 38,
   "metadata": {},
   "outputs": [
    {
     "name": "stdout",
     "output_type": "stream",
     "text": [
      "352     3FHL J0534.5+2201    2.99e-10 1 / (cm2 s)\n",
      "553     3FHL J0851.9-4620e   1.24e-10 1 / (cm2 s)\n",
      "654     3FHL J1036.3-5833e   1.57e-10 1 / (cm2 s)\n",
      "691     3FHL J1104.4+3812    3.34e-10 1 / (cm2 s)\n",
      "1111    3FHL J1653.8+3945    1.27e-10 1 / (cm2 s)\n",
      "1219    3FHL J1824.5-1351e   1.77e-10 1 / (cm2 s)\n",
      "1361    3FHL J2028.6+4110e   1.75e-10 1 / (cm2 s)\n"
     ]
    }
   ],
   "source": [
    "# Find the brightest sources in the 100 to 200 GeV energy band\n",
    "for source in catalog_3fhl:\n",
    "    flux = (\n",
    "        source.spectral_model()\n",
    "        .integral(100 * u.GeV, 200 * u.GeV)\n",
    "        .to(\"cm-2 s-1\")\n",
    "    )\n",
    "    if flux > 1e-10 * u.Unit(\"cm-2 s-1\"):\n",
    "        print(f\"{source.row_index:<7d} {source.name:20s} {flux:.3g}\")"
   ]
  },
  {
   "cell_type": "markdown",
   "metadata": {},
   "source": [
    "## Exercises\n",
    "\n",
    "- How many sources are in the 4FGL catalog? (try `len(catalog.table)`\n",
    "- What is the name of the source with row index 42?\n",
    "- What is the row index of the source with name \"4FGL J0536.1-1205\"?\n",
    "- What is the integral flux of \"4FGL J0536.1-1205\" in the energy range 100 GeV to 1 TeV according to the best-fit spectral model?\n",
    "- Which source in the HGPS catalog is closest to Galactic position `glon = 42 deg` and `glat = 0 deg`?"
   ]
  },
  {
   "cell_type": "code",
   "execution_count": 39,
   "metadata": {},
   "outputs": [],
   "source": [
    "# Start coding here ..."
   ]
  },
  {
   "cell_type": "markdown",
   "metadata": {},
   "source": [
    "## Next steps\n",
    "\n",
    "`~gammapy.catalog` is mostly independent from the rest of Gammapy.\n",
    "Typically you use it to compare new analyses against catalog results, e.g. overplot the spectral model, or compare the source position.\n",
    "\n",
    "You can also use `~gammapy.catalog` in your scripts to create initial source models for your analyses.\n",
    "This is very common for Fermi-LAT, to start with a catalog model.\n",
    "For TeV analysis, especially in crowded Galactic regions, using the HGPS, gamma-cat or 2HWC catalog in this way can also be useful.\n"
   ]
  }
 ],
 "metadata": {
  "kernelspec": {
   "display_name": "Python 3",
   "language": "python",
   "name": "python3"
  },
  "language_info": {
   "codemirror_mode": {
    "name": "ipython",
    "version": 3
   },
   "file_extension": ".py",
   "mimetype": "text/x-python",
   "name": "python",
   "nbconvert_exporter": "python",
   "pygments_lexer": "ipython3",
   "version": "3.7.0"
  },
  "nbsphinx": {
   "orphan": true
  }
 },
 "nbformat": 4,
 "nbformat_minor": 4
}
