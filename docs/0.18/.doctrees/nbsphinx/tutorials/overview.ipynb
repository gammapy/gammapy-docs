{
 "cells": [
  {
   "cell_type": "markdown",
   "metadata": {},
   "source": [
    "\n",
    "<div class=\"alert alert-info\">\n",
    "\n",
    "**This is a fixed-text formatted version of a Jupyter notebook**\n",
    "\n",
    "- Try online [![Binder](https://static.mybinder.org/badge.svg)](https://mybinder.org/v2/gh/gammapy/gammapy-webpage/v0.18?urlpath=lab/tree/overview.ipynb)\n",
    "- You can contribute with your own notebooks in this\n",
    "[GitHub repository](https://github.com/gammapy/gammapy/tree/master/docs/tutorials).\n",
    "- **Source files:**\n",
    "[overview.ipynb](../_static/notebooks/overview.ipynb) |\n",
    "[overview.py](../_static/notebooks/overview.py)\n",
    "</div>\n"
   ]
  },
  {
   "cell_type": "markdown",
   "metadata": {},
   "source": [
    "# Getting started with Gammapy\n",
    "\n",
    "## Introduction\n",
    "\n",
    "This is a getting started tutorial for Gammapy.\n",
    "\n",
    "In this tutorial we will use the [Second Fermi-LAT Catalog of High-Energy Sources (3FHL) catalog](http://fermi.gsfc.nasa.gov/ssc/data/access/lat/3FHL/), corresponding event list and images to learn how to work with some of the central Gammapy data structures.\n",
    "\n",
    "We will cover the following topics:\n",
    "\n",
    "* **Sky maps**\n",
    "  * We will learn how to handle image based data with gammapy using a Fermi-LAT 3FHL example image. We will work with the following classes:\n",
    "    - `~gammapy.maps.WcsNDMap`\n",
    "    - [astropy.coordinates.SkyCoord](http://astropy.readthedocs.io/en/latest/coordinates/index.html)\n",
    "    - [numpy.ndarray](https://docs.scipy.org/doc/numpy/reference/generated/numpy.ndarray.html)\n",
    "\n",
    "* **Event lists**\n",
    "  * We will learn how to handle event lists with Gammapy. Important for this are the following classes: \n",
    "    - `~gammapy.data.EventList`\n",
    "    - [astropy.table.Table](http://docs.astropy.org/en/stable/api/astropy.table.Table.html)\n",
    "\n",
    "* **Source catalogs**\n",
    "  * We will show how to load source catalogs with Gammapy and explore the data using the following classes:\n",
    "    - `~gammapy.catalog.SourceCatalog`, specifically `~gammapy.catalog.SourceCatalog3FHL`\n",
    "    - [astropy.table.Table](http://docs.astropy.org/en/stable/api/astropy.table.Table.html)\n",
    "\n",
    "* **Spectral models and flux points**\n",
    "  * We will pick an example source and show how to plot its spectral model and flux points. For this we will use the following classes:\n",
    "    - `~gammapy.modeling.models.SpectralModel`, specifically the `~gammapy.modeling.models.PowerLaw2SpectralModel`\n",
    "    - `~gammapy.estimators.FluxPoints`\n",
    "    - [astropy.table.Table](http://docs.astropy.org/en/stable/api/astropy.table.Table.html)\n"
   ]
  },
  {
   "cell_type": "markdown",
   "metadata": {},
   "source": [
    "## Setup\n",
    "\n",
    "**Important**: to run this tutorial the environment variable `GAMMAPY_DATA` must be defined and point to the directory on your machine where the datasets needed are placed. To check whether your setup is correct you can execute the following cell:\n",
    "\n"
   ]
  },
  {
   "cell_type": "code",
   "execution_count": 1,
   "metadata": {},
   "outputs": [
    {
     "name": "stdout",
     "output_type": "stream",
     "text": [
      "Great your setup is correct!\n"
     ]
    }
   ],
   "source": [
    "import os\n",
    "\n",
    "path = os.path.expandvars(\"$GAMMAPY_DATA\")\n",
    "\n",
    "if not os.path.exists(path):\n",
    "    raise Exception(\"gammapy-data repository not found!\")\n",
    "else:\n",
    "    print(\"Great your setup is correct!\")"
   ]
  },
  {
   "cell_type": "markdown",
   "metadata": {},
   "source": [
    "In case you encounter an error, you can un-comment and execute the following cell to continue. But we recommend to set up your environment correctly as described [here](../install/index.rst#download-tutorials) after you are done with this notebook."
   ]
  },
  {
   "cell_type": "code",
   "execution_count": 2,
   "metadata": {},
   "outputs": [],
   "source": [
    "# os.environ['GAMMAPY_DATA'] = os.path.join(os.getcwd(), '..')"
   ]
  },
  {
   "cell_type": "markdown",
   "metadata": {},
   "source": [
    "Now we can continue with the usual IPython notebooks and Python imports:"
   ]
  },
  {
   "cell_type": "code",
   "execution_count": 3,
   "metadata": {},
   "outputs": [],
   "source": [
    "%matplotlib inline\n",
    "import matplotlib.pyplot as plt"
   ]
  },
  {
   "cell_type": "code",
   "execution_count": 4,
   "metadata": {},
   "outputs": [],
   "source": [
    "import astropy.units as u\n",
    "from astropy.coordinates import SkyCoord"
   ]
  },
  {
   "cell_type": "markdown",
   "metadata": {},
   "source": [
    "## Maps\n",
    "\n",
    "The `~gammapy.maps` package contains classes to work with sky images and cubes.\n",
    "\n",
    "In this section, we will use a simple 2D sky image and will learn how to:\n",
    "\n",
    "* Read sky images from FITS files\n",
    "* Smooth images\n",
    "* Plot images\n",
    "* Cutout parts from images"
   ]
  },
  {
   "cell_type": "code",
   "execution_count": 5,
   "metadata": {},
   "outputs": [
    {
     "name": "stderr",
     "output_type": "stream",
     "text": [
      "WARNING: FITSFixedWarning: 'datfix' made the change 'Set DATE-REF to '1858-11-17' from MJD-REF'. [astropy.wcs.wcs]\n"
     ]
    }
   ],
   "source": [
    "from gammapy.maps import Map\n",
    "\n",
    "gc_3fhl = Map.read(\"$GAMMAPY_DATA/fermi-3fhl-gc/fermi-3fhl-gc-counts.fits.gz\")"
   ]
  },
  {
   "cell_type": "markdown",
   "metadata": {},
   "source": [
    "The image is a `~gammapy.maps.WcsNDMap` object:"
   ]
  },
  {
   "cell_type": "code",
   "execution_count": 6,
   "metadata": {},
   "outputs": [
    {
     "data": {
      "text/plain": [
       "WcsNDMap\n",
       "\n",
       "\tgeom  : WcsGeom \n",
       " \taxes  : ['lon', 'lat']\n",
       "\tshape : (400, 200)\n",
       "\tndim  : 2\n",
       "\tunit  : \n",
       "\tdtype : >i8"
      ]
     },
     "execution_count": 6,
     "metadata": {},
     "output_type": "execute_result"
    }
   ],
   "source": [
    "gc_3fhl"
   ]
  },
  {
   "cell_type": "markdown",
   "metadata": {},
   "source": [
    "The shape of the image is 400 x 200 pixel and it is defined using a cartesian projection in galactic coordinates.\n",
    "\n",
    "The ``geom`` attribute is a `~gammapy.maps.WcsGeom` object:"
   ]
  },
  {
   "cell_type": "code",
   "execution_count": 7,
   "metadata": {},
   "outputs": [
    {
     "data": {
      "text/plain": [
       "WcsGeom\n",
       "\n",
       "\taxes       : ['lon', 'lat']\n",
       "\tshape      : (400, 200)\n",
       "\tndim       : 2\n",
       "\tframe      : galactic\n",
       "\tprojection : CAR\n",
       "\tcenter     : 0.0 deg, 0.0 deg\n",
       "\twidth      : 20.0 deg x 10.0 deg"
      ]
     },
     "execution_count": 7,
     "metadata": {},
     "output_type": "execute_result"
    }
   ],
   "source": [
    "gc_3fhl.geom"
   ]
  },
  {
   "cell_type": "markdown",
   "metadata": {},
   "source": [
    "Let's take a closer look a the `.data` attribute:"
   ]
  },
  {
   "cell_type": "code",
   "execution_count": 8,
   "metadata": {},
   "outputs": [
    {
     "data": {
      "text/plain": [
       "array([[0, 0, 0, ..., 0, 0, 0],\n",
       "       [0, 0, 0, ..., 0, 0, 0],\n",
       "       [0, 0, 0, ..., 0, 0, 0],\n",
       "       ...,\n",
       "       [0, 0, 0, ..., 0, 0, 1],\n",
       "       [0, 0, 0, ..., 0, 0, 0],\n",
       "       [0, 0, 0, ..., 0, 0, 1]])"
      ]
     },
     "execution_count": 8,
     "metadata": {},
     "output_type": "execute_result"
    }
   ],
   "source": [
    "gc_3fhl.data"
   ]
  },
  {
   "cell_type": "markdown",
   "metadata": {},
   "source": [
    "That looks familiar! It just an *ordinary* 2 dimensional numpy array,  which means you can apply any known numpy method to it:"
   ]
  },
  {
   "cell_type": "code",
   "execution_count": 9,
   "metadata": {},
   "outputs": [
    {
     "name": "stdout",
     "output_type": "stream",
     "text": [
      "Total number of counts in the image: 32684\n"
     ]
    }
   ],
   "source": [
    "print(f\"Total number of counts in the image: {gc_3fhl.data.sum():.0f}\")"
   ]
  },
  {
   "cell_type": "markdown",
   "metadata": {},
   "source": [
    "To show the image on the screen we can use the ``plot`` method. It basically calls [plt.imshow](http://matplotlib.org/api/pyplot_api.html#matplotlib.pyplot.imshow), passing the `gc_3fhl.data` attribute but in addition handles axis with world coordinates using [astropy.visualization.wcsaxes](https://docs.astropy.org/en/stable/visualization/wcsaxes/) and defines some defaults for nicer plots (e.g. the colormap 'afmhot'):"
   ]
  },
  {
   "cell_type": "code",
   "execution_count": 10,
   "metadata": {},
   "outputs": [
    {
     "data": {
      "image/png": "[encoded data removed]",
      "text/plain": [
       "<Figure size 432x288 with 1 Axes>"
      ]
     },
     "metadata": {
      "needs_background": "light"
     },
     "output_type": "display_data"
    }
   ],
   "source": [
    "gc_3fhl.plot(stretch=\"sqrt\");"
   ]
  },
  {
   "cell_type": "markdown",
   "metadata": {},
   "source": [
    "To make the structures in the image more visible we will smooth the data using a Gaussian kernel."
   ]
  },
  {
   "cell_type": "code",
   "execution_count": 11,
   "metadata": {},
   "outputs": [],
   "source": [
    "gc_3fhl_smoothed = gc_3fhl.smooth(kernel=\"gauss\", width=0.2 * u.deg)"
   ]
  },
  {
   "cell_type": "code",
   "execution_count": 12,
   "metadata": {},
   "outputs": [
    {
     "data": {
      "image/png": "[encoded data removed]",
      "text/plain": [
       "<Figure size 432x288 with 1 Axes>"
      ]
     },
     "metadata": {
      "needs_background": "light"
     },
     "output_type": "display_data"
    }
   ],
   "source": [
    "gc_3fhl_smoothed.plot(stretch=\"sqrt\");"
   ]
  },
  {
   "cell_type": "markdown",
   "metadata": {},
   "source": [
    "The smoothed plot already looks much nicer, but still the image is rather large. As we are mostly interested in the inner part of the image, we will cut out a quadratic region of the size 9 deg x 9 deg around Vela. Therefore we use `~gammapy.maps.Map.cutout` to make a cutout map:"
   ]
  },
  {
   "cell_type": "code",
   "execution_count": 13,
   "metadata": {},
   "outputs": [
    {
     "data": {
      "image/png": "[encoded data removed]",
      "text/plain": [
       "<Figure size 432x288 with 1 Axes>"
      ]
     },
     "metadata": {
      "needs_background": "light"
     },
     "output_type": "display_data"
    }
   ],
   "source": [
    "# define center and size of the cutout region\n",
    "center = SkyCoord(0, 0, unit=\"deg\", frame=\"galactic\")\n",
    "gc_3fhl_cutout = gc_3fhl_smoothed.cutout(center, 9 * u.deg)\n",
    "gc_3fhl_cutout.plot(stretch=\"sqrt\");"
   ]
  },
  {
   "cell_type": "markdown",
   "metadata": {},
   "source": [
    "For a more detailed introduction to `~gammapy.maps`, take a look a the [maps.ipynb](maps.ipynb) notebook.\n",
    "\n",
    "### Exercises\n",
    "\n",
    "* Add a marker and circle at the position of `Sag A*` (you can find examples in [astropy.visualization.wcsaxes](https://docs.astropy.org/en/stable/visualization/wcsaxes/))."
   ]
  },
  {
   "cell_type": "code",
   "execution_count": null,
   "metadata": {},
   "outputs": [],
   "source": []
  },
  {
   "cell_type": "markdown",
   "metadata": {},
   "source": [
    "## Event lists\n",
    "\n",
    "Almost any high-level gamma-ray data analysis starts with the raw measured counts data, which is stored in event lists. In Gammapy event lists are represented by the `~gammapy.data.EventList` class. \n",
    "\n",
    "In this section we will learn how to:\n",
    "\n",
    "* Read event lists from FITS files\n",
    "* Access and work with the `EventList` attributes such as `.table` and `.energy` \n",
    "* Filter events lists using convenience methods\n",
    "\n",
    "Let's start with the import from the `~gammapy.data` submodule:"
   ]
  },
  {
   "cell_type": "code",
   "execution_count": 14,
   "metadata": {},
   "outputs": [],
   "source": [
    "from gammapy.data import EventList"
   ]
  },
  {
   "cell_type": "markdown",
   "metadata": {},
   "source": [
    "Very similar to the sky map class an event list can be created, by passing a filename to the `~gammapy.data.EventList.read()` method:"
   ]
  },
  {
   "cell_type": "code",
   "execution_count": 15,
   "metadata": {},
   "outputs": [],
   "source": [
    "events_3fhl = EventList.read(\n",
    "    \"$GAMMAPY_DATA/fermi-3fhl-gc/fermi-3fhl-gc-events.fits.gz\"\n",
    ")"
   ]
  },
  {
   "cell_type": "markdown",
   "metadata": {},
   "source": [
    "This time the actual data is stored as an [astropy.table.Table](http://docs.astropy.org/en/stable/api/astropy.table.Table.html) object. It can be accessed with `.table` attribute: "
   ]
  },
  {
   "cell_type": "code",
   "execution_count": 16,
   "metadata": {},
   "outputs": [
    {
     "data": {
      "text/html": [
       "<i>Table length=32843</i>\n",
       "<table id=\"table4771141280\" class=\"table-striped table-bordered table-condensed\">\n",
       "<thead><tr><th>ENERGY</th><th>RA</th><th>DEC</th><th>L</th><th>B</th><th>THETA</th><th>PHI</th><th>ZENITH_ANGLE</th><th>EARTH_AZIMUTH_ANGLE</th><th>TIME</th><th>EVENT_ID</th><th>RUN_ID</th><th>RECON_VERSION</th><th>CALIB_VERSION [3]</th><th>EVENT_CLASS [32]</th><th>EVENT_TYPE [32]</th><th>CONVERSION_TYPE</th><th>LIVETIME</th><th>DIFRSP0</th><th>DIFRSP1</th><th>DIFRSP2</th><th>DIFRSP3</th><th>DIFRSP4</th></tr></thead>\n",
       "<thead><tr><th>MeV</th><th>deg</th><th>deg</th><th>deg</th><th>deg</th><th>deg</th><th>deg</th><th>deg</th><th>deg</th><th>s</th><th></th><th></th><th></th><th></th><th></th><th></th><th></th><th>s</th><th></th><th></th><th></th><th></th><th></th></tr></thead>\n",
       "<thead><tr><th>float32</th><th>float32</th><th>float32</th><th>float32</th><th>float32</th><th>float32</th><th>float32</th><th>float32</th><th>float32</th><th>float64</th><th>int32</th><th>int32</th><th>int16</th><th>int16</th><th>bool</th><th>bool</th><th>int16</th><th>float64</th><th>float32</th><th>float32</th><th>float32</th><th>float32</th><th>float32</th></tr></thead>\n",
       "<tr><td>12186.642</td><td>260.45935</td><td>-33.553337</td><td>353.36273</td><td>1.7538676</td><td>71.977325</td><td>125.50694</td><td>59.22307</td><td>231.79672</td><td>239572401.29222104</td><td>1823040</td><td>239571670</td><td>0</td><td>0 .. 0</td><td>False .. True</td><td>False .. True</td><td>0</td><td>238.57837238907814</td><td>0.0</td><td>0.0</td><td>0.0</td><td>0.0</td><td>0.0</td></tr>\n",
       "<tr><td>25496.598</td><td>261.37506</td><td>-34.395004</td><td>353.09607</td><td>0.6520652</td><td>42.49406</td><td>278.49347</td><td>41.092773</td><td>227.89838</td><td>239577842.16217342</td><td>550833</td><td>239577663</td><td>0</td><td>0 .. 0</td><td>False .. True</td><td>False .. False</td><td>1</td><td>176.16850754618645</td><td>0.0</td><td>0.0</td><td>0.0</td><td>0.0</td><td>0.0</td></tr>\n",
       "<tr><td>15621.498</td><td>259.56973</td><td>-33.409416</td><td>353.05673</td><td>2.4450684</td><td>64.32412</td><td>234.22194</td><td>66.526794</td><td>232.75734</td><td>239578244.7997108</td><td>1353175</td><td>239577663</td><td>0</td><td>0 .. 0</td><td>False .. True</td><td>False .. False</td><td>1</td><td>9.392075657844543</td><td>0.0</td><td>0.0</td><td>0.0</td><td>0.0</td><td>0.0</td></tr>\n",
       "<tr><td>12816.32</td><td>273.95883</td><td>-25.340391</td><td>6.45856</td><td>-4.0548873</td><td>43.292503</td><td>142.87392</td><td>13.232716</td><td>108.02273</td><td>239605914.66160735</td><td>9636241</td><td>239601276</td><td>0</td><td>0 .. 0</td><td>False .. True</td><td>False .. False</td><td>1</td><td>4.034786552190781</td><td>0.0</td><td>0.0</td><td>0.0</td><td>0.0</td><td>0.0</td></tr>\n",
       "<tr><td>18988.387</td><td>260.8568</td><td>-36.355804</td><td>351.23734</td><td>-0.101912394</td><td>26.916113</td><td>290.39337</td><td>23.8726</td><td>212.91147</td><td>239611913.14460415</td><td>11233188</td><td>239606871</td><td>0</td><td>0 .. 0</td><td>False .. True</td><td>False .. True</td><td>0</td><td>131.60132896900177</td><td>0.0</td><td>0.0</td><td>0.0</td><td>0.0</td><td>0.0</td></tr>\n",
       "<tr><td>11610.23</td><td>266.15518</td><td>-26.224436</td><td>2.1986027</td><td>1.6034819</td><td>35.77363</td><td>274.53387</td><td>23.537594</td><td>232.64166</td><td>239623554.55414733</td><td>14156811</td><td>239618329</td><td>0</td><td>0 .. 0</td><td>False .. True</td><td>False .. False</td><td>1</td><td>74.98110938072205</td><td>0.0</td><td>0.0</td><td>0.0</td><td>0.0</td><td>0.0</td></tr>\n",
       "<tr><td>13960.802</td><td>271.44742</td><td>-29.615316</td><td>1.6267247</td><td>-4.1431155</td><td>25.917883</td><td>238.0368</td><td>15.037035</td><td>123.32094</td><td>239634549.1748726</td><td>14140569</td><td>239629788</td><td>0</td><td>0 .. 0</td><td>False .. True</td><td>False .. False</td><td>1</td><td>106.37336817383766</td><td>0.0</td><td>0.0</td><td>0.0</td><td>0.0</td><td>0.0</td></tr>\n",
       "<tr><td>10477.372</td><td>266.3981</td><td>-28.96814</td><td>359.97003</td><td>-0.011748177</td><td>39.091587</td><td>275.5457</td><td>33.02354</td><td>229.59308</td><td>239635161.87982982</td><td>15688393</td><td>239629788</td><td>0</td><td>0 .. 0</td><td>False .. True</td><td>False .. True</td><td>0</td><td>214.62817406654358</td><td>0.0</td><td>0.0</td><td>0.0</td><td>0.0</td><td>0.0</td></tr>\n",
       "<tr><td>13030.88</td><td>271.70428</td><td>-20.632627</td><td>9.59348</td><td>0.026241468</td><td>52.622505</td><td>161.3205</td><td>39.350845</td><td>91.9986</td><td>239639873.2076075</td><td>1736482</td><td>239639436</td><td>0</td><td>0 .. 0</td><td>False .. True</td><td>False .. True</td><td>0</td><td>94.68753063678741</td><td>0.0</td><td>0.0</td><td>0.0</td><td>0.0</td><td>0.0</td></tr>\n",
       "<tr><td>...</td><td>...</td><td>...</td><td>...</td><td>...</td><td>...</td><td>...</td><td>...</td><td>...</td><td>...</td><td>...</td><td>...</td><td>...</td><td>...</td><td>...</td><td>...</td><td>...</td><td>...</td><td>...</td><td>...</td><td>...</td><td>...</td><td>...</td></tr>\n",
       "<tr><td>387834.72</td><td>270.3779</td><td>-21.56711</td><td>8.171749</td><td>0.64531475</td><td>56.755512</td><td>221.84715</td><td>24.358454</td><td>86.67913</td><td>460185260.7970139</td><td>7595626</td><td>460181260</td><td>0</td><td>0 .. 0</td><td>False .. True</td><td>False .. True</td><td>0</td><td>34.214694023132324</td><td>0.0</td><td>0.0</td><td>0.0</td><td>0.0</td><td>0.0</td></tr>\n",
       "<tr><td>20559.74</td><td>268.5538</td><td>-26.345692</td><td>3.200638</td><td>-0.30328986</td><td>49.523575</td><td>233.67285</td><td>12.370642</td><td>250.35716</td><td>460185803.2027966</td><td>8785590</td><td>460181260</td><td>0</td><td>0 .. 0</td><td>False .. True</td><td>False .. True</td><td>0</td><td>103.17629969120026</td><td>0.0</td><td>0.0</td><td>0.0</td><td>0.0</td><td>0.0</td></tr>\n",
       "<tr><td>27209.146</td><td>266.59344</td><td>-30.52607</td><td>358.72775</td><td>-0.96718174</td><td>62.1856</td><td>140.27434</td><td>32.686306</td><td>109.74662</td><td>460190778.6372646</td><td>7274453</td><td>460186976</td><td>0</td><td>0 .. 0</td><td>False .. True</td><td>False .. True</td><td>0</td><td>43.22334712743759</td><td>0.0</td><td>0.0</td><td>0.0</td><td>0.0</td><td>0.0</td></tr>\n",
       "<tr><td>13911.061</td><td>269.30997</td><td>-27.239439</td><td>2.7684028</td><td>-1.3365301</td><td>65.15399</td><td>224.52101</td><td>53.017742</td><td>242.62904</td><td>460197889.2652691</td><td>12049887</td><td>460192198</td><td>0</td><td>0 .. 0</td><td>False .. True</td><td>False .. True</td><td>0</td><td>95.46356403827667</td><td>0.0</td><td>0.0</td><td>0.0</td><td>0.0</td><td>0.0</td></tr>\n",
       "<tr><td>13226.425</td><td>265.16287</td><td>-27.344238</td><td>0.7796942</td><td>1.7680178</td><td>59.38332</td><td>126.7019</td><td>32.12299</td><td>246.97205</td><td>460203215.10816145</td><td>11716888</td><td>460198235</td><td>0</td><td>0 .. 0</td><td>False .. True</td><td>False .. False</td><td>1</td><td>3.733097553253174</td><td>0.0</td><td>0.0</td><td>0.0</td><td>0.0</td><td>0.0</td></tr>\n",
       "<tr><td>17445.463</td><td>266.63342</td><td>-28.807201</td><td>0.21464892</td><td>-0.1039705</td><td>55.48627</td><td>135.59155</td><td>14.227151</td><td>106.7812</td><td>460225372.9842249</td><td>1679082</td><td>460224933</td><td>0</td><td>0 .. 0</td><td>False .. True</td><td>False .. False</td><td>1</td><td>80.52235281467438</td><td>0.0</td><td>0.0</td><td>0.0</td><td>0.0</td><td>0.0</td></tr>\n",
       "<tr><td>13133.864</td><td>270.42474</td><td>-22.651058</td><td>7.251185</td><td>0.071358204</td><td>48.704975</td><td>134.73102</td><td>2.489122</td><td>294.48605</td><td>460225688.52486295</td><td>2879335</td><td>460224933</td><td>0</td><td>0 .. 0</td><td>False .. True</td><td>False .. False</td><td>1</td><td>117.88173341751099</td><td>0.0</td><td>0.0</td><td>0.0</td><td>0.0</td><td>0.0</td></tr>\n",
       "<tr><td>32095.705</td><td>266.0002</td><td>-29.77206</td><td>359.1034</td><td>-0.13615231</td><td>45.013103</td><td>236.72498</td><td>6.92107</td><td>212.86594</td><td>460231367.1387127</td><td>1113706</td><td>460231084</td><td>0</td><td>0 .. 0</td><td>False .. True</td><td>False .. True</td><td>0</td><td>108.92976492643356</td><td>0.0</td><td>0.0</td><td>0.0</td><td>0.0</td><td>0.0</td></tr>\n",
       "<tr><td>18465.783</td><td>266.39728</td><td>-29.105953</td><td>359.85202</td><td>-0.08294058</td><td>55.97552</td><td>135.87787</td><td>18.909636</td><td>112.137924</td><td>459939497.057684</td><td>7689831</td><td>459935572</td><td>0</td><td>0 .. 0</td><td>False .. True</td><td>False .. True</td><td>0</td><td>70.72638684511185</td><td>0.0</td><td>0.0</td><td>0.0</td><td>0.0</td><td>0.0</td></tr>\n",
       "<tr><td>14457.25</td><td>262.72217</td><td>-34.388405</td><td>353.7184</td><td>-0.26906812</td><td>45.683174</td><td>237.74162</td><td>25.728264</td><td>240.87035</td><td>459945845.4798405</td><td>10049680</td><td>459941302</td><td>0</td><td>0 .. 0</td><td>False .. True</td><td>False .. True</td><td>0</td><td>147.4274787902832</td><td>0.0</td><td>0.0</td><td>0.0</td><td>0.0</td><td>0.0</td></tr>\n",
       "</table>"
      ],
      "text/plain": [
       "<Table length=32843>\n",
       "  ENERGY      RA       DEC         L      ... DIFRSP1 DIFRSP2 DIFRSP3 DIFRSP4\n",
       "   MeV       deg       deg        deg     ...                                \n",
       " float32   float32   float32    float32   ... float32 float32 float32 float32\n",
       "--------- --------- ---------- ---------- ... ------- ------- ------- -------\n",
       "12186.642 260.45935 -33.553337  353.36273 ...     0.0     0.0     0.0     0.0\n",
       "25496.598 261.37506 -34.395004  353.09607 ...     0.0     0.0     0.0     0.0\n",
       "15621.498 259.56973 -33.409416  353.05673 ...     0.0     0.0     0.0     0.0\n",
       " 12816.32 273.95883 -25.340391    6.45856 ...     0.0     0.0     0.0     0.0\n",
       "18988.387  260.8568 -36.355804  351.23734 ...     0.0     0.0     0.0     0.0\n",
       " 11610.23 266.15518 -26.224436  2.1986027 ...     0.0     0.0     0.0     0.0\n",
       "13960.802 271.44742 -29.615316  1.6267247 ...     0.0     0.0     0.0     0.0\n",
       "10477.372  266.3981  -28.96814  359.97003 ...     0.0     0.0     0.0     0.0\n",
       " 13030.88 271.70428 -20.632627    9.59348 ...     0.0     0.0     0.0     0.0\n",
       "      ...       ...        ...        ... ...     ...     ...     ...     ...\n",
       "387834.72  270.3779  -21.56711   8.171749 ...     0.0     0.0     0.0     0.0\n",
       " 20559.74  268.5538 -26.345692   3.200638 ...     0.0     0.0     0.0     0.0\n",
       "27209.146 266.59344  -30.52607  358.72775 ...     0.0     0.0     0.0     0.0\n",
       "13911.061 269.30997 -27.239439  2.7684028 ...     0.0     0.0     0.0     0.0\n",
       "13226.425 265.16287 -27.344238  0.7796942 ...     0.0     0.0     0.0     0.0\n",
       "17445.463 266.63342 -28.807201 0.21464892 ...     0.0     0.0     0.0     0.0\n",
       "13133.864 270.42474 -22.651058   7.251185 ...     0.0     0.0     0.0     0.0\n",
       "32095.705  266.0002  -29.77206   359.1034 ...     0.0     0.0     0.0     0.0\n",
       "18465.783 266.39728 -29.105953  359.85202 ...     0.0     0.0     0.0     0.0\n",
       " 14457.25 262.72217 -34.388405   353.7184 ...     0.0     0.0     0.0     0.0"
      ]
     },
     "execution_count": 16,
     "metadata": {},
     "output_type": "execute_result"
    }
   ],
   "source": [
    "events_3fhl.table"
   ]
  },
  {
   "cell_type": "markdown",
   "metadata": {},
   "source": [
    "You can do *len* over event_3fhl.table to find the total number of events."
   ]
  },
  {
   "cell_type": "code",
   "execution_count": 17,
   "metadata": {},
   "outputs": [
    {
     "data": {
      "text/plain": [
       "32843"
      ]
     },
     "execution_count": 17,
     "metadata": {},
     "output_type": "execute_result"
    }
   ],
   "source": [
    "len(events_3fhl.table)"
   ]
  },
  {
   "cell_type": "markdown",
   "metadata": {},
   "source": [
    "And we can access any other attribute of the `Table` object as well:"
   ]
  },
  {
   "cell_type": "code",
   "execution_count": 18,
   "metadata": {},
   "outputs": [
    {
     "data": {
      "text/plain": [
       "['ENERGY',\n",
       " 'RA',\n",
       " 'DEC',\n",
       " 'L',\n",
       " 'B',\n",
       " 'THETA',\n",
       " 'PHI',\n",
       " 'ZENITH_ANGLE',\n",
       " 'EARTH_AZIMUTH_ANGLE',\n",
       " 'TIME',\n",
       " 'EVENT_ID',\n",
       " 'RUN_ID',\n",
       " 'RECON_VERSION',\n",
       " 'CALIB_VERSION',\n",
       " 'EVENT_CLASS',\n",
       " 'EVENT_TYPE',\n",
       " 'CONVERSION_TYPE',\n",
       " 'LIVETIME',\n",
       " 'DIFRSP0',\n",
       " 'DIFRSP1',\n",
       " 'DIFRSP2',\n",
       " 'DIFRSP3',\n",
       " 'DIFRSP4']"
      ]
     },
     "execution_count": 18,
     "metadata": {},
     "output_type": "execute_result"
    }
   ],
   "source": [
    "events_3fhl.table.colnames"
   ]
  },
  {
   "cell_type": "markdown",
   "metadata": {},
   "source": [
    "For convenience we can access the most important event parameters as properties on the `EventList` objects. The attributes will return corresponding Astropy objects to represent the data, such as [astropy.units.Quantity](http://docs.astropy.org/en/stable/api/astropy.units.Quantity.html), [astropy.coordinates.SkyCoord](http://docs.astropy.org/en/stable/api/astropy.coordinates.SkyCoord.html) or [astropy.time.Time](http://docs.astropy.org/en/stable/api/astropy.time.Time.html#astropy.time.Time) objects:"
   ]
  },
  {
   "cell_type": "code",
   "execution_count": 19,
   "metadata": {},
   "outputs": [
    {
     "data": {
      "text/latex": [
       "$$[12.186643,~25.496599,~15.621499,~\\dots,~32.095707,~18.465784,~14.457251] \\; \\mathrm{GeV}$$"
      ],
      "text/plain": [
       "<Quantity [12.186643, 25.4966  , 15.621499, ..., 32.095707, 18.465784,\n",
       "           14.457251] GeV>"
      ]
     },
     "execution_count": 19,
     "metadata": {},
     "output_type": "execute_result"
    }
   ],
   "source": [
    "events_3fhl.energy.to(\"GeV\")"
   ]
  },
  {
   "cell_type": "code",
   "execution_count": 20,
   "metadata": {},
   "outputs": [
    {
     "data": {
      "text/plain": [
       "<SkyCoord (Galactic): (l, b) in deg\n",
       "    [(353.36228879,  1.75408483), (353.09562941,  0.6522806 ),\n",
       "     (353.05628243,  2.44528685), ..., (359.10295505, -0.1359316 ),\n",
       "     (359.85157506, -0.08269984), (353.71795506, -0.26883694)]>"
      ]
     },
     "execution_count": 20,
     "metadata": {},
     "output_type": "execute_result"
    }
   ],
   "source": [
    "events_3fhl.galactic\n",
    "# events_3fhl.radec"
   ]
  },
  {
   "cell_type": "code",
   "execution_count": 21,
   "metadata": {},
   "outputs": [
    {
     "data": {
      "text/plain": [
       "<Time object: scale='tt' format='mjd' value=[54682.82946153 54682.89243456 54682.89709472 ... 57236.75267735\n",
       " 57233.37455141 57233.44802852]>"
      ]
     },
     "execution_count": 21,
     "metadata": {},
     "output_type": "execute_result"
    }
   ],
   "source": [
    "events_3fhl.time"
   ]
  },
  {
   "cell_type": "markdown",
   "metadata": {},
   "source": [
    "In addition `EventList` provides convenience methods to filter the event lists. One possible use case is to find the highest energy event within a radius of 0.5 deg around the vela position:"
   ]
  },
  {
   "cell_type": "code",
   "execution_count": 22,
   "metadata": {},
   "outputs": [
    {
     "data": {
      "text/latex": [
       "$$1917.8592 \\; \\mathrm{GeV}$$"
      ],
      "text/plain": [
       "<Quantity 1917.85925 GeV>"
      ]
     },
     "execution_count": 22,
     "metadata": {},
     "output_type": "execute_result"
    }
   ],
   "source": [
    "# select all events within a radius of 0.5 deg around center\n",
    "from gammapy.utils.regions import SphericalCircleSkyRegion\n",
    "\n",
    "region = SphericalCircleSkyRegion(center, radius=0.5 * u.deg)\n",
    "events_gc_3fhl = events_3fhl.select_region(region)\n",
    "\n",
    "# sort events by energy\n",
    "events_gc_3fhl.table.sort(\"ENERGY\")\n",
    "\n",
    "# and show highest energy photon\n",
    "events_gc_3fhl.energy[-1].to(\"GeV\")"
   ]
  },
  {
   "cell_type": "markdown",
   "metadata": {},
   "source": [
    "### Exercises\n",
    "\n",
    "* Make a counts energy spectrum for the galactic center region, within a radius of 10 deg."
   ]
  },
  {
   "cell_type": "code",
   "execution_count": null,
   "metadata": {},
   "outputs": [],
   "source": []
  },
  {
   "cell_type": "markdown",
   "metadata": {},
   "source": [
    "## Source catalogs\n",
    "\n",
    "Gammapy provides a convenient interface to access and work with catalog based data. \n",
    "\n",
    "In this section we will learn how to:\n",
    "\n",
    "* Load builtins catalogs from `~gammapy.catalog`\n",
    "* Sort and index the underlying Astropy tables\n",
    "* Access data from individual sources\n",
    "\n",
    "Let's start with importing the 3FHL catalog object from the `~gammapy.catalog` submodule:"
   ]
  },
  {
   "cell_type": "code",
   "execution_count": 23,
   "metadata": {},
   "outputs": [],
   "source": [
    "from gammapy.catalog import SourceCatalog3FHL"
   ]
  },
  {
   "cell_type": "markdown",
   "metadata": {},
   "source": [
    "First we initialize the Fermi-LAT 3FHL catalog and directly take a look at the `.table` attribute:"
   ]
  },
  {
   "cell_type": "code",
   "execution_count": 24,
   "metadata": {},
   "outputs": [
    {
     "data": {
      "text/html": [
       "<i>Table masked=True length=1556</i>\n",
       "<table id=\"table4408709752\" class=\"table-striped table-bordered table-condensed\">\n",
       "<thead><tr><th>Source_Name</th><th>RAJ2000</th><th>DEJ2000</th><th>GLON</th><th>GLAT</th><th>Conf_95_SemiMajor</th><th>Conf_95_SemiMinor</th><th>Conf_95_PosAng</th><th>ROI_num</th><th>Signif_Avg</th><th>Pivot_Energy</th><th>Flux_Density</th><th>Unc_Flux_Density</th><th>Flux</th><th>Unc_Flux</th><th>Energy_Flux</th><th>Unc_Energy_Flux</th><th>Signif_Curve</th><th>SpectrumType</th><th>Spectral_Index</th><th>Unc_Spectral_Index</th><th>beta</th><th>Unc_beta</th><th>PowerLaw_Index</th><th>Unc_PowerLaw_Index</th><th>Flux_Band [5]</th><th>Unc_Flux_Band [5,2]</th><th>nuFnu [5]</th><th>Sqrt_TS_Band [5]</th><th>Npred</th><th>HEP_Energy</th><th>HEP_Prob</th><th>Variability_BayesBlocks</th><th>Extended_Source_Name</th><th>ASSOC_GAM</th><th>TEVCAT_FLAG</th><th>ASSOC_TEV</th><th>CLASS</th><th>ASSOC1</th><th>ASSOC2</th><th>ASSOC_PROB_BAY</th><th>ASSOC_PROB_LR</th><th>Redshift</th><th>NuPeak_obs</th></tr></thead>\n",
       "<thead><tr><th></th><th>deg</th><th>deg</th><th>deg</th><th>deg</th><th>deg</th><th>deg</th><th>deg</th><th></th><th></th><th>GeV</th><th>1 / (cm2 GeV s)</th><th>1 / (cm2 GeV s)</th><th>1 / (cm2 s)</th><th>1 / (cm2 s)</th><th>erg / (cm2 s)</th><th>erg / (cm2 s)</th><th></th><th></th><th></th><th></th><th></th><th></th><th></th><th></th><th>1 / (cm2 s)</th><th>1 / (cm2 s)</th><th>erg / (cm2 s)</th><th></th><th></th><th>GeV</th><th></th><th></th><th></th><th></th><th></th><th></th><th></th><th></th><th></th><th></th><th></th><th></th><th>Hz</th></tr></thead>\n",
       "<thead><tr><th>bytes18</th><th>float32</th><th>float32</th><th>float32</th><th>float32</th><th>float32</th><th>float32</th><th>float32</th><th>int16</th><th>float32</th><th>float32</th><th>float32</th><th>float32</th><th>float32</th><th>float32</th><th>float32</th><th>float32</th><th>float32</th><th>bytes11</th><th>float32</th><th>float32</th><th>float32</th><th>float32</th><th>float32</th><th>float32</th><th>float32</th><th>float32</th><th>float32</th><th>float32</th><th>float32</th><th>float32</th><th>float32</th><th>int16</th><th>bytes18</th><th>bytes18</th><th>bytes1</th><th>bytes21</th><th>bytes7</th><th>bytes26</th><th>bytes26</th><th>float32</th><th>float32</th><th>float32</th><th>float32</th></tr></thead>\n",
       "<tr><td>3FHL J0001.2-0748</td><td>0.3107</td><td>-7.8075</td><td>89.0094</td><td>-67.3118</td><td>0.0424</td><td>0.0424</td><td>nan</td><td>64</td><td>5.362</td><td>23.73</td><td>5.3174e-13</td><td>2.0975e-13</td><td>2.9593e-11</td><td>1.1704e-11</td><td>1.6752e-12</td><td>1.0743e-12</td><td>1.02</td><td>PowerLaw</td><td>1.6724</td><td>0.8274</td><td>0.5916</td><td>0.7129</td><td>2.2226</td><td>0.4808</td><td>1.1127661e-11 .. 1.1422301e-22</td><td>-6.0763976e-12 .. 6.529277e-12</td><td>3.533989e-13 .. 1.1789072e-22</td><td>3.1458344 .. 0.0</td><td>7.63</td><td>86.975</td><td>0.9964</td><td>1</td><td></td><td>3FGL J0001.2-0748</td><td>N</td><td></td><td>bll</td><td>PMN J0001-0746</td><td></td><td>0.9974</td><td>0.9721</td><td>nan</td><td>306196370000000.0</td></tr>\n",
       "<tr><td>3FHL J0001.9-4155</td><td>0.4849</td><td>-41.9303</td><td>334.1216</td><td>-72.0697</td><td>0.1018</td><td>0.1018</td><td>nan</td><td>429</td><td>5.638</td><td>28.42</td><td>5.4253e-13</td><td>1.6839e-13</td><td>4.3230e-11</td><td>1.3428e-11</td><td>3.4900e-12</td><td>1.8276e-12</td><td>0.45</td><td>PowerLaw</td><td>1.7819</td><td>0.4941</td><td>0.1187</td><td>0.2798</td><td>1.9418</td><td>0.3100</td><td>2.1003905e-11 .. 1.9287885e-18</td><td>-8.032091e-12 .. 5.8594097e-12</td><td>6.7452245e-13 .. 2.078675e-18</td><td>4.899907 .. 0.0</td><td>12.51</td><td>266.625</td><td>0.9622</td><td>1</td><td></td><td>3FGL J0002.2-4152</td><td>N</td><td></td><td>bcu</td><td>1RXS J000135.5-415519</td><td></td><td>0.9960</td><td>0.0000</td><td>nan</td><td>6309576500000000.0</td></tr>\n",
       "<tr><td>3FHL J0002.1-6728</td><td>0.5283</td><td>-67.4825</td><td>310.0868</td><td>-48.9549</td><td>0.0357</td><td>0.0357</td><td>nan</td><td>386</td><td>8.470</td><td>20.82</td><td>1.2062e-12</td><td>3.2106e-13</td><td>5.0093e-11</td><td>1.3349e-11</td><td>2.3058e-12</td><td>9.5580e-13</td><td>1.53</td><td>PowerLaw</td><td>1.8109</td><td>0.6260</td><td>0.7933</td><td>0.5956</td><td>2.4285</td><td>0.3710</td><td>2.4550664e-11 .. 1.9009976e-21</td><td>-8.634195e-12 .. 4.8021903e-12</td><td>7.7340695e-13 .. 1.9026535e-21</td><td>5.900217 .. 0.0</td><td>17.11</td><td>52.152</td><td>0.9988</td><td>1</td><td></td><td>3FGL J0002.0-6722</td><td>N</td><td></td><td>bcu</td><td>SUMSS J000215-672653</td><td></td><td>0.0000</td><td>0.9395</td><td>nan</td><td>4466832000000000.0</td></tr>\n",
       "<tr><td>3FHL J0003.3-5248</td><td>0.8300</td><td>-52.8150</td><td>318.9245</td><td>-62.7936</td><td>0.0425</td><td>0.0425</td><td>nan</td><td>145</td><td>7.229</td><td>23.66</td><td>7.5065e-13</td><td>2.3102e-13</td><td>4.1560e-11</td><td>1.2839e-11</td><td>2.2874e-12</td><td>1.1145e-12</td><td>1.70</td><td>PowerLaw</td><td>1.6010</td><td>0.5644</td><td>0.9972</td><td>0.1721</td><td>2.2481</td><td>0.3732</td><td>2.0886386e-11 .. 7.5867555e-23</td><td>-8.143967e-12 .. 5.31299e-12</td><td>6.6265456e-13 .. 7.800202e-23</td><td>5.298393 .. 0.0</td><td>13.02</td><td>67.310</td><td>0.9636</td><td>1</td><td></td><td>3FGL J0003.2-5246</td><td>N</td><td></td><td>bcu</td><td>RBS 0006</td><td></td><td>0.9996</td><td>0.9716</td><td>nan</td><td>7.079464e+16</td></tr>\n",
       "<tr><td>3FHL J0007.0+7303</td><td>1.7647</td><td>73.0560</td><td>119.6625</td><td>10.4666</td><td>0.0101</td><td>0.0101</td><td>nan</td><td>277</td><td>75.265</td><td>12.80</td><td>1.7436e-10</td><td>7.5950e-12</td><td>1.5308e-09</td><td>6.1341e-11</td><td>3.6785e-11</td><td>1.5973e-12</td><td>3.24</td><td>LogParabola</td><td>3.1751</td><td>0.2103</td><td>0.9021</td><td>0.2659</td><td>3.8315</td><td>0.1141</td><td>1.3514667e-09 .. 3.839895e-18</td><td>-5.7581186e-11 .. 4.060418e-12</td><td>4.109739e-11 .. 2.9231144e-18</td><td>71.33829 .. 0.0</td><td>654.15</td><td>60.292</td><td>0.9972</td><td>1</td><td></td><td>3FGL J0007.0+7302</td><td>E</td><td>CTA 1</td><td>PSR</td><td>LAT PSR J0007+7303</td><td></td><td>1.0000</td><td>0.0000</td><td>nan</td><td>nan</td></tr>\n",
       "<tr><td>3FHL J0007.9+4711</td><td>1.9931</td><td>47.1920</td><td>115.3093</td><td>-15.0354</td><td>0.0196</td><td>0.0196</td><td>nan</td><td>302</td><td>17.774</td><td>17.19</td><td>5.9778e-12</td><td>8.7683e-13</td><td>1.5131e-10</td><td>2.2181e-11</td><td>5.1444e-12</td><td>1.0540e-12</td><td>0.56</td><td>PowerLaw</td><td>2.6783</td><td>0.4196</td><td>0.1696</td><td>0.3282</td><td>2.8588</td><td>0.2685</td><td>1.0582407e-10 .. 1.9819723e-16</td><td>-1.7538379e-11 .. 4.823511e-12</td><td>3.278615e-12 .. 1.8668298e-16</td><td>15.209969 .. 0.0</td><td>50.95</td><td>68.152</td><td>0.9759</td><td>1</td><td></td><td>3FGL J0008.0+4713</td><td>N</td><td></td><td>bll</td><td>MG4 J000800+4712</td><td></td><td>1.0000</td><td>0.9873</td><td>0.2800</td><td>2511884200000000.0</td></tr>\n",
       "<tr><td>3FHL J0008.4-2339</td><td>2.1243</td><td>-23.6514</td><td>50.2908</td><td>-79.7021</td><td>0.0366</td><td>0.0366</td><td>nan</td><td>517</td><td>9.679</td><td>16.96</td><td>3.0610e-12</td><td>7.3475e-13</td><td>7.4602e-11</td><td>1.7896e-11</td><td>2.4733e-12</td><td>8.1716e-13</td><td>0.34</td><td>PowerLaw</td><td>2.7388</td><td>0.7145</td><td>0.1737</td><td>0.5618</td><td>2.9070</td><td>0.4520</td><td>5.804992e-11 .. 1.1117311e-20</td><td>-1.4419374e-11 .. 6.10661e-12</td><td>1.7951775e-12 .. 1.0403958e-20</td><td>9.133706 .. 0.0</td><td>19.83</td><td>71.122</td><td>0.9968</td><td>1</td><td></td><td>3FGL J0008.6-2340</td><td>N</td><td></td><td>bll</td><td>RBS 0016</td><td></td><td>0.9996</td><td>0.9673</td><td>0.1470</td><td>524807800000000.0</td></tr>\n",
       "<tr><td>3FHL J0009.1+0628</td><td>2.2874</td><td>6.4814</td><td>104.4637</td><td>-54.8669</td><td>0.0385</td><td>0.0385</td><td>nan</td><td>402</td><td>6.282</td><td>18.92</td><td>1.2691e-12</td><td>4.3696e-13</td><td>4.1597e-11</td><td>1.4317e-11</td><td>1.6903e-12</td><td>8.9372e-13</td><td>0.10</td><td>PowerLaw</td><td>2.5529</td><td>0.8363</td><td>0.0122</td><td>0.4477</td><td>2.5800</td><td>0.5391</td><td>2.4161059e-11 .. 6.6482124e-19</td><td>-9.546595e-12 .. 6.287476e-12</td><td>7.566492e-13 .. 6.5095056e-19</td><td>4.678369 .. 0.0</td><td>10.95</td><td>12.256</td><td>0.9721</td><td>1</td><td></td><td>3FGL J0009.1+0630</td><td>N</td><td></td><td>bll</td><td>CRATES J000903.95+062821.5</td><td></td><td>0.9993</td><td>0.9878</td><td>nan</td><td>663742400000000.0</td></tr>\n",
       "<tr><td>3FHL J0009.4+5030</td><td>2.3504</td><td>50.5049</td><td>116.1257</td><td>-11.8105</td><td>0.0176</td><td>0.0176</td><td>nan</td><td>302</td><td>22.402</td><td>17.04</td><td>9.8252e-12</td><td>1.3192e-12</td><td>2.2191e-10</td><td>2.6212e-11</td><td>8.7336e-12</td><td>1.2488e-12</td><td>3.15</td><td>LogParabola</td><td>1.4305</td><td>0.3505</td><td>0.7965</td><td>0.3072</td><td>2.3610</td><td>0.1611</td><td>1.16274e-10 .. 9.252794e-17</td><td>-1.8225135e-11 .. 4.417993e-12</td><td>3.8564165e-12 .. 7.0436765e-17</td><td>15.780677 .. 0.0</td><td>78.50</td><td>72.762</td><td>0.9950</td><td>2</td><td></td><td>3FGL J0009.3+5030</td><td>C</td><td></td><td>bll</td><td>NVSS J000922+503028</td><td></td><td>1.0000</td><td>0.9698</td><td>nan</td><td>1412536400000000.0</td></tr>\n",
       "<tr><td>...</td><td>...</td><td>...</td><td>...</td><td>...</td><td>...</td><td>...</td><td>...</td><td>...</td><td>...</td><td>...</td><td>...</td><td>...</td><td>...</td><td>...</td><td>...</td><td>...</td><td>...</td><td>...</td><td>...</td><td>...</td><td>...</td><td>...</td><td>...</td><td>...</td><td>...</td><td>...</td><td>...</td><td>...</td><td>...</td><td>...</td><td>...</td><td>...</td><td>...</td><td>...</td><td>...</td><td>...</td><td>...</td><td>...</td><td>...</td><td>...</td><td>...</td><td>...</td><td>...</td></tr>\n",
       "<tr><td>3FHL J2347.9-1630</td><td>356.9978</td><td>-16.5106</td><td>65.5355</td><td>-71.8766</td><td>0.0288</td><td>0.0288</td><td>nan</td><td>450</td><td>9.297</td><td>16.28</td><td>3.1279e-12</td><td>8.0896e-13</td><td>6.7585e-11</td><td>1.7478e-11</td><td>2.0267e-12</td><td>6.5608e-13</td><td>0.07</td><td>PowerLaw</td><td>3.1259</td><td>0.7781</td><td>0.0104</td><td>0.5756</td><td>3.1324</td><td>0.5259</td><td>5.2519888e-11 .. 1.0747592e-20</td><td>-1.4230782e-11 .. 6.211813e-12</td><td>1.6103665e-12 .. 9.768252e-21</td><td>8.333468 .. 0.0</td><td>17.55</td><td>50.215</td><td>0.9869</td><td>3</td><td></td><td>3FGL J2348.0-1630</td><td>N</td><td></td><td>fsrq</td><td>PKS 2345-16</td><td></td><td>0.9994</td><td>0.9999</td><td>0.5760</td><td>9332549000000.0</td></tr>\n",
       "<tr><td>3FHL J2350.5-3006</td><td>357.6354</td><td>-30.1070</td><td>16.7759</td><td>-76.3194</td><td>0.0491</td><td>0.0491</td><td>nan</td><td>70</td><td>6.497</td><td>21.20</td><td>1.0879e-12</td><td>3.2997e-13</td><td>4.7039e-11</td><td>1.4274e-11</td><td>2.2909e-12</td><td>1.1390e-12</td><td>0.63</td><td>PowerLaw</td><td>2.1012</td><td>0.6173</td><td>0.2880</td><td>0.4870</td><td>2.3678</td><td>0.4234</td><td>2.1939225e-11 .. 4.5892933e-16</td><td>-8.926376e-12 .. 6.097474e-12</td><td>6.927891e-13 .. 4.63469e-16</td><td>4.0536985 .. 0.0</td><td>12.84</td><td>49.286</td><td>0.9644</td><td>1</td><td></td><td>3FGL J2350.4-3004</td><td>N</td><td></td><td>bll</td><td>NVSS J235034-300603</td><td></td><td>0.9998</td><td>0.9218</td><td>0.2237</td><td>3981075200000000.0</td></tr>\n",
       "<tr><td>3FHL J2351.5-7559</td><td>357.8926</td><td>-75.9890</td><td>307.6546</td><td>-40.5855</td><td>0.0650</td><td>0.0650</td><td>nan</td><td>55</td><td>6.067</td><td>26.82</td><td>4.9826e-13</td><td>1.6350e-13</td><td>3.5689e-11</td><td>1.1769e-11</td><td>2.3897e-12</td><td>1.2622e-12</td><td>0.61</td><td>PowerLaw</td><td>1.8474</td><td>0.5802</td><td>0.2003</td><td>0.3661</td><td>2.0816</td><td>0.3532</td><td>2.3730832e-11 .. 6.9375605e-17</td><td>-8.570627e-12 .. 4.7928705e-12</td><td>7.578736e-13 .. 7.316245e-17</td><td>5.2754674 .. 0.0</td><td>12.41</td><td>134.721</td><td>0.9892</td><td>1</td><td></td><td>3FGL J2351.9-7601</td><td>N</td><td></td><td>bll</td><td>SUMSS J235115-760012</td><td></td><td>0.0000</td><td>0.9625</td><td>nan</td><td>nan</td></tr>\n",
       "<tr><td>3FHL J2352.1+1753</td><td>358.0415</td><td>17.8865</td><td>103.5764</td><td>-42.7466</td><td>0.0838</td><td>0.0838</td><td>nan</td><td>185</td><td>4.117</td><td>16.97</td><td>9.9227e-13</td><td>4.3475e-13</td><td>2.4254e-11</td><td>1.0640e-11</td><td>7.6327e-13</td><td>4.2356e-13</td><td>0.02</td><td>PowerLaw</td><td>3.0175</td><td>1.2164</td><td>0.0100</td><td>0.8524</td><td>3.0166</td><td>0.8270</td><td>1.5997077e-11 .. 2.9107688e-20</td><td>-7.581037e-12 .. 5.821708e-12</td><td>4.926488e-13 .. 2.6849966e-20</td><td>3.5496242 .. 0.0</td><td>6.73</td><td>43.107</td><td>0.9668</td><td>1</td><td></td><td>3FGL J2352.0+1752</td><td>N</td><td></td><td>bll</td><td>CLASS J2352+1749</td><td></td><td>0.9926</td><td>0.0000</td><td>nan</td><td>1737799900000000.0</td></tr>\n",
       "<tr><td>3FHL J2356.2+4035</td><td>359.0746</td><td>40.5985</td><td>111.7521</td><td>-21.0732</td><td>0.0298</td><td>0.0298</td><td>nan</td><td>312</td><td>7.625</td><td>29.01</td><td>5.2427e-13</td><td>1.5104e-13</td><td>4.3400e-11</td><td>1.2511e-11</td><td>3.6677e-12</td><td>1.8547e-12</td><td>0.35</td><td>PowerLaw</td><td>2.0233</td><td>0.4242</td><td>-0.0706</td><td>0.1926</td><td>1.9095</td><td>0.2975</td><td>2.5777725e-11 .. 3.110794e-16</td><td>-8.514681e-12 .. 5.4134618e-12</td><td>8.2889175e-13 .. 3.3694582e-16</td><td>6.2127647 .. 0.0</td><td>13.81</td><td>417.861</td><td>0.9119</td><td>1</td><td></td><td>3FGL J2356.0+4037</td><td>N</td><td></td><td>bll</td><td>NVSS J235612+403648</td><td></td><td>0.9998</td><td>0.9199</td><td>0.1310</td><td>6309576500000000.0</td></tr>\n",
       "<tr><td>3FHL J2357.4-1717</td><td>359.3690</td><td>-17.2996</td><td>68.4009</td><td>-74.1285</td><td>0.0327</td><td>0.0327</td><td>nan</td><td>450</td><td>6.961</td><td>29.52</td><td>5.4394e-13</td><td>1.7370e-13</td><td>4.6654e-11</td><td>1.4945e-11</td><td>3.7598e-12</td><td>1.9583e-12</td><td>1.11</td><td>PowerLaw</td><td>1.5762</td><td>0.5187</td><td>0.3513</td><td>0.3771</td><td>1.9430</td><td>0.3116</td><td>1.9003682e-11 .. 2.714288e-20</td><td>-8.131149e-12 .. 6.4742196e-12</td><td>6.1025685e-13 .. 2.92465e-20</td><td>4.552822 .. 0.0</td><td>12.30</td><td>146.757</td><td>0.9838</td><td>1</td><td></td><td>3FGL J2357.4-1716</td><td>N</td><td></td><td>bll</td><td>RBS 2066</td><td></td><td>0.9999</td><td>0.9631</td><td>nan</td><td>8.912525e+16</td></tr>\n",
       "<tr><td>3FHL J2358.4-1808</td><td>359.6205</td><td>-18.1408</td><td>66.5520</td><td>-74.8501</td><td>0.0511</td><td>0.0511</td><td>nan</td><td>450</td><td>6.493</td><td>18.23</td><td>1.6335e-12</td><td>4.9686e-13</td><td>4.8680e-11</td><td>1.4811e-11</td><td>1.7825e-12</td><td>7.6480e-13</td><td>1.83</td><td>PowerLaw</td><td>2.0532</td><td>0.6673</td><td>0.9999</td><td>0.0134</td><td>2.7312</td><td>0.5024</td><td>2.6735683e-11 .. 6.0349635e-21</td><td>-9.960717e-12 .. 6.2551535e-12</td><td>8.323882e-13 .. 5.7844478e-21</td><td>4.3616037 .. 0.0</td><td>12.74</td><td>28.304</td><td>0.9845</td><td>1</td><td></td><td>3FGL J2358.6-1809</td><td>N</td><td></td><td></td><td></td><td></td><td>0.0000</td><td>0.0000</td><td>nan</td><td>nan</td></tr>\n",
       "<tr><td>3FHL J2358.5+3829</td><td>359.6266</td><td>38.4963</td><td>111.6905</td><td>-23.2173</td><td>0.0584</td><td>0.0584</td><td>nan</td><td>312</td><td>5.797</td><td>18.24</td><td>1.4104e-12</td><td>4.4534e-13</td><td>4.2106e-11</td><td>1.3321e-11</td><td>1.7404e-12</td><td>9.8271e-13</td><td>0.44</td><td>PowerLaw</td><td>2.7466</td><td>0.6917</td><td>-0.1329</td><td>0.3013</td><td>2.5576</td><td>0.5781</td><td>2.824428e-11 .. 9.750687e-17</td><td>-9.458818e-12 .. 5.2791343e-12</td><td>8.852925e-13 .. 9.5778846e-17</td><td>5.7128677 .. 0.0</td><td>13.13</td><td>57.301</td><td>0.9782</td><td>1</td><td></td><td>3FGL J2358.5+3827</td><td>N</td><td></td><td>bcu</td><td>B3 2355+382</td><td></td><td>0.0000</td><td>0.9254</td><td>nan</td><td>nan</td></tr>\n",
       "<tr><td>3FHL J2359.1-3038</td><td>359.7760</td><td>-30.6397</td><td>12.7909</td><td>-78.0268</td><td>0.0231</td><td>0.0231</td><td>nan</td><td>70</td><td>11.551</td><td>21.21</td><td>1.8903e-12</td><td>4.1965e-13</td><td>8.1774e-11</td><td>1.8149e-11</td><td>4.2849e-12</td><td>1.6806e-12</td><td>0.08</td><td>PowerLaw</td><td>2.2865</td><td>0.4632</td><td>0.0101</td><td>0.2434</td><td>2.2944</td><td>0.3092</td><td>5.5015617e-11 .. 6.037456e-17</td><td>-1.3604539e-11 .. 8.488618e-12</td><td>1.7422797e-12 .. 6.164239e-17</td><td>9.39347 .. 0.0</td><td>22.41</td><td>111.366</td><td>0.9607</td><td>1</td><td></td><td>3FGL J2359.3-3038</td><td>P</td><td>H 2356-309</td><td>bll</td><td>H 2356-309</td><td></td><td>0.9999</td><td>0.9975</td><td>0.1650</td><td>2.818388e+17</td></tr>\n",
       "<tr><td>3FHL J2359.3-2049</td><td>359.8293</td><td>-20.8256</td><td>58.0522</td><td>-76.5411</td><td>0.0722</td><td>0.0722</td><td>nan</td><td>580</td><td>4.638</td><td>19.02</td><td>9.1911e-13</td><td>3.6043e-13</td><td>3.0559e-11</td><td>1.1979e-11</td><td>1.2593e-12</td><td>7.4704e-13</td><td>0.32</td><td>PowerLaw</td><td>2.3402</td><td>0.9445</td><td>0.1851</td><td>0.6600</td><td>2.5615</td><td>0.5838</td><td>2.3253791e-11 .. 8.3778735e-21</td><td>-8.939083e-12 .. 6.2386546e-12</td><td>7.2875863e-13 .. 8.224765e-21</td><td>4.8207045 .. 0.0</td><td>8.06</td><td>64.177</td><td>0.9859</td><td>1</td><td></td><td>3FGL J2359.5-2052</td><td>N</td><td></td><td>bll</td><td>TXS 2356-210</td><td></td><td>0.9894</td><td>0.9906</td><td>0.0960</td><td>4073799600000000.0</td></tr>\n",
       "</table>"
      ],
      "text/plain": [
       "<Table masked=True length=1556>\n",
       "   Source_Name     RAJ2000  DEJ2000  ... Redshift     NuPeak_obs    \n",
       "                     deg      deg    ...                  Hz        \n",
       "     bytes18       float32  float32  ... float32       float32      \n",
       "------------------ -------- -------- ... -------- ------------------\n",
       "3FHL J0001.2-0748    0.3107  -7.8075 ...      nan  306196370000000.0\n",
       "3FHL J0001.9-4155    0.4849 -41.9303 ...      nan 6309576500000000.0\n",
       "3FHL J0002.1-6728    0.5283 -67.4825 ...      nan 4466832000000000.0\n",
       "3FHL J0003.3-5248    0.8300 -52.8150 ...      nan       7.079464e+16\n",
       "3FHL J0007.0+7303    1.7647  73.0560 ...      nan                nan\n",
       "3FHL J0007.9+4711    1.9931  47.1920 ...   0.2800 2511884200000000.0\n",
       "3FHL J0008.4-2339    2.1243 -23.6514 ...   0.1470  524807800000000.0\n",
       "3FHL J0009.1+0628    2.2874   6.4814 ...      nan  663742400000000.0\n",
       "3FHL J0009.4+5030    2.3504  50.5049 ...      nan 1412536400000000.0\n",
       "               ...      ...      ... ...      ...                ...\n",
       "3FHL J2347.9-1630  356.9978 -16.5106 ...   0.5760    9332549000000.0\n",
       "3FHL J2350.5-3006  357.6354 -30.1070 ...   0.2237 3981075200000000.0\n",
       "3FHL J2351.5-7559  357.8926 -75.9890 ...      nan                nan\n",
       "3FHL J2352.1+1753  358.0415  17.8865 ...      nan 1737799900000000.0\n",
       "3FHL J2356.2+4035  359.0746  40.5985 ...   0.1310 6309576500000000.0\n",
       "3FHL J2357.4-1717  359.3690 -17.2996 ...      nan       8.912525e+16\n",
       "3FHL J2358.4-1808  359.6205 -18.1408 ...      nan                nan\n",
       "3FHL J2358.5+3829  359.6266  38.4963 ...      nan                nan\n",
       "3FHL J2359.1-3038  359.7760 -30.6397 ...   0.1650       2.818388e+17\n",
       "3FHL J2359.3-2049  359.8293 -20.8256 ...   0.0960 4073799600000000.0"
      ]
     },
     "execution_count": 24,
     "metadata": {},
     "output_type": "execute_result"
    }
   ],
   "source": [
    "fermi_3fhl = SourceCatalog3FHL()\n",
    "fermi_3fhl.table"
   ]
  },
  {
   "cell_type": "markdown",
   "metadata": {},
   "source": [
    "This looks very familiar again. The data is just stored as an [astropy.table.Table](http://docs.astropy.org/en/stable/api/astropy.table.Table.html#astropy.table.Table) object. We have all the methods and attributes of the `Table` object available. E.g. we can sort the underlying table by `Signif_Avg` to find the top 5 most significant sources:\n",
    "\n"
   ]
  },
  {
   "cell_type": "code",
   "execution_count": 25,
   "metadata": {},
   "outputs": [
    {
     "data": {
      "text/html": [
       "<i>Table length=5</i>\n",
       "<table id=\"table4408833080\" class=\"table-striped table-bordered table-condensed\">\n",
       "<thead><tr><th>Source_Name</th><th>ASSOC1</th><th>ASSOC2</th><th>CLASS</th><th>Signif_Avg</th></tr></thead>\n",
       "<thead><tr><th>bytes18</th><th>bytes26</th><th>bytes26</th><th>bytes7</th><th>float32</th></tr></thead>\n",
       "<tr><td>3FHL J0534.5+2201</td><td>Crab Nebula</td><td></td><td>PWN</td><td>168.641</td></tr>\n",
       "<tr><td>3FHL J1104.4+3812</td><td>Mkn 421</td><td></td><td>BLL</td><td>144.406</td></tr>\n",
       "<tr><td>3FHL J0835.3-4510</td><td>PSR J0835-4510</td><td>Vela X field</td><td>PSR</td><td>138.801</td></tr>\n",
       "<tr><td>3FHL J0633.9+1746</td><td>PSR J0633+1746</td><td></td><td>PSR</td><td>99.734</td></tr>\n",
       "<tr><td>3FHL J1555.7+1111</td><td>PG 1553+113</td><td></td><td>BLL</td><td>94.411</td></tr>\n",
       "</table>"
      ],
      "text/plain": [
       "<Table length=5>\n",
       "   Source_Name               ASSOC1           ...  CLASS  Signif_Avg\n",
       "     bytes18                bytes26           ...  bytes7  float32  \n",
       "------------------ -------------------------- ... ------- ----------\n",
       "3FHL J0534.5+2201  Crab Nebula                ... PWN        168.641\n",
       "3FHL J1104.4+3812  Mkn 421                    ... BLL        144.406\n",
       "3FHL J0835.3-4510  PSR J0835-4510             ... PSR        138.801\n",
       "3FHL J0633.9+1746  PSR J0633+1746             ... PSR         99.734\n",
       "3FHL J1555.7+1111  PG 1553+113                ... BLL         94.411"
      ]
     },
     "execution_count": 25,
     "metadata": {},
     "output_type": "execute_result"
    }
   ],
   "source": [
    "# sort table by significance\n",
    "fermi_3fhl.table.sort(\"Signif_Avg\")\n",
    "\n",
    "# invert the order to find the highest values and take the top 5\n",
    "top_five_TS_3fhl = fermi_3fhl.table[::-1][:5]\n",
    "\n",
    "# print the top five significant sources with association and source class\n",
    "top_five_TS_3fhl[[\"Source_Name\", \"ASSOC1\", \"ASSOC2\", \"CLASS\", \"Signif_Avg\"]]"
   ]
  },
  {
   "cell_type": "markdown",
   "metadata": {},
   "source": [
    "If you are interested in the data of an individual source you can access the information from catalog using the name of the source or any alias source name that is defined in the catalog:"
   ]
  },
  {
   "cell_type": "code",
   "execution_count": 26,
   "metadata": {},
   "outputs": [
    {
     "name": "stdout",
     "output_type": "stream",
     "text": [
      "144.40611\n"
     ]
    }
   ],
   "source": [
    "mkn_421_3fhl = fermi_3fhl[\"3FHL J1104.4+3812\"]\n",
    "\n",
    "# or use any alias source name that is defined in the catalog\n",
    "mkn_421_3fhl = fermi_3fhl[\"Mkn 421\"]\n",
    "print(mkn_421_3fhl.data[\"Signif_Avg\"])"
   ]
  },
  {
   "cell_type": "markdown",
   "metadata": {},
   "source": [
    "### Exercises\n",
    "\n",
    "* Try to load the Fermi-LAT 2FHL catalog and check the total number of sources it contains.\n",
    "* Select all the sources from the 2FHL catalog which are contained in the Galactic Center region. The methods `~gammapy.maps.WcsGeom.contains()` and `~gammapy.catalog.SourceCatalog.positions` might be helpful for this. Add markers for all these sources and try to add labels with the source names. The function [ax.text()](http://matplotlib.org/api/_as_gen/matplotlib.axes.Axes.text.html#matplotlib.axes.Axes.text) might be also helpful.\n",
    "* Try to find the source class of the object at position ra=68.6803, dec=9.3331\n",
    " "
   ]
  },
  {
   "cell_type": "code",
   "execution_count": null,
   "metadata": {},
   "outputs": [],
   "source": []
  },
  {
   "cell_type": "markdown",
   "metadata": {},
   "source": [
    "## Spectral models and flux points\n",
    "\n",
    "In the previous section we learned how access basic data from individual sources in the catalog. Now we will go one step further and explore the full spectral information of sources. We will learn how to:\n",
    "\n",
    "* Plot spectral models\n",
    "* Compute integral and energy fluxes\n",
    "* Read and plot flux points\n",
    "\n",
    "As a first example we will start with the Crab Nebula:"
   ]
  },
  {
   "cell_type": "code",
   "execution_count": 27,
   "metadata": {},
   "outputs": [
    {
     "name": "stdout",
     "output_type": "stream",
     "text": [
      "PowerLawSpectralModel\n",
      "\n",
      "   name     value         unit      min max frozen   error  \n",
      "--------- ---------- -------------- --- --- ------ ---------\n",
      "    index 2.2202e+00                nan nan  False 2.498e-02\n",
      "amplitude 1.7132e-07 cm-2 s-1 TeV-1 nan nan  False 3.389e-09\n",
      "reference 2.2726e-02            TeV nan nan   True 0.000e+00\n"
     ]
    }
   ],
   "source": [
    "crab_3fhl = fermi_3fhl[\"Crab Nebula\"]\n",
    "crab_3fhl_spec = crab_3fhl.spectral_model()\n",
    "print(crab_3fhl_spec)"
   ]
  },
  {
   "cell_type": "markdown",
   "metadata": {},
   "source": [
    "The `crab_3fhl_spec` is an instance of the `~gammapy.modeling.models.PowerLaw2SpectralModel` model, with the parameter values and errors taken from the 3FHL catalog. \n",
    "\n",
    "Let's plot the spectral model in the energy range between 10 GeV and 2000 GeV:"
   ]
  },
  {
   "cell_type": "code",
   "execution_count": 28,
   "metadata": {},
   "outputs": [
    {
     "data": {
      "image/png": "[encoded data removed]",
      "text/plain": [
       "<Figure size 432x288 with 1 Axes>"
      ]
     },
     "metadata": {
      "needs_background": "light"
     },
     "output_type": "display_data"
    }
   ],
   "source": [
    "ax_crab_3fhl = crab_3fhl_spec.plot(\n",
    "    energy_range=[10, 2000] * u.GeV, energy_power=0\n",
    ")"
   ]
  },
  {
   "cell_type": "markdown",
   "metadata": {},
   "source": [
    "We assign the return axes object to variable called `ax_crab_3fhl`, because we will re-use it later to plot the flux points on top.\n",
    "\n",
    "To compute the differential flux at 100 GeV we can simply call the model like normal Python function and convert to the desired units:"
   ]
  },
  {
   "cell_type": "code",
   "execution_count": 29,
   "metadata": {},
   "outputs": [
    {
     "data": {
      "text/latex": [
       "$$6.3848913 \\times 10^{-12} \\; \\mathrm{\\frac{1}{GeV\\,s\\,cm^{2}}}$$"
      ],
      "text/plain": [
       "<Quantity 6.38489128e-12 1 / (cm2 GeV s)>"
      ]
     },
     "execution_count": 29,
     "metadata": {},
     "output_type": "execute_result"
    }
   ],
   "source": [
    "crab_3fhl_spec(100 * u.GeV).to(\"cm-2 s-1 GeV-1\")"
   ]
  },
  {
   "cell_type": "markdown",
   "metadata": {},
   "source": [
    "Next we can compute the integral flux of the Crab between 10 GeV and 2000 GeV:"
   ]
  },
  {
   "cell_type": "code",
   "execution_count": 30,
   "metadata": {},
   "outputs": [
    {
     "data": {
      "text/latex": [
       "$$8.6745734 \\times 10^{-9} \\; \\mathrm{\\frac{1}{s\\,cm^{2}}}$$"
      ],
      "text/plain": [
       "<Quantity 8.67457342e-09 1 / (cm2 s)>"
      ]
     },
     "execution_count": 30,
     "metadata": {},
     "output_type": "execute_result"
    }
   ],
   "source": [
    "crab_3fhl_spec.integral(energy_min=10 * u.GeV, energy_max=2000 * u.GeV).to(\n",
    "    \"cm-2 s-1\"\n",
    ")"
   ]
  },
  {
   "cell_type": "markdown",
   "metadata": {},
   "source": [
    "We can easily convince ourself, that it corresponds to the value given in the Fermi-LAT 3FHL catalog:"
   ]
  },
  {
   "cell_type": "code",
   "execution_count": 31,
   "metadata": {},
   "outputs": [
    {
     "data": {
      "text/latex": [
       "$$8.6589091 \\times 10^{-9} \\; \\mathrm{\\frac{1}{s\\,cm^{2}}}$$"
      ],
      "text/plain": [
       "<Quantity 8.658909e-09 1 / (cm2 s)>"
      ]
     },
     "execution_count": 31,
     "metadata": {},
     "output_type": "execute_result"
    }
   ],
   "source": [
    "crab_3fhl.data[\"Flux\"]"
   ]
  },
  {
   "cell_type": "markdown",
   "metadata": {},
   "source": [
    "In addition we can compute the energy flux between 10 GeV and 2000 GeV:"
   ]
  },
  {
   "cell_type": "code",
   "execution_count": 32,
   "metadata": {},
   "outputs": [
    {
     "data": {
      "text/latex": [
       "$$5.3114892 \\times 10^{-10} \\; \\mathrm{\\frac{erg}{s\\,cm^{2}}}$$"
      ],
      "text/plain": [
       "<Quantity 5.31148917e-10 erg / (cm2 s)>"
      ]
     },
     "execution_count": 32,
     "metadata": {},
     "output_type": "execute_result"
    }
   ],
   "source": [
    "crab_3fhl_spec.energy_flux(energy_min=10 * u.GeV, energy_max=2000 * u.GeV).to(\n",
    "    \"erg cm-2 s-1\"\n",
    ")"
   ]
  },
  {
   "cell_type": "markdown",
   "metadata": {},
   "source": [
    "Next we will access the flux points data of the Crab:"
   ]
  },
  {
   "cell_type": "code",
   "execution_count": 33,
   "metadata": {},
   "outputs": [
    {
     "name": "stdout",
     "output_type": "stream",
     "text": [
      "FluxPoints(sed_type='flux', n_points=5)\n"
     ]
    }
   ],
   "source": [
    "print(crab_3fhl.flux_points)"
   ]
  },
  {
   "cell_type": "markdown",
   "metadata": {},
   "source": [
    "If you want to learn more about the different flux point formats you can read the specification [here](https://gamma-astro-data-formats.readthedocs.io/en/latest/spectra/flux_points/index.html).\n",
    "\n",
    "No we can check again the underlying astropy data structure by accessing the `.table` attribute:"
   ]
  },
  {
   "cell_type": "code",
   "execution_count": 34,
   "metadata": {},
   "outputs": [
    {
     "data": {
      "text/html": [
       "<i>Table length=5</i>\n",
       "<table id=\"table4697655840\" class=\"table-striped table-bordered table-condensed\">\n",
       "<thead><tr><th>e_min</th><th>e_max</th><th>flux</th><th>flux_errn</th><th>flux_errp</th><th>e2dnde</th><th>e2dnde_errn</th><th>e2dnde_errp</th><th>is_ul</th><th>flux_ul</th><th>e2dnde_ul</th><th>sqrt_ts</th></tr></thead>\n",
       "<thead><tr><th>GeV</th><th>GeV</th><th>1 / (cm2 s)</th><th>1 / (cm2 s)</th><th>1 / (cm2 s)</th><th>erg / (cm2 s)</th><th>erg / (cm2 s)</th><th>erg / (cm2 s)</th><th></th><th>1 / (cm2 s)</th><th>erg / (cm2 s)</th><th></th></tr></thead>\n",
       "<thead><tr><th>float64</th><th>float64</th><th>float32</th><th>float32</th><th>float32</th><th>float32</th><th>float32</th><th>float32</th><th>bool</th><th>float64</th><th>float64</th><th>float32</th></tr></thead>\n",
       "<tr><td>10.0</td><td>20.0</td><td>5.1698894e-09</td><td>1.3338798e-10</td><td>1.3338798e-10</td><td>1.6420408e-10</td><td>4.236619e-12</td><td>4.236619e-12</td><td>False</td><td>nan</td><td>nan</td><td>125.15745</td></tr>\n",
       "<tr><td>20.0</td><td>50.0</td><td>2.2450237e-09</td><td>8.671894e-11</td><td>8.671894e-11</td><td>1.1808442e-10</td><td>4.561268e-12</td><td>4.561268e-12</td><td>False</td><td>nan</td><td>nan</td><td>88.71535</td></tr>\n",
       "<tr><td>50.0</td><td>150.0</td><td>9.2431746e-10</td><td>5.497474e-11</td><td>5.497474e-11</td><td>1.08686914e-10</td><td>6.464267e-12</td><td>6.464267e-12</td><td>False</td><td>nan</td><td>nan</td><td>59.087498</td></tr>\n",
       "<tr><td>150.0</td><td>500.0</td><td>2.7589558e-10</td><td>2.9164688e-11</td><td>3.1360175e-11</td><td>9.2301645e-11</td><td>9.757128e-12</td><td>1.0491635e-11</td><td>False</td><td>nan</td><td>nan</td><td>33.076164</td></tr>\n",
       "<tr><td>500.0</td><td>2000.0</td><td>6.6840214e-11</td><td>1.4629655e-11</td><td>1.6916293e-11</td><td>6.9011685e-11</td><td>1.5104936e-11</td><td>1.746586e-11</td><td>False</td><td>nan</td><td>nan</td><td>15.573053</td></tr>\n",
       "</table>"
      ],
      "text/plain": [
       "<Table length=5>\n",
       " e_min   e_max       flux     ...   flux_ul     e2dnde_ul    sqrt_ts \n",
       "  GeV     GeV    1 / (cm2 s)  ... 1 / (cm2 s) erg / (cm2 s)          \n",
       "float64 float64    float32    ...   float64      float64     float32 \n",
       "------- ------- ------------- ... ----------- ------------- ---------\n",
       "   10.0    20.0 5.1698894e-09 ...         nan           nan 125.15745\n",
       "   20.0    50.0 2.2450237e-09 ...         nan           nan  88.71535\n",
       "   50.0   150.0 9.2431746e-10 ...         nan           nan 59.087498\n",
       "  150.0   500.0 2.7589558e-10 ...         nan           nan 33.076164\n",
       "  500.0  2000.0 6.6840214e-11 ...         nan           nan 15.573053"
      ]
     },
     "execution_count": 34,
     "metadata": {},
     "output_type": "execute_result"
    }
   ],
   "source": [
    "crab_3fhl.flux_points.table"
   ]
  },
  {
   "cell_type": "markdown",
   "metadata": {},
   "source": [
    "Finally let's combine spectral model and flux points in a single plot and scale with `energy_power=2` to obtain the spectral energy distribution:"
   ]
  },
  {
   "cell_type": "code",
   "execution_count": 35,
   "metadata": {},
   "outputs": [
    {
     "name": "stdout",
     "output_type": "stream",
     "text": [
      "(array([0.00414214, 0.01162278, 0.03660254, 0.12386128, 0.5       ]), array([0.00585786, 0.01837722, 0.06339746, 0.22613872, 1.        ]))\n"
     ]
    },
    {
     "data": {
      "image/png": "[encoded data removed]",
      "text/plain": [
       "<Figure size 432x288 with 1 Axes>"
      ]
     },
     "metadata": {
      "needs_background": "light"
     },
     "output_type": "display_data"
    }
   ],
   "source": [
    "ax = crab_3fhl_spec.plot(energy_range=[10, 2000] * u.GeV, energy_power=2)\n",
    "crab_3fhl.flux_points.to_sed_type(\"dnde\").plot(ax=ax, energy_power=2);"
   ]
  },
  {
   "cell_type": "markdown",
   "metadata": {},
   "source": [
    "### Exercises\n",
    "\n",
    "* Plot the spectral model and flux points for PKS 2155-304 for the 3FGL and 2FHL catalogs. Try to plot the error of the model (aka \"Butterfly\") as well. Note this requires the [uncertainties package](https://pythonhosted.org/uncertainties/) to be installed on your machine.\n"
   ]
  },
  {
   "cell_type": "code",
   "execution_count": null,
   "metadata": {},
   "outputs": [],
   "source": []
  },
  {
   "cell_type": "markdown",
   "metadata": {},
   "source": [
    "## What next?\n",
    "\n",
    "This was a quick introduction to some of the high-level classes in Astropy and Gammapy.\n",
    "\n",
    "* To learn more about those classes, go to the API docs (links are in the introduction at the top).\n",
    "* To learn more about other parts of Gammapy (e.g. Fermi-LAT and TeV data analysis), check out the other tutorial notebooks.\n",
    "* To see what's available in Gammapy, browse the Gammapy docs or use the full-text search.\n",
    "* If you have any questions, ask on the mailing list."
   ]
  }
 ],
 "metadata": {
  "file_extension": ".py",
  "kernelspec": {
   "display_name": "Python 3",
   "language": "python",
   "name": "python3"
  },
  "language_info": {
   "codemirror_mode": {
    "name": "ipython",
    "version": 3
   },
   "file_extension": ".py",
   "mimetype": "text/x-python",
   "name": "python",
   "nbconvert_exporter": "python",
   "pygments_lexer": "ipython3",
   "version": "3.7.0"
  },
  "mimetype": "text/x-python",
  "name": "python",
  "nbsphinx": {
   "orphan": true
  },
  "npconvert_exporter": "python",
  "pygments_lexer": "ipython3",
  "version": 3.0
 },
 "nbformat": 4,
 "nbformat_minor": 4
}
