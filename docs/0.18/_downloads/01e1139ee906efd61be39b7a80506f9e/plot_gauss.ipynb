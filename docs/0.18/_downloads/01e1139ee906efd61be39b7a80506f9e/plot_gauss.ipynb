{
  "cells": [
    {
      "cell_type": "code",
      "execution_count": null,
      "metadata": {
        "collapsed": false
      },
      "outputs": [],
      "source": [
        "%matplotlib inline"
      ]
    },
    {
      "cell_type": "markdown",
      "metadata": {},
      "source": [
        "\n\nGaussian Spatial Model\n======================\n\nThis is a spatial model parametrising a Gaussian function.\n\nBy default, the Gaussian is symmetric:\n\n\\begin{align}\\phi(\\text{lon}, \\text{lat}) = N \\times \\exp\\left\\{-\\frac{1}{2}\n        \\frac{1-\\cos \\theta}{1-\\cos \\sigma}\\right\\}\\,,\\end{align}\n\nwhere $\\theta$ is the sky separation to the model center. In this case, the\nGaussian is normalized to 1 on the sphere:\n\n\\begin{align}N = \\frac{1}{4\\pi a\\left[1-\\exp(-1/a)\\right]}\\,,\\,\\,\\,\\,\n    a = 1-\\cos \\sigma\\,.\\end{align}\n\nIn the limit of small $\\theta$ and $\\sigma$, this definition\nreduces to the usual form:\n\n\\begin{align}\\phi(\\text{lon}, \\text{lat}) = \\frac{1}{2\\pi\\sigma^2} \\exp{\\left(-\\frac{1}{2}\n        \\frac{\\theta^2}{\\sigma^2}\\right)}\\,.\\end{align}\n\nIn case an eccentricity ($e$) and rotation angle ($\\phi$) are passed,\nthen the model is an elongated Gaussian, whose evaluation is performed as in the symmetric case\nbut using the effective radius of the Gaussian:\n\n\\begin{align}\\sigma_{eff}(\\text{lon}, \\text{lat}) = \\sqrt{\n        (\\sigma_M \\sin(\\Delta \\phi))^2 +\n        (\\sigma_m \\cos(\\Delta \\phi))^2\n    }.\\end{align}\n\nHere, $\\sigma_M$ ($\\sigma_m$) is the major (minor) semiaxis of the Gaussian, and\n$\\Delta \\phi$ is the difference between `phi`, the position angle of the Gaussian, and the\nposition angle of the evaluation point.\n\n**Caveat:** For the asymmetric Gaussian, the model is normalized to 1 on the plane, i.e. in small angle\napproximation: $N = 1/(2 \\pi \\sigma_M \\sigma_m)$. This means that for huge elongated Gaussians on the sky\nthis model is not correctly normalized. However, this approximation is perfectly acceptable for the more\ncommon case of models with modest dimensions: indeed, the error introduced by normalizing on the plane\nrather than on the sphere is below 0.1\\% for Gaussians with radii smaller than ~ 5 deg.\n"
      ]
    },
    {
      "cell_type": "markdown",
      "metadata": {},
      "source": [
        "Example plot\n------------\nHere is an example plot of the model:\n\n"
      ]
    },
    {
      "cell_type": "code",
      "execution_count": null,
      "metadata": {
        "collapsed": false
      },
      "outputs": [],
      "source": [
        "import numpy as np\nfrom astropy.coordinates import Angle\nfrom gammapy.maps import WcsGeom\nfrom gammapy.modeling.models import (\n    GaussianSpatialModel,\n    Models,\n    PowerLawSpectralModel,\n    SkyModel,\n)\n\nphi = Angle(\"30 deg\")\nmodel = GaussianSpatialModel(\n    lon_0=\"2 deg\", lat_0=\"2 deg\", sigma=\"1 deg\", e=0.7, phi=phi, frame=\"galactic\",\n)\n\ngeom = WcsGeom.create(\n    skydir=model.position, frame=model.frame, width=(4, 4), binsz=0.02\n)\nax = model.plot(geom=geom, add_cbar=True)\n\n# illustrate size parameter\nregion = model.to_region().to_pixel(ax.wcs)\nartist = region.as_artist(facecolor=\"none\", edgecolor=\"red\")\nax.add_artist(artist)\n\ntransform = ax.get_transform(\"galactic\")\nax.scatter(2, 2, transform=transform, s=20, edgecolor=\"red\", facecolor=\"red\")\nax.text(1.5, 1.85, r\"$(l_0, b_0)$\", transform=transform, ha=\"center\")\nax.plot([2, 2 + np.sin(phi)], [2, 2 + np.cos(phi)], color=\"r\", transform=transform)\nax.vlines(x=2, color=\"r\", linestyle=\"--\", transform=transform, ymin=-5, ymax=5)\nax.text(2.25, 2.45, r\"$\\phi$\", transform=transform)"
      ]
    },
    {
      "cell_type": "markdown",
      "metadata": {},
      "source": [
        "YAML representation\n-------------------\nHere is an example YAML file using the model:\n\n"
      ]
    },
    {
      "cell_type": "code",
      "execution_count": null,
      "metadata": {
        "collapsed": false
      },
      "outputs": [],
      "source": [
        "pwl = PowerLawSpectralModel()\ngauss = GaussianSpatialModel()\n\nmodel = SkyModel(spectral_model=pwl, spatial_model=gauss, name=\"pwl-gauss-model\")\nmodels = Models([model])\n\nprint(models.to_yaml())"
      ]
    }
  ],
  "metadata": {
    "kernelspec": {
      "display_name": "Python 3",
      "language": "python",
      "name": "python3"
    },
    "language_info": {
      "codemirror_mode": {
        "name": "ipython",
        "version": 3
      },
      "file_extension": ".py",
      "mimetype": "text/x-python",
      "name": "python",
      "nbconvert_exporter": "python",
      "pygments_lexer": "ipython3",
      "version": "3.7.0"
    }
  },
  "nbformat": 4,
  "nbformat_minor": 0
}