{
  "cells": [
    {
      "cell_type": "code",
      "execution_count": null,
      "metadata": {
        "collapsed": false
      },
      "outputs": [],
      "source": [
        "%matplotlib inline"
      ]
    },
    {
      "cell_type": "markdown",
      "metadata": {},
      "source": [
        "\n\nGaussian Temporal Model\n=======================\n\nThis model parametrises a gaussian time model.\n\n\n\\begin{align}F(t) = exp(-0.5* \\frac{ (t - t_{ref})^2 } { \\sigma^2 })\\end{align}\n"
      ]
    },
    {
      "cell_type": "markdown",
      "metadata": {},
      "source": [
        "Example plot\n------------\nHere is an example plot of the model:\n\n"
      ]
    },
    {
      "cell_type": "code",
      "execution_count": null,
      "metadata": {
        "collapsed": false
      },
      "outputs": [],
      "source": [
        "from astropy import units as u\nfrom astropy.time import Time\nimport matplotlib.pyplot as plt"
      ]
    },
    {
      "cell_type": "markdown",
      "metadata": {},
      "source": [
        "YAML representation\n-------------------\nHere is an example YAML file using the model:\n\n"
      ]
    },
    {
      "cell_type": "code",
      "execution_count": null,
      "metadata": {
        "collapsed": false
      },
      "outputs": [],
      "source": [
        "from gammapy.modeling.models import (\n    GaussianTemporalModel,\n    Models,\n    PowerLawSpectralModel,\n    SkyModel,\n)\n\nsigma = \"3 h\"\nt_ref = Time(\"2020-10-01\")\ntime_range = [t_ref - 0.5 * u.d, t_ref + 0.5 * u.d]\ngaussian_model = GaussianTemporalModel(t_ref=t_ref.mjd * u.d, sigma=sigma)\ngaussian_model.plot(time_range)\nplt.grid(which=\"both\")\n\n\nmodel = SkyModel(\n    spectral_model=PowerLawSpectralModel(),\n    temporal_model=gaussian_model,\n    name=\"gaissian_model\",\n)\nmodels = Models([model])\n\nprint(models.to_yaml())"
      ]
    }
  ],
  "metadata": {
    "kernelspec": {
      "display_name": "Python 3",
      "language": "python",
      "name": "python3"
    },
    "language_info": {
      "codemirror_mode": {
        "name": "ipython",
        "version": 3
      },
      "file_extension": ".py",
      "mimetype": "text/x-python",
      "name": "python",
      "nbconvert_exporter": "python",
      "pygments_lexer": "ipython3",
      "version": "3.7.0"
    }
  },
  "nbformat": 4,
  "nbformat_minor": 0
}