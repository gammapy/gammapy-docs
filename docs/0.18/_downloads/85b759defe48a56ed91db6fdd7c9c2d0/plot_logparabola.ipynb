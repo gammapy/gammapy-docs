{
  "cells": [
    {
      "cell_type": "code",
      "execution_count": null,
      "metadata": {
        "collapsed": false
      },
      "outputs": [],
      "source": [
        "%matplotlib inline"
      ]
    },
    {
      "cell_type": "markdown",
      "metadata": {},
      "source": [
        "\n\nLog Parabola Spectral Model\n===========================\n\nThis model parametrises a log parabola spectrum.\n\nIt is defined by the following equation:\n\n\\begin{align}\\phi(E) = \\phi_0 \\left( \\frac{E}{E_0} \\right) ^ {\n          - \\alpha - \\beta \\log{ \\left( \\frac{E}{E_0} \\right) }\n        }\\end{align}\n\nNote that $log$ refers to the natural logarithm. This is consistent\nwith the `Fermi Science Tools\n<https://fermi.gsfc.nasa.gov/ssc/data/analysis/scitools/source_models.html>`_\nand `ctools\n<http://cta.irap.omp.eu/ctools-devel/users/user_manual/getting_started/models.html#log-parabola>`_.\nThe `Sherpa <http://cxc.harvard.edu/sherpa/ahelp/logparabola.html_\npackage>`_ package, however, uses $log_{10}$. If you have\nparametrization based on $log_{10}$ you can use the\n:func:`~gammapy.modeling.models.LogParabolaSpectralModel.from_log10` method.\n"
      ]
    },
    {
      "cell_type": "markdown",
      "metadata": {},
      "source": [
        "Example plot\n------------\nHere is an example plot of the model:\n\n"
      ]
    },
    {
      "cell_type": "code",
      "execution_count": null,
      "metadata": {
        "collapsed": false
      },
      "outputs": [],
      "source": [
        "from astropy import units as u\nimport matplotlib.pyplot as plt\nfrom gammapy.modeling.models import LogParabolaSpectralModel, Models, SkyModel\n\nenergy_range = [0.1, 100] * u.TeV\nmodel = LogParabolaSpectralModel(\n    alpha=2.3, amplitude=\"1e-12 cm-2 s-1 TeV-1\", reference=1 * u.TeV, beta=0.5,\n)\nmodel.plot(energy_range)\nplt.grid(which=\"both\")"
      ]
    },
    {
      "cell_type": "markdown",
      "metadata": {},
      "source": [
        "YAML representation\n-------------------\nHere is an example YAML file using the model:\n\n"
      ]
    },
    {
      "cell_type": "code",
      "execution_count": null,
      "metadata": {
        "collapsed": false
      },
      "outputs": [],
      "source": [
        "model = SkyModel(spectral_model=model, name=\"log-parabola-model\")\nmodels = Models([model])\n\nprint(models.to_yaml())"
      ]
    }
  ],
  "metadata": {
    "kernelspec": {
      "display_name": "Python 3",
      "language": "python",
      "name": "python3"
    },
    "language_info": {
      "codemirror_mode": {
        "name": "ipython",
        "version": 3
      },
      "file_extension": ".py",
      "mimetype": "text/x-python",
      "name": "python",
      "nbconvert_exporter": "python",
      "pygments_lexer": "ipython3",
      "version": "3.7.0"
    }
  },
  "nbformat": 4,
  "nbformat_minor": 0
}