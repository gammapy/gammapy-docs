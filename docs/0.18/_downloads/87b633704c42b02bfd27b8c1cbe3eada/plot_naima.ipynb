{
  "cells": [
    {
      "cell_type": "code",
      "execution_count": null,
      "metadata": {
        "collapsed": false
      },
      "outputs": [],
      "source": [
        "%matplotlib inline"
      ]
    },
    {
      "cell_type": "markdown",
      "metadata": {},
      "source": [
        "\n\nNaima Spectral Model\n=======================\n\nThis class provides an interface with the models defined in the naima models module.\n\nThe model accepts as a positional argument a `Naima <https://naima.readthedocs.io/en/latest/>`_\nradiative `~naima.models` instance, used to compute the non-thermal emission from populations of\nrelativistic electrons or protons due to interactions with the ISM or with radiation and magnetic fields.\n\nOne of the advantages provided by this class consists in the possibility of performing a maximum\nlikelihood spectral fit of the model's parameters directly on observations, as opposed to the MCMC\n`fit to flux points <https://naima.readthedocs.io/en/latest/mcmc.html>`_ featured in\nNaima. All the parameters defining the parent population of charged particles are stored as\n`~gammapy.modeling.Parameter` and left free by default. In case that the radiative model is\n`~naima.radiative.Synchrotron`, the magnetic field strength may also be fitted. Parameters can be\nfreezed/unfreezed before the fit, and maximum/minimum values can be set to limit the parameters space to\nthe physically interesting region.\n"
      ]
    },
    {
      "cell_type": "markdown",
      "metadata": {},
      "source": [
        "Example plot\n------------\nHere we create and plot a spectral model that convolves an `~gammapy.modeling.models.ExpCutoffPowerLawSpectralModel`\nelectron distribution with an `InverseCompton` radiative model, in the presence of multiple seed photon fields.\n\n"
      ]
    },
    {
      "cell_type": "code",
      "execution_count": null,
      "metadata": {
        "collapsed": false
      },
      "outputs": [],
      "source": [
        "from astropy import units as u\nimport matplotlib.pyplot as plt\nimport naima\nfrom gammapy.modeling.models import Models, NaimaSpectralModel, SkyModel\n\nparticle_distribution = naima.models.ExponentialCutoffPowerLaw(\n    1e30 / u.eV, 10 * u.TeV, 3.0, 30 * u.TeV\n)\nradiative_model = naima.radiative.InverseCompton(\n    particle_distribution,\n    seed_photon_fields=[\"CMB\", [\"FIR\", 26.5 * u.K, 0.415 * u.eV / u.cm ** 3]],\n    Eemin=100 * u.GeV,\n)\n\nmodel = NaimaSpectralModel(radiative_model, distance=1.5 * u.kpc)\n\nopts = {\n    \"energy_range\": [10 * u.GeV, 80 * u.TeV],\n    \"energy_power\": 2,\n    \"flux_unit\": \"erg-1 cm-2 s-1\",\n}\n\n# Plot the total inverse Compton emission\nmodel.plot(label=\"IC (total)\", **opts)\n\n# Plot the separate contributions from each seed photon field\nfor seed, ls in zip([\"CMB\", \"FIR\"], [\"-\", \"--\"]):\n    model = NaimaSpectralModel(radiative_model, seed=seed, distance=1.5 * u.kpc)\n    model.plot(label=f\"IC ({seed})\", ls=ls, color=\"gray\", **opts)\n\nplt.legend(loc=\"best\")\nplt.grid(which=\"both\")"
      ]
    },
    {
      "cell_type": "markdown",
      "metadata": {},
      "source": [
        "YAML representation\n-------------------\nHere is an example YAML file using the model:\n\n"
      ]
    },
    {
      "cell_type": "code",
      "execution_count": null,
      "metadata": {
        "collapsed": false
      },
      "outputs": [],
      "source": [
        "model = SkyModel(spectral_model=model, name=\"naima-model\")\nmodels = Models([model])\n\nprint(models.to_yaml())"
      ]
    }
  ],
  "metadata": {
    "kernelspec": {
      "display_name": "Python 3",
      "language": "python",
      "name": "python3"
    },
    "language_info": {
      "codemirror_mode": {
        "name": "ipython",
        "version": 3
      },
      "file_extension": ".py",
      "mimetype": "text/x-python",
      "name": "python",
      "nbconvert_exporter": "python",
      "pygments_lexer": "ipython3",
      "version": "3.7.0"
    }
  },
  "nbformat": 4,
  "nbformat_minor": 0
}