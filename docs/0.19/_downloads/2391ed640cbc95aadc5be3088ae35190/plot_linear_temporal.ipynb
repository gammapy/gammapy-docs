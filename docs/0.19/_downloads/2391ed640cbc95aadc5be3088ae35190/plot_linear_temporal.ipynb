{
  "cells": [
    {
      "cell_type": "code",
      "execution_count": null,
      "metadata": {
        "collapsed": false
      },
      "outputs": [],
      "source": [
        "%matplotlib inline"
      ]
    },
    {
      "cell_type": "markdown",
      "metadata": {},
      "source": [
        "\n\n# Linear temporal model\n\nThis model parametrises a linear time model.\n\n\\begin{align}F(t) = alpha + beta * (t - t_{ref})\\end{align}\n"
      ]
    },
    {
      "cell_type": "markdown",
      "metadata": {},
      "source": [
        "## Example plot\nHere is an example plot of the model:\n\n"
      ]
    },
    {
      "cell_type": "code",
      "execution_count": null,
      "metadata": {
        "collapsed": false
      },
      "outputs": [],
      "source": [
        "from astropy import units as u\nfrom astropy.time import Time\nimport matplotlib.pyplot as plt\nfrom gammapy.modeling.models import (\n    LinearTemporalModel,\n    Models,\n    PowerLawSpectralModel,\n    SkyModel,\n)\n\ntime_range = [Time.now(), Time.now() + 2 * u.d]\nlinear_model = LinearTemporalModel(\n    alpha=1, beta=0.5 / u.d, t_ref=(time_range[0].mjd - 0.1) * u.d\n)\nlinear_model.plot(time_range)\nplt.grid(which=\"both\")"
      ]
    },
    {
      "cell_type": "markdown",
      "metadata": {},
      "source": [
        "## YAML representation\nHere is an example YAML file using the model:\n\n"
      ]
    },
    {
      "cell_type": "code",
      "execution_count": null,
      "metadata": {
        "collapsed": false
      },
      "outputs": [],
      "source": [
        "model = SkyModel(\n    spectral_model=PowerLawSpectralModel(),\n    temporal_model=linear_model,\n    name=\"linear-model\",\n)\nmodels = Models([model])\n\nprint(models.to_yaml())"
      ]
    }
  ],
  "metadata": {
    "kernelspec": {
      "display_name": "Python 3",
      "language": "python",
      "name": "python3"
    },
    "language_info": {
      "codemirror_mode": {
        "name": "ipython",
        "version": 3
      },
      "file_extension": ".py",
      "mimetype": "text/x-python",
      "name": "python",
      "nbconvert_exporter": "python",
      "pygments_lexer": "ipython3",
      "version": "3.9.0"
    }
  },
  "nbformat": 4,
  "nbformat_minor": 0
}