{
  "cells": [
    {
      "cell_type": "code",
      "execution_count": null,
      "metadata": {
        "collapsed": false
      },
      "outputs": [],
      "source": [
        "%matplotlib inline"
      ]
    },
    {
      "cell_type": "markdown",
      "metadata": {},
      "source": [
        "\n\n# Shell2 spatial model\n\nThis is a spatial model parametrizing a projected radiating shell.\n\nThe shell spatial model is defined by the following equations:\n\n\\begin{align}\\phi(lon, lat) = \\frac{3}{2 \\pi (r_{out}^3 - r_{in}^3)} \\cdot\n            \\begin{cases}\n                \\sqrt{r_{out}^2 - \\theta^2} - \\sqrt{r_{in}^2 - \\theta^2} &\n                             \\text{for } \\theta \\lt r_{in} \\\\\n                \\sqrt{r_{out}^2 - \\theta^2} &\n                             \\text{for } r_{in} \\leq \\theta \\lt r_{out} \\\\\n                0 & \\text{for } \\theta > r_{out}\n            \\end{cases}\\end{align}\n\nwhere $\\theta$ is the sky separation, $r_{\\text{out}}$ is the outer radius\nand  $r_{\\text{in}}$ is the inner radius.\n\nFor Shell2SpatialModel, the radius parameter  r_0 correspond to $r_{\\text{out}}$\nand the relative width parameter is given as eta = $(r_{\\text{out}} - r_{\\text{in}})/r_{\\text{out}}$\nso we have $r_{\\text{in}} = (1-eta) r_{\\text{out}}$.\n\nNote that the normalization is a small angle approximation,\nalthough that approximation is still very good even for 10 deg radius shells.\n"
      ]
    },
    {
      "cell_type": "markdown",
      "metadata": {},
      "source": [
        "## Example plot\nHere is an example plot of the shell model for the parametrization using outer radius and relative width.\nIn this case the relative width, eta, acts as a shape parameter.\n\n"
      ]
    },
    {
      "cell_type": "code",
      "execution_count": null,
      "metadata": {
        "collapsed": false
      },
      "outputs": [],
      "source": [
        "import matplotlib.pyplot as plt\nfrom gammapy.modeling.models import (\n    Models,\n    PowerLawSpectralModel,\n    Shell2SpatialModel,\n    SkyModel,\n)\n\ntags = [\n    r\"Disk-like, $\\eta \\rightarrow 0$\",\n    r\"Shell, $\\eta=0.25$\",\n    r\"Peaked, $\\eta\\rightarrow 1$\",\n]\neta_range = [0.001, 0.25, 1]\nfig, axes = plt.subplots(1, 3, figsize=(9, 6))\nfor ax, eta, tag in zip(axes, eta_range, tags):\n    model = Shell2SpatialModel(\n        lon_0=\"10 deg\",\n        lat_0=\"20 deg\",\n        r_0=\"2 deg\",\n        eta=eta,\n        frame=\"galactic\",\n    )\n    model.plot(ax=ax)\n    ax.set_title(tag)\n    ax.set_xticks([])\n    ax.set_yticks([])\nplt.tight_layout()"
      ]
    },
    {
      "cell_type": "markdown",
      "metadata": {},
      "source": [
        "## YAML representation\nHere is an example YAML file using the model:\n\n"
      ]
    },
    {
      "cell_type": "code",
      "execution_count": null,
      "metadata": {
        "collapsed": false
      },
      "outputs": [],
      "source": [
        "pwl = PowerLawSpectralModel()\nshell2 = Shell2SpatialModel()\n\nmodel = SkyModel(spectral_model=pwl, spatial_model=shell2, name=\"pwl-shell2-model\")\n\nmodels = Models([model])\n\nprint(models.to_yaml())"
      ]
    }
  ],
  "metadata": {
    "kernelspec": {
      "display_name": "Python 3",
      "language": "python",
      "name": "python3"
    },
    "language_info": {
      "codemirror_mode": {
        "name": "ipython",
        "version": 3
      },
      "file_extension": ".py",
      "mimetype": "text/x-python",
      "name": "python",
      "nbconvert_exporter": "python",
      "pygments_lexer": "ipython3",
      "version": "3.9.0"
    }
  },
  "nbformat": 4,
  "nbformat_minor": 0
}