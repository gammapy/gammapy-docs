{
 "cells": [
  {
   "cell_type": "markdown",
   "metadata": {},
   "source": [
    "\n",
    "<div class=\"alert alert-info\">\n",
    "\n",
    "**This is a fixed-text formatted version of a Jupyter notebook**\n",
    "\n",
    "- Try online[![Binder](https://static.mybinder.org/badge.svg)](https://mybinder.org/v2/gh/gammapy/gammapy-webpage/v0.19?urlpath=lab/tree/analysis/1D/extended_source_spectral_analysis.ipynb)\n",
    "- You may download all the notebooks in the documentation as a\n",
    "[tar file](../../../_downloads/notebooks-0.19.tar).\n",
    "- **Source files:**\n",
    "[extended_source_spectral_analysis.ipynb](../../../_static/notebooks/extended_source_spectral_analysis.ipynb) |\n",
    "[extended_source_spectral_analysis.py](../../../_static/notebooks/extended_source_spectral_analysis.py)\n",
    "</div>\n"
   ]
  },
  {
   "cell_type": "markdown",
   "metadata": {},
   "source": [
    "# Spectral analysis of extended sources\n",
    "\n",
    "## Prerequisites:\n",
    "\n",
    "- Understanding of spectral analysis techniques in classical Cherenkov astronomy.\n",
    "- Understanding the basic data reduction and modeling/fitting processes with the gammapy library API as shown in the [first gammapy analysis with the gammapy library API tutorial](../../starting/analysis_2.ipynb)\n",
    "\n",
    "## Context\n",
    "\n",
    "Many VHE sources in the Galaxy are extended. Studying them with a 1D spectral analysis is more complex than studying point sources. \n",
    "One often has to use complex (i.e. non circular) regions and more importantly, one has to take into account the fact that the instrument response is non uniform over the selectred region.\n",
    "A typical example is given by the supernova remnant RX J1713-3935 which is nearly 1 degree in diameter. See the [following article](https://ui.adsabs.harvard.edu/abs/2018A%26A...612A...6H/abstract).\n",
    "\n",
    "**Objective: Measure the spectrum of RX J1713-3945 in a 1 degree region fully enclosing it.**\n",
    "\n",
    "## Proposed approach:\n",
    "\n",
    "We have seen in the general presentation of the spectrum extraction for point sources, see [the corresponding notebook](spectral_analysis.ipynb), that Gammapy uses specific datasets makers to first produce reduced spectral data and then to extract OFF measurements with reflected background techniques: the `~gammapy.makers.SpectrumDatasetMaker` and the `~gammapy.makers.ReflectedRegionsBackgroundMaker`. However if the flag `use_region_center` is not set to `False`, the former simply computes the reduced IRFs at the center of the ON region (assumed to be circular).\n",
    "\n",
    "This is no longer valid for extended sources. To be able to compute average responses in the ON region, we can set `use_region_center=False` with the `~gammapy.makers.SpectrumDatasetMaker`, in which case the values of the IRFs are averaged over the entire region.\n",
    "\n",
    "In summary we have to:\n",
    "\n",
    "- Define an ON region (a `~regions.SkyRegion`) fully enclosing the source we want to study.\n",
    "- Define a `~gammapy.maps.RegionGeom` with the ON region and the required energy range (beware in particular, the true energy range).  \n",
    "- Create the necessary makers : \n",
    "    - the spectrum dataset maker : `~gammapy.makers.SpectrumDatasetMaker` with `use_region_center=False`\n",
    "    - the OFF background maker, here a `~gammapy.makers.ReflectedRegionsBackgroundMaker`\n",
    "    - and usually the safe range maker : `~gammapy.makers.SafeRangeMaker`\n",
    "- Perform the data reduction loop. And for every observation:\n",
    "    - Produce a spectrum dataset\n",
    "    - Extract the OFF data to produce a `~gammapy.datasets.SpectrumDatasetOnOff` and compute a safe range for it.\n",
    "    - Stack or store the resulting spectrum dataset.\n",
    "- Finally proceed with model fitting on the dataset as usual.\n",
    "\n",
    "Here, we will use the RX J1713-3945 observations from the H.E.S.S. first public test data release. The tutorial is implemented with the intermediate level API.\n",
    "\n",
    "## Setup \n",
    "\n",
    "As usual, we'll start with some general imports..."
   ]
  },
  {
   "cell_type": "code",
   "execution_count": 1,
   "metadata": {
    "execution": {
     "iopub.execute_input": "2021-11-22T21:07:31.347937Z",
     "iopub.status.busy": "2021-11-22T21:07:31.347036Z",
     "iopub.status.idle": "2021-11-22T21:07:31.504549Z",
     "shell.execute_reply": "2021-11-22T21:07:31.504747Z"
    }
   },
   "outputs": [],
   "source": [
    "%matplotlib inline\n",
    "import matplotlib.pyplot as plt"
   ]
  },
  {
   "cell_type": "code",
   "execution_count": 2,
   "metadata": {
    "execution": {
     "iopub.execute_input": "2021-11-22T21:07:31.507154Z",
     "iopub.status.busy": "2021-11-22T21:07:31.506778Z",
     "iopub.status.idle": "2021-11-22T21:07:32.023205Z",
     "shell.execute_reply": "2021-11-22T21:07:32.023379Z"
    }
   },
   "outputs": [],
   "source": [
    "import astropy.units as u\n",
    "from astropy.coordinates import SkyCoord, Angle\n",
    "from regions import CircleSkyRegion\n",
    "from gammapy.maps import MapAxis, RegionGeom\n",
    "from gammapy.modeling import Fit\n",
    "from gammapy.data import DataStore\n",
    "from gammapy.modeling.models import PowerLawSpectralModel, SkyModel\n",
    "from gammapy.datasets import Datasets, SpectrumDataset\n",
    "from gammapy.makers import (\n",
    "    SafeMaskMaker,\n",
    "    SpectrumDatasetMaker,\n",
    "    ReflectedRegionsBackgroundMaker,\n",
    ")"
   ]
  },
  {
   "cell_type": "markdown",
   "metadata": {},
   "source": [
    "## Select the data\n",
    "\n",
    "We first set the datastore and retrieve a few observations from our source."
   ]
  },
  {
   "cell_type": "code",
   "execution_count": 3,
   "metadata": {
    "execution": {
     "iopub.execute_input": "2021-11-22T21:07:32.025700Z",
     "iopub.status.busy": "2021-11-22T21:07:32.025401Z",
     "iopub.status.idle": "2021-11-22T21:07:32.046829Z",
     "shell.execute_reply": "2021-11-22T21:07:32.047036Z"
    }
   },
   "outputs": [
    {
     "name": "stderr",
     "output_type": "stream",
     "text": [
      "No HDU found matching: OBS_ID = 20326, HDU_TYPE = rad_max, HDU_CLASS = None\n",
      "No HDU found matching: OBS_ID = 20327, HDU_TYPE = rad_max, HDU_CLASS = None\n",
      "No HDU found matching: OBS_ID = 20349, HDU_TYPE = rad_max, HDU_CLASS = None\n",
      "No HDU found matching: OBS_ID = 20350, HDU_TYPE = rad_max, HDU_CLASS = None\n",
      "No HDU found matching: OBS_ID = 20396, HDU_TYPE = rad_max, HDU_CLASS = None\n",
      "No HDU found matching: OBS_ID = 20397, HDU_TYPE = rad_max, HDU_CLASS = None\n"
     ]
    }
   ],
   "source": [
    "datastore = DataStore.from_dir(\"$GAMMAPY_DATA/hess-dl3-dr1/\")\n",
    "obs_ids = [20326, 20327, 20349, 20350, 20396, 20397]\n",
    "# In case you want to use all RX J1713 data in the HESS DR1\n",
    "# other_ids=[20421, 20422, 20517, 20518, 20519, 20521, 20898, 20899, 20900]\n",
    "\n",
    "observations = datastore.get_observations(obs_ids)"
   ]
  },
  {
   "cell_type": "markdown",
   "metadata": {},
   "source": [
    "## Prepare the datasets creation"
   ]
  },
  {
   "cell_type": "markdown",
   "metadata": {},
   "source": [
    "### Select the ON region\n",
    "\n",
    "Here we take a simple 1 degree circular region because it fits well with the morphology of RX J1713-3945. More complex regions could be used e.g. `~regions.EllipseSkyRegion` or `~regions.RectangleSkyRegion`."
   ]
  },
  {
   "cell_type": "code",
   "execution_count": 4,
   "metadata": {
    "execution": {
     "iopub.execute_input": "2021-11-22T21:07:32.049532Z",
     "iopub.status.busy": "2021-11-22T21:07:32.049250Z",
     "iopub.status.idle": "2021-11-22T21:07:32.050328Z",
     "shell.execute_reply": "2021-11-22T21:07:32.050497Z"
    }
   },
   "outputs": [],
   "source": [
    "target_position = SkyCoord(347.3, -0.5, unit=\"deg\", frame=\"galactic\")\n",
    "radius = Angle(\"0.5 deg\")\n",
    "on_region = CircleSkyRegion(target_position, radius)"
   ]
  },
  {
   "cell_type": "markdown",
   "metadata": {},
   "source": [
    "### Define the geometries\n",
    "\n",
    "This part is especially important. \n",
    "- We have to define first energy axes. They define the axes of the resulting `~gammapy.datasets.SpectrumDatasetOnOff`. In particular, we have to be careful to the true energy axis: it has to cover a larger range than the reconstructed energy one.\n",
    "- Then we define the region geometry itself from the on region."
   ]
  },
  {
   "cell_type": "code",
   "execution_count": 5,
   "metadata": {
    "execution": {
     "iopub.execute_input": "2021-11-22T21:07:32.053500Z",
     "iopub.status.busy": "2021-11-22T21:07:32.053209Z",
     "iopub.status.idle": "2021-11-22T21:07:32.054305Z",
     "shell.execute_reply": "2021-11-22T21:07:32.054476Z"
    }
   },
   "outputs": [],
   "source": [
    "# The binning of the final spectrum is defined here.\n",
    "energy_axis = MapAxis.from_energy_bounds(0.1, 40.0, 10, unit=\"TeV\")\n",
    "\n",
    "# Reduced IRFs are defined in true energy (i.e. not measured energy).\n",
    "energy_axis_true = MapAxis.from_energy_bounds(\n",
    "    0.05, 100, 30, unit=\"TeV\", name=\"energy_true\"\n",
    ")\n",
    "\n",
    "geom = RegionGeom(on_region, axes=[energy_axis])"
   ]
  },
  {
   "cell_type": "markdown",
   "metadata": {},
   "source": [
    "### Create the makers\n",
    "\n",
    "First we instantiate the target `~gammapy.datasets.SpectrumDataset`.  "
   ]
  },
  {
   "cell_type": "code",
   "execution_count": 6,
   "metadata": {
    "execution": {
     "iopub.execute_input": "2021-11-22T21:07:32.057296Z",
     "iopub.status.busy": "2021-11-22T21:07:32.057017Z",
     "iopub.status.idle": "2021-11-22T21:07:32.063315Z",
     "shell.execute_reply": "2021-11-22T21:07:32.063498Z"
    }
   },
   "outputs": [],
   "source": [
    "dataset_empty = SpectrumDataset.create(\n",
    "    geom=geom,\n",
    "    energy_axis_true=energy_axis_true,\n",
    ")"
   ]
  },
  {
   "cell_type": "markdown",
   "metadata": {},
   "source": [
    "Now we create its associated maker. Here we need to produce, counts, exposure and edisp (energy dispersion) entries. PSF and IRF background are not needed, therefore we don't compute them.\n",
    "\n",
    "**IMPORTANT**: Note that `use_region_center` is set to `False`. This is necessary so that the `~gammapy.makers.SpectrumDatasetMaker` considers the whole region in the IRF computation and not only the center."
   ]
  },
  {
   "cell_type": "code",
   "execution_count": 7,
   "metadata": {
    "execution": {
     "iopub.execute_input": "2021-11-22T21:07:32.065250Z",
     "iopub.status.busy": "2021-11-22T21:07:32.064971Z",
     "iopub.status.idle": "2021-11-22T21:07:32.066125Z",
     "shell.execute_reply": "2021-11-22T21:07:32.066298Z"
    }
   },
   "outputs": [],
   "source": [
    "maker = SpectrumDatasetMaker(\n",
    "    selection=[\"counts\", \"exposure\", \"edisp\"], use_region_center=False\n",
    ")"
   ]
  },
  {
   "cell_type": "markdown",
   "metadata": {},
   "source": [
    "Now we create the OFF background maker for the spectra. If we have an exclusion region, we have to pass it here. We also define the safe range maker."
   ]
  },
  {
   "cell_type": "code",
   "execution_count": 8,
   "metadata": {
    "execution": {
     "iopub.execute_input": "2021-11-22T21:07:32.068216Z",
     "iopub.status.busy": "2021-11-22T21:07:32.067941Z",
     "iopub.status.idle": "2021-11-22T21:07:32.069134Z",
     "shell.execute_reply": "2021-11-22T21:07:32.069304Z"
    }
   },
   "outputs": [],
   "source": [
    "bkg_maker = ReflectedRegionsBackgroundMaker()\n",
    "safe_mask_maker = SafeMaskMaker(methods=[\"aeff-max\"], aeff_percent=10)"
   ]
  },
  {
   "cell_type": "markdown",
   "metadata": {},
   "source": [
    "## Perform the data reduction loop.\n",
    "\n",
    "We can now run over selected observations. For each of them, we:\n",
    "- create the `~gammapy.datasets.SpectrumDataset`\n",
    "- Compute the OFF via the reflected background method and create a `~gammapy.datasets.SpectrumDatasetOnOff` object\n",
    "- Run the safe mask maker on it\n",
    "- Add the `~gammapy.datasets.SpectrumDatasetOnOff` to the list."
   ]
  },
  {
   "cell_type": "code",
   "execution_count": 9,
   "metadata": {
    "execution": {
     "iopub.execute_input": "2021-11-22T21:07:32.073215Z",
     "iopub.status.busy": "2021-11-22T21:07:32.072873Z",
     "iopub.status.idle": "2021-11-22T21:07:34.086858Z",
     "shell.execute_reply": "2021-11-22T21:07:34.087097Z"
    }
   },
   "outputs": [
    {
     "name": "stdout",
     "output_type": "stream",
     "text": [
      "CPU times: user 1.92 s, sys: 90.6 ms, total: 2.01 s\n",
      "Wall time: 2.01 s\n"
     ]
    }
   ],
   "source": [
    "%%time\n",
    "datasets = Datasets()\n",
    "\n",
    "for obs in observations:\n",
    "    # A SpectrumDataset is filled in this geometry\n",
    "    dataset = maker.run(dataset_empty.copy(name=f\"obs-{obs.obs_id}\"), obs)\n",
    "\n",
    "    # Define safe mask\n",
    "    dataset = safe_mask_maker.run(dataset, obs)\n",
    "\n",
    "    # Compute OFF\n",
    "    dataset = bkg_maker.run(dataset, obs)\n",
    "\n",
    "    # Append dataset to the list\n",
    "    datasets.append(dataset)"
   ]
  },
  {
   "cell_type": "code",
   "execution_count": 10,
   "metadata": {
    "execution": {
     "iopub.execute_input": "2021-11-22T21:07:34.091085Z",
     "iopub.status.busy": "2021-11-22T21:07:34.090777Z",
     "iopub.status.idle": "2021-11-22T21:07:34.092543Z",
     "shell.execute_reply": "2021-11-22T21:07:34.092718Z"
    }
   },
   "outputs": [
    {
     "data": {
      "text/html": [
       "<div><i>Table length=6</i>\n",
       "<table id=\"table5097236992\" class=\"table-striped table-bordered table-condensed\">\n",
       "<thead><tr><th>NAME</th><th>TYPE</th><th>TELESCOP</th><th>OBS_ID</th><th>RA_PNT</th><th>DEC_PNT</th></tr></thead>\n",
       "<thead><tr><th></th><th></th><th></th><th></th><th>deg</th><th>deg</th></tr></thead>\n",
       "<thead><tr><th>str9</th><th>str20</th><th>str4</th><th>int64</th><th>float64</th><th>float64</th></tr></thead>\n",
       "<tr><td>obs-20326</td><td>SpectrumDatasetOnOff</td><td>HESS</td><td>20326</td><td>259.29852294921875</td><td>-39.76222229003906</td></tr>\n",
       "<tr><td>obs-20327</td><td>SpectrumDatasetOnOff</td><td>HESS</td><td>20327</td><td>257.4773254394531</td><td>-39.76222229003906</td></tr>\n",
       "<tr><td>obs-20349</td><td>SpectrumDatasetOnOff</td><td>HESS</td><td>20349</td><td>259.29852294921875</td><td>-39.76222229003906</td></tr>\n",
       "<tr><td>obs-20350</td><td>SpectrumDatasetOnOff</td><td>HESS</td><td>20350</td><td>257.4773254394531</td><td>-39.76222229003906</td></tr>\n",
       "<tr><td>obs-20396</td><td>SpectrumDatasetOnOff</td><td>HESS</td><td>20396</td><td>258.3879089355469</td><td>-39.06222152709961</td></tr>\n",
       "<tr><td>obs-20397</td><td>SpectrumDatasetOnOff</td><td>HESS</td><td>20397</td><td>258.3879089355469</td><td>-40.462223052978516</td></tr>\n",
       "</table></div>"
      ],
      "text/plain": [
       "<Table length=6>\n",
       "   NAME           TYPE         TELESCOP OBS_ID       RA_PNT             DEC_PNT      \n",
       "                                                      deg                 deg        \n",
       "   str9          str20           str4   int64       float64             float64      \n",
       "--------- -------------------- -------- ------ ------------------ -------------------\n",
       "obs-20326 SpectrumDatasetOnOff     HESS  20326 259.29852294921875  -39.76222229003906\n",
       "obs-20327 SpectrumDatasetOnOff     HESS  20327  257.4773254394531  -39.76222229003906\n",
       "obs-20349 SpectrumDatasetOnOff     HESS  20349 259.29852294921875  -39.76222229003906\n",
       "obs-20350 SpectrumDatasetOnOff     HESS  20350  257.4773254394531  -39.76222229003906\n",
       "obs-20396 SpectrumDatasetOnOff     HESS  20396  258.3879089355469  -39.06222152709961\n",
       "obs-20397 SpectrumDatasetOnOff     HESS  20397  258.3879089355469 -40.462223052978516"
      ]
     },
     "execution_count": 10,
     "metadata": {},
     "output_type": "execute_result"
    }
   ],
   "source": [
    "datasets.meta_table"
   ]
  },
  {
   "cell_type": "markdown",
   "metadata": {},
   "source": [
    "## Explore the results\n",
    "We can peek at the content of the spectrum datasets"
   ]
  },
  {
   "cell_type": "code",
   "execution_count": 11,
   "metadata": {
    "execution": {
     "iopub.execute_input": "2021-11-22T21:07:34.112795Z",
     "iopub.status.busy": "2021-11-22T21:07:34.112495Z",
     "iopub.status.idle": "2021-11-22T21:07:34.720980Z",
     "shell.execute_reply": "2021-11-22T21:07:34.721217Z"
    }
   },
   "outputs": [
    {
     "data": {
      "image/png": "[encoded data removed]",
      "text/plain": [
       "<Figure size 1152x288 with 4 Axes>"
      ]
     },
     "metadata": {
      "needs_background": "light"
     },
     "output_type": "display_data"
    }
   ],
   "source": [
    "datasets[0].peek();"
   ]
  },
  {
   "cell_type": "markdown",
   "metadata": {},
   "source": [
    "### Cumulative excess and signficance\n",
    "\n",
    "Finally, we can look at cumulative significance and number of excesses. This is done with the `info_table` method of `~gammapy.datasets.Datasets`. "
   ]
  },
  {
   "cell_type": "code",
   "execution_count": 12,
   "metadata": {
    "execution": {
     "iopub.execute_input": "2021-11-22T21:07:34.867089Z",
     "iopub.status.busy": "2021-11-22T21:07:34.866786Z",
     "iopub.status.idle": "2021-11-22T21:07:34.867984Z",
     "shell.execute_reply": "2021-11-22T21:07:34.868173Z"
    }
   },
   "outputs": [],
   "source": [
    "info_table = datasets.info_table(cumulative=True)"
   ]
  },
  {
   "cell_type": "code",
   "execution_count": 13,
   "metadata": {
    "execution": {
     "iopub.execute_input": "2021-11-22T21:07:34.871352Z",
     "iopub.status.busy": "2021-11-22T21:07:34.871006Z",
     "iopub.status.idle": "2021-11-22T21:07:34.872503Z",
     "shell.execute_reply": "2021-11-22T21:07:34.872728Z"
    }
   },
   "outputs": [
    {
     "data": {
      "text/html": [
       "<div><i>Table length=6</i>\n",
       "<table id=\"table5257448848\" class=\"table-striped table-bordered table-condensed\">\n",
       "<thead><tr><th>name</th><th>counts</th><th>background</th><th>excess</th><th>sqrt_ts</th><th>npred</th><th>npred_background</th><th>npred_signal</th><th>exposure_min</th><th>exposure_max</th><th>livetime</th><th>ontime</th><th>counts_rate</th><th>background_rate</th><th>excess_rate</th><th>n_bins</th><th>n_fit_bins</th><th>stat_type</th><th>stat_sum</th><th>counts_off</th><th>acceptance</th><th>acceptance_off</th><th>alpha</th></tr></thead>\n",
       "<thead><tr><th></th><th></th><th></th><th></th><th></th><th></th><th></th><th></th><th>m2 s</th><th>m2 s</th><th>s</th><th>s</th><th>1 / s</th><th>1 / s</th><th>1 / s</th><th></th><th></th><th></th><th></th><th></th><th></th><th></th><th></th></tr></thead>\n",
       "<thead><tr><th>str7</th><th>int64</th><th>float64</th><th>float32</th><th>float64</th><th>float64</th><th>float64</th><th>float64</th><th>float64</th><th>float64</th><th>float64</th><th>float64</th><th>float64</th><th>float64</th><th>float64</th><th>int64</th><th>int64</th><th>str5</th><th>float64</th><th>int64</th><th>float64</th><th>float64</th><th>float64</th></tr></thead>\n",
       "<tr><td>stacked</td><td>1216</td><td>1045.5</td><td>170.5</td><td>4.159464335903991</td><td>1102.3333333333333</td><td>1102.3333333333333</td><td>nan</td><td>4305864.0</td><td>422089504.0</td><td>1500.0090848207474</td><td>1683.0</td><td>0.8106617568555015</td><td>0.6969957786121931</td><td>0.11366597824330839</td><td>10</td><td>9</td><td>wstat</td><td>43.26800161601427</td><td>2091</td><td>9.0</td><td>18.0</td><td>0.5</td></tr>\n",
       "<tr><td>stacked</td><td>2339</td><td>2068.5</td><td>270.5</td><td>4.7224642932828935</td><td>2158.666666666667</td><td>2158.666666666667</td><td>nan</td><td>14651096.0</td><td>831745088.0</td><td>2997.0830642580986</td><td>3366.0</td><td>0.7804254836623952</td><td>0.6901710615458163</td><td>0.09025442211657883</td><td>10</td><td>9</td><td>wstat</td><td>72.2340282463576</td><td>4137</td><td>9.0</td><td>18.0</td><td>0.5</td></tr>\n",
       "<tr><td>stacked</td><td>3521</td><td>3040.5</td><td>480.5</td><td>6.880790051412004</td><td>3200.6666666666665</td><td>3200.6666666666665</td><td>nan</td><td>25027040.0</td><td>1240954624.0</td><td>4491.585438072681</td><td>5048.0</td><td>0.7839102803554472</td><td>0.6769324644762106</td><td>0.10697781587923669</td><td>10</td><td>9</td><td>wstat</td><td>121.08402714166986</td><td>6081</td><td>9.0</td><td>18.0</td><td>0.5</td></tr>\n",
       "<tr><td>stacked</td><td>4684</td><td>4031.0</td><td>653.0</td><td>8.11478193157773</td><td>4248.666666666668</td><td>4248.666666666668</td><td>nan</td><td>29493964.0</td><td>1661560320.0</td><td>5989.239929735661</td><td>6730.0</td><td>0.782069186566505</td><td>0.6730403268679722</td><td>0.10902885969853283</td><td>10</td><td>9</td><td>wstat</td><td>159.53811351626462</td><td>8062</td><td>9.0</td><td>18.0</td><td>0.5</td></tr>\n",
       "<tr><td>stacked</td><td>5895</td><td>5020.33349609375</td><td>874.6665</td><td>9.869911438596262</td><td>5293.754465997458</td><td>5293.754465997458</td><td>nan</td><td>39191584.0</td><td>2070336896.0</td><td>7488.24085265398</td><td>8413.0</td><td>0.7872342938743344</td><td>0.6704289558627705</td><td>0.11680533801156395</td><td>10</td><td>9</td><td>wstat</td><td>214.86274893608885</td><td>11030</td><td>9.0</td><td>19.773586770130027</td><td>0.4523509740829468</td></tr>\n",
       "<tr><td>stacked</td><td>6985</td><td>5991.83349609375</td><td>993.1665</td><td>10.251113623835666</td><td>6305.481315567763</td><td>6305.481315567763</td><td>nan</td><td>41748740.0</td><td>2499471872.0</td><td>8993.412164390087</td><td>10095.0</td><td>0.7766796264111517</td><td>0.6662469579475904</td><td>0.11043266846356133</td><td>10</td><td>9</td><td>wstat</td><td>238.19703760223325</td><td>12973</td><td>9.0</td><td>19.48602211261666</td><td>0.45818132162094116</td></tr>\n",
       "</table></div>"
      ],
      "text/plain": [
       "<Table length=6>\n",
       "  name  counts    background     excess       sqrt_ts       ...      stat_sum      counts_off acceptance   acceptance_off          alpha       \n",
       "                                                            ...                                                                                \n",
       "  str7  int64      float64      float32       float64       ...      float64         int64     float64        float64             float64      \n",
       "------- ------ ---------------- -------- ------------------ ... ------------------ ---------- ---------- ------------------ -------------------\n",
       "stacked   1216           1045.5    170.5  4.159464335903991 ...  43.26800161601427       2091        9.0               18.0                 0.5\n",
       "stacked   2339           2068.5    270.5 4.7224642932828935 ...   72.2340282463576       4137        9.0               18.0                 0.5\n",
       "stacked   3521           3040.5    480.5  6.880790051412004 ... 121.08402714166986       6081        9.0               18.0                 0.5\n",
       "stacked   4684           4031.0    653.0   8.11478193157773 ... 159.53811351626462       8062        9.0               18.0                 0.5\n",
       "stacked   5895 5020.33349609375 874.6665  9.869911438596262 ... 214.86274893608885      11030        9.0 19.773586770130027  0.4523509740829468\n",
       "stacked   6985 5991.83349609375 993.1665 10.251113623835666 ... 238.19703760223325      12973        9.0  19.48602211261666 0.45818132162094116"
      ]
     },
     "execution_count": 13,
     "metadata": {},
     "output_type": "execute_result"
    }
   ],
   "source": [
    "info_table"
   ]
  },
  {
   "cell_type": "code",
   "execution_count": 14,
   "metadata": {
    "execution": {
     "iopub.execute_input": "2021-11-22T21:07:34.893866Z",
     "iopub.status.busy": "2021-11-22T21:07:34.893520Z",
     "iopub.status.idle": "2021-11-22T21:07:34.957040Z",
     "shell.execute_reply": "2021-11-22T21:07:34.957418Z"
    }
   },
   "outputs": [
    {
     "data": {
      "image/png": "[encoded data removed]",
      "text/plain": [
       "<Figure size 720x432 with 2 Axes>"
      ]
     },
     "metadata": {
      "needs_background": "light"
     },
     "output_type": "display_data"
    }
   ],
   "source": [
    "fig = plt.figure(figsize=(10, 6))\n",
    "ax = fig.add_subplot(121)\n",
    "ax.plot(\n",
    "    info_table[\"livetime\"].to(\"h\"),\n",
    "    info_table[\"excess\"],\n",
    "    marker=\"o\",\n",
    "    ls=\"none\",\n",
    ")\n",
    "\n",
    "plt.xlabel(\"Livetime [h]\")\n",
    "plt.ylabel(\"Excess events\")\n",
    "\n",
    "ax = fig.add_subplot(122)\n",
    "ax.plot(\n",
    "    info_table[\"livetime\"].to(\"h\"),\n",
    "    info_table[\"sqrt_ts\"],\n",
    "    marker=\"o\",\n",
    "    ls=\"none\",\n",
    ")\n",
    "\n",
    "plt.xlabel(\"Livetime [h]\")\n",
    "plt.ylabel(\"Sqrt(TS)\");"
   ]
  },
  {
   "cell_type": "markdown",
   "metadata": {},
   "source": [
    "## Perform spectral model fitting\n",
    "\n",
    "Here we perform a joint fit. \n",
    "\n",
    "We first create the model, here a simple powerlaw, and assign it to every dataset in the `~gammapy.datasets.Datasets`."
   ]
  },
  {
   "cell_type": "code",
   "execution_count": 15,
   "metadata": {
    "execution": {
     "iopub.execute_input": "2021-11-22T21:07:34.961954Z",
     "iopub.status.busy": "2021-11-22T21:07:34.960942Z",
     "iopub.status.idle": "2021-11-22T21:07:34.963169Z",
     "shell.execute_reply": "2021-11-22T21:07:34.963422Z"
    }
   },
   "outputs": [],
   "source": [
    "spectral_model = PowerLawSpectralModel(\n",
    "    index=2, amplitude=2e-11 * u.Unit(\"cm-2 s-1 TeV-1\"), reference=1 * u.TeV\n",
    ")\n",
    "model = SkyModel(spectral_model=spectral_model, name=\"RXJ 1713\")\n",
    "\n",
    "datasets.models = [model]"
   ]
  },
  {
   "cell_type": "markdown",
   "metadata": {},
   "source": [
    "Now we can run the fit"
   ]
  },
  {
   "cell_type": "code",
   "execution_count": 16,
   "metadata": {
    "execution": {
     "iopub.execute_input": "2021-11-22T21:07:34.965418Z",
     "iopub.status.busy": "2021-11-22T21:07:34.965103Z",
     "iopub.status.idle": "2021-11-22T21:07:35.501036Z",
     "shell.execute_reply": "2021-11-22T21:07:35.501222Z"
    }
   },
   "outputs": [
    {
     "name": "stdout",
     "output_type": "stream",
     "text": [
      "OptimizeResult\n",
      "\n",
      "\tbackend    : minuit\n",
      "\tmethod     : migrad\n",
      "\tsuccess    : True\n",
      "\tmessage    : Optimization terminated successfully.\n",
      "\tnfev       : 38\n",
      "\ttotal stat : 52.79\n",
      "\n",
      "OptimizeResult\n",
      "\n",
      "\tbackend    : minuit\n",
      "\tmethod     : migrad\n",
      "\tsuccess    : True\n",
      "\tmessage    : Optimization terminated successfully.\n",
      "\tnfev       : 38\n",
      "\ttotal stat : 52.79\n",
      "\n",
      "\n"
     ]
    }
   ],
   "source": [
    "fit_joint = Fit()\n",
    "result_joint = fit_joint.run(datasets=datasets)\n",
    "print(result_joint)"
   ]
  },
  {
   "cell_type": "markdown",
   "metadata": {},
   "source": [
    "### Explore the fit results\n",
    "\n",
    "First the fitted parameters values and their errors."
   ]
  },
  {
   "cell_type": "code",
   "execution_count": 17,
   "metadata": {
    "execution": {
     "iopub.execute_input": "2021-11-22T21:07:35.504445Z",
     "iopub.status.busy": "2021-11-22T21:07:35.504073Z",
     "iopub.status.idle": "2021-11-22T21:07:35.505699Z",
     "shell.execute_reply": "2021-11-22T21:07:35.505869Z"
    }
   },
   "outputs": [
    {
     "data": {
      "text/html": [
       "<div><i>Table length=3</i>\n",
       "<table id=\"table5247429504\" class=\"table-striped table-bordered table-condensed\">\n",
       "<thead><tr><th>model</th><th>type</th><th>name</th><th>value</th><th>unit</th><th>error</th><th>min</th><th>max</th><th>frozen</th><th>link</th></tr></thead>\n",
       "<thead><tr><th>str8</th><th>str8</th><th>str9</th><th>float64</th><th>str14</th><th>float64</th><th>float64</th><th>float64</th><th>bool</th><th>str1</th></tr></thead>\n",
       "<tr><td>RXJ 1713</td><td>spectral</td><td>index</td><td>2.1102e+00</td><td></td><td>6.129e-02</td><td>nan</td><td>nan</td><td>False</td><td></td></tr>\n",
       "<tr><td>RXJ 1713</td><td>spectral</td><td>amplitude</td><td>1.3576e-11</td><td>cm-2 s-1 TeV-1</td><td>9.757e-13</td><td>nan</td><td>nan</td><td>False</td><td></td></tr>\n",
       "<tr><td>RXJ 1713</td><td>spectral</td><td>reference</td><td>1.0000e+00</td><td>TeV</td><td>0.000e+00</td><td>nan</td><td>nan</td><td>True</td><td></td></tr>\n",
       "</table></div>"
      ],
      "text/plain": [
       "<Table length=3>\n",
       " model     type      name     value         unit        error     min     max   frozen link\n",
       "  str8     str8      str9    float64       str14       float64  float64 float64  bool  str1\n",
       "-------- -------- --------- ---------- -------------- --------- ------- ------- ------ ----\n",
       "RXJ 1713 spectral     index 2.1102e+00                6.129e-02     nan     nan  False     \n",
       "RXJ 1713 spectral amplitude 1.3576e-11 cm-2 s-1 TeV-1 9.757e-13     nan     nan  False     \n",
       "RXJ 1713 spectral reference 1.0000e+00            TeV 0.000e+00     nan     nan   True     "
      ]
     },
     "execution_count": 17,
     "metadata": {},
     "output_type": "execute_result"
    }
   ],
   "source": [
    "datasets.models.to_parameters_table()"
   ]
  },
  {
   "cell_type": "markdown",
   "metadata": {},
   "source": [
    "Then plot the fit result to compare measured and expected counts. Rather than plotting them for each individual dataset, we stack all datasets and plot the fit result on the result."
   ]
  },
  {
   "cell_type": "code",
   "execution_count": 18,
   "metadata": {
    "execution": {
     "iopub.execute_input": "2021-11-22T21:07:35.661084Z",
     "iopub.status.busy": "2021-11-22T21:07:35.660709Z",
     "iopub.status.idle": "2021-11-22T21:07:35.883613Z",
     "shell.execute_reply": "2021-11-22T21:07:35.883919Z"
    },
    "nbsphinx-thumbnail": {
     "tooltip": "Perform a spectral analysis of an extended source."
    }
   },
   "outputs": [
    {
     "data": {
      "image/png": "[encoded data removed]",
      "text/plain": [
       "<Figure size 576x504 with 2 Axes>"
      ]
     },
     "metadata": {
      "needs_background": "light"
     },
     "output_type": "display_data"
    }
   ],
   "source": [
    "# First stack them all\n",
    "reduced = datasets.stack_reduce()\n",
    "# Assign the fitted model\n",
    "reduced.models = model\n",
    "# Plot the result\n",
    "\n",
    "ax_spectrum, ax_residuals = reduced.plot_fit()\n",
    "reduced.plot_masks(ax=ax_spectrum);"
   ]
  },
  {
   "cell_type": "code",
   "execution_count": null,
   "metadata": {},
   "outputs": [],
   "source": []
  }
 ],
 "metadata": {
  "kernelspec": {
   "display_name": "Python 3 (ipykernel)",
   "language": "python",
   "name": "python3"
  },
  "language_info": {
   "codemirror_mode": {
    "name": "ipython",
    "version": 3
   },
   "file_extension": ".py",
   "mimetype": "text/x-python",
   "name": "python",
   "nbconvert_exporter": "python",
   "pygments_lexer": "ipython3",
   "version": "3.9.0"
  },
  "latex_envs": {
   "LaTeX_envs_menu_present": true,
   "autoclose": false,
   "autocomplete": true,
   "bibliofile": "biblio.bib",
   "cite_by": "apalike",
   "current_citInitial": 1,
   "eqLabelWithNumbers": true,
   "eqNumInitial": 1,
   "hotkeys": {
    "equation": "Ctrl-E",
    "itemize": "Ctrl-I"
   },
   "labels_anchors": false,
   "latex_user_defs": false,
   "report_style_numbering": false,
   "user_envs_cfg": false
  },
  "nbsphinx": {
   "orphan": true
  }
 },
 "nbformat": 4,
 "nbformat_minor": 4
}
