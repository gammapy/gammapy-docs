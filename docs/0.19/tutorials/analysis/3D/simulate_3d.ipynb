{
 "cells": [
  {
   "cell_type": "markdown",
   "metadata": {},
   "source": [
    "\n",
    "<div class=\"alert alert-info\">\n",
    "\n",
    "**This is a fixed-text formatted version of a Jupyter notebook**\n",
    "\n",
    "- Try online[![Binder](https://static.mybinder.org/badge.svg)](https://mybinder.org/v2/gh/gammapy/gammapy-webpage/v0.19?urlpath=lab/tree/analysis/3D/simulate_3d.ipynb)\n",
    "- You may download all the notebooks in the documentation as a\n",
    "[tar file](../../../_downloads/notebooks-0.19.tar).\n",
    "- **Source files:**\n",
    "[simulate_3d.ipynb](../../../_static/notebooks/simulate_3d.ipynb) |\n",
    "[simulate_3d.py](../../../_static/notebooks/simulate_3d.py)\n",
    "</div>\n"
   ]
  },
  {
   "cell_type": "markdown",
   "metadata": {},
   "source": [
    "# 3D map simulation\n",
    "\n",
    "## Prerequisites\n",
    "\n",
    "- Knowledge of 3D extraction and datasets used in gammapy, see for instance the [first analysis tutorial](../../starting/analysis_1.ipynb)\n",
    "\n",
    "## Context\n",
    "\n",
    "To simulate a specific observation, it is not always necessary to simulate the full photon list. For many uses cases, simulating directly a reduced binned dataset is enough: the IRFs reduced in the correct geometry are combined with a source model to predict an actual number of counts per bin. The latter is then used to simulate a reduced dataset using Poisson probability distribution.\n",
    "\n",
    "This can be done to check the feasibility of a measurement (performance / sensitivity study), to test whether fitted parameters really provide a good fit to the data etc.\n",
    "\n",
    "Here we will see how to perform a 3D simulation of a CTA observation, assuming both the spectral and spatial morphology of an observed source.\n",
    "\n",
    "**Objective: simulate a 3D observation of a source with CTA using the CTA 1DC response and fit it with the assumed source model.**\n",
    "\n",
    "## Proposed approach:\n",
    "\n",
    "Here we can't use the regular observation objects that are connected to a `DataStore`. Instead we will create a fake `~gammapy.data.Observation` that contain some pointing information and the CTA 1DC IRFs (that are loaded with `~gammapy.irf.load_cta_irfs`).\n",
    "\n",
    "Then we will create a `~gammapy.datasets.MapDataset` geometry and create it with the `~gammapy.makers.MapDatasetMaker`.\n",
    "\n",
    "Then we will be able to define a model consisting of  a `~gammapy.modeling.models.PowerLawSpectralModel` and a `~gammapy.modeling.models.GaussianSpatialModel`. We will assign it to the dataset and fake the count data.\n"
   ]
  },
  {
   "cell_type": "markdown",
   "metadata": {},
   "source": [
    "## Imports and versions"
   ]
  },
  {
   "cell_type": "code",
   "execution_count": 1,
   "metadata": {
    "execution": {
     "iopub.execute_input": "2021-11-22T21:04:42.096182Z",
     "iopub.status.busy": "2021-11-22T21:04:42.094537Z",
     "iopub.status.idle": "2021-11-22T21:04:42.258756Z",
     "shell.execute_reply": "2021-11-22T21:04:42.258934Z"
    }
   },
   "outputs": [],
   "source": [
    "%matplotlib inline"
   ]
  },
  {
   "cell_type": "code",
   "execution_count": 2,
   "metadata": {
    "execution": {
     "iopub.execute_input": "2021-11-22T21:04:42.261330Z",
     "iopub.status.busy": "2021-11-22T21:04:42.260999Z",
     "iopub.status.idle": "2021-11-22T21:04:42.774177Z",
     "shell.execute_reply": "2021-11-22T21:04:42.774351Z"
    }
   },
   "outputs": [],
   "source": [
    "import numpy as np\n",
    "import astropy.units as u\n",
    "from astropy.coordinates import SkyCoord\n",
    "from gammapy.irf import load_cta_irfs\n",
    "from gammapy.maps import WcsGeom, MapAxis\n",
    "from gammapy.modeling.models import (\n",
    "    PowerLawSpectralModel,\n",
    "    GaussianSpatialModel,\n",
    "    SkyModel,\n",
    "    Models,\n",
    "    FoVBackgroundModel,\n",
    ")\n",
    "from gammapy.makers import MapDatasetMaker, SafeMaskMaker\n",
    "from gammapy.modeling import Fit\n",
    "from gammapy.data import Observation\n",
    "from gammapy.datasets import MapDataset"
   ]
  },
  {
   "cell_type": "code",
   "execution_count": 3,
   "metadata": {
    "execution": {
     "iopub.execute_input": "2021-11-22T21:04:42.776381Z",
     "iopub.status.busy": "2021-11-22T21:04:42.776072Z",
     "iopub.status.idle": "2021-11-22T21:04:43.850839Z",
     "shell.execute_reply": "2021-11-22T21:04:43.851236Z"
    }
   },
   "outputs": [
    {
     "name": "stdout",
     "output_type": "stream",
     "text": [
      "\r\n",
      "Gammapy package:\r\n",
      "\r\n",
      "\tversion                : 0.19       \r\n",
      "\tpath                   : /Users/adonath/github/adonath/gammapy/gammapy \r\n",
      "\r\n"
     ]
    }
   ],
   "source": [
    "!gammapy info --no-envvar --no-dependencies --no-system"
   ]
  },
  {
   "cell_type": "markdown",
   "metadata": {},
   "source": [
    "## Simulation"
   ]
  },
  {
   "cell_type": "markdown",
   "metadata": {},
   "source": [
    "We will simulate using the CTA-1DC IRFs shipped with gammapy. Note that for dedictaed CTA simulations, you can simply use [`Observation.from_caldb()`]() without having to externally load the IRFs"
   ]
  },
  {
   "cell_type": "code",
   "execution_count": 4,
   "metadata": {
    "execution": {
     "iopub.execute_input": "2021-11-22T21:04:43.856482Z",
     "iopub.status.busy": "2021-11-22T21:04:43.855968Z",
     "iopub.status.idle": "2021-11-22T21:04:43.920469Z",
     "shell.execute_reply": "2021-11-22T21:04:43.920675Z"
    }
   },
   "outputs": [
    {
     "name": "stderr",
     "output_type": "stream",
     "text": [
      "Invalid unit found in background table! Assuming (s-1 MeV-1 sr-1)\n"
     ]
    }
   ],
   "source": [
    "# Loading IRFs\n",
    "irfs = load_cta_irfs(\n",
    "    \"$GAMMAPY_DATA/cta-1dc/caldb/data/cta/1dc/bcf/South_z20_50h/irf_file.fits\"\n",
    ")"
   ]
  },
  {
   "cell_type": "code",
   "execution_count": 5,
   "metadata": {
    "execution": {
     "iopub.execute_input": "2021-11-22T21:04:43.923134Z",
     "iopub.status.busy": "2021-11-22T21:04:43.922823Z",
     "iopub.status.idle": "2021-11-22T21:04:43.924109Z",
     "shell.execute_reply": "2021-11-22T21:04:43.924292Z"
    }
   },
   "outputs": [],
   "source": [
    "# Define the observation parameters (typically the observation duration and the pointing position):\n",
    "livetime = 2.0 * u.hr\n",
    "pointing = SkyCoord(0, 0, unit=\"deg\", frame=\"galactic\")"
   ]
  },
  {
   "cell_type": "code",
   "execution_count": 6,
   "metadata": {
    "execution": {
     "iopub.execute_input": "2021-11-22T21:04:43.926811Z",
     "iopub.status.busy": "2021-11-22T21:04:43.926501Z",
     "iopub.status.idle": "2021-11-22T21:04:43.936510Z",
     "shell.execute_reply": "2021-11-22T21:04:43.936685Z"
    }
   },
   "outputs": [],
   "source": [
    "# Define map geometry for binned simulation\n",
    "energy_reco = MapAxis.from_edges(\n",
    "    np.logspace(-1.0, 1.0, 10), unit=\"TeV\", name=\"energy\", interp=\"log\"\n",
    ")\n",
    "geom = WcsGeom.create(\n",
    "    skydir=(0, 0),\n",
    "    binsz=0.02,\n",
    "    width=(6, 6),\n",
    "    frame=\"galactic\",\n",
    "    axes=[energy_reco],\n",
    ")\n",
    "# It is usually useful to have a separate binning for the true energy axis\n",
    "energy_true = MapAxis.from_edges(\n",
    "    np.logspace(-1.5, 1.5, 30), unit=\"TeV\", name=\"energy_true\", interp=\"log\"\n",
    ")\n",
    "\n",
    "empty = MapDataset.create(\n",
    "    geom, name=\"dataset-simu\", energy_axis_true=energy_true\n",
    ")"
   ]
  },
  {
   "cell_type": "code",
   "execution_count": 7,
   "metadata": {
    "execution": {
     "iopub.execute_input": "2021-11-22T21:04:43.944292Z",
     "iopub.status.busy": "2021-11-22T21:04:43.943996Z",
     "iopub.status.idle": "2021-11-22T21:04:43.945651Z",
     "shell.execute_reply": "2021-11-22T21:04:43.945825Z"
    }
   },
   "outputs": [
    {
     "name": "stdout",
     "output_type": "stream",
     "text": [
      "Models\n",
      "\n",
      "Component 0: SkyModel\n",
      "\n",
      "  Name                      : model-simu\n",
      "  Datasets names            : None\n",
      "  Spectral model type       : PowerLawSpectralModel\n",
      "  Spatial  model type       : GaussianSpatialModel\n",
      "  Temporal model type       : \n",
      "  Parameters:\n",
      "    index                   :      3.000   +/-    0.00             \n",
      "    amplitude               :   1.00e-11   +/- 0.0e+00 1 / (cm2 s TeV)\n",
      "    reference    (frozen)   :      1.000       TeV         \n",
      "    lon_0                   :      0.200   +/-    0.00 deg         \n",
      "    lat_0                   :      0.100   +/-    0.00 deg         \n",
      "    sigma                   :      0.300   +/-    0.00 deg         \n",
      "    e            (frozen)   :      0.000                   \n",
      "    phi          (frozen)   :      0.000       deg         \n",
      "\n",
      "Component 1: FoVBackgroundModel\n",
      "\n",
      "  Name                      : dataset-simu-bkg\n",
      "  Datasets names            : ['dataset-simu']\n",
      "  Spectral model type       : PowerLawNormSpectralModel\n",
      "  Parameters:\n",
      "    norm                    :      1.000   +/-    0.00             \n",
      "    tilt         (frozen)   :      0.000                   \n",
      "    reference    (frozen)   :      1.000       TeV         \n",
      "\n",
      "\n"
     ]
    }
   ],
   "source": [
    "# Define sky model to used simulate the data.\n",
    "# Here we use a Gaussian spatial model and a Power Law spectral model.\n",
    "spatial_model = GaussianSpatialModel(\n",
    "    lon_0=\"0.2 deg\", lat_0=\"0.1 deg\", sigma=\"0.3 deg\", frame=\"galactic\"\n",
    ")\n",
    "spectral_model = PowerLawSpectralModel(\n",
    "    index=3, amplitude=\"1e-11 cm-2 s-1 TeV-1\", reference=\"1 TeV\"\n",
    ")\n",
    "model_simu = SkyModel(\n",
    "    spatial_model=spatial_model,\n",
    "    spectral_model=spectral_model,\n",
    "    name=\"model-simu\",\n",
    ")\n",
    "\n",
    "bkg_model = FoVBackgroundModel(dataset_name=\"dataset-simu\")\n",
    "\n",
    "models = Models([model_simu, bkg_model])\n",
    "print(models)"
   ]
  },
  {
   "cell_type": "markdown",
   "metadata": {},
   "source": [
    "Now, comes the main part of dataset simulation. We create an in-memory observation and an empty dataset. We then predict the number of counts for the given model, and Poission fluctuate it using `fake()` to make a simulated counts maps. Keep in mind that it is important to specify the `selection` of the maps that you want to produce "
   ]
  },
  {
   "cell_type": "code",
   "execution_count": 8,
   "metadata": {
    "execution": {
     "iopub.execute_input": "2021-11-22T21:04:43.950935Z",
     "iopub.status.busy": "2021-11-22T21:04:43.950653Z",
     "iopub.status.idle": "2021-11-22T21:04:43.951923Z",
     "shell.execute_reply": "2021-11-22T21:04:43.952223Z"
    }
   },
   "outputs": [
    {
     "name": "stdout",
     "output_type": "stream",
     "text": [
      "Observation\n",
      "\n",
      "\tobs id            : 0 \n",
      " \ttstart            : 51544.00\n",
      "\ttstop             : 51544.08\n",
      "\tduration          : 7200.00 s\n",
      "\tpointing (icrs)   : 266.4 deg, -28.9 deg\n",
      "\n",
      "\tdeadtime fraction : 0.0%\n",
      "\n"
     ]
    }
   ],
   "source": [
    "# Create an in-memory observation\n",
    "obs = Observation.create(pointing=pointing, livetime=livetime, irfs=irfs)\n",
    "print(obs)"
   ]
  },
  {
   "cell_type": "code",
   "execution_count": 9,
   "metadata": {
    "execution": {
     "iopub.execute_input": "2021-11-22T21:04:43.955420Z",
     "iopub.status.busy": "2021-11-22T21:04:43.955137Z",
     "iopub.status.idle": "2021-11-22T21:04:47.299407Z",
     "shell.execute_reply": "2021-11-22T21:04:47.299637Z"
    }
   },
   "outputs": [
    {
     "name": "stdout",
     "output_type": "stream",
     "text": [
      "MapDataset\n",
      "----------\n",
      "\n",
      "  Name                            : dataset-simu \n",
      "\n",
      "  Total counts                    : 0 \n",
      "  Total background counts         : 161250.95\n",
      "  Total excess counts             : -161250.95\n",
      "\n",
      "  Predicted counts                : 161250.95\n",
      "  Predicted background counts     : 161250.95\n",
      "  Predicted excess counts         : nan\n",
      "\n",
      "  Exposure min                    : 4.08e+02 m2 s\n",
      "  Exposure max                    : 3.58e+10 m2 s\n",
      "\n",
      "  Number of total bins            : 810000 \n",
      "  Number of fit bins              : 804492 \n",
      "\n",
      "  Fit statistic type              : cash\n",
      "  Fit statistic value (-2 log(L)) : nan\n",
      "\n",
      "  Number of models                : 0 \n",
      "  Number of parameters            : 0\n",
      "  Number of free parameters       : 0\n",
      "\n",
      "\n"
     ]
    }
   ],
   "source": [
    "# Make the MapDataset\n",
    "maker = MapDatasetMaker(selection=[\"exposure\", \"background\", \"psf\", \"edisp\"])\n",
    "\n",
    "maker_safe_mask = SafeMaskMaker(methods=[\"offset-max\"], offset_max=4.0 * u.deg)\n",
    "\n",
    "dataset = maker.run(empty, obs)\n",
    "dataset = maker_safe_mask.run(dataset, obs)\n",
    "print(dataset)"
   ]
  },
  {
   "cell_type": "code",
   "execution_count": 10,
   "metadata": {
    "execution": {
     "iopub.execute_input": "2021-11-22T21:04:47.301942Z",
     "iopub.status.busy": "2021-11-22T21:04:47.301643Z",
     "iopub.status.idle": "2021-11-22T21:04:48.190029Z",
     "shell.execute_reply": "2021-11-22T21:04:48.190261Z"
    }
   },
   "outputs": [
    {
     "name": "stdout",
     "output_type": "stream",
     "text": [
      "MapDataset\n",
      "----------\n",
      "\n",
      "  Name                            : dataset-simu \n",
      "\n",
      "  Total counts                    : 169992 \n",
      "  Total background counts         : 161250.95\n",
      "  Total excess counts             : 8741.05\n",
      "\n",
      "  Predicted counts                : 169709.71\n",
      "  Predicted background counts     : 161250.95\n",
      "  Predicted excess counts         : 8458.76\n",
      "\n",
      "  Exposure min                    : 4.08e+02 m2 s\n",
      "  Exposure max                    : 3.58e+10 m2 s\n",
      "\n",
      "  Number of total bins            : 810000 \n",
      "  Number of fit bins              : 804492 \n",
      "\n",
      "  Fit statistic type              : cash\n",
      "  Fit statistic value (-2 log(L)) : 562279.47\n",
      "\n",
      "  Number of models                : 2 \n",
      "  Number of parameters            : 11\n",
      "  Number of free parameters       : 6\n",
      "\n",
      "  Component 0: SkyModel\n",
      "  \n",
      "    Name                      : model-simu\n",
      "    Datasets names            : None\n",
      "    Spectral model type       : PowerLawSpectralModel\n",
      "    Spatial  model type       : GaussianSpatialModel\n",
      "    Temporal model type       : \n",
      "    Parameters:\n",
      "      index                   :      3.000   +/-    0.00             \n",
      "      amplitude               :   1.00e-11   +/- 0.0e+00 1 / (cm2 s TeV)\n",
      "      reference    (frozen)   :      1.000       TeV         \n",
      "      lon_0                   :      0.200   +/-    0.00 deg         \n",
      "      lat_0                   :      0.100   +/-    0.00 deg         \n",
      "      sigma                   :      0.300   +/-    0.00 deg         \n",
      "      e            (frozen)   :      0.000                   \n",
      "      phi          (frozen)   :      0.000       deg         \n",
      "  \n",
      "  Component 1: FoVBackgroundModel\n",
      "  \n",
      "    Name                      : dataset-simu-bkg\n",
      "    Datasets names            : ['dataset-simu']\n",
      "    Spectral model type       : PowerLawNormSpectralModel\n",
      "    Parameters:\n",
      "      norm                    :      1.000   +/-    0.00             \n",
      "      tilt         (frozen)   :      0.000                   \n",
      "      reference    (frozen)   :      1.000       TeV         \n",
      "  \n",
      "  \n"
     ]
    }
   ],
   "source": [
    "# Add the model on the dataset and Poission fluctuate\n",
    "dataset.models = models\n",
    "dataset.fake()\n",
    "# Do a print on the dataset - there is now a counts maps\n",
    "print(dataset)"
   ]
  },
  {
   "cell_type": "markdown",
   "metadata": {},
   "source": [
    "Now use this dataset as you would in all standard analysis. You can plot the maps, or proceed with your custom analysis. \n",
    "In the next section, we show the standard 3D fitting as in [analysis_3d](analysis_3d.ipynb)."
   ]
  },
  {
   "cell_type": "code",
   "execution_count": 11,
   "metadata": {
    "execution": {
     "iopub.execute_input": "2021-11-22T21:04:48.192758Z",
     "iopub.status.busy": "2021-11-22T21:04:48.192442Z",
     "iopub.status.idle": "2021-11-22T21:04:48.477430Z",
     "shell.execute_reply": "2021-11-22T21:04:48.477667Z"
    }
   },
   "outputs": [
    {
     "data": {
      "application/vnd.jupyter.widget-view+json": {
       "model_id": "d1abfad348ed499c8b85ceb51c8ceb40",
       "version_major": 2,
       "version_minor": 0
      },
      "text/plain": [
       "interactive(children=(SelectionSlider(continuous_update=False, description='Select energy:', layout=Layout(wid…"
      ]
     },
     "metadata": {},
     "output_type": "display_data"
    }
   ],
   "source": [
    "# To plot, eg, counts:\n",
    "dataset.counts.smooth(0.05 * u.deg).plot_interactive(\n",
    "    add_cbar=True, stretch=\"linear\"\n",
    ")"
   ]
  },
  {
   "cell_type": "markdown",
   "metadata": {},
   "source": [
    "## Fit\n",
    "\n",
    "In this section, we do a usual 3D fit with the same model used to simulated the data and see the stability of the simulations. Often, it is useful to simulate many such datasets and look at the distribution of the reconstructed parameters."
   ]
  },
  {
   "cell_type": "code",
   "execution_count": 12,
   "metadata": {
    "execution": {
     "iopub.execute_input": "2021-11-22T21:04:48.480493Z",
     "iopub.status.busy": "2021-11-22T21:04:48.480160Z",
     "iopub.status.idle": "2021-11-22T21:04:48.480981Z",
     "shell.execute_reply": "2021-11-22T21:04:48.481238Z"
    }
   },
   "outputs": [],
   "source": [
    "models_fit = models.copy()"
   ]
  },
  {
   "cell_type": "code",
   "execution_count": 13,
   "metadata": {
    "execution": {
     "iopub.execute_input": "2021-11-22T21:04:48.483168Z",
     "iopub.status.busy": "2021-11-22T21:04:48.482822Z",
     "iopub.status.idle": "2021-11-22T21:04:48.484091Z",
     "shell.execute_reply": "2021-11-22T21:04:48.484292Z"
    }
   },
   "outputs": [],
   "source": [
    "# We do not want to fit the background in this case, so we will freeze the parameters\n",
    "models_fit[\"dataset-simu-bkg\"].spectral_model.norm.frozen = True\n",
    "models_fit[\"dataset-simu-bkg\"].spectral_model.tilt.frozen = True"
   ]
  },
  {
   "cell_type": "code",
   "execution_count": 14,
   "metadata": {
    "execution": {
     "iopub.execute_input": "2021-11-22T21:04:48.486473Z",
     "iopub.status.busy": "2021-11-22T21:04:48.486136Z",
     "iopub.status.idle": "2021-11-22T21:04:48.487377Z",
     "shell.execute_reply": "2021-11-22T21:04:48.487598Z"
    }
   },
   "outputs": [
    {
     "name": "stdout",
     "output_type": "stream",
     "text": [
      "DatasetModels\n",
      "\n",
      "Component 0: SkyModel\n",
      "\n",
      "  Name                      : model-simu\n",
      "  Datasets names            : None\n",
      "  Spectral model type       : PowerLawSpectralModel\n",
      "  Spatial  model type       : GaussianSpatialModel\n",
      "  Temporal model type       : \n",
      "  Parameters:\n",
      "    index                   :      3.000   +/-    0.00             \n",
      "    amplitude               :   1.00e-11   +/- 0.0e+00 1 / (cm2 s TeV)\n",
      "    reference    (frozen)   :      1.000       TeV         \n",
      "    lon_0                   :      0.200   +/-    0.00 deg         \n",
      "    lat_0                   :      0.100   +/-    0.00 deg         \n",
      "    sigma                   :      0.300   +/-    0.00 deg         \n",
      "    e            (frozen)   :      0.000                   \n",
      "    phi          (frozen)   :      0.000       deg         \n",
      "\n",
      "Component 1: FoVBackgroundModel\n",
      "\n",
      "  Name                      : dataset-simu-bkg\n",
      "  Datasets names            : ['dataset-simu']\n",
      "  Spectral model type       : PowerLawNormSpectralModel\n",
      "  Parameters:\n",
      "    norm         (frozen)   :      1.000                   \n",
      "    tilt         (frozen)   :      0.000                   \n",
      "    reference    (frozen)   :      1.000       TeV         \n",
      "\n",
      "\n"
     ]
    }
   ],
   "source": [
    "dataset.models = models_fit\n",
    "print(dataset.models)"
   ]
  },
  {
   "cell_type": "code",
   "execution_count": 15,
   "metadata": {
    "execution": {
     "iopub.execute_input": "2021-11-22T21:04:48.489880Z",
     "iopub.status.busy": "2021-11-22T21:04:48.489538Z",
     "iopub.status.idle": "2021-11-22T21:04:53.556181Z",
     "shell.execute_reply": "2021-11-22T21:04:53.556361Z"
    }
   },
   "outputs": [
    {
     "name": "stdout",
     "output_type": "stream",
     "text": [
      "CPU times: user 4.73 s, sys: 523 ms, total: 5.25 s\n",
      "Wall time: 5.07 s\n"
     ]
    }
   ],
   "source": [
    "%%time\n",
    "fit = Fit(optimize_opts={\"print_level\": 1})\n",
    "result = fit.run(datasets=[dataset])"
   ]
  },
  {
   "cell_type": "code",
   "execution_count": 16,
   "metadata": {
    "execution": {
     "iopub.execute_input": "2021-11-22T21:04:53.558422Z",
     "iopub.status.busy": "2021-11-22T21:04:53.558136Z",
     "iopub.status.idle": "2021-11-22T21:04:53.863115Z",
     "shell.execute_reply": "2021-11-22T21:04:53.863318Z"
    },
    "nbsphinx-thumbnail": {
     "tooltip": "Simulate a 3D observation of a source with the CTA 1DC response and fit it with the assumed source model."
    }
   },
   "outputs": [
    {
     "name": "stderr",
     "output_type": "stream",
     "text": [
      "/Users/adonath/software/mambaforge/envs/gammapy-dev/lib/python3.9/site-packages/astropy/visualization/wcsaxes/core.py:211: MatplotlibDeprecationWarning: Passing parameters norm and vmin/vmax simultaneously is deprecated since 3.3 and will become an error two minor releases later. Please pass vmin/vmax directly to the norm when creating it.\n",
      "  return super().imshow(X, *args, origin=origin, **kwargs)\n"
     ]
    },
    {
     "data": {
      "text/plain": [
       "<WCSAxesSubplot:xlabel='Galactic Longitude', ylabel='Galactic Latitude'>"
      ]
     },
     "execution_count": 16,
     "metadata": {},
     "output_type": "execute_result"
    },
    {
     "data": {
      "image/png": "[encoded data removed]",
      "text/plain": [
       "<Figure size 432x288 with 2 Axes>"
      ]
     },
     "metadata": {
      "needs_background": "light"
     },
     "output_type": "display_data"
    }
   ],
   "source": [
    "dataset.plot_residuals_spatial(method=\"diff/sqrt(model)\", vmin=-0.5, vmax=0.5)"
   ]
  },
  {
   "cell_type": "markdown",
   "metadata": {},
   "source": [
    "Compare the injected and fitted models: "
   ]
  },
  {
   "cell_type": "code",
   "execution_count": 17,
   "metadata": {
    "execution": {
     "iopub.execute_input": "2021-11-22T21:04:53.865552Z",
     "iopub.status.busy": "2021-11-22T21:04:53.865215Z",
     "iopub.status.idle": "2021-11-22T21:04:53.866457Z",
     "shell.execute_reply": "2021-11-22T21:04:53.866636Z"
    }
   },
   "outputs": [
    {
     "name": "stdout",
     "output_type": "stream",
     "text": [
      "True model: \n",
      " SkyModel\n",
      "\n",
      "  Name                      : model-simu\n",
      "  Datasets names            : None\n",
      "  Spectral model type       : PowerLawSpectralModel\n",
      "  Spatial  model type       : GaussianSpatialModel\n",
      "  Temporal model type       : \n",
      "  Parameters:\n",
      "    index                   :      3.000   +/-    0.00             \n",
      "    amplitude               :   1.00e-11   +/- 0.0e+00 1 / (cm2 s TeV)\n",
      "    reference    (frozen)   :      1.000       TeV         \n",
      "    lon_0                   :      0.200   +/-    0.00 deg         \n",
      "    lat_0                   :      0.100   +/-    0.00 deg         \n",
      "    sigma                   :      0.300   +/-    0.00 deg         \n",
      "    e            (frozen)   :      0.000                   \n",
      "    phi          (frozen)   :      0.000       deg         \n",
      "\n",
      " \n",
      "\n",
      " Fitted model: \n",
      " SkyModel\n",
      "\n",
      "  Name                      : model-simu\n",
      "  Datasets names            : None\n",
      "  Spectral model type       : PowerLawSpectralModel\n",
      "  Spatial  model type       : GaussianSpatialModel\n",
      "  Temporal model type       : \n",
      "  Parameters:\n",
      "    index                   :      3.017   +/-    0.02             \n",
      "    amplitude               :   9.62e-12   +/- 3.3e-13 1 / (cm2 s TeV)\n",
      "    reference    (frozen)   :      1.000       TeV         \n",
      "    lon_0                   :      0.191   +/-    0.01 deg         \n",
      "    lat_0                   :      0.101   +/-    0.01 deg         \n",
      "    sigma                   :      0.298   +/-    0.00 deg         \n",
      "    e            (frozen)   :      0.000                   \n",
      "    phi          (frozen)   :      0.000       deg         \n",
      "\n",
      "\n"
     ]
    }
   ],
   "source": [
    "print(\n",
    "    \"True model: \\n\",\n",
    "    model_simu,\n",
    "    \"\\n\\n Fitted model: \\n\",\n",
    "    models_fit[\"model-simu\"],\n",
    ")"
   ]
  },
  {
   "cell_type": "markdown",
   "metadata": {},
   "source": [
    "Get the errors on the fitted parameters from the parameter table"
   ]
  },
  {
   "cell_type": "code",
   "execution_count": 18,
   "metadata": {
    "execution": {
     "iopub.execute_input": "2021-11-22T21:04:53.870058Z",
     "iopub.status.busy": "2021-11-22T21:04:53.869691Z",
     "iopub.status.idle": "2021-11-22T21:04:53.871175Z",
     "shell.execute_reply": "2021-11-22T21:04:53.871443Z"
    }
   },
   "outputs": [
    {
     "data": {
      "text/html": [
       "<div><i>Table length=11</i>\n",
       "<table id=\"table5294668864\" class=\"table-striped table-bordered table-condensed\">\n",
       "<thead><tr><th>type</th><th>name</th><th>value</th><th>unit</th><th>error</th><th>min</th><th>max</th><th>frozen</th><th>link</th></tr></thead>\n",
       "<thead><tr><th>str8</th><th>str9</th><th>float64</th><th>str14</th><th>float64</th><th>float64</th><th>float64</th><th>bool</th><th>str1</th></tr></thead>\n",
       "<tr><td>spectral</td><td>index</td><td>3.0174e+00</td><td></td><td>2.043e-02</td><td>nan</td><td>nan</td><td>False</td><td></td></tr>\n",
       "<tr><td>spectral</td><td>amplitude</td><td>9.6162e-12</td><td>cm-2 s-1 TeV-1</td><td>3.284e-13</td><td>nan</td><td>nan</td><td>False</td><td></td></tr>\n",
       "<tr><td>spectral</td><td>reference</td><td>1.0000e+00</td><td>TeV</td><td>0.000e+00</td><td>nan</td><td>nan</td><td>True</td><td></td></tr>\n",
       "<tr><td>spatial</td><td>lon_0</td><td>1.9097e-01</td><td>deg</td><td>5.923e-03</td><td>nan</td><td>nan</td><td>False</td><td></td></tr>\n",
       "<tr><td>spatial</td><td>lat_0</td><td>1.0133e-01</td><td>deg</td><td>6.009e-03</td><td>-9.000e+01</td><td>9.000e+01</td><td>False</td><td></td></tr>\n",
       "<tr><td>spatial</td><td>sigma</td><td>2.9806e-01</td><td>deg</td><td>4.154e-03</td><td>0.000e+00</td><td>nan</td><td>False</td><td></td></tr>\n",
       "<tr><td>spatial</td><td>e</td><td>0.0000e+00</td><td></td><td>0.000e+00</td><td>0.000e+00</td><td>1.000e+00</td><td>True</td><td></td></tr>\n",
       "<tr><td>spatial</td><td>phi</td><td>0.0000e+00</td><td>deg</td><td>0.000e+00</td><td>nan</td><td>nan</td><td>True</td><td></td></tr>\n",
       "<tr><td>spectral</td><td>norm</td><td>1.0000e+00</td><td></td><td>0.000e+00</td><td>nan</td><td>nan</td><td>True</td><td></td></tr>\n",
       "<tr><td>spectral</td><td>tilt</td><td>0.0000e+00</td><td></td><td>0.000e+00</td><td>nan</td><td>nan</td><td>True</td><td></td></tr>\n",
       "<tr><td>spectral</td><td>reference</td><td>1.0000e+00</td><td>TeV</td><td>0.000e+00</td><td>nan</td><td>nan</td><td>True</td><td></td></tr>\n",
       "</table></div>"
      ],
      "text/plain": [
       "<Table length=11>\n",
       "  type      name     value         unit        error      min        max    frozen link\n",
       "  str8      str9    float64       str14       float64   float64    float64   bool  str1\n",
       "-------- --------- ---------- -------------- --------- ---------- --------- ------ ----\n",
       "spectral     index 3.0174e+00                2.043e-02        nan       nan  False     \n",
       "spectral amplitude 9.6162e-12 cm-2 s-1 TeV-1 3.284e-13        nan       nan  False     \n",
       "spectral reference 1.0000e+00            TeV 0.000e+00        nan       nan   True     \n",
       " spatial     lon_0 1.9097e-01            deg 5.923e-03        nan       nan  False     \n",
       " spatial     lat_0 1.0133e-01            deg 6.009e-03 -9.000e+01 9.000e+01  False     \n",
       " spatial     sigma 2.9806e-01            deg 4.154e-03  0.000e+00       nan  False     \n",
       " spatial         e 0.0000e+00                0.000e+00  0.000e+00 1.000e+00   True     \n",
       " spatial       phi 0.0000e+00            deg 0.000e+00        nan       nan   True     \n",
       "spectral      norm 1.0000e+00                0.000e+00        nan       nan   True     \n",
       "spectral      tilt 0.0000e+00                0.000e+00        nan       nan   True     \n",
       "spectral reference 1.0000e+00            TeV 0.000e+00        nan       nan   True     "
      ]
     },
     "execution_count": 18,
     "metadata": {},
     "output_type": "execute_result"
    }
   ],
   "source": [
    "result.parameters.to_table()"
   ]
  },
  {
   "cell_type": "code",
   "execution_count": null,
   "metadata": {},
   "outputs": [],
   "source": []
  }
 ],
 "metadata": {
  "kernelspec": {
   "display_name": "Python 3",
   "language": "python",
   "name": "python3"
  },
  "language_info": {
   "codemirror_mode": {
    "name": "ipython",
    "version": 3
   },
   "file_extension": ".py",
   "mimetype": "text/x-python",
   "name": "python",
   "nbconvert_exporter": "python",
   "pygments_lexer": "ipython3",
   "version": "3.9.0"
  },
  "latex_envs": {
   "LaTeX_envs_menu_present": true,
   "autoclose": false,
   "autocomplete": true,
   "bibliofile": "biblio.bib",
   "cite_by": "apalike",
   "current_citInitial": 1.0,
   "eqLabelWithNumbers": true,
   "eqNumInitial": 1.0,
   "hotkeys": {
    "equation": "Ctrl-E",
    "itemize": "Ctrl-I"
   },
   "labels_anchors": false,
   "latex_user_defs": false,
   "report_style_numbering": false,
   "user_envs_cfg": false
  },
  "nbsphinx": {
   "orphan": true
  },
  "widgets": {
   "application/vnd.jupyter.widget-state+json": {
    "state": {
     "2339ad8512b54d2e97a9d867247de0a5": {
      "model_module": "@jupyter-widgets/output",
      "model_module_version": "1.0.0",
      "model_name": "OutputModel",
      "state": {
       "_dom_classes": [],
       "_model_module": "@jupyter-widgets/output",
       "_model_module_version": "1.0.0",
       "_model_name": "OutputModel",
       "_view_count": null,
       "_view_module": "@jupyter-widgets/output",
       "_view_module_version": "1.0.0",
       "_view_name": "OutputView",
       "layout": "IPY_MODEL_77d2d47d0f294f05b23eeef13d286248",
       "msg_id": "",
       "outputs": [
        {
         "data": {
          "image/png": "iVBORw0KGgoAAAANSUhEUgAAAT8AAAEMCAYAAACySLGoAAAAOXRFWHRTb2Z0d2FyZQBNYXRwbG90bGliIHZlcnNpb24zLjQuMywgaHR0cHM6Ly9tYXRwbG90bGliLm9yZy/MnkTPAAAACXBIWXMAAAsTAAALEwEAmpwYAAC92klEQVR4nO39bZRsyVkeiD6xc1dWVp3qo0bTEujLqLF1L4O5tgTi25fRYFiWZGYJY7wswO2LP7DhSviCzWJsPMvY+M6y8QBjliWs2xbCktDAYNQGhhFwGWMMDCNBS0ZIsjweXXo8tBHSdLePquvkydq5M+L+iHh2PPFm7Kw652Sdc0qd71pZmbV37NixY0c88X6HCyFgRzva0Y6eadTc7QbsaEc72tHdoB347WhHO3pG0g78drSjHT0jaQd+O9rRjp6RtAO/He1oR89I2oHfjna0o2ck3VHwc87NnHO/7px7v3PuQ865v5OOP98594vOuZ9yzh3dyTbtaEc7embSneb8TgF8WQjhDwN4KYBXOue+EMBfAfAtAN4M4M9sqsA59/aLbuTN0r3Wpl17NtO91h7g3mvTvdaei6A7Cn4h0kn6dy99AoAJAJ8+7oxqvvriWnjLdK+1adeezXSvtQe499p0r7Vn69Te6Rs65yYA3gvgDwB4YwjhPc653wPwdgCfAPB1d7pNO9rRjp555O5WeJtz7n4A/xzAt4QQPnhG2bcjr0SH1TLILKN9ImUlgznv5Ft/Byk/dq2WbTbURfKVdvM62/ZaXUq2nNIpgP2R9vJaXqf35+9JpW77HLYPtb/sfW8AOJKy+qxePjw/kXJByuk1Y8/mUN5DRRtet0AUOexzaf32WbReti+g/ry18TXWXtIKZT/aMVTr/019sInOM+ObpoH3fi6HHgkhPHSOSwd65StfGZ544okzy733ve/9+RDCK2+m7m3QHef8SCGEa865XwLwSgAbwS91+kMA4Jxbe3dN+ujDcAC3yBOAx/r0u5EPAEzN/z6V1d8WwLSOVr71Y+/r5dpZKjNFCQS2Tp3EnanDltN+0PbX2q5tniKCwrOkDtapE2qZvldybFV5Tr0Hn5PgsUKchHNEMJpL+SuI4O3SvTrzzAus96U+E99jm56H92Ndc7lWxwfrZP19Kt9LvTMA96frOvMB1t+vrbvWZi/34fvi2LHvVMtqn9RI799I2bE26PfLXvYyPProo1c2VH8mPfHEE3j00V8/s5xzkwdu5z63SncU/JxzzwGwTMB3AODLAXzPzdajL1KJoAGUYFG7zp4fK6/HFcjGyugxO/AsCNfK2vP8n3VYENaJoSBGsGpRn3S1dq+k/AqZAwRKboFtmch1tp+07AQZhEgEpImcJ4fFcgElwGqdCgb2HOts5Fvra5EBTcGP9Sno6CI6TR9d1PSd1NrZyPW1BXQTICmNLcK1MVVrh37rvWtt2R4pH33v0Z3m/J4H4K1J79cA+PEQws/cSkUWABUgxqw4530NOqDOAsmzLEZjoLqpbO38WWDPyUkui+C3ROaydMJYVUCtLzfd2046BS0Fub1Udk+OaX0EPoKcBWUVjXmtDloLjhxYtT50cp51WPDrUS5yNW7+vO9008Jon8nS2Pkx7tHOh8Z8bN21+XMxtAM/AEAI4bcAvOx26qBuqvYCSWMs/SZScRMYHzSb6qyJopxIDfLqrfXW7mM5pxoXomVbRFFxhiguTqU9C2Tw02tYJ0Wt03SO/zfpOgWXCbLoCmRgUs6uxpEpUNY4lylK4GR7e5SiIMsrZ2dBWIFlZa4jHco51rOU81b1AKyrMpT0/dTerYq+/PaVj9LYubFxOQZ8KhXYProztAO/C6NNnFdtdRwrMyY+jF1jB/mm68bO248F9LEyWgcn4z4iABFILDdHwFKgUg6wR13EBLI4yvJ7KMGlJtpawIVcYxcBnaSkmhhJIsjW9Ln2Wvabk980UOl7rBlfgHXOz3LNtfes37X3Rtq0mG4CqLO48lq5s+q8GOISdm/SpQW/GhCQaoPqPCBpv+0EqQ2esZW1dg/LUVBUrXEwpJroMpXfnJQq0rEecm6qS6MRQCdxQPmMDuugwLoVOC1npZwfuSneeyX1aZ+MiZ+qR3TmnLZxIsdYp1p6lUtkn7TSHn3n5DJri4+Cn72nPg9Gzo2V0zFhuU1b3i6E3UiZ2rFNQHpxgLjT+W2dVJSsAd0mMWETSPL/XsqNDWI7KWwdpJqVj9dQga7cgYp5rN9yRvYZyM2sEMVc3pfiLLkygobe8zTVrYaHfbkvLYo64Sma7iECnH1uBaYeeQqwL6wxhdwkwZNWVYrieq2XuifIVmGgnGpsoz4LUFqqqRao1a99z4/2o441Xk/SBUDLwBzX9z42ZvWcPV671pK9vkabFt/bpx34bY0sF6BUe8l2oI2R5bDOK07odZbBtxPEikL2+hpQW25jrC0ecWJbnRlBkQYHrcfLeQW3ml5LAcyKfXxOcmtjbSXZNvB/1amxL+miAjmmY4DAybrswqX9x1AiEkXwMc5qzLjBe9lFzUoJY8Rzuojz+tq1tTproHfWvWvMgaWaR8Ot047z2zqNiZX2/BjHVytXm/BA6WJQA6jaylzjKGscBeufInIoqi8jzbBuSCA3pnq3pfyvx1UnyN8r+SyQxVOKz4w79MgiNkFimdpEDmgq96rpDHm/tlKG9fnUPqDsYyfXs53Wt40cI0Ff78lnsoCqAGjfifoGKreoBhFtf+13jSzg1aSLscXS1qFjyYrKZy3ytTbZ39sFhR34bZ1quopbGQBWoU3apPerAaAdjGNttqIUr1dLKtvhkIFGjRhWzLKAAuQJTiCjIUQ5Q4KJWncJto0cUwds3k85xbFJrMeX8n+NH7CcFJ9pL/WH6gprIAYpo8YWcolqpSbAqTWbqoAJcp8DGZxr4HfWGNskRdTGquUkx67VOjaNtRpDcFa9NzN3zkc78LtjZEWX86zIVq+m+pQxEdeuwnYFrlHNVUIHu4pwvB85NjoB94hckBX/OZEtV0Pgm0p5cofqTtJiHUy0PXxGBSd9XvXz04lNwOH9WLb2bhTU2Z/sKzXyWLBvkDlTivokAr5y29QrUk3AY/zM5LgCsd6TVFsMx8TWTdfa/q0BoSX2j/abXYzOGpebgPn2aWft3SrVJk6N09g0KK2OZkxssOBXiwaworO9l5bl9eSk1LjRIXMetcmjk1H94lQnZtuv7RibAKoT28f6sxNAbewpuTeCqoKTvZ+X6+29tc+0P9Q6rW1k+SDXEPjZpwqce8j+j2yLisMaadLKNfZZVD9Hsfqg8pzAep+PgRnPt1JOI0+sGGwBzo5NO17HJCP+5r1qi9B2aKfzuzCqiQi1Ca4r/th1+l3j9nj9mChTAx07+FtTTutirKYetwH6Wg+fRQ0DlhxKPSDroQhNDgjIHJLqzvQ51H8Q5lnGAFvBUjk/to33tc/M41qncqUz80xWz6nAR5WBM+cU6KySvzZdCcYKktpOC7x2LGxS0djjNanDjlFbh12Ia/OiJslcPDTtwG9rZLmHWteODRB+xoL9x0SAsYE6do/asTEuk/dVn61aphGY8+qkTBG0Bv58Jlppaaio6RdrIKZZTCh68z4KCHo/1sGyS5SuJCpK67OqCIrKOf2wPnLM5P7Yzql820GuALiPdQfv2kKibeaCoX02xkXZ+55nPMGUI42NzzFws9eOte+sa2+PduC3NVJOAht+qzhhSQcBJ6QVX61IMlaPlmPmkvO0Cyi5N07k2iAcs9xquyz3o2LxCjGTyRSx/w5QKvhtVIaXOtTgotlRVFQkANeyjGi2EgvaGhGiiQjU2EDgnAGYToGmAbwH+h7ofdR/cuHgMx2yPPK7ZjtW8pt9alUpZwEhUnla6FvT1to71Ppr2X20jFrzz7O41xbTGvd3HmDWem6fdmLvVulmuvOsFz5GFtR4zJvzMOVUjLR6Gi1rxUuNp7XtULBQjs3SWEC/ndTUc6nopzkJCaCsT11kMPJNzgsoATggOiqrOKpuL2w363HpfpMWCKkDC31mA7Rt/u16YNnnZ2I/zZDBEohAufB5IdBIjk3gpmTFTk3NVZM0+Ez6uwZ+dnzqOKjpCGsShK0fqAMgMN7WmvRy+7QzeFw4nedlqTJ5jBTAahzfGDfI3/vIinWdYByI1JvdhzxRNV9dTQ9GTohKe1WOk9NAOq9U4+bYhkN5RrZPrbeqK9tHApr0sMEDE5lB03R84tcXCgU9yPOpnpI6TEaWTKcR4PrUgXs+AXOqhJwf/yeYMYxuHxn4WI/3mTPrUOYDrE167eNTrC9iqjbht1VNKECNWc07U4fqfmvc4djixjYruNZyT9bq0zouhnac34XQecRRoBzkY4pj/Sj41RTV1jWGx61i3WYTJpjYeN7GlFeukCBExbwO8iDl7eRlvQQhggOBlG3gBFQ3FL3npAUmDbCSjlAOBIjAuOfLc0DJAWo/2mSo6ku48kDjy3p9+t3Iy/apzBh3v0pI0nURwAh8FNl1HCg4q9gNKQMpo7pMJb6DsemuHDxQ6litJdeqbGpjvQbefkPZWnv4PaZGun3agd/WyU5AYP2FK9lJUps05PpUST6WvbnG/amvXJDj/FYAU8szkHPw8XrlTFSBr8p+rV8B1baNE5UT+xAR1IAoNpLUgLEHoG0i8CnorJDByfaJTVhK8VldWDQihY7WbKNH5Cy91M/nmEgbGtMmEhcfj3hDRoacogQ+BT81rtjcgwyHU1G9kTZb63UtyYKKnw3qxitVOegzW7HWPvJ5YtCVzuIitcx2aKfz2yrVYnvtABhbxaxFTldJAt8MERxUPLH12PvWjlmHZXWT0PRK5DQh55Sz4DWHUgeD8VXvRpGaQDnUnxrUpwdoG+DwMIuPy5Pc7qEfmigyEmT0433kprou/u4TpzZpswisXOKqL0VrIOcYXMqxwdXHA15M3wRp6vvaNnKBbN/pSdl2FeV7ACfIqett0gjlttUyTC6Ux+1C26BMuqDAr8aaGyjFVxsXrVSTRKbS3tqCZsdyrZ4aWUkHpp07zu8epTHdClC+bPsSa8BYEyt0kNkBZmlMp6LtqXEDNiU8kIFNyw2iJ8oIDdt2Z8q2wKCnm+joRtbdaT3U8REsaVVVPRtBZ4IIegRB0sTUG3y+dm0S+qxjZNYZm1dQrb/kPvlMe21uwzS9IAKZDUurkQKfDdPTxbVB3RWmRQYyy9nre2SGHY4Ly705813jzNrKMf5fc9mq6fX0f13wm0q5TeP95mnH+d0Rsi+aNCYa10DQgqc9P3a9XsNQsdq1Gpu7hAAOSq4QyGCm4W2sYwwEFWwtuSYCUvDRCKCGgwaZq1KLKpDLEHQAYGk4QaWVL0VpAirrBgB0iWNE5nQ1goXPWVhL0/V7Us/Q1r6MMOmlTdq3SmNANDFlyA0qZ8Q4ZY0OGbPAa/JWjg1d8Ejqq8l2t6gDImmTGseOi9rCPFZujGO8NdpZe7dKY7oOu/rVdHW133o9AYxU89urub94RPFqhSwSWadh1r001+p5DnpOvKM0wVc+ipCnpryKv/pcfeKMdFHg/fpFyeVNp1EUpoUUKLk770tAnM0y+J0m7o/tY+wx23LU5PrJdU6T2LzXA21fJiJgG+mAfTCL99a29X3+TKe5PWzzyYm0VT60jqv6g+9auWY+KnV9Hlls5juaIO+hqu/RWtf5PnVMqb+jBRyWb5ABfWysQJ5HyXJ4Wn6sHpJ1mbk92g7n55ybAfhlZF7gJ0II32XKvALATwF4LB16JITw3ZvqvXTgN7bn6NiKVWPxN50fWyHHyltS9w6mq6pxGNpuoOQYVSRTlw36vo0Np1qyA3Uutj5tyvHxPsqhkYMrDBBN+ZuAQz2fDY0jOClABamPBg6Klnx2ur3szyK3p6Dc9xmUCcKTFmjSOfuMNrnqqZzT96UGKSCDFhc1dSGxkS01EVS5Nx03Vr2hbbWgacdlTazVj+UGbd0YOa+0XVDYCpSeAviyEMKJc24PwK865342hPBuU+5XQghfed5KLx34MRPxGG0aHDX9iQ50HWyNOab1WkvtGBepllMtY33wlGzkherevF/fiEjz77E8y9KoUBOFCUwEF4KK9xmo9lNHBwGVpgEODstjBKNJAzTJN4/1339/5Ppms1j3Mt2Drittuvdpl40jbRPLHxzG66lP5H34WfncRks2UkUNTWpU4sJA30cae3i/k1SJusqoDySQuX4dI0wPppy6ArHHyGKEPDbVYGbBFyjHcSH2m7J2fNYko00L+q3Tdji/EEJAtF0BebifZ+/1jXQpwW8MbEhWvLXcmg6w6Ui5sUHFNth9L3gcKPfMUCU4MB5RYKngRhN3pIOe92Ia9yHCQVgF20/K/REkaUxQcAOylXUlIibPz5r8m+DFbwBwPgIquT7LvbJc00TwJSd4isi9kRPdTx/VLVJf2TSZ2/Q+Xmf7icRs1TXXFA2JowqAda6E01bQUas65LjmLGxQZtZmuQky8NWMd2NkF3W9xo7DMcmlxm3CHNs+AG5HiE7b3b4XwB8A8MYQwnsqxb7IOfd+AL8L4NtDCB/aVOelBz99abUXqEBnxQnq1VApo5yfdVbWwasiqh1c9PtTzm9scClXsPaMIlayrGZS1v/H6rbcn4qy5MgGEbQvuR/q8wAUxgYgt4v/t23qtxbYm47r6oDSiEKu0/sMQgRObe9eOm6fhddbsdeODwWwBil2uQWuHGaLdvCZk7UcmiZXsNy83sPGWpNqG7GrWoJ1NChB00IIx6eNWrILvR4fgyHLHW4XAM8Ffg845x6V/x8OITysBUIIKwAvdc7dD+CfO+c+O4TwQSnyPgCfnkTjVwP4SQAv2XTTSwd+JPsyN+lBapwfPzYsTMtSxFbHZY91g4VVkkOuJ9WsifY4oz/2kAGQnA7rbBETE1CUmxrOqGlKFxQFRTr4LtO1fpF1fASllRmrFEWV9trS6sr76m9rmV0sgPk8f9o2cn0EsqVYoI+O4kfBj3SQuMr5HLg+B27M4/MO4InyvXBi87j6+c0APOeBCHxsR98D167lBcdGx0wAHKGcOAQtJY9oJAFKjpD6TJvui21SkVT1iDp2YY7rWLQirR37PK5rRGPKbo/OHdv7RAjh5eeqMYRrzrlfAvBKAB+U48fy+13OuR90zj0QQnhirK5LB37qLlJb3YA6tzcGfud92ecRW21WlAbruif95jXkJNT5eRCP0iQc/OZSuydtFi2BPPlJOgnsM+ozdF0GHQIfOUACPWC2nOwTWCGHv9VCz5bCzSnXZ91jhlA1n0VpdblZ+XyPtgWW01j3XgdcT+3ufclp2YGtYquCA40pKrazzexzAhbr1WwxrMf6DLLvVunapbme7VDgVDCzVAOxGuDa59PrbV21e2yXtmbtfQ6AZQK+AwBfDuB7TJlPA/CxEEJwzn0+4uM8uaneSwd+QPmS7ao1JuIC48YNpU2rH69TJbZGKOiKzcmgHvpWBLarr7pasB0rs3A2yKLkdIohA4qXT+9LsUtFKCCLXg2SeJcAbCKdWQMpVJ4PPRCaMvEBf7d9ybkOz2CA0iexugaKQzvaEhQVcIMvo0VqES5qJWe/LNPzW3FXRXBq1m1sdIMcaVM8GzK4aWxzXzmv/n+Wu7PuXKqqGeM07ce2S39vArrbh6ut1/Y8AG9Ner8GwI+HEH7GOfdNABBCeBOArwHwzc65HjG45rXJUDJKlw78AsqMxwpyluPDyPlNG4XroGDuN4q+qgO0+78SFHTgcdCzTk0P5VGKxQ2yGesoiWDeA4uu5AgoUhIIJk0EO07aXoCAH6DM2KzUpz/7hxlMJ022rN5YlJwggUMjQrw8tEcGM6AUwakHHNxTmmy5nc/jPV0Ty9DHkNzfdBrbQcOJgrNryvsD0WLMRcJ7AIvIIRJYGPf71FPRL1B1i4vkqNg0UcTls/N5XZN9LjVMT0PkWuR9jReIgGnF2znWoYH+jXZs2gieU3OdFZe9uV7vY70VzgLO26Pbry2E8FsAXlY5/ib5/QYAb7iZeu8o+DnnXgTgbQA+DbFXHg4h/IBz7vkAfgTA0wC+PoRwsqGagSzrf9aKVgNJ1qMDE/L/KUpxFCiV0zLviutJmodPP8oVsBzrJrDZEDKgFCNp8aTIStHPPjPJ6qmUrK+fGj14Pxo+WqyLpTYhgUcUTdU6C2QDB4ngRzBrACy7zIXWuE+CH/0QJ03st9oyz/syQwwdl8m5ngLouwy8ek+qFiwt+7wIkItWXe8gUiMbQlQlQoAiWd9PNXydhzi+WC8BXsGNi7DlLkm6cG8P/HbhbUo9gL8WQnifc+4+AO91zv0CgD8L4FsAfAaAPwPgTRvqqJJyfDq4ksQEIA8QLa+ckG6Ko35SFHuYqZkDnYkza6srdXm6dSQHNLkCIO97qxOlSdwPSZ16PUx4WgKdZZ+5UfX7U5BGqnuKElQmbQYo5SoJrisDhOpczGMEL4a3EfzIVbVmpK16YOmj0YKRIU3qRAV3+vMB0e2FwLxYxA8BkAsaF0QCmYJu8MDMZ7EVyFxgn7hC12Q3H+oDNXv0sgfmfeboNCu06nRbZN/GaR/fEzlFcnyUGmqgref5TN6c43MD5faizFe4kGO9lNV+sgBpgfn2aJfMdKAQwkcBfDT9fto592EAL0DW71tpsEpncVs1lt+b83z56rLQYH2wcTDwozQWRwvkwWldIBpzvPC9s/U30SLaphsv0yQid0ZdlaVBPPblIgBk7grIwEAua2kecIgqwTr46fX8zXuqnrIWHse6+x447fNCofXwuVY+coJ9D5wushjb99ExWqNF+OxAPq4g75rshjOI64mzbg3o63ORA1e1gnJWvC9Bj3kQ1f3HdfldU1TWcLui7aiT1S/zmpoU0yBHp0DOnUXb59N2nN8aOedejCjHvwfAvwPwdgCfAPB157l+TLytcWGb9BkcOMo5MCOI3kMD1HUFtW1Rny1l+vV6XqNprnhtgxJcyD2oO4rG5DJLMSCcR5sBrUkcWY+SMxzEHwWCPiv9SercPGSJkQdhW1VnZv3uVj4ClWZ+IZDwVlwMqBekmwwjSU7mud9smq7huPQ3ueFaAgZ1zu57oPU5TZYFadbVdRmoyJHp+9dx1DbZOZvX6yJHAGTECI0pHBPWr1RJcxHq/VWPRwmnBoqo/G9BfLtwtQO/gpxzRwDeCeBbk3/OMYAvvZk6LPBwEdf/dfDYV6BgyEFCEZQb03Cwsx4bqgSsx3iyHiAPcoopyoV5U7Zoa+Ke9qfR361t47fm0SNodV0Gi1Wa7BQPVVybz0txx7rKqDsKxUxNJUVQmKSZxsgPIIM070mRlPft/bpFE9K/DjHCgmFwB7Oy7YsFcA0ZvPf9Znel4d0aTlYt0QRp18TrbbYY/SbxXfJ9893ZjZuUg9TMOSSKzJosQf1Nh4UAJVcMrLt66ccu8Bxf1hBn1Mixzel7u1C10/kVlAKT3wngHSGER855zdsBfLU9risbyQ4KLVsTldWrXnV5DUpDB/V+nKy2Ds3SQYU6N/tWfYqT/3kvC57qb0ZSjoSgw4k1aeLkncik1WD/WgIC9W9jnbwfRUY1ilBcXqE0bhCIaTBxwmUtFlkUtosNadhqcpo/CnzWgl17h5ve8+Crp5wrcn+oeFw4lCfAn8izoSuTItDYofn4PLIRypJt59C3yIusN99KFsR0jKu+zorSrVxnVTeWe+V9H3vsMTjnrkvRR0IID60/1Vm0Az8AgHPOAfghAB8OIXz/ea9Lnf4QADTOVVUitZUQWB9AqJThoLCdQQsiX5+KvbVIjkHsQQZAoNTxaD3aPgKoR6lX82YirSUjTZN0NsugyEk7aYCmXa9LnYk1goLHeY+JcHxDG3xZD2lIdioi5aCTHAEC7S8CH6+l2Nr39eljxTgVMWvvXrlYfR7VLWp0C0Fykp5hKmzeKXK+wR7ZF3B4lz3QN2Xf6mJKFxher+PQ+vDpOasMt+BnDXXaDzWx19bBYy2AFz34IJ588skruC3acX5KX4IIYh9wzv1mOvadIYR33UwlnDQ17q52jt/DREM92cACZdiRpVrsZYustztAHNhXkPfAGPzSfJTt7crspD5OqOk0irJtm6y4qXAwoEOrMMPAlHtTUVUNDhpbqymsajoxflY+GhvWokiEq2SdQbhMgmFtQvMdzdJz7kt42bLHWkKFK8h6VPbb0A4A08pI1ucisNKSS10in6nrMoc57ATX5Wv2ZwKcNJLIs2jMr3J/akXnDne0Nnco3VJqKhQb98vnBcqsL2PjXTk6jjuKvZaL1vmzPdpZewEAIYRfxfndl6qkomhN32O5Px0QBD+6oAB5ANgJyuN2ty0doFROE1B1g+8GJbigi4p13kutvWvA0Ga9HWnZ1QFKFesq3loux4q9KuZZbohGh/1pBlV7f2/q0fx6CmAk7cfB97HJ/bPqM3BqhAX7RPMYKdfCbwUZtgPI4Mn+mUgZ15R9BjEOId1HRWErylrDl26CZIkccIOsK6SeTzer18VX66txhzp2NE5Y26VtUb2e5cd0Pm1KGXdztOP8tk4KbDbO0gKfKsXppwdTlpyfKoK54u7L/7pJDQfqFZTZgkk9IodANxW1TOoertqWAdjJKSSjxFLABciAwclLIGQKJgU0RmlcP6nroYr08olms2x8mM2y9ZfuHouF6OQ80HS5LpKCbdNEI4US208DizoOa9IGm6UZKF1yqLvcn2VRVWOUlftje/jMU9NPBOz5PDtuK7d72mV/SjVKAPndD2nNDIc+abK6hOOwwbokQBWJiq42KUYjx3UhnkKSVqBcJMj56ZizOkTIue3RDvwujBTorB5DwW/MMghksaLGUdiU4yRNIqobAAEm9M2Xrg2c4LwviW0jt9H3wNSvAxZDtIAyoaiKikDJBa0IWHyOpqyPejoF0kmb9XCTJLoPm4kjA2Lf5TZ7AzZAAqSm1Kex7cEDXY/BIZdirTohqwFEwUTbqrpLcnCxYI7Z5bXUx+n1DKnT/lORm/8HH59VY6Mt6Tu1746ir6ZCswYxj5y1k7e3/JP1ELBjUzezt+X4bUVeyLHtCao7zm+rNCYz2xeoxxUENymNa6/K+uFZKrIoI08O1qNxtjbbL1dpfQkOWWxkyFWwYMJn9etc2bKPZawLC5X0DjnTMutrmnVA2RNQ8R4IR/kegIirvmxfzRACRC5LDRk+AQn7hOAHSOx1g2LTdKapJyDS0GMTEwD5WbidpobQMZkDuU8+q/eRu2M/NvK8DB+07i414uJCrrdQV6B0YbFRRafInBuQx4sumGPjmPVZMORvNbBoGR2T3lx7+7QDv62SZd2tjsNyflNknRxQDgALbDWurAaI/NB4QuDz5jqGGlHRrKIdEIGzl+8ewH5y6A0+55nTsDOGvmkWkpOTHAp2MMOQ4r3Q00n7Gfh/eFiKq1YHSIdqOlv3PXDlKHJJXZfvS1HYGwAi5wjka5Z9DgvT/mF/aDp+hsEpJ8bNlmYz4OpVDHpG+kHqvY+O4v8nJzmnIBMmBJ/aJ7NdfR/VKEKAV8d0NZ5wI/cG2dBjdbGuieU47tRxvO+BG6mOp1NbepTO8hyzdoN7isoe5Ri0hj/DFA/34LfqOj8F26Ad53dhpC/bigD2Y/dGrQEaUK66DeqhZw1KUdcaLXSfhkb+t/fitfoSOEA1/51yZTREACUgqE/cJE3uXiafGgsaZK5JNzDXz7KP+kr+P2nzdQeMWU3tOO0yAFmLs3JuQOb4SFbdYMVGgmrX5XLkRmsqgUHPKG3Qb63biraq5yN3Sp2kGl/aBFr7KmrXPIfNfW0o3uCWY9pm/RlJ6n9aROnA+GSmj1qhG5SRSzrOFfT0ezu0s/ZunRTw9GWrbq+R3ywHrANaK99WzFCy3J5yAY3chDpEOygVJAfn3kr7gHIiAxn81PdOAQfIwKKgOXCLSeZZIltZuYERU0tpSJrWPTgqKwgkzuogcY4rAekaMLF9TVMOOhX9Bo4K+dkJerodpi4M5OI6boB0xsy1IFj0nc+ir7raWMCmqKx1qXoiJPFYRV4uTAr08cb5HnSitzpFTZLRojS4WTeY4TmxvriqWKxllKz0cnu04/y2TlYvoeKA+lEBpWsKfbj0el6jujdm31ARtUVZP8Xpg6Z0zu2TfEtAvJImRe+jOGNToh8kLkKzskyb7GZidXwKSECp8FcOhOIfs5QczOI+ucs+1n1wGEXCZ12N5Zi6nYYThqjxHurPR7/BYcOfJD6fdlFPpqANZI6KLjRXr+Y2XrsGzH3s82FXtDY/91I+fJ/zRbaA29Rb1HmO+S/qgtCw3/sMnNaFxwJWg5Q8tS+tzkz3P9zOlxbsBfLYU24MwBABQ/3wDNmooZEtKmXU9M+64HuUnKI1rvVSTpkFSizbox34bZXsasVjfPFUCE9MeZsiiOKrJhkFshVuaeol6KmRQ52BrU8ZRUsgnZubtFNt3D+iEc6Lujoq8q37CF1NqCtS/zq6uwQvnKMRm6mL2mtzML+KpNTLEThOTnIblMtUNxQ+76QBVul/dTvRzDDUwzVNNi64OeD6sl+GervM9XAaLYGsMES2TmvfU59mic/McmxbzYEbKLmjjSIs6osrj9Og0yACGxdBoAQmuyejGkK0rBpKiufDuhrGbppUPJN8Ewxr8+vWaMf5bZU0lEw/tgx96ZTz88hsP/3y7kvfLMdYzRXiINWsI7yGourEWBsJXj2ANnE6V69mrvBgHp2FKarR4GC5KuVQSCqCqROwfoDsWsJrlKzzMw0mtbr4OT7OOjcLfH1fJjSwCv7hfSRgpI7xuc/NomrwQHsNWD2V2p/6lGDGe698+Z49Eue1yNZttoOLxp7Uof0zpIbqy75k2/U5CPAKfFa09h7wizhGmKkFyFN/iZhXncCiujh6AhDg9xF9R4HsssKEuprUQPuBSTO414gm5bAZfzS/oy7smg9wx/ndw7RpZSLAWTGB1xEY+cJ5XjkLlq2tgg45iYDNqecTlzNY0NIPTp59EWOtk7JGJQzPUplk5PwItBq4X4tfrXEzti621W5DqaBsM0rXAKEKID6LySpy8tmZcEBp0mZjAjcr4svRhc2+G9uHdmGw/UL9HrO97LXr/afArqBeA8PFolSX1EiT2aqYqUDUmDoIjHbXQEvW/Yb6Q/4eI+X6pKu3QLtkplsnBTP96MpFnYa9TqM0uPoyvhbI2VvsAGC5CcoMv0P8qnJM6f50vVBuhBOKxGtoYQTK1Es2jbrq/RiLCkTfPQjAkCxnQ1pVwA8oJzrvx+NADvLX5+E9NJ516PMmP7Nycwwlo7Mzm9f4DOJDmF2fk54C6X0364A1Bvrafu1D1dvNRH2hZfR6vmu95xrAJn8m6tV6ZJ0xM3Yr58dbcGG23C3kPAEQ5jgwksJf6vFyzNYLlHrA7cLV7UOpc24G4JeRNVQ/EUL4LlPGAfgBAK9GzBb2DSGE922q99KCHz/cMIYvlaogPpiuwAQvhqTRt0797ooJhlJ/eAVRGa+bZq/69VWeA9Qjio26Q5rNHMJJ+PRxTpjJ+7dN9sObTtejJIBSiQ5gyP3HyU6RUeNsVZRjKJdaStWYwm+6tbRt9rMbrKy+THygMc0KmgTy6/PsUkK/O/aZuqjQUANkCyyAIexPEyIM/eGzLrHr4rNqSnsCdtdFv7oF4jg4bEo1RN/Hevhc1GnuiVium7wzEcVsBkyTew43n7ILMXXGQAZFlVB4TY0LU+s4ieOUtDDHta7GXKffLer3vHXams7vFMCXpQ3J9wD8qnPuZ0MI75Yyr0LcpPwlAL4AwD9O36N06cBPNwTiN3+TlAO0A2ViyhMT1F3AGkt4n2mzrkeygNE0kQvj/WsWU8udUfc2R9Yxtoj1TNPEs4YDNt57CXQXjkmV+tpeFT29j3G/GtZFGsK+lFtDBkLWseyzHpPg3CLfS9NjkQi0dHj2vhTZbGzupIlicJ/6QXMR7smzkItbdtHwou4+SoPOE+X0pDGEyRyACH58/olcz13zlEMkZ8jr6SepUgmANaNIDfhqkEFRWLk4kj6izUdpM+BY0Cv6ZuT4rdPtg1/agvIk/as5LpReA+Btqey7nXP3O+eel7bOqNKlAz8gAx71dir2KtVWTQuWBBsFVHKTajmbIOupKHYu++zCoYAzXeQB7JEnOQGAXJRaJfvUFq7aQ8KGytgpAGyRuUQlnYhDf/iSG+tTm5YGyNU3UK3VysWRxkLvrP6SgKZ+dQQr9f1T0dj6FOriYT+8f9eX2a41fI318hlc+r1C2c/K5dbcZfT52U7VvdpnB0qjG9cZjjcFPvVIUGd55d7skLCARWTg96ZQvBrdBfB7wDn3qPz/cAjhYS2Q9ux9L4A/AOCNIYT3mDpeAOB35P/H07FPHvBrEFOeD9wY1vV+SjrQNAkBLW2qxz+QelWUZp1D8gBkq94EwKyLWUvuO8qTbPAdQ179mdmFGY8VMPfbHORPMYiuNEAptrYGIFQc1olKLsb6thHA1ZdvPl8HQFpngQxavBeTf/IZVBWgbiMrAbuVAAPB9cph9mkEYr8czErgsfXzmZXTHSztffQD9IgviX6ANnEDDSohvSPdfpNgu/JY22eY7jErlI7WQ9bqppQKlNujvyJ1f1eBIVpk1edzai3mWLuOuu+pk99Kely5PQVflZB68/sA26Bzi71PhBBevrGmEFYAXuqcux/AP3fOfXYI4YNSpOb6+Mm1ablyaGMfFQtW8q0uLRwMdCGopaa3cZUkdTzlAJ3KxCnErIr22MtEA/JkHMQ2RM3uPkrOZugDw43oceWCauc0hZX66tlsLWOp2IGS22vaDBZABiFyrcrp2b5pmhJc9JjVj9qoFhu+xme2faXhaQTBSStOxAn81LC05jrUlnUPi1mfE1DoHsJsK7cR0H5U1xZynJMmW2Y5toAMRDreOCbVZQUoh5m+ttq88HJNjau8fUE1UQjr+pTbrjJcc879EoBXAlDwexzAi+T/FwL43U11XTrwmyByfnxZzIbboMzXp1l/a/oV/q/6crq7cL9ToPST4koLcw2PqWhITmGwzvkMWqddBgYaJ7hREd1YrCit4p46HQOl6L03zYACZM7O+yxStgJYDzyQ2/2J46yLY708R26V91XxcV9EUiBvNalO0VZ/qCAdpH5NLNAnfSL7k2Ks3kuPARHojg7HgXvSRg4dyP6WQN2Iw8QHNXUBjTWLRSx/CokEMplm+h7AcQYvII6/gHRdnxM8aLO79DlFyQ2qTtpLOV30gWwcaRHHOUGUYMfkEt5cvzXwA8ZfxE2Qc+45AJYJ+A4AfDmA7zHFfhrA651zP4Zo6PjEJn0fcAnBTzM568tqzDmeV0vsyvzfoEwFzro6+U3iIIK5pnCillWeYq+mRd9L53xfRhZY51xgneNT4FOdobXI0pdQjQA0HEwhG/AYTlA399HFWgFpiNpoMgA2Ak4Edk0MSuAoDB4+c27qimONNEraxiAcGJAdlylKr0wqYstha//xWWnBtRxzjdivCnxcaPUdKUg3DTDxpSGN45aqDphzShNzXsspR2iDAJQZILVyHcy9tgp8AXUXhZun5wF4a9L7NQB+PITwM865bwKAEMKbALwL0c3lI4i2wz93VqWXDvyAcR2fZtcdY7YpWmhGFpJ61Ns6OaiYjICkxhPqohjLy7Am1lNQQllNwaTfrI+Tk5yEune0ffYl1FhbunN4nzknzQ5jraCDfk50VXpfkr2e5ZomWo1ptdZoENavllLtK5sJxjVRhTD0b3qW6XQdFK3xobY46Dth3+h5/mb9CohspzV4kCNV4KPzsnKiVj3BhVIlEgsNuogrWQMcUPr8Bfnm3FBmAMhz4lSOq/4PWL/v7VHYCucXQvgtxD2+7fE3ye8A4HU3U++lBD8CDlcwHmN4EEnFCA9JHIDSigtk44fqXNQ63CIqgfeRwY8rrkcyZqRJTDGlR1yCWNcV5EG8RCw7n2fuTw0YGurmmmgYmKbJzX1tgTwZvUxuIAMTwXVvul4/Qarrop/h6SLrrnQCU49F7ohtYhIDoHT92DTeqe9kWeUSlz2w12Uxvmmy352CrYJzk7g+ctJNU+ZA1GuoFmDf6UJi9Y5I75T+hcold906x8cEFyqyD+U6oPMY8kjqpLP5I3mOZRmyplmAaMWdY91IAikPGFce1MPbVC0EbBkAbRD0PUSXEvx0BVSR13JXNbHXPnBNxGB9HGyMCBlSCrV5Aq+JLKnCsQGk4VkeGZzUQqgZQhpftln99YCsK1sZbkW/7aRW51w6GVPXCJROxE4mPYn+dTZhgdWJKUhp+5T7U/GYbAhdVdbifLsMmIVbjuljyz1rPwTTfzZrjr3W7pinnCaNFjyu/dv1eWFjBmig5MRQ+d0iAxTHCiUVAt8MpSHOo+QoWzluHfCt+FyMrUr7bovCdji/i6JLB350TFVx0xIVutS3Adnaq6KAGi8oLmhChH1kbq9F5rzIpaGLPnJI1xIAZsgrPwPGke4/bbISndzDaRc5Hg5YXcUblIaGpolApfpBngNKwwY5JzVKsEzfR1H1qaey7grIHN7etDQ+MImAFRnJEc1S9uhZL8/WZQDQPX01xb4CGesi5zedRo53gmw40KzRJHJwkyb2LyNW+IxquOA9lfvTflGx3xvgW9PPyntSECXHN+/WOTuksaQiu10YfFpUryBKIzaqg3UNvqBSxsunl49CkI0rpvFDr90KBWzd2rtNunTgJwzCWhoqXe30BVpnZVsfiauu6g4p5rZNqRfyPhkDEpc3acuJMeip6D+X6iBo9X0Cqb6erYPEOWUnJlBGQuj5WZMTBlgXDUh9NmuxGkE0Jx4QJ6jlmpTDLML2WqDps7sKRdwGGHazI+kWl5O2rBMogcoCE69Hek981pWUUz9DFfuB/Lz2eRT41OlaAatmlKmRTavGa3URZZhjcd6Xemm19tIgZ0GNY4jGD0oldoxzgVf1TYNs/d0eXO04v60SX2qD7CwKlIpg1XOQQ7QuLiQCZivlgTKMjsBnDQTqA6bAZ6MRdLIqwJw1LibIOjcS9XWsi+2p6do2ZXlR0VSjE8aI91R3nuE+xkrL/hi4UUTDT4No8XRddnvRpAbooyVXxXQ1CFV1fuKW07Rl22p9QrVCaErrsoKuXsd33Pj8jr3HkLdQSfu6bYG2K8+RnBkDapTR8vu+ztUpl0bOknq/mltxI98eJccIZIZCGYut0PasvRdClw78OJGAKJJqdhag1K20WM/U3KAExAkkP1+6lkrkwdKbRg8NBL3PYu6zruZJxKgDBUqCAF1O6DpCzhAnJTgSiFWcBPLEmqTJx4gCy21aYNJMMUMf+tIYotEPQG4PE6sCOfUTr7cWUPrJUaQlJ7w/xZD8YRABDRetbXGmHZ84LndXs6GFSjUuzuotFegUyK0BSOvkgkaQP11g2JmNLjt8dj6XGrG0PQNn3eZxoAuLqgjUeIJFHJf0+7PO94weYdOpp1ZpiMeBDHY8l4SQ4dx2aMf5XQjpaqZcn83iMkWO1VXujh/dD+GQg7svRQpNW85Vd4rIxVgdlgKQrvBDu5usf+JEUw4HPk8Mu2m3Tl6dxDW3CrWosm2kQST0pQjGupR4nYrWNmpDJzsXANbFib7f576fTrNOkc9uw9UK40FXB3HtUxtTO8RZmwgSfU9UXSioarQGkNukyRxWSaQfdmNryn7U/tSMOU2lLpUOlKxOl8aVCTJgqQqHUR/sHpVy9JWqMcXShcDUDvy2R/SnUk6NxEHB7iZXR+5P04YrJzhsQJ4GJLciHMSCNFEWKBMh7CMPUivekqxiXQc10yY1XemMzIQCjK21nJa1YI4BFu9hOUIVd3m9pqTXicr/XSOTqVmvk+WCsiMouT8gAeEsHtPJrfdkeJu2VSNk2EdeFh/NsUeRWoFURUvtv2WX3Y4GPV+6tw2vY13K1eoOeQN33iaQkoWi8SVHx/pWPupBl33Z56xn6BuUY57qHnKAlIaAzMnZDY5UzOV1GgnFe2wNFEIorTn3GJ3rOZ1znw7gJSGE/ymFl7QhhKcvtml1alDm8AOySEW2n64BLYAjZIst2XzWowMiIOpodI9aThi6nhD8CMB8r5xkdoNxggvLKEfHybfXZk5ihfh95Sj68lGU9D6CJFBGb3ByDpt6o67nAtYV6kDJpTDdvrYXyJZghslZwFMfQxV7yVUeHsbP0VFuw76Ih6zTWoNVHOWHx5gyivedSV8BGRRZVtvJvmQI3slJrptcGZM5KHixnU1TqgI0D6KqEShqK+fdoHSN0Yw5Xjhc1SH3aVFs0zvnoj1J4+YUJfABGSBVz02wo86cxhCgdL9qUTrx3zZdZs7POfeNAP4SgGcD+P2IAcNvAvBHb/Zmzrm3APhKAB8PIXx2OvZ8AD+CuLnZ14cQTm6mTmU0VFTlCjZFdlXp5Rq9niJE5wF0RlRKynFepJub94gTgIOdVDNIDA1EWY6B8Sr2aaZoJRULOREGjsnXJ6u1kKoYrv9reFeNS1SuR/erpduJ5bIYhmaNREO/m//VOKNgyOewYisgejfDUVsDhtbL/lDXGS4sdAfSMDc+n42KYfnT9F4tOFPXS4uzRszYGPDWzEJtb7Wv2L4WmPT10DebqMPm9LNbqtqtAWzG6FuiTwI/v9cB+HwA7wGAEML/5px77i3e758CeAOAt8mxvwLgWwB8BoA/gwiso8SVq0VOKUXWnvN+hugjdYSYBGGGpKvhpEEGPAImj3UeOFxkkQPI70+Dybkd4dPHkYuoZSKxVlobKeB95kCAdWCiD5yGzFmnYwUlQALphfq+9I3TTM6DTk4AjSK49znZKTdL143O+z5mqqYvnVKR1l+4LQVKBTjta+pBbQoskuoZ9byCBRcWm+DVAv9iETM6B2SXn6tXgYlxa9KEE01TGm3IQdJgQqOWJnplW7xfd5/hO+L1Qd7BECniZe3sy4nbIEc2WWuvN+Vs5Eda34synFtboUsOfqchhC6myAeccy3OyJM1RiGEX3bOvdgcpg7Xo66HLetAdsqcyf9AXrUo8qqej9fSkqsiiD3PTBtk+KxehK9zhZiqHMgDWXVxK5k8Krqp5VABrzHllYZ6UYKlimKcSJqWiqCkorbqrywgeJ9Tty/7+Nt74KBdBxoFgk44WE5a5ThPF9mwofo6jkACA8F+YtpmFwjLFS/7OpAskfucz67P4NIL5QBkm+3ip3O4ZkzRd7cywEUgWyFy6NZ4pL91nPAdMIekSi5kADiGWzmn0g+PBfPtUWYs4uKv1982BVx68PtXzrnvBHDgnPsKAP9PAP/DFtvwBgBvB/AJAF93VuEkmQ5OmdT98QNg2GwIEL/AtHLqysiVkIDWp990G1CgY70aIjc4nHbr1k7L4XEikHPjRkjkEOivBmQQqRkegNIaqYCm5XitKtJVr6U6Nk40cl03Fusci+YftGR9DwdxT8BX3YQ0Dnda4dj6Pi4cFGvZJ5YLVF/CpbjicA8Pa+yh647Ws9emDZLSe+U5gpWKz968E77j0y7HTmtbNW65JrZzzKijuS563NOlRxlHXAvlrLm1qKMzv735BkrQ2y5UhUvv5/fXAfwFAB8A8JcRU8e8eVsNCCH8ewBfuqmMc+7tAL4aiC9eFby64Tgfhk6hHWLif3KATDYAZNCkIWQp5+nOAmQxoEXe9MiGEdFa2Ek40z6yMl6J+9fyA2SxlBOWYh/DsoByEvayWdB0Gq2nR0eloUCNNZZrskDJew7ioon1bSo6SE5+7q52Y162n+1lm4ZMzb4UnylC06iiO94dtOsGCxKtzxRJNUZa70/9GAHptC03PeIGUbMERPuzbI0GskFD9zemmoCLyGwW39W8jeF81+fxOuboA2Ik0D77xJfZn1VaUF3hAhH0bOICjkH1RaUUBGSguyHX0hBIdQ3Heg2aWgCPPfYYnHPX5fAjIYSHKsXH6bJbe0MIHsA/SZ+7QqnTHwKAqXNBOT1yeQp+nKN86UXmXDnPa2wIEAcPkLIpS1ldXa1VjXUMbgQyqJUTtAr8TTRmuVWOQlNArVmpN3BsQKnfs5OQv1W80/12ubEQY3GtqEtd5J5YP/s+g95sFi3bGjanXJ3GFmuaLFpOeS8FeeXO6AKj/dIbLpvPQyPFvrjN2PdAsX2aXFxo2NEtCdo2Ps8pMnABolsTsVZD92p93S2ytEKykUxU4WiyDMvd9cjRH5oV2nJ6Oq8efPBBPPnkk1dwu3QZxV7n3AewQbcXQvhDF9KiM0iBjh/G32qUB0GOorFN7dMipcBq8+K0hwyWej9aw6bCLQ0ASr0REiBB/AllMlu9kE5kBR41aNR0WzRILLt1YFOxuLYVZQ14VT/HMkzzrsYUO0kJEAeHmQNUHRefnRzSVJ754DC78sxm8fh8nusniKjrjAVXPi+PLRZmQZDrChFUwJHPr+oABbFa3zY+g5f3GPz3eI1rMGRx0UXVI6tVrBqERC510mLI1bjy5ULLhRgoOT9uYOV9HMOUfMjhWZ3fGNdH8NsKXWJr71embyYIfHv6/nrkNHU3Rc65HwXwCsTdmh4H8F0hhB+6mToaRCvuDNmBWaM4dNXziKsvB12DFMmR6jhKnMcqiZ1hkcsAEfCuIOZqs8p3cnXcbAfIbhPBlyCmxpBlD5w+Fcuz3KTJfmp7bc7XR+BRgKJCnXVSfFZ9GY0UdkIrWSW7gh+5pQlKv0LVuxGcDg7j/ebz3I+sZzYD7r8/p3Vnn105zBEe1HVpEtSaIUb1Z7Sokuui7tInoODG6vQvVMBc9TGCh/WyrVQbzGZZnG1k3qqeTjk3fbfe51hlj/HIo2aRr+cY0fBA1+TFrV0A+11OsKtSRo/so6djsEMUbecoVThAGbNOgZSMAtt6s7u9baTLCH5JFwfn3JeEEL5ETv1159z/DOC7b/ZmIYSvvfkmlsQXp6sTAY+Dgv8D5eBjHPAwAJJoRUtju8gAyvswSaVybcC6i0YjE9C6MPB7sHxClNc+cq50rGU96mvGFO1Arttyh0uZ3Ko0txyU6q/Uumj10jQeDEpxv+4DyH4gUE3aMu29OiAr+Gp4l4KeNVBYi+jKnLfcsaoX9qbl4jMAk3DLljO27jC9KWdJuXaC+GCAQjm5lAM8RdrSoM/3Zbt1rxM1ojC0SMfgsEMbx4nPoMiEupwP1Hs3wJC4V+cLb7M1ro90GcFP6Ipz7o+EEH4VAJxzX4zIEN0V0hTfK5QGDbsfB+QYVzPqSTpEqyYHPo0VDbLvIDtHd+ay1lcFGr5nbusIZE5QQU8HGg0jBAr60+k9WgCenI0vRTI3AiAEPSBzFt7H9iyO8zUKhLyfggh9F9X6qRv/KLd2JQH4wSxzXvffXxpi2B7Wc3KSfRD5XJM2uwMNYJKO2U3LCaz6PFqe74N9ZVUJltPku2Bf87uvAJUCq/prThug9eUC1nUYjGODn6mPeRxnyPUwLC740pdQx8Oiy5yl5phcdXnrBBo7uJAzCQh/s9zg3yrj8pb82GoUtmPtdc69CNE3+NMQm/lwCOEHTJlXAPgpAI+lQ4+EEDYyaOcBv78A4C3OuWel/68B+PPnbfi2ScFPQ3VozVXxVvOh6YpGXz7XA5hncFJgIhDe8HGQAnmg2UQG6pdF5TukLnKiHFQKrtR76e5hrB9Y54ZoBVYxLjTrPmIsWxt7VtwtxEKfwVdFYAVFVf6zDUBs+8EsgxOByXKL6lajYK33oAqAx/dnJehTJTAm0queUiNnboYROU8GdgVJBWrllAspwKPQBQJAIwsXEN18tF4+L8sQQKcoAV0lBSDPBerFVWJS/TjLa/LfrdD2tq7sAfy1EML7nHP3AXivc+4XQgj/xpT7lRDCV1aur9KZ4BdCeC+AP+ycuwrAhRA+cVPNvgBSLk71Fny5U2SW3m7iAmRzfwAQlHOTcnQRKLau9KUynROYvwerI0qwY90c8JrRmbomAgVFH2A9DRW/a791u0VNuLnqy4lVE/3YdvW/q4nLQAYgBU5+qGsjiFPXpxwSkHV31iVlipJrZfYXkjV4sF2qs6QLjA2XswYMvVbfn30mAGuGK31HmixBrfuWhkUgsVi0wrZIoZVd+d4Y6aFtYfsU/KyvJhdWZjQi+KkYzm8GA3BsNigt1FuhLezhkbag/Gj6/bRz7sMAXgDAgt9N0Zng55z7W+Z/NmgjS3lR1CDvtRtQ+lIpeBH0dPc1NYQ06doFsuX3PmAIIKfORLwihj0lrl7NE5pp2jXtErlRO4jITQKZM7rvauSWNLGAcmYECI0x1VA1upIo2T06eD9g3V9O3WZYH8FY/d1UL8j0XgoKbZsHk+otgXUwIfCRS7WcNI0OuhMdffX4/F0H+GTcaQw42fRWNfCrLgB9GesLlNluWJcmUWiaMulEaMoFgmOC1vHpFJgssvRBg1x7ksoblYfVT/IRBiuvcL5NgyKHJVA6RHNc0grM8wTIXsptjc7Haj/gnHtU/n84hPBwrWCKEHsZUritoS9yzr0fcbPybw8hfGjTTc8j9qqj4wzRCvzhc1x3IWQ3AGrl9+CSgpIDdFKmsLqhHEwzmWxYZM6SO2gNbhvTEqSA/N0kfQ/rtfezpAYDchQ+TSblRFSnR4sqABxNy5WfynegBEttM9vJMsrx0VhBY5BaXNkm226tV4lZR1i+5nKj9SsYquVzbDayX6zhY2zv3Rr41T7kntXiXgCM4dC9B04rzwPEtqv4WvQPMPj/nQJAWtRU7UGiCoNApQu9Bcg9Ocfv03RNH2+z5uaSJPJqJuhbpvO7ujwRQnj5WYWcc0cA3gngW0MIx+b0+wB8egjhxDn3agA/CeAlm+o7j9j7faYB34u4O/pdIx3brRyjuws/yvor8FEMVpG4RZ5wg0jX5UGm5xVIlINhWqo2ve/etJWJGBqU3ISOD+rzVOzRrSaVMyE42SwirJPt44RSwANKHzMLOmqR5Xkta8Vizays3CWBHKJHrImgNndeYXhA3TKtoibbpbov28fKSekxez3fg5IF+GED9dTvugisPV/FKDb8n04PERxduTjo/clZOp/HlfocLvvMBABZ7UJQ6xBB0Lq/eGRu0Jtzt003o2TdQM65PUTge0cI4RF7XsEwhPAu59wPOuceCCE8MVbneTg/S4eIGVjuGhGQBlBKv49Qsv38UKlLEORxitATZJcWggiQxWYmOqUoSI5EdwVb9iL6TdeNH0oKLgS26/M8aRlapuBqNwMnh3ZwmP3mqN/jdpR9Hy3aCgYKeHTw5e5usxQm9+xn5/YBJWehYp8ClIr/ClT0ybuCbL3kR/WU3mNIDKrAu+yzVVh1hAOXkxaA/VkWLdlOoAQiiqGajt/q460ln32pafanSZWge/5OWgxpxbQuLqbsl5Uvk2SQVL0y9SXwWaJEskBcCCdd6VRNfbN6FxD4lsj7/WqssIZsNtiS3m9LBg8XdW0/BODDIYTvHynzaQA+FkIIzrnPR3yMJzfVex6dn0Z6TAA8B8DfvYm2b5WsNUqVuARCOj6rLoOrKzlEFZFb5ImunMSmNWuS0JdbNh74MupiGLztuhimk5ucHnVXqsBXAAFE5Ert1YzHxfl2HSTUClx7FhW96ThNnZ1GiwD5PMv3fXZLsZZXYD0pQiHy9tmP0QLPyseY4fm8XBD0OdiPmslZ72E5NrWUK/hZ0ZQLz/V5fq+sl++EaaT0PdrnrBl8AAxZxnmIizk3rbJcemGQQSnF0DinIqtHNoxAjhMgbTYkfiDft03b28DoSxDDWz/gnPvNdOw7Afw+AAghvAnA1wD4Zudcj+jp89oQwkbj9Xk4v6+U3z0ium5VJ3ozxPhE3XuDbiP8TfBrG8QceFi3vhL49tsyioEiadtGR1SfRAlGLzQN0B9mbunoKAIBJ+diATx9krkLtXjWJu+wx2viJqyymyAwabPfWCsTnRyFghc5Mxvsr+OQYMG66G5Dg44mSjjtgOmxcHESoeF9PHbgU1r3NDKYv8+2oWmyAzLLaZ5DGncIMNeurfdPLZWUkorr1qWHbdFvIHPNp11+V4tFzNfIZ5i0OfqGbj1s72KRuV+2Qd/9pI3qkL7PEUlXTbs5pjSeWS299CRgs3US9shjnBycJgBRKYbSkJ47M5fcLdF2wtuSj/HGJoYQ3oCYIercdB7w+3/bbA7OubffdIaHLRGdlIEMehRpuaE5Vz347K6iyU6pMAbWfbGGfRZQ6lE84gCnU3HTRDGNE1Gtbkx738AYMnz50WSl2hYgH9dtJWtGBtZB0U8BTTmzof+EO2uavNk3LayacUZ3jiNnyv+tXm3NJWYBdAb02Z821b/lilY+p9Yi56Wcq6a64nXLvgR0kvoSksb0mLY9g74VGTxY1vbtaZet0KpGYHluV6DAbblCHqNKRdtX6DZRF0t17AesAxy/Of5V7IX8vxVebWjUVmvbKp0H/P6g/pOSmX7uxTTnbKLidopSd8KMqDTlExSp71ARwA4c5SAUgKbT5FaSrmfKerW22gnUNHkV3kM5yMnhqGWzmPQoJ7WKWtZaSiLnxElFXaBaKgEBQJm4e9Mcm6zO1oeHOfkAr9ufAW0CEToQa3uUG2W/sZ+Yvkkty6SaIWIw9PRl5ESNeK0Cnt1/WJMZ0CmY5cht6jUqYiqNzeO+z1xu56Puz6bgV47VOrPreFDjBa+31CCOLd3IfGg7SpE2IIKbFZWVcbgwuqyJDZxzfwNRrj5wzh3zMCKWVH1w7gQR/DzySky9Ho/3GE/4COQ0VRRxgXKQFWmekEWNZTJM7E3LcCpyN8MxSOognwc869aNj8jRUawhx0N3iyuHJacFlDpBZl1mfQoCPk3CybRMXU9ujxNw0gL3HeUUU89+NrA3i4WbLlZ+//2xThvfy+fbnyGxj0kTNr+O05Mev/d7EfhOTkruhteqjlM5okGXNy2fiW1QYj8O6gqpn33H5A9M/zWm/7Ri9/40vx81SOmWl8zhd8PHdz6T+vhMmteR4rA+v+4VzCQRWsfwGxg2GJoi67OVWJWOf1X7UOet2zgQHMkZPqPT2IcQ/h6Av+ec+3shhL9xB9t0JhG4aqQrGQ0cE/lQ10eDCMmKohpKBFN21UeRV73yVwJ+ymUq1zK4yIjYqc7Hp+l7cDhuyomteixV1lvlvk4kApxuF6lREwqCs1kKT5uimHFtC+wfEpXSEuJXpTx5dF9WNjYOmO1jf3od9y+uV5N2Wt2nAl/R7um60t8+sz6Hpp/XstagZQFUrc5MjxUErBtpL12NtHzwIhZL9ynHCeRtSSky67tSMOSnEMcRP9NGRGOfXbb4XQNEIANgI/9ruCiPnUccPBdtL7ztQmgT5/eZIYR/C+CfOec+x54PIbzvQls2Qvqida8OfRBN490ig+UsXTNL/2sEApDnMpMRMKuHkkZPNA3QCFhS56OZd+leQW5GIwM0gwfFQjqjAtnyZ3WBY9ySitQkupXcf3+5ZaTq4RoBjrZFgUquASZtEys4vAJME/h1S6A7zazv0X3AbB+YHeQbt3t41uIGZnOPtl13g7HbO7IN+hyWS9Q0U6ojU8dslq8mSZXHq/WpuhQpWBf6tx5YiFjM9+u7PK5s3Q1K7pRuTlpOo3qskab3EpUh46b1WR1B0LNbMGhkkfV13UOWbmDKbIUuaRr7v4q4ZeX3Vc4FAF92IS06g+i4TMCjT58mMgDyKsn/G0Rxl9KZFd2GQYcsChBkqRBmunr65NmJOReRl1bpeQc0J7HclcPSKquTqtiXI32TmwTWx5BrgGmbJ73u3qZ55mi9/dTnrnMc1MXxGYZvKtGaJoLZbB94/gsiAB4dxeOLG8DiNH6zXDuJv7sl0CXl4XQP+4tT7F/7jwjzBa7PowWVi8fqahmlwcwtN+bZR07dUehSom45TVMmUdC9hhmGp645bbsOOlx8yMmRu9N8jSyvGZgJuPddLR3Um6aUInjfU8SU+XxX5GZp2LHJYHm/p5FBaS+d1zRoQH6vfpFz+iGN49qubtT52RyBY1LVTdNl1fmFEP5S+vmqEIJazeGcm1UuuSOksYj6UV0IXyTZ/POa8Xv5kGwShVUq2ABDOnRdYYG8mvIYMy/3qYE2AoDKfav49yhdJ4B1nRj3wFCroXJ01OnpNcqB6CIwKPQHdnIvc3Oz/cj1Tafxu22jfm+6l260X1ekXQ3A9AbQncJ5j/2+ww0ZdepPqG4ezLE4m62LhgQXivA08tRiiYOsgOQ0Z7Mshqp/5dp1QtY4pfURtAl883nJgesiyUzQym2u+lJtEm9ouE1kXd4CcewR0PksXNi4aFMXrmRTqnGubDWsTekygp/QrwGwYm/t2B0hhxyVQf2d6vOYsBTAkL2F3d+n/7EoOQ1IeRpOuBpqUDgHH78VVLUtU2Qg3EeeyOo+oaJd30ffwNPEcSjn2RoHW233xLRfuRG1MFJEIveoE7s28Qfz7+EVybgwAfpV4vRc5PLaBIpNE8s2TTzXLdODLSN3OL8egfT4GHuzY9yPTwxWaop/QAaxvSlwtctZmHWDIqDMr0gxXjNeL8RFBsggxfq5YHifnaiPj/N9WL/qWpktRvuXqfjJfdMf8eQkvseaXhNYN5LRR3CR9MXqPD2I7b6MxFgDNZ9DHzX+vUEOW9MIEACFbywjRIY5si26jK4uKVzkBYjW3pchz/WriCFud4VsthblNXhsr3JMkxucAjFHX1/qyoBSX6ivTbe4JDCpnxSPNSgHvKaR50TShAGDrx8NLH3pKmOBj6s8uQoVwRTwgMzx8fls7j+tu9D5TRO3d3gAHF2JwMebARHI2jYBYJs5RHKCPim6u1NgfiMeW5wODdxb3EC76Aqx0PsMfAeznMWFe3xYXz2gdGHRXdY6cbBu2zJxgxL1u7RGE4xYXg1OjOhZJe5N9YxWhWHvofe2xitdEMmB1WiKDH5Wxx3kuVd9NmpoAhDbNKa9UslG98TeCl1WgweAPwbgGwC8EMD3y/GnEV1g7gqRnVdAI6liF8gcIcxxOoCqQaPQAUp9unkMdSRaz3A9MvCpiGonCLk21dPwm5ZiO/hUsW+5yMGdoy1DvKgUVwOCWrSts3HbimPuIYHvKHJ0QJlTy/vE/SUxuJ3EcoeHNBXHXlx2EVVm+wX4YXEDbn4D+4sb8L4v9GTqH2cjNVTnxzKnyH2gnJSGw9Vca4DEKS1yec26zX7TfgUwxO9q+yx3Z41UanXWCB1VrU6a9TFN4HRNdNEZXFya9Wcakl7I9QpsyuHpeV3QVe2zlYiPS6zzeyuAtzrn/mQI4Z13sE0biatTi/XVi4aGBvnBNI09RWIFNNWzESwXWHeI3kMWRzhYNAsuBxHSQJwI2Fngo6tJ8DlwnxO1pnvReoASCIA4Oe47Kt03OMkOZtHNRcVHhmHxusND4DnPBY7ub6NR44UvBK4+K3k+70dxt0nTYToFnv+8FAN3H+DYw23qoT3EROlNjA/8lDnwKddj2WvXgONPRFCdXwfmcxw88QSwOMXy2vXhuZjE4OQkXvJ0+rYxxnZxGYwDSYXQdZkLJge5WMS6CILHxxI7nLivaZMTWdx3lEXqsXvznSgHu2YdXuSEGKq24EI15F0U44i6/eybewN5EVv168kKyCBQ5FUaFn/k0M8F4qJrfWhvmy4j+JFCCO90zv1xxEiPmRz/7ots2Gh7kIGHjVdRFcj6ELt6DQkg0/+FuOvLsDlNfMrrdE8IusKMZWv2qREUafjb+6yLqjop+wgfmoXGTro2abJXGI+YsNwGgYH6JSCLuswojaOj9Ek+e4cHScRd5coOD6Pl1z0bOY9OjxhLTmFrirzUJBv7s4QnmSdT7uwgNuzkOvbm1wvLK/V283nUy3FHOtsXfB8km1l54KgFOHWxIUPL3doaZHDS9GXLZEgg1zcmvrJfnYjihZGmXy+715abFeliN4Yd3ueksgQtqksY7QRkjs6K07rI2lRWFen91ijgcoOfc+5NiDq+/xzAmxGzJ/z6BbdrI6kfkwWfLp0bwsvkfAOgFZEByMAzDDzUXz5XeopXfQ/4LuthuIJC/m96UXm0KCY3IzpuLHLY23QawW/VZfBl21a+BG2mkrIxr0T+qTyTiouaFov6xxn9f2YHKcYtib2zg9xZs4Oouzu6D3AvBPAAovrXI/Id1/LNB9BrkR2TDoHZItYxO4h6xHYSDSgAMJ2i6boBkBaLzL0NDueiPhp23GtLLoXbWZLYB8sOw94Y1+frnBx38Vv5MrZZI3OUapEuJB4PAoza51Sdqq72YLa+kFHN0fgyyQFp1ed9eQl8dmsHMgpD2+RchzxuVYKx6p1bp+1sYHRRdB5r7xeHEP6Qc+63Qgh/xzn3fQAeueiGjRFfJl+wvkyPzOozdlH9ANumDNin2MO8Z5r8lIOJvEzb5pxx6pIwJOs0bWMdOlitE6v6dDGLCgDM5vke5DDUYVd1iqzf+9iW0/Q/wfHgMGZcAUr/P1o9rySxF80E8KtUYJKNGLT2HtyXevMqgM8E8J8gJv7vABynHmfGOO4Vto/C9XaxiLq/rouWYDZ0ug+0e2ia3JmDKkL0bdoHK2RdnPpcAhlI1ACk1nWSbgFALqtp4iMz1pnuIzdEh2iTOLBe6xxtReK+z4YVtTo3TU5KoTHRmhyWi6S2ezqNC+zE57Gqu7Kp7pjjmsaSDnX9YIs4jjV9+y3TZef8EOUZAJg7556PmCDwwYtr0tlEBqdB+QKB0py/QlYST1DqW4AMLBw85BSpeG4gVmVRYttY08FoIYOQH4qWnGTLPivXyU0EI0ZZcUd9uSwNvm3CIQGZw1h260kRVKTbT3oo9MskF59GK61Pa/90P3XYISKoHSKCIF3GKWQ9C3Haab5qIE6zG8DyOnDydPyoI9z8RuT+EhhSDOfp/Wnc14I0GHiM2Kmk76jQr/nyGhVZuQjRIVo3gwfqHhtqRNKQQ3XdYRuswYnuTvRTnDSRM9U2cYEl18sm0OBBKcTx3afzdO+yDMIwJlFGIQFZR2g5xdujgCJI+R6j84Dfzzjn7gfw3yDmyQ8A/slFNuos0lUOyC/X6gBpwJilj81h17Y5wkC98NV6xldHwwRQ+onRt+o0uUuwPS2yiM37MsfdYhGzfwziiY/XM5mBcg5UqmtiAgVGbjM5acooBU5ochGFo62ZZMEDYdFFHWnbAifXo/X2iAou8gv0pFTEuQ8RFK8gJ0k/Qd6e51r8XLuWgC75/c1vxO+nngIWC6zmsXMPUgzyYhH7mfrJp54q/e9UL0egJ/hQFcB4Zc3Dp9bw4LOxIzt4576x1mPd2EgBj2UJUjrfaYSaUDWK5J6Ufu/3wFKATOui358a+Vrk56YRZ9YDk5NYnlwdDX+qxyP3x6ilmnGN4HeMLdBl5/xCCMza/E7n3M8g4shnXmirboL4MnWTca5wFLxaOafuIU2TQUUV2VRUr3w2XFBnZkUpFcvmcxSjSTe4AdajODgAgbLumuLbWntrRhBakQnkGudq3a2WfXSfYHsc2VslbzWqNaJbN5MskRdvkJchkddnUcQFbkQr8nyOsOiG54/ZqRs0jYf3OVEsIyi4mbcCmT6jcr88zhhpctDckY76RfYZiSBHUFXXGSDrG/Vd9WackMjVAxkAVYxXdxwdG31fGjGAzJ01UifHxBAz3mWrpL2WzIBHtvgq90fAHBEyboEuqatLjUIIpwBOnXP/DCmF9N0g2hHp6qJZnYEy+oPqdmuV44BTfRBJs6qoCFC1uqIc8LQUN3KN+pUNYinvNVK/cqc18Ku1Z6+tO/TWxp/uN9FQPk+6t4wsTiritLDu5Zpegse5++sphjd1eJBvOLsGzCex/r7ProMDC9+i6btBBFYupygnz0mHZ+sGxIUAyL6PtX7UkLMbEh1iM23z3ZD0XlYE5hjjIjmhSIDyem2L7thHbalHdnLmo9ukDZrDcZYA/VRupzw71UGqm2aGF8g9tkKfLOAndEs+kM65VwL4AcQZ8eYQwt9PesQfQXSe/voQwsmmOsi+qyBmfZI4RfXhKKL6JOpoTChX3SHCQjgr6tSoVFduTn27htW7yxBAsYoT5IbPhhVCBtMT2b1qOak1gzOPUQlPy/EQgWCel6L6ypdiH3WQGpeKwyuRKztMIWuM3hiIFtwriHq/fWSNqke50zF3Qd5DVJ3vAwcr4OA6cP/1EpGOj7F3cgJ/HC29yw7wKfpjsYjFjo7yXsl701hGVQJcvE4RreWnIgKzLwZOvSlByn6Wwpmxf+kMTzWGGq401I7EMUFXm7YFZmlQ7LU5TRfL8AOUeSSBvKTM5P6aS7K2SHoPTLvSA0Ed/vnGgGz40EV4ayntw3asvc65FwF4G4BPQ2z6wyGEHzBlHCK2vBrR/eAbzso8davgt3FjkBo55yYA3gjgKwA8DuA3nHM/DeDPAvgWxB3h/gyAN22sB5nLUz6Eugobk+shil+fwEnEDuUihgQEMngnAjg6eagg1xRIg28dcr1dhyETNEUMWtQarTfp9Rje1cgktS4OpIFj9dmtohCJ0wSl2wvvxbx+mvuuuIEP5Y0nQIZrfg+8LXsP0Tam22FPEfWBp4g+gYiOz4cHSad4X/x4j3beDWCylMkN5FAyGkKALPqSo9JMPXvdOjdWE/1t2Jw6pA/GCR/H1b6cZ72D+0l6qXYzKe1ajiees9KGEkPdgLzY70n9arVnm5isYYhj9in7C7IxT9+WMggcn9Zfdiu0Hc6vB/DXQgjvc87dB+C9zrlfCCH8GynzKsR9el8C4AsA/OP0PUqj4Oec+x9Q7weH6Odws/T5AD4SQvjtVP+PAXgNshrC45yLTk34ItlkjDreqRukYUBDxoD1ScebqXVwELP65E6QDB5qZQWyQp2ii+pftM0cwASk/WlpUNGswjqOGGjvZZIrWV3UkMlYIiIYP9t1wH53Gn3w+uTu4kP83S8lZI3AB+RlRb0ue+SweBW4qHlN0226n/0Jj46AvkfTXMPKR8MPI1AU6PYM+PFd7AlgOXmPCnrkwNgv2meqc1NL+NL0N+OeqVvrewwRIQ1Ki7r1BtD7hJEZRx9DGqCUY2uR9ZR9n41l3gOTDtgXDrCwZiN/8w0NbUp1U/fHsir+3jaF7Vh7QwgfBfDR9Ptp59yHEfMOKPi9BsDb0o5t73bO3e+ce166tkqbOL/vvcVzY/QCAL8j/z+OiMz/DYC3A/gEgK87qxKuhFSf8AXyxU7kvEPWmegraAG0HTDrylV4PseQNHJIiCAjxgIckONByVHp5FoBQzYO8kxI322Tfb1UpAXKsClOCK72QAZtvW7gVJHHG59JORYaeTghGUo2nXbYx0kEJiLi/DowP4p6QM0WgVPk6dTK71NEO+GJvIHr6f9r8ffyegRUyrMpP777+McQTnrM59EwTP0cwWZ/CqxGLN5NE/0VV33eUY3luJCRO7c2HYb8kXs6PIzNop5P1QYMTxukg/SUDIVTcZn9T9AbPAGaLILz2zXZ6b3rgLkvc/GROA5OkN1Z6M0wmWfLP+/fopSGKB318ttX7rNV2rLOzzn3YgAvA/Aec6qGLy9AAs0ajYJfCOFf3XoTq1RbUEII4d8D+NKNFzr3dgBfDZTAVnthPFYEiKNc9ViuxzpHwAGldVEno4ObvzXbR1sRr0KDIfuwcgbWVaNogyk/PEdlHFkA9B7oZQKofor3VZUbn2WoW32BgOjzt7gB7FGnR26PPZvieAfXljmAp5Ch4TqiOHwM3Hg6ubjckBnagvkBXfL/YJtskgNu/+jSTKb6gVwsRzMtw5bL47e1EGt/T9py4aGhZfAIgAAp4iLGBBIq9mqd6qPnPeD6vO0nkDn4vk9ZZpBt5lzAh+zi6RwliQYpI4vP75XcI5CNHFRxLPsMrLT2aign6bHHHoNzTn2dH7npHRsDEPy5hOgHnHOPyv8PhxAetoWcc0cA3gngW0MIx/Z0vQXjdKs6v1uhxwG8SP5/IYDfPc+FqdMfAoBPcS70yLoKoOTseIxP3ckx6j7IqzQow5am06iYVtChLm/VA/MexebckzavtgO3Z0RU9c9THzPmolMxiis7XS1UfFLrstLgQZL8G1gH/dL8IoMEQVDrJwgfHCJaFe6/P36me/HCJ56Ifn/3PQulno8mp+PUqyeIoPcUgI9hiBhdXo/g+cSTkZPU7M9Ep8SOHswWuC79wXfCtlL0g/hIA+sGIfa5GrOU7CLD9wkkV5o2O1szKQEjM1QFMTPO4nyklc+ARtFcN62iikMNbVS33PBx+aDmhc76s75ULNBiS5+93gO+yzpmLj2tGR99D3TzlGU83Uf1fUjXPfjgg3jyySevrA24m6RzMn5PhBBevqmAc24PEfjeEUJ4pFLkpvHlToLfbwB4iXPuQQD/AcBrcQ4x15JmVOYL1pddxMQixztq2doSoUpzzeKhimqPePPCj6yi31FjiTJSCl5WT6WAyw2SvM++gW27bjijLqvm80YOr+BQ2YeGu2zb1KDpfs7Y3O5F8bRLXN7pAtg/RQ74ATDkwGkxcHc4Tr9XUT48Po6gd+1aBL1uWSpVu9OoW2xbTKYNZjM/tB1YN1LwWQbeU8BDdbMUUfWdaHl+W/UBiT6STBVPPeSwAZJw7jaLC+9D4phi21XcJUgukw6xcH1C1qg28r+yM5rRiMYNzeyi49cSeXjr77etjC4hYAgUuh1KltwfAvDhEML3jxT7aQCvT7aELwDwiU36PuAOgl8IoXfOvR7AzyP271tCCB+66XqQpxsTOwKlgpirZZF6Hjlbim7OzKgKulGoAyzdHiZNFF8pFiu3yM2ygQwqnFRA5hAZ5VEYVX2+vx5T3aL6tln9nt6P5SfCTRTK7/S9kvYpp7KGoENjkn6uXybwoxjLB5kjOzjzXMiNm1+PbNPJ0zl0btA1SNLThFiz2QKHhzmWdSkgyMVgJf2h+lCKnurzpmGFmum5EK1FH0oiIFI/SkCm76dy7jWOXElFeB0P3ieOjYscy6cmqTRDMbiWQ5J6b+ry1rBOFoe+L41wqi+3WZFulwLiurYF+hJEye8DzrnfTMe+E8nXOITwJgDvQnRz+QjioPxzZ1V6Jvg5534BwJ8KIVxL/38KgB8LIfyxm32CEMK7UiNvmTRrBZAtuDZfn4YFcZCQKDq0AOCTHrEpAUq5LiAp4KUSphNS/dmQgcQn0bqV3RybDEo2SN3G3tJIAZRxogp+/B4SLPg8ychVqHVyADqZ/PSX8x5YzTtMBqBKhg8AQ3bmljuT3ADCSQQ171OWFyYyYHKkvZjnb7/NM+74OOr6ulOspbkHgMYB033s3w88e77AyYnk2evzb4YS8h1pUlaKdwQl15T9Rg4xRdQN1m8S+21/mrf6pJVZDSAqklvXGNW3WYszkC23tFwrEDdpLF5NvUjxllmWSVTbzJB9XjVaSBd+SjzTRZ4D15H1fpocWCWlrdCWOL8Qwq/iDCN0svK+7mbqPQ/n9wCBL93kPzrnnnszN9kmqZ8fULq8ULmrKx9XRgVIIL/oFSJYcWJwoKrubgyAOPnInax6Ce4SsXIQb30uZ623BDtVuCspx8j2+Q2TbOgvA5h2NzgaQm4sgKP5PBskBl1cyukXr4pf3LmNXOEMUYs/9LjE/073M8Jyr19mdemWGUTTVpdoJsOmRYV0LDHUtMCyL7Vv1NDBya6GJjVcwZxXDk0zxawkyUHTlOFvNVKDjC6kQFRn6H3VV88l4Gx8HsPk0BRD+DamWN+zhuNdr1O1D5CXqMZcp+L1tmjLxt6t0nnAzzvnfl8I4f8AAOfcp2PLfpA3Q5p2iuIBub9hsCNzgLoy0tuM19LHaYJsJNAYS40T1Z26ADlPLgQ5FlMHkJ2Itm5OKNULUiRSKVR1X8UET2WWPdD2+R5AKfap3muos8ngd7oAjhaLJKY+HW9CQOpTOio2UMVXAuXhlTTrdWhwt7d9YY9CrC+Ju8t5D++Bfb+IwcbIbVxz5RGjje0L/d+6JFFsVa5s5cvrdMHhIjJw0222II8Bnrab36pW4LjQqA+WoxM3n4UgOKar08WeblNsN8VezdPHasgw1PxNeXxSOX6rFAJwPmPv3aHzgN/fBPCrzjm6vnwp4n6+d4Ua5N2TGmQgVJoiB3cr2E2RV0muhgStFQDM82DkJOnInaVvZggBsgi06DDsk9rLPduuDIjXiUEuhHqfG534Y/kMtFb8BUqDBcW20yTH0Oq4P80Zgld9FtkUADkRbyyiKOg9cHXxBPa9z9tV3n9//L04zUkJKLp6DxyepLLHacZPUrnU8EUSda3FIWULOD5WN5xu8M2rWXutjo/VUf+pll2CD3PyaZoszeJSM0Yx2cGqj+97JYsU22Qfh+R91guyDfx/BcD3UavAtUTHA5CNKq6JURrgWEL+zf8ZGqnqmmWPIRkH422Y208lICD7AQLY3qZFhi415xdC+Dnn3OcA+ELExePbQghPXHjLNhDBrkUJfGTlGznHl61A2WBdlCgsaKnQKqHjkJtEJgypWLGRuUxSjbtjmqW2TS4UPospDmVsqtXzASX3QQMHuRrvs1sDIAC9yBNEJyU5Kjrh9j3w3PYpTA6nOc18ER4ywRD+xoZ1S6CblQ3kw86vR30frbx9P/xmNIdmNrbPO1hF5ZmVi1XStPV6nQKk9evTprKc6lEVNG2y0rG2aLKDwdqOPObmaZHVaBultf1CkFU9jPjg89mYbgItL7dpq3Qf6wa5LPF7e7n87vmMVhvD2z4zhPBvE/AB2Wfm9yUx+H0X37x18oh6NVpuqf+w3DXBjg84bHbeMHlnPE59R4sydx6QVvR51ump7oa+YFevRuX4qgeOFjmfm67mnCDMTnJ4mDkYoNyXNiBeP2Ql8dkNgQNfjSRTmWRs+9FRaYS5sSjz+unmOVTkHx/nc088AVy92uHq1Q6fsrgRQfCppzBkfOENp3vJJ3A/m0NpxCjA8TRen5Du5NgPwPfUUyWnxzZquBYBW62r6pw+aYCmLYEMMGDXlUClYif1eBSrTxdlfwJxceBewL15v6yH+lVyiqozZmQFjW0TDxwuoq8g2zOoRAQw1OGeY/eKhD/q+PI+SiE0lAB5/Hv5buQ320WphZ9t0D2+c+VGzu+vIoq331c5FwB82YW06Aying7Iejs6eirxxSon5iGTpcEwIlhWlc8kdWNRb5ChjsPM/VFEqnEyJDtp+Fv3ZCW4kfO0ZFf7sXupC42eHyIiUCZmIMAw5G46RXZF8R5oxDLbtkC/n7lDItLiNHsEq5Hj+BirRY+uA66f5Bx5ypmynVQHKEem1mtdVCz3ZtUENfHYckzkmsnd0UeTgNQ0sX1DItouu6voO7WcK0XY4PO4HWOELKdnfxNcNRsPDV/6fB6Z2xuz5PJWGtmhHGCHLcX33tvp/DaGt1Gv96oQwkLPOedmlUvuGHnUHTHtinYua45ca1/UkOY+yR2MqXVNCZQq2hahUBWQsiKXinQcrNTbAchLcmqjJk9lffrhMXUStk7Nei1Dqk5FLNYsNaH3MezMyt20AHMDIu+jU1d3Gg0m3TJygalhy3lfZrLucvIAa3yw24rScBOm2Q5j+3It03Vq/2AV9tIPHkWSUfaTGqFCg0LPOiQ17ZJDsXDn6tOpCySAYZe/Husx6Do8+Kwr082k2jYGg48i2+wziDUopSLl6hj1NGaLGJtft0LbcHW5KDoPPvwagM85x7E7Qg2iMYM6EGXjlcMD8sve9JBcDVeIA1snooKIcnyqzyEIEix05fdm4i17oOlKax9p2HBpBjzwQAbaG/Mc1wnkFV+TWQJ54tpU9uRmnj5ZF8eBxOn0ZVtZF4Gq7fsCaPamyGmgAWB6Ixo5gAh6x8c4PekLbs77EmD6PnMtfC4ggjv3ygVyGeX6ln12eeE5pnQKvtwdz/vk2mEWiMGyfli+Q/Yl+5UZYm4klYZGQgziqdTpmpxcAUjvo8vFqKqZIC9klktUfZ7Vgaq6hBx8kIV04vPOKocitdzwOTJ7ntqiyRG41RRJn/NW6R7fs3yjzu/TELMiHDjnXoaMLVeRDa53nMgdkTQDi1p+G2QLWyMfQKxx5sV4xIGivnC6upPdHeO0bJp6SxoyZ8s0kAk5zTn9Jk1MTKkgbLk9C7jkqvgsXZetweROLZFroThI0OQWu+wDppcaRNrFaWkF6JdYzvs1Q8aY76I1bOxPs4XW+7Szns962mmyYq/a8rbel5wUyZapPbdNLjF2Dbkpvivvs9hY29RcxdOmx2CA07Fo7+kRdXt2RzqW05BGvg+qBMj9IfUFrcB9n3IcpnqmyLo+koJdg+2AH4BL6+ryxwB8A2KA8Pchg98xYmjJXSey+PRPUo6QpA6eVmysceR2IA7XyqCzg5CcjLpgAKVS+jw0JKJMk4bcj3IlQMn51YCMRheKatb3jdZktV1oaBiQn+eGREJwQQkecMrKNU0UeZsG6E4HfR4tzJo0tdYfXGAmAhjkqvs+31P7lZ9lYu+tuDlYPWsLjXDsjORQAFSrLq/dMzo+IHPZvA+5ZYKOgtK0zxKJZiQa1gxfJru1OlzVWTLsknu2TBoMeQK9x5Cwd00HnOomgPN+VBFx7tQWkVuhS2vtDSG8FcBbnXN/MoTwzjvYpo1Edh0o3UNmiJsnMtDKp3MER1pzNSNw00SOSC2+NFqojoQr9iwNOoLcUkQWNRpY/RM5TFXi6yRt27zaq7hKoiFC/7cTcAB0XwIfd4nUCQ9kzpDnmK+O1mKGhzHJgoJLdAaPSwNF8rbthvtfu1a6sKiFkv2ge1do+yxnq+BtN18/7aJaAMhhbbZ/aanfl3O67+19R9miS45TjTHsM/YJQW3VR0v19XkcJD1QbB9KUXwyyyA17TBkhmbeRXJg15GNd3seg18p+6jrMCRPbX18JyGtzFwwOL5obxpUIMjhnh6ZAyTYMTBR4+O3Qsmf/V6l8+j8Ptc59y9MbO9fCyH8VxfashHSZAUBpdsLX+RUyvAajiUO5lUaKFQKc4cvIAOmlzoa5BVX04grA2RBRjk/K6KSBmOHHNf9WmukXIpaJJVqIpiNRWVYH9tM8LtylMGituG36izZF0W9ffndNMDCgJuqAFif/k8Qt5msCYjck9im59I+JTFjjwVHBePae9D+4z6+6oxMcMFCEjD4cotL7dvYYVlXSMmCY5VSxhJA25ftI/BxoaZuepUWV7ZLXX0ItEDp1M9FXQGRZYDt+foFXF6xl/SqEMIg5qbY3lcDuCvgB2RrlTXdqz6FDqFceJaIBg2gHPxtEyvwSIPSC1Ci3Blu1QOLNLgnMqgV8NSPziZKsJEAKopOBBiU6+C15NRck7kVG5Klvm8ktm1/lrm7thXrpfj/zWbRbe8Fz8/cK8tcu5Z94RTcuZfJfVdj/eobB5R58BSUVKdI8LPqg17AT48xQkIXIX1eJaoQrl4ts2bzXsfHuT0SeFLEFusipnq8ZyPWuVhgiFShAekUwIG0TblucnV9n0FNpcMVooHCi4+FjnGGs1GtsGxzJmkFP3EUGOrgTivKHAzvBHFubS3a47IaPIQmzrn9tG0lnHMHiMahe4Y43tVvye4465GsXKIP4YqqOdI0S0ztHkxB1ABDKvqadc7uLauinlWm1/Q7JAKOTnQaJey2m8op2GPFsyj4pxHgmhx1sjfN1lPd8U6BSicZrY6anJU0ZLoRzo2/CcBWL+cFHNhvvO60WwcnXYDsM/MZ9dlIBDu6+iggq1pg5fPWld5Hzlj1o3xPgxSQuLFllxesmjTQNAC6aKHdQxZ7h7Emv/V72KtEFjvrnzroIrHOKOhubcPCzutQAubtUAAuvavLjwD4F865H0Z8nj8P4K0X2qozSOezWnMDsvWXL1xT9FxHiuNdZHF3gQx+FJv3UQIaIK4TqY4GGJZjLedlwjS+nJSasAAoQUgnhZLmoCOp2EtjAicZ722znRBAOQmduTcV+gquQOkqc6MCfqrjpAFBn0+dqAkoBByb3UbBm6QLBf0EWafVFSpZ9YOtl/8zVRY5VGbp4fgBok+fgt9sBqAt1Ql7beTAXAMsE+KQE7fANPjyJeDf78rF2iYgALAW0qYOzhrXbMeRzgOOc3W25ryBlNsas3bZOb8Qwj9wzn0AwB9FfC9/N4Tw8xfeshFiNAfHeos8WJLuubBi0beJLP8EcYNgSbo0vOzDdOzoKE5iGzB+7Rpw2kfwa5E7j1yeimacFCqOWGU8SY0LFKVVt6TW5walTo0inGY60WSr6u6g3CfJ5hPsOuDJp7Jl8/g4fj72e5nzU/2Zcj9tG//soY992ZRiPDk9ioh9vx6Yb8VN+u4RpDT/HUVszdqs4rXq+MiFaZ/N5xnUj+cld6TgBwDNSdZFMkcj76fgPWnKsaXjgG0kR6nSwUTemRrc6Beoag6K1ie8wAPdSQbI4d0j68h1kVfg429lEirCwi1RSBsA3qt0Hs4PIYSfBfCzF9yWmyZ9SR7ZaZPWNGBdFOYY0wDvYac2ZKuwuj9wwhT7sqaP5SysCKcuK8PG2a2pqyndUSz4rXxy0fHZfUJFVqBM6qltsOI3z+s3f5Mz/I9P5Yl6I8X9Us+mnKu6/iyTSNo0/cCljXFw/G3DtXhOOVTqAtVth/06neY45jGRX9uqC5N1/2mRwYDiJv/nb30WFePp3D6RxUCNJFYdoAvVAH5yA4sXHGfso77PmxixfV363/ks1YyBWCPf3nw2XXcrdKk5P+fcFwL4RwD+U+SsUNdDCFcvuG1VYlZb+6JU3AWyOMwyHmW2Ww4azXCxj5gmiIOVoGU5tRZZ8awTDyj1VUAc6FNkNxZAUgpJ/ZriyIKf93lbTE4yBVWgdLK1ANw0UdelQGgH5VKMCxTxgOwuo64rGo3BybhMbifkrtSAQI5YjQbsR05qJgAl0Lmm7MshIUyX38/hYTRk6OIxLBZNvhfBmMS+pLGGHKTeTy2yfCcUb4cywq0NC1uTOVEagFQ3q5+ayM74XHU70XfmfbbiKmB1yPpqLuw13GEZoBR3CaQB2+X8LrvO7w2Imw39MwAvB/BnAfyBi2zUJqJ7ixooGC5EfUZvjgM58SMHBrk9zfB8NXESV47yIOekO03iWEhlD5rSejimsFdXEuVOaDHkJCVHp5ydT5weQ95Ie9PMMdEJueYvB+TJ96yr6/qivs/3v34CPJ24mKUx9xEQBw7YiO99HzPBHB+XQESAsbq9o6PcDzxGkZZAS0CywMbn5/66BD+1XK+6zI1RjD4+Lu9PAFZu3NKQXALZL5Dvjf3H/r3vau7LmhFHn0FBk+9bxee2QZHNmaoD1kNvB92Pl1KPcqpWfFdpCMiqIM4Zuottky67qwtCCB9xzk1CCCsAP+yc+7ULbtdGUqVsizwQKLro6gbzm9dobrQWWa/C1V2Bqu+zHob3cgbMasp0S9ZyqW4Xg8MxSpcVirK6KbZyAjZHHc/rbyZjGJ6rz/GgLEuQ6vsIqDSg6P6yljRF/nyeuathU2+/7kxNsGCdagSZz+O9qQtk+8kdkouzBhnloMl9KTCryEydqvaTFTtVP2tVGAQ/e/xgVraD8cdq4daPfUeFdJF+a3hlEc8txajfpgV3TMq0uSs9MogSMFlua07O2J7Y65x7C4CvBPDxEMJnV86/AsBPAXgsHXokhPDdm+o8D/jNnXNTAL/pnPsHiDug3/Z+nrdLyvIP4IXSEKHE1ZDRIOQKadmlGKX73/J7mSbQdcTBNkM+plbYGvcHZAACkvJedGdWR6X6KNUBHh1l0XWI1+2yLo7X670mck91u7BZjHl/zWfH8+Qwa9szKvAODr8ow8PUCVoNQEh9eP0kf6t/o/pRuiZyVkwdRpC5IYCmQGbvwfb1PuvPVr5M8a/WY00yqlyeNW5oWeUeFXi5qCwW5QJj9a4Uwakr5Pap9r7eAw1VKj5zffRkoKGEgGYlICAbAYUBvRDastj7TxGl0LdtKPMrIYSvPG+F5wG/hxD77vUAvg1xY+A/ed4b3ElqUIKfN+fI7TEKZCoiZmsmAn+TK+v7LB70iAOI+icLCjUucEg3JJwAkAe2bmdIHdWyWzcuhCYD3+miNEJQbFbOh/fn/iQWKGhI8X7zPhWtGSksp87YwDpYEFQ0TpkcMN1WCBIWWKjbbJq8dUAj7wZ97qOJADXVAkDU7y1pcJBrh6S0Tebk9N1Yzl8tzBpNobpZknXJoe5T+4TOzaQGietqU1aWtFprNmpdKAdXKqmDIi5FWGDd+KEcn4KfirvbjPDYlrU3hPDLzrkXb6e2SGeCXwjh36efNwD8nW3e/CLJir5AFnMV+KyDrOViljKRyW1ykNmJchbZjdCVc9IBPojZfT6mIEf91mmXJx1dcxTESXoPoORs1IJMAOS+H0rKJa586U5j+88CCX/TGKBivS4wrGvgpIzoO+zB2+Xn4kI1m4mKQET6g8N4D9Uf6vtg0gQFFl38hvfh8+JUC5Hju1j5nG5Lo1OoM+19dMnSjENAtiTu9bmP+byQBUrbT2mGrjU0+NXCab18E/hYFa/dOp3fz+8B59yj8v/DIYSHb+GOX+Scez9i1vlvP2tf8FHwS759o+rKEMIfuoXG3TbZzZkJREvksBy+TJswUjlDAp/6iHkfRSk686pBwvvcWayzR2kZVRCkvozU9+tA0Pv16zhZyN3R6XbvOOuVNAQLiBP8U5+bLdTMAagASj2ecpl0SuZvinFXDnNaLG7KTvAAMvCyHZqDj2nZl4krUwNKjcOyoiZQpqtn36uujjpFJjZgXdQlqtP1lcMMWnbfXZvpWg1VfAYCKtvExA9UH6hVW7fT7PuokhgMLj6Hjs2Rxy0XZIZNBcRkCft9dJpWzl+5RiAaRmY+6707lOFrarciBq3MMYrHnBv8vS06J/g9EUJ4+W3e6n0APj2EcJLCb38SwEs2XbCJ8zu37HwnSZ1Q9dgKec9cXcVqYoHHutIayNzYABzAsENWkwaaMkRcvYsbpPszk4umvqJBQN0wAAxW3aEan0VlIH5b7oRcB5XtR0dZX8nojlAZeN4D/SJmpOGEXxpwU587TmgbqwzEOOe+xxDJQt9IAGj7rJ9Up17LDfJZeE/en33D+6sBhM9BkNHtIFm/dcuZTrMFWPW0fI+q+qgZPMgRq8+ejUEmaRuXfdTNLZDBScMpSQRBh7oRiwtREY1EFYcHjnw2euwhgyzLkxu0YZ+WqB7aBt1JV5cQwrH8fpdz7gedcw9s2mxtFPxE3L3nyL405QBV30GamGNLRKVxnwZ3g5L7Cz7X06eV1Qn4EQBrQAyIxayPIlCY5roBYDItgYZkrYtKGo7Wtmmf3gRa+7My6uD6vNTrASn8SvR0KmrbSa/3sq4e2kYCGPedpVMvxUvlTlWUvEGXlL5so7VmW3WC1WMCuX0EahUNra5xf5oBuDAgNOtuLdZ/c29apsXSdqhxyrZdx5LHegw5JREa4faRon1k4Qk+AqiOPQ6bwWizwLAV5QRRjOZQ6rAeuaLDzP7eKud3h1xdUvLlj4UQgnPu8xEf48lN15yp87sXnZxJ+pJohOBxKpCnEG4vleF13JqiaTJ3YldcJi/QaA/myPNSn4JgMchOUIQdqXg5FsamBoAG6wDJiezb6JP4rKvZwmn1hbynbsFIow4t1nQo1nyHlhPSjY1ms+yawufhrnS0mFPMJChQ/KP+i4YZgmUtRhkojTdFuFm6hoYQdUBWh3ECOoFZ9Xr6nhXQGIFjgY6gVtNn8jn1mqLO9L0H4Ij1IXscPPswqy2oMxzqRwlYyp2pSmCSFu6JzyI2xyiB08tHpRiW3yZtM5mpc+5HAbwCUT/4OIDvQrLnhBDeBOBrAHyzc65HlPxfG0LYCL3nsfa+AVtwcnbOfSaAH0bc++NvhhC+V869FsB3AHhbCOEfnqe+xnwDmb2n/kKNHrpXB8sC6/q2YQVHBh6KPOrzxoG5R07Rl7GTOsBWiAOyQTygA8JuxkMRjkkUGpTGkRpHVwvvUnFbgaxpyswmypnVylpuTKM7ptN8HYn1czFhJIpySINYm9qt+lEVtbVO5dQAWRAS+O0bwFbDAK+rcZNqCKoZruyzAaWxx/YT6yzAEZnDo+sJi7eIqpWDw/wMuhA3aWXVLSyHSA6fVC++DG20nN2YMUPLKPD1G665KdpiMtMQwteecf4NiFh1bjoP+G3LyfkpAH8FwFdVzr0WwOcBeIdz7iiEcDLaFmDYlKiRj4bzLJBFgD25tpWyNHooaKgynKFrFCfJOQDx20YwqHMwRRQCIA0v3HdVxS7SwPHRPULb35dRA4NerS3z86mlkRvvsJ2Wm6PRAifZom3dZqwFVCM79tpSb0huq2lS1IXo2ni9bsTUNHmCKZfFe7INNq0+xX3XAEcVEZSGFhVDuRCwnpOT3Ba9l5JyjGps8R7o5F3oNpusi8+6WGQ99AxRCtlrc3id3vvKYal35ThZ9mns+CxBqM8oddO6qFPX1yFblG3qeqT/ieM6XjvErOi3SyHcObH3Vug84LcVJ+cQwscBfNw598crp8nFa76Bej1Y13tYIsfFl03AI1AO3KBM7sGx2Gcd4CbdE49x96zivNyPK30rIt7etJzslpoGxeZKYxwJr1c/Mo2lpTEAKHV7GlJFUrCwTrXex8nctlkMtXn6ui6DsDoin0Vsp3UfoVhrOVqKxdS/kYtVI8ENUWdQn6cqBRtvXHvH5FiB/L7YDgKnddmxxpjBoIMS+NQwU3u/6lzuk1RBKQAQlx8iFkrVjjo7k7g7GxP8cn40uYq1BAfboG2JvRdB5xmiDyH20etxcU7OjwB4FMCPhBCe3lSQ4MeXpoOCxP5WMXQiHxpGWrEKWuvjUJfPhgLVX6low4/6xvE+e8iD/uCwNBxYkYrcxnQKuD5zSRaIxzjWwRWiz8BXs/gWfeVLMUvbwvNNE7mpRZP/p6uJuqtQV9n3pfVaNwDXBJwa81szuqgorHrQaZuBj6JizV9S+06Bz27qZEmzzbANaulm4tNa6jCrJtjz+fx+ZdHTMUBrtOVEvc+JO1pfjoG+AXyXF/we2erL5hF8W3PMcn3AdsHv0m5gRBKr7wIX5OTMzZLGzjvn3g7gq4H80rhqkWrZl1X/RksNucElongwn+drp00Z40kxa6+NUQKcNCcnKPZUsFlmWvmmuDybAc9+dhkRwknKyT9NAEmxWl02uMsY4495/Xye8+ORlCtt2tKI4T2KjcMH3zu2p8v+jTqZrWjLYwra1FexnzjwGZ6nTsDqz0hg1DyBrP/6PIKkZpWh8YZ73Gpf8p0BGbzIqWrqft3fQscQgGLzIHWZIYAeH69beK9ezeWGBUzEU9WjUk+qSRW4GNhQur6PYHYDOTTzapvz+512QHMCHC/iBF2gdHHRfW2AnLxA9wzp5Hebfj/22GNwzl2X7nkkhPAQboYua1YX59xrALwwhPDG9P97ADwnnf6OEMJPnFW5c+51AL4x/fvqEMLv3kojU6c/BAD7zgUCHz/U4VmXFmB9FeMKqSsdXQz2m2zUUEseuScOyrkvM8uQrB7Scmtq4bVWQiAf0/jdmtWTtPLiDN3liaRAp2K2PoPlfLTqVR9FeeUwlbOi3okRGxop45p1rrNpsqWV0Rz2+VX8paJ/hXIRsEYhBRIFDO2vmiGiRrr/i9WP6rX2PsX7l0XAcudah2bwUX0n67UO6rr96kruRR30cgpgkTk/gplHBjNNWMAMSHxeGmOUG3zwwQfx5JNP3lYM/2VOZvodiIYI0j6iUeIKotX2TPBLwPnG22mgpcFYgQx4exhXFNIRmUphDQGymWspkg7gkK6hFpjZlhdYT6tFny3WRyDQbwtMNUujikOcEGr9VNFx1WfgY12TJnKJGhqmddkJPEmjX62FNbJ+bG0b/RU54S3np6KmGmn0GP/X/iDQsT8UCHh/qhdYBwFTn8kCn97TNchO6PKMDfI7Uv2otk/fmfYH3VR0cVMOltEig0oCZSJXHl/2ZdSKlcwHDt2bzELIwDe2MK/McQIfkP0CVTTeBl1Kzg/ANITwO/L/r4YQngTwpHPupleE5IT4KICrALxz7lsBfJZ6Zp+HJoh+UhRjZ8irtsf6S6dvH5BZ/waZS9TV7+rV7L4BAP08W8wmaSmluEzwbJEMGqktTIYKZDEMyLojcmKc0AQS5YyAFE0ggKu6PNYNZCAg93V0FHdgI/iRY1oT+7ryfiROJjVAKCCSO/O+dCpWgGW0g056zX6ik11BifdSEd5yqBS/CUIrnyNLqAfU8ixLcbhpom/gvl+vm+/h8LDeJ/xNkZYg27Y5wobvfmXAT/XLlti+xSKK+fM+jy0gL/LUd8/n+b6D/yQi6DGKpEfpAaFrGkVf6gHpD+vl/E1NyhEKl3gPj0/Rf0IIr5d/n4ObpBDC7wF44c1eVyOy6DY5o13Fgczy64Mqh6ZcpDoDt2200A4cCjIXqSDLdrSIwEddDCc1RTSNE60ZGKrP2caJqiCh9SjVDCjKrdxYYC1ZAq3bfD4uBDY1U03Px/81q0tNxOQz6g5murUln02TSdjnsm43tLZyYcC0LHdquE7bb8qZKQBai7O2R/tizAmc/aa59+yzWM6XRBBjCBuQ9XVAHGNU13QJLPlOueGSkibs5Wshg6ALPzZ8b4Muq6vLe5xz3xhC+Cd60Dn3lwH8+sU2a5y4mqk53+7FAeTB0Ms5vniCp650p8juHKqja0WXMojB5p7k/rj6N01OZqn56VSs09x1BFy1SALreidNkURSromTSiex3ffWOhCzH4G8CEzNBK85ITPe+OQkXSs6LABFaqvhugR6NPxMp7mfPv7xMuzOpubic6prDcXI065MUKqWZysis62M4uCzDO9JdHV6nYrYJCtWA4nr6usLm3LfyvXrOWZWBqIk0fCZfFbXnABYLfK7mPfrBg7m8FMmQcf78AzIiznr3xZeXWZr77cB+Enn3NchZkwAgM9F1P191QW3a5TUz09XqtpqpS+bn9Yc1xfNPSicAIn66xE0IfVMUOoblQOx7hvAOvjxXiS18HIic5XnBNGYT1qdW2QAVRFTdUkkncCuy8+kGzhp2iu2BekeSDor5W4GY4UvgZwbvCu46IRQLlg5olY6WzlN9geQXV+YLFQXABqqaguF1q8xz2McuIr22hcKcJrSij5+ahwiwLKcqg+AclHSaA7bJo5/5pPkbx3HxfX6HOlb09jzNxf39Hq3Q5dV7E1OyV/snPsyAH8wHf4fQwi/eEdatoF65BXLsvWW82MZFVn50jU91gpx+8LTLnvgD4MbWfxgfV5+A3mVU/HMWnmBzNkp57cyVkXrJ7fsIndEMUefjZa9FhjcVKbzdasyadKUiRX2ujxZyPExqqXmiD08my+fV8FR9ZO9j327WGQrJ9OADdbzeQnsWq9Gs7At1nhCUlHf1qPt12MW3PUZ7W97D6sLtb+txVc3R7f35P97ft0QB+TxRnDqkfftUODS6/R6zepCsGSTdW702B74hS2Gt10EbeL8AAAJ7O464JEUdFpkpS1/E5iWpjyP2dVQd65aAZj0wKwvV08aVij6MaSoQ86YcQrg+CROYNVp0cdv0mZQYHjVkE24LWNrmwbw6dz1eZww107yoNRwGE3mwGw15CiBPME0LTyjIpZdtAzTIGHz1bEMOTikvmA6fSADGPVVPoGZ7inRAPDzPPk1AzYBjEkQqLMjcBCEmXcQKAGOuQKtXlK5yRqn3KT3ed9RCULKLQ7pvKRu1d+qSG91uE0T+1L7kQteDwyhauyDIXOzR+Fn6H0GJY3ZZdgcF0COgT0px7GhBsEVynx/FjA5V7aV1uqy6vzuaSKI0eqre+8qp8ayQOmMrDo7gkqH3CGsT52jmUGkS6in4oNHsgIbJ2EFQnXboGg0KPGRHXLVSkixUPU0taBzSolWRCz6LJ0jZzuRycdoCVo7eVxz8fG5VKeo4qr32dJIK3uxW14fude2zXtWAOsGABUzGePattlgob6NFnC0DtVPDsfSe2Z7KH7yPNtDquVZtIYjIAOi9yi2JGiQn0G3pbQTb3gP0hbVI3qs6+I47oBSj83yGu/bym+CaVe5fpsUgEvr6nJPko2mIGemAEeySU11sJDYAVbfoXnRJkCxnwQH8l4fRQ+WX6TrQ59jOYu2+5ITUWV643M0SU1PsgfheGWUkkuwRoLJCPCpK4vqpegmsmeek+W6rnTtsOKiAo+1iAMiZiUusfVAaNc5VNsvzFxiff+YAEKfjb9VLC32M0bpGdCjLhYX/ZbKahp5cvCqp1N1xFkZUXQv3jEr+tAelP6kVrXD55nKMbpn6aPUMEjnQ2XI3T5dVp3fvUoB8eVyAJwig0Jt3w5NH8TBouVhfhME1U2ghclSLL026bOFbiF1zAAcClcyaYCuzxOSx63yf2m4ICYKvd+8KWtptLqv2kRSMZPnrxytA6WWb9vSZ81aoGtcm6YO4zsZ+lqAlnG5Ws+YpVSNCfN5Bp4rh7GuK4f5/kyW6iv9bMfHqQAor9H7sp807Gy+WF+AdcHRrU81EgYAJl3mNlUnOKZzHNqBbMFVIwXHMi3DBD+P9b18dbxbMdeb4yo53Q7twG/LRA6twbqJX8UsYP2l8/oG6+Z9gqNiwXCNiCH8vepLZTGv1fT2NV2UfjgBVLyyYtekjcYIknIcjBu112yyXtKgopypjSKpAaee54dpvCwnRKIr0JCmvcl60Jq46UbabXeFA0qn5CHUK50vOD4CPp/N1K3Pq0BZ0yHSp07Dxaib5G+tq5YUVcvxvdeMUySHzPUBpbFO9wEZ6gaqAMf/XaWMlgO2A36XObztniWucD2ino3cGT3VldsDyjxZxV4JyKvjSspxlVWRmPuuBg/coCiGHO2hnA5jhekkTTHp+Lh0cdkTRT4nHSevWiMnbbmfMDNJ83+drNTpFU63fclZseyqXZ+Yq6bk8vq+FDGBbJWlEl837rEc1gzZfYZgdf/9+f/BCNCXejMl3USKG/gww/aznx2514NZdiGiEYTPwbZaPZ3SmrjpMyjqNZNG9KuIfbyfImtYh2aq0U2yZn1s3/FxLKcceE3nqcesYzI5O45bSkM6zmfIhhE1unKx5vjmXNo2k7bT+W2Z1AqlHCCQAZA2Bh0owPhqNgSLIwMpB7fqVfo+i7dU6BP4OJhofHFyDZCcUefAIjmy7m0YadaVQieHiobKsahzNn/rvhRan16nCn+9P9ut6edtGU2+oNyOVtcix7zSmmzdaGrApxOf22sO95bn4XPy2bU/bN/xecdEsTHRV7ky6nvZJi40ar1mXyknvNeWWWisQ7r2qxpHak1VKUXdt3TscgwSNDU5gtY5Ihxsh3Y6v4sj7VeR+gp23howGOmhg2BIZWQ+eg+7D0iPLHbwni1K73qgDPJfdJnTBCouDb50+qWvGjkwIIIEIwSADHbkEJkzbtgEx3B8VrxV8RuI96JDNB1zudeHknKpvI7f0wZDRIJuk1mb6JpQtqYWsGC28uVidNpFjsouFvyetCKWV/rAlue9lPNmIgRtF63VvIfNAMN+sc7MPKbvc69yffClRDKcK5s+lOmRxyz1f3R7AfI88PIB8jywoLgt2pari3PuLYg7Sn48hPDZlfMOwA8AeDWiQPYNIYT3barzUoJfDeha5JenL1fN+SF9mAmG1twmfR8ir5TUA1KcYJ1Wx0dAbZFTlR8iTyQ69FJMYVJKOkUvu9IVgxNat87UUK2uA57usoh+H+LEoWPywE112TKpoKBgqR/d10N1a3q9FQVZJ48pgNoNglQnyQ2MgCyi7rUYMi4zzlcBhvXutdGa3iE+48d+D7h+EkVpbQuvmTTJtSQtDq2XLQGQVRMKztpum39RuWAC90oWh9Mu+yy6Jovi3DrzdBHfH8XQ1gNtD1w9zPcZ1AjIuj2OYwJdjwyK6r5C0Vfdv3T86tzQ/y9E7N1uPr9/irhHx9tGzr8KcZ/elwD4AgD/OH2P0qUEP9KYSGBXOeXOepTgOUPUz00B3Jcm4DwN5A7lYOnN/6o/3EOp3yJ1XSmWUB+pu29ZUY+rfvFcyhHq/Q1HxQlKANVknORQ6Hyrbi1q8V0hgw/Jci/eR25INyqy1ksFT81+zfpYTutnNmPrv8f4ZwBoF/ndcHFR9xslrYeiJ2OKG1/q5TRyRNtJw4SGrfGdUG9Hq/GwcKT+GZyRdWFDOQYdynq5ob36oBKgFAh1bLMeK8bSWAK5RuvU48oNbou2JfaGEH7ZOffiDUVeg7gBWgDwbufc/c6554UQPjp2waUGP0t8sacbyuh5iqkzAIdN9vZfHWcRaQxIh02JkHUsLSKnplbMgRtB7my1FFrxDhAxi79F6U6ugEBqt78ESgdg68ph9YLWOjn0pQxatTZrxhILEtb5+VRC1kJqu8a1EtQUNGv+ieRsCbL7J/HF9IggcWMRQ/pqojXr4L3Yl63o3PameVtO9qOC5pCwoQWaPi8WvTxT05Xvc+i+PifN0AiT85Aukgp8BD+bk1LdeHScKgeoHJ7lBrfO+QFD1qAz6AHn3KPy/8MhhIdv8nYvAKAp+B5Pxz65wE8bbcVeDhIvx8md8QUvULrEzFDmcZvPYyUsa1fMVr5VxzfoCQ2HVGs3WGeahLqvx/4U6Btg4rMoyLomDXDUlMp2IKdWt/ema0YQC7GKchqwb11PdLOgq1fzeTWCEOgsqHKXNSZaXWjbuvzeaAChNXsA99QXB4dxUbr//nxvjQdm1Imm2FcLKtt1dJSfmyn1eX46jRZjIC56x8clsDdpINGtaD9l7qGl2y5g02kESQKdivyQMaNeCJp+X1OWUQ3jkYFPxySQgY+Yr3G8PM/50ch1KsloiNw26ZyA+kQI4eW3eataRN5t79t7T5F11FTLLFCCFMvxpVvxV61gamRY9nIcmePjb+00Ap9yckUyTmROTwfWkGXGWFvVZwz9ejSIteoCWU/GCc10TUq9z1zgXhvLMqJDuTW7tSb91AhSjQANUP4msV20brZtfE7d94Sk1mtmP2E/NE10YbH7ljDb9phPnn4DuQ8VnNfciZoMZJpkgfdRVcakiS5ByjUrDf575nlVWgCMSsWj2LFvaLspZ8ekpqa3TeFcsNU25ti2OT6SRmPdAXoccXM10gsB/O6mCy4d+NnVjJYtIL9oY5hcs+Dy+iXyHr9+kUHrxMfjWg+NFEqFT6BMvrnPYokC7hEyCNOosvIxYzN1T0NEQLqum8dybZ9FxIPDDG46YZm+/DChfdtGl5plMhB0PXCagGY2i+B33xHWkpcO2WN8BgtN0KCi5dMn+bktQPM6BSYFK3VPoQHECdCQY7tyhMKR24rBrJuApolRrYGGQM4+Uz9DXnvtWu4DtpF9r31l8zCSaJxS3zqOEXUuHxIk+JJb4wI/jBFkENSFnuOK0gvPcewtkMdxEmaq1mJ+WO82ub87CH4/DeD1zrkfQzR0fGKTvg+4hOBnSV+4fki143R3UUsakDmTOXI6cA4uAp+NABny/TUiosqK36HMyKscKq3JQNqFqymBgOWW6YcTERXIv0O6bi/d1wmoUMm/9DnsjBzNEN8rk5cOwQQLguuyB6Yj3AmQQUC5LIKTBSkVTdXwobpNBR0CvXWtUTACEnfZl9EgQOYsmaxWuULdvFy5viGjso8haSu/7rKj70IjXGxm5QlK4ONz0hLNPlVOiVwbx6dGDalhY1h8kdU4HfLYopjcoZSIeI/a69wWYG2T83PO/SiAVyDqBx8H8F1I0yqE8CYA70J0c/kI4hT+c2fVeenBz4oDaqBoTDkeI5BxYKlo7JETFAAlcDHZJ5BFXQapT2Qit115/yIZQxN1ecy84VO9tBxSBGNZEtNVeQMWLDOb5YmsVlwgTrQ9adPYTnBsg2aSnqZj3LeXHBjBYtJI+jBf6qsIFN5HLlPPKRBYg4vVTdJ1hpEmGhmhcbS9iO8UuQmAjPfV98Q6+Tzk2Pq+dF5fAUCf9JhNDs2z1mWCqHJ81AVbQ4z+Dkncp4pEdXwc02rcUCuwJttl8gudC518Ww6vxixsm7YGpCF87RnnA4DX3Uydlw78NAGpvkwOFhLFYub7U3FBB9Y1KcPO0BXyAHlwNXKOddEtZOXzHh6crDcoeqGMbW18bg9XbkA4AmBIpz6bAg2By0we1f8x+YAaR5S7msl1mqyUufnolnJjEX3RgMx5qU5RuTMg+6/pfZXoW8dzQ2p5nw0qQE5yYLlCiqI0cCykbZZUn0caomHmEehuLHIdfZ/2YBYuceVLCyXdUhbpXbVpdaxtPM93jfS+afm3QGmNUt5HlQX9QLn46jhUzo5jcSn/U5qhtEFukW0iCHqs6xztXNoWqdvZvUiXDvwAFJmcda7xt+r46MRcW+34spcoN3YmkUu0g0JFX03VZJ2J97vMQQyRJT63UzeUVjDaF+W+7glCrsVyTErqHGz1XipKDvdLdRUJP40xAUjnzUimT551RLZGB+XoGDVS9LM8hzoar6QsdXOMi7YgbOtQ8Vl1csUzGUORku57odIEFzu9N+/DhY2+nNaRXK9RYr0EvhOIpIAscej+MzbZrubu49iuOTnbxVvboN/boovkKm+XLh34USzly+MDqA6EwDdDaRChDo+rKuti+UNk9xX1mVLuUo/1iMqFwdo7zxzBoPsy9x84pvTZb3NgvMa/ctJyK026QWiWENVRcRL3PdD5ZMnu8v1nAq42TT0QRWY1GlhDARXz1gdODQn8Vgsu9Yc81jECAtna3gI46oHldF2ndiP1mWZ6nppVaiIgzuupBiAXzuuBXA8t+wQfoAQYjgW+6yFyosJhkpo0UKxaQgFT92GhYYTGiZP0AfLYJXfHccqxqIs6x2svx/U8UAJga87pnNgW3WFr703TpQM/oOTalAusPczYANCPnlshr9z2OhINB+QaeV2PqJejywYHlHV1GQC7Kbk45coAFAYDyDU8p+CnivtawLsmUlCDyvBMwpXQd05JAWxIad/k8gPnI5yWAqlySZyA2v/cRIhl9FlV7NZ+6FOfoS/7kfrFts3O6rQAr3zJ5fLdqUGrRX4ede7WBApsl/aZzUjDftDnWvZl5AzMvWtgwTbxshal9DGWcl77twaIY9LQNgFrB35bpLHVxHJmljzWXVWU1edvxv1S3ADyQFMOgftn8NjgjOoTKPsyjKmXetXJeMxPDFgHDuUmeEytk+wHy7VaWsnkU3HMimU13RS5OSD6uk2E41M9nUZzAPl/gh/bxr4NvgQTa0ldiMGmFVDhN8FTRXkVd5kGjJbgMVI1B5OQar+rVV8tywoyQz+ng9alRblM9oMdnwpMXOQhx/QczDmOS7vA2PbxfwuC29TT7cBvy6QrV2OO64ukolr/t6sbxRuKoZr2ihsTqZe9HbgrqYP3mgjXR86PovReW4q1XiZIm7gCKuG7LkcbWM5Qr6d1ki4VVyX3H2NqqQNcdtGPjRP5YJZBRDkichusX/f/vbHI4vdRRVSdz3OuP3JcFPUIPDah5phejs9Z5KMTLpJcKJ+Nvoh7Asr0TaQVmO+E79GGhXlkoLQ6Uu3Xk5PsQwmIimGW79d1UQ1xjAx8HC8zuSf7ZGKOa55Juw+vkqauYo5JNZzwnqrzswyDitPboJ3BY8tk9zGw30AJcKqs7kwZIOtR7Ibnel4Hoa7EztSl2WAsUNYGlDUqcAKf+szRXZ9HwNCkmDaBAKMJGmQnYZ6ntVbFZOWuGOgPlK4obM8wgbv8u++BIGA3pttayf00wYM6fiP14/Ac2qHpeRoA+15EeLk3Rc2Fz+A0nWLYDpSbmyupz1zt/Qzn+sxZEsx00dGcexyTk7Z07OZubbTkBqwb1qhGodTBY6kJQ3eoAzSBiucYsukRwY/jvbbY+8pxmPPboJ3O7wJoDPxqnJ++bGvp0mu4mupqZZ1Jay9SJ3JnjgeUExworanWYqs6Ne7TO+/TIEqVN022BvP/SVNyA2oAIEfH/WKXfYzyGPSQ6f5jPmuamECztCgnBJRcmzUE9H2OPtG+GNqLdT84koqwVvzn/dRQM1ig21I8pT5SQ+iUy9H3W6SIT5yrbg7Ffln262Nlr833pqW6x3q0D+9LTlN9+CywbRJbWYdGg9CtpSb2KiljUJtT26Ad+AFwzn09gP8y/XsC4JtDCO9P514L4DsQU9L8w/PWaV8YfyurX9OVWHGZpOBFMUNFDvpaqU5Q9TQ6mHgf/e6QLKbzKJ5SpGqayN1xUs7nUVw8RbR2sj1NlzkQGxnB+66STq5QzgswLXvgujzXdFGK1OS+CCYMXzvty349FEuqcpRq2KCIDwD9InM+nPDsrylisgYbCgeUMcXKhWo5a4RZdjlumVztXhu5wb02RcrIe1OdLvuauR8HXaoA341FPP40MqDN0vPQjzE02ddTfe4o1kr4NjrkTEPk/izXVBMfWccKcZwQtK2foOX8eKw3x1tsV+zlfe5VupOc32MA/rMQwn90zr0KwMPIyQZfC+DzALzDOXcUQjgZqwQ4u0PHwMf+VrJha40c09/UDRII1UKnqzm/1R+LejmPGDmBPhsIdHINmVhQ7snACa8+d4MIhgws6ghMTmfgipD1Q3soN9BRS2abgGbVxclMx1kabnqUFl3dzlHFUoJPl2QwTf2vTrok3l/D5AhktfTw7APqEkOTOWvqJZmsgW2y+2FYoFG9716bs+ewr0/77JqylquzByYpx+C8y+Iu76WuNCqRqMXXbregEogVs/lZSD9akfa88wXYLvDtxN5EIYRfk3/fjZh1gTRIhViXisp6kEPSah9gXbxtzfkaqeJbrbQcuLx2ipigYIYMfqpb4fV2NzjqFou04h7ZSiJEq6CHZJwWYFp22WdwPo8KdZ2Iqy7Go+5jPVUWpsBU2AgVX2kcODpKLhnJOLJYRGsrJyFBlpxY02QnZO+B0ybXxbT6fR85Jt9nSzn7iZO9SAefgJTANmmyvvNgJkC0KMVPxskSyJmnTzdBaufmPSRqEf0umdeRBqH9GYa0WScnpT8euSdyc3sATrr8ajUsrTYGuKhQLdAij50OdR2ytlsnTg1srNi7aR7sxN47Q38BwM/K/48AeBTAj4QQnt504XlWk5vpcAVOVTarWAbkQblCzo6rOdl0Zea35Qh5jSaYBFC4f/DatQwyRswbdF0+66cs2AIY/A5p1VVuTIli4xQRsA5mOfUVxVtIn2gKLyBzgRQTKXJS/B4iQaQfgJzbrhauFnx2vq5FRvD+tE4D9Ymrzs90UJ74Mth/GANtGburYjeQuWr2xaAblDpO0zHm3QNK0FPOl/tOq4GDi4LGF+tYJMesnginqCcvqPVJDeQuAqR21l5Dzrn/HBH8/giPhRDeCuCt563jVsGtdg5YtyDrfWqgpNZCHrMv2YIhkIFvH6XyvQgJQ6moHkSz9I8CQd+vc5ysY3CM9fkl2zhTFVd7SWNF3RsnP5A4vEWOHhlEfJ99+KjvGnSPFD9llHGR4QLA8D6CI9tFoi7UGjuoHjjt4jOqyGD9FinyKidKMGf/MQySz0yjxXSa9zcZ+g9Z7aHirHLGS2Qdso4v6uT4vlTKIKnBZYn18VUD0lOcbeDQMU6x2+qpt03PWM7POfc6AN+Y/n01gAcAvBnAq0IIT95EPW8H8NX8v8ba18BL9Sq2vPo8KTfJMCLWyTI6aK8hTxYCDUWWNp3zch1QKrzVT4+NbiFWVcMJDunAU2VF0k9kxfcUpU/h8LwGBDSCRDMjA/kcOZ5B1DzMoXZqrWb42nyeRTcaRSY9sLfI+jJecygPx0WAbbDZaFSvyPIKfvN+XV87+D72ZVv3U+THbFb6HDbIYWvc71izxagDdtMAV5LRhOAEyF7NyCB0Q/qCnJ2Xa5QGTh1Z1cKF1cunkW/N2ELVC+vQb/5W9Y/OCx3jPP7YY4/BOXddqngkhPBQpemj9IzW+YUQ3gjgjQDgnPt9iOLtQyGEf3eT9TwE4CEAaJyzbltVNxQ9Zrk3ghoHKkUxj6yQ1pAiXs9ByXx/qm8BShAigKpFmEBpQ6w0vdOyB5yvP9MAAMgTkbuPARn4NHfgMHF8Bgzdb8IG9TPetZXjNoeedTWhK4s1/tBIoy4s9Nsb9sVIdNpl1xS7YxpB2pKK+8P95J42RG+4f5PdgzQTMh3ByW1qGJuCMEF04XNfz5A5WVpblTNUcVbfa4OSM+Q4DPK/lrXPrx+WqYmzY1LN2OfBBx/Ek08+eWWtA2+SnrHgZ+hvAfhPAPxg3GIT/e3k7a+B3VnlahwgwU9XVNVJdVJW0xtR7FEjiTP1qFjNMnvIHAcHWutzRAIwHuY0tNvn7zZN5tYL99CIw7BYhQlidqtMIIumezLhlcPiNbSekmhw4F7GQAT/IRA/6dnUsr3Cuv/eqi8V+tbvT8Fj6AfpF3LdNJpYDpLPStGei8+QgYX3EQ5UVQQKgINKoMttniIapVwD+D5nCiInzEWUYqyOMaAEYo0dp7vVGHgp+FnQ0/5h2dZcNwZ+26BnNOenFEL4iwD+4u3WY7fnq4m7QMnSq0ih5zsp45GzaHAVh3zrYKPflqYSArKXfc263Epd5JIotrQADhYYklRSfCSAqAuD6hubdJAASFKuKqRvuscMjsrI4v+kBa4clnox1seECbrVpQLC6SKHjLHPCQTUl00aDNmmqTNT8VVT8NOf0ft1LtMCCd/PntzP+ivqZkt0Hr92ksVE9q9HdE2Zp7A1ir7qY6iO1MFnYBoAJnHs1vjSo7QMD3pfSKYY5DHDscX3bp3tWWeHnKWZz5KGxDC+uSB1cq2OZcjvbYMf675X6W5Ze7dCm7g9KzYqGNnVEChfvroX2HuxDAdpbUWmyAPkQT0E8CMPzNN0L9Ux8v66G9zYMw7tMSOsQdQROuEANQOLikktskWWE14tr0y1zuMEFhpqhggR5ElLjm9w3m7WxWsFP0i/FAtbI5+RZ68ufOklqaGEADifZyAC8l7LBIrhGfroEjSoFHzWx/LevVwzgI/PiUmVK1O93CHWQcH6C46Nbd5bAWtTmdrv2vd5730ztLP2XgDZVZBkX3aDUhwYRBspqyvjHCWnSIW21sdr1BmVE55Ap/sGD2CAnIdQJwONKKrboQWU3wqEBFD73DoZGp84Ch/91hTQaAggd6p5/ay1ld97bZkDEEg+e0mUbFvgqMvitoq0NKRQzJw02ZqsTtvFBPXrOkWdpOSA2R9LxEiKfoFhIykajVSloclC1RC1hwr4pb6fdZkz0zAyyPUeKe8g8sLmkbky/QDlGNO9Nngfvhve03K7ulAD5STm+OJv9pe9hqK+0Y5Udc23Q9uqyzn3SgA/gNgtbw4h/H1z/hUAfgoxmAKIBprv3lTnpQQ/S6McgPmcVQcHreXyxu5HA4jlABWceI66Qp2IOiAtoA9ZVUaeDea4ciFAFsmm6QE0EQIBgkkQVI+nekDVjfFa5dZUDLRp3W3M7dAG8zD001OO2SP7Cw4W6cozKndObn0pnKQ1AnhkfRqkDr4LrV/BtZV7sQ5LugB18ttKDwrI9joNnQTW3y+kLOvWCWzHqi76nTmu4KeMwjaBb1s6P+fcBNFw+hWIW1T+hnPup0MI/8YU/ZUQwleet95LC37NyG/+r1wguT+rFLbXqeK4NpAqvsHDKk5RVevlt4a16UpbmxzKAbLtLF/jdNVXTMXZwcLsMWwgbp2c+VuD9nlNkfeuzWCmBgom5gweaMTIoDn8FPic3IP3IamlmJs1AfE+pyi5aX0+FauUG1fVBSc6AW0P66F16iTOcqfIYFxrp4IYF0O74Ko12n6A/I4ZnkbO06at0joHDl8+NTFW72HHPTlbkgXXbdGWwPTzAXwkhPDbAJC2p3wNAAt+N0WXEvx0wNnfHAh2hdSVclq5FhhPAUSxdSbfQDlZNAnCPspoDhVtlHRiHsp9lOi8Cjmn3A9FMIa3qSjE8m0PrE5Kx11aYWnoUI5OU+J7Hy3JDF9judMOuDHPccguNVItuJMG2EudZa23Q3hah2LDIHLFQPQT5DtUAxD7QDk1awhjGSr6daIzPlvHAHM3sk/5bjTawgJSjUNj+zVCQ6NuGuRQOAW+E6lLOTodi3ZMT6VePVdbVFusjw1eD+mnTZLGzdIWrb0vAPA78v/jyHkBlL7IOfd+xM3Kvz2E8KFNlV5K8APWVzLLxiu3R1IQsaDpK+VIdiDpvTk5OOio+7OhcmyTddfgpNQ9GljvWaSDS+M/bYwy62r7MkaYgf+aTEDdYPSj21kSGE+7DFT0jVMucswv0LqeqA5NwYj9Qo6YOlVOZHJKNdcgPr+XsmpRZZ3co0NBVe8H08cw53ie/awcVJBvts0CpQU0IAMTn8/q6yx3OfbRttcWe6XaPNgGnZOLfMA596j8/3AI4WH5vxbvb7UP7wPw6SGEE+fcqwH8JICXbLrppQU/4PwrFAeDipzWHUU5RqAcNPo/UCaU1Po33d9yKpw8GhJFss9FUNQRoKCqHJ+m3lJRmzol5bI05nXQ4/kcGWE3/LF6PHJkQIozTVziZJpFao1mYVYZjQPWOvS51VrO5AeNOa5JA+xMYKC/cuUq9mo/EVAh//NetQgLC4p8v+QYgzlfI16jURosr4Y3K+r25pitU8tYssBLoN8Wp2fpJji/J87w+X0cwIvk/xcicnf5XiEcy+93Oed+0Dn3QAjhibFKLy34WdHU6lFsWaD0e9IQtNp1Yys0RSGCpXJ9LKvGCgU+Df/SNEcBUew5RcrEIuda+eYxTjLVa+nEvCL9wXPkSBkRQkMCw9UGf7sOuH6SjvvcF8qd8BmVCDAAcNjm8DjGBuvWk7p7G4FbuaqhrfIuBlEYJdDxnbF/WQe5vX05Rs5viCeWZ+F9eZ7nOvlmW7Quvo8FyigX7R8rklOHyfhfTReG9FvFUh1DPK/j0Uo8FhztIt+b663+8R7U+f0GgJc45x4E8B8QU+B9nRZwzn0agI+FEIJz7vMRH2tjCO2lBD9vfjc4GwD1mAJVTRQh2fpqYkVvjhEcdQDVwEKPN8iTy2Y75n1W8q2AYblOy/mR89lDBD5NVgpEULKJQheLkkNV7tI+i81B1gCFccO6rCwWOc06sN4vqtubiCw6tm+FjYDQd2rD/Gq0QtmnWl65MwVfy6mznE09ZcekFYOtkUrbaceajlnI9aojHBvzPF+r9yLBb1s6vxBC75x7PYCfR3wFbwkhfMg5903p/JsAfA2Ab3bO9YieR68NIdQM8wNdSvCrDQQdBJs4QPvSdfVTTsMOXK2ztimSrsrzVMamrtK2kqgY1/azLk1SQDGI99AwKWBdB8X/azvGqfhKXZ51JyHZicxMxDxnc9XZ9PakYfMjHzMg2xAv5Vz3pR66wuhm7/q8z5I+0JHukGOsgZIrY549PsMSpd6Rx1fIIijbZ9s8PJ98WFaNLBxrGt/L660RbYyspKLvyrq8WMDssT4Ota4a0G6DtsT5IYTwLgDvMsfeJL/fAOANN1PnpQQ/b77HODfIebuicjJTxLAgN/ZtB5XWp+I166fiusa52HZrSirljAgINSdtGxpF0vhQJQ3P0mMEB9WjKRHcVBxVoCanRv1e47EW1UGyYYHVSSlADZTvVd9fzQF5bLnXd+fMdZabpairSQr47JZrVY7PLsi1EDW+Fy64HutjwUoYQL2f9LlqQAbzrXVs4jS3Rdusa9t06cBvLFutfo/p8BSk9BqrXJ5ifaDY+mqD0g4+HeCbJrv6o6l4q5wdkymonkqBT6MDbJsbZGflsX1rVSSznF/AulWaxN90owEyVwlgSATA1Fj7XX4W1mfJIxpD9trSV5Ck75K5EWmAASJoWWdm9YWsxWXr/x7rjs98Z7Z/1bihv1U3OGa5V72sjgnLRZ4XvPT6MRDTOux43jbw7cLbtky1mNuamMpzNQAk6YqpgAWUYFgTfxXYrMhhOcMe6x2tohrLUMy1ESIsQ12e5uvTUDhNlsr709dsry/1dnwG6gEPfTRwUGynKHiCvCAwZx39HVUpr+4tTD81xP22OaytbYHmBEOqfss1USz1fQnSzJgSUqFBHG+yO82yB5q+7E/1h+Rzc1LWrOiqT62J/Ar+Dcpko725RuvQ96ycO8cQwZL6y9pYteA0psergV+Na7Rcnx7bBu2yutwjNPYSatycFSOAcoXWwd9ifWDZ1XyME1XS+9FJWs8RIAhy1j1ELZlqKKi5XejEYiwukByV+2yJVG5pmdpF3Vib7qU6MHViZs7CYdP0NhtB2hbwXdZlcvIR6NUZvEUJcADgK/ueAJI9xmcxk/ipagc38pv3JwCSk6bY21Su02dQfZ9dTFn/eTis2jjZxP3Za/QeY6Jy7V4XAVQ78NsynfVCSXY1OwsAa+K0WuL4bTlMkk7ksXJjAOgrx3jc6qTUFUbPW27B1jHWbgBDYoPQRH89hoARABvk/SY01MxmjVYKAn4zA4zsW3X/YV9r/U16ALUcNwnggPWQOZfaP7aAjTku674a1im5lWsJ+DzP901XFWuB1cVRU2DVxonlxOyYGAO1GqcIuaYmWtsyF0U78NsiqdgxJsLWQGWMtT8L1Oz1HNA66GF+a9iRjfSoPY9OIo+Sm7LA15j/5+k+TI3VAjjs83PQkDFNbbB6QxUvKSaTaIVkFAQBQMFuyCXXYdi2UonbWaoBQ7d+5B7CBEFyXPR3vML7L7KI7hpgr8mheqyXlmHl3hiWxlyN2u6lfGsyVgUsbg2g2XnYf5qZ5wQl+A26UKxvRQmU4wVYd0y2qhYFN7sgA+vj9Dxi79jxbQHWTuzdMlnxo8atbaLa+Qbj4DdWBz81p1KNG9VQM12BqeOZyHWsW2NJa5bLmjKf91dLLFDqoTTIXkVNm62ag9YhgobqsQiIyo2Qg9vrc4hbsekQsuGDmZz1o3v5EqCtEahBzNiy5zFs+K6hecOGRL50IGZGZcuF6bP3WN+Dl2X12a1xZokSOG1WIHoS0HBluT4FKI0r5/ioJdLYJMWcJdnwOSzpuNw2WO3Ab4vEQVFb3c7b0VacUPGmVpcFW+shz+MKoOoWoiKWilG1NtvBaWNbgQyWuqcwOT+HkqPQDXYmlTp4DwVZNQTcJ/dnHeQEe0TOUxMCNB7rPnmJzaGD9T5y+Bk5P11EuCUj+44+cOReKfLq7nLDZkepTvpaMk/es5BzI1KUZ2SGAheQwcpm6fFyTkG7ls2Fz8N3rdKKhrTZYx7rYxEoDSU1P9cxUCXVJKLa3Klde6u0s/ZumXR3NcsxKUcD3NpKNqZAtpyOBcxb4R6BkhtjPdYvsOYOotwcrZAKhDblEzkq5bBq/dQgg43G09LPkP58aonVKBDI/b2cZ9zvkPDAl4la1WewH/nNsEGSpssa9u3o8juiWMr2U6QGMpApsV+sX59a5tVNxlqD+QzqcmPFYH2mGmApCFknZQskNcCqLdpjqhxbhz23Ddpxflsku0nQJqC7Wa5wTP9h67ZcnuUg7fUEBtbByQWsK9cblDqiMR8xXstJrBym3lv1Qwoo1o9QIzXYvk2Do0mdou9CRXyNmiAXvIcottpnZfuBkhuy/m4EWY9SjC7C6SrP3yBzp7yPDWdjHyj3tTLnNbRNwdOKqNp21R3q+TFOUcvYvrDthSkPU2bTQmwB8yJAaqfz2zLZFFGbVjFLmwYPyfpO2ev50cE1Nf+rGLOUaxWILGDShcXq41T3BbkGWBcVayJTa8pbA4q11KrlmHUCMViSBpy99CAU99TfD8jGDIaREVBpPLmCDD4avE9xUp+RIqpuwNMggp5flJuKcx+Sti85YRX1FfiB8p3yw3up/x3bov9rMgSkZ9EEBdb1xY67GvcHc409p+MNchymTE2Ns2lMk84ruZyXduC3RVK3iLEVa9PAsGVqnJoOAFuHBcAxcUWBEFgfwHZlroHQJp0JJ6F1qqWYppEfQJ7s1nKsXKbtIxpeNNkCnarPS7yfhvzpM3EAUo/LfW+BUkfpkRcSvV4dqjUUThcNa6GucX36m4CmKgh9jzY6heXGpIFNdBYojZ2vkYKsBTHLKIxdv03w23F+F0BW8QvUX5iCkz1urxkbgJtIga5Wr66+Wr/V/zD8TQFXRTDWVYvVpbVYMw2Tg5zIby4YGm6l2ybaunWyKzdIcZb3or6OVlVtF30FIdfYdP6axJUcomZjUZCv6XrpR6h7DNP6anVy+lxjpACgoGnVD7avahO9BqznbUcN/JSDr0kPZ0k856VtgsLO4LFFolhiBwSwbkWtrZo1To/EDYZsp2wSp9W9QXO+sR4VUWr16aBVlwjlbrVOPr+NUrBcIrk6+qnpcQVJGjJUJARKNxS6sgDZZ44c5r58a45CAjoBi1wk76tcFVBmNdEd7dRPjv1BUbgF0Hug6cprn0a0+BKQ+cy1FGBKBGKbr0/BjSoGJR1n+t5sJBBJwWsMtOw561J1Hg5t7Dk3AfA2Rd4d53fBNMbm81wNaM5afTc5kdbur179vM7629W4AG0jQaKm69H2Wp1Yg5KTU44KKMFMn0Mnt4qBNQuoRyk2qzMwn12NEkqal5BgSPAmINl8gCxPUZ6/VV9Z83+0/npcAJT73mRAItn0YPqbi8/YOQWpmhhcW0jt2D1rHNv67fGxesaA7bwi+q3QDvwukGr6lTGdoOW07HH7sXqhGsBaDg0o/RDVz6s2uBQ8eA+dRPY5lcOzYmsR32vKq4sLwYZgAamT4GB1hdbdhmIwy9NC7OW8GhZYFw0hrFMzV/OZWY9ai3WgajSLOnOraE9OkpypOjTXNpJSrlmfyYIO+2xM7WKBqkY1oNLxURORLbBq/Y05dtbivgmQ7HPdDu04vwukTavlWeUtWRG6dq0OytpLrXFuFM/sQLUDtvbN8nQVUavlJtHNcpbKrZF0gtt71nwMlVNUcZXHldPUiJMad2QBlhyjdSHhORXH9Zm0Lp1oCopsl6aosolLrc+j0hjXVROfVd2hIFKrw/rt1RbxsfFo23oegKlxnmNMwDYBawd+WyYrGt3stTVx9rz1nAWQtkxNfK0dHxuUnEx7qA/MmiuMrctmdtH+s/vb1hKvNuacOv6qjkyzsijnRoD0KLlBNRaxPTWuQ5+H4KrcrpLmNFQuWjPU1ERffQ+1BARj3BfJSgw1qUOfUcGvBny15z8PjYm6Y1ziWLlt0Q78ADjnXgPg7yK//28NIfxqOvdaAN8B4G0hhH94Vl1jimIFAX7XfN6s8rlGZ4kGWqces3qYmltHzVNfU+OzHhpMlOvbxJkQTJZStjYRdfJRhOP92Ea1uGo8r/ZfI+0iKJ0i5wNcYb1efUYgx7/qHrfsC30WxuqyrapKaJD3wlVXHBpsCMQ10NE2ad0W9HQjI9sO7Sdr3e/lOsjvWjvs2Km1w5avUU09Y8dprb5t0y68LdO/APDTaXelPwTgxwF8Zjr3WgCfB+AdzrmjEMLJpopqoiNp0wu1k8YOMFuH3sv+1vpq91NA0mvHQNUOcKukX5ly9rksdwSU3JiSckFqmdS28hoCCSe2fV7eQ7k6TVSgoW9jqa/UKVh1cprdRmNfeX+1eirw1Kz1mulFj9fEQT1vFw0FtJoxy95X69jEPVoL7qZ2bBusLgoEdzq/RAbQrqCckxplVQtlXSMLRJbzsqu4nrNRD7XVVeutidmbQE8/et6uyNq+WjuU49BnrgEkpB5yO3aykwgEyn3oQqDiqqbnsvdTJ2veS8Fa42R5XPWDfNmavssakMYiMdgf/CiHoYkarMg/tgBZkBojazAZc4uy73PsGWptGhuHtTZbqo3HsXF3J2gHfomcc38CwN8D8FwAf1xOPQLgUQA/EkJ4+rz1ja2SVv9SE030mF2Ra4p6YDyJgRVPrDLbo+SqVCS3IrK2QcX03lynXI4aNNSya9uubifWiVpJRU1NcqBcnl1cCKi6cXfNT9FGWygHyTqUy9PIkBqY8NlqHC/J+gdaQ4Pte32vtZhd6+qiBg5bnx0HYyBe4zC1jWNUKze2IOtzjdW1bWC8l8HPnbG15cXc1LkvBfC3Qghffs7ybwfw1QDQNM3hy172sots3k3TY489hgcffPBuN2OgXXs2073WHuDea9O//tf/Gt77uRx6JITw0M3U4Zz7OQAPnKPoEyGEV95UA7dAFwp+zrnXAfjG9O+rQwi/K+ceA/B5IYQnbrLO6yGEK1ts5m3TvdamXXs2073WHuDea9O91p6LoAsV/UMIbwwhvDSE8FIAh845BwDOuc9BlCievMj772hHO9rRGN1Jnd+fBPBnnXNLxAxJfzrcDZl7Rzva0Y5wZ6293wPge7ZQ1SNbqGPbdK+1adeezXSvtQe499p0r7Vn63RXDB472tGOdnS36U65++xoRzva0T1FO/Db0Y529Iykexr8nHMz59yvO+fe75z7kHPu76Tjz3fO/aJz7qecc0d3uE0vcs79S+fch1Ob/l93s03Oubc45z7unPugHLtr/ZPu/0rn3P/qnPuIc+6v34k2bRgrf9s59x+cc7+ZPq9Ox6fOuR92zn0gXfMKqesVzrlHnXP/4A62Z88599bUng875/7GXW7P18ux33TOeefcS7fVnnuCQgj37AcxKOEo/d4D8B4AXwjg7wP4gwD+CwDfdIfb9DwAn5N+3wfg3wH4rLvVJgBfCuBzAHxQjt3N/pkA+P8B+AxEd6b334n+2TBW/jaAb6+Ufx2AH06/nwvgvQCa9P9/D+AAwPcB+Mw71J6vA/Bj6fchgP8dwIvvVnvMtf83AL8t/992e+6Fzz3N+YVIjAnmBmcB5S6G54oF3mKbPhpCeF/6/TSADwN4wd1qUwjhlwE8ZQ7ftf4B8PkAPhJC+O0QQgfgxwC85qLbtGGsjNFnISbbQAjh4wCuAXh5OsfcDrfc1ltoTwBwxTnXIgJLB+D4LrZH6WsB/Kj8f9vtuRfongY/AHDOTZxzvwng4wB+IYTwHgBvAPD/AfBNAH7kLrbtxQBehriK3hNtSnQ32/ICAL8j/z+ejl14m0bGCgC83jn3W0lF8Cnp2PsBvMY51zrnHgTwuQBelM69GcCvIXKCH75D7fkJxK1HPgrg/wDwvSEELmp3oz1Kfxol+G2lPXed7jbred4PgPsB/EsAn32325Lac4QoKn31PdCWF0PE3rvclj8F4M3y/0MA/tHdGisAPhU5n+p/DeAtqUwL4L8F8JsAfgrAuwC85i6250sAvAORI3sugP8VwGfcrfZI2S8A8IG7Pa4u4nPPc36kEMI1AL8E4I4HQFtyzu0BeCeAd4QQPumdQW+SHkfmoADghQB+d6TshZCOlRDCx0IIqxCCB/BPEMVyhBD6EMK3hRh++RpEQPjf7lZ7EHV+PxdCWIYohv/PyGL43WgP6bUoub5PGrqnwc859xzn3P3p9wGALwfwb+9ymxyAHwLw4RDC99/Nttyj9BsAXuKce9A5N0WcPD990TcdGyvOuedJsT8B4IOpzKFz7kr6/RUA+hDCv7lb7UEUdb/MRbqCaIzY2li/hfbAOdcgcvI/tq123Et0r+/h8TwAb3XOkS3/8RDCz9zlNn0Joij3gaQ/AYDvDCG86240xjn3owBeAeAB59zjAL4rhPBDd6MtQOSonHOvB/DziOLUW0IIH7oDt66OFefc25OLRkC0oP7lVP65AH7eOecB/AfEd3o32/NGAD+MCD4O0RL9W3exPUD0JHg8hPDbW2zHPUO78LYd7WhHz0i6p8XeHe1oRzu6KNqB3452tKNnJO3Ab0c72tEzknbgt6Md7egZSTvw29GOdvSMpB347WhHO3pG0g78LhE55z7VOfffOed+2zn3Xufc/+LiXsibrnmxk3RXN3m/b3DOPV/+f7Nz7rPOee0rnHMX5pPpYoqsn0i/X8pUTDdZx992zn379lu3o8tAO/C7JJQiS34SwC+HED4jhPC5iNETL7zA234DgAH8Qgh/cZtRELdDIYTfDSF8Tfr3pQBuGvx29MymHfhdHvoyAF0I4U08EEL49yGEfwQMHN6vOOfelz5fbCvYVMY59x0uJ/b8+865r0GMLX1HSmZ54Jz7Jefcy1P5V6Y63u+c+xfnfQjn3Nem+3zQOfc9cvzEOfdfp/re7Zz71HT896f/f8M5993OuRN5lg+mELrvBvCnUzv/tOXoUrkXp99/08VEq/8TgP+rlPn9zrmfSxz1rzjnPvO8z7SjS0p3O7PC7nO+D4C/AuC/3XD+EMAs/X4JgEfT7xcjZXzZUOZViCmKDtP/z07fvwTg5XKPX0IExOcgpq16UMub9rwCwM+YY89HjGF9DmJo5S8C+Kp0LgD4L9LvfwDgv0q/fwbA16bf3wTgpPJc3wDgDXKfvw1J0IkYMvZixLRVH0j9cBXAR1gOMbffS9LvLwDwi3f7ne8+F/u512N7dzRCzrk3AvgjiNzg5yGmQnpDitNcAfi/VC4bK/PliLGkcwAIOY/cGH0hovj92DnLkz4PwC+FEP7P9AzvQIwf/UnE5J3UEb4XwFek318E4KvS7/8OwPee8141+r8D+Od8TufcT6fvIwBfDOCfRe0CAGD/Nu6zo0tAO/C7PPQhxI3fAQAhhNc55x4A8Gg69G0APgbgDyOqMxaVOsbKOJw/q++tlNfrxmgZQmCdK9ze2OxRqnRm8rvW7gbAtRDCS2/jnju6ZLTT+V0e+kUAM+fcN8uxQ/n9LAAfDTEv20OIGVUsjZX5/wL48865QwBwzj07HX8acZ8SS/8LgP/MxQzIWv4sek+67oGUXeRrAfyrM655NzLov3akjG3n/464rwmcc58D4MF0/JcB/Imkv7wPcT8RhBCOATzmnPtT6RrnnPvD53ymHV1S2oHfJaHEFX0VIng85pz7dQBvBfBfpiI/COD/4Zx7N6I4e71STbVMCOHnEHPuPZrSdNFY8E8BvIkGD2nL/wngLwF4xDn3fsQNbWr0R51zj/ODqHf7G4hZhN8P4H0hhJ8649G/FcBfTc/7PACfqJT5lwA+iwYPxESzz07P8s2Im0whxL1X/nvE7M3vBPArUsfXA/gL6Xk+hLjvyI4+iWmX0mpH9zQlbvRGCCE4516LaPzYAdOObpt2Or8d3ev0uYhGGoe4w9qfv7vN2dEnC+04vx3taEfPSNrp/Ha0ox09I2kHfjva0Y6ekbQDvx3taEfPSNqB3452tKNnJO3Ab0c72tEzkv7/1n3wuGJy0PoAAAAASUVORK5CYII=\n",
          "text/plain": "<Figure size 432x288 with 2 Axes>"
         },
         "metadata": {
          "needs_background": "light"
         },
         "output_type": "display_data"
        }
       ]
      }
     },
     "3ef8de5567964ecba036e35f856be4d1": {
      "model_module": "@jupyter-widgets/controls",
      "model_module_version": "1.5.0",
      "model_name": "DescriptionStyleModel",
      "state": {
       "_model_module": "@jupyter-widgets/controls",
       "_model_module_version": "1.5.0",
       "_model_name": "DescriptionStyleModel",
       "_view_count": null,
       "_view_module": "@jupyter-widgets/base",
       "_view_module_version": "1.2.0",
       "_view_name": "StyleView",
       "description_width": "initial"
      }
     },
     "577b317a7fe940bca830cc9049658399": {
      "model_module": "@jupyter-widgets/base",
      "model_module_version": "1.2.0",
      "model_name": "LayoutModel",
      "state": {
       "_model_module": "@jupyter-widgets/base",
       "_model_module_version": "1.2.0",
       "_model_name": "LayoutModel",
       "_view_count": null,
       "_view_module": "@jupyter-widgets/base",
       "_view_module_version": "1.2.0",
       "_view_name": "LayoutView",
       "align_content": null,
       "align_items": null,
       "align_self": null,
       "border": null,
       "bottom": null,
       "display": null,
       "flex": null,
       "flex_flow": null,
       "grid_area": null,
       "grid_auto_columns": null,
       "grid_auto_flow": null,
       "grid_auto_rows": null,
       "grid_column": null,
       "grid_gap": null,
       "grid_row": null,
       "grid_template_areas": null,
       "grid_template_columns": null,
       "grid_template_rows": null,
       "height": null,
       "justify_content": null,
       "justify_items": null,
       "left": null,
       "margin": null,
       "max_height": null,
       "max_width": null,
       "min_height": null,
       "min_width": null,
       "object_fit": null,
       "object_position": null,
       "order": null,
       "overflow": null,
       "overflow_x": null,
       "overflow_y": null,
       "padding": null,
       "right": null,
       "top": null,
       "visibility": null,
       "width": null
      }
     },
     "77d2d47d0f294f05b23eeef13d286248": {
      "model_module": "@jupyter-widgets/base",
      "model_module_version": "1.2.0",
      "model_name": "LayoutModel",
      "state": {
       "_model_module": "@jupyter-widgets/base",
       "_model_module_version": "1.2.0",
       "_model_name": "LayoutModel",
       "_view_count": null,
       "_view_module": "@jupyter-widgets/base",
       "_view_module_version": "1.2.0",
       "_view_name": "LayoutView",
       "align_content": null,
       "align_items": null,
       "align_self": null,
       "border": null,
       "bottom": null,
       "display": null,
       "flex": null,
       "flex_flow": null,
       "grid_area": null,
       "grid_auto_columns": null,
       "grid_auto_flow": null,
       "grid_auto_rows": null,
       "grid_column": null,
       "grid_gap": null,
       "grid_row": null,
       "grid_template_areas": null,
       "grid_template_columns": null,
       "grid_template_rows": null,
       "height": null,
       "justify_content": null,
       "justify_items": null,
       "left": null,
       "margin": null,
       "max_height": null,
       "max_width": null,
       "min_height": null,
       "min_width": null,
       "object_fit": null,
       "object_position": null,
       "order": null,
       "overflow": null,
       "overflow_x": null,
       "overflow_y": null,
       "padding": null,
       "right": null,
       "top": null,
       "visibility": null,
       "width": null
      }
     },
     "88385d3a66cc4cc7b0ae5db15ec8a320": {
      "model_module": "@jupyter-widgets/base",
      "model_module_version": "1.2.0",
      "model_name": "LayoutModel",
      "state": {
       "_model_module": "@jupyter-widgets/base",
       "_model_module_version": "1.2.0",
       "_model_name": "LayoutModel",
       "_view_count": null,
       "_view_module": "@jupyter-widgets/base",
       "_view_module_version": "1.2.0",
       "_view_name": "LayoutView",
       "align_content": null,
       "align_items": null,
       "align_self": null,
       "border": null,
       "bottom": null,
       "display": null,
       "flex": null,
       "flex_flow": null,
       "grid_area": null,
       "grid_auto_columns": null,
       "grid_auto_flow": null,
       "grid_auto_rows": null,
       "grid_column": null,
       "grid_gap": null,
       "grid_row": null,
       "grid_template_areas": null,
       "grid_template_columns": null,
       "grid_template_rows": null,
       "height": null,
       "justify_content": null,
       "justify_items": null,
       "left": null,
       "margin": null,
       "max_height": null,
       "max_width": null,
       "min_height": null,
       "min_width": null,
       "object_fit": null,
       "object_position": null,
       "order": null,
       "overflow": null,
       "overflow_x": null,
       "overflow_y": null,
       "padding": null,
       "right": null,
       "top": null,
       "visibility": null,
       "width": null
      }
     },
     "9c03d95603df4db285a7bc4f5a67b7bc": {
      "model_module": "@jupyter-widgets/base",
      "model_module_version": "1.2.0",
      "model_name": "LayoutModel",
      "state": {
       "_model_module": "@jupyter-widgets/base",
       "_model_module_version": "1.2.0",
       "_model_name": "LayoutModel",
       "_view_count": null,
       "_view_module": "@jupyter-widgets/base",
       "_view_module_version": "1.2.0",
       "_view_name": "LayoutView",
       "align_content": null,
       "align_items": null,
       "align_self": null,
       "border": null,
       "bottom": null,
       "display": null,
       "flex": null,
       "flex_flow": null,
       "grid_area": null,
       "grid_auto_columns": null,
       "grid_auto_flow": null,
       "grid_auto_rows": null,
       "grid_column": null,
       "grid_gap": null,
       "grid_row": null,
       "grid_template_areas": null,
       "grid_template_columns": null,
       "grid_template_rows": null,
       "height": null,
       "justify_content": null,
       "justify_items": null,
       "left": null,
       "margin": null,
       "max_height": null,
       "max_width": null,
       "min_height": null,
       "min_width": null,
       "object_fit": null,
       "object_position": null,
       "order": null,
       "overflow": null,
       "overflow_x": null,
       "overflow_y": null,
       "padding": null,
       "right": null,
       "top": null,
       "visibility": null,
       "width": "50%"
      }
     },
     "b2ca30492d67448092d0070d87750e96": {
      "model_module": "@jupyter-widgets/controls",
      "model_module_version": "1.5.0",
      "model_name": "DescriptionStyleModel",
      "state": {
       "_model_module": "@jupyter-widgets/controls",
       "_model_module_version": "1.5.0",
       "_model_name": "DescriptionStyleModel",
       "_view_count": null,
       "_view_module": "@jupyter-widgets/base",
       "_view_module_version": "1.2.0",
       "_view_name": "StyleView",
       "description_width": "initial"
      }
     },
     "d1abfad348ed499c8b85ceb51c8ceb40": {
      "model_module": "@jupyter-widgets/controls",
      "model_module_version": "1.5.0",
      "model_name": "VBoxModel",
      "state": {
       "_dom_classes": [
        "widget-interact"
       ],
       "_model_module": "@jupyter-widgets/controls",
       "_model_module_version": "1.5.0",
       "_model_name": "VBoxModel",
       "_view_count": null,
       "_view_module": "@jupyter-widgets/controls",
       "_view_module_version": "1.5.0",
       "_view_name": "VBoxView",
       "box_style": "",
       "children": [
        "IPY_MODEL_decc347bfe01439bb58cc6744c683bdf",
        "IPY_MODEL_e9311f55578b4ecaa3de70bd117ef49f",
        "IPY_MODEL_2339ad8512b54d2e97a9d867247de0a5"
       ],
       "layout": "IPY_MODEL_577b317a7fe940bca830cc9049658399"
      }
     },
     "decc347bfe01439bb58cc6744c683bdf": {
      "model_module": "@jupyter-widgets/controls",
      "model_module_version": "1.5.0",
      "model_name": "SelectionSliderModel",
      "state": {
       "_dom_classes": [],
       "_model_module": "@jupyter-widgets/controls",
       "_model_module_version": "1.5.0",
       "_model_name": "SelectionSliderModel",
       "_options_labels": [
        "1.00e-01 TeV - 1.67e-01 TeV",
        "1.67e-01 TeV - 2.78e-01 TeV",
        "2.78e-01 TeV - 4.64e-01 TeV",
        "4.64e-01 TeV - 7.74e-01 TeV",
        "7.74e-01 TeV - 1.29e+00 TeV",
        "1.29e+00 TeV - 2.15e+00 TeV",
        "2.15e+00 TeV - 3.59e+00 TeV",
        "3.59e+00 TeV - 5.99e+00 TeV",
        "5.99e+00 TeV - 1.00e+01 TeV"
       ],
       "_view_count": null,
       "_view_module": "@jupyter-widgets/controls",
       "_view_module_version": "1.5.0",
       "_view_name": "SelectionSliderView",
       "continuous_update": false,
       "description": "Select energy:",
       "description_tooltip": null,
       "disabled": false,
       "index": 0,
       "layout": "IPY_MODEL_9c03d95603df4db285a7bc4f5a67b7bc",
       "orientation": "horizontal",
       "readout": true,
       "style": "IPY_MODEL_3ef8de5567964ecba036e35f856be4d1"
      }
     },
     "e9311f55578b4ecaa3de70bd117ef49f": {
      "model_module": "@jupyter-widgets/controls",
      "model_module_version": "1.5.0",
      "model_name": "RadioButtonsModel",
      "state": {
       "_dom_classes": [],
       "_model_module": "@jupyter-widgets/controls",
       "_model_module_version": "1.5.0",
       "_model_name": "RadioButtonsModel",
       "_options_labels": [
        "linear",
        "sqrt",
        "log"
       ],
       "_view_count": null,
       "_view_module": "@jupyter-widgets/controls",
       "_view_module_version": "1.5.0",
       "_view_name": "RadioButtonsView",
       "description": "Select stretch:",
       "description_tooltip": null,
       "disabled": false,
       "index": 0,
       "layout": "IPY_MODEL_88385d3a66cc4cc7b0ae5db15ec8a320",
       "style": "IPY_MODEL_b2ca30492d67448092d0070d87750e96"
      }
     }
    },
    "version_major": 2,
    "version_minor": 0
   }
  }
 },
 "nbformat": 4,
 "nbformat_minor": 4
}
