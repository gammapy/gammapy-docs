{
 "cells": [
  {
   "cell_type": "markdown",
   "metadata": {},
   "source": [
    "\n",
    "<div class=\"alert alert-info\">\n",
    "\n",
    "**This is a fixed-text formatted version of a Jupyter notebook**\n",
    "\n",
    "- Try online[![Binder](https://static.mybinder.org/badge.svg)](https://mybinder.org/v2/gh/gammapy/gammapy-webpage/v0.19?urlpath=lab/tree/analysis/time/light_curve.ipynb)\n",
    "- You may download all the notebooks in the documentation as a\n",
    "[tar file](../../../_downloads/notebooks-0.19.tar).\n",
    "- **Source files:**\n",
    "[light_curve.ipynb](../../../_static/notebooks/light_curve.ipynb) |\n",
    "[light_curve.py](../../../_static/notebooks/light_curve.py)\n",
    "</div>\n"
   ]
  },
  {
   "cell_type": "markdown",
   "metadata": {},
   "source": [
    "# Light curves\n",
    "\n",
    "## Prerequisites\n",
    "\n",
    "- Knowledge of the high level interface to perform data reduction, see [first gammapy analysis with the high level interface tutorial](../../starting/analysis_1.ipynb)\n",
    "\n",
    "## Context\n",
    "\n",
    "This tutorial presents how light curve extraction is performed in gammapy, i.e. how to measure the flux of a source\n",
    "in different time bins.\n",
    "\n",
    "Cherenkov telescopes usually work with observing runs and distribute data according to this basic time interval. A typical use case is to look for variability of a source on various time binnings: observation run-wise binning, nightly, weekly etc.\n",
    "\n",
    "**Objective: The Crab nebula is not known to be variable at TeV energies, so we expect constant brightness within statistical and systematic errors. Compute per-observation and nightly fluxes of the four Crab nebula observations from the H.E.S.S. first public test data release [o](https://www.mpi-hd.mpg.de/hfm/HESS/pages/dl3-dr1/) to check it.**\n",
    "\n",
    "## Proposed approach\n",
    "\n",
    "We will demonstrate how to compute a `~gammapy.estimators.LightCurve` from 3D reduced datasets (`~gammapy.datasets.MapDataset`) as well as 1D ON-OFF spectral datasets (`~gammapy.datasets.SpectrumDatasetOnOff`). \n",
    "\n",
    "The data reduction will be performed with the high level interface for the data reduction. Then we will use the `~gammapy.estimators.LightCurveEstimator` class, which  is able to extract a light curve independently of the dataset type. \n",
    "\n"
   ]
  },
  {
   "cell_type": "markdown",
   "metadata": {},
   "source": [
    "## Setup\n",
    "\n",
    "As usual, we'll start with some general imports..."
   ]
  },
  {
   "cell_type": "code",
   "execution_count": 1,
   "metadata": {
    "execution": {
     "iopub.execute_input": "2021-11-22T21:06:17.147808Z",
     "iopub.status.busy": "2021-11-22T21:06:17.146588Z",
     "iopub.status.idle": "2021-11-22T21:06:17.499045Z",
     "shell.execute_reply": "2021-11-22T21:06:17.499251Z"
    }
   },
   "outputs": [],
   "source": [
    "%matplotlib inline\n",
    "import matplotlib.pyplot as plt\n",
    "\n",
    "import astropy.units as u\n",
    "from astropy.coordinates import SkyCoord\n",
    "import logging\n",
    "\n",
    "from astropy.time import Time\n",
    "\n",
    "log = logging.getLogger(__name__)"
   ]
  },
  {
   "cell_type": "markdown",
   "metadata": {},
   "source": [
    "Now let's import gammapy specific classes and functions"
   ]
  },
  {
   "cell_type": "code",
   "execution_count": 2,
   "metadata": {
    "execution": {
     "iopub.execute_input": "2021-11-22T21:06:17.501462Z",
     "iopub.status.busy": "2021-11-22T21:06:17.501157Z",
     "iopub.status.idle": "2021-11-22T21:06:17.838722Z",
     "shell.execute_reply": "2021-11-22T21:06:17.838894Z"
    }
   },
   "outputs": [],
   "source": [
    "from gammapy.modeling.models import PowerLawSpectralModel\n",
    "from gammapy.modeling.models import PointSpatialModel\n",
    "from gammapy.modeling.models import SkyModel, Models\n",
    "from gammapy.modeling import Fit\n",
    "from gammapy.estimators import LightCurveEstimator\n",
    "from gammapy.analysis import Analysis, AnalysisConfig"
   ]
  },
  {
   "cell_type": "markdown",
   "metadata": {},
   "source": [
    "## Analysis configuration \n",
    "For the 1D and 3D extraction, we will use the same CrabNebula configuration than in the notebook analysis_1.ipynb using the high level interface of Gammapy.\n",
    "\n",
    "From the high level interface, the data reduction for those observations is performed as followed"
   ]
  },
  {
   "cell_type": "markdown",
   "metadata": {},
   "source": [
    "### Building the 3D analysis configuration\n"
   ]
  },
  {
   "cell_type": "code",
   "execution_count": 3,
   "metadata": {
    "execution": {
     "iopub.execute_input": "2021-11-22T21:06:17.841175Z",
     "iopub.status.busy": "2021-11-22T21:06:17.840890Z",
     "iopub.status.idle": "2021-11-22T21:06:17.842178Z",
     "shell.execute_reply": "2021-11-22T21:06:17.842349Z"
    }
   },
   "outputs": [],
   "source": [
    "conf_3d = AnalysisConfig()"
   ]
  },
  {
   "cell_type": "markdown",
   "metadata": {},
   "source": [
    "#### Definition of the data selection\n",
    "\n",
    "Here we use the Crab runs from the HESS DL3 data release 1"
   ]
  },
  {
   "cell_type": "code",
   "execution_count": 4,
   "metadata": {
    "execution": {
     "iopub.execute_input": "2021-11-22T21:06:17.844174Z",
     "iopub.status.busy": "2021-11-22T21:06:17.843864Z",
     "iopub.status.idle": "2021-11-22T21:06:17.845159Z",
     "shell.execute_reply": "2021-11-22T21:06:17.844979Z"
    }
   },
   "outputs": [],
   "source": [
    "conf_3d.observations.obs_ids = [23523, 23526, 23559, 23592]"
   ]
  },
  {
   "cell_type": "markdown",
   "metadata": {},
   "source": [
    "#### Definition of the dataset geometry"
   ]
  },
  {
   "cell_type": "code",
   "execution_count": 5,
   "metadata": {
    "execution": {
     "iopub.execute_input": "2021-11-22T21:06:17.848229Z",
     "iopub.status.busy": "2021-11-22T21:06:17.847947Z",
     "iopub.status.idle": "2021-11-22T21:06:17.849171Z",
     "shell.execute_reply": "2021-11-22T21:06:17.849349Z"
    }
   },
   "outputs": [],
   "source": [
    "# We want a 3D analysis\n",
    "conf_3d.datasets.type = \"3d\"\n",
    "\n",
    "# We want to extract the data by observation and therefore to not stack them\n",
    "conf_3d.datasets.stack = False\n",
    "\n",
    "# Here is the WCS geometry of the Maps\n",
    "conf_3d.datasets.geom.wcs.skydir = dict(\n",
    "    frame=\"icrs\", lon=83.63308 * u.deg, lat=22.01450 * u.deg\n",
    ")\n",
    "conf_3d.datasets.geom.wcs.binsize = 0.02 * u.deg\n",
    "conf_3d.datasets.geom.wcs.width = dict(width=1 * u.deg, height=1 * u.deg)\n",
    "\n",
    "# We define a value for the IRF Maps binsize\n",
    "conf_3d.datasets.geom.wcs.binsize_irf = 0.2 * u.deg\n",
    "\n",
    "# Define energy binning for the Maps\n",
    "conf_3d.datasets.geom.axes.energy = dict(\n",
    "    min=0.7 * u.TeV, max=10 * u.TeV, nbins=5\n",
    ")\n",
    "conf_3d.datasets.geom.axes.energy_true = dict(\n",
    "    min=0.3 * u.TeV, max=20 * u.TeV, nbins=20\n",
    ")"
   ]
  },
  {
   "cell_type": "markdown",
   "metadata": {},
   "source": [
    "### Run the 3D data reduction"
   ]
  },
  {
   "cell_type": "code",
   "execution_count": 6,
   "metadata": {
    "execution": {
     "iopub.execute_input": "2021-11-22T21:06:17.851317Z",
     "iopub.status.busy": "2021-11-22T21:06:17.850977Z",
     "iopub.status.idle": "2021-11-22T21:06:19.129301Z",
     "shell.execute_reply": "2021-11-22T21:06:19.129500Z"
    }
   },
   "outputs": [
    {
     "name": "stderr",
     "output_type": "stream",
     "text": [
      "Setting logging config: {'level': 'INFO', 'filename': None, 'filemode': None, 'format': None, 'datefmt': None}\n",
      "Fetching observations.\n",
      "No HDU found matching: OBS_ID = 23523, HDU_TYPE = rad_max, HDU_CLASS = None\n",
      "No HDU found matching: OBS_ID = 23526, HDU_TYPE = rad_max, HDU_CLASS = None\n",
      "No HDU found matching: OBS_ID = 23559, HDU_TYPE = rad_max, HDU_CLASS = None\n",
      "No HDU found matching: OBS_ID = 23592, HDU_TYPE = rad_max, HDU_CLASS = None\n",
      "Number of selected observations: 4\n",
      "Creating reference dataset and makers.\n",
      "Creating the background Maker.\n",
      "No background maker set. Check configuration.\n",
      "Start the data reduction loop.\n"
     ]
    }
   ],
   "source": [
    "analysis_3d = Analysis(conf_3d)\n",
    "analysis_3d.get_observations()\n",
    "analysis_3d.get_datasets()"
   ]
  },
  {
   "cell_type": "markdown",
   "metadata": {},
   "source": [
    "### Define the model to be used\n",
    "\n",
    "Here we don't try to fit the model parameters to the whole dataset, but we use predefined values instead. "
   ]
  },
  {
   "cell_type": "code",
   "execution_count": 7,
   "metadata": {
    "execution": {
     "iopub.execute_input": "2021-11-22T21:06:19.139264Z",
     "iopub.status.busy": "2021-11-22T21:06:19.138926Z",
     "iopub.status.idle": "2021-11-22T21:06:19.140114Z",
     "shell.execute_reply": "2021-11-22T21:06:19.140292Z"
    }
   },
   "outputs": [],
   "source": [
    "target_position = SkyCoord(ra=83.63308, dec=22.01450, unit=\"deg\")\n",
    "spatial_model = PointSpatialModel(\n",
    "    lon_0=target_position.ra, lat_0=target_position.dec, frame=\"icrs\"\n",
    ")\n",
    "\n",
    "spectral_model = PowerLawSpectralModel(\n",
    "    index=2.702,\n",
    "    amplitude=4.712e-11 * u.Unit(\"1 / (cm2 s TeV)\"),\n",
    "    reference=1 * u.TeV,\n",
    ")\n",
    "\n",
    "sky_model = SkyModel(\n",
    "    spatial_model=spatial_model, spectral_model=spectral_model, name=\"crab\"\n",
    ")\n",
    "# Now we freeze these parameters that we don't want the light curve estimator to change\n",
    "sky_model.parameters[\"index\"].frozen = True\n",
    "sky_model.parameters[\"lon_0\"].frozen = True\n",
    "sky_model.parameters[\"lat_0\"].frozen = True"
   ]
  },
  {
   "cell_type": "markdown",
   "metadata": {},
   "source": [
    "We assign them the model to be fitted to each dataset"
   ]
  },
  {
   "cell_type": "code",
   "execution_count": 8,
   "metadata": {
    "execution": {
     "iopub.execute_input": "2021-11-22T21:06:19.142052Z",
     "iopub.status.busy": "2021-11-22T21:06:19.141764Z",
     "iopub.status.idle": "2021-11-22T21:06:19.144510Z",
     "shell.execute_reply": "2021-11-22T21:06:19.144693Z"
    }
   },
   "outputs": [
    {
     "name": "stderr",
     "output_type": "stream",
     "text": [
      "Reading model.\n",
      "Models\n",
      "\n",
      "Component 0: SkyModel\n",
      "\n",
      "  Name                      : crab\n",
      "  Datasets names            : None\n",
      "  Spectral model type       : PowerLawSpectralModel\n",
      "  Spatial  model type       : PointSpatialModel\n",
      "  Temporal model type       : \n",
      "  Parameters:\n",
      "    index        (frozen)   :      2.702                   \n",
      "    amplitude               :   4.71e-11   +/- 0.0e+00 1 / (cm2 s TeV)\n",
      "    reference    (frozen)   :      1.000       TeV         \n",
      "    lon_0        (frozen)   :     83.633       deg         \n",
      "    lat_0        (frozen)   :     22.015       deg         \n",
      "\n",
      "Component 1: FoVBackgroundModel\n",
      "\n",
      "  Name                      : 38q7tq0c-bkg\n",
      "  Datasets names            : ['38q7tq0c']\n",
      "  Spectral model type       : PowerLawNormSpectralModel\n",
      "  Parameters:\n",
      "    norm                    :      1.000   +/-    0.00             \n",
      "    tilt         (frozen)   :      0.000                   \n",
      "    reference    (frozen)   :      1.000       TeV         \n",
      "\n",
      "Component 2: FoVBackgroundModel\n",
      "\n",
      "  Name                      : 4nDYkSIj-bkg\n",
      "  Datasets names            : ['4nDYkSIj']\n",
      "  Spectral model type       : PowerLawNormSpectralModel\n",
      "  Parameters:\n",
      "    norm                    :      1.000   +/-    0.00             \n",
      "    tilt         (frozen)   :      0.000                   \n",
      "    reference    (frozen)   :      1.000       TeV         \n",
      "\n",
      "Component 3: FoVBackgroundModel\n",
      "\n",
      "  Name                      : eXBkaW8t-bkg\n",
      "  Datasets names            : ['eXBkaW8t']\n",
      "  Spectral model type       : PowerLawNormSpectralModel\n",
      "  Parameters:\n",
      "    norm                    :      1.000   +/-    0.00             \n",
      "    tilt         (frozen)   :      0.000                   \n",
      "    reference    (frozen)   :      1.000       TeV         \n",
      "\n",
      "Component 4: FoVBackgroundModel\n",
      "\n",
      "  Name                      : 2Guq4XT9-bkg\n",
      "  Datasets names            : ['2Guq4XT9']\n",
      "  Spectral model type       : PowerLawNormSpectralModel\n",
      "  Parameters:\n",
      "    norm                    :      1.000   +/-    0.00             \n",
      "    tilt         (frozen)   :      0.000                   \n",
      "    reference    (frozen)   :      1.000       TeV         \n",
      "\n",
      "\n"
     ]
    }
   ],
   "source": [
    "models = Models([sky_model])\n",
    "analysis_3d.set_models(models)"
   ]
  },
  {
   "cell_type": "markdown",
   "metadata": {},
   "source": [
    "## Light Curve estimation: by observation\n",
    "\n",
    "We can now create the light curve estimator.\n",
    "\n",
    "We pass it the list of datasets and the name of the model component for which we want to build the light curve. \n",
    "We can optionally ask for parameters reoptimization during fit, that is most of the time to fit background normalization in each time bin. \n",
    "\n",
    "If we don't set any time interval, the `~gammapy.estimators.LightCurveEstimator` is determines the flux of each dataset and places it at the corresponding time in the light curve. \n",
    "Here one dataset equals to one observing run."
   ]
  },
  {
   "cell_type": "code",
   "execution_count": 9,
   "metadata": {
    "execution": {
     "iopub.execute_input": "2021-11-22T21:06:19.155196Z",
     "iopub.status.busy": "2021-11-22T21:06:19.154882Z",
     "iopub.status.idle": "2021-11-22T21:06:21.772011Z",
     "shell.execute_reply": "2021-11-22T21:06:21.772211Z"
    }
   },
   "outputs": [],
   "source": [
    "lc_maker_3d = LightCurveEstimator(\n",
    "    energy_edges=[1, 10] * u.TeV, source=\"crab\", reoptimize=False\n",
    ")\n",
    "lc_3d = lc_maker_3d.run(analysis_3d.datasets)"
   ]
  },
  {
   "cell_type": "markdown",
   "metadata": {},
   "source": [
    "The LightCurve object contains a table which we can explore."
   ]
  },
  {
   "cell_type": "code",
   "execution_count": 10,
   "metadata": {
    "execution": {
     "iopub.execute_input": "2021-11-22T21:06:21.825615Z",
     "iopub.status.busy": "2021-11-22T21:06:21.825294Z",
     "iopub.status.idle": "2021-11-22T21:06:22.046895Z",
     "shell.execute_reply": "2021-11-22T21:06:22.047137Z"
    }
   },
   "outputs": [
    {
     "data": {
      "text/plain": [
       "<AxesSubplot:xlabel='Time [iso]', ylabel='dnde (1 / (cm2 s TeV))'>"
      ]
     },
     "execution_count": 10,
     "metadata": {},
     "output_type": "execute_result"
    },
    {
     "data": {
      "image/png": "[encoded data removed]",
      "text/plain": [
       "<Figure size 432x288 with 1 Axes>"
      ]
     },
     "metadata": {
      "needs_background": "light"
     },
     "output_type": "display_data"
    }
   ],
   "source": [
    "lc_3d.plot(axis_name=\"time\")"
   ]
  },
  {
   "cell_type": "code",
   "execution_count": 11,
   "metadata": {
    "execution": {
     "iopub.execute_input": "2021-11-22T21:06:22.073790Z",
     "iopub.status.busy": "2021-11-22T21:06:22.073421Z",
     "iopub.status.idle": "2021-11-22T21:06:22.074768Z",
     "shell.execute_reply": "2021-11-22T21:06:22.074996Z"
    }
   },
   "outputs": [
    {
     "data": {
      "text/html": [
       "<div><i>Table length=4</i>\n",
       "<table id=\"table5441296896\" class=\"table-striped table-bordered table-condensed\">\n",
       "<thead><tr><th>time_min</th><th>time_max</th><th>e_min [1]</th><th>e_max [1]</th><th>flux [1]</th><th>flux_err [1]</th></tr></thead>\n",
       "<thead><tr><th></th><th></th><th>TeV</th><th>TeV</th><th>1 / (cm2 s)</th><th>1 / (cm2 s)</th></tr></thead>\n",
       "<thead><tr><th>float64</th><th>float64</th><th>float64</th><th>float64</th><th>float64</th><th>float64</th></tr></thead>\n",
       "<tr><td>53343.922340092584</td><td>53343.94186555555</td><td>1.191457161449437</td><td>10.000000000000002</td><td>2.038021021453472e-11</td><td>2.120583429884751e-12</td></tr>\n",
       "<tr><td>53343.954215092584</td><td>53343.97369425925</td><td>1.191457161449437</td><td>10.000000000000002</td><td>2.0610953064401673e-11</td><td>2.1406685569472896e-12</td></tr>\n",
       "<tr><td>53345.96198129629</td><td>53345.98149518518</td><td>1.191457161449437</td><td>10.000000000000002</td><td>2.180692935101118e-11</td><td>2.7893729758578242e-12</td></tr>\n",
       "<tr><td>53347.91319657407</td><td>53347.932710462956</td><td>1.191457161449437</td><td>10.000000000000002</td><td>2.5084814277817022e-11</td><td>2.914165879735225e-12</td></tr>\n",
       "</table></div>"
      ],
      "text/plain": [
       "<Table length=4>\n",
       "     time_min           time_max          e_min [1]         e_max [1]             flux [1]             flux_err [1]     \n",
       "                                             TeV               TeV              1 / (cm2 s)            1 / (cm2 s)      \n",
       "     float64            float64            float64           float64              float64                float64        \n",
       "------------------ ------------------ ----------------- ------------------ ---------------------- ----------------------\n",
       "53343.922340092584  53343.94186555555 1.191457161449437 10.000000000000002  2.038021021453472e-11  2.120583429884751e-12\n",
       "53343.954215092584  53343.97369425925 1.191457161449437 10.000000000000002 2.0610953064401673e-11 2.1406685569472896e-12\n",
       " 53345.96198129629  53345.98149518518 1.191457161449437 10.000000000000002  2.180692935101118e-11 2.7893729758578242e-12\n",
       " 53347.91319657407 53347.932710462956 1.191457161449437 10.000000000000002 2.5084814277817022e-11  2.914165879735225e-12"
      ]
     },
     "execution_count": 11,
     "metadata": {},
     "output_type": "execute_result"
    }
   ],
   "source": [
    "table = lc_3d.to_table(format=\"lightcurve\", sed_type=\"flux\")\n",
    "table[\"time_min\", \"time_max\", \"e_min\", \"e_max\", \"flux\", \"flux_err\"]"
   ]
  },
  {
   "cell_type": "markdown",
   "metadata": {},
   "source": [
    "## Running the light curve extraction in 1D"
   ]
  },
  {
   "cell_type": "markdown",
   "metadata": {},
   "source": [
    "### Building the 1D analysis configuration\n"
   ]
  },
  {
   "cell_type": "code",
   "execution_count": 12,
   "metadata": {
    "execution": {
     "iopub.execute_input": "2021-11-22T21:06:22.077365Z",
     "iopub.status.busy": "2021-11-22T21:06:22.077067Z",
     "iopub.status.idle": "2021-11-22T21:06:22.078185Z",
     "shell.execute_reply": "2021-11-22T21:06:22.078363Z"
    }
   },
   "outputs": [],
   "source": [
    "conf_1d = AnalysisConfig()"
   ]
  },
  {
   "cell_type": "markdown",
   "metadata": {},
   "source": [
    "#### Definition of the data selection\n",
    "\n",
    "Here we use the Crab runs from the HESS DL3 data release 1"
   ]
  },
  {
   "cell_type": "code",
   "execution_count": 13,
   "metadata": {
    "execution": {
     "iopub.execute_input": "2021-11-22T21:06:22.080202Z",
     "iopub.status.busy": "2021-11-22T21:06:22.079897Z",
     "iopub.status.idle": "2021-11-22T21:06:22.081222Z",
     "shell.execute_reply": "2021-11-22T21:06:22.081044Z"
    }
   },
   "outputs": [],
   "source": [
    "conf_1d.observations.obs_ids = [23523, 23526, 23559, 23592]"
   ]
  },
  {
   "cell_type": "markdown",
   "metadata": {},
   "source": [
    "#### Definition of the dataset geometry"
   ]
  },
  {
   "cell_type": "code",
   "execution_count": 14,
   "metadata": {
    "execution": {
     "iopub.execute_input": "2021-11-22T21:06:22.084023Z",
     "iopub.status.busy": "2021-11-22T21:06:22.083734Z",
     "iopub.status.idle": "2021-11-22T21:06:22.084846Z",
     "shell.execute_reply": "2021-11-22T21:06:22.085000Z"
    }
   },
   "outputs": [],
   "source": [
    "# We want a 1D analysis\n",
    "conf_1d.datasets.type = \"1d\"\n",
    "\n",
    "# We want to extract the data by observation and therefore to not stack them\n",
    "conf_1d.datasets.stack = False\n",
    "\n",
    "# Here we define the ON region and make sure that PSF leakage is corrected\n",
    "conf_1d.datasets.on_region = dict(\n",
    "    frame=\"icrs\",\n",
    "    lon=83.63308 * u.deg,\n",
    "    lat=22.01450 * u.deg,\n",
    "    radius=0.1 * u.deg,\n",
    ")\n",
    "conf_1d.datasets.containment_correction = True\n",
    "\n",
    "# Finally we define the energy binning for the spectra\n",
    "conf_1d.datasets.geom.axes.energy = dict(\n",
    "    min=0.7 * u.TeV, max=10 * u.TeV, nbins=5\n",
    ")\n",
    "conf_1d.datasets.geom.axes.energy_true = dict(\n",
    "    min=0.3 * u.TeV, max=20 * u.TeV, nbins=20\n",
    ")"
   ]
  },
  {
   "cell_type": "markdown",
   "metadata": {},
   "source": [
    "### Run the 1D data reduction"
   ]
  },
  {
   "cell_type": "code",
   "execution_count": 15,
   "metadata": {
    "execution": {
     "iopub.execute_input": "2021-11-22T21:06:22.086733Z",
     "iopub.status.busy": "2021-11-22T21:06:22.086386Z",
     "iopub.status.idle": "2021-11-22T21:06:22.737265Z",
     "shell.execute_reply": "2021-11-22T21:06:22.737460Z"
    }
   },
   "outputs": [
    {
     "name": "stderr",
     "output_type": "stream",
     "text": [
      "Setting logging config: {'level': 'INFO', 'filename': None, 'filemode': None, 'format': None, 'datefmt': None}\n",
      "Fetching observations.\n",
      "No HDU found matching: OBS_ID = 23523, HDU_TYPE = rad_max, HDU_CLASS = None\n",
      "No HDU found matching: OBS_ID = 23526, HDU_TYPE = rad_max, HDU_CLASS = None\n",
      "No HDU found matching: OBS_ID = 23559, HDU_TYPE = rad_max, HDU_CLASS = None\n",
      "No HDU found matching: OBS_ID = 23592, HDU_TYPE = rad_max, HDU_CLASS = None\n",
      "Number of selected observations: 4\n",
      "Reducing spectrum datasets.\n",
      "Creating the background Maker.\n",
      "No background maker set. Check configuration.\n"
     ]
    }
   ],
   "source": [
    "analysis_1d = Analysis(conf_1d)\n",
    "analysis_1d.get_observations()\n",
    "analysis_1d.get_datasets()"
   ]
  },
  {
   "cell_type": "markdown",
   "metadata": {},
   "source": [
    "### Define the model to be used\n",
    "\n",
    "Here we don't try to fit the model parameters to the whole dataset, but we use predefined values instead. "
   ]
  },
  {
   "cell_type": "code",
   "execution_count": 16,
   "metadata": {
    "execution": {
     "iopub.execute_input": "2021-11-22T21:06:22.741768Z",
     "iopub.status.busy": "2021-11-22T21:06:22.741472Z",
     "iopub.status.idle": "2021-11-22T21:06:22.742739Z",
     "shell.execute_reply": "2021-11-22T21:06:22.742982Z"
    }
   },
   "outputs": [],
   "source": [
    "target_position = SkyCoord(ra=83.63308, dec=22.01450, unit=\"deg\")\n",
    "\n",
    "spectral_model = PowerLawSpectralModel(\n",
    "    index=2.702,\n",
    "    amplitude=4.712e-11 * u.Unit(\"1 / (cm2 s TeV)\"),\n",
    "    reference=1 * u.TeV,\n",
    ")\n",
    "\n",
    "sky_model = SkyModel(spectral_model=spectral_model, name=\"crab\")\n",
    "# Now we freeze these parameters that we don't want the light curve estimator to change\n",
    "sky_model.parameters[\"index\"].frozen = True"
   ]
  },
  {
   "cell_type": "markdown",
   "metadata": {},
   "source": [
    "We assign the model to be fitted to each dataset. We can use the same `~gammapy.modeling.models.SkyModel` as before."
   ]
  },
  {
   "cell_type": "code",
   "execution_count": 17,
   "metadata": {
    "execution": {
     "iopub.execute_input": "2021-11-22T21:06:22.744886Z",
     "iopub.status.busy": "2021-11-22T21:06:22.744528Z",
     "iopub.status.idle": "2021-11-22T21:06:22.746244Z",
     "shell.execute_reply": "2021-11-22T21:06:22.746471Z"
    }
   },
   "outputs": [
    {
     "name": "stderr",
     "output_type": "stream",
     "text": [
      "Reading model.\n",
      "Models\n",
      "\n",
      "Component 0: SkyModel\n",
      "\n",
      "  Name                      : crab\n",
      "  Datasets names            : None\n",
      "  Spectral model type       : PowerLawSpectralModel\n",
      "  Spatial  model type       : \n",
      "  Temporal model type       : \n",
      "  Parameters:\n",
      "    index        (frozen)   :      2.702                   \n",
      "    amplitude               :   4.71e-11   +/- 0.0e+00 1 / (cm2 s TeV)\n",
      "    reference    (frozen)   :      1.000       TeV         \n",
      "\n",
      "\n"
     ]
    }
   ],
   "source": [
    "models = Models([sky_model])\n",
    "analysis_1d.set_models(models)"
   ]
  },
  {
   "cell_type": "markdown",
   "metadata": {},
   "source": [
    "### Extracting the light curve"
   ]
  },
  {
   "cell_type": "code",
   "execution_count": 18,
   "metadata": {
    "execution": {
     "iopub.execute_input": "2021-11-22T21:06:22.812622Z",
     "iopub.status.busy": "2021-11-22T21:06:22.755930Z",
     "iopub.status.idle": "2021-11-22T21:06:22.966514Z",
     "shell.execute_reply": "2021-11-22T21:06:22.966712Z"
    }
   },
   "outputs": [],
   "source": [
    "lc_maker_1d = LightCurveEstimator(\n",
    "    energy_edges=[1, 10] * u.TeV, source=\"crab\", reoptimize=False\n",
    ")\n",
    "lc_1d = lc_maker_1d.run(analysis_1d.datasets)"
   ]
  },
  {
   "cell_type": "code",
   "execution_count": 19,
   "metadata": {
    "execution": {
     "iopub.execute_input": "2021-11-22T21:06:22.968981Z",
     "iopub.status.busy": "2021-11-22T21:06:22.968627Z",
     "iopub.status.idle": "2021-11-22T21:06:22.970135Z",
     "shell.execute_reply": "2021-11-22T21:06:22.970290Z"
    }
   },
   "outputs": [
    {
     "data": {
      "text/plain": [
       "['energy', 'time']"
      ]
     },
     "execution_count": 19,
     "metadata": {},
     "output_type": "execute_result"
    }
   ],
   "source": [
    "lc_1d.geom.axes.names"
   ]
  },
  {
   "cell_type": "code",
   "execution_count": 20,
   "metadata": {
    "execution": {
     "iopub.execute_input": "2021-11-22T21:06:22.973941Z",
     "iopub.status.busy": "2021-11-22T21:06:22.973629Z",
     "iopub.status.idle": "2021-11-22T21:06:22.996113Z",
     "shell.execute_reply": "2021-11-22T21:06:22.996359Z"
    }
   },
   "outputs": [
    {
     "data": {
      "text/html": [
       "<div><i>Table length=4</i>\n",
       "<table id=\"table5441185872\" class=\"table-striped table-bordered table-condensed\">\n",
       "<thead><tr><th>time_min</th><th>time_max</th><th>e_ref [1]</th><th>e_min [1]</th><th>e_max [1]</th><th>flux [1]</th><th>flux_err [1]</th><th>ts [1]</th><th>sqrt_ts [1]</th><th>npred [1,4]</th><th>npred_excess [1,4]</th><th>stat [1]</th><th>is_ul [1]</th><th>counts [1,4]</th><th>success [1]</th></tr></thead>\n",
       "<thead><tr><th></th><th></th><th>TeV</th><th>TeV</th><th>TeV</th><th>1 / (cm2 s)</th><th>1 / (cm2 s)</th><th></th><th></th><th></th><th></th><th></th><th></th><th></th><th></th></tr></thead>\n",
       "<thead><tr><th>float64</th><th>float64</th><th>float64</th><th>float64</th><th>float64</th><th>float64</th><th>float64</th><th>float64</th><th>float64</th><th>float64</th><th>float64</th><th>float64</th><th>bool</th><th>float64</th><th>bool</th></tr></thead>\n",
       "<tr><td>53343.922340092584</td><td>53343.94186555555</td><td>3.451749065980083</td><td>1.191457161449437</td><td>10.000000000000002</td><td>2.2143915492725492e-11</td><td>2.460434433816868e-12</td><td>9669.936813659744</td><td>98.33583687374478</td><td>80.99951140247454 .. nan</td><td>80.99950408935547 .. nan</td><td>-344.4671901995785</td><td>False</td><td>81.0 .. nan</td><td>True</td></tr>\n",
       "<tr><td>53343.954215092584</td><td>53343.97369425925</td><td>3.451749065980083</td><td>1.191457161449437</td><td>10.000000000000002</td><td>1.8788302692955377e-11</td><td>2.229760760425012e-12</td><td>8464.48492145235</td><td>92.0026354049293</td><td>nan .. nan</td><td>nan .. nan</td><td>-290.3078440983763</td><td>False</td><td>nan .. nan</td><td>True</td></tr>\n",
       "<tr><td>53345.96198129629</td><td>53345.98149518518</td><td>3.451749065980083</td><td>1.191457161449437</td><td>10.000000000000002</td><td>2.155318731462195e-11</td><td>3.018049212497754e-12</td><td>6065.962231301234</td><td>77.88428744811905</td><td>nan .. nan</td><td>nan .. nan</td><td>-194.3702461596488</td><td>False</td><td>nan .. nan</td><td>True</td></tr>\n",
       "<tr><td>53347.91319657407</td><td>53347.932710462956</td><td>3.451749065980083</td><td>1.191457161449437</td><td>10.000000000000002</td><td>2.4853613061210656e-11</td><td>3.235664079237356e-12</td><td>7019.342401850264</td><td>83.78151587223917</td><td>nan .. 58.999557457021695</td><td>nan .. 58.99955749511719</td><td>-226.71637982372326</td><td>False</td><td>nan .. 59.0</td><td>True</td></tr>\n",
       "</table></div>"
      ],
      "text/plain": [
       "<Table length=4>\n",
       "     time_min           time_max          e_ref [1]         e_min [1]     ...       stat [1]      is_ul [1] counts [1,4] success [1]\n",
       "                                             TeV               TeV        ...                                                       \n",
       "     float64            float64            float64           float64      ...       float64          bool     float64        bool   \n",
       "------------------ ------------------ ----------------- ----------------- ... ------------------- --------- ------------ -----------\n",
       "53343.922340092584  53343.94186555555 3.451749065980083 1.191457161449437 ...  -344.4671901995785     False  81.0 .. nan        True\n",
       "53343.954215092584  53343.97369425925 3.451749065980083 1.191457161449437 ...  -290.3078440983763     False   nan .. nan        True\n",
       " 53345.96198129629  53345.98149518518 3.451749065980083 1.191457161449437 ...  -194.3702461596488     False   nan .. nan        True\n",
       " 53347.91319657407 53347.932710462956 3.451749065980083 1.191457161449437 ... -226.71637982372326     False  nan .. 59.0        True"
      ]
     },
     "execution_count": 20,
     "metadata": {},
     "output_type": "execute_result"
    }
   ],
   "source": [
    "lc_1d.to_table(sed_type=\"flux\", format=\"lightcurve\")"
   ]
  },
  {
   "cell_type": "markdown",
   "metadata": {},
   "source": [
    "### Compare results\n",
    "\n",
    "Finally we compare the result for the 1D and 3D lightcurve in a single figure:"
   ]
  },
  {
   "cell_type": "code",
   "execution_count": 21,
   "metadata": {
    "execution": {
     "iopub.execute_input": "2021-11-22T21:06:23.033087Z",
     "iopub.status.busy": "2021-11-22T21:06:23.013165Z",
     "iopub.status.idle": "2021-11-22T21:06:23.141449Z",
     "shell.execute_reply": "2021-11-22T21:06:23.141705Z"
    },
    "nbsphinx-thumbnail": {
     "tooltip": "Compute per-observation and nightly fluxes of four Crab nebula observations."
    }
   },
   "outputs": [
    {
     "data": {
      "text/plain": [
       "<matplotlib.legend.Legend at 0x144c3de80>"
      ]
     },
     "execution_count": 21,
     "metadata": {},
     "output_type": "execute_result"
    },
    {
     "data": {
      "image/png": "[encoded data removed]",
      "text/plain": [
       "<Figure size 432x288 with 1 Axes>"
      ]
     },
     "metadata": {
      "needs_background": "light"
     },
     "output_type": "display_data"
    }
   ],
   "source": [
    "ax = lc_1d.plot(marker=\"o\", label=\"1D\")\n",
    "lc_3d.plot(ax=ax, marker=\"o\", label=\"3D\")\n",
    "plt.legend()"
   ]
  },
  {
   "cell_type": "markdown",
   "metadata": {},
   "source": [
    "## Night-wise LC estimation\n",
    "\n",
    "Here we want to extract a night curve per night. We define the time intervals that cover the three nights."
   ]
  },
  {
   "cell_type": "code",
   "execution_count": 22,
   "metadata": {
    "execution": {
     "iopub.execute_input": "2021-11-22T21:06:23.144201Z",
     "iopub.status.busy": "2021-11-22T21:06:23.143895Z",
     "iopub.status.idle": "2021-11-22T21:06:23.145026Z",
     "shell.execute_reply": "2021-11-22T21:06:23.145267Z"
    }
   },
   "outputs": [],
   "source": [
    "time_intervals = [\n",
    "    Time([53343.5, 53344.5], format=\"mjd\", scale=\"utc\"),\n",
    "    Time([53345.5, 53346.5], format=\"mjd\", scale=\"utc\"),\n",
    "    Time([53347.5, 53348.5], format=\"mjd\", scale=\"utc\"),\n",
    "]"
   ]
  },
  {
   "cell_type": "markdown",
   "metadata": {},
   "source": [
    "To compute the LC on the time intervals defined above, we pass the `LightCurveEstimator` the list of time intervals. \n",
    "\n",
    "Internally, datasets are grouped per time interval and a flux extraction is performed for each group."
   ]
  },
  {
   "cell_type": "code",
   "execution_count": 23,
   "metadata": {
    "execution": {
     "iopub.execute_input": "2021-11-22T21:06:23.163529Z",
     "iopub.status.busy": "2021-11-22T21:06:23.163215Z",
     "iopub.status.idle": "2021-11-22T21:06:24.440077Z",
     "shell.execute_reply": "2021-11-22T21:06:24.440333Z"
    }
   },
   "outputs": [
    {
     "data": {
      "image/png": "[encoded data removed]",
      "text/plain": [
       "<Figure size 432x288 with 2 Axes>"
      ]
     },
     "metadata": {
      "needs_background": "light"
     },
     "output_type": "display_data"
    }
   ],
   "source": [
    "lc_maker_1d = LightCurveEstimator(\n",
    "    energy_edges=[1, 10] * u.TeV,\n",
    "    time_intervals=time_intervals,\n",
    "    source=\"crab\",\n",
    "    reoptimize=False,\n",
    "    selection_optional=\"all\",\n",
    ")\n",
    "\n",
    "nightwise_lc = lc_maker_1d.run(analysis_1d.datasets)\n",
    "\n",
    "nightwise_lc.plot(color=\"tab:orange\")\n",
    "ax = nightwise_lc.plot_ts_profiles()\n",
    "ax.set_ylim(1e-12, 3e-12);"
   ]
  },
  {
   "cell_type": "markdown",
   "metadata": {},
   "source": [
    "## What next?\n",
    "\n",
    "When sources are bright enough to look for variability at small time scales, the per-observation time binning is no longer relevant. One can easily extend the light curve estimation approach presented above to any time binning. This is demonstrated in the [following tutorial](light_curve_flare.ipynb) which shows the extraction of the lightcurve of an AGN flare."
   ]
  },
  {
   "cell_type": "code",
   "execution_count": null,
   "metadata": {},
   "outputs": [],
   "source": []
  }
 ],
 "metadata": {
  "celltoolbar": "Edit Metadata",
  "kernelspec": {
   "display_name": "Python 3",
   "language": "python",
   "name": "python3"
  },
  "language_info": {
   "codemirror_mode": {
    "name": "ipython",
    "version": 3
   },
   "file_extension": ".py",
   "mimetype": "text/x-python",
   "name": "python",
   "nbconvert_exporter": "python",
   "pygments_lexer": "ipython3",
   "version": "3.9.0"
  },
  "nbsphinx": {
   "orphan": true
  }
 },
 "nbformat": 4,
 "nbformat_minor": 4
}
