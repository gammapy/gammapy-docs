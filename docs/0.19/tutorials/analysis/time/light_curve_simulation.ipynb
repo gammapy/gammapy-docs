{
 "cells": [
  {
   "cell_type": "markdown",
   "metadata": {},
   "source": [
    "\n",
    "<div class=\"alert alert-info\">\n",
    "\n",
    "**This is a fixed-text formatted version of a Jupyter notebook**\n",
    "\n",
    "- Try online[![Binder](https://static.mybinder.org/badge.svg)](https://mybinder.org/v2/gh/gammapy/gammapy-webpage/v0.19?urlpath=lab/tree/analysis/time/light_curve_simulation.ipynb)\n",
    "- You may download all the notebooks in the documentation as a\n",
    "[tar file](../../../_downloads/notebooks-0.19.tar).\n",
    "- **Source files:**\n",
    "[light_curve_simulation.ipynb](../../../_static/notebooks/light_curve_simulation.ipynb) |\n",
    "[light_curve_simulation.py](../../../_static/notebooks/light_curve_simulation.py)\n",
    "</div>\n"
   ]
  },
  {
   "cell_type": "markdown",
   "metadata": {},
   "source": [
    "# Simulating and fitting a time varying source\n",
    "\n",
    "## Prerequisites:\n",
    "\n",
    "- To understand how a single binned simulation works, please refer to [spectrum_simulation](../1D/spectrum_simulation.ipynb) [simulate_3d](../3D/simulate_3d.ipynb) for 1D and 3D simulations respectively.\n",
    "- For details of light curve extraction using gammapy, refer to the two tutorials [light_curve](light_curve.ipynb) and [light_curve_flare](light_curve_flare.ipynb) \n",
    "\n",
    "## Context\n",
    "\n",
    "Frequently, studies of variable sources (eg: decaying GRB light curves, AGN flares, etc) require time variable simulations. For most use cases, generating an event list is an overkill, and it suffices to use binned simulations using a temporal model.\n",
    "\n",
    "**Objective: Simulate and fit a time decaying light curve of a source with CTA using the CTA 1DC response**\n",
    "\n",
    "## Proposed approach:\n",
    "\n",
    "We will simulate 10 spectral datasets within given time intervals (Good Time Intervals) following a given spectral (a power law) and temporal profile (an exponential decay, with a decay time of 6 hr ). These are then analysed using the light curve estimator to obtain flux points. Then, we re-fit the simulated datasets to reconstruct back the injected profiles.\n",
    "\n",
    "In summary, necessary steps are:\n",
    "\n",
    "- Choose observation parameters including a list of `gammapy.data.GTI`\n",
    "- Define temporal and spectral models from :ref:model-gallery as per science case\n",
    "- Perform the simulation (in 1D or 3D)\n",
    "- Extract the light curve from the reduced dataset as shown in [light curve notebook](light_curve.ipynb)\n",
    "- Optionally, we show here how to fit the simulated datasets using a source model \n",
    "\n",
    "\n",
    "## Setup \n",
    "\n",
    "As usual, we'll start with some general imports..."
   ]
  },
  {
   "cell_type": "markdown",
   "metadata": {},
   "source": [
    "## Setup"
   ]
  },
  {
   "cell_type": "code",
   "execution_count": 1,
   "metadata": {
    "execution": {
     "iopub.execute_input": "2021-11-22T21:05:30.314867Z",
     "iopub.status.busy": "2021-11-22T21:05:30.313354Z",
     "iopub.status.idle": "2021-11-22T21:05:30.689080Z",
     "shell.execute_reply": "2021-11-22T21:05:30.689280Z"
    }
   },
   "outputs": [],
   "source": [
    "%matplotlib inline\n",
    "import matplotlib.pyplot as plt\n",
    "import numpy as np\n",
    "import astropy.units as u\n",
    "from astropy.coordinates import SkyCoord\n",
    "from astropy.time import Time\n",
    "\n",
    "import logging\n",
    "\n",
    "log = logging.getLogger(__name__)"
   ]
  },
  {
   "cell_type": "markdown",
   "metadata": {},
   "source": [
    "And some gammapy specific imports"
   ]
  },
  {
   "cell_type": "code",
   "execution_count": 2,
   "metadata": {
    "execution": {
     "iopub.execute_input": "2021-11-22T21:05:30.691851Z",
     "iopub.status.busy": "2021-11-22T21:05:30.691458Z",
     "iopub.status.idle": "2021-11-22T21:05:31.009334Z",
     "shell.execute_reply": "2021-11-22T21:05:31.009526Z"
    }
   },
   "outputs": [],
   "source": [
    "from gammapy.data import Observation\n",
    "from gammapy.irf import load_cta_irfs\n",
    "from gammapy.datasets import SpectrumDataset, Datasets\n",
    "from gammapy.modeling.models import (\n",
    "    PowerLawSpectralModel,\n",
    "    ExpDecayTemporalModel,\n",
    "    SkyModel,\n",
    ")\n",
    "from gammapy.maps import MapAxis, RegionGeom\n",
    "from gammapy.estimators import LightCurveEstimator\n",
    "from gammapy.makers import SpectrumDatasetMaker\n",
    "from gammapy.modeling import Fit"
   ]
  },
  {
   "cell_type": "markdown",
   "metadata": {},
   "source": [
    "## Simulating a light curve\n",
    "\n",
    "We will simulate 10 datasets using an `PowerLawSpectralModel` and a `ExpDecayTemporalModel`. The important thing to note here is how to attach a different `GTI` to each dataset."
   ]
  },
  {
   "cell_type": "code",
   "execution_count": 3,
   "metadata": {
    "execution": {
     "iopub.execute_input": "2021-11-22T21:05:31.012052Z",
     "iopub.status.busy": "2021-11-22T21:05:31.011682Z",
     "iopub.status.idle": "2021-11-22T21:05:31.059776Z",
     "shell.execute_reply": "2021-11-22T21:05:31.059947Z"
    }
   },
   "outputs": [
    {
     "name": "stderr",
     "output_type": "stream",
     "text": [
      "Invalid unit found in background table! Assuming (s-1 MeV-1 sr-1)\n"
     ]
    }
   ],
   "source": [
    "# Loading IRFs\n",
    "irfs = load_cta_irfs(\n",
    "    \"$GAMMAPY_DATA/cta-1dc/caldb/data/cta/1dc/bcf/South_z20_50h/irf_file.fits\"\n",
    ")"
   ]
  },
  {
   "cell_type": "code",
   "execution_count": 4,
   "metadata": {
    "execution": {
     "iopub.execute_input": "2021-11-22T21:05:31.070907Z",
     "iopub.status.busy": "2021-11-22T21:05:31.070610Z",
     "iopub.status.idle": "2021-11-22T21:05:31.071746Z",
     "shell.execute_reply": "2021-11-22T21:05:31.071934Z"
    }
   },
   "outputs": [],
   "source": [
    "# Reconstructed and true energy axis\n",
    "energy_axis = MapAxis.from_edges(\n",
    "    np.logspace(-0.5, 1.0, 10), unit=\"TeV\", name=\"energy\", interp=\"log\"\n",
    ")\n",
    "energy_axis_true = MapAxis.from_edges(\n",
    "    np.logspace(-1.2, 2.0, 31), unit=\"TeV\", name=\"energy_true\", interp=\"log\"\n",
    ")\n",
    "\n",
    "geom = RegionGeom.create(\"galactic;circle(0, 0, 0.11)\", axes=[energy_axis])"
   ]
  },
  {
   "cell_type": "code",
   "execution_count": 5,
   "metadata": {
    "execution": {
     "iopub.execute_input": "2021-11-22T21:05:31.073975Z",
     "iopub.status.busy": "2021-11-22T21:05:31.073571Z",
     "iopub.status.idle": "2021-11-22T21:05:31.075126Z",
     "shell.execute_reply": "2021-11-22T21:05:31.075362Z"
    }
   },
   "outputs": [],
   "source": [
    "# Pointing position\n",
    "pointing = SkyCoord(0.5, 0.5, unit=\"deg\", frame=\"galactic\")"
   ]
  },
  {
   "cell_type": "markdown",
   "metadata": {},
   "source": [
    "Note that observations are usually conducted in  Wobble mode, in which the source is not in the center of the camera. This allows to have a symmetrical sky position from which background can be estimated."
   ]
  },
  {
   "cell_type": "code",
   "execution_count": 6,
   "metadata": {
    "execution": {
     "iopub.execute_input": "2021-11-22T21:05:31.079171Z",
     "iopub.status.busy": "2021-11-22T21:05:31.078875Z",
     "iopub.status.idle": "2021-11-22T21:05:31.086571Z",
     "shell.execute_reply": "2021-11-22T21:05:31.086793Z"
    }
   },
   "outputs": [
    {
     "name": "stderr",
     "output_type": "stream",
     "text": [
      "/Users/adonath/software/mambaforge/envs/gammapy-dev/lib/python3.9/site-packages/astropy/units/quantity.py:486: RuntimeWarning: overflow encountered in exp\n",
      "  result = super().__array_ufunc__(function, method, *arrays, **kwargs)\n",
      "/Users/adonath/software/mambaforge/envs/gammapy-dev/lib/python3.9/site-packages/astropy/units/quantity.py:486: RuntimeWarning: invalid value encountered in subtract\n",
      "  result = super().__array_ufunc__(function, method, *arrays, **kwargs)\n"
     ]
    }
   ],
   "source": [
    "# Define the source model: A combination of spectral and temporal model\n",
    "\n",
    "gti_t0 = Time(\"2020-03-01\")\n",
    "spectral_model = PowerLawSpectralModel(\n",
    "    index=3, amplitude=\"1e-11 cm-2 s-1 TeV-1\", reference=\"1 TeV\"\n",
    ")\n",
    "temporal_model = ExpDecayTemporalModel(t0=\"6 h\", t_ref=gti_t0.mjd * u.d)\n",
    "\n",
    "model_simu = SkyModel(\n",
    "    spectral_model=spectral_model,\n",
    "    temporal_model=temporal_model,\n",
    "    name=\"model-simu\",\n",
    ")"
   ]
  },
  {
   "cell_type": "code",
   "execution_count": 7,
   "metadata": {
    "execution": {
     "iopub.execute_input": "2021-11-22T21:05:31.090804Z",
     "iopub.status.busy": "2021-11-22T21:05:31.090379Z",
     "iopub.status.idle": "2021-11-22T21:05:31.092402Z",
     "shell.execute_reply": "2021-11-22T21:05:31.092576Z"
    }
   },
   "outputs": [
    {
     "data": {
      "text/html": [
       "<div><i>Table length=5</i>\n",
       "<table id=\"table4695539472\" class=\"table-striped table-bordered table-condensed\">\n",
       "<thead><tr><th>type</th><th>name</th><th>value</th><th>unit</th><th>error</th><th>min</th><th>max</th><th>frozen</th><th>link</th></tr></thead>\n",
       "<thead><tr><th>str8</th><th>str9</th><th>float64</th><th>str14</th><th>int64</th><th>float64</th><th>float64</th><th>bool</th><th>str1</th></tr></thead>\n",
       "<tr><td>spectral</td><td>index</td><td>3.0000e+00</td><td></td><td>0.000e+00</td><td>nan</td><td>nan</td><td>False</td><td></td></tr>\n",
       "<tr><td>spectral</td><td>amplitude</td><td>1.0000e-11</td><td>cm-2 s-1 TeV-1</td><td>0.000e+00</td><td>nan</td><td>nan</td><td>False</td><td></td></tr>\n",
       "<tr><td>spectral</td><td>reference</td><td>1.0000e+00</td><td>TeV</td><td>0.000e+00</td><td>nan</td><td>nan</td><td>True</td><td></td></tr>\n",
       "<tr><td>temporal</td><td>t0</td><td>6.0000e+00</td><td>h</td><td>0.000e+00</td><td>nan</td><td>nan</td><td>False</td><td></td></tr>\n",
       "<tr><td>temporal</td><td>t_ref</td><td>5.8909e+04</td><td>d</td><td>0.000e+00</td><td>nan</td><td>nan</td><td>True</td><td></td></tr>\n",
       "</table></div>"
      ],
      "text/plain": [
       "<Table length=5>\n",
       "  type      name     value         unit        error     min     max   frozen link\n",
       "  str8      str9    float64       str14        int64   float64 float64  bool  str1\n",
       "-------- --------- ---------- -------------- --------- ------- ------- ------ ----\n",
       "spectral     index 3.0000e+00                0.000e+00     nan     nan  False     \n",
       "spectral amplitude 1.0000e-11 cm-2 s-1 TeV-1 0.000e+00     nan     nan  False     \n",
       "spectral reference 1.0000e+00            TeV 0.000e+00     nan     nan   True     \n",
       "temporal        t0 6.0000e+00              h 0.000e+00     nan     nan  False     \n",
       "temporal     t_ref 5.8909e+04              d 0.000e+00     nan     nan   True     "
      ]
     },
     "execution_count": 7,
     "metadata": {},
     "output_type": "execute_result"
    }
   ],
   "source": [
    "# Look at the model\n",
    "model_simu.parameters.to_table()"
   ]
  },
  {
   "cell_type": "markdown",
   "metadata": {},
   "source": [
    "Now, define the start and observation livetime wrt to the reference time, `gti_t0`"
   ]
  },
  {
   "cell_type": "code",
   "execution_count": 8,
   "metadata": {
    "execution": {
     "iopub.execute_input": "2021-11-22T21:05:31.094619Z",
     "iopub.status.busy": "2021-11-22T21:05:31.094331Z",
     "iopub.status.idle": "2021-11-22T21:05:31.095404Z",
     "shell.execute_reply": "2021-11-22T21:05:31.095630Z"
    }
   },
   "outputs": [],
   "source": [
    "n_obs = 10\n",
    "tstart = [1, 2, 3, 5, 8, 10, 20, 22, 23, 24] * u.h\n",
    "lvtm = [55, 25, 26, 40, 40, 50, 40, 52, 43, 47] * u.min"
   ]
  },
  {
   "cell_type": "markdown",
   "metadata": {},
   "source": [
    "Now perform the simulations"
   ]
  },
  {
   "cell_type": "code",
   "execution_count": 9,
   "metadata": {
    "execution": {
     "iopub.execute_input": "2021-11-22T21:05:31.100461Z",
     "iopub.status.busy": "2021-11-22T21:05:31.100119Z",
     "iopub.status.idle": "2021-11-22T21:05:32.062086Z",
     "shell.execute_reply": "2021-11-22T21:05:32.062266Z"
    }
   },
   "outputs": [],
   "source": [
    "datasets = Datasets()\n",
    "\n",
    "empty = SpectrumDataset.create(\n",
    "    geom=geom, energy_axis_true=energy_axis_true, name=\"empty\"\n",
    ")\n",
    "\n",
    "maker = SpectrumDatasetMaker(selection=[\"exposure\", \"background\", \"edisp\"])\n",
    "\n",
    "for idx in range(n_obs):\n",
    "    obs = Observation.create(\n",
    "        pointing=pointing,\n",
    "        livetime=lvtm[idx],\n",
    "        tstart=tstart[idx],\n",
    "        irfs=irfs,\n",
    "        reference_time=gti_t0,\n",
    "        obs_id=idx,\n",
    "    )\n",
    "    empty_i = empty.copy(name=f\"dataset-{idx}\")\n",
    "    dataset = maker.run(empty_i, obs)\n",
    "    dataset.models = model_simu\n",
    "    dataset.fake()\n",
    "    datasets.append(dataset)"
   ]
  },
  {
   "cell_type": "markdown",
   "metadata": {},
   "source": [
    "The reduced datasets have been successfully simulated. Let's take a quick look into our datasets."
   ]
  },
  {
   "cell_type": "code",
   "execution_count": 10,
   "metadata": {
    "execution": {
     "iopub.execute_input": "2021-11-22T21:05:32.065323Z",
     "iopub.status.busy": "2021-11-22T21:05:32.064931Z",
     "iopub.status.idle": "2021-11-22T21:05:32.089276Z",
     "shell.execute_reply": "2021-11-22T21:05:32.089460Z"
    }
   },
   "outputs": [
    {
     "data": {
      "text/html": [
       "<div><i>Table length=10</i>\n",
       "<table id=\"table5220317696\" class=\"table-striped table-bordered table-condensed\">\n",
       "<thead><tr><th>name</th><th>counts</th><th>background</th><th>excess</th><th>sqrt_ts</th><th>npred</th><th>npred_background</th><th>npred_signal</th><th>exposure_min</th><th>exposure_max</th><th>livetime</th><th>ontime</th><th>counts_rate</th><th>background_rate</th><th>excess_rate</th><th>n_bins</th><th>n_fit_bins</th><th>stat_type</th><th>stat_sum</th></tr></thead>\n",
       "<thead><tr><th></th><th></th><th></th><th></th><th></th><th></th><th></th><th></th><th>m2 s</th><th>m2 s</th><th>s</th><th>s</th><th>1 / s</th><th>1 / s</th><th>1 / s</th><th></th><th></th><th></th><th></th></tr></thead>\n",
       "<thead><tr><th>str9</th><th>int64</th><th>float64</th><th>float64</th><th>float64</th><th>float64</th><th>float64</th><th>float64</th><th>float64</th><th>float64</th><th>float64</th><th>float64</th><th>float64</th><th>float64</th><th>float64</th><th>int64</th><th>int64</th><th>str4</th><th>float64</th></tr></thead>\n",
       "<tr><td>stacked</td><td>838</td><td>20.318769454956055</td><td>817.6812133789062</td><td>67.81205166098117</td><td>20.318769738078117</td><td>20.318769454956055</td><td>nan</td><td>216137904.0</td><td>16025275392.0</td><td>3299.999999999999</td><td>3300.0</td><td>0.253939393939394</td><td>0.0061572028651382</td><td>0.2477821858723959</td><td>9</td><td>9</td><td>cash</td><td>nan</td></tr>\n",
       "<tr><td>dataset-1</td><td>335</td><td>9.235804207223003</td><td>325.764195792777</td><td>41.88639768268303</td><td>332.14961280987876</td><td>9.235804207223003</td><td>322.91380860265576</td><td>98244500.93556339</td><td>7284216297.312269</td><td>1500.0</td><td>1500.0</td><td>0.22333333333333333</td><td>0.0061572028048153355</td><td>0.217176130528518</td><td>9</td><td>9</td><td>cash</td><td>-2096.519112853783</td></tr>\n",
       "<tr><td>dataset-2</td><td>319</td><td>9.605236375511922</td><td>309.39476362448806</td><td>40.20011982055861</td><td>293.4896025844928</td><td>9.605236375511922</td><td>283.88436620898085</td><td>102174280.97298592</td><td>7575584949.20476</td><td>1560.0</td><td>1560.0</td><td>0.20448717948717948</td><td>0.006157202804815335</td><td>0.19832997668236416</td><td>9</td><td>9</td><td>cash</td><td>-1999.167487932759</td></tr>\n",
       "<tr><td>dataset-3</td><td>331</td><td>14.777286731556805</td><td>316.2227132684432</td><td>37.75884642088334</td><td>321.7838594188438</td><td>14.777286731556805</td><td>307.006572687287</td><td>157191201.49690142</td><td>11654746075.69963</td><td>2400.0</td><td>2400.0</td><td>0.13791666666666666</td><td>0.0061572028048153355</td><td>0.13175946386185133</td><td>9</td><td>9</td><td>cash</td><td>-2093.961371303704</td></tr>\n",
       "<tr><td>dataset-4</td><td>191</td><td>14.777286731556783</td><td>176.22271326844321</td><td>25.003242551912294</td><td>200.98618579969124</td><td>14.777286731556783</td><td>186.20889906813449</td><td>157191201.49690118</td><td>11654746075.699614</td><td>2399.9999999999964</td><td>2399.9999999999964</td><td>0.07958333333333345</td><td>0.0061572028048153355</td><td>0.07342613052851812</td><td>9</td><td>9</td><td>cash</td><td>-950.0232173832845</td></tr>\n",
       "<tr><td>dataset-5</td><td>156</td><td>18.471608414446006</td><td>137.528391585554</td><td>19.764438032194874</td><td>182.9994427293594</td><td>18.471608414446006</td><td>164.52783431491338</td><td>196489001.87112677</td><td>14568432594.624538</td><td>3000.0</td><td>3000.0</td><td>0.052</td><td>0.0061572028048153355</td><td>0.04584279719518467</td><td>9</td><td>9</td><td>cash</td><td>-679.5591099561027</td></tr>\n",
       "<tr><td>dataset-6</td><td>37</td><td>14.777286731556805</td><td>22.222713268443194</td><td>4.8449707117063845</td><td>39.97792082812076</td><td>14.777286731556805</td><td>25.200634096563952</td><td>157191201.49690142</td><td>11654746075.69963</td><td>2400.0</td><td>2400.0</td><td>0.015416666666666667</td><td>0.0061572028048153355</td><td>0.00925946386185133</td><td>9</td><td>9</td><td>cash</td><td>-83.5158051456156</td></tr>\n",
       "<tr><td>dataset-7</td><td>34</td><td>19.210472751023843</td><td>14.789527248976157</td><td>3.0401449505762996</td><td>42.30482881205312</td><td>19.210472751023843</td><td>23.094356061029266</td><td>204348561.94597185</td><td>15151169898.40952</td><td>3120.0</td><td>3120.0</td><td>0.010897435897435897</td><td>0.006157202804815335</td><td>0.004740233092620563</td><td>9</td><td>9</td><td>cash</td><td>-70.91103544138612</td></tr>\n",
       "<tr><td>dataset-8</td><td>31</td><td>15.885583236423564</td><td>15.114416763576436</td><td>3.3500492819057928</td><td>32.24990050265124</td><td>15.885583236423564</td><td>16.36431726622769</td><td>168980541.609169</td><td>12528852031.377102</td><td>2580.0</td><td>2580.0</td><td>0.012015503875968992</td><td>0.006157202804815335</td><td>0.005858301071153657</td><td>9</td><td>9</td><td>cash</td><td>-42.09535699583043</td></tr>\n",
       "<tr><td>dataset-9</td><td>41</td><td>17.363311909579245</td><td>23.636688090420755</td><td>4.814774845348613</td><td>32.421835197092264</td><td>17.363311909579245</td><td>15.058523287513015</td><td>184699661.75885916</td><td>13694326638.947065</td><td>2820.0</td><td>2820.0</td><td>0.014539007092198582</td><td>0.0061572028048153355</td><td>0.008381804287383247</td><td>9</td><td>9</td><td>cash</td><td>-96.29813771797772</td></tr>\n",
       "</table></div>"
      ],
      "text/plain": [
       "<Table length=10>\n",
       "   name   counts     background           excess            sqrt_ts       ...     excess_rate      n_bins n_fit_bins stat_type      stat_sum     \n",
       "                                                                          ...        1 / s                                                       \n",
       "   str9   int64       float64            float64            float64       ...       float64        int64    int64       str4        float64      \n",
       "--------- ------ ------------------ ------------------ ------------------ ... -------------------- ------ ---------- --------- ------------------\n",
       "  stacked    838 20.318769454956055  817.6812133789062  67.81205166098117 ...   0.2477821858723959      9          9      cash                nan\n",
       "dataset-1    335  9.235804207223003   325.764195792777  41.88639768268303 ...    0.217176130528518      9          9      cash -2096.519112853783\n",
       "dataset-2    319  9.605236375511922 309.39476362448806  40.20011982055861 ...  0.19832997668236416      9          9      cash -1999.167487932759\n",
       "dataset-3    331 14.777286731556805  316.2227132684432  37.75884642088334 ...  0.13175946386185133      9          9      cash -2093.961371303704\n",
       "dataset-4    191 14.777286731556783 176.22271326844321 25.003242551912294 ...  0.07342613052851812      9          9      cash -950.0232173832845\n",
       "dataset-5    156 18.471608414446006   137.528391585554 19.764438032194874 ...  0.04584279719518467      9          9      cash -679.5591099561027\n",
       "dataset-6     37 14.777286731556805 22.222713268443194 4.8449707117063845 ...  0.00925946386185133      9          9      cash  -83.5158051456156\n",
       "dataset-7     34 19.210472751023843 14.789527248976157 3.0401449505762996 ... 0.004740233092620563      9          9      cash -70.91103544138612\n",
       "dataset-8     31 15.885583236423564 15.114416763576436 3.3500492819057928 ... 0.005858301071153657      9          9      cash -42.09535699583043\n",
       "dataset-9     41 17.363311909579245 23.636688090420755  4.814774845348613 ... 0.008381804287383247      9          9      cash -96.29813771797772"
      ]
     },
     "execution_count": 10,
     "metadata": {},
     "output_type": "execute_result"
    }
   ],
   "source": [
    "datasets.info_table()"
   ]
  },
  {
   "cell_type": "markdown",
   "metadata": {},
   "source": [
    "## Extract the lightcurve\n",
    "\n",
    "This section uses standard light curve estimation tools for a 1D extraction. Only a spectral model needs to be defined in this case. Since the estimator returns the integrated flux separately for each time bin, the temporal model need not be accounted for at this stage."
   ]
  },
  {
   "cell_type": "code",
   "execution_count": 11,
   "metadata": {
    "execution": {
     "iopub.execute_input": "2021-11-22T21:05:32.094052Z",
     "iopub.status.busy": "2021-11-22T21:05:32.093618Z",
     "iopub.status.idle": "2021-11-22T21:05:32.094887Z",
     "shell.execute_reply": "2021-11-22T21:05:32.095103Z"
    }
   },
   "outputs": [],
   "source": [
    "# Define the model:\n",
    "spectral_model = PowerLawSpectralModel(\n",
    "    index=3, amplitude=\"1e-11 cm-2 s-1 TeV-1\", reference=\"1 TeV\"\n",
    ")\n",
    "model_fit = SkyModel(spectral_model=spectral_model, name=\"model-fit\")"
   ]
  },
  {
   "cell_type": "code",
   "execution_count": 12,
   "metadata": {
    "execution": {
     "iopub.execute_input": "2021-11-22T21:05:32.102311Z",
     "iopub.status.busy": "2021-11-22T21:05:32.101423Z",
     "iopub.status.idle": "2021-11-22T21:05:32.103599Z",
     "shell.execute_reply": "2021-11-22T21:05:32.104070Z"
    }
   },
   "outputs": [],
   "source": [
    "# Attach model to all datasets\n",
    "datasets.models = model_fit"
   ]
  },
  {
   "cell_type": "code",
   "execution_count": 13,
   "metadata": {
    "execution": {
     "iopub.execute_input": "2021-11-22T21:05:32.114646Z",
     "iopub.status.busy": "2021-11-22T21:05:32.114333Z",
     "iopub.status.idle": "2021-11-22T21:05:33.576561Z",
     "shell.execute_reply": "2021-11-22T21:05:33.576749Z"
    }
   },
   "outputs": [
    {
     "name": "stdout",
     "output_type": "stream",
     "text": [
      "CPU times: user 1.45 s, sys: 18.5 ms, total: 1.47 s\n",
      "Wall time: 1.47 s\n"
     ]
    }
   ],
   "source": [
    "%%time\n",
    "lc_maker_1d = LightCurveEstimator(\n",
    "    energy_edges=[0.3, 10] * u.TeV,\n",
    "    source=\"model-fit\",\n",
    "    selection_optional=[\"ul\"],\n",
    ")\n",
    "lc_1d = lc_maker_1d.run(datasets)"
   ]
  },
  {
   "cell_type": "code",
   "execution_count": 14,
   "metadata": {
    "execution": {
     "iopub.execute_input": "2021-11-22T21:05:33.595949Z",
     "iopub.status.busy": "2021-11-22T21:05:33.595646Z",
     "iopub.status.idle": "2021-11-22T21:05:33.800689Z",
     "shell.execute_reply": "2021-11-22T21:05:33.800933Z"
    },
    "nbsphinx-thumbnail": {
     "tooltip": "Simulate and fit a time decaying light curve of a source using the CTA 1DC response."
    }
   },
   "outputs": [
    {
     "data": {
      "image/png": "[encoded data removed]",
      "text/plain": [
       "<Figure size 432x288 with 1 Axes>"
      ]
     },
     "metadata": {
      "needs_background": "light"
     },
     "output_type": "display_data"
    }
   ],
   "source": [
    "ax = lc_1d.plot(marker=\"o\", label=\"3D\")"
   ]
  },
  {
   "cell_type": "markdown",
   "metadata": {},
   "source": [
    "We have the reconstructed lightcurve at this point. Further standard analysis might involve modeling the temporal profiles with an analytical or theoretical model. You may do this using your favourite fitting package, one possible option being `curve_fit` inside `scipy.optimize`.\n",
    "\n",
    "In the next section, we show how to simultaneously fit the all datasets using a given temporal model. This does a joint fitting across the different datasets, while simultaneously minimising across the temporal model parameters as well. We will fit the amplitude, spectral index and the decay time scale. Note that `t_ref` should be fixed by default for the `ExpDecayTemporalModel`. \n",
    "\n",
    "For modelling and fitting more complex flares, you should attach the relevant model to each group of `datasets`. The parameters of a model in a given group of dataset will be tied. For more details on joint fitting in gammapy, see [here](../2D/modeling_2D.ipynb)."
   ]
  },
  {
   "cell_type": "markdown",
   "metadata": {},
   "source": [
    "## Fit the datasets"
   ]
  },
  {
   "cell_type": "code",
   "execution_count": 15,
   "metadata": {
    "execution": {
     "iopub.execute_input": "2021-11-22T21:05:33.804677Z",
     "iopub.status.busy": "2021-11-22T21:05:33.804371Z",
     "iopub.status.idle": "2021-11-22T21:05:33.807636Z",
     "shell.execute_reply": "2021-11-22T21:05:33.807831Z"
    }
   },
   "outputs": [
    {
     "name": "stderr",
     "output_type": "stream",
     "text": [
      "/Users/adonath/software/mambaforge/envs/gammapy-dev/lib/python3.9/site-packages/astropy/units/quantity.py:486: RuntimeWarning: overflow encountered in exp\n",
      "  result = super().__array_ufunc__(function, method, *arrays, **kwargs)\n",
      "/Users/adonath/software/mambaforge/envs/gammapy-dev/lib/python3.9/site-packages/astropy/units/quantity.py:486: RuntimeWarning: invalid value encountered in subtract\n",
      "  result = super().__array_ufunc__(function, method, *arrays, **kwargs)\n"
     ]
    }
   ],
   "source": [
    "# Define the model:\n",
    "spectral_model1 = PowerLawSpectralModel(\n",
    "    index=2.0, amplitude=\"1e-12 cm-2 s-1 TeV-1\", reference=\"1 TeV\"\n",
    ")\n",
    "temporal_model1 = ExpDecayTemporalModel(t0=\"10 h\", t_ref=gti_t0.mjd * u.d)\n",
    "\n",
    "model = SkyModel(\n",
    "    spectral_model=spectral_model1,\n",
    "    temporal_model=temporal_model1,\n",
    "    name=\"model-test\",\n",
    ")"
   ]
  },
  {
   "cell_type": "code",
   "execution_count": 16,
   "metadata": {
    "execution": {
     "iopub.execute_input": "2021-11-22T21:05:33.809962Z",
     "iopub.status.busy": "2021-11-22T21:05:33.808764Z",
     "iopub.status.idle": "2021-11-22T21:05:33.812022Z",
     "shell.execute_reply": "2021-11-22T21:05:33.812251Z"
    }
   },
   "outputs": [
    {
     "data": {
      "text/html": [
       "<div><i>Table length=5</i>\n",
       "<table id=\"table5226634112\" class=\"table-striped table-bordered table-condensed\">\n",
       "<thead><tr><th>type</th><th>name</th><th>value</th><th>unit</th><th>error</th><th>min</th><th>max</th><th>frozen</th><th>link</th></tr></thead>\n",
       "<thead><tr><th>str8</th><th>str9</th><th>float64</th><th>str14</th><th>int64</th><th>float64</th><th>float64</th><th>bool</th><th>str1</th></tr></thead>\n",
       "<tr><td>spectral</td><td>index</td><td>2.0000e+00</td><td></td><td>0.000e+00</td><td>nan</td><td>nan</td><td>False</td><td></td></tr>\n",
       "<tr><td>spectral</td><td>amplitude</td><td>1.0000e-12</td><td>cm-2 s-1 TeV-1</td><td>0.000e+00</td><td>nan</td><td>nan</td><td>False</td><td></td></tr>\n",
       "<tr><td>spectral</td><td>reference</td><td>1.0000e+00</td><td>TeV</td><td>0.000e+00</td><td>nan</td><td>nan</td><td>True</td><td></td></tr>\n",
       "<tr><td>temporal</td><td>t0</td><td>1.0000e+01</td><td>h</td><td>0.000e+00</td><td>nan</td><td>nan</td><td>False</td><td></td></tr>\n",
       "<tr><td>temporal</td><td>t_ref</td><td>5.8909e+04</td><td>d</td><td>0.000e+00</td><td>nan</td><td>nan</td><td>True</td><td></td></tr>\n",
       "</table></div>"
      ],
      "text/plain": [
       "<Table length=5>\n",
       "  type      name     value         unit        error     min     max   frozen link\n",
       "  str8      str9    float64       str14        int64   float64 float64  bool  str1\n",
       "-------- --------- ---------- -------------- --------- ------- ------- ------ ----\n",
       "spectral     index 2.0000e+00                0.000e+00     nan     nan  False     \n",
       "spectral amplitude 1.0000e-12 cm-2 s-1 TeV-1 0.000e+00     nan     nan  False     \n",
       "spectral reference 1.0000e+00            TeV 0.000e+00     nan     nan   True     \n",
       "temporal        t0 1.0000e+01              h 0.000e+00     nan     nan  False     \n",
       "temporal     t_ref 5.8909e+04              d 0.000e+00     nan     nan   True     "
      ]
     },
     "execution_count": 16,
     "metadata": {},
     "output_type": "execute_result"
    }
   ],
   "source": [
    "model.parameters.to_table()"
   ]
  },
  {
   "cell_type": "code",
   "execution_count": 17,
   "metadata": {
    "execution": {
     "iopub.execute_input": "2021-11-22T21:05:33.814543Z",
     "iopub.status.busy": "2021-11-22T21:05:33.814268Z",
     "iopub.status.idle": "2021-11-22T21:05:33.815355Z",
     "shell.execute_reply": "2021-11-22T21:05:33.815570Z"
    }
   },
   "outputs": [],
   "source": [
    "datasets.models = model"
   ]
  },
  {
   "cell_type": "code",
   "execution_count": 18,
   "metadata": {
    "execution": {
     "iopub.execute_input": "2021-11-22T21:05:35.221573Z",
     "iopub.status.busy": "2021-11-22T21:05:34.451283Z",
     "iopub.status.idle": "2021-11-22T21:05:37.053423Z",
     "shell.execute_reply": "2021-11-22T21:05:37.053590Z"
    }
   },
   "outputs": [
    {
     "name": "stdout",
     "output_type": "stream",
     "text": [
      "CPU times: user 3.22 s, sys: 41.5 ms, total: 3.26 s\n",
      "Wall time: 3.23 s\n"
     ]
    }
   ],
   "source": [
    "%%time\n",
    "# Do a joint fit\n",
    "fit = Fit()\n",
    "result = fit.run(datasets=datasets)"
   ]
  },
  {
   "cell_type": "code",
   "execution_count": 19,
   "metadata": {
    "execution": {
     "iopub.execute_input": "2021-11-22T21:05:37.056902Z",
     "iopub.status.busy": "2021-11-22T21:05:37.056575Z",
     "iopub.status.idle": "2021-11-22T21:05:37.057959Z",
     "shell.execute_reply": "2021-11-22T21:05:37.058136Z"
    }
   },
   "outputs": [
    {
     "data": {
      "text/html": [
       "<div><i>Table length=5</i>\n",
       "<table id=\"table5226389904\" class=\"table-striped table-bordered table-condensed\">\n",
       "<thead><tr><th>type</th><th>name</th><th>value</th><th>unit</th><th>error</th><th>min</th><th>max</th><th>frozen</th><th>link</th></tr></thead>\n",
       "<thead><tr><th>str8</th><th>str9</th><th>float64</th><th>str14</th><th>float64</th><th>float64</th><th>float64</th><th>bool</th><th>str1</th></tr></thead>\n",
       "<tr><td>spectral</td><td>index</td><td>2.9693e+00</td><td></td><td>3.133e-02</td><td>nan</td><td>nan</td><td>False</td><td></td></tr>\n",
       "<tr><td>spectral</td><td>amplitude</td><td>1.0603e-11</td><td>cm-2 s-1 TeV-1</td><td>3.703e-13</td><td>nan</td><td>nan</td><td>False</td><td></td></tr>\n",
       "<tr><td>spectral</td><td>reference</td><td>1.0000e+00</td><td>TeV</td><td>0.000e+00</td><td>nan</td><td>nan</td><td>True</td><td></td></tr>\n",
       "<tr><td>temporal</td><td>t0</td><td>5.6466e+00</td><td>h</td><td>1.982e-01</td><td>nan</td><td>nan</td><td>False</td><td></td></tr>\n",
       "<tr><td>temporal</td><td>t_ref</td><td>5.8909e+04</td><td>d</td><td>0.000e+00</td><td>nan</td><td>nan</td><td>True</td><td></td></tr>\n",
       "</table></div>"
      ],
      "text/plain": [
       "<Table length=5>\n",
       "  type      name     value         unit        error     min     max   frozen link\n",
       "  str8      str9    float64       str14       float64  float64 float64  bool  str1\n",
       "-------- --------- ---------- -------------- --------- ------- ------- ------ ----\n",
       "spectral     index 2.9693e+00                3.133e-02     nan     nan  False     \n",
       "spectral amplitude 1.0603e-11 cm-2 s-1 TeV-1 3.703e-13     nan     nan  False     \n",
       "spectral reference 1.0000e+00            TeV 0.000e+00     nan     nan   True     \n",
       "temporal        t0 5.6466e+00              h 1.982e-01     nan     nan  False     \n",
       "temporal     t_ref 5.8909e+04              d 0.000e+00     nan     nan   True     "
      ]
     },
     "execution_count": 19,
     "metadata": {},
     "output_type": "execute_result"
    }
   ],
   "source": [
    "result.parameters.to_table()"
   ]
  },
  {
   "cell_type": "markdown",
   "metadata": {},
   "source": [
    "We see that the fitted parameters match well with the simulated ones!"
   ]
  },
  {
   "cell_type": "markdown",
   "metadata": {},
   "source": [
    "## Exercises\n",
    "\n",
    "1. Re-do the analysis with `MapDataset` instead of `SpectralDataset`\n",
    "2. Model the flare of PKS 2155-304 which you obtained using the [light curve flare tutorial](light_curve_flare.ipynb). Use a combination of a Gaussian and Exponential flare profiles, and fit using `scipy.optimize.curve_fit`\n",
    "3. Do a joint fitting of the datasets."
   ]
  },
  {
   "cell_type": "code",
   "execution_count": null,
   "metadata": {},
   "outputs": [],
   "source": []
  }
 ],
 "metadata": {
  "kernelspec": {
   "display_name": "Python 3",
   "language": "python",
   "name": "python3"
  },
  "language_info": {
   "codemirror_mode": {
    "name": "ipython",
    "version": 3
   },
   "file_extension": ".py",
   "mimetype": "text/x-python",
   "name": "python",
   "nbconvert_exporter": "python",
   "pygments_lexer": "ipython3",
   "version": "3.9.0"
  },
  "latex_envs": {
   "LaTeX_envs_menu_present": true,
   "autoclose": false,
   "autocomplete": true,
   "bibliofile": "biblio.bib",
   "cite_by": "apalike",
   "current_citInitial": 1.0,
   "eqLabelWithNumbers": true,
   "eqNumInitial": 1.0,
   "hotkeys": {
    "equation": "Ctrl-E",
    "itemize": "Ctrl-I"
   },
   "labels_anchors": false,
   "latex_user_defs": false,
   "report_style_numbering": false,
   "user_envs_cfg": false
  },
  "nbsphinx": {
   "orphan": true
  }
 },
 "nbformat": 4,
 "nbformat_minor": 4
}
