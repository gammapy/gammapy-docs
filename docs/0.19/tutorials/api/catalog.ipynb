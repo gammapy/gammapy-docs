{
 "cells": [
  {
   "cell_type": "markdown",
   "metadata": {},
   "source": [
    "\n",
    "<div class=\"alert alert-info\">\n",
    "\n",
    "**This is a fixed-text formatted version of a Jupyter notebook**\n",
    "\n",
    "- Try online[![Binder](https://static.mybinder.org/badge.svg)](https://mybinder.org/v2/gh/gammapy/gammapy-webpage/v0.19?urlpath=lab/tree/api/catalog.ipynb)\n",
    "- You may download all the notebooks in the documentation as a\n",
    "[tar file](../../_downloads/notebooks-0.19.tar).\n",
    "- **Source files:**\n",
    "[catalog.ipynb](../../_static/notebooks/catalog.ipynb) |\n",
    "[catalog.py](../../_static/notebooks/catalog.py)\n",
    "</div>\n"
   ]
  },
  {
   "cell_type": "markdown",
   "metadata": {},
   "source": [
    "# Source catalogs\n",
    "\n",
    "`~gammapy.catalog` provides convenient access to common gamma-ray source catalogs.\n",
    "This module is mostly independent from the rest of Gammapy.\n",
    "Typically you use it to compare new analyses against catalog results, e.g. overplot the spectral model, or compare the source position.\n",
    "\n",
    "Moreover as creating a source model and flux points for a given catalog from the FITS table is tedious, `~gammapy.catalog` has this already implemented. So you can create initial source models for your analyses.\n",
    "This is very common for Fermi-LAT, to start with a catalog model.\n",
    "For TeV analysis, especially in crowded Galactic regions, using the HGPS, gamma-cat or 2HWC catalog in this way can also be useful.\n",
    "\n",
    "In this tutorial you will learn how to:\n",
    "\n",
    "- List available catalogs\n",
    "- Load a catalog\n",
    "- Access the source catalog table data\n",
    "- Select a catalog subset or a single source\n",
    "- Get source spectral and spatial models\n",
    "- Get flux points (if available)\n",
    "- Get lightcurves (if available)\n",
    "- Access the source catalog table data\n",
    "- Pretty-print the source information\n",
    "\n",
    "In this tutorial we will show examples using the following catalogs:\n",
    "\n",
    "- `~gammapy.catalog.SourceCatalogHGPS`\n",
    "- `~gammapy.catalog.SourceCatalogGammaCat`\n",
    "- `~gammapy.catalog.SourceCatalog3FHL`\n",
    "- `~gammapy.catalog.SourceCatalog4FGL`\n",
    "\n",
    "All catalog and source classes work the same, as long as some information is available. E.g. trying to access a lightcurve from a catalog and source that doesn't have that information will return ``None``.\n",
    "\n",
    "Further information is available at `~gammapy.catalog`."
   ]
  },
  {
   "cell_type": "code",
   "execution_count": 1,
   "metadata": {
    "execution": {
     "iopub.execute_input": "2021-11-22T21:09:34.423421Z",
     "iopub.status.busy": "2021-11-22T21:09:34.422535Z",
     "iopub.status.idle": "2021-11-22T21:09:35.105228Z",
     "shell.execute_reply": "2021-11-22T21:09:35.105399Z"
    }
   },
   "outputs": [],
   "source": [
    "%matplotlib inline\n",
    "import numpy as np\n",
    "import matplotlib.pyplot as plt\n",
    "import astropy.units as u\n",
    "from gammapy.catalog import CATALOG_REGISTRY"
   ]
  },
  {
   "cell_type": "markdown",
   "metadata": {},
   "source": [
    "## List available catalogs\n",
    "\n",
    "`~gammapy.catalog` contains a catalog registry ``CATALOG_REGISTRY``, which maps catalog names (e.g. \"3fhl\") to catalog classes (e.g. ``SourceCatalog3FHL``). "
   ]
  },
  {
   "cell_type": "code",
   "execution_count": 2,
   "metadata": {
    "execution": {
     "iopub.execute_input": "2021-11-22T21:09:35.108216Z",
     "iopub.status.busy": "2021-11-22T21:09:35.107906Z",
     "iopub.status.idle": "2021-11-22T21:09:35.109869Z",
     "shell.execute_reply": "2021-11-22T21:09:35.110050Z"
    }
   },
   "outputs": [
    {
     "data": {
      "text/plain": [
       "[gammapy.catalog.gammacat.SourceCatalogGammaCat,\n",
       " gammapy.catalog.hess.SourceCatalogHGPS,\n",
       " gammapy.catalog.hawc.SourceCatalog2HWC,\n",
       " gammapy.catalog.fermi.SourceCatalog3FGL,\n",
       " gammapy.catalog.fermi.SourceCatalog4FGL,\n",
       " gammapy.catalog.fermi.SourceCatalog2FHL,\n",
       " gammapy.catalog.fermi.SourceCatalog3FHL,\n",
       " gammapy.catalog.hawc.SourceCatalog3HWC]"
      ]
     },
     "execution_count": 2,
     "metadata": {},
     "output_type": "execute_result"
    }
   ],
   "source": [
    "CATALOG_REGISTRY"
   ]
  },
  {
   "cell_type": "markdown",
   "metadata": {},
   "source": [
    "## Load catalogs\n",
    "\n",
    "If you have run `gammapy download datasets` or `gammapy download tutorials`,\n",
    "you have a copy of the catalogs as FITS files in `$GAMMAPY_DATA/catalogs`,\n",
    "and that is the default location where `~gammapy.catalog` loads from.\n"
   ]
  },
  {
   "cell_type": "code",
   "execution_count": 3,
   "metadata": {
    "execution": {
     "iopub.execute_input": "2021-11-22T21:09:35.112051Z",
     "iopub.status.busy": "2021-11-22T21:09:35.111745Z",
     "iopub.status.idle": "2021-11-22T21:09:35.231747Z",
     "shell.execute_reply": "2021-11-22T21:09:35.232078Z"
    }
   },
   "outputs": [
    {
     "name": "stdout",
     "output_type": "stream",
     "text": [
      "2HWC.ecsv\r\n",
      "2HWC.yaml\r\n",
      "3HWC.ecsv\r\n",
      "3HWC.yaml\r\n",
      "README.rst\r\n",
      "\u001b[1m\u001b[34mfermi\u001b[m\u001b[m\r\n",
      "\u001b[1m\u001b[34mgammacat\u001b[m\u001b[m\r\n",
      "hgps_catalog_v1.fits.gz\r\n",
      "make_2hwc.py\r\n",
      "make_3hwc.py\r\n"
     ]
    }
   ],
   "source": [
    "!ls -1 $GAMMAPY_DATA/catalogs"
   ]
  },
  {
   "cell_type": "code",
   "execution_count": 4,
   "metadata": {
    "execution": {
     "iopub.execute_input": "2021-11-22T21:09:35.236270Z",
     "iopub.status.busy": "2021-11-22T21:09:35.235741Z",
     "iopub.status.idle": "2021-11-22T21:09:35.361370Z",
     "shell.execute_reply": "2021-11-22T21:09:35.362197Z"
    }
   },
   "outputs": [
    {
     "name": "stdout",
     "output_type": "stream",
     "text": [
      "\u001b[1m\u001b[34mExtended_archive_v15\u001b[m\u001b[m\r\n",
      "\u001b[1m\u001b[34mExtended_archive_v18\u001b[m\u001b[m\r\n",
      "\u001b[1m\u001b[34mLAT_extended_sources_8years\u001b[m\u001b[m\r\n",
      "README.rst\r\n",
      "gll_psc_v16.fit.gz\r\n",
      "gll_psc_v20.fit.gz\r\n",
      "gll_psc_v27.fit.gz\r\n",
      "gll_psch_v08.fit.gz\r\n",
      "gll_psch_v09.fit.gz\r\n",
      "gll_psch_v13.fit.gz\r\n"
     ]
    }
   ],
   "source": [
    "!ls -1 $GAMMAPY_DATA/catalogs/fermi"
   ]
  },
  {
   "cell_type": "markdown",
   "metadata": {},
   "source": [
    "So a catalog can be loaded directly from its corresponding class"
   ]
  },
  {
   "cell_type": "code",
   "execution_count": 5,
   "metadata": {
    "execution": {
     "iopub.execute_input": "2021-11-22T21:09:35.372496Z",
     "iopub.status.busy": "2021-11-22T21:09:35.371714Z",
     "iopub.status.idle": "2021-11-22T21:09:35.634077Z",
     "shell.execute_reply": "2021-11-22T21:09:35.634316Z"
    }
   },
   "outputs": [
    {
     "name": "stdout",
     "output_type": "stream",
     "text": [
      "Number of sources : 5788\n"
     ]
    }
   ],
   "source": [
    "from gammapy.catalog import SourceCatalog4FGL\n",
    "\n",
    "catalog = SourceCatalog4FGL()\n",
    "print(\"Number of sources :\", len(catalog.table))"
   ]
  },
  {
   "cell_type": "markdown",
   "metadata": {},
   "source": [
    "Note that it loads the default catalog from `$GAMMAPY_DATA/catalogs`, you could pass a different `filename` when creating the catalog.\n",
    "For example here we load an older version of 4FGL catalog:  "
   ]
  },
  {
   "cell_type": "code",
   "execution_count": 6,
   "metadata": {
    "execution": {
     "iopub.execute_input": "2021-11-22T21:09:35.636285Z",
     "iopub.status.busy": "2021-11-22T21:09:35.636000Z",
     "iopub.status.idle": "2021-11-22T21:09:36.026181Z",
     "shell.execute_reply": "2021-11-22T21:09:36.026375Z"
    }
   },
   "outputs": [
    {
     "name": "stdout",
     "output_type": "stream",
     "text": [
      "Number of sources : 5066\n"
     ]
    }
   ],
   "source": [
    "catalog = SourceCatalog4FGL(\"$GAMMAPY_DATA/catalogs/fermi/gll_psc_v20.fit.gz\")\n",
    "print(\"Number of sources :\", len(catalog.table))"
   ]
  },
  {
   "cell_type": "markdown",
   "metadata": {},
   "source": [
    "\n",
    "Alternatively you can load a catalog by name via `CATALOG_REGISTRY.get_cls(name)()` (note the `()` to instantiate a catalog object from the catalog class - only this will load the catalog and be useful), or by importing the catalog class (e.g. `SourceCatalog3FGL`) directly. The two ways are equivalent, the result will be the same.\n"
   ]
  },
  {
   "cell_type": "code",
   "execution_count": 7,
   "metadata": {
    "execution": {
     "iopub.execute_input": "2021-11-22T21:09:36.028254Z",
     "iopub.status.busy": "2021-11-22T21:09:36.027950Z",
     "iopub.status.idle": "2021-11-22T21:09:36.185495Z",
     "shell.execute_reply": "2021-11-22T21:09:36.185684Z"
    }
   },
   "outputs": [
    {
     "data": {
      "text/plain": [
       "<gammapy.catalog.fermi.SourceCatalog3FGL at 0x1283dc070>"
      ]
     },
     "execution_count": 7,
     "metadata": {},
     "output_type": "execute_result"
    }
   ],
   "source": [
    "# FITS file is loaded\n",
    "catalog = CATALOG_REGISTRY.get_cls(\"3fgl\")()\n",
    "catalog"
   ]
  },
  {
   "cell_type": "code",
   "execution_count": 8,
   "metadata": {
    "execution": {
     "iopub.execute_input": "2021-11-22T21:09:36.187617Z",
     "iopub.status.busy": "2021-11-22T21:09:36.187336Z",
     "iopub.status.idle": "2021-11-22T21:09:36.583191Z",
     "shell.execute_reply": "2021-11-22T21:09:36.583361Z"
    }
   },
   "outputs": [],
   "source": [
    "# Let's load the source catalogs we will use throughout this tutorial\n",
    "catalog_gammacat = CATALOG_REGISTRY.get_cls(\"gamma-cat\")()\n",
    "catalog_3fhl = CATALOG_REGISTRY.get_cls(\"3fhl\")()\n",
    "catalog_4fgl = CATALOG_REGISTRY.get_cls(\"4fgl\")()\n",
    "catalog_hgps = CATALOG_REGISTRY.get_cls(\"hgps\")()"
   ]
  },
  {
   "cell_type": "markdown",
   "metadata": {},
   "source": [
    "## Catalog table\n",
    "\n",
    "Source catalogs are given as `FITS` files that contain one or multiple tables.\n",
    "\n",
    "However, you can also access the underlying `astropy.table.Table` for a catalog,\n",
    "and the row data as a Python `dict`. This can be useful if you want to do something\n",
    "that is not pre-scripted by the `~gammapy.catalog` classes, such as e.g. selecting\n",
    "sources by sky position or association class, or accessing special source information.\n"
   ]
  },
  {
   "cell_type": "code",
   "execution_count": 9,
   "metadata": {
    "execution": {
     "iopub.execute_input": "2021-11-22T21:09:36.585491Z",
     "iopub.status.busy": "2021-11-22T21:09:36.585167Z",
     "iopub.status.idle": "2021-11-22T21:09:36.586605Z",
     "shell.execute_reply": "2021-11-22T21:09:36.586759Z"
    }
   },
   "outputs": [
    {
     "data": {
      "text/plain": [
       "astropy.table.table.Table"
      ]
     },
     "execution_count": 9,
     "metadata": {},
     "output_type": "execute_result"
    }
   ],
   "source": [
    "type(catalog_3fhl.table)"
   ]
  },
  {
   "cell_type": "code",
   "execution_count": 10,
   "metadata": {
    "execution": {
     "iopub.execute_input": "2021-11-22T21:09:36.588613Z",
     "iopub.status.busy": "2021-11-22T21:09:36.588288Z",
     "iopub.status.idle": "2021-11-22T21:09:36.589774Z",
     "shell.execute_reply": "2021-11-22T21:09:36.589932Z"
    }
   },
   "outputs": [
    {
     "data": {
      "text/plain": [
       "1556"
      ]
     },
     "execution_count": 10,
     "metadata": {},
     "output_type": "execute_result"
    }
   ],
   "source": [
    "len(catalog_3fhl.table)"
   ]
  },
  {
   "cell_type": "code",
   "execution_count": 11,
   "metadata": {
    "execution": {
     "iopub.execute_input": "2021-11-22T21:09:36.592260Z",
     "iopub.status.busy": "2021-11-22T21:09:36.591960Z",
     "iopub.status.idle": "2021-11-22T21:09:36.594067Z",
     "shell.execute_reply": "2021-11-22T21:09:36.594298Z"
    }
   },
   "outputs": [
    {
     "data": {
      "text/html": [
       "<div><i>Table length=3</i>\n",
       "<table id=\"table4970136528\" class=\"table-striped table-bordered table-condensed\">\n",
       "<thead><tr><th>Source_Name</th><th>RAJ2000</th><th>DEJ2000</th></tr></thead>\n",
       "<thead><tr><th></th><th>deg</th><th>deg</th></tr></thead>\n",
       "<thead><tr><th>bytes18</th><th>float32</th><th>float32</th></tr></thead>\n",
       "<tr><td>3FHL J0001.2-0748</td><td>0.3107</td><td>-7.8075</td></tr>\n",
       "<tr><td>3FHL J0001.9-4155</td><td>0.4849</td><td>-41.9303</td></tr>\n",
       "<tr><td>3FHL J0002.1-6728</td><td>0.5283</td><td>-67.4825</td></tr>\n",
       "</table></div>"
      ],
      "text/plain": [
       "<Table length=3>\n",
       "   Source_Name     RAJ2000  DEJ2000 \n",
       "                     deg      deg   \n",
       "     bytes18       float32  float32 \n",
       "------------------ -------- --------\n",
       "3FHL J0001.2-0748    0.3107  -7.8075\n",
       "3FHL J0001.9-4155    0.4849 -41.9303\n",
       "3FHL J0002.1-6728    0.5283 -67.4825"
      ]
     },
     "execution_count": 11,
     "metadata": {},
     "output_type": "execute_result"
    }
   ],
   "source": [
    "catalog_3fhl.table[:3][[\"Source_Name\", \"RAJ2000\", \"DEJ2000\"]]"
   ]
  },
  {
   "cell_type": "markdown",
   "metadata": {},
   "source": [
    "Note that the catalogs object include a helper property that gives directly the sources positions as a `SkyCoord` object (we will show an usage example in the following)."
   ]
  },
  {
   "cell_type": "code",
   "execution_count": 12,
   "metadata": {
    "execution": {
     "iopub.execute_input": "2021-11-22T21:09:36.596479Z",
     "iopub.status.busy": "2021-11-22T21:09:36.596123Z",
     "iopub.status.idle": "2021-11-22T21:09:36.598706Z",
     "shell.execute_reply": "2021-11-22T21:09:36.598925Z"
    }
   },
   "outputs": [
    {
     "data": {
      "text/plain": [
       "<SkyCoord (ICRS): (ra, dec) in deg\n",
       "    [(0.31067517,  -7.8075185), (0.4848653 , -41.93026  ),\n",
       "     (0.52826166, -67.48248  )]>"
      ]
     },
     "execution_count": 12,
     "metadata": {},
     "output_type": "execute_result"
    }
   ],
   "source": [
    "catalog_3fhl.positions[:3]"
   ]
  },
  {
   "cell_type": "markdown",
   "metadata": {},
   "source": [
    "## Source object\n",
    "\n",
    "### Select a source\n",
    "\n",
    "The catalog entries for a single source are represented by a `SourceCatalogObject`.\n",
    "In order to select a source object index into the catalog using `[]`, with a catalog table row index (zero-based, first row is `[0]`), or a source name. If a name is given, catalog table columns with source names and association names (\"ASSOC1\" in the example below) are searched top to bottom. There is no name resolution web query.\n"
   ]
  },
  {
   "cell_type": "code",
   "execution_count": 13,
   "metadata": {
    "execution": {
     "iopub.execute_input": "2021-11-22T21:09:36.601726Z",
     "iopub.status.busy": "2021-11-22T21:09:36.601411Z",
     "iopub.status.idle": "2021-11-22T21:09:36.602859Z",
     "shell.execute_reply": "2021-11-22T21:09:36.603090Z"
    }
   },
   "outputs": [
    {
     "data": {
      "text/plain": [
       "<gammapy.catalog.fermi.SourceCatalogObject4FGL at 0x1283e46a0>"
      ]
     },
     "execution_count": 13,
     "metadata": {},
     "output_type": "execute_result"
    }
   ],
   "source": [
    "source = catalog_4fgl[49]\n",
    "source"
   ]
  },
  {
   "cell_type": "code",
   "execution_count": 14,
   "metadata": {
    "execution": {
     "iopub.execute_input": "2021-11-22T21:09:36.604871Z",
     "iopub.status.busy": "2021-11-22T21:09:36.604582Z",
     "iopub.status.idle": "2021-11-22T21:09:36.605931Z",
     "shell.execute_reply": "2021-11-22T21:09:36.606221Z"
    }
   },
   "outputs": [
    {
     "data": {
      "text/plain": [
       "(49, '4FGL J0010.8-2154')"
      ]
     },
     "execution_count": 14,
     "metadata": {},
     "output_type": "execute_result"
    }
   ],
   "source": [
    "source.row_index, source.name"
   ]
  },
  {
   "cell_type": "code",
   "execution_count": 15,
   "metadata": {
    "execution": {
     "iopub.execute_input": "2021-11-22T21:09:36.688774Z",
     "iopub.status.busy": "2021-11-22T21:09:36.663590Z",
     "iopub.status.idle": "2021-11-22T21:09:36.690172Z",
     "shell.execute_reply": "2021-11-22T21:09:36.690414Z"
    }
   },
   "outputs": [
    {
     "data": {
      "text/plain": [
       "(49, '4FGL J0010.8-2154')"
      ]
     },
     "execution_count": 15,
     "metadata": {},
     "output_type": "execute_result"
    }
   ],
   "source": [
    "source = catalog_4fgl[\"4FGL J0010.8-2154\"]\n",
    "source.row_index, source.name"
   ]
  },
  {
   "cell_type": "code",
   "execution_count": 16,
   "metadata": {
    "execution": {
     "iopub.execute_input": "2021-11-22T21:09:36.692225Z",
     "iopub.status.busy": "2021-11-22T21:09:36.691902Z",
     "iopub.status.idle": "2021-11-22T21:09:36.693321Z",
     "shell.execute_reply": "2021-11-22T21:09:36.693503Z"
    }
   },
   "outputs": [
    {
     "data": {
      "text/plain": [
       "'PKS 0008-222                '"
      ]
     },
     "execution_count": 16,
     "metadata": {},
     "output_type": "execute_result"
    }
   ],
   "source": [
    "source.data[\"ASSOC1\"]"
   ]
  },
  {
   "cell_type": "code",
   "execution_count": 17,
   "metadata": {
    "execution": {
     "iopub.execute_input": "2021-11-22T21:09:36.700914Z",
     "iopub.status.busy": "2021-11-22T21:09:36.700618Z",
     "iopub.status.idle": "2021-11-22T21:09:36.737010Z",
     "shell.execute_reply": "2021-11-22T21:09:36.737234Z"
    }
   },
   "outputs": [
    {
     "data": {
      "text/plain": [
       "(49, '4FGL J0010.8-2154')"
      ]
     },
     "execution_count": 17,
     "metadata": {},
     "output_type": "execute_result"
    }
   ],
   "source": [
    "source = catalog_4fgl[\"PKS 0008-222\"]\n",
    "source.row_index, source.name"
   ]
  },
  {
   "cell_type": "markdown",
   "metadata": {},
   "source": [
    "Note that you can also do a `for source in catalog` loop, to find or process\n",
    "sources of interest.\n",
    "\n",
    "###  Source information\n",
    "\n",
    "The source objects have a `data` property that contains the information of the catalog row corresponding to the source."
   ]
  },
  {
   "cell_type": "code",
   "execution_count": 18,
   "metadata": {
    "execution": {
     "iopub.execute_input": "2021-11-22T21:09:36.739172Z",
     "iopub.status.busy": "2021-11-22T21:09:36.738844Z",
     "iopub.status.idle": "2021-11-22T21:09:36.740217Z",
     "shell.execute_reply": "2021-11-22T21:09:36.740462Z"
    }
   },
   "outputs": [
    {
     "data": {
      "text/plain": [
       "276.04663"
      ]
     },
     "execution_count": 18,
     "metadata": {},
     "output_type": "execute_result"
    }
   ],
   "source": [
    "source.data[\"Npred\"]"
   ]
  },
  {
   "cell_type": "code",
   "execution_count": 19,
   "metadata": {
    "execution": {
     "iopub.execute_input": "2021-11-22T21:09:36.742516Z",
     "iopub.status.busy": "2021-11-22T21:09:36.742177Z",
     "iopub.status.idle": "2021-11-22T21:09:36.743704Z",
     "shell.execute_reply": "2021-11-22T21:09:36.743879Z"
    }
   },
   "outputs": [
    {
     "data": {
      "text/plain": [
       "(<Quantity 60.28118 deg>, <Quantity -79.400505 deg>)"
      ]
     },
     "execution_count": 19,
     "metadata": {},
     "output_type": "execute_result"
    }
   ],
   "source": [
    "source.data[\"GLON\"], source.data[\"GLAT\"]"
   ]
  },
  {
   "cell_type": "markdown",
   "metadata": {},
   "source": [
    "As for the catalog object, the source object has a `position` property."
   ]
  },
  {
   "cell_type": "code",
   "execution_count": 20,
   "metadata": {
    "execution": {
     "iopub.execute_input": "2021-11-22T21:09:36.752480Z",
     "iopub.status.busy": "2021-11-22T21:09:36.752174Z",
     "iopub.status.idle": "2021-11-22T21:09:36.753483Z",
     "shell.execute_reply": "2021-11-22T21:09:36.753705Z"
    }
   },
   "outputs": [
    {
     "data": {
      "text/plain": [
       "<SkyCoord (Galactic): (l, b) in deg\n",
       "    (60.28120079, -79.40051035)>"
      ]
     },
     "execution_count": 20,
     "metadata": {},
     "output_type": "execute_result"
    }
   ],
   "source": [
    "source.position.galactic"
   ]
  },
  {
   "cell_type": "markdown",
   "metadata": {},
   "source": [
    "## Select a catalog subset\n",
    "\n",
    "The catalog objects support selection using boolean arrays (of the same length), so one can create a new catalog as a subset of the main catalog that verify a set of conditions.\n",
    "\n",
    "In the next example we selection only few of the brightest sources brightest sources in the 100 to 200 GeV energy band."
   ]
  },
  {
   "cell_type": "code",
   "execution_count": 21,
   "metadata": {
    "execution": {
     "iopub.execute_input": "2021-11-22T21:09:37.156805Z",
     "iopub.status.busy": "2021-11-22T21:09:37.055322Z",
     "iopub.status.idle": "2021-11-22T21:09:37.680753Z",
     "shell.execute_reply": "2021-11-22T21:09:37.680937Z"
    }
   },
   "outputs": [
    {
     "name": "stdout",
     "output_type": "stream",
     "text": [
      "352     3FHL J0534.5+2201    2.99e-10 1 / (cm2 s)\n",
      "553     3FHL J0851.9-4620e   1.24e-10 1 / (cm2 s)\n",
      "654     3FHL J1036.3-5833e   1.57e-10 1 / (cm2 s)\n",
      "691     3FHL J1104.4+3812    3.34e-10 1 / (cm2 s)\n",
      "1111    3FHL J1653.8+3945    1.27e-10 1 / (cm2 s)\n",
      "1219    3FHL J1824.5-1351e   1.77e-10 1 / (cm2 s)\n",
      "1361    3FHL J2028.6+4110e   1.75e-10 1 / (cm2 s)\n"
     ]
    }
   ],
   "source": [
    "mask_bright = np.zeros(len(catalog_3fhl.table), dtype=bool)\n",
    "for k, source in enumerate(catalog_3fhl):\n",
    "    flux = (\n",
    "        source.spectral_model()\n",
    "        .integral(100 * u.GeV, 200 * u.GeV)\n",
    "        .to(\"cm-2 s-1\")\n",
    "    )\n",
    "    if flux > 1e-10 * u.Unit(\"cm-2 s-1\"):\n",
    "        mask_bright[k] = True\n",
    "        print(f\"{source.row_index:<7d} {source.name:20s} {flux:.3g}\")"
   ]
  },
  {
   "cell_type": "code",
   "execution_count": 22,
   "metadata": {
    "execution": {
     "iopub.execute_input": "2021-11-22T21:09:37.683453Z",
     "iopub.status.busy": "2021-11-22T21:09:37.683143Z",
     "iopub.status.idle": "2021-11-22T21:09:37.687401Z",
     "shell.execute_reply": "2021-11-22T21:09:37.687560Z"
    }
   },
   "outputs": [
    {
     "data": {
      "text/plain": [
       "<gammapy.catalog.fermi.SourceCatalog3FHL at 0x1283ee460>"
      ]
     },
     "execution_count": 22,
     "metadata": {},
     "output_type": "execute_result"
    }
   ],
   "source": [
    "catalog_3fhl_bright = catalog_3fhl[mask_bright]\n",
    "catalog_3fhl_bright"
   ]
  },
  {
   "cell_type": "code",
   "execution_count": 23,
   "metadata": {
    "execution": {
     "iopub.execute_input": "2021-11-22T21:09:37.689630Z",
     "iopub.status.busy": "2021-11-22T21:09:37.689308Z",
     "iopub.status.idle": "2021-11-22T21:09:37.690683Z",
     "shell.execute_reply": "2021-11-22T21:09:37.690906Z"
    }
   },
   "outputs": [
    {
     "data": {
      "text/html": [
       "&lt;Column name=&apos;Source_Name&apos; dtype=&apos;bytes18&apos; length=7&gt;\n",
       "<table>\n",
       "<tr><td>3FHL J0534.5+2201</td></tr>\n",
       "<tr><td>3FHL J0851.9-4620e</td></tr>\n",
       "<tr><td>3FHL J1036.3-5833e</td></tr>\n",
       "<tr><td>3FHL J1104.4+3812</td></tr>\n",
       "<tr><td>3FHL J1653.8+3945</td></tr>\n",
       "<tr><td>3FHL J1824.5-1351e</td></tr>\n",
       "<tr><td>3FHL J2028.6+4110e</td></tr>\n",
       "</table>"
      ],
      "text/plain": [
       "<Column name='Source_Name' dtype='bytes18' length=7>\n",
       "3FHL J0534.5+2201 \n",
       "3FHL J0851.9-4620e\n",
       "3FHL J1036.3-5833e\n",
       "3FHL J1104.4+3812 \n",
       "3FHL J1653.8+3945 \n",
       "3FHL J1824.5-1351e\n",
       "3FHL J2028.6+4110e"
      ]
     },
     "execution_count": 23,
     "metadata": {},
     "output_type": "execute_result"
    }
   ],
   "source": [
    "catalog_3fhl_bright.table[\"Source_Name\"]"
   ]
  },
  {
   "cell_type": "markdown",
   "metadata": {},
   "source": [
    "Similarly we can select only sources within a region of interest. Here for example we use the `position` property of the catalog object to select sources whitin 5 degrees from \"PKS 0008-222\":\n"
   ]
  },
  {
   "cell_type": "code",
   "execution_count": 24,
   "metadata": {
    "execution": {
     "iopub.execute_input": "2021-11-22T21:09:37.717173Z",
     "iopub.status.busy": "2021-11-22T21:09:37.716875Z",
     "iopub.status.idle": "2021-11-22T21:09:37.740577Z",
     "shell.execute_reply": "2021-11-22T21:09:37.740747Z"
    }
   },
   "outputs": [],
   "source": [
    "source = catalog_4fgl[\"PKS 0008-222\"]\n",
    "mask_roi = source.position.separation(catalog_4fgl.positions) < 5 * u.deg"
   ]
  },
  {
   "cell_type": "code",
   "execution_count": 25,
   "metadata": {
    "execution": {
     "iopub.execute_input": "2021-11-22T21:09:37.743031Z",
     "iopub.status.busy": "2021-11-22T21:09:37.742736Z",
     "iopub.status.idle": "2021-11-22T21:09:37.758566Z",
     "shell.execute_reply": "2021-11-22T21:09:37.758785Z"
    }
   },
   "outputs": [
    {
     "name": "stdout",
     "output_type": "stream",
     "text": [
      "Number of sources : 11\n"
     ]
    }
   ],
   "source": [
    "catalog_4fgl_roi = catalog_4fgl[mask_roi]\n",
    "print(\"Number of sources :\", len(catalog_4fgl_roi.table))"
   ]
  },
  {
   "cell_type": "markdown",
   "metadata": {},
   "source": [
    "## Source models\n",
    "\n",
    "The `~gammapy.catalog.SourceCatalogObject` classes have a `sky_model()` model\n",
    "which creates a `gammapy.modeling.models.SkyModel` object, with model parameter\n",
    "values and parameter errors from the catalog filled in.\n",
    "\n",
    "In most cases, the `spectral_model()` method provides the `gammapy.modeling.models.SpectralModel`\n",
    "part of the sky model, and the `spatial_model()` method the `gammapy.modeling.models.SpatialModel`\n",
    "part individually.\n",
    "\n",
    "We use the `gammapy.catalog.SourceCatalog3FHL` for the examples in this section."
   ]
  },
  {
   "cell_type": "code",
   "execution_count": 26,
   "metadata": {
    "execution": {
     "iopub.execute_input": "2021-11-22T21:09:37.801447Z",
     "iopub.status.busy": "2021-11-22T21:09:37.801160Z",
     "iopub.status.idle": "2021-11-22T21:09:37.802289Z",
     "shell.execute_reply": "2021-11-22T21:09:37.802460Z"
    }
   },
   "outputs": [],
   "source": [
    "source = catalog_4fgl[\"PKS 2155-304\"]"
   ]
  },
  {
   "cell_type": "code",
   "execution_count": 27,
   "metadata": {
    "execution": {
     "iopub.execute_input": "2021-11-22T21:09:37.806359Z",
     "iopub.status.busy": "2021-11-22T21:09:37.806067Z",
     "iopub.status.idle": "2021-11-22T21:09:37.815412Z",
     "shell.execute_reply": "2021-11-22T21:09:37.815590Z"
    }
   },
   "outputs": [
    {
     "data": {
      "text/plain": [
       "SkyModel(spatial_model=<gammapy.modeling.models.spatial.PointSpatialModel object at 0x128724430>, spectral_model=<gammapy.modeling.models.spectral.LogParabolaSpectralModel object at 0x128724940>)temporal_model=None)"
      ]
     },
     "execution_count": 27,
     "metadata": {},
     "output_type": "execute_result"
    }
   ],
   "source": [
    "model = source.sky_model()\n",
    "model"
   ]
  },
  {
   "cell_type": "code",
   "execution_count": 28,
   "metadata": {
    "execution": {
     "iopub.execute_input": "2021-11-22T21:09:37.817399Z",
     "iopub.status.busy": "2021-11-22T21:09:37.817113Z",
     "iopub.status.idle": "2021-11-22T21:09:37.818567Z",
     "shell.execute_reply": "2021-11-22T21:09:37.818339Z"
    }
   },
   "outputs": [
    {
     "name": "stdout",
     "output_type": "stream",
     "text": [
      "SkyModel\n",
      "\n",
      "  Name                      : 4FGL J2158.8-3013\n",
      "  Datasets names            : None\n",
      "  Spectral model type       : LogParabolaSpectralModel\n",
      "  Spatial  model type       : PointSpatialModel\n",
      "  Temporal model type       : \n",
      "  Parameters:\n",
      "    amplitude               :   1.44e-11   +/- 1.7e-13 1 / (cm2 MeV s)\n",
      "    reference    (frozen)   :   1118.643       MeV         \n",
      "    alpha                   :      1.767   +/-    0.01             \n",
      "    beta                    :      0.041   +/-    0.00             \n",
      "    lon_0                   :    329.714   +/-    0.00 deg         \n",
      "    lat_0                   :    -30.225   +/-    0.00 deg         \n",
      "\n",
      "\n"
     ]
    }
   ],
   "source": [
    "print(model)"
   ]
  },
  {
   "cell_type": "code",
   "execution_count": 29,
   "metadata": {
    "execution": {
     "iopub.execute_input": "2021-11-22T21:09:37.820899Z",
     "iopub.status.busy": "2021-11-22T21:09:37.820591Z",
     "iopub.status.idle": "2021-11-22T21:09:37.821863Z",
     "shell.execute_reply": "2021-11-22T21:09:37.822011Z"
    }
   },
   "outputs": [
    {
     "name": "stdout",
     "output_type": "stream",
     "text": [
      "PointSpatialModel\n",
      "\n",
      "  type   name    value    unit   error      min        max    frozen link\n",
      "------- ----- ----------- ---- --------- ---------- --------- ------ ----\n",
      "spatial lon_0  3.2971e+02  deg 3.735e-03        nan       nan  False     \n",
      "spatial lat_0 -3.0225e+01  deg 3.227e-03 -9.000e+01 9.000e+01  False     \n"
     ]
    }
   ],
   "source": [
    "print(model.spatial_model)"
   ]
  },
  {
   "cell_type": "code",
   "execution_count": 30,
   "metadata": {
    "execution": {
     "iopub.execute_input": "2021-11-22T21:09:37.824330Z",
     "iopub.status.busy": "2021-11-22T21:09:37.824030Z",
     "iopub.status.idle": "2021-11-22T21:09:37.825332Z",
     "shell.execute_reply": "2021-11-22T21:09:37.825506Z"
    }
   },
   "outputs": [
    {
     "name": "stdout",
     "output_type": "stream",
     "text": [
      "LogParabolaSpectralModel\n",
      "\n",
      "  type      name     value         unit        error   min max frozen link\n",
      "-------- --------- ---------- -------------- --------- --- --- ------ ----\n",
      "spectral amplitude 1.4365e-11 cm-2 MeV-1 s-1 1.655e-13 nan nan  False     \n",
      "spectral reference 1.1186e+03            MeV 0.000e+00 nan nan   True     \n",
      "spectral     alpha 1.7668e+00                1.163e-02 nan nan  False     \n",
      "spectral      beta 4.0969e-02                4.120e-03 nan nan  False     \n"
     ]
    }
   ],
   "source": [
    "print(model.spectral_model)"
   ]
  },
  {
   "cell_type": "code",
   "execution_count": 31,
   "metadata": {
    "execution": {
     "iopub.execute_input": "2021-11-22T21:09:37.878288Z",
     "iopub.status.busy": "2021-11-22T21:09:37.840360Z",
     "iopub.status.idle": "2021-11-22T21:09:38.135879Z",
     "shell.execute_reply": "2021-11-22T21:09:38.136112Z"
    },
    "nbsphinx-thumbnail": {
     "tooltip": "Access and explore thew most common gamma-ray source catalogs."
    }
   },
   "outputs": [
    {
     "data": {
      "image/png": "[encoded data removed]",
      "text/plain": [
       "<Figure size 432x288 with 1 Axes>"
      ]
     },
     "metadata": {
      "needs_background": "light"
     },
     "output_type": "display_data"
    }
   ],
   "source": [
    "energy_bounds = (100 * u.MeV, 100 * u.GeV)\n",
    "opts = dict(sed_type=\"e2dnde\", yunits=u.Unit(\"TeV cm-2 s-1\"))\n",
    "model.spectral_model.plot(energy_bounds, **opts)\n",
    "model.spectral_model.plot_error(energy_bounds, **opts);"
   ]
  },
  {
   "cell_type": "markdown",
   "metadata": {},
   "source": [
    "You can create initial source models for your analyses using the `.to_models()` method of the catalog objects. Here for example we create a `Models` object from the 4FGL catalog subset we previously defined:"
   ]
  },
  {
   "cell_type": "code",
   "execution_count": 32,
   "metadata": {
    "execution": {
     "iopub.execute_input": "2021-11-22T21:09:38.140640Z",
     "iopub.status.busy": "2021-11-22T21:09:38.140274Z",
     "iopub.status.idle": "2021-11-22T21:09:38.209798Z",
     "shell.execute_reply": "2021-11-22T21:09:38.210044Z"
    }
   },
   "outputs": [
    {
     "data": {
      "text/plain": [
       "<gammapy.modeling.models.core.Models at 0x12872b940>"
      ]
     },
     "execution_count": 32,
     "metadata": {},
     "output_type": "execute_result"
    }
   ],
   "source": [
    "models_4fgl_roi = catalog_4fgl_roi.to_models()\n",
    "models_4fgl_roi"
   ]
  },
  {
   "cell_type": "markdown",
   "metadata": {},
   "source": [
    "## Specificities of the HGPS catalog\n",
    "\n",
    "Using the `.to_models()` method for the `gammapy.catalog.SourceCatalogHGPS` will return only the models components of the sources retained in the main catalog, several candidate objects appears only in the Gaussian components table (see section 4.9 of the HGPS paper, https://arxiv.org/abs/1804.02432). To access these components you can do the following:\n"
   ]
  },
  {
   "cell_type": "code",
   "execution_count": 33,
   "metadata": {
    "execution": {
     "iopub.execute_input": "2021-11-22T21:09:38.212232Z",
     "iopub.status.busy": "2021-11-22T21:09:38.211951Z",
     "iopub.status.idle": "2021-11-22T21:09:38.213157Z",
     "shell.execute_reply": "2021-11-22T21:09:38.213335Z"
    }
   },
   "outputs": [],
   "source": [
    "discarded_ind = np.where(\n",
    "    [\n",
    "        \"Discarded\" in _\n",
    "        for _ in catalog_hgps.table_components[\"Component_Class\"]\n",
    "    ]\n",
    ")[0]\n",
    "discarded_table = catalog_hgps.table_components[discarded_ind]"
   ]
  },
  {
   "cell_type": "markdown",
   "metadata": {},
   "source": [
    "There is no spectral model available for these components but you can access their spatial models:"
   ]
  },
  {
   "cell_type": "code",
   "execution_count": 34,
   "metadata": {
    "execution": {
     "iopub.execute_input": "2021-11-22T21:09:38.217929Z",
     "iopub.status.busy": "2021-11-22T21:09:38.217642Z",
     "iopub.status.idle": "2021-11-22T21:09:38.218796Z",
     "shell.execute_reply": "2021-11-22T21:09:38.219019Z"
    }
   },
   "outputs": [],
   "source": [
    "discarded_spatial = [\n",
    "    catalog_hgps.gaussian_component(idx).spatial_model()\n",
    "    for idx in discarded_ind\n",
    "]"
   ]
  },
  {
   "cell_type": "markdown",
   "metadata": {},
   "source": [
    "In addition to the source components the HGPS catalog include a large scale diffuse component built by fitting a gaussian model in a sliding window along the Galactic plane. Information on this model can be accessed via the propoerties `.table_large_scale_component` and `.large_scale_component` of `gammapy.catalog.SourceCatalogHGPS`."
   ]
  },
  {
   "cell_type": "code",
   "execution_count": 35,
   "metadata": {
    "execution": {
     "iopub.execute_input": "2021-11-22T21:09:38.221462Z",
     "iopub.status.busy": "2021-11-22T21:09:38.221170Z",
     "iopub.status.idle": "2021-11-22T21:09:38.222577Z",
     "shell.execute_reply": "2021-11-22T21:09:38.222803Z"
    }
   },
   "outputs": [
    {
     "data": {
      "text/html": [
       "<div><i>Table length=5</i>\n",
       "<table id=\"table4978974384\" class=\"table-striped table-bordered table-condensed\">\n",
       "<thead><tr><th>GLON</th><th>GLAT</th><th>GLAT_Err</th><th>Surface_Brightness</th><th>Surface_Brightness_Err</th><th>Width</th><th>Width_Err</th></tr></thead>\n",
       "<thead><tr><th>deg</th><th>deg</th><th>deg</th><th>1 / (cm2 s sr)</th><th>1 / (cm2 s sr)</th><th>deg</th><th>deg</th></tr></thead>\n",
       "<thead><tr><th>float32</th><th>float32</th><th>float32</th><th>float32</th><th>float32</th><th>float32</th><th>float32</th></tr></thead>\n",
       "<tr><td>270.000000</td><td>0.205357</td><td>0.251932</td><td>6.149827e-10</td><td>4.064108e-10</td><td>0.269385</td><td>0.137990</td></tr>\n",
       "<tr><td>272.959198</td><td>-0.120154</td><td>0.058201</td><td>1.426735e-09</td><td>7.346488e-10</td><td>0.088742</td><td>0.041882</td></tr>\n",
       "<tr><td>275.918365</td><td>-0.095232</td><td>0.089881</td><td>1.193710e-09</td><td>6.117877e-10</td><td>0.167219</td><td>0.111797</td></tr>\n",
       "<tr><td>278.877563</td><td>-0.257642</td><td>0.065071</td><td>1.506986e-09</td><td>5.230542e-10</td><td>0.156525</td><td>0.056130</td></tr>\n",
       "<tr><td>281.836731</td><td>-0.283487</td><td>0.066442</td><td>1.636973e-09</td><td>4.336444e-10</td><td>0.205192</td><td>0.049676</td></tr>\n",
       "</table></div>"
      ],
      "text/plain": [
       "<Table length=5>\n",
       "   GLON       GLAT   GLAT_Err Surface_Brightness Surface_Brightness_Err  Width   Width_Err\n",
       "   deg        deg      deg      1 / (cm2 s sr)       1 / (cm2 s sr)       deg       deg   \n",
       " float32    float32  float32       float32              float32         float32   float32 \n",
       "---------- --------- -------- ------------------ ---------------------- -------- ---------\n",
       "270.000000  0.205357 0.251932       6.149827e-10           4.064108e-10 0.269385  0.137990\n",
       "272.959198 -0.120154 0.058201       1.426735e-09           7.346488e-10 0.088742  0.041882\n",
       "275.918365 -0.095232 0.089881       1.193710e-09           6.117877e-10 0.167219  0.111797\n",
       "278.877563 -0.257642 0.065071       1.506986e-09           5.230542e-10 0.156525  0.056130\n",
       "281.836731 -0.283487 0.066442       1.636973e-09           4.336444e-10 0.205192  0.049676"
      ]
     },
     "execution_count": 35,
     "metadata": {},
     "output_type": "execute_result"
    }
   ],
   "source": [
    "# here we show the 5 first elements of the table\n",
    "catalog_hgps.table_large_scale_component[:5]\n",
    "# you can also try :\n",
    "# help(catalog_hgps.large_scale_component)"
   ]
  },
  {
   "cell_type": "markdown",
   "metadata": {},
   "source": [
    "## Flux points\n",
    "\n",
    "The flux points are available via the `flux_points` property as a `gammapy.spectrum.FluxPoints` object."
   ]
  },
  {
   "cell_type": "code",
   "execution_count": 36,
   "metadata": {
    "execution": {
     "iopub.execute_input": "2021-11-22T21:09:38.274184Z",
     "iopub.status.busy": "2021-11-22T21:09:38.236173Z",
     "iopub.status.idle": "2021-11-22T21:09:38.276761Z",
     "shell.execute_reply": "2021-11-22T21:09:38.277006Z"
    }
   },
   "outputs": [],
   "source": [
    "source = catalog_4fgl[\"PKS 2155-304\"]\n",
    "flux_points = source.flux_points"
   ]
  },
  {
   "cell_type": "code",
   "execution_count": 37,
   "metadata": {
    "execution": {
     "iopub.execute_input": "2021-11-22T21:09:38.278968Z",
     "iopub.status.busy": "2021-11-22T21:09:38.278643Z",
     "iopub.status.idle": "2021-11-22T21:09:38.280026Z",
     "shell.execute_reply": "2021-11-22T21:09:38.280253Z"
    }
   },
   "outputs": [
    {
     "data": {
      "text/plain": [
       "<gammapy.estimators.points.core.FluxPoints at 0x128af9d00>"
      ]
     },
     "execution_count": 37,
     "metadata": {},
     "output_type": "execute_result"
    }
   ],
   "source": [
    "flux_points"
   ]
  },
  {
   "cell_type": "code",
   "execution_count": 38,
   "metadata": {
    "execution": {
     "iopub.execute_input": "2021-11-22T21:09:38.282577Z",
     "iopub.status.busy": "2021-11-22T21:09:38.282295Z",
     "iopub.status.idle": "2021-11-22T21:09:38.286942Z",
     "shell.execute_reply": "2021-11-22T21:09:38.287113Z"
    }
   },
   "outputs": [
    {
     "data": {
      "text/html": [
       "<div><i>Table length=7</i>\n",
       "<table id=\"table4974795840\" class=\"table-striped table-bordered table-condensed\">\n",
       "<thead><tr><th>e_ref</th><th>e_min</th><th>e_max</th><th>flux</th><th>flux_errp</th><th>flux_errn</th><th>flux_ul</th><th>sqrt_ts</th><th>is_ul</th></tr></thead>\n",
       "<thead><tr><th>MeV</th><th>MeV</th><th>MeV</th><th>1 / (cm2 s)</th><th>1 / (cm2 s)</th><th>1 / (cm2 s)</th><th>1 / (cm2 s)</th><th></th><th></th></tr></thead>\n",
       "<thead><tr><th>float64</th><th>float64</th><th>float64</th><th>float64</th><th>float64</th><th>float64</th><th>float64</th><th>float32</th><th>bool</th></tr></thead>\n",
       "<tr><td>70.71067811865478</td><td>49.99999999999999</td><td>100.00000000000004</td><td>8.811208118686409e-08</td><td>3.097255785178277e-08</td><td>3.039940565940924e-08</td><td>nan</td><td>2.5337915</td><td>False</td></tr>\n",
       "<tr><td>173.20508075688775</td><td>100.00000000000004</td><td>299.99999999999994</td><td>6.859372092549165e-08</td><td>3.0207172319052233e-09</td><td>3.0207172319052233e-09</td><td>nan</td><td>25.057798</td><td>False</td></tr>\n",
       "<tr><td>547.722557505166</td><td>299.99999999999994</td><td>999.9999999999998</td><td>3.348723609519766e-08</td><td>6.225928661507396e-10</td><td>6.225928661507396e-10</td><td>nan</td><td>88.745026</td><td>False</td></tr>\n",
       "<tr><td>1732.0508075688763</td><td>999.9999999999998</td><td>2999.9999999999977</td><td>1.274911376469845e-08</td><td>2.198041054723987e-10</td><td>2.198041054723987e-10</td><td>nan</td><td>128.2931</td><td>False</td></tr>\n",
       "<tr><td>5477.225575051666</td><td>2999.9999999999977</td><td>10000.00000000001</td><td>5.410327741373067e-09</td><td>1.2490801448716837e-10</td><td>1.2490801448716837e-10</td><td>nan</td><td>120.772316</td><td>False</td></tr>\n",
       "<tr><td>17320.50807568877</td><td>10000.00000000001</td><td>30000.000000000007</td><td>1.7687512565700558e-09</td><td>6.802798602212334e-11</td><td>6.802798602212334e-11</td><td>nan</td><td>82.056656</td><td>False</td></tr>\n",
       "<tr><td>94868.32980505146</td><td>30000.000000000007</td><td>299999.9999999999</td><td>6.965684695714458e-10</td><td>4.1411239021238444e-11</td><td>4.1411239021238444e-11</td><td>nan</td><td>54.02705</td><td>False</td></tr>\n",
       "</table></div>"
      ],
      "text/plain": [
       "<Table length=7>\n",
       "      e_ref              e_min              e_max                 flux          ...       flux_errn          flux_ul    sqrt_ts   is_ul\n",
       "       MeV                MeV                MeV              1 / (cm2 s)       ...      1 / (cm2 s)       1 / (cm2 s)                 \n",
       "     float64            float64            float64              float64         ...        float64           float64    float32    bool\n",
       "------------------ ------------------ ------------------ ---------------------- ... ---------------------- ----------- ---------- -----\n",
       " 70.71067811865478  49.99999999999999 100.00000000000004  8.811208118686409e-08 ...  3.039940565940924e-08         nan  2.5337915 False\n",
       "173.20508075688775 100.00000000000004 299.99999999999994  6.859372092549165e-08 ... 3.0207172319052233e-09         nan  25.057798 False\n",
       "  547.722557505166 299.99999999999994  999.9999999999998  3.348723609519766e-08 ...  6.225928661507396e-10         nan  88.745026 False\n",
       "1732.0508075688763  999.9999999999998 2999.9999999999977  1.274911376469845e-08 ...  2.198041054723987e-10         nan   128.2931 False\n",
       " 5477.225575051666 2999.9999999999977  10000.00000000001  5.410327741373067e-09 ... 1.2490801448716837e-10         nan 120.772316 False\n",
       " 17320.50807568877  10000.00000000001 30000.000000000007 1.7687512565700558e-09 ...  6.802798602212334e-11         nan  82.056656 False\n",
       " 94868.32980505146 30000.000000000007  299999.9999999999  6.965684695714458e-10 ... 4.1411239021238444e-11         nan   54.02705 False"
      ]
     },
     "execution_count": 38,
     "metadata": {},
     "output_type": "execute_result"
    }
   ],
   "source": [
    "flux_points.to_table(sed_type=\"flux\")"
   ]
  },
  {
   "cell_type": "code",
   "execution_count": 39,
   "metadata": {
    "execution": {
     "iopub.execute_input": "2021-11-22T21:09:38.289055Z",
     "iopub.status.busy": "2021-11-22T21:09:38.288758Z",
     "iopub.status.idle": "2021-11-22T21:09:38.487702Z",
     "shell.execute_reply": "2021-11-22T21:09:38.487947Z"
    }
   },
   "outputs": [
    {
     "data": {
      "image/png": "[encoded data removed]",
      "text/plain": [
       "<Figure size 432x288 with 1 Axes>"
      ]
     },
     "metadata": {
      "needs_background": "light"
     },
     "output_type": "display_data"
    }
   ],
   "source": [
    "flux_points.plot(sed_type=\"e2dnde\");"
   ]
  },
  {
   "cell_type": "markdown",
   "metadata": {},
   "source": [
    "## Lightcurves\n",
    "\n",
    "The Fermi catalogs contain lightcurves for each source. It is available via the `source.lightcurve()` method as a `~gammapy.estimators.LightCurve` object."
   ]
  },
  {
   "cell_type": "code",
   "execution_count": 40,
   "metadata": {
    "execution": {
     "iopub.execute_input": "2021-11-22T21:09:38.550988Z",
     "iopub.status.busy": "2021-11-22T21:09:38.538721Z",
     "iopub.status.idle": "2021-11-22T21:09:38.555595Z",
     "shell.execute_reply": "2021-11-22T21:09:38.555792Z"
    }
   },
   "outputs": [],
   "source": [
    "lightcurve = catalog_4fgl[\"4FGL J0349.8-2103\"].lightcurve()"
   ]
  },
  {
   "cell_type": "code",
   "execution_count": 41,
   "metadata": {
    "execution": {
     "iopub.execute_input": "2021-11-22T21:09:38.557809Z",
     "iopub.status.busy": "2021-11-22T21:09:38.557497Z",
     "iopub.status.idle": "2021-11-22T21:09:38.558935Z",
     "shell.execute_reply": "2021-11-22T21:09:38.559099Z"
    }
   },
   "outputs": [
    {
     "data": {
      "text/plain": [
       "<gammapy.estimators.points.core.FluxPoints at 0x128ec3910>"
      ]
     },
     "execution_count": 41,
     "metadata": {},
     "output_type": "execute_result"
    }
   ],
   "source": [
    "lightcurve"
   ]
  },
  {
   "cell_type": "code",
   "execution_count": 42,
   "metadata": {
    "execution": {
     "iopub.execute_input": "2021-11-22T21:09:38.560767Z",
     "iopub.status.busy": "2021-11-22T21:09:38.560481Z",
     "iopub.status.idle": "2021-11-22T21:09:38.626852Z",
     "shell.execute_reply": "2021-11-22T21:09:38.627089Z"
    }
   },
   "outputs": [
    {
     "data": {
      "text/html": [
       "<div><i>Table length=10</i>\n",
       "<table id=\"table4981051552\" class=\"table-striped table-bordered table-condensed\">\n",
       "<thead><tr><th>time_min</th><th>time_max</th><th>e_ref [1]</th><th>e_min [1]</th><th>e_max [1]</th><th>flux [1]</th><th>flux_errp [1]</th><th>flux_errn [1]</th><th>flux_ul [1]</th><th>ts [1]</th><th>sqrt_ts [1]</th><th>is_ul [1]</th></tr></thead>\n",
       "<thead><tr><th></th><th></th><th>MeV</th><th>MeV</th><th>MeV</th><th>1 / (cm2 s)</th><th>1 / (cm2 s)</th><th>1 / (cm2 s)</th><th>1 / (cm2 s)</th><th></th><th></th><th></th></tr></thead>\n",
       "<thead><tr><th>float64</th><th>float64</th><th>float64</th><th>float64</th><th>float64</th><th>float64</th><th>float64</th><th>float64</th><th>float64</th><th>float32</th><th>float32</th><th>bool</th></tr></thead>\n",
       "<tr><td>54682.65603794185</td><td>55045.301668796295</td><td>3872.9833462074166</td><td>49.99999999999999</td><td>299999.9999999999</td><td>8.182966837466665e-08</td><td>4.0442960091979785e-09</td><td>4.0442960091979785e-09</td><td>8.991825950488419e-08</td><td>866.5454</td><td>29.437143</td><td>False</td></tr>\n",
       "<tr><td>55045.301668796295</td><td>55410.57944657407</td><td>3872.9833462074166</td><td>49.99999999999999</td><td>299999.9999999999</td><td>3.4780882174345606e-08</td><td>3.377941926174799e-09</td><td>3.377941926174799e-09</td><td>4.1536765138516785e-08</td><td>177.31786</td><td>13.316075</td><td>False</td></tr>\n",
       "<tr><td>55410.57944657407</td><td>55775.85722435185</td><td>3872.9833462074166</td><td>49.99999999999999</td><td>299999.9999999999</td><td>1.4417943283717705e-08</td><td>2.6934492414198985e-09</td><td>2.530577081216734e-09</td><td>1.980484221064671e-08</td><td>45.33303</td><td>6.7329807</td><td>False</td></tr>\n",
       "<tr><td>55775.85722435185</td><td>56141.13500212963</td><td>3872.9833462074166</td><td>49.99999999999999</td><td>299999.9999999999</td><td>1.8312720229118895e-08</td><td>2.9073525809053535e-09</td><td>2.697997159017973e-09</td><td>2.4127425390929602e-08</td><td>69.82312</td><td>8.356023</td><td>False</td></tr>\n",
       "<tr><td>56141.13500212963</td><td>56506.412779907405</td><td>3872.9833462074166</td><td>49.99999999999999</td><td>299999.9999999999</td><td>1.929730331085011e-08</td><td>3.0470421741313203e-09</td><td>2.900109263848094e-09</td><td>2.5391386770934332e-08</td><td>63.285576</td><td>7.955223</td><td>False</td></tr>\n",
       "<tr><td>56506.412779907405</td><td>56871.690557685186</td><td>3872.9833462074166</td><td>49.99999999999999</td><td>299999.9999999999</td><td>2.279863409171412e-08</td><td>3.0816984519788093e-09</td><td>2.9492861486346555e-09</td><td>2.896203099567174e-08</td><td>98.43889</td><td>9.921638</td><td>False</td></tr>\n",
       "<tr><td>56871.690557685186</td><td>57236.96833546296</td><td>3872.9833462074166</td><td>49.99999999999999</td><td>299999.9999999999</td><td>3.4101141466180707e-08</td><td>3.5666940512157908e-09</td><td>3.438366702468443e-09</td><td>4.123452868043387e-08</td><td>164.55066</td><td>12.82773</td><td>False</td></tr>\n",
       "<tr><td>57236.96833546296</td><td>57602.24611324074</td><td>3872.9833462074166</td><td>49.99999999999999</td><td>299999.9999999999</td><td>1.2460412257553344e-08</td><td>2.889906092207184e-09</td><td>2.7565447702215806e-09</td><td>1.824022533014613e-08</td><td>26.10482</td><td>5.1092877</td><td>False</td></tr>\n",
       "<tr><td>57602.24611324074</td><td>57967.523891018514</td><td>3872.9833462074166</td><td>49.99999999999999</td><td>299999.9999999999</td><td>1.5963367516746985e-08</td><td>2.667339016326764e-09</td><td>2.5512609802547104e-09</td><td>2.1298045993489723e-08</td><td>57.259422</td><td>7.5669956</td><td>False</td></tr>\n",
       "<tr><td>57967.523891018514</td><td>58332.801668796295</td><td>3872.9833462074166</td><td>49.99999999999999</td><td>299999.9999999999</td><td>2.1374123804207557e-08</td><td>2.9909645871128987e-09</td><td>2.8739282065259886e-09</td><td>2.7356053422522567e-08</td><td>84.4538</td><td>9.189875</td><td>False</td></tr>\n",
       "</table></div>"
      ],
      "text/plain": [
       "<Table length=10>\n",
       "     time_min           time_max          e_ref [1]          e_min [1]     ...      flux_ul [1]         ts [1]  sqrt_ts [1] is_ul [1]\n",
       "                                             MeV                MeV        ...      1 / (cm2 s)                                      \n",
       "     float64            float64            float64            float64      ...        float64          float32    float32      bool  \n",
       "------------------ ------------------ ------------------ ----------------- ... ---------------------- --------- ----------- ---------\n",
       " 54682.65603794185 55045.301668796295 3872.9833462074166 49.99999999999999 ...  8.991825950488419e-08  866.5454   29.437143     False\n",
       "55045.301668796295  55410.57944657407 3872.9833462074166 49.99999999999999 ... 4.1536765138516785e-08 177.31786   13.316075     False\n",
       " 55410.57944657407  55775.85722435185 3872.9833462074166 49.99999999999999 ...  1.980484221064671e-08  45.33303   6.7329807     False\n",
       " 55775.85722435185  56141.13500212963 3872.9833462074166 49.99999999999999 ... 2.4127425390929602e-08  69.82312    8.356023     False\n",
       " 56141.13500212963 56506.412779907405 3872.9833462074166 49.99999999999999 ... 2.5391386770934332e-08 63.285576    7.955223     False\n",
       "56506.412779907405 56871.690557685186 3872.9833462074166 49.99999999999999 ...  2.896203099567174e-08  98.43889    9.921638     False\n",
       "56871.690557685186  57236.96833546296 3872.9833462074166 49.99999999999999 ...  4.123452868043387e-08 164.55066    12.82773     False\n",
       " 57236.96833546296  57602.24611324074 3872.9833462074166 49.99999999999999 ...  1.824022533014613e-08  26.10482   5.1092877     False\n",
       " 57602.24611324074 57967.523891018514 3872.9833462074166 49.99999999999999 ... 2.1298045993489723e-08 57.259422   7.5669956     False\n",
       "57967.523891018514 58332.801668796295 3872.9833462074166 49.99999999999999 ... 2.7356053422522567e-08   84.4538    9.189875     False"
      ]
     },
     "execution_count": 42,
     "metadata": {},
     "output_type": "execute_result"
    }
   ],
   "source": [
    "lightcurve.to_table(format=\"lightcurve\", sed_type=\"flux\")"
   ]
  },
  {
   "cell_type": "code",
   "execution_count": 43,
   "metadata": {
    "execution": {
     "iopub.execute_input": "2021-11-22T21:09:38.650763Z",
     "iopub.status.busy": "2021-11-22T21:09:38.650462Z",
     "iopub.status.idle": "2021-11-22T21:09:38.759996Z",
     "shell.execute_reply": "2021-11-22T21:09:38.760235Z"
    }
   },
   "outputs": [
    {
     "data": {
      "image/png": "[encoded data removed]",
      "text/plain": [
       "<Figure size 432x288 with 1 Axes>"
      ]
     },
     "metadata": {
      "needs_background": "light"
     },
     "output_type": "display_data"
    }
   ],
   "source": [
    "lightcurve.plot();"
   ]
  },
  {
   "cell_type": "markdown",
   "metadata": {},
   "source": [
    "## Pretty-print source information\n",
    "\n",
    "A source object has a nice string representation that you can print.\n"
   ]
  },
  {
   "cell_type": "code",
   "execution_count": 44,
   "metadata": {
    "execution": {
     "iopub.execute_input": "2021-11-22T21:09:38.764730Z",
     "iopub.status.busy": "2021-11-22T21:09:38.763129Z",
     "iopub.status.idle": "2021-11-22T21:09:38.766167Z",
     "shell.execute_reply": "2021-11-22T21:09:38.766357Z"
    }
   },
   "outputs": [
    {
     "name": "stdout",
     "output_type": "stream",
     "text": [
      "\n",
      "*** Basic info ***\n",
      "\n",
      "Catalog row index (zero-based) : 18\n",
      "Source name          : HESS J1514-591\n",
      "Analysis reference   : HGPS\n",
      "Source class         : PWN\n",
      "Identified object    : MSH 15-52\n",
      "Gamma-Cat id         : 79\n",
      "\n",
      "\n",
      "*** Info from map analysis ***\n",
      "\n",
      "RA                   :  228.499 deg = 15h14m00s\n",
      "DEC                  :  -59.161 deg = -59d09m41s\n",
      "GLON                 :  320.315 +/- 0.008 deg\n",
      "GLAT                 :   -1.188 +/- 0.007 deg\n",
      "Position Error (68%) : 0.020 deg\n",
      "Position Error (95%) : 0.033 deg\n",
      "ROI number           : 13\n",
      "Spatial model        : 3-Gaussian\n",
      "Spatial components   : HGPSC 023, HGPSC 024, HGPSC 025\n",
      "TS                   : 1763.4\n",
      "sqrt(TS)             : 42.0\n",
      "Size                 : 0.145 +/- 0.026 (UL: 0.000) deg\n",
      "R70                  : 0.215 deg\n",
      "RSpec                : 0.215 deg\n",
      "Total model excess   : 3502.8\n",
      "Excess in RSpec      : 2440.5\n",
      "Model Excess in RSpec : 2414.3\n",
      "Background in RSpec  : 1052.5\n",
      "Livetime             : 41.4 hours\n",
      "Energy threshold     : 0.61 TeV\n",
      "Source flux (>1 TeV) : (6.434 +/- 0.211) x 10^-12 cm^-2 s^-1 = (28.47 +/- 0.94) % Crab\n",
      "\n",
      "Fluxes in RSpec (> 1 TeV):\n",
      "Map measurement                : 4.552 x 10^-12 cm^-2 s^-1 = 20.14 % Crab\n",
      "Source model                   : 4.505 x 10^-12 cm^-2 s^-1 = 19.94 % Crab\n",
      "Other component model          : 0.000 x 10^-12 cm^-2 s^-1 =  0.00 % Crab\n",
      "Large scale component model    : 0.000 x 10^-12 cm^-2 s^-1 =  0.00 % Crab\n",
      "Total model                    : 4.505 x 10^-12 cm^-2 s^-1 = 19.94 % Crab\n",
      "Containment in RSpec                :  70.0 %\n",
      "Contamination in RSpec              :   0.0 %\n",
      "Flux correction (RSpec -> Total)    : 142.8 %\n",
      "Flux correction (Total -> RSpec)    :  70.0 %\n",
      "\n",
      "*** Info from spectral analysis ***\n",
      "\n",
      "Livetime             : 13.7 hours\n",
      "Energy range:        : 0.38 to 61.90 TeV\n",
      "Background           : 1825.9\n",
      "Excess               : 2061.1\n",
      "Spectral model       : ECPL\n",
      "TS ECPL over PL      : 10.2\n",
      "Best-fit model flux(> 1 TeV) : (5.720 +/- 0.417) x 10^-12 cm^-2 s^-1  = (25.31 +/- 1.84) % Crab\n",
      "Best-fit model energy flux(1 to 10 TeV) : (20.779 +/- 1.878) x 10^-12 erg cm^-2 s^-1\n",
      "Pivot energy         : 1.54 TeV\n",
      "Flux at pivot energy : (2.579 +/- 0.083) x 10^-12 cm^-2 s^-1 TeV^-1  = (11.41 +/- 0.24) % Crab\n",
      "PL   Flux(> 1 TeV)   : (5.437 +/- 0.186) x 10^-12 cm^-2 s^-1  = (24.06 +/- 0.82) % Crab\n",
      "PL   Flux(@ 1 TeV)   : (6.868 +/- 0.241) x 10^-12 cm^-2 s^-1 TeV^-1  = (30.39 +/- 0.69) % Crab\n",
      "PL   Index           : 2.26 +/- 0.03\n",
      "ECPL   Flux(@ 1 TeV) : (6.860 +/- 0.252) x 10^-12 cm^-2 s^-1 TeV^-1  = (30.35 +/- 0.72) % Crab\n",
      "ECPL   Flux(> 1 TeV) : (5.720 +/- 0.417) x 10^-12 cm^-2 s^-1  = (25.31 +/- 1.84) % Crab\n",
      "ECPL Index           : 2.05 +/- 0.06\n",
      "ECPL Lambda          : 0.052 +/- 0.014 TeV^-1\n",
      "ECPL E_cut           : 19.20 +/- 5.01 TeV\n",
      "\n",
      "*** Flux points info ***\n",
      "\n",
      "Number of flux points: 6\n",
      "Flux points table: \n",
      "\n",
      "e_ref  e_min  e_max        dnde         dnde_errn       dnde_errp        dnde_ul     is_ul\n",
      " TeV    TeV    TeV   1 / (cm2 s TeV) 1 / (cm2 s TeV) 1 / (cm2 s TeV) 1 / (cm2 s TeV)      \n",
      "------ ------ ------ --------------- --------------- --------------- --------------- -----\n",
      " 0.562  0.383  0.825       2.439e-11       1.419e-12       1.509e-12       2.732e-11 False\n",
      " 1.212  0.825  1.778       4.439e-12       2.489e-13       2.654e-13       4.970e-12 False\n",
      " 2.738  1.778  4.217       7.295e-13       4.788e-14       4.898e-14       8.302e-13 False\n",
      " 6.190  4.217  9.085       1.305e-13       1.220e-14       1.282e-14       1.571e-13 False\n",
      "13.991  9.085 21.544       1.994e-14       2.723e-15       2.858e-15       2.588e-14 False\n",
      "31.623 21.544 46.416       9.474e-16       3.480e-16       4.329e-16       1.919e-15 False\n",
      "\n",
      "*** Gaussian component info ***\n",
      "\n",
      "Number of components: 3\n",
      "Spatial components   : HGPSC 023, HGPSC 024, HGPSC 025\n",
      "\n",
      "Component HGPSC 023:\n",
      "GLON                 :  320.303 +/- 0.005 deg\n",
      "GLAT                 :   -1.124 +/- 0.007 deg\n",
      "Size                 : 0.057 +/- 0.005 deg\n",
      "Flux (>1 TeV)        : (2.01 +/- 0.23) x 10^-12 cm^-2 s^-1 = (8.9 +/- 1.0) % Crab\n",
      "\n",
      "Component HGPSC 024:\n",
      "GLON                 :  320.298 +/- 0.020 deg\n",
      "GLAT                 :   -1.168 +/- 0.021 deg\n",
      "Size                 : 0.206 +/- 0.020 deg\n",
      "Flux (>1 TeV)        : (2.54 +/- 0.29) x 10^-12 cm^-2 s^-1 = (11.2 +/- 1.3) % Crab\n",
      "\n",
      "Component HGPSC 025:\n",
      "GLON                 :  320.351 +/- 0.005 deg\n",
      "GLAT                 :   -1.284 +/- 0.007 deg\n",
      "Size                 : 0.055 +/- 0.005 deg\n",
      "Flux (>1 TeV)        : (1.88 +/- 0.22) x 10^-12 cm^-2 s^-1 = (8.3 +/- 1.0) % Crab\n",
      "\n",
      "\n",
      "*** Source associations info ***\n",
      "\n",
      "  Source_Name    Association_Catalog    Association_Name   Separation\n",
      "                                                              deg    \n",
      "---------------- ------------------- --------------------- ----------\n",
      "  HESS J1514-591                2FHL    2FHL J1514.0-5915e   0.098903\n",
      "  HESS J1514-591                3FGL     3FGL J1513.9-5908   0.026914\n",
      "  HESS J1514-591                3FGL    3FGL J1514.0-5915e   0.094834\n",
      "  HESS J1514-591                COMP            G320.4-1.2   0.070483\n",
      "  HESS J1514-591                 PSR              B1509-58   0.026891\n",
      "\n",
      "*** Source identification info ***\n",
      "\n",
      "Source_Name: HESS J1514-591\n",
      "Identified_Object: MSH 15-52\n",
      "Class: PWN\n",
      "Evidence: Morphology\n",
      "Reference: 2005A%26A...435L..17A\n",
      "Distance_Reference: SNRCat\n",
      "Distance: 5.199999809265137 kpc\n",
      "Distance_Min: 3.799999952316284 kpc\n",
      "Distance_Max: 6.599999904632568 kpc\n",
      "\n"
     ]
    }
   ],
   "source": [
    "source = catalog_hgps[\"MSH 15-52\"]\n",
    "print(source)"
   ]
  },
  {
   "cell_type": "markdown",
   "metadata": {},
   "source": [
    "You can also call `source.info()` instead and pass as an option what information to print. The options available depend on the catalog, you can learn about them using `help()`"
   ]
  },
  {
   "cell_type": "code",
   "execution_count": 45,
   "metadata": {
    "execution": {
     "iopub.execute_input": "2021-11-22T21:09:38.768331Z",
     "iopub.status.busy": "2021-11-22T21:09:38.768010Z",
     "iopub.status.idle": "2021-11-22T21:09:38.769270Z",
     "shell.execute_reply": "2021-11-22T21:09:38.769466Z"
    }
   },
   "outputs": [
    {
     "name": "stdout",
     "output_type": "stream",
     "text": [
      "Help on method info in module gammapy.catalog.hess:\n",
      "\n",
      "info(info='all') method of gammapy.catalog.hess.SourceCatalogObjectHGPS instance\n",
      "    Info string.\n",
      "    \n",
      "    Parameters\n",
      "    ----------\n",
      "    info : {'all', 'basic', 'map', 'spec', 'flux_points', 'components', 'associations', 'id'}\n",
      "        Comma separated list of options\n",
      "\n"
     ]
    }
   ],
   "source": [
    "help(source.info)"
   ]
  },
  {
   "cell_type": "code",
   "execution_count": 46,
   "metadata": {
    "execution": {
     "iopub.execute_input": "2021-11-22T21:09:38.771362Z",
     "iopub.status.busy": "2021-11-22T21:09:38.771029Z",
     "iopub.status.idle": "2021-11-22T21:09:38.772335Z",
     "shell.execute_reply": "2021-11-22T21:09:38.772511Z"
    }
   },
   "outputs": [
    {
     "name": "stdout",
     "output_type": "stream",
     "text": [
      "\n",
      "*** Source associations info ***\n",
      "\n",
      "  Source_Name    Association_Catalog    Association_Name   Separation\n",
      "                                                              deg    \n",
      "---------------- ------------------- --------------------- ----------\n",
      "  HESS J1514-591                2FHL    2FHL J1514.0-5915e   0.098903\n",
      "  HESS J1514-591                3FGL     3FGL J1513.9-5908   0.026914\n",
      "  HESS J1514-591                3FGL    3FGL J1514.0-5915e   0.094834\n",
      "  HESS J1514-591                COMP            G320.4-1.2   0.070483\n",
      "  HESS J1514-591                 PSR              B1509-58   0.026891\n",
      "\n"
     ]
    }
   ],
   "source": [
    "print(source.info(\"associations\"))"
   ]
  },
  {
   "cell_type": "code",
   "execution_count": null,
   "metadata": {},
   "outputs": [],
   "source": []
  }
 ],
 "metadata": {
  "kernelspec": {
   "display_name": "Python 3",
   "language": "python",
   "name": "python3"
  },
  "language_info": {
   "codemirror_mode": {
    "name": "ipython",
    "version": 3
   },
   "file_extension": ".py",
   "mimetype": "text/x-python",
   "name": "python",
   "nbconvert_exporter": "python",
   "pygments_lexer": "ipython3",
   "version": "3.9.0"
  },
  "latex_envs": {
   "LaTeX_envs_menu_present": true,
   "autoclose": false,
   "autocomplete": true,
   "bibliofile": "biblio.bib",
   "cite_by": "apalike",
   "current_citInitial": 1.0,
   "eqLabelWithNumbers": true,
   "eqNumInitial": 1.0,
   "hotkeys": {
    "equation": "Ctrl-E",
    "itemize": "Ctrl-I"
   },
   "labels_anchors": false,
   "latex_user_defs": false,
   "report_style_numbering": false,
   "user_envs_cfg": false
  },
  "nbsphinx": {
   "orphan": true
  }
 },
 "nbformat": 4,
 "nbformat_minor": 4
}
