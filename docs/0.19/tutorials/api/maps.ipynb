{
 "cells": [
  {
   "cell_type": "markdown",
   "metadata": {},
   "source": [
    "\n",
    "<div class=\"alert alert-info\">\n",
    "\n",
    "**This is a fixed-text formatted version of a Jupyter notebook**\n",
    "\n",
    "- Try online[![Binder](https://static.mybinder.org/badge.svg)](https://mybinder.org/v2/gh/gammapy/gammapy-webpage/v0.19?urlpath=lab/tree/api/maps.ipynb)\n",
    "- You may download all the notebooks in the documentation as a\n",
    "[tar file](../../_downloads/notebooks-0.19.tar).\n",
    "- **Source files:**\n",
    "[maps.ipynb](../../_static/notebooks/maps.ipynb) |\n",
    "[maps.py](../../_static/notebooks/maps.py)\n",
    "</div>\n"
   ]
  },
  {
   "cell_type": "markdown",
   "metadata": {},
   "source": [
    "# Maps\n",
    "\n",
    "![Gammapy Maps Illustration](../images/gammapy_maps.png)\n",
    "\n",
    "## Introduction\n",
    "\n",
    "The `~gammapy.maps` submodule contains classes for representing pixilised data on the sky with an arbitrary number of non-spatial dimensions such as energy, time, event class or any possible user-defined dimension (illustrated in the image above). The main `Map` data structure features a uniform API for [WCS](https://fits.gsfc.nasa.gov/fits_wcs.html) as well as [HEALPix](https://en.wikipedia.org/wiki/HEALPix) based images. The API also generalizes simple image based operations such as smoothing, interpolation and reprojection to the arbitrary extra dimensions and makes working with (2 + N)-dimensional hypercubes as easy as working with a simple 2D image. Further information is also provided on the `~gammapy.maps` docs page.\n",
    "\n",
    "In the following introduction we will learn all the basics of working with WCS based maps. HEALPix based maps will be covered in a future tutorial. We will cover the following topics in order:\n",
    "\n",
    "1. [Creating WCS Maps](#Creating-WCS-Maps)\n",
    "1. [Reading and Writing](#Reading-and-Writing)\n",
    "1. [Accessing Data](#Accessing-Data)\n",
    "1. [Modifying Data](#Modifying-Data)\n",
    "1. [Maps operations](#Maps-operations)\n",
    "1. [Visualizing and Plotting](#Visualizing-and-Plotting)\n",
    "\n",
    "Make sure you have worked through the [Gammapy overview](../starting/overview.ipynb), because a solid knowledge about working with `SkyCoord` and `Quantity` objects as well as [Numpy](http://www.numpy.org/) is required for this tutorial.\n",
    "\n",
    "This notebook is rather lengthy, but getting to know the `Map` data structure in detail is essential for working with Gammapy and will allow you to fulfill complex analysis tasks with very few and simple code in future!"
   ]
  },
  {
   "cell_type": "markdown",
   "metadata": {},
   "source": [
    "## Setup"
   ]
  },
  {
   "cell_type": "code",
   "execution_count": 1,
   "metadata": {
    "execution": {
     "iopub.execute_input": "2021-11-22T21:09:43.294616Z",
     "iopub.status.busy": "2021-11-22T21:09:43.293735Z",
     "iopub.status.idle": "2021-11-22T21:09:43.463182Z",
     "shell.execute_reply": "2021-11-22T21:09:43.463366Z"
    }
   },
   "outputs": [],
   "source": [
    "%matplotlib inline\n",
    "import numpy as np\n",
    "import matplotlib.pyplot as plt\n",
    "import os"
   ]
  },
  {
   "cell_type": "code",
   "execution_count": 2,
   "metadata": {
    "execution": {
     "iopub.execute_input": "2021-11-22T21:09:43.465476Z",
     "iopub.status.busy": "2021-11-22T21:09:43.465155Z",
     "iopub.status.idle": "2021-11-22T21:09:43.955619Z",
     "shell.execute_reply": "2021-11-22T21:09:43.955791Z"
    }
   },
   "outputs": [],
   "source": [
    "from astropy import units as u\n",
    "from astropy.io import fits\n",
    "from astropy.table import Table\n",
    "from astropy.coordinates import SkyCoord\n",
    "from astropy.convolution import convolve\n",
    "from gammapy.maps import Map, MapAxis, WcsGeom, WcsNDMap\n",
    "from gammapy.data import EventList"
   ]
  },
  {
   "cell_type": "markdown",
   "metadata": {},
   "source": [
    "## Creating WCS Maps\n",
    "\n",
    "### Using Factory Methods\n",
    "\n",
    "Maps are most easily created using the `~gammapy.maps.Map.create()` factory method:"
   ]
  },
  {
   "cell_type": "code",
   "execution_count": 3,
   "metadata": {
    "execution": {
     "iopub.execute_input": "2021-11-22T21:09:43.958204Z",
     "iopub.status.busy": "2021-11-22T21:09:43.957919Z",
     "iopub.status.idle": "2021-11-22T21:09:44.091581Z",
     "shell.execute_reply": "2021-11-22T21:09:44.091747Z"
    }
   },
   "outputs": [],
   "source": [
    "m_allsky = Map.create()"
   ]
  },
  {
   "cell_type": "markdown",
   "metadata": {},
   "source": [
    "Calling `Map.create()` without any further arguments creates by default an allsky WCS map using a CAR projection, ICRS coordinates and a pixel size of 1 deg. This can be easily checked by printing the `.geom` attribute of the map:"
   ]
  },
  {
   "cell_type": "code",
   "execution_count": 4,
   "metadata": {
    "execution": {
     "iopub.execute_input": "2021-11-22T21:09:44.094667Z",
     "iopub.status.busy": "2021-11-22T21:09:44.094311Z",
     "iopub.status.idle": "2021-11-22T21:09:44.096365Z",
     "shell.execute_reply": "2021-11-22T21:09:44.096564Z"
    }
   },
   "outputs": [
    {
     "name": "stdout",
     "output_type": "stream",
     "text": [
      "WcsGeom\n",
      "\n",
      "\taxes       : ['lon', 'lat']\n",
      "\tshape      : (3600, 1800)\n",
      "\tndim       : 2\n",
      "\tframe      : icrs\n",
      "\tprojection : CAR\n",
      "\tcenter     : 0.0 deg, 0.0 deg\n",
      "\twidth      : 360.0 deg x 180.0 deg\n",
      "\twcs ref    : 0.0 deg, 0.0 deg\n",
      "\n"
     ]
    }
   ],
   "source": [
    "print(m_allsky.geom)"
   ]
  },
  {
   "cell_type": "markdown",
   "metadata": {},
   "source": [
    "The `.geom` attribute is a `Geom` object, that defines the basic geometry of the map, such as size of the pixels, width and height of the image, coordinate system etc., but we will learn more about this object later.\n",
    "\n",
    "Besides the `.geom` attribute the map has also a `.data` attribute, which is just a plain `numpy.ndarray` and stores the data associated with this map:"
   ]
  },
  {
   "cell_type": "code",
   "execution_count": 5,
   "metadata": {
    "execution": {
     "iopub.execute_input": "2021-11-22T21:09:44.098841Z",
     "iopub.status.busy": "2021-11-22T21:09:44.098546Z",
     "iopub.status.idle": "2021-11-22T21:09:44.100569Z",
     "shell.execute_reply": "2021-11-22T21:09:44.100747Z"
    }
   },
   "outputs": [
    {
     "data": {
      "text/plain": [
       "array([[0., 0., 0., ..., 0., 0., 0.],\n",
       "       [0., 0., 0., ..., 0., 0., 0.],\n",
       "       [0., 0., 0., ..., 0., 0., 0.],\n",
       "       ...,\n",
       "       [0., 0., 0., ..., 0., 0., 0.],\n",
       "       [0., 0., 0., ..., 0., 0., 0.],\n",
       "       [0., 0., 0., ..., 0., 0., 0.]], dtype=float32)"
      ]
     },
     "execution_count": 5,
     "metadata": {},
     "output_type": "execute_result"
    }
   ],
   "source": [
    "m_allsky.data"
   ]
  },
  {
   "cell_type": "markdown",
   "metadata": {},
   "source": [
    "By default maps are filled with zeros.\n",
    "\n",
    "The `map_type` argument can be used to control the pixelization scheme (WCS or HPX)."
   ]
  },
  {
   "cell_type": "code",
   "execution_count": 6,
   "metadata": {
    "execution": {
     "iopub.execute_input": "2021-11-22T21:09:44.104728Z",
     "iopub.status.busy": "2021-11-22T21:09:44.104438Z",
     "iopub.status.idle": "2021-11-22T21:09:44.130066Z",
     "shell.execute_reply": "2021-11-22T21:09:44.130259Z"
    }
   },
   "outputs": [],
   "source": [
    "position = SkyCoord(0.0, 5.0, frame=\"galactic\", unit=\"deg\")\n",
    "\n",
    "# Create a WCS Map\n",
    "m_wcs = Map.create(binsz=0.1, map_type=\"wcs\", skydir=position, width=10.0)\n",
    "\n",
    "# Create a HPX Map\n",
    "m_hpx = Map.create(binsz=0.1, map_type=\"hpx\", skydir=position, width=10.0)"
   ]
  },
  {
   "cell_type": "markdown",
   "metadata": {},
   "source": [
    "Here is an example that creates a WCS map centered on the Galactic center and now uses Galactic coordinates:"
   ]
  },
  {
   "cell_type": "code",
   "execution_count": 7,
   "metadata": {
    "execution": {
     "iopub.execute_input": "2021-11-22T21:09:44.133700Z",
     "iopub.status.busy": "2021-11-22T21:09:44.133104Z",
     "iopub.status.idle": "2021-11-22T21:09:44.134964Z",
     "shell.execute_reply": "2021-11-22T21:09:44.135144Z"
    }
   },
   "outputs": [
    {
     "name": "stdout",
     "output_type": "stream",
     "text": [
      "WcsGeom\n",
      "\n",
      "\taxes       : ['lon', 'lat']\n",
      "\tshape      : (500, 250)\n",
      "\tndim       : 2\n",
      "\tframe      : galactic\n",
      "\tprojection : TAN\n",
      "\tcenter     : 0.0 deg, 0.0 deg\n",
      "\twidth      : 10.0 deg x 5.0 deg\n",
      "\twcs ref    : 0.0 deg, 0.0 deg\n",
      "\n"
     ]
    }
   ],
   "source": [
    "skydir = SkyCoord(0, 0, frame=\"galactic\", unit=\"deg\")\n",
    "m_gc = Map.create(\n",
    "    binsz=0.02, width=(10, 5), skydir=skydir, frame=\"galactic\", proj=\"TAN\"\n",
    ")\n",
    "print(m_gc.geom)"
   ]
  },
  {
   "cell_type": "markdown",
   "metadata": {},
   "source": [
    "In addition we have defined a TAN projection, a pixel size of `0.02` deg and a width of the map of `10 deg x 5 deg`. The `width` argument also takes scalar value instead of a tuple, which is interpreted as both the width and height of the map, so that a quadratic map is created."
   ]
  },
  {
   "cell_type": "markdown",
   "metadata": {},
   "source": [
    "### Creating from a Map Geometry\n",
    "\n",
    "As we have seen in the first examples, the `Map` object couples the data (stored as a `numpy.ndarray`) with a `Geom` object. The `Geom` object can be seen as a generalization of an `astropy.wcs.WCS` object, providing the information on how the data maps to physical coordinate systems. In some cases e.g. when creating many maps with the same WCS geometry it can be advantegeous to first create the map geometry independent of the map object itsself: "
   ]
  },
  {
   "cell_type": "code",
   "execution_count": 8,
   "metadata": {
    "execution": {
     "iopub.execute_input": "2021-11-22T21:09:44.137469Z",
     "iopub.status.busy": "2021-11-22T21:09:44.137180Z",
     "iopub.status.idle": "2021-11-22T21:09:44.138281Z",
     "shell.execute_reply": "2021-11-22T21:09:44.138456Z"
    }
   },
   "outputs": [],
   "source": [
    "wcs_geom = WcsGeom.create(\n",
    "    binsz=0.02, width=(10, 5), skydir=(0, 0), frame=\"galactic\"\n",
    ")"
   ]
  },
  {
   "cell_type": "markdown",
   "metadata": {},
   "source": [
    "And then create the map objects from the `wcs_geom` geometry specification:"
   ]
  },
  {
   "cell_type": "code",
   "execution_count": 9,
   "metadata": {
    "execution": {
     "iopub.execute_input": "2021-11-22T21:09:44.140346Z",
     "iopub.status.busy": "2021-11-22T21:09:44.140060Z",
     "iopub.status.idle": "2021-11-22T21:09:44.141523Z",
     "shell.execute_reply": "2021-11-22T21:09:44.141233Z"
    }
   },
   "outputs": [],
   "source": [
    "maps = {}\n",
    "\n",
    "for name in [\"counts\", \"background\"]:\n",
    "    maps[name] = Map.from_geom(wcs_geom)"
   ]
  },
  {
   "cell_type": "markdown",
   "metadata": {},
   "source": [
    "The `Geom` object also has a few helpful methods. E.g. we can check whether a given position on the sky is contained in the map geometry:"
   ]
  },
  {
   "cell_type": "code",
   "execution_count": 10,
   "metadata": {
    "execution": {
     "iopub.execute_input": "2021-11-22T21:09:44.144208Z",
     "iopub.status.busy": "2021-11-22T21:09:44.143928Z",
     "iopub.status.idle": "2021-11-22T21:09:44.145221Z",
     "shell.execute_reply": "2021-11-22T21:09:44.145384Z"
    }
   },
   "outputs": [
    {
     "data": {
      "text/plain": [
       "array([ True, False])"
      ]
     },
     "execution_count": 10,
     "metadata": {},
     "output_type": "execute_result"
    }
   ],
   "source": [
    "# define the position of the Galactic center and anti-center\n",
    "positions = SkyCoord([0, 180], [0, 0], frame=\"galactic\", unit=\"deg\")\n",
    "wcs_geom.contains(positions)"
   ]
  },
  {
   "cell_type": "markdown",
   "metadata": {},
   "source": [
    "Or get the image center of the map:"
   ]
  },
  {
   "cell_type": "code",
   "execution_count": 11,
   "metadata": {
    "execution": {
     "iopub.execute_input": "2021-11-22T21:09:44.147793Z",
     "iopub.status.busy": "2021-11-22T21:09:44.147469Z",
     "iopub.status.idle": "2021-11-22T21:09:44.148964Z",
     "shell.execute_reply": "2021-11-22T21:09:44.149123Z"
    }
   },
   "outputs": [
    {
     "data": {
      "text/plain": [
       "<SkyCoord (Galactic): (l, b) in deg\n",
       "    (0., 0.)>"
      ]
     },
     "execution_count": 11,
     "metadata": {},
     "output_type": "execute_result"
    }
   ],
   "source": [
    "wcs_geom.center_skydir"
   ]
  },
  {
   "cell_type": "markdown",
   "metadata": {},
   "source": [
    "Or we can also retrieve the solid angle per pixel of the map:"
   ]
  },
  {
   "cell_type": "code",
   "execution_count": 12,
   "metadata": {
    "execution": {
     "iopub.execute_input": "2021-11-22T21:09:44.150769Z",
     "iopub.status.busy": "2021-11-22T21:09:44.150491Z",
     "iopub.status.idle": "2021-11-22T21:09:44.209811Z",
     "shell.execute_reply": "2021-11-22T21:09:44.210105Z"
    }
   },
   "outputs": [
    {
     "data": {
      "text/latex": [
       "$$[[1.2173192 \\times 10^{-7},~1.2173192 \\times 10^{-7},~1.2173192 \\times 10^{-7},~\\dots,~1.2173192 \\times 10^{-7},~1.2173192 \\times 10^{-7},~1.2173192 \\times 10^{-7}],~\n",
       " [1.2173376 \\times 10^{-7},~1.2173376 \\times 10^{-7},~1.2173376 \\times 10^{-7},~\\dots,~1.2173376 \\times 10^{-7},~1.2173376 \\times 10^{-7},~1.2173376 \\times 10^{-7}],~\n",
       " [1.2173559 \\times 10^{-7},~1.2173559 \\times 10^{-7},~1.2173559 \\times 10^{-7},~\\dots,~1.2173559 \\times 10^{-7},~1.2173559 \\times 10^{-7},~1.2173559 \\times 10^{-7}],~\n",
       " \\dots,~\n",
       " [1.2173559 \\times 10^{-7},~1.2173559 \\times 10^{-7},~1.2173559 \\times 10^{-7},~\\dots,~1.2173559 \\times 10^{-7},~1.2173559 \\times 10^{-7},~1.2173559 \\times 10^{-7}],~\n",
       " [1.2173376 \\times 10^{-7},~1.2173376 \\times 10^{-7},~1.2173376 \\times 10^{-7},~\\dots,~1.2173376 \\times 10^{-7},~1.2173376 \\times 10^{-7},~1.2173376 \\times 10^{-7}],~\n",
       " [1.2173192 \\times 10^{-7},~1.2173192 \\times 10^{-7},~1.2173192 \\times 10^{-7},~\\dots,~1.2173192 \\times 10^{-7},~1.2173192 \\times 10^{-7},~1.2173192 \\times 10^{-7}]] \\; \\mathrm{sr}$$"
      ],
      "text/plain": [
       "<Quantity [[1.21731921e-07, 1.21731921e-07, 1.21731921e-07, ...,\n",
       "            1.21731921e-07, 1.21731921e-07, 1.21731921e-07],\n",
       "           [1.21733761e-07, 1.21733761e-07, 1.21733761e-07, ...,\n",
       "            1.21733761e-07, 1.21733761e-07, 1.21733761e-07],\n",
       "           [1.21735587e-07, 1.21735587e-07, 1.21735587e-07, ...,\n",
       "            1.21735587e-07, 1.21735587e-07, 1.21735587e-07],\n",
       "           ...,\n",
       "           [1.21735587e-07, 1.21735587e-07, 1.21735587e-07, ...,\n",
       "            1.21735587e-07, 1.21735587e-07, 1.21735587e-07],\n",
       "           [1.21733761e-07, 1.21733761e-07, 1.21733761e-07, ...,\n",
       "            1.21733761e-07, 1.21733761e-07, 1.21733761e-07],\n",
       "           [1.21731921e-07, 1.21731921e-07, 1.21731921e-07, ...,\n",
       "            1.21731921e-07, 1.21731921e-07, 1.21731921e-07]] sr>"
      ]
     },
     "execution_count": 12,
     "metadata": {},
     "output_type": "execute_result"
    }
   ],
   "source": [
    "wcs_geom.solid_angle()"
   ]
  },
  {
   "cell_type": "markdown",
   "metadata": {},
   "source": [
    "### Adding Non-Spatial Axes\n",
    "\n",
    "In many analysis scenarios we would like to add extra dimension to the maps to study e.g. energy or time dependency of the data. Those non-spatial dimensions are handled with the `MapAxis` object. Let us first define an energy axis, with 4 bins:"
   ]
  },
  {
   "cell_type": "code",
   "execution_count": 13,
   "metadata": {
    "execution": {
     "iopub.execute_input": "2021-11-22T21:09:44.212489Z",
     "iopub.status.busy": "2021-11-22T21:09:44.212156Z",
     "iopub.status.idle": "2021-11-22T21:09:44.213323Z",
     "shell.execute_reply": "2021-11-22T21:09:44.213502Z"
    }
   },
   "outputs": [
    {
     "name": "stdout",
     "output_type": "stream",
     "text": [
      "MapAxis\n",
      "\n",
      "\tname       : energy    \n",
      "\tunit       : 'TeV'     \n",
      "\tnbins      : 4         \n",
      "\tnode type  : edges     \n",
      "\tedges min  : 1.0e+00 TeV\n",
      "\tedges max  : 1.0e+02 TeV\n",
      "\tinterp     : log       \n",
      "\n"
     ]
    }
   ],
   "source": [
    "energy_axis = MapAxis.from_bounds(\n",
    "    1, 100, nbin=4, unit=\"TeV\", name=\"energy\", interp=\"log\"\n",
    ")\n",
    "print(energy_axis)"
   ]
  },
  {
   "cell_type": "markdown",
   "metadata": {},
   "source": [
    "Where `interp='log'` specifies that a logarithmic spacing is used between the bins, equivalent to `np.logspace(0, 2, 4)`. This `MapAxis` object we can now pass to `Map.create()` using the `axes=` argument:"
   ]
  },
  {
   "cell_type": "code",
   "execution_count": 14,
   "metadata": {
    "execution": {
     "iopub.execute_input": "2021-11-22T21:09:44.215701Z",
     "iopub.status.busy": "2021-11-22T21:09:44.215422Z",
     "iopub.status.idle": "2021-11-22T21:09:44.217518Z",
     "shell.execute_reply": "2021-11-22T21:09:44.217748Z"
    }
   },
   "outputs": [
    {
     "name": "stdout",
     "output_type": "stream",
     "text": [
      "WcsGeom\n",
      "\n",
      "\taxes       : ['lon', 'lat', 'energy']\n",
      "\tshape      : (500, 250, 4)\n",
      "\tndim       : 3\n",
      "\tframe      : galactic\n",
      "\tprojection : CAR\n",
      "\tcenter     : 0.0 deg, 0.0 deg\n",
      "\twidth      : 10.0 deg x 5.0 deg\n",
      "\twcs ref    : 0.0 deg, 0.0 deg\n",
      "\n"
     ]
    }
   ],
   "source": [
    "m_cube = Map.create(\n",
    "    binsz=0.02, width=(10, 5), frame=\"galactic\", axes=[energy_axis]\n",
    ")\n",
    "print(m_cube.geom)"
   ]
  },
  {
   "cell_type": "markdown",
   "metadata": {},
   "source": [
    "Now we see that besides `lon` and `lat` the map has an additional axes named `energy` with 4 bins. The total dimension of the map is now `ndim=3`.\n",
    "\n",
    "We can also add further axes by passing a list of `MapAxis` objects. To demonstrate this we create a time axis with\n",
    "linearly spaced bins and pass both axes to `Map.create()`:"
   ]
  },
  {
   "cell_type": "code",
   "execution_count": 15,
   "metadata": {
    "execution": {
     "iopub.execute_input": "2021-11-22T21:09:44.220189Z",
     "iopub.status.busy": "2021-11-22T21:09:44.219903Z",
     "iopub.status.idle": "2021-11-22T21:09:44.224495Z",
     "shell.execute_reply": "2021-11-22T21:09:44.224729Z"
    }
   },
   "outputs": [
    {
     "name": "stdout",
     "output_type": "stream",
     "text": [
      "WcsGeom\n",
      "\n",
      "\taxes       : ['lon', 'lat', 'energy', 'time']\n",
      "\tshape      : (500, 250, 4, 24)\n",
      "\tndim       : 4\n",
      "\tframe      : galactic\n",
      "\tprojection : CAR\n",
      "\tcenter     : 0.0 deg, 0.0 deg\n",
      "\twidth      : 10.0 deg x 5.0 deg\n",
      "\twcs ref    : 0.0 deg, 0.0 deg\n",
      "\n"
     ]
    }
   ],
   "source": [
    "time_axis = MapAxis.from_bounds(\n",
    "    0, 24, nbin=24, unit=\"hour\", name=\"time\", interp=\"lin\"\n",
    ")\n",
    "\n",
    "m_4d = Map.create(\n",
    "    binsz=0.02, width=(10, 5), frame=\"galactic\", axes=[energy_axis, time_axis]\n",
    ")\n",
    "print(m_4d.geom)"
   ]
  },
  {
   "cell_type": "markdown",
   "metadata": {},
   "source": [
    "The `MapAxis` object internally stores the coordinates or \"position values\" associated with every map axis bin or \"node\". We distinguish between two node types: `edges` and `center`. The node type `edges`(which is also the default) specifies that the data associated with this axis is integrated between the edges of the bin (e.g. counts data). The node type `center` specifies that the data is given at the center of the bin (e.g. exposure or differential fluxes).\n",
    "\n",
    "The edges of the bins can be checked with `.edges` attribute:"
   ]
  },
  {
   "cell_type": "code",
   "execution_count": 16,
   "metadata": {
    "execution": {
     "iopub.execute_input": "2021-11-22T21:09:44.226769Z",
     "iopub.status.busy": "2021-11-22T21:09:44.226445Z",
     "iopub.status.idle": "2021-11-22T21:09:44.227838Z",
     "shell.execute_reply": "2021-11-22T21:09:44.228057Z"
    }
   },
   "outputs": [
    {
     "data": {
      "text/latex": [
       "$$[1,~3.1622777,~10,~31.622777,~100] \\; \\mathrm{TeV}$$"
      ],
      "text/plain": [
       "<Quantity [  1.        ,   3.16227766,  10.        ,  31.6227766 ,\n",
       "           100.        ] TeV>"
      ]
     },
     "execution_count": 16,
     "metadata": {},
     "output_type": "execute_result"
    }
   ],
   "source": [
    "energy_axis.edges"
   ]
  },
  {
   "cell_type": "markdown",
   "metadata": {},
   "source": [
    "The numbers are given in the units we specified above, which can be checked again with:"
   ]
  },
  {
   "cell_type": "code",
   "execution_count": 17,
   "metadata": {
    "execution": {
     "iopub.execute_input": "2021-11-22T21:09:44.229873Z",
     "iopub.status.busy": "2021-11-22T21:09:44.229555Z",
     "iopub.status.idle": "2021-11-22T21:09:44.230910Z",
     "shell.execute_reply": "2021-11-22T21:09:44.231206Z"
    }
   },
   "outputs": [
    {
     "data": {
      "text/latex": [
       "$$\\mathrm{TeV}$$"
      ],
      "text/plain": [
       "Unit(\"TeV\")"
      ]
     },
     "execution_count": 17,
     "metadata": {},
     "output_type": "execute_result"
    }
   ],
   "source": [
    "energy_axis.unit"
   ]
  },
  {
   "cell_type": "markdown",
   "metadata": {},
   "source": [
    "The centers of the axis bins can be checked with the `.center` attribute:"
   ]
  },
  {
   "cell_type": "code",
   "execution_count": 18,
   "metadata": {
    "execution": {
     "iopub.execute_input": "2021-11-22T21:09:44.233336Z",
     "iopub.status.busy": "2021-11-22T21:09:44.233030Z",
     "iopub.status.idle": "2021-11-22T21:09:44.234393Z",
     "shell.execute_reply": "2021-11-22T21:09:44.234579Z"
    }
   },
   "outputs": [
    {
     "data": {
      "text/latex": [
       "$$[1.7782794,~5.6234133,~17.782794,~56.234133] \\; \\mathrm{TeV}$$"
      ],
      "text/plain": [
       "<Quantity [ 1.77827941,  5.62341325, 17.7827941 , 56.23413252] TeV>"
      ]
     },
     "execution_count": 18,
     "metadata": {},
     "output_type": "execute_result"
    }
   ],
   "source": [
    "energy_axis.center"
   ]
  },
  {
   "cell_type": "markdown",
   "metadata": {},
   "source": [
    "## Reading and Writing\n",
    "\n",
    "Gammapy `Map` objects are serialized using the Flexible Image Transport Format (FITS). Depending on the pixelisation scheme (HEALPix or WCS) and presence of non-spatial dimensions the actual convention to write the FITS file is different.\n",
    "By default Gammpy uses a generic convention named `gadf`, which will support WCS and HEALPix formats as well as an arbitrary number of non-spatial axes. The convention is documented in detail on the [Gamma Astro Data Formats](https://gamma-astro-data-formats.readthedocs.io/en/latest/skymaps/index.html) page.\n",
    "\n",
    "Other conventions required by specific software (e.g. the Fermi Science Tools) are supported as well. At the moment those are the following\n",
    "\n",
    "* `fgst-ccube`: Fermi counts cube format.\n",
    "* `fgst-ltcube`: Fermi livetime cube format.\n",
    "* `fgst-bexpcube`: Fermi exposure cube format\n",
    "* `fgst-template`: Fermi Galactic diffuse and source template format. \n",
    "* `fgst-srcmap` and `fgst-srcmap-sparse`: Fermi source map and sparse source map format.\n",
    "\n",
    "The conventions listed above only support an additional energy axis. \n",
    "\n",
    "### Reading Maps\n",
    "\n",
    "Reading FITS files is mainly exposed via the `Map.read()` method.Let us take a look at a first example: "
   ]
  },
  {
   "cell_type": "code",
   "execution_count": 19,
   "metadata": {
    "execution": {
     "iopub.execute_input": "2021-11-22T21:09:44.236492Z",
     "iopub.status.busy": "2021-11-22T21:09:44.236199Z",
     "iopub.status.idle": "2021-11-22T21:09:44.242869Z",
     "shell.execute_reply": "2021-11-22T21:09:44.243095Z"
    }
   },
   "outputs": [
    {
     "name": "stdout",
     "output_type": "stream",
     "text": [
      "WcsNDMap\n",
      "\n",
      "\tgeom  : WcsGeom \n",
      " \taxes  : ['lon', 'lat']\n",
      "\tshape : (400, 200)\n",
      "\tndim  : 2\n",
      "\tunit  : \n",
      "\tdtype : >i8\n",
      "\n"
     ]
    }
   ],
   "source": [
    "filename = \"$GAMMAPY_DATA/fermi-3fhl-gc/fermi-3fhl-gc-counts.fits.gz\"\n",
    "m_3fhl_gc = Map.read(filename)\n",
    "print(m_3fhl_gc)"
   ]
  },
  {
   "cell_type": "markdown",
   "metadata": {},
   "source": [
    "If `map_type` argument is not given when calling read a map object will be instantiated with the pixelization of the input HDU.\n",
    "\n",
    "By default `Map.read()` will try to find the first valid data hdu in the filename and read the data from there. If multiple HDUs are present in the FITS file, the desired one can be chosen with the additional `hdu=` argument:"
   ]
  },
  {
   "cell_type": "code",
   "execution_count": 20,
   "metadata": {
    "execution": {
     "iopub.execute_input": "2021-11-22T21:09:44.244925Z",
     "iopub.status.busy": "2021-11-22T21:09:44.244594Z",
     "iopub.status.idle": "2021-11-22T21:09:44.250044Z",
     "shell.execute_reply": "2021-11-22T21:09:44.250226Z"
    }
   },
   "outputs": [
    {
     "name": "stdout",
     "output_type": "stream",
     "text": [
      "WcsNDMap\n",
      "\n",
      "\tgeom  : WcsGeom \n",
      " \taxes  : ['lon', 'lat']\n",
      "\tshape : (400, 200)\n",
      "\tndim  : 2\n",
      "\tunit  : \n",
      "\tdtype : >i8\n",
      "\n"
     ]
    }
   ],
   "source": [
    "m_3fhl_gc = Map.read(filename, hdu=\"PRIMARY\")\n",
    "print(m_3fhl_gc)"
   ]
  },
  {
   "cell_type": "markdown",
   "metadata": {},
   "source": [
    "In rare cases e.g. when the FITS file is not valid or meta data is missing from the header it can be necessary to modify the header of a certain HDU before creating the `Map` object. In this case we can use `astropy.io.fits` directly to read the FITS file:"
   ]
  },
  {
   "cell_type": "code",
   "execution_count": 21,
   "metadata": {
    "execution": {
     "iopub.execute_input": "2021-11-22T21:09:44.252015Z",
     "iopub.status.busy": "2021-11-22T21:09:44.251730Z",
     "iopub.status.idle": "2021-11-22T21:09:44.254338Z",
     "shell.execute_reply": "2021-11-22T21:09:44.254566Z"
    }
   },
   "outputs": [
    {
     "name": "stdout",
     "output_type": "stream",
     "text": [
      "Filename: /Users/adonath/github/gammapy/gammapy-data/fermi-3fhl-gc/fermi-3fhl-gc-exposure.fits.gz\n",
      "No.    Name      Ver    Type      Cards   Dimensions   Format\n",
      "  0  PRIMARY       1 PrimaryHDU      23   (400, 200)   float32   \n"
     ]
    }
   ],
   "source": [
    "filename = (\n",
    "    os.environ[\"GAMMAPY_DATA\"]\n",
    "    + \"/fermi-3fhl-gc/fermi-3fhl-gc-exposure.fits.gz\"\n",
    ")\n",
    "hdulist = fits.open(filename)\n",
    "hdulist.info()"
   ]
  },
  {
   "cell_type": "markdown",
   "metadata": {},
   "source": [
    "And then modify the header keyword and use `Map.from_hdulist()` to create the `Map` object after:"
   ]
  },
  {
   "cell_type": "code",
   "execution_count": 22,
   "metadata": {
    "execution": {
     "iopub.execute_input": "2021-11-22T21:09:44.256337Z",
     "iopub.status.busy": "2021-11-22T21:09:44.256057Z",
     "iopub.status.idle": "2021-11-22T21:09:44.259700Z",
     "shell.execute_reply": "2021-11-22T21:09:44.259855Z"
    }
   },
   "outputs": [
    {
     "data": {
      "text/plain": [
       "WcsNDMap\n",
       "\n",
       "\tgeom  : WcsGeom \n",
       " \taxes  : ['lon', 'lat']\n",
       "\tshape : (400, 200)\n",
       "\tndim  : 2\n",
       "\tunit  : cm2 s\n",
       "\tdtype : >f4"
      ]
     },
     "execution_count": 22,
     "metadata": {},
     "output_type": "execute_result"
    }
   ],
   "source": [
    "hdulist[\"PRIMARY\"].header[\"BUNIT\"] = \"cm2 s\"\n",
    "Map.from_hdulist(hdulist=hdulist)"
   ]
  },
  {
   "cell_type": "markdown",
   "metadata": {},
   "source": [
    "### Writing Maps\n",
    "\n",
    "Writing FITS files is mainoy exposure via the `Map.write()` method. Here is a first example:"
   ]
  },
  {
   "cell_type": "code",
   "execution_count": 23,
   "metadata": {
    "execution": {
     "iopub.execute_input": "2021-11-22T21:09:44.268412Z",
     "iopub.status.busy": "2021-11-22T21:09:44.268121Z",
     "iopub.status.idle": "2021-11-22T21:09:44.296193Z",
     "shell.execute_reply": "2021-11-22T21:09:44.296370Z"
    }
   },
   "outputs": [],
   "source": [
    "m_cube.write(\"example_cube.fits\", overwrite=True)"
   ]
  },
  {
   "cell_type": "markdown",
   "metadata": {},
   "source": [
    "By default Gammapy does not overwrite files. In this example we set `overwrite=True` in case the cell gets executed multiple times. Now we can read back the cube from disk using `Map.read()`:"
   ]
  },
  {
   "cell_type": "code",
   "execution_count": 24,
   "metadata": {
    "execution": {
     "iopub.execute_input": "2021-11-22T21:09:44.298239Z",
     "iopub.status.busy": "2021-11-22T21:09:44.297934Z",
     "iopub.status.idle": "2021-11-22T21:09:44.347160Z",
     "shell.execute_reply": "2021-11-22T21:09:44.347398Z"
    }
   },
   "outputs": [
    {
     "name": "stdout",
     "output_type": "stream",
     "text": [
      "WcsNDMap\n",
      "\n",
      "\tgeom  : WcsGeom \n",
      " \taxes  : ['lon', 'lat', 'energy']\n",
      "\tshape : (500, 250, 4)\n",
      "\tndim  : 3\n",
      "\tunit  : \n",
      "\tdtype : >f4\n",
      "\n"
     ]
    }
   ],
   "source": [
    "m_cube = Map.read(\"example_cube.fits\")\n",
    "print(m_cube)"
   ]
  },
  {
   "cell_type": "markdown",
   "metadata": {},
   "source": [
    "We can also choose a different FITS convention to write the example cube in a format compatible to the Fermi Galactic diffuse background model:"
   ]
  },
  {
   "cell_type": "code",
   "execution_count": 25,
   "metadata": {
    "execution": {
     "iopub.execute_input": "2021-11-22T21:09:44.356099Z",
     "iopub.status.busy": "2021-11-22T21:09:44.355806Z",
     "iopub.status.idle": "2021-11-22T21:09:44.360682Z",
     "shell.execute_reply": "2021-11-22T21:09:44.360847Z"
    }
   },
   "outputs": [],
   "source": [
    "m_cube.write(\"example_cube_fgst.fits\", format=\"fgst-template\", overwrite=True)"
   ]
  },
  {
   "cell_type": "markdown",
   "metadata": {},
   "source": [
    "To understand a little bit better the generic `gadf` convention we use `Map.to_hdulist()` to generate a list of FITS HDUs first:   "
   ]
  },
  {
   "cell_type": "code",
   "execution_count": 26,
   "metadata": {
    "execution": {
     "iopub.execute_input": "2021-11-22T21:09:44.371059Z",
     "iopub.status.busy": "2021-11-22T21:09:44.370733Z",
     "iopub.status.idle": "2021-11-22T21:09:44.372150Z",
     "shell.execute_reply": "2021-11-22T21:09:44.372386Z"
    }
   },
   "outputs": [
    {
     "name": "stdout",
     "output_type": "stream",
     "text": [
      "Filename: (No file associated with this HDUList)\n",
      "No.    Name      Ver    Type      Cards   Dimensions   Format\n",
      "  0  PRIMARY       1 PrimaryHDU      30   (500, 250, 4, 24)   float32   \n",
      "  1  PRIMARY_BANDS    1 BinTableHDU     33   96R x 7C   ['K', 'D', 'D', 'D', 'D', 'D', 'D']   \n"
     ]
    }
   ],
   "source": [
    "hdulist = m_4d.to_hdulist(format=\"gadf\")\n",
    "hdulist.info()"
   ]
  },
  {
   "cell_type": "markdown",
   "metadata": {},
   "source": [
    "As we can see the `HDUList` object contains to HDUs. The first one named `PRIMARY` contains the data array with shape corresponding to our data and the WCS information stored in the header:"
   ]
  },
  {
   "cell_type": "code",
   "execution_count": 27,
   "metadata": {
    "execution": {
     "iopub.execute_input": "2021-11-22T21:09:44.374519Z",
     "iopub.status.busy": "2021-11-22T21:09:44.374215Z",
     "iopub.status.idle": "2021-11-22T21:09:44.375776Z",
     "shell.execute_reply": "2021-11-22T21:09:44.375956Z"
    }
   },
   "outputs": [
    {
     "data": {
      "text/plain": [
       "SIMPLE  =                    T / conforms to FITS standard                      \n",
       "BITPIX  =                  -32 / array data type                                \n",
       "NAXIS   =                    4 / number of array dimensions                     \n",
       "NAXIS1  =                  500                                                  \n",
       "NAXIS2  =                  250                                                  \n",
       "NAXIS3  =                    4                                                  \n",
       "NAXIS4  =                   24                                                  \n",
       "EXTEND  =                    T                                                  \n",
       "WCSAXES =                    2 / Number of coordinate axes                      \n",
       "CRPIX1  =                250.5 / Pixel coordinate of reference point            \n",
       "CRPIX2  =                125.5 / Pixel coordinate of reference point            \n",
       "CDELT1  =                -0.02 / [deg] Coordinate increment at reference point  \n",
       "CDELT2  =                 0.02 / [deg] Coordinate increment at reference point  \n",
       "CUNIT1  = 'deg'                / Units of coordinate increment and value        \n",
       "CUNIT2  = 'deg'                / Units of coordinate increment and value        \n",
       "CTYPE1  = 'GLON-CAR'           / galactic longitude, plate caree projection     \n",
       "CTYPE2  = 'GLAT-CAR'           / galactic latitude, plate caree projection      \n",
       "CRVAL1  =                  0.0 / [deg] Coordinate value at reference point      \n",
       "CRVAL2  =                  0.0 / [deg] Coordinate value at reference point      \n",
       "LONPOLE =                  0.0 / [deg] Native longitude of celestial pole       \n",
       "LATPOLE =                 90.0 / [deg] Native latitude of celestial pole        \n",
       "MJDREF  =                  0.0 / [d] MJD of fiducial time                       \n",
       "AXCOLS1 = 'E_MIN,E_MAX'                                                         \n",
       "INTERP1 = 'log     '                                                            \n",
       "AXCOLS2 = 'TIME_MIN,TIME_MAX'                                                   \n",
       "INTERP2 = 'lin     '                                                            \n",
       "WCSSHAPE= '(500,250,4,24)'                                                      \n",
       "BANDSHDU= 'PRIMARY_BANDS'                                                       \n",
       "META    = '{}      '                                                            \n",
       "BUNIT   = ''                                                                    "
      ]
     },
     "execution_count": 27,
     "metadata": {},
     "output_type": "execute_result"
    }
   ],
   "source": [
    "hdulist[\"PRIMARY\"].header"
   ]
  },
  {
   "cell_type": "markdown",
   "metadata": {},
   "source": [
    "The second HDU is a `BinTableHDU` named `PRIMARY_BANDS` contains the information on the non-spatial axes such as name, order, unit, min, max and center values of the axis bins. We use an `astropy.table.Table` to show the information:"
   ]
  },
  {
   "cell_type": "code",
   "execution_count": 28,
   "metadata": {
    "execution": {
     "iopub.execute_input": "2021-11-22T21:09:44.377665Z",
     "iopub.status.busy": "2021-11-22T21:09:44.377385Z",
     "iopub.status.idle": "2021-11-22T21:09:44.381125Z",
     "shell.execute_reply": "2021-11-22T21:09:44.381299Z"
    }
   },
   "outputs": [
    {
     "data": {
      "text/html": [
       "<div><i>Table length=96</i>\n",
       "<table id=\"table4360799232\" class=\"table-striped table-bordered table-condensed\">\n",
       "<thead><tr><th>CHANNEL</th><th>ENERGY</th><th>E_MIN</th><th>E_MAX</th><th>TIME</th><th>TIME_MIN</th><th>TIME_MAX</th></tr></thead>\n",
       "<thead><tr><th></th><th>TeV</th><th>TeV</th><th>TeV</th><th>h</th><th>h</th><th>h</th></tr></thead>\n",
       "<thead><tr><th>int64</th><th>float64</th><th>float64</th><th>float64</th><th>float64</th><th>float64</th><th>float64</th></tr></thead>\n",
       "<tr><td>0</td><td>1.778279410038923</td><td>1.0</td><td>3.1622776601683795</td><td>0.5</td><td>0.0</td><td>1.0</td></tr>\n",
       "<tr><td>1</td><td>5.623413251903492</td><td>3.1622776601683795</td><td>10.000000000000002</td><td>0.5</td><td>0.0</td><td>1.0</td></tr>\n",
       "<tr><td>2</td><td>17.782794100389236</td><td>10.000000000000002</td><td>31.622776601683803</td><td>0.5</td><td>0.0</td><td>1.0</td></tr>\n",
       "<tr><td>3</td><td>56.234132519034915</td><td>31.622776601683803</td><td>100.00000000000004</td><td>0.5</td><td>0.0</td><td>1.0</td></tr>\n",
       "<tr><td>4</td><td>1.778279410038923</td><td>1.0</td><td>3.1622776601683795</td><td>1.5</td><td>1.0</td><td>2.0</td></tr>\n",
       "<tr><td>5</td><td>5.623413251903492</td><td>3.1622776601683795</td><td>10.000000000000002</td><td>1.5</td><td>1.0</td><td>2.0</td></tr>\n",
       "<tr><td>6</td><td>17.782794100389236</td><td>10.000000000000002</td><td>31.622776601683803</td><td>1.5</td><td>1.0</td><td>2.0</td></tr>\n",
       "<tr><td>7</td><td>56.234132519034915</td><td>31.622776601683803</td><td>100.00000000000004</td><td>1.5</td><td>1.0</td><td>2.0</td></tr>\n",
       "<tr><td>8</td><td>1.778279410038923</td><td>1.0</td><td>3.1622776601683795</td><td>2.5</td><td>2.0</td><td>3.0</td></tr>\n",
       "<tr><td>9</td><td>5.623413251903492</td><td>3.1622776601683795</td><td>10.000000000000002</td><td>2.5</td><td>2.0</td><td>3.0</td></tr>\n",
       "<tr><td>10</td><td>17.782794100389236</td><td>10.000000000000002</td><td>31.622776601683803</td><td>2.5</td><td>2.0</td><td>3.0</td></tr>\n",
       "<tr><td>11</td><td>56.234132519034915</td><td>31.622776601683803</td><td>100.00000000000004</td><td>2.5</td><td>2.0</td><td>3.0</td></tr>\n",
       "<tr><td>12</td><td>1.778279410038923</td><td>1.0</td><td>3.1622776601683795</td><td>3.5</td><td>3.0</td><td>4.0</td></tr>\n",
       "<tr><td>13</td><td>5.623413251903492</td><td>3.1622776601683795</td><td>10.000000000000002</td><td>3.5</td><td>3.0</td><td>4.0</td></tr>\n",
       "<tr><td>14</td><td>17.782794100389236</td><td>10.000000000000002</td><td>31.622776601683803</td><td>3.5</td><td>3.0</td><td>4.0</td></tr>\n",
       "<tr><td>15</td><td>56.234132519034915</td><td>31.622776601683803</td><td>100.00000000000004</td><td>3.5</td><td>3.0</td><td>4.0</td></tr>\n",
       "<tr><td>16</td><td>1.778279410038923</td><td>1.0</td><td>3.1622776601683795</td><td>4.5</td><td>4.0</td><td>5.0</td></tr>\n",
       "<tr><td>17</td><td>5.623413251903492</td><td>3.1622776601683795</td><td>10.000000000000002</td><td>4.5</td><td>4.0</td><td>5.0</td></tr>\n",
       "<tr><td>...</td><td>...</td><td>...</td><td>...</td><td>...</td><td>...</td><td>...</td></tr>\n",
       "<tr><td>77</td><td>5.623413251903492</td><td>3.1622776601683795</td><td>10.000000000000002</td><td>19.5</td><td>19.0</td><td>20.0</td></tr>\n",
       "<tr><td>78</td><td>17.782794100389236</td><td>10.000000000000002</td><td>31.622776601683803</td><td>19.5</td><td>19.0</td><td>20.0</td></tr>\n",
       "<tr><td>79</td><td>56.234132519034915</td><td>31.622776601683803</td><td>100.00000000000004</td><td>19.5</td><td>19.0</td><td>20.0</td></tr>\n",
       "<tr><td>80</td><td>1.778279410038923</td><td>1.0</td><td>3.1622776601683795</td><td>20.5</td><td>20.0</td><td>21.0</td></tr>\n",
       "<tr><td>81</td><td>5.623413251903492</td><td>3.1622776601683795</td><td>10.000000000000002</td><td>20.5</td><td>20.0</td><td>21.0</td></tr>\n",
       "<tr><td>82</td><td>17.782794100389236</td><td>10.000000000000002</td><td>31.622776601683803</td><td>20.5</td><td>20.0</td><td>21.0</td></tr>\n",
       "<tr><td>83</td><td>56.234132519034915</td><td>31.622776601683803</td><td>100.00000000000004</td><td>20.5</td><td>20.0</td><td>21.0</td></tr>\n",
       "<tr><td>84</td><td>1.778279410038923</td><td>1.0</td><td>3.1622776601683795</td><td>21.5</td><td>21.0</td><td>22.0</td></tr>\n",
       "<tr><td>85</td><td>5.623413251903492</td><td>3.1622776601683795</td><td>10.000000000000002</td><td>21.5</td><td>21.0</td><td>22.0</td></tr>\n",
       "<tr><td>86</td><td>17.782794100389236</td><td>10.000000000000002</td><td>31.622776601683803</td><td>21.5</td><td>21.0</td><td>22.0</td></tr>\n",
       "<tr><td>87</td><td>56.234132519034915</td><td>31.622776601683803</td><td>100.00000000000004</td><td>21.5</td><td>21.0</td><td>22.0</td></tr>\n",
       "<tr><td>88</td><td>1.778279410038923</td><td>1.0</td><td>3.1622776601683795</td><td>22.5</td><td>22.0</td><td>23.0</td></tr>\n",
       "<tr><td>89</td><td>5.623413251903492</td><td>3.1622776601683795</td><td>10.000000000000002</td><td>22.5</td><td>22.0</td><td>23.0</td></tr>\n",
       "<tr><td>90</td><td>17.782794100389236</td><td>10.000000000000002</td><td>31.622776601683803</td><td>22.5</td><td>22.0</td><td>23.0</td></tr>\n",
       "<tr><td>91</td><td>56.234132519034915</td><td>31.622776601683803</td><td>100.00000000000004</td><td>22.5</td><td>22.0</td><td>23.0</td></tr>\n",
       "<tr><td>92</td><td>1.778279410038923</td><td>1.0</td><td>3.1622776601683795</td><td>23.5</td><td>23.0</td><td>24.0</td></tr>\n",
       "<tr><td>93</td><td>5.623413251903492</td><td>3.1622776601683795</td><td>10.000000000000002</td><td>23.5</td><td>23.0</td><td>24.0</td></tr>\n",
       "<tr><td>94</td><td>17.782794100389236</td><td>10.000000000000002</td><td>31.622776601683803</td><td>23.5</td><td>23.0</td><td>24.0</td></tr>\n",
       "<tr><td>95</td><td>56.234132519034915</td><td>31.622776601683803</td><td>100.00000000000004</td><td>23.5</td><td>23.0</td><td>24.0</td></tr>\n",
       "</table></div>"
      ],
      "text/plain": [
       "<Table length=96>\n",
       "CHANNEL       ENERGY             E_MIN              E_MAX          TIME  TIME_MIN TIME_MAX\n",
       "               TeV                TeV                TeV            h       h        h    \n",
       " int64       float64            float64            float64       float64 float64  float64 \n",
       "------- ------------------ ------------------ ------------------ ------- -------- --------\n",
       "      0  1.778279410038923                1.0 3.1622776601683795     0.5      0.0      1.0\n",
       "      1  5.623413251903492 3.1622776601683795 10.000000000000002     0.5      0.0      1.0\n",
       "      2 17.782794100389236 10.000000000000002 31.622776601683803     0.5      0.0      1.0\n",
       "      3 56.234132519034915 31.622776601683803 100.00000000000004     0.5      0.0      1.0\n",
       "      4  1.778279410038923                1.0 3.1622776601683795     1.5      1.0      2.0\n",
       "      5  5.623413251903492 3.1622776601683795 10.000000000000002     1.5      1.0      2.0\n",
       "      6 17.782794100389236 10.000000000000002 31.622776601683803     1.5      1.0      2.0\n",
       "      7 56.234132519034915 31.622776601683803 100.00000000000004     1.5      1.0      2.0\n",
       "      8  1.778279410038923                1.0 3.1622776601683795     2.5      2.0      3.0\n",
       "      9  5.623413251903492 3.1622776601683795 10.000000000000002     2.5      2.0      3.0\n",
       "     10 17.782794100389236 10.000000000000002 31.622776601683803     2.5      2.0      3.0\n",
       "     11 56.234132519034915 31.622776601683803 100.00000000000004     2.5      2.0      3.0\n",
       "     12  1.778279410038923                1.0 3.1622776601683795     3.5      3.0      4.0\n",
       "     13  5.623413251903492 3.1622776601683795 10.000000000000002     3.5      3.0      4.0\n",
       "     14 17.782794100389236 10.000000000000002 31.622776601683803     3.5      3.0      4.0\n",
       "     15 56.234132519034915 31.622776601683803 100.00000000000004     3.5      3.0      4.0\n",
       "     16  1.778279410038923                1.0 3.1622776601683795     4.5      4.0      5.0\n",
       "     17  5.623413251903492 3.1622776601683795 10.000000000000002     4.5      4.0      5.0\n",
       "    ...                ...                ...                ...     ...      ...      ...\n",
       "     77  5.623413251903492 3.1622776601683795 10.000000000000002    19.5     19.0     20.0\n",
       "     78 17.782794100389236 10.000000000000002 31.622776601683803    19.5     19.0     20.0\n",
       "     79 56.234132519034915 31.622776601683803 100.00000000000004    19.5     19.0     20.0\n",
       "     80  1.778279410038923                1.0 3.1622776601683795    20.5     20.0     21.0\n",
       "     81  5.623413251903492 3.1622776601683795 10.000000000000002    20.5     20.0     21.0\n",
       "     82 17.782794100389236 10.000000000000002 31.622776601683803    20.5     20.0     21.0\n",
       "     83 56.234132519034915 31.622776601683803 100.00000000000004    20.5     20.0     21.0\n",
       "     84  1.778279410038923                1.0 3.1622776601683795    21.5     21.0     22.0\n",
       "     85  5.623413251903492 3.1622776601683795 10.000000000000002    21.5     21.0     22.0\n",
       "     86 17.782794100389236 10.000000000000002 31.622776601683803    21.5     21.0     22.0\n",
       "     87 56.234132519034915 31.622776601683803 100.00000000000004    21.5     21.0     22.0\n",
       "     88  1.778279410038923                1.0 3.1622776601683795    22.5     22.0     23.0\n",
       "     89  5.623413251903492 3.1622776601683795 10.000000000000002    22.5     22.0     23.0\n",
       "     90 17.782794100389236 10.000000000000002 31.622776601683803    22.5     22.0     23.0\n",
       "     91 56.234132519034915 31.622776601683803 100.00000000000004    22.5     22.0     23.0\n",
       "     92  1.778279410038923                1.0 3.1622776601683795    23.5     23.0     24.0\n",
       "     93  5.623413251903492 3.1622776601683795 10.000000000000002    23.5     23.0     24.0\n",
       "     94 17.782794100389236 10.000000000000002 31.622776601683803    23.5     23.0     24.0\n",
       "     95 56.234132519034915 31.622776601683803 100.00000000000004    23.5     23.0     24.0"
      ]
     },
     "execution_count": 28,
     "metadata": {},
     "output_type": "execute_result"
    }
   ],
   "source": [
    "Table.read(hdulist[\"PRIMARY_BANDS\"])"
   ]
  },
  {
   "cell_type": "markdown",
   "metadata": {},
   "source": [
    "Maps can be serialized to a sparse data format by calling write with `sparse=True`. This will write all non-zero pixels in the map to a data table appropriate to the pixelization scheme."
   ]
  },
  {
   "cell_type": "code",
   "execution_count": 29,
   "metadata": {
    "execution": {
     "iopub.execute_input": "2021-11-22T21:09:44.386326Z",
     "iopub.status.busy": "2021-11-22T21:09:44.385963Z",
     "iopub.status.idle": "2021-11-22T21:09:44.390465Z",
     "shell.execute_reply": "2021-11-22T21:09:44.390638Z"
    }
   },
   "outputs": [],
   "source": [
    "m = Map.create(binsz=0.1, map_type=\"wcs\", width=10.0)\n",
    "m.write(\"file.fits\", hdu=\"IMAGE\", sparse=True, overwrite=True)\n",
    "m = Map.read(\"file.fits\", hdu=\"IMAGE\", map_type=\"wcs\")"
   ]
  },
  {
   "cell_type": "markdown",
   "metadata": {},
   "source": [
    "##  Accessing Data\n",
    "\n",
    "### How to get data values\n",
    "\n",
    "All map objects have a set of accessor methods, which can be used to access or update the contents of the map irrespective of its underlying representation. Those accessor methods accept as their first argument a coordinate `tuple` containing scalars, `list`, or `numpy.ndarray` with one tuple element for each dimension. Some methods additionally accept a `dict` or `MapCoord` argument, of which both allow to assign coordinates by axis name.\n",
    "\n",
    "Let us first begin with the `.get_by_idx()` method, that accepts a tuple of indices. The order of the indices corresponds to the axis order of the map: "
   ]
  },
  {
   "cell_type": "code",
   "execution_count": 30,
   "metadata": {
    "execution": {
     "iopub.execute_input": "2021-11-22T21:09:44.392553Z",
     "iopub.status.busy": "2021-11-22T21:09:44.392269Z",
     "iopub.status.idle": "2021-11-22T21:09:44.393712Z",
     "shell.execute_reply": "2021-11-22T21:09:44.393894Z"
    }
   },
   "outputs": [
    {
     "data": {
      "text/plain": [
       "array([0.], dtype=float32)"
      ]
     },
     "execution_count": 30,
     "metadata": {},
     "output_type": "execute_result"
    }
   ],
   "source": [
    "m_gc.get_by_idx((50, 30))"
   ]
  },
  {
   "cell_type": "markdown",
   "metadata": {},
   "source": [
    "**Important:** Gammapy uses a reversed index order in the map API with the longitude axes first. To achieve the same by directly indexing into the numpy array we have to call:  "
   ]
  },
  {
   "cell_type": "code",
   "execution_count": 31,
   "metadata": {
    "execution": {
     "iopub.execute_input": "2021-11-22T21:09:44.395913Z",
     "iopub.status.busy": "2021-11-22T21:09:44.395622Z",
     "iopub.status.idle": "2021-11-22T21:09:44.396917Z",
     "shell.execute_reply": "2021-11-22T21:09:44.397089Z"
    }
   },
   "outputs": [
    {
     "data": {
      "text/plain": [
       "array([0.], dtype=float32)"
      ]
     },
     "execution_count": 31,
     "metadata": {},
     "output_type": "execute_result"
    }
   ],
   "source": [
    "m_gc.data[([30], [50])]"
   ]
  },
  {
   "cell_type": "markdown",
   "metadata": {},
   "source": [
    "To check the order of the axes you can always print the `.geom` attribute:"
   ]
  },
  {
   "cell_type": "code",
   "execution_count": 32,
   "metadata": {
    "execution": {
     "iopub.execute_input": "2021-11-22T21:09:44.399419Z",
     "iopub.status.busy": "2021-11-22T21:09:44.399123Z",
     "iopub.status.idle": "2021-11-22T21:09:44.400431Z",
     "shell.execute_reply": "2021-11-22T21:09:44.400615Z"
    }
   },
   "outputs": [
    {
     "name": "stdout",
     "output_type": "stream",
     "text": [
      "WcsGeom\n",
      "\n",
      "\taxes       : ['lon', 'lat']\n",
      "\tshape      : (500, 250)\n",
      "\tndim       : 2\n",
      "\tframe      : galactic\n",
      "\tprojection : TAN\n",
      "\tcenter     : 0.0 deg, 0.0 deg\n",
      "\twidth      : 10.0 deg x 5.0 deg\n",
      "\twcs ref    : 0.0 deg, 0.0 deg\n",
      "\n"
     ]
    }
   ],
   "source": [
    "print(m_gc.geom)"
   ]
  },
  {
   "cell_type": "markdown",
   "metadata": {},
   "source": [
    "To access values directly by sky coordinates we can use the `.get_by_coord()` method. This time we pass in a `dict`, specifying the axes names corresponding to the given coordinates:"
   ]
  },
  {
   "cell_type": "code",
   "execution_count": 33,
   "metadata": {
    "execution": {
     "iopub.execute_input": "2021-11-22T21:09:44.402386Z",
     "iopub.status.busy": "2021-11-22T21:09:44.402059Z",
     "iopub.status.idle": "2021-11-22T21:09:44.403916Z",
     "shell.execute_reply": "2021-11-22T21:09:44.404072Z"
    }
   },
   "outputs": [
    {
     "data": {
      "text/plain": [
       "array([ 0., nan])"
      ]
     },
     "execution_count": 33,
     "metadata": {},
     "output_type": "execute_result"
    }
   ],
   "source": [
    "m_gc.get_by_coord({\"lon\": [0, 180], \"lat\": [0, 0]})"
   ]
  },
  {
   "cell_type": "markdown",
   "metadata": {},
   "source": [
    "The units of the coordinates are assumed to be in degrees in the coordinate system used by the map. If the coordinates do not correspond to the exact pixel center, the value of the nearest pixel center will be returned. For positions outside the map geometry `np.nan` is returned.\n",
    "\n",
    "The coordinate or idx arrays follow normal [Numpy broadcasting rules](https://jakevdp.github.io/PythonDataScienceHandbook/02.05-computation-on-arrays-broadcasting.html). So the following works as expected:\n",
    "\n"
   ]
  },
  {
   "cell_type": "code",
   "execution_count": 34,
   "metadata": {
    "execution": {
     "iopub.execute_input": "2021-11-22T21:09:44.405921Z",
     "iopub.status.busy": "2021-11-22T21:09:44.405573Z",
     "iopub.status.idle": "2021-11-22T21:09:44.407412Z",
     "shell.execute_reply": "2021-11-22T21:09:44.407583Z"
    }
   },
   "outputs": [
    {
     "data": {
      "text/plain": [
       "array([0., 0., 0., 0., 0., 0., 0., 0., 0., 0.], dtype=float32)"
      ]
     },
     "execution_count": 34,
     "metadata": {},
     "output_type": "execute_result"
    }
   ],
   "source": [
    "lons = np.linspace(-4, 4, 10)\n",
    "m_gc.get_by_coord({\"lon\": lons, \"lat\": 0})"
   ]
  },
  {
   "cell_type": "markdown",
   "metadata": {},
   "source": [
    "Or as an even more advanced example, we can provide `lats` as column vector and broadcasting to a 2D result array will be applied:"
   ]
  },
  {
   "cell_type": "code",
   "execution_count": 35,
   "metadata": {
    "execution": {
     "iopub.execute_input": "2021-11-22T21:09:44.410220Z",
     "iopub.status.busy": "2021-11-22T21:09:44.409935Z",
     "iopub.status.idle": "2021-11-22T21:09:44.411346Z",
     "shell.execute_reply": "2021-11-22T21:09:44.411520Z"
    }
   },
   "outputs": [
    {
     "data": {
      "text/plain": [
       "array([[nan, nan, nan, nan, nan, nan, nan, nan],\n",
       "       [nan, nan, nan, nan, nan, nan, nan, nan],\n",
       "       [ 0.,  0.,  0.,  0.,  0.,  0.,  0.,  0.],\n",
       "       [ 0.,  0.,  0.,  0.,  0.,  0.,  0.,  0.],\n",
       "       [ 0.,  0.,  0.,  0.,  0.,  0.,  0.,  0.],\n",
       "       [ 0.,  0.,  0.,  0.,  0.,  0.,  0.,  0.],\n",
       "       [nan, nan, nan, nan, nan, nan, nan, nan],\n",
       "       [nan, nan, nan, nan, nan, nan, nan, nan]])"
      ]
     },
     "execution_count": 35,
     "metadata": {},
     "output_type": "execute_result"
    }
   ],
   "source": [
    "lons = np.linspace(-4, 4, 8)\n",
    "lats = np.linspace(-4, 4, 8).reshape(-1, 1)\n",
    "m_gc.get_by_coord({\"lon\": lons, \"lat\": lats})"
   ]
  },
  {
   "cell_type": "markdown",
   "metadata": {},
   "source": [
    "### Indexing and Slicing Sub-Maps\n",
    "\n",
    "When you have worked with Numpy arrays in the past you are probably familiar with the concept of indexing and slicing\n",
    "into data arrays. To support slicing of non-spatial axes of `Map` objects, the `Map` object has a `.slice_by_idx()` method, which allows to extract sub-maps from a larger map.\n",
    "\n",
    "The following example demonstrates how to get the map at the energy bin number 3:  "
   ]
  },
  {
   "cell_type": "code",
   "execution_count": 36,
   "metadata": {
    "execution": {
     "iopub.execute_input": "2021-11-22T21:09:44.413448Z",
     "iopub.status.busy": "2021-11-22T21:09:44.413107Z",
     "iopub.status.idle": "2021-11-22T21:09:44.414520Z",
     "shell.execute_reply": "2021-11-22T21:09:44.414695Z"
    }
   },
   "outputs": [
    {
     "name": "stdout",
     "output_type": "stream",
     "text": [
      "WcsNDMap\n",
      "\n",
      "\tgeom  : WcsGeom \n",
      " \taxes  : ['lon', 'lat']\n",
      "\tshape : (500, 250)\n",
      "\tndim  : 2\n",
      "\tunit  : \n",
      "\tdtype : >f4\n",
      "\n"
     ]
    }
   ],
   "source": [
    "m_sub = m_cube.slice_by_idx({\"energy\": 3})\n",
    "print(m_sub)"
   ]
  },
  {
   "cell_type": "markdown",
   "metadata": {},
   "source": [
    "Note that the returned object is again a `Map` with updated axes information. In this case, because we extracted only a single image, the energy axes is dropped from the map.\n",
    "\n",
    "To extract a sub-cube with a sliced energy axes we can use a normal `slice()` object:"
   ]
  },
  {
   "cell_type": "code",
   "execution_count": 37,
   "metadata": {
    "execution": {
     "iopub.execute_input": "2021-11-22T21:09:44.416852Z",
     "iopub.status.busy": "2021-11-22T21:09:44.416558Z",
     "iopub.status.idle": "2021-11-22T21:09:44.417680Z",
     "shell.execute_reply": "2021-11-22T21:09:44.417848Z"
    }
   },
   "outputs": [
    {
     "name": "stdout",
     "output_type": "stream",
     "text": [
      "WcsNDMap\n",
      "\n",
      "\tgeom  : WcsGeom \n",
      " \taxes  : ['lon', 'lat', 'energy']\n",
      "\tshape : (500, 250, 2)\n",
      "\tndim  : 3\n",
      "\tunit  : \n",
      "\tdtype : >f4\n",
      "\n"
     ]
    }
   ],
   "source": [
    "m_sub = m_cube.slice_by_idx({\"energy\": slice(1, 3)})\n",
    "print(m_sub)"
   ]
  },
  {
   "cell_type": "markdown",
   "metadata": {},
   "source": [
    "Note that the returned object is also a `Map` object, but this time with updated energy axis specification.\n",
    "\n",
    "Slicing of multiple dimensions is supported by adding further entries to the dict passed to `.slice_by_idx()`"
   ]
  },
  {
   "cell_type": "code",
   "execution_count": 38,
   "metadata": {
    "execution": {
     "iopub.execute_input": "2021-11-22T21:09:44.419782Z",
     "iopub.status.busy": "2021-11-22T21:09:44.419437Z",
     "iopub.status.idle": "2021-11-22T21:09:44.421170Z",
     "shell.execute_reply": "2021-11-22T21:09:44.421341Z"
    }
   },
   "outputs": [
    {
     "name": "stdout",
     "output_type": "stream",
     "text": [
      "WcsNDMap\n",
      "\n",
      "\tgeom  : WcsGeom \n",
      " \taxes  : ['lon', 'lat', 'energy', 'time']\n",
      "\tshape : (500, 250, 2, 6)\n",
      "\tndim  : 4\n",
      "\tunit  : \n",
      "\tdtype : float32\n",
      "\n"
     ]
    }
   ],
   "source": [
    "m_sub = m_4d.slice_by_idx({\"energy\": slice(1, 3), \"time\": slice(4, 10)})\n",
    "print(m_sub)"
   ]
  },
  {
   "cell_type": "markdown",
   "metadata": {},
   "source": [
    "For convenience there is also a `.get_image_by_coord()` method which allows to access image planes at given non-spatial physical coordinates. This method also supports `Quantity` objects:"
   ]
  },
  {
   "cell_type": "code",
   "execution_count": 39,
   "metadata": {
    "execution": {
     "iopub.execute_input": "2021-11-22T21:09:44.424082Z",
     "iopub.status.busy": "2021-11-22T21:09:44.423761Z",
     "iopub.status.idle": "2021-11-22T21:09:44.425259Z",
     "shell.execute_reply": "2021-11-22T21:09:44.425427Z"
    }
   },
   "outputs": [
    {
     "name": "stdout",
     "output_type": "stream",
     "text": [
      "WcsGeom\n",
      "\n",
      "\taxes       : ['lon', 'lat']\n",
      "\tshape      : (500, 250)\n",
      "\tndim       : 2\n",
      "\tframe      : galactic\n",
      "\tprojection : CAR\n",
      "\tcenter     : 0.0 deg, 0.0 deg\n",
      "\twidth      : 10.0 deg x 5.0 deg\n",
      "\twcs ref    : 0.0 deg, 0.0 deg\n",
      "\n"
     ]
    }
   ],
   "source": [
    "image = m_4d.get_image_by_coord({\"energy\": 4 * u.TeV, \"time\": 5 * u.h})\n",
    "print(image.geom)"
   ]
  },
  {
   "cell_type": "markdown",
   "metadata": {},
   "source": [
    "### Iterating by image\n",
    "\n",
    "For maps with non-spatial dimensions the `~Map.iter_by_image` method can be used\n",
    "to loop over image slices. The image plane index ``idx`` is returned in data order,\n",
    "so that the data array can be indexed directly. Here is an example for an in-place\n",
    "convolution of an image using `astropy.convolution.convolve` to interpolate NaN\n",
    "values:"
   ]
  },
  {
   "cell_type": "code",
   "execution_count": 40,
   "metadata": {
    "execution": {
     "iopub.execute_input": "2021-11-22T21:09:44.428931Z",
     "iopub.status.busy": "2021-11-22T21:09:44.428564Z",
     "iopub.status.idle": "2021-11-22T21:09:44.430240Z",
     "shell.execute_reply": "2021-11-22T21:09:44.430421Z"
    }
   },
   "outputs": [],
   "source": [
    "axis1 = MapAxis([1, 10, 100], interp=\"log\", name=\"energy\")\n",
    "axis2 = MapAxis([1, 2, 3], interp=\"lin\", name=\"time\")\n",
    "m = Map.create(width=(5, 3), axes=[axis1, axis2], binsz=0.1)\n",
    "m.data[:, :, 15:18, 20:25] = np.nan\n",
    "\n",
    "for img, idx in m.iter_by_image():\n",
    "    kernel = np.ones((5, 5))\n",
    "    m.data[idx] = convolve(img, kernel)\n",
    "\n",
    "assert not np.isnan(m.data).any()"
   ]
  },
  {
   "cell_type": "markdown",
   "metadata": {},
   "source": [
    "## Modifying Data\n",
    "\n",
    "### How to set data values\n",
    "\n",
    "To modify and set map data values the `Map` object features as well a `.set_by_idx()` method: \n"
   ]
  },
  {
   "cell_type": "code",
   "execution_count": 41,
   "metadata": {
    "execution": {
     "iopub.execute_input": "2021-11-22T21:09:44.432163Z",
     "iopub.status.busy": "2021-11-22T21:09:44.431875Z",
     "iopub.status.idle": "2021-11-22T21:09:44.432944Z",
     "shell.execute_reply": "2021-11-22T21:09:44.433121Z"
    }
   },
   "outputs": [],
   "source": [
    "m_cube.set_by_idx(idx=(10, 20, 3), vals=42)"
   ]
  },
  {
   "cell_type": "markdown",
   "metadata": {},
   "source": [
    "here we check that data have been updated:"
   ]
  },
  {
   "cell_type": "code",
   "execution_count": 42,
   "metadata": {
    "execution": {
     "iopub.execute_input": "2021-11-22T21:09:44.435050Z",
     "iopub.status.busy": "2021-11-22T21:09:44.434738Z",
     "iopub.status.idle": "2021-11-22T21:09:44.436254Z",
     "shell.execute_reply": "2021-11-22T21:09:44.436408Z"
    }
   },
   "outputs": [
    {
     "data": {
      "text/plain": [
       "array([42.], dtype=float32)"
      ]
     },
     "execution_count": 42,
     "metadata": {},
     "output_type": "execute_result"
    }
   ],
   "source": [
    "m_cube.get_by_idx((10, 20, 3))"
   ]
  },
  {
   "cell_type": "markdown",
   "metadata": {},
   "source": [
    "Of course there is also a `.set_by_coord()` method, which allows to set map data values in physical coordinates. "
   ]
  },
  {
   "cell_type": "code",
   "execution_count": 43,
   "metadata": {
    "execution": {
     "iopub.execute_input": "2021-11-22T21:09:44.438365Z",
     "iopub.status.busy": "2021-11-22T21:09:44.438085Z",
     "iopub.status.idle": "2021-11-22T21:09:44.439375Z",
     "shell.execute_reply": "2021-11-22T21:09:44.439153Z"
    }
   },
   "outputs": [],
   "source": [
    "m_cube.set_by_coord({\"lon\": 0, \"lat\": 0, \"energy\": 2 * u.TeV}, vals=42)"
   ]
  },
  {
   "cell_type": "markdown",
   "metadata": {},
   "source": [
    "Again the `lon` and `lat` values are assumed to be given in degrees in the coordinate system used by the map. For the energy axis, the unit is the one specified on the axis (use `m_cube.geom.axes[0].unit` to check if needed...).\n",
    "\n",
    "All `.xxx_by_coord()` methods accept `SkyCoord` objects as well. In this case we have to use the `skycoord` keyword instead of `lon` and `lat`:"
   ]
  },
  {
   "cell_type": "code",
   "execution_count": 44,
   "metadata": {
    "execution": {
     "iopub.execute_input": "2021-11-22T21:09:44.441799Z",
     "iopub.status.busy": "2021-11-22T21:09:44.441527Z",
     "iopub.status.idle": "2021-11-22T21:09:44.442671Z",
     "shell.execute_reply": "2021-11-22T21:09:44.442841Z"
    }
   },
   "outputs": [],
   "source": [
    "skycoords = SkyCoord([1.2, 3.4], [-0.5, 1.1], frame=\"galactic\", unit=\"deg\")\n",
    "m_cube.set_by_coord({\"skycoord\": skycoords, \"energy\": 2 * u.TeV}, vals=42)"
   ]
  },
  {
   "cell_type": "markdown",
   "metadata": {},
   "source": [
    "### Filling maps from event lists\n",
    "\n",
    "This example shows how to fill a counts cube from an event list:\n"
   ]
  },
  {
   "cell_type": "code",
   "execution_count": 45,
   "metadata": {
    "execution": {
     "iopub.execute_input": "2021-11-22T21:09:44.445734Z",
     "iopub.status.busy": "2021-11-22T21:09:44.445434Z",
     "iopub.status.idle": "2021-11-22T21:09:44.522286Z",
     "shell.execute_reply": "2021-11-22T21:09:44.522473Z"
    },
    "run_control": {
     "marked": false
    }
   },
   "outputs": [],
   "source": [
    "energy_axis = MapAxis.from_bounds(\n",
    "    10.0, 2e3, 12, interp=\"log\", name=\"energy\", unit=\"GeV\"\n",
    ")\n",
    "counts_3d = WcsNDMap.create(\n",
    "    binsz=0.1, width=10.0, skydir=(0, 0), frame=\"galactic\", axes=[energy_axis]\n",
    ")\n",
    "\n",
    "events = EventList.read(\n",
    "    \"$GAMMAPY_DATA/fermi-3fhl-gc/fermi-3fhl-gc-events.fits.gz\"\n",
    ")\n",
    "\n",
    "counts_3d.fill_by_coord({\"skycoord\": events.radec, \"energy\": events.energy})\n",
    "counts_3d.write(\"ccube.fits\", format=\"fgst-ccube\", overwrite=True)"
   ]
  },
  {
   "cell_type": "markdown",
   "metadata": {},
   "source": [
    "Alternatively you can use the `fill_events` method:"
   ]
  },
  {
   "cell_type": "code",
   "execution_count": 46,
   "metadata": {
    "execution": {
     "iopub.execute_input": "2021-11-22T21:09:44.524876Z",
     "iopub.status.busy": "2021-11-22T21:09:44.524560Z",
     "iopub.status.idle": "2021-11-22T21:09:44.536282Z",
     "shell.execute_reply": "2021-11-22T21:09:44.536450Z"
    }
   },
   "outputs": [],
   "source": [
    "counts_3d = WcsNDMap.create(\n",
    "    binsz=0.1, width=10.0, skydir=(0, 0), frame=\"galactic\", axes=[energy_axis]\n",
    ")\n",
    "\n",
    "counts_3d.fill_events(events)"
   ]
  },
  {
   "cell_type": "markdown",
   "metadata": {},
   "source": [
    "If you have a given map already, and want to make a counts image\n",
    "with the same geometry (not using the pixel data from the original map), you can also use the `fill_events` method.\n"
   ]
  },
  {
   "cell_type": "code",
   "execution_count": 47,
   "metadata": {
    "execution": {
     "iopub.execute_input": "2021-11-22T21:09:44.538462Z",
     "iopub.status.busy": "2021-11-22T21:09:44.538175Z",
     "iopub.status.idle": "2021-11-22T21:09:44.608119Z",
     "shell.execute_reply": "2021-11-22T21:09:44.608291Z"
    }
   },
   "outputs": [],
   "source": [
    "events = EventList.read(\n",
    "    \"$GAMMAPY_DATA/fermi-3fhl-gc/fermi-3fhl-gc-events.fits.gz\"\n",
    ")\n",
    "reference_map = Map.read(\n",
    "    \"$GAMMAPY_DATA/fermi-3fhl-gc/fermi-3fhl-gc-counts.fits.gz\"\n",
    ")\n",
    "counts = Map.from_geom(reference_map.geom)\n",
    "counts.fill_events(events)"
   ]
  },
  {
   "cell_type": "markdown",
   "metadata": {},
   "source": [
    "It works for IACT and Fermi-LAT events, for WCS or HEALPix map geometries,\n",
    "and also for extra axes. Especially energy axes are automatically handled correctly.\n"
   ]
  },
  {
   "cell_type": "markdown",
   "metadata": {},
   "source": [
    "### Filling maps from interpolation\n",
    "\n",
    "Maps support interpolation via the `~Map.interp_by_coord` and\n",
    "`~Map.interp_by_pix` methods.  Currently the following interpolation methods are\n",
    "supported:\n",
    "\n",
    "* ``nearest`` : Return value of nearest pixel (no interpolation).\n",
    "* ``linear`` : Interpolation with first order polynomial.  This is the\n",
    "  only interpolation method that is supported for all map types.\n",
    "* ``quadratic`` : Interpolation with second order polynomial.\n",
    "* ``cubic`` : Interpolation with third order polynomial.\n",
    "\n",
    "Note that ``quadratic`` and ``cubic`` interpolation are currently only supported\n",
    "for WCS-based maps with regular geometry (e.g. 2D or ND with the same geometry\n",
    "in every image plane). ``linear`` and higher order interpolation by pixel\n",
    "coordinates is only supported for WCS-based maps.\n",
    "\n",
    "In the following example we create a new map and fill it by interpolating another map:\n"
   ]
  },
  {
   "cell_type": "code",
   "execution_count": 48,
   "metadata": {
    "execution": {
     "iopub.execute_input": "2021-11-22T21:09:44.611012Z",
     "iopub.status.busy": "2021-11-22T21:09:44.610686Z",
     "iopub.status.idle": "2021-11-22T21:09:44.634171Z",
     "shell.execute_reply": "2021-11-22T21:09:44.634374Z"
    }
   },
   "outputs": [],
   "source": [
    "# read map\n",
    "filename = \"$GAMMAPY_DATA/fermi-3fhl-gc/gll_iem_v06_gc.fits.gz\"\n",
    "m_iem_gc = Map.read(filename)\n",
    "\n",
    "# create new geometry\n",
    "skydir = SkyCoord(266.4, -28.9, frame=\"icrs\", unit=\"deg\")\n",
    "wcs_geom_cel = WcsGeom.create(\n",
    "    skydir=skydir, binsz=0.1, frame=\"icrs\", width=(8, 4)\n",
    ")\n",
    "\n",
    "# create new empty map from geometry\n",
    "m_iem_10GeV = Map.from_geom(wcs_geom_cel)\n",
    "coords = m_iem_10GeV.geom.get_coord()\n",
    "\n",
    "# fill new map using interpolation\n",
    "m_iem_10GeV.data = m_iem_gc.interp_by_coord(\n",
    "    {\"skycoord\": coords.skycoord, \"energy_true\": 10 * u.GeV},\n",
    "    method=\"linear\",\n",
    "    fill_value=np.nan,\n",
    ")"
   ]
  },
  {
   "cell_type": "markdown",
   "metadata": {},
   "source": [
    "### Interpolating onto a different geometry"
   ]
  },
  {
   "cell_type": "markdown",
   "metadata": {},
   "source": [
    "For 3d geometries this operation can be performed directly using the `.interp_to_geom()` method. This is very useful, ex: while using map arithmetic."
   ]
  },
  {
   "cell_type": "code",
   "execution_count": 49,
   "metadata": {
    "execution": {
     "iopub.execute_input": "2021-11-22T21:09:44.637775Z",
     "iopub.status.busy": "2021-11-22T21:09:44.637487Z",
     "iopub.status.idle": "2021-11-22T21:09:44.650150Z",
     "shell.execute_reply": "2021-11-22T21:09:44.650385Z"
    }
   },
   "outputs": [
    {
     "name": "stdout",
     "output_type": "stream",
     "text": [
      "WcsNDMap\n",
      "\n",
      "\tgeom  : WcsGeom \n",
      " \taxes  : ['lon', 'lat', 'energy_true']\n",
      "\tshape : (80, 40, 6)\n",
      "\tndim  : 3\n",
      "\tunit  : 1 / (cm2 MeV s sr)\n",
      "\tdtype : float64\n",
      "\n"
     ]
    }
   ],
   "source": [
    "# create new geometry\n",
    "energy_axis = MapAxis.from_bounds(\n",
    "    10.0, 2e3, 6, interp=\"log\", name=\"energy_true\", unit=\"GeV\"\n",
    ")\n",
    "skydir = SkyCoord(266.4, -28.9, frame=\"icrs\", unit=\"deg\")\n",
    "wcs_geom_3d = WcsGeom.create(\n",
    "    skydir=skydir, binsz=0.1, frame=\"icrs\", width=(8, 4), axes=[energy_axis]\n",
    ")\n",
    "\n",
    "# create the interpolated map\n",
    "m_iem_interp = m_iem_gc.interp_to_geom(\n",
    "    wcs_geom_3d, preserve_counts=False, method=\"linear\", fill_value=np.nan\n",
    ")\n",
    "print(m_iem_interp)"
   ]
  },
  {
   "cell_type": "markdown",
   "metadata": {},
   "source": [
    "Note that `preserve_counts` option should be true if the map is an integral quantity (e.g. counts) and false if the map is a differential quantity (e.g. intensity)."
   ]
  },
  {
   "cell_type": "markdown",
   "metadata": {},
   "source": [
    "## Maps operations\n",
    "\n",
    "### Basic operators\n",
    "\n",
    "One can perform simple arithmetic on maps using the `+`, `-`, `*`, `/` operators, this works only for maps with the same geometry:"
   ]
  },
  {
   "cell_type": "code",
   "execution_count": 50,
   "metadata": {
    "execution": {
     "iopub.execute_input": "2021-11-22T21:09:44.652760Z",
     "iopub.status.busy": "2021-11-22T21:09:44.652440Z",
     "iopub.status.idle": "2021-11-22T21:09:44.653558Z",
     "shell.execute_reply": "2021-11-22T21:09:44.653803Z"
    }
   },
   "outputs": [],
   "source": [
    "iem_plus_iem = m_iem_10GeV + m_iem_10GeV\n",
    "\n",
    "iem_minus_iem = m_iem_10GeV - m_iem_10GeV"
   ]
  },
  {
   "cell_type": "markdown",
   "metadata": {},
   "source": [
    "These operations can be applied between a Map and a scalar in that specific order:"
   ]
  },
  {
   "cell_type": "code",
   "execution_count": 51,
   "metadata": {
    "execution": {
     "iopub.execute_input": "2021-11-22T21:09:44.655676Z",
     "iopub.status.busy": "2021-11-22T21:09:44.655387Z",
     "iopub.status.idle": "2021-11-22T21:09:44.656610Z",
     "shell.execute_reply": "2021-11-22T21:09:44.656901Z"
    }
   },
   "outputs": [],
   "source": [
    "iem_times_two = m_iem_10GeV * 2\n",
    "# iem_times_two = 2 * m_iem_10GeV # this won't work"
   ]
  },
  {
   "cell_type": "markdown",
   "metadata": {},
   "source": [
    "The logic operators can also by applied on maps (the result is a map of boolean type):"
   ]
  },
  {
   "cell_type": "code",
   "execution_count": 52,
   "metadata": {
    "execution": {
     "iopub.execute_input": "2021-11-22T21:09:44.659148Z",
     "iopub.status.busy": "2021-11-22T21:09:44.658858Z",
     "iopub.status.idle": "2021-11-22T21:09:44.659998Z",
     "shell.execute_reply": "2021-11-22T21:09:44.660170Z"
    }
   },
   "outputs": [
    {
     "name": "stdout",
     "output_type": "stream",
     "text": [
      "WcsNDMap\n",
      "\n",
      "\tgeom  : WcsGeom \n",
      " \taxes  : ['lon', 'lat']\n",
      "\tshape : (80, 40)\n",
      "\tndim  : 2\n",
      "\tunit  : \n",
      "\tdtype : bool\n",
      "\n"
     ]
    }
   ],
   "source": [
    "is_null = iem_minus_iem == 0\n",
    "print(is_null)"
   ]
  },
  {
   "cell_type": "markdown",
   "metadata": {},
   "source": [
    "Here we check that the result is `True` for all the well-defiend pixels (not `NaN`):"
   ]
  },
  {
   "cell_type": "code",
   "execution_count": 53,
   "metadata": {
    "execution": {
     "iopub.execute_input": "2021-11-22T21:09:44.662270Z",
     "iopub.status.busy": "2021-11-22T21:09:44.661953Z",
     "iopub.status.idle": "2021-11-22T21:09:44.663272Z",
     "shell.execute_reply": "2021-11-22T21:09:44.663491Z"
    }
   },
   "outputs": [
    {
     "data": {
      "text/plain": [
       "True"
      ]
     },
     "execution_count": 53,
     "metadata": {},
     "output_type": "execute_result"
    }
   ],
   "source": [
    "np.all(is_null.data[~np.isnan(iem_minus_iem)])"
   ]
  },
  {
   "cell_type": "markdown",
   "metadata": {},
   "source": [
    "### Cutouts\n",
    "\n",
    "The `WCSNDMap` objects features a `.cutout()` method, which allows you to cut out a smaller part of a larger map. This can be useful, e.g. when working with allsky diffuse maps. Here is an example: "
   ]
  },
  {
   "cell_type": "code",
   "execution_count": 54,
   "metadata": {
    "execution": {
     "iopub.execute_input": "2021-11-22T21:09:44.667729Z",
     "iopub.status.busy": "2021-11-22T21:09:44.667436Z",
     "iopub.status.idle": "2021-11-22T21:09:44.668649Z",
     "shell.execute_reply": "2021-11-22T21:09:44.668866Z"
    }
   },
   "outputs": [],
   "source": [
    "position = SkyCoord(0, 0, frame=\"galactic\", unit=\"deg\")\n",
    "m_iem_cutout = m_iem_gc.cutout(position=position, width=(4 * u.deg, 2 * u.deg))"
   ]
  },
  {
   "cell_type": "markdown",
   "metadata": {},
   "source": [
    "The returned object is again a `Map` object with updated WCS information and data size. As one can see the cutout is automatically applied to all the non-spatial axes as well. The cutout width is given in the order of `(lon, lat)` and can be specified with units that will be handled correctly. "
   ]
  },
  {
   "cell_type": "markdown",
   "metadata": {},
   "source": [
    "## Visualizing and Plotting\n",
    "\n",
    "\n",
    "All map objects provide a ``plot`` method for generating a visualization of a\n",
    "map.  This method returns figure, axes, and image objects that can be used to\n",
    "further tweak/customize the image. The `plot` method should be used with 2D maps, while 3D maps can be displayed with the `.plot_interative()` or `.plot_grid()` methods.\n",
    "\n",
    "\n",
    "### Image Plotting \n",
    "\n",
    "For debugging and inspecting the map data it is useful to plot or visualize the images planes contained in the map. "
   ]
  },
  {
   "cell_type": "code",
   "execution_count": 55,
   "metadata": {
    "execution": {
     "iopub.execute_input": "2021-11-22T21:09:44.670640Z",
     "iopub.status.busy": "2021-11-22T21:09:44.670361Z",
     "iopub.status.idle": "2021-11-22T21:09:44.676123Z",
     "shell.execute_reply": "2021-11-22T21:09:44.676284Z"
    }
   },
   "outputs": [],
   "source": [
    "filename = \"$GAMMAPY_DATA/fermi-3fhl-gc/fermi-3fhl-gc-counts.fits.gz\"\n",
    "m_3fhl_gc = Map.read(filename)"
   ]
  },
  {
   "cell_type": "markdown",
   "metadata": {},
   "source": [
    "After reading the map we can now plot it on the screen by calling the `.plot()` method:"
   ]
  },
  {
   "cell_type": "code",
   "execution_count": 56,
   "metadata": {
    "execution": {
     "iopub.execute_input": "2021-11-22T21:09:44.678035Z",
     "iopub.status.busy": "2021-11-22T21:09:44.677751Z",
     "iopub.status.idle": "2021-11-22T21:09:44.891680Z",
     "shell.execute_reply": "2021-11-22T21:09:44.891879Z"
    }
   },
   "outputs": [
    {
     "data": {
      "image/png": "[encoded data removed]",
      "text/plain": [
       "<Figure size 432x288 with 1 Axes>"
      ]
     },
     "metadata": {
      "needs_background": "light"
     },
     "output_type": "display_data"
    }
   ],
   "source": [
    "m_3fhl_gc.plot();"
   ]
  },
  {
   "cell_type": "markdown",
   "metadata": {},
   "source": [
    "We can easily improve the plot by calling `Map.smooth()` first and providing additional arguments to `.plot()`. Most of them are passed further to [plt.imshow()](https://matplotlib.org/api/_as_gen/matplotlib.pyplot.imshow.html):"
   ]
  },
  {
   "cell_type": "code",
   "execution_count": 57,
   "metadata": {
    "execution": {
     "iopub.execute_input": "2021-11-22T21:09:44.894200Z",
     "iopub.status.busy": "2021-11-22T21:09:44.893904Z",
     "iopub.status.idle": "2021-11-22T21:09:45.070992Z",
     "shell.execute_reply": "2021-11-22T21:09:45.071175Z"
    }
   },
   "outputs": [
    {
     "name": "stderr",
     "output_type": "stream",
     "text": [
      "/Users/adonath/software/mambaforge/envs/gammapy-dev/lib/python3.9/site-packages/astropy/visualization/wcsaxes/core.py:211: MatplotlibDeprecationWarning: Passing parameters norm and vmin/vmax simultaneously is deprecated since 3.3 and will become an error two minor releases later. Please pass vmin/vmax directly to the norm when creating it.\n",
      "  return super().imshow(X, *args, origin=origin, **kwargs)\n"
     ]
    },
    {
     "data": {
      "image/png": "[encoded data removed]",
      "text/plain": [
       "<Figure size 432x288 with 2 Axes>"
      ]
     },
     "metadata": {
      "needs_background": "light"
     },
     "output_type": "display_data"
    }
   ],
   "source": [
    "smoothed = m_3fhl_gc.smooth(width=0.2 * u.deg, kernel=\"gauss\")\n",
    "smoothed.plot(stretch=\"sqrt\", add_cbar=True, vmax=4, cmap=\"inferno\");"
   ]
  },
  {
   "cell_type": "markdown",
   "metadata": {},
   "source": [
    "We can use the [plt.rc_context()](https://matplotlib.org/api/_as_gen/matplotlib.pyplot.rc_context.html) context manager to further tweak the plot by adapting the figure and font size:"
   ]
  },
  {
   "cell_type": "code",
   "execution_count": 58,
   "metadata": {
    "execution": {
     "iopub.execute_input": "2021-11-22T21:09:45.073897Z",
     "iopub.status.busy": "2021-11-22T21:09:45.073577Z",
     "iopub.status.idle": "2021-11-22T21:09:45.272080Z",
     "shell.execute_reply": "2021-11-22T21:09:45.272274Z"
    }
   },
   "outputs": [
    {
     "name": "stderr",
     "output_type": "stream",
     "text": [
      "/Users/adonath/software/mambaforge/envs/gammapy-dev/lib/python3.9/site-packages/astropy/visualization/wcsaxes/core.py:211: MatplotlibDeprecationWarning: Passing parameters norm and vmin/vmax simultaneously is deprecated since 3.3 and will become an error two minor releases later. Please pass vmin/vmax directly to the norm when creating it.\n",
      "  return super().imshow(X, *args, origin=origin, **kwargs)\n"
     ]
    },
    {
     "data": {
      "image/png": "[encoded data removed]",
      "text/plain": [
       "<Figure size 864x388.8 with 2 Axes>"
      ]
     },
     "metadata": {
      "needs_background": "light"
     },
     "output_type": "display_data"
    }
   ],
   "source": [
    "rc_params = {\"figure.figsize\": (12, 5.4), \"font.size\": 12}\n",
    "with plt.rc_context(rc=rc_params):\n",
    "    smoothed = m_3fhl_gc.smooth(width=0.2 * u.deg, kernel=\"gauss\")\n",
    "    smoothed.plot(stretch=\"sqrt\", add_cbar=True, vmax=4);"
   ]
  },
  {
   "cell_type": "markdown",
   "metadata": {},
   "source": [
    "### Cube plotting \n",
    "\n",
    "For maps with non-spatial dimensions the `Map` object features an interactive plotting method, that works in jupyter notebooks only (Note: it requires the package `ipywidgets` to be installed). We first read a small example cutout from the Fermi Galactic diffuse model and display the data cube by calling `.plot_interactive()`:"
   ]
  },
  {
   "cell_type": "code",
   "execution_count": 59,
   "metadata": {
    "execution": {
     "iopub.execute_input": "2021-11-22T21:09:45.275384Z",
     "iopub.status.busy": "2021-11-22T21:09:45.275085Z",
     "iopub.status.idle": "2021-11-22T21:09:45.389935Z",
     "shell.execute_reply": "2021-11-22T21:09:45.390131Z"
    }
   },
   "outputs": [
    {
     "data": {
      "application/vnd.jupyter.widget-view+json": {
       "model_id": "c2a5657f9b54435097de39aebdd74cff",
       "version_major": 2,
       "version_minor": 0
      },
      "text/plain": [
       "interactive(children=(SelectionSlider(continuous_update=False, description='Select energy_true:', layout=Layou…"
      ]
     },
     "metadata": {},
     "output_type": "display_data"
    }
   ],
   "source": [
    "rc_params = {\n",
    "    \"figure.figsize\": (12, 5.4),\n",
    "    \"font.size\": 12,\n",
    "    \"axes.formatter.limits\": (2, -2),\n",
    "}\n",
    "m_iem_gc.plot_interactive(add_cbar=True, stretch=\"sqrt\", rc_params=rc_params)"
   ]
  },
  {
   "cell_type": "markdown",
   "metadata": {},
   "source": [
    "Now you can use the interactive slider to select an energy range and the corresponding image is displayed on the screen. You can also use the radio buttons to select your preferred image stretching. We have passed additional keywords using the `rc_params` argument to improve the figure and font size. Those keywords are directly passed to the [plt.rc_context()](https://matplotlib.org/api/_as_gen/matplotlib.pyplot.rc_context.html) context manager.\n",
    "\n",
    "Additionally all the slices of a 3D `Map` can be displayed using the `.plot_grid()` method. By default the colorbars bounds of the subplots are not the same, we can make them consistent using the `vmin` and `vmax` options:"
   ]
  },
  {
   "cell_type": "code",
   "execution_count": 60,
   "metadata": {
    "execution": {
     "iopub.execute_input": "2021-11-22T21:09:45.476814Z",
     "iopub.status.busy": "2021-11-22T21:09:45.421022Z",
     "iopub.status.idle": "2021-11-22T21:09:45.910217Z",
     "shell.execute_reply": "2021-11-22T21:09:45.910508Z"
    },
    "nbsphinx-thumbnail": {
     "tooltip": "A thorough tutorial to work with WCS maps."
    }
   },
   "outputs": [
    {
     "name": "stderr",
     "output_type": "stream",
     "text": [
      "/Users/adonath/software/mambaforge/envs/gammapy-dev/lib/python3.9/site-packages/astropy/visualization/wcsaxes/core.py:211: MatplotlibDeprecationWarning: Passing parameters norm and vmin/vmax simultaneously is deprecated since 3.3 and will become an error two minor releases later. Please pass vmin/vmax directly to the norm when creating it.\n",
      "  return super().imshow(X, *args, origin=origin, **kwargs)\n"
     ]
    },
    {
     "data": {
      "image/png": "[encoded data removed]",
      "text/plain": [
       "<Figure size 1152x864 with 12 Axes>"
      ]
     },
     "metadata": {
      "needs_background": "light"
     },
     "output_type": "display_data"
    }
   ],
   "source": [
    "counts_3d.plot_grid(ncols=4, figsize=(16, 12), vmin=0, vmax=100, stretch=\"log\");"
   ]
  },
  {
   "cell_type": "code",
   "execution_count": null,
   "metadata": {},
   "outputs": [],
   "source": []
  }
 ],
 "metadata": {
  "kernelspec": {
   "display_name": "Python 3",
   "language": "python",
   "name": "python3"
  },
  "language_info": {
   "codemirror_mode": {
    "name": "ipython",
    "version": 3
   },
   "file_extension": ".py",
   "mimetype": "text/x-python",
   "name": "python",
   "nbconvert_exporter": "python",
   "pygments_lexer": "ipython3",
   "version": "3.9.0"
  },
  "latex_envs": {
   "LaTeX_envs_menu_present": true,
   "autoclose": false,
   "autocomplete": true,
   "bibliofile": "biblio.bib",
   "cite_by": "apalike",
   "current_citInitial": 1,
   "eqLabelWithNumbers": true,
   "eqNumInitial": 1,
   "hotkeys": {
    "equation": "Ctrl-E",
    "itemize": "Ctrl-I"
   },
   "labels_anchors": false,
   "latex_user_defs": false,
   "report_style_numbering": false,
   "user_envs_cfg": false
  },
  "nbsphinx": {
   "orphan": true
  },
  "widgets": {
   "application/vnd.jupyter.widget-state+json": {
    "state": {
     "467e8e086237478fb00396cf2aff7003": {
      "model_module": "@jupyter-widgets/controls",
      "model_module_version": "1.5.0",
      "model_name": "DescriptionStyleModel",
      "state": {
       "_model_module": "@jupyter-widgets/controls",
       "_model_module_version": "1.5.0",
       "_model_name": "DescriptionStyleModel",
       "_view_count": null,
       "_view_module": "@jupyter-widgets/base",
       "_view_module_version": "1.2.0",
       "_view_name": "StyleView",
       "description_width": "initial"
      }
     },
     "80db416dd95b4306a5f0275fed1f2866": {
      "model_module": "@jupyter-widgets/base",
      "model_module_version": "1.2.0",
      "model_name": "LayoutModel",
      "state": {
       "_model_module": "@jupyter-widgets/base",
       "_model_module_version": "1.2.0",
       "_model_name": "LayoutModel",
       "_view_count": null,
       "_view_module": "@jupyter-widgets/base",
       "_view_module_version": "1.2.0",
       "_view_name": "LayoutView",
       "align_content": null,
       "align_items": null,
       "align_self": null,
       "border": null,
       "bottom": null,
       "display": null,
       "flex": null,
       "flex_flow": null,
       "grid_area": null,
       "grid_auto_columns": null,
       "grid_auto_flow": null,
       "grid_auto_rows": null,
       "grid_column": null,
       "grid_gap": null,
       "grid_row": null,
       "grid_template_areas": null,
       "grid_template_columns": null,
       "grid_template_rows": null,
       "height": null,
       "justify_content": null,
       "justify_items": null,
       "left": null,
       "margin": null,
       "max_height": null,
       "max_width": null,
       "min_height": null,
       "min_width": null,
       "object_fit": null,
       "object_position": null,
       "order": null,
       "overflow": null,
       "overflow_x": null,
       "overflow_y": null,
       "padding": null,
       "right": null,
       "top": null,
       "visibility": null,
       "width": null
      }
     },
     "95d8e3e895724e8c87fbb25667511d39": {
      "model_module": "@jupyter-widgets/output",
      "model_module_version": "1.0.0",
      "model_name": "OutputModel",
      "state": {
       "_dom_classes": [],
       "_model_module": "@jupyter-widgets/output",
       "_model_module_version": "1.0.0",
       "_model_name": "OutputModel",
       "_view_count": null,
       "_view_module": "@jupyter-widgets/output",
       "_view_module_version": "1.0.0",
       "_view_name": "OutputView",
       "layout": "IPY_MODEL_80db416dd95b4306a5f0275fed1f2866",
       "msg_id": "",
       "outputs": [
        {
         "data": {
          "image/png": "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\n",
          "text/plain": "<Figure size 864x388.8 with 2 Axes>"
         },
         "metadata": {
          "needs_background": "light"
         },
         "output_type": "display_data"
        }
       ]
      }
     },
     "c2a5657f9b54435097de39aebdd74cff": {
      "model_module": "@jupyter-widgets/controls",
      "model_module_version": "1.5.0",
      "model_name": "VBoxModel",
      "state": {
       "_dom_classes": [
        "widget-interact"
       ],
       "_model_module": "@jupyter-widgets/controls",
       "_model_module_version": "1.5.0",
       "_model_name": "VBoxModel",
       "_view_count": null,
       "_view_module": "@jupyter-widgets/controls",
       "_view_module_version": "1.5.0",
       "_view_name": "VBoxView",
       "box_style": "",
       "children": [
        "IPY_MODEL_e471b1664bde407d8e289fc2f08b544c",
        "IPY_MODEL_e946f7ad5cef4f759d53767cf8f7b914",
        "IPY_MODEL_95d8e3e895724e8c87fbb25667511d39"
       ],
       "layout": "IPY_MODEL_eaff6ead2a8a489e8e7e79368bfca9a0"
      }
     },
     "d5fce44b372642debb2375f9a7c07739": {
      "model_module": "@jupyter-widgets/base",
      "model_module_version": "1.2.0",
      "model_name": "LayoutModel",
      "state": {
       "_model_module": "@jupyter-widgets/base",
       "_model_module_version": "1.2.0",
       "_model_name": "LayoutModel",
       "_view_count": null,
       "_view_module": "@jupyter-widgets/base",
       "_view_module_version": "1.2.0",
       "_view_name": "LayoutView",
       "align_content": null,
       "align_items": null,
       "align_self": null,
       "border": null,
       "bottom": null,
       "display": null,
       "flex": null,
       "flex_flow": null,
       "grid_area": null,
       "grid_auto_columns": null,
       "grid_auto_flow": null,
       "grid_auto_rows": null,
       "grid_column": null,
       "grid_gap": null,
       "grid_row": null,
       "grid_template_areas": null,
       "grid_template_columns": null,
       "grid_template_rows": null,
       "height": null,
       "justify_content": null,
       "justify_items": null,
       "left": null,
       "margin": null,
       "max_height": null,
       "max_width": null,
       "min_height": null,
       "min_width": null,
       "object_fit": null,
       "object_position": null,
       "order": null,
       "overflow": null,
       "overflow_x": null,
       "overflow_y": null,
       "padding": null,
       "right": null,
       "top": null,
       "visibility": null,
       "width": "50%"
      }
     },
     "d964471765c249e48408aa4b2ed1ba75": {
      "model_module": "@jupyter-widgets/base",
      "model_module_version": "1.2.0",
      "model_name": "LayoutModel",
      "state": {
       "_model_module": "@jupyter-widgets/base",
       "_model_module_version": "1.2.0",
       "_model_name": "LayoutModel",
       "_view_count": null,
       "_view_module": "@jupyter-widgets/base",
       "_view_module_version": "1.2.0",
       "_view_name": "LayoutView",
       "align_content": null,
       "align_items": null,
       "align_self": null,
       "border": null,
       "bottom": null,
       "display": null,
       "flex": null,
       "flex_flow": null,
       "grid_area": null,
       "grid_auto_columns": null,
       "grid_auto_flow": null,
       "grid_auto_rows": null,
       "grid_column": null,
       "grid_gap": null,
       "grid_row": null,
       "grid_template_areas": null,
       "grid_template_columns": null,
       "grid_template_rows": null,
       "height": null,
       "justify_content": null,
       "justify_items": null,
       "left": null,
       "margin": null,
       "max_height": null,
       "max_width": null,
       "min_height": null,
       "min_width": null,
       "object_fit": null,
       "object_position": null,
       "order": null,
       "overflow": null,
       "overflow_x": null,
       "overflow_y": null,
       "padding": null,
       "right": null,
       "top": null,
       "visibility": null,
       "width": null
      }
     },
     "e471b1664bde407d8e289fc2f08b544c": {
      "model_module": "@jupyter-widgets/controls",
      "model_module_version": "1.5.0",
      "model_name": "SelectionSliderModel",
      "state": {
       "_dom_classes": [],
       "_model_module": "@jupyter-widgets/controls",
       "_model_module_version": "1.5.0",
       "_model_name": "SelectionSliderModel",
       "_options_labels": [
        "5.85e+01 MeV",
        "8.00e+01 MeV",
        "1.09e+02 MeV",
        "1.50e+02 MeV",
        "2.05e+02 MeV",
        "2.80e+02 MeV",
        "3.83e+02 MeV",
        "5.23e+02 MeV",
        "7.16e+02 MeV",
        "9.79e+02 MeV",
        "1.34e+03 MeV",
        "1.83e+03 MeV",
        "2.50e+03 MeV",
        "3.42e+03 MeV",
        "4.68e+03 MeV",
        "6.41e+03 MeV",
        "8.76e+03 MeV",
        "1.20e+04 MeV",
        "1.64e+04 MeV",
        "2.24e+04 MeV",
        "3.06e+04 MeV",
        "4.19e+04 MeV",
        "5.73e+04 MeV",
        "7.84e+04 MeV",
        "1.07e+05 MeV",
        "1.47e+05 MeV",
        "2.01e+05 MeV",
        "2.74e+05 MeV",
        "3.75e+05 MeV",
        "5.13e+05 MeV"
       ],
       "_view_count": null,
       "_view_module": "@jupyter-widgets/controls",
       "_view_module_version": "1.5.0",
       "_view_name": "SelectionSliderView",
       "continuous_update": false,
       "description": "Select energy_true:",
       "description_tooltip": null,
       "disabled": false,
       "index": 0,
       "layout": "IPY_MODEL_d5fce44b372642debb2375f9a7c07739",
       "orientation": "horizontal",
       "readout": true,
       "style": "IPY_MODEL_467e8e086237478fb00396cf2aff7003"
      }
     },
     "e946f7ad5cef4f759d53767cf8f7b914": {
      "model_module": "@jupyter-widgets/controls",
      "model_module_version": "1.5.0",
      "model_name": "RadioButtonsModel",
      "state": {
       "_dom_classes": [],
       "_model_module": "@jupyter-widgets/controls",
       "_model_module_version": "1.5.0",
       "_model_name": "RadioButtonsModel",
       "_options_labels": [
        "linear",
        "sqrt",
        "log"
       ],
       "_view_count": null,
       "_view_module": "@jupyter-widgets/controls",
       "_view_module_version": "1.5.0",
       "_view_name": "RadioButtonsView",
       "description": "Select stretch:",
       "description_tooltip": null,
       "disabled": false,
       "index": 1,
       "layout": "IPY_MODEL_d964471765c249e48408aa4b2ed1ba75",
       "style": "IPY_MODEL_fd346431bc2b4c26b329c06a4e7b074b"
      }
     },
     "eaff6ead2a8a489e8e7e79368bfca9a0": {
      "model_module": "@jupyter-widgets/base",
      "model_module_version": "1.2.0",
      "model_name": "LayoutModel",
      "state": {
       "_model_module": "@jupyter-widgets/base",
       "_model_module_version": "1.2.0",
       "_model_name": "LayoutModel",
       "_view_count": null,
       "_view_module": "@jupyter-widgets/base",
       "_view_module_version": "1.2.0",
       "_view_name": "LayoutView",
       "align_content": null,
       "align_items": null,
       "align_self": null,
       "border": null,
       "bottom": null,
       "display": null,
       "flex": null,
       "flex_flow": null,
       "grid_area": null,
       "grid_auto_columns": null,
       "grid_auto_flow": null,
       "grid_auto_rows": null,
       "grid_column": null,
       "grid_gap": null,
       "grid_row": null,
       "grid_template_areas": null,
       "grid_template_columns": null,
       "grid_template_rows": null,
       "height": null,
       "justify_content": null,
       "justify_items": null,
       "left": null,
       "margin": null,
       "max_height": null,
       "max_width": null,
       "min_height": null,
       "min_width": null,
       "object_fit": null,
       "object_position": null,
       "order": null,
       "overflow": null,
       "overflow_x": null,
       "overflow_y": null,
       "padding": null,
       "right": null,
       "top": null,
       "visibility": null,
       "width": null
      }
     },
     "fd346431bc2b4c26b329c06a4e7b074b": {
      "model_module": "@jupyter-widgets/controls",
      "model_module_version": "1.5.0",
      "model_name": "DescriptionStyleModel",
      "state": {
       "_model_module": "@jupyter-widgets/controls",
       "_model_module_version": "1.5.0",
       "_model_name": "DescriptionStyleModel",
       "_view_count": null,
       "_view_module": "@jupyter-widgets/base",
       "_view_module_version": "1.2.0",
       "_view_name": "StyleView",
       "description_width": "initial"
      }
     }
    },
    "version_major": 2,
    "version_minor": 0
   }
  }
 },
 "nbformat": 4,
 "nbformat_minor": 2
}
