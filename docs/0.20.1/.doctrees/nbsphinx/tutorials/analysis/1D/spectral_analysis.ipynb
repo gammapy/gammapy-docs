{
 "cells": [
  {
   "cell_type": "markdown",
   "id": "11f16ae8",
   "metadata": {},
   "source": [
    "\n",
    "<div class=\"alert alert-info\">\n",
    "\n",
    "**This is a fixed-text formatted version of a Jupyter notebook**\n",
    "\n",
    "- Try online[![Binder](https://static.mybinder.org/badge.svg)](https://mybinder.org/v2/gh/gammapy/gammapy-webpage/v0.20.1?urlpath=lab/tree/tutorials/analysis/1D/spectral_analysis.ipynb)\n",
    "- You may download all the notebooks as a [tar file](../../../_downloads/notebooks-0.20.1.tar).\n",
    "- **Source files:**\n",
    "[spectral_analysis.ipynb](../../../_static/notebooks/spectral_analysis.ipynb) |\n",
    "[spectral_analysis.py](../../../_static/notebooks/spectral_analysis.py)\n",
    "</div>\n"
   ]
  },
  {
   "cell_type": "markdown",
   "id": "7ef71c01",
   "metadata": {},
   "source": [
    "# Spectral analysis"
   ]
  },
  {
   "cell_type": "markdown",
   "id": "d16fd1bc",
   "metadata": {},
   "source": [
    "## Prerequisites \n",
    "\n",
    "- Understanding how spectral extraction is performed in Cherenkov astronomy, in particular regarding OFF background measurements. \n",
    "- Understanding the basics data reduction and modeling/fitting process with the gammapy library API as shown in the [first gammapy analysis with the gammapy library API tutorial](../../starting/analysis_2.ipynb)\n",
    "\n",
    "## Context\n",
    "\n",
    "While 3D analyses allow in principle to consider complex field of views containing overlapping gamma-ray sources, in many cases we might have an observation with a single, strong, point-like source in the field of view. A spectral analysis, in that case, might consider all the events inside a source (or ON) region and bin them in energy only, obtaining 1D datasets. \n",
    "\n",
    "In classical Cherenkov astronomy, the background estimation technique associated with this method measures the number of events in OFF regions taken in regions of the field-of-view devoid of gamma-ray emitters, where the background rate is assumed to be equal to the one in the ON region. \n",
    "\n",
    "This allows to use a specific fit statistics for ON-OFF measurements, the wstat (see `~gammapy.stats.wstat`), where no background model is assumed. Background is treated as a set of nuisance parameters. This removes some systematic effects connected\n",
    "to the choice or the quality of the background model. But this comes at the expense of larger statistical uncertainties on the fitted model parameters.\n",
    "\n",
    "**Objective: perform a full region based spectral analysis of 4 Crab observations of  H.E.S.S. data release 1 and fit the resulting datasets.**\n",
    "\n",
    "## Introduction\n",
    "\n",
    "Here, as usual, we use the `~gammapy.data.DataStore` to retrieve a list of selected observations (`~gammapy.data.Observations`). Then, we define the ON region containing the source and the geometry of the `~gammapy.datasets.SpectrumDataset` object we want to produce. We then create the corresponding dataset Maker. \n",
    "\n",
    "We have to define the Maker object that will extract the OFF counts from reflected regions in the field-of-view. To ensure we use data in an energy range where the quality of the IRFs is good enough we also create a safe range Maker.\n",
    "\n",
    "We can then proceed with data reduction with a loop over all selected observations to produce datasets in the relevant geometry.\n",
    "\n",
    "We can then explore the resulting datasets and look at the cumulative signal and significance of our source. We finally proceed with model fitting. \n",
    "\n",
    "In practice, we have to:\n",
    "- Create a `~gammapy.data.DataStore` poiting to the relevant data \n",
    "- Apply an observation selection to produce a list of observations, a `~gammapy.data.Observations` object.\n",
    "- Define a geometry of the spectrum we want to produce:\n",
    "    - Create a `~regions.CircleSkyRegion` for the ON extraction region\n",
    "    - Create a `~gammapy.maps.MapAxis` for the energy binnings: one for the reconstructed (i.e. measured) energy, the other for the true energy (i.e. the one used by IRFs and models)\n",
    "- Create the necessary makers : \n",
    "    - the spectrum dataset maker : `~gammapy.makers.SpectrumDatasetMaker`\n",
    "    - the OFF background maker, here a `~gammapy.makers.ReflectedRegionsBackgroundMaker`\n",
    "    - and the safe range maker : `~gammapy.makers.SafeMaskMaker`\n",
    "- Perform the data reduction loop. And for every observation:\n",
    "    - Apply the makers sequentially to produce a `~gammapy.datasets.SpectrumDatasetOnOff`\n",
    "    - Append it to list of datasets\n",
    "- Define the `~gammapy.modeling.models.SkyModel` to apply to the dataset.\n",
    "- Create a `~gammapy.modeling.Fit` object and run it to fit the model parameters\n",
    "- Apply a `~gammapy.estimators.FluxPointsEstimator` to compute flux points for the spectral part of the fit.\n"
   ]
  },
  {
   "cell_type": "markdown",
   "id": "e41132cc",
   "metadata": {},
   "source": [
    "## Setup\n",
    "\n",
    "As usual, we'll start with some setup ..."
   ]
  },
  {
   "cell_type": "code",
   "execution_count": 1,
   "id": "32ab9273",
   "metadata": {
    "execution": {
     "iopub.execute_input": "2022-06-17T21:33:47.702631Z",
     "iopub.status.busy": "2022-06-17T21:33:47.701830Z",
     "iopub.status.idle": "2022-06-17T21:33:49.253095Z",
     "shell.execute_reply": "2022-06-17T21:33:49.251873Z"
    }
   },
   "outputs": [],
   "source": [
    "%matplotlib inline\n",
    "import matplotlib.pyplot as plt"
   ]
  },
  {
   "cell_type": "code",
   "execution_count": 2,
   "id": "556defd3",
   "metadata": {
    "execution": {
     "iopub.execute_input": "2022-06-17T21:33:49.258956Z",
     "iopub.status.busy": "2022-06-17T21:33:49.258066Z",
     "iopub.status.idle": "2022-06-17T21:33:50.512089Z",
     "shell.execute_reply": "2022-06-17T21:33:50.510978Z"
    }
   },
   "outputs": [
    {
     "name": "stdout",
     "output_type": "stream",
     "text": [
      "gammapy: 0.20.1\n",
      "numpy: 1.22.3\n",
      "astropy 5.0.4\n",
      "regions 0.6\n"
     ]
    }
   ],
   "source": [
    "# Check package versions\n",
    "import gammapy\n",
    "import numpy as np\n",
    "import astropy\n",
    "import regions\n",
    "\n",
    "print(\"gammapy:\", gammapy.__version__)\n",
    "print(\"numpy:\", np.__version__)\n",
    "print(\"astropy\", astropy.__version__)\n",
    "print(\"regions\", regions.__version__)"
   ]
  },
  {
   "cell_type": "code",
   "execution_count": 3,
   "id": "61b2ca63",
   "metadata": {
    "execution": {
     "iopub.execute_input": "2022-06-17T21:33:50.516934Z",
     "iopub.status.busy": "2022-06-17T21:33:50.516317Z",
     "iopub.status.idle": "2022-06-17T21:33:52.319353Z",
     "shell.execute_reply": "2022-06-17T21:33:52.318217Z"
    }
   },
   "outputs": [],
   "source": [
    "from pathlib import Path\n",
    "import astropy.units as u\n",
    "from astropy.coordinates import SkyCoord, Angle\n",
    "from regions import CircleSkyRegion\n",
    "from gammapy.maps import MapAxis, RegionGeom, WcsGeom\n",
    "from gammapy.modeling import Fit\n",
    "from gammapy.data import DataStore\n",
    "from gammapy.datasets import (\n",
    "    Datasets,\n",
    "    SpectrumDataset,\n",
    "    SpectrumDatasetOnOff,\n",
    "    FluxPointsDataset,\n",
    ")\n",
    "from gammapy.modeling.models import (\n",
    "    ExpCutoffPowerLawSpectralModel,\n",
    "    create_crab_spectral_model,\n",
    "    SkyModel,\n",
    ")\n",
    "from gammapy.makers import (\n",
    "    SafeMaskMaker,\n",
    "    SpectrumDatasetMaker,\n",
    "    ReflectedRegionsBackgroundMaker,\n",
    ")\n",
    "from gammapy.estimators import FluxPointsEstimator\n",
    "from gammapy.visualization import plot_spectrum_datasets_off_regions"
   ]
  },
  {
   "cell_type": "markdown",
   "id": "bd4650ed",
   "metadata": {},
   "source": [
    "## Load Data\n",
    "\n",
    "First, we select and load some H.E.S.S. observations of the Crab nebula (simulated events for now).\n",
    "\n",
    "We will access the events, effective area, energy dispersion, livetime and PSF for containement correction."
   ]
  },
  {
   "cell_type": "code",
   "execution_count": 4,
   "id": "385620ce",
   "metadata": {
    "execution": {
     "iopub.execute_input": "2022-06-17T21:33:52.324583Z",
     "iopub.status.busy": "2022-06-17T21:33:52.323899Z",
     "iopub.status.idle": "2022-06-17T21:33:52.419293Z",
     "shell.execute_reply": "2022-06-17T21:33:52.418263Z"
    }
   },
   "outputs": [],
   "source": [
    "datastore = DataStore.from_dir(\"$GAMMAPY_DATA/hess-dl3-dr1/\")\n",
    "obs_ids = [23523, 23526, 23559, 23592]\n",
    "observations = datastore.get_observations(obs_ids)"
   ]
  },
  {
   "cell_type": "markdown",
   "id": "cc028289",
   "metadata": {},
   "source": [
    "## Define Target Region\n",
    "\n",
    "The next step is to define a signal extraction region, also known as on region. In the simplest case this is just a [CircleSkyRegion](http://astropy-regions.readthedocs.io/en/latest/api/regions.CircleSkyRegion.html)."
   ]
  },
  {
   "cell_type": "code",
   "execution_count": 5,
   "id": "3e848c2b",
   "metadata": {
    "execution": {
     "iopub.execute_input": "2022-06-17T21:33:52.424066Z",
     "iopub.status.busy": "2022-06-17T21:33:52.423528Z",
     "iopub.status.idle": "2022-06-17T21:33:52.432213Z",
     "shell.execute_reply": "2022-06-17T21:33:52.431209Z"
    }
   },
   "outputs": [],
   "source": [
    "target_position = SkyCoord(ra=83.63, dec=22.01, unit=\"deg\", frame=\"icrs\")\n",
    "on_region_radius = Angle(\"0.11 deg\")\n",
    "on_region = CircleSkyRegion(center=target_position, radius=on_region_radius)"
   ]
  },
  {
   "cell_type": "markdown",
   "id": "3b20ca87",
   "metadata": {},
   "source": [
    "## Create exclusion mask\n",
    "\n",
    "We will use the reflected regions method to place off regions to estimate the background level in the on region.\n",
    "To make sure the off regions don't contain gamma-ray emission, we create an exclusion mask.\n",
    "\n",
    "Using http://gamma-sky.net/ we find that there's only one known gamma-ray source near the Crab nebula: the AGN called [RGB J0521+212](http://gamma-sky.net/#/cat/tev/23) at GLON = 183.604 deg and GLAT = -8.708 deg."
   ]
  },
  {
   "cell_type": "code",
   "execution_count": 6,
   "id": "5dc2aeec",
   "metadata": {
    "execution": {
     "iopub.execute_input": "2022-06-17T21:33:52.437591Z",
     "iopub.status.busy": "2022-06-17T21:33:52.436907Z",
     "iopub.status.idle": "2022-06-17T21:33:53.439886Z",
     "shell.execute_reply": "2022-06-17T21:33:53.438847Z"
    },
    "scrolled": true
   },
   "outputs": [
    {
     "data": {
      "image/png": "[encoded data removed]",
      "text/plain": [
       "<Figure size 432x288 with 1 Axes>"
      ]
     },
     "metadata": {
      "needs_background": "light"
     },
     "output_type": "display_data"
    }
   ],
   "source": [
    "exclusion_region = CircleSkyRegion(\n",
    "    center=SkyCoord(183.604, -8.708, unit=\"deg\", frame=\"galactic\"),\n",
    "    radius=0.5 * u.deg,\n",
    ")\n",
    "\n",
    "skydir = target_position.galactic\n",
    "geom = WcsGeom.create(\n",
    "    npix=(150, 150), binsz=0.05, skydir=skydir, proj=\"TAN\", frame=\"icrs\"\n",
    ")\n",
    "\n",
    "exclusion_mask = ~geom.region_mask([exclusion_region])\n",
    "exclusion_mask.plot();"
   ]
  },
  {
   "cell_type": "markdown",
   "id": "b2041808",
   "metadata": {},
   "source": [
    "## Run data reduction chain\n",
    "\n",
    "We begin with the configuration of the maker classes:"
   ]
  },
  {
   "cell_type": "code",
   "execution_count": 7,
   "id": "6a6d083d",
   "metadata": {
    "execution": {
     "iopub.execute_input": "2022-06-17T21:33:53.444704Z",
     "iopub.status.busy": "2022-06-17T21:33:53.444320Z",
     "iopub.status.idle": "2022-06-17T21:33:53.486058Z",
     "shell.execute_reply": "2022-06-17T21:33:53.485011Z"
    }
   },
   "outputs": [],
   "source": [
    "energy_axis = MapAxis.from_energy_bounds(\n",
    "    0.1, 40, nbin=10, per_decade=True, unit=\"TeV\", name=\"energy\"\n",
    ")\n",
    "energy_axis_true = MapAxis.from_energy_bounds(\n",
    "    0.05, 100, nbin=20, per_decade=True, unit=\"TeV\", name=\"energy_true\"\n",
    ")\n",
    "\n",
    "geom = RegionGeom.create(region=on_region, axes=[energy_axis])\n",
    "dataset_empty = SpectrumDataset.create(\n",
    "    geom=geom, energy_axis_true=energy_axis_true\n",
    ")"
   ]
  },
  {
   "cell_type": "code",
   "execution_count": 8,
   "id": "6b6d1617",
   "metadata": {
    "execution": {
     "iopub.execute_input": "2022-06-17T21:33:53.490581Z",
     "iopub.status.busy": "2022-06-17T21:33:53.490211Z",
     "iopub.status.idle": "2022-06-17T21:33:53.497624Z",
     "shell.execute_reply": "2022-06-17T21:33:53.496499Z"
    }
   },
   "outputs": [],
   "source": [
    "dataset_maker = SpectrumDatasetMaker(\n",
    "    containment_correction=True, selection=[\"counts\", \"exposure\", \"edisp\"]\n",
    ")\n",
    "bkg_maker = ReflectedRegionsBackgroundMaker(exclusion_mask=exclusion_mask)\n",
    "safe_mask_masker = SafeMaskMaker(methods=[\"aeff-max\"], aeff_percent=10)"
   ]
  },
  {
   "cell_type": "code",
   "execution_count": 9,
   "id": "8fbe9fb6",
   "metadata": {
    "execution": {
     "iopub.execute_input": "2022-06-17T21:33:53.503400Z",
     "iopub.status.busy": "2022-06-17T21:33:53.502485Z",
     "iopub.status.idle": "2022-06-17T21:34:00.892242Z",
     "shell.execute_reply": "2022-06-17T21:34:00.891222Z"
    }
   },
   "outputs": [
    {
     "name": "stdout",
     "output_type": "stream",
     "text": [
      "CPU times: user 6.68 s, sys: 202 ms, total: 6.88 s\n",
      "Wall time: 7.38 s\n"
     ]
    }
   ],
   "source": [
    "%%time\n",
    "datasets = Datasets()\n",
    "\n",
    "for obs_id, observation in zip(obs_ids, observations):\n",
    "    dataset = dataset_maker.run(\n",
    "        dataset_empty.copy(name=str(obs_id)), observation\n",
    "    )\n",
    "    dataset_on_off = bkg_maker.run(dataset, observation)\n",
    "    dataset_on_off = safe_mask_masker.run(dataset_on_off, observation)\n",
    "    datasets.append(dataset_on_off)"
   ]
  },
  {
   "cell_type": "markdown",
   "id": "021a96ed",
   "metadata": {},
   "source": [
    "## Plot off regions"
   ]
  },
  {
   "cell_type": "code",
   "execution_count": 10,
   "id": "e8bd8908",
   "metadata": {
    "execution": {
     "iopub.execute_input": "2022-06-17T21:34:00.897652Z",
     "iopub.status.busy": "2022-06-17T21:34:00.896924Z",
     "iopub.status.idle": "2022-06-17T21:34:08.516192Z",
     "shell.execute_reply": "2022-06-17T21:34:08.514250Z"
    }
   },
   "outputs": [
    {
     "data": {
      "text/plain": [
       "<WCSAxesSubplot:xlabel='Right Ascension', ylabel='Declination'>"
      ]
     },
     "execution_count": 10,
     "metadata": {},
     "output_type": "execute_result"
    },
    {
     "data": {
      "image/png": "[encoded data removed]",
      "text/plain": [
       "<Figure size 576x576 with 1 Axes>"
      ]
     },
     "metadata": {
      "needs_background": "light"
     },
     "output_type": "display_data"
    }
   ],
   "source": [
    "plt.figure(figsize=(8, 8))\n",
    "ax = exclusion_mask.plot()\n",
    "on_region.to_pixel(ax.wcs).plot(ax=ax, edgecolor=\"k\")\n",
    "plot_spectrum_datasets_off_regions(ax=ax, datasets=datasets)"
   ]
  },
  {
   "cell_type": "markdown",
   "id": "9d9ddc96",
   "metadata": {},
   "source": [
    "## Source statistic\n",
    "\n",
    "Next we're going to look at the overall source statistics in our signal region."
   ]
  },
  {
   "cell_type": "code",
   "execution_count": 11,
   "id": "3ece67c5",
   "metadata": {
    "execution": {
     "iopub.execute_input": "2022-06-17T21:34:08.522951Z",
     "iopub.status.busy": "2022-06-17T21:34:08.522282Z",
     "iopub.status.idle": "2022-06-17T21:34:09.123223Z",
     "shell.execute_reply": "2022-06-17T21:34:09.122158Z"
    }
   },
   "outputs": [],
   "source": [
    "info_table = datasets.info_table(cumulative=True)"
   ]
  },
  {
   "cell_type": "code",
   "execution_count": 12,
   "id": "589eee9d",
   "metadata": {
    "execution": {
     "iopub.execute_input": "2022-06-17T21:34:09.130109Z",
     "iopub.status.busy": "2022-06-17T21:34:09.128095Z",
     "iopub.status.idle": "2022-06-17T21:34:09.142710Z",
     "shell.execute_reply": "2022-06-17T21:34:09.141616Z"
    }
   },
   "outputs": [
    {
     "data": {
      "text/html": [
       "<div><i>Table length=4</i>\n",
       "<table id=\"table5430737696\" class=\"table-striped table-bordered table-condensed\">\n",
       "<thead><tr><th>name</th><th>counts</th><th>excess</th><th>sqrt_ts</th><th>background</th><th>npred</th><th>npred_background</th><th>npred_signal</th><th>exposure_min</th><th>exposure_max</th><th>livetime</th><th>ontime</th><th>counts_rate</th><th>background_rate</th><th>excess_rate</th><th>n_bins</th><th>n_fit_bins</th><th>stat_type</th><th>stat_sum</th><th>counts_off</th><th>acceptance</th><th>acceptance_off</th><th>alpha</th></tr></thead>\n",
       "<thead><tr><th></th><th></th><th></th><th></th><th></th><th></th><th></th><th></th><th>m2 s</th><th>m2 s</th><th>s</th><th>s</th><th>1 / s</th><th>1 / s</th><th>1 / s</th><th></th><th></th><th></th><th></th><th></th><th></th><th></th><th></th></tr></thead>\n",
       "<thead><tr><th>str7</th><th>int64</th><th>float64</th><th>float64</th><th>float64</th><th>float64</th><th>float64</th><th>float64</th><th>float64</th><th>float64</th><th>float64</th><th>float64</th><th>float64</th><th>float64</th><th>float64</th><th>int64</th><th>int64</th><th>str5</th><th>float64</th><th>int64</th><th>float64</th><th>float64</th><th>float64</th></tr></thead>\n",
       "<tr><td>stacked</td><td>149</td><td>139.25</td><td>20.449683569684254</td><td>9.75</td><td>20.461539024432028</td><td>20.461539024432028</td><td>nan</td><td>2892003.25</td><td>841726208.0</td><td>1581.7367646954954</td><td>1687.0</td><td>0.09420025084179189</td><td>0.006164110373875643</td><td>0.08803614046791623</td><td>27</td><td>18</td><td>wstat</td><td>433.5372460592368</td><td>117</td><td>18.0</td><td>216.0</td><td>0.0833333358168602</td></tr>\n",
       "<tr><td>stacked</td><td>303</td><td>280.75</td><td>28.446255766130005</td><td>22.250001907348633</td><td>43.84615575068094</td><td>43.84615575068094</td><td>nan</td><td>13397219.0</td><td>1572412928.0</td><td>3154.4235137812793</td><td>3370.0</td><td>0.09605558628263806</td><td>0.007053587386139234</td><td>0.08900199950115721</td><td>27</td><td>19</td><td>wstat</td><td>823.6909484036685</td><td>267</td><td>19.0</td><td>227.99996948242188</td><td>0.0833333432674408</td></tr>\n",
       "<tr><td>stacked</td><td>439</td><td>408.7743835449219</td><td>36.17588855633591</td><td>30.225610733032227</td><td>50.88364346926001</td><td>50.88364346926001</td><td>nan</td><td>19239702.0</td><td>2077411712.0</td><td>4732.546993609518</td><td>5056.0</td><td>0.09276188923063906</td><td>0.006386753427667313</td><td>0.08637513459388795</td><td>27</td><td>19</td><td>wstat</td><td>1325.2637060766638</td><td>594</td><td>19.0</td><td>373.3919677734375</td><td>0.05088486522436142</td></tr>\n",
       "<tr><td>stacked</td><td>550</td><td>512.135498046875</td><td>40.90086300803346</td><td>37.864498138427734</td><td>59.674911682627844</td><td>59.674911682627844</td><td>nan</td><td>21017612.0</td><td>2635248128.0</td><td>6313.811659421773</td><td>6742.0</td><td>0.08711061236349418</td><td>0.0059970902175905914</td><td>0.08111352154172066</td><td>27</td><td>19</td><td>wstat</td><td>1701.2360965968023</td><td>869</td><td>19.0</td><td>436.05487060546875</td><td>0.04357249662280083</td></tr>\n",
       "</table></div>"
      ],
      "text/plain": [
       "<Table length=4>\n",
       "  name  counts       excess           sqrt_ts           background     ...      stat_sum      counts_off acceptance   acceptance_off          alpha       \n",
       "                                                                       ...                                                                                \n",
       "  str7  int64       float64           float64            float64       ...      float64         int64     float64        float64             float64      \n",
       "------- ------ ----------------- ------------------ ------------------ ... ------------------ ---------- ---------- ------------------ -------------------\n",
       "stacked    149            139.25 20.449683569684254               9.75 ...  433.5372460592368        117       18.0              216.0  0.0833333358168602\n",
       "stacked    303            280.75 28.446255766130005 22.250001907348633 ...  823.6909484036685        267       19.0 227.99996948242188  0.0833333432674408\n",
       "stacked    439 408.7743835449219  36.17588855633591 30.225610733032227 ... 1325.2637060766638        594       19.0  373.3919677734375 0.05088486522436142\n",
       "stacked    550  512.135498046875  40.90086300803346 37.864498138427734 ... 1701.2360965968023        869       19.0 436.05487060546875 0.04357249662280083"
      ]
     },
     "execution_count": 12,
     "metadata": {},
     "output_type": "execute_result"
    }
   ],
   "source": [
    "info_table"
   ]
  },
  {
   "cell_type": "code",
   "execution_count": 13,
   "id": "471e1dc5",
   "metadata": {
    "execution": {
     "iopub.execute_input": "2022-06-17T21:34:09.149782Z",
     "iopub.status.busy": "2022-06-17T21:34:09.147376Z",
     "iopub.status.idle": "2022-06-17T21:34:09.375437Z",
     "shell.execute_reply": "2022-06-17T21:34:09.374438Z"
    }
   },
   "outputs": [
    {
     "data": {
      "image/png": "[encoded data removed]",
      "text/plain": [
       "<Figure size 432x288 with 1 Axes>"
      ]
     },
     "metadata": {
      "needs_background": "light"
     },
     "output_type": "display_data"
    }
   ],
   "source": [
    "plt.plot(\n",
    "    info_table[\"livetime\"].to(\"h\"), info_table[\"excess\"], marker=\"o\", ls=\"none\"\n",
    ")\n",
    "plt.xlabel(\"Livetime [h]\")\n",
    "plt.ylabel(\"Excess\");"
   ]
  },
  {
   "cell_type": "code",
   "execution_count": 14,
   "id": "c347bf93",
   "metadata": {
    "execution": {
     "iopub.execute_input": "2022-06-17T21:34:09.380315Z",
     "iopub.status.busy": "2022-06-17T21:34:09.379456Z",
     "iopub.status.idle": "2022-06-17T21:34:09.649566Z",
     "shell.execute_reply": "2022-06-17T21:34:09.648443Z"
    }
   },
   "outputs": [
    {
     "data": {
      "image/png": "[encoded data removed]",
      "text/plain": [
       "<Figure size 432x288 with 1 Axes>"
      ]
     },
     "metadata": {
      "needs_background": "light"
     },
     "output_type": "display_data"
    }
   ],
   "source": [
    "plt.plot(\n",
    "    info_table[\"livetime\"].to(\"h\"),\n",
    "    info_table[\"sqrt_ts\"],\n",
    "    marker=\"o\",\n",
    "    ls=\"none\",\n",
    ")\n",
    "plt.xlabel(\"Livetime [h]\")\n",
    "plt.ylabel(\"Sqrt(TS)\");"
   ]
  },
  {
   "cell_type": "markdown",
   "id": "3de50af0",
   "metadata": {},
   "source": [
    "Finally you can write the extracted datasets to disk using the OGIP format (PHA, ARF, RMF, BKG, see [here](https://gamma-astro-data-formats.readthedocs.io/en/latest/spectra/ogip/index.html) for details):"
   ]
  },
  {
   "cell_type": "code",
   "execution_count": 15,
   "id": "b040d0c5",
   "metadata": {
    "execution": {
     "iopub.execute_input": "2022-06-17T21:34:09.655273Z",
     "iopub.status.busy": "2022-06-17T21:34:09.654508Z",
     "iopub.status.idle": "2022-06-17T21:34:09.660295Z",
     "shell.execute_reply": "2022-06-17T21:34:09.659230Z"
    }
   },
   "outputs": [],
   "source": [
    "path = Path(\"spectrum_analysis\")\n",
    "path.mkdir(exist_ok=True)"
   ]
  },
  {
   "cell_type": "code",
   "execution_count": 16,
   "id": "ba08ab1f",
   "metadata": {
    "execution": {
     "iopub.execute_input": "2022-06-17T21:34:09.665911Z",
     "iopub.status.busy": "2022-06-17T21:34:09.665187Z",
     "iopub.status.idle": "2022-06-17T21:34:11.647546Z",
     "shell.execute_reply": "2022-06-17T21:34:11.646158Z"
    }
   },
   "outputs": [],
   "source": [
    "for dataset in datasets:\n",
    "    dataset.write(\n",
    "        filename=path / f\"obs_{dataset.name}.fits.gz\", overwrite=True\n",
    "    )"
   ]
  },
  {
   "cell_type": "markdown",
   "id": "31baa0af",
   "metadata": {},
   "source": [
    "If you want to read back the datasets from disk you can use:"
   ]
  },
  {
   "cell_type": "code",
   "execution_count": 17,
   "id": "63b996d4",
   "metadata": {
    "execution": {
     "iopub.execute_input": "2022-06-17T21:34:11.653021Z",
     "iopub.status.busy": "2022-06-17T21:34:11.652379Z",
     "iopub.status.idle": "2022-06-17T21:34:15.107338Z",
     "shell.execute_reply": "2022-06-17T21:34:15.106166Z"
    }
   },
   "outputs": [],
   "source": [
    "datasets = Datasets()\n",
    "\n",
    "for obs_id in obs_ids:\n",
    "    filename = path / f\"obs_{obs_id}.fits.gz\"\n",
    "    datasets.append(SpectrumDatasetOnOff.read(filename))"
   ]
  },
  {
   "cell_type": "markdown",
   "id": "e276baea",
   "metadata": {},
   "source": [
    "## Fit spectrum\n",
    "\n",
    "Now we'll fit a global model to the spectrum. First we do a joint likelihood fit to all observations. If you want to stack the observations see below. We will also produce a debug plot in order to show how the global fit matches one of the individual observations."
   ]
  },
  {
   "cell_type": "code",
   "execution_count": 18,
   "id": "8c6da9d2",
   "metadata": {
    "execution": {
     "iopub.execute_input": "2022-06-17T21:34:15.112756Z",
     "iopub.status.busy": "2022-06-17T21:34:15.112050Z",
     "iopub.status.idle": "2022-06-17T21:34:23.010250Z",
     "shell.execute_reply": "2022-06-17T21:34:23.009166Z"
    }
   },
   "outputs": [],
   "source": [
    "spectral_model = ExpCutoffPowerLawSpectralModel(\n",
    "    amplitude=1e-12 * u.Unit(\"cm-2 s-1 TeV-1\"),\n",
    "    index=2,\n",
    "    lambda_=0.1 * u.Unit(\"TeV-1\"),\n",
    "    reference=1 * u.TeV,\n",
    ")\n",
    "model = SkyModel(spectral_model=spectral_model, name=\"crab\")\n",
    "\n",
    "datasets.models = [model]\n",
    "\n",
    "fit_joint = Fit()\n",
    "result_joint = fit_joint.run(datasets=datasets)\n",
    "\n",
    "# we make a copy here to compare it later\n",
    "model_best_joint = model.copy()"
   ]
  },
  {
   "cell_type": "markdown",
   "id": "d9f40307",
   "metadata": {},
   "source": [
    "## Fit quality and model residuals"
   ]
  },
  {
   "cell_type": "markdown",
   "id": "da3da759",
   "metadata": {},
   "source": [
    "We can access the results dictionary to see if the fit converged:"
   ]
  },
  {
   "cell_type": "code",
   "execution_count": 19,
   "id": "0ec9c48c",
   "metadata": {
    "execution": {
     "iopub.execute_input": "2022-06-17T21:34:23.015875Z",
     "iopub.status.busy": "2022-06-17T21:34:23.015386Z",
     "iopub.status.idle": "2022-06-17T21:34:23.023383Z",
     "shell.execute_reply": "2022-06-17T21:34:23.022100Z"
    }
   },
   "outputs": [
    {
     "name": "stdout",
     "output_type": "stream",
     "text": [
      "OptimizeResult\n",
      "\n",
      "\tbackend    : minuit\n",
      "\tmethod     : migrad\n",
      "\tsuccess    : True\n",
      "\tmessage    : Optimization terminated successfully.\n",
      "\tnfev       : 244\n",
      "\ttotal stat : 86.12\n",
      "\n",
      "CovarianceResult\n",
      "\n",
      "\tbackend    : minuit\n",
      "\tmethod     : hesse\n",
      "\tsuccess    : True\n",
      "\tmessage    : Hesse terminated successfully.\n",
      "\n"
     ]
    }
   ],
   "source": [
    "print(result_joint)"
   ]
  },
  {
   "cell_type": "markdown",
   "id": "3920141e",
   "metadata": {},
   "source": [
    "and check the best-fit parameters"
   ]
  },
  {
   "cell_type": "code",
   "execution_count": 20,
   "id": "9c84d022",
   "metadata": {
    "execution": {
     "iopub.execute_input": "2022-06-17T21:34:23.028584Z",
     "iopub.status.busy": "2022-06-17T21:34:23.027820Z",
     "iopub.status.idle": "2022-06-17T21:34:23.042732Z",
     "shell.execute_reply": "2022-06-17T21:34:23.041325Z"
    }
   },
   "outputs": [
    {
     "data": {
      "text/html": [
       "<div><i>Table length=5</i>\n",
       "<table id=\"table5462079568\" class=\"table-striped table-bordered table-condensed\">\n",
       "<thead><tr><th>model</th><th>type</th><th>name</th><th>value</th><th>unit</th><th>error</th><th>min</th><th>max</th><th>frozen</th><th>is_norm</th><th>link</th></tr></thead>\n",
       "<thead><tr><th>str4</th><th>str8</th><th>str9</th><th>float64</th><th>str14</th><th>float64</th><th>float64</th><th>float64</th><th>bool</th><th>bool</th><th>str1</th></tr></thead>\n",
       "<tr><td>crab</td><td>spectral</td><td>index</td><td>2.2727e+00</td><td></td><td>1.566e-01</td><td>nan</td><td>nan</td><td>False</td><td>False</td><td></td></tr>\n",
       "<tr><td>crab</td><td>spectral</td><td>amplitude</td><td>4.7913e-11</td><td>cm-2 s-1 TeV-1</td><td>3.600e-12</td><td>nan</td><td>nan</td><td>False</td><td>True</td><td></td></tr>\n",
       "<tr><td>crab</td><td>spectral</td><td>reference</td><td>1.0000e+00</td><td>TeV</td><td>0.000e+00</td><td>nan</td><td>nan</td><td>True</td><td>False</td><td></td></tr>\n",
       "<tr><td>crab</td><td>spectral</td><td>lambda_</td><td>1.2097e-01</td><td>TeV-1</td><td>5.382e-02</td><td>nan</td><td>nan</td><td>False</td><td>False</td><td></td></tr>\n",
       "<tr><td>crab</td><td>spectral</td><td>alpha</td><td>1.0000e+00</td><td></td><td>0.000e+00</td><td>nan</td><td>nan</td><td>True</td><td>False</td><td></td></tr>\n",
       "</table></div>"
      ],
      "text/plain": [
       "<Table length=5>\n",
       "model   type      name     value         unit        error     min     max   frozen is_norm link\n",
       " str4   str8      str9    float64       str14       float64  float64 float64  bool    bool  str1\n",
       "----- -------- --------- ---------- -------------- --------- ------- ------- ------ ------- ----\n",
       " crab spectral     index 2.2727e+00                1.566e-01     nan     nan  False   False     \n",
       " crab spectral amplitude 4.7913e-11 cm-2 s-1 TeV-1 3.600e-12     nan     nan  False    True     \n",
       " crab spectral reference 1.0000e+00            TeV 0.000e+00     nan     nan   True   False     \n",
       " crab spectral   lambda_ 1.2097e-01          TeV-1 5.382e-02     nan     nan  False   False     \n",
       " crab spectral     alpha 1.0000e+00                0.000e+00     nan     nan   True   False     "
      ]
     },
     "execution_count": 20,
     "metadata": {},
     "output_type": "execute_result"
    }
   ],
   "source": [
    "datasets.models.to_parameters_table()"
   ]
  },
  {
   "cell_type": "markdown",
   "id": "177f45a3",
   "metadata": {},
   "source": [
    "A simple way to inspect the model residuals is using the function `~SpectrumDataset.plot_fit()`"
   ]
  },
  {
   "cell_type": "code",
   "execution_count": 21,
   "id": "7fa6a8b3",
   "metadata": {
    "execution": {
     "iopub.execute_input": "2022-06-17T21:34:23.047960Z",
     "iopub.status.busy": "2022-06-17T21:34:23.047349Z",
     "iopub.status.idle": "2022-06-17T21:34:24.507275Z",
     "shell.execute_reply": "2022-06-17T21:34:24.506154Z"
    }
   },
   "outputs": [
    {
     "data": {
      "image/png": "[encoded data removed]",
      "text/plain": [
       "<Figure size 576x504 with 2 Axes>"
      ]
     },
     "metadata": {
      "needs_background": "light"
     },
     "output_type": "display_data"
    }
   ],
   "source": [
    "ax_spectrum, ax_residuals = datasets[0].plot_fit()\n",
    "ax_spectrum.set_ylim(0.1, 40)\n",
    "datasets[0].plot_masks(ax=ax_spectrum);"
   ]
  },
  {
   "cell_type": "markdown",
   "id": "82b1bffc",
   "metadata": {},
   "source": [
    "For more ways of assessing fit quality, please refer to the dedicated [modeling and fitting tutorial](../2D/modeling_2D.ipynb)."
   ]
  },
  {
   "cell_type": "markdown",
   "id": "266a5515",
   "metadata": {},
   "source": [
    "## Compute Flux Points\n",
    "\n",
    "To round up our analysis we can compute flux points by fitting the norm of the global model in energy bands. We'll use a fixed energy binning for now:"
   ]
  },
  {
   "cell_type": "code",
   "execution_count": 22,
   "id": "54c92e49",
   "metadata": {
    "execution": {
     "iopub.execute_input": "2022-06-17T21:34:24.513428Z",
     "iopub.status.busy": "2022-06-17T21:34:24.512717Z",
     "iopub.status.idle": "2022-06-17T21:34:24.520262Z",
     "shell.execute_reply": "2022-06-17T21:34:24.518827Z"
    }
   },
   "outputs": [],
   "source": [
    "e_min, e_max = 0.7, 30\n",
    "energy_edges = np.geomspace(e_min, e_max, 11) * u.TeV"
   ]
  },
  {
   "cell_type": "markdown",
   "id": "f9728e7c",
   "metadata": {},
   "source": [
    "Now we create an instance of the `~gammapy.estimators.FluxPointsEstimator`, by passing the dataset and the energy binning:"
   ]
  },
  {
   "cell_type": "code",
   "execution_count": 23,
   "id": "d3fd5720",
   "metadata": {
    "execution": {
     "iopub.execute_input": "2022-06-17T21:34:24.527860Z",
     "iopub.status.busy": "2022-06-17T21:34:24.526530Z",
     "iopub.status.idle": "2022-06-17T21:35:20.542099Z",
     "shell.execute_reply": "2022-06-17T21:35:20.541016Z"
    }
   },
   "outputs": [],
   "source": [
    "fpe = FluxPointsEstimator(\n",
    "    energy_edges=energy_edges, source=\"crab\", selection_optional=\"all\"\n",
    ")\n",
    "flux_points = fpe.run(datasets=datasets)"
   ]
  },
  {
   "cell_type": "markdown",
   "id": "feb4e50b",
   "metadata": {},
   "source": [
    "Here is a the table of the resulting flux points:"
   ]
  },
  {
   "cell_type": "code",
   "execution_count": 24,
   "id": "1ddf5b5f",
   "metadata": {
    "execution": {
     "iopub.execute_input": "2022-06-17T21:35:20.547467Z",
     "iopub.status.busy": "2022-06-17T21:35:20.546708Z",
     "iopub.status.idle": "2022-06-17T21:35:20.588902Z",
     "shell.execute_reply": "2022-06-17T21:35:20.587841Z"
    }
   },
   "outputs": [
    {
     "data": {
      "text/html": [
       "<div><i>Table length=10</i>\n",
       "<table id=\"table5461364896\" class=\"table-striped table-bordered table-condensed\">\n",
       "<thead><tr><th>e_ref</th><th>e_min</th><th>e_max</th><th>dnde</th><th>dnde_err</th><th>dnde_errp</th><th>dnde_errn</th><th>dnde_ul</th><th>ts</th><th>sqrt_ts</th><th>npred [4]</th><th>npred_excess [4]</th><th>stat</th><th>is_ul</th><th>counts [4]</th><th>success</th><th>norm_scan [11]</th><th>stat_scan [11]</th></tr></thead>\n",
       "<thead><tr><th>TeV</th><th>TeV</th><th>TeV</th><th>1 / (cm2 s TeV)</th><th>1 / (cm2 s TeV)</th><th>1 / (cm2 s TeV)</th><th>1 / (cm2 s TeV)</th><th>1 / (cm2 s TeV)</th><th></th><th></th><th></th><th></th><th></th><th></th><th></th><th></th><th></th><th></th></tr></thead>\n",
       "<thead><tr><th>float64</th><th>float64</th><th>float64</th><th>float64</th><th>float64</th><th>float64</th><th>float64</th><th>float64</th><th>float64</th><th>float64</th><th>float64</th><th>float32</th><th>float64</th><th>bool</th><th>float64</th><th>bool</th><th>float64</th><th>float64</th></tr></thead>\n",
       "<tr><td>0.823</td><td>0.737</td><td>0.920</td><td>6.950e-11</td><td>7.224e-12</td><td>7.462e-12</td><td>7.000e-12</td><td>8.496e-11</td><td>318.308</td><td>17.841</td><td>31.36646258047154 .. 23.889729207163217</td><td>28.875505 .. 21.720263</td><td>8.252</td><td>False</td><td>30.0 .. 25.0</td><td>True</td><td>0.200 .. 5.000</td><td>140.739 .. 451.124</td></tr>\n",
       "<tr><td>1.148</td><td>0.920</td><td>1.434</td><td>2.884e-11</td><td>2.581e-12</td><td>2.654e-12</td><td>2.510e-12</td><td>3.430e-11</td><td>449.770</td><td>21.208</td><td>40.721594294634784 .. 29.627449286871947</td><td>38.467556 .. 27.449282</td><td>12.649</td><td>False</td><td>43.0 .. 35.0</td><td>True</td><td>0.200 .. 5.000</td><td>182.603 .. 693.653</td></tr>\n",
       "<tr><td>1.790</td><td>1.434</td><td>2.235</td><td>1.104e-11</td><td>1.132e-12</td><td>1.168e-12</td><td>1.096e-12</td><td>1.345e-11</td><td>350.109</td><td>18.711</td><td>31.973739526878333 .. 21.124620512912387</td><td>29.863094 .. 19.905582</td><td>6.105</td><td>False</td><td>37.0 .. 21.0</td><td>True</td><td>0.200 .. 5.000</td><td>150.799 .. 424.855</td></tr>\n",
       "<tr><td>2.790</td><td>2.235</td><td>3.483</td><td>3.462e-12</td><td>4.450e-13</td><td>4.631e-13</td><td>4.273e-13</td><td>4.426e-12</td><td>219.114</td><td>14.802</td><td>20.86827471761865 .. 13.385553096466168</td><td>19.729824 .. 12.434938</td><td>12.915</td><td>False</td><td>13.0 .. 17.0</td><td>True</td><td>0.200 .. 5.000</td><td>102.546 .. 293.446</td></tr>\n",
       "<tr><td>3.892</td><td>3.483</td><td>4.348</td><td>8.756e-13</td><td>2.576e-13</td><td>2.800e-13</td><td>2.362e-13</td><td>1.482e-12</td><td>36.235</td><td>6.020</td><td>4.959042980000916 .. 2.702481330476382</td><td>4.168653 .. 2.5370095</td><td>4.035</td><td>False</td><td>8.0 .. 2.0</td><td>True</td><td>0.200 .. 5.000</td><td>13.594 .. 125.092</td></tr>\n",
       "<tr><td>5.429</td><td>4.348</td><td>6.778</td><td>5.335e-13</td><td>1.079e-13</td><td>1.149e-13</td><td>1.011e-13</td><td>7.776e-13</td><td>86.926</td><td>9.323</td><td>8.52067876691984 .. 5.173151592973639</td><td>8.258547 .. 4.9781284</td><td>11.815</td><td>False</td><td>12.0 .. 6.0</td><td>True</td><td>0.200 .. 5.000</td><td>47.101 .. 132.109</td></tr>\n",
       "<tr><td>8.462</td><td>6.778</td><td>10.564</td><td>1.623e-13</td><td>4.547e-14</td><td>4.941e-14</td><td>4.186e-14</td><td>2.695e-13</td><td>38.108</td><td>6.173</td><td>5.121380116204808 .. 3.1055485072447895</td><td>4.620307 .. 2.731345</td><td>8.980</td><td>False</td><td>5.0 .. 5.0</td><td>True</td><td>0.200 .. 5.000</td><td>28.474 .. 55.783</td></tr>\n",
       "<tr><td>11.803</td><td>10.564</td><td>13.189</td><td>5.214e-14</td><td>3.008e-14</td><td>3.529e-14</td><td>2.546e-14</td><td>1.339e-13</td><td>7.911</td><td>2.813</td><td>1.2131436603915728 .. 0.7323859566564407</td><td>1.1362206 .. 0.6783319</td><td>7.934</td><td>False</td><td>0.0 .. 0.0</td><td>True</td><td>0.200 .. 5.000</td><td>12.285 .. 18.679</td></tr>\n",
       "<tr><td>16.465</td><td>13.189</td><td>20.556</td><td>1.177e-14</td><td>7.816e-15</td><td>9.399e-15</td><td>6.393e-15</td><td>3.395e-14</td><td>5.269</td><td>2.295</td><td>0.9432263496672387 .. 0.6987575077748854</td><td>0.84752977 .. 0.50956833</td><td>6.611</td><td>False</td><td>1.0 .. 0.0</td><td>True</td><td>0.200 .. 5.000</td><td>9.622 .. 17.557</td></tr>\n",
       "<tr><td>25.663</td><td>20.556</td><td>32.040</td><td>nan</td><td>nan</td><td>1.094e-15</td><td>nan</td><td>4.378e-15</td><td>-0.012</td><td>-0.000</td><td>0.07895530597715192 .. 0.10937377988399984</td><td>0.002032229 .. 0.0012656718</td><td>0.633</td><td>True</td><td>0.0 .. 0.0</td><td>False</td><td>0.200 .. 5.000</td><td>0.866 .. 6.774</td></tr>\n",
       "</table></div>"
      ],
      "text/plain": [
       "<Table length=10>\n",
       " e_ref   e_min   e_max        dnde          dnde_err       dnde_errp    ...   stat  is_ul  counts [4]  success norm_scan [11]   stat_scan [11]  \n",
       "  TeV     TeV     TeV   1 / (cm2 s TeV) 1 / (cm2 s TeV) 1 / (cm2 s TeV) ...                                                                     \n",
       "float64 float64 float64     float64         float64         float64     ... float64  bool   float64      bool     float64          float64      \n",
       "------- ------- ------- --------------- --------------- --------------- ... ------- ----- ------------ ------- -------------- ------------------\n",
       "  0.823   0.737   0.920       6.950e-11       7.224e-12       7.462e-12 ...   8.252 False 30.0 .. 25.0    True 0.200 .. 5.000 140.739 .. 451.124\n",
       "  1.148   0.920   1.434       2.884e-11       2.581e-12       2.654e-12 ...  12.649 False 43.0 .. 35.0    True 0.200 .. 5.000 182.603 .. 693.653\n",
       "  1.790   1.434   2.235       1.104e-11       1.132e-12       1.168e-12 ...   6.105 False 37.0 .. 21.0    True 0.200 .. 5.000 150.799 .. 424.855\n",
       "  2.790   2.235   3.483       3.462e-12       4.450e-13       4.631e-13 ...  12.915 False 13.0 .. 17.0    True 0.200 .. 5.000 102.546 .. 293.446\n",
       "  3.892   3.483   4.348       8.756e-13       2.576e-13       2.800e-13 ...   4.035 False   8.0 .. 2.0    True 0.200 .. 5.000  13.594 .. 125.092\n",
       "  5.429   4.348   6.778       5.335e-13       1.079e-13       1.149e-13 ...  11.815 False  12.0 .. 6.0    True 0.200 .. 5.000  47.101 .. 132.109\n",
       "  8.462   6.778  10.564       1.623e-13       4.547e-14       4.941e-14 ...   8.980 False   5.0 .. 5.0    True 0.200 .. 5.000   28.474 .. 55.783\n",
       " 11.803  10.564  13.189       5.214e-14       3.008e-14       3.529e-14 ...   7.934 False   0.0 .. 0.0    True 0.200 .. 5.000   12.285 .. 18.679\n",
       " 16.465  13.189  20.556       1.177e-14       7.816e-15       9.399e-15 ...   6.611 False   1.0 .. 0.0    True 0.200 .. 5.000    9.622 .. 17.557\n",
       " 25.663  20.556  32.040             nan             nan       1.094e-15 ...   0.633  True   0.0 .. 0.0   False 0.200 .. 5.000     0.866 .. 6.774"
      ]
     },
     "execution_count": 24,
     "metadata": {},
     "output_type": "execute_result"
    }
   ],
   "source": [
    "flux_points.to_table(sed_type=\"dnde\", formatted=True)"
   ]
  },
  {
   "cell_type": "markdown",
   "id": "c5910e38",
   "metadata": {},
   "source": [
    "Now we plot the flux points and their likelihood profiles. For the plotting of upper limits we choose a threshold of TS < 4."
   ]
  },
  {
   "cell_type": "code",
   "execution_count": 25,
   "id": "3fcdd357",
   "metadata": {
    "execution": {
     "iopub.execute_input": "2022-06-17T21:35:20.594086Z",
     "iopub.status.busy": "2022-06-17T21:35:20.593353Z",
     "iopub.status.idle": "2022-06-17T21:35:21.966902Z",
     "shell.execute_reply": "2022-06-17T21:35:21.965880Z"
    },
    "nbsphinx-thumbnail": {
     "tooltip": "Perform a full region based on-off spectral analysis and fit the resulting datasets."
    }
   },
   "outputs": [
    {
     "data": {
      "image/png": "[encoded data removed]",
      "text/plain": [
       "<Figure size 576x360 with 2 Axes>"
      ]
     },
     "metadata": {
      "needs_background": "light"
     },
     "output_type": "display_data"
    }
   ],
   "source": [
    "plt.figure(figsize=(8, 5))\n",
    "ax = flux_points.plot(sed_type=\"e2dnde\", color=\"darkorange\")\n",
    "flux_points.plot_ts_profiles(ax=ax, sed_type=\"e2dnde\");"
   ]
  },
  {
   "cell_type": "markdown",
   "id": "6816ca14",
   "metadata": {},
   "source": [
    "The final plot with the best fit model, flux points and residuals can be quickly made like this: "
   ]
  },
  {
   "cell_type": "code",
   "execution_count": 26,
   "id": "634331f0",
   "metadata": {
    "execution": {
     "iopub.execute_input": "2022-06-17T21:35:21.971998Z",
     "iopub.status.busy": "2022-06-17T21:35:21.971279Z",
     "iopub.status.idle": "2022-06-17T21:35:21.980798Z",
     "shell.execute_reply": "2022-06-17T21:35:21.979813Z"
    }
   },
   "outputs": [],
   "source": [
    "flux_points_dataset = FluxPointsDataset(\n",
    "    data=flux_points, models=model_best_joint\n",
    ")"
   ]
  },
  {
   "cell_type": "code",
   "execution_count": 27,
   "id": "f9705fbe",
   "metadata": {
    "execution": {
     "iopub.execute_input": "2022-06-17T21:35:21.985671Z",
     "iopub.status.busy": "2022-06-17T21:35:21.985213Z",
     "iopub.status.idle": "2022-06-17T21:35:23.587735Z",
     "shell.execute_reply": "2022-06-17T21:35:23.585630Z"
    }
   },
   "outputs": [
    {
     "data": {
      "image/png": "[encoded data removed]",
      "text/plain": [
       "<Figure size 648x504 with 2 Axes>"
      ]
     },
     "metadata": {
      "needs_background": "light"
     },
     "output_type": "display_data"
    }
   ],
   "source": [
    "flux_points_dataset.plot_fit();"
   ]
  },
  {
   "cell_type": "markdown",
   "id": "45c8901e",
   "metadata": {},
   "source": [
    "## Stack observations\n",
    "\n",
    "And alternative approach to fitting the spectrum is stacking all observations first and the fitting a model. For this we first stack the individual datasets:"
   ]
  },
  {
   "cell_type": "code",
   "execution_count": 28,
   "id": "b5fa3a8a",
   "metadata": {
    "execution": {
     "iopub.execute_input": "2022-06-17T21:35:23.595393Z",
     "iopub.status.busy": "2022-06-17T21:35:23.594275Z",
     "iopub.status.idle": "2022-06-17T21:35:23.949536Z",
     "shell.execute_reply": "2022-06-17T21:35:23.948446Z"
    }
   },
   "outputs": [],
   "source": [
    "dataset_stacked = Datasets(datasets).stack_reduce()"
   ]
  },
  {
   "cell_type": "markdown",
   "id": "2e0964c9",
   "metadata": {},
   "source": [
    "Again we set the model on the dataset we would like to fit (in this case it's only a single one) and pass it to the `~gammapy.modeling.Fit` object:"
   ]
  },
  {
   "cell_type": "code",
   "execution_count": 29,
   "id": "ea5e43c2",
   "metadata": {
    "execution": {
     "iopub.execute_input": "2022-06-17T21:35:23.955946Z",
     "iopub.status.busy": "2022-06-17T21:35:23.955168Z",
     "iopub.status.idle": "2022-06-17T21:35:24.448028Z",
     "shell.execute_reply": "2022-06-17T21:35:24.446192Z"
    }
   },
   "outputs": [],
   "source": [
    "dataset_stacked.models = model\n",
    "stacked_fit = Fit()\n",
    "result_stacked = stacked_fit.run([dataset_stacked])\n",
    "\n",
    "# make a copy to compare later\n",
    "model_best_stacked = model.copy()"
   ]
  },
  {
   "cell_type": "code",
   "execution_count": 30,
   "id": "19cc3d43",
   "metadata": {
    "execution": {
     "iopub.execute_input": "2022-06-17T21:35:24.455202Z",
     "iopub.status.busy": "2022-06-17T21:35:24.454296Z",
     "iopub.status.idle": "2022-06-17T21:35:24.461788Z",
     "shell.execute_reply": "2022-06-17T21:35:24.460630Z"
    }
   },
   "outputs": [
    {
     "name": "stdout",
     "output_type": "stream",
     "text": [
      "OptimizeResult\n",
      "\n",
      "\tbackend    : minuit\n",
      "\tmethod     : migrad\n",
      "\tsuccess    : True\n",
      "\tmessage    : Optimization terminated successfully.\n",
      "\tnfev       : 54\n",
      "\ttotal stat : 8.16\n",
      "\n",
      "CovarianceResult\n",
      "\n",
      "\tbackend    : minuit\n",
      "\tmethod     : hesse\n",
      "\tsuccess    : True\n",
      "\tmessage    : Hesse terminated successfully.\n",
      "\n"
     ]
    }
   ],
   "source": [
    "print(result_stacked)"
   ]
  },
  {
   "cell_type": "code",
   "execution_count": 31,
   "id": "cc9583bb",
   "metadata": {
    "execution": {
     "iopub.execute_input": "2022-06-17T21:35:24.468488Z",
     "iopub.status.busy": "2022-06-17T21:35:24.468089Z",
     "iopub.status.idle": "2022-06-17T21:35:24.486845Z",
     "shell.execute_reply": "2022-06-17T21:35:24.485443Z"
    }
   },
   "outputs": [
    {
     "data": {
      "text/html": [
       "<div><i>Table length=5</i>\n",
       "<table id=\"table5468754272\" class=\"table-striped table-bordered table-condensed\">\n",
       "<thead><tr><th>type</th><th>name</th><th>value</th><th>unit</th><th>error</th><th>min</th><th>max</th><th>frozen</th><th>is_norm</th><th>link</th></tr></thead>\n",
       "<thead><tr><th>str8</th><th>str9</th><th>float64</th><th>str14</th><th>float64</th><th>float64</th><th>float64</th><th>bool</th><th>bool</th><th>str1</th></tr></thead>\n",
       "<tr><td>spectral</td><td>index</td><td>2.2727e+00</td><td></td><td>1.566e-01</td><td>nan</td><td>nan</td><td>False</td><td>False</td><td></td></tr>\n",
       "<tr><td>spectral</td><td>amplitude</td><td>4.7913e-11</td><td>cm-2 s-1 TeV-1</td><td>3.600e-12</td><td>nan</td><td>nan</td><td>False</td><td>True</td><td></td></tr>\n",
       "<tr><td>spectral</td><td>reference</td><td>1.0000e+00</td><td>TeV</td><td>0.000e+00</td><td>nan</td><td>nan</td><td>True</td><td>False</td><td></td></tr>\n",
       "<tr><td>spectral</td><td>lambda_</td><td>1.2097e-01</td><td>TeV-1</td><td>5.382e-02</td><td>nan</td><td>nan</td><td>False</td><td>False</td><td></td></tr>\n",
       "<tr><td>spectral</td><td>alpha</td><td>1.0000e+00</td><td></td><td>0.000e+00</td><td>nan</td><td>nan</td><td>True</td><td>False</td><td></td></tr>\n",
       "</table></div>"
      ],
      "text/plain": [
       "<Table length=5>\n",
       "  type      name     value         unit        error     min     max   frozen is_norm link\n",
       "  str8      str9    float64       str14       float64  float64 float64  bool    bool  str1\n",
       "-------- --------- ---------- -------------- --------- ------- ------- ------ ------- ----\n",
       "spectral     index 2.2727e+00                1.566e-01     nan     nan  False   False     \n",
       "spectral amplitude 4.7913e-11 cm-2 s-1 TeV-1 3.600e-12     nan     nan  False    True     \n",
       "spectral reference 1.0000e+00            TeV 0.000e+00     nan     nan   True   False     \n",
       "spectral   lambda_ 1.2097e-01          TeV-1 5.382e-02     nan     nan  False   False     \n",
       "spectral     alpha 1.0000e+00                0.000e+00     nan     nan   True   False     "
      ]
     },
     "execution_count": 31,
     "metadata": {},
     "output_type": "execute_result"
    }
   ],
   "source": [
    "model_best_joint.parameters.to_table()"
   ]
  },
  {
   "cell_type": "code",
   "execution_count": 32,
   "id": "4f3da30e",
   "metadata": {
    "execution": {
     "iopub.execute_input": "2022-06-17T21:35:24.493379Z",
     "iopub.status.busy": "2022-06-17T21:35:24.492473Z",
     "iopub.status.idle": "2022-06-17T21:35:24.511099Z",
     "shell.execute_reply": "2022-06-17T21:35:24.508969Z"
    }
   },
   "outputs": [
    {
     "data": {
      "text/html": [
       "<div><i>Table length=5</i>\n",
       "<table id=\"table5486032640\" class=\"table-striped table-bordered table-condensed\">\n",
       "<thead><tr><th>type</th><th>name</th><th>value</th><th>unit</th><th>error</th><th>min</th><th>max</th><th>frozen</th><th>is_norm</th><th>link</th></tr></thead>\n",
       "<thead><tr><th>str8</th><th>str9</th><th>float64</th><th>str14</th><th>float64</th><th>float64</th><th>float64</th><th>bool</th><th>bool</th><th>str1</th></tr></thead>\n",
       "<tr><td>spectral</td><td>index</td><td>2.2785e+00</td><td></td><td>1.563e-01</td><td>nan</td><td>nan</td><td>False</td><td>False</td><td></td></tr>\n",
       "<tr><td>spectral</td><td>amplitude</td><td>4.7800e-11</td><td>cm-2 s-1 TeV-1</td><td>3.566e-12</td><td>nan</td><td>nan</td><td>False</td><td>True</td><td></td></tr>\n",
       "<tr><td>spectral</td><td>reference</td><td>1.0000e+00</td><td>TeV</td><td>0.000e+00</td><td>nan</td><td>nan</td><td>True</td><td>False</td><td></td></tr>\n",
       "<tr><td>spectral</td><td>lambda_</td><td>1.1830e-01</td><td>TeV-1</td><td>5.329e-02</td><td>nan</td><td>nan</td><td>False</td><td>False</td><td></td></tr>\n",
       "<tr><td>spectral</td><td>alpha</td><td>1.0000e+00</td><td></td><td>0.000e+00</td><td>nan</td><td>nan</td><td>True</td><td>False</td><td></td></tr>\n",
       "</table></div>"
      ],
      "text/plain": [
       "<Table length=5>\n",
       "  type      name     value         unit        error     min     max   frozen is_norm link\n",
       "  str8      str9    float64       str14       float64  float64 float64  bool    bool  str1\n",
       "-------- --------- ---------- -------------- --------- ------- ------- ------ ------- ----\n",
       "spectral     index 2.2785e+00                1.563e-01     nan     nan  False   False     \n",
       "spectral amplitude 4.7800e-11 cm-2 s-1 TeV-1 3.566e-12     nan     nan  False    True     \n",
       "spectral reference 1.0000e+00            TeV 0.000e+00     nan     nan   True   False     \n",
       "spectral   lambda_ 1.1830e-01          TeV-1 5.329e-02     nan     nan  False   False     \n",
       "spectral     alpha 1.0000e+00                0.000e+00     nan     nan   True   False     "
      ]
     },
     "execution_count": 32,
     "metadata": {},
     "output_type": "execute_result"
    }
   ],
   "source": [
    "model_best_stacked.parameters.to_table()"
   ]
  },
  {
   "cell_type": "markdown",
   "id": "5bf4d762",
   "metadata": {},
   "source": [
    "Finally, we compare the results of our stacked analysis to a previously published Crab Nebula Spectrum for reference. This is available in `~gammapy.modeling.models.create_crab_spectral_model`."
   ]
  },
  {
   "cell_type": "code",
   "execution_count": 33,
   "id": "9807f93f",
   "metadata": {
    "execution": {
     "iopub.execute_input": "2022-06-17T21:35:24.517581Z",
     "iopub.status.busy": "2022-06-17T21:35:24.516707Z",
     "iopub.status.idle": "2022-06-17T21:35:25.916987Z",
     "shell.execute_reply": "2022-06-17T21:35:25.915788Z"
    }
   },
   "outputs": [
    {
     "data": {
      "text/plain": [
       "<matplotlib.legend.Legend at 0x146fe3af0>"
      ]
     },
     "execution_count": 33,
     "metadata": {},
     "output_type": "execute_result"
    },
    {
     "data": {
      "image/png": "[encoded data removed]",
      "text/plain": [
       "<Figure size 432x288 with 1 Axes>"
      ]
     },
     "metadata": {
      "needs_background": "light"
     },
     "output_type": "display_data"
    }
   ],
   "source": [
    "plot_kwargs = {\n",
    "    \"energy_bounds\": [0.1, 30] * u.TeV,\n",
    "    \"sed_type\": \"e2dnde\",\n",
    "    \"yunits\": u.Unit(\"erg cm-2 s-1\"),\n",
    "}\n",
    "\n",
    "# plot stacked model\n",
    "model_best_stacked.spectral_model.plot(\n",
    "    **plot_kwargs, label=\"Stacked analysis result\"\n",
    ")\n",
    "model_best_stacked.spectral_model.plot_error(\n",
    "    facecolor=\"blue\", alpha=0.3, **plot_kwargs\n",
    ")\n",
    "\n",
    "# plot joint model\n",
    "model_best_joint.spectral_model.plot(\n",
    "    **plot_kwargs, label=\"Joint analysis result\", ls=\"--\"\n",
    ")\n",
    "model_best_joint.spectral_model.plot_error(\n",
    "    facecolor=\"orange\", alpha=0.3, **plot_kwargs\n",
    ")\n",
    "\n",
    "create_crab_spectral_model(\"hess_ecpl\").plot(\n",
    "    **plot_kwargs, label=\"Crab reference\"\n",
    ")\n",
    "plt.legend()"
   ]
  },
  {
   "cell_type": "markdown",
   "id": "d12fa8bc",
   "metadata": {},
   "source": [
    "## Exercises\n",
    "\n",
    "Now you have learned the basics of a spectral analysis with Gammapy. To practice you can continue with the following exercises:\n",
    "\n",
    "- Fit a different spectral model to the data.\n",
    "  You could try `~gammapy.modeling.models.ExpCutoffPowerLawSpectralModel` or `~gammapy.modeling.models.LogParabolaSpectralModel`.\n",
    "- Compute flux points for the stacked dataset.\n",
    "- Create a `~gammapy.datasets.FluxPointsDataset` with the flux points you have computed for the stacked dataset and fit the flux points again with obe of the spectral models. How does the result compare to the best fit model, that was directly fitted to the counts data?"
   ]
  },
  {
   "cell_type": "markdown",
   "id": "5a55b70b",
   "metadata": {},
   "source": [
    "## What next?\n",
    "\n",
    "The methods shown in this tutorial is valid for point-like or midly extended sources where we can assume that the IRF taken at the region center is valid over the whole region. If one wants to extract the 1D spectrum of a large source and properly average the response over the extraction region, one has to use a different approach explained in [the extended source spectral analysis tutorial](extended_source_spectral_analysis.ipynb)."
   ]
  }
 ],
 "metadata": {
  "kernelspec": {
   "display_name": "Python 3",
   "language": "python",
   "name": "python3"
  },
  "language_info": {
   "codemirror_mode": {
    "name": "ipython",
    "version": 3
   },
   "file_extension": ".py",
   "mimetype": "text/x-python",
   "name": "python",
   "nbconvert_exporter": "python",
   "pygments_lexer": "ipython3",
   "version": "3.8.13"
  },
  "latex_envs": {
   "LaTeX_envs_menu_present": true,
   "autoclose": false,
   "autocomplete": true,
   "bibliofile": "biblio.bib",
   "cite_by": "apalike",
   "current_citInitial": 1,
   "eqLabelWithNumbers": true,
   "eqNumInitial": 1,
   "hotkeys": {
    "equation": "Ctrl-E",
    "itemize": "Ctrl-I"
   },
   "labels_anchors": false,
   "latex_user_defs": false,
   "report_style_numbering": false,
   "user_envs_cfg": false
  },
  "nbsphinx": {
   "orphan": true
  }
 },
 "nbformat": 4,
 "nbformat_minor": 5
}
