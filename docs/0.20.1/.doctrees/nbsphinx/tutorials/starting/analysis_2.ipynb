{
 "cells": [
  {
   "cell_type": "markdown",
   "id": "34c535da",
   "metadata": {},
   "source": [
    "\n",
    "<div class=\"alert alert-info\">\n",
    "\n",
    "**This is a fixed-text formatted version of a Jupyter notebook**\n",
    "\n",
    "- Try online[![Binder](https://static.mybinder.org/badge.svg)](https://mybinder.org/v2/gh/gammapy/gammapy-webpage/v0.20.1?urlpath=lab/tree/tutorials/starting/analysis_2.ipynb)\n",
    "- You may download all the notebooks as a [tar file](../../_downloads/notebooks-0.20.1.tar).\n",
    "- **Source files:**\n",
    "[analysis_2.ipynb](../../_static/notebooks/analysis_2.ipynb) |\n",
    "[analysis_2.py](../../_static/notebooks/analysis_2.py)\n",
    "</div>\n"
   ]
  },
  {
   "cell_type": "markdown",
   "id": "803db261",
   "metadata": {},
   "source": [
    "# Low level API\n",
    "\n",
    "## Prerequisites\n",
    "\n",
    "- Understanding the gammapy data workflow, in particular what are DL3 events and instrument response functions (IRF).\n",
    "- Understanding of the data reduction and modeling fitting process as shown in the [analysis with the high level interface tutorial](analysis_1.ipynb)\n",
    "\n",
    "## Context\n",
    "\n",
    "This notebook is an introduction to gammapy analysis this time using the lower level classes and functions\n",
    "the library.\n",
    "This allows to understand what happens during two main gammapy analysis steps, data reduction and modeling/fitting. \n",
    "\n",
    "**Objective: Create a 3D dataset of the Crab using the H.E.S.S. DL3 data release 1 and perform a simple model fitting of the Crab nebula using the lower level gammapy API.**\n",
    "\n",
    "## Proposed approach\n",
    "\n",
    "Here, we have to interact with the data archive (with the `~gammapy.data.DataStore`) to retrieve a list of selected observations (`~gammapy.data.Observations`). Then, we define the geometry of the `~gammapy.datasets.MapDataset` object we want to produce and the maker object that reduce an observation\n",
    "to a dataset. \n",
    "\n",
    "We can then proceed with data reduction with a loop over all selected observations to produce datasets in the relevant geometry and stack them together (i.e. sum them all).\n",
    "\n",
    "In practice, we have to:\n",
    "- Create a `~gammapy.data.DataStore` poiting to the relevant data \n",
    "- Apply an observation selection to produce a list of observations, a `~gammapy.data.Observations` object.\n",
    "- Define a geometry of the Map we want to produce, with a sky projection and an energy range.\n",
    "    - Create a `~gammapy.maps.MapAxis` for the energy\n",
    "    - Create a `~gammapy.maps.WcsGeom` for the geometry\n",
    "- Create the necessary makers : \n",
    "    - the map dataset maker : `~gammapy.makers.MapDatasetMaker`\n",
    "    - the background normalization maker, here a `~gammapy.makers.FoVBackgroundMaker`\n",
    "    - and usually the safe range maker : `~gammapy.makers.SafeMaskMaker`\n",
    "- Perform the data reduction loop. And for every observation:\n",
    "    - Apply the makers sequentially to produce the current `~gammapy.datasets.MapDataset`\n",
    "    - Stack it on the target one.\n",
    "- Define the `~gammapy.modeling.models.SkyModel` to apply to the dataset.\n",
    "- Create a `~gammapy.modeling.Fit` object and run it to fit the model parameters\n",
    "- Apply a `~gammapy.estimators.FluxPointsEstimator` to compute flux points for the spectral part of the fit.\n",
    "\n",
    "## Setup\n",
    "First, we setup the analysis by performing required imports.\n"
   ]
  },
  {
   "cell_type": "code",
   "execution_count": 1,
   "id": "9ca5dc3f",
   "metadata": {
    "execution": {
     "iopub.execute_input": "2022-06-17T21:34:10.139905Z",
     "iopub.status.busy": "2022-06-17T21:34:10.139014Z",
     "iopub.status.idle": "2022-06-17T21:34:11.696887Z",
     "shell.execute_reply": "2022-06-17T21:34:11.695001Z"
    }
   },
   "outputs": [],
   "source": [
    "%matplotlib inline\n",
    "import matplotlib.pyplot as plt"
   ]
  },
  {
   "cell_type": "code",
   "execution_count": 2,
   "id": "a095d709",
   "metadata": {
    "execution": {
     "iopub.execute_input": "2022-06-17T21:34:11.702196Z",
     "iopub.status.busy": "2022-06-17T21:34:11.701504Z",
     "iopub.status.idle": "2022-06-17T21:34:13.003150Z",
     "shell.execute_reply": "2022-06-17T21:34:13.002047Z"
    }
   },
   "outputs": [],
   "source": [
    "from pathlib import Path\n",
    "from astropy import units as u\n",
    "from astropy.coordinates import SkyCoord\n",
    "from regions import CircleSkyRegion"
   ]
  },
  {
   "cell_type": "code",
   "execution_count": 3,
   "id": "4545b3c9",
   "metadata": {
    "execution": {
     "iopub.execute_input": "2022-06-17T21:34:13.008093Z",
     "iopub.status.busy": "2022-06-17T21:34:13.007413Z",
     "iopub.status.idle": "2022-06-17T21:34:14.758060Z",
     "shell.execute_reply": "2022-06-17T21:34:14.757034Z"
    }
   },
   "outputs": [],
   "source": [
    "from gammapy.data import DataStore\n",
    "from gammapy.datasets import MapDataset\n",
    "from gammapy.maps import WcsGeom, MapAxis\n",
    "from gammapy.makers import MapDatasetMaker, SafeMaskMaker, FoVBackgroundMaker\n",
    "from gammapy.modeling.models import (\n",
    "    SkyModel,\n",
    "    PowerLawSpectralModel,\n",
    "    PointSpatialModel,\n",
    "    FoVBackgroundModel,\n",
    ")\n",
    "from gammapy.modeling import Fit\n",
    "from gammapy.estimators import FluxPointsEstimator"
   ]
  },
  {
   "cell_type": "markdown",
   "id": "6f9fe962",
   "metadata": {},
   "source": [
    "## Defining the datastore and selecting observations\n",
    "\n",
    "We first use the `~gammapy.data.DataStore` object to access the observations we want to analyse. Here the H.E.S.S. DL3 DR1. "
   ]
  },
  {
   "cell_type": "code",
   "execution_count": 4,
   "id": "188a626b",
   "metadata": {
    "execution": {
     "iopub.execute_input": "2022-06-17T21:34:14.763919Z",
     "iopub.status.busy": "2022-06-17T21:34:14.763253Z",
     "iopub.status.idle": "2022-06-17T21:34:14.850457Z",
     "shell.execute_reply": "2022-06-17T21:34:14.849500Z"
    }
   },
   "outputs": [],
   "source": [
    "data_store = DataStore.from_dir(\"$GAMMAPY_DATA/hess-dl3-dr1\")"
   ]
  },
  {
   "cell_type": "markdown",
   "id": "94cd41ba",
   "metadata": {},
   "source": [
    "We can now define an observation filter to select only the relevant observations. \n",
    "Here we use a cone search which we define with a python dict.\n",
    "\n",
    "We then filter the `ObservationTable` with `~gammapy.data.ObservationTable.select_observations()`."
   ]
  },
  {
   "cell_type": "code",
   "execution_count": 5,
   "id": "f297b85b",
   "metadata": {
    "execution": {
     "iopub.execute_input": "2022-06-17T21:34:14.855729Z",
     "iopub.status.busy": "2022-06-17T21:34:14.855088Z",
     "iopub.status.idle": "2022-06-17T21:34:14.873078Z",
     "shell.execute_reply": "2022-06-17T21:34:14.871944Z"
    }
   },
   "outputs": [],
   "source": [
    "selection = dict(\n",
    "    type=\"sky_circle\",\n",
    "    frame=\"icrs\",\n",
    "    lon=\"83.633 deg\",\n",
    "    lat=\"22.014 deg\",\n",
    "    radius=\"5 deg\",\n",
    ")\n",
    "selected_obs_table = data_store.obs_table.select_observations(selection)"
   ]
  },
  {
   "cell_type": "markdown",
   "id": "a0e897f0",
   "metadata": {},
   "source": [
    "We can now retrieve the relevant observations by passing their `obs_id` to the`~gammapy.data.DataStore.get_observations()` method."
   ]
  },
  {
   "cell_type": "code",
   "execution_count": 6,
   "id": "d45c0df4",
   "metadata": {
    "execution": {
     "iopub.execute_input": "2022-06-17T21:34:14.878964Z",
     "iopub.status.busy": "2022-06-17T21:34:14.878298Z",
     "iopub.status.idle": "2022-06-17T21:34:14.896894Z",
     "shell.execute_reply": "2022-06-17T21:34:14.895792Z"
    }
   },
   "outputs": [],
   "source": [
    "observations = data_store.get_observations(selected_obs_table[\"OBS_ID\"])"
   ]
  },
  {
   "cell_type": "markdown",
   "id": "6b6ce33f",
   "metadata": {},
   "source": [
    "## Preparing reduced datasets geometry\n",
    "\n",
    "Now we define a reference geometry for our analysis, We choose a WCS based geometry with a binsize of 0.02 deg and also define an energy axis: "
   ]
  },
  {
   "cell_type": "code",
   "execution_count": 7,
   "id": "78b351b1",
   "metadata": {
    "execution": {
     "iopub.execute_input": "2022-06-17T21:34:14.902321Z",
     "iopub.status.busy": "2022-06-17T21:34:14.901379Z",
     "iopub.status.idle": "2022-06-17T21:34:14.919890Z",
     "shell.execute_reply": "2022-06-17T21:34:14.918784Z"
    }
   },
   "outputs": [],
   "source": [
    "energy_axis = MapAxis.from_energy_bounds(1.0, 10.0, 4, unit=\"TeV\")\n",
    "\n",
    "geom = WcsGeom.create(\n",
    "    skydir=(83.633, 22.014),\n",
    "    binsz=0.02,\n",
    "    width=(2, 2),\n",
    "    frame=\"icrs\",\n",
    "    proj=\"CAR\",\n",
    "    axes=[energy_axis],\n",
    ")\n",
    "\n",
    "# Reduced IRFs are defined in true energy (i.e. not measured energy).\n",
    "energy_axis_true = MapAxis.from_energy_bounds(\n",
    "    0.5, 20, 10, unit=\"TeV\", name=\"energy_true\"\n",
    ")"
   ]
  },
  {
   "cell_type": "markdown",
   "id": "33e001d2",
   "metadata": {},
   "source": [
    "Now we can define the target dataset with this geometry."
   ]
  },
  {
   "cell_type": "code",
   "execution_count": 8,
   "id": "c6b219dc",
   "metadata": {
    "execution": {
     "iopub.execute_input": "2022-06-17T21:34:14.926273Z",
     "iopub.status.busy": "2022-06-17T21:34:14.925198Z",
     "iopub.status.idle": "2022-06-17T21:34:14.967033Z",
     "shell.execute_reply": "2022-06-17T21:34:14.965922Z"
    }
   },
   "outputs": [],
   "source": [
    "stacked = MapDataset.create(\n",
    "    geom=geom, energy_axis_true=energy_axis_true, name=\"crab-stacked\"\n",
    ")"
   ]
  },
  {
   "cell_type": "markdown",
   "id": "9acbb34c",
   "metadata": {},
   "source": [
    "## Data reduction\n",
    "\n",
    "### Create the maker classes to be used\n",
    "\n",
    "The `~gammapy.makers.MapDatasetMaker` object is initialized as well as the `~gammapy.makers.SafeMaskMaker` that carries here a maximum offset selection."
   ]
  },
  {
   "cell_type": "code",
   "execution_count": 9,
   "id": "13b6a250",
   "metadata": {
    "execution": {
     "iopub.execute_input": "2022-06-17T21:34:14.972253Z",
     "iopub.status.busy": "2022-06-17T21:34:14.971596Z",
     "iopub.status.idle": "2022-06-17T21:34:14.978708Z",
     "shell.execute_reply": "2022-06-17T21:34:14.977655Z"
    }
   },
   "outputs": [],
   "source": [
    "offset_max = 2.5 * u.deg\n",
    "maker = MapDatasetMaker()\n",
    "maker_safe_mask = SafeMaskMaker(\n",
    "    methods=[\"offset-max\", \"aeff-max\"], offset_max=offset_max\n",
    ")"
   ]
  },
  {
   "cell_type": "code",
   "execution_count": 10,
   "id": "3842d084",
   "metadata": {
    "execution": {
     "iopub.execute_input": "2022-06-17T21:34:14.983574Z",
     "iopub.status.busy": "2022-06-17T21:34:14.982902Z",
     "iopub.status.idle": "2022-06-17T21:34:15.019639Z",
     "shell.execute_reply": "2022-06-17T21:34:15.018520Z"
    }
   },
   "outputs": [],
   "source": [
    "circle = CircleSkyRegion(\n",
    "    center=SkyCoord(\"83.63 deg\", \"22.14 deg\"), radius=0.2 * u.deg\n",
    ")\n",
    "exclusion_mask = ~geom.region_mask(regions=[circle])\n",
    "maker_fov = FoVBackgroundMaker(method=\"fit\", exclusion_mask=exclusion_mask)"
   ]
  },
  {
   "cell_type": "markdown",
   "id": "40e25fe3",
   "metadata": {},
   "source": [
    "### Perform the data reduction loop"
   ]
  },
  {
   "cell_type": "code",
   "execution_count": 11,
   "id": "43af26d3",
   "metadata": {
    "execution": {
     "iopub.execute_input": "2022-06-17T21:34:15.025144Z",
     "iopub.status.busy": "2022-06-17T21:34:15.024303Z",
     "iopub.status.idle": "2022-06-17T21:34:22.671092Z",
     "shell.execute_reply": "2022-06-17T21:34:22.669987Z"
    }
   },
   "outputs": [
    {
     "name": "stdout",
     "output_type": "stream",
     "text": [
      "Background norm obs 23523: 0.99\n",
      "Background norm obs 23526: 1.08\n",
      "Background norm obs 23559: 0.99\n",
      "Background norm obs 23592: 1.10\n",
      "CPU times: user 6.8 s, sys: 229 ms, total: 7.03 s\n",
      "Wall time: 7.64 s\n"
     ]
    }
   ],
   "source": [
    "%%time\n",
    "\n",
    "for obs in observations:\n",
    "    # First a cutout of the target map is produced\n",
    "    cutout = stacked.cutout(\n",
    "        obs.pointing_radec, width=2 * offset_max, name=f\"obs-{obs.obs_id}\"\n",
    "    )\n",
    "    # A MapDataset is filled in this cutout geometry\n",
    "    dataset = maker.run(cutout, obs)\n",
    "    # The data quality cut is applied\n",
    "    dataset = maker_safe_mask.run(dataset, obs)\n",
    "    # fit background model\n",
    "    dataset = maker_fov.run(dataset)\n",
    "    print(\n",
    "        f\"Background norm obs {obs.obs_id}: {dataset.background_model.spectral_model.norm.value:.2f}\"\n",
    "    )\n",
    "    # The resulting dataset cutout is stacked onto the final one\n",
    "    stacked.stack(dataset)"
   ]
  },
  {
   "cell_type": "code",
   "execution_count": 12,
   "id": "3e053dd7",
   "metadata": {
    "execution": {
     "iopub.execute_input": "2022-06-17T21:34:22.676478Z",
     "iopub.status.busy": "2022-06-17T21:34:22.675760Z",
     "iopub.status.idle": "2022-06-17T21:34:22.690790Z",
     "shell.execute_reply": "2022-06-17T21:34:22.689722Z"
    }
   },
   "outputs": [
    {
     "name": "stdout",
     "output_type": "stream",
     "text": [
      "MapDataset\n",
      "----------\n",
      "\n",
      "  Name                            : crab-stacked \n",
      "\n",
      "  Total counts                    : 2479 \n",
      "  Total background counts         : 2112.97\n",
      "  Total excess counts             : 366.03\n",
      "\n",
      "  Predicted counts                : 2112.97\n",
      "  Predicted background counts     : 2112.97\n",
      "  Predicted excess counts         : nan\n",
      "\n",
      "  Exposure min                    : 3.75e+08 m2 s\n",
      "  Exposure max                    : 3.48e+09 m2 s\n",
      "\n",
      "  Number of total bins            : 40000 \n",
      "  Number of fit bins              : 40000 \n",
      "\n",
      "  Fit statistic type              : cash\n",
      "  Fit statistic value (-2 log(L)) : nan\n",
      "\n",
      "  Number of models                : 0 \n",
      "  Number of parameters            : 0\n",
      "  Number of free parameters       : 0\n",
      "\n",
      "\n"
     ]
    }
   ],
   "source": [
    "print(stacked)"
   ]
  },
  {
   "cell_type": "markdown",
   "id": "a706c3a5",
   "metadata": {},
   "source": [
    "### Inspect the reduced dataset"
   ]
  },
  {
   "cell_type": "code",
   "execution_count": 13,
   "id": "e4006916",
   "metadata": {
    "execution": {
     "iopub.execute_input": "2022-06-17T21:34:22.696776Z",
     "iopub.status.busy": "2022-06-17T21:34:22.695835Z",
     "iopub.status.idle": "2022-06-17T21:34:23.648356Z",
     "shell.execute_reply": "2022-06-17T21:34:23.647180Z"
    }
   },
   "outputs": [
    {
     "data": {
      "image/png": "[encoded data removed]",
      "text/plain": [
       "<Figure size 432x288 with 2 Axes>"
      ]
     },
     "metadata": {
      "needs_background": "light"
     },
     "output_type": "display_data"
    }
   ],
   "source": [
    "stacked.counts.sum_over_axes().smooth(0.05 * u.deg).plot(\n",
    "    stretch=\"sqrt\", add_cbar=True\n",
    ");"
   ]
  },
  {
   "cell_type": "markdown",
   "id": "4fb1341f",
   "metadata": {},
   "source": [
    "## Save dataset to disk\n",
    "\n",
    "It is common to run the preparation step independent of the likelihood fit, because often the preparation of maps, PSF and energy dispersion is slow if you have a lot of data. We first create a folder:"
   ]
  },
  {
   "cell_type": "code",
   "execution_count": 14,
   "id": "1b522a76",
   "metadata": {
    "execution": {
     "iopub.execute_input": "2022-06-17T21:34:23.653666Z",
     "iopub.status.busy": "2022-06-17T21:34:23.652965Z",
     "iopub.status.idle": "2022-06-17T21:34:23.659423Z",
     "shell.execute_reply": "2022-06-17T21:34:23.658329Z"
    }
   },
   "outputs": [],
   "source": [
    "path = Path(\"analysis_2\")\n",
    "path.mkdir(exist_ok=True)"
   ]
  },
  {
   "cell_type": "markdown",
   "id": "a45afd0c",
   "metadata": {},
   "source": [
    "And then write the maps and IRFs to disk by calling the dedicated `~gammapy.datasets.MapDataset.write()` method:"
   ]
  },
  {
   "cell_type": "code",
   "execution_count": 15,
   "id": "829a9f2a",
   "metadata": {
    "execution": {
     "iopub.execute_input": "2022-06-17T21:34:23.664712Z",
     "iopub.status.busy": "2022-06-17T21:34:23.664049Z",
     "iopub.status.idle": "2022-06-17T21:34:24.211898Z",
     "shell.execute_reply": "2022-06-17T21:34:24.210758Z"
    }
   },
   "outputs": [],
   "source": [
    "filename = path / \"crab-stacked-dataset.fits.gz\"\n",
    "stacked.write(filename, overwrite=True)"
   ]
  },
  {
   "cell_type": "markdown",
   "id": "d3dccf13",
   "metadata": {},
   "source": [
    "## Define the model\n",
    "We first define the model, a `SkyModel`, as the combination of a point source `SpatialModel` with a powerlaw `SpectralModel`:"
   ]
  },
  {
   "cell_type": "code",
   "execution_count": 16,
   "id": "9a25b342",
   "metadata": {
    "execution": {
     "iopub.execute_input": "2022-06-17T21:34:24.217306Z",
     "iopub.status.busy": "2022-06-17T21:34:24.216523Z",
     "iopub.status.idle": "2022-06-17T21:34:24.269185Z",
     "shell.execute_reply": "2022-06-17T21:34:24.267744Z"
    }
   },
   "outputs": [],
   "source": [
    "target_position = SkyCoord(ra=83.63308, dec=22.01450, unit=\"deg\")\n",
    "spatial_model = PointSpatialModel(\n",
    "    lon_0=target_position.ra, lat_0=target_position.dec, frame=\"icrs\"\n",
    ")\n",
    "\n",
    "spectral_model = PowerLawSpectralModel(\n",
    "    index=2.702,\n",
    "    amplitude=4.712e-11 * u.Unit(\"1 / (cm2 s TeV)\"),\n",
    "    reference=1 * u.TeV,\n",
    ")\n",
    "\n",
    "sky_model = SkyModel(\n",
    "    spatial_model=spatial_model, spectral_model=spectral_model, name=\"crab\"\n",
    ")\n",
    "\n",
    "bkg_model = FoVBackgroundModel(dataset_name=\"crab-stacked\")"
   ]
  },
  {
   "cell_type": "markdown",
   "id": "aeb65177",
   "metadata": {},
   "source": [
    "Now we assign this model to our reduced dataset:"
   ]
  },
  {
   "cell_type": "code",
   "execution_count": 17,
   "id": "02ccbbf7",
   "metadata": {
    "execution": {
     "iopub.execute_input": "2022-06-17T21:34:24.276568Z",
     "iopub.status.busy": "2022-06-17T21:34:24.274202Z",
     "iopub.status.idle": "2022-06-17T21:34:24.281920Z",
     "shell.execute_reply": "2022-06-17T21:34:24.280831Z"
    }
   },
   "outputs": [],
   "source": [
    "stacked.models = [sky_model, bkg_model]"
   ]
  },
  {
   "cell_type": "markdown",
   "id": "e7ef1ec4",
   "metadata": {},
   "source": [
    "## Fit the model\n",
    "\n",
    "The `~gammapy.modeling.Fit` class is orchestrating the fit, connecting the `stats` method of the dataset to the minimizer. By default, it uses `iminuit`.\n",
    "\n",
    "Its constructor takes a list of dataset as argument."
   ]
  },
  {
   "cell_type": "code",
   "execution_count": 18,
   "id": "1bc447dc",
   "metadata": {
    "execution": {
     "iopub.execute_input": "2022-06-17T21:34:24.288349Z",
     "iopub.status.busy": "2022-06-17T21:34:24.286434Z",
     "iopub.status.idle": "2022-06-17T21:34:37.956714Z",
     "shell.execute_reply": "2022-06-17T21:34:37.955536Z"
    }
   },
   "outputs": [
    {
     "name": "stdout",
     "output_type": "stream",
     "text": [
      "CPU times: user 10.8 s, sys: 1.79 s, total: 12.6 s\n",
      "Wall time: 13.7 s\n"
     ]
    }
   ],
   "source": [
    "%%time\n",
    "fit = Fit(optimize_opts={\"print_level\": 1})\n",
    "result = fit.run([stacked])"
   ]
  },
  {
   "cell_type": "markdown",
   "id": "ca5d3ad7",
   "metadata": {},
   "source": [
    "The `FitResult` contains information about the optimization and parameter error calculation."
   ]
  },
  {
   "cell_type": "code",
   "execution_count": 19,
   "id": "b3493441",
   "metadata": {
    "execution": {
     "iopub.execute_input": "2022-06-17T21:34:37.961865Z",
     "iopub.status.busy": "2022-06-17T21:34:37.961235Z",
     "iopub.status.idle": "2022-06-17T21:34:37.967912Z",
     "shell.execute_reply": "2022-06-17T21:34:37.966731Z"
    }
   },
   "outputs": [
    {
     "name": "stdout",
     "output_type": "stream",
     "text": [
      "OptimizeResult\n",
      "\n",
      "\tbackend    : minuit\n",
      "\tmethod     : migrad\n",
      "\tsuccess    : True\n",
      "\tmessage    : Optimization terminated successfully.\n",
      "\tnfev       : 140\n",
      "\ttotal stat : 16240.97\n",
      "\n",
      "CovarianceResult\n",
      "\n",
      "\tbackend    : minuit\n",
      "\tmethod     : hesse\n",
      "\tsuccess    : True\n",
      "\tmessage    : Hesse terminated successfully.\n",
      "\n"
     ]
    }
   ],
   "source": [
    "print(result)"
   ]
  },
  {
   "cell_type": "markdown",
   "id": "943c657d",
   "metadata": {},
   "source": [
    "The fitted parameters are visible from the `~astropy.modeling.models.Models` object."
   ]
  },
  {
   "cell_type": "code",
   "execution_count": 20,
   "id": "644532c5",
   "metadata": {
    "execution": {
     "iopub.execute_input": "2022-06-17T21:34:37.972908Z",
     "iopub.status.busy": "2022-06-17T21:34:37.972219Z",
     "iopub.status.idle": "2022-06-17T21:34:37.990199Z",
     "shell.execute_reply": "2022-06-17T21:34:37.988661Z"
    }
   },
   "outputs": [
    {
     "data": {
      "text/html": [
       "<div><i>Table length=8</i>\n",
       "<table id=\"table5382817392\" class=\"table-striped table-bordered table-condensed\">\n",
       "<thead><tr><th>model</th><th>type</th><th>name</th><th>value</th><th>unit</th><th>error</th><th>min</th><th>max</th><th>frozen</th><th>is_norm</th><th>link</th></tr></thead>\n",
       "<thead><tr><th>str16</th><th>str8</th><th>str9</th><th>float64</th><th>str14</th><th>float64</th><th>float64</th><th>float64</th><th>bool</th><th>bool</th><th>str1</th></tr></thead>\n",
       "<tr><td>crab</td><td>spectral</td><td>index</td><td>2.6000e+00</td><td></td><td>1.004e-01</td><td>nan</td><td>nan</td><td>False</td><td>False</td><td></td></tr>\n",
       "<tr><td>crab</td><td>spectral</td><td>amplitude</td><td>4.5909e-11</td><td>cm-2 s-1 TeV-1</td><td>3.705e-12</td><td>nan</td><td>nan</td><td>False</td><td>True</td><td></td></tr>\n",
       "<tr><td>crab</td><td>spectral</td><td>reference</td><td>1.0000e+00</td><td>TeV</td><td>0.000e+00</td><td>nan</td><td>nan</td><td>True</td><td>False</td><td></td></tr>\n",
       "<tr><td>crab</td><td>spatial</td><td>lon_0</td><td>8.3619e+01</td><td>deg</td><td>3.106e-03</td><td>nan</td><td>nan</td><td>False</td><td>False</td><td></td></tr>\n",
       "<tr><td>crab</td><td>spatial</td><td>lat_0</td><td>2.2024e+01</td><td>deg</td><td>2.957e-03</td><td>-9.000e+01</td><td>9.000e+01</td><td>False</td><td>False</td><td></td></tr>\n",
       "<tr><td>crab-stacked-bkg</td><td>spectral</td><td>norm</td><td>9.3478e-01</td><td></td><td>2.192e-02</td><td>nan</td><td>nan</td><td>False</td><td>True</td><td></td></tr>\n",
       "<tr><td>crab-stacked-bkg</td><td>spectral</td><td>tilt</td><td>0.0000e+00</td><td></td><td>0.000e+00</td><td>nan</td><td>nan</td><td>True</td><td>False</td><td></td></tr>\n",
       "<tr><td>crab-stacked-bkg</td><td>spectral</td><td>reference</td><td>1.0000e+00</td><td>TeV</td><td>0.000e+00</td><td>nan</td><td>nan</td><td>True</td><td>False</td><td></td></tr>\n",
       "</table></div>"
      ],
      "text/plain": [
       "<Table length=8>\n",
       "     model         type      name     value         unit        error      min        max    frozen is_norm link\n",
       "     str16         str8      str9    float64       str14       float64   float64    float64   bool    bool  str1\n",
       "---------------- -------- --------- ---------- -------------- --------- ---------- --------- ------ ------- ----\n",
       "            crab spectral     index 2.6000e+00                1.004e-01        nan       nan  False   False     \n",
       "            crab spectral amplitude 4.5909e-11 cm-2 s-1 TeV-1 3.705e-12        nan       nan  False    True     \n",
       "            crab spectral reference 1.0000e+00            TeV 0.000e+00        nan       nan   True   False     \n",
       "            crab  spatial     lon_0 8.3619e+01            deg 3.106e-03        nan       nan  False   False     \n",
       "            crab  spatial     lat_0 2.2024e+01            deg 2.957e-03 -9.000e+01 9.000e+01  False   False     \n",
       "crab-stacked-bkg spectral      norm 9.3478e-01                2.192e-02        nan       nan  False    True     \n",
       "crab-stacked-bkg spectral      tilt 0.0000e+00                0.000e+00        nan       nan   True   False     \n",
       "crab-stacked-bkg spectral reference 1.0000e+00            TeV 0.000e+00        nan       nan   True   False     "
      ]
     },
     "execution_count": 20,
     "metadata": {},
     "output_type": "execute_result"
    }
   ],
   "source": [
    "stacked.models.to_parameters_table()"
   ]
  },
  {
   "cell_type": "markdown",
   "id": "0db58e4b",
   "metadata": {},
   "source": [
    "### Inspecting residuals\n",
    "\n",
    "For any fit it is useful to inspect the residual images. We have a few options on the dataset object to handle this. First we can use `.plot_residuals_spatial()` to plot a residual image, summed over all energies:"
   ]
  },
  {
   "cell_type": "code",
   "execution_count": 21,
   "id": "489bb465",
   "metadata": {
    "execution": {
     "iopub.execute_input": "2022-06-17T21:34:37.995681Z",
     "iopub.status.busy": "2022-06-17T21:34:37.995359Z",
     "iopub.status.idle": "2022-06-17T21:34:38.493636Z",
     "shell.execute_reply": "2022-06-17T21:34:38.492527Z"
    },
    "nbsphinx-thumbnail": {
     "tooltip": "Introduction to Gammapy analysis using the low level API."
    }
   },
   "outputs": [
    {
     "data": {
      "image/png": "[encoded data removed]",
      "text/plain": [
       "<Figure size 432x288 with 2 Axes>"
      ]
     },
     "metadata": {
      "needs_background": "light"
     },
     "output_type": "display_data"
    }
   ],
   "source": [
    "stacked.plot_residuals_spatial(method=\"diff/sqrt(model)\", vmin=-0.5, vmax=0.5);"
   ]
  },
  {
   "cell_type": "markdown",
   "id": "ee9a3caa",
   "metadata": {},
   "source": [
    "In addition, we can also specify a region in the map to show the spectral residuals:"
   ]
  },
  {
   "cell_type": "code",
   "execution_count": 22,
   "id": "4c7600b0",
   "metadata": {
    "execution": {
     "iopub.execute_input": "2022-06-17T21:34:38.499018Z",
     "iopub.status.busy": "2022-06-17T21:34:38.498313Z",
     "iopub.status.idle": "2022-06-17T21:34:38.507080Z",
     "shell.execute_reply": "2022-06-17T21:34:38.506000Z"
    }
   },
   "outputs": [],
   "source": [
    "region = CircleSkyRegion(\n",
    "    center=SkyCoord(\"83.63 deg\", \"22.14 deg\"), radius=0.5 * u.deg\n",
    ")"
   ]
  },
  {
   "cell_type": "code",
   "execution_count": 23,
   "id": "adab4fa3",
   "metadata": {
    "execution": {
     "iopub.execute_input": "2022-06-17T21:34:38.512105Z",
     "iopub.status.busy": "2022-06-17T21:34:38.511396Z",
     "iopub.status.idle": "2022-06-17T21:34:39.787092Z",
     "shell.execute_reply": "2022-06-17T21:34:39.786154Z"
    }
   },
   "outputs": [
    {
     "data": {
      "image/png": "[encoded data removed]",
      "text/plain": [
       "<Figure size 864x288 with 3 Axes>"
      ]
     },
     "metadata": {
      "needs_background": "light"
     },
     "output_type": "display_data"
    }
   ],
   "source": [
    "stacked.plot_residuals(\n",
    "    kwargs_spatial=dict(method=\"diff/sqrt(model)\", vmin=-0.5, vmax=0.5),\n",
    "    kwargs_spectral=dict(region=region),\n",
    ");"
   ]
  },
  {
   "cell_type": "markdown",
   "id": "406349e5",
   "metadata": {},
   "source": [
    "We can also directly access the `.residuals()` to get a map, that we can plot interactively:"
   ]
  },
  {
   "cell_type": "code",
   "execution_count": 24,
   "id": "aaf8329d",
   "metadata": {
    "execution": {
     "iopub.execute_input": "2022-06-17T21:34:39.792025Z",
     "iopub.status.busy": "2022-06-17T21:34:39.791546Z",
     "iopub.status.idle": "2022-06-17T21:34:40.379463Z",
     "shell.execute_reply": "2022-06-17T21:34:40.378470Z"
    }
   },
   "outputs": [
    {
     "data": {
      "application/vnd.jupyter.widget-view+json": {
       "model_id": "8e41cf0aee824b43833f6ffb2497bc72",
       "version_major": 2,
       "version_minor": 0
      },
      "text/plain": [
       "interactive(children=(SelectionSlider(continuous_update=False, description='Select energy:', layout=Layout(wid…"
      ]
     },
     "metadata": {},
     "output_type": "display_data"
    }
   ],
   "source": [
    "residuals = stacked.residuals(method=\"diff\")\n",
    "residuals.smooth(\"0.08 deg\").plot_interactive(\n",
    "    cmap=\"coolwarm\", vmin=-0.2, vmax=0.2, stretch=\"linear\", add_cbar=True\n",
    ");"
   ]
  },
  {
   "cell_type": "markdown",
   "id": "4a0e8914",
   "metadata": {},
   "source": [
    "## Plot the fitted spectrum"
   ]
  },
  {
   "cell_type": "markdown",
   "id": "c808e925",
   "metadata": {},
   "source": [
    "### Making a butterfly plot \n",
    "\n",
    "The `SpectralModel` component can be used to produce a, so-called, butterfly plot showing the envelope of the model taking into account parameter uncertainties:"
   ]
  },
  {
   "cell_type": "code",
   "execution_count": 25,
   "id": "885553a8",
   "metadata": {
    "execution": {
     "iopub.execute_input": "2022-06-17T21:34:40.387773Z",
     "iopub.status.busy": "2022-06-17T21:34:40.387444Z",
     "iopub.status.idle": "2022-06-17T21:34:40.392113Z",
     "shell.execute_reply": "2022-06-17T21:34:40.391176Z"
    }
   },
   "outputs": [],
   "source": [
    "spec = sky_model.spectral_model"
   ]
  },
  {
   "cell_type": "markdown",
   "id": "2d21b63c",
   "metadata": {},
   "source": [
    "Now we can actually do the plot using the `plot_error` method:"
   ]
  },
  {
   "cell_type": "code",
   "execution_count": 26,
   "id": "dadd6c66",
   "metadata": {
    "execution": {
     "iopub.execute_input": "2022-06-17T21:34:40.396777Z",
     "iopub.status.busy": "2022-06-17T21:34:40.395986Z",
     "iopub.status.idle": "2022-06-17T21:34:41.176717Z",
     "shell.execute_reply": "2022-06-17T21:34:41.175805Z"
    }
   },
   "outputs": [
    {
     "data": {
      "image/png": "[encoded data removed]",
      "text/plain": [
       "<Figure size 432x288 with 1 Axes>"
      ]
     },
     "metadata": {
      "needs_background": "light"
     },
     "output_type": "display_data"
    }
   ],
   "source": [
    "energy_bounds = [1, 10] * u.TeV\n",
    "spec.plot(energy_bounds=energy_bounds, energy_power=2)\n",
    "ax = spec.plot_error(energy_bounds=energy_bounds, energy_power=2)"
   ]
  },
  {
   "cell_type": "markdown",
   "id": "cde62e5f",
   "metadata": {},
   "source": [
    "### Computing flux points\n",
    "\n",
    "We can now compute some flux points using the `~gammapy.estimators.FluxPointsEstimator`. \n",
    "\n",
    "Besides the list of datasets to use, we must provide it the energy intervals on which to compute flux points as well as the model component name. "
   ]
  },
  {
   "cell_type": "code",
   "execution_count": 27,
   "id": "d7c80270",
   "metadata": {
    "execution": {
     "iopub.execute_input": "2022-06-17T21:34:41.181843Z",
     "iopub.status.busy": "2022-06-17T21:34:41.180928Z",
     "iopub.status.idle": "2022-06-17T21:34:41.188250Z",
     "shell.execute_reply": "2022-06-17T21:34:41.187318Z"
    }
   },
   "outputs": [],
   "source": [
    "energy_edges = [1, 2, 4, 10] * u.TeV\n",
    "fpe = FluxPointsEstimator(energy_edges=energy_edges, source=\"crab\")"
   ]
  },
  {
   "cell_type": "code",
   "execution_count": 28,
   "id": "6287b524",
   "metadata": {
    "execution": {
     "iopub.execute_input": "2022-06-17T21:34:41.194814Z",
     "iopub.status.busy": "2022-06-17T21:34:41.192718Z",
     "iopub.status.idle": "2022-06-17T21:34:46.293177Z",
     "shell.execute_reply": "2022-06-17T21:34:46.292054Z"
    }
   },
   "outputs": [
    {
     "name": "stdout",
     "output_type": "stream",
     "text": [
      "CPU times: user 4.01 s, sys: 627 ms, total: 4.64 s\n",
      "Wall time: 5.09 s\n"
     ]
    }
   ],
   "source": [
    "%%time\n",
    "flux_points = fpe.run(datasets=[stacked])"
   ]
  },
  {
   "cell_type": "code",
   "execution_count": 29,
   "id": "0abf5b47",
   "metadata": {
    "execution": {
     "iopub.execute_input": "2022-06-17T21:34:46.299273Z",
     "iopub.status.busy": "2022-06-17T21:34:46.298633Z",
     "iopub.status.idle": "2022-06-17T21:34:47.206391Z",
     "shell.execute_reply": "2022-06-17T21:34:47.205350Z"
    }
   },
   "outputs": [
    {
     "data": {
      "text/plain": [
       "<AxesSubplot:xlabel='Energy [TeV]', ylabel='dnde (TeV / (cm2 s))'>"
      ]
     },
     "execution_count": 29,
     "metadata": {},
     "output_type": "execute_result"
    },
    {
     "data": {
      "image/png": "[encoded data removed]",
      "text/plain": [
       "<Figure size 432x288 with 1 Axes>"
      ]
     },
     "metadata": {
      "needs_background": "light"
     },
     "output_type": "display_data"
    }
   ],
   "source": [
    "ax = spec.plot_error(energy_bounds=energy_bounds, energy_power=2)\n",
    "flux_points.plot(ax=ax, energy_power=2)"
   ]
  },
  {
   "cell_type": "code",
   "execution_count": null,
   "id": "cee2a3c8",
   "metadata": {},
   "outputs": [],
   "source": []
  }
 ],
 "metadata": {
  "kernelspec": {
   "display_name": "Python 3",
   "language": "python",
   "name": "python3"
  },
  "language_info": {
   "codemirror_mode": {
    "name": "ipython",
    "version": 3
   },
   "file_extension": ".py",
   "mimetype": "text/x-python",
   "name": "python",
   "nbconvert_exporter": "python",
   "pygments_lexer": "ipython3",
   "version": "3.8.13"
  },
  "latex_envs": {
   "LaTeX_envs_menu_present": true,
   "autoclose": false,
   "autocomplete": true,
   "bibliofile": "biblio.bib",
   "cite_by": "apalike",
   "current_citInitial": 1.0,
   "eqLabelWithNumbers": true,
   "eqNumInitial": 1.0,
   "hotkeys": {
    "equation": "Ctrl-E",
    "itemize": "Ctrl-I"
   },
   "labels_anchors": false,
   "latex_user_defs": false,
   "report_style_numbering": false,
   "user_envs_cfg": false
  },
  "nbsphinx": {
   "orphan": true
  },
  "widgets": {
   "application/vnd.jupyter.widget-state+json": {
    "state": {
     "060194ab27aa4fef98666899341bdfb9": {
      "model_module": "@jupyter-widgets/controls",
      "model_module_version": "1.5.0",
      "model_name": "DescriptionStyleModel",
      "state": {
       "_model_module": "@jupyter-widgets/controls",
       "_model_module_version": "1.5.0",
       "_model_name": "DescriptionStyleModel",
       "_view_count": null,
       "_view_module": "@jupyter-widgets/base",
       "_view_module_version": "1.2.0",
       "_view_name": "StyleView",
       "description_width": "initial"
      }
     },
     "1d031bf1149e4744a8c992bf040f2e1c": {
      "model_module": "@jupyter-widgets/base",
      "model_module_version": "1.2.0",
      "model_name": "LayoutModel",
      "state": {
       "_model_module": "@jupyter-widgets/base",
       "_model_module_version": "1.2.0",
       "_model_name": "LayoutModel",
       "_view_count": null,
       "_view_module": "@jupyter-widgets/base",
       "_view_module_version": "1.2.0",
       "_view_name": "LayoutView",
       "align_content": null,
       "align_items": null,
       "align_self": null,
       "border": null,
       "bottom": null,
       "display": null,
       "flex": null,
       "flex_flow": null,
       "grid_area": null,
       "grid_auto_columns": null,
       "grid_auto_flow": null,
       "grid_auto_rows": null,
       "grid_column": null,
       "grid_gap": null,
       "grid_row": null,
       "grid_template_areas": null,
       "grid_template_columns": null,
       "grid_template_rows": null,
       "height": null,
       "justify_content": null,
       "justify_items": null,
       "left": null,
       "margin": null,
       "max_height": null,
       "max_width": null,
       "min_height": null,
       "min_width": null,
       "object_fit": null,
       "object_position": null,
       "order": null,
       "overflow": null,
       "overflow_x": null,
       "overflow_y": null,
       "padding": null,
       "right": null,
       "top": null,
       "visibility": null,
       "width": null
      }
     },
     "8e41cf0aee824b43833f6ffb2497bc72": {
      "model_module": "@jupyter-widgets/controls",
      "model_module_version": "1.5.0",
      "model_name": "VBoxModel",
      "state": {
       "_dom_classes": [
        "widget-interact"
       ],
       "_model_module": "@jupyter-widgets/controls",
       "_model_module_version": "1.5.0",
       "_model_name": "VBoxModel",
       "_view_count": null,
       "_view_module": "@jupyter-widgets/controls",
       "_view_module_version": "1.5.0",
       "_view_name": "VBoxView",
       "box_style": "",
       "children": [
        "IPY_MODEL_bc5452a663c14139b0a4794b2ed6a345",
        "IPY_MODEL_a05849047e5943baa961b1aecde020fb",
        "IPY_MODEL_be72ce60b8194de8905a7908dd7db23c"
       ],
       "layout": "IPY_MODEL_b459b7cdf21541978249d1618b0638a4"
      }
     },
     "a05849047e5943baa961b1aecde020fb": {
      "model_module": "@jupyter-widgets/controls",
      "model_module_version": "1.5.0",
      "model_name": "RadioButtonsModel",
      "state": {
       "_dom_classes": [],
       "_model_module": "@jupyter-widgets/controls",
       "_model_module_version": "1.5.0",
       "_model_name": "RadioButtonsModel",
       "_options_labels": [
        "linear",
        "sqrt",
        "log"
       ],
       "_view_count": null,
       "_view_module": "@jupyter-widgets/controls",
       "_view_module_version": "1.5.0",
       "_view_name": "RadioButtonsView",
       "description": "Select stretch:",
       "description_tooltip": null,
       "disabled": false,
       "index": 0,
       "layout": "IPY_MODEL_1d031bf1149e4744a8c992bf040f2e1c",
       "style": "IPY_MODEL_060194ab27aa4fef98666899341bdfb9"
      }
     },
     "b459b7cdf21541978249d1618b0638a4": {
      "model_module": "@jupyter-widgets/base",
      "model_module_version": "1.2.0",
      "model_name": "LayoutModel",
      "state": {
       "_model_module": "@jupyter-widgets/base",
       "_model_module_version": "1.2.0",
       "_model_name": "LayoutModel",
       "_view_count": null,
       "_view_module": "@jupyter-widgets/base",
       "_view_module_version": "1.2.0",
       "_view_name": "LayoutView",
       "align_content": null,
       "align_items": null,
       "align_self": null,
       "border": null,
       "bottom": null,
       "display": null,
       "flex": null,
       "flex_flow": null,
       "grid_area": null,
       "grid_auto_columns": null,
       "grid_auto_flow": null,
       "grid_auto_rows": null,
       "grid_column": null,
       "grid_gap": null,
       "grid_row": null,
       "grid_template_areas": null,
       "grid_template_columns": null,
       "grid_template_rows": null,
       "height": null,
       "justify_content": null,
       "justify_items": null,
       "left": null,
       "margin": null,
       "max_height": null,
       "max_width": null,
       "min_height": null,
       "min_width": null,
       "object_fit": null,
       "object_position": null,
       "order": null,
       "overflow": null,
       "overflow_x": null,
       "overflow_y": null,
       "padding": null,
       "right": null,
       "top": null,
       "visibility": null,
       "width": null
      }
     },
     "b6bf10f066f44b55abd32dd7ba1e64d9": {
      "model_module": "@jupyter-widgets/base",
      "model_module_version": "1.2.0",
      "model_name": "LayoutModel",
      "state": {
       "_model_module": "@jupyter-widgets/base",
       "_model_module_version": "1.2.0",
       "_model_name": "LayoutModel",
       "_view_count": null,
       "_view_module": "@jupyter-widgets/base",
       "_view_module_version": "1.2.0",
       "_view_name": "LayoutView",
       "align_content": null,
       "align_items": null,
       "align_self": null,
       "border": null,
       "bottom": null,
       "display": null,
       "flex": null,
       "flex_flow": null,
       "grid_area": null,
       "grid_auto_columns": null,
       "grid_auto_flow": null,
       "grid_auto_rows": null,
       "grid_column": null,
       "grid_gap": null,
       "grid_row": null,
       "grid_template_areas": null,
       "grid_template_columns": null,
       "grid_template_rows": null,
       "height": null,
       "justify_content": null,
       "justify_items": null,
       "left": null,
       "margin": null,
       "max_height": null,
       "max_width": null,
       "min_height": null,
       "min_width": null,
       "object_fit": null,
       "object_position": null,
       "order": null,
       "overflow": null,
       "overflow_x": null,
       "overflow_y": null,
       "padding": null,
       "right": null,
       "top": null,
       "visibility": null,
       "width": "50%"
      }
     },
     "bc5452a663c14139b0a4794b2ed6a345": {
      "model_module": "@jupyter-widgets/controls",
      "model_module_version": "1.5.0",
      "model_name": "SelectionSliderModel",
      "state": {
       "_dom_classes": [],
       "_model_module": "@jupyter-widgets/controls",
       "_model_module_version": "1.5.0",
       "_model_name": "SelectionSliderModel",
       "_options_labels": [
        "1.00 TeV - 1.78 TeV",
        "1.78 TeV - 3.16 TeV",
        "3.16 TeV - 5.62 TeV",
        "5.62 TeV - 10.0 TeV"
       ],
       "_view_count": null,
       "_view_module": "@jupyter-widgets/controls",
       "_view_module_version": "1.5.0",
       "_view_name": "SelectionSliderView",
       "continuous_update": false,
       "description": "Select energy:",
       "description_tooltip": null,
       "disabled": false,
       "index": 0,
       "layout": "IPY_MODEL_b6bf10f066f44b55abd32dd7ba1e64d9",
       "orientation": "horizontal",
       "readout": true,
       "style": "IPY_MODEL_f7e2d028d2e046fdb09627d775689ab4"
      }
     },
     "be72ce60b8194de8905a7908dd7db23c": {
      "model_module": "@jupyter-widgets/output",
      "model_module_version": "1.0.0",
      "model_name": "OutputModel",
      "state": {
       "_dom_classes": [],
       "_model_module": "@jupyter-widgets/output",
       "_model_module_version": "1.0.0",
       "_model_name": "OutputModel",
       "_view_count": null,
       "_view_module": "@jupyter-widgets/output",
       "_view_module_version": "1.0.0",
       "_view_name": "OutputView",
       "layout": "IPY_MODEL_fed685aa0e4f442a85b70c501009e450",
       "msg_id": "",
       "outputs": [
        {
         "data": {
          "image/png": "iVBORw0KGgoAAAANSUhEUgAAAWAAAAELCAYAAADnUlzVAAAAOXRFWHRTb2Z0d2FyZQBNYXRwbG90bGliIHZlcnNpb24zLjUuMiwgaHR0cHM6Ly9tYXRwbG90bGliLm9yZy8qNh9FAAAACXBIWXMAAAsTAAALEwEAmpwYAABg0klEQVR4nO29a7gtV1km+r4159q5kgtEICSR7NYoRAgX02CLjdwPoMfgBRpUDILa9CEKihwi9Dmg0X5QFI72QTAN0XhEExq5pDEKIUZoVHgIEBNCQNIEJSYSsoEENOy956zv/KjxjRrjq1E1a64111p7rfW9z1NPzaoaY9SoUbXGesd3pYjA4XA4HFuPars74HA4HHsVPgE7HA7HNsEnYIfD4dgm+ATscDgc2wSfgB0Oh2Ob4BPwJoAkt7sPDofjyMemTsAkzyB5DcmbSN5I8sXh/EUkryd5Hcn3kXxAUue1JK8l+b3JufNJfjZs5yfn95P8SDh/Ocl94fzzSL56M59tAb6+jfdeGUj+y3b3YRXw53AoSD6V5GdI3kzywsL1Hwtz0/Uk/4bkw8bWXQ82mwHPALxURB4M4LsAvIjk2QBeKyLniMjDAbwHwP8NACQfFOo9FsCLwrl7A3gVgEcDeBSAV5E8OZT7dQCvF5GzAHwFwAs2+XkcDscOBckJgDcAeBqAswE8J8xHKW4B8L0icg6AiwBcvETdpbGpE7CI3C4iHw+/vwbgJgCnicjdSbHjAKg3yARAHY51Gf+/AbhKRL4sIl8BcBWAp4Zl/hMAvD2UuxTAM8Lve7BLWKjD4VgZHgXgZhH5nIgcAnAZgPPSAiLyN2GeAYAPAzh9bN31YLrRBsaC5JkAHgHgI+H41wD8BIC7ADweAETkRpLHAvgQgJeFqqcB+ELS1K3h3H0AfFVEZuY8ROTyMX066eT7yKmnfXO5v8g9BEkJ5xXSKae/TzrxRJzzkO8QW7YM5iWox8yu562wfFy4jSAXR/c9V+lOJ554Eh7y0HPECrRNC9k5kbz/UhiFWvL+xj6Whol5P5UxVPo+kv5XrEOZsJdmf9KJJ+BhD3mwsDQ+ZryFzR3qcKdaWo6iz1Kb/tpmWTgg7PdjCieN2Pa0b/c64d446+zvlPxa4Z6InxEqLB4nhnFqv43+F6HjIzo+4Xw6TrFvQnzpn/9BDhw4sCGi953VcXK3zEeVvRkHbwTwjeTUxSJycfhdmksePdDcCwD8+TrrjsKWTMAkjwfwpwBeouxXRF4J4JUkfwnABWjEDBCRn7XVC03KwPmhfhAJMz7hxJNx6dv/EiWV2cT+MYfjKedhf7gph/bDmNaHmnPhf0IVPpqq7n488UMON5+zeRXzag0AUIfr8+QV6Ueu5+ZSnizSP4baDJP+QerzTJj0P/yuwjNpGTtp5+1PAAAz0X3Tt0N12M/b/h+aT7L9wVnTzmwexqDuvohJ1dx7bdrsj542fTtmrRnjY6aHYtljJs3f3bFBVHrU7F+b55ofbJ6n8B7mk2a8D0+Obvo0ORYAcE99TLOfHxXLfmO+L+v/rA7v0Hx1VTLZaf8nlY53/o9bJ8b0H1V8z+Gc3kfHZzZPxz/cU/c6XpPmytHTZpyOnqTj1IzHMdU9AICj5mGc6uabrsI+RV3pODXjcbBqxucb9dFh347TrG7H5xmPfSCN7Pp4WTL+wd2Y47ePOXNU2e+75zPfEJFzey6PnjNIPh7NBPw9y9ZdBps+AZNcQzP5vlVE3lEo8scA/gxhAi7gVgCPS45PB/BXAO4EcBLJaWDBpwO4bagv4cUfp8cPfsgjpDmvfU3L6n/8skFD/INJ6+ikalkgC+ygh3nFY+TH9nepL33XV4Wh9tt+j++DDm1ka4WqLZMbjzh2tPsw2SXvVNhMFrXuC+Pe6ZNd/QwYvdh/XqtAxmbDu48rhLCfmH+eaRdZWgqgZcLrQVV4TlKwf/9+HDhw4LhCldEgiWq6km/7VgBnJMfFOYPkOQDeDOBpInJgmbrLYrOtIAjgLQBuEpHXJefPSor9AIBPDzTzXgBPIXlyUL49BcB7w2R6DYAfCeXOB/DuVfbf4XAcASDAtWrUtgAfBXBWsJ7aB+DZAK7IbkV+M4B3AHiuiPz9MnXXg81mwI8B8FwAN5C8Lpx7BYAXkPx2NCuofwDwwr4GROTLJC9CMwAA8Csi8uXw++UALiP5qwA+gWayXwoZ00lWRnWgDDTMTpf0VYHxddmshDr9qA0DU3YWmVgmQzVytx62ZsUOJQwxs0WsbQwrL7ZrGW84r8v0EvRalMEbmepQ/+LYVvqZd1ck83AtljVinEEmHOW3Vq7eW2UUrL6hisxdT7Rla8nLxL2KPgwjbqqrPH0e7rM8S7cilCptn1YwskEQK2HAIjIjeQEaUjcBcEnQO70wXH8TGous+wD43WDOPxORc/vqbrRPmzoBi8iHUJadXLlkO5cAuKRw/nNotJMOh2OXghUxOWY1k7mIXAkz/4SJV3//FICfGlt3o9gyKwiHw+FYFwhwbXc6l+75CbiWKlGmJBfCstIql/qUZs05FQ1MsnuwsAiI5k5RBKHiBbMUTtqaG2uHIZMv8xi9y+KSGV2nDdO+INXC52ZIsUyhL/Y+ukyGWj8URBGTcClaE7BfoBPNxNSCJFiWaHcZ6mYiiFBmxkbLr1YcJRFQ7L8x8YpiKWPhkJcdRqYYU7FC/NbiiaZsUrSSXDQzNdYWk0otW1IRRBA9jDBGKCmQU0xCu/PkvUzD7/mqFJArEkEcidjzE7DD4TiyQQCc+AS86yAgRBgZXspcVJHQqhPKTDi1iWVgs12r+AksrKJIj+ei5lD5eaDAeHuUb0WHjD6L/XUgva9VVtU9fQNalqdsVgxDKllHtSZqRglXKKysdR5YLAtmZ819EwYc7ZjXQt1J2Pcr4aKSLHRhYvpSMvlij/1vCa3TSTAlU1vx8P6rIivPlW5rldqrd+29o323smdjfjZkNhnvF03xcnv59F5cwJ5Hg0DlE7DD4XBsBwiWjMR3Afb2BCwNq4iMIzP5UiaXsyjL9JjIaK0MdUh+1sekLfOdp66wCxwxhsqtwiHAPnt6TgbYdx+0T5PwiKW6SrysOZqOSlpHx2Gu4x5YbW0ksOn4zKJXoXpvhWP1PhuSZffJ1VNHid7aOYrlqDJmNfVqTpfl0tbsbG72LUPt+051nzLikq6jacN4iCYeoSXvvo2ABCb7uqvI3YC9PQE7HI4jH4Qz4N0IgbWCSFlC2cKgZYENM0j9/q08dEjO15XnlmWpq8YoRxI9Z7ovJecQKY/PkHt0KweNlC5c6Ja1lgWWKWby6CgDzlcRNC7iKSPWd6axLJT5luJqLGJ0Q++7D9p6qW7fM6dDauvpeMW4HoV4Hh0GHPURgQGz8E0YJqzy49g+2/gRlY7Zyj5hugzY4XA4tgOkW0HsWtRoZb8pM1KtbssOyswxldHqf/zIMAYI0SL34THys45GvWgHHDulJ0LRLkNt5dpVPFPqc4k114b5jgnrUkUZp2HCI6Dtp5JBfRc6LpbJlyxXVMbbWj/kZbIoZUDn3GbAvlcbUKcv8E1aNoacjAy4+0asJc4QrD4jyu9D5L/USmIz5kpWuzN72p6fgB0OxxEOEpPFgXZ2JPb8BFzXjMQx5QHROSscx+DhzJle+p8/MjAjl9sIYyp5SLUXw07lcZH5pVXy/modyxZL7VaGlZdsY631Q0cGXJAXK+oVMMk8WJEy6vw92EDq6X1t7F17vMy707LpO4t25J2VSLiuVgtJO5bNTnpsidPfHbaM/JtIEVd6wQswenCGVcAyFjMa8zr1qusGeN8Y6Eo4h8Ph2D64CMLhcDi2A86AdycEwQ05LJ/SjDhVQcQAdEUPpeU4TSCf4r3NctUuHUtmSZPoHl029RpUxnVEA3mAFwCYdBSDPeZKBdOsfnO9pL4RU/SdLy1d2/ZypxkpmEzFe/aIPEpKuD7Rw1KOJVGXyOScikWQ9bujsB1or0/BVqrfSR8VxzoRclilJHORTVHEYfLsqZjBpt8C0tRPKwrG42ZoDofDsT1wGfBuhTSJDkuusP3KtsUKtr5gOelxNJXSACsmzGJJiRKVMmGvLrfRZG5AYWTNw6I5XUL7tbo+qzXiLz2XZYzW2ClXkuVKMJsd2ZZr7p3DMt9S+6qMWyYzxSpMy4ZyC/Y5abQrhuSceY4xjj22rv2+5qm5oRmYGNIyfnNdt+LKtBuzasTEs7NYZzI/nJXdMAhUU3dFdjgcjm2AB+PZlWhckdnN7Y2E0alJVjxWJjDANkc4VVhWozLINGxgc5+UAef8UjmBZT0lBjbvkc2m5kPRHCka8WsfTd8zy7geGXCB3Vrmq2nWh+Ss8d5V3oZ9P0mR3oDpnWzG4aipU5af52PZPbcIY92T0zfbzUNozqd97OnLUJB+S0y7Mub2D2EiuauxfiOs85CWynqBlg2zzr/ljWBVEzDJpwL4bTR/Pm8WkdeY6w8C8PsAHgnglSLym8m1zwP4GoA5Qq64jfZnT0/ADofjyEcjA964GRqbgN1vAPBkNGnmP0ryChH5VFLsywB+DsAzepp5vIjcueHOBOz5CTg1yk/Jig1+3cocm+uR5ZYIhjH8H2R4oYxaOPQ5TuR1tEFlJ8apYuB+VmabMjSJ8r0GGlTFyqdTtC7ZHDwGusy3rnOGV4JmKYpuy0bWXHJgsMdRZo6u84leU6sQVbbnI6ztDXQU40JPjpLjdgI15f1Pv4m+tEL2OxoK7lSZwDrZCi6uAHWFltctOV0o861khlVhRVYQjwJwc0jmC5KXATgPQJyAReQOAHeQ/L5V3HARdqd1s8Ph2D1gIwMesy3AaQC+kBzfGs6NhQB4H8mPkfyZJZ+iCGfAiStySd7XkW0yZ2CFPJK9KNoF9yT/BLt1+j6vKjKk/Lh0byubzawIqGxc5as5Iy7BsrV5j5w3/a3Md17oA2BcecMlbW9ini3tW+u6W3aFbYOSp7U0ZY++V2N5UBj1Rdr99YSlLMHaXbeWDWkarJ66Pd9vei62EWW/zflpxc61NnVWHrx9K8DlrCBOIXltcnyxiFysTRXKL/OyHiMit5G8L4CrSH5aRD64RP0O9vwE7HA4jnwsoYS7c0A5diuAM5Lj0wHcNrZhEbkt7O8g+U40Io0NTcAugnA4HEc4CFbVqG0BPgrgLJL7Se4D8GwAV4zqAXkcyXvpbwBPAfDJDTwUgD3OgEWaZfAkLtPa1YhG/moVFM35ZczBh5aBEbrEDodq8F4XFEZ9cXrHoG/ZnC1HRUUZuvzW0yFKVmFpbR0wonihzkUR2TUjeqhNs2kUtr7lfCmTRHTdLbjspvfLF6KhpUqjemnEt1irc++Osm8dDgeD34SWsa7mBTO6TnaLHtfwulAmthGVleE+SZNVFDnk32VfpozQYDi3uqzIqzBDE5EZyQsAvBfNn/IlInIjyReG628ieX8A1wI4AUBN8iUAzgZwCoB3hmwhUwB/LCJ/sdE+7ekJ2OFw7ARwZdHQRORKAFeac29Kfv8zGtGExd0AHraSTiTY4xMwIcKobErZmlX2KFoW1c+MWhOvWElv123HFOm4QCeVxHolBAyZGNngPhpbNrqmjog20xfcJu1nx8SsoISzGSUs8y0hmsSpQnAgNm5lmG9lVgpx/Lp+GPFODKpMG4TJ3qvpg+3rmLHMlaCWUTbXyuZ5VeGb6GPAdqxL7ds2dLyyVQs1SFGzn0YF7SS/PlnrtMd6NZNmk5Jod0pL9/gE7HA4dgI8HrADQBqcJGdiQMJGovF6s4/BT1K22Ws+lJu7lXK2dTIDD5hxKRuMcu6YxXaxDLIvsE7JFbmP+c4lZV55e31ivSqx7dPflgHbnGfp776QnkVZrcSL2fMsI/tdKoOEkfEjss4kxGePK3tdWHVVA+8vbWtMsKFOyEx0v8eYLTow4Hm1Fuq072FeNdOKzaiybtBjQTgcDse2wRnwbgQFVSUdOWP6O17TKoZdWTljWiYGLlGWmEf7yeuYf/Cl4OfttQWOAKmrbXymoOWvjONHgRlZJhSDlZu+AYuZb0nE3HUZDvfT+yYMeFrV5b0y+wLbb2XAOUO1rr1pWcuEh1CSP2fXBxxhapM3kC31XohFoS1TxK+m4F68iBWXVl2W+dbha2iZcHcqkRHZlsfCGbDD4XBsAzwg+y4F0TCoyMBKDNiwqolhvqX0MH0hGvNsueMsGfJgNv2pY/Ln6jI8RordH7zdZg1u0/SoMHuSXU/7Z8NEDkG70mb7DceB+SrLbfqfn1sL9rqTSt9HkgoHOfNNA4trieZ+mRA73MdYTBjb2+JzrMP+N767EdYnfbL9qnCuT+4dVzFJrZhqqmPFoaf7+2YZ8TxkVmY6fhozSLqrw/WB4MQDsjscDsfWgy4D3pUggLVJHRlYyryszFEZV0fOmGrhDXOoDRO2rDe9ZoP6DIWjbKNOlmWCmRWEkVFbS42SbFDZzUw94GqV/3W989r+NnvLeVLZtpXxToyFgx3z5pqR+SoTZhPqMGXAkyj7nff0U6+ndq76AKbfZjVTwtC1vrJRlqoed+Zdtr3sR/p+9fnbVUXZ+69OWrWrlW5A/34Zdp+VTp3Ie1vrkFWJDdwKwuFwOLYHBOAM2OFwOLYHzoB3IUjBvuk8MUPriiB0iTcNe3s8lLNNg+cMucC2RvZVdqyYJ2Zo1vnDZsAomca1gVbUSaEcK7dpprn3TBUr6iushvUxP1gSjzb2KRellCLvVlVZ1DCNIgkd27b/k2h2FrIsMH8vE6QiIF2Ol91zbZ/T/tVcXLY327V1Ky8sve0Sfm4UnVJwfoh9MG7kqdhFx9Aqha0pZEmZG/fGPToXG5mxjGNgg/KkIpRJqLsaEMy+ud2EPT0BOxyOHQAC9LT0uw8VBUdPZm0wkpR5GTM0y3xLip4u8zKKnJTYhKLzngCXpXxybZjIwDZNv0usdoJcMTUpMPe2S6F9valmIq41H1jOxABgZkz4lLzpU6VsyjLftUluWjat8jFO+9u6VOfPUzID7DyXcaPN1VxV+qgdJjzkwBAD6QzkXbPWZpHxImfCYzJWtBk/ukq4+H1ilpW1jBUA5jHAjpoV5iu1tC+LTB6XUURuBC6CcDgcju1A44mx3b3YFOzpCZgQHD05lB0rOg4YhnktYgbhYoNo+TUQ4CXKTnPmW5QnGrdZa+6TBwjKGXxkjirPTYzloylRaK4WleUZ+WLBYUUDDlmnltS5xTLffVXD1loG3DUtU0ZnmXt8DwWHhlbumf/R2rE2PxfCMt+5MSWz7Dato4iB6wuyXwvreEGzKgPacVnD4ezYfmupCWSb7bopM0OZCRf7NGLEVueAkbTpDNjhcDi2CW6GtvtQUXBUVWbA1lqg4/I5wAT65GJlNms16nnZkmywle+VXZ/T23Tkh3XDKCuxbrpJH2IQoZzxDqXEie1XMMcpA25+K+Nt9w17a50rZrHOJDL2fD84/tGyZJLtY8BxpmwwBJUxmvs+q4j0nL4rlaVaCwegJDfub9ciagfiay0wYLPCmUj5/aaOEuo+bAMQzcOJksNQ9+/A/H1I4ZtYERMm3RXZ4XA4tg27VQSxqbye5BkkryF5E8kbSb44nH8tyU+TvJ7kO0melNR5LclrSX5vOH4gyY+RvC608cKk7H6SHyH5WZKXh0ynIPk8kq9e2D/U2MeDcVvjobhNOcu2CeaYYI4KNSrUIKSz9UFL1MnWqS1h6zvusS3N0tNQQAoqtFs8J3NUMu/cWc+nG0VAEVSsUTHpLYM+hEm7VbNNwlax2SbxXB23tWqOtWqOCZttWs0wrWZYY7NNeRhTHsaaHIrbtG62tfog1uqD8bi0TerDmNSHi89Uenam44O52cL4Dbxf+67mYaulits8OT8Xoq7DJv1b7/eq45++P9vvnmefyKy7hfcwwazZWGPCOn7j6dbeLx+X4t+D1KDUg6uspaBKuDHbwqb4VJKfIXkzyQsL1x9E8m9JHiT5i8vUXQ82W7AyA/BSEXkwgO8C8CKSZwO4CsBDROQcAH8P4JeA5uFDvccCeFH4fTuA7xaRhwN4NIALST4gXPt1AK8XkbMAfAXACzb5eRwOx3ag4rhtACQnAN4A4GloMh0/J8xHKb4M4OcA/OY66i7/WBttYAgicruIfDz8/hqAmwCcJiLvExEV9H0YbRbSCRoxmSBIpkTkkIgcDNeP0j6zcb16AoC3h2uXAnhG+H0PgK9v0mM5HI4tBlmN2hbgUQBuFpHPicghAJcBOC8tICJ3iMhHgWBWskTd9WDLZMAkzwTwCAAfMZeeD+ByABCRG0keC+BDAF6W1D0DwJ8B+FYALxOR20ieAuCryUR+K4DTQjuXj+oTBGv1wXgsI5YwHTfUzGTHuGdGY/6uyZE1WbJG/GMM3MfkPquMssQqs4rt9ezbOLst9Lf0ZC3O3Ypz5VvrRBCUb2pyJokSrj4c+mvN5owGCePen6nSvivrstttPnlXISqcmPEfobBbxnGBZixtho+sjJh3Zd7vYBYVay6ZKOys4tc69JS+pzGK0qVALGS3CU4heW1yfLGIXBx+nwbgC8m1W9GsqsdgI3V7sSUTMMnjAfwpgJeIyN3J+VeiEVO8Vc+JyM/a+iLyBQDnBNHDu0i+HeWofYNvPLDmyIxPPPHEJZ/E4XAsg1tuuQUk/yU5dbzIiGj0GZaygrhTRM7tbaiLsX3ZSN1ebPoETHINzeT7VhF5R3L+fADfD+CJY19IYL43Avj3oc2TSE4DCz4dwG0L6guA4/T4nId8h6RsKzfQt0zXBh+punXMK+pkxkjZmmXJypAkZxyZks2aAlnzJOMskv5umWRgLHVBQRIeKTKY6Hqcm6PlmYiZV47nczdjIM3jlrvNTmIfuyZULfNVxws9Vtfnrn93y8rz+MUldmidNjqmfMn71WfV/rZ186wjuZleaGaB2VmR1dqViGHExXakbB62KI9g2m4aO7gTK1jNCyVfrej3BeSrlf379+PAgQPxb25dIFZlB3wrgDOS44Vzxorq9mKzrSAI4C0AbhKR1yXnnwrg5QB+QET+dUEbp5M8Jvw+GcBjAHwmTKbXAPiRUPR8AO9e/VM4HI7tRTS/WbwN46MAzgrWU/sAPBvAFSM7sZG6vdhsBvwYAM8FcAPJ68K5VwD4HTQKtasCa/iwiLyw2ALwYAC/xebfMwH8pojcEK69HMBlJH8VwCfQTPajQRg2lLHNHF2nB3XBTTMBlIIwdjNjlK7FNjSoTWBMNldZcy5npp1AQSlDDWykZb6BZdY5i2vOafvGbTnuu1lAppU6H5TdZidJdgsbWKcNIlSWUwMp482Zb3u9PbYks2WDzPZptt5Yn/m7iyE9kzange3pe9Tn0XeoDD9ZU8X2dNe31suzXEi2t8GWqoxh97BllQnHcevei3Flow4qwaEkkaX3BQbSd2Rl9M29BlZZ68QqUhKJyIzkBQDei0bhf0nQO70wXH8TyfsDuBbACQBqki8BcLaI3F2qu9E+beoELCIfQll2cuUSbVwF4Jyea59Do510OBy7FcQoG98xEJErYeYfEXlT8vuf0VplLay7UbgnXIJBrW1kU+GwxzAfaBlLHdmUyta6deK1GLS9LOdNy/blpYvyXnStCCaG+UaWmXRpbmTAkT1bpp2ykUgUyxmbJ5m82AY2UnbeDQw0FkOBY6Lc3uyHYFcxWU69cKupyoCV+UaZsF5vMYtVc2uL7n0LDDhai5SZcPq7u1KwsvN0pRBWBGE89Hupq0n2XE1ZE9DIyJj1e2Iqt18h8w13XcYKYkfBJ2CHw3FEg4THgtirsPaVkT2McLOcmADXVcJ+OvJgDRZu5Zjssp0OIzUhG5XtAq2WmsZekwWWUkWWFspWucx2GmWeVVopPKORzRbS51imPsZOtGVgWrbuud7KdmtjsRJlmwtYaNb/gjzf2sJOje2wysNnSRf1D6wU7BzorhiA9P3mY1iycumXAedy2Iw113XoUz5OVd0NR9mOb8EsBC0jTlnvqoPxNEo4j4bmcDgc24MR/zR3Ivb0BCxo2FHpP7VlZyVtMmAYqso7zT/roaSc9n4du8sBBtxhvoVQhFHmW+fMt/TMMTSjYcvabh1lhl020tGWFxKExsSgPXasyrbqJE1Ty/ZUQz8xdbqrinm1FvqbM2Jtt2SN0nnfBXbesceV/BlbJtzWmUf77thI3mY4ziwbzNh1EsGmAfF77KNj30ornriqyzsR2W6BAXfs37WqdOXSmwKPB+xwOBzbAE9J5HA4HNsIV8LtQpCNCMIs+wEkZmd2aWUVDIn5kHUDNSKJbOkdfqpTxdy4wpaWdBOjxGqVWsbZIlMQWuVM6FN0QOiXrdn2rOij1P++Pjd9KCtlhly2VYxg69qlcVpW95r5QZWGbVbkLvoynxT7u0CRlpp86fP3iWhKWS46br/2vaO/rDVDS3zcY51KclcRfdR2TFMlaxj/qHDMRWVtE93vyIqLNgSXATscDsc2gHQZ8G5FHwNujZ+UWSDsc2VHlQQh6ZhMxQRjoW6SH42ROSq7ydlHiQnTuAL3Md+sjpSZY4mN9jkqdEMRJi7b0XEkV3ANKbHi/YxZmD57XapjlW8FpZAq2+bhs1bGG4+1TiEwTjSbi6uYfuXSopCSxWe3LHmAAduwk325+TYMazpYcL9W7xIx71edNtpimzxBOgN2OByObYIr4XYfBETNKjLgvsA8JZTMb6Lb5zxnl0WzK2PfHoPwqEmThqUsmKHZkICW+dqANaYz4T4Fk6MFpkYx4EqStZhRRitZv8u3HmZwbSjINBhMGXVBXjkPZmbKfGeGCY+RAbeBdvqZvA2ib9sdMnPrmpiV3IutLmGEXNq8O2Wo8ZvO3nN5FdS6bCcB2UM70bSvys0BO4HsNwMugnA4HI5tROVWELsSNSbDAa47xveLXZBtoJLg4YlJyg6NpyutE0KBUFiZYMdKQfqdLDrskuY8UrlemdVEJpx3KuvbGEZkmfwQ+lJA6TilbtFzaT7nmeTX5uF4iJ3b8JND4UDbVFP53qaZStEbXN3I19NrfSgF9m8tQNRZI2eu6fQloimVehhwMtnFdqtpaE/3a9n9h0JYbhx0GbDD4XBsCwgXQexGCIgaVaJp75axNr2MjCBcT+StywQfsYGt21CWetyV09nAQLaNti8FuWWUmepxgblYuZ6VBaO7CtBn7rqsGllzAVHWKSNknD3MV1kv0M9858pMC823aZ1yFhtDihbkxjadlN5viGH3h6Hsd89eKCtHnhAAaJnp0P1LAXrSdueTtaRe0/4stKvtWxvrjJUvSL+0LAT947fTsacnYIfDsRPgrsi7FMRcppGFZP9ljWzTErmqKEezjCVnksWknD3yspKdbm/w7Y53XhddVtu157TyxM79i0GLtLIGJc/Z4JB9qG2vxPhsKMl4Ptr4JnbAC5jvmCA8FkUPL8N8l2HYY+Sjfcy0hCgDt0U0TKgGUEpClPa/k+43oUx3Vu3Lj0UZcD7Wi/q7buzSCXh3PpXD4dg9ICHVZNS2uCk+leRnSN5M8sLCdZL8nXD9epKPTK59nuQNJK8jee0qHm2PM2CHw7EjsAIZMBsFzhsAPBlNmvmPkrxCRD6VFHsagLPC9mgAbwx7xeNF5M4NdyZgT0/AgmYJq5kgspWfngovfqJLyCo30E+X0YuUJrnbbDlLg1VaDYoixphxmaWbVbSl4oa+5X5H9DHg6twniihhGZfavnFK249mYCr+6BE95C7nZZfgIQeMqKyKDh4DLs7RzMyIINYxn5Ta74yLmaji/ZLPgCo+6xF1pN+EVbqp6EGdXFTcUxdEECtVxq3GCuJRAG4OyXxB8jIA5wFIJ+DzAPyhNClePkzyJJKnisjtq+iAhYsgHA7HEQ5COG4DcArJa5PtZ5KGTgPwheT41nAOI8sIgPeR/Jhpd93Y0wy4UcJNYrZiJv+P2sy9wZmCuXmSdYoYQskUa7ESTtlJyixyd9nOXgPtlBwx1NEj7vPQjfZ3itbVGZ32qz7FnxQUmwZ9LtOlLBe9WTQKis25lMe2De+YMGCTX6/keKHoc2XuOGYkzE8dPOq4kipjGaeU0vcU30l8Sc2fdhzL5LFsTr6OKWEhwJG9t3XvVhNAYFjpuS4Qyyjh7hSRcwdasihrzstlHiMit5G8L4CrSH5aRD44tmMljJqAST4GwKsBPDDUIQARkX+zkZs7HA7HYnCUgm0EbgVwRnJ8OoDbxpYREd3fQfKdaEQamz8BA3gLgJ8H8DEAi31xdwhEgFk9LQY7qU2YyFaWVw4VOHifJSQ9NhBLxsjGEooCW7CMtzayYCDPxQa0TCn2v+CGXQpMn18f02mtq2Xb/i/jlrsIMf9aMqY235plh2n7M2WV6jQTTeFCX9Yh8xwK22kZtQ1VCrQBgaKMOWbXzoOuF4M6GXl9sX8xcH/5etFMbxNkwCsKd/lRAGeR3A/gnwA8G8CPmjJXALggyIcfDeAuEbmd5HEAKhH5Wvj9FAC/stEOjZ2A7xKRP9/ozRwOh2NdWIEVhIjMSF4A4L1opEGXiMiNJF8Yrr8JwJUAng7gZgD/CuAnQ/X7AXhnyAwyBfDHIvIXG+3T2An4GpKvBfAOAAeTB/r4RjuwnRAQh+tJkQGry3EMFzjCXXYRWyvW6QRpCYbzJixlKJTv9TlUriv9y7QOAx5wIbXP0QbaGcOE+7HpQbsD4t9qDBbfHMbUPgkDnkYG3ATWr8wKJA32AyPbjIHx+ywP0I5lXDmZ42Vgw2AC7TubG1l5tHTQMKfs1ol9NO8ufUvts4bwljEdVtCJqPw4k8VrwyMfbBFWmJRTRK5EM8mm596U/BYALyrU+xyAh62kEwnGTsBqB5cKtwXAE1bbHYfD4cix52NBiMjjN7sj2wGRnAGn0P+3swWpZMag9O0oA7JWFcrAbGDwcLLZRRteY89ZuE9/yMSB0IlR7jcL/TfBvQegdcsBfQxT7Ngoj7dNblvsyjYrMx7dIOjtcyjznSIwYOPmnfaRzAPdxLENtuGzwiLAyp0twx6yO7b3KQWA74YMDcw9MtbFLu2pm3KnbGXq6yIoupqX3ouuslaIXeqKPNYK4kQArwLw2HDqAwB+RUTu2qyOORwORwP2mkjudIz9t3IJgK8BeFbY7gbw+5vVKYfD4cjAaty2wzBWBvwtIvLDyfEvk7xuE/qzpRAAh+v2P2sqiqjMObtEbJe1/YjtxRVx24ZERVBVLKtL0zTKlK42Vdk2Kl5sx5Sp3wGksyw2sXHHKNH6oq4BbZStrhu2jSXcdQSo0XV5Tftc6r89H03O0C65o1giLMM1z15ZBFFrpSKqqivWsX2axP0su75M9uXs/ZrxiHGMrSlYqss1Of7UHE3jBKeI16wbegzC1hwfTsQzUQy1KjM07l4Z8Nh/GfeQ/B49CI4Z92xOlxwOh6OFgBBWo7adhrEM+D8BuDTIggngywCet1md2iqIEIfnKcNpr1Ud5ZuWMUw1aa9jvhXNoJSBJfeOipUGk57AKCnmC7LvWkVbeq6NYZvXSc2hItONpkfqEJAzozyLhv4ue3RqDrHmt8mm0GMSlzKnPicE+xxA993Y54qrloQhR7Mqm1+v7jop0Lopm7/39nlSV2RdKeWuzpPo8JGbOabtKGzgoWx87Ddg3bALxNE6Ykznh5pjZcBJX1QJPJ/k+QY50f1RWZsAMNdAPaucEHcpAx5rBXEdgIeRPCEc372ZnXI4HI4Wu1cJNzgBk/xxEfkjkr9gzgMAROR1m9i3TYcAmNXtf+mKKQsJhu2GAVtmXPKTqMyJIROjjmuzZd6p3NjIb/syM9QDIRpj1wqy7Ukwp9KPQsegL/hPjvyczZ4LAIerhi1pSMPDEhhxIaRht/WyDL5YtseRpOT8YB1sYr40yfdNuz3BiqoQsAn9JnMqa7ZMu4RW3lle8Qy5X/ea6yWsVu89mTemd5wH+ff8YKes9qWqD2d1Yb7PKjFXmwWWP12ZJ8bWOfFsNRYx4OPC/l6Fa8u78jgcDseyIPamCEJEfi/8fL+I/HV6LSjidjzqOpGnpWw2Mt5wrGXUoiGGF0zlgupIEGS+5l5ZIHAjj+wY6pcYXjgVQwEGhqSWHDE0YMLq27I5tEQp/GJVSfE+5UzKOVvTY2W+s5QBB8Z7UBomfKgOZUL/td8lK4KJGa9JpePVlWHbuuvRoEdmnLjp6rBOrChYNGRp/zLZZrC2SOuqxUG9Adf2eBxdkxNrEcn7osy3mhlZcALRTMkx1mQ+PtWkrTMJzi2rExsQywS02kkY+1T/deQ5h8PhWCnUFXlkQPYdhUUy4H8H4LsBfJORA5+A/tjSuwKRMKzjnbYWsLmtcMpqbWAYtVGdDDhwRq1yaGZug2LXOSNurjHbxz4qS0/NjCMzCn1S+XG00y2EQ6TaJOd2s3p+hpYBH5Ims+7BeXPuG/Pm+NC8KasWKWlf25VCs58G5rsWaOg0tWgYYMcAMFc2nQaO4WK5amw/WkZou9reLJwfCutYfq+xThbzJ1922RClJb2A1SFMrIt7KstW+XaQ/SrjVQaMOi0b3muQF6M21hDKgJM6VWDLskLF2V6VAe8DcHwol8qB7wbwI5vVKYfD4WixR60gROQDAD5A8g9E5B+2qE9biixQdckO2FgydKwhMrmxFPetnDf1tMuZr3pnWSZTsvm09q7RGqJgBRHlqkac2BZpmYXKWduAPSaQD3JGnPXPMF+19Z1L+4mp9cOhutl/Y9bsDx5u6hycBflx3WWjkyCXnk6a/Vrct8xyLcgh19S+1Xiu6bilgeetbNEyrWLA9Mggc1Y7lBKqLwHmPLDFSkqrimELmaaesXE2qbSs9QXQstVKvf4CE1Z2Wx0+1Ok/Kq2Ty35bWXnafmhvhSKBnSheGIOxjhj/GuIBfweAo/WkiHg4SofDsakQjBMR7USMFay8FcCnAewH8MsAPo8mvYfD4XBsLuiuyPcRkbeQfHEilvjAZnZsqzCppLhSWuSA0WZZSEUYNvBKfjxN4tC2LqllMzRFlrPNOg2YZW0dy6WuvM2+s6zXZXnSxLwjysgdPKYFhVWbJSN3Yy45DfSJSg7Nm/3Bw0GZmFhB6Spfs05Mg/Rgbdp0fN+0/aPT30eF/b5Jbk7VZodog/GUAgD1IYoW4ntYUC5Fa7/YHIbARKIiokTG2QbLCaIOzc5iMx+jywynJrtzyfEjtmsVaqpIS+MD67MWxEJAomBOlHD15HB4ptVNiHudAQcVKG4n+X0kH4EmW+iWgeRTSX6G5M0kLwzn7k3yKpKfDfuTw/nHkfyDreyfw+HYPKyKAZfmEXOdJH8nXL+e5CPH1l0PxjLgXw2BeF6Kxv73BDRZkrcEbCjAGwA8GU3a6I+SvAJNQKCrReQ1YUAuBPDy8e02DLgqGLz3BeGxJmV5YBdk5yLzrepOWZuF1ypPFKnCqM3YO6wRThVudSGAS3M+tJm6nUbXZr13mXVkCpEeX4Gi8mrAzTpFyoBn+XDgUCBn06Cwm621fZnnBLXTFzVP63suoGtelbHZgnNGdh6FOgZtYJ1cYZfWsePTZknJA/gAieLPrKQ02I+G10zNxFrmK9kxpDCA8Vyo25c8I3V11vZWpDiTFVlB9M0jIvKppNjTAJwVtkcDeCOAR4+suzTGBuN5T/h5F4DHb+SG68SjANwcEuMhpIw+L2yPC2UuBfBXaCbgQ2j66nA4dgFWJILom0fSSfQ8AH8YknN+mORJJE8FcOaIuktjbEqibwLw06ETsY6IPH8jN18CpwH4QnJ8K5r/TvcTkdtDX24ned/w+28A/M2iRgnBtKoHg6t3Qhlq3QID7nObtc4WTTtGVoeclcQ2S+y8z9wtXi8+boboUZrJaHvKDgT37vTNGP5PkuDnk2CathZMmtYmDas5atqMwWyuct4uq63r/LjcVw1uH+4XTNfWqsVBfvqCzCBz4bUy4Lp8vsCA4/JYh3BEFukoC9bvhtrD9AUoK9ZvIIy7BpjXIDqJXLfDeJeBPuNc+9QdW0YztBXKgMez6VNIXpscXywiF4ffffNIilKZ00bWXRpjRRDvBvA/AbwfMGvkrUFp9Jd2lGcTwOHrenyvE07eSJ8cDscC3HLLLSD5L8mp4wO7XApLZNe4U0TO7bk2Zh7pK7OSOchi7AR8rIiMlq1uAm4FcEZyfDqA2wB8keSpgf2eCuCOoUbCi9cIb3jQdzxSplVdlEVOepwpLMvNHDlgmG90tujKdyfMZb82LGIxZVBPiiPb/8zhI2r+dQzUmaPTfEQb+Lt8nQVWaIN8K9aqhGErk54M/zFVaWAaqoVEc2x8H3J5d2TLZffr2CbSd1aW+Q7KgFeQ7ze6dw+5L0d2no9xygY74TR15RGYrzLh3ApiltXtMOHs4xhmsZEJp21Etk/s378fBw4cOK5bcxmsLBhP3zwypsy+EXWXxtineg/Jp2/0ZhvARwGcRXI/yX0Ang3girCdH8qcj4apOxyOXQRB44U5ZluAvnkkxRUAfiJYQ3wXgLuCmHNM3aUxlgG/GMArSB5EY5JGNITyhI12YAxEZEbyAgDvRRME6BIRuZHkawC8jeQLAPwjgGcu1TAbtloKltNNpliW66Z2uzEQSgye0l/WynyHgrYvfAwrE04ZHvP9ClZN+b11RVDn6nGVW2ba/SCT1X3XWqQJzjOdtAF8pkFOrHLhQ9FdWe+T3FPj2sT283EprUSqaHNrgsosv0qOKLHaaPerCUnjcWDr1UAoy8iA9bjbt76USpOQbqjSYDoYIQNO+2/DZ/YsnVi3fRINzr7CT20VSriBeeSF4fqbAFwJ4OkAbgbwrwB+cqjuRvs01gqiFJB9SyEiV6IZnPTcAQBP3J4eORyOrQFX5ojRM4+8KfktAF40tu5GsSgc5YNE5NOpMbLp0MdX2RmHw+EoYWUp7o8wLGLAL0VjfvZbhWsCYMcH48myGheyK0QnChO9rLictTFYjSgiU15FpVU5olY8Lrjy9qHo/BBFKc2xdUJYRvRRzq6gz5YvfRVVlZihBeXPJJybhv1asO7fp8chd1zzuxFH7JuGCGrRXbmrKNTYxhoxbWJFHSaubt7/8Yo1VQjZGMglkhYdL6pc9KA58+rwfNl77nlHVuGZnqvMe9B8b2p+pjndgMQRY4y4xYoc4rMOKA/r1Yq5BLvXFXlROMqfDvvtcL5wOBwOAHt0Aib5Q0PXReQdq+3O1qNG2RTExgFulXHq6hnYXMG5wubcGsMy7QdWytRgHSJ6M+CO+FZL7tdjUXKbjUofZVqiyrlunNtJ1SiGppOwj8dNpNN0TKeBDa9N9oV9iCk800BBbfv6HteCY4fGB54aZ5pM2dpra6dj3H4d1vxMelzCs1WMKtk0TrLJFqFMuBjgKPbRrKwKsX1V4xWZb1yRhMzHJVfkzn6ICZeZr1Tdj23VDBjgYMbsnYxFIoj/feCaANjxE7DD4Tiy0Zih7UEGLCI/uVUd2RZIwybraL5VcMu1TLjHhRhoTbEWZcDNu6DhECf5cSH/Wulc09eB4DLGe9iGsNwobPbgNtBL99kZ+j/RjNIqn5yE1cREj1um2cram/som/1GYI5pBmhbZ2rM3EorkZjtI8hmKYHVauTHhC33MV7bVoramJ/psWYMUWZcMl2LK42YaaP0PeUrkCgvNuy2mieuyCYDRhtwx+wHEJlvyeROh2k9rs5999ulE/AoXk/yv5A8KTk+meSvblqvHA6HQxGI0phtp2GsI8bTROQVeiAiXwmecf95c7q1NRA0wcGt1QKwOPiHdRPNz3WDYHfvnTPf3uvJRzVHOVB6Kfh5b7+tUpv912xfiu1ZzbwJcVgMTKNOB6HsmrUESVl/cMCojfuyMtM0A3TrZh3YcqWyX3P/dEwDk47vSrvGXLba9yxNWctjErl3eFZlut39kCsys76V34MZF2MNEfucyYA1F1yQD6s7cV34Xs3gReZrHEfKLtUrzIq8Sxnw2Al4QvIoETkIACSPAXDUgjoOh8OxAuxMdjsGYyfgPwJwNcnfR0MJno8m/u6Ox1xayW8qA65M+pwx4fD6bEpLmva+9qJrqrJddBley44Xdqlj7WAy40R5aXOuayWQ11XWnmRF7mQRtsFsCm2pXDJU1eA5qsGvq/aznEpzbg0qQ9VxCWw3YahWU25TN7XZndsxnYc/AXWProMAM7pSj2DAihhgp2DRYBmv9mGI2aWhTkvPBbTvqu97sjL6prCuUkI7Q67JukIzVhDxvVf9MuxVQVequxFjXZF/g+T1AJ6EZs1zkYi8d1N75nA4HAGrU+cdWRjLgAHgJgAzEXk/yWNJ3ktEvrZZHdsKCIhaGBNT1kngbk2AWYdXHxNJRmuFrlyuZUDl0IxDLFosMyrY+tYjrSByO9dmX7U0P+wCO6zaspMYtEaZcF623G/DypEzpLLmfhgpa47ydOORqCmdhlamOg7KlvUdHk4++5YVV8X7pLa/YwMn5d9EzrrjO7SrmYK9cewTc+uRbDaKyVVDnfB9MlpXrGPpntkxqyefhhINdstqv6yy4EQmvK57LsBuFUGMtYL4aQBvB/B74dRpAN61SX1yOByOCAnBeMZsOw1jBSsvAvAYAHcDgIh8FsB9N6tTDofDkWKvm6EdFJFDpJr5cAosWIftENTCuOROV3Z1ch1ol1Vq+jVBLpIAEiN4uxwsSLD6lDPWpKzkAWSXrzZITpXWiSKG/HXZDM5AN+bxpEcJVHKPVnOrKpqYzbLzTf/y4DVjskLEuupqG8ZyHvuY1q07/QNaxeOsoPhSsYRm4WizU+eON2kfrJLSiiSKDhnRZDCYEBpRRA4VI4RnjuMW3nsiKpOOcio3hbRBgJp2tZ3w/UR38TaTRWwtxGMWdaE2+3piRBFIRXErUpxJ7nK+mzB2hD5A8hUAjiH5ZAD/HcD/2LxuORwORwONhrYbRRBjGfCFAF4A4AYA/xFNUOI3b1anthJ9QWnavGi5AkeZajRfykyCNE1Dww7aYDwFFmtZICwD7jKkjrLNMK82O3KaeQM9ZcL1hOXa7B8251xkuwnrb11pc6ZV18HBIcmKbJ1OxDCudky6DNuixEZ1nGOqM7tSQG5q1pwzmZSN23LJ5CuuNIyb9BCsInBMYCW9Tx3uo6x5mo2pOkZondD/iXENn3aD8fQn/UsYtjLoaRMMqbb7Splwm8WkdTJaYVbkXcqAx5qh1STfBeBdIvKlze2Sw+Fw5NhAhqgjGovCURLAqwBcgMaAiSTnAP6riPzKFvRvU0EIKkqSM6zLdhS1YSzKRqqEY2qAFTDPjzbIgBcsm0p56tp9cFWNjDfSoN72+rI7p/eyITg7fU9lqCbITB1cgxlkg6l3awxgPoL5tnVMn2IwpDD+ifNAu3qwx4F9FgL3WMws+y+MfydjtpqsDYx71+ws1ymUJpjIylUubWTBTTtm7Iz3b5v5OHmONe2/mt6p3D4P/gO0zFYZ8FyZbwgPOpvkTBhI9BkrY8DckmhoJO8N4HIAZwL4PIBnichXCuWeCuC30Yz2m0XkNeH8q9EksFCS+oqQxqgXi0boJWisH/6tiNxHRO4N4NEAHkPy50c9lcPhcGwAgi2zgrgQwNUichaAq8NxBjYG1m8A8DQAZwN4DsmzkyKvF5GHh21h/rhFIoifAPBkEblTT4jI50j+OID3AXj9ohscySCAtWrekYsC/W65XSuFVMuvddR9U3ddt9nYnmF9LeNT+WLKdoyWP17SFDld55CWyWnJnN0WZZw9suVSOMxOcJlgoB9T5SSOHn3uTNZtuZTyKDpkqFNCtDTpMuD4TowsWEtmcnWzsrHPXBqfboZsZeP9rNneZ24ZcaFPeuu42oppshKGat+JNhM/wX5qrcxX5vrOum7NyoCjrHeaM995OD/PGPDiQEPLot4aGfB5AB4Xfl8K4K8AvNyUeRSAm0XkcwBA8rJQ71PrueGiEVpLJ19FkAOvFco7HA7HaiFAPXIDcArJa5PtZ5a40/1E5HYACPuSr8NpAL6QHN8azikuIHk9yUtInrzohosY8KF1XtsRIAVHTQ73XGv2VUEWmCKVTVWRgSkjDXWUpZXIiORloly3VMeQgI6VwoALaEeWWpDvjnWxTQOjdBlwsKetczlv9tvKJU0KJ0kSSKr7rZigSNZNN+1fFS1WDIstWBzMjbVLG6yoO5bKfCVaizA7FvMOgfb7aXUIeV/b0KL99t6ReWsbSZonawURYZhwyT16qnL7wGZLgmh1PVaGqyscZcCzKjBhtlNJDCS1ogA6KoIYiTtF5Ny+iyTfD+D+hUuvHNl+qSM6cG8EcFE4vghNMuPnDzW2aAJ+GMm7ezpx9IK6DofDsRKsygpCRJ7Ud43kF0meKiK3kzwVwB2FYrcCOCM5Ph3AbaHtLyZt/TcA71nUn8F/USIyEZETCtu9RMRFEA6HY0tQB0uIRdsGcQWA88Pv8wG8u1DmowDOIrmf5D4Azw71ECZtxQ8C+OSiGy4TDW3XoTIiiDHLnEFTo/j/LFeWlVrtKLpMpC1V5KWigjoq5vLIaXOjiCka9RccC/qex45DVGLF1W5XYVTbnHYlcUgUNeRmelKH8eqJp1xCdMctiGhaMYUu+1XJmivjCl1LlGLaZHuDeXzu/D1H196CsrVvUrCOPkUlXKesKgGT67Er0+y4FX+F64l5Wmv2p3nw8mzeKaJ5YRA9qKjBih7miXPLmFjHy2KL7IBfA+BtJF8A4B8BPBMASD4AjbnZ00VkRvICAO9FM6qXiMiNof5vkHw4mq/y82ic1gaxpydgh8Nx5EOEmNerm8z77yMHADyxcP42AE9Pjq9E4w1syz132Xvu6QmYqHEUD8ZjKSh0rANGrBtN11KTo54MBkbJ1JS1DDgPVBMVUqlRvA3g08OIV2W03mEwUZfVHadetiPd8WnzxRkTP2WuiVvr1JqmTc19q4Q5Sg/71gwb6imeX8x29RKRvxcF5Wmazc/Nl3g3nZVIrJt0UnPiRR+c5vjw0EonLh5UadnN/hGbN0rWyHgN850nU4nNVbgK7ElPOIfD4TgSsBMD7YzBnp6ACcE+Hiw6GFgzoTbzQ2Xa6GZFtm6zJflrZbLWtqZS+f1zBqxsRJ0Qyow4Nf8pPVuKlC33uctalMbJopSLTJlvNQ8yYJOFl6YcAHBSzqgh08J9F1g9qeNByrzn6n2r7zvmnOtHX0CjYp4944iRSkrT8+nTWObb6Utm3qVy8+bcLBjDUp81fouJEFhl5dViBmxl/O231r/qWiZL9xgIoo3vrsOenoAdDsfOgIsgdiEIwbQ+3MM2c0P/OvKd3N03c1W1wXKM7DeVAcdzke11GWPTp26g63mQabZyudxyIpX3aW4766Zbkm335SuzGvUxMub4HGl+t5D1mLrXZ9e9rjLqQuhEg5KVRXx/0Su3uXfU3Ee35nZMNfiOOo7oeA0FAI+58yp1j26Op6VMyuq8YeTT+h40kI8kfRIz3jbxXfqFKHPX/hL5c9jwqWn/aMKDVoX8fTZQ0jKsdpFjz1iIYEuUcNuBPT0BOxyOnQFnwLsRItl//ZQNtlllNezkgH2rQWUDyIT9pG7tX2kYsJUJxz4VZMBaNwa+0YDdGhAlcQuNzKXPtjcRnC6SAQ8xmj4749TmN8qF1QoiMOGOLLhqj3U0Jmw83zVA+KTOA8E3v4N3fPSCVvmnWos0ZWfJ+Oi7mod2ZrVaoXRl5zZE5TQG41HX5H5Zart6CMGEjE2xZPbe+UoktzrO0XlnHRtoleF2Zf0dI5eYyXq8KUg5aFS+6loFfAJ2OByObYIr4XYhCPPfPmGb0Q7X/jcf+BBsUs4YwDswXyZsexLYX6XXlBUanpNaXUTNtuSvTbXZYtImNe2VTQNKYRAt80oayc+PIDZFFhjlwmEfmXDOgDPntjA+ooHetY6uHJLg9xMT/pDRWiT3KkxTNqlsdKZMrsq1/CXvyA6ztky4wFXVW7FNnJpbQdSJ3F4jeNpvr9SXNuCQ9awLbYxYsfV9t00DOmaxcNan0spHrUBWZ49efvbdgD09ATscjh0AcRGEw+FwbAsErb32bsOenoAFuZIrRbssK5tBFeuYJVzrjBCUcPM28I+KHqo6N8mqjEIqy/8lKoKwX2NuLJ9llOjJbRfbXLHbcmefjm80E7N7Q28GMinQBOzJHD2M8lOhx60oolXctWIJ42pbEOfE+5hl9yS20VXCdRww+pbwpXfWs+xO2WBcmkcLPHWuUCViIe5zFFvkY1hyyGjfp3Ubjx4sWjCiNbFbHZwBOxwOxzbBlXC7FL2utD3BckqMxZZpj/OgM5kjRmC+6pxg3XNtcB4AMTtBDEijTiKahWLApdRiDPO1edGGQldG8yd1DgkBdarE9G4+Dc9vFDtSmVVGyvo1K294djVDax0EUp5lHGB6nGaKzjM2I7RxtS2h43JeyCPXurQjlFUzMTu2Sbs2t5zujJt6Cqt0G/V+exyFikF5zDhYs7csD178W1kRXAbscDgc2wPBclHqdhL29gRMYl6tFQ3PLRvoynVjjt22uQ4DzhkGCy62ynw5OxTOB8ao96ls+JbEPZp5Nttl0Oc4AXSZ7lBZ6+KsziDxmaeFvxxlaVVuWtZeT5xPAvO12XnnISdZXaWOGGW2auX5mdxYZZlVfmwDHAFdU6jOCmFg5aGyZjUV1GMNnJSGrawN87UoZQiOQX8GAr3bsp3gUQW5euuIZFYTA8++KhfkFD4BOxwOxzZAxGXAuxICYs5pZD0lJtk6ZNjgO5YJd+tb5stMBpy743YC1BhnBSBxSY2hBo1FQCmgjwlMo0xLtdppyqOx8vAU6igSU9JoE+GwTlipstfJvGGvk6l5Zm0zlXurY4TJuqxu2Hm237IrbUeenxxHubwq9U1AI2auzuNds/tgXXcjE04dbqIMu8EYO5x2JVLuU8aErZ/NgOtxq4uYFM+zkAnaBiBaBWSXCoFXaSnSAckzSF5D8iaSN5J8cTj/zHBckzzX1HktyWtJfm84fiDJj5G8LtR5YVJ2P8mPkPwsyctDkjyQfB7JV2/mszkcjq2DyLhtIyB5b5JXhfnkKpIn95S7hOQdJD+5nvopNpsBzwC8VEQ+TvJeAD5G8io02UJ/CMDvpYVJPij8fCyAPwDwAQC3A/huETlI8ngAnyR5RcjT9OsAXi8il5F8E4AXAHjj2M4JiDkm0V03lX1GthPNHXPmyKj9LwXHLn8JGdMw4RojS54dzq9XSWCdKmfHywRNUagsr0R2FyWQLB3P1Rohavs1RU0ImpOkF5pVwfZ5cnRzTdRFO2fwJVbbSf45YCvcF+y+6Gob0MpBF/PNDhPuSa0UepP3zciC25VJKpfO5cRVtDRQ+9pEXtzDMuu471pF9NpqF74nO/72/BCGEtguiy2SAV8I4GoReQ3JC8Pxywvl/gDA/wvgD9dZP2JTGbCI3C4iHw+/vwbgJgCnichNIvKZQpUJmm9HEKYIETkkIpq47SjtM5tUtE8A8PZw7VIAzwi/7wHw9ZU/kMPh2HKMZb8rkFKch2YeAfL5xPRHPgjgy+utn2LLZMAkzwTwCAAf6SsjIjeSPBbAhwC8LKl7BoA/A/CtAF4mIreRPAXAV0VivMNbAZwW2rl8Ux7C4XBsC5ZwRT6F5LXJ8cUicvHIuvcTkduBhjySvO8SXVxX/S2ZgIPo4E8BvERE7h4qKyI/Wzj3BQDnkHwAgHeRfDt6wqMu2TPMZdoqs9LqebjW7t2iF216S60UXF91Ga7LzpJbq40QZpeBA2IG217J/bfjRBF2E8yyOskjJe3l2RDqKGZIzMREMy7kILomctFll8ZxoeDAYJ8pHmvmh8Lyto1OpjF9TVzm2EjBPVfP0YgGSlkiFi0cs08iGg/m7YYRmxQcJ6Zq8hVOTaLZoSq32uarsgSiGxUtab+Obta5grP9prvjY8u2Yox+V+2VxgMebwZxp4ic23eR5PsB3L9w6ZXr6ddGsekTMMk1NJPvW0XkHRtpKzDfGwH8+9DmSSSngQWfDuC2BX0hEtHEiSeetJHuOByOBbjllltA8l+SU8fLkiYNqzRDE5En9V0j+UWSpwb2eiqAO5Zsfun6mzoBhwnvLQBuEpHXrbON0wEcEJF7glbxMQBeJyJC8hoAPwLgMgDnA3j3UFvhxR+nx9/x0IfJYZl2gqo0ZUMQFVWoqJ5CDecLed7aoCZqDmWVQd3ANNF0ygaoMYwsFMrrqrtstVgxZfO6KarCQqKNP9vUad1Qu2wtsindD7CeCmXGu4w5V6yrplrJO9M4vJMQI1gzVHT7kbTXs8KwjDhDTx0x7Lk5qdeQXYsxhfU7St2vNYBPZL65Mq6qkhXIgqW5ze4NtBlB9N0zOs/0BXvqKuOsy3OJ7RKC/fv348CBA8d1Li6JLbJCuwLNPPIajJhPVlF/U5VwaCbL5wJ4QjAju47k00n+IMlbAfw7AH9G8r0DbTwYwEdI/h0aq4jfFJEbwrWXA/gFkjcDuA+ayd7hcOwy1LWM2jaI1wB4MsnPAnhyOAbJB5C8UguR/BMAfwvg20neSvIFQ/WHsKkMWEQ+hKLBEwDgnSPbuArAOT3XPgfgUevrXcNy5zIpyqwiI4kMRllJ7piROhpEp43IjoO8Uplx1TXqj8Fl9NpE2YfK5ZI66o6rgWl0b+RzaQjFvrxuo1inCTVYcm+NMmDJmdZQFofObUaYK0XZacy/VnAkSbJjpO1ycGVgHWzM9YJb7ipknB034CyAj8200dxnqplP0gzBcWVmZOWG+c4k/U6bdmdYy8razB4ljArys2JXZMHWMGAROQDgiYXztwF4enL8nGXqD2FPe8I5HI4dABHMd6kv8p6fgGupiq6T8T+9aqLVJTOyBQ1S0rIFZZ6TOmcJGgBc0sA6Gq4xBONRdgtj5C+JI0Y9bVx455Ojmr0Gpgll2gAyCWs2Mrox7GQRw8tkwB2mledSS2WPbZ3lYRmvZiSeJGYAXfmqytcn2fXsuQacEIBxDgedOpkjSZmZDmWctjnnJlH+mjNihFLNtQb2KXRlwjqRAUNXTrmseVKwBipaCCV9HAzqtEImvA6fox2BPT8BOxyOIxuNCMIZ8K6DgJhJFTXqkwFZZKuZVtmm2mqmdrS5xQTDsikGkKnTVDjhXJDjqlwusmQjIwaA+VrjwjufNgx4pvsqMOOg3U4Du/RlOG4P+21vo8zXuq6mDE/KdVqriKTdHtvUPnfaFGoJoHLQkh22rkBskPiu5j5htUPWDj3oc8st6QV6UzVJmQmnsHJvRsuc9J3lwXwqI6fX85l0PDzyPMqWVY6vAXba9qOlRDinLDla/xjrjvS3zfC9boiHo3Q4HI5tgzPgXYpaquS/d/pv1jAiYxFQq/wsC/0YgssYWaNlYM3vwJqUHQf5rjI6Lavy3rTMbNowYWW+cS/KgAfS6NgANQNphrSdUkCX3vatV5v0s+V5bVlhqT39lYeatEwv67/x0lLZabSb7hoRxC9gTICjfptYZf1dK5TWOqQc3KbOVhXl8Vbmmyba1EStttfxOI5T1wIn2hnrmBoLk/Rc1HWY4Z7k3DoUWS1dFQHmc5+AHQ6HY1uwSwmwT8AOh+PIxwqcLI5I7OkJWMBmuReWVbnJlCofjDmV6oBipoDu0nGMokvX1prXTb1LoyIpZhfeF6uo6OFwEEscroISLoge5lARRLdPrWmTMUfL4g/lS/U+Z4rcZAqh3TzojI5fvvTVPmEQqVKuzeCxcbRL+lREYFoeoYyzoodWVJO7ZefXxivfFqFkshZFVz3vLHXKbvvZHFdWJJG6dwelp04UrWLQmG4WHmc9uQpLEBGXATscDsd2we2AdylqtAqd0n/xofCHTZUCGzHG620m5SEmHNxClYUE5wplvQAwC44XcW+Y71y6Cp7ogBEZUr/yTdnxUECd9LmAJMSkKtbiNXWlTrhXMMPTYWA06QuXV5hDDCiYfNGw/+RcUilDVnaB0i06oyR/VjZY0ShHjD636BhStN/5xFYthaNEVLIGNltp35rjdFJgDMiUZ+nQb6QqPI+0dpjF51gPamfADofDsfVorCB2JwXe2xOwNOyojkbm6SVlCQ2sZNCy3eZ3znQ7ucmynHBqbqZsITfiV9mvsl2glf1qEBVlvhpoZTAAjiV60mWD8wXMV+W8KWu0Jnca+EYJWeoCq4OoclENsq3kRn0sNsqEO44SA44kbaD0HlfkgTFRVqhjOYsrkcR5RnPkRSZcZr6p6ddQgHpbNma3juaROUsecnaJ420+8izDcQzenst8bfD/zDSuIGvfKHYpAd7jE7DD4dgRWCIjxo6CT8ALUBkWYsMHpiwlBk8JaepaBjzvlG0btMw3yHcnuZMFkMp6yzLfMaEfbVCevkDaeRfzZy6hZt6HKrDcNASnkqQoQ43Prn3Cwvt0XJ8HHBjmJtu1GCeX7Bk7xwMu2obZRUuHGJqzfebDdX6tY1ES2WwrK5+YazbgTcn9XaIsPrRh5OslBYeyYmXCcWwLlj1RTm+CUJUCvm/AwKMIEXEZsMPhcGwXnAHvMXRYoAmMokkVs5Q4hvlWdb7PZMDMZWgxYE+wftDAOroHgJmo9UNudzrEfK21w1CIwEXMV5+5ZPmh0D6pdcThNFiOYa11R76I7HrTfrmvpeDw88joepiwYW2lZ7bI35ltJ5e9RyuIRO49r1UGXLZ+mBbk6jCMNwbjKaxaYv81bKlZZcT0RXVJRmvaGEAn2JIJ8pOGyJxEd/fVKc58AnY4HI5tgMeC2MOILDAy3/w4DUZiE3UOyn4DYppvlQEHxhtDTKYadWN3amWepQA7G0l8aZmvpmOqMssPtfCQ7HnqAltu0+c0e/Wyqm2B1Fikx6JBbVhTjtXa3JafOYaJTL3/elYINmhRU68cutIy+7TPNlVTx18wFE0tcOw3N43jrumwEoYdrU6aOodMmiG94SxJ5BlXGtEeO79v/myhv6KridzapfRZtc/fHxRqOWyNJxzJewO4HMCZAD4P4Fki8pVCuUsAfD+AO0TkIcn5VwP4aQBfCqdeISJX2vopNjspp8PhcGwMsmVJOS8EcLWInAXg6nBcwh8AeGrPtdeLyMPDNjj5Aj4BOxyOHQCNB7Fo2yDOA3Bp+H0pgGf09OWDAL680ZsBe10EwWbZVcXDVLnU7GNGALMc1/NVoqQZpXwLiAbsGvdXlW+a5y0s3+bJK1JxRCnPWtPngmmcEZ0MoXUvNc9qYsKqshHoOptEpaIu91MPWF2iV2bJblyFU1rQR2pKOed0lGcqgjDjoWZ7FdPQNGVYUURzkC/3+8zzSkrR2l4bUI6qqGca94fDfbrf0SQMln4nrLRPa6HdSdZnIDWXy/s5xMaseEUVjZMYkKitvR6x1xAEW6aEu5+I3A4AInI7yfuuo40LSP4EgGsBvLQkwkixtydgh8Nx5ENkGVfkU0hemxxfLCIX6wHJ9wO4f6HeKzfQQ8UbAVyE5n/GRQB+C8Dzhyrs6QmYEEwoHXMfoDWjirmw2MOEpWVTyyjfWlfOwHSV+TJ3tpglSjgb0CXe17J0pmqtvL/t/bt8Z9Jjehfble4zT+rAzkx4zsiA09uoXqiHAStmCaulyZphkdZVhVZUGGlWZDMu+bPn49Jm3CiwZL2mCkaW/3z6Ajel19rvquuKrO9Tme+aHMr6lH5X0YGHeq3WRvL7JfkIdS5rHTBGOPAY87PWJE5XCt3V4yqxBAO+U0TO7W1H5El910h+keSpgf2eCuCOpfoo8sWkrf8G4D2L6rgM2OFwHNEQbJkM+AoA54ff5wN49zKVw6St+EEAn1xUZ08zYKD5T96ykvx8ad9mqO3KCAfDTqKVjwKp40XYK5OJst9ucG/LGPuYViqTLDlPNMdq0pS4nRqHhT5X2Jz163io3Fvzi3VNkKLs17giy8RQpmS1WceMvaEN6S3a5okzbrg2O3IJvQGUknGzAWg6qyF267R53PKOR7l6zMPWjmmU/aJhwNO6YcAqe0+/r6hDCGycExMKVfdVW2cW+lQbOfqQ7DrezzqURFO21Fyv08zGIFuWEeM1AN5G8gUA/hHAMwGA5AMAvFlEnh6O/wTA49CIO24F8CoReQuA3yD58KbH+DyA/7johnt+AnY4HEc+tkIJJyIHADyxcP42AE9Pjp/TU/+5y95zz0/Ak6or9wVKDLisBMgsJxaE7c/YprEWqJkz3tZwPzWgHxaulbTPfdmPS20tesZSWM0oM62tzDQ4b9StxURkkBNj9aAo2O2rRYMGc69NlZIMzabJGXqXfSsdG1o0bc/KwpXt62ogledqeh/7h9Y6WeRMuKmvLu251clkfqjTp+hyzHylo4xX95PMWicPmzmXMiNuylpnmXBf8/1Ij2XOauApiRwOh2NbIALMZ4tNB3ci9vQE3FhB1EXmWBkriLROH6QnoWNr85uwWeay3zZ5Yx7gJYW107Xsthgkvi+4tzafie56LA2M7LPvOYGUHavNbGIxoWxKUxNVuVWHtRNuCmfNxQDhywQgsufzEKKGzRpbbmQrnLx/LQPOXYbrqmX9iplhcFWPu3HTp9wSw+oWMgsNXSCE9qbxdG5TXXJPPxy/ozy4U9r7uAIzwY+sa3WKMVYVy8IZsMPhcGwHRDwamsPhcGwHttATbsux5yfgCnVxaWozXyj6onMBiROCZoEw67M6yQ5RWyVcjHRWdk5I+2L7G5esA0q4PgyZoVkX4WIWChPPuBrQQ9oltO4noY21sPjNRBAKjeoVDxcrfWKUL/MuU4VX1/xMl/v9MscqLL9VOVZLrkhdS7+RKDrJNYxtLrjFTjsWJWWvjoa+s2lwkOkUaG42iCp9v3Hpn7977UFdcJRZdXbrpk1PyulwOBxbD3EGvCtBSmYAb68NoeNyi65SrDZMLmXA1vV4yBje9qnjFBKDwsyz46xudB3tZ9jx2dpotVmd2igOm+cITK7WZ+zeua8vHTMu5Iy4uZcG0GnamcT2cpYOjFe+ZUq4TuZqy4STTBLMFYtqoqVMWFrK3fvMfdkoSiaA7biH+1YaWKdrRhePDYO3bD3tZ9/KpkpMyuxfR1TC1bm7d6ojWzUDFghqT0vvcDgc2wAB6ton4F0HIne+KJcpy4DVXKzIuqLcrydEIxLmq9ktkJtkle7fyUsXjfxn+fl15uLqmqEpuwmMPjyHhs4MD5AWjaxwTPtdJqxsre3/PLrq5tkuqsgOV7M07TLJ/owYrZxbWXkjb23N6LoZgmNIzB7ZdRogSL8JHecuc09Yv2Hs1rmlFFZTHTys6/SgiaVxyGjz4AUmnHjItBk3VseEXQThcDgc2wCBQFwJtxshWZjGUohGe622JCQJSdgGgVFZYc6As1xhNO6gPfeuCu7RarQ/6WG+ZXlimWGXnrl1+NDjPJcaU7m3dXEOdUeF4hwhD+1zNlkm4Esn4Ps6EZ/JBiCyctYsQtA+rRzqqLVLf760GDBdv62Yfi0wbpYC4udMd8hZxmIoe7F9V1H2a/Z1woDb4POjuzAMV8I5HA7HdkEwn7sr8q5EztQSjbdhhi1b62HCSRlR1tqJsphol8W4IJtg661lQzdYkDJfteCIYQoL8r5W/qxdytsfYpKWCbfy71TGOQ33KbP/Idi0TCVX6PWktWndZXPma7MXZ31YZByL5JnUMqMTgCggGZ4YpCaumPLzRdtqs+Kw9uV1YlOs795acywDuzqq074YF2Qr+42xkpL2lA2virSKM2CHw+HYPohbQexOkLLAJrbs+aYsJQ3Dp/JkK2vsBLFGy3znPWmGSmEkLfOdiqYDGkj+aa04jGyQGevP5ZKRScau5cwsNFBsnyZw/RCGZO8L65aCiOvqwYy7TauTXYvjkh+XPOIsE7by19ziIAToiUHcjbeh+Q7y51C73NzOO/2+YjhK0ZCY5W8hCwTVI4OP11Ob3rCfG2uHaP1g7IKba912NgRnwA6Hw7FdcCsIh8Ph2BYItiwl0ZZjT0/ARFjq6+opi42bo+5ZrlVZmcISPUFqamaXw3153iaJiCDmDzOKF81MXHJ31dqt8k3P9JtBdbMd5KIIpk4DRhnZBr4JdZOm+sydOvGACyKCMbB5ymK+tLC8nxaUfR13XKMYHKMDtG7MqStvLbkoZpGLe9aXKEJRR5hCn/SUcSiiGbc8FnWPWK0gzul8C7Essn06P67cEUME9S4NyO5ZkR0OxxEPkXrUthGQvDfJq0h+NuxPLpQ5g+Q1JG8ieSPJFy9T38In4CUhwmyr0W5zVJijgoDZFs9n9SrUyTkLrV06p1slc1Qyb89J2Do9KAfnWY+JF4CsZTsutkxerypuW4Vk5Lobq6LzQulZFZR6odnXoveg307prdVSNZv5VmpM2i2UiXVYoWb/85SerfSs3febK9Xs34Feb7bQzxUr4cZsG8SFAK4WkbMAXB2OLWYAXioiDwbwXQBeRPLsJepn8AnY4XAc0RAIpK5HbRvEeQAuDb8vBfCMTl9EbheRj4ffXwNwE4DTxta34G7NtTQGp5xyipx55pkra++WW27B/v37V9bedsKf5cjETnuWW265RQ4cOLAhokfyLwCcMrL40QC+kRxfLCIXj7zPV0XkpOT4KyLSK0YgeSaADwJ4iIjcvWx9YI9PwKsGyX8RkeO2ux+rgD/LkYnd9CzbAZLvB3D/wqVXArh07ARK8ngAHwDwayLyjnBu6Ql4T1tBOByOvQUReVLfNZJfJHmqiNxO8lQAd/SUWwPwpwDeqpNvwKj6KVwG7HA4HA2uAHB++H0+gHfbAiQJ4C0AbhKR1y1bv9OeiyBWB5IUH1CHY0eC5H0AvA3ANwP4RwDPFJEvk3wAgDeLyNNJfg+A/wngBrRm9q8QkSv76g/e0+cLh8Ph2B64CGIkSD6P5Pdvdz8cDsfugSvhCiD5eQBfQ5MUdiYi54ZLzyL5VABfFJGLSB6NxgzlKDRj+XYReVVo4+cB/BQax9EbAPykiHyD5PMAPB7APQBuB7AG4CEAniUih7bo+Yb6fRKAN4c+CYDnA/j27e5zCUPPEa5PAFwL4J9E5PuPhLHvQ9+zkDwDwB+i0dzXaMyqfvtIfhbHEhAR38wG4PMATjHnngfgx8Lvy8OeAI4Pv9cAfASNd8xpAG4BcEy49jYAz0va+dHw++qwfwWAR2zh8xX7HY4vBfBT4fc+ACcdCX1e9jnCuV8A8McA3nOkjP2yzwLgVACPDOfvBeDvAZx9JD+Lb+M3F0Esh7vCXgBAGnw9nFsLmwrVpwCOITkFcCyA25J27g77L4X9ITTMZ0vQ12+SJwB4LBotL0TkkIh8NZTb1j6XMDT+JE8H8H1o2HyKI+45gP5nkWHPqyPyWRzj4RNwGQLgfSQ/RvJnhgqSnJC8Do3N31Ui8hER+ScAv4lGE3o7gLtE5H2b3ellUOo3gH+D5o/590l+guSbSR7RRv89zwEA/w+A/xPoCcF2BGLgWfT6mQAegYYdO3YDtpuCH4kbgAeE/X0B/B2Ax46ocxKAa9DI4U4G8JcAvgkNk3kXgB/f7uca0e9z0QQbeXS49tsALtruPq7jOb4fwO+G849DEEHslC19luTc8QA+BuCHtrt/vq1ucwZcgIjcFvZ3AHgngEeNqPNVAH8F4KkAngTgFhH5kogcBvAOAN+9Wf3dCEy/bwVwq7TM6+0AHrk9PVsO5jkeA+AHgjL1MgBPIPlH29a5JWGeZcjzyrHD4ROwAcnjSN5LfwN4CoBP9pT9pmA1AJLHoJl4P41G9PBdJI8NnjNPRCO7OyLQ128R+WcAXyD57aHoEwF8ant6uRgDz/FLInK6iJwJ4NkA/lJEfnz7eroYfc+ywPPKscPhZmhd3A/AO5vvHlMAfywif9FT9lQAlwZzpwrA20TkPQBA8u0APo5mSf8JAKMiMm0RevsN4GcBvJXkPgCfA/CT29THMRh6jp2G4rMEz6vnArghyIeB4Hm1Tf10rBDuCedwOBzbBBdBOBwOxzbBJ2CHw+HYJvgE7HA4HNsEn4AdDodjm+ATsMPhcGwTfAJ2OByObYJPwA6Hw7FN8AnYkYHknOR1JD9J8n8k3lkPCM4li+p/vef8M0ievaDu35H8k3V1fEUY+5wOxyrgE7DD4h4RebiIPATAlwG8CGjiY4jIj2yg3WegiWNbBMkHo/keH7udEdhW8JwOx2j4BOwYwt8ixJ4leSbJT4bfx5J8G8nrSV5O8iMkNWsISP5aYLMfJnk/kt8N4AcAvDaw628p3OtHAfx/AN4XympbP0fyU+Fel4Vzx5P8fZI3hPM/HM4/heTfkvw4yf9O8vhw/vMkfzmcv4Hkg8L57w39uS6E37yXec6jk/t8guTjw/nnkXwHyb8g+VmSv7HicXfsEfgE7CgixCR4IppU2xb/B4CviMg5AC4C8J3JteMAfFhEHoYmxc5Pi8jfhHZeFtj1/yq0+R8AXA7gTwA8Jzl/IZosD+cAeGE493+hibH80HD+L0meAuA/A3iSiDwSTSqiX0jauTOcfyOAXwznfhHAi0Tk4QD+PZr0PimU/T809OlSNqmDAODhoc8PBfAf2KQOcjiWgk/ADotjQtCXAwDuDeCqQpnvQRPmESLySQDXJ9cOAdCAOB8DcOaiG5L8twC+JCL/AOBqAI8keXK4fD2a4EA/jiawEdBECnuD1heRr6BJ33M2gL8O/T8fwAOT22gYx7RPfw3gdSR/DsBJIjJDju9Bw8ohIp8G8A8Avi1cu1pE7hKRb6CJGPdAOBxLwidgh8U9gRE+EE1OuBcVynCg/mFpIzzNMS7i3nMAPCjE7/1fAE4A8MPh2vehmWy/E8DH2KR4ItrUT2mfrgoM++EicraIvCC5ftD2SURegyZx6jEAPqyiiZHPeTD5PfY5HY4MPgE7ihCRuwD8HIBfDAHBU3wIwLMAIFg2PHREk19Dk1QyA8kKwDMBnCMiZ4YYvucBeE64doaIXIMmvdBJaDJDvA/ABUkbJwP4MIDHkPzWcO5Ykt+GAZD8FhG5QUR+HY3Iwk7AHwTwY6HstwH4ZgCfGfGsDsco+ATs6IWIfAJNSqZnm0u/C+CbSF4P4OVoxAR3YRiXAXhZUGalSrjHokkb/0/JuQ+iESecBuCPSN6AJqby60O2iF8FcHIwlfs7AI8XkS+hyRT8J6FfH0Z3QrV4SdLGPQD+vPCck3D/y9Fktj5oG3E41guPB+xYGkFBtyYi3wiT6dUAvk1EDm1z1xyOHQWXWznWg2MBXBNEEwTwn3zydTiWhzNgh8Ph2Ca4DNjhcDi2CT4BOxwOxzbBJ2CHw+HYJvgE7HA4HNsEn4AdDodjm/D/A+i+REc3PK0iAAAAAElFTkSuQmCC\n",
          "text/plain": "<Figure size 432x288 with 2 Axes>"
         },
         "metadata": {
          "needs_background": "light"
         },
         "output_type": "display_data"
        }
       ]
      }
     },
     "f7e2d028d2e046fdb09627d775689ab4": {
      "model_module": "@jupyter-widgets/controls",
      "model_module_version": "1.5.0",
      "model_name": "DescriptionStyleModel",
      "state": {
       "_model_module": "@jupyter-widgets/controls",
       "_model_module_version": "1.5.0",
       "_model_name": "DescriptionStyleModel",
       "_view_count": null,
       "_view_module": "@jupyter-widgets/base",
       "_view_module_version": "1.2.0",
       "_view_name": "StyleView",
       "description_width": "initial"
      }
     },
     "fed685aa0e4f442a85b70c501009e450": {
      "model_module": "@jupyter-widgets/base",
      "model_module_version": "1.2.0",
      "model_name": "LayoutModel",
      "state": {
       "_model_module": "@jupyter-widgets/base",
       "_model_module_version": "1.2.0",
       "_model_name": "LayoutModel",
       "_view_count": null,
       "_view_module": "@jupyter-widgets/base",
       "_view_module_version": "1.2.0",
       "_view_name": "LayoutView",
       "align_content": null,
       "align_items": null,
       "align_self": null,
       "border": null,
       "bottom": null,
       "display": null,
       "flex": null,
       "flex_flow": null,
       "grid_area": null,
       "grid_auto_columns": null,
       "grid_auto_flow": null,
       "grid_auto_rows": null,
       "grid_column": null,
       "grid_gap": null,
       "grid_row": null,
       "grid_template_areas": null,
       "grid_template_columns": null,
       "grid_template_rows": null,
       "height": null,
       "justify_content": null,
       "justify_items": null,
       "left": null,
       "margin": null,
       "max_height": null,
       "max_width": null,
       "min_height": null,
       "min_width": null,
       "object_fit": null,
       "object_position": null,
       "order": null,
       "overflow": null,
       "overflow_x": null,
       "overflow_y": null,
       "padding": null,
       "right": null,
       "top": null,
       "visibility": null,
       "width": null
      }
     }
    },
    "version_major": 2,
    "version_minor": 0
   }
  }
 },
 "nbformat": 4,
 "nbformat_minor": 5
}
