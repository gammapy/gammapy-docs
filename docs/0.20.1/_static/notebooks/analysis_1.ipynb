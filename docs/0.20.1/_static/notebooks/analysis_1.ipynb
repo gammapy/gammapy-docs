{
 "cells": [
  {
   "cell_type": "markdown",
   "id": "8b5bd296",
   "metadata": {},
   "source": [
    "# High level interface\n",
    "\n",
    "## Prerequisites\n",
    "\n",
    "- Understanding the gammapy data workflow, in particular what are DL3 events and instrument response functions (IRF).\n",
    "\n",
    "## Context\n",
    "\n",
    "This notebook is an introduction to gammapy analysis using the high level interface. \n",
    "\n",
    "Gammapy analysis consists in two main steps. \n",
    "\n",
    "The first one is data reduction: user selected observations  are reduced to a geometry defined by the user. \n",
    "It can be 1D (spectrum from a given extraction region) or 3D (with a sky projection and an energy axis). \n",
    "The resulting reduced data and instrument response functions (IRF) are called datasets in Gammapy.\n",
    "\n",
    "The second step consists in setting a physical model on the datasets and fitting it to obtain relevant physical information.\n",
    "\n",
    "\n",
    "**Objective: Create a 3D dataset of the Crab using the H.E.S.S. DL3 data release 1 and perform a simple model fitting of the Crab nebula.**\n",
    "\n",
    "## Proposed approach\n",
    "\n",
    "This notebook uses the high level `Analysis` class to orchestrate data reduction. In its current state, `Analysis` supports the standard analysis cases of joint or stacked 3D and 1D analyses. It is instantiated with an `AnalysisConfig` object that gives access to analysis parameters either directly or via a YAML config file. \n",
    "\n",
    "To see what is happening under-the-hood and to get an idea of the internal API, a second notebook performs the same analysis without using the `Analysis` class. \n",
    "\n",
    "In summary, we have to:\n",
    "\n",
    "- Create an `~gammapy.analysis.AnalysisConfig` object and edit it to define the analysis configuration:\n",
    "    - Define what observations to use\n",
    "    - Define the geometry of the dataset (data and IRFs)\n",
    "    - Define the model we want to fit on the dataset.\n",
    "- Instantiate a `~gammapy.analysis.Analysis` from this configuration and run the different analysis steps\n",
    "    - Observation selection\n",
    "    - Data reduction\n",
    "    - Model fitting\n",
    "    - Estimating flux points\n",
    "\n",
    "Finally we will compare the results against a reference model."
   ]
  },
  {
   "cell_type": "markdown",
   "id": "dcb4c3bc",
   "metadata": {},
   "source": [
    "## Setup"
   ]
  },
  {
   "cell_type": "code",
   "execution_count": null,
   "id": "e5d680bd",
   "metadata": {},
   "outputs": [],
   "source": [
    "%matplotlib inline\n",
    "import matplotlib.pyplot as plt"
   ]
  },
  {
   "cell_type": "code",
   "execution_count": null,
   "id": "adb83ccc",
   "metadata": {},
   "outputs": [],
   "source": [
    "from pathlib import Path\n",
    "from astropy import units as u\n",
    "from gammapy.analysis import Analysis, AnalysisConfig\n",
    "from gammapy.modeling.models import create_crab_spectral_model"
   ]
  },
  {
   "cell_type": "markdown",
   "id": "5cbb05f9",
   "metadata": {},
   "source": [
    "## Analysis configuration\n",
    "\n",
    "For configuration of the analysis we use the [YAML](https://en.wikipedia.org/wiki/YAML) data format. YAML is a machine readable serialisation format, that is also friendly for humans to read. In this tutorial we will write the configuration file just using Python strings, but of course the file can be created and modified with any text editor of your choice.\n",
    "\n",
    "Here is what the configuration for our analysis looks like:"
   ]
  },
  {
   "cell_type": "code",
   "execution_count": null,
   "id": "d8ad8ec7",
   "metadata": {},
   "outputs": [],
   "source": [
    "config = AnalysisConfig()\n",
    "# the AnalysisConfig gives access to the various parameters used from logging to reduced dataset geometries\n",
    "print(config)"
   ]
  },
  {
   "cell_type": "markdown",
   "id": "bdf542ee",
   "metadata": {},
   "source": [
    "### Setting the data to use"
   ]
  },
  {
   "cell_type": "markdown",
   "id": "10b96a41",
   "metadata": {},
   "source": [
    "We want to use Crab runs from the H.E.S.S. DL3-DR1. We define here the datastore and a cone search of observations pointing with 5 degrees of the Crab nebula. Parameters can be set directly or as a python dict.\n",
    "\n",
    "PS: do not forget to setup your environment variable _$GAMMAPY\\_DATA_ to your local directory containing the H.E.S.S. DL3-DR1 as described in [getting started](../../getting-started/index.rst#quickstart-setup)."
   ]
  },
  {
   "cell_type": "code",
   "execution_count": null,
   "id": "eb2fe2ad",
   "metadata": {},
   "outputs": [],
   "source": [
    "# We define the datastore containing the data\n",
    "config.observations.datastore = \"$GAMMAPY_DATA/hess-dl3-dr1\"\n",
    "\n",
    "# We define the cone search parameters\n",
    "config.observations.obs_cone.frame = \"icrs\"\n",
    "config.observations.obs_cone.lon = \"83.633 deg\"\n",
    "config.observations.obs_cone.lat = \"22.014 deg\"\n",
    "config.observations.obs_cone.radius = \"5 deg\"\n",
    "\n",
    "# Equivalently we could have set parameters with a python dict\n",
    "# config.observations.obs_cone = {\"frame\": \"icrs\", \"lon\": \"83.633 deg\", \"lat\": \"22.014 deg\", \"radius\": \"5 deg\"}"
   ]
  },
  {
   "cell_type": "markdown",
   "id": "00f03686",
   "metadata": {},
   "source": [
    "### Setting the reduced datasets geometry"
   ]
  },
  {
   "cell_type": "code",
   "execution_count": null,
   "id": "e77fef39",
   "metadata": {},
   "outputs": [],
   "source": [
    "# We want to perform a 3D analysis\n",
    "config.datasets.type = \"3d\"\n",
    "# We want to stack the data into a single reduced dataset\n",
    "config.datasets.stack = True\n",
    "\n",
    "# We fix the WCS geometry of the datasets\n",
    "config.datasets.geom.wcs.skydir = {\n",
    "    \"lon\": \"83.633 deg\",\n",
    "    \"lat\": \"22.014 deg\",\n",
    "    \"frame\": \"icrs\",\n",
    "}\n",
    "config.datasets.geom.wcs.width = {\"width\": \"2 deg\", \"height\": \"2 deg\"}\n",
    "config.datasets.geom.wcs.binsize = \"0.02 deg\"\n",
    "\n",
    "# We now fix the energy axis for the counts map\n",
    "config.datasets.geom.axes.energy.min = \"1 TeV\"\n",
    "config.datasets.geom.axes.energy.max = \"10 TeV\"\n",
    "config.datasets.geom.axes.energy.nbins = 10\n",
    "\n",
    "# We now fix the energy axis for the IRF maps (exposure, etc)\n",
    "config.datasets.geom.axes.energy_true.min = \"0.5 TeV\"\n",
    "config.datasets.geom.axes.energy_true.max = \"20 TeV\"\n",
    "config.datasets.geom.axes.energy_true.nbins = 20"
   ]
  },
  {
   "cell_type": "markdown",
   "id": "2d2e25af",
   "metadata": {},
   "source": [
    "### Setting the background normalization maker"
   ]
  },
  {
   "cell_type": "code",
   "execution_count": null,
   "id": "95e6bc03",
   "metadata": {},
   "outputs": [],
   "source": [
    "config.datasets.background.method = \"fov_background\"\n",
    "config.datasets.background.parameters = {\"method\": \"scale\"}"
   ]
  },
  {
   "cell_type": "markdown",
   "id": "450453a7",
   "metadata": {},
   "source": [
    "### Setting the exclusion mask"
   ]
  },
  {
   "cell_type": "markdown",
   "id": "7b610dd9",
   "metadata": {},
   "source": [
    "In order to properly adjust the background normalisation on regions without gamma-ray signal, one needs to define an exclusion mask for the background normalisation.\n",
    "For this tutorial, we use the following one ``$GAMMAPY_DATA/joint-crab/exclusion/exclusion_mask_crab.fits.gz``"
   ]
  },
  {
   "cell_type": "code",
   "execution_count": null,
   "id": "c30184e3",
   "metadata": {},
   "outputs": [],
   "source": [
    "config.datasets.background.exclusion = (\n",
    "    \"$GAMMAPY_DATA/joint-crab/exclusion/exclusion_mask_crab.fits.gz\"\n",
    ")"
   ]
  },
  {
   "cell_type": "markdown",
   "id": "f894cdbc",
   "metadata": {},
   "source": [
    "### Setting modeling and fitting parameters\n",
    "`Analysis` can perform a few modeling and fitting tasks besides data reduction. Parameters have then to be passed to the configuration object.\n",
    "\n",
    "Here we define the energy range on which to perform the fit. We also set the energy edges used for flux point computation as well as the correlation radius to compute excess and significance maps. "
   ]
  },
  {
   "cell_type": "code",
   "execution_count": null,
   "id": "f92b315e",
   "metadata": {},
   "outputs": [],
   "source": [
    "config.fit.fit_range.min = 1 * u.TeV\n",
    "config.fit.fit_range.max = 10 * u.TeV\n",
    "config.flux_points.energy = {\"min\": \"1 TeV\", \"max\": \"10 TeV\", \"nbins\": 4}\n",
    "config.excess_map.correlation_radius = 0.1 * u.deg"
   ]
  },
  {
   "cell_type": "markdown",
   "id": "4ef442bf",
   "metadata": {},
   "source": [
    "We're all set. \n",
    "But before we go on let's see how to save or import `AnalysisConfig` objects though YAML files."
   ]
  },
  {
   "cell_type": "markdown",
   "id": "565f6f84",
   "metadata": {},
   "source": [
    "### Using YAML configuration files\n",
    "\n",
    "One can export/import the `AnalysisConfig` to/from a YAML file."
   ]
  },
  {
   "cell_type": "code",
   "execution_count": null,
   "id": "16a07ce5",
   "metadata": {},
   "outputs": [],
   "source": [
    "config.write(\"config.yaml\", overwrite=True)"
   ]
  },
  {
   "cell_type": "code",
   "execution_count": null,
   "id": "b674b352",
   "metadata": {},
   "outputs": [],
   "source": [
    "config = AnalysisConfig.read(\"config.yaml\")\n",
    "print(config)"
   ]
  },
  {
   "cell_type": "markdown",
   "id": "51f9ee2d",
   "metadata": {},
   "source": [
    "## Running the analysis\n",
    "\n",
    "We first create an `~gammapy.analysis.Analysis` object from our configuration."
   ]
  },
  {
   "cell_type": "code",
   "execution_count": null,
   "id": "daca8a28",
   "metadata": {},
   "outputs": [],
   "source": [
    "analysis = Analysis(config)"
   ]
  },
  {
   "cell_type": "markdown",
   "id": "f3d9308b",
   "metadata": {},
   "source": [
    "###  Observation selection\n",
    "\n",
    "We can directly select and load the observations from disk using `~gammapy.analysis.Analysis.get_observations()`:"
   ]
  },
  {
   "cell_type": "code",
   "execution_count": null,
   "id": "a49f5bd2",
   "metadata": {},
   "outputs": [],
   "source": [
    "analysis.get_observations()"
   ]
  },
  {
   "cell_type": "markdown",
   "id": "53bdf7f6",
   "metadata": {},
   "source": [
    "The observations are now available on the `Analysis` object. The selection corresponds to the following ids:"
   ]
  },
  {
   "cell_type": "code",
   "execution_count": null,
   "id": "d9a6a9e2",
   "metadata": {},
   "outputs": [],
   "source": [
    "analysis.observations.ids"
   ]
  },
  {
   "cell_type": "markdown",
   "id": "a4c14ba7",
   "metadata": {},
   "source": [
    "To see how to explore observations, please refer to the following notebook: [CTA with Gammapy](../data/cta.ipynb) or  [HESS with Gammapy](../data/hess.ipynb) "
   ]
  },
  {
   "cell_type": "markdown",
   "id": "406c9111",
   "metadata": {},
   "source": [
    "## Data reduction\n",
    "\n",
    "Now we proceed to the data reduction. In the config file we have chosen a WCS map geometry, energy axis and decided to stack the maps. We can run the reduction using `.get_datasets()`:"
   ]
  },
  {
   "cell_type": "code",
   "execution_count": null,
   "id": "9297d93b",
   "metadata": {},
   "outputs": [],
   "source": [
    "%%time\n",
    "analysis.get_datasets()"
   ]
  },
  {
   "cell_type": "markdown",
   "id": "1dadf87e",
   "metadata": {},
   "source": [
    "As we have chosen to stack the data, there is finally one dataset contained which we can print:"
   ]
  },
  {
   "cell_type": "code",
   "execution_count": null,
   "id": "d7196f5c",
   "metadata": {},
   "outputs": [],
   "source": [
    "print(analysis.datasets[\"stacked\"])"
   ]
  },
  {
   "cell_type": "markdown",
   "id": "6d821aef",
   "metadata": {},
   "source": [
    "As you can see the dataset comes with a predefined background model out of the data reduction, but no source model has been set yet.\n",
    "\n",
    "The counts, exposure and background model maps are directly available on the dataset and can be printed and plotted:"
   ]
  },
  {
   "cell_type": "code",
   "execution_count": null,
   "id": "8afa0c3e",
   "metadata": {},
   "outputs": [],
   "source": [
    "counts = analysis.datasets[\"stacked\"].counts\n",
    "counts.smooth(\"0.05 deg\").plot_interactive()"
   ]
  },
  {
   "cell_type": "markdown",
   "id": "c26b7d62",
   "metadata": {},
   "source": [
    "We can also compute the map of the sqrt_ts (significance) of the excess counts above the background. The correlation radius to sum counts is defined in the config file."
   ]
  },
  {
   "cell_type": "code",
   "execution_count": null,
   "id": "e1f6be44",
   "metadata": {},
   "outputs": [],
   "source": [
    "analysis.get_excess_map()\n",
    "analysis.excess_map[\"sqrt_ts\"].plot(add_cbar=True);"
   ]
  },
  {
   "cell_type": "markdown",
   "id": "ec82bd4b",
   "metadata": {},
   "source": [
    "## Save dataset to disk\n",
    "\n",
    "It is common to run the preparation step independent of the likelihood fit, because often the preparation of maps, PSF and energy dispersion is slow if you have a lot of data. We first create a folder:"
   ]
  },
  {
   "cell_type": "code",
   "execution_count": null,
   "id": "fee5bd53",
   "metadata": {},
   "outputs": [],
   "source": [
    "path = Path(\"analysis_1\")\n",
    "path.mkdir(exist_ok=True)"
   ]
  },
  {
   "cell_type": "markdown",
   "id": "8a80dbe6",
   "metadata": {},
   "source": [
    "And then write the maps and IRFs to disk by calling the dedicated `write()` method:"
   ]
  },
  {
   "cell_type": "code",
   "execution_count": null,
   "id": "64287406",
   "metadata": {},
   "outputs": [],
   "source": [
    "filename = path / \"crab-stacked-dataset.fits.gz\"\n",
    "analysis.datasets[0].write(filename, overwrite=True)"
   ]
  },
  {
   "cell_type": "markdown",
   "id": "d8e285a4",
   "metadata": {},
   "source": [
    "## Model fitting\n",
    "\n",
    "Now we define a model to be fitted to the dataset. Here we use its YAML definition to load it:"
   ]
  },
  {
   "cell_type": "code",
   "execution_count": null,
   "id": "5379dd31",
   "metadata": {},
   "outputs": [],
   "source": [
    "model_config = \"\"\"\n",
    "components:\n",
    "- name: crab\n",
    "  type: SkyModel\n",
    "  spatial:\n",
    "    type: PointSpatialModel\n",
    "    frame: icrs\n",
    "    parameters:\n",
    "    - name: lon_0\n",
    "      value: 83.63\n",
    "      unit: deg\n",
    "    - name: lat_0 \n",
    "      value: 22.014    \n",
    "      unit: deg\n",
    "  spectral:\n",
    "    type: PowerLawSpectralModel\n",
    "    parameters:\n",
    "    - name: amplitude      \n",
    "      value: 1.0e-12\n",
    "      unit: cm-2 s-1 TeV-1\n",
    "    - name: index\n",
    "      value: 2.0\n",
    "      unit: ''\n",
    "    - name: reference\n",
    "      value: 1.0\n",
    "      unit: TeV\n",
    "      frozen: true\n",
    "\"\"\""
   ]
  },
  {
   "cell_type": "markdown",
   "id": "32d348c8",
   "metadata": {},
   "source": [
    "Now we set the model on the analysis object:"
   ]
  },
  {
   "cell_type": "code",
   "execution_count": null,
   "id": "b06c9395",
   "metadata": {},
   "outputs": [],
   "source": [
    "analysis.set_models(model_config)"
   ]
  },
  {
   "cell_type": "markdown",
   "id": "77d243b4",
   "metadata": {},
   "source": [
    "Finally we run the fit:"
   ]
  },
  {
   "cell_type": "code",
   "execution_count": null,
   "id": "f032aea4",
   "metadata": {},
   "outputs": [],
   "source": [
    "%%time\n",
    "analysis.run_fit()"
   ]
  },
  {
   "cell_type": "code",
   "execution_count": null,
   "id": "6ad3293e",
   "metadata": {},
   "outputs": [],
   "source": [
    "print(analysis.fit_result)"
   ]
  },
  {
   "cell_type": "markdown",
   "id": "4fa6164e",
   "metadata": {},
   "source": [
    "This is how we can write the model back to file again:"
   ]
  },
  {
   "cell_type": "code",
   "execution_count": null,
   "id": "2826df97",
   "metadata": {},
   "outputs": [],
   "source": [
    "filename = path / \"model-best-fit.yaml\"\n",
    "analysis.models.write(filename, overwrite=True)"
   ]
  },
  {
   "cell_type": "code",
   "execution_count": null,
   "id": "b4f80336",
   "metadata": {},
   "outputs": [],
   "source": [
    "!cat analysis_1/model-best-fit.yaml"
   ]
  },
  {
   "cell_type": "markdown",
   "id": "b72f2dd8",
   "metadata": {},
   "source": [
    "### Flux points"
   ]
  },
  {
   "cell_type": "code",
   "execution_count": null,
   "id": "8945cfde",
   "metadata": {},
   "outputs": [],
   "source": [
    "analysis.config.flux_points.source = \"crab\"\n",
    "analysis.get_flux_points()"
   ]
  },
  {
   "cell_type": "code",
   "execution_count": null,
   "id": "890a6131",
   "metadata": {
    "nbsphinx-thumbnail": {
     "tooltip": "Introduction to Gammapy analysis using the high level interface."
    }
   },
   "outputs": [],
   "source": [
    "ax_sed, ax_residuals = analysis.flux_points.plot_fit()"
   ]
  },
  {
   "cell_type": "markdown",
   "id": "24dc0da8",
   "metadata": {},
   "source": [
    "The flux points can be exported to a fits table following the format defined [here](https://gamma-astro-data-formats.readthedocs.io/en/latest/spectra/flux_points/index.html) "
   ]
  },
  {
   "cell_type": "code",
   "execution_count": null,
   "id": "5d15746b",
   "metadata": {},
   "outputs": [],
   "source": [
    "filename = path / \"flux-points.fits\"\n",
    "analysis.flux_points.write(filename, overwrite=True)"
   ]
  },
  {
   "cell_type": "markdown",
   "id": "24f5062b",
   "metadata": {},
   "source": [
    "To check the fit is correct, we compute the map of the sqrt_ts of the excess counts above the current model."
   ]
  },
  {
   "cell_type": "code",
   "execution_count": null,
   "id": "cbb40bcd",
   "metadata": {},
   "outputs": [],
   "source": [
    "analysis.get_excess_map()\n",
    "analysis.excess_map[\"sqrt_ts\"].plot(\n",
    "    add_cbar=True, cmap=\"RdBu\", vmin=-5, vmax=5\n",
    ");"
   ]
  },
  {
   "cell_type": "markdown",
   "id": "9ade4acd",
   "metadata": {},
   "source": [
    "## What's next\n",
    "\n",
    "You can look at the same analysis without the high level interface in [analysis_2](analysis_2.ipynb)\n",
    "\n",
    "You can see how to perform a 1D spectral analysis of the same data in [spectral analysis](../analysis/1D/spectral_analysis.ipynb)"
   ]
  },
  {
   "cell_type": "code",
   "execution_count": null,
   "id": "26162da8",
   "metadata": {},
   "outputs": [],
   "source": []
  }
 ],
 "metadata": {
  "kernelspec": {
   "display_name": "Python 3 (ipykernel)",
   "language": "python",
   "name": "python3"
  },
  "language_info": {
   "codemirror_mode": {
    "name": "ipython",
    "version": 3
   },
   "file_extension": ".py",
   "mimetype": "text/x-python",
   "name": "python",
   "nbconvert_exporter": "python",
   "pygments_lexer": "ipython3",
   "version": "3.8.13"
  },
  "widgets": {
   "application/vnd.jupyter.widget-state+json": {
    "state": {
     "479d3b0390e445fb89a17ca89d937c8b": {
      "model_module": "@jupyter-widgets/output",
      "model_module_version": "1.0.0",
      "model_name": "OutputModel",
      "state": {
       "_dom_classes": [],
       "_model_module": "@jupyter-widgets/output",
       "_model_module_version": "1.0.0",
       "_model_name": "OutputModel",
       "_view_count": null,
       "_view_module": "@jupyter-widgets/output",
       "_view_module_version": "1.0.0",
       "_view_name": "OutputView",
       "layout": "IPY_MODEL_9ae2e5dd91df45fbab3fec696672e02c",
       "msg_id": "",
       "outputs": [
        {
         "data": {
          "image/png": "iVBORw0KGgoAAAANSUhEUgAAAR8AAAELCAYAAADgEILAAAAAOXRFWHRTb2Z0d2FyZQBNYXRwbG90bGliIHZlcnNpb24zLjQuMywgaHR0cHM6Ly9tYXRwbG90bGliLm9yZy/MnkTPAAAACXBIWXMAAAsTAAALEwEAmpwYAABNZ0lEQVR4nO19e7QmV1Xnb99XvzudkBAhCaTlITAMgoOoBBHwMYwPZBRZPsAE0BkdRFBkQHSJCs4SUdBx6YhLRBzQBEMEBBQiRhxUspAQCRgUTPMICQQ6dJLu9Oveu+ePOru+/f2+fc5XN+l7v9u5+7fWXeerqlOnTp2qW+d39lNUFYlEIrHRmJt1BxKJxNZEfnwSicRMkB+fRCIxE+THJ5FIzAT58UkkEjNBfnzWASIis+5DIrHZsa4fHxG5QESuEpHrReRjIvL8sv/lIvIREblWRN4jIvd157xKRP5JRL7J7btYRD5R/i52+/eLyNVl/2UislT2XyIiv7ie9zYFh2d47VMGETky6z6cCuR9bE6sN/NZBvBCVX0ogK8H8FwReRiAV6nqI1T1kQDeAeAXAEBEHlLOezyA55Z9ZwF4GYCvA/AYAC8TkTNLvVcCeI2qPgjAlwE8Z53vJ5FInCKs68dHVW9W1WvK7zsAXA/gPFW93VXbBcAsHecBrJZtW7r8ZwBXquqtqvplAFcCeHJZ2jwJwOWl3hsAPLX8Pop7CPtIJO6pWNioC4nIhQAeBeDqsv0rAH4YwG0AnggAqvoxEdkJ4P0AXlROPQ/AZ11TN5Z99wJwSFWXaT9U9bIhfdoponvdtga/V2nbSvsy+q+37dsO4FwR5f1r+dK37M5rAiXuc3SMS193hco5ADtEdJXq+uvPu7rRtr9nvrZdh9v34Ha4lEZd68sOAPcVUavrx9auyffOZdRfvh9DND5WLlT2+3N4fKxcALBbRH2f+JrcLj8P/7s/Vk6emx/f9lgtN71cLm7/dCep5H7vOessPXjwYPjqb8jHR0R2A3gLgBcY61HVnwPwcyLyswB+At3SCqr6PD49aFIb+1v9EDhGtB3AxZh8AYHRYNoi+xhdwAZuuztnsZTbqOO2f8nV5YHnf8BlTIJfMHuifM5xd47d0wmqY9t3urq3U3mI6tg5vu+7S2kf8V2l3FNKf8/WFxvbw1QewyRsfHdSuZ1KoPvI+D7spjrzpeMrbnDt2nzPh2i//83jcQLj8Pds47KvlGfTtvXRn2PtWd+sL7cGfbJbsfP3UcnPAxiNoV17d3lhd5UdO9yg2kfnWHk4t5ZOfKEc/zzGt30/DwO4s/u387Kq3Vp8utb94yMii+g+PG9S1SuCKn8C4J0oH58ANwJ4gts+H8DfAvgSgH0islDYz/kAbmr1pdy0PQ98RZnV7Z/Cf7mi2QWY/KAsumP20bFB5RnGY5XqTLuu7x/PiLZ/mbb9dQzcJ/8CLFFp7yD31fd5gUo7h9vw/bVr84cwYj7cJy5bL/AEo1qevE6NLfF1gPF78edYH5ZpO+oDf7CO03Fg9HFerpS+bu09MkTMh99Pxmr0IKYgan8JwLn79+PgwYO7glPWXdslAF4H4HpVfbXb/yBX7SkAPt5o5t0Avk1EziyC5m8D8O7yIbkKwNNKvYsBvO1U9j+RSKwf1pv5XATgmQCuE5Fry76XAniOiHwVug/3pwH8WK0BVb1VRF4O4INl1y+rqjG7FwO4VEReAeDD6D50g6EYX96s0jFf8gzCSyxgNDMOGVSeEZnFtCYfPsZMyK+/WUYVzYTTYPdjyyJ/fbvnbbTNyyMPa8f6Gy0xDbzcstIYSXQfzKgMLQZq42P3wezDw8/s/joRM5mjY1aXl5i+b/bMbHnH7Chqn7eZlfl3st9XKi00XlhjQX1Jx1sMehrW9eOjqu9HLJt51xrb+UMAfxjsvwGd+j2RSJxmSAvnRCIxE2yYqn0zgpddXthbWxa1VL01FXgk0Gb6uhYZX22JdpL2R7DlovV/KTjGVN3q2DLAj5nV2UZlpI0y2LUjNS2jtoyz60YCel6msCA4UmuD6thY7HDH7DxebnFZW8r7Y7zs8iyAhdOs4o8YA+8TKr1ipBemlx+27JoPGu5V7CSst3GL3iPToi1jXPM6rc+JRCKxIdjSzAeoz1I8Kytt23mRbRDPVJHBWg3MqCIhqe1jNsYq7OgcK7cFdWosw2b/O0rpZ23rQ431RUaYzJaY+fhxYhuplprYmIK1Z/20e47MI2qI6tg+fs4sRPaCbmYrNfuu1j5mF5GqPWJ1wORzB4DFUtmYDzMgjxUSOPM7bH3zDNdf65bJJifOTSQSiQ3FlmY+qxhfk/r1PzObmlwimqXZ8jiyoDawqnKJ9kdm8byOb7GPGjvqr+cuIOW3WQAzEzKmcptrn9kFy58i+RBv8334ejymXPrnwoyHx5sZEDCpsufSM0S7Nztnhbat36zi9+2xPC1iuPzMam0BkxbOdm/8/oyNadlYrDCf5YA62z5m9dbuTkxCkMwnkUhsQmxp5qMYl19EzCfylwImZ1mg7nPFbgW+DrshsONhy5XBYNeJ5EM1I7Se+Tg1xRJZh20vU/jSsfFzIzlFTc7VMiBkg01uI7oml5FLjJWRUaS/HjBiNjW3DT/WPJb2DtQMUKNr1hw+pzn4ApMarKi/NdnYmANu2WkMqGVkaF7FveyHjreMGKcxm2Q+iURiJtjSzGcFI6/1Gliz0bJJmQYvP2BZA8920ezZyyPKD5PR9IyH1uVA3RYoDF9h7VVmxJOFSvj1PWt6hoTJ6K9XyhYL4H7zuS1mZWC3h2h8WPbCNk++DoNthcY0S5V2a4zO97d2b5F8iLWCVoZhRNhlgh6Sl/nY75PLcZ+a7htB3z2S+SQSiZlgyzOf2xFbgU77KrONBxA7FgKjQfazj1DdWqAtP9P0QcnKSZFFKqPGeIypLLgbMKYzR+3a/ogNRLYnQBx+I9oHjO7R7m+lcYzjKUXX5LAYBpbR+HZBx6J7rcnyGJE2rWZjtBYmzXZSvj0O58LyP/98TpRnfozNrAs887E6kfW2v54f6yHhToBkPolEYkbIj08ikZgJtvSyaxVdqMdoWcTGfkxjI+fNWhyZKCpe1BffRgR2KF2iypHwkt1EWIDuK6+WuJ3bi97fll+90DHoE5sMsLm9f8F4DHnmYxcWoL7s4ufj62yjYxxp0INdPWpGeh41ofo040APXm5Hy3eO8Bj1iZeJkSElMD6mJ0qDR4qnsD1fe94nXGfuLL/N1ITNRuw6XgnBYWtrSOaTSCRmgi3PfI4hFpCxoLBmYOdnU/6S1wzjgMlZnllBpG5lhsahIiL2xIJxvt7YjFjK7UXIyGzD5JOREJwFqhzLGZgcQ2ZhEXNkFsmM0zs01tw3opAmBmZLzCA8mOFwKI3I8JHBrCkKQm8so2YGEKnya24ifF3AGcaaaQZRwuNBXWa9Nl7mdLzHPeidhQax0SojmU8ikZgJtjTzUXQzTsttoBYKwRAZxPGsZvATjM0u3G7NpB4YzTbWvs36rPL117EZi40BrQ1vZGm/rV2WG7RUzDU3hZbMhHM/HaPS/+Z2IjkOm/W33B0MrTxjvm/ApHymFl6lxZoMbLQaheEwsNFepMqfFlIjMmLksY2YM7MwzlJijOess0bnRCl4IiTzSSQSM0EyH8Sm+jU3BDZki/JSsbFha0YxcGCtVs6vVqAxvo71ya7HCe88mLWw/CMymx/iEGuoMRxOzOiZj/WTGajt9yygxhpZbtcKo2qIZG68rxayw6PGgltuO8wyamFto2NDwH1i5tNiYazd3F1YjrEdANi3ryt3bEeXuLyCZD6JRGImSOaDOAgUBwkfEjaBZTDsyhCxjVrYDZah+DrsggHa71kVyyc4TXIUvoJnWA77EQWOqo1LZHNk42F9OErbnvlwsCyeiSPmUnNYbTFGZqsT9lBuH+dyq9mC8fn+3JY9US306pDwFTXZ0rR9vm+RPdREPjDK+bXNvagm69mWzCeRSGxG5McnkUjMBLnsQqxONxbJKnEWvvplBhsOskDP09loCeav21L712LlRHmwrP+13FKRkSQf42VAS4PKffL3acspY+KWDaN4dYTCcKb7vBSM8o713v+Nfhp4iVx1Q8F0QXD0zzQtrlH0HPjdqMV9BurGhK0l1JAsKoyJ6JmUzyuKAbQwJdhSMp9EIjETbGnms4px5hPN0jaz8kc8El7WZsLoCz9Nhd8SYhq4T1E2TDYZqDGICNPcRfw12UTAEI0pC5pbAnk2amOhtxd+s2FjLfJgNCHXcqx5gTazXVYKtJ6VgetwvGlgNC7czyjK5TTjxRaDM/C7HDmu8rPvTTfKwzx8eHSOOaju3In6Q0Ayn0QiMSNsaebDMp8orMG0GMFRPF2WOUSm+6zOruU493Gf2YG0NltHa3o712zBIuZWcy1gB0ffPsvEeFaNXCVq8idmZcAk09lR2QYmjQnZGDDKjtE6BsRq7Vq85EgmM5E/i+Jvm1NnZLphxpfssDokRjfLHVtZVNm5thUGZSIbrGU2OTSqYzKfw4cBnIsqkvkkEomZYEsznyHg2aFlZMjHWIvmv/TMePaUkkNRtORFNVa2GPzmvrDcwh9jOUTk9mCwmdBmaWs3MtW389m1pKXBsvEwxraL9kf9ZzCr8eM2LausH/8ao22h1xBSdlAO1LZ65+gcdviM5DbcJ1AdlsVFxp6suW1lGjGwRrd3THb9P14e+rYlJPNJJBKbD1ua+Qi6WXZI7qFayIgILAeJ6hpDYMbTh6As5Vi+pVLW7DTYNcP3gYN8GYPY6TrHubqPlRns9nL8UCndJDchU6gFDPO/2V6GZSbejqim5YoCwN2VmZTHlOVbrXOO0za7ggCTMpNqhhC3PUcUpBUyhRl4LXNHZM9VC1IWyXxq9kSRvNQuplOoVDKfRCIxE2xp5jOPTpbQyj3EMhieiSMY8+Asnh7c7hBbkdranxmP1wAx09lddlgIhF3OUGaxdMI0MHcU243FQ6VCkLWS5UHMbiLYjMtjyWPsf3OY1kgm1goK548PsRA2RMHieNbvNT/UR2DEbC3Yv1kGM/PxWUNrVtGRrKkW9pUD7UehQSacRanNqF3uS8SMeq3fFGqTzCeRSMwE+fFJJBIzwZZfdu1D27itFt3Pysj8nulrlM+JVeBWstHYEMNHjiboBc683Nq7tyv3WOki0FmeJRMUmlrYtu+8dbzvHrz8sv5HQnx2jbBlovXVt8+Gb/zCtqISRmmwGbZs4KUIx2cGpqvlra0o3tF8OWmhDJCN7XKwlK0ttyKB/E46xkvPyPCUM1GwoDkykjTU8nbtcC+35X3L7BWJRGJTYksznwUALuj+2JeYBZ0cUsMgwW8WxkUTQMsBE2jnsOIMlmwcGMEEnKbqXSyln514NrZtKyPhJquZmflE8YZ5XFjw7Gd2ZpotcF/YXCESnvJzqDnrApNmBbXMDpHxZ58XrJy8UjprrDKKu82MnJUH/nfPfMpJq9RuFKWTHVVbDrlKdVjJsdPRvczblUgkNjW2PPM5G+3AXfZl59mAZTPApBn/PO2PwOtvzoYZZXIwsHo+cpnoVa0U9ImDQQGTs+ZESX0EJmdWZmdRbGLQsVbuLD7G+b+9IZv1cy0507kv/JwjswKONc3yLT8+1t4SbW9vZAll2VWL+ZiRqDFaG4OT9pwtDzumI3I2rrmb9Oy1XH+bo6vGfLa37FEG9imRSCROObY085kHcCaGRe1nrUikReAQEf46NXDwJ3a+jDI5GHhJHTm99gaUpXNLZdpmB0dgkhVZgCgLGBU5mNbCtEZ9ZubE2rsob31k8g+MZFYeNtsvWg5yui6zMo9aWJJI5sMMyOpE/0zMRm24mZ155sOOtxMB4NwzY3eNVZIl2ZhGzIoZOh/3dWqhRuy6PntFMp9EIrGpsa7MR0QuAPDHAL4C3cfz91X1t0TkVQC+C91k8u8AnqWqh8o5rwLwRAAvVNX3icj9AVyB7gO9COC3VfX3St39AC5Fp7S6BsAzVfWEiFwC4EJV/cVW/+YBnIF2dkpDLXh7lIWUZ4lWPifO7TUkhxU/NA756h0/J+RBx8ZLz3yMOZh7xREKkcmZRYFJe5gh2iLub2sG5P7brD9HpYfSQ+LAWswsgLp9VaRtrJXRfdS0pHaOyVk825jGcD1YLneiNHyn2WaVetEzY3la63mwTKxnbsFzWPCaVBZqBm2uF5bRfUQeCuDrATxXRB4G4EoAD1fVRwD4NwA/CwAi8pBy3uMBPLf8vhnAY1X1kQC+DsBLROS+5dgrAbxGVR8E4MsAnrPO95NIJE4R1vXjo6o3q+o15fcdAK4HcJ6qvkdV7QP/AQDnl9/z6CYfRfnIquoJVbXJapv1WUQEwJMAXF6OvQHAU8vvoxhlZEkkEpsQGyZwFpELATwKwNV06NkALgMAVf2YiOwE8H4AL3LnXgDgnQAeCOBFqnqTiJwN4JD7iN0I4LzSzmWD+oSOakZ5nqap1qNlRi0OcORtzULutUQPrHlvRy4BLEC1pdXJQs9PuDeA1e9HK4Jmz6Sn3as/zssUW8axit2PPRsZ9q4kQVwcFrrOmUEf9d+PaU2gGhnncd3aEty/R7bs4X80m00j40lW3fO4HfXmBcfGz2Fh+GHaH/WzlaKbY/1MpHluLH+nYUM+PiKyG8BbALxAVW93+38O3Vi8yfap6vP4fFX9LIBHlOXWW0XkcsRKi1YkB2NLPSOaIoxPJBJ3EwcOHICIHHG7dquqAhvw8RGRRXQfnjep6hVu/8UAvhPAN1tnpqEwno8B+MbS5j4RWSjs53wAN005X+FstL5CZOy6kXGboWYoOCT7Y8s4j1XqNWM93z92MOR40EOi8LGgEhgxnt5AjYwLuR++L5xpNTIy5MmR4wEv0/7o2n1bpTFvwr9CzE1I72/tR5EYDTx20fVr9xyxYXuutRxuQwwi+xxZwTFrX2nbZlj7r/dsld0q2Fg1imTIztK1DKbASOg9Nwfs378fBw8e3IUA6yrzKUzjdQCuV9VXu/1PBvBiAE9R1WhMfRvni8iO8vtMABcB+NfyIbkKwNNK1YsBvO3U30UikVgPrDfzuQjAMwFcJyLXln0vBfC/0U3UV3bfJ3xAVX+s0sZDAfyGdCxFAPy6ql5Xjr0YwKUi8goAH0b3oRsMy9tlGBK939AK12BfdJbn+NnnBO2r5bLyYDN78+XbRaVfTrL6tJfJmCtCcNMce5eNF6OQDny9aCyn5SiLZlWeHY3xmJvFgqvcuzeYseGd422w6wowKVNrZZutjaUhYqvMijgHF7NZDw6zEkXGZONXZtLMjIBJGSezGv9Oc5aQ3tCxkoUDAI6ZHGoVo1COAdb146Oq70e8CnjXGtq4EsAjKsduAPCYu9a7RCIxS2xp9wrFuMFZyxiQEWWXsBmD85ZHsgA2uGPGE8lMannL+0wUtN//rhmQaSRUIvB1Pdthzcx22h/J0WohNIZkzGT3gQi9Bob2R87A3E+W57TeCWZJ7G4RtWdlK4Aa97fl0lPLWFoLl+H7UMsMEr0/xjQXiXHaWJ8MBF0nTqDJfNK9IpFIzARbmvkwIpbDM0vNwc6fz86C0bqT25mWscBfi2dTlsVEMh+2y4jA8p8+ABm1FZkocMjYvo2gL7WsFUNmQpMtmEbFZ0iYJ/kDs8hWn2qs0tu8MJOtaYm8TMnOMVZhUWvPoO1oTFkOGGV85femZo8TyXFqjMc7hC5UmA7DM1GT+UxDMp9EIjETbHnmM4+1MR4OoB0xE95uhdSoaUPY/qQFtkL11+OQDtNmMA+2Xl0onYtm6Voo12jG5ZmWA9cve5sRatese8VrVKi/R03mUPZzvvIoqH2tb5FT5wrVsXs0p+DIcbUP5F/KvVRua4QIMVmSUOn7YmDZVZSTbkLmVg4a41l0lTl0CWtJ7ZlF9mKrDbmc72sikUhsKPLjk0gkZoItvewSjH99PYWtqS4N0RKHVcV2DuepAkZUumZgF6ltQftY9dryUeEl1FocAU2oK7bkccdqS02r4+NJ90ub0p7RfFsKGl33AsuTFJPHnsudFHvIgw3tOKTMYvCbc4ix+t+D3w1e2kZRA3lZ15e05AFGz6Z3UyAfAN//2r3VBM++n0t0bX4evi/sjsPLLW9kmMuuRCKxqbGlmQ8jcmjkMBlsWu+FryZU3EYGWRxlDhgxG3PxZwY0R/U8uG8cb3gtDEgGTD8tg74abKaNWFJNfRv1ya7dirPNiNxZfJ88C5hmqBnFkzYsU10rjwZ1as7APBbA6P5NwN8b+AU3z2YKfI+RK8ha2C8zHjZ1aLGcyHXHI5lPIpGYCbY081F0LCIKAjY1X1EpfayAvWXa3F30qS3nO8sIsfPQeHutcBhRsKoIUa7tGsOJWE0tx1ckW6oFUIv62suqaDZtzcB2LzXZkpd/sHGnyTZqcjugLovpmcmATBHGAux6niGZ3IkZSF82YlCzfCVy6WEH54XKWHrzhZ7NBOYKwLiq3bBC8rie+dgzdHWHsupkPolEYibY8sznBOJ1caQlACbX7t44bAcxH8tfxNkkgdEM0rOjL3Ula3e83MJ+11wBQveKclOWV2mhYjQGTDKefnazuqiDXQ+4z/4Y59diGYQ3bNtRLrrIs3Op4/NF2fmWDXSRzPyj8LMcUKtnVCS3A+JcZ4Ab08JmozC2fV3ajrRFzKiMXUTyLpbtMNswxhIFE7NxsPzxdr0ox3ofWpfeT8OYy0qps5Ayn0QisRmxpZkPMD4LRk6EPFuy/YSfGe0356/eFswkNluu0Cx39FBX2qQdheS05sw0fx9t73bUx2w3OMf5CrEc3wcrTXbCs7eXKZmcg2dlDpoV1emZTrmhedoGRiymJpeImI/VXSqxROduH++3J0Q11xcN5FEcyMywQHXnXF9rWqd5kh95MBtiG6cWY2AZHmeDBSbfLZYbLQW+PRysjN+JyOVmWojhZD6JRGIm2NLMR9F9nVvhI23majlMGmzG4syfq8Est0AyC2MoO0qdXaUtP0uzrGcfl4X6mMwJmFy/92t30lr43xy6wdiLzZARW+DQnK0wqsYQTUZ2Rul3lNub5U+GKIA8axWZCS0HmdxqtlJzgSymppXrZWUVeYhHz5yJJUeaIakMpmeeNa0Zy4mi0LEcljUKIN+3RyWzsCidUvQ/4pHMJ5FIzAT58UkkEjPBll52CTqqGWVlsOUPOz0uEwX2sWtNfc7qbDvX749UrL6OqT+9ESOb81t43L1lmbW3LF92Og9Wo/W8fLHSC3LZIdO2mY6PGZTRMY5/5Otat/aU/u7b15X3Omu8334Jwc6m3O9IIGznmDC/F/xbG27MlUqOxbPq1ivWXs1tJsqIau1y1El7LjX1PQBso+V7ZLg5jT1EETJ5KXYsqMOomVu0spVETrkeyXwSicRMsKWZTwsm7JsjBrRKhnfH/SxaBJo8Wx+hWc63y0zEzo2Ef+zMauzMZnaeTf11asJSz3xq2RI4x5Sf5SJnTY8ld11jNsbQjPmcVZjPrsKIvPmCMcsjZWzNLcXGNnJe7FXiZLRo5bx7Zia8rTEgT0z7TKjLcd2I+bA7jrk/LJKiIWJw7GbBQncP4XPqVft75qiZkXnHtNji22gbiN1AIgz6+IjIRQB+EcD9yzmCLvvwVw45P5FIJBhDmc/rAPwUgA9hWHry0wLmXsEqbGC0zubZh2cHPxjHSh2bnRdKuUTsiX8DwHEzMmyY0rN8hdWzNTkSMGIQzLA8c6iFEbEyUrVX41YH7g/GfKzcZSXJgCLmY/uYwXk2wDnmayEdvAqY75XZnicbnJGUQ3dEGUuZNQqxMs6H5euwnO4kvZOAY65TGE9LvmLnRGr5mmo9im1tmMZ4DEM/Prep6l8OrJtIJBJTMfTjc5WIvArAFXAKAVW9Zl16tUFYRecLGM0WfYjMiqNnNMsxelN605K4KWW+/GYjRm7fG2/ZjM0OmscLHZsnOZLHhGbGZCbeoTG+jQlEQdcY8wHbq4VyZSdRb2xo/bb22M3i8OHJumzkx5oxH3ZiOzEGNjqMWADn04oy0hrsmXGoFJZLeUbHY8cyoBNuDHgZwqwjej41l4/IwZo/EMy+2THX/26xo6jtGr6ulI92+xTAkwaen0gkEmMY9PFR1Seud0dmgWUAhzCS9fhZjt0rWBPUmu1q8IPNznwGnoE9rA/Wpz5QVZn9+4DjjQU+y4VaYRrWItzjbK0cMCy6NofoNESysYkcYkH4Uc+C/HWOB4yK6/T3YfIi0joCk+4ItcBv/jlzaJb5lvCFMBG6tGwf8f2lc2rN+yHmZ1UL8dpCLaxLbV+EQUMhImeIyKtF5J/K32+IyBnTz0wkEokYQ7/DfwjgDgBPL3+3A3j9enUqkUjc8zFU5vMAVf1et/1LInLtOvRnQ7GCbtllNNPT2ZpXO6dR9hhCeWt1mcK3PIw5t5cJWOcbRmgsTGTjuqguGw7WhKce/bIx8Ea3JVLNsNLgjSTnt3cnLRa1/J69XWUzVDSzBgC4vcTtOXSoK2+9tStrS7bo2rzf998iI9YMKqNxm3BN4UiDJgxvRJQ0Mwx7P/17yo+c0yQbIvW/PUfOnOL7z+8pv8tRRAh7fK004VHbNRwVkcfZRjE6PNqon0gkEk0MZT4/DuANRc4jAG4FcMl6dWqjsIJu/WiDEKkLp32dF4LfPKisvgXqjno1ISAwyTg4Dgvv9+BsqtEsx4JIziEW3V9NFdsbrgWREvsIfRWn2vmd7kmY5SEFxN5RGtnhqM+9CuW57ZbuQhbXiN1PvGDaTA5Y6G3bxwPmNkeCbQOPHzDJFpn5mPrcjwWzLnPhsdn+dne+CcEnohFan+OuAph0jRnyfFnREilOasyZMVTbdS2ArxaRvWX79vYZiUQi0Ubz4yMiz1DVN4rIT9N+AICqvnod+7buUHQzhw1CFC+5ZoAVhZdApa4hYj5sqGaI1JS19mx/5PJhMObDatAobrWhlu/bh0rgeMaGVpZTNhw0RtJHYDzrXqPK971PV559dlfuLEFG5sqc64U+Rchzxk03AwD2fuazAEYqdjNmjNTzx0l4EsVwNvSymPKSRDnaDdNYQG8AGbTPoTrsTj3xogQd/XPlaIIRM+FjUZZWNgVhY9uIfQ+V5UxjPhZOZk9wbKgLRyKRSEyg+fFR1deWn3+tqn/vjxWh82kNQTfzR0ylxl5ax1l2xJqliJEYW+EZbIiGjN0IWoaP7BDLzoTA5EzIZvg9e3K0jINhsRuHl6WwtsnONXHO4llljjv/vNFJD3xQVxoD2lPib9hoq9N7fL5jPCYnkqXuTs7HDQDivOLsfNo73NpV3H8Iu0LYONnYDjHOHBLahLVc7M4RObvO0XZN/giM3kdmw5FbRE3mw+4/kbNxSysKDGdIvz1wXyKRSAzCNJnPNwB4LIBzSO6zF9OF2Zse8+hupMV8amCtkf9d+/J7pjKhFaJtg5+FbLbhYFCtkAjcX87SsMPVsZnQ1tM2I9r1lgI3BQ6GZTM42/T48xeJ8ZhCC/c+pyvvd7/RSQ9+cOmEhY4qdWy0xek+7lNY0UI5dqIbcSmCnbNuvwVArO1aIbq4EjC3GuwfoZW1oobIxYRDaNgQmkwp6lL/jErJzMf/s7Lmk+v4jwLL9MweyXKVWV+inPYcNoYxTeazBGB3qeflPrcDeNqUcxOJRKKKaTKf9wF4n4j8kap+eoP6tGGYB3AWYubDrKVm2RxpBqatddcLUchLlglwBsu15BWPcmXZb85Hb3V9wDOTmWwj5rOnWCvj3ud25f3uPzpJHlh+FNkPzrXelPJW38OuOKewobO/0JWFWu3d2zEfn9fMWJAxILZ4jmQxNTY0RIbBTIetmYHp+dMiOxzWYhqjNZbj30m23+rlW6X0Q2BMR0heV5Pf+d93l/kY7izxfP4DnBZYVTOkRiKRuEsYKnB+E4CPA9gP4JcAfArAB9epT4lEYgtgKPO5l6q+TkSe75Zi71vPjm0EFgCcjTg2MQuE2UUiirtTk8BHZvet6HG1/cZsWWDIiJZdbMzYUuXbdSZixQRR91i4uMICydXJuiak7vOL7S3RWSyNxRnnjE7CfUt5fintWKTQ/lIpS8NL28ZKWVoo1x8tLLaT64UteaK4O7xk4rjG0UxeM0blGNonnWC+z1FWtnlZ5A1Q7VnZUO6gOtE7Gbn7ACMjRq/k6HOfmWEoZUix8fNLWR7TGoYyHxMR3Cwi3yEij8LobdgQiMiTReRfReSTIvKSsu8sEblSRD5RyjPL/ieIyB9tZP8SicTaMJT5vKI4lb4QnX3PXnTZLDYEIjIP4HcAfCuAGwF8UETejs659b2q+qvlg/QSAC8e2u4CgDMRzw7TmA+bl0d12QTcq2LZIJFjQkcGX/a7FnEumkmY6bBavtV/Q29sGDAfzm9mWAnCV/Bs2avsjQLtjgzqd1Fpdx2ZUtoIFxHtctkmCXHE3DjnWStHVt8OldE/U43xcPt+mzOYsDuES0jbvwu7aLvPp1VO9pl2TZBdi0fuDV6tvT4LRyX8iTe/MBa0tIRm7IuhjqXvKD9vAzCLkKqPAfBJVb0BAETkUgDfXf6eUOq8AcDfovv4nEDX10QisUkx6OMjIucA+FEAF/pzVPXZ69OtCZwH4LNu+0Z0Qe3PVdWbS19uFpF7l9//AOAfpjU6D2DflDqsYmfG49lMTR4UyXymxYRuhfmoxchtre+Z8UQOj3bNCbP7RtzkKPsCMDJO8/tZFtDLBHr9bXQH1nNTOFsoLZtSvaq9/D5SSosqVvTpWpK0R3IoVg9HLI/vkRlPZGLBd8SynigjBceK5nfBvxM7qbQxZtMH7zh7gtgLGzFGx6x7Un5sj4jnGjF02fU2AP8PwF9jNkkDo+e6ZsdW6dzxe/vWaQGuE4nE3cOBAwcgIj744m5VVWD4x2enqg6WpawDbgRwgds+H8BNAL4gIvcprOc+AG5pNVJu2pbHOE9Edy5MZiUFJrVBts3Og35mq+VMipzvprlGRGbxHCiq5sDq+8FMzdpnFgWMNCWmuOjlCCSjWXRTb4spMJjx9HX7dLA259/hzjJms4eO2RzyKVf3M11RQmrglvI6FAZ0pKhzvEEfO5ay8Vx0P33OLQt+RsejjKK2yxhOnyWj7I8YdC2kiX9mO0sfdhCrnMjd7tkeG1JSHzy74EwdvTNteVQW0WQpeCdWVoH9+/fj4MGDuxBgqLbrHSLy7QPrrgc+COBBIrJfRJYAfD+At5e/i0udi9ExtEQicRpgKPN5PoCXishxdB9IQUck9rZPOzVQ1WUR+QkA70Y3Afyhqn5MRH4VwJtF5Dnopr3vW0u7Ip3MIpLJTHMoZA1EdKxvq5RRyFJjIrwEjGQyHPZySOgOk9+w02PEfFiWtI3scnrHUPfWMENgx1IPdlLsGcidhZWbjOa2L44qnfG58oP5gDmUfmZU97OfLLvKvs937hUrt3a6hyPkSgFMOpQaoufPmr1a/ngPu8djFkK27Df5CsvkgMl3y55h/8wCV4Yaq7TrjzGTY+Pts8Y10oDa+2OSNrP7WShj6t1o7JoLpk6uYKi2KwomtqFQ1XcBeBftOwjgm2fTo0QicXcwLaTGQ1T14yLyNdHx0z1XeyKRmB2mMZ8XolOx/0Zw7LTP1a7aCcWMekce3jUhcrTN7Ftof5TbiJc/bLLvHxAvxdjIjZdl/vyaO0ck0O5jFZFqvSWErWEsaiAZ2JlHud56CAAgFonwM46rX1hGcc/B8Z6fLILnm24a1b3hhnJ+WXbd0i27SOM+FvaZc4hNuFC4/tfiOteWnv53zWg1UkZwrOze5IFNFFA3ETBEucp6w8AT432J0kDz+9+vlK2urdVcWCVzFVlcwl1fdqnqj5byHpmrPZFIzA7Tll3f0zquqlec2u5sLFYBHFmeFKoB042ZWo6ZrCI1aFCXDci43Yj51IhHxNZq9xG5UrDa3yLpsUtAJExmAafN+F6VbcesrgmyTSN+7t4iXF5y+TGOFdHsvi+MX9DSkxpbAkYq9pu6dr44rmmfiN0T3dvxCgPyv2sxf1pq+Yn9pYzyp7GLBBsOtuLk1PriBcLWXm/oSPfjs5Ow4SHfTq84CdxRpiltpi27vqtxTAGc1h+fRCIxO0xbdj1rozoyC1iu9oj53JW8QJwVwNrj9b7/zWESeGbxMyLHbmZ5AcdnBibdQ2quH8DIrN/MUc0Ybd4niiJw2ATOXuFZgs3Gdsxm45Eso5PjnLn6ydFJtxcXvd17xi9gNOZLX+qrHv3SkbFdNcbj+8QMx+RSx4P+s3yo1oZnHbxvvmyzmYT/RzQTh21T5DkebCw5cV13rpJhoj14e97+9uwd4/8HNoKN3FCmyQYHiQ5F5H+JyD63faaIvGLIuYlEIhFhqJHhf1HVl9qGqn65WDz//Pp0a2OwjC78VCQrYa1TDVFsXGuvlS+7ZqRodaPrM8PhGLxRXGZedtcMIIHRjMd5qOzAShGz+LX8tLxdniXYse1kUcnOqSdOjFyB9t3a/bZ868ZMjM0YuwFGYqDbSnm0qGSY8US5xAy942eQT76XD1HIi4Vyj0veuK4Czo22QOzP/64xiCiutNXp342yLcELzIzTME/3AYxCcTBj5kwXUf8XqX3GUKXpvIj0cigR2YFxuVQikUisCUOZzxsBvFdEXo+OIDwbXfyc0xon0XmitoTyrGHikKt+AJXqtmxq2FbHZkJ27ovsiJTqGiLNFrfPuZqiHN7WvpGW3qbDZkQnA9pBmpghzOckaVd4ZvfnfLHIb8zmyM41Vwmfg4tlOzXbnUg+wY6Yfe4sH960/DZexgx0u8lz3DkLdG+2zZorzxx6h1U6d4UFdw7MgPheowBqoHuPcq3VQoAYomBykZwpwlD3il8TkY8A+BZ0/38vV9V3Dzk3kUgkIgxlPgBwPYBlVf1rEdkpIntU9Y6pZ21imMwnArMWZgwcuNtDqG7N7sejlu2yNXnUNHL+oXLI1TnabuXlrmnXPHNZnOKYGYUpWS3nmKUxO5x6OxyWD9msbOd6a+WjlH2U7UyGBMDnPvi+HKuU9nxtKPw7sWQOmFa3kvfKj0EtQNtKwNwYNZYXBXPv793633rZzOaL27fDgVZzqHN2EyLyowAuB/Dasus8AG8dcm4ikUhEGCpwfi6Ai1A8OFT1EwDuvV6dSiQS93wMXXYdV9UTXRRSQEQWcNfs8DYVzMjQMBf8ZiNALr0QmZ1EWa0afelrzJTV6sBowGvpmCPH0loUPO5jdM0oyh4w3ueTJOjkcmxJRUs0W0aYStyEmX6pw4LsZVqy+bq9gJn62y+hAyfLmgGfLeHudH22FZ4JnE0uG8VRqmGOli1s3Nh1Kj7XlmP+Or0Ba8XIMNqOxsGD3UeA0bOyZVdvfFi2xQmpF0+M962GocznfSLyUgA7RORbAfwZgL8YeG4ikUhMYCjzeQmA5wC4DsB/RxfU6w/Wq1MbBcW4KfkQJ04WOI/F06V9LUOoWtYKzrPlrx9lVo366MHhGSw+827OnYVJ51CLeWyzf+SS0Qt36U0K1a2ljpLatsVmWHg54Qjqmo9iEAPOrMGEpO6h24zNrM/a8pHPOXo0ZwIxZhplvu1hjMcMN8u2H6daCJMhoUxsfIyRRsLrIYJ4rmvt2aPhrBZTZMshhqraV0XkrQDeqqpfnFY/kUgkpmFaSA0B8DIAP4Fu4hURWQHw26r6yxvQv3WFoGMwEcup5Urqk2yW0oflZ8bD2SSiWZpzqTPj8fIda5dN3FsuFCbTsb4Z49lbom/vdHphm/k88wBGbhUm8/DMos+6QeE21hJwbMJRs1GXw374Ma3lTYuygTHYxcba9Qk3jfHY8HCONUMkk6s5A5szpz/H3BxYPb+N3C6ASdlRb9xJqnAPU7uzOj4yjzDGw++pjQ+/x37fNKHwtFfkBei0XF+rqvdS1bPQJeu7SEQ2LF1yIpG452HasuuHAXyrqva2eKp6g4g8A8B7ALxmPTu33phHl3S+xXxY28VynShvNg8qG6UBoxnV9nHQJmYswORMWwv16mfRJdpXy00O1E3zedb2zKffVyptMxnKgAV9L8fBeBmFHmFE8ieecWv9jhyIa4wqembMUrfT/siNxq7d0nwaJgxaTSa2PN6Gx0kq7T56Q1FHTeYKhTXXiMWKRhGYDDHcB5orZfRuMzOsYRrzWfQfHkOR+7QMdhOJRKKJafNTEBxx0LHTAparPQroxDIXDubNbgv+d29yTqW3lzH5iWlQ2EmRnVT9b54xeMYfkx9QfznIl5/lbCbkYzzLebbBtkWsWYpQYzyctRVYW0iQoYHT/Dk1mya+Z9+vtch6rK61fyyoUwPn1WJG5NtlWRXLu8ZCBFMnWAZ01B239vgZceA6/8xYI1bDtI/PV4vI7cF+QaY6TyQSdwPTwqgOURQkEonEmrEWr/Z7HObRpRWKYvPUXBg4dW1rqWYwmu9pqP1mAeECbUeoLSdqnvGAE2BbtLqiN47M7k3VbkZ/LBz3Alsbh5prgY+kZ0aF3H8W9rZiadcMLf2xmiCTvc+jui01PS/P7d53lDIyLmVzC1628FLRX8fGnXOvRajFgbJz/Uqrf2/Kzu20DPPjz8Lj2rPz53BEzBrWYI2RSCQSpw5bmvksoBM4R8zHUBN4Wt0aQwLajoZV58dG+7WZvTWL2oxks2gvwCvMxxv4cXaJw+boSW152OzPYxgZG/ZOqGuwxa+NU8RMWP1am1mj8YmM5fx+f02DMR0zNDWzi4iVMcONnhX3z0oT+jJ78n1iAbCdG8WdYqbMJiLR+PA5LfMLL4RuyW2S+SQSiZlgSzOfOQB7EKvaDZHhG9BmPDWzcv+ln5ah1I57+UHNQM1ml5aq91ilzhjzoXPMqbLlTsBjZ8aFEfPpw0dQv228opkXVKcVQ5tV0ZFqmttn+cSdVKcle2NDUyujKCJ8j4aWbImZpj0Pb5Bac/Q02HsUZTRh5sNuQdwvYHQfLbbt1fLJfBKJxKbDlmc+21HXUgGT2ic2kx9iixAxK5slWU7B7UbBvqJAYx7Rfg54ZTP8iaAOG6xZGTESobIWf9ijP2aBqMpmpNVhdtRioOwKwy4kUWzh3iGWApEZK/BGpOz0WzM4jQxDmTVav2suOf4cYzyRto7dG7iPQ5x0We7lDfiYsdW0jf6dGxpmI5lPIpGYCbY08wG6L3iLvdgXvSZHaIVGZTmFn1Fq2jLO5+XB+2y7xcK4D6wxiWQabJc0zUHQwxxMo/AMfIw1fNFsbWyC7aJa4Ro4Y4NlO2UHSmAkm7K+mRNnNKbMbFgG12LQzH5tm4O9+fNZQ2YayyGMofWesjyLWf2QdlohfZP5JBKJTY0tzXwE9ZCX9tWuhSyNZrmaXCJiJLzW5xmkZbNTa3dKamwAkyEjTgbHIqvV6HrApPbDbHk0YD48I/ZsoBHQfJk6FVmL93WtDK4NxIHTjfEYK7I8ZJHMraZx4/xmHjUWwO1HGkSWt7TYtu3joHet/GxspW/sy99zzQZoleo2Q8dWkMwnkUjMBPnxSSQSM8GWXnYB3dc3EnTWhLst6lvLb8UCSiBwUCU1cLQsql1nwrXBHeN7YyFytOxiATO7dbTuvTeQswwVrg6PR3/vlZTFwGhZZCezmX+rfcsf1cerCdqfp6UY51qLBM6gY9aH6FkNjWM8hAVEAmEeS3an2Ealr1PLbOJdMdhwkpfmx+i479O0e0rmk0gkZoItzXzMyDASFPIs0wsG6XPNQs3oXDvFzz47y07Lm8WZOeeDjJnMSIa4cfAsxLmmxnJwlZIZxESUwuCatUh90dgyUzN20ws13UkmuGZVeyt8SJ9hodwsx5Xe5igMC6FN8Gwqd//M+N5qz9mDQ1DUjPSi6IrMRFvhN5gBWb/30H5g9C4z+95FJQBsK+NhDLGPhEltRQLtaR+XZD6JRGIm2NrMR4Dti6OZV92Ussxq2lIKf679LE3lhErZnWaMZ3dZaJtcwlTLvfzj8OicWiYBZjPRzFgz+IoyLRiGxBA2sOq7ZWjG2R7miNL553CUwnq0MiPUQo0sN9T/nFPemE+UT8vA124xIGY6QwwSa4agNSdnoO6QHIXUYDX8hIOss4ZdIkFXn9XWApFRW/7ay2iHlUnmk0gkZoItzXwgHcOw4FYn3ZRm+yZmcJr2jge/OfhTpCGzGcUYkM+ZDkzKgADgZIkExmb3/fHgOjVEGgnW9LScXA1skNhy35Bgn29jYXnyODMelru0wtj27g80IH6bc8rbdovxsPyJWU0kX+FjLZeSVrgWRs1FZSL3lzuHHWL7XHTBu2iMkFkjGyb619dkRopRdpZW39cFInKBiFwlIteLyMdE5Pll//eV7VUReTSd8yoR+ScR+aayfX8R+ZCIXFvO+TFXd7+IXC0inxCRy0Rkqey/RER+cT3vLZFI3D2sN/NZBvBCVb1GRPYA+JCIXAngowC+B8BrfWUReUj5+XgAfwTgfQBuBvBYVT0uIrsBfFRE3q6qNwF4JYDXqOqlIvJ7AJ4D4P8M7p128gCT+ay4Kbdm88Lr7ShfEc/Okfk9a1lstpmjGdgznz6PVomHYevpmrzF12FEzq5sx1J7OaJgXGyX1HJc5Tpswu/P4WBfHBg9CibGmkm2I4rCfdRCgHiNovXrTto2RO4tzHqZibTkdMxkW0Hv+mBuVDcKvcu53Ozd49AjLfTv7+p4W/73CmbIfFT1ZlW9pvy+A8D1AM5T1etV9V+DU+bRPQdFGTdVPaGq9m5vsz6LiAB4EoDLy7E3AHhq+X0UY6LaRCKx2bBhMh8RuRDAowBcXaujqh8TkZ0A3g/gRe7cCwC8E8ADAbxIVW8SkbMBHFJVm4BuBHBeaeeydbmJRCJxyrAhH5+yXHoLgBeo6u2tuqr6vGDfZwE8QkTuC+CtInI52qF+B2FFgTtOxFkBarFOWI3ulzy89GDq6+suE2dnla9RYS8EP14asLxaJ0koHi2x2BOb0z8PQS3iHTC6Z87txWl7gdF4WB2j5yzY9ufwEo37H6UOZrMIXspGYGPR6J2we6rlpWLTCmC0vBLa3k51o5eZxyWK683LLTtWcw/ydRcq4zM2FuW3va+9kSF1eMyMBMOw7qp2EVlE9+F5k6pecXfaKnKejwH4RgBfArBPROy+zwdw05S+iIgcsb9Dd6cziURiKg4cOAD/P1fEJQDWmfmUC70OwPWq+uq72Mb5AA6q6lERORPARQBeraoqIlcBeBqASwFcDOBtrbZUVeGsx88R0YPueJSjqZYJkvMlRXVZ+Henq3ukbOw2Yy1Tc9IstOieUG/6X6bAhXJu6yHeFSM3A8dyjnI02T7O/lDLpgCM+tsbGVJfIiEvC5qtjhfysluC0sUjV5i7As5dxSw46pOhFsNoxfXN2C67QTBjBCaZLccHWku+8yj6ZM90jPkYEyrH2W3E9wEA9u/fj4MHD3qPjR7rzXwuAvBMAE8qqvJrReTbReS/isiNAL4BwDtF5N2NNh4K4GoR+Wd02q9fV9XryrEXA/hpEfkkgHuh+9AlEonTAOvKfFT1/ahPrn8+sI0rATyicuwGAI+5a73rvt630LahlgedZT7B8ngihIaVR1zdI+Vih4tOrmbGfjLSVRfwwEYzSU0IxjOlP78WyXBajiZ/rOVecYJKA8cWjs5ndbbfZmZgs3SfoaKhauf40oZIVmJMhMeDM4T4Osyc+xxmwQAxS2WDPo8a8+FbjOSZNj7C7MY9mJoJRYtEDs3sku4ViURiJtjS7hUn0TGfFouJZmOPyLy/FkvZz4g2S5vsZ9ECXpn5emnYz0K9lmt5sj3f11bIC+5rK+5wLQ94lKOJ223Fk2YZSa2M2meDRK9xYiPP3iG27Ii0OaGGB3HoC2885/tQC78CTLJI61s/TsGLxXIUzkcWxQ2vxQDnZ+f70Lu7UB+iuizDa8kOOQRLDcl8EonETLClmc8yOn39WrIO1BwEgXrubhP1ezbQ52Yq08zRwoBMQ2M2KicD5mMBxti1wRDZ+7ANTTQj1kKutvJ3sak+Zznw41OTJbEc4URwjOUfEUti+5uJZ1TGOGI+Bpax+dnbGI09z5rtV/Q+WZ/mqQ7LBf0xdkxmmyHfB2ar3Bf/TrCc7ijGEbm38D2xe0uUWTfDqCYSiU2JLc18VgDc6rajL/E0h0Bvc2EBuPeWcg+VkfOd2e7YuvtOmp3HZD5URlbEjBrb4BCpESIrXz5nG+1r9YXthmyb7X08WnKsWl1mUOzcueoERRwW1yx3o/uI8lp5RBbgHH7jMO2398m3WcuEGrFtG0tmOHaLUbjZRarT+gjUmL+B5VJrQTKfRCIxE+THJ5FIzARbftl1GHGclFrcYo6Ju8OdY4LIfaU8q5R7ysm7XCBdjlRoy66jhQtb5oVIlcxUnhHlsqrRZz/71F4GVv36JQILmKN8WoZazqeWEySPfy3Vb9QOm0mwYB4YOecaOEaSX36xc2it3/7eWTBuhqY2hhxV0P+O7tH3Axgtd/nd4CV6FC+IjSajGEn8zDk+ULQ0H7pUTuaTSCRmgi3NfBTdzMBZGYHJGakW99Z7zNlvEzDvK1PXWYUC7QyYjwmU7yiSSGM+PFMCo1mMWQWzmsj9gWejiMXUHGIjlsSw9u3cWpzpaf3l63AmTmYFEQub1t+IBfCxlvsAMwdWiUftMTM5StstZtK6HzadYAffKOoiM317VjvpODCZ3ZSF7Xx/a0Eyn0QiMRNsaeYj6Na7UW4jNhScxoSifcZ0dhUd/J7do7pm3GbMx0rLohCpbVtZOj1ajpnMeKJMk2yqP2QGrmVTDR0aS8mhKQy+T2zSwM+jxXy4jcjsn00E+B4jtXptxo7iVrPMx4dVASZDhfhrMusweObLMiqTazHz8caYPKYtw1AO68H9jgxQhzif8nUSiURiw7Clmc8cuq9/xGJ2U2kzbmsNPDU3tfvUT2Q+LegzVJTtyNWgb4P6EgV24tmetUURC6gxh4hZsEsGj0GkYWItVM2FwvfTng0b+q0lWFbEZmpGhpHjLc/k7KJi99pydmXZiF3HP2cO48LPw48pa7c4nG2U4ZWfEY97xMKYDVvfOIyu39cyOPXXTSQSiQ3FlmY+gm5GZfkOMOkqwcyn5Z7Qr8PLtHTcHELdaJu2y9wprOTc5F5GwEHUWR4RMRdmaLzdcmlgROEylqiBPkBV0FZtJq+5sAB1GVsUJtSuZTMvM0MO2g5MBhizPFSWPdU7odZcVdiVwbMYlr2wbRNrnPzvWigTX7fGrFi75lHTYkbMh5/VNO2a/30CdVeUqO1EIpHYEGxp5jOHjtHYjOiUUb3NDst+Wl9yg81MxmZsduWgTcAoTMahQ6Us+28vpbfzYTscQ4s51Cy1uU3/m2f2iXzjbsoyjR5bbG8r9z7v7pk1M7Uwqi3m05L11LRnVjcK8D5PwdtaaXZWiRVxgHpmA/6aXLKGKXoOtfFpyZRY+xTJ4mpW40NYMGvtTNbjM3R6lnevoE1DMp9EIjET5McnkUjMBLnswkiY7Jdd5iJhAmdbhpmqNxI+KpVGP1fLGuoIW5hhFJXwjrL95VLasitKOM9LD+sTOz4CkwJaQxSPuRWx0MNn2rBll+Ud669btucPjfatnJi8JjDqr43lYnCsttyKMkVw/zluzZhAlSovDlh+GRbMMJSu75cqtWiQQ2Jo15x1oyy5fB1ebrWWsqxEifrPSz4TB7BA3f/OZVcikdiU2NLMZx4d27GwGJGTKDuL2sxowkafs5pVrhMC0ED4agK726g05hM57BlT4xk+igdcy4MeCTU5QmLN6HDBvTXGcFjwbNk4fF6q5VvH91m7NlNG4TiiLBK+/1H4kDmqY+PEWRs8tpMQ2dhdxHxqbCgSHk+c2zg2DZHTK8ds5uvYo4rMSNhVJfoYsEuMPSs2qIzeo0jNH/UxkUgkNhRbmvnMoWM9zHIQ7NteZkKbEU3tetx93leJirSyPNZUlmwOH4VCqGUHbYHV6JG5f2SKPw29cR7lkTecdFOuGVvuLYIsdnCMzPLZ4K4VrKwVLgSYZEAe/TWjFBrWvjn9Lo+314pxzTm3WNXeclmZuP6AumwIGpmR1JhPlHGVmU9NhjXkHWQk80kkEjPBlmY+5l4RhWew3/0MVcnzPe+2eWayGTCaHZi1TFuzR8cYkcyBmQM7IHothc1m0zISjLkcrMalwcuHtpWB3l0GxDKJcj5wz0yO0L6aISFQDwvK4xWFpGD50EJwP8Z4mPnUcloBkwG6mCW1wsGyK0zknsLPijPFRprcmstQZGRaC+PSMmzNMKqJRGJTY8szn0XETqJsM2KyHZ7hfV6t2qwcMQm29+A1usGfU5tR2KHRH6/ZabCjIzCa+dhuiK/v3UTMPYTdKzgwPjBiiaYhs3NM02RjuegzipbSngczOY9aEK5W2I1ayJH54D/DNGE1WZ5d17MM28fBvjh4WeT+wNpG245CpjDjsXPYTQiYDAHMzMqDj9WuEyGZTyKR2JTIj08ikZgJtvyyy399vTCQY8IsV/SqfpOXAiww9MuxJdrHSzU7JzKlZzN+FtR6+swe3axi93Wjfnr0yzvXKfPc55jUBr/s6o0LS92lpbgUJwVfofxl9sK2DNg4YiHPsH7ZYkvMPlJiucA2Mqloga/jFRe8fOfnEHmdT8u+4ZeRvNSs5ZeLll12z7y88+9xLWtFFE/JMK3/XC+RSCQ2FFue+fgB8LFxWUDLs0Mk/GXhMbs2RLNELTpeNHtIpS6zAH8Ox0seYkjIqldrP5wFi8FgH+umYpIw1j8yTGRsc1JNc7yNhK1A23zBwC4avmt2KWNAdu2ob3aPi+QgG7lrMHgsOauE7zP3k7OERtkl+Fzbb0Jl714RmZbUUGM+3LchWXIZyXwSicRMsOWZT5SxE5hU6bI5f2TCz5lP7cvOOY88lqlO5DZQAzsVRrMoG47VQi7433wOZ6DwfezrlKnc7sNU1d4Ik10wVmhqrBkq+muyvCvKkcXjb+xGaduDQ2hEzK13mqWLt9TPbFzIfRzihMnvRMTcWH5jz2EHbfu6kTsF0GYszN6trmd/KfNJJBKbGlua+cyhWxNHDodsjMczk80A3hmVgzKxwZqP+Wuxg1le0HJt4HV2zdkyYj61nO0t47aaYV+kFZzIMlEq+RmXmc4CbZum7Jh7EBzmg0M5RJkyDcyOWmNqWTeWSuWIAbE8a5EyXNj9zQdTuj1vC15Wc6cBJmV6zHxa8ZhrgcKi/GwGZtCRY2ntHVum/f7YanAtj2Q+iURiJtjyzGcnJk3fgbo7ApvSRzKjtYS44HN4loucXdlGiE2QopARNefHKNd8LRRFFG2C5UQsI/P3Y6zCGKBlbbVtYx8+dKz9tjCzHL4zysTJmiUOlhXlsu81SjR4Pjwsa8A4K8kyMSEPznRRyyYCTGpUa5pQYDInGbtMGPNsZeNgxuifGTOf2rtQy9iRebsSicSmw5ZmPoKORdhXPPpK8xeeZwk/K1XDMwTrfA61yjIlezC+TzVbo1qgMGDEHHrZBrXvmY9p61jmwyEvIgtY1pi0ckDNkSEIy3F83m8LK2uMx8LLRsyn5qR7jPb78akFArPg8D442hLZALFzceRsbGF2+VmxtjHSFtXCWXgw47FnaOF+5wPZFTv9muyNZYq+v7VgYlEONq/B8zJRRjKfRCIxE+THJ5FIzARbftm1gPYXuCbUjfJe8VKKjfOiGM6sMmYVeGQcVkt5zM6XEbj9SODMSykWvrci3bFLiafwrOZnAfkRKoG6oHnIsouXmFHMJHaR6B0yA6ExG0nWjCJbGU0MrIJuLa/5PfLvKzvG2nLL3ERsueX7yMLn1TJQkbOo/eZ3gI0jawLnzNuVSCQ2HbY082mBZ31mQJF5PwuaeTtyBWAhNQv9vOl+r96np2ZqXDNk86pSmzVZPR+Ff5jmRNhfz/2uCb35vqLzbTyM1URxpXkfR2BsZfdg48LImdbuuZVppG+/XMCMRk1wzuzCs5xaplJ29fBsg8ebzTA8m2SV/VoyrvL9mGIk+ijUcqC1mM+0LCjJfBKJxEwgqmtxZbxn4eyzz9YLL7zwlLV34MAB7N+//5S1N0vkvWxOnG73cuDAAT148GBIcrb0x+dUQ0SOqGrLtOG0Qd7L5sQ96V5y2ZVIJGaC/PgkEomZIJddpxAiIpoDmkgMQn58EonETJDLroEQkUtE5Dtn3Y9E4p6CNDIMICKfQmfZvwJgWVUfXQ49XUSeDOALqvpyEdkO4O/QWbkvALhcVV9W2vgpAD+CzjbsOgDPUtVjInIJgCeis5+7GZ1N38MBPF1VW6F8T+X9tfq9D8AflD4pgGcD+KpZ9zlC6z7K8XkA/wTgc6r6nZth7Guo3YuIXADgjwF8BTp7w99X1d/azPcyGKqaf/QH4FMAzqZ9lwD4ofL7slIKgN3l9yKAqwF8PYDzABwAsKMcezOAS1w7P1h+v7eULwXwqA28v7DfZfsNAH6k/F4CsG8z9Hmt91H2/TSAPwHwjs0y9mu9FwD3AfA1Zf8eAP8G4GGb+V6G/uWya22w8DIKANrBQuYslj8Toi0A2CEiC+jCrNzk2rGwNF8s5Qm0k1ycUtT6LSJ7ATwewOtKvROqeqjUm2mfI7TGX0TOB/Ad6Ficx6a7D6B+L6p6s6peU+rcAeB6dJMbsEnvZSjy4xNDAbxHRD4kIv+tVVFE5kXkWgC3ALhSVa9W1c8B+HUAn0FHiW9T1fesd6fXgqjfAL4S3Yv8ehH5sIj8gYhsaoO2yn0AwG8C+J8YFtV2U6BxL3b8QgCPQseKTn/Mmnptxj8A9y3lvQH8M4DHDzhnH4Cr0K27zwTwNwDOQTeDvRXAM2Z9XwP6/Wh0/oBfV479FoCXz7qPd+E+vhPA75b9T0BZdp0uf/5e3L7dAD4E4Htm3b9T9ZfMJ4Cq3lTKWwD8OYDHDDjnEIC/BfBkAN8C4ICqflFVTwK4AsBj16u/dwfU7xsB3KijGfdyAF8zm56tDXQfFwF4SlEcXArgSSLyxpl1bo2ge4GILAJ4C4A3qeoVs+vZqUV+fAgisktE9thvAN8G4KOVuucU7RBEZAe6j87H0S23vl5EdoqIAPhmdGv1TYFav1X18wA+KyJfVap+M4B/mU0vp6NxHz+rquer6oUAvh/A36jqM2bX0+mo3Ut5f14H4HpVffUMu3jKkar2SZwL4M+7Z44FAH+iqn9VqXsfAG8oKt05AG9W1XcAgIhcDuAadMuYDwP4/fXu+BpQ7TeA5wF4k4gsAbgBwLNm1MchaN3H6YbwXkTkcQCeCeC6Ig8CgJeq6rtm1M9ThrRwTiQSM0EuuxKJxEyQH59EIjET5McnkUjMBPnxSSQSM0F+fBKJxEyQH59EIjET5McnkUjMBPnxSYxBRFZE5FoR+aiI/IWzur1vMZycdv7hyv6nisjDppz7zyLyp3ep46cIQ+8zcfeRH58E46iqPlJVHw7gVgDPBTp/N1V92t1o96no4tCEEJGHonsfHz9LT/pTcJ+JgciPT6KFf0SJHSMiF4rIR8vvnSLyZhH5iIhcJiJXi4hFe4SI/EphMR8QkXNF5LEAngLgVYVVPSC41g8C+L8A3lPqWls/KSL/Uq51adm3W0ReLyLXlf3fW/Z/m4j8o4hcIyJ/JiK7y/5Picgvlf3XichDyv5vKv25toQQ2UP3ud1d58Mi8sSy/xIRuUJE/kpEPiEiv3aKx31rYNZu9fm3uf4AHC7lPIA/A/Dksn0hgI+W3z8D4LXl98PR+a89umwrgO8qv38NwM+X338E4GmN6/4bgPujc+R9u9t/E4Bt5fe+Ur4SwG+6OmcCOBtdGNJdZd+LAfxC+f0pAM8rv/8HgD8ov/8CwEXl9250vnz+Pl8I4PXl90PQOQxvRxdF8AYAZ5TtTwO4YNbP7nT7S+aTYOwoDowHAZwF4MqgzuPQhaqAqn4UwEfcsRMAzLnzQ+j+mZsQka8F8EVV/TSA9wL4GhE5sxz+CDpH12eg+8gBncf379j5qvpldCFHHwbg70v/L0b3MTNYKArfp78H8GoR+Ul0H7ZljONx6NgYVPXj6D4yDy7H3quqt6nqMXSe//dHYk3Ij0+CcVRVH4nun2kJReZDkMb5J7VQBXQB+IdETvgBAA8p8Xf+HcBeAN9bjn0Hug/NfwLwIenC0gpG4Wp9n67UTl71SFV9mKo+xx0/zn1S1V9FF+R/B4AP2HJs4H0ed7+H3mfCIT8+iRCqehuAnwTwMyWYlcf7ATwdAIoG6z8OaPIOdAHQxyAicwC+D8AjVPVC7WLwfDeAHyjHLlDVq9CFRN2Hbnn0HgA/4do4E8AHAFwkIg8s+3aKyIPRgIg8QFWvU9VXostywR+fvwPwQ6XugwHcD8C/DrjXxADkxydRhap+GF0Y2e+nQ78L4BwR+Qg62cpHMAquX8OlAF5UBLde4Px4dKltPuf2/R26JdR5AN4oItehi4n0Gu2i/L0CwJnFHOCfATxRVb+IThbzp6VfH8Dkx4TxAtfGUQB/GdznfLn+ZegykBznRhJ3DRnPJ7FmlIBXi9rlIXsAOjnNg/V0yReV2BTIdWrirmAngKvKckwA/Hh+eBJrRTKfRCIxE6TMJ5FIzAT58UkkEjNBfnwSicRMkB+fRCIxE+THJ5FIzAT/H50JBPd8BG0IAAAAAElFTkSuQmCC\n",
          "text/plain": "<Figure size 432x288 with 1 Axes>"
         },
         "metadata": {
          "needs_background": "light"
         },
         "output_type": "display_data"
        }
       ]
      }
     },
     "5a304f1e801f4b8d99828b62f235df16": {
      "model_module": "@jupyter-widgets/controls",
      "model_module_version": "1.5.0",
      "model_name": "RadioButtonsModel",
      "state": {
       "_dom_classes": [],
       "_model_module": "@jupyter-widgets/controls",
       "_model_module_version": "1.5.0",
       "_model_name": "RadioButtonsModel",
       "_options_labels": [
        "linear",
        "sqrt",
        "log"
       ],
       "_view_count": null,
       "_view_module": "@jupyter-widgets/controls",
       "_view_module_version": "1.5.0",
       "_view_name": "RadioButtonsView",
       "description": "Select stretch:",
       "description_tooltip": null,
       "disabled": false,
       "index": 1,
       "layout": "IPY_MODEL_6fc6eb6219444d84ab605650d396585b",
       "style": "IPY_MODEL_ef148d6529b44b4495bf897bac52ad8d"
      }
     },
     "6fc6eb6219444d84ab605650d396585b": {
      "model_module": "@jupyter-widgets/base",
      "model_module_version": "1.2.0",
      "model_name": "LayoutModel",
      "state": {
       "_model_module": "@jupyter-widgets/base",
       "_model_module_version": "1.2.0",
       "_model_name": "LayoutModel",
       "_view_count": null,
       "_view_module": "@jupyter-widgets/base",
       "_view_module_version": "1.2.0",
       "_view_name": "LayoutView",
       "align_content": null,
       "align_items": null,
       "align_self": null,
       "border": null,
       "bottom": null,
       "display": null,
       "flex": null,
       "flex_flow": null,
       "grid_area": null,
       "grid_auto_columns": null,
       "grid_auto_flow": null,
       "grid_auto_rows": null,
       "grid_column": null,
       "grid_gap": null,
       "grid_row": null,
       "grid_template_areas": null,
       "grid_template_columns": null,
       "grid_template_rows": null,
       "height": null,
       "justify_content": null,
       "justify_items": null,
       "left": null,
       "margin": null,
       "max_height": null,
       "max_width": null,
       "min_height": null,
       "min_width": null,
       "object_fit": null,
       "object_position": null,
       "order": null,
       "overflow": null,
       "overflow_x": null,
       "overflow_y": null,
       "padding": null,
       "right": null,
       "top": null,
       "visibility": null,
       "width": null
      }
     },
     "8e8803713072433ab4e626dcce6fa9d9": {
      "model_module": "@jupyter-widgets/base",
      "model_module_version": "1.2.0",
      "model_name": "LayoutModel",
      "state": {
       "_model_module": "@jupyter-widgets/base",
       "_model_module_version": "1.2.0",
       "_model_name": "LayoutModel",
       "_view_count": null,
       "_view_module": "@jupyter-widgets/base",
       "_view_module_version": "1.2.0",
       "_view_name": "LayoutView",
       "align_content": null,
       "align_items": null,
       "align_self": null,
       "border": null,
       "bottom": null,
       "display": null,
       "flex": null,
       "flex_flow": null,
       "grid_area": null,
       "grid_auto_columns": null,
       "grid_auto_flow": null,
       "grid_auto_rows": null,
       "grid_column": null,
       "grid_gap": null,
       "grid_row": null,
       "grid_template_areas": null,
       "grid_template_columns": null,
       "grid_template_rows": null,
       "height": null,
       "justify_content": null,
       "justify_items": null,
       "left": null,
       "margin": null,
       "max_height": null,
       "max_width": null,
       "min_height": null,
       "min_width": null,
       "object_fit": null,
       "object_position": null,
       "order": null,
       "overflow": null,
       "overflow_x": null,
       "overflow_y": null,
       "padding": null,
       "right": null,
       "top": null,
       "visibility": null,
       "width": "50%"
      }
     },
     "9ae2e5dd91df45fbab3fec696672e02c": {
      "model_module": "@jupyter-widgets/base",
      "model_module_version": "1.2.0",
      "model_name": "LayoutModel",
      "state": {
       "_model_module": "@jupyter-widgets/base",
       "_model_module_version": "1.2.0",
       "_model_name": "LayoutModel",
       "_view_count": null,
       "_view_module": "@jupyter-widgets/base",
       "_view_module_version": "1.2.0",
       "_view_name": "LayoutView",
       "align_content": null,
       "align_items": null,
       "align_self": null,
       "border": null,
       "bottom": null,
       "display": null,
       "flex": null,
       "flex_flow": null,
       "grid_area": null,
       "grid_auto_columns": null,
       "grid_auto_flow": null,
       "grid_auto_rows": null,
       "grid_column": null,
       "grid_gap": null,
       "grid_row": null,
       "grid_template_areas": null,
       "grid_template_columns": null,
       "grid_template_rows": null,
       "height": null,
       "justify_content": null,
       "justify_items": null,
       "left": null,
       "margin": null,
       "max_height": null,
       "max_width": null,
       "min_height": null,
       "min_width": null,
       "object_fit": null,
       "object_position": null,
       "order": null,
       "overflow": null,
       "overflow_x": null,
       "overflow_y": null,
       "padding": null,
       "right": null,
       "top": null,
       "visibility": null,
       "width": null
      }
     },
     "9d3aa041169e4efb858b121223313953": {
      "model_module": "@jupyter-widgets/controls",
      "model_module_version": "1.5.0",
      "model_name": "DescriptionStyleModel",
      "state": {
       "_model_module": "@jupyter-widgets/controls",
       "_model_module_version": "1.5.0",
       "_model_name": "DescriptionStyleModel",
       "_view_count": null,
       "_view_module": "@jupyter-widgets/base",
       "_view_module_version": "1.2.0",
       "_view_name": "StyleView",
       "description_width": "initial"
      }
     },
     "c4937d3a3d1846d69f7db7a13b6f7740": {
      "model_module": "@jupyter-widgets/controls",
      "model_module_version": "1.5.0",
      "model_name": "VBoxModel",
      "state": {
       "_dom_classes": [
        "widget-interact"
       ],
       "_model_module": "@jupyter-widgets/controls",
       "_model_module_version": "1.5.0",
       "_model_name": "VBoxModel",
       "_view_count": null,
       "_view_module": "@jupyter-widgets/controls",
       "_view_module_version": "1.5.0",
       "_view_name": "VBoxView",
       "box_style": "",
       "children": [
        "IPY_MODEL_ea5308beccd646ca93b622ff89a223e9",
        "IPY_MODEL_5a304f1e801f4b8d99828b62f235df16",
        "IPY_MODEL_479d3b0390e445fb89a17ca89d937c8b"
       ],
       "layout": "IPY_MODEL_dcfc4b6a6a1749f29ba1e03a2a4483c6"
      }
     },
     "dcfc4b6a6a1749f29ba1e03a2a4483c6": {
      "model_module": "@jupyter-widgets/base",
      "model_module_version": "1.2.0",
      "model_name": "LayoutModel",
      "state": {
       "_model_module": "@jupyter-widgets/base",
       "_model_module_version": "1.2.0",
       "_model_name": "LayoutModel",
       "_view_count": null,
       "_view_module": "@jupyter-widgets/base",
       "_view_module_version": "1.2.0",
       "_view_name": "LayoutView",
       "align_content": null,
       "align_items": null,
       "align_self": null,
       "border": null,
       "bottom": null,
       "display": null,
       "flex": null,
       "flex_flow": null,
       "grid_area": null,
       "grid_auto_columns": null,
       "grid_auto_flow": null,
       "grid_auto_rows": null,
       "grid_column": null,
       "grid_gap": null,
       "grid_row": null,
       "grid_template_areas": null,
       "grid_template_columns": null,
       "grid_template_rows": null,
       "height": null,
       "justify_content": null,
       "justify_items": null,
       "left": null,
       "margin": null,
       "max_height": null,
       "max_width": null,
       "min_height": null,
       "min_width": null,
       "object_fit": null,
       "object_position": null,
       "order": null,
       "overflow": null,
       "overflow_x": null,
       "overflow_y": null,
       "padding": null,
       "right": null,
       "top": null,
       "visibility": null,
       "width": null
      }
     },
     "ea5308beccd646ca93b622ff89a223e9": {
      "model_module": "@jupyter-widgets/controls",
      "model_module_version": "1.5.0",
      "model_name": "SelectionSliderModel",
      "state": {
       "_dom_classes": [],
       "_model_module": "@jupyter-widgets/controls",
       "_model_module_version": "1.5.0",
       "_model_name": "SelectionSliderModel",
       "_options_labels": [
        "1.00e+00 TeV - 1.26e+00 TeV",
        "1.26e+00 TeV - 1.58e+00 TeV",
        "1.58e+00 TeV - 2.00e+00 TeV",
        "2.00e+00 TeV - 2.51e+00 TeV",
        "2.51e+00 TeV - 3.16e+00 TeV",
        "3.16e+00 TeV - 3.98e+00 TeV",
        "3.98e+00 TeV - 5.01e+00 TeV",
        "5.01e+00 TeV - 6.31e+00 TeV",
        "6.31e+00 TeV - 7.94e+00 TeV",
        "7.94e+00 TeV - 1.00e+01 TeV"
       ],
       "_view_count": null,
       "_view_module": "@jupyter-widgets/controls",
       "_view_module_version": "1.5.0",
       "_view_name": "SelectionSliderView",
       "continuous_update": false,
       "description": "Select energy:",
       "description_tooltip": null,
       "disabled": false,
       "index": 0,
       "layout": "IPY_MODEL_8e8803713072433ab4e626dcce6fa9d9",
       "orientation": "horizontal",
       "readout": true,
       "style": "IPY_MODEL_9d3aa041169e4efb858b121223313953"
      }
     },
     "ef148d6529b44b4495bf897bac52ad8d": {
      "model_module": "@jupyter-widgets/controls",
      "model_module_version": "1.5.0",
      "model_name": "DescriptionStyleModel",
      "state": {
       "_model_module": "@jupyter-widgets/controls",
       "_model_module_version": "1.5.0",
       "_model_name": "DescriptionStyleModel",
       "_view_count": null,
       "_view_module": "@jupyter-widgets/base",
       "_view_module_version": "1.2.0",
       "_view_name": "StyleView",
       "description_width": "initial"
      }
     }
    },
    "version_major": 2,
    "version_minor": 0
   }
  }
 },
 "nbformat": 4,
 "nbformat_minor": 5
}
