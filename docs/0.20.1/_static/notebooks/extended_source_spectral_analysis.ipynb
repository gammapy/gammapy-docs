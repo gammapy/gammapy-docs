{
 "cells": [
  {
   "cell_type": "markdown",
   "id": "2e70db7c",
   "metadata": {},
   "source": [
    "# Spectral analysis of extended sources\n",
    "\n",
    "## Prerequisites\n",
    "\n",
    "- Understanding of spectral analysis techniques in classical Cherenkov astronomy.\n",
    "- Understanding the basic data reduction and modeling/fitting processes with the gammapy library API as shown in the [first gammapy analysis with the gammapy library API tutorial](../../starting/analysis_2.ipynb)\n",
    "\n",
    "## Context\n",
    "\n",
    "Many VHE sources in the Galaxy are extended. Studying them with a 1D spectral analysis is more complex than studying point sources. \n",
    "One often has to use complex (i.e. non circular) regions and more importantly, one has to take into account the fact that the instrument response is non uniform over the selectred region.\n",
    "A typical example is given by the supernova remnant RX J1713-3935 which is nearly 1 degree in diameter. See the [following article](https://ui.adsabs.harvard.edu/abs/2018A%26A...612A...6H/abstract).\n",
    "\n",
    "**Objective: Measure the spectrum of RX J1713-3945 in a 1 degree region fully enclosing it.**\n",
    "\n",
    "## Proposed approach\n",
    "\n",
    "We have seen in the general presentation of the spectrum extraction for point sources, see [the corresponding notebook](spectral_analysis.ipynb), that Gammapy uses specific datasets makers to first produce reduced spectral data and then to extract OFF measurements with reflected background techniques: the `~gammapy.makers.SpectrumDatasetMaker` and the `~gammapy.makers.ReflectedRegionsBackgroundMaker`. However if the flag `use_region_center` is not set to `False`, the former simply computes the reduced IRFs at the center of the ON region (assumed to be circular).\n",
    "\n",
    "This is no longer valid for extended sources. To be able to compute average responses in the ON region, we can set `use_region_center=False` with the `~gammapy.makers.SpectrumDatasetMaker`, in which case the values of the IRFs are averaged over the entire region.\n",
    "\n",
    "In summary we have to:\n",
    "\n",
    "- Define an ON region (a `~regions.SkyRegion`) fully enclosing the source we want to study.\n",
    "- Define a `~gammapy.maps.RegionGeom` with the ON region and the required energy range (beware in particular, the true energy range).  \n",
    "- Create the necessary makers : \n",
    "    - the spectrum dataset maker : `~gammapy.makers.SpectrumDatasetMaker` with `use_region_center=False`\n",
    "    - the OFF background maker, here a `~gammapy.makers.ReflectedRegionsBackgroundMaker`\n",
    "    - and usually the safe range maker : `~gammapy.makers.SafeMaskMaker`\n",
    "- Perform the data reduction loop. And for every observation:\n",
    "    - Produce a spectrum dataset\n",
    "    - Extract the OFF data to produce a `~gammapy.datasets.SpectrumDatasetOnOff` and compute a safe range for it.\n",
    "    - Stack or store the resulting spectrum dataset.\n",
    "- Finally proceed with model fitting on the dataset as usual.\n",
    "\n",
    "Here, we will use the RX J1713-3945 observations from the H.E.S.S. first public test data release. The tutorial is implemented with the intermediate level API.\n",
    "\n",
    "## Setup \n",
    "\n",
    "As usual, we'll start with some general imports..."
   ]
  },
  {
   "cell_type": "code",
   "execution_count": null,
   "id": "180f53ab",
   "metadata": {},
   "outputs": [],
   "source": [
    "%matplotlib inline\n",
    "import matplotlib.pyplot as plt"
   ]
  },
  {
   "cell_type": "code",
   "execution_count": null,
   "id": "2b78f5bc",
   "metadata": {},
   "outputs": [],
   "source": [
    "import astropy.units as u\n",
    "from astropy.coordinates import SkyCoord, Angle\n",
    "from regions import CircleSkyRegion\n",
    "from gammapy.maps import MapAxis, RegionGeom\n",
    "from gammapy.modeling import Fit\n",
    "from gammapy.data import DataStore\n",
    "from gammapy.modeling.models import PowerLawSpectralModel, SkyModel\n",
    "from gammapy.datasets import Datasets, SpectrumDataset\n",
    "from gammapy.makers import (\n",
    "    SafeMaskMaker,\n",
    "    SpectrumDatasetMaker,\n",
    "    ReflectedRegionsBackgroundMaker,\n",
    ")"
   ]
  },
  {
   "cell_type": "markdown",
   "id": "241d0ec9",
   "metadata": {},
   "source": [
    "## Select the data\n",
    "\n",
    "We first set the datastore and retrieve a few observations from our source."
   ]
  },
  {
   "cell_type": "code",
   "execution_count": null,
   "id": "e4a212c2",
   "metadata": {},
   "outputs": [],
   "source": [
    "datastore = DataStore.from_dir(\"$GAMMAPY_DATA/hess-dl3-dr1/\")\n",
    "obs_ids = [20326, 20327, 20349, 20350, 20396, 20397]\n",
    "# In case you want to use all RX J1713 data in the HESS DR1\n",
    "# other_ids=[20421, 20422, 20517, 20518, 20519, 20521, 20898, 20899, 20900]\n",
    "\n",
    "observations = datastore.get_observations(obs_ids)"
   ]
  },
  {
   "cell_type": "markdown",
   "id": "4eed2e34",
   "metadata": {},
   "source": [
    "## Prepare the datasets creation"
   ]
  },
  {
   "cell_type": "markdown",
   "id": "8222fd1b",
   "metadata": {},
   "source": [
    "### Select the ON region\n",
    "\n",
    "Here we take a simple 1 degree circular region because it fits well with the morphology of RX J1713-3945. More complex regions could be used e.g. `~regions.EllipseSkyRegion` or `~regions.RectangleSkyRegion`."
   ]
  },
  {
   "cell_type": "code",
   "execution_count": null,
   "id": "c1aa573b",
   "metadata": {},
   "outputs": [],
   "source": [
    "target_position = SkyCoord(347.3, -0.5, unit=\"deg\", frame=\"galactic\")\n",
    "radius = Angle(\"0.5 deg\")\n",
    "on_region = CircleSkyRegion(target_position, radius)"
   ]
  },
  {
   "cell_type": "markdown",
   "id": "2e078707",
   "metadata": {},
   "source": [
    "### Define the geometries\n",
    "\n",
    "This part is especially important. \n",
    "- We have to define first energy axes. They define the axes of the resulting `~gammapy.datasets.SpectrumDatasetOnOff`. In particular, we have to be careful to the true energy axis: it has to cover a larger range than the reconstructed energy one.\n",
    "- Then we define the region geometry itself from the on region."
   ]
  },
  {
   "cell_type": "code",
   "execution_count": null,
   "id": "216d362f",
   "metadata": {},
   "outputs": [],
   "source": [
    "# The binning of the final spectrum is defined here.\n",
    "energy_axis = MapAxis.from_energy_bounds(0.1, 40.0, 10, unit=\"TeV\")\n",
    "\n",
    "# Reduced IRFs are defined in true energy (i.e. not measured energy).\n",
    "energy_axis_true = MapAxis.from_energy_bounds(\n",
    "    0.05, 100, 30, unit=\"TeV\", name=\"energy_true\"\n",
    ")\n",
    "\n",
    "geom = RegionGeom(on_region, axes=[energy_axis])"
   ]
  },
  {
   "cell_type": "markdown",
   "id": "6759eed3",
   "metadata": {},
   "source": [
    "### Create the makers\n",
    "\n",
    "First we instantiate the target `~gammapy.datasets.SpectrumDataset`.  "
   ]
  },
  {
   "cell_type": "code",
   "execution_count": null,
   "id": "0d29ac96",
   "metadata": {},
   "outputs": [],
   "source": [
    "dataset_empty = SpectrumDataset.create(\n",
    "    geom=geom,\n",
    "    energy_axis_true=energy_axis_true,\n",
    ")"
   ]
  },
  {
   "cell_type": "markdown",
   "id": "bb10fa31",
   "metadata": {},
   "source": [
    "Now we create its associated maker. Here we need to produce, counts, exposure and edisp (energy dispersion) entries. PSF and IRF background are not needed, therefore we don't compute them.\n",
    "\n",
    "**IMPORTANT**: Note that `use_region_center` is set to `False`. This is necessary so that the `~gammapy.makers.SpectrumDatasetMaker` considers the whole region in the IRF computation and not only the center."
   ]
  },
  {
   "cell_type": "code",
   "execution_count": null,
   "id": "cd441520",
   "metadata": {},
   "outputs": [],
   "source": [
    "maker = SpectrumDatasetMaker(\n",
    "    selection=[\"counts\", \"exposure\", \"edisp\"], use_region_center=False\n",
    ")"
   ]
  },
  {
   "cell_type": "markdown",
   "id": "bbed789f",
   "metadata": {},
   "source": [
    "Now we create the OFF background maker for the spectra. If we have an exclusion region, we have to pass it here. We also define the safe range maker."
   ]
  },
  {
   "cell_type": "code",
   "execution_count": null,
   "id": "28b45158",
   "metadata": {},
   "outputs": [],
   "source": [
    "bkg_maker = ReflectedRegionsBackgroundMaker()\n",
    "safe_mask_maker = SafeMaskMaker(methods=[\"aeff-max\"], aeff_percent=10)"
   ]
  },
  {
   "cell_type": "markdown",
   "id": "32964ba5",
   "metadata": {},
   "source": [
    "## Perform the data reduction loop.\n",
    "\n",
    "We can now run over selected observations. For each of them, we:\n",
    "- create the `~gammapy.datasets.SpectrumDataset`\n",
    "- Compute the OFF via the reflected background method and create a `~gammapy.datasets.SpectrumDatasetOnOff` object\n",
    "- Run the safe mask maker on it\n",
    "- Add the `~gammapy.datasets.SpectrumDatasetOnOff` to the list."
   ]
  },
  {
   "cell_type": "code",
   "execution_count": null,
   "id": "9a87bd9f",
   "metadata": {},
   "outputs": [],
   "source": [
    "%%time\n",
    "datasets = Datasets()\n",
    "\n",
    "for obs in observations:\n",
    "    # A SpectrumDataset is filled in this geometry\n",
    "    dataset = maker.run(dataset_empty.copy(name=f\"obs-{obs.obs_id}\"), obs)\n",
    "\n",
    "    # Define safe mask\n",
    "    dataset = safe_mask_maker.run(dataset, obs)\n",
    "\n",
    "    # Compute OFF\n",
    "    dataset = bkg_maker.run(dataset, obs)\n",
    "\n",
    "    # Append dataset to the list\n",
    "    datasets.append(dataset)"
   ]
  },
  {
   "cell_type": "code",
   "execution_count": null,
   "id": "e31ee4b5",
   "metadata": {},
   "outputs": [],
   "source": [
    "datasets.meta_table"
   ]
  },
  {
   "cell_type": "markdown",
   "id": "b043643c",
   "metadata": {},
   "source": [
    "## Explore the results\n",
    "We can peek at the content of the spectrum datasets"
   ]
  },
  {
   "cell_type": "code",
   "execution_count": null,
   "id": "174947b0",
   "metadata": {},
   "outputs": [],
   "source": [
    "datasets[0].peek();"
   ]
  },
  {
   "cell_type": "markdown",
   "id": "e50f4392",
   "metadata": {},
   "source": [
    "### Cumulative excess and signficance\n",
    "\n",
    "Finally, we can look at cumulative significance and number of excesses. This is done with the `info_table` method of `~gammapy.datasets.Datasets`. "
   ]
  },
  {
   "cell_type": "code",
   "execution_count": null,
   "id": "2782634b",
   "metadata": {},
   "outputs": [],
   "source": [
    "info_table = datasets.info_table(cumulative=True)"
   ]
  },
  {
   "cell_type": "code",
   "execution_count": null,
   "id": "c047aa4d",
   "metadata": {},
   "outputs": [],
   "source": [
    "info_table"
   ]
  },
  {
   "cell_type": "code",
   "execution_count": null,
   "id": "16970d5a",
   "metadata": {},
   "outputs": [],
   "source": [
    "fig = plt.figure(figsize=(10, 6))\n",
    "ax = fig.add_subplot(121)\n",
    "ax.plot(\n",
    "    info_table[\"livetime\"].to(\"h\"),\n",
    "    info_table[\"excess\"],\n",
    "    marker=\"o\",\n",
    "    ls=\"none\",\n",
    ")\n",
    "\n",
    "plt.xlabel(\"Livetime [h]\")\n",
    "plt.ylabel(\"Excess events\")\n",
    "\n",
    "ax = fig.add_subplot(122)\n",
    "ax.plot(\n",
    "    info_table[\"livetime\"].to(\"h\"),\n",
    "    info_table[\"sqrt_ts\"],\n",
    "    marker=\"o\",\n",
    "    ls=\"none\",\n",
    ")\n",
    "\n",
    "plt.xlabel(\"Livetime [h]\")\n",
    "plt.ylabel(\"Sqrt(TS)\");"
   ]
  },
  {
   "cell_type": "markdown",
   "id": "bc513ffd",
   "metadata": {},
   "source": [
    "## Perform spectral model fitting\n",
    "\n",
    "Here we perform a joint fit. \n",
    "\n",
    "We first create the model, here a simple powerlaw, and assign it to every dataset in the `~gammapy.datasets.Datasets`."
   ]
  },
  {
   "cell_type": "code",
   "execution_count": null,
   "id": "93d5b6d1",
   "metadata": {},
   "outputs": [],
   "source": [
    "spectral_model = PowerLawSpectralModel(\n",
    "    index=2, amplitude=2e-11 * u.Unit(\"cm-2 s-1 TeV-1\"), reference=1 * u.TeV\n",
    ")\n",
    "model = SkyModel(spectral_model=spectral_model, name=\"RXJ 1713\")\n",
    "\n",
    "datasets.models = [model]"
   ]
  },
  {
   "cell_type": "markdown",
   "id": "b1eb2c1d",
   "metadata": {},
   "source": [
    "Now we can run the fit"
   ]
  },
  {
   "cell_type": "code",
   "execution_count": null,
   "id": "d203a0f8",
   "metadata": {},
   "outputs": [],
   "source": [
    "fit_joint = Fit()\n",
    "result_joint = fit_joint.run(datasets=datasets)\n",
    "print(result_joint)"
   ]
  },
  {
   "cell_type": "markdown",
   "id": "bcac5859",
   "metadata": {},
   "source": [
    "### Explore the fit results\n",
    "\n",
    "First the fitted parameters values and their errors."
   ]
  },
  {
   "cell_type": "code",
   "execution_count": null,
   "id": "559602d9",
   "metadata": {},
   "outputs": [],
   "source": [
    "datasets.models.to_parameters_table()"
   ]
  },
  {
   "cell_type": "markdown",
   "id": "7489465a",
   "metadata": {},
   "source": [
    "Then plot the fit result to compare measured and expected counts. Rather than plotting them for each individual dataset, we stack all datasets and plot the fit result on the result."
   ]
  },
  {
   "cell_type": "code",
   "execution_count": null,
   "id": "fab9144a",
   "metadata": {
    "nbsphinx-thumbnail": {
     "tooltip": "Perform a spectral analysis of an extended source."
    }
   },
   "outputs": [],
   "source": [
    "# First stack them all\n",
    "reduced = datasets.stack_reduce()\n",
    "# Assign the fitted model\n",
    "reduced.models = model\n",
    "# Plot the result\n",
    "\n",
    "ax_spectrum, ax_residuals = reduced.plot_fit()\n",
    "reduced.plot_masks(ax=ax_spectrum);"
   ]
  },
  {
   "cell_type": "code",
   "execution_count": null,
   "id": "4e8ad42e",
   "metadata": {},
   "outputs": [],
   "source": []
  }
 ],
 "metadata": {
  "kernelspec": {
   "display_name": "Python 3 (ipykernel)",
   "language": "python",
   "name": "python3"
  },
  "language_info": {
   "codemirror_mode": {
    "name": "ipython",
    "version": 3
   },
   "file_extension": ".py",
   "mimetype": "text/x-python",
   "name": "python",
   "nbconvert_exporter": "python",
   "pygments_lexer": "ipython3",
   "version": "3.9.0"
  },
  "latex_envs": {
   "LaTeX_envs_menu_present": true,
   "autoclose": false,
   "autocomplete": true,
   "bibliofile": "biblio.bib",
   "cite_by": "apalike",
   "current_citInitial": 1,
   "eqLabelWithNumbers": true,
   "eqNumInitial": 1,
   "hotkeys": {
    "equation": "Ctrl-E",
    "itemize": "Ctrl-I"
   },
   "labels_anchors": false,
   "latex_user_defs": false,
   "report_style_numbering": false,
   "user_envs_cfg": false
  }
 },
 "nbformat": 4,
 "nbformat_minor": 5
}
