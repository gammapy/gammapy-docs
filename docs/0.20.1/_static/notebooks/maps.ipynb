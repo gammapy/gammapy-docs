{
 "cells": [
  {
   "cell_type": "markdown",
   "id": "d4f6a6b2",
   "metadata": {},
   "source": [
    "# Maps\n",
    "\n",
    "![Gammapy Maps Illustration](../images/gammapy_maps.png)\n",
    "\n",
    "## Introduction\n",
    "\n",
    "The `~gammapy.maps` submodule contains classes for representing pixilised data on the sky with an arbitrary number of non-spatial dimensions such as energy, time, event class or any possible user-defined dimension (illustrated in the image above). The main `Map` data structure features a uniform API for [WCS](https://fits.gsfc.nasa.gov/fits_wcs.html) as well as [HEALPix](https://en.wikipedia.org/wiki/HEALPix) based images. The API also generalizes simple image based operations such as smoothing, interpolation and reprojection to the arbitrary extra dimensions and makes working with (2 + N)-dimensional hypercubes as easy as working with a simple 2D image. Further information is also provided on the `~gammapy.maps` docs page.\n",
    "\n",
    "In the following introduction we will learn all the basics of working with WCS based maps. HEALPix based maps will be covered in a future tutorial.\n",
    "Make sure you have worked through the [Gammapy overview](../starting/overview.ipynb), because a solid knowledge about working with `SkyCoord` and `Quantity` objects as well as [Numpy](http://www.numpy.org/) is required for this tutorial.\n",
    "\n",
    "This notebook is rather lengthy, but getting to know the `Map` data structure in detail is essential for working with Gammapy and will allow you to fulfill complex analysis tasks with very few and simple code in future!"
   ]
  },
  {
   "cell_type": "markdown",
   "id": "ae592340",
   "metadata": {},
   "source": [
    "## Setup"
   ]
  },
  {
   "cell_type": "code",
   "execution_count": null,
   "id": "6946c33d",
   "metadata": {},
   "outputs": [],
   "source": [
    "%matplotlib inline\n",
    "import numpy as np\n",
    "import matplotlib.pyplot as plt\n",
    "import os"
   ]
  },
  {
   "cell_type": "code",
   "execution_count": null,
   "id": "fa0fa442",
   "metadata": {},
   "outputs": [],
   "source": [
    "from astropy import units as u\n",
    "from astropy.io import fits\n",
    "from astropy.table import Table\n",
    "from astropy.coordinates import SkyCoord\n",
    "from astropy.convolution import convolve\n",
    "from gammapy.maps import Map, MapAxis, WcsGeom, WcsNDMap\n",
    "from gammapy.data import EventList"
   ]
  },
  {
   "cell_type": "markdown",
   "id": "1b52340c",
   "metadata": {},
   "source": [
    "## Creating WCS Maps\n",
    "\n",
    "### Using Factory Methods\n",
    "\n",
    "Maps are most easily created using the `~gammapy.maps.Map.create()` factory method:"
   ]
  },
  {
   "cell_type": "code",
   "execution_count": null,
   "id": "1e9ef11c",
   "metadata": {},
   "outputs": [],
   "source": [
    "m_allsky = Map.create()"
   ]
  },
  {
   "cell_type": "markdown",
   "id": "4697e295",
   "metadata": {},
   "source": [
    "Calling `Map.create()` without any further arguments creates by default an allsky WCS map using a CAR projection, ICRS coordinates and a pixel size of 1 deg. This can be easily checked by printing the `.geom` attribute of the map:"
   ]
  },
  {
   "cell_type": "code",
   "execution_count": null,
   "id": "47e73c10",
   "metadata": {},
   "outputs": [],
   "source": [
    "print(m_allsky.geom)"
   ]
  },
  {
   "cell_type": "markdown",
   "id": "f170b171",
   "metadata": {},
   "source": [
    "The `.geom` attribute is a `Geom` object, that defines the basic geometry of the map, such as size of the pixels, width and height of the image, coordinate system etc., but we will learn more about this object later.\n",
    "\n",
    "Besides the `.geom` attribute the map has also a `.data` attribute, which is just a plain `numpy.ndarray` and stores the data associated with this map:"
   ]
  },
  {
   "cell_type": "code",
   "execution_count": null,
   "id": "194a12d2",
   "metadata": {},
   "outputs": [],
   "source": [
    "m_allsky.data"
   ]
  },
  {
   "cell_type": "markdown",
   "id": "138cdf43",
   "metadata": {},
   "source": [
    "By default maps are filled with zeros.\n",
    "\n",
    "The `map_type` argument can be used to control the pixelization scheme (WCS or HPX)."
   ]
  },
  {
   "cell_type": "code",
   "execution_count": null,
   "id": "fc59db30",
   "metadata": {},
   "outputs": [],
   "source": [
    "position = SkyCoord(0.0, 5.0, frame=\"galactic\", unit=\"deg\")\n",
    "\n",
    "# Create a WCS Map\n",
    "m_wcs = Map.create(binsz=0.1, map_type=\"wcs\", skydir=position, width=10.0)\n",
    "\n",
    "# Create a HPX Map\n",
    "m_hpx = Map.create(binsz=0.1, map_type=\"hpx\", skydir=position, width=10.0)"
   ]
  },
  {
   "cell_type": "markdown",
   "id": "7cee40e2",
   "metadata": {},
   "source": [
    "Here is an example that creates a WCS map centered on the Galactic center and now uses Galactic coordinates:"
   ]
  },
  {
   "cell_type": "code",
   "execution_count": null,
   "id": "4f91d194",
   "metadata": {},
   "outputs": [],
   "source": [
    "skydir = SkyCoord(0, 0, frame=\"galactic\", unit=\"deg\")\n",
    "m_gc = Map.create(\n",
    "    binsz=0.02, width=(10, 5), skydir=skydir, frame=\"galactic\", proj=\"TAN\"\n",
    ")\n",
    "print(m_gc.geom)"
   ]
  },
  {
   "cell_type": "markdown",
   "id": "d31d2259",
   "metadata": {},
   "source": [
    "In addition we have defined a TAN projection, a pixel size of `0.02` deg and a width of the map of `10 deg x 5 deg`. The `width` argument also takes scalar value instead of a tuple, which is interpreted as both the width and height of the map, so that a quadratic map is created."
   ]
  },
  {
   "cell_type": "markdown",
   "id": "b492e5ce",
   "metadata": {},
   "source": [
    "### Creating from a Map Geometry\n",
    "\n",
    "As we have seen in the first examples, the `Map` object couples the data (stored as a `numpy.ndarray`) with a `Geom` object. The `Geom` object can be seen as a generalization of an `astropy.wcs.WCS` object, providing the information on how the data maps to physical coordinate systems. In some cases e.g. when creating many maps with the same WCS geometry it can be advantegeous to first create the map geometry independent of the map object itsself: "
   ]
  },
  {
   "cell_type": "code",
   "execution_count": null,
   "id": "9f4ba246",
   "metadata": {},
   "outputs": [],
   "source": [
    "wcs_geom = WcsGeom.create(\n",
    "    binsz=0.02, width=(10, 5), skydir=(0, 0), frame=\"galactic\"\n",
    ")"
   ]
  },
  {
   "cell_type": "markdown",
   "id": "08609f6d",
   "metadata": {},
   "source": [
    "And then create the map objects from the `wcs_geom` geometry specification:"
   ]
  },
  {
   "cell_type": "code",
   "execution_count": null,
   "id": "8f10a429",
   "metadata": {},
   "outputs": [],
   "source": [
    "maps = {}\n",
    "\n",
    "for name in [\"counts\", \"background\"]:\n",
    "    maps[name] = Map.from_geom(wcs_geom)"
   ]
  },
  {
   "cell_type": "markdown",
   "id": "3c5799bd",
   "metadata": {},
   "source": [
    "The `Geom` object also has a few helpful methods. E.g. we can check whether a given position on the sky is contained in the map geometry:"
   ]
  },
  {
   "cell_type": "code",
   "execution_count": null,
   "id": "a597bae5",
   "metadata": {},
   "outputs": [],
   "source": [
    "# define the position of the Galactic center and anti-center\n",
    "positions = SkyCoord([0, 180], [0, 0], frame=\"galactic\", unit=\"deg\")\n",
    "wcs_geom.contains(positions)"
   ]
  },
  {
   "cell_type": "markdown",
   "id": "68d14a4d",
   "metadata": {},
   "source": [
    "Or get the image center of the map:"
   ]
  },
  {
   "cell_type": "code",
   "execution_count": null,
   "id": "04bdfb4b",
   "metadata": {},
   "outputs": [],
   "source": [
    "wcs_geom.center_skydir"
   ]
  },
  {
   "cell_type": "markdown",
   "id": "b9a0db19",
   "metadata": {},
   "source": [
    "Or we can also retrieve the solid angle per pixel of the map:"
   ]
  },
  {
   "cell_type": "code",
   "execution_count": null,
   "id": "514d7307",
   "metadata": {},
   "outputs": [],
   "source": [
    "wcs_geom.solid_angle()"
   ]
  },
  {
   "cell_type": "markdown",
   "id": "a32d51d8",
   "metadata": {},
   "source": [
    "### Adding Non-Spatial Axes\n",
    "\n",
    "In many analysis scenarios we would like to add extra dimension to the maps to study e.g. energy or time dependency of the data. Those non-spatial dimensions are handled with the `MapAxis` object. Let us first define an energy axis, with 4 bins:"
   ]
  },
  {
   "cell_type": "code",
   "execution_count": null,
   "id": "a2b271bb",
   "metadata": {},
   "outputs": [],
   "source": [
    "energy_axis = MapAxis.from_bounds(\n",
    "    1, 100, nbin=4, unit=\"TeV\", name=\"energy\", interp=\"log\"\n",
    ")\n",
    "print(energy_axis)"
   ]
  },
  {
   "cell_type": "markdown",
   "id": "3f21baa6",
   "metadata": {},
   "source": [
    "Where `interp='log'` specifies that a logarithmic spacing is used between the bins, equivalent to `np.logspace(0, 2, 4)`. This `MapAxis` object we can now pass to `Map.create()` using the `axes=` argument:"
   ]
  },
  {
   "cell_type": "code",
   "execution_count": null,
   "id": "37522bfc",
   "metadata": {},
   "outputs": [],
   "source": [
    "m_cube = Map.create(\n",
    "    binsz=0.02, width=(10, 5), frame=\"galactic\", axes=[energy_axis]\n",
    ")\n",
    "print(m_cube.geom)"
   ]
  },
  {
   "cell_type": "markdown",
   "id": "6d7deee5",
   "metadata": {},
   "source": [
    "Now we see that besides `lon` and `lat` the map has an additional axes named `energy` with 4 bins. The total dimension of the map is now `ndim=3`.\n",
    "\n",
    "We can also add further axes by passing a list of `MapAxis` objects. To demonstrate this we create a time axis with\n",
    "linearly spaced bins and pass both axes to `Map.create()`:"
   ]
  },
  {
   "cell_type": "code",
   "execution_count": null,
   "id": "4be4aabd",
   "metadata": {},
   "outputs": [],
   "source": [
    "time_axis = MapAxis.from_bounds(\n",
    "    0, 24, nbin=24, unit=\"hour\", name=\"time\", interp=\"lin\"\n",
    ")\n",
    "\n",
    "m_4d = Map.create(\n",
    "    binsz=0.02, width=(10, 5), frame=\"galactic\", axes=[energy_axis, time_axis]\n",
    ")\n",
    "print(m_4d.geom)"
   ]
  },
  {
   "cell_type": "markdown",
   "id": "69af55de",
   "metadata": {},
   "source": [
    "The `MapAxis` object internally stores the coordinates or \"position values\" associated with every map axis bin or \"node\". We distinguish between two node types: `edges` and `center`. The node type `edges`(which is also the default) specifies that the data associated with this axis is integrated between the edges of the bin (e.g. counts data). The node type `center` specifies that the data is given at the center of the bin (e.g. exposure or differential fluxes).\n",
    "\n",
    "The edges of the bins can be checked with `.edges` attribute:"
   ]
  },
  {
   "cell_type": "code",
   "execution_count": null,
   "id": "a4e44e7a",
   "metadata": {},
   "outputs": [],
   "source": [
    "energy_axis.edges"
   ]
  },
  {
   "cell_type": "markdown",
   "id": "bbaf37ba",
   "metadata": {},
   "source": [
    "The numbers are given in the units we specified above, which can be checked again with:"
   ]
  },
  {
   "cell_type": "code",
   "execution_count": null,
   "id": "ff6cb59a",
   "metadata": {},
   "outputs": [],
   "source": [
    "energy_axis.unit"
   ]
  },
  {
   "cell_type": "markdown",
   "id": "053bfa4f",
   "metadata": {},
   "source": [
    "The centers of the axis bins can be checked with the `.center` attribute:"
   ]
  },
  {
   "cell_type": "code",
   "execution_count": null,
   "id": "11e4946b",
   "metadata": {},
   "outputs": [],
   "source": [
    "energy_axis.center"
   ]
  },
  {
   "cell_type": "markdown",
   "id": "76975668",
   "metadata": {},
   "source": [
    "## Reading and Writing\n",
    "\n",
    "Gammapy `Map` objects are serialized using the Flexible Image Transport Format (FITS). Depending on the pixelisation scheme (HEALPix or WCS) and presence of non-spatial dimensions the actual convention to write the FITS file is different.\n",
    "By default Gammpy uses a generic convention named `gadf`, which will support WCS and HEALPix formats as well as an arbitrary number of non-spatial axes. The convention is documented in detail on the [Gamma Astro Data Formats](https://gamma-astro-data-formats.readthedocs.io/en/latest/skymaps/index.html) page.\n",
    "\n",
    "Other conventions required by specific software (e.g. the Fermi Science Tools) are supported as well. At the moment those are the following\n",
    "\n",
    "* `fgst-ccube`: Fermi counts cube format.\n",
    "* `fgst-ltcube`: Fermi livetime cube format.\n",
    "* `fgst-bexpcube`: Fermi exposure cube format\n",
    "* `fgst-template`: Fermi Galactic diffuse and source template format. \n",
    "* `fgst-srcmap` and `fgst-srcmap-sparse`: Fermi source map and sparse source map format.\n",
    "\n",
    "The conventions listed above only support an additional energy axis. \n",
    "\n",
    "### Reading Maps\n",
    "\n",
    "Reading FITS files is mainly exposed via the `Map.read()` method.Let us take a look at a first example: "
   ]
  },
  {
   "cell_type": "code",
   "execution_count": null,
   "id": "d96a4709",
   "metadata": {},
   "outputs": [],
   "source": [
    "filename = \"$GAMMAPY_DATA/fermi-3fhl-gc/fermi-3fhl-gc-counts.fits.gz\"\n",
    "m_3fhl_gc = Map.read(filename)\n",
    "print(m_3fhl_gc)"
   ]
  },
  {
   "cell_type": "markdown",
   "id": "d4474538",
   "metadata": {},
   "source": [
    "If `map_type` argument is not given when calling read a map object will be instantiated with the pixelization of the input HDU.\n",
    "\n",
    "By default `Map.read()` will try to find the first valid data hdu in the filename and read the data from there. If multiple HDUs are present in the FITS file, the desired one can be chosen with the additional `hdu=` argument:"
   ]
  },
  {
   "cell_type": "code",
   "execution_count": null,
   "id": "575ca881",
   "metadata": {},
   "outputs": [],
   "source": [
    "m_3fhl_gc = Map.read(filename, hdu=\"PRIMARY\")\n",
    "print(m_3fhl_gc)"
   ]
  },
  {
   "cell_type": "markdown",
   "id": "671226aa",
   "metadata": {},
   "source": [
    "In rare cases e.g. when the FITS file is not valid or meta data is missing from the header it can be necessary to modify the header of a certain HDU before creating the `Map` object. In this case we can use `astropy.io.fits` directly to read the FITS file:"
   ]
  },
  {
   "cell_type": "code",
   "execution_count": null,
   "id": "bed00ec5",
   "metadata": {},
   "outputs": [],
   "source": [
    "filename = (\n",
    "    os.environ[\"GAMMAPY_DATA\"]\n",
    "    + \"/fermi-3fhl-gc/fermi-3fhl-gc-exposure.fits.gz\"\n",
    ")\n",
    "hdulist = fits.open(filename)\n",
    "hdulist.info()"
   ]
  },
  {
   "cell_type": "markdown",
   "id": "09b04f69",
   "metadata": {},
   "source": [
    "And then modify the header keyword and use `Map.from_hdulist()` to create the `Map` object after:"
   ]
  },
  {
   "cell_type": "code",
   "execution_count": null,
   "id": "bfa699ef",
   "metadata": {},
   "outputs": [],
   "source": [
    "hdulist[\"PRIMARY\"].header[\"BUNIT\"] = \"cm2 s\"\n",
    "Map.from_hdulist(hdulist=hdulist)"
   ]
  },
  {
   "cell_type": "markdown",
   "id": "47b62da7",
   "metadata": {},
   "source": [
    "### Writing Maps\n",
    "\n",
    "Writing FITS files is mainoy exposure via the `Map.write()` method. Here is a first example:"
   ]
  },
  {
   "cell_type": "code",
   "execution_count": null,
   "id": "15fe63d8",
   "metadata": {},
   "outputs": [],
   "source": [
    "m_cube.write(\"example_cube.fits\", overwrite=True)"
   ]
  },
  {
   "cell_type": "markdown",
   "id": "646eabf6",
   "metadata": {},
   "source": [
    "By default Gammapy does not overwrite files. In this example we set `overwrite=True` in case the cell gets executed multiple times. Now we can read back the cube from disk using `Map.read()`:"
   ]
  },
  {
   "cell_type": "code",
   "execution_count": null,
   "id": "8dfb8353",
   "metadata": {},
   "outputs": [],
   "source": [
    "m_cube = Map.read(\"example_cube.fits\")\n",
    "print(m_cube)"
   ]
  },
  {
   "cell_type": "markdown",
   "id": "36d436f0",
   "metadata": {},
   "source": [
    "We can also choose a different FITS convention to write the example cube in a format compatible to the Fermi Galactic diffuse background model:"
   ]
  },
  {
   "cell_type": "code",
   "execution_count": null,
   "id": "d20191bb",
   "metadata": {},
   "outputs": [],
   "source": [
    "m_cube.write(\"example_cube_fgst.fits\", format=\"fgst-template\", overwrite=True)"
   ]
  },
  {
   "cell_type": "markdown",
   "id": "1605ca61",
   "metadata": {},
   "source": [
    "To understand a little bit better the generic `gadf` convention we use `Map.to_hdulist()` to generate a list of FITS HDUs first:   "
   ]
  },
  {
   "cell_type": "code",
   "execution_count": null,
   "id": "f3f5cf24",
   "metadata": {},
   "outputs": [],
   "source": [
    "hdulist = m_4d.to_hdulist(format=\"gadf\")\n",
    "hdulist.info()"
   ]
  },
  {
   "cell_type": "markdown",
   "id": "1432c413",
   "metadata": {},
   "source": [
    "As we can see the `HDUList` object contains to HDUs. The first one named `PRIMARY` contains the data array with shape corresponding to our data and the WCS information stored in the header:"
   ]
  },
  {
   "cell_type": "code",
   "execution_count": null,
   "id": "05aef997",
   "metadata": {},
   "outputs": [],
   "source": [
    "hdulist[\"PRIMARY\"].header"
   ]
  },
  {
   "cell_type": "markdown",
   "id": "566e56ce",
   "metadata": {},
   "source": [
    "The second HDU is a `BinTableHDU` named `PRIMARY_BANDS` contains the information on the non-spatial axes such as name, order, unit, min, max and center values of the axis bins. We use an `astropy.table.Table` to show the information:"
   ]
  },
  {
   "cell_type": "code",
   "execution_count": null,
   "id": "aaf9c1ac",
   "metadata": {},
   "outputs": [],
   "source": [
    "Table.read(hdulist[\"PRIMARY_BANDS\"])"
   ]
  },
  {
   "cell_type": "markdown",
   "id": "39cfcbb7",
   "metadata": {},
   "source": [
    "Maps can be serialized to a sparse data format by calling write with `sparse=True`. This will write all non-zero pixels in the map to a data table appropriate to the pixelization scheme."
   ]
  },
  {
   "cell_type": "code",
   "execution_count": null,
   "id": "c99822c2",
   "metadata": {},
   "outputs": [],
   "source": [
    "m = Map.create(binsz=0.1, map_type=\"wcs\", width=10.0)\n",
    "m.write(\"file.fits\", hdu=\"IMAGE\", sparse=True, overwrite=True)\n",
    "m = Map.read(\"file.fits\", hdu=\"IMAGE\", map_type=\"wcs\")"
   ]
  },
  {
   "cell_type": "markdown",
   "id": "17352e73",
   "metadata": {},
   "source": [
    "##  Accessing Data\n",
    "\n",
    "### How to get data values\n",
    "\n",
    "All map objects have a set of accessor methods, which can be used to access or update the contents of the map irrespective of its underlying representation. Those accessor methods accept as their first argument a coordinate `tuple` containing scalars, `list`, or `numpy.ndarray` with one tuple element for each dimension. Some methods additionally accept a `dict` or `MapCoord` argument, of which both allow to assign coordinates by axis name.\n",
    "\n",
    "Let us first begin with the `.get_by_idx()` method, that accepts a tuple of indices. The order of the indices corresponds to the axis order of the map: "
   ]
  },
  {
   "cell_type": "code",
   "execution_count": null,
   "id": "b9d16608",
   "metadata": {},
   "outputs": [],
   "source": [
    "m_gc.get_by_idx((50, 30))"
   ]
  },
  {
   "cell_type": "markdown",
   "id": "1b4ac640",
   "metadata": {},
   "source": [
    "**Important:** Gammapy uses a reversed index order in the map API with the longitude axes first. To achieve the same by directly indexing into the numpy array we have to call:  "
   ]
  },
  {
   "cell_type": "code",
   "execution_count": null,
   "id": "ff6b07c8",
   "metadata": {},
   "outputs": [],
   "source": [
    "m_gc.data[([30], [50])]"
   ]
  },
  {
   "cell_type": "markdown",
   "id": "23f75e81",
   "metadata": {},
   "source": [
    "To check the order of the axes you can always print the `.geom` attribute:"
   ]
  },
  {
   "cell_type": "code",
   "execution_count": null,
   "id": "2c5929e8",
   "metadata": {},
   "outputs": [],
   "source": [
    "print(m_gc.geom)"
   ]
  },
  {
   "cell_type": "markdown",
   "id": "37d789aa",
   "metadata": {},
   "source": [
    "To access values directly by sky coordinates we can use the `.get_by_coord()` method. This time we pass in a `dict`, specifying the axes names corresponding to the given coordinates:"
   ]
  },
  {
   "cell_type": "code",
   "execution_count": null,
   "id": "7bcea9c2",
   "metadata": {},
   "outputs": [],
   "source": [
    "m_gc.get_by_coord({\"lon\": [0, 180], \"lat\": [0, 0]})"
   ]
  },
  {
   "cell_type": "markdown",
   "id": "26927415",
   "metadata": {},
   "source": [
    "The units of the coordinates are assumed to be in degrees in the coordinate system used by the map. If the coordinates do not correspond to the exact pixel center, the value of the nearest pixel center will be returned. For positions outside the map geometry `np.nan` is returned.\n",
    "\n",
    "The coordinate or idx arrays follow normal [Numpy broadcasting rules](https://jakevdp.github.io/PythonDataScienceHandbook/02.05-computation-on-arrays-broadcasting.html). So the following works as expected:\n",
    "\n"
   ]
  },
  {
   "cell_type": "code",
   "execution_count": null,
   "id": "f4c78263",
   "metadata": {},
   "outputs": [],
   "source": [
    "lons = np.linspace(-4, 4, 10)\n",
    "m_gc.get_by_coord({\"lon\": lons, \"lat\": 0})"
   ]
  },
  {
   "cell_type": "markdown",
   "id": "5b5c393e",
   "metadata": {},
   "source": [
    "Or as an even more advanced example, we can provide `lats` as column vector and broadcasting to a 2D result array will be applied:"
   ]
  },
  {
   "cell_type": "code",
   "execution_count": null,
   "id": "9f39de1a",
   "metadata": {},
   "outputs": [],
   "source": [
    "lons = np.linspace(-4, 4, 8)\n",
    "lats = np.linspace(-4, 4, 8).reshape(-1, 1)\n",
    "m_gc.get_by_coord({\"lon\": lons, \"lat\": lats})"
   ]
  },
  {
   "cell_type": "markdown",
   "id": "7fce49b8",
   "metadata": {},
   "source": [
    "### Indexing and Slicing Sub-Maps\n",
    "\n",
    "When you have worked with Numpy arrays in the past you are probably familiar with the concept of indexing and slicing\n",
    "into data arrays. To support slicing of non-spatial axes of `Map` objects, the `Map` object has a `.slice_by_idx()` method, which allows to extract sub-maps from a larger map.\n",
    "\n",
    "The following example demonstrates how to get the map at the energy bin number 3:  "
   ]
  },
  {
   "cell_type": "code",
   "execution_count": null,
   "id": "a2fd72c9",
   "metadata": {},
   "outputs": [],
   "source": [
    "m_sub = m_cube.slice_by_idx({\"energy\": 3})\n",
    "print(m_sub)"
   ]
  },
  {
   "cell_type": "markdown",
   "id": "b821661b",
   "metadata": {},
   "source": [
    "Note that the returned object is again a `Map` with updated axes information. In this case, because we extracted only a single image, the energy axes is dropped from the map.\n",
    "\n",
    "To extract a sub-cube with a sliced energy axes we can use a normal `slice()` object:"
   ]
  },
  {
   "cell_type": "code",
   "execution_count": null,
   "id": "f9edc22f",
   "metadata": {},
   "outputs": [],
   "source": [
    "m_sub = m_cube.slice_by_idx({\"energy\": slice(1, 3)})\n",
    "print(m_sub)"
   ]
  },
  {
   "cell_type": "markdown",
   "id": "19f3d75e",
   "metadata": {},
   "source": [
    "Note that the returned object is also a `Map` object, but this time with updated energy axis specification.\n",
    "\n",
    "Slicing of multiple dimensions is supported by adding further entries to the dict passed to `.slice_by_idx()`"
   ]
  },
  {
   "cell_type": "code",
   "execution_count": null,
   "id": "c909d2a9",
   "metadata": {},
   "outputs": [],
   "source": [
    "m_sub = m_4d.slice_by_idx({\"energy\": slice(1, 3), \"time\": slice(4, 10)})\n",
    "print(m_sub)"
   ]
  },
  {
   "cell_type": "markdown",
   "id": "6eeef990",
   "metadata": {},
   "source": [
    "For convenience there is also a `.get_image_by_coord()` method which allows to access image planes at given non-spatial physical coordinates. This method also supports `Quantity` objects:"
   ]
  },
  {
   "cell_type": "code",
   "execution_count": null,
   "id": "89ccc5e6",
   "metadata": {},
   "outputs": [],
   "source": [
    "image = m_4d.get_image_by_coord({\"energy\": 4 * u.TeV, \"time\": 5 * u.h})\n",
    "print(image.geom)"
   ]
  },
  {
   "cell_type": "markdown",
   "id": "0f50320b",
   "metadata": {},
   "source": [
    "### Iterating by image\n",
    "\n",
    "For maps with non-spatial dimensions the `~Map.iter_by_image_data` method can be used\n",
    "to loop over image slices. The image plane index ``idx`` is returned in data order,\n",
    "so that the data array can be indexed directly. Here is an example for an in-place\n",
    "convolution of an image using `astropy.convolution.convolve` to interpolate NaN\n",
    "values:"
   ]
  },
  {
   "cell_type": "code",
   "execution_count": null,
   "id": "a300bff9",
   "metadata": {},
   "outputs": [],
   "source": [
    "axis1 = MapAxis([1, 10, 100], interp=\"log\", name=\"energy\")\n",
    "axis2 = MapAxis([1, 2, 3], interp=\"lin\", name=\"time\")\n",
    "m = Map.create(width=(5, 3), axes=[axis1, axis2], binsz=0.1)\n",
    "m.data[:, :, 15:18, 20:25] = np.nan\n",
    "\n",
    "for img, idx in m.iter_by_image_data():\n",
    "    kernel = np.ones((5, 5))\n",
    "    m.data[idx] = convolve(img, kernel)\n",
    "\n",
    "assert not np.isnan(m.data).any()"
   ]
  },
  {
   "cell_type": "markdown",
   "id": "21d3e4d8",
   "metadata": {},
   "source": [
    "## Modifying Data\n",
    "\n",
    "### How to set data values\n",
    "\n",
    "To modify and set map data values the `Map` object features as well a `.set_by_idx()` method: \n"
   ]
  },
  {
   "cell_type": "code",
   "execution_count": null,
   "id": "588e4ff0",
   "metadata": {},
   "outputs": [],
   "source": [
    "m_cube.set_by_idx(idx=(10, 20, 3), vals=42)"
   ]
  },
  {
   "cell_type": "markdown",
   "id": "dc19503b",
   "metadata": {},
   "source": [
    "here we check that data have been updated:"
   ]
  },
  {
   "cell_type": "code",
   "execution_count": null,
   "id": "5cd34769",
   "metadata": {},
   "outputs": [],
   "source": [
    "m_cube.get_by_idx((10, 20, 3))"
   ]
  },
  {
   "cell_type": "markdown",
   "id": "321f99ff",
   "metadata": {},
   "source": [
    "Of course there is also a `.set_by_coord()` method, which allows to set map data values in physical coordinates. "
   ]
  },
  {
   "cell_type": "code",
   "execution_count": null,
   "id": "5890cc3c",
   "metadata": {},
   "outputs": [],
   "source": [
    "m_cube.set_by_coord({\"lon\": 0, \"lat\": 0, \"energy\": 2 * u.TeV}, vals=42)"
   ]
  },
  {
   "cell_type": "markdown",
   "id": "9dfce74e",
   "metadata": {},
   "source": [
    "Again the `lon` and `lat` values are assumed to be given in degrees in the coordinate system used by the map. For the energy axis, the unit is the one specified on the axis (use `m_cube.geom.axes[0].unit` to check if needed...).\n",
    "\n",
    "All `.xxx_by_coord()` methods accept `SkyCoord` objects as well. In this case we have to use the `skycoord` keyword instead of `lon` and `lat`:"
   ]
  },
  {
   "cell_type": "code",
   "execution_count": null,
   "id": "1d549fba",
   "metadata": {},
   "outputs": [],
   "source": [
    "skycoords = SkyCoord([1.2, 3.4], [-0.5, 1.1], frame=\"galactic\", unit=\"deg\")\n",
    "m_cube.set_by_coord({\"skycoord\": skycoords, \"energy\": 2 * u.TeV}, vals=42)"
   ]
  },
  {
   "cell_type": "markdown",
   "id": "d29f5a78",
   "metadata": {},
   "source": [
    "### Filling maps from event lists\n",
    "\n",
    "This example shows how to fill a counts cube from an event list:\n"
   ]
  },
  {
   "cell_type": "code",
   "execution_count": null,
   "id": "418ee8d1",
   "metadata": {
    "run_control": {
     "marked": false
    }
   },
   "outputs": [],
   "source": [
    "energy_axis = MapAxis.from_bounds(\n",
    "    10.0, 2e3, 12, interp=\"log\", name=\"energy\", unit=\"GeV\"\n",
    ")\n",
    "counts_3d = WcsNDMap.create(\n",
    "    binsz=0.1, width=10.0, skydir=(0, 0), frame=\"galactic\", axes=[energy_axis]\n",
    ")\n",
    "\n",
    "events = EventList.read(\n",
    "    \"$GAMMAPY_DATA/fermi-3fhl-gc/fermi-3fhl-gc-events.fits.gz\"\n",
    ")\n",
    "\n",
    "counts_3d.fill_by_coord({\"skycoord\": events.radec, \"energy\": events.energy})\n",
    "counts_3d.write(\"ccube.fits\", format=\"fgst-ccube\", overwrite=True)"
   ]
  },
  {
   "cell_type": "markdown",
   "id": "24c07635",
   "metadata": {},
   "source": [
    "Alternatively you can use the `fill_events` method:"
   ]
  },
  {
   "cell_type": "code",
   "execution_count": null,
   "id": "c4762828",
   "metadata": {},
   "outputs": [],
   "source": [
    "counts_3d = WcsNDMap.create(\n",
    "    binsz=0.1, width=10.0, skydir=(0, 0), frame=\"galactic\", axes=[energy_axis]\n",
    ")\n",
    "\n",
    "counts_3d.fill_events(events)"
   ]
  },
  {
   "cell_type": "markdown",
   "id": "497dc941",
   "metadata": {},
   "source": [
    "If you have a given map already, and want to make a counts image\n",
    "with the same geometry (not using the pixel data from the original map), you can also use the `fill_events` method.\n"
   ]
  },
  {
   "cell_type": "code",
   "execution_count": null,
   "id": "882cc7fd",
   "metadata": {},
   "outputs": [],
   "source": [
    "events = EventList.read(\n",
    "    \"$GAMMAPY_DATA/fermi-3fhl-gc/fermi-3fhl-gc-events.fits.gz\"\n",
    ")\n",
    "reference_map = Map.read(\n",
    "    \"$GAMMAPY_DATA/fermi-3fhl-gc/fermi-3fhl-gc-counts.fits.gz\"\n",
    ")\n",
    "counts = Map.from_geom(reference_map.geom)\n",
    "counts.fill_events(events)"
   ]
  },
  {
   "cell_type": "markdown",
   "id": "0ca21d58",
   "metadata": {},
   "source": [
    "It works for IACT and Fermi-LAT events, for WCS or HEALPix map geometries,\n",
    "and also for extra axes. Especially energy axes are automatically handled correctly.\n"
   ]
  },
  {
   "cell_type": "markdown",
   "id": "1afe2fc0",
   "metadata": {},
   "source": [
    "### Filling maps from interpolation\n",
    "\n",
    "Maps support interpolation via the `~Map.interp_by_coord` and\n",
    "`~Map.interp_by_pix` methods.  Currently the following interpolation methods are\n",
    "supported:\n",
    "\n",
    "* ``nearest`` : Return value of nearest pixel (no interpolation).\n",
    "* ``linear`` : Interpolation with first order polynomial.  This is the\n",
    "  only interpolation method that is supported for all map types.\n",
    "* ``quadratic`` : Interpolation with second order polynomial.\n",
    "* ``cubic`` : Interpolation with third order polynomial.\n",
    "\n",
    "Note that ``quadratic`` and ``cubic`` interpolation are currently only supported\n",
    "for WCS-based maps with regular geometry (e.g. 2D or ND with the same geometry\n",
    "in every image plane). ``linear`` and higher order interpolation by pixel\n",
    "coordinates is only supported for WCS-based maps.\n",
    "\n",
    "In the following example we create a new map and fill it by interpolating another map:\n"
   ]
  },
  {
   "cell_type": "code",
   "execution_count": null,
   "id": "b58908b8",
   "metadata": {},
   "outputs": [],
   "source": [
    "# read map\n",
    "filename = \"$GAMMAPY_DATA/fermi-3fhl-gc/gll_iem_v06_gc.fits.gz\"\n",
    "m_iem_gc = Map.read(filename)\n",
    "\n",
    "# create new geometry\n",
    "skydir = SkyCoord(266.4, -28.9, frame=\"icrs\", unit=\"deg\")\n",
    "wcs_geom_cel = WcsGeom.create(\n",
    "    skydir=skydir, binsz=0.1, frame=\"icrs\", width=(8, 4)\n",
    ")\n",
    "\n",
    "# create new empty map from geometry\n",
    "m_iem_10GeV = Map.from_geom(wcs_geom_cel)\n",
    "coords = m_iem_10GeV.geom.get_coord()\n",
    "\n",
    "# fill new map using interpolation\n",
    "m_iem_10GeV.data = m_iem_gc.interp_by_coord(\n",
    "    {\"skycoord\": coords.skycoord, \"energy_true\": 10 * u.GeV},\n",
    "    method=\"linear\",\n",
    "    fill_value=np.nan,\n",
    ")"
   ]
  },
  {
   "cell_type": "markdown",
   "id": "113c6c16",
   "metadata": {},
   "source": [
    "### Interpolating onto a different geometry"
   ]
  },
  {
   "cell_type": "markdown",
   "id": "72b988a8",
   "metadata": {},
   "source": [
    "For 3d geometries this operation can be performed directly using the `.interp_to_geom()` method. This is very useful, ex: while using map arithmetic."
   ]
  },
  {
   "cell_type": "code",
   "execution_count": null,
   "id": "fd7d2791",
   "metadata": {},
   "outputs": [],
   "source": [
    "# create new geometry\n",
    "energy_axis = MapAxis.from_bounds(\n",
    "    10.0, 2e3, 6, interp=\"log\", name=\"energy_true\", unit=\"GeV\"\n",
    ")\n",
    "skydir = SkyCoord(266.4, -28.9, frame=\"icrs\", unit=\"deg\")\n",
    "wcs_geom_3d = WcsGeom.create(\n",
    "    skydir=skydir, binsz=0.1, frame=\"icrs\", width=(8, 4), axes=[energy_axis]\n",
    ")\n",
    "\n",
    "# create the interpolated map\n",
    "m_iem_interp = m_iem_gc.interp_to_geom(\n",
    "    wcs_geom_3d, preserve_counts=False, method=\"linear\", fill_value=np.nan\n",
    ")\n",
    "print(m_iem_interp)"
   ]
  },
  {
   "cell_type": "markdown",
   "id": "021e9670",
   "metadata": {},
   "source": [
    "Note that `preserve_counts` option should be true if the map is an integral quantity (e.g. counts) and false if the map is a differential quantity (e.g. intensity)."
   ]
  },
  {
   "cell_type": "markdown",
   "id": "0fb39046",
   "metadata": {},
   "source": [
    "## Maps operations\n",
    "\n",
    "### Basic operators\n",
    "\n",
    "One can perform simple arithmetic on maps using the `+`, `-`, `*`, `/` operators, this works only for maps with the same geometry:"
   ]
  },
  {
   "cell_type": "code",
   "execution_count": null,
   "id": "8277f037",
   "metadata": {},
   "outputs": [],
   "source": [
    "iem_plus_iem = m_iem_10GeV + m_iem_10GeV\n",
    "\n",
    "iem_minus_iem = m_iem_10GeV - m_iem_10GeV"
   ]
  },
  {
   "cell_type": "markdown",
   "id": "70201f07",
   "metadata": {},
   "source": [
    "These operations can be applied between a Map and a scalar in that specific order:"
   ]
  },
  {
   "cell_type": "code",
   "execution_count": null,
   "id": "f07c304e",
   "metadata": {},
   "outputs": [],
   "source": [
    "iem_times_two = m_iem_10GeV * 2\n",
    "# iem_times_two = 2 * m_iem_10GeV # this won't work"
   ]
  },
  {
   "cell_type": "markdown",
   "id": "6c7ed990",
   "metadata": {},
   "source": [
    "The logic operators can also by applied on maps (the result is a map of boolean type):"
   ]
  },
  {
   "cell_type": "code",
   "execution_count": null,
   "id": "0fd511e0",
   "metadata": {},
   "outputs": [],
   "source": [
    "is_null = iem_minus_iem == 0\n",
    "print(is_null)"
   ]
  },
  {
   "cell_type": "markdown",
   "id": "cb8bb709",
   "metadata": {},
   "source": [
    "Here we check that the result is `True` for all the well-defiend pixels (not `NaN`):"
   ]
  },
  {
   "cell_type": "code",
   "execution_count": null,
   "id": "da654787",
   "metadata": {},
   "outputs": [],
   "source": [
    "np.all(is_null.data[~np.isnan(iem_minus_iem)])"
   ]
  },
  {
   "cell_type": "markdown",
   "id": "9118f254",
   "metadata": {},
   "source": [
    "### Cutouts\n",
    "\n",
    "The `WCSNDMap` objects features a `.cutout()` method, which allows you to cut out a smaller part of a larger map. This can be useful, e.g. when working with allsky diffuse maps. Here is an example: "
   ]
  },
  {
   "cell_type": "code",
   "execution_count": null,
   "id": "e7bd6b68",
   "metadata": {},
   "outputs": [],
   "source": [
    "position = SkyCoord(0, 0, frame=\"galactic\", unit=\"deg\")\n",
    "m_iem_cutout = m_iem_gc.cutout(position=position, width=(4 * u.deg, 2 * u.deg))"
   ]
  },
  {
   "cell_type": "markdown",
   "id": "af00eb57",
   "metadata": {},
   "source": [
    "The returned object is again a `Map` object with updated WCS information and data size. As one can see the cutout is automatically applied to all the non-spatial axes as well. The cutout width is given in the order of `(lon, lat)` and can be specified with units that will be handled correctly. "
   ]
  },
  {
   "cell_type": "markdown",
   "id": "0a67fa41",
   "metadata": {},
   "source": [
    "## Visualizing and Plotting\n",
    "\n",
    "\n",
    "All map objects provide a ``plot`` method for generating a visualization of a\n",
    "map.  This method returns figure, axes, and image objects that can be used to\n",
    "further tweak/customize the image. The `plot` method should be used with 2D maps, while 3D maps can be displayed with the `.plot_interative()` or `.plot_grid()` methods.\n",
    "\n",
    "\n",
    "### Image Plotting \n",
    "\n",
    "For debugging and inspecting the map data it is useful to plot or visualize the images planes contained in the map. "
   ]
  },
  {
   "cell_type": "code",
   "execution_count": null,
   "id": "9e8f15c8",
   "metadata": {},
   "outputs": [],
   "source": [
    "filename = \"$GAMMAPY_DATA/fermi-3fhl-gc/fermi-3fhl-gc-counts.fits.gz\"\n",
    "m_3fhl_gc = Map.read(filename)"
   ]
  },
  {
   "cell_type": "markdown",
   "id": "c3647d03",
   "metadata": {},
   "source": [
    "After reading the map we can now plot it on the screen by calling the `.plot()` method:"
   ]
  },
  {
   "cell_type": "code",
   "execution_count": null,
   "id": "99cb34a6",
   "metadata": {},
   "outputs": [],
   "source": [
    "m_3fhl_gc.plot();"
   ]
  },
  {
   "cell_type": "markdown",
   "id": "21008a14",
   "metadata": {},
   "source": [
    "We can easily improve the plot by calling `Map.smooth()` first and providing additional arguments to `.plot()`. Most of them are passed further to [plt.imshow()](https://matplotlib.org/api/_as_gen/matplotlib.pyplot.imshow.html):"
   ]
  },
  {
   "cell_type": "code",
   "execution_count": null,
   "id": "e05c9518",
   "metadata": {},
   "outputs": [],
   "source": [
    "smoothed = m_3fhl_gc.smooth(width=0.2 * u.deg, kernel=\"gauss\")\n",
    "smoothed.plot(stretch=\"sqrt\", add_cbar=True, vmax=4, cmap=\"inferno\");"
   ]
  },
  {
   "cell_type": "markdown",
   "id": "f963c37f",
   "metadata": {},
   "source": [
    "We can use the [plt.rc_context()](https://matplotlib.org/api/_as_gen/matplotlib.pyplot.rc_context.html) context manager to further tweak the plot by adapting the figure and font size:"
   ]
  },
  {
   "cell_type": "code",
   "execution_count": null,
   "id": "768bfe68",
   "metadata": {},
   "outputs": [],
   "source": [
    "rc_params = {\"figure.figsize\": (12, 5.4), \"font.size\": 12}\n",
    "with plt.rc_context(rc=rc_params):\n",
    "    smoothed = m_3fhl_gc.smooth(width=0.2 * u.deg, kernel=\"gauss\")\n",
    "    smoothed.plot(stretch=\"sqrt\", add_cbar=True, vmax=4);"
   ]
  },
  {
   "cell_type": "markdown",
   "id": "a32154dd",
   "metadata": {},
   "source": [
    "### Cube plotting \n",
    "\n",
    "For maps with non-spatial dimensions the `Map` object features an interactive plotting method, that works in jupyter notebooks only (Note: it requires the package `ipywidgets` to be installed). We first read a small example cutout from the Fermi Galactic diffuse model and display the data cube by calling `.plot_interactive()`:"
   ]
  },
  {
   "cell_type": "code",
   "execution_count": null,
   "id": "635b699e",
   "metadata": {},
   "outputs": [],
   "source": [
    "rc_params = {\n",
    "    \"figure.figsize\": (12, 5.4),\n",
    "    \"font.size\": 12,\n",
    "    \"axes.formatter.limits\": (2, -2),\n",
    "}\n",
    "m_iem_gc.plot_interactive(add_cbar=True, stretch=\"sqrt\", rc_params=rc_params)"
   ]
  },
  {
   "cell_type": "markdown",
   "id": "9896e47d",
   "metadata": {},
   "source": [
    "Now you can use the interactive slider to select an energy range and the corresponding image is displayed on the screen. You can also use the radio buttons to select your preferred image stretching. We have passed additional keywords using the `rc_params` argument to improve the figure and font size. Those keywords are directly passed to the [plt.rc_context()](https://matplotlib.org/api/_as_gen/matplotlib.pyplot.rc_context.html) context manager.\n",
    "\n",
    "Additionally all the slices of a 3D `Map` can be displayed using the `.plot_grid()` method. By default the colorbars bounds of the subplots are not the same, we can make them consistent using the `vmin` and `vmax` options:"
   ]
  },
  {
   "cell_type": "code",
   "execution_count": null,
   "id": "966a9428",
   "metadata": {
    "nbsphinx-thumbnail": {
     "tooltip": "A thorough tutorial to work with WCS maps."
    }
   },
   "outputs": [],
   "source": [
    "counts_3d.plot_grid(ncols=4, figsize=(16, 12), vmin=0, vmax=100, stretch=\"log\");"
   ]
  },
  {
   "cell_type": "code",
   "execution_count": null,
   "id": "a4d5cf8a",
   "metadata": {},
   "outputs": [],
   "source": []
  }
 ],
 "metadata": {
  "kernelspec": {
   "display_name": "Python 3",
   "language": "python",
   "name": "python3"
  },
  "language_info": {
   "codemirror_mode": {
    "name": "ipython",
    "version": 3
   },
   "file_extension": ".py",
   "mimetype": "text/x-python",
   "name": "python",
   "nbconvert_exporter": "python",
   "pygments_lexer": "ipython3",
   "version": "3.7.0"
  },
  "latex_envs": {
   "LaTeX_envs_menu_present": true,
   "autoclose": false,
   "autocomplete": true,
   "bibliofile": "biblio.bib",
   "cite_by": "apalike",
   "current_citInitial": 1,
   "eqLabelWithNumbers": true,
   "eqNumInitial": 1,
   "hotkeys": {
    "equation": "Ctrl-E",
    "itemize": "Ctrl-I"
   },
   "labels_anchors": false,
   "latex_user_defs": false,
   "report_style_numbering": false,
   "user_envs_cfg": false
  },
  "widgets": {
   "application/vnd.jupyter.widget-state+json": {
    "state": {
     "165bbe3c053b44fc9747fb9f234c2417": {
      "model_module": "@jupyter-widgets/output",
      "model_module_version": "1.0.0",
      "model_name": "OutputModel",
      "state": {
       "_dom_classes": [],
       "_model_module": "@jupyter-widgets/output",
       "_model_module_version": "1.0.0",
       "_model_name": "OutputModel",
       "_view_count": null,
       "_view_module": "@jupyter-widgets/output",
       "_view_module_version": "1.0.0",
       "_view_name": "OutputView",
       "layout": "IPY_MODEL_8772c8d1f8384b958f91805191d50235",
       "msg_id": "",
       "outputs": []
      }
     },
     "67f9b51530bf4e12bddf6d82aeb8b8f0": {
      "model_module": "@jupyter-widgets/controls",
      "model_module_version": "1.5.0",
      "model_name": "DescriptionStyleModel",
      "state": {
       "_model_module": "@jupyter-widgets/controls",
       "_model_module_version": "1.5.0",
       "_model_name": "DescriptionStyleModel",
       "_view_count": null,
       "_view_module": "@jupyter-widgets/base",
       "_view_module_version": "1.2.0",
       "_view_name": "StyleView",
       "description_width": "initial"
      }
     },
     "7b5cae29cd0440e0978d862d8e7d7021": {
      "model_module": "@jupyter-widgets/controls",
      "model_module_version": "1.5.0",
      "model_name": "DescriptionStyleModel",
      "state": {
       "_model_module": "@jupyter-widgets/controls",
       "_model_module_version": "1.5.0",
       "_model_name": "DescriptionStyleModel",
       "_view_count": null,
       "_view_module": "@jupyter-widgets/base",
       "_view_module_version": "1.2.0",
       "_view_name": "StyleView",
       "description_width": "initial"
      }
     },
     "8772c8d1f8384b958f91805191d50235": {
      "model_module": "@jupyter-widgets/base",
      "model_module_version": "1.2.0",
      "model_name": "LayoutModel",
      "state": {
       "_model_module": "@jupyter-widgets/base",
       "_model_module_version": "1.2.0",
       "_model_name": "LayoutModel",
       "_view_count": null,
       "_view_module": "@jupyter-widgets/base",
       "_view_module_version": "1.2.0",
       "_view_name": "LayoutView",
       "align_content": null,
       "align_items": null,
       "align_self": null,
       "border": null,
       "bottom": null,
       "display": null,
       "flex": null,
       "flex_flow": null,
       "grid_area": null,
       "grid_auto_columns": null,
       "grid_auto_flow": null,
       "grid_auto_rows": null,
       "grid_column": null,
       "grid_gap": null,
       "grid_row": null,
       "grid_template_areas": null,
       "grid_template_columns": null,
       "grid_template_rows": null,
       "height": null,
       "justify_content": null,
       "justify_items": null,
       "left": null,
       "margin": null,
       "max_height": null,
       "max_width": null,
       "min_height": null,
       "min_width": null,
       "object_fit": null,
       "object_position": null,
       "order": null,
       "overflow": null,
       "overflow_x": null,
       "overflow_y": null,
       "padding": null,
       "right": null,
       "top": null,
       "visibility": null,
       "width": null
      }
     },
     "8c0504fb9e774d88aab5a9aa1f7daaaa": {
      "model_module": "@jupyter-widgets/base",
      "model_module_version": "1.2.0",
      "model_name": "LayoutModel",
      "state": {
       "_model_module": "@jupyter-widgets/base",
       "_model_module_version": "1.2.0",
       "_model_name": "LayoutModel",
       "_view_count": null,
       "_view_module": "@jupyter-widgets/base",
       "_view_module_version": "1.2.0",
       "_view_name": "LayoutView",
       "align_content": null,
       "align_items": null,
       "align_self": null,
       "border": null,
       "bottom": null,
       "display": null,
       "flex": null,
       "flex_flow": null,
       "grid_area": null,
       "grid_auto_columns": null,
       "grid_auto_flow": null,
       "grid_auto_rows": null,
       "grid_column": null,
       "grid_gap": null,
       "grid_row": null,
       "grid_template_areas": null,
       "grid_template_columns": null,
       "grid_template_rows": null,
       "height": null,
       "justify_content": null,
       "justify_items": null,
       "left": null,
       "margin": null,
       "max_height": null,
       "max_width": null,
       "min_height": null,
       "min_width": null,
       "object_fit": null,
       "object_position": null,
       "order": null,
       "overflow": null,
       "overflow_x": null,
       "overflow_y": null,
       "padding": null,
       "right": null,
       "top": null,
       "visibility": null,
       "width": "50%"
      }
     },
     "959aeaca9c8b48a094873145ffef10c6": {
      "model_module": "@jupyter-widgets/base",
      "model_module_version": "1.2.0",
      "model_name": "LayoutModel",
      "state": {
       "_model_module": "@jupyter-widgets/base",
       "_model_module_version": "1.2.0",
       "_model_name": "LayoutModel",
       "_view_count": null,
       "_view_module": "@jupyter-widgets/base",
       "_view_module_version": "1.2.0",
       "_view_name": "LayoutView",
       "align_content": null,
       "align_items": null,
       "align_self": null,
       "border": null,
       "bottom": null,
       "display": null,
       "flex": null,
       "flex_flow": null,
       "grid_area": null,
       "grid_auto_columns": null,
       "grid_auto_flow": null,
       "grid_auto_rows": null,
       "grid_column": null,
       "grid_gap": null,
       "grid_row": null,
       "grid_template_areas": null,
       "grid_template_columns": null,
       "grid_template_rows": null,
       "height": null,
       "justify_content": null,
       "justify_items": null,
       "left": null,
       "margin": null,
       "max_height": null,
       "max_width": null,
       "min_height": null,
       "min_width": null,
       "object_fit": null,
       "object_position": null,
       "order": null,
       "overflow": null,
       "overflow_x": null,
       "overflow_y": null,
       "padding": null,
       "right": null,
       "top": null,
       "visibility": null,
       "width": null
      }
     },
     "97ca79ad83204a98968f69b36729e301": {
      "model_module": "@jupyter-widgets/controls",
      "model_module_version": "1.5.0",
      "model_name": "RadioButtonsModel",
      "state": {
       "_dom_classes": [],
       "_model_module": "@jupyter-widgets/controls",
       "_model_module_version": "1.5.0",
       "_model_name": "RadioButtonsModel",
       "_options_labels": [
        "linear",
        "sqrt",
        "log"
       ],
       "_view_count": null,
       "_view_module": "@jupyter-widgets/controls",
       "_view_module_version": "1.5.0",
       "_view_name": "RadioButtonsView",
       "description": "Select stretch:",
       "description_tooltip": null,
       "disabled": false,
       "index": 1,
       "layout": "IPY_MODEL_a4ffa90d854d40039b22aa4dcf407cd8",
       "style": "IPY_MODEL_67f9b51530bf4e12bddf6d82aeb8b8f0"
      }
     },
     "a4ffa90d854d40039b22aa4dcf407cd8": {
      "model_module": "@jupyter-widgets/base",
      "model_module_version": "1.2.0",
      "model_name": "LayoutModel",
      "state": {
       "_model_module": "@jupyter-widgets/base",
       "_model_module_version": "1.2.0",
       "_model_name": "LayoutModel",
       "_view_count": null,
       "_view_module": "@jupyter-widgets/base",
       "_view_module_version": "1.2.0",
       "_view_name": "LayoutView",
       "align_content": null,
       "align_items": null,
       "align_self": null,
       "border": null,
       "bottom": null,
       "display": null,
       "flex": null,
       "flex_flow": null,
       "grid_area": null,
       "grid_auto_columns": null,
       "grid_auto_flow": null,
       "grid_auto_rows": null,
       "grid_column": null,
       "grid_gap": null,
       "grid_row": null,
       "grid_template_areas": null,
       "grid_template_columns": null,
       "grid_template_rows": null,
       "height": null,
       "justify_content": null,
       "justify_items": null,
       "left": null,
       "margin": null,
       "max_height": null,
       "max_width": null,
       "min_height": null,
       "min_width": null,
       "object_fit": null,
       "object_position": null,
       "order": null,
       "overflow": null,
       "overflow_x": null,
       "overflow_y": null,
       "padding": null,
       "right": null,
       "top": null,
       "visibility": null,
       "width": null
      }
     },
     "d0376e517c494199814d81953eb3f95c": {
      "model_module": "@jupyter-widgets/controls",
      "model_module_version": "1.5.0",
      "model_name": "SelectionSliderModel",
      "state": {
       "_dom_classes": [],
       "_model_module": "@jupyter-widgets/controls",
       "_model_module_version": "1.5.0",
       "_model_name": "SelectionSliderModel",
       "_options_labels": [
        "5.85e+01 MeV MeV",
        "8.00e+01 MeV MeV",
        "1.09e+02 MeV MeV",
        "1.50e+02 MeV MeV",
        "2.05e+02 MeV MeV",
        "2.80e+02 MeV MeV",
        "3.83e+02 MeV MeV",
        "5.23e+02 MeV MeV",
        "7.16e+02 MeV MeV",
        "9.79e+02 MeV MeV",
        "1.34e+03 MeV MeV",
        "1.83e+03 MeV MeV",
        "2.50e+03 MeV MeV",
        "3.42e+03 MeV MeV",
        "4.68e+03 MeV MeV",
        "6.41e+03 MeV MeV",
        "8.76e+03 MeV MeV",
        "1.20e+04 MeV MeV",
        "1.64e+04 MeV MeV",
        "2.24e+04 MeV MeV",
        "3.06e+04 MeV MeV",
        "4.19e+04 MeV MeV",
        "5.73e+04 MeV MeV",
        "7.84e+04 MeV MeV",
        "1.07e+05 MeV MeV",
        "1.47e+05 MeV MeV",
        "2.01e+05 MeV MeV",
        "2.74e+05 MeV MeV",
        "3.75e+05 MeV MeV",
        "5.13e+05 MeV MeV"
       ],
       "_view_count": null,
       "_view_module": "@jupyter-widgets/controls",
       "_view_module_version": "1.5.0",
       "_view_name": "SelectionSliderView",
       "continuous_update": false,
       "description": "Select energy_true:",
       "description_tooltip": null,
       "disabled": false,
       "index": 0,
       "layout": "IPY_MODEL_8c0504fb9e774d88aab5a9aa1f7daaaa",
       "orientation": "horizontal",
       "readout": true,
       "style": "IPY_MODEL_7b5cae29cd0440e0978d862d8e7d7021"
      }
     },
     "fcb67bef27fd4f3f89975aa73d805b39": {
      "model_module": "@jupyter-widgets/controls",
      "model_module_version": "1.5.0",
      "model_name": "VBoxModel",
      "state": {
       "_dom_classes": [
        "widget-interact"
       ],
       "_model_module": "@jupyter-widgets/controls",
       "_model_module_version": "1.5.0",
       "_model_name": "VBoxModel",
       "_view_count": null,
       "_view_module": "@jupyter-widgets/controls",
       "_view_module_version": "1.5.0",
       "_view_name": "VBoxView",
       "box_style": "",
       "children": [
        "IPY_MODEL_d0376e517c494199814d81953eb3f95c",
        "IPY_MODEL_97ca79ad83204a98968f69b36729e301",
        "IPY_MODEL_165bbe3c053b44fc9747fb9f234c2417"
       ],
       "layout": "IPY_MODEL_959aeaca9c8b48a094873145ffef10c6"
      }
     }
    },
    "version_major": 2,
    "version_minor": 0
   }
  }
 },
 "nbformat": 4,
 "nbformat_minor": 5
}
