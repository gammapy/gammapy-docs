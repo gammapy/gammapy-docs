{
 "cells": [
  {
   "cell_type": "markdown",
   "id": "7ef71c01",
   "metadata": {},
   "source": [
    "# Spectral analysis"
   ]
  },
  {
   "cell_type": "markdown",
   "id": "d16fd1bc",
   "metadata": {},
   "source": [
    "## Prerequisites \n",
    "\n",
    "- Understanding how spectral extraction is performed in Cherenkov astronomy, in particular regarding OFF background measurements. \n",
    "- Understanding the basics data reduction and modeling/fitting process with the gammapy library API as shown in the [first gammapy analysis with the gammapy library API tutorial](../../starting/analysis_2.ipynb)\n",
    "\n",
    "## Context\n",
    "\n",
    "While 3D analyses allow in principle to consider complex field of views containing overlapping gamma-ray sources, in many cases we might have an observation with a single, strong, point-like source in the field of view. A spectral analysis, in that case, might consider all the events inside a source (or ON) region and bin them in energy only, obtaining 1D datasets. \n",
    "\n",
    "In classical Cherenkov astronomy, the background estimation technique associated with this method measures the number of events in OFF regions taken in regions of the field-of-view devoid of gamma-ray emitters, where the background rate is assumed to be equal to the one in the ON region. \n",
    "\n",
    "This allows to use a specific fit statistics for ON-OFF measurements, the wstat (see `~gammapy.stats.wstat`), where no background model is assumed. Background is treated as a set of nuisance parameters. This removes some systematic effects connected\n",
    "to the choice or the quality of the background model. But this comes at the expense of larger statistical uncertainties on the fitted model parameters.\n",
    "\n",
    "**Objective: perform a full region based spectral analysis of 4 Crab observations of  H.E.S.S. data release 1 and fit the resulting datasets.**\n",
    "\n",
    "## Introduction\n",
    "\n",
    "Here, as usual, we use the `~gammapy.data.DataStore` to retrieve a list of selected observations (`~gammapy.data.Observations`). Then, we define the ON region containing the source and the geometry of the `~gammapy.datasets.SpectrumDataset` object we want to produce. We then create the corresponding dataset Maker. \n",
    "\n",
    "We have to define the Maker object that will extract the OFF counts from reflected regions in the field-of-view. To ensure we use data in an energy range where the quality of the IRFs is good enough we also create a safe range Maker.\n",
    "\n",
    "We can then proceed with data reduction with a loop over all selected observations to produce datasets in the relevant geometry.\n",
    "\n",
    "We can then explore the resulting datasets and look at the cumulative signal and significance of our source. We finally proceed with model fitting. \n",
    "\n",
    "In practice, we have to:\n",
    "- Create a `~gammapy.data.DataStore` poiting to the relevant data \n",
    "- Apply an observation selection to produce a list of observations, a `~gammapy.data.Observations` object.\n",
    "- Define a geometry of the spectrum we want to produce:\n",
    "    - Create a `~regions.CircleSkyRegion` for the ON extraction region\n",
    "    - Create a `~gammapy.maps.MapAxis` for the energy binnings: one for the reconstructed (i.e. measured) energy, the other for the true energy (i.e. the one used by IRFs and models)\n",
    "- Create the necessary makers : \n",
    "    - the spectrum dataset maker : `~gammapy.makers.SpectrumDatasetMaker`\n",
    "    - the OFF background maker, here a `~gammapy.makers.ReflectedRegionsBackgroundMaker`\n",
    "    - and the safe range maker : `~gammapy.makers.SafeMaskMaker`\n",
    "- Perform the data reduction loop. And for every observation:\n",
    "    - Apply the makers sequentially to produce a `~gammapy.datasets.SpectrumDatasetOnOff`\n",
    "    - Append it to list of datasets\n",
    "- Define the `~gammapy.modeling.models.SkyModel` to apply to the dataset.\n",
    "- Create a `~gammapy.modeling.Fit` object and run it to fit the model parameters\n",
    "- Apply a `~gammapy.estimators.FluxPointsEstimator` to compute flux points for the spectral part of the fit.\n"
   ]
  },
  {
   "cell_type": "markdown",
   "id": "e41132cc",
   "metadata": {},
   "source": [
    "## Setup\n",
    "\n",
    "As usual, we'll start with some setup ..."
   ]
  },
  {
   "cell_type": "code",
   "execution_count": null,
   "id": "32ab9273",
   "metadata": {},
   "outputs": [],
   "source": [
    "%matplotlib inline\n",
    "import matplotlib.pyplot as plt"
   ]
  },
  {
   "cell_type": "code",
   "execution_count": null,
   "id": "556defd3",
   "metadata": {},
   "outputs": [],
   "source": [
    "# Check package versions\n",
    "import gammapy\n",
    "import numpy as np\n",
    "import astropy\n",
    "import regions\n",
    "\n",
    "print(\"gammapy:\", gammapy.__version__)\n",
    "print(\"numpy:\", np.__version__)\n",
    "print(\"astropy\", astropy.__version__)\n",
    "print(\"regions\", regions.__version__)"
   ]
  },
  {
   "cell_type": "code",
   "execution_count": null,
   "id": "61b2ca63",
   "metadata": {},
   "outputs": [],
   "source": [
    "from pathlib import Path\n",
    "import astropy.units as u\n",
    "from astropy.coordinates import SkyCoord, Angle\n",
    "from regions import CircleSkyRegion\n",
    "from gammapy.maps import MapAxis, RegionGeom, WcsGeom\n",
    "from gammapy.modeling import Fit\n",
    "from gammapy.data import DataStore\n",
    "from gammapy.datasets import (\n",
    "    Datasets,\n",
    "    SpectrumDataset,\n",
    "    SpectrumDatasetOnOff,\n",
    "    FluxPointsDataset,\n",
    ")\n",
    "from gammapy.modeling.models import (\n",
    "    ExpCutoffPowerLawSpectralModel,\n",
    "    create_crab_spectral_model,\n",
    "    SkyModel,\n",
    ")\n",
    "from gammapy.makers import (\n",
    "    SafeMaskMaker,\n",
    "    SpectrumDatasetMaker,\n",
    "    ReflectedRegionsBackgroundMaker,\n",
    ")\n",
    "from gammapy.estimators import FluxPointsEstimator\n",
    "from gammapy.visualization import plot_spectrum_datasets_off_regions"
   ]
  },
  {
   "cell_type": "markdown",
   "id": "bd4650ed",
   "metadata": {},
   "source": [
    "## Load Data\n",
    "\n",
    "First, we select and load some H.E.S.S. observations of the Crab nebula (simulated events for now).\n",
    "\n",
    "We will access the events, effective area, energy dispersion, livetime and PSF for containement correction."
   ]
  },
  {
   "cell_type": "code",
   "execution_count": null,
   "id": "385620ce",
   "metadata": {},
   "outputs": [],
   "source": [
    "datastore = DataStore.from_dir(\"$GAMMAPY_DATA/hess-dl3-dr1/\")\n",
    "obs_ids = [23523, 23526, 23559, 23592]\n",
    "observations = datastore.get_observations(obs_ids)"
   ]
  },
  {
   "cell_type": "markdown",
   "id": "cc028289",
   "metadata": {},
   "source": [
    "## Define Target Region\n",
    "\n",
    "The next step is to define a signal extraction region, also known as on region. In the simplest case this is just a [CircleSkyRegion](http://astropy-regions.readthedocs.io/en/latest/api/regions.CircleSkyRegion.html)."
   ]
  },
  {
   "cell_type": "code",
   "execution_count": null,
   "id": "3e848c2b",
   "metadata": {},
   "outputs": [],
   "source": [
    "target_position = SkyCoord(ra=83.63, dec=22.01, unit=\"deg\", frame=\"icrs\")\n",
    "on_region_radius = Angle(\"0.11 deg\")\n",
    "on_region = CircleSkyRegion(center=target_position, radius=on_region_radius)"
   ]
  },
  {
   "cell_type": "markdown",
   "id": "3b20ca87",
   "metadata": {},
   "source": [
    "## Create exclusion mask\n",
    "\n",
    "We will use the reflected regions method to place off regions to estimate the background level in the on region.\n",
    "To make sure the off regions don't contain gamma-ray emission, we create an exclusion mask.\n",
    "\n",
    "Using http://gamma-sky.net/ we find that there's only one known gamma-ray source near the Crab nebula: the AGN called [RGB J0521+212](http://gamma-sky.net/#/cat/tev/23) at GLON = 183.604 deg and GLAT = -8.708 deg."
   ]
  },
  {
   "cell_type": "code",
   "execution_count": null,
   "id": "5dc2aeec",
   "metadata": {
    "scrolled": true
   },
   "outputs": [],
   "source": [
    "exclusion_region = CircleSkyRegion(\n",
    "    center=SkyCoord(183.604, -8.708, unit=\"deg\", frame=\"galactic\"),\n",
    "    radius=0.5 * u.deg,\n",
    ")\n",
    "\n",
    "skydir = target_position.galactic\n",
    "geom = WcsGeom.create(\n",
    "    npix=(150, 150), binsz=0.05, skydir=skydir, proj=\"TAN\", frame=\"icrs\"\n",
    ")\n",
    "\n",
    "exclusion_mask = ~geom.region_mask([exclusion_region])\n",
    "exclusion_mask.plot();"
   ]
  },
  {
   "cell_type": "markdown",
   "id": "b2041808",
   "metadata": {},
   "source": [
    "## Run data reduction chain\n",
    "\n",
    "We begin with the configuration of the maker classes:"
   ]
  },
  {
   "cell_type": "code",
   "execution_count": null,
   "id": "6a6d083d",
   "metadata": {},
   "outputs": [],
   "source": [
    "energy_axis = MapAxis.from_energy_bounds(\n",
    "    0.1, 40, nbin=10, per_decade=True, unit=\"TeV\", name=\"energy\"\n",
    ")\n",
    "energy_axis_true = MapAxis.from_energy_bounds(\n",
    "    0.05, 100, nbin=20, per_decade=True, unit=\"TeV\", name=\"energy_true\"\n",
    ")\n",
    "\n",
    "geom = RegionGeom.create(region=on_region, axes=[energy_axis])\n",
    "dataset_empty = SpectrumDataset.create(\n",
    "    geom=geom, energy_axis_true=energy_axis_true\n",
    ")"
   ]
  },
  {
   "cell_type": "code",
   "execution_count": null,
   "id": "6b6d1617",
   "metadata": {},
   "outputs": [],
   "source": [
    "dataset_maker = SpectrumDatasetMaker(\n",
    "    containment_correction=True, selection=[\"counts\", \"exposure\", \"edisp\"]\n",
    ")\n",
    "bkg_maker = ReflectedRegionsBackgroundMaker(exclusion_mask=exclusion_mask)\n",
    "safe_mask_masker = SafeMaskMaker(methods=[\"aeff-max\"], aeff_percent=10)"
   ]
  },
  {
   "cell_type": "code",
   "execution_count": null,
   "id": "8fbe9fb6",
   "metadata": {},
   "outputs": [],
   "source": [
    "%%time\n",
    "datasets = Datasets()\n",
    "\n",
    "for obs_id, observation in zip(obs_ids, observations):\n",
    "    dataset = dataset_maker.run(\n",
    "        dataset_empty.copy(name=str(obs_id)), observation\n",
    "    )\n",
    "    dataset_on_off = bkg_maker.run(dataset, observation)\n",
    "    dataset_on_off = safe_mask_masker.run(dataset_on_off, observation)\n",
    "    datasets.append(dataset_on_off)"
   ]
  },
  {
   "cell_type": "markdown",
   "id": "021a96ed",
   "metadata": {},
   "source": [
    "## Plot off regions"
   ]
  },
  {
   "cell_type": "code",
   "execution_count": null,
   "id": "e8bd8908",
   "metadata": {},
   "outputs": [],
   "source": [
    "plt.figure(figsize=(8, 8))\n",
    "ax = exclusion_mask.plot()\n",
    "on_region.to_pixel(ax.wcs).plot(ax=ax, edgecolor=\"k\")\n",
    "plot_spectrum_datasets_off_regions(ax=ax, datasets=datasets)"
   ]
  },
  {
   "cell_type": "markdown",
   "id": "9d9ddc96",
   "metadata": {},
   "source": [
    "## Source statistic\n",
    "\n",
    "Next we're going to look at the overall source statistics in our signal region."
   ]
  },
  {
   "cell_type": "code",
   "execution_count": null,
   "id": "3ece67c5",
   "metadata": {},
   "outputs": [],
   "source": [
    "info_table = datasets.info_table(cumulative=True)"
   ]
  },
  {
   "cell_type": "code",
   "execution_count": null,
   "id": "589eee9d",
   "metadata": {},
   "outputs": [],
   "source": [
    "info_table"
   ]
  },
  {
   "cell_type": "code",
   "execution_count": null,
   "id": "471e1dc5",
   "metadata": {},
   "outputs": [],
   "source": [
    "plt.plot(\n",
    "    info_table[\"livetime\"].to(\"h\"), info_table[\"excess\"], marker=\"o\", ls=\"none\"\n",
    ")\n",
    "plt.xlabel(\"Livetime [h]\")\n",
    "plt.ylabel(\"Excess\");"
   ]
  },
  {
   "cell_type": "code",
   "execution_count": null,
   "id": "c347bf93",
   "metadata": {},
   "outputs": [],
   "source": [
    "plt.plot(\n",
    "    info_table[\"livetime\"].to(\"h\"),\n",
    "    info_table[\"sqrt_ts\"],\n",
    "    marker=\"o\",\n",
    "    ls=\"none\",\n",
    ")\n",
    "plt.xlabel(\"Livetime [h]\")\n",
    "plt.ylabel(\"Sqrt(TS)\");"
   ]
  },
  {
   "cell_type": "markdown",
   "id": "3de50af0",
   "metadata": {},
   "source": [
    "Finally you can write the extracted datasets to disk using the OGIP format (PHA, ARF, RMF, BKG, see [here](https://gamma-astro-data-formats.readthedocs.io/en/latest/spectra/ogip/index.html) for details):"
   ]
  },
  {
   "cell_type": "code",
   "execution_count": null,
   "id": "b040d0c5",
   "metadata": {},
   "outputs": [],
   "source": [
    "path = Path(\"spectrum_analysis\")\n",
    "path.mkdir(exist_ok=True)"
   ]
  },
  {
   "cell_type": "code",
   "execution_count": null,
   "id": "ba08ab1f",
   "metadata": {},
   "outputs": [],
   "source": [
    "for dataset in datasets:\n",
    "    dataset.write(\n",
    "        filename=path / f\"obs_{dataset.name}.fits.gz\", overwrite=True\n",
    "    )"
   ]
  },
  {
   "cell_type": "markdown",
   "id": "31baa0af",
   "metadata": {},
   "source": [
    "If you want to read back the datasets from disk you can use:"
   ]
  },
  {
   "cell_type": "code",
   "execution_count": null,
   "id": "63b996d4",
   "metadata": {},
   "outputs": [],
   "source": [
    "datasets = Datasets()\n",
    "\n",
    "for obs_id in obs_ids:\n",
    "    filename = path / f\"obs_{obs_id}.fits.gz\"\n",
    "    datasets.append(SpectrumDatasetOnOff.read(filename))"
   ]
  },
  {
   "cell_type": "markdown",
   "id": "e276baea",
   "metadata": {},
   "source": [
    "## Fit spectrum\n",
    "\n",
    "Now we'll fit a global model to the spectrum. First we do a joint likelihood fit to all observations. If you want to stack the observations see below. We will also produce a debug plot in order to show how the global fit matches one of the individual observations."
   ]
  },
  {
   "cell_type": "code",
   "execution_count": null,
   "id": "8c6da9d2",
   "metadata": {},
   "outputs": [],
   "source": [
    "spectral_model = ExpCutoffPowerLawSpectralModel(\n",
    "    amplitude=1e-12 * u.Unit(\"cm-2 s-1 TeV-1\"),\n",
    "    index=2,\n",
    "    lambda_=0.1 * u.Unit(\"TeV-1\"),\n",
    "    reference=1 * u.TeV,\n",
    ")\n",
    "model = SkyModel(spectral_model=spectral_model, name=\"crab\")\n",
    "\n",
    "datasets.models = [model]\n",
    "\n",
    "fit_joint = Fit()\n",
    "result_joint = fit_joint.run(datasets=datasets)\n",
    "\n",
    "# we make a copy here to compare it later\n",
    "model_best_joint = model.copy()"
   ]
  },
  {
   "cell_type": "markdown",
   "id": "d9f40307",
   "metadata": {},
   "source": [
    "## Fit quality and model residuals"
   ]
  },
  {
   "cell_type": "markdown",
   "id": "da3da759",
   "metadata": {},
   "source": [
    "We can access the results dictionary to see if the fit converged:"
   ]
  },
  {
   "cell_type": "code",
   "execution_count": null,
   "id": "0ec9c48c",
   "metadata": {},
   "outputs": [],
   "source": [
    "print(result_joint)"
   ]
  },
  {
   "cell_type": "markdown",
   "id": "3920141e",
   "metadata": {},
   "source": [
    "and check the best-fit parameters"
   ]
  },
  {
   "cell_type": "code",
   "execution_count": null,
   "id": "9c84d022",
   "metadata": {},
   "outputs": [],
   "source": [
    "datasets.models.to_parameters_table()"
   ]
  },
  {
   "cell_type": "markdown",
   "id": "177f45a3",
   "metadata": {},
   "source": [
    "A simple way to inspect the model residuals is using the function `~SpectrumDataset.plot_fit()`"
   ]
  },
  {
   "cell_type": "code",
   "execution_count": null,
   "id": "7fa6a8b3",
   "metadata": {},
   "outputs": [],
   "source": [
    "ax_spectrum, ax_residuals = datasets[0].plot_fit()\n",
    "ax_spectrum.set_ylim(0.1, 40)\n",
    "datasets[0].plot_masks(ax=ax_spectrum);"
   ]
  },
  {
   "cell_type": "markdown",
   "id": "82b1bffc",
   "metadata": {},
   "source": [
    "For more ways of assessing fit quality, please refer to the dedicated [modeling and fitting tutorial](../2D/modeling_2D.ipynb)."
   ]
  },
  {
   "cell_type": "markdown",
   "id": "266a5515",
   "metadata": {},
   "source": [
    "## Compute Flux Points\n",
    "\n",
    "To round up our analysis we can compute flux points by fitting the norm of the global model in energy bands. We'll use a fixed energy binning for now:"
   ]
  },
  {
   "cell_type": "code",
   "execution_count": null,
   "id": "54c92e49",
   "metadata": {},
   "outputs": [],
   "source": [
    "e_min, e_max = 0.7, 30\n",
    "energy_edges = np.geomspace(e_min, e_max, 11) * u.TeV"
   ]
  },
  {
   "cell_type": "markdown",
   "id": "f9728e7c",
   "metadata": {},
   "source": [
    "Now we create an instance of the `~gammapy.estimators.FluxPointsEstimator`, by passing the dataset and the energy binning:"
   ]
  },
  {
   "cell_type": "code",
   "execution_count": null,
   "id": "d3fd5720",
   "metadata": {},
   "outputs": [],
   "source": [
    "fpe = FluxPointsEstimator(\n",
    "    energy_edges=energy_edges, source=\"crab\", selection_optional=\"all\"\n",
    ")\n",
    "flux_points = fpe.run(datasets=datasets)"
   ]
  },
  {
   "cell_type": "markdown",
   "id": "feb4e50b",
   "metadata": {},
   "source": [
    "Here is a the table of the resulting flux points:"
   ]
  },
  {
   "cell_type": "code",
   "execution_count": null,
   "id": "1ddf5b5f",
   "metadata": {},
   "outputs": [],
   "source": [
    "flux_points.to_table(sed_type=\"dnde\", formatted=True)"
   ]
  },
  {
   "cell_type": "markdown",
   "id": "c5910e38",
   "metadata": {},
   "source": [
    "Now we plot the flux points and their likelihood profiles. For the plotting of upper limits we choose a threshold of TS < 4."
   ]
  },
  {
   "cell_type": "code",
   "execution_count": null,
   "id": "3fcdd357",
   "metadata": {
    "nbsphinx-thumbnail": {
     "tooltip": "Perform a full region based on-off spectral analysis and fit the resulting datasets."
    }
   },
   "outputs": [],
   "source": [
    "plt.figure(figsize=(8, 5))\n",
    "ax = flux_points.plot(sed_type=\"e2dnde\", color=\"darkorange\")\n",
    "flux_points.plot_ts_profiles(ax=ax, sed_type=\"e2dnde\");"
   ]
  },
  {
   "cell_type": "markdown",
   "id": "6816ca14",
   "metadata": {},
   "source": [
    "The final plot with the best fit model, flux points and residuals can be quickly made like this: "
   ]
  },
  {
   "cell_type": "code",
   "execution_count": null,
   "id": "634331f0",
   "metadata": {},
   "outputs": [],
   "source": [
    "flux_points_dataset = FluxPointsDataset(\n",
    "    data=flux_points, models=model_best_joint\n",
    ")"
   ]
  },
  {
   "cell_type": "code",
   "execution_count": null,
   "id": "f9705fbe",
   "metadata": {},
   "outputs": [],
   "source": [
    "flux_points_dataset.plot_fit();"
   ]
  },
  {
   "cell_type": "markdown",
   "id": "45c8901e",
   "metadata": {},
   "source": [
    "## Stack observations\n",
    "\n",
    "And alternative approach to fitting the spectrum is stacking all observations first and the fitting a model. For this we first stack the individual datasets:"
   ]
  },
  {
   "cell_type": "code",
   "execution_count": null,
   "id": "b5fa3a8a",
   "metadata": {},
   "outputs": [],
   "source": [
    "dataset_stacked = Datasets(datasets).stack_reduce()"
   ]
  },
  {
   "cell_type": "markdown",
   "id": "2e0964c9",
   "metadata": {},
   "source": [
    "Again we set the model on the dataset we would like to fit (in this case it's only a single one) and pass it to the `~gammapy.modeling.Fit` object:"
   ]
  },
  {
   "cell_type": "code",
   "execution_count": null,
   "id": "ea5e43c2",
   "metadata": {},
   "outputs": [],
   "source": [
    "dataset_stacked.models = model\n",
    "stacked_fit = Fit()\n",
    "result_stacked = stacked_fit.run([dataset_stacked])\n",
    "\n",
    "# make a copy to compare later\n",
    "model_best_stacked = model.copy()"
   ]
  },
  {
   "cell_type": "code",
   "execution_count": null,
   "id": "19cc3d43",
   "metadata": {},
   "outputs": [],
   "source": [
    "print(result_stacked)"
   ]
  },
  {
   "cell_type": "code",
   "execution_count": null,
   "id": "cc9583bb",
   "metadata": {},
   "outputs": [],
   "source": [
    "model_best_joint.parameters.to_table()"
   ]
  },
  {
   "cell_type": "code",
   "execution_count": null,
   "id": "4f3da30e",
   "metadata": {},
   "outputs": [],
   "source": [
    "model_best_stacked.parameters.to_table()"
   ]
  },
  {
   "cell_type": "markdown",
   "id": "5bf4d762",
   "metadata": {},
   "source": [
    "Finally, we compare the results of our stacked analysis to a previously published Crab Nebula Spectrum for reference. This is available in `~gammapy.modeling.models.create_crab_spectral_model`."
   ]
  },
  {
   "cell_type": "code",
   "execution_count": null,
   "id": "9807f93f",
   "metadata": {},
   "outputs": [],
   "source": [
    "plot_kwargs = {\n",
    "    \"energy_bounds\": [0.1, 30] * u.TeV,\n",
    "    \"sed_type\": \"e2dnde\",\n",
    "    \"yunits\": u.Unit(\"erg cm-2 s-1\"),\n",
    "}\n",
    "\n",
    "# plot stacked model\n",
    "model_best_stacked.spectral_model.plot(\n",
    "    **plot_kwargs, label=\"Stacked analysis result\"\n",
    ")\n",
    "model_best_stacked.spectral_model.plot_error(\n",
    "    facecolor=\"blue\", alpha=0.3, **plot_kwargs\n",
    ")\n",
    "\n",
    "# plot joint model\n",
    "model_best_joint.spectral_model.plot(\n",
    "    **plot_kwargs, label=\"Joint analysis result\", ls=\"--\"\n",
    ")\n",
    "model_best_joint.spectral_model.plot_error(\n",
    "    facecolor=\"orange\", alpha=0.3, **plot_kwargs\n",
    ")\n",
    "\n",
    "create_crab_spectral_model(\"hess_ecpl\").plot(\n",
    "    **plot_kwargs, label=\"Crab reference\"\n",
    ")\n",
    "plt.legend()"
   ]
  },
  {
   "cell_type": "markdown",
   "id": "d12fa8bc",
   "metadata": {},
   "source": [
    "## Exercises\n",
    "\n",
    "Now you have learned the basics of a spectral analysis with Gammapy. To practice you can continue with the following exercises:\n",
    "\n",
    "- Fit a different spectral model to the data.\n",
    "  You could try `~gammapy.modeling.models.ExpCutoffPowerLawSpectralModel` or `~gammapy.modeling.models.LogParabolaSpectralModel`.\n",
    "- Compute flux points for the stacked dataset.\n",
    "- Create a `~gammapy.datasets.FluxPointsDataset` with the flux points you have computed for the stacked dataset and fit the flux points again with obe of the spectral models. How does the result compare to the best fit model, that was directly fitted to the counts data?"
   ]
  },
  {
   "cell_type": "markdown",
   "id": "5a55b70b",
   "metadata": {},
   "source": [
    "## What next?\n",
    "\n",
    "The methods shown in this tutorial is valid for point-like or midly extended sources where we can assume that the IRF taken at the region center is valid over the whole region. If one wants to extract the 1D spectrum of a large source and properly average the response over the extraction region, one has to use a different approach explained in [the extended source spectral analysis tutorial](extended_source_spectral_analysis.ipynb)."
   ]
  }
 ],
 "metadata": {
  "kernelspec": {
   "display_name": "Python 3",
   "language": "python",
   "name": "python3"
  },
  "language_info": {
   "codemirror_mode": {
    "name": "ipython",
    "version": 3
   },
   "file_extension": ".py",
   "mimetype": "text/x-python",
   "name": "python",
   "nbconvert_exporter": "python",
   "pygments_lexer": "ipython3",
   "version": "3.8.2"
  },
  "latex_envs": {
   "LaTeX_envs_menu_present": true,
   "autoclose": false,
   "autocomplete": true,
   "bibliofile": "biblio.bib",
   "cite_by": "apalike",
   "current_citInitial": 1,
   "eqLabelWithNumbers": true,
   "eqNumInitial": 1,
   "hotkeys": {
    "equation": "Ctrl-E",
    "itemize": "Ctrl-I"
   },
   "labels_anchors": false,
   "latex_user_defs": false,
   "report_style_numbering": false,
   "user_envs_cfg": false
  }
 },
 "nbformat": 4,
 "nbformat_minor": 5
}
