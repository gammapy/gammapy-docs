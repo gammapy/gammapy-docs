{
 "cells": [
  {
   "cell_type": "markdown",
   "metadata": {},
   "source": [
    "# Spectral analysis with energy-dependent directional cuts"
   ]
  },
  {
   "cell_type": "markdown",
   "metadata": {},
   "source": [
    "## Prerequisites \n",
    "\n",
    "- Understanding the basic data reduction performed in a [1D analysis](spectral_analysis.ipynb);\n",
    "- understanding the difference between a [point-like](https://gamma-astro-data-formats.readthedocs.io/en/latest/irfs/point_like/index.html) and a [full-enclosure](https://gamma-astro-data-formats.readthedocs.io/en/latest/irfs/full_enclosure/index.html) IRF.\n",
    "\n",
    "## Context\n",
    "\n",
    "As already explained in these tutorials, in a [1D spectral analysis](spectral_analysis.ipynb) the background is estimated from the field of view of the observation. In particular, the source and background events are counted within a circular ON region enclosing the source. The background to be subtracted is then estimated from one or more OFF regions with an expected background rate similar to the one in the ON region (i.e. from regions with similar acceptance).\n",
    "\n",
    "*Full-containment* IRFs have no directional cut applied, when employed for a 1D analysis, it is required to apply a correction to the IRF accounting for flux leaking out of the ON region. This correction is typically obtained by integrating the PSF within the ON region.\n",
    "\n",
    "When computing a *point-like* IRFs, a directional cut around the assumed source position is applied to the simulated events. For this IRF type, no PSF component is provided. The size of the ON and OFF regions used for the spectrum extraction should then reflect this cut, since a response computed within a specific region around the source is being provided.\n",
    "\n",
    "The directional cut is typically an angular distance from the assumed source position, $\\theta$. \n",
    "The [gamma-astro-data-format](https://gamma-astro-data-formats.readthedocs.io/en/latest/) specifications offer two different ways to store this information:\n",
    "* if the same $\\theta$ cut is applied at all energies and offsets, [a `RAD_MAX` keyword](https://gamma-astro-data-formats.readthedocs.io/en/latest/irfs/point_like/#rad-max) is added to the header of the data units containing IRF components. This should be used to define the size of the ON and OFF regions;\n",
    "* in case an energy- (and offset-) dependent $\\theta$ cut is applied, its values are stored in additional `FITS` data unit, named [`RAD_MAX_2D`](https://gamma-astro-data-formats.readthedocs.io/en/latest/irfs/point_like/#rad-max-2d). \n",
    "\n",
    "`Gammapy` provides a class to automatically read these values, `~gammapy.irf.RadMax2D`, for both cases (fixed or energy-dependent $\\theta$ cut). In this notebook we will focus on how to perform a spectral extraction with a point-like IRF with an energy-dependent $\\theta$ cut. We remark that in this case a `~regions.PointSkyRegion` (and not a `~regions.CircleSkyRegion`) should be used to define the ON region. If a geometry based on a `~regions.PointSkyRegion` is fed to the spectra and the background `Makers`, the latter will automatically use the values stored in the `RAD_MAX` keyword / table for defining the size of the ON and OFF regions.\n",
    "\n",
    "Beside the definition of the ON region during the data reduction, the remaining steps are identical to the other [1D spectral analysis example](spectral_analysis.ipynb), so we will not detail the data reduction steps already presented in the other tutorial.\n",
    "\n",
    "**Objective: perform the data reduction and analysis of 2 Crab Nebula observations of MAGIC and fit the resulting datasets.**\n",
    "\n",
    "## Introduction\n",
    "\n",
    "We load two MAGIC observations in the [gammapy-data](https://github.com/gammapy/gammapy-data) containing IRF component with a $\\theta$ cut.\n",
    "\n",
    "We define the ON region, this time as a `PointSkyRegion` instead of a `CircleSkyRegion`, i.e. we specify only the center of our ON region. We create a `RegionGeom` adding to the region the estimated energy axis of the `~gammapy.datasets.SpectrumDataset` object we want to produce. The corresponding dataset maker will automatically use the $\\theta$ values in `~gammapy.irf.RadMax2D` to set the appropriate ON region sizes (based on the offset on the observation and on the estimated energy binning).\n",
    "\n",
    "In order to define the OFF regions it is recommended to use a `~gammapy.makers.WobbleRegionsFinder`, that uses fixed positions for the OFF regions. In the different estimated energy bins we will have OFF regions centered at the same positions, but with changing size. As for the `SpectrumDataSetMaker`, the `BackgroundMaker` will use the values in `~gammapy.irf.RadMax2D` to define the sizes of the OFF regions.\n",
    "\n",
    "Once the datasets with the ON and OFF counts are created, we can perform a 1D likelihood fit, exactly as illustrated in the previous example."
   ]
  },
  {
   "cell_type": "markdown",
   "metadata": {},
   "source": [
    "## Setup\n",
    "\n",
    "As usual, we'll start with some setup ..."
   ]
  },
  {
   "cell_type": "code",
   "execution_count": 1,
   "metadata": {
    "execution": {
     "iopub.execute_input": "2022-06-17T21:32:16.365445Z",
     "iopub.status.busy": "2022-06-17T21:32:16.364520Z",
     "iopub.status.idle": "2022-06-17T21:32:17.952024Z",
     "shell.execute_reply": "2022-06-17T21:32:17.950913Z"
    }
   },
   "outputs": [],
   "source": [
    "%matplotlib inline\n",
    "import matplotlib.pyplot as plt"
   ]
  },
  {
   "cell_type": "code",
   "execution_count": 2,
   "metadata": {
    "execution": {
     "iopub.execute_input": "2022-06-17T21:32:17.961589Z",
     "iopub.status.busy": "2022-06-17T21:32:17.958402Z",
     "iopub.status.idle": "2022-06-17T21:32:19.447672Z",
     "shell.execute_reply": "2022-06-17T21:32:19.446672Z"
    }
   },
   "outputs": [
    {
     "name": "stdout",
     "output_type": "stream",
     "text": [
      "gammapy: 0.20.1\n",
      "numpy: 1.22.3\n",
      "astropy 5.0.4\n",
      "regions 0.6\n"
     ]
    }
   ],
   "source": [
    "# Check package versions\n",
    "import gammapy\n",
    "import numpy as np\n",
    "import astropy\n",
    "import regions\n",
    "\n",
    "print(\"gammapy:\", gammapy.__version__)\n",
    "print(\"numpy:\", np.__version__)\n",
    "print(\"astropy\", astropy.__version__)\n",
    "print(\"regions\", regions.__version__)"
   ]
  },
  {
   "cell_type": "code",
   "execution_count": 3,
   "metadata": {
    "execution": {
     "iopub.execute_input": "2022-06-17T21:32:19.507954Z",
     "iopub.status.busy": "2022-06-17T21:32:19.507624Z",
     "iopub.status.idle": "2022-06-17T21:32:21.619195Z",
     "shell.execute_reply": "2022-06-17T21:32:21.618030Z"
    }
   },
   "outputs": [],
   "source": [
    "import astropy.units as u\n",
    "from astropy.coordinates import SkyCoord\n",
    "from regions import PointSkyRegion\n",
    "from gammapy.data import DataStore\n",
    "from gammapy.maps import MapAxis, RegionGeom, Map\n",
    "from gammapy.modeling import Fit\n",
    "from gammapy.datasets import (\n",
    "    Datasets,\n",
    "    SpectrumDataset,\n",
    "    SpectrumDatasetOnOff,\n",
    ")\n",
    "from gammapy.modeling.models import (\n",
    "    create_crab_spectral_model,\n",
    "    SkyModel,\n",
    "    LogParabolaSpectralModel,\n",
    ")\n",
    "from gammapy.makers import (\n",
    "    SpectrumDatasetMaker,\n",
    "    WobbleRegionsFinder,\n",
    "    ReflectedRegionsBackgroundMaker,\n",
    "    SafeMaskMaker,\n",
    ")\n",
    "from gammapy.utils.scripts import make_path\n",
    "from gammapy.visualization import plot_spectrum_datasets_off_regions"
   ]
  },
  {
   "cell_type": "markdown",
   "metadata": {},
   "source": [
    "## Load data\n",
    "\n",
    "We load the two MAGIC observations of the Crab Nebula containing the `RAD_MAX_2D` table."
   ]
  },
  {
   "cell_type": "code",
   "execution_count": 4,
   "metadata": {
    "execution": {
     "iopub.execute_input": "2022-06-17T21:32:21.624287Z",
     "iopub.status.busy": "2022-06-17T21:32:21.623378Z",
     "iopub.status.idle": "2022-06-17T21:32:21.695368Z",
     "shell.execute_reply": "2022-06-17T21:32:21.694272Z"
    }
   },
   "outputs": [],
   "source": [
    "data_store = DataStore.from_dir(\"$GAMMAPY_DATA/magic/rad_max/data\")\n",
    "observations = data_store.get_observations(required_irf=\"point-like\")"
   ]
  },
  {
   "cell_type": "markdown",
   "metadata": {},
   "source": [
    "A `RadMax2D` attribute, containing the `RAD_MAX_2D` table, is automatically loaded in the observation. As we can see from the IRF component axes, the table has a single offset value and 28 estimated energy values."
   ]
  },
  {
   "cell_type": "code",
   "execution_count": 5,
   "metadata": {
    "execution": {
     "iopub.execute_input": "2022-06-17T21:32:21.702103Z",
     "iopub.status.busy": "2022-06-17T21:32:21.701241Z",
     "iopub.status.idle": "2022-06-17T21:32:21.970968Z",
     "shell.execute_reply": "2022-06-17T21:32:21.969754Z"
    }
   },
   "outputs": [
    {
     "name": "stdout",
     "output_type": "stream",
     "text": [
      "RadMax2D\n",
      "--------\n",
      "\n",
      "  axes  : ['energy', 'offset']\n",
      "  shape : (20, 1)\n",
      "  ndim  : 2\n",
      "  unit  : deg\n",
      "  dtype : >f4\n",
      "\n"
     ]
    }
   ],
   "source": [
    "rad_max = observations[\"5029747\"].rad_max\n",
    "print(rad_max)"
   ]
  },
  {
   "cell_type": "markdown",
   "metadata": {},
   "source": [
    "We can also plot the rad max value against the energy:"
   ]
  },
  {
   "cell_type": "code",
   "execution_count": 6,
   "metadata": {
    "execution": {
     "iopub.execute_input": "2022-06-17T21:32:21.976301Z",
     "iopub.status.busy": "2022-06-17T21:32:21.975983Z",
     "iopub.status.idle": "2022-06-17T21:32:23.172682Z",
     "shell.execute_reply": "2022-06-17T21:32:23.171772Z"
    }
   },
   "outputs": [
    {
     "data": {
      "image/png": "[encoded data removed]",
      "text/plain": [
       "<Figure size 432x288 with 1 Axes>"
      ]
     },
     "metadata": {
      "needs_background": "light"
     },
     "output_type": "display_data"
    }
   ],
   "source": [
    "rad_max.plot_rad_max_vs_energy();"
   ]
  },
  {
   "cell_type": "markdown",
   "metadata": {},
   "source": [
    "## Define the ON region\n",
    "\n",
    "To use the `RAD_MAX_2D` values to define the sizes of the ON and OFF regions **it is necessary to specify the ON region as a [`PointSkyRegion`](https://astropy-regions.readthedocs.io/en/stable/api/regions.PointSkyRegion.html).**"
   ]
  },
  {
   "cell_type": "code",
   "execution_count": 7,
   "metadata": {
    "execution": {
     "iopub.execute_input": "2022-06-17T21:32:23.177745Z",
     "iopub.status.busy": "2022-06-17T21:32:23.176810Z",
     "iopub.status.idle": "2022-06-17T21:32:23.186092Z",
     "shell.execute_reply": "2022-06-17T21:32:23.184850Z"
    }
   },
   "outputs": [],
   "source": [
    "target_position = SkyCoord(ra=83.63, dec=22.01, unit=\"deg\", frame=\"icrs\")\n",
    "on_region = PointSkyRegion(target_position)"
   ]
  },
  {
   "cell_type": "markdown",
   "metadata": {},
   "source": [
    "## Run data reduction chain\n",
    "\n",
    "We begin with the configuration of the dataset maker classes:"
   ]
  },
  {
   "cell_type": "code",
   "execution_count": 8,
   "metadata": {
    "execution": {
     "iopub.execute_input": "2022-06-17T21:32:23.192624Z",
     "iopub.status.busy": "2022-06-17T21:32:23.191827Z",
     "iopub.status.idle": "2022-06-17T21:32:23.239717Z",
     "shell.execute_reply": "2022-06-17T21:32:23.238602Z"
    }
   },
   "outputs": [],
   "source": [
    "# true and estimated energy axes\n",
    "energy_axis = MapAxis.from_energy_bounds(\n",
    "    50, 1e5, nbin=5, per_decade=True, unit=\"GeV\", name=\"energy\"\n",
    ")\n",
    "energy_axis_true = MapAxis.from_energy_bounds(\n",
    "    10, 1e5, nbin=10, per_decade=True, unit=\"GeV\", name=\"energy_true\"\n",
    ")\n",
    "\n",
    "# geometry defining the ON region and SpectrumDataset based on it\n",
    "geom = RegionGeom.create(region=on_region, axes=[energy_axis])\n",
    "\n",
    "dataset_empty = SpectrumDataset.create(\n",
    "    geom=geom, energy_axis_true=energy_axis_true\n",
    ")"
   ]
  },
  {
   "cell_type": "markdown",
   "metadata": {},
   "source": [
    "The `SpectrumDataset` is now based on a geometry consisting of a single coordinate and an estimated energy axis. The `SpectrumDatasetMaker` and `ReflectedRegionsBackgroundMaker` will take care of producing ON and OFF with the proper sizes, automatically adopting the $\\theta$ values in `Observation.rad_max`.\n",
    "\n",
    "As explained in the introduction, we use a `WobbleRegionsFinder`, to determine the OFF positions. The parameter `n_off_positions` specifies the number of OFF regions to be considered."
   ]
  },
  {
   "cell_type": "code",
   "execution_count": 9,
   "metadata": {
    "execution": {
     "iopub.execute_input": "2022-06-17T21:32:23.246488Z",
     "iopub.status.busy": "2022-06-17T21:32:23.245160Z",
     "iopub.status.idle": "2022-06-17T21:32:23.254335Z",
     "shell.execute_reply": "2022-06-17T21:32:23.253246Z"
    }
   },
   "outputs": [],
   "source": [
    "dataset_maker = SpectrumDatasetMaker(\n",
    "    containment_correction=False, selection=[\"counts\", \"exposure\", \"edisp\"]\n",
    ")\n",
    "\n",
    "# tell the background maker to use the WobbleRegionsFinder, let us use 1 off\n",
    "region_finder = WobbleRegionsFinder(n_off_regions=3)\n",
    "bkg_maker = ReflectedRegionsBackgroundMaker(region_finder=region_finder)\n",
    "\n",
    "# use the energy threshold specified in the DL3 files\n",
    "safe_mask_masker = SafeMaskMaker(methods=[\"aeff-default\"])"
   ]
  },
  {
   "cell_type": "code",
   "execution_count": 10,
   "metadata": {
    "execution": {
     "iopub.execute_input": "2022-06-17T21:32:23.260178Z",
     "iopub.status.busy": "2022-06-17T21:32:23.259380Z",
     "iopub.status.idle": "2022-06-17T21:32:25.072903Z",
     "shell.execute_reply": "2022-06-17T21:32:25.071753Z"
    }
   },
   "outputs": [
    {
     "name": "stderr",
     "output_type": "stream",
     "text": [
      "No default upper safe energy threshold defined for obs 5029747\n",
      "No default upper safe energy threshold defined for obs 5029748\n"
     ]
    },
    {
     "name": "stdout",
     "output_type": "stream",
     "text": [
      "CPU times: user 1.74 s, sys: 37.1 ms, total: 1.77 s\n",
      "Wall time: 1.8 s\n"
     ]
    }
   ],
   "source": [
    "%%time\n",
    "datasets = Datasets()\n",
    "\n",
    "# create a counts map for visualisation later...\n",
    "counts = Map.create(skydir=target_position, width=3)\n",
    "\n",
    "for observation in observations:\n",
    "    dataset = dataset_maker.run(\n",
    "        dataset_empty.copy(name=str(observation.obs_id)), observation\n",
    "    )\n",
    "    counts.fill_events(observation.events)\n",
    "    dataset_on_off = bkg_maker.run(dataset, observation)\n",
    "    dataset_on_off = safe_mask_masker.run(dataset_on_off, observation)\n",
    "    datasets.append(dataset_on_off)"
   ]
  },
  {
   "cell_type": "markdown",
   "metadata": {},
   "source": [
    "No we can plot the off regions and target positions on top of the counts map:"
   ]
  },
  {
   "cell_type": "code",
   "execution_count": 11,
   "metadata": {
    "execution": {
     "iopub.execute_input": "2022-06-17T21:32:25.078554Z",
     "iopub.status.busy": "2022-06-17T21:32:25.078087Z",
     "iopub.status.idle": "2022-06-17T21:32:25.477244Z",
     "shell.execute_reply": "2022-06-17T21:32:25.476200Z"
    },
    "nbsphinx-thumbnail": {
     "tooltip": "Perform a point like spectral analysis with energy dependent offset cut."
    }
   },
   "outputs": [
    {
     "data": {
      "text/plain": [
       "<WCSAxesSubplot:xlabel='Right Ascension', ylabel='Declination'>"
      ]
     },
     "execution_count": 11,
     "metadata": {},
     "output_type": "execute_result"
    },
    {
     "data": {
      "image/png": "[encoded data removed]",
      "text/plain": [
       "<Figure size 432x288 with 1 Axes>"
      ]
     },
     "metadata": {
      "needs_background": "light"
     },
     "output_type": "display_data"
    }
   ],
   "source": [
    "ax = counts.plot()\n",
    "geom.plot_region(ax=ax, kwargs_point={\"color\": \"k\", \"marker\": \"*\"})\n",
    "plot_spectrum_datasets_off_regions(ax=ax, datasets=datasets)"
   ]
  },
  {
   "cell_type": "markdown",
   "metadata": {},
   "source": [
    "## Fit spectrum\n",
    "\n",
    "We perform a joint likelihood fit of the two datasets.    \n",
    "For this particular datasets we select a fit range between $80\\,{\\rm GeV}$ and $20\\,{\\rm TeV}$."
   ]
  },
  {
   "cell_type": "code",
   "execution_count": 12,
   "metadata": {
    "execution": {
     "iopub.execute_input": "2022-06-17T21:32:25.482489Z",
     "iopub.status.busy": "2022-06-17T21:32:25.481485Z",
     "iopub.status.idle": "2022-06-17T21:32:25.488371Z",
     "shell.execute_reply": "2022-06-17T21:32:25.487391Z"
    }
   },
   "outputs": [],
   "source": [
    "e_min = 80 * u.GeV\n",
    "e_max = 20 * u.TeV\n",
    "\n",
    "for dataset in datasets:\n",
    "    dataset.mask_fit = dataset.counts.geom.energy_mask(e_min, e_max)"
   ]
  },
  {
   "cell_type": "code",
   "execution_count": 13,
   "metadata": {
    "execution": {
     "iopub.execute_input": "2022-06-17T21:32:25.492914Z",
     "iopub.status.busy": "2022-06-17T21:32:25.492303Z",
     "iopub.status.idle": "2022-06-17T21:32:33.675960Z",
     "shell.execute_reply": "2022-06-17T21:32:33.674673Z"
    }
   },
   "outputs": [],
   "source": [
    "spectral_model = LogParabolaSpectralModel(\n",
    "    amplitude=1e-12 * u.Unit(\"cm-2 s-1 TeV-1\"),\n",
    "    alpha=2,\n",
    "    beta=0.1,\n",
    "    reference=1 * u.TeV,\n",
    ")\n",
    "model = SkyModel(spectral_model=spectral_model, name=\"crab\")\n",
    "\n",
    "datasets.models = [model]\n",
    "\n",
    "fit = Fit()\n",
    "result = fit.run(datasets=datasets)\n",
    "\n",
    "# we make a copy here to compare it later\n",
    "best_fit_model = model.copy()"
   ]
  },
  {
   "cell_type": "markdown",
   "metadata": {},
   "source": [
    "## Fit quality and model residuals"
   ]
  },
  {
   "cell_type": "markdown",
   "metadata": {},
   "source": [
    "We can access the results dictionary to see if the fit converged:"
   ]
  },
  {
   "cell_type": "code",
   "execution_count": 14,
   "metadata": {
    "execution": {
     "iopub.execute_input": "2022-06-17T21:32:33.681601Z",
     "iopub.status.busy": "2022-06-17T21:32:33.680865Z",
     "iopub.status.idle": "2022-06-17T21:32:33.688063Z",
     "shell.execute_reply": "2022-06-17T21:32:33.686694Z"
    }
   },
   "outputs": [
    {
     "name": "stdout",
     "output_type": "stream",
     "text": [
      "OptimizeResult\n",
      "\n",
      "\tbackend    : minuit\n",
      "\tmethod     : migrad\n",
      "\tsuccess    : True\n",
      "\tmessage    : Optimization terminated successfully.\n",
      "\tnfev       : 223\n",
      "\ttotal stat : 23.98\n",
      "\n",
      "CovarianceResult\n",
      "\n",
      "\tbackend    : minuit\n",
      "\tmethod     : hesse\n",
      "\tsuccess    : True\n",
      "\tmessage    : Hesse terminated successfully.\n",
      "\n"
     ]
    }
   ],
   "source": [
    "print(result)"
   ]
  },
  {
   "cell_type": "markdown",
   "metadata": {},
   "source": [
    "and check the best-fit parameters"
   ]
  },
  {
   "cell_type": "code",
   "execution_count": 15,
   "metadata": {
    "execution": {
     "iopub.execute_input": "2022-06-17T21:32:33.693650Z",
     "iopub.status.busy": "2022-06-17T21:32:33.692942Z",
     "iopub.status.idle": "2022-06-17T21:32:33.709334Z",
     "shell.execute_reply": "2022-06-17T21:32:33.707922Z"
    }
   },
   "outputs": [
    {
     "data": {
      "text/html": [
       "<div><i>Table length=4</i>\n",
       "<table id=\"table5300840864\" class=\"table-striped table-bordered table-condensed\">\n",
       "<thead><tr><th>model</th><th>type</th><th>name</th><th>value</th><th>unit</th><th>error</th><th>min</th><th>max</th><th>frozen</th><th>is_norm</th><th>link</th></tr></thead>\n",
       "<thead><tr><th>str4</th><th>str8</th><th>str9</th><th>float64</th><th>str14</th><th>float64</th><th>float64</th><th>float64</th><th>bool</th><th>bool</th><th>str1</th></tr></thead>\n",
       "<tr><td>crab</td><td>spectral</td><td>amplitude</td><td>4.3046e-11</td><td>cm-2 s-1 TeV-1</td><td>3.455e-12</td><td>nan</td><td>nan</td><td>False</td><td>True</td><td></td></tr>\n",
       "<tr><td>crab</td><td>spectral</td><td>reference</td><td>1.0000e+00</td><td>TeV</td><td>0.000e+00</td><td>nan</td><td>nan</td><td>True</td><td>False</td><td></td></tr>\n",
       "<tr><td>crab</td><td>spectral</td><td>alpha</td><td>2.5819e+00</td><td></td><td>1.088e-01</td><td>nan</td><td>nan</td><td>False</td><td>False</td><td></td></tr>\n",
       "<tr><td>crab</td><td>spectral</td><td>beta</td><td>1.9574e-01</td><td></td><td>6.591e-02</td><td>nan</td><td>nan</td><td>False</td><td>False</td><td></td></tr>\n",
       "</table></div>"
      ],
      "text/plain": [
       "<Table length=4>\n",
       "model   type      name     value         unit        error     min     max   frozen is_norm link\n",
       " str4   str8      str9    float64       str14       float64  float64 float64  bool    bool  str1\n",
       "----- -------- --------- ---------- -------------- --------- ------- ------- ------ ------- ----\n",
       " crab spectral amplitude 4.3046e-11 cm-2 s-1 TeV-1 3.455e-12     nan     nan  False    True     \n",
       " crab spectral reference 1.0000e+00            TeV 0.000e+00     nan     nan   True   False     \n",
       " crab spectral     alpha 2.5819e+00                1.088e-01     nan     nan  False   False     \n",
       " crab spectral      beta 1.9574e-01                6.591e-02     nan     nan  False   False     "
      ]
     },
     "execution_count": 15,
     "metadata": {},
     "output_type": "execute_result"
    }
   ],
   "source": [
    "datasets.models.to_parameters_table()"
   ]
  },
  {
   "cell_type": "markdown",
   "metadata": {},
   "source": [
    "A simple way to inspect the model residuals is using the function `~SpectrumDataset.plot_fit()`"
   ]
  },
  {
   "cell_type": "code",
   "execution_count": 16,
   "metadata": {
    "execution": {
     "iopub.execute_input": "2022-06-17T21:32:33.714744Z",
     "iopub.status.busy": "2022-06-17T21:32:33.713798Z",
     "iopub.status.idle": "2022-06-17T21:32:35.668423Z",
     "shell.execute_reply": "2022-06-17T21:32:35.666386Z"
    }
   },
   "outputs": [
    {
     "data": {
      "text/plain": [
       "(0.1, 120)"
      ]
     },
     "execution_count": 16,
     "metadata": {},
     "output_type": "execute_result"
    },
    {
     "data": {
      "image/png": "[encoded data removed]",
      "text/plain": [
       "<Figure size 576x504 with 2 Axes>"
      ]
     },
     "metadata": {
      "needs_background": "light"
     },
     "output_type": "display_data"
    }
   ],
   "source": [
    "ax_spectrum, ax_residuals = datasets[0].plot_fit()\n",
    "ax_spectrum.set_ylim(0.1, 120)"
   ]
  },
  {
   "cell_type": "markdown",
   "metadata": {},
   "source": [
    "For more ways of assessing fit quality, please refer to the dedicated [modeling and fitting tutorial](../2D/modeling_2D.ipynb)."
   ]
  },
  {
   "cell_type": "markdown",
   "metadata": {},
   "source": [
    "## Compare against the literature\n",
    "Let us compare the spectrum we obtained against a [previous measurement by MAGIC](https://ui.adsabs.harvard.edu/abs/2015JHEAp...5...30A/abstract)."
   ]
  },
  {
   "cell_type": "code",
   "execution_count": 17,
   "metadata": {
    "execution": {
     "iopub.execute_input": "2022-06-17T21:32:35.674669Z",
     "iopub.status.busy": "2022-06-17T21:32:35.674011Z",
     "iopub.status.idle": "2022-06-17T21:32:36.766581Z",
     "shell.execute_reply": "2022-06-17T21:32:36.764933Z"
    }
   },
   "outputs": [
    {
     "data": {
      "text/plain": [
       "(1e-13, 1e-10)"
      ]
     },
     "execution_count": 17,
     "metadata": {},
     "output_type": "execute_result"
    },
    {
     "data": {
      "image/png": "[encoded data removed]",
      "text/plain": [
       "<Figure size 432x288 with 1 Axes>"
      ]
     },
     "metadata": {
      "needs_background": "light"
     },
     "output_type": "display_data"
    }
   ],
   "source": [
    "plot_kwargs = {\n",
    "    \"energy_bounds\": [0.08, 20] * u.TeV,\n",
    "    \"sed_type\": \"e2dnde\",\n",
    "    \"yunits\": u.Unit(\"TeV cm-2 s-1\"),\n",
    "    \"xunits\": u.GeV,\n",
    "}\n",
    "\n",
    "crab_magic_lp = create_crab_spectral_model(\"magic_lp\")\n",
    "\n",
    "best_fit_model.spectral_model.plot(\n",
    "    ls=\"-\", lw=1.5, color=\"crimson\", label=\"best fit\", **plot_kwargs\n",
    ")\n",
    "best_fit_model.spectral_model.plot_error(\n",
    "    facecolor=\"crimson\", alpha=0.4, **plot_kwargs\n",
    ")\n",
    "crab_magic_lp.plot(\n",
    "    ls=\"--\", lw=1.5, color=\"k\", label=\"MAGIC reference\", **plot_kwargs\n",
    ")\n",
    "\n",
    "plt.legend()\n",
    "plt.ylim([1e-13, 1e-10])"
   ]
  }
 ],
 "metadata": {
  "kernelspec": {
   "display_name": "Python 3 (ipykernel)",
   "language": "python",
   "name": "python3"
  },
  "language_info": {
   "codemirror_mode": {
    "name": "ipython",
    "version": 3
   },
   "file_extension": ".py",
   "mimetype": "text/x-python",
   "name": "python",
   "nbconvert_exporter": "python",
   "pygments_lexer": "ipython3",
   "version": "3.8.13"
  },
  "latex_envs": {
   "LaTeX_envs_menu_present": true,
   "autoclose": false,
   "autocomplete": true,
   "bibliofile": "biblio.bib",
   "cite_by": "apalike",
   "current_citInitial": 1,
   "eqLabelWithNumbers": true,
   "eqNumInitial": 1,
   "hotkeys": {
    "equation": "Ctrl-E",
    "itemize": "Ctrl-I"
   },
   "labels_anchors": false,
   "latex_user_defs": false,
   "report_style_numbering": false,
   "user_envs_cfg": false
  },
  "nbsphinx": {
   "orphan": true
  }
 },
 "nbformat": 4,
 "nbformat_minor": 4
}
