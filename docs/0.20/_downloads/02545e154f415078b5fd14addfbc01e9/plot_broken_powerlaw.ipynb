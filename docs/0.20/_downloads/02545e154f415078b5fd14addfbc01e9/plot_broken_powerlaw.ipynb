{
  "cells": [
    {
      "cell_type": "code",
      "execution_count": null,
      "metadata": {
        "collapsed": false
      },
      "outputs": [],
      "source": [
        "%matplotlib inline"
      ]
    },
    {
      "cell_type": "markdown",
      "metadata": {},
      "source": [
        "\n\n# Broken power law spectral model\n\nThis model parametrises a broken power law spectrum.\n\nIt is defined by the following equation:\n\n\\begin{align}\\phi(E) = phi_0 \\cdot \\begin{cases}\n                          \\left( \\frac{E}{E_{break}} \\right)^{-\\Gamma1} & \\text{if } E < E_{break} \\\\\n                          \\left( \\frac{E}{E_{break}} \\right)^{-\\Gamma2} & \\text{otherwise}\n                         \\end{cases}\\end{align}\n"
      ]
    },
    {
      "cell_type": "markdown",
      "metadata": {},
      "source": [
        "## Example plot\nHere is an example plot of the model:\n\n"
      ]
    },
    {
      "cell_type": "code",
      "execution_count": null,
      "metadata": {
        "collapsed": false
      },
      "outputs": [],
      "source": [
        "from astropy import units as u\nimport matplotlib.pyplot as plt\nfrom gammapy.modeling.models import BrokenPowerLawSpectralModel, Models, SkyModel\n\nenergy_bounds = [0.1, 100] * u.TeV\nmodel = BrokenPowerLawSpectralModel(\n    index1=1.5,\n    index2=2.5,\n    amplitude=\"1e-12 TeV-1 cm-2 s-1\",\n    ebreak=\"1 TeV\",\n)\nmodel.plot(energy_bounds)\nplt.grid(which=\"both\")"
      ]
    },
    {
      "cell_type": "markdown",
      "metadata": {},
      "source": [
        "## YAML representation\nHere is an example YAML file using the model:\n\n"
      ]
    },
    {
      "cell_type": "code",
      "execution_count": null,
      "metadata": {
        "collapsed": false
      },
      "outputs": [],
      "source": [
        "model = SkyModel(spectral_model=model, name=\"broken-power-law-model\")\nmodels = Models([model])\n\nprint(models.to_yaml())"
      ]
    }
  ],
  "metadata": {
    "kernelspec": {
      "display_name": "Python 3",
      "language": "python",
      "name": "python3"
    },
    "language_info": {
      "codemirror_mode": {
        "name": "ipython",
        "version": 3
      },
      "file_extension": ".py",
      "mimetype": "text/x-python",
      "name": "python",
      "nbconvert_exporter": "python",
      "pygments_lexer": "ipython3",
      "version": "3.9.12"
    }
  },
  "nbformat": 4,
  "nbformat_minor": 0
}