{
  "cells": [
    {
      "cell_type": "code",
      "execution_count": null,
      "metadata": {
        "collapsed": false
      },
      "outputs": [],
      "source": [
        "%matplotlib inline"
      ]
    },
    {
      "cell_type": "markdown",
      "metadata": {},
      "source": [
        "\n\n# Disk spatial model\n\nThis is a spatial model parametrising a disk.\n\nBy default, the model is symmetric, i.e. a disk:\n\n\\begin{align}\\phi(lon, lat) = \\frac{1}{2 \\pi (1 - \\cos{r_0}) } \\cdot\n            \\begin{cases}\n                1 & \\text{for } \\theta \\leq r_0 \\\\\n                0 & \\text{for } \\theta > r_0\n            \\end{cases}\\end{align}\n\nwhere $\\theta$ is the sky separation. To improve fit convergence of the\nmodel, the sharp edges is smoothed using `~scipy.special.erf`.\n\nIn case an eccentricity (`e`) and rotation angle ($\\phi$) are passed,\nthen the model is an elongated disk (i.e. an ellipse), with a major semiaxis of length $r_0$\nand position angle $\\phi$ (increasing counter-clockwise from the North direction).\n\nThe model is defined on the celestial sphere, with a normalization defined by:\n\n\\begin{align}\\int_{4\\pi}\\phi(\\text{lon}, \\text{lat}) \\,d\\Omega = 1\\,.\\end{align}\n"
      ]
    },
    {
      "cell_type": "markdown",
      "metadata": {},
      "source": [
        "## Example plot\nHere is an example plot of the model:\n\n"
      ]
    },
    {
      "cell_type": "code",
      "execution_count": null,
      "metadata": {
        "collapsed": false
      },
      "outputs": [],
      "source": [
        "import numpy as np\nfrom astropy.coordinates import Angle\nfrom gammapy.modeling.models import (\n    DiskSpatialModel,\n    Models,\n    PowerLawSpectralModel,\n    SkyModel,\n)\n\nphi = Angle(\"30 deg\")\nmodel = DiskSpatialModel(\n    lon_0=\"2 deg\",\n    lat_0=\"2 deg\",\n    r_0=\"1 deg\",\n    e=0.8,\n    phi=phi,\n    edge_width=0.1,\n    frame=\"galactic\",\n)\n\nax = model.plot(add_cbar=True)\n\n# illustrate size parameter\nregion = model.to_region().to_pixel(ax.wcs)\nartist = region.as_artist(facecolor=\"none\", edgecolor=\"red\")\nax.add_artist(artist)\n\ntransform = ax.get_transform(\"galactic\")\nax.scatter(2, 2, transform=transform, s=20, edgecolor=\"red\", facecolor=\"red\")\nax.text(1.7, 1.85, r\"$(l_0, b_0)$\", transform=transform, ha=\"center\")\nax.plot([2, 2 + np.sin(phi)], [2, 2 + np.cos(phi)], color=\"r\", transform=transform)\nax.vlines(x=2, color=\"r\", linestyle=\"--\", transform=transform, ymin=0, ymax=5)\nax.text(2.15, 2.3, r\"$\\phi$\", transform=transform)"
      ]
    },
    {
      "cell_type": "markdown",
      "metadata": {},
      "source": [
        "This plot illustrates the definition of the edge parameter:\n\n"
      ]
    },
    {
      "cell_type": "code",
      "execution_count": null,
      "metadata": {
        "collapsed": false
      },
      "outputs": [],
      "source": [
        "import numpy as np\nfrom astropy import units as u\nfrom astropy.visualization import quantity_support\nimport matplotlib.pyplot as plt\nfrom gammapy.modeling.models import DiskSpatialModel\n\nlons = np.linspace(0, 0.3, 500) * u.deg\n\nr_0, edge_width = 0.2 * u.deg, 0.5\n\ndisk = DiskSpatialModel(lon_0=\"0 deg\", lat_0=\"0 deg\", r_0=r_0, edge_width=edge_width)\nprofile = disk(lons, 0 * u.deg)\n\nplt.plot(lons, profile / profile.max(), alpha=0.5)\nplt.xlabel(\"Radius (deg)\")\nplt.ylabel(\"Profile (A.U.)\")\n\nedge_min, edge_max = r_0 * (1 - edge_width / 2.0), r_0 * (1 + edge_width / 2.0)\nwith quantity_support():\n    plt.vlines([edge_min, edge_max], 0, 1, linestyles=[\"--\"], color=\"k\")\n    plt.annotate(\n        \"\",\n        xy=(edge_min, 0.5),\n        xytext=(edge_min + r_0 * edge_width, 0.5),\n        arrowprops=dict(arrowstyle=\"<->\", lw=2),\n    )\n    plt.text(0.2, 0.53, \"Edge width\", ha=\"center\", size=12)\n    margin = 0.02 * u.deg\n    plt.hlines(\n        [0.95], edge_min - margin, edge_min + margin, linestyles=[\"-\"], color=\"k\"\n    )\n    plt.text(edge_min + margin, 0.95, \"95%\", size=12, va=\"center\")\n    plt.hlines(\n        [0.05], edge_max - margin, edge_max + margin, linestyles=[\"-\"], color=\"k\"\n    )\n    plt.text(edge_max - margin, 0.05, \"5%\", size=12, va=\"center\", ha=\"right\")\n    plt.show()"
      ]
    },
    {
      "cell_type": "markdown",
      "metadata": {},
      "source": [
        "## YAML representation\nHere is an example YAML file using the model:\n\n"
      ]
    },
    {
      "cell_type": "code",
      "execution_count": null,
      "metadata": {
        "collapsed": false
      },
      "outputs": [],
      "source": [
        "pwl = PowerLawSpectralModel()\ngauss = DiskSpatialModel()\n\nmodel = SkyModel(spectral_model=pwl, spatial_model=gauss, name=\"pwl-disk-model\")\nmodels = Models([model])\n\nprint(models.to_yaml())"
      ]
    }
  ],
  "metadata": {
    "kernelspec": {
      "display_name": "Python 3",
      "language": "python",
      "name": "python3"
    },
    "language_info": {
      "codemirror_mode": {
        "name": "ipython",
        "version": 3
      },
      "file_extension": ".py",
      "mimetype": "text/x-python",
      "name": "python",
      "nbconvert_exporter": "python",
      "pygments_lexer": "ipython3",
      "version": "3.9.12"
    }
  },
  "nbformat": 4,
  "nbformat_minor": 0
}