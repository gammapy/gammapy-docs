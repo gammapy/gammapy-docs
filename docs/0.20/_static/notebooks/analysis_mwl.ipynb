{
 "cells": [
  {
   "cell_type": "markdown",
   "id": "50fb27e2",
   "metadata": {},
   "source": [
    "# Multi instrument joint 3D and 1D analysis\n",
    "\n",
    "## Prerequisites\n",
    "\n",
    "- Handling of Fermi-LAT data with gammapy [see the corresponding tutorial](../../data/fermi_lat.ipynb)\n",
    "- Knowledge of spectral analysis to produce 1D On-Off datasets, [see the following tutorial](../1D/spectral_analysis.ipynb)\n",
    "- Using flux points to directly fit a model (without forward-folding)  [see the SED fitting tutorial](../1D/sed_fitting.ipynb)\n",
    "\n",
    "## Context\n",
    "\n",
    "Some science studies require to combine heterogeneous data from various instruments to extract physical information. In particular, it is often useful to add flux measurements of a source at different energies to an analysis to better constrain the wide-band spectral parameters. This can be done using a joint fit of heterogeneous datasets.\n",
    " \n",
    "**Objectives: Constrain the spectral parameters of the gamma-ray emission from the Crab nebula between 10 GeV and 100 TeV, using a 3D Fermi dataset, a H.E.S.S. reduced spectrum and HAWC flux points.**\n",
    "\n",
    "## Proposed approach\n",
    "\n",
    "This tutorial illustrates how to perform a joint modeling and fitting of the Crab Nebula spectrum using different datasets.\n",
    "The spectral parameters are optimized by combining a 3D analysis of Fermi-LAT data, a ON/OFF spectral analysis of HESS data, and flux points from HAWC.\n",
    "\n",
    "In this tutorial we are going to use pre-made datasets. We prepared maps of the Crab region as seen by Fermi-LAT using the same event selection than the [3FHL catalog](https://arxiv.org/abs/1702.00664) (7 years of data with energy from 10 GeV to 2 TeV). For the HESS ON/OFF analysis we used two observations from the [first public data release](https://arxiv.org/abs/1810.04516) with a significant signal from energy of about 600 GeV to 10 TeV. These observations have an offset of 0.5° and a zenith angle of 45-48°. The HAWC flux points data are taken from a [recent analysis](https://arxiv.org/pdf/1905.12518.pdf) based on 2.5 years of data with energy between 300 Gev and 300 TeV. \n",
    "\n",
    "## The setup\n"
   ]
  },
  {
   "cell_type": "code",
   "execution_count": null,
   "id": "1e4c5ed8",
   "metadata": {},
   "outputs": [],
   "source": [
    "from astropy import units as u\n",
    "import matplotlib.pyplot as plt\n",
    "from gammapy.modeling import Fit\n",
    "from gammapy.modeling.models import Models, create_crab_spectral_model\n",
    "from gammapy.datasets import Datasets, FluxPointsDataset, SpectrumDatasetOnOff\n",
    "from gammapy.estimators import FluxPoints, FluxPointsEstimator\n",
    "from gammapy.maps import MapAxis\n",
    "from pathlib import Path"
   ]
  },
  {
   "cell_type": "markdown",
   "id": "853ae624",
   "metadata": {},
   "source": [
    "## Data and models files\n",
    "\n",
    "\n",
    "The datasets serialization produce YAML files listing the datasets and models. In the following cells we show an example containning only the Fermi-LAT dataset and the Crab model. \n",
    "\n",
    "Fermi-LAT-3FHL_datasets.yaml:"
   ]
  },
  {
   "cell_type": "code",
   "execution_count": null,
   "id": "f4347cf9",
   "metadata": {},
   "outputs": [],
   "source": [
    "!cat $GAMMAPY_DATA/fermi-3fhl-crab/Fermi-LAT-3FHL_datasets.yaml"
   ]
  },
  {
   "cell_type": "markdown",
   "id": "cd98da35",
   "metadata": {},
   "source": [
    "We used as model a point source with a log-parabola spectrum. The initial parameters were taken from the latest Fermi-LAT catalog [4FGL](https://arxiv.org/abs/1902.10045), then we have re-optimized the spectral parameters for our dataset in the 10 GeV - 2 TeV energy range (fixing the source position).\n",
    "\n",
    "Fermi-LAT-3FHL_models.yaml:"
   ]
  },
  {
   "cell_type": "code",
   "execution_count": null,
   "id": "55080b6a",
   "metadata": {},
   "outputs": [],
   "source": [
    "!cat $GAMMAPY_DATA/fermi-3fhl-crab/Fermi-LAT-3FHL_models.yaml"
   ]
  },
  {
   "cell_type": "markdown",
   "id": "774ffb1c",
   "metadata": {},
   "source": [
    "## Reading  different datasets\n",
    "\n",
    "\n",
    "### Fermi-LAT 3FHL: map dataset for 3D analysis\n",
    "For now we let's use the datasets serialization only to read the 3D `MapDataset` associated to Fermi-LAT 3FHL data and models."
   ]
  },
  {
   "cell_type": "code",
   "execution_count": null,
   "id": "a0dc904a",
   "metadata": {},
   "outputs": [],
   "source": [
    "path = Path(\"$GAMMAPY_DATA/fermi-3fhl-crab\")\n",
    "filename = path / \"Fermi-LAT-3FHL_datasets.yaml\"\n",
    "\n",
    "datasets = Datasets.read(filename=filename)"
   ]
  },
  {
   "cell_type": "code",
   "execution_count": null,
   "id": "54aad17c",
   "metadata": {},
   "outputs": [],
   "source": [
    "models = Models.read(path / \"Fermi-LAT-3FHL_models.yaml\")\n",
    "print(models)"
   ]
  },
  {
   "cell_type": "markdown",
   "id": "033c1550",
   "metadata": {},
   "source": [
    "We get the Crab model in order to share it with the other datasets"
   ]
  },
  {
   "cell_type": "code",
   "execution_count": null,
   "id": "15e01bba",
   "metadata": {},
   "outputs": [],
   "source": [
    "print(models[\"Crab Nebula\"])"
   ]
  },
  {
   "cell_type": "markdown",
   "id": "0067b739",
   "metadata": {},
   "source": [
    "### HESS-DL3: 1D ON/OFF dataset for spectral fitting\n",
    "\n",
    "The ON/OFF datasets can be read from PHA files following the [OGIP standards](https://heasarc.gsfc.nasa.gov/docs/heasarc/ofwg/docs/spectra/ogip_92_007/node5.html).\n",
    "We read the PHA files from each observation, and compute a stacked dataset for simplicity.\n",
    "Then the Crab spectral model previously defined is added to the dataset."
   ]
  },
  {
   "cell_type": "code",
   "execution_count": null,
   "id": "e9a4ed09",
   "metadata": {},
   "outputs": [],
   "source": [
    "datasets_hess = Datasets()\n",
    "\n",
    "for obs_id in [23523, 23526]:\n",
    "    dataset = SpectrumDatasetOnOff.read(\n",
    "        f\"$GAMMAPY_DATA/joint-crab/spectra/hess/pha_obs{obs_id}.fits\"\n",
    "    )\n",
    "    datasets_hess.append(dataset)\n",
    "\n",
    "dataset_hess = datasets_hess.stack_reduce(name=\"HESS\")\n",
    "\n",
    "datasets.append(dataset_hess)"
   ]
  },
  {
   "cell_type": "code",
   "execution_count": null,
   "id": "23d1ae26",
   "metadata": {},
   "outputs": [],
   "source": [
    "print(datasets)"
   ]
  },
  {
   "cell_type": "markdown",
   "id": "9b94ea88",
   "metadata": {},
   "source": [
    "### HAWC: 1D dataset for flux point fitting\n",
    "\n",
    "The HAWC flux point are taken from https://arxiv.org/pdf/1905.12518.pdf Then these flux points are read from a pre-made FITS file and passed to a `FluxPointsDataset` together with the source spectral model.\n"
   ]
  },
  {
   "cell_type": "code",
   "execution_count": null,
   "id": "e5131b2f",
   "metadata": {},
   "outputs": [],
   "source": [
    "# read flux points from https://arxiv.org/pdf/1905.12518.pdf\n",
    "filename = \"$GAMMAPY_DATA/hawc_crab/HAWC19_flux_points.fits\"\n",
    "flux_points_hawc = FluxPoints.read(\n",
    "    filename, reference_model=create_crab_spectral_model(\"meyer\")\n",
    ")\n",
    "\n",
    "dataset_hawc = FluxPointsDataset(data=flux_points_hawc, name=\"HAWC\")\n",
    "\n",
    "datasets.append(dataset_hawc)"
   ]
  },
  {
   "cell_type": "code",
   "execution_count": null,
   "id": "ce286f37",
   "metadata": {},
   "outputs": [],
   "source": [
    "print(datasets)"
   ]
  },
  {
   "cell_type": "markdown",
   "id": "eab8a039",
   "metadata": {},
   "source": [
    "## Datasets serialization\n",
    "\n",
    "The `datasets` object contains each dataset previously defined. \n",
    "It can be saved on disk as datasets.yaml, models.yaml, and several data files specific to each dataset. Then the `datasets` can be rebuild later from these files."
   ]
  },
  {
   "cell_type": "code",
   "execution_count": null,
   "id": "8a726f64",
   "metadata": {},
   "outputs": [],
   "source": [
    "path = Path(\"crab-3datasets\")\n",
    "path.mkdir(exist_ok=True)\n",
    "\n",
    "filename = path / \"crab_10GeV_100TeV_datasets.yaml\"\n",
    "\n",
    "datasets.write(filename, overwrite=True)"
   ]
  },
  {
   "cell_type": "code",
   "execution_count": null,
   "id": "91fc1cc8",
   "metadata": {},
   "outputs": [],
   "source": [
    "!cat crab-3datasets/crab_10GeV_100TeV_datasets.yaml"
   ]
  },
  {
   "cell_type": "code",
   "execution_count": null,
   "id": "20a7c0aa",
   "metadata": {},
   "outputs": [],
   "source": [
    "datasets = Datasets.read(filename)\n",
    "datasets.models = models"
   ]
  },
  {
   "cell_type": "code",
   "execution_count": null,
   "id": "135958b9",
   "metadata": {},
   "outputs": [],
   "source": [
    "print(datasets)"
   ]
  },
  {
   "cell_type": "markdown",
   "id": "26a3bb12",
   "metadata": {},
   "source": [
    "## Joint analysis\n",
    "\n",
    "We run the fit on the `Datasets` object that include a dataset for each instrument\n"
   ]
  },
  {
   "cell_type": "code",
   "execution_count": null,
   "id": "8c0568a6",
   "metadata": {},
   "outputs": [],
   "source": [
    "%%time\n",
    "fit_joint = Fit()\n",
    "results_joint = fit_joint.run(datasets=datasets)\n",
    "print(results_joint)"
   ]
  },
  {
   "cell_type": "markdown",
   "id": "b344fd30",
   "metadata": {},
   "source": [
    "Let's display only the parameters of the Crab spectral model"
   ]
  },
  {
   "cell_type": "code",
   "execution_count": null,
   "id": "3d3f8bfe",
   "metadata": {},
   "outputs": [],
   "source": [
    "crab_spec = datasets[0].models[\"Crab Nebula\"].spectral_model\n",
    "print(crab_spec)"
   ]
  },
  {
   "cell_type": "markdown",
   "id": "1d06d0ce",
   "metadata": {},
   "source": [
    "We can compute flux points for Fermi-LAT and HESS datasets in order plot them together with the HAWC flux point."
   ]
  },
  {
   "cell_type": "code",
   "execution_count": null,
   "id": "fb8fc6ee",
   "metadata": {},
   "outputs": [],
   "source": [
    "# compute Fermi-LAT and HESS flux points\n",
    "energy_edges = MapAxis.from_energy_bounds(\"10 GeV\", \"2 TeV\", nbin=5).edges\n",
    "\n",
    "flux_points_fermi = FluxPointsEstimator(\n",
    "    energy_edges=energy_edges,\n",
    "    source=\"Crab Nebula\",\n",
    ").run([datasets[\"Fermi-LAT\"]])\n",
    "\n",
    "\n",
    "energy_edges = MapAxis.from_bounds(\n",
    "    1, 15, nbin=6, interp=\"log\", unit=\"TeV\"\n",
    ").edges\n",
    "\n",
    "flux_points_hess = FluxPointsEstimator(\n",
    "    energy_edges=energy_edges, source=\"Crab Nebula\", selection_optional=[\"ul\"]\n",
    ").run([datasets[\"HESS\"]])"
   ]
  },
  {
   "cell_type": "markdown",
   "id": "10764c00",
   "metadata": {},
   "source": [
    "Now, Let's plot the Crab spectrum fitted and the flux points of each instrument.\n"
   ]
  },
  {
   "cell_type": "code",
   "execution_count": null,
   "id": "5d5599c4",
   "metadata": {
    "nbsphinx-thumbnail": {
     "tooltip": "Joint 3D analysis using 3D Fermi datasets, a H.E.S.S. reduced spectrum and HAWC flux points."
    }
   },
   "outputs": [],
   "source": [
    "# display spectrum and flux points\n",
    "plt.figure(figsize=(8, 6))\n",
    "\n",
    "energy_bounds = [0.01, 300] * u.TeV\n",
    "sed_type = \"e2dnde\"\n",
    "\n",
    "ax = crab_spec.plot(\n",
    "    energy_bounds=energy_bounds, sed_type=sed_type, label=\"Model\"\n",
    ")\n",
    "crab_spec.plot_error(ax=ax, energy_bounds=energy_bounds, sed_type=sed_type)\n",
    "\n",
    "flux_points_fermi.plot(ax=ax, sed_type=sed_type, label=\"Fermi-LAT\")\n",
    "flux_points_hess.plot(ax=ax, sed_type=sed_type, label=\"HESS\")\n",
    "flux_points_hawc.plot(ax=ax, sed_type=sed_type, label=\"HAWC\")\n",
    "\n",
    "ax.set_xlim(energy_bounds)\n",
    "plt.legend();"
   ]
  },
  {
   "cell_type": "code",
   "execution_count": null,
   "id": "a5cee491",
   "metadata": {},
   "outputs": [],
   "source": []
  }
 ],
 "metadata": {
  "kernelspec": {
   "display_name": "Python 3 (ipykernel)",
   "language": "python",
   "name": "python3"
  },
  "language_info": {
   "codemirror_mode": {
    "name": "ipython",
    "version": 3
   },
   "file_extension": ".py",
   "mimetype": "text/x-python",
   "name": "python",
   "nbconvert_exporter": "python",
   "pygments_lexer": "ipython3",
   "version": "3.9.0"
  }
 },
 "nbformat": 4,
 "nbformat_minor": 5
}
