{
 "cells": [
  {
   "cell_type": "markdown",
   "id": "87392038",
   "metadata": {},
   "source": [
    "# Fitting\n",
    "\n",
    "\n",
    "## Prerequisites\n",
    "\n",
    "- Knowledge of spectral analysis to produce 1D On-Off datasets, [see the following tutorial](../analysis/1D/spectral_analysis.ipynb)\n",
    "- Reading of pre-computed datasets [see the MWL tutorial](../analysis/3D/analysis_mwl.ipynb)\n",
    "- General knowledge on statistics and optimization methods\n",
    "\n",
    "## Proposed approach\n",
    "\n",
    "This is a hands-on tutorial to `~gammapy.modeling`, showing how to do perform a Fit in gammapy. The emphasis here is on interfacing the `Fit` class and inspecting the errors. To see an analysis example of how datasets and models interact, see the [model management notebook](model_management.ipynb). As an example, in this notebook, we are going to work with HESS data of the Crab Nebula and show in particular how to :\n",
    "- perform a spectral analysis\n",
    "- use different fitting backends\n",
    "- access covariance matrix information and parameter errors\n",
    "- compute likelihood profile\n",
    "- compute confidence contours\n",
    "\n",
    "See also: [Models gallery tutorial](models.ipynb) and `docs/modeling/index.rst`.\n",
    "\n",
    "\n",
    "## The setup"
   ]
  },
  {
   "cell_type": "code",
   "execution_count": null,
   "id": "23ce0a0f",
   "metadata": {},
   "outputs": [],
   "source": [
    "import numpy as np\n",
    "from astropy import units as u\n",
    "import matplotlib.pyplot as plt\n",
    "from matplotlib.ticker import StrMethodFormatter\n",
    "import scipy.stats as st\n",
    "from gammapy.modeling import Fit\n",
    "from gammapy.datasets import Datasets, SpectrumDatasetOnOff\n",
    "from gammapy.modeling.models import LogParabolaSpectralModel, SkyModel\n",
    "from gammapy.visualization.utils import plot_contour_line\n",
    "from itertools import combinations"
   ]
  },
  {
   "cell_type": "markdown",
   "id": "6e5014d3",
   "metadata": {},
   "source": [
    "## Model and dataset\n",
    "\n",
    "First we define the source model, here we need only a spectral model for which we choose a log-parabola"
   ]
  },
  {
   "cell_type": "code",
   "execution_count": null,
   "id": "5b639bc8",
   "metadata": {},
   "outputs": [],
   "source": [
    "crab_spectrum = LogParabolaSpectralModel(\n",
    "    amplitude=1e-11 / u.cm**2 / u.s / u.TeV,\n",
    "    reference=1 * u.TeV,\n",
    "    alpha=2.3,\n",
    "    beta=0.2,\n",
    ")\n",
    "\n",
    "crab_spectrum.alpha.max = 3\n",
    "crab_spectrum.alpha.min = 1\n",
    "crab_model = SkyModel(spectral_model=crab_spectrum, name=\"crab\")"
   ]
  },
  {
   "cell_type": "markdown",
   "id": "bedea74b",
   "metadata": {},
   "source": [
    "The data and background are read from pre-computed ON/OFF datasets of HESS observations, for simplicity we stack them together.\n",
    "Then we set the model and fit range to the resulting dataset."
   ]
  },
  {
   "cell_type": "code",
   "execution_count": null,
   "id": "11e2e74b",
   "metadata": {},
   "outputs": [],
   "source": [
    "datasets = []\n",
    "for obs_id in [23523, 23526]:\n",
    "    dataset = SpectrumDatasetOnOff.read(\n",
    "        f\"$GAMMAPY_DATA/joint-crab/spectra/hess/pha_obs{obs_id}.fits\"\n",
    "    )\n",
    "    datasets.append(dataset)\n",
    "\n",
    "dataset_hess = Datasets(datasets).stack_reduce(name=\"HESS\")\n",
    "datasets = Datasets(datasets=[dataset_hess])\n",
    "\n",
    "# Set model and fit range\n",
    "dataset_hess.models = crab_model\n",
    "e_min = 0.66 * u.TeV\n",
    "e_max = 30 * u.TeV\n",
    "dataset_hess.mask_fit = dataset_hess.counts.geom.energy_mask(e_min, e_max)"
   ]
  },
  {
   "cell_type": "markdown",
   "id": "f5bc172d",
   "metadata": {},
   "source": [
    "## Fitting options\n",
    "\n",
    "\n",
    "\n",
    "First let's create a `Fit` instance:"
   ]
  },
  {
   "cell_type": "code",
   "execution_count": null,
   "id": "ff05ef3c",
   "metadata": {},
   "outputs": [],
   "source": [
    "scipy_opts = {\n",
    "    \"method\": \"L-BFGS-B\",\n",
    "    \"options\": {\"ftol\": 1e-4, \"gtol\": 1e-05},\n",
    "    \"backend\": \"scipy\",\n",
    "}\n",
    "fit_scipy = Fit(store_trace=True, optimize_opts=scipy_opts)"
   ]
  },
  {
   "cell_type": "markdown",
   "id": "bc23d8e4",
   "metadata": {},
   "source": [
    "By default the fit is performed using MINUIT, you can select alternative optimizers and set their option using the `optimize_opts` argument of the `Fit.run()` method. In addition we have specified to store the trace of parameter values of the fit.\n",
    "\n",
    "Note that, for now, covaraince matrix and errors are computed only for the fitting with MINUIT. However depending on the problem other optimizers can better perform, so sometimes it can be useful to run a pre-fit with alternative optimization methods.\n",
    "\n",
    "For the \"scipy\" backend the available options are described in detail here:  \n",
    "https://docs.scipy.org/doc/scipy/reference/generated/scipy.optimize.minimize.html"
   ]
  },
  {
   "cell_type": "code",
   "execution_count": null,
   "id": "d8f5e050",
   "metadata": {},
   "outputs": [],
   "source": [
    "%%time\n",
    "result_scipy = fit_scipy.run(datasets)"
   ]
  },
  {
   "cell_type": "markdown",
   "id": "7ea90e65",
   "metadata": {},
   "source": [
    "For the \"sherpa\" backend you can choose the optimization algorithm between method = {\"simplex\",  \"levmar\", \"moncar\", \"gridsearch\"}.  \n",
    "Those methods are described and compared in detail on http://cxc.cfa.harvard.edu/sherpa/methods/index.html \n",
    "The available options of the optimization methods are described on the following page https://cxc.cfa.harvard.edu/sherpa/methods/opt_methods.html"
   ]
  },
  {
   "cell_type": "code",
   "execution_count": null,
   "id": "efb95dfd",
   "metadata": {},
   "outputs": [],
   "source": [
    "%%time\n",
    "sherpa_opts = {\"method\": \"simplex\", \"ftol\": 1e-3, \"maxfev\": int(1e4)}\n",
    "fit_sherpa = Fit(store_trace=True, backend=\"sherpa\", optimize_opts=sherpa_opts)\n",
    "results_simplex = fit_sherpa.run(datasets)"
   ]
  },
  {
   "cell_type": "markdown",
   "id": "1f75005c",
   "metadata": {},
   "source": [
    "For the \"minuit\" backend see https://iminuit.readthedocs.io/en/latest/reference.html for a detailed description of the available options. If there is an entry ‘migrad_opts’, those options will be passed to [iminuit.Minuit.migrad](https://iminuit.readthedocs.io/en/latest/reference.html#iminuit.Minuit.migrad). Additionally you can set the fit tolerance using the [tol](https://iminuit.readthedocs.io/en/latest/reference.html#iminuit.Minuit.tol\n",
    ") option. The minimization will stop when the estimated distance to the minimum is less than 0.001*tol (by default tol=0.1). The [strategy](https://iminuit.readthedocs.io/en/latest/reference.html#iminuit.Minuit.strategy) option change the speed and accuracy of the optimizer: 0 fast, 1 default, 2 slow but accurate. If you want more reliable error estimates, you should run the final fit with strategy 2.\n"
   ]
  },
  {
   "cell_type": "code",
   "execution_count": null,
   "id": "45dbcf65",
   "metadata": {},
   "outputs": [],
   "source": [
    "%%time\n",
    "fit = Fit(store_trace=True)\n",
    "minuit_opts = {\"tol\": 0.001, \"strategy\": 1}\n",
    "fit.backend = \"minuit\"\n",
    "fit.optimize_opts = minuit_opts\n",
    "result_minuit = fit.run(datasets)"
   ]
  },
  {
   "cell_type": "markdown",
   "id": "de5900fe",
   "metadata": {},
   "source": [
    "## Fit quality assessment\n",
    "\n",
    "There are various ways to check the convergence and quality of a fit. Among them:\n",
    "\n",
    "Refer to the automatically-generated results dictionary:"
   ]
  },
  {
   "cell_type": "code",
   "execution_count": null,
   "id": "189a8869",
   "metadata": {},
   "outputs": [],
   "source": [
    "print(result_scipy)"
   ]
  },
  {
   "cell_type": "code",
   "execution_count": null,
   "id": "4bea6859",
   "metadata": {},
   "outputs": [],
   "source": [
    "print(results_simplex)"
   ]
  },
  {
   "cell_type": "code",
   "execution_count": null,
   "id": "754a293c",
   "metadata": {},
   "outputs": [],
   "source": [
    "print(result_minuit)"
   ]
  },
  {
   "cell_type": "markdown",
   "id": "0a0d3694",
   "metadata": {},
   "source": [
    "If the fit is performed with minuit you can print detailed informations to check the convergence"
   ]
  },
  {
   "cell_type": "code",
   "execution_count": null,
   "id": "13ab29b2",
   "metadata": {},
   "outputs": [],
   "source": [
    "print(fit.minuit)"
   ]
  },
  {
   "cell_type": "markdown",
   "id": "9367d1ed",
   "metadata": {},
   "source": [
    "Check the trace of the fit e.g. in case the fit did not converge properly"
   ]
  },
  {
   "cell_type": "code",
   "execution_count": null,
   "id": "36ef999f",
   "metadata": {},
   "outputs": [],
   "source": [
    "result_minuit.trace"
   ]
  },
  {
   "cell_type": "markdown",
   "id": "3ced8728",
   "metadata": {},
   "source": [
    "Check that the fitted values and errors for all parameters are reasonable, and no fitted parameter value is \"too close\" - or even outside - its allowed min-max range"
   ]
  },
  {
   "cell_type": "code",
   "execution_count": null,
   "id": "c4de5875",
   "metadata": {},
   "outputs": [],
   "source": [
    "result_minuit.parameters.to_table()"
   ]
  },
  {
   "cell_type": "markdown",
   "id": "ddc581eb",
   "metadata": {},
   "source": [
    "Plot fit statistic profiles for all fitted parameters, using `~gammapy.modeling.Fit.stat_profile()`. For a good fit and error estimate each profile should be parabolic. The specification for each fit statistic profile can be changed on the `~gammapy.modeling.Parameter` object, which has `.scan_min`, `.scan_max`, `.scan_n_values` and `.scan_n_sigma` attributes."
   ]
  },
  {
   "cell_type": "code",
   "execution_count": null,
   "id": "1e6bdcdd",
   "metadata": {},
   "outputs": [],
   "source": [
    "total_stat = result_minuit.total_stat\n",
    "\n",
    "fig, axes = plt.subplots(nrows=1, ncols=3, figsize=(14, 4))\n",
    "\n",
    "for ax, par in zip(axes, crab_model.parameters.free_parameters):\n",
    "    par.scan_n_values = 17\n",
    "\n",
    "    profile = fit.stat_profile(datasets=datasets, parameter=par)\n",
    "    ax.plot(profile[f\"{par.name}_scan\"], profile[\"stat_scan\"] - total_stat)\n",
    "    ax.set_xlabel(f\"{par.unit}\")\n",
    "    ax.set_ylabel(\"Delta TS\")\n",
    "    ax.set_title(f\"{par.name}: {par.value:.1e} +- {par.error:.1e}\")"
   ]
  },
  {
   "cell_type": "markdown",
   "id": "d97263e1",
   "metadata": {},
   "source": [
    "Inspect model residuals. Those can always be accessed using `~Dataset.residuals()`, that will return an array in case a the fitted `Dataset` is a `SpectrumDataset` and a full cube in case of a `MapDataset`. For more details, we refer here to the dedicated fitting tutorials: [analysis_3d.ipynb](../analysis/3D/analysis_3d.ipynb) (for `MapDataset` fitting) and [spectrum_analysis.ipynb](../analysis/1D/spectral_analysis.ipynb) (for `SpectrumDataset` fitting)."
   ]
  },
  {
   "cell_type": "markdown",
   "id": "4e950ff2",
   "metadata": {},
   "source": [
    "## Covariance and parameters errors\n",
    "\n",
    "After the fit the covariance matrix is attached to the model. You can get the error on a specific parameter by accessing the `.error` attribute:"
   ]
  },
  {
   "cell_type": "code",
   "execution_count": null,
   "id": "a266e3b6",
   "metadata": {},
   "outputs": [],
   "source": [
    "crab_model.spectral_model.alpha.error"
   ]
  },
  {
   "cell_type": "markdown",
   "id": "e33db055",
   "metadata": {},
   "source": [
    "And you can plot the total parameter correlation as well:"
   ]
  },
  {
   "cell_type": "code",
   "execution_count": null,
   "id": "82a0787c",
   "metadata": {},
   "outputs": [],
   "source": [
    "crab_model.covariance.plot_correlation()"
   ]
  },
  {
   "cell_type": "markdown",
   "id": "7e22a3cf",
   "metadata": {},
   "source": [
    "As an example, this step is needed to produce a butterfly plot showing the envelope of the model taking into account parameter uncertainties."
   ]
  },
  {
   "cell_type": "code",
   "execution_count": null,
   "id": "b1d80d1b",
   "metadata": {},
   "outputs": [],
   "source": [
    "energy_bounds = [1, 10] * u.TeV\n",
    "crab_spectrum.plot(energy_bounds=energy_bounds, energy_power=2)\n",
    "ax = crab_spectrum.plot_error(energy_bounds=energy_bounds, energy_power=2)"
   ]
  },
  {
   "cell_type": "markdown",
   "id": "dea1ff83",
   "metadata": {},
   "source": [
    "## Confidence contours\n",
    "\n",
    "\n",
    "In most studies, one wishes to estimate parameters distribution using observed sample data.\n",
    "A 1-dimensional confidence interval gives an estimated range of values which is likely to include an unknown parameter.\n",
    "A confidence contour is a 2-dimensional generalization of a confidence interval, often represented as an ellipsoid around the best-fit value.\n",
    "\n",
    "Gammapy offers two ways of computing confidence contours, in the dedicated methods `Fit.minos_contour()` and `Fit.stat_profile()`. In the following sections we will describe them."
   ]
  },
  {
   "cell_type": "markdown",
   "id": "29aeac1f",
   "metadata": {},
   "source": [
    "An important point to keep in mind is: *what does a $N\\sigma$ confidence contour really mean?* The answer is it represents the points of the parameter space for which the model likelihood is $N\\sigma$ above the minimum. But one always has to keep in mind that **1 standard deviation in two dimensions has a smaller coverage probability than 68%**, and similarly for all other levels. In particular, in 2-dimensions the probability enclosed by the $N\\sigma$ confidence contour is $P(N)=1-e^{-N^2/2}$."
   ]
  },
  {
   "cell_type": "markdown",
   "id": "3d5d294e",
   "metadata": {},
   "source": [
    "### Computing contours using `Fit.stat_contour()` "
   ]
  },
  {
   "cell_type": "markdown",
   "id": "2c5ed54b",
   "metadata": {},
   "source": [
    "After the fit, MINUIT offers the possibility to compute the confidence confours.\n",
    "gammapy provides an interface to this functionality through the `Fit` object using the `.stat_contour` method.\n",
    "Here we defined a function to automate the contour production for the different parameterer and confidence levels (expressed in term of sigma):"
   ]
  },
  {
   "cell_type": "code",
   "execution_count": null,
   "id": "646a8b27",
   "metadata": {},
   "outputs": [],
   "source": [
    "def make_contours(fit, datasets, result, npoints, sigmas):\n",
    "    cts_sigma = []\n",
    "    for sigma in sigmas:\n",
    "        contours = dict()\n",
    "        for par_1, par_2 in combinations([\"alpha\", \"beta\", \"amplitude\"], r=2):\n",
    "            contour = fit.stat_contour(\n",
    "                datasets=datasets,\n",
    "                x=datasets.parameters[par_1],\n",
    "                y=datasets.parameters[par_2],\n",
    "                numpoints=npoints,\n",
    "                sigma=sigma,\n",
    "            )\n",
    "            contours[f\"contour_{par_1}_{par_2}\"] = {\n",
    "                par_1: contour[par_1].tolist(),\n",
    "                par_2: contour[par_2].tolist(),\n",
    "            }\n",
    "        cts_sigma.append(contours)\n",
    "    return cts_sigma"
   ]
  },
  {
   "cell_type": "markdown",
   "id": "83b040a3",
   "metadata": {},
   "source": [
    "Now we can compute few contours."
   ]
  },
  {
   "cell_type": "code",
   "execution_count": null,
   "id": "c5e2c536",
   "metadata": {},
   "outputs": [],
   "source": [
    "%%time\n",
    "sigmas = [1, 2]\n",
    "cts_sigma = make_contours(\n",
    "    fit=fit,\n",
    "    datasets=datasets,\n",
    "    result=result_minuit,\n",
    "    npoints=10,\n",
    "    sigmas=sigmas,\n",
    ")"
   ]
  },
  {
   "cell_type": "markdown",
   "id": "1a027a3f",
   "metadata": {},
   "source": [
    "Then we prepare some aliases and annotations in order to make the plotting nicer."
   ]
  },
  {
   "cell_type": "code",
   "execution_count": null,
   "id": "b20028cf",
   "metadata": {},
   "outputs": [],
   "source": [
    "pars = {\n",
    "    \"phi\": r\"$\\phi_0 \\,/\\,(10^{-11}\\,{\\rm TeV}^{-1} \\, {\\rm cm}^{-2} {\\rm s}^{-1})$\",\n",
    "    \"alpha\": r\"$\\alpha$\",\n",
    "    \"beta\": r\"$\\beta$\",\n",
    "}\n",
    "\n",
    "panels = [\n",
    "    {\n",
    "        \"x\": \"alpha\",\n",
    "        \"y\": \"phi\",\n",
    "        \"cx\": (lambda ct: ct[\"contour_alpha_amplitude\"][\"alpha\"]),\n",
    "        \"cy\": (\n",
    "            lambda ct: np.array(1e11)\n",
    "            * ct[\"contour_alpha_amplitude\"][\"amplitude\"]\n",
    "        ),\n",
    "    },\n",
    "    {\n",
    "        \"x\": \"beta\",\n",
    "        \"y\": \"phi\",\n",
    "        \"cx\": (lambda ct: ct[\"contour_beta_amplitude\"][\"beta\"]),\n",
    "        \"cy\": (\n",
    "            lambda ct: np.array(1e11)\n",
    "            * ct[\"contour_beta_amplitude\"][\"amplitude\"]\n",
    "        ),\n",
    "    },\n",
    "    {\n",
    "        \"x\": \"alpha\",\n",
    "        \"y\": \"beta\",\n",
    "        \"cx\": (lambda ct: ct[\"contour_alpha_beta\"][\"alpha\"]),\n",
    "        \"cy\": (lambda ct: ct[\"contour_alpha_beta\"][\"beta\"]),\n",
    "    },\n",
    "]"
   ]
  },
  {
   "cell_type": "markdown",
   "id": "db0956f9",
   "metadata": {},
   "source": [
    "Finally we produce the confidence contours figures."
   ]
  },
  {
   "cell_type": "code",
   "execution_count": null,
   "id": "9c1010a9",
   "metadata": {},
   "outputs": [],
   "source": [
    "fig, axes = plt.subplots(1, 3, figsize=(16, 5))\n",
    "colors = [\"m\", \"b\", \"c\"]\n",
    "for p, ax in zip(panels, axes):\n",
    "    xlabel = pars[p[\"x\"]]\n",
    "    ylabel = pars[p[\"y\"]]\n",
    "    for ks in range(len(cts_sigma)):\n",
    "        plot_contour_line(\n",
    "            ax,\n",
    "            p[\"cx\"](cts_sigma[ks]),\n",
    "            p[\"cy\"](cts_sigma[ks]),\n",
    "            lw=2.5,\n",
    "            color=colors[ks],\n",
    "            label=f\"{sigmas[ks]}\" + r\"$\\sigma$\",\n",
    "        )\n",
    "    ax.set_xlabel(xlabel)\n",
    "    ax.set_ylabel(ylabel)\n",
    "plt.legend()\n",
    "plt.tight_layout()"
   ]
  },
  {
   "cell_type": "markdown",
   "id": "8cd2aafa",
   "metadata": {},
   "source": [
    "### Computing contours using `Fit.stat_surface()`"
   ]
  },
  {
   "cell_type": "markdown",
   "id": "aae4d1e0",
   "metadata": {},
   "source": [
    "This alternative method for the computation of confidence contours, although more time consuming than `Fit.minos_contour()`, is expected to be more stable. It consists of a generalization of `Fit.stat_profile()` to a 2-dimensional parameter space. The algorithm is very simple:\n",
    "- First, passing two arrays of parameters values, a 2-dimensional discrete parameter space is defined;\n",
    "- For each node of the parameter space, the two parameters of interest are frozen. This way, a likelihood value ($-2\\mathrm{ln}\\,\\mathcal{L}$, actually) is computed, by either freezing (default) or fitting all nuisance parameters;\n",
    "- Finally, a 2-dimensional surface of $-2\\mathrm{ln}(\\mathcal{L})$ values is returned.\n",
    "Using that surface, one can easily compute a surface of $TS = -2\\Delta\\mathrm{ln}(\\mathcal{L})$ and compute confidence contours.\n",
    "\n",
    "Let's see it step by step."
   ]
  },
  {
   "cell_type": "markdown",
   "id": "b064ae24",
   "metadata": {},
   "source": [
    "First of all, we can notice that this method is \"backend-agnostic\", meaning that it can be run with MINUIT, sherpa or scipy as fitting tools. Here we will stick with MINUIT, which is the default choice:"
   ]
  },
  {
   "cell_type": "code",
   "execution_count": null,
   "id": "93b5f56d",
   "metadata": {},
   "outputs": [],
   "source": []
  },
  {
   "cell_type": "markdown",
   "id": "1aaea70b",
   "metadata": {},
   "source": [
    "As an example, we can compute the confidence contour for the `alpha` and `beta` parameters of the `dataset_hess`. Here we define the parameter space:"
   ]
  },
  {
   "cell_type": "code",
   "execution_count": null,
   "id": "20c3a05c",
   "metadata": {},
   "outputs": [],
   "source": [
    "result = result_minuit\n",
    "par_alpha = datasets.parameters[\"alpha\"]\n",
    "par_beta = datasets.parameters[\"beta\"]\n",
    "\n",
    "par_alpha.scan_values = np.linspace(1.55, 2.7, 20)\n",
    "par_beta.scan_values = np.linspace(-0.05, 0.55, 20)"
   ]
  },
  {
   "cell_type": "markdown",
   "id": "b9fe9226",
   "metadata": {},
   "source": [
    "Then we run the algorithm, by choosing `reoptimize=False` for the sake of time saving. In real life applications, we strongly recommend to  use `reoptimize=True`, so that all free nuisance parameters will be fit at each grid node. This is the correct way, statistically speaking, of computing confidence contours, but is expected to be time consuming."
   ]
  },
  {
   "cell_type": "code",
   "execution_count": null,
   "id": "76b1ad89",
   "metadata": {},
   "outputs": [],
   "source": [
    "fit = Fit(backend=\"minuit\", optimize_opts={\"print_level\": 0})\n",
    "stat_surface = fit.stat_surface(\n",
    "    datasets=datasets,\n",
    "    x=par_alpha,\n",
    "    y=par_beta,\n",
    "    reoptimize=False,\n",
    ")"
   ]
  },
  {
   "cell_type": "markdown",
   "id": "6d955670",
   "metadata": {},
   "source": [
    "In order to easily inspect the results, we can convert the $-2\\mathrm{ln}(\\mathcal{L})$ surface to a surface of statistical significance (in units of Gaussian standard deviations from the surface minimum):"
   ]
  },
  {
   "cell_type": "code",
   "execution_count": null,
   "id": "93157f7b",
   "metadata": {},
   "outputs": [],
   "source": [
    "# Compute TS\n",
    "TS = stat_surface[\"stat_scan\"] - result.total_stat"
   ]
  },
  {
   "cell_type": "code",
   "execution_count": null,
   "id": "69f95a81",
   "metadata": {},
   "outputs": [],
   "source": [
    "# Compute the corresponding statistical significance surface\n",
    "stat_surface = np.sqrt(TS.T)"
   ]
  },
  {
   "cell_type": "markdown",
   "id": "7d79f139",
   "metadata": {},
   "source": [
    "Notice that, as explained before, $1\\sigma$ contour obtained this way will not contain 68% of the probability, but rather "
   ]
  },
  {
   "cell_type": "code",
   "execution_count": null,
   "id": "1199cba0",
   "metadata": {},
   "outputs": [],
   "source": [
    "# Compute the corresponding statistical significance surface\n",
    "# p_value = 1 - st.chi2(df=1).cdf(TS)\n",
    "# gaussian_sigmas = st.norm.isf(p_value / 2).T"
   ]
  },
  {
   "cell_type": "markdown",
   "id": "3ae5751f",
   "metadata": {},
   "source": [
    "Finally, we can plot the surface values together with contours:"
   ]
  },
  {
   "cell_type": "code",
   "execution_count": null,
   "id": "415e59bd",
   "metadata": {
    "nbsphinx-thumbnail": {
     "tooltip": "Learn how the model, dataset and fit Gammapy classes work together in a detailed modeling and fitting use-case."
    }
   },
   "outputs": [],
   "source": [
    "fig, ax = plt.subplots(figsize=(8, 6))\n",
    "x_values = par_alpha.scan_values\n",
    "y_values = par_beta.scan_values\n",
    "\n",
    "# plot surface\n",
    "im = ax.pcolormesh(x_values, y_values, stat_surface, shading=\"auto\")\n",
    "fig.colorbar(im, label=\"sqrt(TS)\")\n",
    "ax.set_xlabel(f\"{par_alpha.name}\")\n",
    "ax.set_ylabel(f\"{par_beta.name}\")\n",
    "\n",
    "# We choose to plot 1 and 2 sigma confidence contours\n",
    "levels = [1, 2]\n",
    "contours = ax.contour(\n",
    "    x_values, y_values, stat_surface, levels=levels, colors=\"white\"\n",
    ")\n",
    "ax.clabel(contours, fmt=\"%.0f$\\,\\sigma$\", inline=3, fontsize=15);"
   ]
  },
  {
   "cell_type": "markdown",
   "id": "dddeb7ad",
   "metadata": {},
   "source": [
    "Note that, if computed with `reoptimize=True`, this plot would be completely consistent with the third panel of the plot produced with `Fit.stat_contour` (try!)."
   ]
  },
  {
   "cell_type": "markdown",
   "id": "825cd6b6",
   "metadata": {},
   "source": [
    "Finally, it is always remember that confidence contours are approximations. In particular, when the parameter range boundaries are close to the contours lines, it is expected that the statistical meaning of the contours is not well defined. That's why we advise to always choose a parameter space that com contain the contours you're interested in."
   ]
  },
  {
   "cell_type": "code",
   "execution_count": null,
   "id": "75b9a9e7",
   "metadata": {},
   "outputs": [],
   "source": []
  }
 ],
 "metadata": {
  "kernelspec": {
   "display_name": "Python 3 (ipykernel)",
   "language": "python",
   "name": "python3"
  },
  "language_info": {
   "codemirror_mode": {
    "name": "ipython",
    "version": 3
   },
   "file_extension": ".py",
   "mimetype": "text/x-python",
   "name": "python",
   "nbconvert_exporter": "python",
   "pygments_lexer": "ipython3",
   "version": "3.7.12"
  },
  "latex_envs": {
   "LaTeX_envs_menu_present": true,
   "autoclose": false,
   "autocomplete": true,
   "bibliofile": "biblio.bib",
   "cite_by": "apalike",
   "current_citInitial": 1,
   "eqLabelWithNumbers": true,
   "eqNumInitial": 1,
   "hotkeys": {
    "equation": "Ctrl-E",
    "itemize": "Ctrl-I"
   },
   "labels_anchors": false,
   "latex_user_defs": false,
   "report_style_numbering": false,
   "user_envs_cfg": false
  }
 },
 "nbformat": 4,
 "nbformat_minor": 5
}
