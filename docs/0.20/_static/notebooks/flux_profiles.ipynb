{
 "cells": [
  {
   "cell_type": "markdown",
   "id": "00710b5d",
   "metadata": {},
   "source": [
    "# Flux Profile Estimation\n",
    "\n",
    "\n",
    "This tutorial shows how to estimate flux profiles.\n",
    "\n",
    "## Prerequisites\n",
    "\n",
    "Knowledge of 3D data reduction and datasets used in Gammapy, see for instance the first analysis tutorial.\n",
    "\n",
    "\n",
    "## Context\n",
    "A useful tool to study and compare the saptial distribution of flux in images and data cubes is the measurement of flxu profiles. Flux profiles can show spatial correlations of gamma-ray data with e.g. gas maps or other type of gamma-ray data. Most commonly flux profiles are measured along some preferred coordinate axis, either radially distance from a source of interest, along longitude and latitude coordinate axes or along the path defined by two spatial coordinates. \n",
    "\n",
    "## Proposed Approach\n",
    "Flux profile estimation essentially works by estimating flux points for a set of predefined spatially connected regions. For radial flux profiles the shape of the regions are annuli with a common center, for linear profiles it's typically a rectangular shape.\n",
    "\n",
    "We will work on a pre-computed `MapDataset` of Fermi-LAT data, use `Region` to define the structure of the bins of the flux profile and run the actually profile extraction using the `FluxProfileEstimator` \n"
   ]
  },
  {
   "cell_type": "markdown",
   "id": "fd59f403",
   "metadata": {},
   "source": [
    "## Setup and Imports"
   ]
  },
  {
   "cell_type": "code",
   "execution_count": null,
   "id": "a661e27c",
   "metadata": {},
   "outputs": [],
   "source": [
    "%matplotlib inline\n",
    "import matplotlib.pyplot as plt\n",
    "from astropy import units as u\n",
    "from astropy.coordinates import SkyCoord\n",
    "import numpy as np"
   ]
  },
  {
   "cell_type": "code",
   "execution_count": null,
   "id": "56f54e1a",
   "metadata": {},
   "outputs": [],
   "source": [
    "from gammapy.datasets import MapDataset\n",
    "from gammapy.estimators import FluxProfileEstimator, FluxPoints\n",
    "from gammapy.maps import RegionGeom\n",
    "from gammapy.utils.regions import (\n",
    "    make_concentric_annulus_sky_regions,\n",
    "    make_orthogonal_rectangle_sky_regions,\n",
    ")\n",
    "from gammapy.modeling.models import PowerLawSpectralModel"
   ]
  },
  {
   "cell_type": "markdown",
   "id": "36d78680",
   "metadata": {},
   "source": [
    "## Read and Introduce Data"
   ]
  },
  {
   "cell_type": "code",
   "execution_count": null,
   "id": "2c0b764c",
   "metadata": {},
   "outputs": [],
   "source": [
    "dataset = MapDataset.read(\n",
    "    \"$GAMMAPY_DATA/fermi-3fhl-gc/fermi-3fhl-gc.fits.gz\", name=\"fermi-dataset\"\n",
    ")"
   ]
  },
  {
   "cell_type": "markdown",
   "id": "d11ff33b",
   "metadata": {},
   "source": [
    "This is what the counts image we will work with looks like:"
   ]
  },
  {
   "cell_type": "code",
   "execution_count": null,
   "id": "2402872b",
   "metadata": {},
   "outputs": [],
   "source": [
    "counts_image = dataset.counts.sum_over_axes()\n",
    "counts_image.smooth(\"0.1 deg\").plot(stretch=\"sqrt\");"
   ]
  },
  {
   "cell_type": "markdown",
   "id": "3512ddb0",
   "metadata": {},
   "source": [
    "There are 400x200 pixels in the dataset and 11 energy bins between 10 GeV and 2 TeV:"
   ]
  },
  {
   "cell_type": "code",
   "execution_count": null,
   "id": "0aa5639c",
   "metadata": {},
   "outputs": [],
   "source": [
    "print(dataset.counts)"
   ]
  },
  {
   "cell_type": "markdown",
   "id": "fd2312bb",
   "metadata": {},
   "source": [
    "## Profile Estimation\n",
    "\n",
    "### Configuration\n",
    "\n",
    "We start by defining a list of spatially connected regions along the galactic longitude axis. For this there is a helper function `make_orthogonal_rectangle_sky_regions`. The individual region bins for the profile have a height of 3 deg and in total there are 31 bins. The starts from  lon = 10 deg tand goes to lon = 350 deg. In addition we have to specify the `wcs` to take into account possible projections effects on the region definition:"
   ]
  },
  {
   "cell_type": "code",
   "execution_count": null,
   "id": "0232c73f",
   "metadata": {},
   "outputs": [],
   "source": [
    "regions = make_orthogonal_rectangle_sky_regions(\n",
    "    start_pos=SkyCoord(\"10d\", \"0d\", frame=\"galactic\"),\n",
    "    end_pos=SkyCoord(\"350d\", \"0d\", frame=\"galactic\"),\n",
    "    wcs=counts_image.geom.wcs,\n",
    "    height=\"3 deg\",\n",
    "    nbin=51,\n",
    ")"
   ]
  },
  {
   "cell_type": "markdown",
   "id": "a2aa89d4",
   "metadata": {},
   "source": [
    "We can use the `RegionGeom` object to illustrate the regions on top of the counts image:"
   ]
  },
  {
   "cell_type": "code",
   "execution_count": null,
   "id": "5d40755b",
   "metadata": {
    "nbsphinx-thumbnail": {
     "tooltip": "Learn how to estimate flux profiles on a Fermi-LAT dataset"
    }
   },
   "outputs": [],
   "source": [
    "geom = RegionGeom.create(region=regions)\n",
    "ax = counts_image.smooth(\"0.1 deg\").plot(stretch=\"sqrt\")\n",
    "geom.plot_region(ax=ax, color=\"w\");"
   ]
  },
  {
   "cell_type": "markdown",
   "id": "0c35350f",
   "metadata": {},
   "source": [
    "Next we create the `FluxProfileEstimator`. For the estimation of the flux profile we assume a spectral model with a power-law shape and an index of 2.3"
   ]
  },
  {
   "cell_type": "code",
   "execution_count": null,
   "id": "e72440ed",
   "metadata": {},
   "outputs": [],
   "source": [
    "flux_profile_estimator = FluxProfileEstimator(\n",
    "    regions=regions,\n",
    "    spectrum=PowerLawSpectralModel(index=2.3),\n",
    "    energy_edges=[10, 2000] * u.GeV,\n",
    "    selection_optional=[\"ul\"],\n",
    ")"
   ]
  },
  {
   "cell_type": "markdown",
   "id": "b77f0d22",
   "metadata": {},
   "source": [
    "We can see the full configuration by printing the estimator object:"
   ]
  },
  {
   "cell_type": "code",
   "execution_count": null,
   "id": "3e5ef3e3",
   "metadata": {},
   "outputs": [],
   "source": [
    "print(flux_profile_estimator)"
   ]
  },
  {
   "cell_type": "markdown",
   "id": "450b3df3",
   "metadata": {},
   "source": [
    "### Run Estimation\n",
    "Now we can run the profile estimation and explore the results:"
   ]
  },
  {
   "cell_type": "code",
   "execution_count": null,
   "id": "bf555615",
   "metadata": {},
   "outputs": [],
   "source": [
    "%%time\n",
    "profile = flux_profile_estimator.run(datasets=dataset)"
   ]
  },
  {
   "cell_type": "code",
   "execution_count": null,
   "id": "3dd2dfc0",
   "metadata": {},
   "outputs": [],
   "source": [
    "print(profile)"
   ]
  },
  {
   "cell_type": "markdown",
   "id": "b976bce6",
   "metadata": {},
   "source": [
    "We can see the flux profile is represented by a `FluxPoints` object with a `projected-distance` axis, which defines the main axis the flux profile is measured along. The `lon` and `lat` axes can be ignored. \n",
    "\n",
    "### Plotting Results\n",
    "\n",
    "Let us directly plot the result using `FluxPoints.plot()`:"
   ]
  },
  {
   "cell_type": "code",
   "execution_count": null,
   "id": "be6ad6e6",
   "metadata": {},
   "outputs": [],
   "source": [
    "ax = profile.plot(sed_type=\"dnde\")\n",
    "ax.set_yscale(\"linear\")"
   ]
  },
  {
   "cell_type": "markdown",
   "id": "71cc4695",
   "metadata": {},
   "source": [
    "Based on the spectral model we specified above we can also plot in any other sed type, e.g. energy flux and define a different threshold when to plot upper limits:"
   ]
  },
  {
   "cell_type": "code",
   "execution_count": null,
   "id": "41a8ddb6",
   "metadata": {},
   "outputs": [],
   "source": [
    "profile.sqrt_ts_threshold_ul = 2\n",
    "\n",
    "ax = profile.plot(sed_type=\"eflux\")\n",
    "ax.set_yscale(\"linear\")"
   ]
  },
  {
   "cell_type": "markdown",
   "id": "0d5f7b85",
   "metadata": {},
   "source": [
    "We can also plot any other quantity of interest, that is defined on the `FluxPoints` result object. E.g. the predicted total counts, background counts and excess counts: "
   ]
  },
  {
   "cell_type": "code",
   "execution_count": null,
   "id": "c0354fe5",
   "metadata": {},
   "outputs": [],
   "source": [
    "quantities = [\"npred\", \"npred_excess\", \"npred_background\"]\n",
    "\n",
    "for quantity in quantities:\n",
    "    profile[quantity].plot(label=quantity.title())\n",
    "\n",
    "plt.ylabel(\"Counts \")"
   ]
  },
  {
   "cell_type": "markdown",
   "id": "4c49b306",
   "metadata": {},
   "source": [
    "### Serialisation and I/O\n",
    "\n",
    "The profile can be serialised using `FluxPoints.write()`, given a specific format:"
   ]
  },
  {
   "cell_type": "code",
   "execution_count": null,
   "id": "6281d299",
   "metadata": {},
   "outputs": [],
   "source": [
    "profile.write(\n",
    "    filename=\"flux_profile_fermi.fits\",\n",
    "    format=\"profile\",\n",
    "    overwrite=True,\n",
    "    sed_type=\"dnde\",\n",
    ")"
   ]
  },
  {
   "cell_type": "code",
   "execution_count": null,
   "id": "22293df3",
   "metadata": {},
   "outputs": [],
   "source": [
    "profile_new = FluxPoints.read(\n",
    "    filename=\"flux_profile_fermi.fits\", format=\"profile\"\n",
    ")"
   ]
  },
  {
   "cell_type": "code",
   "execution_count": null,
   "id": "71c07b9b",
   "metadata": {},
   "outputs": [],
   "source": [
    "ax = profile_new.plot()\n",
    "ax.set_yscale(\"linear\")"
   ]
  },
  {
   "cell_type": "markdown",
   "id": "62df5199",
   "metadata": {},
   "source": [
    "The profile can be serialised to a `~astropy.table.Table` object using:"
   ]
  },
  {
   "cell_type": "code",
   "execution_count": null,
   "id": "3dbda596",
   "metadata": {},
   "outputs": [],
   "source": [
    "table = profile.to_table(format=\"profile\", formatted=True)\n",
    "table"
   ]
  },
  {
   "cell_type": "markdown",
   "id": "dbf32b5c",
   "metadata": {},
   "source": [
    "No we can also estimate a radial profile starting from the Galactic center:"
   ]
  },
  {
   "cell_type": "code",
   "execution_count": null,
   "id": "4b7c11e1",
   "metadata": {},
   "outputs": [],
   "source": [
    "regions = make_concentric_annulus_sky_regions(\n",
    "    center=SkyCoord(\"0d\", \"0d\", frame=\"galactic\"),\n",
    "    radius_max=\"1.5 deg\",\n",
    "    nbin=11,\n",
    ")"
   ]
  },
  {
   "cell_type": "markdown",
   "id": "04db2989",
   "metadata": {},
   "source": [
    "Again we first illustrate the regions:"
   ]
  },
  {
   "cell_type": "code",
   "execution_count": null,
   "id": "40f56f14",
   "metadata": {},
   "outputs": [],
   "source": [
    "geom = RegionGeom.create(region=regions)\n",
    "gc_image = counts_image.cutout(\n",
    "    position=SkyCoord(\"0d\", \"0d\", frame=\"galactic\"), width=3 * u.deg\n",
    ")\n",
    "ax = gc_image.smooth(\"0.1 deg\").plot(stretch=\"sqrt\")\n",
    "geom.plot_region(ax=ax, color=\"w\");"
   ]
  },
  {
   "cell_type": "markdown",
   "id": "e4263cae",
   "metadata": {},
   "source": [
    "This time we define two energy bins and include the fit statistic profile in the computation:"
   ]
  },
  {
   "cell_type": "code",
   "execution_count": null,
   "id": "1fd0ddb4",
   "metadata": {},
   "outputs": [],
   "source": [
    "flux_profile_estimator = FluxProfileEstimator(\n",
    "    regions=regions,\n",
    "    spectrum=PowerLawSpectralModel(index=2.3),\n",
    "    energy_edges=[10, 100, 2000] * u.GeV,\n",
    "    selection_optional=[\"ul\", \"scan\"],\n",
    "    norm_values=np.linspace(-1, 5, 11),\n",
    ")"
   ]
  },
  {
   "cell_type": "code",
   "execution_count": null,
   "id": "06cdcea6",
   "metadata": {},
   "outputs": [],
   "source": [
    "profile = flux_profile_estimator.run(datasets=dataset)"
   ]
  },
  {
   "cell_type": "markdown",
   "id": "c85cbdf7",
   "metadata": {},
   "source": [
    "We can directly plot the result:"
   ]
  },
  {
   "cell_type": "code",
   "execution_count": null,
   "id": "ecbbab1c",
   "metadata": {},
   "outputs": [],
   "source": [
    "ax = profile.plot(axis_name=\"projected-distance\", sed_type=\"flux\")"
   ]
  },
  {
   "cell_type": "markdown",
   "id": "8316fffe",
   "metadata": {},
   "source": [
    "However because of the powerlaw spectrum the flux at high energies is much lower. To extract the profile at high energies only we can use:"
   ]
  },
  {
   "cell_type": "code",
   "execution_count": null,
   "id": "2eafc3fe",
   "metadata": {},
   "outputs": [],
   "source": [
    "profile_high = profile.slice_by_idx({\"energy\": slice(1, 2)})"
   ]
  },
  {
   "cell_type": "markdown",
   "id": "1805049d",
   "metadata": {},
   "source": [
    "And now plot the points together with the likelihood profiles:"
   ]
  },
  {
   "cell_type": "code",
   "execution_count": null,
   "id": "9bcfba84",
   "metadata": {},
   "outputs": [],
   "source": [
    "ax = profile_high.plot(sed_type=\"eflux\", color=\"tab:orange\")\n",
    "profile_high.plot_ts_profiles(ax=ax, sed_type=\"eflux\")\n",
    "ax.set_yscale(\"linear\")"
   ]
  },
  {
   "cell_type": "code",
   "execution_count": null,
   "id": "7aa827aa",
   "metadata": {},
   "outputs": [],
   "source": []
  }
 ],
 "metadata": {
  "kernelspec": {
   "display_name": "Python 3 (ipykernel)",
   "language": "python",
   "name": "python3"
  },
  "language_info": {
   "codemirror_mode": {
    "name": "ipython",
    "version": 3
   },
   "file_extension": ".py",
   "mimetype": "text/x-python",
   "name": "python",
   "nbconvert_exporter": "python",
   "pygments_lexer": "ipython3",
   "version": "3.9.0"
  }
 },
 "nbformat": 4,
 "nbformat_minor": 5
}
