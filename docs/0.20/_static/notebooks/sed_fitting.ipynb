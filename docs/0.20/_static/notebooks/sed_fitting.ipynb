{
 "cells": [
  {
   "cell_type": "markdown",
   "id": "9b5caefd",
   "metadata": {},
   "source": [
    "# Flux point fitting\n",
    "\n",
    "## Prerequisites\n",
    "\n",
    "- Some knowledge about retrieving information from catalogs, see [the catalogs tutorial](../../api/catalog.ipynb)\n",
    " \n",
    "## Context\n",
    "\n",
    "Some high level studies do not rely on reduced datasets with their IRFs but directly on higher level products such as flux points. This is not ideal because flux points already contain some hypothesis for the underlying spectral shape and the uncertainties they carry are usually simplified (e.g. symmetric gaussian errors). Yet, this is an efficient way to combine heterogeneous data. \n",
    "\n",
    "**Objective: fit spectral models to combined Fermi-LAT and IACT flux points.**\n",
    "\n",
    "## Proposed approach\n",
    "\n",
    "Here we will load, the spectral points from Fermi-LAT and TeV catalogs and fit them with various spectral models to find the best representation of the wide band spectrum.\n",
    " \n",
    "The central class we're going to use for this example analysis is:  \n",
    "\n",
    "- `~gammapy.datasets.FluxPointsDataset`\n",
    "\n",
    "In addition we will work with the following data classes:\n",
    "\n",
    "- `~gammapy.estimators.FluxPoints`\n",
    "- `~gammapy.catalog.SourceCatalogGammaCat`\n",
    "- `~gammapy.catalog.SourceCatalog3FHL`\n",
    "- `~gammapy.catalog.SourceCatalog3FGL`\n",
    "\n",
    "And the following spectral model classes:\n",
    "\n",
    "- `~gammapy.modeling.models.PowerLawSpectralModel`\n",
    "- `~gammapy.modeling.models.ExpCutoffPowerLawSpectralModel`\n",
    "- `~gammapy.modeling.models.LogParabolaSpectralModel`"
   ]
  },
  {
   "cell_type": "markdown",
   "id": "891a1df8",
   "metadata": {},
   "source": [
    "## Setup\n",
    "\n",
    "Let us start with the usual IPython notebook and Python imports:"
   ]
  },
  {
   "cell_type": "code",
   "execution_count": null,
   "id": "c6e3efbf",
   "metadata": {},
   "outputs": [],
   "source": [
    "%matplotlib inline\n",
    "import matplotlib.pyplot as plt"
   ]
  },
  {
   "cell_type": "code",
   "execution_count": null,
   "id": "3ac8a12e",
   "metadata": {},
   "outputs": [],
   "source": [
    "from astropy import units as u\n",
    "from gammapy.modeling.models import (\n",
    "    PowerLawSpectralModel,\n",
    "    ExpCutoffPowerLawSpectralModel,\n",
    "    LogParabolaSpectralModel,\n",
    "    SkyModel,\n",
    ")\n",
    "from gammapy.estimators import FluxPoints\n",
    "from gammapy.datasets import FluxPointsDataset, Datasets\n",
    "from gammapy.catalog import CATALOG_REGISTRY\n",
    "from gammapy.modeling import Fit"
   ]
  },
  {
   "cell_type": "markdown",
   "id": "8fc00ed5",
   "metadata": {},
   "source": [
    "## Load spectral points\n",
    "\n",
    "For this analysis we choose to work with the source 'HESS J1507-622' and the associated Fermi-LAT sources '3FGL J1506.6-6219' and '3FHL J1507.9-6228e'. We load the source catalogs, and then access source of interest by name:"
   ]
  },
  {
   "cell_type": "code",
   "execution_count": null,
   "id": "64b2071e",
   "metadata": {},
   "outputs": [],
   "source": [
    "catalog_3fgl = CATALOG_REGISTRY.get_cls(\"3fgl\")()\n",
    "catalog_3fhl = CATALOG_REGISTRY.get_cls(\"3fhl\")()\n",
    "catalog_gammacat = CATALOG_REGISTRY.get_cls(\"gamma-cat\")()"
   ]
  },
  {
   "cell_type": "code",
   "execution_count": null,
   "id": "eb444052",
   "metadata": {},
   "outputs": [],
   "source": [
    "source_fermi_3fgl = catalog_3fgl[\"3FGL J1506.6-6219\"]\n",
    "source_fermi_3fhl = catalog_3fhl[\"3FHL J1507.9-6228e\"]\n",
    "source_gammacat = catalog_gammacat[\"HESS J1507-622\"]"
   ]
  },
  {
   "cell_type": "markdown",
   "id": "d853c688",
   "metadata": {},
   "source": [
    "The corresponding flux points data can be accessed with `.flux_points` attribute:"
   ]
  },
  {
   "cell_type": "code",
   "execution_count": null,
   "id": "a64709ec",
   "metadata": {},
   "outputs": [],
   "source": [
    "dataset_gammacat = FluxPointsDataset(\n",
    "    data=source_gammacat.flux_points, name=\"gammacat\"\n",
    ")\n",
    "dataset_gammacat.data.to_table(sed_type=\"dnde\", formatted=True)"
   ]
  },
  {
   "cell_type": "code",
   "execution_count": null,
   "id": "41828758",
   "metadata": {},
   "outputs": [],
   "source": [
    "dataset_3fgl = FluxPointsDataset(\n",
    "    data=source_fermi_3fgl.flux_points, name=\"3fgl\"\n",
    ")\n",
    "dataset_3fgl.data.to_table(sed_type=\"dnde\", formatted=True)"
   ]
  },
  {
   "cell_type": "code",
   "execution_count": null,
   "id": "9cbc95b7",
   "metadata": {},
   "outputs": [],
   "source": [
    "dataset_3fhl = FluxPointsDataset(\n",
    "    data=source_fermi_3fhl.flux_points, name=\"3fhl\"\n",
    ")\n",
    "dataset_3fhl.data.to_table(sed_type=\"dnde\", formatted=True)"
   ]
  },
  {
   "cell_type": "markdown",
   "id": "4d758a71",
   "metadata": {},
   "source": [
    "## Power Law Fit\n",
    "\n",
    "First we start with fitting a simple `~gammapy.modeling.models.PowerLawSpectralModel`."
   ]
  },
  {
   "cell_type": "code",
   "execution_count": null,
   "id": "7ee38aef",
   "metadata": {},
   "outputs": [],
   "source": [
    "pwl = PowerLawSpectralModel(\n",
    "    index=2, amplitude=\"1e-12 cm-2 s-1 TeV-1\", reference=\"1 TeV\"\n",
    ")\n",
    "model = SkyModel(spectral_model=pwl, name=\"j1507-pl\")"
   ]
  },
  {
   "cell_type": "markdown",
   "id": "30c3d860",
   "metadata": {},
   "source": [
    "After creating the model we run the fit by passing the `'flux_points'` and `'model'` objects:"
   ]
  },
  {
   "cell_type": "code",
   "execution_count": null,
   "id": "4c71db9e",
   "metadata": {},
   "outputs": [],
   "source": [
    "datasets = Datasets([dataset_gammacat, dataset_3fgl, dataset_3fhl])\n",
    "datasets.models = model\n",
    "print(datasets)"
   ]
  },
  {
   "cell_type": "code",
   "execution_count": null,
   "id": "9ab49a97",
   "metadata": {},
   "outputs": [],
   "source": [
    "fitter = Fit()\n",
    "result_pwl = fitter.run(datasets=datasets)"
   ]
  },
  {
   "cell_type": "markdown",
   "id": "4368b878",
   "metadata": {},
   "source": [
    "And print the result:"
   ]
  },
  {
   "cell_type": "code",
   "execution_count": null,
   "id": "dc051d83",
   "metadata": {},
   "outputs": [],
   "source": [
    "print(result_pwl)"
   ]
  },
  {
   "cell_type": "code",
   "execution_count": null,
   "id": "11ea3406",
   "metadata": {},
   "outputs": [],
   "source": [
    "print(model)"
   ]
  },
  {
   "cell_type": "markdown",
   "id": "30792cc9",
   "metadata": {},
   "source": [
    "Finally we plot the data points and the best fit model:"
   ]
  },
  {
   "cell_type": "code",
   "execution_count": null,
   "id": "647c04a8",
   "metadata": {},
   "outputs": [],
   "source": [
    "ax = plt.subplot()\n",
    "ax.yaxis.set_units(u.Unit(\"TeV cm-2 s-1\"))\n",
    "\n",
    "kwargs = {\"ax\": ax, \"sed_type\": \"e2dnde\"}\n",
    "\n",
    "for d in datasets:\n",
    "    d.data.plot(label=d.name, **kwargs)\n",
    "\n",
    "energy_bounds = [1e-4, 1e2] * u.TeV\n",
    "pwl.plot(energy_bounds=energy_bounds, color=\"k\", **kwargs)\n",
    "pwl.plot_error(energy_bounds=energy_bounds, **kwargs)\n",
    "ax.set_ylim(1e-13, 1e-11)\n",
    "ax.set_xlim(energy_bounds)\n",
    "ax.legend()"
   ]
  },
  {
   "cell_type": "markdown",
   "id": "429149c9",
   "metadata": {},
   "source": [
    "## Exponential Cut-Off Powerlaw Fit\n",
    "\n",
    "Next we fit an `~gammapy.modeling.models.ExpCutoffPowerLawSpectralModel` law to the data."
   ]
  },
  {
   "cell_type": "code",
   "execution_count": null,
   "id": "beee86d9",
   "metadata": {},
   "outputs": [],
   "source": [
    "ecpl = ExpCutoffPowerLawSpectralModel(\n",
    "    index=1.8,\n",
    "    amplitude=\"2e-12 cm-2 s-1 TeV-1\",\n",
    "    reference=\"1 TeV\",\n",
    "    lambda_=\"0.1 TeV-1\",\n",
    ")\n",
    "model = SkyModel(spectral_model=ecpl, name=\"j1507-ecpl\")"
   ]
  },
  {
   "cell_type": "markdown",
   "id": "685221ba",
   "metadata": {},
   "source": [
    "We run the fitter again by passing the flux points and the model instance:"
   ]
  },
  {
   "cell_type": "code",
   "execution_count": null,
   "id": "65f6545c",
   "metadata": {},
   "outputs": [],
   "source": [
    "datasets.models = model\n",
    "result_ecpl = fitter.run(datasets=datasets)\n",
    "print(model)"
   ]
  },
  {
   "cell_type": "markdown",
   "id": "97121f3f",
   "metadata": {},
   "source": [
    "We plot the data and best fit model:"
   ]
  },
  {
   "cell_type": "code",
   "execution_count": null,
   "id": "eaa93dd9",
   "metadata": {
    "nbsphinx-thumbnail": {
     "tooltip": "Fit spectral models to combined Fermi-LAT and IACT flux points tables."
    }
   },
   "outputs": [],
   "source": [
    "ax = plt.subplot()\n",
    "\n",
    "kwargs = {\"ax\": ax, \"sed_type\": \"e2dnde\"}\n",
    "\n",
    "ax.yaxis.set_units(u.Unit(\"TeV cm-2 s-1\"))\n",
    "\n",
    "for d in datasets:\n",
    "    d.data.plot(label=d.name, **kwargs)\n",
    "\n",
    "ecpl.plot(energy_bounds=energy_bounds, color=\"k\", **kwargs)\n",
    "ecpl.plot_error(energy_bounds=energy_bounds, **kwargs)\n",
    "ax.set_ylim(1e-13, 1e-11)\n",
    "ax.set_xlim(energy_bounds)\n",
    "ax.legend()"
   ]
  },
  {
   "cell_type": "markdown",
   "id": "6c9971c7",
   "metadata": {},
   "source": [
    "## Log-Parabola Fit\n",
    "\n",
    "Finally we try to fit a `~gammapy.modeling.models.LogParabolaSpectralModel` model:"
   ]
  },
  {
   "cell_type": "code",
   "execution_count": null,
   "id": "2107a671",
   "metadata": {},
   "outputs": [],
   "source": [
    "log_parabola = LogParabolaSpectralModel(\n",
    "    alpha=2, amplitude=\"1e-12 cm-2 s-1 TeV-1\", reference=\"1 TeV\", beta=0.1\n",
    ")\n",
    "model = SkyModel(spectral_model=log_parabola, name=\"j1507-lp\")"
   ]
  },
  {
   "cell_type": "code",
   "execution_count": null,
   "id": "f2fb2cf6",
   "metadata": {},
   "outputs": [],
   "source": [
    "datasets.models = model\n",
    "result_log_parabola = fitter.run(datasets=datasets)\n",
    "print(model)"
   ]
  },
  {
   "cell_type": "code",
   "execution_count": null,
   "id": "c02127ee",
   "metadata": {},
   "outputs": [],
   "source": [
    "ax = plt.subplot()\n",
    "\n",
    "kwargs = {\"ax\": ax, \"sed_type\": \"e2dnde\"}\n",
    "\n",
    "ax.yaxis.set_units(u.Unit(\"TeV cm-2 s-1\"))\n",
    "\n",
    "for d in datasets:\n",
    "    d.data.plot(label=d.name, **kwargs)\n",
    "\n",
    "log_parabola.plot(energy_bounds=energy_bounds, color=\"k\", **kwargs)\n",
    "log_parabola.plot_error(energy_bounds=energy_bounds, **kwargs)\n",
    "ax.set_ylim(1e-13, 1e-11)\n",
    "ax.set_xlim(energy_bounds)\n",
    "ax.legend()"
   ]
  },
  {
   "cell_type": "markdown",
   "id": "5e226a8a",
   "metadata": {},
   "source": [
    "## Exercises\n",
    "\n",
    "- Fit a `~gammapy.modeling.models.PowerLaw2SpectralModel` and `~gammapy.modeling.models.ExpCutoffPowerLaw3FGLSpectralModel` to the same data.\n",
    "- Fit a `~gammapy.modeling.models.ExpCutoffPowerLawSpectralModel` model to Vela X ('HESS J0835-455') only and check if the best fit values correspond to the values given in the Gammacat catalog"
   ]
  },
  {
   "cell_type": "markdown",
   "id": "af2bc164",
   "metadata": {},
   "source": [
    "## What next?\n",
    "\n",
    "This was an introduction to SED fitting in Gammapy.\n",
    "\n",
    "* If you would like to learn how to perform a full Poisson maximum likelihood spectral fit, please check out the [spectrum analysis](spectral_analysis.ipynb) tutorial.\n",
    "* To learn how to combine heterogeneous datasets to perform a multi-instrument forward-folding fit see the [MWL analysis tutorial](../3D/analysis_mwl.ipynb)"
   ]
  },
  {
   "cell_type": "code",
   "execution_count": null,
   "id": "fe017ea2",
   "metadata": {},
   "outputs": [],
   "source": []
  }
 ],
 "metadata": {
  "kernelspec": {
   "display_name": "Python 3 (ipykernel)",
   "language": "python",
   "name": "python3"
  },
  "language_info": {
   "codemirror_mode": {
    "name": "ipython",
    "version": 3
   },
   "file_extension": ".py",
   "mimetype": "text/x-python",
   "name": "python",
   "nbconvert_exporter": "python",
   "pygments_lexer": "ipython3",
   "version": "3.9.12"
  }
 },
 "nbformat": 4,
 "nbformat_minor": 5
}
