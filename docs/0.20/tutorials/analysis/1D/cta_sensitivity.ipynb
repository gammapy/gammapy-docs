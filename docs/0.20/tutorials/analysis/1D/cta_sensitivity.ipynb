{
 "cells": [
  {
   "cell_type": "markdown",
   "id": "208b8047",
   "metadata": {},
   "source": [
    "\n",
    "<div class=\"alert alert-info\">\n",
    "\n",
    "**This is a fixed-text formatted version of a Jupyter notebook**\n",
    "\n",
    "- Try online[![Binder](https://static.mybinder.org/badge.svg)](https://mybinder.org/v2/gh/gammapy/gammapy-webpage/v0.20?urlpath=lab/tree/tutorials/analysis/1D/cta_sensitivity.ipynb)\n",
    "- You may download all the notebooks as a [tar file](../../../_downloads/notebooks-0.20.tar).\n",
    "- **Source files:**\n",
    "[cta_sensitivity.ipynb](../../../_static/notebooks/cta_sensitivity.ipynb) |\n",
    "[cta_sensitivity.py](../../../_static/notebooks/cta_sensitivity.py)\n",
    "</div>\n"
   ]
  },
  {
   "cell_type": "markdown",
   "id": "fbb1c19b",
   "metadata": {},
   "source": [
    "# Point source sensitivity\n",
    "## Introduction\n",
    "\n",
    "This notebook explains how to estimate the CTA sensitivity for a point-like IRF at a fixed zenith angle and fixed offset using the full containment IRFs distributed for the CTA 1DC. The significance is computed for a 1D analysis (On-OFF regions) and the LiMa formula.\n",
    "\n",
    "We use here an approximate approach with an energy dependent integration radius to take into account the variation of the PSF. We will first determine the 1D IRFs including a containment correction. \n",
    "\n",
    "We will be using the following Gammapy class:\n",
    "\n",
    "* `~gammapy.estimators.SensitivityEstimator`"
   ]
  },
  {
   "cell_type": "markdown",
   "id": "47a02fde",
   "metadata": {},
   "source": [
    "## Setup\n",
    "As usual, we'll start with some setup ..."
   ]
  },
  {
   "cell_type": "code",
   "execution_count": 1,
   "id": "c60e6b4e",
   "metadata": {
    "execution": {
     "iopub.execute_input": "2022-05-12T21:50:13.050603Z",
     "iopub.status.busy": "2022-05-12T21:50:13.049578Z",
     "iopub.status.idle": "2022-05-12T21:50:13.654055Z",
     "shell.execute_reply": "2022-05-12T21:50:13.653252Z"
    }
   },
   "outputs": [],
   "source": [
    "%matplotlib inline\n",
    "import matplotlib.pyplot as plt\n",
    "import numpy as np"
   ]
  },
  {
   "cell_type": "code",
   "execution_count": 2,
   "id": "a727d7e1",
   "metadata": {
    "execution": {
     "iopub.execute_input": "2022-05-12T21:50:13.661335Z",
     "iopub.status.busy": "2022-05-12T21:50:13.661056Z",
     "iopub.status.idle": "2022-05-12T21:50:14.616301Z",
     "shell.execute_reply": "2022-05-12T21:50:14.614974Z"
    }
   },
   "outputs": [],
   "source": [
    "import astropy.units as u\n",
    "from astropy.coordinates import Angle, SkyCoord\n",
    "\n",
    "from gammapy.irf import load_cta_irfs\n",
    "from gammapy.makers import SpectrumDatasetMaker\n",
    "from gammapy.data import Observation, observatory_locations\n",
    "from gammapy.estimators import SensitivityEstimator\n",
    "from gammapy.datasets import SpectrumDataset, SpectrumDatasetOnOff\n",
    "from gammapy.maps import MapAxis, RegionGeom"
   ]
  },
  {
   "cell_type": "markdown",
   "id": "affdc1d6",
   "metadata": {},
   "source": [
    "## Define analysis region and energy binning\n",
    "\n",
    "Here we assume a source at 0.5 degree from pointing position. We perform a simple energy independent extraction for now with a radius of 0.1 degree."
   ]
  },
  {
   "cell_type": "code",
   "execution_count": 3,
   "id": "9b1554c8",
   "metadata": {
    "execution": {
     "iopub.execute_input": "2022-05-12T21:50:14.625912Z",
     "iopub.status.busy": "2022-05-12T21:50:14.625351Z",
     "iopub.status.idle": "2022-05-12T21:50:14.678503Z",
     "shell.execute_reply": "2022-05-12T21:50:14.677674Z"
    }
   },
   "outputs": [],
   "source": [
    "energy_axis = MapAxis.from_energy_bounds(\"0.03 TeV\", \"30 TeV\", nbin=20)\n",
    "energy_axis_true = MapAxis.from_energy_bounds(\n",
    "    \"0.01 TeV\", \"100 TeV\", nbin=100, name=\"energy_true\"\n",
    ")\n",
    "\n",
    "geom = RegionGeom.create(\"icrs;circle(0, 0.5, 0.1)\", axes=[energy_axis])\n",
    "\n",
    "empty_dataset = SpectrumDataset.create(\n",
    "    geom=geom, energy_axis_true=energy_axis_true\n",
    ")"
   ]
  },
  {
   "cell_type": "markdown",
   "id": "12d83a78",
   "metadata": {},
   "source": [
    "## Load IRFs and prepare dataset\n",
    "\n",
    "We extract the 1D IRFs from the full 3D IRFs provided by CTA. "
   ]
  },
  {
   "cell_type": "code",
   "execution_count": 4,
   "id": "fb4b755c",
   "metadata": {
    "execution": {
     "iopub.execute_input": "2022-05-12T21:50:14.683477Z",
     "iopub.status.busy": "2022-05-12T21:50:14.683169Z",
     "iopub.status.idle": "2022-05-12T21:50:14.813311Z",
     "shell.execute_reply": "2022-05-12T21:50:14.812571Z"
    }
   },
   "outputs": [
    {
     "name": "stderr",
     "output_type": "stream",
     "text": [
      "Invalid unit found in background table! Assuming (s-1 MeV-1 sr-1)\n"
     ]
    }
   ],
   "source": [
    "irfs = load_cta_irfs(\n",
    "    \"$GAMMAPY_DATA/cta-1dc/caldb/data/cta/1dc/bcf/South_z20_50h/irf_file.fits\"\n",
    ")\n",
    "location = observatory_locations[\"cta_south\"]\n",
    "pointing = SkyCoord(\"0 deg\", \"0 deg\")\n",
    "obs = Observation.create(\n",
    "    pointing=pointing, irfs=irfs, livetime=\"5 h\", location=location\n",
    ")"
   ]
  },
  {
   "cell_type": "code",
   "execution_count": 5,
   "id": "d7b0c2e2",
   "metadata": {
    "execution": {
     "iopub.execute_input": "2022-05-12T21:50:14.820169Z",
     "iopub.status.busy": "2022-05-12T21:50:14.819756Z",
     "iopub.status.idle": "2022-05-12T21:50:15.044021Z",
     "shell.execute_reply": "2022-05-12T21:50:15.031951Z"
    }
   },
   "outputs": [],
   "source": [
    "spectrum_maker = SpectrumDatasetMaker(\n",
    "    selection=[\"exposure\", \"edisp\", \"background\"]\n",
    ")\n",
    "dataset = spectrum_maker.run(empty_dataset, obs)"
   ]
  },
  {
   "cell_type": "markdown",
   "id": "a6ecb833",
   "metadata": {},
   "source": [
    "Now we correct for the energy dependent region size:"
   ]
  },
  {
   "cell_type": "code",
   "execution_count": 6,
   "id": "00c69f8d",
   "metadata": {
    "execution": {
     "iopub.execute_input": "2022-05-12T21:50:15.051395Z",
     "iopub.status.busy": "2022-05-12T21:50:15.050668Z",
     "iopub.status.idle": "2022-05-12T21:50:15.077463Z",
     "shell.execute_reply": "2022-05-12T21:50:15.075978Z"
    }
   },
   "outputs": [],
   "source": [
    "containment = 0.68\n",
    "\n",
    "# correct exposure\n",
    "dataset.exposure *= containment\n",
    "\n",
    "# correct background estimation\n",
    "on_radii = obs.psf.containment_radius(\n",
    "    energy_true=energy_axis.center, offset=0.5 * u.deg, fraction=containment\n",
    ")\n",
    "factor = (1 - np.cos(on_radii)) / (1 - np.cos(geom.region.radius))\n",
    "dataset.background *= factor.value.reshape((-1, 1, 1))"
   ]
  },
  {
   "cell_type": "markdown",
   "id": "0d61437e",
   "metadata": {},
   "source": [
    "And finally define a `SpectrumDatasetOnOff` with an alpha of `0.2`. The off counts are created from the background model:"
   ]
  },
  {
   "cell_type": "code",
   "execution_count": 7,
   "id": "786729f6",
   "metadata": {
    "execution": {
     "iopub.execute_input": "2022-05-12T21:50:15.083906Z",
     "iopub.status.busy": "2022-05-12T21:50:15.083584Z",
     "iopub.status.idle": "2022-05-12T21:50:15.093951Z",
     "shell.execute_reply": "2022-05-12T21:50:15.092982Z"
    }
   },
   "outputs": [],
   "source": [
    "dataset_on_off = SpectrumDatasetOnOff.from_spectrum_dataset(\n",
    "    dataset=dataset, acceptance=1, acceptance_off=5\n",
    ")"
   ]
  },
  {
   "cell_type": "markdown",
   "id": "ee54d462",
   "metadata": {},
   "source": [
    "## Compute sensitivity\n",
    "\n",
    "We impose a minimal number of expected signal counts of 5 per bin and a minimal significance of 3 per bin. We assume an alpha of 0.2 (ratio between ON and OFF area).\n",
    "We then run the sensitivity estimator."
   ]
  },
  {
   "cell_type": "code",
   "execution_count": 8,
   "id": "6347d270",
   "metadata": {
    "execution": {
     "iopub.execute_input": "2022-05-12T21:50:15.109556Z",
     "iopub.status.busy": "2022-05-12T21:50:15.109021Z",
     "iopub.status.idle": "2022-05-12T21:50:15.176564Z",
     "shell.execute_reply": "2022-05-12T21:50:15.175549Z"
    }
   },
   "outputs": [],
   "source": [
    "sensitivity_estimator = SensitivityEstimator(\n",
    "    gamma_min=5, n_sigma=3, bkg_syst_fraction=0.10\n",
    ")\n",
    "sensitivity_table = sensitivity_estimator.run(dataset_on_off)"
   ]
  },
  {
   "cell_type": "markdown",
   "id": "6a07ae79",
   "metadata": {},
   "source": [
    "## Results\n",
    "\n",
    "The results are given as an Astropy table. A column criterion allows to distinguish bins where the significance is limited by the signal statistical significance from bins where the sensitivity is limited by the number of signal counts.\n",
    "This is visible in the plot below."
   ]
  },
  {
   "cell_type": "code",
   "execution_count": 9,
   "id": "8d163673",
   "metadata": {
    "execution": {
     "iopub.execute_input": "2022-05-12T21:50:15.181741Z",
     "iopub.status.busy": "2022-05-12T21:50:15.181376Z",
     "iopub.status.idle": "2022-05-12T21:50:15.194046Z",
     "shell.execute_reply": "2022-05-12T21:50:15.192589Z"
    }
   },
   "outputs": [
    {
     "data": {
      "text/html": [
       "<div><i>Table length=20</i>\n",
       "<table id=\"table5918259952\" class=\"table-striped table-bordered table-condensed\">\n",
       "<thead><tr><th>energy</th><th>e2dnde</th><th>excess</th><th>background</th><th>criterion</th></tr></thead>\n",
       "<thead><tr><th>TeV</th><th>erg / (cm2 s)</th><th></th><th></th><th></th></tr></thead>\n",
       "<thead><tr><th>float64</th><th>float64</th><th>float64</th><th>float64</th><th>bytes12</th></tr></thead>\n",
       "<tr><td>0.0356551</td><td>1.61512e-11</td><td>328.477</td><td>3284.77</td><td>bkg</td></tr>\n",
       "<tr><td>0.0503641</td><td>8.66737e-12</td><td>165.06</td><td>1650.6</td><td>bkg</td></tr>\n",
       "<tr><td>0.0711412</td><td>3.27253e-12</td><td>92.4984</td><td>756.756</td><td>significance</td></tr>\n",
       "<tr><td>0.10049</td><td>1.79729e-12</td><td>65.8637</td><td>376.563</td><td>significance</td></tr>\n",
       "<tr><td>0.141945</td><td>1.30282e-12</td><td>46.0027</td><td>178.563</td><td>significance</td></tr>\n",
       "<tr><td>0.200503</td><td>9.29846e-13</td><td>30.9746</td><td>77.2881</td><td>significance</td></tr>\n",
       "<tr><td>0.283218</td><td>6.38702e-13</td><td>21.3831</td><td>34.5112</td><td>significance</td></tr>\n",
       "<tr><td>0.400056</td><td>5.16894e-13</td><td>14.9743</td><td>15.4188</td><td>significance</td></tr>\n",
       "<tr><td>0.565095</td><td>3.7804e-13</td><td>11.0135</td><td>7.41691</td><td>significance</td></tr>\n",
       "<tr><td>0.798218</td><td>3.3034e-13</td><td>8.17611</td><td>3.4654</td><td>significance</td></tr>\n",
       "<tr><td>1.12751</td><td>2.89668e-13</td><td>6.53986</td><td>1.86033</td><td>significance</td></tr>\n",
       "<tr><td>1.59265</td><td>2.40531e-13</td><td>5.65742</td><td>1.19845</td><td>significance</td></tr>\n",
       "<tr><td>2.24968</td><td>2.16291e-13</td><td>5</td><td>0.743113</td><td>gamma</td></tr>\n",
       "<tr><td>3.17776</td><td>2.29643e-13</td><td>5</td><td>0.466104</td><td>gamma</td></tr>\n",
       "<tr><td>4.48871</td><td>2.73642e-13</td><td>5</td><td>0.3196</td><td>gamma</td></tr>\n",
       "<tr><td>6.34047</td><td>3.57511e-13</td><td>5</td><td>0.18669</td><td>gamma</td></tr>\n",
       "<tr><td>8.95615</td><td>4.65419e-13</td><td>5</td><td>0.0845693</td><td>gamma</td></tr>\n",
       "<tr><td>12.6509</td><td>6.65067e-13</td><td>5</td><td>0.0447552</td><td>gamma</td></tr>\n",
       "<tr><td>17.8699</td><td>7.96271e-13</td><td>5</td><td>0.0266192</td><td>gamma</td></tr>\n",
       "<tr><td>25.2419</td><td>1.12581e-12</td><td>5</td><td>0.0126585</td><td>gamma</td></tr>\n",
       "</table></div>"
      ],
      "text/plain": [
       "<Table length=20>\n",
       "  energy      e2dnde     excess background  criterion  \n",
       "   TeV    erg / (cm2 s)                                \n",
       " float64     float64    float64  float64     bytes12   \n",
       "--------- ------------- ------- ---------- ------------\n",
       "0.0356551   1.61512e-11 328.477    3284.77          bkg\n",
       "0.0503641   8.66737e-12  165.06     1650.6          bkg\n",
       "0.0711412   3.27253e-12 92.4984    756.756 significance\n",
       "  0.10049   1.79729e-12 65.8637    376.563 significance\n",
       " 0.141945   1.30282e-12 46.0027    178.563 significance\n",
       " 0.200503   9.29846e-13 30.9746    77.2881 significance\n",
       " 0.283218   6.38702e-13 21.3831    34.5112 significance\n",
       " 0.400056   5.16894e-13 14.9743    15.4188 significance\n",
       " 0.565095    3.7804e-13 11.0135    7.41691 significance\n",
       " 0.798218    3.3034e-13 8.17611     3.4654 significance\n",
       "  1.12751   2.89668e-13 6.53986    1.86033 significance\n",
       "  1.59265   2.40531e-13 5.65742    1.19845 significance\n",
       "  2.24968   2.16291e-13       5   0.743113        gamma\n",
       "  3.17776   2.29643e-13       5   0.466104        gamma\n",
       "  4.48871   2.73642e-13       5     0.3196        gamma\n",
       "  6.34047   3.57511e-13       5    0.18669        gamma\n",
       "  8.95615   4.65419e-13       5  0.0845693        gamma\n",
       "  12.6509   6.65067e-13       5  0.0447552        gamma\n",
       "  17.8699   7.96271e-13       5  0.0266192        gamma\n",
       "  25.2419   1.12581e-12       5  0.0126585        gamma"
      ]
     },
     "execution_count": 9,
     "metadata": {},
     "output_type": "execute_result"
    }
   ],
   "source": [
    "# Show the results table\n",
    "sensitivity_table"
   ]
  },
  {
   "cell_type": "code",
   "execution_count": 10,
   "id": "2f614b99",
   "metadata": {
    "execution": {
     "iopub.execute_input": "2022-05-12T21:50:15.199510Z",
     "iopub.status.busy": "2022-05-12T21:50:15.198593Z",
     "iopub.status.idle": "2022-05-12T21:50:15.203578Z",
     "shell.execute_reply": "2022-05-12T21:50:15.202509Z"
    }
   },
   "outputs": [],
   "source": [
    "# Save it to file (could use e.g. format of CSV or ECSV or FITS)\n",
    "# sensitivity_table.write('sensitivity.ecsv', format='ascii.ecsv')"
   ]
  },
  {
   "cell_type": "code",
   "execution_count": 11,
   "id": "75ed0c80",
   "metadata": {
    "execution": {
     "iopub.execute_input": "2022-05-12T21:50:15.210945Z",
     "iopub.status.busy": "2022-05-12T21:50:15.209860Z",
     "iopub.status.idle": "2022-05-12T21:50:15.733712Z",
     "shell.execute_reply": "2022-05-12T21:50:15.732763Z"
    },
    "nbsphinx-thumbnail": {
     "tooltip": "Estimate the CTA sensitivity for a point-like IRF at a fixed zenith angle and fixed offset."
    }
   },
   "outputs": [
    {
     "data": {
      "image/png": "[encoded data removed]",
      "text/plain": [
       "<Figure size 432x288 with 1 Axes>"
      ]
     },
     "metadata": {
      "needs_background": "light"
     },
     "output_type": "display_data"
    }
   ],
   "source": [
    "# Plot the sensitivity curve\n",
    "t = sensitivity_table\n",
    "\n",
    "is_s = t[\"criterion\"] == \"significance\"\n",
    "plt.plot(\n",
    "    t[\"energy\"][is_s],\n",
    "    t[\"e2dnde\"][is_s],\n",
    "    \"s-\",\n",
    "    color=\"red\",\n",
    "    label=\"significance\",\n",
    ")\n",
    "\n",
    "is_g = t[\"criterion\"] == \"gamma\"\n",
    "plt.plot(\n",
    "    t[\"energy\"][is_g], t[\"e2dnde\"][is_g], \"*-\", color=\"blue\", label=\"gamma\"\n",
    ")\n",
    "is_bkg_syst = t[\"criterion\"] == \"bkg\"\n",
    "plt.plot(\n",
    "    t[\"energy\"][is_bkg_syst],\n",
    "    t[\"e2dnde\"][is_bkg_syst],\n",
    "    \"v-\",\n",
    "    color=\"green\",\n",
    "    label=\"bkg syst\",\n",
    ")\n",
    "\n",
    "plt.loglog()\n",
    "plt.xlabel(f\"Energy ({t['energy'].unit})\")\n",
    "plt.ylabel(f\"Sensitivity ({t['e2dnde'].unit})\")\n",
    "plt.legend();"
   ]
  },
  {
   "cell_type": "markdown",
   "id": "63057abe",
   "metadata": {},
   "source": [
    "We add some control plots showing the expected number of background counts per bin and the ON region size cut (here the 68% containment radius of the PSF)."
   ]
  },
  {
   "cell_type": "code",
   "execution_count": 12,
   "id": "be2e0e81",
   "metadata": {
    "execution": {
     "iopub.execute_input": "2022-05-12T21:50:15.743793Z",
     "iopub.status.busy": "2022-05-12T21:50:15.743472Z",
     "iopub.status.idle": "2022-05-12T21:50:16.264530Z",
     "shell.execute_reply": "2022-05-12T21:50:16.263793Z"
    }
   },
   "outputs": [
    {
     "data": {
      "text/plain": [
       "(0.01, 0.5)"
      ]
     },
     "execution_count": 12,
     "metadata": {},
     "output_type": "execute_result"
    },
    {
     "data": {
      "image/png": "[encoded data removed]",
      "text/plain": [
       "<Figure size 432x288 with 2 Axes>"
      ]
     },
     "metadata": {
      "needs_background": "light"
     },
     "output_type": "display_data"
    }
   ],
   "source": [
    "# Plot expected number of counts for signal and background\n",
    "fig, ax1 = plt.subplots()\n",
    "# ax1.plot( t[\"energy\"], t[\"excess\"],\"o-\", color=\"red\", label=\"signal\")\n",
    "ax1.plot(\n",
    "    t[\"energy\"], t[\"background\"], \"o-\", color=\"black\", label=\"blackground\"\n",
    ")\n",
    "\n",
    "ax1.loglog()\n",
    "ax1.set_xlabel(f\"Energy ({t['energy'].unit})\")\n",
    "ax1.set_ylabel(\"Expected number of bkg counts\")\n",
    "\n",
    "ax2 = ax1.twinx()\n",
    "ax2.set_ylabel(f\"ON region radius ({on_radii.unit})\", color=\"red\")\n",
    "ax2.semilogy(t[\"energy\"], on_radii, color=\"red\", label=\"PSF68\")\n",
    "ax2.tick_params(axis=\"y\", labelcolor=\"red\")\n",
    "ax2.set_ylim(0.01, 0.5)"
   ]
  },
  {
   "cell_type": "markdown",
   "id": "b44c531b",
   "metadata": {},
   "source": [
    "## Exercises\n",
    "\n",
    "* Also compute the sensitivity for a 20 hour observation\n",
    "* Compare how the sensitivity differs between 5 and 20 hours by plotting the ratio as a function of energy."
   ]
  },
  {
   "cell_type": "code",
   "execution_count": null,
   "id": "18d1bac3",
   "metadata": {},
   "outputs": [],
   "source": []
  },
  {
   "cell_type": "code",
   "execution_count": null,
   "id": "66a71a84",
   "metadata": {},
   "outputs": [],
   "source": []
  }
 ],
 "metadata": {
  "kernelspec": {
   "display_name": "Python 3 (ipykernel)",
   "language": "python",
   "name": "python3"
  },
  "language_info": {
   "codemirror_mode": {
    "name": "ipython",
    "version": 3
   },
   "file_extension": ".py",
   "mimetype": "text/x-python",
   "name": "python",
   "nbconvert_exporter": "python",
   "pygments_lexer": "ipython3",
   "version": "3.9.12"
  },
  "nbsphinx": {
   "orphan": true
  }
 },
 "nbformat": 4,
 "nbformat_minor": 5
}
