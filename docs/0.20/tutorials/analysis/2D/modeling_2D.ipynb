{
 "cells": [
  {
   "cell_type": "markdown",
   "id": "53df85a6",
   "metadata": {},
   "source": [
    "\n",
    "<div class=\"alert alert-info\">\n",
    "\n",
    "**This is a fixed-text formatted version of a Jupyter notebook**\n",
    "\n",
    "- Try online[![Binder](https://static.mybinder.org/badge.svg)](https://mybinder.org/v2/gh/gammapy/gammapy-webpage/v0.20?urlpath=lab/tree/tutorials/analysis/2D/modeling_2D.ipynb)\n",
    "- You may download all the notebooks as a [tar file](../../../_downloads/notebooks-0.20.tar).\n",
    "- **Source files:**\n",
    "[modeling_2D.ipynb](../../../_static/notebooks/modeling_2D.ipynb) |\n",
    "[modeling_2D.py](../../../_static/notebooks/modeling_2D.py)\n",
    "</div>\n"
   ]
  },
  {
   "cell_type": "markdown",
   "id": "c8a99be4",
   "metadata": {},
   "source": [
    "# 2D map fitting\n",
    "\n",
    "## Prerequisites\n",
    " - To understand how a generel modelling and fiiting works in gammapy, please refer to the [analysis_3d tutorial](../3D/analysis_3d.ipynb)\n",
    "\n",
    "## Context\n",
    "We often want the determine the position and morphology of an object. To do so, we don't necessarily have to resort to a full 3D fitting but can perform a simple image fitting, in particular, in an energy range where the PSF does not vary strongly, or if we want to explore a possible energy dependence of the morphology.\n",
    "\n",
    "\n",
    "## Objective\n",
    "To localize a source and/or constrain its morphology.\n",
    "\n",
    "## Proposed approach\n",
    "\n",
    "The first step here, as in most analysis with DL3 data, is to create reduced datasets. For this, we will use the `Analysis` class to create a single set of stacked maps with a single bin in energy (thus, an *image* which behaves as a *cube*). This, we will then model with a spatial model of our choice, while keeping the spectral model fixed to an integrated power law."
   ]
  },
  {
   "cell_type": "markdown",
   "id": "7767efc4",
   "metadata": {},
   "source": [
    "## Setup\n",
    "As usual, we'll start with some general imports..."
   ]
  },
  {
   "cell_type": "code",
   "execution_count": 1,
   "id": "f0d55e8c",
   "metadata": {
    "execution": {
     "iopub.execute_input": "2022-05-12T21:49:38.736799Z",
     "iopub.status.busy": "2022-05-12T21:49:38.736635Z",
     "iopub.status.idle": "2022-05-12T21:49:39.886444Z",
     "shell.execute_reply": "2022-05-12T21:49:39.877593Z"
    }
   },
   "outputs": [],
   "source": [
    "%matplotlib inline\n",
    "import astropy.units as u\n",
    "from astropy.coordinates import SkyCoord\n",
    "from astropy.time import Time\n",
    "\n",
    "import logging\n",
    "\n",
    "log = logging.getLogger(__name__)"
   ]
  },
  {
   "cell_type": "markdown",
   "id": "6c039589",
   "metadata": {},
   "source": [
    "Now let's import gammapy specific classes and functions"
   ]
  },
  {
   "cell_type": "code",
   "execution_count": 2,
   "id": "074b6a9e",
   "metadata": {
    "execution": {
     "iopub.execute_input": "2022-05-12T21:49:39.912411Z",
     "iopub.status.busy": "2022-05-12T21:49:39.912024Z",
     "iopub.status.idle": "2022-05-12T21:49:41.135224Z",
     "shell.execute_reply": "2022-05-12T21:49:41.132455Z"
    }
   },
   "outputs": [],
   "source": [
    "from gammapy.analysis import Analysis, AnalysisConfig"
   ]
  },
  {
   "cell_type": "markdown",
   "id": "28d5aed3",
   "metadata": {},
   "source": [
    "## Creating the config file"
   ]
  },
  {
   "cell_type": "markdown",
   "id": "2bfd2a1f",
   "metadata": {},
   "source": [
    "Now, we create a config file for out analysis. You may load this from disc if you have a pre-defined config file.\n",
    "\n",
    "Here, we use 3 simulated CTA runs of the galactic center."
   ]
  },
  {
   "cell_type": "code",
   "execution_count": 3,
   "id": "403bfe4d",
   "metadata": {
    "execution": {
     "iopub.execute_input": "2022-05-12T21:49:41.155036Z",
     "iopub.status.busy": "2022-05-12T21:49:41.153927Z",
     "iopub.status.idle": "2022-05-12T21:49:41.161857Z",
     "shell.execute_reply": "2022-05-12T21:49:41.159722Z"
    }
   },
   "outputs": [],
   "source": [
    "config = AnalysisConfig()\n",
    "# Selecting the observations\n",
    "config.observations.datastore = \"$GAMMAPY_DATA/cta-1dc/index/gps/\"\n",
    "config.observations.obs_ids = [110380, 111140, 111159]"
   ]
  },
  {
   "cell_type": "markdown",
   "id": "32cc925f",
   "metadata": {},
   "source": [
    "Technically, gammapy implements 2D analysis as a special case of 3D analysis (one one bin in energy). So, we must specify the type of analysis as *3D*, and define the geometry of the analysis."
   ]
  },
  {
   "cell_type": "code",
   "execution_count": 4,
   "id": "63b90d68",
   "metadata": {
    "execution": {
     "iopub.execute_input": "2022-05-12T21:49:41.168055Z",
     "iopub.status.busy": "2022-05-12T21:49:41.167421Z",
     "iopub.status.idle": "2022-05-12T21:49:41.179957Z",
     "shell.execute_reply": "2022-05-12T21:49:41.177224Z"
    }
   },
   "outputs": [],
   "source": [
    "config.datasets.type = \"3d\"\n",
    "config.datasets.geom.wcs.skydir = {\n",
    "    \"lon\": \"0 deg\",\n",
    "    \"lat\": \"0 deg\",\n",
    "    \"frame\": \"galactic\",\n",
    "}  # The WCS geometry - centered on the galactic center\n",
    "config.datasets.geom.wcs.width = {\"width\": \"8 deg\", \"height\": \"6 deg\"}\n",
    "config.datasets.geom.wcs.binsize = \"0.02 deg\"\n",
    "\n",
    "# The FoV radius to use for cutouts\n",
    "config.datasets.geom.selection.offset_max = 2.5 * u.deg\n",
    "config.datasets.safe_mask.methods = [\"offset-max\"]\n",
    "config.datasets.safe_mask.parameters = {\"offset_max\": 2.5 * u.deg}\n",
    "config.datasets.background.method = \"fov_background\"\n",
    "config.fit.fit_range = {\"min\": \"0.1 TeV\", \"max\": \"30.0 TeV\"}\n",
    "\n",
    "# We now fix the energy axis for the counts map - (the reconstructed energy binning)\n",
    "config.datasets.geom.axes.energy.min = \"0.1 TeV\"\n",
    "config.datasets.geom.axes.energy.max = \"10 TeV\"\n",
    "config.datasets.geom.axes.energy.nbins = 1\n",
    "\n",
    "config.datasets.geom.wcs.binsize_irf = 0.2 * u.deg"
   ]
  },
  {
   "cell_type": "code",
   "execution_count": 5,
   "id": "ffd170c2",
   "metadata": {
    "execution": {
     "iopub.execute_input": "2022-05-12T21:49:41.190368Z",
     "iopub.status.busy": "2022-05-12T21:49:41.189691Z",
     "iopub.status.idle": "2022-05-12T21:49:41.209340Z",
     "shell.execute_reply": "2022-05-12T21:49:41.208036Z"
    }
   },
   "outputs": [
    {
     "name": "stdout",
     "output_type": "stream",
     "text": [
      "AnalysisConfig\n",
      "\n",
      "    general:\n",
      "        log: {level: info, filename: null, filemode: null, format: null, datefmt: null}\n",
      "        outdir: .\n",
      "        n_jobs: 1\n",
      "        datasets_file: null\n",
      "        models_file: null\n",
      "    observations:\n",
      "        datastore: $GAMMAPY_DATA/cta-1dc/index/gps\n",
      "        obs_ids: [110380, 111140, 111159]\n",
      "        obs_file: null\n",
      "        obs_cone: {frame: null, lon: null, lat: null, radius: null}\n",
      "        obs_time: {start: null, stop: null}\n",
      "        required_irf: [aeff, edisp, psf, bkg]\n",
      "    datasets:\n",
      "        type: 3d\n",
      "        stack: true\n",
      "        geom:\n",
      "            wcs:\n",
      "                skydir: {frame: galactic, lon: 0.0 deg, lat: 0.0 deg}\n",
      "                binsize: 0.02 deg\n",
      "                width: {width: 8.0 deg, height: 6.0 deg}\n",
      "                binsize_irf: 0.2 deg\n",
      "            selection: {offset_max: 2.5 deg}\n",
      "            axes:\n",
      "                energy: {min: 0.1 TeV, max: 10.0 TeV, nbins: 1}\n",
      "                energy_true: {min: 0.5 TeV, max: 20.0 TeV, nbins: 16}\n",
      "        map_selection: [counts, exposure, background, psf, edisp]\n",
      "        background:\n",
      "            method: fov_background\n",
      "            exclusion: null\n",
      "            parameters: {}\n",
      "        safe_mask:\n",
      "            methods: [offset-max]\n",
      "            parameters: {offset_max: 2.5 deg}\n",
      "        on_region: {frame: null, lon: null, lat: null, radius: null}\n",
      "        containment_correction: true\n",
      "    fit:\n",
      "        fit_range: {min: 0.1 TeV, max: 30.0 TeV}\n",
      "    flux_points:\n",
      "        energy: {min: null, max: null, nbins: null}\n",
      "        source: source\n",
      "        parameters: {selection_optional: all}\n",
      "    excess_map:\n",
      "        correlation_radius: 0.1 deg\n",
      "        parameters: {}\n",
      "        energy_edges: {min: null, max: null, nbins: null}\n",
      "    light_curve:\n",
      "        time_intervals: {start: null, stop: null}\n",
      "        energy_edges: {min: null, max: null, nbins: null}\n",
      "        source: source\n",
      "        parameters: {selection_optional: all}\n",
      "    \n"
     ]
    }
   ],
   "source": [
    "print(config)"
   ]
  },
  {
   "cell_type": "markdown",
   "id": "7769c961",
   "metadata": {},
   "source": [
    "## Getting the reduced dataset"
   ]
  },
  {
   "cell_type": "markdown",
   "id": "2b88f5ef",
   "metadata": {},
   "source": [
    "We now use the config file and create a single `MapDataset` containing `counts`, `background`, `exposure`, `psf` and `edisp` maps."
   ]
  },
  {
   "cell_type": "code",
   "execution_count": 6,
   "id": "b1e9bca0",
   "metadata": {
    "execution": {
     "iopub.execute_input": "2022-05-12T21:49:41.218011Z",
     "iopub.status.busy": "2022-05-12T21:49:41.217229Z",
     "iopub.status.idle": "2022-05-12T21:49:49.859321Z",
     "shell.execute_reply": "2022-05-12T21:49:49.857314Z"
    }
   },
   "outputs": [
    {
     "name": "stderr",
     "output_type": "stream",
     "text": [
      "Setting logging config: {'level': 'INFO', 'filename': None, 'filemode': None, 'format': None, 'datefmt': None}\n",
      "Fetching observations.\n",
      "Observations selected: 3 out of 3.\n",
      "Number of selected observations: 3\n",
      "Creating reference dataset and makers.\n",
      "Creating the background Maker.\n",
      "Start the data reduction loop.\n",
      "Computing dataset for observation 110380\n",
      "Running MapDatasetMaker\n",
      "Invalid unit found in background table! Assuming (s-1 MeV-1 sr-1)\n",
      "Running SafeMaskMaker\n",
      "Running FoVBackgroundMaker\n",
      "Computing dataset for observation 111140\n",
      "Running MapDatasetMaker\n",
      "Invalid unit found in background table! Assuming (s-1 MeV-1 sr-1)\n",
      "Running SafeMaskMaker\n",
      "Running FoVBackgroundMaker\n",
      "Computing dataset for observation 111159\n",
      "Running MapDatasetMaker\n",
      "Invalid unit found in background table! Assuming (s-1 MeV-1 sr-1)\n",
      "Running SafeMaskMaker\n",
      "Running FoVBackgroundMaker\n"
     ]
    },
    {
     "name": "stdout",
     "output_type": "stream",
     "text": [
      "CPU times: user 5.35 s, sys: 1.04 s, total: 6.38 s\n",
      "Wall time: 8.63 s\n"
     ]
    }
   ],
   "source": [
    "%%time\n",
    "analysis = Analysis(config)\n",
    "analysis.get_observations()\n",
    "analysis.get_datasets()"
   ]
  },
  {
   "cell_type": "code",
   "execution_count": 7,
   "id": "c9b4a510",
   "metadata": {
    "execution": {
     "iopub.execute_input": "2022-05-12T21:49:49.866262Z",
     "iopub.status.busy": "2022-05-12T21:49:49.865318Z",
     "iopub.status.idle": "2022-05-12T21:49:49.903701Z",
     "shell.execute_reply": "2022-05-12T21:49:49.902646Z"
    }
   },
   "outputs": [
    {
     "name": "stdout",
     "output_type": "stream",
     "text": [
      "MapDataset\n",
      "----------\n",
      "\n",
      "  Name                            : stacked \n",
      "\n",
      "  Total counts                    : 85625 \n",
      "  Total background counts         : 85624.99\n",
      "  Total excess counts             : 0.01\n",
      "\n",
      "  Predicted counts                : 85625.00\n",
      "  Predicted background counts     : 85624.99\n",
      "  Predicted excess counts         : nan\n",
      "\n",
      "  Exposure min                    : 8.46e+08 m2 s\n",
      "  Exposure max                    : 2.14e+10 m2 s\n",
      "\n",
      "  Number of total bins            : 120000 \n",
      "  Number of fit bins              : 96602 \n",
      "\n",
      "  Fit statistic type              : cash\n",
      "  Fit statistic value (-2 log(L)) : nan\n",
      "\n",
      "  Number of models                : 0 \n",
      "  Number of parameters            : 0\n",
      "  Number of free parameters       : 0\n",
      "\n",
      "\n"
     ]
    }
   ],
   "source": [
    "print(analysis.datasets[\"stacked\"])"
   ]
  },
  {
   "cell_type": "markdown",
   "id": "ad0c9ddc",
   "metadata": {},
   "source": [
    "The counts and background maps have only one bin in reconstructed energy. The exposure and IRF maps are in true energy, and hence, have a different binning based upon the binning of the IRFs. We need not bother about them presently."
   ]
  },
  {
   "cell_type": "code",
   "execution_count": 8,
   "id": "b6378a02",
   "metadata": {
    "execution": {
     "iopub.execute_input": "2022-05-12T21:49:49.911533Z",
     "iopub.status.busy": "2022-05-12T21:49:49.910889Z",
     "iopub.status.idle": "2022-05-12T21:49:49.923043Z",
     "shell.execute_reply": "2022-05-12T21:49:49.921727Z"
    }
   },
   "outputs": [
    {
     "data": {
      "text/plain": [
       "WcsNDMap\n",
       "\n",
       "\tgeom  : WcsGeom \n",
       " \taxes  : ['lon', 'lat', 'energy']\n",
       "\tshape : (400, 300, 1)\n",
       "\tndim  : 3\n",
       "\tunit  : \n",
       "\tdtype : float32"
      ]
     },
     "execution_count": 8,
     "metadata": {},
     "output_type": "execute_result"
    }
   ],
   "source": [
    "analysis.datasets[\"stacked\"].counts"
   ]
  },
  {
   "cell_type": "code",
   "execution_count": 9,
   "id": "da55bc0f",
   "metadata": {
    "execution": {
     "iopub.execute_input": "2022-05-12T21:49:49.929227Z",
     "iopub.status.busy": "2022-05-12T21:49:49.928817Z",
     "iopub.status.idle": "2022-05-12T21:49:49.936940Z",
     "shell.execute_reply": "2022-05-12T21:49:49.935182Z"
    }
   },
   "outputs": [
    {
     "data": {
      "text/plain": [
       "WcsNDMap\n",
       "\n",
       "\tgeom  : WcsGeom \n",
       " \taxes  : ['lon', 'lat', 'energy']\n",
       "\tshape : (400, 300, 1)\n",
       "\tndim  : 3\n",
       "\tunit  : \n",
       "\tdtype : float32"
      ]
     },
     "execution_count": 9,
     "metadata": {},
     "output_type": "execute_result"
    }
   ],
   "source": [
    "analysis.datasets[\"stacked\"].background"
   ]
  },
  {
   "cell_type": "code",
   "execution_count": 10,
   "id": "2ec8cada",
   "metadata": {
    "execution": {
     "iopub.execute_input": "2022-05-12T21:49:49.943593Z",
     "iopub.status.busy": "2022-05-12T21:49:49.942590Z",
     "iopub.status.idle": "2022-05-12T21:49:49.949221Z",
     "shell.execute_reply": "2022-05-12T21:49:49.948478Z"
    }
   },
   "outputs": [
    {
     "data": {
      "text/plain": [
       "WcsNDMap\n",
       "\n",
       "\tgeom  : WcsGeom \n",
       " \taxes  : ['lon', 'lat', 'energy_true']\n",
       "\tshape : (400, 300, 16)\n",
       "\tndim  : 3\n",
       "\tunit  : m2 s\n",
       "\tdtype : float32"
      ]
     },
     "execution_count": 10,
     "metadata": {},
     "output_type": "execute_result"
    }
   ],
   "source": [
    "analysis.datasets[\"stacked\"].exposure"
   ]
  },
  {
   "cell_type": "markdown",
   "id": "cd758083",
   "metadata": {},
   "source": [
    "We can have a quick look of these maps in the following way:"
   ]
  },
  {
   "cell_type": "code",
   "execution_count": 11,
   "id": "d480db1d",
   "metadata": {
    "execution": {
     "iopub.execute_input": "2022-05-12T21:49:49.955340Z",
     "iopub.status.busy": "2022-05-12T21:49:49.954514Z",
     "iopub.status.idle": "2022-05-12T21:49:50.525800Z",
     "shell.execute_reply": "2022-05-12T21:49:50.524501Z"
    },
    "nbsphinx-thumbnail": {
     "tooltip": "Source modelling and fitting in stacked observations using the high level interface."
    }
   },
   "outputs": [
    {
     "data": {
      "text/plain": [
       "<WCSAxesSubplot:xlabel='Galactic Longitude', ylabel='Galactic Latitude'>"
      ]
     },
     "execution_count": 11,
     "metadata": {},
     "output_type": "execute_result"
    },
    {
     "data": {
      "image/png": "[encoded data removed]",
      "text/plain": [
       "<Figure size 432x288 with 1 Axes>"
      ]
     },
     "metadata": {
      "needs_background": "light"
     },
     "output_type": "display_data"
    }
   ],
   "source": [
    "analysis.datasets[\"stacked\"].counts.reduce_over_axes().plot(vmax=5)"
   ]
  },
  {
   "cell_type": "markdown",
   "id": "b3757039",
   "metadata": {},
   "source": [
    "## Modelling\n",
    "\n",
    "Now, we define a model to be fitted to the dataset. **The important thing to note here is the dummy spectral model - an integrated powerlaw with only free normalisation**. Here, we use its YAML definition to load it:"
   ]
  },
  {
   "cell_type": "code",
   "execution_count": 12,
   "id": "81cdd566",
   "metadata": {
    "execution": {
     "iopub.execute_input": "2022-05-12T21:49:50.534308Z",
     "iopub.status.busy": "2022-05-12T21:49:50.533963Z",
     "iopub.status.idle": "2022-05-12T21:49:50.555825Z",
     "shell.execute_reply": "2022-05-12T21:49:50.545773Z"
    }
   },
   "outputs": [],
   "source": [
    "model_config = \"\"\"\n",
    "components:\n",
    "- name: GC-1\n",
    "  type: SkyModel\n",
    "  spatial:\n",
    "    type: PointSpatialModel\n",
    "    frame: galactic\n",
    "    parameters:\n",
    "    - name: lon_0\n",
    "      value: 0.02\n",
    "      unit: deg\n",
    "    - name: lat_0 \n",
    "      value: 0.01    \n",
    "      unit: deg\n",
    "  spectral:\n",
    "    type: PowerLaw2SpectralModel\n",
    "    parameters:\n",
    "    - name: amplitude      \n",
    "      value: 1.0e-12\n",
    "      unit: cm-2 s-1 \n",
    "    - name: index\n",
    "      value: 2.0\n",
    "      unit: ''\n",
    "      frozen: true\n",
    "    - name: emin\n",
    "      value: 0.1\n",
    "      unit: TeV\n",
    "      frozen: true\n",
    "    - name: emax\n",
    "      value: 10.0\n",
    "      unit: TeV\n",
    "      frozen: true \n",
    "\"\"\""
   ]
  },
  {
   "cell_type": "code",
   "execution_count": 13,
   "id": "c485250d",
   "metadata": {
    "execution": {
     "iopub.execute_input": "2022-05-12T21:49:50.563933Z",
     "iopub.status.busy": "2022-05-12T21:49:50.563481Z",
     "iopub.status.idle": "2022-05-12T21:49:50.606811Z",
     "shell.execute_reply": "2022-05-12T21:49:50.604503Z"
    }
   },
   "outputs": [
    {
     "name": "stderr",
     "output_type": "stream",
     "text": [
      "Reading model.\n",
      "Models\n",
      "\n",
      "Component 0: SkyModel\n",
      "\n",
      "  Name                      : GC-1\n",
      "  Datasets names            : None\n",
      "  Spectral model type       : PowerLaw2SpectralModel\n",
      "  Spatial  model type       : PointSpatialModel\n",
      "  Temporal model type       : \n",
      "  Parameters:\n",
      "    amplitude                     :   1.00e-12   +/- 0.0e+00 1 / (cm2 s) \n",
      "    index                 (frozen):      2.000                   \n",
      "    emin                  (frozen):      0.100       TeV         \n",
      "    emax                  (frozen):     10.000       TeV         \n",
      "    lon_0                         :      0.020   +/-    0.00 deg         \n",
      "    lat_0                         :      0.010   +/-    0.00 deg         \n",
      "\n",
      "Component 1: FoVBackgroundModel\n",
      "\n",
      "  Name                      : stacked-bkg\n",
      "  Datasets names            : ['stacked']\n",
      "  Spectral model type       : PowerLawNormSpectralModel\n",
      "  Parameters:\n",
      "    norm                          :      1.000   +/-    0.00             \n",
      "    tilt                  (frozen):      0.000                   \n",
      "    reference             (frozen):      1.000       TeV         \n",
      "\n",
      "\n"
     ]
    }
   ],
   "source": [
    "analysis.set_models(model_config)"
   ]
  },
  {
   "cell_type": "markdown",
   "id": "26ad4e93",
   "metadata": {},
   "source": [
    "We will freeze the parameters of the background"
   ]
  },
  {
   "cell_type": "code",
   "execution_count": 14,
   "id": "ec7ec6ac",
   "metadata": {
    "execution": {
     "iopub.execute_input": "2022-05-12T21:49:50.616589Z",
     "iopub.status.busy": "2022-05-12T21:49:50.616011Z",
     "iopub.status.idle": "2022-05-12T21:49:50.621525Z",
     "shell.execute_reply": "2022-05-12T21:49:50.620522Z"
    }
   },
   "outputs": [],
   "source": [
    "analysis.datasets[\"stacked\"].background_model.parameters[\"tilt\"].frozen = True"
   ]
  },
  {
   "cell_type": "code",
   "execution_count": 15,
   "id": "9e9fd617",
   "metadata": {
    "execution": {
     "iopub.execute_input": "2022-05-12T21:49:50.626793Z",
     "iopub.status.busy": "2022-05-12T21:49:50.626215Z",
     "iopub.status.idle": "2022-05-12T21:49:53.345642Z",
     "shell.execute_reply": "2022-05-12T21:49:53.344844Z"
    }
   },
   "outputs": [
    {
     "name": "stderr",
     "output_type": "stream",
     "text": [
      "Fitting datasets.\n",
      "OptimizeResult\n",
      "\n",
      "\tbackend    : minuit\n",
      "\tmethod     : migrad\n",
      "\tsuccess    : True\n",
      "\tmessage    : Optimization terminated successfully.\n",
      "\tnfev       : 184\n",
      "\ttotal stat : 170089.04\n",
      "\n",
      "CovarianceResult\n",
      "\n",
      "\tbackend    : minuit\n",
      "\tmethod     : hesse\n",
      "\tsuccess    : True\n",
      "\tmessage    : Hesse terminated successfully.\n",
      "\n"
     ]
    }
   ],
   "source": [
    "# To run the fit\n",
    "analysis.run_fit()"
   ]
  },
  {
   "cell_type": "code",
   "execution_count": 16,
   "id": "663bcd30",
   "metadata": {
    "execution": {
     "iopub.execute_input": "2022-05-12T21:49:53.351071Z",
     "iopub.status.busy": "2022-05-12T21:49:53.350667Z",
     "iopub.status.idle": "2022-05-12T21:49:53.388992Z",
     "shell.execute_reply": "2022-05-12T21:49:53.384852Z"
    }
   },
   "outputs": [
    {
     "data": {
      "text/html": [
       "<div><i>Table length=9</i>\n",
       "<table id=\"table5442976448\" class=\"table-striped table-bordered table-condensed\">\n",
       "<thead><tr><th>model</th><th>type</th><th>name</th><th>value</th><th>unit</th><th>error</th><th>min</th><th>max</th><th>frozen</th><th>is_norm</th><th>link</th></tr></thead>\n",
       "<thead><tr><th>str11</th><th>str8</th><th>str9</th><th>float64</th><th>str8</th><th>float64</th><th>float64</th><th>float64</th><th>bool</th><th>bool</th><th>str1</th></tr></thead>\n",
       "<tr><td>GC-1</td><td>spectral</td><td>amplitude</td><td>4.1800e-11</td><td>cm-2 s-1</td><td>2.231e-12</td><td>nan</td><td>nan</td><td>False</td><td>True</td><td></td></tr>\n",
       "<tr><td>GC-1</td><td>spectral</td><td>index</td><td>2.0000e+00</td><td></td><td>0.000e+00</td><td>nan</td><td>nan</td><td>True</td><td>False</td><td></td></tr>\n",
       "<tr><td>GC-1</td><td>spectral</td><td>emin</td><td>1.0000e-01</td><td>TeV</td><td>0.000e+00</td><td>nan</td><td>nan</td><td>True</td><td>False</td><td></td></tr>\n",
       "<tr><td>GC-1</td><td>spectral</td><td>emax</td><td>1.0000e+01</td><td>TeV</td><td>0.000e+00</td><td>nan</td><td>nan</td><td>True</td><td>False</td><td></td></tr>\n",
       "<tr><td>GC-1</td><td>spatial</td><td>lon_0</td><td>-5.4767e-02</td><td>deg</td><td>1.993e-03</td><td>nan</td><td>nan</td><td>False</td><td>False</td><td></td></tr>\n",
       "<tr><td>GC-1</td><td>spatial</td><td>lat_0</td><td>-5.3629e-02</td><td>deg</td><td>1.981e-03</td><td>-9.000e+01</td><td>9.000e+01</td><td>False</td><td>False</td><td></td></tr>\n",
       "<tr><td>stacked-bkg</td><td>spectral</td><td>norm</td><td>9.9438e-01</td><td></td><td>3.411e-03</td><td>nan</td><td>nan</td><td>False</td><td>True</td><td></td></tr>\n",
       "<tr><td>stacked-bkg</td><td>spectral</td><td>tilt</td><td>0.0000e+00</td><td></td><td>0.000e+00</td><td>nan</td><td>nan</td><td>True</td><td>False</td><td></td></tr>\n",
       "<tr><td>stacked-bkg</td><td>spectral</td><td>reference</td><td>1.0000e+00</td><td>TeV</td><td>0.000e+00</td><td>nan</td><td>nan</td><td>True</td><td>False</td><td></td></tr>\n",
       "</table></div>"
      ],
      "text/plain": [
       "<Table length=9>\n",
       "   model      type      name      value      unit     error      min        max    frozen is_norm link\n",
       "   str11      str8      str9     float64     str8    float64   float64    float64   bool    bool  str1\n",
       "----------- -------- --------- ----------- -------- --------- ---------- --------- ------ ------- ----\n",
       "       GC-1 spectral amplitude  4.1800e-11 cm-2 s-1 2.231e-12        nan       nan  False    True     \n",
       "       GC-1 spectral     index  2.0000e+00          0.000e+00        nan       nan   True   False     \n",
       "       GC-1 spectral      emin  1.0000e-01      TeV 0.000e+00        nan       nan   True   False     \n",
       "       GC-1 spectral      emax  1.0000e+01      TeV 0.000e+00        nan       nan   True   False     \n",
       "       GC-1  spatial     lon_0 -5.4767e-02      deg 1.993e-03        nan       nan  False   False     \n",
       "       GC-1  spatial     lat_0 -5.3629e-02      deg 1.981e-03 -9.000e+01 9.000e+01  False   False     \n",
       "stacked-bkg spectral      norm  9.9438e-01          3.411e-03        nan       nan  False    True     \n",
       "stacked-bkg spectral      tilt  0.0000e+00          0.000e+00        nan       nan   True   False     \n",
       "stacked-bkg spectral reference  1.0000e+00      TeV 0.000e+00        nan       nan   True   False     "
      ]
     },
     "execution_count": 16,
     "metadata": {},
     "output_type": "execute_result"
    }
   ],
   "source": [
    "# To see the best fit values along with the errors\n",
    "analysis.models.to_parameters_table()"
   ]
  },
  {
   "cell_type": "code",
   "execution_count": null,
   "id": "e661f6bd",
   "metadata": {},
   "outputs": [],
   "source": []
  }
 ],
 "metadata": {
  "kernelspec": {
   "display_name": "Python 3",
   "language": "python",
   "name": "python3"
  },
  "language_info": {
   "codemirror_mode": {
    "name": "ipython",
    "version": 3
   },
   "file_extension": ".py",
   "mimetype": "text/x-python",
   "name": "python",
   "nbconvert_exporter": "python",
   "pygments_lexer": "ipython3",
   "version": "3.9.12"
  },
  "nbsphinx": {
   "orphan": true
  }
 },
 "nbformat": 4,
 "nbformat_minor": 5
}
