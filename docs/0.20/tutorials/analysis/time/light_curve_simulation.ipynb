{
 "cells": [
  {
   "cell_type": "markdown",
   "id": "75ce5f4d",
   "metadata": {},
   "source": [
    "\n",
    "<div class=\"alert alert-info\">\n",
    "\n",
    "**This is a fixed-text formatted version of a Jupyter notebook**\n",
    "\n",
    "- Try online[![Binder](https://static.mybinder.org/badge.svg)](https://mybinder.org/v2/gh/gammapy/gammapy-webpage/v0.20?urlpath=lab/tree/tutorials/analysis/time/light_curve_simulation.ipynb)\n",
    "- You may download all the notebooks as a [tar file](../../../_downloads/notebooks-0.20.tar).\n",
    "- **Source files:**\n",
    "[light_curve_simulation.ipynb](../../../_static/notebooks/light_curve_simulation.ipynb) |\n",
    "[light_curve_simulation.py](../../../_static/notebooks/light_curve_simulation.py)\n",
    "</div>\n"
   ]
  },
  {
   "cell_type": "markdown",
   "id": "8dbfd2f2",
   "metadata": {},
   "source": [
    "# Simulating and fitting a time varying source\n",
    "\n",
    "## Prerequisites\n",
    "\n",
    "- To understand how a single binned simulation works, please refer to [spectrum_simulation](../1D/spectrum_simulation.ipynb) [simulate_3d](../3D/simulate_3d.ipynb) for 1D and 3D simulations respectively.\n",
    "- For details of light curve extraction using gammapy, refer to the two tutorials [light_curve](light_curve.ipynb) and [light_curve_flare](light_curve_flare.ipynb) \n",
    "\n",
    "## Context\n",
    "\n",
    "Frequently, studies of variable sources (eg: decaying GRB light curves, AGN flares, etc) require time variable simulations. For most use cases, generating an event list is an overkill, and it suffices to use binned simulations using a temporal model.\n",
    "\n",
    "**Objective: Simulate and fit a time decaying light curve of a source with CTA using the CTA 1DC response**\n",
    "\n",
    "## Proposed approach\n",
    "\n",
    "We will simulate 10 spectral datasets within given time intervals (Good Time Intervals) following a given spectral (a power law) and temporal profile (an exponential decay, with a decay time of 6 hr ). These are then analysed using the light curve estimator to obtain flux points. \n",
    "\n",
    "Modelling and fitting of lightcurves can be done either\n",
    "- directly on the output of the `LighCurveEstimator` (at the DL5 level)\n",
    "- fit the simulated datasets (at the DL4 level)\n",
    "\n",
    "In summary, necessary steps are:\n",
    "\n",
    "- Choose observation parameters including a list of `gammapy.data.GTI`\n",
    "- Define temporal and spectral models from :ref:model-gallery as per science case\n",
    "- Perform the simulation (in 1D or 3D)\n",
    "- Extract the light curve from the reduced dataset as shown in [light curve notebook](light_curve.ipynb)\n",
    "- Optionally, we show here how to fit the simulated datasets using a source model \n",
    "\n",
    "\n",
    "## Setup \n",
    "\n",
    "As usual, we'll start with some general imports..."
   ]
  },
  {
   "cell_type": "markdown",
   "id": "9f253c65",
   "metadata": {},
   "source": [
    "## Setup"
   ]
  },
  {
   "cell_type": "code",
   "execution_count": 1,
   "id": "f538de1c",
   "metadata": {
    "execution": {
     "iopub.execute_input": "2022-05-12T21:49:38.927333Z",
     "iopub.status.busy": "2022-05-12T21:49:38.925497Z",
     "iopub.status.idle": "2022-05-12T21:49:40.364004Z",
     "shell.execute_reply": "2022-05-12T21:49:40.362688Z"
    }
   },
   "outputs": [],
   "source": [
    "%matplotlib inline\n",
    "import matplotlib.pyplot as plt\n",
    "import numpy as np\n",
    "import astropy.units as u\n",
    "from astropy.coordinates import SkyCoord\n",
    "from astropy.time import Time\n",
    "\n",
    "import logging\n",
    "\n",
    "log = logging.getLogger(__name__)"
   ]
  },
  {
   "cell_type": "markdown",
   "id": "5ed3ee18",
   "metadata": {},
   "source": [
    "And some gammapy specific imports"
   ]
  },
  {
   "cell_type": "code",
   "execution_count": 2,
   "id": "605ca49b",
   "metadata": {
    "execution": {
     "iopub.execute_input": "2022-05-12T21:49:40.405292Z",
     "iopub.status.busy": "2022-05-12T21:49:40.404699Z",
     "iopub.status.idle": "2022-05-12T21:49:41.486897Z",
     "shell.execute_reply": "2022-05-12T21:49:41.482770Z"
    }
   },
   "outputs": [],
   "source": [
    "from gammapy.data import Observation\n",
    "from gammapy.irf import load_cta_irfs\n",
    "from gammapy.datasets import SpectrumDataset, Datasets, FluxPointsDataset\n",
    "from gammapy.modeling.models import (\n",
    "    PowerLawSpectralModel,\n",
    "    ExpDecayTemporalModel,\n",
    "    SkyModel,\n",
    ")\n",
    "from gammapy.maps import MapAxis, RegionGeom, TimeMapAxis\n",
    "from gammapy.estimators import LightCurveEstimator\n",
    "from gammapy.makers import SpectrumDatasetMaker\n",
    "from gammapy.modeling import Fit\n",
    "from gammapy.data import observatory_locations"
   ]
  },
  {
   "cell_type": "markdown",
   "id": "afc4289b",
   "metadata": {},
   "source": [
    "We first define our preferred time format:"
   ]
  },
  {
   "cell_type": "code",
   "execution_count": 3,
   "id": "c3f88ee3",
   "metadata": {
    "execution": {
     "iopub.execute_input": "2022-05-12T21:49:41.494789Z",
     "iopub.status.busy": "2022-05-12T21:49:41.494556Z",
     "iopub.status.idle": "2022-05-12T21:49:41.501727Z",
     "shell.execute_reply": "2022-05-12T21:49:41.500262Z"
    }
   },
   "outputs": [],
   "source": [
    "TimeMapAxis.time_format = \"iso\""
   ]
  },
  {
   "cell_type": "markdown",
   "id": "3a9c7cbf",
   "metadata": {},
   "source": [
    "## Simulating a light curve\n",
    "\n",
    "We will simulate 10  spectra between 300 GeV and 10 TeV using an `PowerLawSpectralModel` and a `ExpDecayTemporalModel`. The important thing to note here is how to attach a different `GTI` to each dataset. Since we use spectrum datasets here, we will use a `RegionGeom`."
   ]
  },
  {
   "cell_type": "code",
   "execution_count": 4,
   "id": "7c9f7f72",
   "metadata": {
    "execution": {
     "iopub.execute_input": "2022-05-12T21:49:41.508062Z",
     "iopub.status.busy": "2022-05-12T21:49:41.507597Z",
     "iopub.status.idle": "2022-05-12T21:49:41.658733Z",
     "shell.execute_reply": "2022-05-12T21:49:41.653012Z"
    }
   },
   "outputs": [
    {
     "name": "stderr",
     "output_type": "stream",
     "text": [
      "Invalid unit found in background table! Assuming (s-1 MeV-1 sr-1)\n"
     ]
    }
   ],
   "source": [
    "# Loading IRFs\n",
    "irfs = load_cta_irfs(\n",
    "    \"$GAMMAPY_DATA/cta-1dc/caldb/data/cta/1dc/bcf/South_z20_50h/irf_file.fits\"\n",
    ")"
   ]
  },
  {
   "cell_type": "code",
   "execution_count": 5,
   "id": "9929b19d",
   "metadata": {
    "execution": {
     "iopub.execute_input": "2022-05-12T21:49:41.671986Z",
     "iopub.status.busy": "2022-05-12T21:49:41.670371Z",
     "iopub.status.idle": "2022-05-12T21:49:41.697881Z",
     "shell.execute_reply": "2022-05-12T21:49:41.694786Z"
    }
   },
   "outputs": [],
   "source": [
    "# Reconstructed and true energy axis\n",
    "energy_axis = MapAxis.from_edges(\n",
    "    np.logspace(-0.5, 1.0, 10), unit=\"TeV\", name=\"energy\", interp=\"log\"\n",
    ")\n",
    "energy_axis_true = MapAxis.from_edges(\n",
    "    np.logspace(-1.2, 2.0, 31), unit=\"TeV\", name=\"energy_true\", interp=\"log\"\n",
    ")\n",
    "\n",
    "geom = RegionGeom.create(\"galactic;circle(0, 0, 0.11)\", axes=[energy_axis])"
   ]
  },
  {
   "cell_type": "code",
   "execution_count": 6,
   "id": "5d1c911b",
   "metadata": {
    "execution": {
     "iopub.execute_input": "2022-05-12T21:49:41.699966Z",
     "iopub.status.busy": "2022-05-12T21:49:41.699872Z",
     "iopub.status.idle": "2022-05-12T21:49:41.729908Z",
     "shell.execute_reply": "2022-05-12T21:49:41.720422Z"
    }
   },
   "outputs": [],
   "source": [
    "# Pointing position\n",
    "pointing = SkyCoord(0.5, 0.5, unit=\"deg\", frame=\"galactic\")"
   ]
  },
  {
   "cell_type": "markdown",
   "id": "8c7d0614",
   "metadata": {},
   "source": [
    "Note that observations are usually conducted in  Wobble mode, in which the source is not in the center of the camera. This allows to have a symmetrical sky position from which background can be estimated."
   ]
  },
  {
   "cell_type": "code",
   "execution_count": 7,
   "id": "c82ee57b",
   "metadata": {
    "execution": {
     "iopub.execute_input": "2022-05-12T21:49:41.746311Z",
     "iopub.status.busy": "2022-05-12T21:49:41.745148Z",
     "iopub.status.idle": "2022-05-12T21:49:41.785417Z",
     "shell.execute_reply": "2022-05-12T21:49:41.783716Z"
    }
   },
   "outputs": [
    {
     "name": "stderr",
     "output_type": "stream",
     "text": [
      "/Users/adonath/software/mambaforge/envs/gammapy-dev/lib/python3.9/site-packages/astropy/units/quantity.py:613: RuntimeWarning: overflow encountered in exp\n",
      "  result = super().__array_ufunc__(function, method, *arrays, **kwargs)\n",
      "/Users/adonath/software/mambaforge/envs/gammapy-dev/lib/python3.9/site-packages/astropy/units/quantity.py:613: RuntimeWarning: invalid value encountered in subtract\n",
      "  result = super().__array_ufunc__(function, method, *arrays, **kwargs)\n"
     ]
    }
   ],
   "source": [
    "# Define the source model: A combination of spectral and temporal model\n",
    "\n",
    "gti_t0 = Time(\"2020-03-01\")\n",
    "spectral_model = PowerLawSpectralModel(\n",
    "    index=3, amplitude=\"1e-11 cm-2 s-1 TeV-1\", reference=\"1 TeV\"\n",
    ")\n",
    "temporal_model = ExpDecayTemporalModel(t0=\"6 h\", t_ref=gti_t0.mjd * u.d)\n",
    "\n",
    "model_simu = SkyModel(\n",
    "    spectral_model=spectral_model,\n",
    "    temporal_model=temporal_model,\n",
    "    name=\"model-simu\",\n",
    ")"
   ]
  },
  {
   "cell_type": "code",
   "execution_count": 8,
   "id": "1154058f",
   "metadata": {
    "execution": {
     "iopub.execute_input": "2022-05-12T21:49:41.795185Z",
     "iopub.status.busy": "2022-05-12T21:49:41.794085Z",
     "iopub.status.idle": "2022-05-12T21:49:41.819823Z",
     "shell.execute_reply": "2022-05-12T21:49:41.814260Z"
    }
   },
   "outputs": [
    {
     "data": {
      "text/html": [
       "<div><i>Table length=5</i>\n",
       "<table id=\"table6049725936\" class=\"table-striped table-bordered table-condensed\">\n",
       "<thead><tr><th>type</th><th>name</th><th>value</th><th>unit</th><th>error</th><th>min</th><th>max</th><th>frozen</th><th>is_norm</th><th>link</th></tr></thead>\n",
       "<thead><tr><th>str8</th><th>str9</th><th>float64</th><th>str14</th><th>int64</th><th>float64</th><th>float64</th><th>bool</th><th>bool</th><th>str1</th></tr></thead>\n",
       "<tr><td>spectral</td><td>index</td><td>3.0000e+00</td><td></td><td>0.000e+00</td><td>nan</td><td>nan</td><td>False</td><td>False</td><td></td></tr>\n",
       "<tr><td>spectral</td><td>amplitude</td><td>1.0000e-11</td><td>cm-2 s-1 TeV-1</td><td>0.000e+00</td><td>nan</td><td>nan</td><td>False</td><td>True</td><td></td></tr>\n",
       "<tr><td>spectral</td><td>reference</td><td>1.0000e+00</td><td>TeV</td><td>0.000e+00</td><td>nan</td><td>nan</td><td>True</td><td>False</td><td></td></tr>\n",
       "<tr><td>temporal</td><td>t0</td><td>6.0000e+00</td><td>h</td><td>0.000e+00</td><td>nan</td><td>nan</td><td>False</td><td>False</td><td></td></tr>\n",
       "<tr><td>temporal</td><td>t_ref</td><td>5.8909e+04</td><td>d</td><td>0.000e+00</td><td>nan</td><td>nan</td><td>True</td><td>False</td><td></td></tr>\n",
       "</table></div>"
      ],
      "text/plain": [
       "<Table length=5>\n",
       "  type      name     value         unit        error     min     max   frozen is_norm link\n",
       "  str8      str9    float64       str14        int64   float64 float64  bool    bool  str1\n",
       "-------- --------- ---------- -------------- --------- ------- ------- ------ ------- ----\n",
       "spectral     index 3.0000e+00                0.000e+00     nan     nan  False   False     \n",
       "spectral amplitude 1.0000e-11 cm-2 s-1 TeV-1 0.000e+00     nan     nan  False    True     \n",
       "spectral reference 1.0000e+00            TeV 0.000e+00     nan     nan   True   False     \n",
       "temporal        t0 6.0000e+00              h 0.000e+00     nan     nan  False   False     \n",
       "temporal     t_ref 5.8909e+04              d 0.000e+00     nan     nan   True   False     "
      ]
     },
     "execution_count": 8,
     "metadata": {},
     "output_type": "execute_result"
    }
   ],
   "source": [
    "# Look at the model\n",
    "model_simu.parameters.to_table()"
   ]
  },
  {
   "cell_type": "markdown",
   "id": "fc68a829",
   "metadata": {},
   "source": [
    "Now, define the start and observation livetime wrt to the reference time, `gti_t0`"
   ]
  },
  {
   "cell_type": "code",
   "execution_count": 9,
   "id": "d9c453f5",
   "metadata": {
    "execution": {
     "iopub.execute_input": "2022-05-12T21:49:41.828302Z",
     "iopub.status.busy": "2022-05-12T21:49:41.827119Z",
     "iopub.status.idle": "2022-05-12T21:49:41.834991Z",
     "shell.execute_reply": "2022-05-12T21:49:41.834259Z"
    }
   },
   "outputs": [],
   "source": [
    "n_obs = 10\n",
    "\n",
    "tstart = gti_t0 + [1, 2, 3, 5, 8, 10, 20, 22, 23, 24] * u.h\n",
    "lvtm = [55, 25, 26, 40, 40, 50, 40, 52, 43, 47] * u.min"
   ]
  },
  {
   "cell_type": "markdown",
   "id": "bea67428",
   "metadata": {},
   "source": [
    "Now perform the simulations"
   ]
  },
  {
   "cell_type": "code",
   "execution_count": 10,
   "id": "7832be93",
   "metadata": {
    "execution": {
     "iopub.execute_input": "2022-05-12T21:49:41.840937Z",
     "iopub.status.busy": "2022-05-12T21:49:41.840542Z",
     "iopub.status.idle": "2022-05-12T21:49:44.293928Z",
     "shell.execute_reply": "2022-05-12T21:49:44.292956Z"
    }
   },
   "outputs": [],
   "source": [
    "datasets = Datasets()\n",
    "\n",
    "empty = SpectrumDataset.create(\n",
    "    geom=geom, energy_axis_true=energy_axis_true, name=\"empty\"\n",
    ")\n",
    "\n",
    "maker = SpectrumDatasetMaker(selection=[\"exposure\", \"background\", \"edisp\"])\n",
    "\n",
    "\n",
    "for idx in range(n_obs):\n",
    "    obs = Observation.create(\n",
    "        pointing=pointing,\n",
    "        livetime=lvtm[idx],\n",
    "        tstart=tstart[idx],\n",
    "        irfs=irfs,\n",
    "        reference_time=gti_t0,\n",
    "        obs_id=idx,\n",
    "        location=observatory_locations[\"cta_south\"],\n",
    "    )\n",
    "    empty_i = empty.copy(name=f\"dataset-{idx}\")\n",
    "    dataset = maker.run(empty_i, obs)\n",
    "    dataset.models = model_simu\n",
    "    dataset.fake()\n",
    "    datasets.append(dataset)"
   ]
  },
  {
   "cell_type": "markdown",
   "id": "e6611a8e",
   "metadata": {},
   "source": [
    "The reduced datasets have been successfully simulated. Let's take a quick look into our datasets."
   ]
  },
  {
   "cell_type": "code",
   "execution_count": 11,
   "id": "9c94d2e5",
   "metadata": {
    "execution": {
     "iopub.execute_input": "2022-05-12T21:49:44.299314Z",
     "iopub.status.busy": "2022-05-12T21:49:44.298923Z",
     "iopub.status.idle": "2022-05-12T21:49:44.430663Z",
     "shell.execute_reply": "2022-05-12T21:49:44.426776Z"
    }
   },
   "outputs": [
    {
     "data": {
      "text/html": [
       "<div><i>Table length=10</i>\n",
       "<table id=\"table6050221600\" class=\"table-striped table-bordered table-condensed\">\n",
       "<thead><tr><th>name</th><th>counts</th><th>excess</th><th>sqrt_ts</th><th>background</th><th>npred</th><th>npred_background</th><th>npred_signal</th><th>exposure_min</th><th>exposure_max</th><th>livetime</th><th>ontime</th><th>counts_rate</th><th>background_rate</th><th>excess_rate</th><th>n_bins</th><th>n_fit_bins</th><th>stat_type</th><th>stat_sum</th></tr></thead>\n",
       "<thead><tr><th></th><th></th><th></th><th></th><th></th><th></th><th></th><th></th><th>m2 s</th><th>m2 s</th><th>s</th><th>s</th><th>1 / s</th><th>1 / s</th><th>1 / s</th><th></th><th></th><th></th><th></th></tr></thead>\n",
       "<thead><tr><th>str9</th><th>int64</th><th>float64</th><th>float64</th><th>float64</th><th>float64</th><th>float64</th><th>float64</th><th>float64</th><th>float64</th><th>float64</th><th>float64</th><th>float64</th><th>float64</th><th>float64</th><th>int64</th><th>int64</th><th>str4</th><th>float64</th></tr></thead>\n",
       "<tr><td>dataset-0</td><td>788</td><td>767.6812133789062</td><td>65.03515595380219</td><td>20.318769454956055</td><td>20.318769738078117</td><td>20.318769454956055</td><td>nan</td><td>216137904.0</td><td>16025275392.0</td><td>3299.9999999999973</td><td>3300.0</td><td>0.238787878787879</td><td>0.006157202865138204</td><td>0.23263067072088087</td><td>9</td><td>9</td><td>cash</td><td>nan</td></tr>\n",
       "<tr><td>dataset-1</td><td>303</td><td>293.764195792777</td><td>39.08711484570209</td><td>9.235804207223024</td><td>332.14961280980896</td><td>9.235804207223024</td><td>322.9138086025859</td><td>98244500.93556362</td><td>7284216297.312286</td><td>1500.0000000000036</td><td>1500.0000000000036</td><td>0.2019999999999995</td><td>0.006157202804815335</td><td>0.1958427971951842</td><td>9</td><td>9</td><td>cash</td><td>-1804.171041139897</td></tr>\n",
       "<tr><td>dataset-2</td><td>272</td><td>262.39476362448806</td><td>35.97319869287688</td><td>9.605236375511943</td><td>293.48960258443094</td><td>9.605236375511943</td><td>283.88436620891895</td><td>102174280.97298616</td><td>7575584949.204778</td><td>1560.0000000000036</td><td>1560.0000000000036</td><td>0.17435897435897396</td><td>0.006157202804815334</td><td>0.16820177155415864</td><td>9</td><td>9</td><td>cash</td><td>-1574.3589928828487</td></tr>\n",
       "<tr><td>dataset-3</td><td>335</td><td>320.2227132684432</td><td>38.08741057470171</td><td>14.777286731556805</td><td>321.78385941877633</td><td>14.777286731556805</td><td>307.0065726872195</td><td>157191201.49690142</td><td>11654746075.69963</td><td>2400.0</td><td>2400.0</td><td>0.13958333333333334</td><td>0.0061572028048153355</td><td>0.133426130528518</td><td>9</td><td>9</td><td>cash</td><td>-2150.529986042023</td></tr>\n",
       "<tr><td>dataset-4</td><td>182</td><td>167.2227132684432</td><td>24.073382946346577</td><td>14.777286731556805</td><td>200.9861857996506</td><td>14.777286731556805</td><td>186.2088990680938</td><td>157191201.49690142</td><td>11654746075.69963</td><td>2400.0</td><td>2400.0</td><td>0.07583333333333334</td><td>0.0061572028048153355</td><td>0.069676130528518</td><td>9</td><td>9</td><td>cash</td><td>-875.6042880128907</td></tr>\n",
       "<tr><td>dataset-5</td><td>154</td><td>135.528391585554</td><td>19.547999322228286</td><td>18.471608414446006</td><td>182.99944272932325</td><td>18.471608414446006</td><td>164.52783431487723</td><td>196489001.87112677</td><td>14568432594.624538</td><td>3000.0</td><td>3000.0</td><td>0.051333333333333335</td><td>0.0061572028048153355</td><td>0.045176130528518</td><td>9</td><td>9</td><td>cash</td><td>-708.2822693043212</td></tr>\n",
       "<tr><td>dataset-6</td><td>58</td><td>43.222713268443194</td><td>8.495137984520849</td><td>14.777286731556805</td><td>39.97792082811522</td><td>14.777286731556805</td><td>25.20063409655841</td><td>157191201.49690142</td><td>11654746075.69963</td><td>2400.0</td><td>2400.0</td><td>0.024166666666666666</td><td>0.0061572028048153355</td><td>0.01800946386185133</td><td>9</td><td>9</td><td>cash</td><td>-147.1795589597059</td></tr>\n",
       "<tr><td>dataset-7</td><td>45</td><td>25.789527248976157</td><td>5.002955809473021</td><td>19.210472751023843</td><td>42.30482881204804</td><td>19.210472751023843</td><td>23.094356061024197</td><td>204348561.94597185</td><td>15151169898.40952</td><td>3120.0</td><td>3120.0</td><td>0.014423076923076924</td><td>0.006157202804815335</td><td>0.00826587411826159</td><td>9</td><td>9</td><td>cash</td><td>-126.82594551244152</td></tr>\n",
       "<tr><td>dataset-8</td><td>23</td><td>7.114416763576436</td><td>1.6718101499279763</td><td>15.885583236423564</td><td>32.24990050264766</td><td>15.885583236423564</td><td>16.36431726622409</td><td>168980541.609169</td><td>12528852031.377102</td><td>2580.0</td><td>2580.0</td><td>0.008914728682170543</td><td>0.006157202804815335</td><td>0.002757525877355208</td><td>9</td><td>9</td><td>cash</td><td>-24.280591740673064</td></tr>\n",
       "<tr><td>dataset-9</td><td>28</td><td>10.636688090420755</td><td>2.3422096643225636</td><td>17.363311909579245</td><td>32.42183519708895</td><td>17.363311909579245</td><td>15.05852328750971</td><td>184699661.75885916</td><td>13694326638.947065</td><td>2820.0</td><td>2820.0</td><td>0.009929078014184398</td><td>0.0061572028048153355</td><td>0.003771875209369062</td><td>9</td><td>9</td><td>cash</td><td>-28.06690147791762</td></tr>\n",
       "</table></div>"
      ],
      "text/plain": [
       "<Table length=10>\n",
       "   name   counts       excess            sqrt_ts           background           npred        ...    background_rate        excess_rate      n_bins n_fit_bins stat_type       stat_sum     \n",
       "                                                                                             ...         1 / s                1 / s                                                        \n",
       "   str9   int64       float64            float64            float64            float64       ...        float64              float64        int64    int64       str4         float64      \n",
       "--------- ------ ------------------ ------------------ ------------------ ------------------ ... --------------------- -------------------- ------ ---------- --------- -------------------\n",
       "dataset-0    788  767.6812133789062  65.03515595380219 20.318769454956055 20.318769738078117 ...  0.006157202865138204  0.23263067072088087      9          9      cash                 nan\n",
       "dataset-1    303   293.764195792777  39.08711484570209  9.235804207223024 332.14961280980896 ...  0.006157202804815335   0.1958427971951842      9          9      cash  -1804.171041139897\n",
       "dataset-2    272 262.39476362448806  35.97319869287688  9.605236375511943 293.48960258443094 ...  0.006157202804815334  0.16820177155415864      9          9      cash -1574.3589928828487\n",
       "dataset-3    335  320.2227132684432  38.08741057470171 14.777286731556805 321.78385941877633 ... 0.0061572028048153355    0.133426130528518      9          9      cash  -2150.529986042023\n",
       "dataset-4    182  167.2227132684432 24.073382946346577 14.777286731556805  200.9861857996506 ... 0.0061572028048153355    0.069676130528518      9          9      cash  -875.6042880128907\n",
       "dataset-5    154   135.528391585554 19.547999322228286 18.471608414446006 182.99944272932325 ... 0.0061572028048153355    0.045176130528518      9          9      cash  -708.2822693043212\n",
       "dataset-6     58 43.222713268443194  8.495137984520849 14.777286731556805  39.97792082811522 ... 0.0061572028048153355  0.01800946386185133      9          9      cash  -147.1795589597059\n",
       "dataset-7     45 25.789527248976157  5.002955809473021 19.210472751023843  42.30482881204804 ...  0.006157202804815335  0.00826587411826159      9          9      cash -126.82594551244152\n",
       "dataset-8     23  7.114416763576436 1.6718101499279763 15.885583236423564  32.24990050264766 ...  0.006157202804815335 0.002757525877355208      9          9      cash -24.280591740673064\n",
       "dataset-9     28 10.636688090420755 2.3422096643225636 17.363311909579245  32.42183519708895 ... 0.0061572028048153355 0.003771875209369062      9          9      cash  -28.06690147791762"
      ]
     },
     "execution_count": 11,
     "metadata": {},
     "output_type": "execute_result"
    }
   ],
   "source": [
    "datasets.info_table()"
   ]
  },
  {
   "cell_type": "markdown",
   "id": "9815e50f",
   "metadata": {},
   "source": [
    "## Extract the lightcurve\n",
    "\n",
    "This section uses standard light curve estimation tools for a 1D extraction. Only a spectral model needs to be defined in this case. Since the estimator returns the integrated flux separately for each time bin, the temporal model need not be accounted for at this stage. We extract the lightcurve in 3 energy binsç"
   ]
  },
  {
   "cell_type": "code",
   "execution_count": 12,
   "id": "207f8cb9",
   "metadata": {
    "execution": {
     "iopub.execute_input": "2022-05-12T21:49:44.438707Z",
     "iopub.status.busy": "2022-05-12T21:49:44.438180Z",
     "iopub.status.idle": "2022-05-12T21:49:44.456487Z",
     "shell.execute_reply": "2022-05-12T21:49:44.454981Z"
    }
   },
   "outputs": [],
   "source": [
    "# Define the model:\n",
    "spectral_model = PowerLawSpectralModel(\n",
    "    index=3, amplitude=\"1e-11 cm-2 s-1 TeV-1\", reference=\"1 TeV\"\n",
    ")\n",
    "model_fit = SkyModel(spectral_model=spectral_model, name=\"model-fit\")"
   ]
  },
  {
   "cell_type": "code",
   "execution_count": 13,
   "id": "ff16ec0c",
   "metadata": {
    "execution": {
     "iopub.execute_input": "2022-05-12T21:49:44.462489Z",
     "iopub.status.busy": "2022-05-12T21:49:44.462130Z",
     "iopub.status.idle": "2022-05-12T21:49:44.467454Z",
     "shell.execute_reply": "2022-05-12T21:49:44.466635Z"
    }
   },
   "outputs": [],
   "source": [
    "# Attach model to all datasets\n",
    "datasets.models = model_fit"
   ]
  },
  {
   "cell_type": "code",
   "execution_count": 14,
   "id": "de110489",
   "metadata": {
    "execution": {
     "iopub.execute_input": "2022-05-12T21:49:44.477290Z",
     "iopub.status.busy": "2022-05-12T21:49:44.476841Z",
     "iopub.status.idle": "2022-05-12T21:49:58.538484Z",
     "shell.execute_reply": "2022-05-12T21:49:58.537173Z"
    }
   },
   "outputs": [
    {
     "name": "stdout",
     "output_type": "stream",
     "text": [
      "CPU times: user 10.7 s, sys: 203 ms, total: 10.9 s\n",
      "Wall time: 14.1 s\n"
     ]
    }
   ],
   "source": [
    "%%time\n",
    "lc_maker_1d = LightCurveEstimator(\n",
    "    energy_edges=[0.3, 0.6, 1.0, 10] * u.TeV,\n",
    "    source=\"model-fit\",\n",
    "    selection_optional=[\"ul\"],\n",
    ")\n",
    "lc_1d = lc_maker_1d.run(datasets)"
   ]
  },
  {
   "cell_type": "code",
   "execution_count": 15,
   "id": "a5aee53c",
   "metadata": {
    "execution": {
     "iopub.execute_input": "2022-05-12T21:49:58.553744Z",
     "iopub.status.busy": "2022-05-12T21:49:58.553325Z",
     "iopub.status.idle": "2022-05-12T21:49:59.100020Z",
     "shell.execute_reply": "2022-05-12T21:49:59.098965Z"
    }
   },
   "outputs": [
    {
     "data": {
      "image/png": "[encoded data removed]",
      "text/plain": [
       "<Figure size 432x288 with 1 Axes>"
      ]
     },
     "metadata": {
      "needs_background": "light"
     },
     "output_type": "display_data"
    }
   ],
   "source": [
    "ax = lc_1d.plot(marker=\"o\", axis_name=\"time\", sed_type=\"flux\")"
   ]
  },
  {
   "cell_type": "markdown",
   "id": "a82fae46",
   "metadata": {},
   "source": [
    "## Fitting temporal models\n",
    "We have the reconstructed lightcurve at this point. Now we want to fit a profile to the obtained light curves, using a joint fitting across the different datasets, while simultaneously minimising across the temporal model parameters as well. The temporal models can be applied \n",
    "\n",
    "- directly on the obtained lightcurve\n",
    "- on the simulated datasets"
   ]
  },
  {
   "cell_type": "markdown",
   "id": "91e87524",
   "metadata": {},
   "source": [
    "### Fitting the obtained light curve\n",
    "\n",
    "The fitting will proceed through a joint fit of the flux points. First, we need to obtain a set of `FluxPointDatasets`, one for each time bin"
   ]
  },
  {
   "cell_type": "code",
   "execution_count": 16,
   "id": "c8ebf08e",
   "metadata": {
    "execution": {
     "iopub.execute_input": "2022-05-12T21:49:59.109621Z",
     "iopub.status.busy": "2022-05-12T21:49:59.108697Z",
     "iopub.status.idle": "2022-05-12T21:49:59.387951Z",
     "shell.execute_reply": "2022-05-12T21:49:59.387149Z"
    }
   },
   "outputs": [],
   "source": [
    "## Create the datasets by iterating over the returned lightcurve\n",
    "datasets = Datasets()\n",
    "\n",
    "for idx, fp in enumerate(lc_1d.iter_by_axis(axis_name=\"time\")):\n",
    "    dataset = FluxPointsDataset(data=fp, name=f\"time-bin-{idx}\")\n",
    "    datasets.append(dataset)"
   ]
  },
  {
   "cell_type": "markdown",
   "id": "fe9e4d13",
   "metadata": {},
   "source": [
    "We will fit the amplitude, spectral index and the decay time scale. Note that `t_ref` should be fixed by default for the `ExpDecayTemporalModel`. "
   ]
  },
  {
   "cell_type": "code",
   "execution_count": 17,
   "id": "fa124578",
   "metadata": {
    "execution": {
     "iopub.execute_input": "2022-05-12T21:49:59.393706Z",
     "iopub.status.busy": "2022-05-12T21:49:59.393199Z",
     "iopub.status.idle": "2022-05-12T21:49:59.430408Z",
     "shell.execute_reply": "2022-05-12T21:49:59.429222Z"
    }
   },
   "outputs": [
    {
     "name": "stderr",
     "output_type": "stream",
     "text": [
      "/Users/adonath/software/mambaforge/envs/gammapy-dev/lib/python3.9/site-packages/astropy/units/quantity.py:613: RuntimeWarning: overflow encountered in exp\n",
      "  result = super().__array_ufunc__(function, method, *arrays, **kwargs)\n",
      "/Users/adonath/software/mambaforge/envs/gammapy-dev/lib/python3.9/site-packages/astropy/units/quantity.py:613: RuntimeWarning: invalid value encountered in subtract\n",
      "  result = super().__array_ufunc__(function, method, *arrays, **kwargs)\n"
     ]
    }
   ],
   "source": [
    "# Define the model:\n",
    "spectral_model1 = PowerLawSpectralModel(\n",
    "    index=2.0, amplitude=\"1e-12 cm-2 s-1 TeV-1\", reference=\"1 TeV\"\n",
    ")\n",
    "temporal_model1 = ExpDecayTemporalModel(t0=\"10 h\", t_ref=gti_t0.mjd * u.d)\n",
    "\n",
    "model = SkyModel(\n",
    "    spectral_model=spectral_model1,\n",
    "    temporal_model=temporal_model1,\n",
    "    name=\"model-test\",\n",
    ")"
   ]
  },
  {
   "cell_type": "code",
   "execution_count": 18,
   "id": "f3c3e945",
   "metadata": {
    "execution": {
     "iopub.execute_input": "2022-05-12T21:49:59.442123Z",
     "iopub.status.busy": "2022-05-12T21:49:59.441514Z",
     "iopub.status.idle": "2022-05-12T21:49:59.451786Z",
     "shell.execute_reply": "2022-05-12T21:49:59.450568Z"
    }
   },
   "outputs": [],
   "source": [
    "datasets.models = model"
   ]
  },
  {
   "cell_type": "code",
   "execution_count": 19,
   "id": "28f3a62c",
   "metadata": {
    "execution": {
     "iopub.execute_input": "2022-05-12T21:49:59.458772Z",
     "iopub.status.busy": "2022-05-12T21:49:59.458145Z",
     "iopub.status.idle": "2022-05-12T21:50:08.029588Z",
     "shell.execute_reply": "2022-05-12T21:50:08.023681Z"
    }
   },
   "outputs": [
    {
     "name": "stdout",
     "output_type": "stream",
     "text": [
      "CPU times: user 6.8 s, sys: 96.2 ms, total: 6.9 s\n",
      "Wall time: 8.54 s\n"
     ]
    },
    {
     "name": "stderr",
     "output_type": "stream",
     "text": [
      "/Users/adonath/software/mambaforge/envs/gammapy-dev/lib/python3.9/site-packages/astropy/units/quantity.py:613: RuntimeWarning: overflow encountered in exp\n",
      "  result = super().__array_ufunc__(function, method, *arrays, **kwargs)\n",
      "/Users/adonath/software/mambaforge/envs/gammapy-dev/lib/python3.9/site-packages/astropy/units/quantity.py:613: RuntimeWarning: invalid value encountered in subtract\n",
      "  result = super().__array_ufunc__(function, method, *arrays, **kwargs)\n"
     ]
    }
   ],
   "source": [
    "%%time\n",
    "# Do a joint fit\n",
    "fit = Fit()\n",
    "result = fit.run(datasets=datasets)"
   ]
  },
  {
   "cell_type": "markdown",
   "id": "6170b6d9",
   "metadata": {},
   "source": [
    "Now let's plot model and data. We plot only the normalisation of the temporal model in relative units for one particular energy range"
   ]
  },
  {
   "cell_type": "code",
   "execution_count": 20,
   "id": "da30ee2a",
   "metadata": {
    "execution": {
     "iopub.execute_input": "2022-05-12T21:50:08.047851Z",
     "iopub.status.busy": "2022-05-12T21:50:08.047442Z",
     "iopub.status.idle": "2022-05-12T21:50:08.263987Z",
     "shell.execute_reply": "2022-05-12T21:50:08.262898Z"
    },
    "nbsphinx-thumbnail": {
     "tooltip": "Simulate and fit a time decaying light curve of a source using the CTA 1DC response."
    }
   },
   "outputs": [
    {
     "data": {
      "text/plain": [
       "<matplotlib.legend.Legend at 0x16c5c0f70>"
      ]
     },
     "execution_count": 20,
     "metadata": {},
     "output_type": "execute_result"
    },
    {
     "data": {
      "image/png": "[encoded data removed]",
      "text/plain": [
       "<Figure size 432x288 with 1 Axes>"
      ]
     },
     "metadata": {
      "needs_background": "light"
     },
     "output_type": "display_data"
    }
   ],
   "source": [
    "lc_1TeV_10TeV = lc_1d.slice_by_idx({\"energy\": slice(2, 3)})\n",
    "ax = lc_1TeV_10TeV.plot(sed_type=\"norm\", axis_name=\"time\")\n",
    "\n",
    "time_range = lc_1TeV_10TeV.geom.axes[\"time\"].time_bounds\n",
    "temporal_model1.plot(ax=ax, time_range=time_range, label=\"Best fit model\")\n",
    "\n",
    "ax.set_yscale(\"linear\")\n",
    "plt.legend()"
   ]
  },
  {
   "cell_type": "markdown",
   "id": "4a959c6c",
   "metadata": {},
   "source": [
    "### Fit the datasets\n",
    "\n",
    "Here, we apply the models directly to the simulated datasets.\n",
    "\n",
    "For modelling and fitting more complex flares, you should attach the relevant model to each group of `datasets`. The parameters of a model in a given group of dataset will be tied. For more details on joint fitting in gammapy, see [here](../2D/modeling_2D.ipynb)."
   ]
  },
  {
   "cell_type": "code",
   "execution_count": 21,
   "id": "205d016b",
   "metadata": {
    "execution": {
     "iopub.execute_input": "2022-05-12T21:50:08.273351Z",
     "iopub.status.busy": "2022-05-12T21:50:08.271866Z",
     "iopub.status.idle": "2022-05-12T21:50:08.286394Z",
     "shell.execute_reply": "2022-05-12T21:50:08.285670Z"
    }
   },
   "outputs": [
    {
     "name": "stderr",
     "output_type": "stream",
     "text": [
      "/Users/adonath/software/mambaforge/envs/gammapy-dev/lib/python3.9/site-packages/astropy/units/quantity.py:613: RuntimeWarning: overflow encountered in exp\n",
      "  result = super().__array_ufunc__(function, method, *arrays, **kwargs)\n",
      "/Users/adonath/software/mambaforge/envs/gammapy-dev/lib/python3.9/site-packages/astropy/units/quantity.py:613: RuntimeWarning: invalid value encountered in subtract\n",
      "  result = super().__array_ufunc__(function, method, *arrays, **kwargs)\n"
     ]
    }
   ],
   "source": [
    "# Define the model:\n",
    "spectral_model2 = PowerLawSpectralModel(\n",
    "    index=2.0, amplitude=\"1e-12 cm-2 s-1 TeV-1\", reference=\"1 TeV\"\n",
    ")\n",
    "temporal_model2 = ExpDecayTemporalModel(t0=\"10 h\", t_ref=gti_t0.mjd * u.d)\n",
    "\n",
    "model2 = SkyModel(\n",
    "    spectral_model=spectral_model2,\n",
    "    temporal_model=temporal_model2,\n",
    "    name=\"model-test2\",\n",
    ")"
   ]
  },
  {
   "cell_type": "code",
   "execution_count": 22,
   "id": "9db21cec",
   "metadata": {
    "execution": {
     "iopub.execute_input": "2022-05-12T21:50:08.291264Z",
     "iopub.status.busy": "2022-05-12T21:50:08.290864Z",
     "iopub.status.idle": "2022-05-12T21:50:08.303999Z",
     "shell.execute_reply": "2022-05-12T21:50:08.302976Z"
    }
   },
   "outputs": [
    {
     "data": {
      "text/html": [
       "<div><i>Table length=5</i>\n",
       "<table id=\"table6113031312\" class=\"table-striped table-bordered table-condensed\">\n",
       "<thead><tr><th>type</th><th>name</th><th>value</th><th>unit</th><th>error</th><th>min</th><th>max</th><th>frozen</th><th>is_norm</th><th>link</th></tr></thead>\n",
       "<thead><tr><th>str8</th><th>str9</th><th>float64</th><th>str14</th><th>int64</th><th>float64</th><th>float64</th><th>bool</th><th>bool</th><th>str1</th></tr></thead>\n",
       "<tr><td>spectral</td><td>index</td><td>2.0000e+00</td><td></td><td>0.000e+00</td><td>nan</td><td>nan</td><td>False</td><td>False</td><td></td></tr>\n",
       "<tr><td>spectral</td><td>amplitude</td><td>1.0000e-12</td><td>cm-2 s-1 TeV-1</td><td>0.000e+00</td><td>nan</td><td>nan</td><td>False</td><td>True</td><td></td></tr>\n",
       "<tr><td>spectral</td><td>reference</td><td>1.0000e+00</td><td>TeV</td><td>0.000e+00</td><td>nan</td><td>nan</td><td>True</td><td>False</td><td></td></tr>\n",
       "<tr><td>temporal</td><td>t0</td><td>1.0000e+01</td><td>h</td><td>0.000e+00</td><td>nan</td><td>nan</td><td>False</td><td>False</td><td></td></tr>\n",
       "<tr><td>temporal</td><td>t_ref</td><td>5.8909e+04</td><td>d</td><td>0.000e+00</td><td>nan</td><td>nan</td><td>True</td><td>False</td><td></td></tr>\n",
       "</table></div>"
      ],
      "text/plain": [
       "<Table length=5>\n",
       "  type      name     value         unit        error     min     max   frozen is_norm link\n",
       "  str8      str9    float64       str14        int64   float64 float64  bool    bool  str1\n",
       "-------- --------- ---------- -------------- --------- ------- ------- ------ ------- ----\n",
       "spectral     index 2.0000e+00                0.000e+00     nan     nan  False   False     \n",
       "spectral amplitude 1.0000e-12 cm-2 s-1 TeV-1 0.000e+00     nan     nan  False    True     \n",
       "spectral reference 1.0000e+00            TeV 0.000e+00     nan     nan   True   False     \n",
       "temporal        t0 1.0000e+01              h 0.000e+00     nan     nan  False   False     \n",
       "temporal     t_ref 5.8909e+04              d 0.000e+00     nan     nan   True   False     "
      ]
     },
     "execution_count": 22,
     "metadata": {},
     "output_type": "execute_result"
    }
   ],
   "source": [
    "model2.parameters.to_table()"
   ]
  },
  {
   "cell_type": "code",
   "execution_count": 23,
   "id": "aed8ef42",
   "metadata": {
    "execution": {
     "iopub.execute_input": "2022-05-12T21:50:08.311326Z",
     "iopub.status.busy": "2022-05-12T21:50:08.310990Z",
     "iopub.status.idle": "2022-05-12T21:50:08.318406Z",
     "shell.execute_reply": "2022-05-12T21:50:08.317318Z"
    }
   },
   "outputs": [],
   "source": [
    "datasets.models = model2"
   ]
  },
  {
   "cell_type": "code",
   "execution_count": 24,
   "id": "d07b2bf8",
   "metadata": {
    "execution": {
     "iopub.execute_input": "2022-05-12T21:50:08.324368Z",
     "iopub.status.busy": "2022-05-12T21:50:08.323960Z",
     "iopub.status.idle": "2022-05-12T21:50:15.591834Z",
     "shell.execute_reply": "2022-05-12T21:50:15.589713Z"
    }
   },
   "outputs": [
    {
     "name": "stdout",
     "output_type": "stream",
     "text": [
      "CPU times: user 5.75 s, sys: 71.6 ms, total: 5.83 s\n",
      "Wall time: 7.26 s\n"
     ]
    },
    {
     "name": "stderr",
     "output_type": "stream",
     "text": [
      "/Users/adonath/software/mambaforge/envs/gammapy-dev/lib/python3.9/site-packages/astropy/units/quantity.py:613: RuntimeWarning: overflow encountered in exp\n",
      "  result = super().__array_ufunc__(function, method, *arrays, **kwargs)\n",
      "/Users/adonath/software/mambaforge/envs/gammapy-dev/lib/python3.9/site-packages/astropy/units/quantity.py:613: RuntimeWarning: invalid value encountered in subtract\n",
      "  result = super().__array_ufunc__(function, method, *arrays, **kwargs)\n"
     ]
    }
   ],
   "source": [
    "%%time\n",
    "# Do a joint fit\n",
    "fit = Fit()\n",
    "result = fit.run(datasets=datasets)"
   ]
  },
  {
   "cell_type": "code",
   "execution_count": 25,
   "id": "f0444edd",
   "metadata": {
    "execution": {
     "iopub.execute_input": "2022-05-12T21:50:15.597516Z",
     "iopub.status.busy": "2022-05-12T21:50:15.596545Z",
     "iopub.status.idle": "2022-05-12T21:50:15.610411Z",
     "shell.execute_reply": "2022-05-12T21:50:15.609411Z"
    }
   },
   "outputs": [
    {
     "data": {
      "text/html": [
       "<div><i>Table length=5</i>\n",
       "<table id=\"table6112242224\" class=\"table-striped table-bordered table-condensed\">\n",
       "<thead><tr><th>type</th><th>name</th><th>value</th><th>unit</th><th>error</th><th>min</th><th>max</th><th>frozen</th><th>is_norm</th><th>link</th></tr></thead>\n",
       "<thead><tr><th>str8</th><th>str9</th><th>float64</th><th>str14</th><th>float64</th><th>float64</th><th>float64</th><th>bool</th><th>bool</th><th>str1</th></tr></thead>\n",
       "<tr><td>spectral</td><td>index</td><td>2.9926e+00</td><td></td><td>2.868e-02</td><td>nan</td><td>nan</td><td>False</td><td>False</td><td></td></tr>\n",
       "<tr><td>spectral</td><td>amplitude</td><td>9.3341e-12</td><td>cm-2 s-1 TeV-1</td><td>3.377e-13</td><td>nan</td><td>nan</td><td>False</td><td>True</td><td></td></tr>\n",
       "<tr><td>spectral</td><td>reference</td><td>1.0000e+00</td><td>TeV</td><td>0.000e+00</td><td>nan</td><td>nan</td><td>True</td><td>False</td><td></td></tr>\n",
       "<tr><td>temporal</td><td>t0</td><td>6.0565e+00</td><td>h</td><td>2.562e-01</td><td>nan</td><td>nan</td><td>False</td><td>False</td><td></td></tr>\n",
       "<tr><td>temporal</td><td>t_ref</td><td>5.8909e+04</td><td>d</td><td>0.000e+00</td><td>nan</td><td>nan</td><td>True</td><td>False</td><td></td></tr>\n",
       "</table></div>"
      ],
      "text/plain": [
       "<Table length=5>\n",
       "  type      name     value         unit        error     min     max   frozen is_norm link\n",
       "  str8      str9    float64       str14       float64  float64 float64  bool    bool  str1\n",
       "-------- --------- ---------- -------------- --------- ------- ------- ------ ------- ----\n",
       "spectral     index 2.9926e+00                2.868e-02     nan     nan  False   False     \n",
       "spectral amplitude 9.3341e-12 cm-2 s-1 TeV-1 3.377e-13     nan     nan  False    True     \n",
       "spectral reference 1.0000e+00            TeV 0.000e+00     nan     nan   True   False     \n",
       "temporal        t0 6.0565e+00              h 2.562e-01     nan     nan  False   False     \n",
       "temporal     t_ref 5.8909e+04              d 0.000e+00     nan     nan   True   False     "
      ]
     },
     "execution_count": 25,
     "metadata": {},
     "output_type": "execute_result"
    }
   ],
   "source": [
    "result.parameters.to_table()"
   ]
  },
  {
   "cell_type": "markdown",
   "id": "b6bcdafc",
   "metadata": {},
   "source": [
    "We see that the fitted parameters are consistent between fitting flux points and datasets, and match well with the simulated ones"
   ]
  },
  {
   "cell_type": "markdown",
   "id": "3e27739b",
   "metadata": {},
   "source": [
    "## Exercises\n",
    "\n",
    "1. Re-do the analysis with `MapDataset` instead of `SpectralDataset`\n",
    "2. Model the flare of PKS 2155-304 which you obtained using the [light curve flare tutorial](light_curve_flare.ipynb). Use a combination of a Gaussian and Exponential flare profiles, and fit using `scipy.optimize.curve_fit`\n",
    "3. Do a joint fitting of the datasets."
   ]
  }
 ],
 "metadata": {
  "kernelspec": {
   "display_name": "Python 3 (ipykernel)",
   "language": "python",
   "name": "python3"
  },
  "language_info": {
   "codemirror_mode": {
    "name": "ipython",
    "version": 3
   },
   "file_extension": ".py",
   "mimetype": "text/x-python",
   "name": "python",
   "nbconvert_exporter": "python",
   "pygments_lexer": "ipython3",
   "version": "3.9.12"
  },
  "latex_envs": {
   "LaTeX_envs_menu_present": true,
   "autoclose": false,
   "autocomplete": true,
   "bibliofile": "biblio.bib",
   "cite_by": "apalike",
   "current_citInitial": 1,
   "eqLabelWithNumbers": true,
   "eqNumInitial": 1,
   "hotkeys": {
    "equation": "Ctrl-E",
    "itemize": "Ctrl-I"
   },
   "labels_anchors": false,
   "latex_user_defs": false,
   "report_style_numbering": false,
   "user_envs_cfg": false
  },
  "nbsphinx": {
   "orphan": true
  }
 },
 "nbformat": 4,
 "nbformat_minor": 5
}
