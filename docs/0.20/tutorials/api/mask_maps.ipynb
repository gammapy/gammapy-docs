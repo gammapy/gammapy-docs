{
 "cells": [
  {
   "cell_type": "markdown",
   "id": "e4185856",
   "metadata": {},
   "source": [
    "\n",
    "<div class=\"alert alert-info\">\n",
    "\n",
    "**This is a fixed-text formatted version of a Jupyter notebook**\n",
    "\n",
    "- Try online[![Binder](https://static.mybinder.org/badge.svg)](https://mybinder.org/v2/gh/gammapy/gammapy-webpage/v0.20?urlpath=lab/tree/tutorials/api/mask_maps.ipynb)\n",
    "- You may download all the notebooks as a [tar file](../../_downloads/notebooks-0.20.tar).\n",
    "- **Source files:**\n",
    "[mask_maps.ipynb](../../_static/notebooks/mask_maps.ipynb) |\n",
    "[mask_maps.py](../../_static/notebooks/mask_maps.py)\n",
    "</div>\n"
   ]
  },
  {
   "cell_type": "markdown",
   "id": "ad266deb",
   "metadata": {},
   "source": [
    "# Mask maps\n",
    "\n",
    "## Prerequisites\n",
    "\n",
    "- Understanding of basic analyses in 1D or 3D.\n",
    "- Usage of `~regions` and catalogs, see the [catalog notebook](catalog.ipynb). \n",
    "\n",
    "## Context\n",
    "\n",
    "There are two main categories of masks in Gammapy for different use cases.\n",
    "- Fitting often requires to ignore some parts of a reduced dataset, e.g. to restrict the fit to a specific energy range or to ignore parts of the region of interest that the user does not want to model, or both. \n",
    "Gammapy's `Datasets` therefore contain a `mask_fit` sharing the same geometry as the data (i.e. `counts`).\n",
    "- During data reduction, some background makers will normalize the background model template\n",
    "on the data themselves. To limit contamination by real photons, one has to exclude parts of the \n",
    "field-of-view where signal is expected to be large. To do so, one needs to provide an exclusion mask. \n",
    "The latter can be provided in a different geometry as it will be reprojected by the `Makers`.\n",
    "\n",
    "We explain in more details these two types of masks below:\n",
    "\n",
    "### Masks for fitting: `mask_fit`\n",
    "\n",
    "The region of interest used for the fit can defined through the dataset `mask_fit` attribute.\n",
    "The `mask_fit` is a map containing boolean values where pixels used in the fit are stored as True.  \n",
    "\n",
    "A spectral fit (1D or 3D) can be restricted to a specific energy range where e.g. the background\n",
    "is well estimated or where the number of counts is large enough.\n",
    "Similarly, 2D and 3D analyses usually require to work with a wider map than the region of interest so sources laying outside but reconstructed inside because of the PSF are correctly taken into account. Then the `mask_fit` have to include a margin that take into account the PSF width. We will show an example in the boundary mask sub-section.\n",
    "\n",
    "The `mask_fit` also can be used to exclude sources or complex regions for which we don't have good enough models. In that case the masking is an extra security, it is prefereable to include the available models even if the sources are masked and frozen.\n",
    "\n",
    "Note that a dataset contains also a `mask_safe` attribute that is created and filled during \n",
    "data reduction. It is not to be modified directly by users. The `mask_safe` is defined only from \n",
    "the options passed to the `~gammapy.makers.SafeMaskMaker` (More details [here](https://docs.gammapy.org/dev/makers/index.html#safe-data-range-handling)).\n",
    "\n",
    "### Exclusion masks\n",
    "\n",
    "Background templates stored in the DL3 IRF are often not reliable enough to be used without some corrections. A set of common techniques to perform background or normalisation from the data is implemented in gammapy: reflected regions for 1D spectrum analysis, field-of-view (FoV) background or ring background for 2D and 3D analyses.\n",
    "\n",
    "To avoid contamination of the background estimate from gamma-ray bright regions these methods require to exclude those regions from the data used for the estimation. To do so, we use exclusion masks. They are maps containing boolean values where excluded pixels are stored as False.  \n",
    "\n",
    "\n",
    "## Proposed approach\n",
    "\n",
    "Even if the use cases for exclusion masks and fit masks are different, the way to create these masks is exactly the same, so in the following we show how to work with masks in general:\n",
    "- Creating masks from scratch\n",
    "- Combining multiple masks\n",
    "- Extending and reducing an existing mask\n",
    "- Reading and writing masks\n",
    "\n",
    "\n",
    " "
   ]
  },
  {
   "cell_type": "markdown",
   "id": "d104e3cd",
   "metadata": {},
   "source": [
    "## Setup"
   ]
  },
  {
   "cell_type": "code",
   "execution_count": 1,
   "id": "d51ac5d4",
   "metadata": {
    "execution": {
     "iopub.execute_input": "2022-05-12T21:51:00.648364Z",
     "iopub.status.busy": "2022-05-12T21:51:00.648112Z",
     "iopub.status.idle": "2022-05-12T21:51:01.532302Z",
     "shell.execute_reply": "2022-05-12T21:51:01.531348Z"
    }
   },
   "outputs": [],
   "source": [
    "%matplotlib inline\n",
    "import matplotlib.pyplot as plt"
   ]
  },
  {
   "cell_type": "code",
   "execution_count": 2,
   "id": "3c152ab9",
   "metadata": {
    "execution": {
     "iopub.execute_input": "2022-05-12T21:51:01.550292Z",
     "iopub.status.busy": "2022-05-12T21:51:01.549936Z",
     "iopub.status.idle": "2022-05-12T21:51:02.972034Z",
     "shell.execute_reply": "2022-05-12T21:51:02.971074Z"
    }
   },
   "outputs": [],
   "source": [
    "import numpy as np\n",
    "from astropy.coordinates import SkyCoord, Angle\n",
    "import astropy.units as u\n",
    "from regions import CircleSkyRegion, Regions\n",
    "from gammapy.maps import Map, WcsGeom, MapAxis\n",
    "from gammapy.catalog import CATALOG_REGISTRY\n",
    "from gammapy.datasets import Datasets\n",
    "from gammapy.estimators import ExcessMapEstimator\n",
    "from gammapy.modeling.models import FoVBackgroundModel"
   ]
  },
  {
   "cell_type": "markdown",
   "id": "3fe68008",
   "metadata": {},
   "source": [
    "## Creating a mask for fitting\n",
    "\n",
    "One can build a `mask_fit` to restrict the energy range of pixels used to\n",
    "fit a `Dataset`. The mask being a `Map` it needs to use the same geometry\n",
    "(i.e. a `Geom` object) as the `Dataset` it will be applied to. \n",
    "\n",
    "We show here how to proceed on a `MapDataset` taken from Fermi data used in the 3FHL catalog. The dataset is already in the form of a `Datasets` object. We read it from disk.\n"
   ]
  },
  {
   "cell_type": "code",
   "execution_count": 3,
   "id": "e22d8347",
   "metadata": {
    "execution": {
     "iopub.execute_input": "2022-05-12T21:51:02.979517Z",
     "iopub.status.busy": "2022-05-12T21:51:02.979063Z",
     "iopub.status.idle": "2022-05-12T21:51:03.006238Z",
     "shell.execute_reply": "2022-05-12T21:51:03.000901Z"
    }
   },
   "outputs": [],
   "source": [
    "filename = \"$GAMMAPY_DATA/fermi-3fhl-crab/Fermi-LAT-3FHL_datasets.yaml\"\n",
    "datasets = Datasets.read(filename=filename)\n",
    "dataset = datasets[\"Fermi-LAT\"]"
   ]
  },
  {
   "cell_type": "markdown",
   "id": "b29e8ca9",
   "metadata": {},
   "source": [
    "We can check the default energy range of the dataset. In the absence of a `mask_fit` it is equal to the safe energy range."
   ]
  },
  {
   "cell_type": "code",
   "execution_count": 4,
   "id": "19cbb962",
   "metadata": {
    "execution": {
     "iopub.execute_input": "2022-05-12T21:51:03.012528Z",
     "iopub.status.busy": "2022-05-12T21:51:03.011946Z",
     "iopub.status.idle": "2022-05-12T21:51:03.131168Z",
     "shell.execute_reply": "2022-05-12T21:51:03.129414Z"
    }
   },
   "outputs": [
    {
     "name": "stderr",
     "output_type": "stream",
     "text": [
      "HDU 'MASK_FIT' not found\n"
     ]
    },
    {
     "name": "stdout",
     "output_type": "stream",
     "text": [
      "Fit range : (WcsNDMap\n",
      "\n",
      "\tgeom  : WcsGeom \n",
      " \taxes  : ['lon', 'lat']\n",
      "\tshape : (50, 40)\n",
      "\tndim  : 2\n",
      "\tunit  : TeV\n",
      "\tdtype : float64\n",
      ", WcsNDMap\n",
      "\n",
      "\tgeom  : WcsGeom \n",
      " \taxes  : ['lon', 'lat']\n",
      "\tshape : (50, 40)\n",
      "\tndim  : 2\n",
      "\tunit  : TeV\n",
      "\tdtype : float64\n",
      ")\n"
     ]
    }
   ],
   "source": [
    "print(f\"Fit range : {dataset.energy_range}\")"
   ]
  },
  {
   "cell_type": "markdown",
   "id": "05529eb1",
   "metadata": {},
   "source": [
    "### Create a mask in energy\n",
    "\n",
    "We show first how to use a simple helper function `~gammapy.maps.Geom.energy_range()`.\n",
    "\n",
    "We obtain the `Geom` that is stored on the `counts` map inside the `Dataset`\n",
    "and we can directly create the `Map`.\n"
   ]
  },
  {
   "cell_type": "code",
   "execution_count": 5,
   "id": "2160128f",
   "metadata": {
    "execution": {
     "iopub.execute_input": "2022-05-12T21:51:03.140829Z",
     "iopub.status.busy": "2022-05-12T21:51:03.139718Z",
     "iopub.status.idle": "2022-05-12T21:51:03.146351Z",
     "shell.execute_reply": "2022-05-12T21:51:03.145127Z"
    }
   },
   "outputs": [],
   "source": [
    "mask_energy = dataset.counts.geom.energy_mask(10 * u.GeV, 700 * u.GeV)"
   ]
  },
  {
   "cell_type": "markdown",
   "id": "b04a3648",
   "metadata": {},
   "source": [
    "We can now set the dataset `mask_fit` attribute.  \n",
    "\n",
    "And we check that the total fit range has changed accordingly. The bin edges closest to requested range provide the actual fit range. "
   ]
  },
  {
   "cell_type": "code",
   "execution_count": 6,
   "id": "e673c3e8",
   "metadata": {
    "execution": {
     "iopub.execute_input": "2022-05-12T21:51:03.152885Z",
     "iopub.status.busy": "2022-05-12T21:51:03.151782Z",
     "iopub.status.idle": "2022-05-12T21:51:03.163934Z",
     "shell.execute_reply": "2022-05-12T21:51:03.161881Z"
    }
   },
   "outputs": [
    {
     "name": "stdout",
     "output_type": "stream",
     "text": [
      "Fit range : (WcsNDMap\n",
      "\n",
      "\tgeom  : WcsGeom \n",
      " \taxes  : ['lon', 'lat']\n",
      "\tshape : (50, 40)\n",
      "\tndim  : 2\n",
      "\tunit  : TeV\n",
      "\tdtype : float64\n",
      ", WcsNDMap\n",
      "\n",
      "\tgeom  : WcsGeom \n",
      " \taxes  : ['lon', 'lat']\n",
      "\tshape : (50, 40)\n",
      "\tndim  : 2\n",
      "\tunit  : TeV\n",
      "\tdtype : float64\n",
      ")\n"
     ]
    }
   ],
   "source": [
    "dataset.mask_fit = mask_energy\n",
    "print(f\"Fit range : {dataset.energy_range}\")"
   ]
  },
  {
   "cell_type": "markdown",
   "id": "4531b524",
   "metadata": {},
   "source": [
    "### Mask some sky regions\n",
    "\n",
    "One might also exclude some specific part of the sky for the fit. For instance, if one wants not to model a specific source in the region of interest, or if one want to reduce the region of interest in the dataset `Geom`.\n",
    "\n",
    "In the following we restrict the fit region to a square around the Crab nebula. **Note**: the dataset geometry is aligned on the galactic frame, we use the same frame to define the box to ensure a correct alignment. \n",
    "We can now create the map. We use the `WcsGeom.region_mask` method putting all pixels outside the regions to False (because we only want to consider pixels inside the region. For convenience we can directly pass a ds9 region string to the method:"
   ]
  },
  {
   "cell_type": "code",
   "execution_count": 7,
   "id": "b8c5cff1",
   "metadata": {
    "execution": {
     "iopub.execute_input": "2022-05-12T21:51:03.169514Z",
     "iopub.status.busy": "2022-05-12T21:51:03.168932Z",
     "iopub.status.idle": "2022-05-12T21:51:03.222267Z",
     "shell.execute_reply": "2022-05-12T21:51:03.220726Z"
    }
   },
   "outputs": [],
   "source": [
    "regions = \"galactic;box(184.55, -5.78, 3.0, 3.0)\"\n",
    "mask_map = dataset.counts.geom.region_mask(regions)"
   ]
  },
  {
   "cell_type": "markdown",
   "id": "782c2b58",
   "metadata": {},
   "source": [
    "We can now combine this mask with the energy mask using the logical and operator"
   ]
  },
  {
   "cell_type": "code",
   "execution_count": 8,
   "id": "516a808c",
   "metadata": {
    "execution": {
     "iopub.execute_input": "2022-05-12T21:51:03.228172Z",
     "iopub.status.busy": "2022-05-12T21:51:03.227191Z",
     "iopub.status.idle": "2022-05-12T21:51:03.233426Z",
     "shell.execute_reply": "2022-05-12T21:51:03.230781Z"
    }
   },
   "outputs": [],
   "source": [
    "dataset.mask_fit &= mask_map"
   ]
  },
  {
   "cell_type": "markdown",
   "id": "f0757ff7",
   "metadata": {},
   "source": [
    "Let's check the result and plot the full mask."
   ]
  },
  {
   "cell_type": "code",
   "execution_count": 9,
   "id": "cc1f9399",
   "metadata": {
    "execution": {
     "iopub.execute_input": "2022-05-12T21:51:03.240066Z",
     "iopub.status.busy": "2022-05-12T21:51:03.239638Z",
     "iopub.status.idle": "2022-05-12T21:51:04.129801Z",
     "shell.execute_reply": "2022-05-12T21:51:04.128725Z"
    }
   },
   "outputs": [
    {
     "data": {
      "image/png": "[encoded data removed]",
      "text/plain": [
       "<Figure size 1008x216 with 5 Axes>"
      ]
     },
     "metadata": {
      "needs_background": "light"
     },
     "output_type": "display_data"
    }
   ],
   "source": [
    "_ = dataset.mask_fit.plot_grid(ncols=5, vmin=0, vmax=1, figsize=(14, 3))"
   ]
  },
  {
   "cell_type": "markdown",
   "id": "9faec244",
   "metadata": {},
   "source": [
    "### Creating a mask manually\n",
    "\n",
    "If you are more familiar with the `Geom` and `Map` API, you can also create the mask manually from the coordinates of all pixels in the geometry. Here we simply show how to obtain the same behaviour as the `energy_mask` helper method.\n",
    "\n",
    "In practice, this allows to create complex energy dependent masks."
   ]
  },
  {
   "cell_type": "code",
   "execution_count": 10,
   "id": "bd887cf0",
   "metadata": {
    "execution": {
     "iopub.execute_input": "2022-05-12T21:51:04.139612Z",
     "iopub.status.busy": "2022-05-12T21:51:04.135144Z",
     "iopub.status.idle": "2022-05-12T21:51:04.151966Z",
     "shell.execute_reply": "2022-05-12T21:51:04.150690Z"
    }
   },
   "outputs": [],
   "source": [
    "coords = dataset.counts.geom.get_coord()\n",
    "mask_data = (coords[\"energy\"] >= 10 * u.GeV) & (coords[\"energy\"] < 700 * u.GeV)\n",
    "mask_energy = Map.from_geom(dataset.counts.geom, data=mask_data)"
   ]
  },
  {
   "cell_type": "markdown",
   "id": "2e897042",
   "metadata": {},
   "source": [
    "## Creating an exclusion mask\n",
    "\n",
    "Exclusion masks are typically used for background estimation to mask out regions where gamma-ray signal is expected. \n",
    "An exclusion mask is usually a simple 2D boolean `Map` where excluded positions are stored as `False`. Their actual geometries are independent of the target datasets that a user might want to build. The first thing to do is to build the geometry.\n",
    "\n",
    "### Define the geometry\n",
    "\n",
    "Masks are stored in `Map` objects. We must first define its geometry and then we can determine which pixels to exclude. Here we consider a region at the Galactic anticentre around the crab nebula."
   ]
  },
  {
   "cell_type": "code",
   "execution_count": 11,
   "id": "c6b07885",
   "metadata": {
    "execution": {
     "iopub.execute_input": "2022-05-12T21:51:04.162256Z",
     "iopub.status.busy": "2022-05-12T21:51:04.161819Z",
     "iopub.status.idle": "2022-05-12T21:51:04.175724Z",
     "shell.execute_reply": "2022-05-12T21:51:04.174136Z"
    }
   },
   "outputs": [],
   "source": [
    "position = SkyCoord(83.633083, 22.0145, unit=\"deg\", frame=\"icrs\")\n",
    "geom = WcsGeom.create(\n",
    "    skydir=position, width=\"5 deg\", binsz=0.02, frame=\"galactic\"\n",
    ")"
   ]
  },
  {
   "cell_type": "markdown",
   "id": "bfc5d4e7",
   "metadata": {},
   "source": [
    "### Create the mask from a list of regions\n",
    "\n",
    "One can build an exclusion mask from regions. We show here how to proceed.\n",
    "\n",
    "We can rely on known sources positions and properties to build a list of regions (here `~regions.SkyRegions`) enclosing most of the signal that our detector would see from these objects.\n",
    "\n",
    "A useful function to create region objects is `~regions.regions.parse`. It can take strings defining regions e.g. following the \"ds9\" format and convert them to `regions`. \n",
    "\n",
    "Here we use a region enclosing the Crab nebula with 0.3 degrees. The actual region size should depend on the expected PSF of the data used. We also add another region with a different shape as en example."
   ]
  },
  {
   "cell_type": "code",
   "execution_count": 12,
   "id": "539d5616",
   "metadata": {
    "execution": {
     "iopub.execute_input": "2022-05-12T21:51:04.181216Z",
     "iopub.status.busy": "2022-05-12T21:51:04.180820Z",
     "iopub.status.idle": "2022-05-12T21:51:04.217834Z",
     "shell.execute_reply": "2022-05-12T21:51:04.216678Z"
    }
   },
   "outputs": [
    {
     "name": "stdout",
     "output_type": "stream",
     "text": [
      "[<RectangleSkyRegion(center=<SkyCoord (Galactic): (l, b) in deg\n",
      "    (185., -4.)>, width=1.0 deg, height=0.5 deg, angle=45.0 deg)>, <CircleSkyRegion(center=<SkyCoord (ICRS): (ra, dec) in deg\n",
      "    (83.633083, 22.0145)>, radius=0.3 deg)>]\n"
     ]
    }
   ],
   "source": [
    "regions_ds9 = (\n",
    "    \"galactic;box(185,-4,1.0,0.5, 45);icrs;circle(83.633083, 22.0145, 0.3)\"\n",
    ")\n",
    "regions = Regions.parse(regions_ds9, format=\"ds9\")\n",
    "print(regions)"
   ]
  },
  {
   "cell_type": "markdown",
   "id": "77e0fc99",
   "metadata": {},
   "source": [
    "Equivalently the regions can be read from a ds9 file, this time using `Regions.read`. "
   ]
  },
  {
   "cell_type": "code",
   "execution_count": 13,
   "id": "f8b84392",
   "metadata": {
    "execution": {
     "iopub.execute_input": "2022-05-12T21:51:04.224774Z",
     "iopub.status.busy": "2022-05-12T21:51:04.224412Z",
     "iopub.status.idle": "2022-05-12T21:51:04.229312Z",
     "shell.execute_reply": "2022-05-12T21:51:04.228172Z"
    }
   },
   "outputs": [],
   "source": [
    "# regions = Regions.read('ds9.reg', format=\"ds9\")"
   ]
  },
  {
   "cell_type": "markdown",
   "id": "72022f7a",
   "metadata": {},
   "source": [
    "#### Create the mask map \n",
    "\n",
    "We can now create the map. We use the `WcsGeom.region_mask` method putting all pixels inside the regions to False."
   ]
  },
  {
   "cell_type": "code",
   "execution_count": 14,
   "id": "ec326a0e",
   "metadata": {
    "execution": {
     "iopub.execute_input": "2022-05-12T21:51:04.233646Z",
     "iopub.status.busy": "2022-05-12T21:51:04.233253Z",
     "iopub.status.idle": "2022-05-12T21:51:04.252323Z",
     "shell.execute_reply": "2022-05-12T21:51:04.250258Z"
    }
   },
   "outputs": [],
   "source": [
    "# to define the exclusion mask we take the inverse\n",
    "mask_map = ~geom.region_mask(regions)"
   ]
  },
  {
   "cell_type": "code",
   "execution_count": 15,
   "id": "1453b59d",
   "metadata": {
    "execution": {
     "iopub.execute_input": "2022-05-12T21:51:04.273248Z",
     "iopub.status.busy": "2022-05-12T21:51:04.266622Z",
     "iopub.status.idle": "2022-05-12T21:51:04.481253Z",
     "shell.execute_reply": "2022-05-12T21:51:04.472197Z"
    },
    "nbsphinx-thumbnail": {
     "tooltip": "Create and apply masks maps."
    }
   },
   "outputs": [
    {
     "data": {
      "image/png": "[encoded data removed]",
      "text/plain": [
       "<Figure size 432x288 with 1 Axes>"
      ]
     },
     "metadata": {
      "needs_background": "light"
     },
     "output_type": "display_data"
    }
   ],
   "source": [
    "mask_map.plot();"
   ]
  },
  {
   "cell_type": "markdown",
   "id": "12d59546",
   "metadata": {},
   "source": [
    "### Create the mask from a catalog of sources\n",
    "\n",
    "We can also build our list of regions from a list of catalog sources. Here we use the Fermi 4FGL catalog which we read using `~gammapy.catalog.SourceCatalog`."
   ]
  },
  {
   "cell_type": "code",
   "execution_count": 16,
   "id": "a004fc43",
   "metadata": {
    "execution": {
     "iopub.execute_input": "2022-05-12T21:51:04.497049Z",
     "iopub.status.busy": "2022-05-12T21:51:04.496173Z",
     "iopub.status.idle": "2022-05-12T21:51:05.235849Z",
     "shell.execute_reply": "2022-05-12T21:51:05.219694Z"
    }
   },
   "outputs": [],
   "source": [
    "fgl = CATALOG_REGISTRY.get_cls(\"4fgl\")()"
   ]
  },
  {
   "cell_type": "markdown",
   "id": "482b0927",
   "metadata": {},
   "source": [
    "We now select sources that are contained in the region we are interested in."
   ]
  },
  {
   "cell_type": "code",
   "execution_count": 17,
   "id": "ff71871a",
   "metadata": {
    "execution": {
     "iopub.execute_input": "2022-05-12T21:51:05.254583Z",
     "iopub.status.busy": "2022-05-12T21:51:05.251580Z",
     "iopub.status.idle": "2022-05-12T21:51:05.267344Z",
     "shell.execute_reply": "2022-05-12T21:51:05.265856Z"
    }
   },
   "outputs": [],
   "source": [
    "inside_geom = geom.contains(fgl.positions)\n",
    "positions = fgl.positions[inside_geom]"
   ]
  },
  {
   "cell_type": "markdown",
   "id": "69157192",
   "metadata": {},
   "source": [
    "We now create the list of regions using our 0.3 degree radius a priori value. If the sources were extended, one would have to adapt the sizes to account for the larger size."
   ]
  },
  {
   "cell_type": "code",
   "execution_count": 18,
   "id": "826ab6a5",
   "metadata": {
    "execution": {
     "iopub.execute_input": "2022-05-12T21:51:05.279181Z",
     "iopub.status.busy": "2022-05-12T21:51:05.278763Z",
     "iopub.status.idle": "2022-05-12T21:51:05.286839Z",
     "shell.execute_reply": "2022-05-12T21:51:05.285412Z"
    }
   },
   "outputs": [],
   "source": [
    "exclusion_radius = Angle(\"0.3 deg\")\n",
    "regions = [\n",
    "    CircleSkyRegion(position, exclusion_radius) for position in positions\n",
    "]"
   ]
  },
  {
   "cell_type": "markdown",
   "id": "2eef9ac9",
   "metadata": {},
   "source": [
    "Now we can build the mask map the same way as above."
   ]
  },
  {
   "cell_type": "code",
   "execution_count": 19,
   "id": "4c74cede",
   "metadata": {
    "execution": {
     "iopub.execute_input": "2022-05-12T21:51:05.294971Z",
     "iopub.status.busy": "2022-05-12T21:51:05.293850Z",
     "iopub.status.idle": "2022-05-12T21:51:05.331279Z",
     "shell.execute_reply": "2022-05-12T21:51:05.330363Z"
    }
   },
   "outputs": [],
   "source": [
    "mask_map_catalog = ~geom.region_mask(regions)"
   ]
  },
  {
   "cell_type": "code",
   "execution_count": 20,
   "id": "b80bf185",
   "metadata": {
    "execution": {
     "iopub.execute_input": "2022-05-12T21:51:05.336665Z",
     "iopub.status.busy": "2022-05-12T21:51:05.336312Z",
     "iopub.status.idle": "2022-05-12T21:51:05.434695Z",
     "shell.execute_reply": "2022-05-12T21:51:05.433762Z"
    }
   },
   "outputs": [
    {
     "data": {
      "image/png": "[encoded data removed]",
      "text/plain": [
       "<Figure size 432x288 with 1 Axes>"
      ]
     },
     "metadata": {
      "needs_background": "light"
     },
     "output_type": "display_data"
    }
   ],
   "source": [
    "mask_map_catalog.plot();"
   ]
  },
  {
   "cell_type": "markdown",
   "id": "ce4aba24",
   "metadata": {},
   "source": [
    "### Create the mask from statistically significant pixels in a dataset\n",
    "\n",
    "Here we want to determine an exclusion from the data directly. We will estimate the significance of the data using the `ExcessMapEstimator`, and exclude all pixels above a given threshold.\n",
    "\n",
    "Here we use the `MapDataset` taken from the Fermi data used above."
   ]
  },
  {
   "cell_type": "markdown",
   "id": "bb1a9283",
   "metadata": {},
   "source": [
    "We apply a significance estimation. We integrate the counts using a correlation radius of 0.4 degree and apply regular significance estimate. "
   ]
  },
  {
   "cell_type": "code",
   "execution_count": 21,
   "id": "dda416c3",
   "metadata": {
    "execution": {
     "iopub.execute_input": "2022-05-12T21:51:05.445519Z",
     "iopub.status.busy": "2022-05-12T21:51:05.445106Z",
     "iopub.status.idle": "2022-05-12T21:51:05.594367Z",
     "shell.execute_reply": "2022-05-12T21:51:05.591690Z"
    }
   },
   "outputs": [],
   "source": [
    "estimator = ExcessMapEstimator(\"0.4 deg\", selection_optional=[])\n",
    "result = estimator.run(dataset)"
   ]
  },
  {
   "cell_type": "markdown",
   "id": "ca494a5e",
   "metadata": {},
   "source": [
    "Finally, we create the mask map by applying a threshold of 5 sigma to remove pixels."
   ]
  },
  {
   "cell_type": "code",
   "execution_count": 22,
   "id": "96549f6d",
   "metadata": {
    "execution": {
     "iopub.execute_input": "2022-05-12T21:51:05.604238Z",
     "iopub.status.busy": "2022-05-12T21:51:05.599710Z",
     "iopub.status.idle": "2022-05-12T21:51:05.611217Z",
     "shell.execute_reply": "2022-05-12T21:51:05.610124Z"
    }
   },
   "outputs": [],
   "source": [
    "significance_mask = result[\"sqrt_ts\"] < 5.0"
   ]
  },
  {
   "cell_type": "markdown",
   "id": "6a7d52f5",
   "metadata": {},
   "source": [
    "Because the `ExcessMapEstimator` returns NaN for masked pixels, we need to put the NaN values to `True` to avoid incorrectly excluding them. "
   ]
  },
  {
   "cell_type": "code",
   "execution_count": 23,
   "id": "346227c7",
   "metadata": {
    "execution": {
     "iopub.execute_input": "2022-05-12T21:51:05.620228Z",
     "iopub.status.busy": "2022-05-12T21:51:05.619876Z",
     "iopub.status.idle": "2022-05-12T21:51:05.624797Z",
     "shell.execute_reply": "2022-05-12T21:51:05.623752Z"
    }
   },
   "outputs": [],
   "source": [
    "invalid_pixels = np.isnan(result[\"sqrt_ts\"].data)\n",
    "significance_mask.data[invalid_pixels] = True"
   ]
  },
  {
   "cell_type": "code",
   "execution_count": 24,
   "id": "f3b21f58",
   "metadata": {
    "execution": {
     "iopub.execute_input": "2022-05-12T21:51:05.634539Z",
     "iopub.status.busy": "2022-05-12T21:51:05.633532Z",
     "iopub.status.idle": "2022-05-12T21:51:05.788984Z",
     "shell.execute_reply": "2022-05-12T21:51:05.787566Z"
    }
   },
   "outputs": [
    {
     "data": {
      "image/png": "[encoded data removed]",
      "text/plain": [
       "<Figure size 432x288 with 1 Axes>"
      ]
     },
     "metadata": {
      "needs_background": "light"
     },
     "output_type": "display_data"
    }
   ],
   "source": [
    "significance_mask.plot();"
   ]
  },
  {
   "cell_type": "markdown",
   "id": "ebd9501d",
   "metadata": {},
   "source": [
    "This method frequently yields isolated pixels or weakly significant features if one places the threshold too low. \n",
    "\n",
    "To overcome this issue, one can use `~skimage.filters.apply_hysteresis_threshold` . This filter allows to define two thresholds and mask only the pixels between the low and high thresholds if they are not continuously connected to a pixel above the high threshold. This allows to better preserve the structure of the excesses. \n",
    "\n",
    "Note that scikit-image is not a required dependency of gammapy, you might need to install it.\n"
   ]
  },
  {
   "cell_type": "markdown",
   "id": "3de00327",
   "metadata": {},
   "source": [
    "## Masks operations\n",
    "\n",
    "If two masks share the same geometry it is easy to combine them with `Map` arithmetic.\n",
    "\n",
    "OR condition is represented by `|` operator :"
   ]
  },
  {
   "cell_type": "code",
   "execution_count": 25,
   "id": "9d575dca",
   "metadata": {
    "execution": {
     "iopub.execute_input": "2022-05-12T21:51:05.795460Z",
     "iopub.status.busy": "2022-05-12T21:51:05.794388Z",
     "iopub.status.idle": "2022-05-12T21:51:05.904532Z",
     "shell.execute_reply": "2022-05-12T21:51:05.903273Z"
    },
    "scrolled": true
   },
   "outputs": [
    {
     "data": {
      "image/png": "[encoded data removed]",
      "text/plain": [
       "<Figure size 432x288 with 1 Axes>"
      ]
     },
     "metadata": {
      "needs_background": "light"
     },
     "output_type": "display_data"
    }
   ],
   "source": [
    "mask = mask_map | mask_map_catalog\n",
    "mask.plot();"
   ]
  },
  {
   "cell_type": "markdown",
   "id": "0447e667",
   "metadata": {},
   "source": [
    "AND condition is represented by `&` or `*` operators :"
   ]
  },
  {
   "cell_type": "code",
   "execution_count": 26,
   "id": "b33bfb0f",
   "metadata": {
    "execution": {
     "iopub.execute_input": "2022-05-12T21:51:05.911904Z",
     "iopub.status.busy": "2022-05-12T21:51:05.911227Z",
     "iopub.status.idle": "2022-05-12T21:51:06.030151Z",
     "shell.execute_reply": "2022-05-12T21:51:06.028271Z"
    }
   },
   "outputs": [
    {
     "data": {
      "image/png": "[encoded data removed]",
      "text/plain": [
       "<Figure size 432x288 with 1 Axes>"
      ]
     },
     "metadata": {
      "needs_background": "light"
     },
     "output_type": "display_data"
    }
   ],
   "source": [
    "mask_map &= mask_map_catalog\n",
    "mask_map.plot();"
   ]
  },
  {
   "cell_type": "markdown",
   "id": "e2a1bc7c",
   "metadata": {},
   "source": [
    "The NOT operator is represented by `~` symbol:"
   ]
  },
  {
   "cell_type": "code",
   "execution_count": 27,
   "id": "271bc13b",
   "metadata": {
    "execution": {
     "iopub.execute_input": "2022-05-12T21:51:06.036883Z",
     "iopub.status.busy": "2022-05-12T21:51:06.035733Z",
     "iopub.status.idle": "2022-05-12T21:51:06.156901Z",
     "shell.execute_reply": "2022-05-12T21:51:06.155870Z"
    }
   },
   "outputs": [
    {
     "data": {
      "image/png": "[encoded data removed]",
      "text/plain": [
       "<Figure size 432x288 with 1 Axes>"
      ]
     },
     "metadata": {
      "needs_background": "light"
     },
     "output_type": "display_data"
    }
   ],
   "source": [
    "significance_mask_inv = ~significance_mask\n",
    "significance_mask_inv.plot();"
   ]
  },
  {
   "cell_type": "markdown",
   "id": "2821b5c9",
   "metadata": {},
   "source": [
    "## Mask modifications\n",
    "\n",
    "### Mask dilation and erosion\n",
    "\n",
    "One can reduce or extend a mask using `binary_erode` and  `binary_dilate` methods, respectively."
   ]
  },
  {
   "cell_type": "code",
   "execution_count": 28,
   "id": "1b7d4000",
   "metadata": {
    "execution": {
     "iopub.execute_input": "2022-05-12T21:51:06.163138Z",
     "iopub.status.busy": "2022-05-12T21:51:06.162632Z",
     "iopub.status.idle": "2022-05-12T21:51:06.444330Z",
     "shell.execute_reply": "2022-05-12T21:51:06.442732Z"
    }
   },
   "outputs": [
    {
     "data": {
      "image/png": "[encoded data removed]",
      "text/plain": [
       "<Figure size 432x288 with 1 Axes>"
      ]
     },
     "metadata": {
      "needs_background": "light"
     },
     "output_type": "display_data"
    }
   ],
   "source": [
    "mask = significance_mask_inv.binary_erode(width=0.2 * u.deg, kernel=\"disk\")\n",
    "mask.plot();"
   ]
  },
  {
   "cell_type": "code",
   "execution_count": 29,
   "id": "9f369ed3",
   "metadata": {
    "execution": {
     "iopub.execute_input": "2022-05-12T21:51:06.450181Z",
     "iopub.status.busy": "2022-05-12T21:51:06.449815Z",
     "iopub.status.idle": "2022-05-12T21:51:06.606440Z",
     "shell.execute_reply": "2022-05-12T21:51:06.602450Z"
    }
   },
   "outputs": [
    {
     "data": {
      "image/png": "[encoded data removed]",
      "text/plain": [
       "<Figure size 432x288 with 1 Axes>"
      ]
     },
     "metadata": {
      "needs_background": "light"
     },
     "output_type": "display_data"
    }
   ],
   "source": [
    "mask = significance_mask_inv.binary_dilate(width=0.2 * u.deg)\n",
    "mask.plot();"
   ]
  },
  {
   "cell_type": "markdown",
   "id": "df035e3d",
   "metadata": {},
   "source": [
    "### Boundary mask\n",
    "\n",
    "In the following example we use the Fermi dataset previously loaded and add its `mask_fit` taking into account a margin based on the psf width. The margin width is determined using the `containment_radius` method of the psf object and the mask is created using the `boundary_mask` method available on the geometry object."
   ]
  },
  {
   "cell_type": "code",
   "execution_count": 30,
   "id": "058adfbe",
   "metadata": {
    "execution": {
     "iopub.execute_input": "2022-05-12T21:51:06.618499Z",
     "iopub.status.busy": "2022-05-12T21:51:06.612890Z",
     "iopub.status.idle": "2022-05-12T21:51:06.739013Z",
     "shell.execute_reply": "2022-05-12T21:51:06.737747Z"
    }
   },
   "outputs": [
    {
     "data": {
      "image/png": "[encoded data removed]",
      "text/plain": [
       "<Figure size 432x288 with 1 Axes>"
      ]
     },
     "metadata": {
      "needs_background": "light"
     },
     "output_type": "display_data"
    }
   ],
   "source": [
    "# get PSF 95% containment radius\n",
    "energy_true = dataset.exposure.geom.axes[0].center\n",
    "psf_r95 = dataset.psf.containment_radius(\n",
    "    fraction=0.95, energy_true=energy_true\n",
    ")\n",
    "# create mask_fit with margin based on PSF\n",
    "mask_fit = dataset.counts.geom.boundary_mask(psf_r95.max())\n",
    "dataset.mask_fit = mask_fit\n",
    "dataset.mask_fit.sum_over_axes().plot();"
   ]
  },
  {
   "cell_type": "markdown",
   "id": "6dcebb08",
   "metadata": {},
   "source": [
    "## Reading and writing masks\n",
    "\n",
    "`gammapy.maps` can directly read/write maps with boolean content as follows:"
   ]
  },
  {
   "cell_type": "code",
   "execution_count": 31,
   "id": "4582a040",
   "metadata": {
    "execution": {
     "iopub.execute_input": "2022-05-12T21:51:06.744881Z",
     "iopub.status.busy": "2022-05-12T21:51:06.743826Z",
     "iopub.status.idle": "2022-05-12T21:51:06.777100Z",
     "shell.execute_reply": "2022-05-12T21:51:06.775766Z"
    }
   },
   "outputs": [],
   "source": [
    "# To save masks to disk\n",
    "mask_map.write(\"exclusion_mask.fits\", overwrite=\"True\")"
   ]
  },
  {
   "cell_type": "code",
   "execution_count": 32,
   "id": "6c760a64",
   "metadata": {
    "execution": {
     "iopub.execute_input": "2022-05-12T21:51:06.789131Z",
     "iopub.status.busy": "2022-05-12T21:51:06.786284Z",
     "iopub.status.idle": "2022-05-12T21:51:06.801856Z",
     "shell.execute_reply": "2022-05-12T21:51:06.800040Z"
    }
   },
   "outputs": [],
   "source": [
    "# To read maps from disk\n",
    "mask_map = Map.read(\"exclusion_mask.fits\")"
   ]
  },
  {
   "cell_type": "code",
   "execution_count": null,
   "id": "e44c5eff",
   "metadata": {},
   "outputs": [],
   "source": []
  }
 ],
 "metadata": {
  "kernelspec": {
   "display_name": "Python 3",
   "language": "python",
   "name": "python3"
  },
  "language_info": {
   "codemirror_mode": {
    "name": "ipython",
    "version": 3
   },
   "file_extension": ".py",
   "mimetype": "text/x-python",
   "name": "python",
   "nbconvert_exporter": "python",
   "pygments_lexer": "ipython3",
   "version": "3.9.12"
  },
  "latex_envs": {
   "LaTeX_envs_menu_present": true,
   "autoclose": false,
   "autocomplete": true,
   "bibliofile": "biblio.bib",
   "cite_by": "apalike",
   "current_citInitial": 1,
   "eqLabelWithNumbers": true,
   "eqNumInitial": 1,
   "hotkeys": {
    "equation": "Ctrl-E",
    "itemize": "Ctrl-I"
   },
   "labels_anchors": false,
   "latex_user_defs": false,
   "report_style_numbering": false,
   "user_envs_cfg": false
  },
  "nbsphinx": {
   "orphan": true
  }
 },
 "nbformat": 4,
 "nbformat_minor": 5
}
