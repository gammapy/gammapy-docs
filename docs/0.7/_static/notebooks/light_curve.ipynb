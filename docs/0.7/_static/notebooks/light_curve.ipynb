{
 "cells": [
  {
   "cell_type": "markdown",
   "metadata": {},
   "source": [
    "# Example of light curve\n",
    "\n",
    "## Introduction\n",
    "\n",
    "This tutorial explain how light curves can be computed with Gammapy.\n",
    "\n",
    "Currently this notebook is using simulated data from the Crab Nebula. We will replace it with a more interesting dataset of a variable source soon.\n",
    "\n",
    "The main classes we will use are:\n",
    "\n",
    "* [gammapy.time.LightCurve](http://docs.gammapy.org/0.7/api/gammapy.time.LightCurve.html)\n",
    "* [gammapy.time.LightCurveEstimator](http://docs.gammapy.org/0.7/api/gammapy.time.LightCurveEstimator.html)\n",
    "\n",
    "## Setup\n",
    "\n",
    "As usual, we'll start with some setup..."
   ]
  },
  {
   "cell_type": "code",
   "execution_count": 1,
   "metadata": {},
   "outputs": [],
   "source": [
    "%matplotlib inline\n",
    "\n",
    "import astropy.units as u\n",
    "from astropy.units import Quantity\n",
    "from astropy.coordinates import SkyCoord, Angle\n",
    "\n",
    "from regions import CircleSkyRegion\n",
    "\n",
    "from gammapy.utils.energy import EnergyBounds\n",
    "from gammapy.data import Target, DataStore\n",
    "from gammapy.spectrum import SpectrumExtraction\n",
    "from gammapy.spectrum.models import PowerLaw\n",
    "from gammapy.background import ReflectedRegionsBackgroundEstimator\n",
    "from gammapy.image import SkyImage\n",
    "from gammapy.time import LightCurve, LightCurveEstimator"
   ]
  },
  {
   "cell_type": "markdown",
   "metadata": {},
   "source": [
    "## Extract spectral data\n",
    "First, we will extract the spectral data needed to build the light curve."
   ]
  },
  {
   "cell_type": "code",
   "execution_count": 2,
   "metadata": {},
   "outputs": [],
   "source": [
    "# Prepare the data\n",
    "data_store = DataStore.from_dir('$GAMMAPY_EXTRA/datasets/hess-crab4-hd-hap-prod2/')\n",
    "obs_ids = [23523, 23526]\n",
    "obs_list = data_store.obs_list(obs_ids)"
   ]
  },
  {
   "cell_type": "code",
   "execution_count": 3,
   "metadata": {},
   "outputs": [],
   "source": [
    "# Target definition\n",
    "target_position = SkyCoord(ra=83.63308, dec=22.01450, unit='deg')\n",
    "on_region_radius = Angle('0.2 deg')\n",
    "on_region = CircleSkyRegion(center=target_position, radius=on_region_radius)\n",
    "target = Target(on_region=on_region, name='Crab', tag='ana_crab')"
   ]
  },
  {
   "cell_type": "code",
   "execution_count": 4,
   "metadata": {},
   "outputs": [],
   "source": [
    "# Exclusion regions\n",
    "exclusion_file = '$GAMMAPY_EXTRA/datasets/exclusion_masks/tevcat_exclusion.fits'\n",
    "allsky_mask = SkyImage.read(exclusion_file)\n",
    "exclusion_mask = allsky_mask.cutout(\n",
    "    position=target.on_region.center,\n",
    "    size=Angle('6 deg'),\n",
    ")"
   ]
  },
  {
   "cell_type": "code",
   "execution_count": 5,
   "metadata": {},
   "outputs": [],
   "source": [
    "# Estimation of the background\n",
    "bkg_estimator = ReflectedRegionsBackgroundEstimator(\n",
    "    on_region=on_region,\n",
    "    obs_list=obs_list,\n",
    "    exclusion_mask=exclusion_mask,\n",
    ")\n",
    "bkg_estimator.run()"
   ]
  },
  {
   "cell_type": "code",
   "execution_count": 6,
   "metadata": {},
   "outputs": [
    {
     "name": "stderr",
     "output_type": "stream",
     "text": [
      "/home/jlenain/local/src/python/anaconda/envs/cta/lib/python3.5/site-packages/astropy/units/quantity.py:641: RuntimeWarning: invalid value encountered in true_divide\n",
      "  *arrays, **kwargs)\n"
     ]
    }
   ],
   "source": [
    "# Extract the spectral data\n",
    "e_reco = EnergyBounds.equal_log_spacing(0.7, 100, 50, unit='TeV')  # fine binning\n",
    "e_true = EnergyBounds.equal_log_spacing(0.05, 100, 200, unit='TeV')\n",
    "extraction = SpectrumExtraction(\n",
    "    obs_list=obs_list,\n",
    "    bkg_estimate=bkg_estimator.result,\n",
    "    containment_correction=False,\n",
    "    e_reco=e_reco,\n",
    "    e_true=e_true,\n",
    ")\n",
    "extraction.run()\n",
    "extraction.compute_energy_threshold(\n",
    "    method_lo='area_max',\n",
    "    area_percent_lo=10.0,\n",
    ")"
   ]
  },
  {
   "cell_type": "markdown",
   "metadata": {},
   "source": [
    "## Light curve estimation"
   ]
  },
  {
   "cell_type": "code",
   "execution_count": 7,
   "metadata": {},
   "outputs": [],
   "source": [
    "# Define the time intervals. Here, we only select intervals corresponding to an observation\n",
    "intervals = []\n",
    "for obs in extraction.obs_list:\n",
    "    intervals.append([obs.events.time[0], obs.events.time[-1]])"
   ]
  },
  {
   "cell_type": "code",
   "execution_count": 8,
   "metadata": {},
   "outputs": [],
   "source": [
    "# Model to compute the expected counts (generally, parameters come from the fit)\n",
    "model = PowerLaw(\n",
    "    index=2. * u.Unit(''),\n",
    "    amplitude=2.e-11 * u.Unit('1 / (cm2 s TeV)'),\n",
    "    reference=1 * u.TeV,\n",
    ")"
   ]
  },
  {
   "cell_type": "code",
   "execution_count": 9,
   "metadata": {},
   "outputs": [
    {
     "name": "stdout",
     "output_type": "stream",
     "text": [
      "I am hacking lightcurve in gammapy\n"
     ]
    }
   ],
   "source": [
    "# Estimation of the light curve\n",
    "lc_estimator = LightCurveEstimator(extraction)\n",
    "lc = lc_estimator.light_curve(\n",
    "    time_intervals=intervals,\n",
    "    spectral_model=model,\n",
    "    energy_range=[0.7, 100] * u.TeV,\n",
    ")"
   ]
  },
  {
   "cell_type": "markdown",
   "metadata": {
    "collapsed": true
   },
   "source": [
    "## Results\n",
    "\n",
    "The light curve measurement result is stored in a table. Let's have a look at the results:"
   ]
  },
  {
   "cell_type": "code",
   "execution_count": 10,
   "metadata": {},
   "outputs": [
    {
     "name": "stdout",
     "output_type": "stream",
     "text": [
      "['time_min', 'time_max', 'flux', 'flux_err', 'livetime', 'n_on', 'n_off', 'alpha', 'measured_excess', 'expected_excess']\n"
     ]
    }
   ],
   "source": [
    "print(lc.table.colnames)"
   ]
  },
  {
   "cell_type": "code",
   "execution_count": 11,
   "metadata": {},
   "outputs": [
    {
     "data": {
      "text/html": [
       "&lt;Table length=2&gt;\n",
       "<table id=\"table140050782402152\" class=\"table-striped table-bordered table-condensed\">\n",
       "<thead><tr><th>time_min</th><th>time_max</th><th>flux</th><th>flux_err</th><th>livetime</th><th>n_on</th><th>n_off</th><th>alpha</th><th>measured_excess</th><th>expected_excess</th></tr></thead>\n",
       "<thead><tr><th></th><th></th><th>1 / (cm2 s)</th><th>1 / (cm2 s)</th><th>s</th><th></th><th></th><th></th><th></th><th></th></tr></thead>\n",
       "<thead><tr><th>float64</th><th>float64</th><th>float64</th><th>float64</th><th>float64</th><th>int64</th><th>int64</th><th>float64</th><th>float64</th><th>float64</th></tr></thead>\n",
       "<tr><td>53343.9210069</td><td>53343.9405019</td><td>2.51134593372e-11</td><td>2.18682649576e-12</td><td>1579.27251851</td><td>153</td><td>61</td><td>0.166666666667</td><td>142.833333333</td><td>161.363102545</td></tr>\n",
       "<tr><td>53343.9530032</td><td>53343.9724047</td><td>2.5848461759e-11</td><td>2.34244310984e-12</td><td>1566.41994765</td><td>151</td><td>86</td><td>0.166666666667</td><td>136.666666667</td><td>150.006163136</td></tr>\n",
       "</table>"
      ],
      "text/plain": [
       "<Table length=2>\n",
       "   time_min      time_max   ... measured_excess expected_excess\n",
       "                            ...                                \n",
       "   float64       float64    ...     float64         float64    \n",
       "------------- ------------- ... --------------- ---------------\n",
       "53343.9210069 53343.9405019 ...   142.833333333   161.363102545\n",
       "53343.9530032 53343.9724047 ...   136.666666667   150.006163136"
      ]
     },
     "execution_count": 11,
     "metadata": {},
     "output_type": "execute_result"
    }
   ],
   "source": [
    "lc.table['time_min', 'time_max', 'flux', 'flux_err', 'livetime', 'n_on', 'n_off', 'alpha', 'measured_excess', 'expected_excess']"
   ]
  },
  {
   "cell_type": "code",
   "execution_count": 12,
   "metadata": {},
   "outputs": [
    {
     "data": {
      "text/plain": [
       "<matplotlib.axes._subplots.AxesSubplot at 0x7f6019baa208>"
      ]
     },
     "execution_count": 12,
     "metadata": {},
     "output_type": "execute_result"
    },
    {
     "data": {
      "image/png": "[encoded data removed]",
      "text/plain": [
       "<matplotlib.figure.Figure at 0x7f601d1e3470>"
      ]
     },
     "metadata": {},
     "output_type": "display_data"
    }
   ],
   "source": [
    "lc.plot()"
   ]
  },
  {
   "cell_type": "markdown",
   "metadata": {
    "collapsed": true
   },
   "source": [
    "## Exercises\n",
    "\n",
    "* Change the assumed spectral model shape (e.g. to a steeper power-law), and see how the integral flux estimate for the lightcurve changes.\n",
    "* Try a time binning where you split the observation time for every run into two time bins."
   ]
  },
  {
   "cell_type": "code",
   "execution_count": null,
   "metadata": {},
   "outputs": [],
   "source": []
  }
 ],
 "metadata": {
  "kernelspec": {
   "display_name": "Python 3",
   "language": "python",
   "name": "python3"
  },
  "language_info": {
   "codemirror_mode": {
    "name": "ipython",
    "version": 3
   },
   "file_extension": ".py",
   "mimetype": "text/x-python",
   "name": "python",
   "nbconvert_exporter": "python",
   "pygments_lexer": "ipython3",
   "version": "3.5.4"
  }
 },
 "nbformat": 4,
 "nbformat_minor": 2
}
