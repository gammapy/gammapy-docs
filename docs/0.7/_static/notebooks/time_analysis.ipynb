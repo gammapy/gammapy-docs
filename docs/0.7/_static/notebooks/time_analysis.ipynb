{
 "cells": [
  {
   "cell_type": "markdown",
   "metadata": {},
   "source": [
    "# Time analysis with Gammapy\n",
    "\n",
    "## Introduction\n",
    "\n",
    "\n",
    "TODO: use which example dataset? 2FHL / 3FGL and/or HESS DL3 DR1?\n",
    "\n",
    "In this tutorial we'll learn how to use [gammapy.time](http://docs.gammapy.org/0.7/time/index.html) to run time analyses with Gammapy.\n",
    "\n",
    "We will learn about:\n",
    "\n",
    "* [gammapy.time.LightCurve](http://docs.gammapy.org/0.7/api/gammapy.time.LightCurve.html)\n",
    "* [gammapy.time.exptest](http://docs.gammapy.org/0.7/api/gammapy.time.exptest.html)\n",
    "\n",
    "**\n",
    "Note: there isn't much functionality in gammapy.time at this point.\n",
    "Come back soon here, or help us implement it.\n",
    "**"
   ]
  },
  {
   "cell_type": "markdown",
   "metadata": {},
   "source": [
    "## Setup"
   ]
  },
  {
   "cell_type": "code",
   "execution_count": 1,
   "metadata": {
    "collapsed": true
   },
   "outputs": [],
   "source": [
    "%matplotlib inline\n",
    "import matplotlib.pyplot as plt\n",
    "plt.style.use('ggplot')"
   ]
  },
  {
   "cell_type": "code",
   "execution_count": 2,
   "metadata": {
    "collapsed": false
   },
   "outputs": [],
   "source": [
    "from gammapy.time import LightCurve, exptest"
   ]
  },
  {
   "cell_type": "markdown",
   "metadata": {},
   "source": [
    "## Light curves\n",
    "\n",
    "TODO: maybe use 3FGL and compute `variability_index`? (needs to be implemented!)"
   ]
  },
  {
   "cell_type": "code",
   "execution_count": null,
   "metadata": {
    "collapsed": true
   },
   "outputs": [],
   "source": []
  },
  {
   "cell_type": "markdown",
   "metadata": {},
   "source": [
    "## Event analysis\n",
    "\n",
    "TODO"
   ]
  },
  {
   "cell_type": "code",
   "execution_count": null,
   "metadata": {
    "collapsed": true
   },
   "outputs": [],
   "source": []
  },
  {
   "cell_type": "markdown",
   "metadata": {},
   "source": [
    "## Exercises\n",
    "\n",
    "TODO"
   ]
  },
  {
   "cell_type": "code",
   "execution_count": 3,
   "metadata": {
    "collapsed": true
   },
   "outputs": [],
   "source": [
    "# Start exercises here!"
   ]
  },
  {
   "cell_type": "markdown",
   "metadata": {},
   "source": [
    "## What next?\n",
    "\n",
    "In this tutorial we ... (TODO: summarise.\n",
    "\n",
    "Here's some suggestions what you look at next:\n",
    "- TODO"
   ]
  }
 ],
 "metadata": {
  "kernelspec": {
   "display_name": "Python 3",
   "language": "python",
   "name": "python3"
  },
  "language_info": {
   "codemirror_mode": {
    "name": "ipython",
    "version": 3
   },
   "file_extension": ".py",
   "mimetype": "text/x-python",
   "name": "python",
   "nbconvert_exporter": "python",
   "pygments_lexer": "ipython3",
   "version": "3.5.2"
  }
 },
 "nbformat": 4,
 "nbformat_minor": 1
}
