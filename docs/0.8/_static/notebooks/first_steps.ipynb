{
 "cells": [
  {
   "cell_type": "markdown",
   "metadata": {},
   "source": [
    "# Getting started with Gammapy\n",
    "\n",
    "## Introduction\n",
    "\n",
    "This is a getting started tutorial for [Gammapy](http://docs.gammapy.org/).\n",
    "\n",
    "In this tutorial we will use the [Second Fermi-LAT Catalog of High-Energy Sources (2FHL) catalog](http://fermi.gsfc.nasa.gov/ssc/data/access/lat/2FHL/), corresponding event list and images to learn how to work with some of the central Gammapy data structures.\n",
    "\n",
    "We will cover the following topics:\n",
    "\n",
    "* **Sky maps**\n",
    "  * We will learn how to handle image based data with gammapy using a Fermi-LAT 2FHL example image. We will work with the following classes:\n",
    "    - [gammapy.maps.WcsNDMap](..\/..\/api/gammapy.maps.WcsNDMap.html)\n",
    "    - [astropy.coordinates.SkyCoord](http://astropy.readthedocs.io/en/latest/coordinates/index.html)\n",
    "    - [numpy.ndarray](https://docs.scipy.org/doc/numpy/reference/generated/numpy.ndarray.html)\n",
    "\n",
    "* **Event lists**\n",
    "  * We will learn how to handle event lists with Gammapy. Important for this are the following classes: \n",
    "    - [gammapy.data.EventList](..\/..\/api/gammapy.data.EventList.html)\n",
    "    - [astropy.table.Table](http://docs.astropy.org/en/stable/api/astropy.table.Table.html#astropy.table.Table)\n",
    "\n",
    "* **Source catalogs**\n",
    "  * We will show how to load source catalogs with Gammapy and explore the data using the following classes:\n",
    "    - [gammapy.catalog.SourceCatalog](..\/..\/api/gammapy.catalog.SourceCatalog.html), specifically [gammapy.catalog.SourceCatalog2FHL](..\/..\/api/gammapy.catalog.SourceCatalog2FHL.html)\n",
    "    - [astropy.table.Table](http://docs.astropy.org/en/stable/api/astropy.table.Table.html#astropy.table.Table)\n",
    "\n",
    "* **Spectral models and flux points**\n",
    "  * We will pick an example source and show how to plot its spectral model and flux points. For this we will use the following classes:\n",
    "    - [gammapy.spectrum.SpectralModel](..\/..\/api/gammapy.spectrum.models.SpectralModel.html), specifically the [PowerLaw2](..\/..\/api/gammapy.spectrum.models.PowerLaw2.html) model.\n",
    "    - [gammapy.spectrum.FluxPoints](..\/..\/api/gammapy.spectrum.FluxPoints.html#gammapy.spectrum.FluxPoints)\n",
    "    - [astropy.table.Table](http://docs.astropy.org/en/stable/api/astropy.table.Table.html#astropy.table.Table)\n",
    "\n",
    "If you're not yet familiar with the listed Astropy classes, maybe check out the [Astropy introduction for Gammapy users](astropy_introduction.ipynb) first."
   ]
  },
  {
   "cell_type": "markdown",
   "metadata": {},
   "source": [
    "## Setup\n",
    "\n",
    "**Important**: to run this tutorial the environment variable `GAMMAPY_EXTRA` must be defined and point to the directory, where the gammapy-extra is respository located on your machine. To check whether your setup is correct you can execute the following cell:\n",
    "\n"
   ]
  },
  {
   "cell_type": "code",
   "execution_count": null,
   "metadata": {},
   "outputs": [],
   "source": [
    "import os\n",
    "\n",
    "path = os.path.expandvars(\"$GAMMAPY_DATA\")\n",
    "\n",
    "if not os.path.exists(path):\n",
    "    raise Exception(\"gammapy-data repository not found!\")\n",
    "else:\n",
    "    print(\"Great your setup is correct!\")"
   ]
  },
  {
   "cell_type": "markdown",
   "metadata": {},
   "source": [
    "In case you encounter an error, you can un-comment and execute the following cell to continue. But we recommend to set up your enviroment correctly as decribed [here](..\/..\/datasets/index.html#gammapy-extra) after you are done with this notebook."
   ]
  },
  {
   "cell_type": "code",
   "execution_count": null,
   "metadata": {},
   "outputs": [],
   "source": [
    "# os.environ['GAMMAPY_DATA'] = os.path.join(os.getcwd(), '..')"
   ]
  },
  {
   "cell_type": "markdown",
   "metadata": {},
   "source": [
    "Now we can continue with the usual IPython notebooks and Python imports:"
   ]
  },
  {
   "cell_type": "code",
   "execution_count": null,
   "metadata": {},
   "outputs": [],
   "source": [
    "%matplotlib inline\n",
    "import matplotlib.pyplot as plt"
   ]
  },
  {
   "cell_type": "code",
   "execution_count": null,
   "metadata": {},
   "outputs": [],
   "source": [
    "import numpy as np\n",
    "import astropy.units as u\n",
    "from astropy.coordinates import SkyCoord\n",
    "from astropy.visualization import simple_norm"
   ]
  },
  {
   "cell_type": "markdown",
   "metadata": {},
   "source": [
    "## Maps\n",
    "\n",
    "The [gammapy.maps](http://docs.gammapy.org/0.8/maps) package contains classes to work with sky images and cubes.\n",
    "\n",
    "In this section, we will use a simple 2D sky image and will learn how to:\n",
    "\n",
    "* Read sky images from FITS files\n",
    "* Smooth images\n",
    "* Plot images\n",
    "* Cutout parts from images\n",
    "* Reproject images to different WCS"
   ]
  },
  {
   "cell_type": "code",
   "execution_count": null,
   "metadata": {},
   "outputs": [],
   "source": [
    "from gammapy.maps import Map\n",
    "\n",
    "vela_2fhl = Map.read(\n",
    "    \"$GAMMAPY_DATA/fermi_2fhl/fermi_2fhl_vela.fits.gz\", hdu=\"COUNTS\"\n",
    ")"
   ]
  },
  {
   "cell_type": "markdown",
   "metadata": {},
   "source": [
    "As the FITS file `fermi_2fhl_vela.fits.gz` contains mutiple image extensions and a map can only represent a single image, we explicitely specify to read the extension called 'COUNTS'.\n",
    "\n",
    "The image is a ``WCSNDMap`` object:"
   ]
  },
  {
   "cell_type": "code",
   "execution_count": null,
   "metadata": {},
   "outputs": [],
   "source": [
    "vela_2fhl"
   ]
  },
  {
   "cell_type": "markdown",
   "metadata": {},
   "source": [
    "The shape of the image is 320x180 pixel and it is defined using a cartesian projection in galactic coordinates.\n",
    "\n",
    "The ``geom`` attribute is a ``WcsGeom`` object:"
   ]
  },
  {
   "cell_type": "code",
   "execution_count": null,
   "metadata": {},
   "outputs": [],
   "source": [
    "vela_2fhl.geom"
   ]
  },
  {
   "cell_type": "markdown",
   "metadata": {},
   "source": [
    "Let's take a closer look a the `.data` attribute:"
   ]
  },
  {
   "cell_type": "code",
   "execution_count": null,
   "metadata": {},
   "outputs": [],
   "source": [
    "vela_2fhl.data"
   ]
  },
  {
   "cell_type": "markdown",
   "metadata": {},
   "source": [
    "That looks familiar! It just an *ordinary* 2 dimensional numpy array,  which means you can apply any known numpy method to it:"
   ]
  },
  {
   "cell_type": "code",
   "execution_count": null,
   "metadata": {},
   "outputs": [],
   "source": [
    "print(\n",
    "    \"Total number of counts in the image: {:.0f}\".format(vela_2fhl.data.sum())\n",
    ")"
   ]
  },
  {
   "cell_type": "markdown",
   "metadata": {},
   "source": [
    "To show the image on the screen we can use the ``plot`` method. It basically calls [plt.imshow](http://matplotlib.org/api/pyplot_api.html#matplotlib.pyplot.imshow), passing the `vela_2fhl.data` attribute but in addition handles axis with world coordinates using [wcsaxes](https://wcsaxes.readthedocs.io/en/latest/) and defines some defaults for nicer plots (e.g. the colormap 'afmhot'):"
   ]
  },
  {
   "cell_type": "code",
   "execution_count": null,
   "metadata": {},
   "outputs": [],
   "source": [
    "vela_2fhl.plot();"
   ]
  },
  {
   "cell_type": "markdown",
   "metadata": {},
   "source": [
    "To make the structures in the image more visible we will smooth the data using a Gausian kernel with a radius of 0.5 deg. Again `smooth()` is a wrapper around existing functionality from the scientific Python libraries. In this case it is Scipy's [gaussian_filter](https://docs.scipy.org/doc/scipy-0.16.1/reference/generated/scipy.ndimage.filters.gaussian_filter.html) method. For convenience the kernel shape can be specified with as string and the smoothing radius with a quantity. It returns again a map object, that we can plot directly the same way we did above:"
   ]
  },
  {
   "cell_type": "code",
   "execution_count": null,
   "metadata": {},
   "outputs": [],
   "source": [
    "vela_2fhl_smoothed = vela_2fhl.smooth(kernel=\"gauss\", width=0.2 * u.deg)"
   ]
  },
  {
   "cell_type": "code",
   "execution_count": null,
   "metadata": {},
   "outputs": [],
   "source": [
    "vela_2fhl_smoothed.plot();"
   ]
  },
  {
   "cell_type": "markdown",
   "metadata": {},
   "source": [
    "The smoothed plot already looks much nicer, but still the image is rather large. As we are mostly interested in the inner part of the image, we will cut out a quadratic region of the size 9 deg x 9 deg around Vela. Therefore we use ``Map.cutout`` to make a cutout map:"
   ]
  },
  {
   "cell_type": "code",
   "execution_count": null,
   "metadata": {},
   "outputs": [],
   "source": [
    "# define center and size of the cutout region\n",
    "center = SkyCoord(265.0, -2.0, unit=\"deg\", frame=\"galactic\")\n",
    "vela_2fhl_cutout = vela_2fhl_smoothed.cutout(center, 9 * u.deg)\n",
    "vela_2fhl_cutout.plot();"
   ]
  },
  {
   "cell_type": "markdown",
   "metadata": {},
   "source": [
    "To make this exercise a bit more scientifically useful, we will load a second image containing WMAP data from the same region:"
   ]
  },
  {
   "cell_type": "code",
   "execution_count": null,
   "metadata": {},
   "outputs": [],
   "source": [
    "vela_wmap = Map.read(\"$GAMMAPY_DATA/images/Vela_region_WMAP_K.fits\")\n",
    "\n",
    "# define a norm to stretch the data, so it is better visible\n",
    "norm = simple_norm(vela_wmap.data, stretch=\"sqrt\", max_percent=99.9)\n",
    "vela_wmap.plot(cmap=\"viridis\", norm=norm);"
   ]
  },
  {
   "cell_type": "markdown",
   "metadata": {},
   "source": [
    "In order to make the structures in the data better visible we used the [simple_norm()](http://docs.astropy.org/en/stable/api/astropy.visualization.mpl_normalize.simple_norm.html#astropy.visualization.mpl_normalize.simple_norm) method, which allows to stretch the data for plotting. This is very similar to the methods that e.g. `ds9` provides. In addition we used a different colormap called 'viridis'. An overview of different colomaps can be found [here](http://matplotlib.org/examples/color/colormaps_reference.html). \n",
    "\n",
    "Now let's check the details of the WMAP image:"
   ]
  },
  {
   "cell_type": "code",
   "execution_count": null,
   "metadata": {},
   "outputs": [],
   "source": [
    "vela_wmap"
   ]
  },
  {
   "cell_type": "markdown",
   "metadata": {},
   "source": [
    "As you can see it is defined using a tangential projection and ICRS coordinates, which is different from the projection used for the `vela_2fhl` image. To compare both images we have to reproject one image to the WCS of the other. This can be achieved with the ``reproject`` method: "
   ]
  },
  {
   "cell_type": "code",
   "execution_count": null,
   "metadata": {},
   "outputs": [],
   "source": [
    "# reproject and cut out the part we're interested in:\n",
    "vela_wmap_reprojected = vela_wmap.reproject(vela_2fhl.geom)\n",
    "vela_wmap_reprojected_cutout = vela_wmap_reprojected.cutout(center, 9 * u.deg)\n",
    "vela_wmap_reprojected_cutout.plot(cmap=\"viridis\", norm=norm);"
   ]
  },
  {
   "cell_type": "markdown",
   "metadata": {},
   "source": [
    "Finally we will combine both images in single plot, by plotting WMAP contours on top of the smoothed Fermi-LAT 2FHL image:\n"
   ]
  },
  {
   "cell_type": "code",
   "execution_count": null,
   "metadata": {},
   "outputs": [],
   "source": [
    "fig, ax, _ = vela_2fhl_cutout.plot()\n",
    "ax.contour(vela_wmap_reprojected_cutout.data, cmap=\"Blues\");"
   ]
  },
  {
   "cell_type": "markdown",
   "metadata": {},
   "source": [
    "### Exercises\n",
    "\n",
    "* Add a marker and circle at the Vela pulsar position (you can find examples in the WCSAxes [documentation](https://wcsaxes.readthedocs.io/en/latest/overlays.html))."
   ]
  },
  {
   "cell_type": "code",
   "execution_count": null,
   "metadata": {},
   "outputs": [],
   "source": []
  },
  {
   "cell_type": "markdown",
   "metadata": {},
   "source": [
    "## Event lists\n",
    "\n",
    "Almost any high-level gamma-ray data analysis starts with the raw measured counts data, which is stored in event lists. In Gammapy event lists are represented by the [gammapy.data.EventList](..\/..\/api/gammapy.data.EventList.html) class. \n",
    "\n",
    "In this section we will learn how to:\n",
    "\n",
    "* Read event lists from FITS files\n",
    "* Access and work with the `EventList` attributes such as `.table` and `.energy` \n",
    "* Filter events lists using convenience methods\n",
    "\n",
    "Let's start with the import from the [gammapy.data](..\/..\/data/index.html) submodule:"
   ]
  },
  {
   "cell_type": "code",
   "execution_count": null,
   "metadata": {},
   "outputs": [],
   "source": [
    "from gammapy.data import EventList"
   ]
  },
  {
   "cell_type": "markdown",
   "metadata": {},
   "source": [
    "Very similar to the sky map class an event list can be created, by passing a filename to the `.read()` method:"
   ]
  },
  {
   "cell_type": "code",
   "execution_count": null,
   "metadata": {},
   "outputs": [],
   "source": [
    "events_2fhl = EventList.read(\"$GAMMAPY_DATA/fermi_2fhl/2fhl_events.fits.gz\")"
   ]
  },
  {
   "cell_type": "markdown",
   "metadata": {},
   "source": [
    "This time the actual data is stored as an [astropy.table.Table](http://docs.astropy.org/en/stable/api/astropy.table.Table.html#astropy.table.Table) object. It can be accessed with `.table` attribute: "
   ]
  },
  {
   "cell_type": "code",
   "execution_count": null,
   "metadata": {},
   "outputs": [],
   "source": [
    "events_2fhl.table"
   ]
  },
  {
   "cell_type": "markdown",
   "metadata": {},
   "source": [
    "Let's try to find the total number of events contained int the list. This doesn't work:\n"
   ]
  },
  {
   "cell_type": "code",
   "execution_count": null,
   "metadata": {},
   "outputs": [],
   "source": [
    "print(\"Total number of events: {}\".format(len(events_2fhl.table)))"
   ]
  },
  {
   "cell_type": "markdown",
   "metadata": {},
   "source": [
    "Because Gammapy objects don't redefine properties, that are accessible from the underlying Astropy of Numpy data object.\n",
    "\n",
    "So in this case of course we can directly use the `.table` attribute to find the total number of events:"
   ]
  },
  {
   "cell_type": "code",
   "execution_count": null,
   "metadata": {},
   "outputs": [],
   "source": [
    "print(\"Total number of events: {}\".format(len(events_2fhl.table)))"
   ]
  },
  {
   "cell_type": "markdown",
   "metadata": {},
   "source": [
    "And we can access any other attribute of the `Table` object as well:"
   ]
  },
  {
   "cell_type": "code",
   "execution_count": null,
   "metadata": {},
   "outputs": [],
   "source": [
    "events_2fhl.table.colnames"
   ]
  },
  {
   "cell_type": "markdown",
   "metadata": {},
   "source": [
    "For convenience we can access the most important event parameters as properties on the `EventList` objects. The attributes will return corresponding Astropy objects to represent the data, such as [astropy.units.Quantity](http://docs.astropy.org/en/stable/api/astropy.units.Quantity.html#astropy.units.Quantity), [astropy.coordinates.SkyCoord](http://docs.astropy.org/en/stable/api/astropy.coordinates.SkyCoord.html) or [astropy.time.Time](http://docs.astropy.org/en/stable/api/astropy.time.Time.html#astropy.time.Time) objects:"
   ]
  },
  {
   "cell_type": "code",
   "execution_count": null,
   "metadata": {},
   "outputs": [],
   "source": [
    "events_2fhl.energy.to(\"GeV\")"
   ]
  },
  {
   "cell_type": "code",
   "execution_count": null,
   "metadata": {},
   "outputs": [],
   "source": [
    "events_2fhl.galactic\n",
    "# events_2fhl.radec"
   ]
  },
  {
   "cell_type": "code",
   "execution_count": null,
   "metadata": {},
   "outputs": [],
   "source": [
    "events_2fhl.time"
   ]
  },
  {
   "cell_type": "markdown",
   "metadata": {},
   "source": [
    "In addition `EventList` provides convenience methods to filter the event lists. One possible use case is to find the highest energy event within a radius of 0.5 deg around the vela position:"
   ]
  },
  {
   "cell_type": "code",
   "execution_count": null,
   "metadata": {},
   "outputs": [],
   "source": [
    "# select all events within a radius of 0.5 deg around center\n",
    "events_vela_2fhl = events_2fhl.select_sky_cone(\n",
    "    center=center, radius=0.5 * u.deg\n",
    ")\n",
    "\n",
    "# sort events by energy\n",
    "events_vela_2fhl.table.sort(\"ENERGY\")\n",
    "\n",
    "# and show highest energy photon\n",
    "events_vela_2fhl.energy[-1].to(\"GeV\")"
   ]
  },
  {
   "cell_type": "markdown",
   "metadata": {},
   "source": [
    "### Exercises\n",
    "\n",
    "* Make a counts energy spectrum for the galactic center region, within a radius of 10 deg."
   ]
  },
  {
   "cell_type": "code",
   "execution_count": null,
   "metadata": {},
   "outputs": [],
   "source": []
  },
  {
   "cell_type": "markdown",
   "metadata": {},
   "source": [
    "## Source catalogs\n",
    "\n",
    "Gammapy provides a convenient interface to access and work with catalog based data. \n",
    "\n",
    "In this section we will learn how to:\n",
    "\n",
    "* Load builtins catalogs from [gammapy.catalog](..\/..\/catalog/index.html)\n",
    "* Sort and index the underlying Astropy tables\n",
    "* Access data from individual sources\n",
    "\n",
    "Let's start with importing the 2FHL catalog object from the [gammapy.catalog](..\/..\/catalog/index.html) submodule:"
   ]
  },
  {
   "cell_type": "code",
   "execution_count": null,
   "metadata": {},
   "outputs": [],
   "source": [
    "from gammapy.catalog import SourceCatalog2FHL"
   ]
  },
  {
   "cell_type": "markdown",
   "metadata": {},
   "source": [
    "First we initialize the Fermi-LAT 2FHL catalog and directly take a look at the `.table` attribute:"
   ]
  },
  {
   "cell_type": "code",
   "execution_count": null,
   "metadata": {},
   "outputs": [],
   "source": [
    "fermi_2fhl = SourceCatalog2FHL(\n",
    "    \"$GAMMAPY_DATA/catalogs/fermi/gll_psch_v08.fit.gz\"\n",
    ")\n",
    "fermi_2fhl.table"
   ]
  },
  {
   "cell_type": "markdown",
   "metadata": {},
   "source": [
    "This looks very familiar again. The data is just stored as an [astropy.table.Table](http://docs.astropy.org/en/stable/api/astropy.table.Table.html#astropy.table.Table) object. We have all the methods and attributes of the `Table` object available. E.g. we can sort the underlying table by `TS` to find the top 5 most significant sources:\n",
    "\n"
   ]
  },
  {
   "cell_type": "code",
   "execution_count": null,
   "metadata": {},
   "outputs": [],
   "source": [
    "# sort table by TS\n",
    "fermi_2fhl.table.sort(\"TS\")\n",
    "\n",
    "# invert the order to find the highest values and take the top 5\n",
    "top_five_TS_2fhl = fermi_2fhl.table[::-1][:5]\n",
    "\n",
    "# print the top five significant sources with association and source class\n",
    "top_five_TS_2fhl[[\"Source_Name\", \"ASSOC\", \"CLASS\"]]"
   ]
  },
  {
   "cell_type": "markdown",
   "metadata": {},
   "source": [
    "If you are interested in the data of an individual source you can access the information from catalog using the name of the source or any alias source name that is defined in the catalog:"
   ]
  },
  {
   "cell_type": "code",
   "execution_count": null,
   "metadata": {},
   "outputs": [],
   "source": [
    "mkn_421_2fhl = fermi_2fhl[\"2FHL J1104.4+3812\"]\n",
    "\n",
    "# or use any alias source name that is defined in the catalog\n",
    "mkn_421_2fhl = fermi_2fhl[\"Mkn 421\"]\n",
    "print(mkn_421_2fhl.data[\"TS\"])"
   ]
  },
  {
   "cell_type": "markdown",
   "metadata": {},
   "source": [
    "### Exercises\n",
    "\n",
    "* Try to load the Fermi-LAT 3FHL catalog and check the total number of sources it contains.\n",
    "* Select all the sources from the 2FHL catalog which are contained in the Vela region. Add markers for all these sources and try to add labels with the source names. The function [ax.text()](http://matplotlib.org/api/_as_gen/matplotlib.axes.Axes.text.html#matplotlib.axes.Axes.text) might be helpful.\n",
    "* Try to find the source class of the object at position ra=68.6803, dec=9.3331\n",
    " "
   ]
  },
  {
   "cell_type": "code",
   "execution_count": null,
   "metadata": {},
   "outputs": [],
   "source": []
  },
  {
   "cell_type": "markdown",
   "metadata": {},
   "source": [
    "## Spectral models and flux points\n",
    "\n",
    "In the previous section we learned how access basic data from individual sources in the catalog. Now we will go one step further and explore the full spectral information of sources. We will learn how to:\n",
    "\n",
    "* Plot spectral models\n",
    "* Compute integral and energy fluxes\n",
    "* Read and plot flux points\n",
    "\n",
    "As a first example we will start with the Crab Nebula:"
   ]
  },
  {
   "cell_type": "code",
   "execution_count": null,
   "metadata": {},
   "outputs": [],
   "source": [
    "crab_2fhl = fermi_2fhl[\"Crab\"]\n",
    "print(crab_2fhl.spectral_model)"
   ]
  },
  {
   "cell_type": "markdown",
   "metadata": {},
   "source": [
    "The `crab_2fhl.spectral_model` is an instance of the [gammapy.spectrum.models.PowerLaw2](..\/..\/api/gammapy.spectrum.models.PowerLaw2.html#gammapy.spectrum.models.PowerLaw2) model, with the parameter values and errors taken from the 2FHL catalog. \n",
    "\n",
    "Let's plot the spectral model in the energy range between 50 GeV and 2000 GeV:"
   ]
  },
  {
   "cell_type": "code",
   "execution_count": null,
   "metadata": {},
   "outputs": [],
   "source": [
    "ax_crab_2fhl = crab_2fhl.spectral_model.plot(\n",
    "    energy_range=[50, 2000] * u.GeV, energy_power=0\n",
    ")"
   ]
  },
  {
   "cell_type": "markdown",
   "metadata": {},
   "source": [
    "We assign the return axes object to variable called `ax_crab_2fhl`, because we will re-use it later to plot the flux points on top.\n",
    "\n",
    "To compute the differential flux at 100 GeV we can simply call the model like normal Python function and convert to the desired units:"
   ]
  },
  {
   "cell_type": "code",
   "execution_count": null,
   "metadata": {},
   "outputs": [],
   "source": [
    "crab_2fhl.spectral_model(100 * u.GeV).to(\"cm-2 s-1 GeV-1\")"
   ]
  },
  {
   "cell_type": "markdown",
   "metadata": {},
   "source": [
    "Next we can compute the integral flux of the Crab between 50 GeV and 2000 GeV:"
   ]
  },
  {
   "cell_type": "code",
   "execution_count": null,
   "metadata": {},
   "outputs": [],
   "source": [
    "crab_2fhl.spectral_model.integral(emin=50 * u.GeV, emax=2000 * u.GeV).to(\n",
    "    \"cm-2 s-1\"\n",
    ")"
   ]
  },
  {
   "cell_type": "markdown",
   "metadata": {},
   "source": [
    "We can easily convince ourself, that it corresponds to the value given in the Fermi-LAT 2FHL catalog:"
   ]
  },
  {
   "cell_type": "code",
   "execution_count": null,
   "metadata": {},
   "outputs": [],
   "source": [
    "crab_2fhl.data[\"Flux50\"]"
   ]
  },
  {
   "cell_type": "markdown",
   "metadata": {},
   "source": [
    "In addition we can compute the energy flux between 50 GeV and 2000 GeV:"
   ]
  },
  {
   "cell_type": "code",
   "execution_count": null,
   "metadata": {},
   "outputs": [],
   "source": [
    "crab_2fhl.spectral_model.energy_flux(emin=50 * u.GeV, emax=2000 * u.GeV).to(\n",
    "    \"erg cm-2 s-1\"\n",
    ")"
   ]
  },
  {
   "cell_type": "markdown",
   "metadata": {},
   "source": [
    "Next we will access the flux points data of the Crab:"
   ]
  },
  {
   "cell_type": "code",
   "execution_count": null,
   "metadata": {},
   "outputs": [],
   "source": [
    "print(crab_2fhl.flux_points)"
   ]
  },
  {
   "cell_type": "markdown",
   "metadata": {},
   "source": [
    "If you want to learn more about the different flux point formats you can read the specification [here](http://gamma-astro-data-formats.readthedocs.io/en/latest/results/flux_points/index.html#flux-points).\n",
    "\n",
    "No we can check again the underlying astropy data structure by accessing the `.table` attribute:"
   ]
  },
  {
   "cell_type": "code",
   "execution_count": null,
   "metadata": {},
   "outputs": [],
   "source": [
    "crab_2fhl.flux_points.table"
   ]
  },
  {
   "cell_type": "markdown",
   "metadata": {},
   "source": [
    "Finally let's combine spectral model and flux points in a single plot and scale with `energy_power=2` to obtain the spectral energy distribution:"
   ]
  },
  {
   "cell_type": "code",
   "execution_count": null,
   "metadata": {},
   "outputs": [],
   "source": [
    "ax = crab_2fhl.spectral_model.plot(\n",
    "    energy_range=[50, 2000] * u.GeV, energy_power=2\n",
    ")\n",
    "crab_2fhl.flux_points.plot(ax=ax, energy_power=2);"
   ]
  },
  {
   "cell_type": "markdown",
   "metadata": {},
   "source": [
    "### Exercises\n",
    "\n",
    "* Plot the spectral model and flux points for PKS 2155-304 for the 3FGL and 2FHL catalogs. Try to plot the error of the model (aka \"Butterfly\") as well. Note this requires the [uncertainties package](https://pythonhosted.org/uncertainties/) to be installed on your machine.\n"
   ]
  },
  {
   "cell_type": "code",
   "execution_count": null,
   "metadata": {},
   "outputs": [],
   "source": []
  },
  {
   "cell_type": "markdown",
   "metadata": {},
   "source": [
    "## What next?\n",
    "\n",
    "This was a quick introduction to some of the high-level classes in Astropy and Gammapy.\n",
    "\n",
    "* To learn more about those classes, go to the API docs (links are in the introduction at the top).\n",
    "* To learn more about other parts of Gammapy (e.g. Fermi-LAT and TeV data analysis), check out the other tutorial notebooks.\n",
    "* To see what's available in Gammapy, browse the [Gammapy docs](http://docs.gammapy.org/) or use the full-text search.\n",
    "* If you have any questions, ask on the mailing list."
   ]
  }
 ],
 "metadata": {
  "kernelspec": {
   "display_name": "Python 3",
   "language": "python",
   "name": "python3"
  },
  "language_info": {
   "codemirror_mode": {
    "name": "ipython",
    "version": 3
   },
   "file_extension": ".py",
   "mimetype": "text/x-python",
   "name": "python",
   "nbconvert_exporter": "python",
   "pygments_lexer": "ipython3",
   "version": "3.6.0"
  }
 },
 "nbformat": 4,
 "nbformat_minor": 2
}
