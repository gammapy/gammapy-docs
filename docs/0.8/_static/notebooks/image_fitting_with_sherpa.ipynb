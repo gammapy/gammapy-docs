{
 "cells": [
  {
   "cell_type": "markdown",
   "metadata": {},
   "source": [
    "# Fitting 2D images with Sherpa\n",
    "\n",
    "## Introduction\n",
    "\n",
    "Sherpa is the X-ray satellite Chandra modeling and fitting application. It enables the user to construct complex models from simple definitions and fit those models to data, using a variety of statistics and optimization methods. \n",
    "The issues of constraining the source position and morphology are common in X- and Gamma-ray astronomy. \n",
    "This notebook will show you how to apply Sherpa to CTA data.\n",
    "\n",
    "Here we will set up Sherpa to fit the counts map and loading the ancillary images for subsequent use. A relevant test statistic for data with Poisson fluctuations is the one proposed by Cash (1979). The simplex (or Nelder-Mead) fitting algorithm is a good compromise between efficiency and robustness. The source fit is best performed in pixel coordinates."
   ]
  },
  {
   "cell_type": "markdown",
   "metadata": {},
   "source": [
    "## Read sky images\n",
    "The sky image that are loaded here have been prepared in a separated notebook. Here we start from those fits file and focus on the source fitting aspect.\n",
    "\n",
    "The info needed for sherpa are:\n",
    "- Count map\n",
    "- Background map\n",
    "- Exposure map\n",
    "- PSF map\n",
    "\n",
    "For info, the fits file are written in the following way in the Sky map generation notebook:\n",
    "\n",
    "```\n",
    "images['counts']    .write(\"G300-0_test_counts.fits\", clobber=True)\n",
    "images['exposure']  .write(\"G300-0_test_exposure.fits\", clobber=True)\n",
    "images['background'].write(\"G300-0_test_background.fits\", clobber=True)\n",
    "\n",
    "##As psf is an array of quantities we cannot use the images['psf'].write() function\n",
    "##all the other arrays do not have quantities. \n",
    "fits.writeto(\"G300-0_test_psf.fits\",images['psf'].data.value,overwrite=True)\n",
    "```\n"
   ]
  },
  {
   "cell_type": "code",
   "execution_count": null,
   "metadata": {},
   "outputs": [],
   "source": [
    "%matplotlib inline\n",
    "import matplotlib.pyplot as plt\n",
    "import numpy as np\n",
    "from astropy.coordinates import SkyCoord\n",
    "import astropy.units as u\n",
    "from astropy.io import fits\n",
    "from astropy.wcs import WCS\n",
    "from gammapy.maps import Map, WcsNDMap, WcsGeom\n",
    "import os\n",
    "\n",
    "# Warnings about XSPEC or DS9 can be ignored here\n",
    "import sherpa.astro.ui as sh"
   ]
  },
  {
   "cell_type": "code",
   "execution_count": null,
   "metadata": {},
   "outputs": [],
   "source": [
    "# Read the fits file to load them in a sherpa model\n",
    "filecounts = os.environ[\"GAMMAPY_DATA\"] + \"/sherpaCTA/G300-0_test_counts.fits\"\n",
    "hdr = fits.getheader(filecounts)\n",
    "wcs = WCS(hdr)\n",
    "\n",
    "sh.set_stat(\"cash\")\n",
    "sh.set_method(\"simplex\")\n",
    "sh.load_image(filecounts)\n",
    "sh.set_coord(\"logical\")\n",
    "\n",
    "fileexp = os.environ[\"GAMMAPY_DATA\"] + \"/sherpaCTA/G300-0_test_exposure.fits\"\n",
    "filebkg = os.environ[\"GAMMAPY_DATA\"] + \"/sherpaCTA/G300-0_test_background.fits\"\n",
    "filepsf = os.environ[\"GAMMAPY_DATA\"] + \"/sherpaCTA/G300-0_test_psf.fits\"\n",
    "sh.load_table_model(\"expo\", fileexp)\n",
    "sh.load_table_model(\"bkg\", filebkg)\n",
    "sh.load_psf(\"psf\", filepsf)"
   ]
  },
  {
   "cell_type": "markdown",
   "metadata": {},
   "source": [
    "In principle one might first want to fit the background amplitude. However the background estimation method already yields the correct normalization, so we freeze the background amplitude to unity instead of adjusting it. The (smoothed) residuals from this background model are then computed and shown."
   ]
  },
  {
   "cell_type": "code",
   "execution_count": null,
   "metadata": {},
   "outputs": [],
   "source": [
    "sh.set_full_model(bkg)\n",
    "bkg.ampl = 1\n",
    "sh.freeze(bkg)\n",
    "\n",
    "resid = Map.read(filecounts)\n",
    "resid.data = sh.get_data_image().y - sh.get_model_image().y\n",
    "resid_smooth = resid.smooth(width=6)\n",
    "resid_smooth.plot();"
   ]
  },
  {
   "cell_type": "markdown",
   "metadata": {},
   "source": [
    "### Find and fit the brightest source\n",
    "We then find the position of the maximum in the (smoothed) residuals map, and fit a (symmetrical) Gaussian source with that initial position:"
   ]
  },
  {
   "cell_type": "code",
   "execution_count": null,
   "metadata": {},
   "outputs": [],
   "source": [
    "yp, xp = np.unravel_index(\n",
    "    np.nanargmax(resid_smooth.data), resid_smooth.data.shape\n",
    ")\n",
    "ampl = resid_smooth.get_by_pix((xp, yp))[0]\n",
    "\n",
    "sh.set_full_model(\n",
    "    bkg + psf(sh.gauss2d.g0) * expo\n",
    ")  # creates g0 as a gauss2d instance\n",
    "g0.xpos, g0.ypos = xp, yp\n",
    "sh.freeze(g0.xpos, g0.ypos)  # fix the position in the initial fitting step\n",
    "\n",
    "expo.ampl = (\n",
    "    1e-9\n",
    ")  # fix exposure amplitude so that typical exposure is of order unity\n",
    "sh.freeze(expo)\n",
    "sh.thaw(g0.fwhm, g0.ampl)  # in case frozen in a previous iteration\n",
    "\n",
    "g0.fwhm = 10  # give some reasonable initial values\n",
    "g0.ampl = ampl"
   ]
  },
  {
   "cell_type": "code",
   "execution_count": null,
   "metadata": {},
   "outputs": [],
   "source": [
    "%%time\n",
    "sh.fit()"
   ]
  },
  {
   "cell_type": "markdown",
   "metadata": {},
   "source": [
    "Fit all parameters of this Gaussian component, fix them and re-compute the residuals map."
   ]
  },
  {
   "cell_type": "code",
   "execution_count": null,
   "metadata": {},
   "outputs": [],
   "source": [
    "sh.thaw(g0.xpos, g0.ypos)\n",
    "sh.fit()\n",
    "sh.freeze(g0)\n",
    "\n",
    "resid.data = sh.get_data_image().y - sh.get_model_image().y\n",
    "resid_smooth = resid.smooth(width=6)\n",
    "resid_smooth.plot(vmin=-0.5, vmax=1);"
   ]
  },
  {
   "cell_type": "markdown",
   "metadata": {},
   "source": [
    "### Iteratively find and fit additional sources\n",
    "Instantiate additional Gaussian components, and use them to iteratively fit sources, repeating the steps performed above for component g0. (The residuals map is shown after each additional source included in the model.) This takes some time..."
   ]
  },
  {
   "cell_type": "code",
   "execution_count": null,
   "metadata": {},
   "outputs": [],
   "source": [
    "# initialize components with fixed, zero amplitude\n",
    "for i in range(1, 6):\n",
    "    model = sh.create_model_component(\"gauss2d\", \"g\" + str(i))\n",
    "    model.ampl = 0\n",
    "    sh.freeze(model)\n",
    "\n",
    "gs = [g0, g1, g2, g3, g4, g5]\n",
    "sh.set_full_model(bkg + psf(g0 + g1 + g2 + g3 + g4 + g5) * expo)"
   ]
  },
  {
   "cell_type": "code",
   "execution_count": null,
   "metadata": {},
   "outputs": [],
   "source": [
    "%%time\n",
    "for i in range(1, len(gs)):\n",
    "    yp, xp = np.unravel_index(\n",
    "        np.nanargmax(resid_smooth.data), resid_smooth.data.shape\n",
    "    )\n",
    "    ampl = resid_smooth.get_by_pix((xp, yp))[0]\n",
    "    gs[i].xpos, gs[i].ypos = xp, yp\n",
    "    gs[i].fwhm = 10\n",
    "    gs[i].ampl = ampl\n",
    "\n",
    "    sh.thaw(gs[i].fwhm)\n",
    "    sh.thaw(gs[i].ampl)\n",
    "    sh.fit()\n",
    "\n",
    "    sh.thaw(gs[i].xpos)\n",
    "    sh.thaw(gs[i].ypos)\n",
    "    sh.fit()\n",
    "    sh.freeze(gs[i])\n",
    "\n",
    "    resid.data = sh.get_data_image().y - sh.get_model_image().y\n",
    "    resid_smooth = resid.smooth(width=6)\n",
    "    resid_smooth.plot(vmin=-0.5, vmax=1)"
   ]
  },
  {
   "cell_type": "markdown",
   "metadata": {},
   "source": [
    "### Generating output table and Test Statistics estimation\n",
    "When adding a new source, one need to check the significance of this new source. A frequently used method is the Test Statistics (TS). This is done by comparing the change of statistics when the source is included compared to the null hypothesis (no source ; in practice here we fix the amplitude to zero).\n",
    "\n",
    "$TS = Cstat(source) - Cstat(no source)$\n",
    "\n",
    "The criterion for a significant source detection is typically that it should improve the test statistic by at least 25 or 30. The last excess fitted (g5) thus not a significant source:"
   ]
  },
  {
   "cell_type": "code",
   "execution_count": null,
   "metadata": {},
   "outputs": [],
   "source": [
    "from astropy.stats import gaussian_fwhm_to_sigma\n",
    "from astropy.table import Table\n",
    "\n",
    "rows = []\n",
    "for g in gs:\n",
    "    ampl = g.ampl.val\n",
    "    g.ampl = 0\n",
    "    stati = sh.get_stat_info()[0].statval\n",
    "    g.ampl = ampl\n",
    "    statf = sh.get_stat_info()[0].statval\n",
    "    delstat = stati - statf\n",
    "\n",
    "    geom = resid.geom\n",
    "    coord = geom.pix_to_coord((g.xpos.val, g.ypos.val))\n",
    "    pix_scale = geom.pixel_scales.mean().deg\n",
    "    sigma = g.fwhm.val * pix_scale * gaussian_fwhm_to_sigma\n",
    "    rows.append(\n",
    "        dict(delstat=delstat, glon=coord[0], glat=coord[1], sigma=sigma)\n",
    "    )\n",
    "\n",
    "table = Table(rows=rows, names=rows[0])\n",
    "for name in table.colnames:\n",
    "    table[name].format = \".5g\"\n",
    "table"
   ]
  },
  {
   "cell_type": "markdown",
   "metadata": {},
   "source": [
    "## Exercises\n",
    "\n",
    "* If you look back to the original image: there's one source that looks like a shell-type supernova remnant.\n",
    "    * Try to fit is with a shell morphology model (use ``sh.shell2d('shell')`` to create such a model).\n",
    "    * Try to evaluate the ``TS`` and probability of the shell model compared to a Gaussian model hypothesis\n",
    "    * You could also try a disk model (use ``sh.disk2d('disk')`` to create one)"
   ]
  },
  {
   "cell_type": "markdown",
   "metadata": {},
   "source": [
    "## What next?\n",
    "\n",
    "These are good resources to learn more about Sherpa:\n",
    "\n",
    "* https://python4astronomers.github.io/fitting/fitting.html\n",
    "* https://github.com/DougBurke/sherpa-standalone-notebooks\n",
    "\n",
    "You could read over the examples there, and try to apply a similar analysis to this dataset here to practice.\n",
    "\n",
    "If you want a deeper understanding of how Sherpa works, then these proceedings are good introductions:\n",
    "\n",
    "* http://conference.scipy.org/proceedings/scipy2009/paper_8/full_text.pdf\n",
    "* http://conference.scipy.org/proceedings/scipy2011/pdfs/brefsdal.pdf"
   ]
  }
 ],
 "metadata": {
  "anaconda-cloud": {},
  "kernelspec": {
   "display_name": "Python 3",
   "language": "python",
   "name": "python3"
  },
  "language_info": {
   "codemirror_mode": {
    "name": "ipython",
    "version": 3
   },
   "file_extension": ".py",
   "mimetype": "text/x-python",
   "name": "python",
   "nbconvert_exporter": "python",
   "pygments_lexer": "ipython3",
   "version": "3.6.0"
  },
  "toc": {
   "base_numbering": 1,
   "nav_menu": {},
   "number_sections": false,
   "sideBar": true,
   "skip_h1_title": false,
   "title_cell": "Table of Contents",
   "title_sidebar": "Contents",
   "toc_cell": false,
   "toc_position": {},
   "toc_section_display": true,
   "toc_window_display": false
  },
  "varInspector": {
   "cols": {
    "lenName": 16,
    "lenType": 16,
    "lenVar": 40
   },
   "kernels_config": {
    "python": {
     "delete_cmd_postfix": "",
     "delete_cmd_prefix": "del ",
     "library": "var_list.py",
     "varRefreshCmd": "print(var_dic_list())"
    },
    "r": {
     "delete_cmd_postfix": ") ",
     "delete_cmd_prefix": "rm(",
     "library": "var_list.r",
     "varRefreshCmd": "cat(var_dic_list()) "
    }
   },
   "types_to_exclude": [
    "module",
    "function",
    "builtin_function_or_method",
    "instance",
    "_Feature"
   ],
   "window_display": false
  }
 },
 "nbformat": 4,
 "nbformat_minor": 2
}
