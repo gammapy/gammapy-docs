{
 "cells": [
  {
   "cell_type": "markdown",
   "metadata": {},
   "source": [
    "# CWT Algorithm"
   ]
  },
  {
   "cell_type": "markdown",
   "metadata": {},
   "source": [
    "This notebook tutorial shows how to work with `CWT` algorithm for detecting gamma-ray sources.\n",
    "\n",
    "You can find the [docs here](..\/..\/api/gammapy.detect.CWT.html#gammapy.detect.CWT)\n",
    "and [source code on GitHub here](https://github.com/gammapy/gammapy/blob/master/gammapy/detect/cwt.py) for better understanding how the algorithm is constructed. "
   ]
  },
  {
   "cell_type": "markdown",
   "metadata": {},
   "source": [
    "## Setup\n",
    "\n",
    "On this section we just import some packages that can be used (or maybe not) in this tutorial. You can also see the versions of the packages in the outputs below and notice that this notebook was written on Python 2.7. Don't worry about that because the code is also Python 3 compatible. "
   ]
  },
  {
   "cell_type": "code",
   "execution_count": null,
   "metadata": {},
   "outputs": [],
   "source": [
    "# Render our plots inline\n",
    "%matplotlib inline\n",
    "import matplotlib.pyplot as plt\n",
    "\n",
    "plt.rcParams[\"figure.figsize\"] = (15, 5)"
   ]
  },
  {
   "cell_type": "code",
   "execution_count": null,
   "metadata": {},
   "outputs": [],
   "source": [
    "import sys\n",
    "import numpy as np\n",
    "import scipy as sp\n",
    "\n",
    "print(\"Python version: \" + sys.version)\n",
    "print(\"Numpy version: \" + np.__version__)\n",
    "print(\"Scipy version: \" + sp.__version__)"
   ]
  },
  {
   "cell_type": "markdown",
   "metadata": {},
   "source": [
    "## CWT Algorithm. PlayGround"
   ]
  },
  {
   "cell_type": "markdown",
   "metadata": {},
   "source": [
    "First of all we import the data which should be analysied."
   ]
  },
  {
   "cell_type": "code",
   "execution_count": null,
   "metadata": {},
   "outputs": [],
   "source": [
    "import os\n",
    "from astropy.io import fits\n",
    "from astropy.coordinates import Angle, SkyCoord\n",
    "from gammapy.maps import Map\n",
    "\n",
    "filename = \"$GAMMAPY_DATA/fermi_survey/all.fits.gz\"\n",
    "\n",
    "counts = Map.read(filename=filename, hdu=\"COUNTS\")\n",
    "background = Map.read(filename=filename, hdu=\"BACKGROUND\")\n",
    "\n",
    "width = Angle([20, 10], \"deg\")\n",
    "position = counts.geom.center_skydir\n",
    "counts = counts.cutout(position=position, width=width)\n",
    "background = background.cutout(position=position, width=width)\n",
    "\n",
    "data = dict(counts=counts, background=background)"
   ]
  },
  {
   "cell_type": "code",
   "execution_count": null,
   "metadata": {},
   "outputs": [],
   "source": [
    "fig = plt.figure(figsize=(15, 3))\n",
    "\n",
    "ax = fig.add_subplot(121, projection=data[\"counts\"].geom.wcs)\n",
    "data[\"counts\"].plot(vmax=10, ax=ax, fig=fig)\n",
    "\n",
    "ax = fig.add_subplot(122, projection=data[\"background\"].geom.wcs)\n",
    "data[\"background\"].plot(vmax=10, ax=ax, fig=fig)"
   ]
  },
  {
   "cell_type": "markdown",
   "metadata": {},
   "source": [
    "Let's explore how CWT works. At first define parameters of the algorithm.  An imperative parameter is kernels (`detect.CWTKernels` object). So we should create it."
   ]
  },
  {
   "cell_type": "code",
   "execution_count": null,
   "metadata": {},
   "outputs": [],
   "source": [
    "# Input parameters for CWTKernels\n",
    "N_SCALE = 2  # Number of scales considered.\n",
    "MIN_SCALE = 6.0  # First scale used.\n",
    "STEP_SCALE = 1.3  # Base scaling factor."
   ]
  },
  {
   "cell_type": "code",
   "execution_count": null,
   "metadata": {},
   "outputs": [],
   "source": [
    "from gammapy.detect import CWTKernels\n",
    "\n",
    "cwt_kernels = CWTKernels(\n",
    "    n_scale=N_SCALE, min_scale=MIN_SCALE, step_scale=STEP_SCALE\n",
    ")\n",
    "print(cwt_kernels.info_table)"
   ]
  },
  {
   "cell_type": "markdown",
   "metadata": {},
   "source": [
    "Other parameters are optional, in this demonstration define them all."
   ]
  },
  {
   "cell_type": "code",
   "execution_count": null,
   "metadata": {},
   "outputs": [],
   "source": [
    "MAX_ITER = 10  # The maximum number of iterations of the CWT algorithm.\n",
    "TOL = 1e-5  # Tolerance for stopping criterion.\n",
    "SIGNIFICANCE_THRESHOLD = 2.0  # Measure of statistical significance.\n",
    "SIGNIFICANCE_ISLAND_THRESHOLD = (\n",
    "    None\n",
    ")  # Measure is used for cleaning of isolated pixel islands.\n",
    "REMOVE_ISOLATED = True  # If True, isolated pixels will be removed.\n",
    "KEEP_HISTORY = True  # If you want to save images of all the iterations"
   ]
  },
  {
   "cell_type": "markdown",
   "metadata": {},
   "source": [
    "Let's start to analyse input data. Import Logging module to see how the algorithm works during data analysis."
   ]
  },
  {
   "cell_type": "code",
   "execution_count": null,
   "metadata": {},
   "outputs": [],
   "source": [
    "from gammapy.detect import CWT\n",
    "import logging\n",
    "\n",
    "logger = logging.getLogger()\n",
    "logger.setLevel(logging.INFO)\n",
    "cwt = CWT(\n",
    "    kernels=cwt_kernels,\n",
    "    tol=TOL,\n",
    "    significance_threshold=SIGNIFICANCE_THRESHOLD,\n",
    "    significance_island_threshold=SIGNIFICANCE_ISLAND_THRESHOLD,\n",
    "    remove_isolated=REMOVE_ISOLATED,\n",
    "    keep_history=KEEP_HISTORY,\n",
    ")"
   ]
  },
  {
   "cell_type": "markdown",
   "metadata": {},
   "source": [
    "In order to the algorithm was able to analyze source images, you need to convert them to a special format, i.e. create an CWTData object. Do this."
   ]
  },
  {
   "cell_type": "code",
   "execution_count": null,
   "metadata": {},
   "outputs": [],
   "source": [
    "from gammapy.detect import CWTKernels, CWTData\n",
    "\n",
    "cwt_data = CWTData(\n",
    "    counts=data[\"counts\"], background=data[\"background\"], n_scale=N_SCALE\n",
    ")"
   ]
  },
  {
   "cell_type": "code",
   "execution_count": null,
   "metadata": {},
   "outputs": [],
   "source": [
    "# Start the algorithm\n",
    "cwt.analyze(cwt_data)"
   ]
  },
  {
   "cell_type": "markdown",
   "metadata": {},
   "source": [
    "## Results of analysis\n",
    "\n",
    "Look at the results of CWT algorithm. Print all the images."
   ]
  },
  {
   "cell_type": "code",
   "execution_count": null,
   "metadata": {},
   "outputs": [],
   "source": [
    "PLOT_VALUE_MAX = 5\n",
    "FIG_SIZE = (15, 35)\n",
    "\n",
    "fig = plt.figure(figsize=FIG_SIZE)\n",
    "images = cwt_data.images()\n",
    "for index, (name, image) in enumerate(images.items()):\n",
    "    ax = fig.add_subplot(len(images), 2, index + 1, projection=image.geom.wcs)\n",
    "    image.plot(vmax=PLOT_VALUE_MAX, fig=fig, ax=ax)\n",
    "    plt.title(name)  # Maybe add a Name in SkyImage.plots?"
   ]
  },
  {
   "cell_type": "markdown",
   "metadata": {},
   "source": [
    "As you can see in the implementation of CWT above, it has the parameter `keep_history`. If you set to it `True`-value, it means that CWT would save all the images from iterations. Algorithm keeps images of only last CWT start.  Let's do this in the demonstration."
   ]
  },
  {
   "cell_type": "code",
   "execution_count": null,
   "metadata": {},
   "outputs": [],
   "source": [
    "history = cwt.history\n",
    "print(\n",
    "    \"Number of iterations: {0}\".format(len(history) - 1)\n",
    ")  # -1 because CWT save start images too"
   ]
  },
  {
   "cell_type": "markdown",
   "metadata": {},
   "source": [
    "Let's have a look, what's happening with images after the first iteration."
   ]
  },
  {
   "cell_type": "code",
   "execution_count": null,
   "metadata": {},
   "outputs": [],
   "source": [
    "N_ITER = 1\n",
    "assert 0 < N_ITER < len(history)\n",
    "data_iter = history[N_ITER]\n",
    "\n",
    "fig = plt.figure(figsize=FIG_SIZE)\n",
    "images_iter = data_iter.images()\n",
    "for index, (name, image) in enumerate(images_iter.items()):\n",
    "    ax = fig.add_subplot(\n",
    "        len(images_iter), 2, index + 1, projection=image.geom.wcs\n",
    "    )\n",
    "    image.plot(vmax=PLOT_VALUE_MAX, fig=fig, ax=ax)\n",
    "    plt.title(name)  # Maybe add a Name in SkyImage.plots?"
   ]
  },
  {
   "cell_type": "markdown",
   "metadata": {},
   "source": [
    "You can get the information about the one particular image in that way: "
   ]
  },
  {
   "cell_type": "code",
   "execution_count": null,
   "metadata": {},
   "outputs": [],
   "source": [
    "print(data_iter.image_info(name=\"approx_bkg\"))"
   ]
  },
  {
   "cell_type": "markdown",
   "metadata": {},
   "source": [
    "You can also get the information about cubes. Or information about all the data. "
   ]
  },
  {
   "cell_type": "code",
   "execution_count": null,
   "metadata": {},
   "outputs": [],
   "source": [
    "print(data_iter.cube_info(name=\"support\", per_scale=True))"
   ]
  },
  {
   "cell_type": "code",
   "execution_count": null,
   "metadata": {},
   "outputs": [],
   "source": [
    "print(data_iter.cube_info(name=\"support\", per_scale=False))"
   ]
  },
  {
   "cell_type": "markdown",
   "metadata": {},
   "source": [
    "Also you can see the difference betwen the iterations in that way:"
   ]
  },
  {
   "cell_type": "code",
   "execution_count": null,
   "metadata": {},
   "outputs": [],
   "source": [
    "history = cwt.history  # get list of 'CWTData' objects\n",
    "difference = (\n",
    "    history[1] - history[0]\n",
    ")  # get new `CWTData` obj, let's work with them"
   ]
  },
  {
   "cell_type": "code",
   "execution_count": null,
   "metadata": {},
   "outputs": [],
   "source": [
    "print(difference.cube_info(\"support\"))"
   ]
  },
  {
   "cell_type": "code",
   "execution_count": null,
   "metadata": {},
   "outputs": [],
   "source": [
    "difference.info_table.show_in_notebook()"
   ]
  },
  {
   "cell_type": "code",
   "execution_count": null,
   "metadata": {},
   "outputs": [],
   "source": [
    "fig = plt.figure(figsize=FIG_SIZE)\n",
    "images_diff = difference.images()\n",
    "for index, (name, image) in enumerate(images_diff.items()):\n",
    "    ax = fig.add_subplot(\n",
    "        len(images_diff), 2, index + 1, projection=image.geom.wcs\n",
    "    )\n",
    "    image.plot(vmax=PLOT_VALUE_MAX, fig=fig, ax=ax)\n",
    "    plt.title(name)  # Maybe add a Name in SkyImage.plots?"
   ]
  },
  {
   "cell_type": "markdown",
   "metadata": {},
   "source": [
    "You can save the results if you want"
   ]
  },
  {
   "cell_type": "code",
   "execution_count": null,
   "metadata": {},
   "outputs": [],
   "source": [
    "# cwt_data.write('test-cwt.fits', True)"
   ]
  }
 ],
 "metadata": {
  "kernelspec": {
   "display_name": "Python 3",
   "language": "python",
   "name": "python3"
  },
  "language_info": {
   "codemirror_mode": {
    "name": "ipython",
    "version": 3
   },
   "file_extension": ".py",
   "mimetype": "text/x-python",
   "name": "python",
   "nbconvert_exporter": "python",
   "pygments_lexer": "ipython3",
   "version": "3.6.0"
  }
 },
 "nbformat": 4,
 "nbformat_minor": 1
}
