{
 "cells": [
  {
   "cell_type": "markdown",
   "metadata": {},
   "source": [
    "# Source detection with Gammapy\n",
    "\n",
    "## Introduction\n",
    "\n",
    "This notebook show how to do source detection with Gammapy using one of the methods available in [gammapy.detect](..\/..\/detect/index.html).\n",
    "\n",
    "We will do this:\n",
    "\n",
    "* produce 2-dimensional test-statistics (TS) images using Fermi-LAT 2FHL high-energy Galactic plane survey dataset\n",
    "* run a peak finder to make a source catalog\n",
    "* do some simple measurements on each source\n",
    "* compare to the 2FHL catalog\n",
    "\n",
    "Note that what we do here is a quick-look analysis, the production of real source catalogs use more elaborate procedures.\n",
    "\n",
    "We will work with the following functions and classes:\n",
    "\n",
    "* [gammapy.maps.WcsNDMap](..\/..\/api/gammapy.maps.WcsNDMap.html)\n",
    "* [gammapy.detect.TSMapEstimator](..\/..\/api/gammapy.detect.TSMapEstimator.html)\n",
    "* [gammapy.detect.find_peaks](..\/..\/api/gammapy.detect.find_peaks.html)"
   ]
  },
  {
   "cell_type": "markdown",
   "metadata": {},
   "source": [
    "## Setup\n",
    "\n",
    "As always, let's get started with some setup ..."
   ]
  },
  {
   "cell_type": "code",
   "execution_count": null,
   "metadata": {},
   "outputs": [],
   "source": [
    "%matplotlib inline\n",
    "import matplotlib.pyplot as plt"
   ]
  },
  {
   "cell_type": "code",
   "execution_count": null,
   "metadata": {},
   "outputs": [],
   "source": [
    "import numpy as np\n",
    "from astropy import units as u\n",
    "from astropy.convolution import Gaussian2DKernel\n",
    "from astropy.coordinates import SkyCoord\n",
    "from gammapy.maps import Map\n",
    "from gammapy.detect import TSMapEstimator, find_peaks\n",
    "from gammapy.catalog import source_catalogs"
   ]
  },
  {
   "cell_type": "markdown",
   "metadata": {},
   "source": [
    "## Compute TS image"
   ]
  },
  {
   "cell_type": "code",
   "execution_count": null,
   "metadata": {},
   "outputs": [],
   "source": [
    "# Load data from files\n",
    "filename = \"$GAMMAPY_DATA/fermi_survey/all.fits.gz\"\n",
    "opts = {\n",
    "    \"position\": SkyCoord(0, 0, unit=\"deg\", frame=\"galactic\"),\n",
    "    \"width\": (20, 8),\n",
    "}\n",
    "maps = {\n",
    "    \"counts\": Map.read(filename, hdu=\"COUNTS\").cutout(**opts),\n",
    "    \"background\": Map.read(filename, hdu=\"BACKGROUND\").cutout(**opts),\n",
    "    \"exposure\": Map.read(filename, hdu=\"EXPOSURE\").cutout(**opts),\n",
    "}"
   ]
  },
  {
   "cell_type": "code",
   "execution_count": null,
   "metadata": {},
   "outputs": [],
   "source": [
    "%%time\n",
    "# Compute a source kernel (source template) in oversample mode,\n",
    "# PSF is not taken into account\n",
    "kernel = Gaussian2DKernel(2.5, mode=\"oversample\")\n",
    "estimator = TSMapEstimator()\n",
    "images = estimator.run(maps, kernel)"
   ]
  },
  {
   "cell_type": "markdown",
   "metadata": {},
   "source": [
    "## Plot images"
   ]
  },
  {
   "cell_type": "code",
   "execution_count": null,
   "metadata": {},
   "outputs": [],
   "source": [
    "plt.figure(figsize=(15, 5))\n",
    "images[\"sqrt_ts\"].plot();"
   ]
  },
  {
   "cell_type": "code",
   "execution_count": null,
   "metadata": {},
   "outputs": [],
   "source": [
    "plt.figure(figsize=(15, 5))\n",
    "images[\"flux\"].plot(add_cbar=True);"
   ]
  },
  {
   "cell_type": "code",
   "execution_count": null,
   "metadata": {},
   "outputs": [],
   "source": [
    "plt.figure(figsize=(15, 5))\n",
    "images[\"niter\"].plot(add_cbar=True);"
   ]
  },
  {
   "cell_type": "markdown",
   "metadata": {},
   "source": [
    "## Source catalog\n",
    "\n",
    "Let's run a peak finder on the `sqrt_ts` image to get a list of sources (positions and peak `sqrt_ts` values)."
   ]
  },
  {
   "cell_type": "code",
   "execution_count": null,
   "metadata": {},
   "outputs": [],
   "source": [
    "sources = find_peaks(images[\"sqrt_ts\"], threshold=8)\n",
    "sources"
   ]
  },
  {
   "cell_type": "code",
   "execution_count": null,
   "metadata": {},
   "outputs": [],
   "source": [
    "# Plot sources on top of significance sky image\n",
    "plt.figure(figsize=(15, 5))\n",
    "\n",
    "images[\"sqrt_ts\"].plot()\n",
    "\n",
    "plt.gca().scatter(\n",
    "    sources[\"ra\"],\n",
    "    sources[\"dec\"],\n",
    "    transform=plt.gca().get_transform(\"icrs\"),\n",
    "    color=\"none\",\n",
    "    edgecolor=\"black\",\n",
    "    marker=\"o\",\n",
    "    s=600,\n",
    "    lw=1.5,\n",
    ");"
   ]
  },
  {
   "cell_type": "markdown",
   "metadata": {},
   "source": [
    "## Measurements\n",
    "\n",
    "* TODO: show cutout for a few sources and some aperture photometry measurements (e.g. energy distribution, significance, flux)"
   ]
  },
  {
   "cell_type": "code",
   "execution_count": null,
   "metadata": {},
   "outputs": [],
   "source": [
    "# TODO"
   ]
  },
  {
   "cell_type": "markdown",
   "metadata": {},
   "source": [
    "## Compare to 2FHL\n",
    "\n",
    "TODO"
   ]
  },
  {
   "cell_type": "code",
   "execution_count": null,
   "metadata": {},
   "outputs": [],
   "source": [
    "fermi_2fhl = source_catalogs[\"2fhl\"]\n",
    "fermi_2fhl.table[:5][[\"Source_Name\", \"GLON\", \"GLAT\"]]"
   ]
  },
  {
   "cell_type": "markdown",
   "metadata": {},
   "source": [
    "## Exercises\n",
    "\n",
    "TODO: put one or more exercises"
   ]
  },
  {
   "cell_type": "code",
   "execution_count": null,
   "metadata": {},
   "outputs": [],
   "source": [
    "# Start exercises here!"
   ]
  },
  {
   "cell_type": "markdown",
   "metadata": {},
   "source": [
    "## What next?\n",
    "\n",
    "In this notebook, we have seen how to work with images and compute TS images from counts data, if a background estimate is already available.\n",
    "\n",
    "Here's some suggestions what to do next:\n",
    "\n",
    "- TODO: point to background estimation examples\n",
    "- TODO: point to other docs ..."
   ]
  }
 ],
 "metadata": {
  "kernelspec": {
   "display_name": "Python 3",
   "language": "python",
   "name": "python3"
  },
  "language_info": {
   "codemirror_mode": {
    "name": "ipython",
    "version": 3
   },
   "file_extension": ".py",
   "mimetype": "text/x-python",
   "name": "python",
   "nbconvert_exporter": "python",
   "pygments_lexer": "ipython3",
   "version": "3.6.0"
  }
 },
 "nbformat": 4,
 "nbformat_minor": 2
}
