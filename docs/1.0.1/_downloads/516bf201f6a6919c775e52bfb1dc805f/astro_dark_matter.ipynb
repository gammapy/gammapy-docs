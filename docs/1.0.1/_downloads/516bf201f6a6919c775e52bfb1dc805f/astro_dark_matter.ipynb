{
  "cells": [
    {
      "cell_type": "code",
      "execution_count": null,
      "metadata": {
        "collapsed": false
      },
      "outputs": [],
      "source": [
        "%matplotlib inline"
      ]
    },
    {
      "cell_type": "markdown",
      "metadata": {},
      "source": [
        "\n# Dark matter spatial and spectral models\n\nConvenience methods for dark matter high level analyses.\n\n## Introduction\n\nGammapy has some convenience methods for dark matter analyses in\n`~gammapy.astro.darkmatter`. These include J-Factor computation and\ncalculation the expected gamma flux for a number of annihilation\nchannels. They are presented in this notebook.\n\nThe basic concepts of indirect dark matter searches, however, are not\nexplained. So this is aimed at people who already know what the want to\ndo. A good introduction to indirect dark matter searches is given for\nexample in https://arxiv.org/pdf/1012.4515.pdf (Chapter 1 and 5)\n"
      ]
    },
    {
      "cell_type": "markdown",
      "metadata": {},
      "source": [
        "## Setup\n\nAs always, we start with some setup for the notebook, and with imports.\n\n\n"
      ]
    },
    {
      "cell_type": "code",
      "execution_count": null,
      "metadata": {
        "collapsed": false
      },
      "outputs": [],
      "source": [
        "import numpy as np\nimport astropy.units as u\nfrom astropy.coordinates import SkyCoord\nfrom regions import CircleSkyRegion\n\n# %matplotlib inline\nimport matplotlib.pyplot as plt\nfrom matplotlib.colors import LogNorm\nfrom gammapy.astro.darkmatter import (\n    DarkMatterAnnihilationSpectralModel,\n    JFactory,\n    PrimaryFlux,\n    profiles,\n)\nfrom gammapy.maps import WcsGeom, WcsNDMap"
      ]
    },
    {
      "cell_type": "markdown",
      "metadata": {},
      "source": [
        "## Check setup\n\n"
      ]
    },
    {
      "cell_type": "code",
      "execution_count": null,
      "metadata": {
        "collapsed": false
      },
      "outputs": [],
      "source": [
        "from gammapy.utils.check import check_tutorials_setup\n\ncheck_tutorials_setup()"
      ]
    },
    {
      "cell_type": "markdown",
      "metadata": {},
      "source": [
        "## Profiles\n\nThe following dark matter profiles are currently implemented. Each model\ncan be scaled to a given density at a certain distance. These parameters\nare controlled by `~gammapy.astro.darkmatter.profiles.DMProfile.LOCAL_DENSITY` and\n`~gammapy.astro.darkmatter.profiles.DMProfile.DISTANCE_GC`\n\n\n"
      ]
    },
    {
      "cell_type": "code",
      "execution_count": null,
      "metadata": {
        "collapsed": false
      },
      "outputs": [],
      "source": [
        "profiles.DMProfile.__subclasses__()\n\nplt.figure()\nfor profile in profiles.DMProfile.__subclasses__():\n    p = profile()\n    p.scale_to_local_density()\n    radii = np.logspace(-3, 2, 100) * u.kpc\n    plt.plot(radii, p(radii), label=p.__class__.__name__)\n\nplt.loglog()\nplt.axvline(8.5, linestyle=\"dashed\", color=\"black\", label=\"local density\")\nplt.legend()\n\nprint(\"LOCAL_DENSITY:\", profiles.DMProfile.LOCAL_DENSITY)\nprint(\"DISTANCE_GC:\", profiles.DMProfile.DISTANCE_GC)"
      ]
    },
    {
      "cell_type": "markdown",
      "metadata": {},
      "source": [
        "## J Factors\n\nThere are utilities to compute J-Factor maps that can serve as a basis\nto compute J-Factors for certain regions. In the following we compute a\nJ-Factor map for the Galactic Centre region\n\n\n"
      ]
    },
    {
      "cell_type": "code",
      "execution_count": null,
      "metadata": {
        "collapsed": false
      },
      "outputs": [],
      "source": [
        "profile = profiles.NFWProfile()\n\n# Adopt standard values used in HESS\nprofiles.DMProfile.DISTANCE_GC = 8.5 * u.kpc\nprofiles.DMProfile.LOCAL_DENSITY = 0.39 * u.Unit(\"GeV / cm3\")\n\nprofile.scale_to_local_density()\n\nposition = SkyCoord(0.0, 0.0, frame=\"galactic\", unit=\"deg\")\ngeom = WcsGeom.create(binsz=0.05, skydir=position, width=3.0, frame=\"galactic\")\n\njfactory = JFactory(geom=geom, profile=profile, distance=profiles.DMProfile.DISTANCE_GC)\njfact = jfactory.compute_jfactor()\n\njfact_map = WcsNDMap(geom=geom, data=jfact.value, unit=jfact.unit)\nplt.figure()\nax = jfact_map.plot(cmap=\"viridis\", norm=LogNorm(), add_cbar=True)\nplt.title(f\"J-Factor [{jfact_map.unit}]\")\n\n# 1 deg circle usually used in H.E.S.S. analyses\nsky_reg = CircleSkyRegion(center=position, radius=1 * u.deg)\npix_reg = sky_reg.to_pixel(wcs=geom.wcs)\npix_reg.plot(ax=ax, facecolor=\"none\", edgecolor=\"red\", label=\"1 deg circle\")\nplt.legend()\n\n# NOTE: https://arxiv.org/abs/1607.08142 quote 2.67e21 without the +/- 0.3 deg band around the plane\ntotal_jfact = pix_reg.to_mask().multiply(jfact).sum()\nprint(\n    \"J-factor in 1 deg circle around GC assuming a \"\n    f\"{profile.__class__.__name__} is {total_jfact:.3g}\"\n)"
      ]
    },
    {
      "cell_type": "markdown",
      "metadata": {},
      "source": [
        "## Gamma-ray spectra at production\n\nThe gamma-ray spectrum per annihilation is a further ingredient for a\ndark matter analysis. The following annihilation channels are supported.\nFor more info see https://arxiv.org/pdf/1012.4515.pdf\n\n\n"
      ]
    },
    {
      "cell_type": "code",
      "execution_count": null,
      "metadata": {
        "collapsed": false
      },
      "outputs": [],
      "source": [
        "fluxes = PrimaryFlux(mDM=\"1 TeV\", channel=\"eL\")\nprint(fluxes.allowed_channels)\n\nfig, axes = plt.subplots(4, 1, figsize=(4, 16))\nmDMs = [0.01, 0.1, 1, 10] * u.TeV\n\nfor mDM, ax in zip(mDMs, axes):\n    fluxes.mDM = mDM\n    ax.set_title(rf\"m$_{{\\mathrm{{DM}}}}$ = {mDM}\")\n    ax.set_yscale(\"log\")\n    ax.set_ylabel(\"dN/dE\")\n\n    for channel in [\"tau\", \"mu\", \"b\", \"Z\"]:\n        fluxes.channel = channel\n        fluxes.table_model.plot(\n            energy_bounds=[mDM / 100, mDM],\n            ax=ax,\n            label=channel,\n            yunits=u.Unit(\"1/GeV\"),\n        )\n\naxes[0].legend()\nplt.subplots_adjust(hspace=0.9)"
      ]
    },
    {
      "cell_type": "markdown",
      "metadata": {},
      "source": [
        "## Flux maps\n\nFinally flux maps can be produced like this:\n\n\n"
      ]
    },
    {
      "cell_type": "code",
      "execution_count": null,
      "metadata": {
        "collapsed": false
      },
      "outputs": [],
      "source": [
        "channel = \"Z\"\nmassDM = 10 * u.TeV\ndiff_flux = DarkMatterAnnihilationSpectralModel(mass=massDM, channel=channel)\nint_flux = (\n    jfact * diff_flux.integral(energy_min=0.1 * u.TeV, energy_max=10 * u.TeV)\n).to(\"cm-2 s-1\")\n\nflux_map = WcsNDMap(geom=geom, data=int_flux.value, unit=\"cm-2 s-1\")\nplt.figure()\nax = flux_map.plot(cmap=\"viridis\", norm=LogNorm(), add_cbar=True)\nplt.title(\n    f\"Flux [{int_flux.unit}]\\n m$_{{DM}}$={fluxes.mDM.to('TeV')}, channel={fluxes.channel}\"\n)\n\nplt.show()"
      ]
    }
  ],
  "metadata": {
    "kernelspec": {
      "display_name": "Python 3",
      "language": "python",
      "name": "python3"
    },
    "language_info": {
      "codemirror_mode": {
        "name": "ipython",
        "version": 3
      },
      "file_extension": ".py",
      "mimetype": "text/x-python",
      "name": "python",
      "nbconvert_exporter": "python",
      "pygments_lexer": "ipython3",
      "version": "3.9.16"
    }
  },
  "nbformat": 4,
  "nbformat_minor": 0
}