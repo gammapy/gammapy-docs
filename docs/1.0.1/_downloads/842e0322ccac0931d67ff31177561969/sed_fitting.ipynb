{
  "cells": [
    {
      "cell_type": "code",
      "execution_count": null,
      "metadata": {
        "collapsed": false
      },
      "outputs": [],
      "source": [
        "%matplotlib inline"
      ]
    },
    {
      "cell_type": "markdown",
      "metadata": {},
      "source": [
        "\n# Flux point fitting\n\nFit spectral models to combined Fermi-LAT and IACT flux points tables.\n\n\n## Prerequisites\n\n-  Some knowledge about retrieving information from catalogs,\n see :doc:`/tutorials/api/catalog` tutorial.\n\n## Context\n\nSome high level studies do not rely on reduced datasets with their IRFs\nbut directly on higher level products such as flux points. This is not\nideal because flux points already contain some hypothesis for the\nunderlying spectral shape and the uncertainties they carry are usually\nsimplified (e.g.\u00a0symmetric gaussian errors). Yet, this is an efficient\nway to combine heterogeneous data.\n\n**Objective: fit spectral models to combined Fermi-LAT and IACT flux\npoints.**\n\n## Proposed approach\n\nHere we will load, the spectral points from Fermi-LAT and TeV catalogs\nand fit them with various spectral models to find the best\nrepresentation of the wide band spectrum.\n\nThe central class we\u2019re going to use for this example analysis is:\n\n-  `~gammapy.datasets.FluxPointsDataset`\n\nIn addition we will work with the following data classes:\n\n-  `~gammapy.estimators.FluxPoints`\n-  `~gammapy.catalog.SourceCatalogGammaCat`\n-  `~gammapy.catalog.SourceCatalog3FHL`\n-  `~gammapy.catalog.SourceCatalog3FGL`\n\nAnd the following spectral model classes:\n\n-  `~gammapy.modeling.models.PowerLawSpectralModel`\n-  `~gammapy.modeling.models.ExpCutoffPowerLawSpectralModel`\n-  `~gammapy.modeling.models.LogParabolaSpectralModel`\n"
      ]
    },
    {
      "cell_type": "markdown",
      "metadata": {},
      "source": [
        "## Setup\n\nLet us start with the usual IPython notebook and Python imports:\n\n\n"
      ]
    },
    {
      "cell_type": "code",
      "execution_count": null,
      "metadata": {
        "collapsed": false
      },
      "outputs": [],
      "source": [
        "from astropy import units as u\n\n# %matplotlib inline\nimport matplotlib.pyplot as plt\nfrom gammapy.catalog import CATALOG_REGISTRY\nfrom gammapy.datasets import Datasets, FluxPointsDataset\nfrom gammapy.modeling import Fit\nfrom gammapy.modeling.models import (\n    ExpCutoffPowerLawSpectralModel,\n    LogParabolaSpectralModel,\n    PowerLawSpectralModel,\n    SkyModel,\n)"
      ]
    },
    {
      "cell_type": "markdown",
      "metadata": {},
      "source": [
        "## Load spectral points\n\nFor this analysis we choose to work with the source \u2018HESS J1507-622\u2019 and\nthe associated Fermi-LAT sources \u20183FGL J1506.6-6219\u2019 and \u20183FHL\nJ1507.9-6228e\u2019. We load the source catalogs, and then access source of\ninterest by name:\n\n\n"
      ]
    },
    {
      "cell_type": "code",
      "execution_count": null,
      "metadata": {
        "collapsed": false
      },
      "outputs": [],
      "source": [
        "catalog_3fgl = CATALOG_REGISTRY.get_cls(\"3fgl\")()\ncatalog_3fhl = CATALOG_REGISTRY.get_cls(\"3fhl\")()\ncatalog_gammacat = CATALOG_REGISTRY.get_cls(\"gamma-cat\")()\n\nsource_fermi_3fgl = catalog_3fgl[\"3FGL J1506.6-6219\"]\nsource_fermi_3fhl = catalog_3fhl[\"3FHL J1507.9-6228e\"]\nsource_gammacat = catalog_gammacat[\"HESS J1507-622\"]"
      ]
    },
    {
      "cell_type": "markdown",
      "metadata": {},
      "source": [
        "The corresponding flux points data can be accessed with ``.flux_points``\nattribute:\n\n\n"
      ]
    },
    {
      "cell_type": "code",
      "execution_count": null,
      "metadata": {
        "collapsed": false
      },
      "outputs": [],
      "source": [
        "dataset_gammacat = FluxPointsDataset(data=source_gammacat.flux_points, name=\"gammacat\")\ndataset_gammacat.data.to_table(sed_type=\"dnde\", formatted=True)\n\ndataset_3fgl = FluxPointsDataset(data=source_fermi_3fgl.flux_points, name=\"3fgl\")\ndataset_3fgl.data.to_table(sed_type=\"dnde\", formatted=True)\n\ndataset_3fhl = FluxPointsDataset(data=source_fermi_3fhl.flux_points, name=\"3fhl\")\ndataset_3fhl.data.to_table(sed_type=\"dnde\", formatted=True)"
      ]
    },
    {
      "cell_type": "markdown",
      "metadata": {},
      "source": [
        "## Power Law Fit\n\nFirst we start with fitting a simple\n`~gammapy.modeling.models.PowerLawSpectralModel`.\n\n\n"
      ]
    },
    {
      "cell_type": "code",
      "execution_count": null,
      "metadata": {
        "collapsed": false
      },
      "outputs": [],
      "source": [
        "pwl = PowerLawSpectralModel(\n    index=2, amplitude=\"1e-12 cm-2 s-1 TeV-1\", reference=\"1 TeV\"\n)\nmodel = SkyModel(spectral_model=pwl, name=\"j1507-pl\")"
      ]
    },
    {
      "cell_type": "markdown",
      "metadata": {},
      "source": [
        "After creating the model we run the fit by passing the ``flux_points``\nand ``model`` objects:\n\n\n"
      ]
    },
    {
      "cell_type": "code",
      "execution_count": null,
      "metadata": {
        "collapsed": false
      },
      "outputs": [],
      "source": [
        "datasets = Datasets([dataset_gammacat, dataset_3fgl, dataset_3fhl])\ndatasets.models = model\nprint(datasets)\n\nfitter = Fit()\nresult_pwl = fitter.run(datasets=datasets)"
      ]
    },
    {
      "cell_type": "markdown",
      "metadata": {},
      "source": [
        "And print the result:\n\n\n"
      ]
    },
    {
      "cell_type": "code",
      "execution_count": null,
      "metadata": {
        "collapsed": false
      },
      "outputs": [],
      "source": [
        "print(result_pwl)\n\nprint(model)"
      ]
    },
    {
      "cell_type": "markdown",
      "metadata": {},
      "source": [
        "Finally we plot the data points and the best fit model:\n\n\n"
      ]
    },
    {
      "cell_type": "code",
      "execution_count": null,
      "metadata": {
        "collapsed": false
      },
      "outputs": [],
      "source": [
        "ax = plt.subplot()\nax.yaxis.set_units(u.Unit(\"TeV cm-2 s-1\"))\n\nkwargs = {\"ax\": ax, \"sed_type\": \"e2dnde\"}\n\nfor d in datasets:\n    d.data.plot(label=d.name, **kwargs)\n\nenergy_bounds = [1e-4, 1e2] * u.TeV\npwl.plot(energy_bounds=energy_bounds, color=\"k\", **kwargs)\npwl.plot_error(energy_bounds=energy_bounds, **kwargs)\nax.set_ylim(1e-13, 1e-11)\nax.set_xlim(energy_bounds)\nax.legend()\nplt.show()"
      ]
    },
    {
      "cell_type": "markdown",
      "metadata": {},
      "source": [
        "## Exponential Cut-Off Powerlaw Fit\n\nNext we fit an\n`~gammapy.modeling.models.ExpCutoffPowerLawSpectralModel` law to the\ndata.\n\n\n"
      ]
    },
    {
      "cell_type": "code",
      "execution_count": null,
      "metadata": {
        "collapsed": false
      },
      "outputs": [],
      "source": [
        "ecpl = ExpCutoffPowerLawSpectralModel(\n    index=1.8,\n    amplitude=\"2e-12 cm-2 s-1 TeV-1\",\n    reference=\"1 TeV\",\n    lambda_=\"0.1 TeV-1\",\n)\nmodel = SkyModel(spectral_model=ecpl, name=\"j1507-ecpl\")"
      ]
    },
    {
      "cell_type": "markdown",
      "metadata": {},
      "source": [
        "We run the fitter again by passing the flux points and the model\ninstance:\n\n\n"
      ]
    },
    {
      "cell_type": "code",
      "execution_count": null,
      "metadata": {
        "collapsed": false
      },
      "outputs": [],
      "source": [
        "datasets.models = model\nresult_ecpl = fitter.run(datasets=datasets)\nprint(model)"
      ]
    },
    {
      "cell_type": "markdown",
      "metadata": {},
      "source": [
        "We plot the data and best fit model:\n\n\n"
      ]
    },
    {
      "cell_type": "code",
      "execution_count": null,
      "metadata": {
        "collapsed": false
      },
      "outputs": [],
      "source": [
        "ax = plt.subplot()\n\nkwargs = {\"ax\": ax, \"sed_type\": \"e2dnde\"}\n\nax.yaxis.set_units(u.Unit(\"TeV cm-2 s-1\"))\n\nfor d in datasets:\n    d.data.plot(label=d.name, **kwargs)\n\necpl.plot(energy_bounds=energy_bounds, color=\"k\", **kwargs)\necpl.plot_error(energy_bounds=energy_bounds, **kwargs)\nax.set_ylim(1e-13, 1e-11)\nax.set_xlim(energy_bounds)\nax.legend()\nplt.show()"
      ]
    },
    {
      "cell_type": "markdown",
      "metadata": {},
      "source": [
        "## Log-Parabola Fit\n\nFinally we try to fit a\n`~gammapy.modeling.models.LogParabolaSpectralModel` model:\n\n\n"
      ]
    },
    {
      "cell_type": "code",
      "execution_count": null,
      "metadata": {
        "collapsed": false
      },
      "outputs": [],
      "source": [
        "log_parabola = LogParabolaSpectralModel(\n    alpha=2, amplitude=\"1e-12 cm-2 s-1 TeV-1\", reference=\"1 TeV\", beta=0.1\n)\nmodel = SkyModel(spectral_model=log_parabola, name=\"j1507-lp\")\n\ndatasets.models = model\nresult_log_parabola = fitter.run(datasets=datasets)\nprint(model)\n\nax = plt.subplot()\n\nkwargs = {\"ax\": ax, \"sed_type\": \"e2dnde\"}\n\nax.yaxis.set_units(u.Unit(\"TeV cm-2 s-1\"))\n\nfor d in datasets:\n    d.data.plot(label=d.name, **kwargs)\n\nlog_parabola.plot(energy_bounds=energy_bounds, color=\"k\", **kwargs)\nlog_parabola.plot_error(energy_bounds=energy_bounds, **kwargs)\nax.set_ylim(1e-13, 1e-11)\nax.set_xlim(energy_bounds)\nax.legend()\nplt.show()"
      ]
    },
    {
      "cell_type": "markdown",
      "metadata": {},
      "source": [
        "## Exercises\n\n-  Fit a `~gammapy.modeling.models.PowerLaw2SpectralModel` and\n   `~gammapy.modeling.models.ExpCutoffPowerLaw3FGLSpectralModel` to\n   the same data.\n-  Fit a `~gammapy.modeling.models.ExpCutoffPowerLawSpectralModel`\n   model to Vela X (\u2018HESS J0835-455\u2019) only and check if the best fit\n   values correspond to the values given in the Gammacat catalog\n\n\n"
      ]
    },
    {
      "cell_type": "markdown",
      "metadata": {},
      "source": [
        "## What next?\n\nThis was an introduction to SED fitting in Gammapy.\n\n-  If you would like to learn how to perform a full Poisson maximum\n   likelihood spectral fit, please check out the\n   :doc:`/tutorials/analysis-1d/spectral_analysis` tutorial.\n-  To learn how to combine heterogeneous datasets to perform a\n   multi-instrument forward-folding fit see the\n   :doc:`/tutorials/analysis-3d/analysis_mwl` tutorial.\n\n\n"
      ]
    }
  ],
  "metadata": {
    "kernelspec": {
      "display_name": "Python 3",
      "language": "python",
      "name": "python3"
    },
    "language_info": {
      "codemirror_mode": {
        "name": "ipython",
        "version": 3
      },
      "file_extension": ".py",
      "mimetype": "text/x-python",
      "name": "python",
      "nbconvert_exporter": "python",
      "pygments_lexer": "ipython3",
      "version": "3.9.16"
    }
  },
  "nbformat": 4,
  "nbformat_minor": 0
}