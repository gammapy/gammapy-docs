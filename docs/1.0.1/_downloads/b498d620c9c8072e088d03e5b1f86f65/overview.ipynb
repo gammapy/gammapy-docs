{
  "cells": [
    {
      "cell_type": "code",
      "execution_count": null,
      "metadata": {
        "collapsed": false
      },
      "outputs": [],
      "source": [
        "%matplotlib inline"
      ]
    },
    {
      "cell_type": "markdown",
      "metadata": {},
      "source": [
        "\n# Data structures\n\nIntroduction to basic data structures handling.\n\n## Introduction\n\nThis is a getting started tutorial for Gammapy.\n\nIn this tutorial we will use the [Third Fermi-LAT Catalog of\nHigh-Energy Sources (3FHL)\ncatalog](http://fermi.gsfc.nasa.gov/ssc/data/access/lat/3FHL/)_,\ncorresponding event list and images to learn how to work with some of\nthe central Gammapy data structures.\n\nWe will cover the following topics:\n\n-  **Sky maps**\n\n   -  We will learn how to handle image based data with gammapy using a\n      Fermi-LAT 3FHL example image. We will work with the following\n      classes:\n\n      -  `~gammapy.maps.WcsNDMap`\n      -  `~astropy.coordinates.SkyCoord`\n      -  `~numpy.ndarray`\n\n-  **Event lists**\n\n   -  We will learn how to handle event lists with Gammapy. Important\n      for this are the following classes:\n\n      -  `~gammapy.data.EventList`\n      -  `~astropy.table.Table`\n\n-  **Source catalogs**\n\n   -  We will show how to load source catalogs with Gammapy and explore\n      the data using the following classes:\n\n      -  `~gammapy.catalog.SourceCatalog`, specifically\n         `~gammapy.catalog.SourceCatalog3FHL`\n      -  `~astropy.table.Table`\n\n-  **Spectral models and flux points**\n\n   -  We will pick an example source and show how to plot its spectral\n      model and flux points. For this we will use the following classes:\n\n      -  `~gammapy.modeling.models.SpectralModel`, specifically the\n         `~gammapy.modeling.models.PowerLaw2SpectralModel`\n      -  `~gammapy.estimators.FluxPoints`\n      -  `~astropy.table.Table`\n"
      ]
    },
    {
      "cell_type": "markdown",
      "metadata": {},
      "source": [
        "## Setup\n\n**Important**: to run this tutorial the environment variable\n``GAMMAPY_DATA`` must be defined and point to the directory on your\nmachine where the datasets needed are placed. To check whether your\nsetup is correct you can execute the following cell:\n\n\n"
      ]
    },
    {
      "cell_type": "code",
      "execution_count": null,
      "metadata": {
        "collapsed": false
      },
      "outputs": [],
      "source": [
        "import astropy.units as u\nfrom astropy.coordinates import SkyCoord\nimport matplotlib.pyplot as plt"
      ]
    },
    {
      "cell_type": "markdown",
      "metadata": {},
      "source": [
        "## Check setup\n\n"
      ]
    },
    {
      "cell_type": "code",
      "execution_count": null,
      "metadata": {
        "collapsed": false
      },
      "outputs": [],
      "source": [
        "from gammapy.utils.check import check_tutorials_setup\n\n# %matplotlib inline\n\n\ncheck_tutorials_setup()"
      ]
    },
    {
      "cell_type": "markdown",
      "metadata": {},
      "source": [
        "## Maps\n\nThe `~gammapy.maps` package contains classes to work with sky images\nand cubes.\n\nIn this section, we will use a simple 2D sky image and will learn how\nto:\n\n-  Read sky images from FITS files\n-  Smooth images\n-  Plot images\n-  Cutout parts from images\n\n\n"
      ]
    },
    {
      "cell_type": "code",
      "execution_count": null,
      "metadata": {
        "collapsed": false
      },
      "outputs": [],
      "source": [
        "from gammapy.maps import Map\n\ngc_3fhl = Map.read(\"$GAMMAPY_DATA/fermi-3fhl-gc/fermi-3fhl-gc-counts.fits.gz\")"
      ]
    },
    {
      "cell_type": "markdown",
      "metadata": {},
      "source": [
        "The image is a `~gammapy.maps.WcsNDMap` object:\n\n\n"
      ]
    },
    {
      "cell_type": "code",
      "execution_count": null,
      "metadata": {
        "collapsed": false
      },
      "outputs": [],
      "source": [
        "print(gc_3fhl)"
      ]
    },
    {
      "cell_type": "markdown",
      "metadata": {},
      "source": [
        "The shape of the image is 400 x 200 pixel and it is defined using a\ncartesian projection in galactic coordinates.\n\nThe ``geom`` attribute is a `~gammapy.maps.WcsGeom` object:\n\n\n"
      ]
    },
    {
      "cell_type": "code",
      "execution_count": null,
      "metadata": {
        "collapsed": false
      },
      "outputs": [],
      "source": [
        "print(gc_3fhl.geom)"
      ]
    },
    {
      "cell_type": "markdown",
      "metadata": {},
      "source": [
        "Let\u2019s take a closer look a the ``.data`` attribute:\n\n\n"
      ]
    },
    {
      "cell_type": "code",
      "execution_count": null,
      "metadata": {
        "collapsed": false
      },
      "outputs": [],
      "source": [
        "print(gc_3fhl.data)"
      ]
    },
    {
      "cell_type": "markdown",
      "metadata": {},
      "source": [
        "That looks familiar! It just an *ordinary* 2 dimensional numpy array,\nwhich means you can apply any known numpy method to it:\n\n\n"
      ]
    },
    {
      "cell_type": "code",
      "execution_count": null,
      "metadata": {
        "collapsed": false
      },
      "outputs": [],
      "source": [
        "print(f\"Total number of counts in the image: {gc_3fhl.data.sum():.0f}\")"
      ]
    },
    {
      "cell_type": "markdown",
      "metadata": {},
      "source": [
        "To show the image on the screen we can use the ``plot`` method. It\nbasically calls\n[plt.imshow](https://matplotlib.org/stable/api/_as_gen/matplotlib.pyplot.imshow.html)_,\npassing the ``gc_3fhl.data`` attribute but in addition handles axis with\nworld coordinates using\n[astropy.visualization.wcsaxes](https://docs.astropy.org/en/stable/visualization/wcsaxes/)_\nand defines some defaults for nicer plots (e.g.\u00a0the colormap \u2018afmhot\u2019):\n\n\n"
      ]
    },
    {
      "cell_type": "code",
      "execution_count": null,
      "metadata": {
        "collapsed": false
      },
      "outputs": [],
      "source": [
        "plt.figure()\n\ngc_3fhl.plot(stretch=\"sqrt\")"
      ]
    },
    {
      "cell_type": "markdown",
      "metadata": {},
      "source": [
        "To make the structures in the image more visible we will smooth the data\nusing a Gaussian kernel.\n\n\n"
      ]
    },
    {
      "cell_type": "code",
      "execution_count": null,
      "metadata": {
        "collapsed": false
      },
      "outputs": [],
      "source": [
        "plt.figure()\ngc_3fhl_smoothed = gc_3fhl.smooth(kernel=\"gauss\", width=0.2 * u.deg)\n\ngc_3fhl_smoothed.plot(stretch=\"sqrt\")"
      ]
    },
    {
      "cell_type": "markdown",
      "metadata": {},
      "source": [
        "The smoothed plot already looks much nicer, but still the image is\nrather large. As we are mostly interested in the inner part of the\nimage, we will cut out a quadratic region of the size 9 deg x 9 deg\naround Vela. Therefore we use `~gammapy.maps.Map.cutout` to make a\ncutout map:\n\n\n"
      ]
    },
    {
      "cell_type": "code",
      "execution_count": null,
      "metadata": {
        "collapsed": false
      },
      "outputs": [],
      "source": [
        "plt.figure()\n# define center and size of the cutout region\ncenter = SkyCoord(0, 0, unit=\"deg\", frame=\"galactic\")\ngc_3fhl_cutout = gc_3fhl_smoothed.cutout(center, 9 * u.deg)\n\ngc_3fhl_cutout.plot(stretch=\"sqrt\")"
      ]
    },
    {
      "cell_type": "markdown",
      "metadata": {},
      "source": [
        "For a more detailed introduction to `~gammapy.maps`, take a look a the\n:doc:`/tutorials/api/maps` notebook.\n\n### Exercises\n\n-  Add a marker and circle at the position of ``Sgr A*`` (you can find\n   examples in\n   [astropy.visualization.wcsaxes](https://docs.astropy.org/en/stable/visualization/wcsaxes/)_).\n\n\n"
      ]
    },
    {
      "cell_type": "markdown",
      "metadata": {},
      "source": [
        "## Event lists\n\nAlmost any high level gamma-ray data analysis starts with the raw\nmeasured counts data, which is stored in event lists. In Gammapy event\nlists are represented by the `~gammapy.data.EventList` class.\n\nIn this section we will learn how to:\n\n-  Read event lists from FITS files\n-  Access and work with the ``EventList`` attributes such as ``.table``\n   and ``.energy``\n-  Filter events lists using convenience methods\n\nLet\u2019s start with the import from the `~gammapy.data` submodule:\n\n\n"
      ]
    },
    {
      "cell_type": "code",
      "execution_count": null,
      "metadata": {
        "collapsed": false
      },
      "outputs": [],
      "source": [
        "from gammapy.data import EventList"
      ]
    },
    {
      "cell_type": "markdown",
      "metadata": {},
      "source": [
        "Very similar to the sky map class an event list can be created, by\npassing a filename to the `~gammapy.data.EventList.read()` method:\n\n\n"
      ]
    },
    {
      "cell_type": "code",
      "execution_count": null,
      "metadata": {
        "collapsed": false
      },
      "outputs": [],
      "source": [
        "events_3fhl = EventList.read(\"$GAMMAPY_DATA/fermi-3fhl-gc/fermi-3fhl-gc-events.fits.gz\")"
      ]
    },
    {
      "cell_type": "markdown",
      "metadata": {},
      "source": [
        "This time the actual data is stored as an\n`~astropy.table.Table `\nobject. It can be accessed with ``.table`` attribute:\n\n\n"
      ]
    },
    {
      "cell_type": "code",
      "execution_count": null,
      "metadata": {
        "collapsed": false
      },
      "outputs": [],
      "source": [
        "print(events_3fhl.table)"
      ]
    },
    {
      "cell_type": "markdown",
      "metadata": {},
      "source": [
        "You can do *len* over event_3fhl.table to find the total number of\nevents.\n\n\n"
      ]
    },
    {
      "cell_type": "code",
      "execution_count": null,
      "metadata": {
        "collapsed": false
      },
      "outputs": [],
      "source": [
        "print(len(events_3fhl.table))"
      ]
    },
    {
      "cell_type": "markdown",
      "metadata": {},
      "source": [
        "And we can access any other attribute of the ``Table`` object as well:\n\n\n"
      ]
    },
    {
      "cell_type": "code",
      "execution_count": null,
      "metadata": {
        "collapsed": false
      },
      "outputs": [],
      "source": [
        "print(events_3fhl.table.colnames)"
      ]
    },
    {
      "cell_type": "markdown",
      "metadata": {},
      "source": [
        "For convenience we can access the most important event parameters as\nproperties on the ``EventList`` objects. The attributes will return\ncorresponding Astropy objects to represent the data, such as\n`~astropy.units.Quantity`,\n`~astropy.coordinates.SkyCoord`\nor\n`~astropy.time.Time`\nobjects:\n\n\n"
      ]
    },
    {
      "cell_type": "code",
      "execution_count": null,
      "metadata": {
        "collapsed": false
      },
      "outputs": [],
      "source": [
        "print(events_3fhl.energy.to(\"GeV\"))"
      ]
    },
    {
      "cell_type": "code",
      "execution_count": null,
      "metadata": {
        "collapsed": false
      },
      "outputs": [],
      "source": [
        "print(events_3fhl.galactic)\n# events_3fhl.radec"
      ]
    },
    {
      "cell_type": "code",
      "execution_count": null,
      "metadata": {
        "collapsed": false
      },
      "outputs": [],
      "source": [
        "print(events_3fhl.time)"
      ]
    },
    {
      "cell_type": "markdown",
      "metadata": {},
      "source": [
        "In addition ``EventList`` provides convenience methods to filter the\nevent lists. One possible use case is to find the highest energy event\nwithin a radius of 0.5 deg around the vela position:\n\n\n"
      ]
    },
    {
      "cell_type": "code",
      "execution_count": null,
      "metadata": {
        "collapsed": false
      },
      "outputs": [],
      "source": [
        "# select all events within a radius of 0.5 deg around center\nfrom gammapy.utils.regions import SphericalCircleSkyRegion\n\nregion = SphericalCircleSkyRegion(center, radius=0.5 * u.deg)\nevents_gc_3fhl = events_3fhl.select_region(region)\n\n# sort events by energy\nevents_gc_3fhl.table.sort(\"ENERGY\")\n\n# and show highest energy photon\nprint(\"highest energy photon: \", events_gc_3fhl.energy[-1].to(\"GeV\"))"
      ]
    },
    {
      "cell_type": "markdown",
      "metadata": {},
      "source": [
        "### Exercises\n\n-  Make a counts energy spectrum for the galactic center region, within\n   a radius of 10 deg.\n\n\n"
      ]
    },
    {
      "cell_type": "markdown",
      "metadata": {},
      "source": [
        "## Source catalogs\n\nGammapy provides a convenient interface to access and work with catalog\nbased data.\n\nIn this section we will learn how to:\n\n-  Load builtins catalogs from `~gammapy.catalog`\n-  Sort and index the underlying Astropy tables\n-  Access data from individual sources\n\nLet\u2019s start with importing the 3FHL catalog object from the\n`~gammapy.catalog` submodule:\n\n\n"
      ]
    },
    {
      "cell_type": "code",
      "execution_count": null,
      "metadata": {
        "collapsed": false
      },
      "outputs": [],
      "source": [
        "from gammapy.catalog import SourceCatalog3FHL"
      ]
    },
    {
      "cell_type": "markdown",
      "metadata": {},
      "source": [
        "First we initialize the Fermi-LAT 3FHL catalog and directly take a look\nat the ``.table`` attribute:\n\n\n"
      ]
    },
    {
      "cell_type": "code",
      "execution_count": null,
      "metadata": {
        "collapsed": false
      },
      "outputs": [],
      "source": [
        "fermi_3fhl = SourceCatalog3FHL()\nprint(fermi_3fhl.table)"
      ]
    },
    {
      "cell_type": "markdown",
      "metadata": {},
      "source": [
        "This looks very familiar again. The data is just stored as an\n`~astropy.table.Table`\nobject. We have all the methods and attributes of the ``Table`` object\navailable. E.g. we can sort the underlying table by ``Signif_Avg`` to\nfind the top 5 most significant sources:\n\n\n"
      ]
    },
    {
      "cell_type": "code",
      "execution_count": null,
      "metadata": {
        "collapsed": false
      },
      "outputs": [],
      "source": [
        "# sort table by significance\nfermi_3fhl.table.sort(\"Signif_Avg\")\n\n# invert the order to find the highest values and take the top 5\ntop_five_TS_3fhl = fermi_3fhl.table[::-1][:5]\n\n# print the top five significant sources with association and source class\nprint(top_five_TS_3fhl[[\"Source_Name\", \"ASSOC1\", \"ASSOC2\", \"CLASS\", \"Signif_Avg\"]])"
      ]
    },
    {
      "cell_type": "markdown",
      "metadata": {},
      "source": [
        "If you are interested in the data of an individual source you can access\nthe information from catalog using the name of the source or any alias\nsource name that is defined in the catalog:\n\n\n"
      ]
    },
    {
      "cell_type": "code",
      "execution_count": null,
      "metadata": {
        "collapsed": false
      },
      "outputs": [],
      "source": [
        "mkn_421_3fhl = fermi_3fhl[\"3FHL J1104.4+3812\"]\n\n# or use any alias source name that is defined in the catalog\nmkn_421_3fhl = fermi_3fhl[\"Mkn 421\"]\nprint(mkn_421_3fhl.data[\"Signif_Avg\"])"
      ]
    },
    {
      "cell_type": "markdown",
      "metadata": {},
      "source": [
        "### Exercises\n\n-  Try to load the Fermi-LAT 2FHL catalog and check the total number of\n   sources it contains.\n-  Select all the sources from the 2FHL catalog which are contained in\n   the Galactic Center region. The methods\n   `~gammapy.maps.WcsGeom.contains()` and\n   `~gammapy.catalog.SourceCatalog.positions` might be helpful for\n   this. Add markers for all these sources and try to add labels with\n   the source names.\n-  Try to find the source class of the object at position ra=68.6803,\n   dec=9.3331\n\n\n"
      ]
    },
    {
      "cell_type": "markdown",
      "metadata": {},
      "source": [
        "## Spectral models and flux points\n\nIn the previous section we learned how access basic data from individual\nsources in the catalog. Now we will go one step further and explore the\nfull spectral information of sources. We will learn how to:\n\n-  Plot spectral models\n-  Compute integral and energy fluxes\n-  Read and plot flux points\n\nAs a first example we will start with the Crab Nebula:\n\n\n"
      ]
    },
    {
      "cell_type": "code",
      "execution_count": null,
      "metadata": {
        "collapsed": false
      },
      "outputs": [],
      "source": [
        "crab_3fhl = fermi_3fhl[\"Crab Nebula\"]\ncrab_3fhl_spec = crab_3fhl.spectral_model()\nprint(crab_3fhl_spec)"
      ]
    },
    {
      "cell_type": "markdown",
      "metadata": {},
      "source": [
        "The ``crab_3fhl_spec`` is an instance of the\n`~gammapy.modeling.models.PowerLaw2SpectralModel` model, with the\nparameter values and errors taken from the 3FHL catalog.\n\nLet\u2019s plot the spectral model in the energy range between 10 GeV and\n2000 GeV:\n\n\n"
      ]
    },
    {
      "cell_type": "code",
      "execution_count": null,
      "metadata": {
        "collapsed": false
      },
      "outputs": [],
      "source": [
        "plt.figure()\nax_crab_3fhl = crab_3fhl_spec.plot(energy_bounds=[10, 2000] * u.GeV, energy_power=0)"
      ]
    },
    {
      "cell_type": "markdown",
      "metadata": {},
      "source": [
        "We assign the return axes object to variable called ``ax_crab_3fhl``,\nbecause we will re-use it later to plot the flux points on top.\n\nTo compute the differential flux at 100 GeV we can simply call the model\nlike normal Python function and convert to the desired units:\n\n\n"
      ]
    },
    {
      "cell_type": "code",
      "execution_count": null,
      "metadata": {
        "collapsed": false
      },
      "outputs": [],
      "source": [
        "print(crab_3fhl_spec(100 * u.GeV).to(\"cm-2 s-1 GeV-1\"))"
      ]
    },
    {
      "cell_type": "markdown",
      "metadata": {},
      "source": [
        "Next we can compute the integral flux of the Crab between 10 GeV and\n2000 GeV:\n\n\n"
      ]
    },
    {
      "cell_type": "code",
      "execution_count": null,
      "metadata": {
        "collapsed": false
      },
      "outputs": [],
      "source": [
        "print(\n    crab_3fhl_spec.integral(energy_min=10 * u.GeV, energy_max=2000 * u.GeV).to(\n        \"cm-2 s-1\"\n    )\n)"
      ]
    },
    {
      "cell_type": "markdown",
      "metadata": {},
      "source": [
        "We can easily convince ourself, that it corresponds to the value given\nin the Fermi-LAT 3FHL catalog:\n\n\n"
      ]
    },
    {
      "cell_type": "code",
      "execution_count": null,
      "metadata": {
        "collapsed": false
      },
      "outputs": [],
      "source": [
        "print(crab_3fhl.data[\"Flux\"])"
      ]
    },
    {
      "cell_type": "markdown",
      "metadata": {},
      "source": [
        "In addition we can compute the energy flux between 10 GeV and 2000 GeV:\n\n\n"
      ]
    },
    {
      "cell_type": "code",
      "execution_count": null,
      "metadata": {
        "collapsed": false
      },
      "outputs": [],
      "source": [
        "print(\n    crab_3fhl_spec.energy_flux(energy_min=10 * u.GeV, energy_max=2000 * u.GeV).to(\n        \"erg cm-2 s-1\"\n    )\n)"
      ]
    },
    {
      "cell_type": "markdown",
      "metadata": {},
      "source": [
        "Next we will access the flux points data of the Crab:\n\n\n"
      ]
    },
    {
      "cell_type": "code",
      "execution_count": null,
      "metadata": {
        "collapsed": false
      },
      "outputs": [],
      "source": [
        "print(crab_3fhl.flux_points)"
      ]
    },
    {
      "cell_type": "markdown",
      "metadata": {},
      "source": [
        "If you want to learn more about the different flux point formats you can\nread the specification\n[here](https://gamma-astro-data-formats.readthedocs.io/en/latest/spectra/flux_points/index.html)_.\n\nNo we can check again the underlying astropy data structure by accessing\nthe ``.table`` attribute:\n\n\n"
      ]
    },
    {
      "cell_type": "code",
      "execution_count": null,
      "metadata": {
        "collapsed": false
      },
      "outputs": [],
      "source": [
        "print(crab_3fhl.flux_points.to_table(sed_type=\"dnde\", formatted=True))"
      ]
    },
    {
      "cell_type": "markdown",
      "metadata": {},
      "source": [
        "Finally let\u2019s combine spectral model and flux points in a single plot\nand scale with ``energy_power=2`` to obtain the spectral energy\ndistribution:\n\n\n"
      ]
    },
    {
      "cell_type": "code",
      "execution_count": null,
      "metadata": {
        "collapsed": false
      },
      "outputs": [],
      "source": [
        "plt.figure()\nax = crab_3fhl_spec.plot(energy_bounds=[10, 2000] * u.GeV, sed_type=\"e2dnde\")\ncrab_3fhl.flux_points.plot(ax=ax, sed_type=\"e2dnde\")\n\nplt.show()"
      ]
    },
    {
      "cell_type": "markdown",
      "metadata": {},
      "source": [
        "### Exercises\n\n-  Plot the spectral model and flux points for PKS 2155-304 for the 3FGL\n   and 2FHL catalogs. Try to plot the error of the model (aka\n   \u201cButterfly\u201d) as well.\n\n"
      ]
    },
    {
      "cell_type": "markdown",
      "metadata": {},
      "source": [
        "## What next?\n\nThis was a quick introduction to some of the high level classes in\nAstropy and Gammapy.\n\n-  To learn more about those classes, go to the API docs (links are in\n   the introduction at the top).\n-  To learn more about other parts of Gammapy (e.g. Fermi-LAT and TeV\n   data analysis), check out the other tutorial notebooks.\n-  To see what\u2019s available in Gammapy, browse the Gammapy docs or use\n   the full-text search.\n-  If you have any questions, ask on the mailing list.\n\n\n"
      ]
    }
  ],
  "metadata": {
    "kernelspec": {
      "display_name": "Python 3",
      "language": "python",
      "name": "python3"
    },
    "language_info": {
      "codemirror_mode": {
        "name": "ipython",
        "version": 3
      },
      "file_extension": ".py",
      "mimetype": "text/x-python",
      "name": "python",
      "nbconvert_exporter": "python",
      "pygments_lexer": "ipython3",
      "version": "3.9.16"
    }
  },
  "nbformat": 4,
  "nbformat_minor": 0
}