{
  "cells": [
    {
      "cell_type": "code",
      "execution_count": null,
      "metadata": {
        "collapsed": false
      },
      "outputs": [],
      "source": [
        "%matplotlib inline"
      ]
    },
    {
      "cell_type": "markdown",
      "metadata": {},
      "source": [
        "\n# 1D spectrum simulation\n\nSimulate a number of spectral on-off observations of a source with a power-law spectral\nmodel using the CTA 1DC response and fit them with the assumed spectral model.\n\n## Prerequisites\n\n-  Knowledge of spectral extraction and datasets used in gammapy, see\n   for instance the :doc:`spectral analysis\n   tutorial </tutorials/analysis-1d/spectral_analysis>`\n\n## Context\n\nTo simulate a specific observation, it is not always necessary to\nsimulate the full photon list. For many uses cases, simulating directly\na reduced binned dataset is enough: the IRFs reduced in the correct\ngeometry are combined with a source model to predict an actual number of\ncounts per bin. The latter is then used to simulate a reduced dataset\nusing Poisson probability distribution.\n\nThis can be done to check the feasibility of a measurement, to test\nwhether fitted parameters really provide a good fit to the data etc.\n\nHere we will see how to perform a 1D spectral simulation of a CTA\nobservation, in particular, we will generate OFF observations following\nthe template background stored in the CTA IRFs.\n\n**Objective: simulate a number of spectral ON-OFF observations of a\nsource with a power-law spectral model with CTA using the CTA 1DC\nresponse, fit them with the assumed spectral model and check that the\ndistribution of fitted parameters is consistent with the input values.**\n\n## Proposed approach\n\nWe will use the following classes:\n\n-  `~gammapy.datasets.SpectrumDatasetOnOff`\n-  `~gammapy.datasets.SpectrumDataset`\n-  `~gammapy.irf.load_cta_irfs`\n-  `~gammapy.modeling.models.PowerLawSpectralModel`\n"
      ]
    },
    {
      "cell_type": "code",
      "execution_count": null,
      "metadata": {
        "collapsed": false
      },
      "outputs": [],
      "source": [
        "import numpy as np\nimport astropy.units as u\nfrom astropy.coordinates import Angle, SkyCoord\nfrom regions import CircleSkyRegion\n\n# %matplotlib inline\nimport matplotlib.pyplot as plt"
      ]
    },
    {
      "cell_type": "markdown",
      "metadata": {},
      "source": [
        "## Setup\n\n\n"
      ]
    },
    {
      "cell_type": "code",
      "execution_count": null,
      "metadata": {
        "collapsed": false
      },
      "outputs": [],
      "source": [
        "from IPython.display import display\nfrom gammapy.data import Observation, observatory_locations\nfrom gammapy.datasets import Datasets, SpectrumDataset, SpectrumDatasetOnOff\nfrom gammapy.irf import load_cta_irfs\nfrom gammapy.makers import SpectrumDatasetMaker\nfrom gammapy.maps import MapAxis, RegionGeom\nfrom gammapy.modeling import Fit\nfrom gammapy.modeling.models import PowerLawSpectralModel, SkyModel"
      ]
    },
    {
      "cell_type": "markdown",
      "metadata": {},
      "source": [
        "## Check setup\n\n"
      ]
    },
    {
      "cell_type": "code",
      "execution_count": null,
      "metadata": {
        "collapsed": false
      },
      "outputs": [],
      "source": [
        "from gammapy.utils.check import check_tutorials_setup\n\ncheck_tutorials_setup()"
      ]
    },
    {
      "cell_type": "markdown",
      "metadata": {},
      "source": [
        "## Simulation of a single spectrum\n\nTo do a simulation, we need to define the observational parameters like\nthe livetime, the offset, the assumed integration radius, the energy\nrange to perform the simulation for and the choice of spectral model. We\nthen use an in-memory observation which is convolved with the IRFs to\nget the predicted number of counts. This is Poission fluctuated using\nthe `fake()` to get the simulated counts for each observation.\n\n\n"
      ]
    },
    {
      "cell_type": "code",
      "execution_count": null,
      "metadata": {
        "collapsed": false
      },
      "outputs": [],
      "source": [
        "# Define simulation parameters parameters\nlivetime = 1 * u.h\n\npointing = SkyCoord(0, 0, unit=\"deg\", frame=\"galactic\")\noffset = 0.5 * u.deg\n\n# Reconstructed and true energy axis\nenergy_axis = MapAxis.from_edges(\n    np.logspace(-0.5, 1.0, 10), unit=\"TeV\", name=\"energy\", interp=\"log\"\n)\nenergy_axis_true = MapAxis.from_edges(\n    np.logspace(-1.2, 2.0, 31), unit=\"TeV\", name=\"energy_true\", interp=\"log\"\n)\n\non_region_radius = Angle(\"0.11 deg\")\n\ncenter = pointing.directional_offset_by(position_angle=0 * u.deg, separation=offset)\non_region = CircleSkyRegion(center=center, radius=on_region_radius)\n\n# Define spectral model - a simple Power Law in this case\nmodel_simu = PowerLawSpectralModel(\n    index=3.0,\n    amplitude=2.5e-12 * u.Unit(\"cm-2 s-1 TeV-1\"),\n    reference=1 * u.TeV,\n)\nprint(model_simu)\n# we set the sky model used in the dataset\nmodel = SkyModel(spectral_model=model_simu, name=\"source\")"
      ]
    },
    {
      "cell_type": "markdown",
      "metadata": {},
      "source": [
        "Load the IRFs\nIn this simulation, we use the CTA-1DC irfs shipped with gammapy.\n\n"
      ]
    },
    {
      "cell_type": "code",
      "execution_count": null,
      "metadata": {
        "collapsed": false
      },
      "outputs": [],
      "source": [
        "irfs = load_cta_irfs(\n    \"$GAMMAPY_DATA/cta-1dc/caldb/data/cta/1dc/bcf/South_z20_50h/irf_file.fits\"\n)\n\nlocation = observatory_locations[\"cta_south\"]\nobs = Observation.create(\n    pointing=pointing,\n    livetime=livetime,\n    irfs=irfs,\n    location=location,\n)\nprint(obs)"
      ]
    },
    {
      "cell_type": "markdown",
      "metadata": {},
      "source": [
        "Simulate a spectra\n\n\n"
      ]
    },
    {
      "cell_type": "code",
      "execution_count": null,
      "metadata": {
        "collapsed": false
      },
      "outputs": [],
      "source": [
        "# Make the SpectrumDataset\ngeom = RegionGeom.create(region=on_region, axes=[energy_axis])\n\ndataset_empty = SpectrumDataset.create(\n    geom=geom, energy_axis_true=energy_axis_true, name=\"obs-0\"\n)\nmaker = SpectrumDatasetMaker(selection=[\"exposure\", \"edisp\", \"background\"])\n\ndataset = maker.run(dataset_empty, obs)\n\n# Set the model on the dataset, and fake\ndataset.models = model\ndataset.fake(random_state=42)\nprint(dataset)"
      ]
    },
    {
      "cell_type": "markdown",
      "metadata": {},
      "source": [
        "You can see that background counts are now simulated\n\n\n"
      ]
    },
    {
      "cell_type": "markdown",
      "metadata": {},
      "source": [
        "### On-Off analysis\n\nTo do an on off spectral analysis, which is the usual science case, the\nstandard would be to use `SpectrumDatasetOnOff`, which uses the\nacceptance to fake off-counts\n\n\n"
      ]
    },
    {
      "cell_type": "code",
      "execution_count": null,
      "metadata": {
        "collapsed": false
      },
      "outputs": [],
      "source": [
        "dataset_on_off = SpectrumDatasetOnOff.from_spectrum_dataset(\n    dataset=dataset, acceptance=1, acceptance_off=5\n)\ndataset_on_off.fake(npred_background=dataset.npred_background())\nprint(dataset_on_off)"
      ]
    },
    {
      "cell_type": "markdown",
      "metadata": {},
      "source": [
        "You can see that off counts are now simulated as well. We now simulate\nseveral spectra using the same set of observation conditions.\n\n\n"
      ]
    },
    {
      "cell_type": "code",
      "execution_count": null,
      "metadata": {
        "collapsed": false
      },
      "outputs": [],
      "source": [
        "n_obs = 100\ndatasets = Datasets()\n\nfor idx in range(n_obs):\n    dataset_on_off.fake(random_state=idx, npred_background=dataset.npred_background())\n    dataset_fake = dataset_on_off.copy(name=f\"obs-{idx}\")\n    dataset_fake.meta_table[\"OBS_ID\"] = [idx]\n    datasets.append(dataset_fake)\n\ntable = datasets.info_table()\ndisplay(table)"
      ]
    },
    {
      "cell_type": "markdown",
      "metadata": {},
      "source": [
        "Before moving on to the fit let\u2019s have a look at the simulated\nobservations.\n\n\n"
      ]
    },
    {
      "cell_type": "code",
      "execution_count": null,
      "metadata": {
        "collapsed": false
      },
      "outputs": [],
      "source": [
        "fix, axes = plt.subplots(1, 3, figsize=(12, 4))\naxes[0].hist(table[\"counts\"])\naxes[0].set_xlabel(\"Counts\")\naxes[1].hist(table[\"counts_off\"])\naxes[1].set_xlabel(\"Counts Off\")\naxes[2].hist(table[\"excess\"])\naxes[2].set_xlabel(\"excess\")"
      ]
    },
    {
      "cell_type": "markdown",
      "metadata": {},
      "source": [
        "Now, we fit each simulated spectrum individually\n\n\n"
      ]
    },
    {
      "cell_type": "code",
      "execution_count": null,
      "metadata": {
        "collapsed": false
      },
      "outputs": [],
      "source": [
        "results = []\n\nfit = Fit()\n\nfor dataset in datasets:\n    dataset.models = model.copy()\n    result = fit.optimize(dataset)\n    results.append(\n        {\n            \"index\": result.parameters[\"index\"].value,\n            \"amplitude\": result.parameters[\"amplitude\"].value,\n        }\n    )"
      ]
    },
    {
      "cell_type": "markdown",
      "metadata": {},
      "source": [
        "We take a look at the distribution of the fitted indices. This matches\nvery well with the spectrum that we initially injected.\n\n\n"
      ]
    },
    {
      "cell_type": "code",
      "execution_count": null,
      "metadata": {
        "collapsed": false
      },
      "outputs": [],
      "source": [
        "fig, ax = plt.subplots()\nindex = np.array([_[\"index\"] for _ in results])\nax.hist(index, bins=10, alpha=0.5)\nax.axvline(x=model_simu.parameters[\"index\"].value, color=\"red\")\nax.set_xlabel(\"Reconstructed spectral index\")\nprint(f\"index: {index.mean()} += {index.std()}\")\nplt.show()"
      ]
    },
    {
      "cell_type": "markdown",
      "metadata": {},
      "source": [
        "## Exercises\n\n-  Change the observation time to something longer or shorter. Does the\n   observation and spectrum results change as you expected?\n-  Change the spectral model, e.g.\u00a0add a cutoff at 5 TeV, or put a\n   steep-spectrum source with spectral index of 4.0\n-  Simulate spectra with the spectral model we just defined. How much\n   observation duration do you need to get back the injected parameters?\n\n\n"
      ]
    }
  ],
  "metadata": {
    "kernelspec": {
      "display_name": "Python 3",
      "language": "python",
      "name": "python3"
    },
    "language_info": {
      "codemirror_mode": {
        "name": "ipython",
        "version": 3
      },
      "file_extension": ".py",
      "mimetype": "text/x-python",
      "name": "python",
      "nbconvert_exporter": "python",
      "pygments_lexer": "ipython3",
      "version": "3.9.16"
    }
  },
  "nbformat": 4,
  "nbformat_minor": 0
}