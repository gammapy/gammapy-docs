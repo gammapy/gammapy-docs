{
  "cells": [
    {
      "cell_type": "code",
      "execution_count": null,
      "metadata": {
        "collapsed": false
      },
      "outputs": [],
      "source": [
        "%matplotlib inline"
      ]
    },
    {
      "cell_type": "markdown",
      "metadata": {},
      "source": [
        "\n# High level interface\n\nIntroduction to 3D analysis using the Gammapy high level interface.\n\n## Prerequisites\n\n-  Understanding the gammapy data workflow, in particular what are DL3\n   events and instrument response functions (IRF).\n\n## Context\n\nThis notebook is an introduction to gammapy analysis using the high\nlevel interface.\n\nGammapy analysis consists in two main steps.\n\nThe first one is data reduction: user selected observations are reduced\nto a geometry defined by the user. It can be 1D (spectrum from a given\nextraction region) or 3D (with a sky projection and an energy axis). The\nresulting reduced data and instrument response functions (IRF) are\ncalled datasets in Gammapy.\n\nThe second step consists in setting a physical model on the datasets and\nfitting it to obtain relevant physical information.\n\n**Objective: Create a 3D dataset of the Crab using the H.E.S.S. DL3 data\nrelease 1 and perform a simple model fitting of the Crab nebula.**\n\n## Proposed approach\n\nThis notebook uses the high level `~gammapy.analysis.Analysis` class to orchestrate data\nreduction. In its current state, `~gammapy.analysis.Analysis` supports the standard\nanalysis cases of joint or stacked 3D and 1D analyses. It is\ninstantiated with an `~gammapy.analysis.AnalysisConfig` object that gives access to\nanalysis parameters either directly or via a YAML config file.\n\nTo see what is happening under-the-hood and to get an idea of the\ninternal API, a second notebook performs the same analysis without using\nthe `~gammapy.analysis.Analysis` class.\n\nIn summary, we have to:\n\n-  Create an `~gammapy.analysis.AnalysisConfig` object and edit it to\n   define the analysis configuration:\n\n   -  Define what observations to use\n   -  Define the geometry of the dataset (data and IRFs)\n   -  Define the model we want to fit on the dataset.\n\n-  Instantiate a `~gammapy.analysis.Analysis` from this configuration\n   and run the different analysis steps\n\n   -  Observation selection\n   -  Data reduction\n   -  Model fitting\n   -  Estimating flux points\n\nFinally we will compare the results against a reference model.\n"
      ]
    },
    {
      "cell_type": "markdown",
      "metadata": {},
      "source": [
        "## Setup\n\n\n"
      ]
    },
    {
      "cell_type": "code",
      "execution_count": null,
      "metadata": {
        "collapsed": false
      },
      "outputs": [],
      "source": [
        "# %matplotlib inline\nfrom pathlib import Path\nfrom astropy import units as u\nfrom gammapy.analysis import Analysis, AnalysisConfig"
      ]
    },
    {
      "cell_type": "markdown",
      "metadata": {},
      "source": [
        "## Check setup\n\n"
      ]
    },
    {
      "cell_type": "code",
      "execution_count": null,
      "metadata": {
        "collapsed": false
      },
      "outputs": [],
      "source": [
        "from gammapy.utils.check import check_tutorials_setup\n\ncheck_tutorials_setup()"
      ]
    },
    {
      "cell_type": "markdown",
      "metadata": {},
      "source": [
        "## Analysis configuration\n\nFor configuration of the analysis we use the\n[YAML](https://en.wikipedia.org/wiki/YAML)_ data format. YAML is a\nmachine readable serialisation format, that is also friendly for humans\nto read. In this tutorial we will write the configuration file just\nusing Python strings, but of course the file can be created and modified\nwith any text editor of your choice.\n\nHere is what the configuration for our analysis looks like:\n\n\n"
      ]
    },
    {
      "cell_type": "code",
      "execution_count": null,
      "metadata": {
        "collapsed": false
      },
      "outputs": [],
      "source": [
        "config = AnalysisConfig()\n# the AnalysisConfig gives access to the various parameters used from logging to reduced dataset geometries\nprint(config)"
      ]
    },
    {
      "cell_type": "markdown",
      "metadata": {},
      "source": [
        "### Setting the data to use\n\n\n"
      ]
    },
    {
      "cell_type": "markdown",
      "metadata": {},
      "source": [
        "We want to use Crab runs from the H.E.S.S. DL3-DR1. We define here the\ndatastore and a cone search of observations pointing with 5 degrees of\nthe Crab nebula. Parameters can be set directly or as a python dict.\n\nPS: do not forget to setup your environment variable *$GAMMAPY_DATA* to\nyour local directory containing the H.E.S.S. DL3-DR1 as described in\n`quickstart-setup`.\n\n\n"
      ]
    },
    {
      "cell_type": "code",
      "execution_count": null,
      "metadata": {
        "collapsed": false
      },
      "outputs": [],
      "source": [
        "# We define the datastore containing the data\nconfig.observations.datastore = \"$GAMMAPY_DATA/hess-dl3-dr1\"\n\n# We define the cone search parameters\nconfig.observations.obs_cone.frame = \"icrs\"\nconfig.observations.obs_cone.lon = \"83.633 deg\"\nconfig.observations.obs_cone.lat = \"22.014 deg\"\nconfig.observations.obs_cone.radius = \"5 deg\"\n\n# Equivalently we could have set parameters with a python dict\n# config.observations.obs_cone = {\"frame\": \"icrs\", \"lon\": \"83.633 deg\", \"lat\": \"22.014 deg\", \"radius\": \"5 deg\"}"
      ]
    },
    {
      "cell_type": "markdown",
      "metadata": {},
      "source": [
        "### Setting the reduced datasets geometry\n\n\n"
      ]
    },
    {
      "cell_type": "code",
      "execution_count": null,
      "metadata": {
        "collapsed": false
      },
      "outputs": [],
      "source": [
        "# We want to perform a 3D analysis\nconfig.datasets.type = \"3d\"\n# We want to stack the data into a single reduced dataset\nconfig.datasets.stack = True\n\n# We fix the WCS geometry of the datasets\nconfig.datasets.geom.wcs.skydir = {\n    \"lon\": \"83.633 deg\",\n    \"lat\": \"22.014 deg\",\n    \"frame\": \"icrs\",\n}\nconfig.datasets.geom.wcs.width = {\"width\": \"2 deg\", \"height\": \"2 deg\"}\nconfig.datasets.geom.wcs.binsize = \"0.02 deg\"\n\n# We now fix the energy axis for the counts map\nconfig.datasets.geom.axes.energy.min = \"1 TeV\"\nconfig.datasets.geom.axes.energy.max = \"10 TeV\"\nconfig.datasets.geom.axes.energy.nbins = 10\n\n# We now fix the energy axis for the IRF maps (exposure, etc)\nconfig.datasets.geom.axes.energy_true.min = \"0.5 TeV\"\nconfig.datasets.geom.axes.energy_true.max = \"20 TeV\"\nconfig.datasets.geom.axes.energy_true.nbins = 20"
      ]
    },
    {
      "cell_type": "markdown",
      "metadata": {},
      "source": [
        "### Setting the background normalization maker\n\n\n"
      ]
    },
    {
      "cell_type": "code",
      "execution_count": null,
      "metadata": {
        "collapsed": false
      },
      "outputs": [],
      "source": [
        "config.datasets.background.method = \"fov_background\"\nconfig.datasets.background.parameters = {\"method\": \"scale\"}"
      ]
    },
    {
      "cell_type": "markdown",
      "metadata": {},
      "source": [
        "### Setting the exclusion mask\n\n\n"
      ]
    },
    {
      "cell_type": "markdown",
      "metadata": {},
      "source": [
        "In order to properly adjust the background normalisation on regions\nwithout gamma-ray signal, one needs to define an exclusion mask for the\nbackground normalisation. For this tutorial, we use the following one\n``$GAMMAPY_DATA/joint-crab/exclusion/exclusion_mask_crab.fits.gz``\n\n\n"
      ]
    },
    {
      "cell_type": "code",
      "execution_count": null,
      "metadata": {
        "collapsed": false
      },
      "outputs": [],
      "source": [
        "config.datasets.background.exclusion = (\n    \"$GAMMAPY_DATA/joint-crab/exclusion/exclusion_mask_crab.fits.gz\"\n)"
      ]
    },
    {
      "cell_type": "markdown",
      "metadata": {},
      "source": [
        "### Setting modeling and fitting parameters\n\n``Analysis`` can perform a few modeling and fitting tasks besides data\nreduction. Parameters have then to be passed to the configuration\nobject.\n\nHere we define the energy range on which to perform the fit. We also set\nthe energy edges used for flux point computation as well as the\ncorrelation radius to compute excess and significance maps.\n\n\n"
      ]
    },
    {
      "cell_type": "code",
      "execution_count": null,
      "metadata": {
        "collapsed": false
      },
      "outputs": [],
      "source": [
        "config.fit.fit_range.min = 1 * u.TeV\nconfig.fit.fit_range.max = 10 * u.TeV\nconfig.flux_points.energy = {\"min\": \"1 TeV\", \"max\": \"10 TeV\", \"nbins\": 4}\nconfig.excess_map.correlation_radius = 0.1 * u.deg"
      ]
    },
    {
      "cell_type": "markdown",
      "metadata": {},
      "source": [
        "We\u2019re all set. But before we go on let\u2019s see how to save or import\n``AnalysisConfig`` objects though YAML files.\n\n\n"
      ]
    },
    {
      "cell_type": "markdown",
      "metadata": {},
      "source": [
        "### Using YAML configuration files\n\nOne can export/import the `~gammapy.modeling.AnalysisConfig` to/from a YAML file.\n\n\n"
      ]
    },
    {
      "cell_type": "code",
      "execution_count": null,
      "metadata": {
        "collapsed": false
      },
      "outputs": [],
      "source": [
        "config.write(\"config.yaml\", overwrite=True)\n\nconfig = AnalysisConfig.read(\"config.yaml\")\nprint(config)"
      ]
    },
    {
      "cell_type": "markdown",
      "metadata": {},
      "source": [
        "## Running the analysis\n\nWe first create an `~gammapy.analysis.Analysis` object from our\nconfiguration.\n\n\n"
      ]
    },
    {
      "cell_type": "code",
      "execution_count": null,
      "metadata": {
        "collapsed": false
      },
      "outputs": [],
      "source": [
        "analysis = Analysis(config)"
      ]
    },
    {
      "cell_type": "markdown",
      "metadata": {},
      "source": [
        "### Observation selection\n\nWe can directly select and load the observations from disk using\n`~gammapy.analysis.Analysis.get_observations()`:\n\n\n"
      ]
    },
    {
      "cell_type": "code",
      "execution_count": null,
      "metadata": {
        "collapsed": false
      },
      "outputs": [],
      "source": [
        "analysis.get_observations()"
      ]
    },
    {
      "cell_type": "markdown",
      "metadata": {},
      "source": [
        "The observations are now available on the `~gammapy.modeling.Analysis` object. The\nselection corresponds to the following ids:\n\n\n"
      ]
    },
    {
      "cell_type": "code",
      "execution_count": null,
      "metadata": {
        "collapsed": false
      },
      "outputs": [],
      "source": [
        "print(analysis.observations.ids)"
      ]
    },
    {
      "cell_type": "markdown",
      "metadata": {},
      "source": [
        "To see how to explore observations, please refer to the following\nnotebook: :doc:`CTA with Gammapy </tutorials/data/cta>` or :doc:`HESS with\nGammapy </tutorials/data/hess>`\n\n\n"
      ]
    },
    {
      "cell_type": "markdown",
      "metadata": {},
      "source": [
        "## Data reduction\n\nNow we proceed to the data reduction. In the config file we have chosen\na WCS map geometry, energy axis and decided to stack the maps. We can\nrun the reduction using `~gammapy.modeling.Analysis.get_datasets()`:\n\n\n"
      ]
    },
    {
      "cell_type": "code",
      "execution_count": null,
      "metadata": {
        "collapsed": false
      },
      "outputs": [],
      "source": [
        "analysis.get_datasets()"
      ]
    },
    {
      "cell_type": "markdown",
      "metadata": {},
      "source": [
        "As we have chosen to stack the data, there is finally one dataset\ncontained which we can print:\n\n\n"
      ]
    },
    {
      "cell_type": "code",
      "execution_count": null,
      "metadata": {
        "collapsed": false
      },
      "outputs": [],
      "source": [
        "print(analysis.datasets[\"stacked\"])"
      ]
    },
    {
      "cell_type": "markdown",
      "metadata": {},
      "source": [
        "As you can see the dataset comes with a predefined background model out\nof the data reduction, but no source model has been set yet.\n\nThe counts, exposure and background model maps are directly available on\nthe dataset and can be printed and plotted:\n\n\n"
      ]
    },
    {
      "cell_type": "code",
      "execution_count": null,
      "metadata": {
        "collapsed": false
      },
      "outputs": [],
      "source": [
        "counts = analysis.datasets[\"stacked\"].counts\ncounts.smooth(\"0.05 deg\").plot_interactive()"
      ]
    },
    {
      "cell_type": "markdown",
      "metadata": {},
      "source": [
        "We can also compute the map of the sqrt_ts (significance) of the excess\ncounts above the background. The correlation radius to sum counts is\ndefined in the config file.\n\n\n"
      ]
    },
    {
      "cell_type": "code",
      "execution_count": null,
      "metadata": {
        "collapsed": false
      },
      "outputs": [],
      "source": [
        "analysis.get_excess_map()\nanalysis.excess_map[\"sqrt_ts\"].plot(add_cbar=True)"
      ]
    },
    {
      "cell_type": "markdown",
      "metadata": {},
      "source": [
        "## Save dataset to disk\n\nIt is common to run the preparation step independent of the likelihood\nfit, because often the preparation of maps, PSF and energy dispersion is\nslow if you have a lot of data. We first create a folder:\n\n\n"
      ]
    },
    {
      "cell_type": "code",
      "execution_count": null,
      "metadata": {
        "collapsed": false
      },
      "outputs": [],
      "source": [
        "path = Path(\"analysis_1\")\npath.mkdir(exist_ok=True)"
      ]
    },
    {
      "cell_type": "markdown",
      "metadata": {},
      "source": [
        "And then write the maps and IRFs to disk by calling the dedicated\n`~gammapy.datasets.Datasets.write` method:\n\n\n"
      ]
    },
    {
      "cell_type": "code",
      "execution_count": null,
      "metadata": {
        "collapsed": false
      },
      "outputs": [],
      "source": [
        "filename = path / \"crab-stacked-dataset.fits.gz\"\nanalysis.datasets[0].write(filename, overwrite=True)"
      ]
    },
    {
      "cell_type": "markdown",
      "metadata": {},
      "source": [
        "## Model fitting\n\nNow we define a model to be fitted to the dataset. Here we use its YAML\ndefinition to load it:\n\n\n"
      ]
    },
    {
      "cell_type": "code",
      "execution_count": null,
      "metadata": {
        "collapsed": false
      },
      "outputs": [],
      "source": [
        "model_config = \"\"\"\ncomponents:\n- name: crab\n  type: SkyModel\n  spatial:\n    type: PointSpatialModel\n    frame: icrs\n    parameters:\n    - name: lon_0\n      value: 83.63\n      unit: deg\n    - name: lat_0\n      value: 22.014\n      unit: deg\n  spectral:\n    type: PowerLawSpectralModel\n    parameters:\n    - name: amplitude\n      value: 1.0e-12\n      unit: cm-2 s-1 TeV-1\n    - name: index\n      value: 2.0\n      unit: ''\n    - name: reference\n      value: 1.0\n      unit: TeV\n      frozen: true\n\"\"\""
      ]
    },
    {
      "cell_type": "markdown",
      "metadata": {},
      "source": [
        "Now we set the model on the analysis object:\n\n\n"
      ]
    },
    {
      "cell_type": "code",
      "execution_count": null,
      "metadata": {
        "collapsed": false
      },
      "outputs": [],
      "source": [
        "analysis.set_models(model_config)"
      ]
    },
    {
      "cell_type": "markdown",
      "metadata": {},
      "source": [
        "Finally we run the fit:\n\n\n"
      ]
    },
    {
      "cell_type": "code",
      "execution_count": null,
      "metadata": {
        "collapsed": false
      },
      "outputs": [],
      "source": [
        "analysis.run_fit()\n\nprint(analysis.fit_result)"
      ]
    },
    {
      "cell_type": "markdown",
      "metadata": {},
      "source": [
        "This is how we can write the model back to file again:\n\n\n"
      ]
    },
    {
      "cell_type": "code",
      "execution_count": null,
      "metadata": {
        "collapsed": false
      },
      "outputs": [],
      "source": [
        "filename = path / \"model-best-fit.yaml\"\nanalysis.models.write(filename, overwrite=True)\n\nwith filename.open(\"r\") as f:\n    print(f.read())"
      ]
    },
    {
      "cell_type": "markdown",
      "metadata": {},
      "source": [
        "### Flux points\n\n\n"
      ]
    },
    {
      "cell_type": "code",
      "execution_count": null,
      "metadata": {
        "collapsed": false
      },
      "outputs": [],
      "source": [
        "analysis.config.flux_points.source = \"crab\"\n# Example showing how to change the FluxPointsEstimator parameters:\nanalysis.config.flux_points.energy.nbins = 5\nconfig_dict = {\n    \"selection_optional\": \"all\",\n    \"n_sigma\": 2,  # Number of sigma to use for asymmetric error computation\n    \"n_sigma_ul\": 3,  # Number of sigma to use for upper limit computation\n}\nanalysis.config.flux_points.parameters = config_dict\n\nanalysis.get_flux_points()\n\n# Example showing how to change just before plotting the threshold on the signal significance\n# (points vs upper limits), even if this has no effect with this data set.\nfp = analysis.flux_points.data\nfp.sqrt_ts_threshold_ul = 5\nax_sed, ax_residuals = analysis.flux_points.plot_fit()"
      ]
    },
    {
      "cell_type": "markdown",
      "metadata": {},
      "source": [
        "The flux points can be exported to a fits table following the format\ndefined\n[here](https://gamma-astro-data-formats.readthedocs.io/en/latest/spectra/flux_points/index.html)_\n\n\n"
      ]
    },
    {
      "cell_type": "code",
      "execution_count": null,
      "metadata": {
        "collapsed": false
      },
      "outputs": [],
      "source": [
        "filename = path / \"flux-points.fits\"\nanalysis.flux_points.write(filename, overwrite=True)"
      ]
    },
    {
      "cell_type": "markdown",
      "metadata": {},
      "source": [
        "To check the fit is correct, we compute the map of the sqrt_ts of the\nexcess counts above the current model.\n\n\n"
      ]
    },
    {
      "cell_type": "code",
      "execution_count": null,
      "metadata": {
        "collapsed": false
      },
      "outputs": [],
      "source": [
        "analysis.get_excess_map()\nanalysis.excess_map[\"sqrt_ts\"].plot(add_cbar=True, cmap=\"RdBu\", vmin=-5, vmax=5)"
      ]
    },
    {
      "cell_type": "markdown",
      "metadata": {},
      "source": [
        "## What\u2019s next\n\nYou can look at the same analysis without the high level interface in\n:doc:`/tutorials/starting/analysis_2`\n\nYou can see how to perform a 1D spectral analysis of the same data in\n:doc:`/tutorials/analysis-1d/spectral_analysis`\n\n\n"
      ]
    }
  ],
  "metadata": {
    "kernelspec": {
      "display_name": "Python 3",
      "language": "python",
      "name": "python3"
    },
    "language_info": {
      "codemirror_mode": {
        "name": "ipython",
        "version": 3
      },
      "file_extension": ".py",
      "mimetype": "text/x-python",
      "name": "python",
      "nbconvert_exporter": "python",
      "pygments_lexer": "ipython3",
      "version": "3.9.16"
    }
  },
  "nbformat": 4,
  "nbformat_minor": 0
}