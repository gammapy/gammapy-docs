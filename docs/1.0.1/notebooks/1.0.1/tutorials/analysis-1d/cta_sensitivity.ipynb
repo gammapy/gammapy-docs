{
  "cells": [
    {
      "cell_type": "code",
      "execution_count": null,
      "metadata": {
        "collapsed": false
      },
      "outputs": [],
      "source": [
        "%matplotlib inline"
      ]
    },
    {
      "cell_type": "markdown",
      "metadata": {},
      "source": [
        "\n# Point source sensitivity\n\nEstimate the CTA sensitivity for a point-like IRF at a fixed zenith angle and fixed offset.\n\n## Introduction\n\nThis notebook explains how to estimate the CTA sensitivity for a\npoint-like IRF at a fixed zenith angle and fixed offset using the full\ncontainment IRFs distributed for the CTA 1DC. The significance is\ncomputed for a 1D analysis (On-OFF regions) and the LiMa formula.\n\nWe use here an approximate approach with an energy dependent integration\nradius to take into account the variation of the PSF. We will first\ndetermine the 1D IRFs including a containment correction.\n\nWe will be using the following Gammapy class:\n\n-  `~gammapy.estimators.SensitivityEstimator`\n"
      ]
    },
    {
      "cell_type": "code",
      "execution_count": null,
      "metadata": {
        "collapsed": false
      },
      "outputs": [],
      "source": [
        "import numpy as np\nimport astropy.units as u\nfrom astropy.coordinates import SkyCoord\n\n# %matplotlib inline\nimport matplotlib.pyplot as plt"
      ]
    },
    {
      "cell_type": "markdown",
      "metadata": {},
      "source": [
        "## Setup\n\nAs usual, we\u2019ll start with some setup \u2026\n\n\n"
      ]
    },
    {
      "cell_type": "code",
      "execution_count": null,
      "metadata": {
        "collapsed": false
      },
      "outputs": [],
      "source": [
        "from IPython.display import display\nfrom gammapy.data import Observation, observatory_locations\nfrom gammapy.datasets import SpectrumDataset, SpectrumDatasetOnOff\nfrom gammapy.estimators import SensitivityEstimator\nfrom gammapy.irf import load_cta_irfs\nfrom gammapy.makers import SpectrumDatasetMaker\nfrom gammapy.maps import MapAxis, RegionGeom"
      ]
    },
    {
      "cell_type": "markdown",
      "metadata": {},
      "source": [
        "## Check setup\n\n"
      ]
    },
    {
      "cell_type": "code",
      "execution_count": null,
      "metadata": {
        "collapsed": false
      },
      "outputs": [],
      "source": [
        "from gammapy.utils.check import check_tutorials_setup\n\ncheck_tutorials_setup()"
      ]
    },
    {
      "cell_type": "markdown",
      "metadata": {},
      "source": [
        "## Define analysis region and energy binning\n\nHere we assume a source at 0.5 degree from pointing position. We perform\na simple energy independent extraction for now with a radius of 0.1\ndegree.\n\n\n"
      ]
    },
    {
      "cell_type": "code",
      "execution_count": null,
      "metadata": {
        "collapsed": false
      },
      "outputs": [],
      "source": [
        "energy_axis = MapAxis.from_energy_bounds(\"0.03 TeV\", \"30 TeV\", nbin=20)\nenergy_axis_true = MapAxis.from_energy_bounds(\n    \"0.01 TeV\", \"100 TeV\", nbin=100, name=\"energy_true\"\n)\n\ngeom = RegionGeom.create(\"icrs;circle(0, 0.5, 0.1)\", axes=[energy_axis])\n\nempty_dataset = SpectrumDataset.create(geom=geom, energy_axis_true=energy_axis_true)"
      ]
    },
    {
      "cell_type": "markdown",
      "metadata": {},
      "source": [
        "## Load IRFs and prepare dataset\n\nWe extract the 1D IRFs from the full 3D IRFs provided by CTA.\n\n\n"
      ]
    },
    {
      "cell_type": "code",
      "execution_count": null,
      "metadata": {
        "collapsed": false
      },
      "outputs": [],
      "source": [
        "irfs = load_cta_irfs(\n    \"$GAMMAPY_DATA/cta-1dc/caldb/data/cta/1dc/bcf/South_z20_50h/irf_file.fits\"\n)\nlocation = observatory_locations[\"cta_south\"]\npointing = SkyCoord(\"0 deg\", \"0 deg\")\nobs = Observation.create(\n    pointing=pointing, irfs=irfs, livetime=\"5 h\", location=location\n)\n\nspectrum_maker = SpectrumDatasetMaker(selection=[\"exposure\", \"edisp\", \"background\"])\ndataset = spectrum_maker.run(empty_dataset, obs)"
      ]
    },
    {
      "cell_type": "markdown",
      "metadata": {},
      "source": [
        "Now we correct for the energy dependent region size:\n\n\n"
      ]
    },
    {
      "cell_type": "code",
      "execution_count": null,
      "metadata": {
        "collapsed": false
      },
      "outputs": [],
      "source": [
        "containment = 0.68\n\n# correct exposure\ndataset.exposure *= containment\n\n# correct background estimation\non_radii = obs.psf.containment_radius(\n    energy_true=energy_axis.center, offset=0.5 * u.deg, fraction=containment\n)\nfactor = (1 - np.cos(on_radii)) / (1 - np.cos(geom.region.radius))\ndataset.background *= factor.value.reshape((-1, 1, 1))"
      ]
    },
    {
      "cell_type": "markdown",
      "metadata": {},
      "source": [
        "And finally define a `SpectrumDatasetOnOff` with an alpha of ``0.2``.\nThe off counts are created from the background model:\n\n\n"
      ]
    },
    {
      "cell_type": "code",
      "execution_count": null,
      "metadata": {
        "collapsed": false
      },
      "outputs": [],
      "source": [
        "dataset_on_off = SpectrumDatasetOnOff.from_spectrum_dataset(\n    dataset=dataset, acceptance=1, acceptance_off=5\n)"
      ]
    },
    {
      "cell_type": "markdown",
      "metadata": {},
      "source": [
        "## Compute sensitivity\n\nWe impose a minimal number of expected signal counts of 5 per bin and a\nminimal significance of 3 per bin. We assume an alpha of 0.2 (ratio\nbetween ON and OFF area). We then run the sensitivity estimator.\n\n\n"
      ]
    },
    {
      "cell_type": "code",
      "execution_count": null,
      "metadata": {
        "collapsed": false
      },
      "outputs": [],
      "source": [
        "sensitivity_estimator = SensitivityEstimator(\n    gamma_min=5, n_sigma=3, bkg_syst_fraction=0.10\n)\nsensitivity_table = sensitivity_estimator.run(dataset_on_off)"
      ]
    },
    {
      "cell_type": "markdown",
      "metadata": {},
      "source": [
        "## Results\n\nThe results are given as an Astropy table. A column criterion allows to\ndistinguish bins where the significance is limited by the signal\nstatistical significance from bins where the sensitivity is limited by\nthe number of signal counts. This is visible in the plot below.\n\n\n"
      ]
    },
    {
      "cell_type": "code",
      "execution_count": null,
      "metadata": {
        "collapsed": false
      },
      "outputs": [],
      "source": [
        "# Show the results table\ndisplay(sensitivity_table)\n\n# Save it to file (could use e.g. format of CSV or ECSV or FITS)\n# sensitivity_table.write('sensitivity.ecsv', format='ascii.ecsv')\n\n# Plot the sensitivity curve\nt = sensitivity_table\n\nis_s = t[\"criterion\"] == \"significance\"\n\nfig, ax = plt.subplots()\nax.plot(\n    t[\"energy\"][is_s],\n    t[\"e2dnde\"][is_s],\n    \"s-\",\n    color=\"red\",\n    label=\"significance\",\n)\n\nis_g = t[\"criterion\"] == \"gamma\"\nax.plot(t[\"energy\"][is_g], t[\"e2dnde\"][is_g], \"*-\", color=\"blue\", label=\"gamma\")\nis_bkg_syst = t[\"criterion\"] == \"bkg\"\nax.plot(\n    t[\"energy\"][is_bkg_syst],\n    t[\"e2dnde\"][is_bkg_syst],\n    \"v-\",\n    color=\"green\",\n    label=\"bkg syst\",\n)\n\nax.loglog()\nax.set_xlabel(f\"Energy [{t['energy'].unit}]\")\nax.set_ylabel(f\"Sensitivity [{t['e2dnde'].unit}]\")\nax.legend()"
      ]
    },
    {
      "cell_type": "markdown",
      "metadata": {},
      "source": [
        "We add some control plots showing the expected number of background\ncounts per bin and the ON region size cut (here the 68% containment\nradius of the PSF).\n\n\n"
      ]
    },
    {
      "cell_type": "code",
      "execution_count": null,
      "metadata": {
        "collapsed": false
      },
      "outputs": [],
      "source": [
        "# Plot expected number of counts for signal and background\nfig, ax1 = plt.subplots()\n# ax1.plot( t[\"energy\"], t[\"excess\"],\"o-\", color=\"red\", label=\"signal\")\nax1.plot(t[\"energy\"], t[\"background\"], \"o-\", color=\"black\", label=\"blackground\")\n\nax1.loglog()\nax1.set_xlabel(f\"Energy [{t['energy'].unit}]\")\nax1.set_ylabel(\"Expected number of bkg counts\")\n\nax2 = ax1.twinx()\nax2.set_ylabel(f\"ON region radius [{on_radii.unit}]\", color=\"red\")\nax2.semilogy(t[\"energy\"], on_radii, color=\"red\", label=\"PSF68\")\nax2.tick_params(axis=\"y\", labelcolor=\"red\")\nax2.set_ylim(0.01, 0.5)\nplt.show()"
      ]
    },
    {
      "cell_type": "markdown",
      "metadata": {},
      "source": [
        "## Exercises\n\n-  Also compute the sensitivity for a 20 hour observation\n-  Compare how the sensitivity differs between 5 and 20 hours by\n   plotting the ratio as a function of energy.\n\n\n"
      ]
    }
  ],
  "metadata": {
    "kernelspec": {
      "display_name": "Python 3",
      "language": "python",
      "name": "python3"
    },
    "language_info": {
      "codemirror_mode": {
        "name": "ipython",
        "version": 3
      },
      "file_extension": ".py",
      "mimetype": "text/x-python",
      "name": "python",
      "nbconvert_exporter": "python",
      "pygments_lexer": "ipython3",
      "version": "3.9.16"
    }
  },
  "nbformat": 4,
  "nbformat_minor": 0
}