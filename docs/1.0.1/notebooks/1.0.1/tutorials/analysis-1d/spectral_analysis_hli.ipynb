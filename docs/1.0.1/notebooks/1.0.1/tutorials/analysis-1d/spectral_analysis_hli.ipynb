{
  "cells": [
    {
      "cell_type": "code",
      "execution_count": null,
      "metadata": {
        "collapsed": false
      },
      "outputs": [],
      "source": [
        "%matplotlib inline"
      ]
    },
    {
      "cell_type": "markdown",
      "metadata": {},
      "source": [
        "\n# Spectral analysis with the HLI\n\nIntroduction to 1D analysis using the Gammapy high level interface.\n\n## Prerequisites\n\n-  Understanding the gammapy data workflow, in particular what are DL3\n   events and instrument response functions (IRF).\n\n## Context\n\nThis notebook is an introduction to gammapy analysis using the high\nlevel interface.\n\nGammapy analysis consists in two main steps.\n\nThe first one is data reduction: user selected observations are reduced\nto a geometry defined by the user. It can be 1D (spectrum from a given\nextraction region) or 3D (with a sky projection and an energy axis). The\nresulting reduced data and instrument response functions (IRF) are\ncalled datasets in Gammapy.\n\nThe second step consists in setting a physical model on the datasets and\nfitting it to obtain relevant physical information.\n\n**Objective: Create a 1D dataset of the Crab using the H.E.S.S. DL3 data\nrelease 1 and perform a simple model fitting of the Crab nebula.**\n\n## Proposed approach\n\nThis notebook uses the high level `~gammapy.analysis.Analysis` class to orchestrate data\nreduction and run the data fits. In its current state, `Analysis`\nsupports the standard analysis cases of joint or stacked 3D and 1D\nanalyses. It is instantiated with an `~gammapy.analysis.AnalysisConfig` object that\ngives access to analysis parameters either directly or via a YAML config\nfile.\n\nTo see what is happening under-the-hood and to get an idea of the\ninternal API, a second notebook performs the same analysis without using\nthe `~gammapy.analysis.Analysis` class.\n\nIn summary, we have to:\n\n-  Create an `~gammapy.analysis.AnalysisConfig` object and the\n   analysis configuration:\n\n   -  Define what observations to use\n   -  Define the geometry of the dataset (data and IRFs)\n   -  Define the model we want to fit on the dataset.\n\n-  Instantiate a `~gammapy.analysis.Analysis` from this configuration\n   and run the different analysis steps\n\n   -  Observation selection\n   -  Data reduction\n   -  Model fitting\n   -  Estimating flux points\n"
      ]
    },
    {
      "cell_type": "code",
      "execution_count": null,
      "metadata": {
        "collapsed": false
      },
      "outputs": [],
      "source": [
        "from pathlib import Path\n\n# %matplotlib inline\nimport matplotlib.pyplot as plt"
      ]
    },
    {
      "cell_type": "markdown",
      "metadata": {},
      "source": [
        "## Setup\n\n\n"
      ]
    },
    {
      "cell_type": "code",
      "execution_count": null,
      "metadata": {
        "collapsed": false
      },
      "outputs": [],
      "source": [
        "from IPython.display import display\nfrom gammapy.analysis import Analysis, AnalysisConfig\nfrom gammapy.modeling.models import Models"
      ]
    },
    {
      "cell_type": "markdown",
      "metadata": {},
      "source": [
        "## Check setup\n\n"
      ]
    },
    {
      "cell_type": "code",
      "execution_count": null,
      "metadata": {
        "collapsed": false
      },
      "outputs": [],
      "source": [
        "from gammapy.utils.check import check_tutorials_setup\n\ncheck_tutorials_setup()"
      ]
    },
    {
      "cell_type": "markdown",
      "metadata": {},
      "source": [
        "## Analysis configuration\n\nFor configuration of the analysis we use the\n[YAML](https://en.wikipedia.org/wiki/YAML)_ data format. YAML is a\nmachine readable serialisation format, that is also friendly for humans\nto read. In this tutorial we will write the configuration file just\nusing Python strings, but of course the file can be created and modified\nwith any text editor of your choice.\n\nHere is what the configuration for our analysis looks like:\n\n\n"
      ]
    },
    {
      "cell_type": "code",
      "execution_count": null,
      "metadata": {
        "collapsed": false
      },
      "outputs": [],
      "source": [
        "yaml_str = \"\"\"\nobservations:\n    datastore: $GAMMAPY_DATA/hess-dl3-dr1\n    obs_cone: {frame: icrs, lon: 83.633 deg, lat: 22.014 deg, radius: 5 deg}\n\ndatasets:\n    type: 1d\n    stack: true\n    geom:\n        axes:\n            energy: {min: 0.5 TeV, max: 30 TeV, nbins: 20}\n            energy_true: {min: 0.1 TeV, max: 50 TeV, nbins: 40}\n    on_region: {frame: icrs, lon: 83.633 deg, lat: 22.014 deg, radius: 0.11 deg}\n    containment_correction: true\n    safe_mask:\n       methods: ['aeff-default', 'aeff-max']\n       parameters: {aeff_percent: 0.1}\n    background:\n        method: reflected\nfit:\n    fit_range: {min: 1 TeV, max: 20 TeV}\n\nflux_points:\n    energy: {min: 1 TeV, max: 20 TeV, nbins: 8}\n    source: 'crab'\n\"\"\"\n\nconfig = AnalysisConfig.from_yaml(yaml_str)\nprint(config)"
      ]
    },
    {
      "cell_type": "markdown",
      "metadata": {},
      "source": [
        "Note that you can save this string into a yaml file and load it as\nfollow:\n\n\n"
      ]
    },
    {
      "cell_type": "code",
      "execution_count": null,
      "metadata": {
        "collapsed": false
      },
      "outputs": [],
      "source": [
        "# config = AnalysisConfig.read(\"config-1d.yaml\")\n# # the AnalysisConfig gives access to the various parameters used from logging to reduced dataset geometries\n# print(config)"
      ]
    },
    {
      "cell_type": "markdown",
      "metadata": {},
      "source": [
        "### Using data stored into your computer\n\n\n"
      ]
    },
    {
      "cell_type": "markdown",
      "metadata": {},
      "source": [
        "Here, we want to use Crab runs from the H.E.S.S. DL3-DR1. We have\ndefined the datastore and a cone search of observations pointing with 5\ndegrees of the Crab nebula. Parameters can be set directly or as a\npython dict.\n\nPS: do not forget to setup your environment variable *$GAMMAPY_DATA* to\nyour local directory containing the H.E.S.S. DL3-DR1 as described in\n`quickstart-setup`.\n\n\n"
      ]
    },
    {
      "cell_type": "markdown",
      "metadata": {},
      "source": [
        "### Setting the exclusion mask\n\n\n"
      ]
    },
    {
      "cell_type": "markdown",
      "metadata": {},
      "source": [
        "In order to properly adjust the background normalisation on regions\nwithout gamma-ray signal, one needs to define an exclusion mask for the\nbackground normalisation. For this tutorial, we use the following one\n`$GAMMAPY_DATA/joint-crab/exclusion/exclusion_mask_crab.fits.gz`\n\n\n"
      ]
    },
    {
      "cell_type": "code",
      "execution_count": null,
      "metadata": {
        "collapsed": false
      },
      "outputs": [],
      "source": [
        "config.datasets.background.exclusion = (\n    \"$GAMMAPY_DATA/joint-crab/exclusion/exclusion_mask_crab.fits.gz\"\n)"
      ]
    },
    {
      "cell_type": "markdown",
      "metadata": {},
      "source": [
        "We\u2019re all set. But before we go on let\u2019s see how to save or import\n`~gammapy.analysis.AnalysisConfig` objects though YAML files.\n\n\n"
      ]
    },
    {
      "cell_type": "markdown",
      "metadata": {},
      "source": [
        "### Using YAML configuration files for setting/writing the Data Reduction parameters\n\nOne can export/import the `~gammapy.analysis.AnalysisConfig` to/from a YAML file.\n\n\n"
      ]
    },
    {
      "cell_type": "code",
      "execution_count": null,
      "metadata": {
        "collapsed": false
      },
      "outputs": [],
      "source": [
        "config.write(\"config.yaml\", overwrite=True)\n\nconfig = AnalysisConfig.read(\"config.yaml\")\nprint(config)"
      ]
    },
    {
      "cell_type": "markdown",
      "metadata": {},
      "source": [
        "## Running the first step of the analysis: the Data Reduction\n\n\n"
      ]
    },
    {
      "cell_type": "markdown",
      "metadata": {},
      "source": [
        "### Configuration of the analysis\n\nWe first create an `~gammapy.analysis.Analysis` object from our\nconfiguration.\n\n\n"
      ]
    },
    {
      "cell_type": "code",
      "execution_count": null,
      "metadata": {
        "collapsed": false
      },
      "outputs": [],
      "source": [
        "analysis = Analysis(config)"
      ]
    },
    {
      "cell_type": "markdown",
      "metadata": {},
      "source": [
        "### Observation selection\n\nWe can directly select and load the observations from disk using\n`~gammapy.analysis.Analysis.get_observations()`:\n\n\n"
      ]
    },
    {
      "cell_type": "code",
      "execution_count": null,
      "metadata": {
        "collapsed": false
      },
      "outputs": [],
      "source": [
        "analysis.get_observations()"
      ]
    },
    {
      "cell_type": "markdown",
      "metadata": {},
      "source": [
        "The observations are now available on the `Analysis` object. The\nselection corresponds to the following ids:\n\n\n"
      ]
    },
    {
      "cell_type": "code",
      "execution_count": null,
      "metadata": {
        "collapsed": false
      },
      "outputs": [],
      "source": [
        "print(analysis.observations.ids)"
      ]
    },
    {
      "cell_type": "markdown",
      "metadata": {},
      "source": [
        "To see how to explore observations, please refer to the following\nnotebook: :doc:`/tutorials/data/cta` or :doc:`/tutorials/data/hess`\n\n\n"
      ]
    },
    {
      "cell_type": "markdown",
      "metadata": {},
      "source": [
        "### Running the Data Reduction\n\nNow we proceed to the data reduction. In the config file we have chosen\na WCS map geometry, energy axis and decided to stack the maps. We can\nrun the reduction using `.get_datasets()`:\n\n\n"
      ]
    },
    {
      "cell_type": "code",
      "execution_count": null,
      "metadata": {
        "collapsed": false
      },
      "outputs": [],
      "source": [
        "analysis.get_datasets()"
      ]
    },
    {
      "cell_type": "markdown",
      "metadata": {},
      "source": [
        "### Results exploration\n\nAs we have chosen to stack the data, one can print what contains the\nunique entry of the datasets:\n\n\n"
      ]
    },
    {
      "cell_type": "code",
      "execution_count": null,
      "metadata": {
        "collapsed": false
      },
      "outputs": [],
      "source": [
        "print(analysis.datasets[0])"
      ]
    },
    {
      "cell_type": "markdown",
      "metadata": {},
      "source": [
        "As you can see the dataset uses WStat with the background computed with\nthe Reflected Background method during the data reduction, but no source\nmodel has been set yet.\n\nThe counts, exposure and background, etc are directly available on the\ndataset and can be printed:\n\n\n"
      ]
    },
    {
      "cell_type": "code",
      "execution_count": null,
      "metadata": {
        "collapsed": false
      },
      "outputs": [],
      "source": [
        "info_table = analysis.datasets.info_table()\ninfo_table\n\nprint(\n    f\"Tobs={info_table['livetime'].to('h')[0]:.1f} Excess={info_table['excess'].value[0]:.1f} \\\nSignificance={info_table['sqrt_ts'][0]:.2f}\"\n)"
      ]
    },
    {
      "cell_type": "markdown",
      "metadata": {},
      "source": [
        "### Save dataset to disk\n\nIt is common to run the preparation step independent of the likelihood\nfit, because often the preparation of counts, collection are and energy\ndispersion is slow if you have a lot of data. We first create a folder:\n\n\n"
      ]
    },
    {
      "cell_type": "code",
      "execution_count": null,
      "metadata": {
        "collapsed": false
      },
      "outputs": [],
      "source": [
        "path = Path(\"hli_spectrum_analysis\")\npath.mkdir(exist_ok=True)"
      ]
    },
    {
      "cell_type": "markdown",
      "metadata": {},
      "source": [
        "And then write the stacked dataset to disk by calling the dedicated\n`write()` method:\n\n\n"
      ]
    },
    {
      "cell_type": "code",
      "execution_count": null,
      "metadata": {
        "collapsed": false
      },
      "outputs": [],
      "source": [
        "filename = path / \"crab-stacked-dataset.fits.gz\"\nanalysis.datasets.write(filename, overwrite=True)"
      ]
    },
    {
      "cell_type": "markdown",
      "metadata": {},
      "source": [
        "## Model fitting\n\n\n"
      ]
    },
    {
      "cell_type": "markdown",
      "metadata": {},
      "source": [
        "### Creation of the model\n\nFirst, let\u2019s create a model to be adjusted. As we are performing a 1D\nAnalysis, only a spectral model is needed within the `SkyModel`\nobject. Here is a pre-defined YAML configuration file created for this\n1D analysis:\n\n\n"
      ]
    },
    {
      "cell_type": "code",
      "execution_count": null,
      "metadata": {
        "collapsed": false
      },
      "outputs": [],
      "source": [
        "model_str = \"\"\"\ncomponents:\n- name: crab\n  type: SkyModel\n  spectral:\n    type: PowerLawSpectralModel\n    parameters:\n      - name: index\n        frozen: false\n        scale: 1.0\n        unit: ''\n        value: 2.6\n      - name: amplitude\n        frozen: false\n        scale: 1.0\n        unit: cm-2 s-1 TeV-1\n        value: 5.0e-11\n      - name: reference\n        frozen: true\n        scale: 1.0\n        unit: TeV\n        value: 1.0\n\"\"\"\nmodel_1d = Models.from_yaml(model_str)\nprint(model_1d)"
      ]
    },
    {
      "cell_type": "markdown",
      "metadata": {},
      "source": [
        "Or from a yaml file, e.g.\n\n\n"
      ]
    },
    {
      "cell_type": "code",
      "execution_count": null,
      "metadata": {
        "collapsed": false
      },
      "outputs": [],
      "source": [
        "# model_1d = Models.read(\"model-1d.yaml\")\n# print(model_1d)"
      ]
    },
    {
      "cell_type": "markdown",
      "metadata": {},
      "source": [
        "Now we set the model on the analysis object:\n\n\n"
      ]
    },
    {
      "cell_type": "code",
      "execution_count": null,
      "metadata": {
        "collapsed": false
      },
      "outputs": [],
      "source": [
        "analysis.set_models(model_1d)"
      ]
    },
    {
      "cell_type": "markdown",
      "metadata": {},
      "source": [
        "### Setting fitting parameters\n\n`Analysis` can perform a few modeling and fitting tasks besides data\nreduction. Parameters have then to be passed to the configuration\nobject.\n\n\n"
      ]
    },
    {
      "cell_type": "markdown",
      "metadata": {},
      "source": [
        "### Running the fit\n\n\n"
      ]
    },
    {
      "cell_type": "code",
      "execution_count": null,
      "metadata": {
        "collapsed": false
      },
      "outputs": [],
      "source": [
        "analysis.run_fit()"
      ]
    },
    {
      "cell_type": "markdown",
      "metadata": {},
      "source": [
        "### Exploration of the fit results\n\n\n"
      ]
    },
    {
      "cell_type": "code",
      "execution_count": null,
      "metadata": {
        "collapsed": false
      },
      "outputs": [],
      "source": [
        "print(analysis.fit_result)\n\ndisplay(model_1d.to_parameters_table())"
      ]
    },
    {
      "cell_type": "markdown",
      "metadata": {},
      "source": [
        "To check the fit is correct, we compute the excess spectrum with the\npredicted counts.\n\n\n"
      ]
    },
    {
      "cell_type": "code",
      "execution_count": null,
      "metadata": {
        "collapsed": false
      },
      "outputs": [],
      "source": [
        "ax_spectrum, ax_residuals = analysis.datasets[0].plot_fit()\nax_spectrum.set_ylim(0.1, 200)\nax_spectrum.set_xlim(0.2, 60)\nax_residuals.set_xlim(0.2, 60)\nanalysis.datasets[0].plot_masks(ax=ax_spectrum)"
      ]
    },
    {
      "cell_type": "markdown",
      "metadata": {},
      "source": [
        "### Serialisation of the fit result\n\nThis is how we can write the model back to file again:\n\n\n"
      ]
    },
    {
      "cell_type": "code",
      "execution_count": null,
      "metadata": {
        "collapsed": false
      },
      "outputs": [],
      "source": [
        "filename = path / \"model-best-fit.yaml\"\nanalysis.models.write(filename, overwrite=True)\n\nwith filename.open(\"r\") as f:\n    print(f.read())"
      ]
    },
    {
      "cell_type": "markdown",
      "metadata": {},
      "source": [
        "## Creation of the Flux points\n\n\n"
      ]
    },
    {
      "cell_type": "markdown",
      "metadata": {},
      "source": [
        "### Running the estimation\n\n\n"
      ]
    },
    {
      "cell_type": "code",
      "execution_count": null,
      "metadata": {
        "collapsed": false
      },
      "outputs": [],
      "source": [
        "analysis.get_flux_points()\n\ncrab_fp = analysis.flux_points.data\ncrab_fp_table = crab_fp.to_table(sed_type=\"dnde\", formatted=True)\ndisplay(crab_fp_table)"
      ]
    },
    {
      "cell_type": "markdown",
      "metadata": {},
      "source": [
        "Let\u2019s plot the flux points with their likelihood profile\n\n\n"
      ]
    },
    {
      "cell_type": "code",
      "execution_count": null,
      "metadata": {
        "collapsed": false
      },
      "outputs": [],
      "source": [
        "fig, ax_sed = plt.subplots()\ncrab_fp.plot(ax=ax_sed, sed_type=\"e2dnde\", color=\"darkorange\")\nax_sed.set_ylim(1.0e-12, 2.0e-10)\nax_sed.set_xlim(0.5, 40)\ncrab_fp.plot_ts_profiles(ax=ax_sed, sed_type=\"e2dnde\")"
      ]
    },
    {
      "cell_type": "markdown",
      "metadata": {},
      "source": [
        "### Serialisation of the results\n\nThe flux points can be exported to a fits table following the format\ndefined\n[here](https://gamma-astro-data-formats.readthedocs.io/en/latest/spectra/flux_points/index.html)_\n\n\n"
      ]
    },
    {
      "cell_type": "code",
      "execution_count": null,
      "metadata": {
        "collapsed": false
      },
      "outputs": [],
      "source": [
        "filename = path / \"flux-points.fits\"\nanalysis.flux_points.write(filename, overwrite=True)"
      ]
    },
    {
      "cell_type": "markdown",
      "metadata": {},
      "source": [
        "## Plotting the final results of the 1D Analysis\n\n\n"
      ]
    },
    {
      "cell_type": "markdown",
      "metadata": {},
      "source": [
        "We can plot of the spectral fit with its error band overlaid with the\nflux points:\n\n\n"
      ]
    },
    {
      "cell_type": "code",
      "execution_count": null,
      "metadata": {
        "collapsed": false
      },
      "outputs": [],
      "source": [
        "ax_sed, ax_residuals = analysis.flux_points.plot_fit()\nax_sed.set_ylim(1.0e-12, 1.0e-9)\nax_sed.set_xlim(0.5, 40)\nplt.show()"
      ]
    },
    {
      "cell_type": "markdown",
      "metadata": {},
      "source": [
        "## What\u2019s next?\n\nYou can look at the same analysis without the high level interface in\n:doc:`/tutorials/analysis-1d/spectral_analysis`\n\nAs we can store the best model fit, you can overlaid the fit results of\nboth methods on an unique plot.\n\n\n"
      ]
    }
  ],
  "metadata": {
    "kernelspec": {
      "display_name": "Python 3",
      "language": "python",
      "name": "python3"
    },
    "language_info": {
      "codemirror_mode": {
        "name": "ipython",
        "version": 3
      },
      "file_extension": ".py",
      "mimetype": "text/x-python",
      "name": "python",
      "nbconvert_exporter": "python",
      "pygments_lexer": "ipython3",
      "version": "3.9.16"
    }
  },
  "nbformat": 4,
  "nbformat_minor": 0
}