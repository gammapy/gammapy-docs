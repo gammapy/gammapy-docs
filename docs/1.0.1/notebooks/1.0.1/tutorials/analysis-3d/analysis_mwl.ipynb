{
  "cells": [
    {
      "cell_type": "code",
      "execution_count": null,
      "metadata": {
        "collapsed": false
      },
      "outputs": [],
      "source": [
        "%matplotlib inline"
      ]
    },
    {
      "cell_type": "markdown",
      "metadata": {},
      "source": [
        "\n# Multi instrument joint 3D and 1D analysis\n\nJoint 3D analysis using 3D Fermi datasets, a H.E.S.S. reduced spectrum and HAWC flux points.\n\n## Prerequisites\n\n-  Handling of Fermi-LAT data with Gammapy see the :doc:`/tutorials/data/fermi_lat` tutorial.\n-  Knowledge of spectral analysis to produce 1D On-Off datasets, see\n   the following :doc:`/tutorials/analysis-1d/spectral_analysis` tutorial.\n-  Using flux points to directly fit a model (without forward-folding) from the \n   :doc:`/tutorials/analysis-1d/sed_fitting` tutorial.\n\n## Context\n\nSome science studies require to combine heterogeneous data from various\ninstruments to extract physical information. In particular, it is often\nuseful to add flux measurements of a source at different energies to an\nanalysis to better constrain the wide-band spectral parameters. This can\nbe done using a joint fit of heterogeneous datasets.\n\n**Objectives: Constrain the spectral parameters of the gamma-ray\nemission from the Crab nebula between 10 GeV and 100 TeV, using a 3D\nFermi dataset, a H.E.S.S. reduced spectrum and HAWC flux points.**\n\n## Proposed approach\n\nThis tutorial illustrates how to perform a joint modeling and fitting of\nthe Crab Nebula spectrum using different datasets. The spectral\nparameters are optimized by combining a 3D analysis of Fermi-LAT data, a\nON/OFF spectral analysis of HESS data, and flux points from HAWC.\n\nIn this tutorial we are going to use pre-made datasets. We prepared maps\nof the Crab region as seen by Fermi-LAT using the same event selection\nthan the [3FHL catalog](https://arxiv.org/abs/1702.00664)_ (7 years of\ndata with energy from 10 GeV to 2 TeV). For the HESS ON/OFF analysis we\nused two observations from the [first public data\nrelease](https://arxiv.org/abs/1810.04516)_ with a significant signal\nfrom energy of about 600 GeV to 10 TeV. These observations have an\noffset of 0.5\u00b0 and a zenith angle of 45-48\u00b0. The HAWC flux points data\nare taken from a [recent\nanalysis](https://arxiv.org/pdf/1905.12518.pdf)_ based on 2.5 years of\ndata with energy between 300 Gev and 300 TeV.\n\n## The setup\n"
      ]
    },
    {
      "cell_type": "code",
      "execution_count": null,
      "metadata": {
        "collapsed": false
      },
      "outputs": [],
      "source": [
        "from pathlib import Path\nfrom astropy import units as u\nimport matplotlib.pyplot as plt\nfrom gammapy.datasets import Datasets, FluxPointsDataset, SpectrumDatasetOnOff\nfrom gammapy.estimators import FluxPoints, FluxPointsEstimator\nfrom gammapy.maps import MapAxis\nfrom gammapy.modeling import Fit\nfrom gammapy.modeling.models import Models, create_crab_spectral_model"
      ]
    },
    {
      "cell_type": "markdown",
      "metadata": {},
      "source": [
        "## Check setup\n\n"
      ]
    },
    {
      "cell_type": "code",
      "execution_count": null,
      "metadata": {
        "collapsed": false
      },
      "outputs": [],
      "source": [
        "from gammapy.utils.check import check_tutorials_setup\nfrom gammapy.utils.scripts import make_path\n\ncheck_tutorials_setup()"
      ]
    },
    {
      "cell_type": "markdown",
      "metadata": {},
      "source": [
        "## Data and models files\n\nThe datasets serialization produce YAML files listing the datasets and\nmodels. In the following cells we show an example containning only the\nFermi-LAT dataset and the Crab model.\n\nFermi-LAT-3FHL_datasets.yaml:\n\n\n"
      ]
    },
    {
      "cell_type": "code",
      "execution_count": null,
      "metadata": {
        "collapsed": false
      },
      "outputs": [],
      "source": [
        "path = make_path(\"$GAMMAPY_DATA/fermi-3fhl-crab/Fermi-LAT-3FHL_datasets.yaml\")\n\nwith path.open(\"r\") as f:\n    print(f.read())"
      ]
    },
    {
      "cell_type": "markdown",
      "metadata": {},
      "source": [
        "We used as model a point source with a log-parabola spectrum. The\ninitial parameters were taken from the latest Fermi-LAT catalog\n[4FGL](https://arxiv.org/abs/1902.10045)_, then we have re-optimized\nthe spectral parameters for our dataset in the 10 GeV - 2 TeV energy\nrange (fixing the source position).\n\nFermi-LAT-3FHL_models.yaml:\n\n\n"
      ]
    },
    {
      "cell_type": "code",
      "execution_count": null,
      "metadata": {
        "collapsed": false
      },
      "outputs": [],
      "source": [
        "path = make_path(\"$GAMMAPY_DATA/fermi-3fhl-crab/Fermi-LAT-3FHL_models.yaml\")\n\nwith path.open(\"r\") as f:\n    print(f.read())"
      ]
    },
    {
      "cell_type": "markdown",
      "metadata": {},
      "source": [
        "## Reading different datasets\n\n### Fermi-LAT 3FHL: map dataset for 3D analysis\n\nFor now we let\u2019s use the datasets serialization only to read the 3D\n`MapDataset` associated to Fermi-LAT 3FHL data and models.\n\n\n"
      ]
    },
    {
      "cell_type": "code",
      "execution_count": null,
      "metadata": {
        "collapsed": false
      },
      "outputs": [],
      "source": [
        "path = Path(\"$GAMMAPY_DATA/fermi-3fhl-crab\")\nfilename = path / \"Fermi-LAT-3FHL_datasets.yaml\"\n\ndatasets = Datasets.read(filename=filename)\n\nmodels = Models.read(path / \"Fermi-LAT-3FHL_models.yaml\")\nprint(models)"
      ]
    },
    {
      "cell_type": "markdown",
      "metadata": {},
      "source": [
        "We get the Crab model in order to share it with the other datasets\n\n\n"
      ]
    },
    {
      "cell_type": "code",
      "execution_count": null,
      "metadata": {
        "collapsed": false
      },
      "outputs": [],
      "source": [
        "print(models[\"Crab Nebula\"])"
      ]
    },
    {
      "cell_type": "markdown",
      "metadata": {},
      "source": [
        "### HESS-DL3: 1D ON/OFF dataset for spectral fitting\n\nThe ON/OFF datasets can be read from PHA files following the [OGIP\nstandards](https://heasarc.gsfc.nasa.gov/docs/heasarc/ofwg/docs/spectra/ogip_92_007/node5.html)_.\nWe read the PHA files from each observation, and compute a stacked\ndataset for simplicity. Then the Crab spectral model previously defined\nis added to the dataset.\n\n\n"
      ]
    },
    {
      "cell_type": "code",
      "execution_count": null,
      "metadata": {
        "collapsed": false
      },
      "outputs": [],
      "source": [
        "datasets_hess = Datasets()\n\nfor obs_id in [23523, 23526]:\n    dataset = SpectrumDatasetOnOff.read(\n        f\"$GAMMAPY_DATA/joint-crab/spectra/hess/pha_obs{obs_id}.fits\"\n    )\n    datasets_hess.append(dataset)\n\ndataset_hess = datasets_hess.stack_reduce(name=\"HESS\")\n\ndatasets.append(dataset_hess)\n\nprint(datasets)"
      ]
    },
    {
      "cell_type": "markdown",
      "metadata": {},
      "source": [
        "### HAWC: 1D dataset for flux point fitting\n\nThe HAWC flux point are taken from https://arxiv.org/pdf/1905.12518.pdf\nThen these flux points are read from a pre-made FITS file and passed to\na `FluxPointsDataset` together with the source spectral model.\n\n\n"
      ]
    },
    {
      "cell_type": "code",
      "execution_count": null,
      "metadata": {
        "collapsed": false
      },
      "outputs": [],
      "source": [
        "# read flux points from https://arxiv.org/pdf/1905.12518.pdf\nfilename = \"$GAMMAPY_DATA/hawc_crab/HAWC19_flux_points.fits\"\nflux_points_hawc = FluxPoints.read(\n    filename, reference_model=create_crab_spectral_model(\"meyer\")\n)\n\ndataset_hawc = FluxPointsDataset(data=flux_points_hawc, name=\"HAWC\")\n\ndatasets.append(dataset_hawc)\n\nprint(datasets)"
      ]
    },
    {
      "cell_type": "markdown",
      "metadata": {},
      "source": [
        "## Datasets serialization\n\nThe `datasets` object contains each dataset previously defined. It can\nbe saved on disk as datasets.yaml, models.yaml, and several data files\nspecific to each dataset. Then the `datasets` can be rebuild later\nfrom these files.\n\n\n"
      ]
    },
    {
      "cell_type": "code",
      "execution_count": null,
      "metadata": {
        "collapsed": false
      },
      "outputs": [],
      "source": [
        "path = Path(\"crab-3datasets\")\npath.mkdir(exist_ok=True)\n\nfilename = path / \"crab_10GeV_100TeV_datasets.yaml\"\n\ndatasets.write(filename, overwrite=True)\n\ndatasets = Datasets.read(filename)\ndatasets.models = models\n\nprint(datasets)"
      ]
    },
    {
      "cell_type": "markdown",
      "metadata": {},
      "source": [
        "## Joint analysis\n\nWe run the fit on the `Datasets` object that include a dataset for\neach instrument\n\n\n"
      ]
    },
    {
      "cell_type": "code",
      "execution_count": null,
      "metadata": {
        "collapsed": false
      },
      "outputs": [],
      "source": [
        "fit_joint = Fit()\nresults_joint = fit_joint.run(datasets=datasets)\nprint(results_joint)"
      ]
    },
    {
      "cell_type": "markdown",
      "metadata": {},
      "source": [
        "Let\u2019s display only the parameters of the Crab spectral model\n\n\n"
      ]
    },
    {
      "cell_type": "code",
      "execution_count": null,
      "metadata": {
        "collapsed": false
      },
      "outputs": [],
      "source": [
        "crab_spec = datasets[0].models[\"Crab Nebula\"].spectral_model\nprint(crab_spec)"
      ]
    },
    {
      "cell_type": "markdown",
      "metadata": {},
      "source": [
        "We can compute flux points for Fermi-LAT and HESS datasets in order plot\nthem together with the HAWC flux point.\n\n\n"
      ]
    },
    {
      "cell_type": "code",
      "execution_count": null,
      "metadata": {
        "collapsed": false
      },
      "outputs": [],
      "source": [
        "# compute Fermi-LAT and HESS flux points\nenergy_edges = MapAxis.from_energy_bounds(\"10 GeV\", \"2 TeV\", nbin=5).edges\n\nflux_points_fermi = FluxPointsEstimator(\n    energy_edges=energy_edges,\n    source=\"Crab Nebula\",\n).run([datasets[\"Fermi-LAT\"]])\n\n\nenergy_edges = MapAxis.from_bounds(1, 15, nbin=6, interp=\"log\", unit=\"TeV\").edges\n\nflux_points_hess = FluxPointsEstimator(\n    energy_edges=energy_edges, source=\"Crab Nebula\", selection_optional=[\"ul\"]\n).run([datasets[\"HESS\"]])"
      ]
    },
    {
      "cell_type": "markdown",
      "metadata": {},
      "source": [
        "Now, Let\u2019s plot the Crab spectrum fitted and the flux points of each\ninstrument.\n\n\n"
      ]
    },
    {
      "cell_type": "code",
      "execution_count": null,
      "metadata": {
        "collapsed": false
      },
      "outputs": [],
      "source": [
        "# display spectrum and flux points\nfig, ax = plt.subplots(figsize=(8, 6))\n\nenergy_bounds = [0.01, 300] * u.TeV\nsed_type = \"e2dnde\"\n\ncrab_spec.plot(ax=ax, energy_bounds=energy_bounds, sed_type=sed_type, label=\"Model\")\ncrab_spec.plot_error(ax=ax, energy_bounds=energy_bounds, sed_type=sed_type)\n\nflux_points_fermi.plot(ax=ax, sed_type=sed_type, label=\"Fermi-LAT\")\nflux_points_hess.plot(ax=ax, sed_type=sed_type, label=\"HESS\")\nflux_points_hawc.plot(ax=ax, sed_type=sed_type, label=\"HAWC\")\n\nax.set_xlim(energy_bounds)\nax.legend()\nplt.show()"
      ]
    }
  ],
  "metadata": {
    "kernelspec": {
      "display_name": "Python 3",
      "language": "python",
      "name": "python3"
    },
    "language_info": {
      "codemirror_mode": {
        "name": "ipython",
        "version": 3
      },
      "file_extension": ".py",
      "mimetype": "text/x-python",
      "name": "python",
      "nbconvert_exporter": "python",
      "pygments_lexer": "ipython3",
      "version": "3.9.16"
    }
  },
  "nbformat": 4,
  "nbformat_minor": 0
}