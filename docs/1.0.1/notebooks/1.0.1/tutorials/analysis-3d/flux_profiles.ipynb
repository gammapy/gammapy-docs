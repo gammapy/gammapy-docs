{
  "cells": [
    {
      "cell_type": "code",
      "execution_count": null,
      "metadata": {
        "collapsed": false
      },
      "outputs": [],
      "source": [
        "%matplotlib inline"
      ]
    },
    {
      "cell_type": "markdown",
      "metadata": {},
      "source": [
        "\n# Flux Profile Estimation\n\nLearn how to estimate flux profiles on a Fermi-LAT dataset.\n\n## Prerequisites\n\nKnowledge of 3D data reduction and datasets used in Gammapy, see for\ninstance the first analysis tutorial.\n\n## Context\n\nA useful tool to study and compare the saptial distribution of flux in\nimages and data cubes is the measurement of flxu profiles. Flux profiles\ncan show spatial correlations of gamma-ray data with e.g.\u00a0gas maps or\nother type of gamma-ray data. Most commonly flux profiles are measured\nalong some preferred coordinate axis, either radially distance from a\nsource of interest, along longitude and latitude coordinate axes or\nalong the path defined by two spatial coordinates.\n\n## Proposed Approach\n\nFlux profile estimation essentially works by estimating flux points for\na set of predefined spatially connected regions. For radial flux\nprofiles the shape of the regions are annuli with a common center, for\nlinear profiles it\u2019s typically a rectangular shape.\n\nWe will work on a pre-computed `~gammapy.datasets.MapDataset` of Fermi-LAT data, use\n`~regions.SkyRegion` to define the structure of the bins of the flux profile and\nrun the actually profile extraction using the `~gammapy.estimators.FluxProfileEstimator`\n"
      ]
    },
    {
      "cell_type": "code",
      "execution_count": null,
      "metadata": {
        "collapsed": false
      },
      "outputs": [],
      "source": [
        "import numpy as np\nfrom astropy import units as u\nfrom astropy.coordinates import SkyCoord\n\n# %matplotlib inline\nimport matplotlib.pyplot as plt"
      ]
    },
    {
      "cell_type": "markdown",
      "metadata": {},
      "source": [
        "## Setup\n\n\n"
      ]
    },
    {
      "cell_type": "code",
      "execution_count": null,
      "metadata": {
        "collapsed": false
      },
      "outputs": [],
      "source": [
        "from IPython.display import display\nfrom gammapy.datasets import MapDataset\nfrom gammapy.estimators import FluxPoints, FluxProfileEstimator\nfrom gammapy.maps import RegionGeom\nfrom gammapy.modeling.models import PowerLawSpectralModel"
      ]
    },
    {
      "cell_type": "markdown",
      "metadata": {},
      "source": [
        "## Check setup\n\n"
      ]
    },
    {
      "cell_type": "code",
      "execution_count": null,
      "metadata": {
        "collapsed": false
      },
      "outputs": [],
      "source": [
        "from gammapy.utils.check import check_tutorials_setup\nfrom gammapy.utils.regions import (\n    make_concentric_annulus_sky_regions,\n    make_orthogonal_rectangle_sky_regions,\n)\n\ncheck_tutorials_setup()"
      ]
    },
    {
      "cell_type": "markdown",
      "metadata": {},
      "source": [
        "## Read and Introduce Data\n\n\n"
      ]
    },
    {
      "cell_type": "code",
      "execution_count": null,
      "metadata": {
        "collapsed": false
      },
      "outputs": [],
      "source": [
        "dataset = MapDataset.read(\n    \"$GAMMAPY_DATA/fermi-3fhl-gc/fermi-3fhl-gc.fits.gz\", name=\"fermi-dataset\"\n)"
      ]
    },
    {
      "cell_type": "markdown",
      "metadata": {},
      "source": [
        "This is what the counts image we will work with looks like:\n\n\n"
      ]
    },
    {
      "cell_type": "code",
      "execution_count": null,
      "metadata": {
        "collapsed": false
      },
      "outputs": [],
      "source": [
        "counts_image = dataset.counts.sum_over_axes()\ncounts_image.smooth(\"0.1 deg\").plot(stretch=\"sqrt\")"
      ]
    },
    {
      "cell_type": "markdown",
      "metadata": {},
      "source": [
        "There are 400x200 pixels in the dataset and 11 energy bins between 10\nGeV and 2 TeV:\n\n\n"
      ]
    },
    {
      "cell_type": "code",
      "execution_count": null,
      "metadata": {
        "collapsed": false
      },
      "outputs": [],
      "source": [
        "print(dataset.counts)"
      ]
    },
    {
      "cell_type": "markdown",
      "metadata": {},
      "source": [
        "## Profile Estimation\n\n### Configuration\n\nWe start by defining a list of spatially connected regions along the\ngalactic longitude axis. For this there is a helper function\n`~gammapy.utils.regions.make_orthogonal_rectangle_sky_regions`. The individual region bins\nfor the profile have a height of 3 deg and in total there are 31 bins.\nThe starts from lon = 10 deg tand goes to lon = 350 deg. In addition we\nhave to specify the `wcs` to take into account possible projections\neffects on the region definition:\n\n\n"
      ]
    },
    {
      "cell_type": "code",
      "execution_count": null,
      "metadata": {
        "collapsed": false
      },
      "outputs": [],
      "source": [
        "regions = make_orthogonal_rectangle_sky_regions(\n    start_pos=SkyCoord(\"10d\", \"0d\", frame=\"galactic\"),\n    end_pos=SkyCoord(\"350d\", \"0d\", frame=\"galactic\"),\n    wcs=counts_image.geom.wcs,\n    height=\"3 deg\",\n    nbin=51,\n)"
      ]
    },
    {
      "cell_type": "markdown",
      "metadata": {},
      "source": [
        "We can use the `~gammapy.maps.RegionGeom` object to illustrate the regions on top of\nthe counts image:\n\n\n"
      ]
    },
    {
      "cell_type": "code",
      "execution_count": null,
      "metadata": {
        "collapsed": false
      },
      "outputs": [],
      "source": [
        "plt.figure()\ngeom = RegionGeom.create(region=regions)\nax = counts_image.smooth(\"0.1 deg\").plot(stretch=\"sqrt\")\ngeom.plot_region(ax=ax, color=\"w\")"
      ]
    },
    {
      "cell_type": "markdown",
      "metadata": {},
      "source": [
        "Next we create the `~gammapy.estimators.FluxProfileEstimator`. For the estimation of the\nflux profile we assume a spectral model with a power-law shape and an\nindex of 2.3\n\n\n"
      ]
    },
    {
      "cell_type": "code",
      "execution_count": null,
      "metadata": {
        "collapsed": false
      },
      "outputs": [],
      "source": [
        "flux_profile_estimator = FluxProfileEstimator(\n    regions=regions,\n    spectrum=PowerLawSpectralModel(index=2.3),\n    energy_edges=[10, 2000] * u.GeV,\n    selection_optional=[\"ul\"],\n)"
      ]
    },
    {
      "cell_type": "markdown",
      "metadata": {},
      "source": [
        "We can see the full configuration by printing the estimator object:\n\n\n"
      ]
    },
    {
      "cell_type": "code",
      "execution_count": null,
      "metadata": {
        "collapsed": false
      },
      "outputs": [],
      "source": [
        "print(flux_profile_estimator)"
      ]
    },
    {
      "cell_type": "markdown",
      "metadata": {},
      "source": [
        "### Run Estimation\n\nNow we can run the profile estimation and explore the results:\n\n\n"
      ]
    },
    {
      "cell_type": "code",
      "execution_count": null,
      "metadata": {
        "collapsed": false
      },
      "outputs": [],
      "source": [
        "profile = flux_profile_estimator.run(datasets=dataset)\n\nprint(profile)"
      ]
    },
    {
      "cell_type": "markdown",
      "metadata": {},
      "source": [
        "We can see the flux profile is represented by a `~gammapy.estimators.FluxPoints` object\nwith a `projected-distance` axis, which defines the main axis the flux\nprofile is measured along. The `lon` and `lat` axes can be ignored.\n\n### Plotting Results\n\nLet us directly plot the result using `~gammapy.estimators.FluxPoints.plot`:\n\n\n"
      ]
    },
    {
      "cell_type": "code",
      "execution_count": null,
      "metadata": {
        "collapsed": false
      },
      "outputs": [],
      "source": [
        "plt.figure()\nax = profile.plot(sed_type=\"dnde\")\nax.set_yscale(\"linear\")"
      ]
    },
    {
      "cell_type": "markdown",
      "metadata": {},
      "source": [
        "Based on the spectral model we specified above we can also plot in any\nother sed type, e.g.\u00a0energy flux and define a different threshold when\nto plot upper limits:\n\n\n"
      ]
    },
    {
      "cell_type": "code",
      "execution_count": null,
      "metadata": {
        "collapsed": false
      },
      "outputs": [],
      "source": [
        "profile.sqrt_ts_threshold_ul = 2\n\nplt.figure()\nax = profile.plot(sed_type=\"eflux\")\nax.set_yscale(\"linear\")"
      ]
    },
    {
      "cell_type": "markdown",
      "metadata": {},
      "source": [
        "We can also plot any other quantity of interest, that is defined on the\n`~gammapy.estimators.FluxPoints` result object. E.g. the predicted total counts,\nbackground counts and excess counts:\n\n\n"
      ]
    },
    {
      "cell_type": "code",
      "execution_count": null,
      "metadata": {
        "collapsed": false
      },
      "outputs": [],
      "source": [
        "quantities = [\"npred\", \"npred_excess\", \"npred_background\"]\n\nfig, ax = plt.subplots()\n\nfor quantity in quantities:\n    profile[quantity].plot(ax=ax, label=quantity.title())\n\nax.set_ylabel(\"Counts\")"
      ]
    },
    {
      "cell_type": "markdown",
      "metadata": {},
      "source": [
        "### Serialisation and I/O\n\nThe profile can be serialised using `~gammapy.estimators.FluxPoints.write`, given a\nspecific format:\n\n\n"
      ]
    },
    {
      "cell_type": "code",
      "execution_count": null,
      "metadata": {
        "collapsed": false
      },
      "outputs": [],
      "source": [
        "profile.write(\n    filename=\"flux_profile_fermi.fits\",\n    format=\"profile\",\n    overwrite=True,\n    sed_type=\"dnde\",\n)\n\nprofile_new = FluxPoints.read(filename=\"flux_profile_fermi.fits\", format=\"profile\")\n\nfig = plt.figure()\nax = profile_new.plot()\nax.set_yscale(\"linear\")"
      ]
    },
    {
      "cell_type": "markdown",
      "metadata": {},
      "source": [
        "The profile can be serialised to a `~astropy.table.Table` object\nusing:\n\n\n"
      ]
    },
    {
      "cell_type": "code",
      "execution_count": null,
      "metadata": {
        "collapsed": false
      },
      "outputs": [],
      "source": [
        "table = profile.to_table(format=\"profile\", formatted=True)\ndisplay(table)"
      ]
    },
    {
      "cell_type": "markdown",
      "metadata": {},
      "source": [
        "No we can also estimate a radial profile starting from the Galactic\ncenter:\n\n\n"
      ]
    },
    {
      "cell_type": "code",
      "execution_count": null,
      "metadata": {
        "collapsed": false
      },
      "outputs": [],
      "source": [
        "regions = make_concentric_annulus_sky_regions(\n    center=SkyCoord(\"0d\", \"0d\", frame=\"galactic\"),\n    radius_max=\"1.5 deg\",\n    nbin=11,\n)"
      ]
    },
    {
      "cell_type": "markdown",
      "metadata": {},
      "source": [
        "Again we first illustrate the regions:\n\n\n"
      ]
    },
    {
      "cell_type": "code",
      "execution_count": null,
      "metadata": {
        "collapsed": false
      },
      "outputs": [],
      "source": [
        "plt.figure()\ngeom = RegionGeom.create(region=regions)\ngc_image = counts_image.cutout(\n    position=SkyCoord(\"0d\", \"0d\", frame=\"galactic\"), width=3 * u.deg\n)\nax = gc_image.smooth(\"0.1 deg\").plot(stretch=\"sqrt\")\ngeom.plot_region(ax=ax, color=\"w\")"
      ]
    },
    {
      "cell_type": "markdown",
      "metadata": {},
      "source": [
        "This time we define two energy bins and include the fit statistic\nprofile in the computation:\n\n\n"
      ]
    },
    {
      "cell_type": "code",
      "execution_count": null,
      "metadata": {
        "collapsed": false
      },
      "outputs": [],
      "source": [
        "flux_profile_estimator = FluxProfileEstimator(\n    regions=regions,\n    spectrum=PowerLawSpectralModel(index=2.3),\n    energy_edges=[10, 100, 2000] * u.GeV,\n    selection_optional=[\"ul\", \"scan\"],\n    norm_values=np.linspace(-1, 5, 11),\n)\n\nprofile = flux_profile_estimator.run(datasets=dataset)"
      ]
    },
    {
      "cell_type": "markdown",
      "metadata": {},
      "source": [
        "We can directly plot the result:\n\n\n"
      ]
    },
    {
      "cell_type": "code",
      "execution_count": null,
      "metadata": {
        "collapsed": false
      },
      "outputs": [],
      "source": [
        "plt.figure()\nprofile.plot(axis_name=\"projected-distance\", sed_type=\"flux\")"
      ]
    },
    {
      "cell_type": "markdown",
      "metadata": {},
      "source": [
        "However because of the powerlaw spectrum the flux at high energies is\nmuch lower. To extract the profile at high energies only we can use:\n\n\n"
      ]
    },
    {
      "cell_type": "code",
      "execution_count": null,
      "metadata": {
        "collapsed": false
      },
      "outputs": [],
      "source": [
        "profile_high = profile.slice_by_idx({\"energy\": slice(1, 2)})"
      ]
    },
    {
      "cell_type": "markdown",
      "metadata": {},
      "source": [
        "And now plot the points together with the likelihood profiles:\n\n\n"
      ]
    },
    {
      "cell_type": "code",
      "execution_count": null,
      "metadata": {
        "collapsed": false
      },
      "outputs": [],
      "source": [
        "fig, ax = plt.subplots()\nprofile_high.plot(ax=ax, sed_type=\"eflux\", color=\"tab:orange\")\nprofile_high.plot_ts_profiles(ax=ax, sed_type=\"eflux\")\nax.set_yscale(\"linear\")\n\n\nplt.show()\n\n# sphinx_gallery_thumbnail_number = 2"
      ]
    }
  ],
  "metadata": {
    "kernelspec": {
      "display_name": "Python 3",
      "language": "python",
      "name": "python3"
    },
    "language_info": {
      "codemirror_mode": {
        "name": "ipython",
        "version": 3
      },
      "file_extension": ".py",
      "mimetype": "text/x-python",
      "name": "python",
      "nbconvert_exporter": "python",
      "pygments_lexer": "ipython3",
      "version": "3.9.16"
    }
  },
  "nbformat": 4,
  "nbformat_minor": 0
}