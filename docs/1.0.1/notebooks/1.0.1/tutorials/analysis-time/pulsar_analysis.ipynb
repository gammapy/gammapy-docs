{
  "cells": [
    {
      "cell_type": "code",
      "execution_count": null,
      "metadata": {
        "collapsed": false
      },
      "outputs": [],
      "source": [
        "%matplotlib inline"
      ]
    },
    {
      "cell_type": "markdown",
      "metadata": {},
      "source": [
        "\n# Pulsar analysis\n\nProduce a phasogram, phased-resolved maps and spectra in pulsar analysis.\n\n## Introduction\n\n\n\nThis notebook shows how to do a pulsar analysis with Gammapy. It\u2019s based\non a Vela simulation file from the CTA DC1, which already contains a\ncolumn of phases. We will produce a phasogram, a phase-resolved map and\na phase-resolved spectrum of the Vela pulsar using the class\nPhaseBackgroundEstimator.\n\nThe phasing in itself is not done here, and it requires specific\npackages like Tempo2 or [PINT](https://nanograv-pint.readthedocs.io)_.\n"
      ]
    },
    {
      "cell_type": "markdown",
      "metadata": {},
      "source": [
        "## Opening the data\n\n\n"
      ]
    },
    {
      "cell_type": "markdown",
      "metadata": {},
      "source": [
        "Let\u2019s first do the imports and load the only observation containing Vela\nin the CTA 1DC dataset shipped with Gammapy.\n\n\n"
      ]
    },
    {
      "cell_type": "code",
      "execution_count": null,
      "metadata": {
        "collapsed": false
      },
      "outputs": [],
      "source": [
        "import numpy as np\nimport astropy.units as u\nfrom astropy.coordinates import SkyCoord\nimport matplotlib.pyplot as plt\n\n# %matplotlib inline\nfrom IPython.display import display\nfrom gammapy.data import DataStore\nfrom gammapy.datasets import Datasets, FluxPointsDataset, SpectrumDataset\nfrom gammapy.estimators import FluxPointsEstimator\nfrom gammapy.makers import PhaseBackgroundMaker, SafeMaskMaker, SpectrumDatasetMaker\nfrom gammapy.maps import Map, MapAxis, RegionGeom, WcsGeom\nfrom gammapy.modeling import Fit\nfrom gammapy.modeling.models import PowerLawSpectralModel, SkyModel"
      ]
    },
    {
      "cell_type": "markdown",
      "metadata": {},
      "source": [
        "## Check setup\n\n"
      ]
    },
    {
      "cell_type": "code",
      "execution_count": null,
      "metadata": {
        "collapsed": false
      },
      "outputs": [],
      "source": [
        "from gammapy.utils.check import check_tutorials_setup\nfrom gammapy.utils.regions import SphericalCircleSkyRegion\n\ncheck_tutorials_setup()"
      ]
    },
    {
      "cell_type": "markdown",
      "metadata": {},
      "source": [
        "Load the data store (which is a subset of CTA-DC1 data):\n\n\n"
      ]
    },
    {
      "cell_type": "code",
      "execution_count": null,
      "metadata": {
        "collapsed": false
      },
      "outputs": [],
      "source": [
        "data_store = DataStore.from_dir(\"$GAMMAPY_DATA/cta-1dc/index/gps\")"
      ]
    },
    {
      "cell_type": "markdown",
      "metadata": {},
      "source": [
        "Define obsevation ID and print events:\n\n\n"
      ]
    },
    {
      "cell_type": "code",
      "execution_count": null,
      "metadata": {
        "collapsed": false
      },
      "outputs": [],
      "source": [
        "id_obs_vela = [111630]\nobs_list_vela = data_store.get_observations(id_obs_vela)\nprint(obs_list_vela[0].events)"
      ]
    },
    {
      "cell_type": "markdown",
      "metadata": {},
      "source": [
        "Now that we have our observation, let\u2019s select the events in 0.2\u00b0 radius\naround the pulsar position.\n\n\n"
      ]
    },
    {
      "cell_type": "code",
      "execution_count": null,
      "metadata": {
        "collapsed": false
      },
      "outputs": [],
      "source": [
        "pos_target = SkyCoord(ra=128.836 * u.deg, dec=-45.176 * u.deg, frame=\"icrs\")\non_radius = 0.2 * u.deg\non_region = SphericalCircleSkyRegion(pos_target, on_radius)\n\n# Apply angular selection\nevents_vela = obs_list_vela[0].events.select_region(on_region)\nprint(events_vela)"
      ]
    },
    {
      "cell_type": "markdown",
      "metadata": {},
      "source": [
        "Let\u2019s load the phases of the selected events in a dedicated array.\n\n\n"
      ]
    },
    {
      "cell_type": "code",
      "execution_count": null,
      "metadata": {
        "collapsed": false
      },
      "outputs": [],
      "source": [
        "phases = events_vela.table[\"PHASE\"]\n\n# Let's take a look at the first 10 phases\ndisplay(phases[:10])"
      ]
    },
    {
      "cell_type": "markdown",
      "metadata": {},
      "source": [
        "## Phasogram\n\nOnce we have the phases, we can make a phasogram. A phasogram is a\nhistogram of phases and it works exactly like any other histogram (you\ncan set the binning, evaluate the errors based on the counts in each\nbin, etc).\n\n\n"
      ]
    },
    {
      "cell_type": "code",
      "execution_count": null,
      "metadata": {
        "collapsed": false
      },
      "outputs": [],
      "source": [
        "nbins = 30\nphase_min, phase_max = (0, 1)\nvalues, bin_edges = np.histogram(phases, range=(phase_min, phase_max), bins=nbins)\nbin_width = (phase_max - phase_min) / nbins\n\nbin_center = (bin_edges[:-1] + bin_edges[1:]) / 2\n\n\n# Poissonian uncertainty on each bin\nvalues_err = np.sqrt(values)\n\nfig, ax = plt.subplots()\nax.bar(\n    x=bin_center,\n    height=values,\n    width=bin_width,\n    color=\"#d53d12\",\n    alpha=0.8,\n    edgecolor=\"black\",\n    yerr=values_err,\n)\nax.set_xlim(0, 1)\nax.set_xlabel(\"Phase\")\nax.set_ylabel(\"Counts\")\nax.set_title(f\"Phasogram with angular cut of {on_radius}\")"
      ]
    },
    {
      "cell_type": "markdown",
      "metadata": {},
      "source": [
        "Now let\u2019s add some fancy additions to our phasogram: a patch on the ON-\nand OFF-phase regions and one for the background level.\n\n\n"
      ]
    },
    {
      "cell_type": "code",
      "execution_count": null,
      "metadata": {
        "collapsed": false
      },
      "outputs": [],
      "source": [
        "# Evaluate background level\noff_phase_range = (0.7, 1.0)\non_phase_range = (0.5, 0.6)\n\nmask_off = (off_phase_range[0] < phases) & (phases < off_phase_range[1])\n\ncount_bkg = mask_off.sum()\nprint(f\"Number of Off events: {count_bkg}\")\n\n# bkg level normalized by the size of the OFF zone (0.3)\nbkg = count_bkg / nbins / (off_phase_range[1] - off_phase_range[0])\n\n# error on the background estimation\nbkg_err = np.sqrt(count_bkg) / nbins / (off_phase_range[1] - off_phase_range[0])\n\n# Let's redo the same plot for the basis\nfig, ax = plt.subplots()\nax.bar(\n    x=bin_center,\n    height=values,\n    width=bin_width,\n    color=\"#d53d12\",\n    alpha=0.8,\n    edgecolor=\"black\",\n    yerr=values_err,\n)\n\n# Plot background level\nx_bkg = np.linspace(0, 1, 50)\n\nkwargs = {\"color\": \"black\", \"alpha\": 0.5, \"ls\": \"--\", \"lw\": 2}\n\nax.plot(x_bkg, (bkg - bkg_err) * np.ones_like(x_bkg), **kwargs)\nax.plot(x_bkg, (bkg + bkg_err) * np.ones_like(x_bkg), **kwargs)\n\nax.fill_between(\n    x_bkg, bkg - bkg_err, bkg + bkg_err, facecolor=\"grey\", alpha=0.5\n)  # grey area for the background level\n\n# Let's make patches for the on and off phase zones\non_patch = ax.axvspan(\n    on_phase_range[0], on_phase_range[1], alpha=0.3, color=\"gray\", ec=\"black\"\n)\n\noff_patch = ax.axvspan(\n    off_phase_range[0],\n    off_phase_range[1],\n    alpha=0.4,\n    color=\"white\",\n    hatch=\"x\",\n    ec=\"black\",\n)\n\n# Legends \"ON\" and \"OFF\"\nax.text(0.55, 5, \"ON\", color=\"black\", fontsize=17, ha=\"center\")\nax.text(0.895, 5, \"OFF\", color=\"black\", fontsize=17, ha=\"center\")\nax.set_xlabel(\"Phase\")\nax.set_ylabel(\"Counts\")\nax.set_xlim(0, 1)\nax.set_title(f\"Phasogram with angular cut of {on_radius}\")"
      ]
    },
    {
      "cell_type": "markdown",
      "metadata": {},
      "source": [
        "## Phase-resolved map\n\n\n"
      ]
    },
    {
      "cell_type": "markdown",
      "metadata": {},
      "source": [
        "Now that the phases are computed, we want to do a phase-resolved sky map\n: a map of the ON-phase events minus alpha times the OFF-phase events.\nAlpha is the ratio between the size of the ON-phase zone (here 0.1) and\nthe OFF-phase zone (0.3). It\u2019s a map of the excess events in phase,\nwhich are the pulsed events.\n\n\n"
      ]
    },
    {
      "cell_type": "code",
      "execution_count": null,
      "metadata": {
        "collapsed": false
      },
      "outputs": [],
      "source": [
        "geom = WcsGeom.create(binsz=0.02 * u.deg, skydir=pos_target, width=\"5 deg\")"
      ]
    },
    {
      "cell_type": "markdown",
      "metadata": {},
      "source": [
        "Let\u2019s create an ON-map and an OFF-map:\n\n\n"
      ]
    },
    {
      "cell_type": "code",
      "execution_count": null,
      "metadata": {
        "collapsed": false
      },
      "outputs": [],
      "source": [
        "on_map = Map.from_geom(geom)\noff_map = Map.from_geom(geom)\n\nevents_vela_on = events_vela.select_parameter(\"PHASE\", on_phase_range)\nevents_vela_off = events_vela.select_parameter(\"PHASE\", off_phase_range)\n\non_map.fill_events(events_vela_on)\noff_map.fill_events(events_vela_off)\n\n# Defining alpha as the ratio of the ON and OFF phase zones\nalpha = (on_phase_range[1] - on_phase_range[0]) / (\n    off_phase_range[1] - off_phase_range[0]\n)\n\n# Create and fill excess map\n# The pulsed events are the difference between the ON-phase count and alpha times the OFF-phase count\nexcess_map = on_map - off_map * alpha\n\n# Plot excess map\nplt.figure()\nexcess_map.smooth(kernel=\"gauss\", width=0.2 * u.deg).plot(add_cbar=True)"
      ]
    },
    {
      "cell_type": "markdown",
      "metadata": {},
      "source": [
        "## Phase-resolved spectrum\n\n\n"
      ]
    },
    {
      "cell_type": "markdown",
      "metadata": {},
      "source": [
        "We can also do a phase-resolved spectrum. In order to do that, there is\nthe class PhaseBackgroundMaker. In a phase-resolved analysis, the\nbackground is estimated in the same sky region but in the OFF-phase\nzone.\n\n\n"
      ]
    },
    {
      "cell_type": "code",
      "execution_count": null,
      "metadata": {
        "collapsed": false
      },
      "outputs": [],
      "source": [
        "e_true = MapAxis.from_energy_bounds(0.003, 10, 100, unit=\"TeV\", name=\"energy_true\")\ne_reco = MapAxis.from_energy_bounds(0.01, 10, 30, unit=\"TeV\", name=\"energy\")\n\n\ngeom = RegionGeom.create(region=on_region, axes=[e_reco])\n\ndataset_empty = SpectrumDataset.create(geom=geom, energy_axis_true=e_true)\n\ndataset_maker = SpectrumDatasetMaker()\nphase_bkg_maker = PhaseBackgroundMaker(\n    on_phase=on_phase_range, off_phase=off_phase_range\n)\nsafe_mask_maker = SafeMaskMaker(methods=[\"aeff-default\", \"edisp-bias\"], bias_percent=20)\n\ndatasets = []\n\nfor obs in obs_list_vela:\n    dataset = dataset_maker.run(dataset_empty, obs)\n    dataset_on_off = phase_bkg_maker.run(dataset, obs)\n    dataset_on_off = safe_mask_maker.run(dataset_on_off, obs)\n    datasets.append(dataset_on_off)"
      ]
    },
    {
      "cell_type": "markdown",
      "metadata": {},
      "source": [
        "Now let\u2019s a look at the datasets we just created:\n\n\n"
      ]
    },
    {
      "cell_type": "code",
      "execution_count": null,
      "metadata": {
        "collapsed": false
      },
      "outputs": [],
      "source": [
        "datasets[0].peek()"
      ]
    },
    {
      "cell_type": "markdown",
      "metadata": {},
      "source": [
        "Now we\u2019ll fit a model to the spectrum with the `Fit` class. First we\nload a power law model with an initial value for the index and the\namplitude and then wo do a likelihood fit. The fit results are printed\nbelow.\n\n\n"
      ]
    },
    {
      "cell_type": "code",
      "execution_count": null,
      "metadata": {
        "collapsed": false
      },
      "outputs": [],
      "source": [
        "spectral_model = PowerLawSpectralModel(\n    index=4, amplitude=\"1.3e-9 cm-2 s-1 TeV-1\", reference=\"0.02 TeV\"\n)\nmodel = SkyModel(spectral_model=spectral_model, name=\"vela psr\")\nemin_fit, emax_fit = (0.04 * u.TeV, 0.4 * u.TeV)\n\nmask_fit = geom.energy_mask(energy_min=emin_fit, energy_max=emax_fit)\n\nfor dataset in datasets:\n    dataset.models = model\n    dataset.mask_fit = mask_fit\n\njoint_fit = Fit()\njoint_result = joint_fit.run(datasets=datasets)\n\nprint(joint_result)"
      ]
    },
    {
      "cell_type": "markdown",
      "metadata": {},
      "source": [
        "Now you might want to do the stacking here even if in our case there is\nonly one observation which makes it superfluous. We can compute flux\npoints by fitting the norm of the global model in energy bands.\n\n\n"
      ]
    },
    {
      "cell_type": "code",
      "execution_count": null,
      "metadata": {
        "collapsed": false
      },
      "outputs": [],
      "source": [
        "energy_edges = np.logspace(np.log10(0.04), np.log10(0.4), 7) * u.TeV\n\ndataset = Datasets(datasets).stack_reduce()\n\ndataset.models = model\n\nfpe = FluxPointsEstimator(\n    energy_edges=energy_edges, source=\"vela psr\", selection_optional=\"all\"\n)\n\nflux_points = fpe.run(datasets=[dataset])\nflux_points.meta[\"ts_threshold_ul\"] = 1\n\namplitude_ref = 0.57 * 19.4e-14 * u.Unit(\"1 / (cm2 s MeV)\")\nspec_model_true = PowerLawSpectralModel(\n    index=4.5, amplitude=amplitude_ref, reference=\"20 GeV\"\n)\n\nflux_points_dataset = FluxPointsDataset(data=flux_points, models=model)"
      ]
    },
    {
      "cell_type": "markdown",
      "metadata": {},
      "source": [
        "Now we can plot.\n\n\n"
      ]
    },
    {
      "cell_type": "code",
      "execution_count": null,
      "metadata": {
        "collapsed": false
      },
      "outputs": [],
      "source": [
        "ax_spectrum, ax_residuals = flux_points_dataset.plot_fit()\n\nax_spectrum.set_ylim([1e-14, 3e-11])\nax_residuals.set_ylim([-1.7, 1.7])\n\nspec_model_true.plot(\n    ax=ax_spectrum,\n    energy_bounds=(emin_fit, emax_fit),\n    label=\"Reference model\",\n    c=\"black\",\n    linestyle=\"dashed\",\n    energy_power=2,\n)\n\nax_spectrum.legend(loc=\"best\")\n\nplt.show()"
      ]
    },
    {
      "cell_type": "markdown",
      "metadata": {},
      "source": [
        "This tutorial suffers a bit from the lack of statistics: there were 9\nVela observations in the CTA DC1 while there is only one here. When done\non the 9 observations, the spectral analysis is much better agreement\nbetween the input model and the gammapy fit.\n\n\n"
      ]
    }
  ],
  "metadata": {
    "kernelspec": {
      "display_name": "Python 3",
      "language": "python",
      "name": "python3"
    },
    "language_info": {
      "codemirror_mode": {
        "name": "ipython",
        "version": 3
      },
      "file_extension": ".py",
      "mimetype": "text/x-python",
      "name": "python",
      "nbconvert_exporter": "python",
      "pygments_lexer": "ipython3",
      "version": "3.9.16"
    }
  },
  "nbformat": 4,
  "nbformat_minor": 0
}