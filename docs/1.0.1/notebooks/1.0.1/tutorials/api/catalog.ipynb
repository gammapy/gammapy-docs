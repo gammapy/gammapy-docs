{
  "cells": [
    {
      "cell_type": "code",
      "execution_count": null,
      "metadata": {
        "collapsed": false
      },
      "outputs": [],
      "source": [
        "%matplotlib inline"
      ]
    },
    {
      "cell_type": "markdown",
      "metadata": {},
      "source": [
        "\n# Source catalogs\n\nAccess and explore thew most common gamma-ray source catalogs.\n\n## Introduction\n\n`~gammapy.catalog` provides convenient access to common gamma-ray\nsource catalogs. This module is mostly independent from the rest of\nGammapy. Typically you use it to compare new analyses against catalog\nresults, e.g.\u00a0overplot the spectral model, or compare the source\nposition.\n\nMoreover as creating a source model and flux points for a given catalog\nfrom the FITS table is tedious, `~gammapy.catalog` has this already\nimplemented. So you can create initial source models for your analyses.\nThis is very common for Fermi-LAT, to start with a catalog model. For\nTeV analysis, especially in crowded Galactic regions, using the HGPS,\ngamma-cat or 2HWC catalog in this way can also be useful.\n\nIn this tutorial you will learn how to:\n\n-  List available catalogs\n-  Load a catalog\n-  Access the source catalog table data\n-  Select a catalog subset or a single source\n-  Get source spectral and spatial models\n-  Get flux points (if available)\n-  Get lightcurves (if available)\n-  Access the source catalog table data\n-  Pretty-print the source information\n\nIn this tutorial we will show examples using the following catalogs:\n\n-  `~gammapy.catalog.SourceCatalogHGPS`\n-  `~gammapy.catalog.SourceCatalogGammaCat`\n-  `~gammapy.catalog.SourceCatalog3FHL`\n-  `~gammapy.catalog.SourceCatalog4FGL`\n\nAll catalog and source classes work the same, as long as some\ninformation is available. E.g. trying to access a lightcurve from a\ncatalog and source that doesn\u2019t have that information will return\n`None`.\n\nFurther information is available at `~gammapy.catalog`.\n"
      ]
    },
    {
      "cell_type": "code",
      "execution_count": null,
      "metadata": {
        "collapsed": false
      },
      "outputs": [],
      "source": [
        "import numpy as np\nimport astropy.units as u\n\n# %matplotlib inline\nimport matplotlib.pyplot as plt\nfrom IPython.display import display\nfrom gammapy.catalog import CATALOG_REGISTRY"
      ]
    },
    {
      "cell_type": "markdown",
      "metadata": {},
      "source": [
        "## Check setup\n\n"
      ]
    },
    {
      "cell_type": "code",
      "execution_count": null,
      "metadata": {
        "collapsed": false
      },
      "outputs": [],
      "source": [
        "from gammapy.utils.check import check_tutorials_setup\n\ncheck_tutorials_setup()"
      ]
    },
    {
      "cell_type": "markdown",
      "metadata": {},
      "source": [
        "## List available catalogs\n\n`~gammapy.catalog` contains a catalog registry `~gammapy.catalog.CATALOG_REGISTRY`,\nwhich maps catalog names (e.g.\u00a0\u201c3fhl\u201d) to catalog classes\n(e.g.\u00a0`SourceCatalog3FHL`).\n\n\n"
      ]
    },
    {
      "cell_type": "code",
      "execution_count": null,
      "metadata": {
        "collapsed": false
      },
      "outputs": [],
      "source": [
        "print(CATALOG_REGISTRY)"
      ]
    },
    {
      "cell_type": "markdown",
      "metadata": {},
      "source": [
        "## Load catalogs\n\nIf you have run `gammapy download datasets` or\n`gammapy download tutorials`, you have a copy of the catalogs as FITS\nfiles in `$GAMMAPY_DATA/catalogs`, and that is the default location\nwhere `~gammapy.catalog` loads from.\n\n\n"
      ]
    },
    {
      "cell_type": "code",
      "execution_count": null,
      "metadata": {
        "collapsed": false
      },
      "outputs": [],
      "source": [
        "# # # !ls -1 $GAMMAPY_DATA/catalogs"
      ]
    },
    {
      "cell_type": "code",
      "execution_count": null,
      "metadata": {
        "collapsed": false
      },
      "outputs": [],
      "source": [
        "# # # !ls -1 $GAMMAPY_DATA/catalogs/fermi"
      ]
    },
    {
      "cell_type": "markdown",
      "metadata": {},
      "source": [
        "So a catalog can be loaded directly from its corresponding class\n\n\n"
      ]
    },
    {
      "cell_type": "code",
      "execution_count": null,
      "metadata": {
        "collapsed": false
      },
      "outputs": [],
      "source": [
        "from gammapy.catalog import SourceCatalog4FGL\n\ncatalog = SourceCatalog4FGL()\nprint(\"Number of sources :\", len(catalog.table))"
      ]
    },
    {
      "cell_type": "markdown",
      "metadata": {},
      "source": [
        "Note that it loads the default catalog from `$GAMMAPY_DATA/catalogs`,\nyou could pass a different `filename` when creating the catalog. For\nexample here we load an older version of 4FGL catalog:\n\n\n"
      ]
    },
    {
      "cell_type": "code",
      "execution_count": null,
      "metadata": {
        "collapsed": false
      },
      "outputs": [],
      "source": [
        "catalog = SourceCatalog4FGL(\"$GAMMAPY_DATA/catalogs/fermi/gll_psc_v20.fit.gz\")\nprint(\"Number of sources :\", len(catalog.table))"
      ]
    },
    {
      "cell_type": "markdown",
      "metadata": {},
      "source": [
        "Alternatively you can load a catalog by name via\n`CATALOG_REGISTRY.get_cls(name)()` (note the `()` to instantiate a\ncatalog object from the catalog class - only this will load the catalog\nand be useful), or by importing the catalog class\n(e.g.\u00a0`~gammapy.catalog.SourceCatalog3FGL`) directly. The two ways are equivalent, the\nresult will be the same.\n\n\n"
      ]
    },
    {
      "cell_type": "code",
      "execution_count": null,
      "metadata": {
        "collapsed": false
      },
      "outputs": [],
      "source": [
        "# FITS file is loaded\ncatalog = CATALOG_REGISTRY.get_cls(\"3fgl\")()\nprint(catalog)"
      ]
    },
    {
      "cell_type": "markdown",
      "metadata": {},
      "source": [
        "Let's load the source catalogs we will use throughout this tutorial\n\n"
      ]
    },
    {
      "cell_type": "code",
      "execution_count": null,
      "metadata": {
        "collapsed": false
      },
      "outputs": [],
      "source": [
        "catalog_gammacat = CATALOG_REGISTRY.get_cls(\"gamma-cat\")()\ncatalog_3fhl = CATALOG_REGISTRY.get_cls(\"3fhl\")()\ncatalog_4fgl = CATALOG_REGISTRY.get_cls(\"4fgl\")()\ncatalog_hgps = CATALOG_REGISTRY.get_cls(\"hgps\")()"
      ]
    },
    {
      "cell_type": "markdown",
      "metadata": {},
      "source": [
        "## Catalog table\n\nSource catalogs are given as `FITS` files that contain one or multiple\ntables.\n\nHowever, you can also access the underlying `astropy.table.Table` for\na catalog, and the row data as a Python `dict`. This can be useful if\nyou want to do something that is not pre-scripted by the\n`~gammapy.catalog.SourceCatalog` classes, such as e.g.\u00a0selecting sources by sky\nposition or association class, or accessing special source information.\n\n\n"
      ]
    },
    {
      "cell_type": "code",
      "execution_count": null,
      "metadata": {
        "collapsed": false
      },
      "outputs": [],
      "source": [
        "print(type(catalog_3fhl.table))"
      ]
    },
    {
      "cell_type": "code",
      "execution_count": null,
      "metadata": {
        "collapsed": false
      },
      "outputs": [],
      "source": [
        "print(len(catalog_3fhl.table))"
      ]
    },
    {
      "cell_type": "code",
      "execution_count": null,
      "metadata": {
        "collapsed": false
      },
      "outputs": [],
      "source": [
        "display(catalog_3fhl.table[:3][[\"Source_Name\", \"RAJ2000\", \"DEJ2000\"]])"
      ]
    },
    {
      "cell_type": "markdown",
      "metadata": {},
      "source": [
        "Note that the catalogs object include a helper property that gives\ndirectly the sources positions as a `~astropy.coordinates.SkyCoord` object (we will show an\nusage example in the following).\n\n\n"
      ]
    },
    {
      "cell_type": "code",
      "execution_count": null,
      "metadata": {
        "collapsed": false
      },
      "outputs": [],
      "source": [
        "print(catalog_3fhl.positions[:3])"
      ]
    },
    {
      "cell_type": "markdown",
      "metadata": {},
      "source": [
        "## Source object\n\n### Select a source\n\nThe catalog entries for a single source are represented by a\n`~gammapy.catalog.SourceCatalogObject`. In order to select a source object index into\nthe catalog using `[]`, with a catalog table row index (zero-based,\nfirst row is `[0]`), or a source name. If a name is given, catalog\ntable columns with source names and association names (\u201cASSOC1\u201d in the\nexample below) are searched top to bottom. There is no name resolution\nweb query.\n\n\n"
      ]
    },
    {
      "cell_type": "code",
      "execution_count": null,
      "metadata": {
        "collapsed": false
      },
      "outputs": [],
      "source": [
        "source = catalog_4fgl[49]\nprint(source)"
      ]
    },
    {
      "cell_type": "code",
      "execution_count": null,
      "metadata": {
        "collapsed": false
      },
      "outputs": [],
      "source": [
        "print(source.row_index, source.name)"
      ]
    },
    {
      "cell_type": "code",
      "execution_count": null,
      "metadata": {
        "collapsed": false
      },
      "outputs": [],
      "source": [
        "source = catalog_4fgl[\"4FGL J0010.8-2154\"]\nprint(source.row_index, source.name)"
      ]
    },
    {
      "cell_type": "code",
      "execution_count": null,
      "metadata": {
        "collapsed": false
      },
      "outputs": [],
      "source": [
        "print(source.data[\"ASSOC1\"])"
      ]
    },
    {
      "cell_type": "code",
      "execution_count": null,
      "metadata": {
        "collapsed": false
      },
      "outputs": [],
      "source": [
        "source = catalog_4fgl[\"PKS 0008-222\"]\nprint(source.row_index, source.name)"
      ]
    },
    {
      "cell_type": "markdown",
      "metadata": {},
      "source": [
        "Note that you can also do a `for source in catalog` loop, to find or\nprocess sources of interest.\n\n### Source information\n\nThe source objects have a `data` property that contains the\ninformation of the catalog row corresponding to the source.\n\n\n"
      ]
    },
    {
      "cell_type": "code",
      "execution_count": null,
      "metadata": {
        "collapsed": false
      },
      "outputs": [],
      "source": [
        "print(source.data[\"Npred\"])"
      ]
    },
    {
      "cell_type": "code",
      "execution_count": null,
      "metadata": {
        "collapsed": false
      },
      "outputs": [],
      "source": [
        "print(source.data[\"GLON\"], source.data[\"GLAT\"])"
      ]
    },
    {
      "cell_type": "markdown",
      "metadata": {},
      "source": [
        "As for the catalog object, the source object has a `position`\nproperty.\n\n\n"
      ]
    },
    {
      "cell_type": "code",
      "execution_count": null,
      "metadata": {
        "collapsed": false
      },
      "outputs": [],
      "source": [
        "print(source.position.galactic)"
      ]
    },
    {
      "cell_type": "markdown",
      "metadata": {},
      "source": [
        "## Select a catalog subset\n\nThe catalog objects support selection using boolean arrays (of the same\nlength), so one can create a new catalog as a subset of the main catalog\nthat verify a set of conditions.\n\nIn the next example we selection only few of the brightest sources\nbrightest sources in the 100 to 200 GeV energy band.\n\n\n"
      ]
    },
    {
      "cell_type": "code",
      "execution_count": null,
      "metadata": {
        "collapsed": false
      },
      "outputs": [],
      "source": [
        "mask_bright = np.zeros(len(catalog_3fhl.table), dtype=bool)\nfor k, source in enumerate(catalog_3fhl):\n    flux = source.spectral_model().integral(100 * u.GeV, 200 * u.GeV).to(\"cm-2 s-1\")\n    if flux > 1e-10 * u.Unit(\"cm-2 s-1\"):\n        mask_bright[k] = True\n        print(f\"{source.row_index:<7d} {source.name:20s} {flux:.3g}\")"
      ]
    },
    {
      "cell_type": "code",
      "execution_count": null,
      "metadata": {
        "collapsed": false
      },
      "outputs": [],
      "source": [
        "catalog_3fhl_bright = catalog_3fhl[mask_bright]\nprint(catalog_3fhl_bright)"
      ]
    },
    {
      "cell_type": "code",
      "execution_count": null,
      "metadata": {
        "collapsed": false
      },
      "outputs": [],
      "source": [
        "print(catalog_3fhl_bright.table[\"Source_Name\"])"
      ]
    },
    {
      "cell_type": "markdown",
      "metadata": {},
      "source": [
        "Similarly we can select only sources within a region of interest. Here\nfor example we use the `position` property of the catalog object to\nselect sources whitin 5 degrees from \u201cPKS 0008-222\u201d:\n\n\n"
      ]
    },
    {
      "cell_type": "code",
      "execution_count": null,
      "metadata": {
        "collapsed": false
      },
      "outputs": [],
      "source": [
        "source = catalog_4fgl[\"PKS 0008-222\"]\nmask_roi = source.position.separation(catalog_4fgl.positions) < 5 * u.deg\n\ncatalog_4fgl_roi = catalog_4fgl[mask_roi]\nprint(\"Number of sources :\", len(catalog_4fgl_roi.table))"
      ]
    },
    {
      "cell_type": "markdown",
      "metadata": {},
      "source": [
        "## Source models\n\nThe `~gammapy.catalog.SourceCatalogObject` classes have a\n`~gammapy.catalog.SourceCatalogObject.sky_model()` model which creates a\n`~gammapy.modeling.models.SkyModel` object, with model parameter values\nand parameter errors from the catalog filled in.\n\nIn most cases, the `~gammapy.catalog.SourceCatalogObject.spectral_model()` method provides the\n`~gammapy.modeling.models.SpectralModel` part of the sky model, and the\n`~gammapy.catalog.SourceCatalogObject.spatial_model()` method the `~gammapy.modeling.models.SpatialModel`\npart individually.\n\nWe use the `~gammapy.catalog.SourceCatalog3FHL` for the examples in\nthis section.\n\n\n"
      ]
    },
    {
      "cell_type": "code",
      "execution_count": null,
      "metadata": {
        "collapsed": false
      },
      "outputs": [],
      "source": [
        "source = catalog_4fgl[\"PKS 2155-304\"]\n\nmodel = source.sky_model()\nprint(model)"
      ]
    },
    {
      "cell_type": "code",
      "execution_count": null,
      "metadata": {
        "collapsed": false
      },
      "outputs": [],
      "source": [
        "print(model)"
      ]
    },
    {
      "cell_type": "code",
      "execution_count": null,
      "metadata": {
        "collapsed": false
      },
      "outputs": [],
      "source": [
        "print(model.spatial_model)"
      ]
    },
    {
      "cell_type": "code",
      "execution_count": null,
      "metadata": {
        "collapsed": false
      },
      "outputs": [],
      "source": [
        "print(model.spectral_model)"
      ]
    },
    {
      "cell_type": "code",
      "execution_count": null,
      "metadata": {
        "collapsed": false
      },
      "outputs": [],
      "source": [
        "plt.figure()\nenergy_bounds = (100 * u.MeV, 100 * u.GeV)\nopts = dict(sed_type=\"e2dnde\", yunits=u.Unit(\"TeV cm-2 s-1\"))\nmodel.spectral_model.plot(energy_bounds, **opts)\nmodel.spectral_model.plot_error(energy_bounds, **opts)"
      ]
    },
    {
      "cell_type": "markdown",
      "metadata": {},
      "source": [
        "You can create initial source models for your analyses using the\n`~gammapy.catalog.SourceCatalog.to_models()` method of the catalog objects. Here for example we\ncreate a `~gammapy.modeling.models.Models` object from the 4FGL catalog subset we previously\ndefined:\n\n\n"
      ]
    },
    {
      "cell_type": "code",
      "execution_count": null,
      "metadata": {
        "collapsed": false
      },
      "outputs": [],
      "source": [
        "models_4fgl_roi = catalog_4fgl_roi.to_models()\nprint(models_4fgl_roi)"
      ]
    },
    {
      "cell_type": "markdown",
      "metadata": {},
      "source": [
        "## Specificities of the HGPS catalog\n\nUsing the `~gammapy.catalog.SourceCatalog.to_models()` method for the\n`~gammapy.catalog.SourceCatalogHGPS` will return only the models\ncomponents of the sources retained in the main catalog, several\ncandidate objects appears only in the Gaussian components table (see\nsection 4.9 of the HGPS paper, https://arxiv.org/abs/1804.02432). To\naccess these components you can do the following:\n\n\n"
      ]
    },
    {
      "cell_type": "code",
      "execution_count": null,
      "metadata": {
        "collapsed": false
      },
      "outputs": [],
      "source": [
        "discarded_ind = np.where(\n    [\"Discarded\" in _ for _ in catalog_hgps.table_components[\"Component_Class\"]]\n)[0]\ndiscarded_table = catalog_hgps.table_components[discarded_ind]"
      ]
    },
    {
      "cell_type": "markdown",
      "metadata": {},
      "source": [
        "There is no spectral model available for these components but you can\naccess their spatial models:\n\n\n"
      ]
    },
    {
      "cell_type": "code",
      "execution_count": null,
      "metadata": {
        "collapsed": false
      },
      "outputs": [],
      "source": [
        "discarded_spatial = [\n    catalog_hgps.gaussian_component(idx).spatial_model() for idx in discarded_ind\n]"
      ]
    },
    {
      "cell_type": "markdown",
      "metadata": {},
      "source": [
        "In addition to the source components the HGPS catalog include a large\nscale diffuse component built by fitting a gaussian model in a sliding\nwindow along the Galactic plane. Information on this model can be\naccessed via the propoerties `~gammapy.catalog.SourceCatalogHGPS.table_large_scale_component` and\n`~gammapy.catalog.SourceCatalogHGPS.large_scale_component` of `~gammapy.catalog.SourceCatalogHGPS`.\n\n\n"
      ]
    },
    {
      "cell_type": "code",
      "execution_count": null,
      "metadata": {
        "collapsed": false
      },
      "outputs": [],
      "source": [
        "# here we show the 5 first elements of the table\ndisplay(catalog_hgps.table_large_scale_component[:5])\n# you can also try :\n# help(catalog_hgps.large_scale_component)"
      ]
    },
    {
      "cell_type": "markdown",
      "metadata": {},
      "source": [
        "## Flux points\n\nThe flux points are available via the `~gammapy.catalog.SourceCatalogObject.flux_points` property as a\n`~gammapy.estimators.FluxPoints` object.\n\n\n"
      ]
    },
    {
      "cell_type": "code",
      "execution_count": null,
      "metadata": {
        "collapsed": false
      },
      "outputs": [],
      "source": [
        "source = catalog_4fgl[\"PKS 2155-304\"]\nflux_points = source.flux_points\n\n\nprint(flux_points)"
      ]
    },
    {
      "cell_type": "code",
      "execution_count": null,
      "metadata": {
        "collapsed": false
      },
      "outputs": [],
      "source": [
        "display(flux_points.to_table(sed_type=\"flux\"))"
      ]
    },
    {
      "cell_type": "code",
      "execution_count": null,
      "metadata": {
        "collapsed": false
      },
      "outputs": [],
      "source": [
        "plt.figure()\nflux_points.plot(sed_type=\"e2dnde\")"
      ]
    },
    {
      "cell_type": "markdown",
      "metadata": {},
      "source": [
        "## Lightcurves\n\nThe Fermi catalogs contain lightcurves for each source. It is available\nvia the `source.lightcurve` method as a\n`~gammapy.estimators.FluxPoints` object with a time axis.\n\n\n"
      ]
    },
    {
      "cell_type": "code",
      "execution_count": null,
      "metadata": {
        "collapsed": false
      },
      "outputs": [],
      "source": [
        "lightcurve = catalog_4fgl[\"4FGL J0349.8-2103\"].lightcurve()\n\nprint(lightcurve)"
      ]
    },
    {
      "cell_type": "code",
      "execution_count": null,
      "metadata": {
        "collapsed": false
      },
      "outputs": [],
      "source": [
        "display(lightcurve.to_table(format=\"lightcurve\", sed_type=\"flux\"))"
      ]
    },
    {
      "cell_type": "code",
      "execution_count": null,
      "metadata": {
        "collapsed": false
      },
      "outputs": [],
      "source": [
        "plt.figure()\nlightcurve.plot()"
      ]
    },
    {
      "cell_type": "markdown",
      "metadata": {},
      "source": [
        "## Pretty-print source information\n\nA source object has a nice string representation that you can print.\n\n\n"
      ]
    },
    {
      "cell_type": "code",
      "execution_count": null,
      "metadata": {
        "collapsed": false
      },
      "outputs": [],
      "source": [
        "source = catalog_hgps[\"MSH 15-52\"]\nprint(source)"
      ]
    },
    {
      "cell_type": "markdown",
      "metadata": {},
      "source": [
        "You can also call `source.info()` instead and pass as an option what\ninformation to print. The options available depend on the catalog, you\ncan learn about them using `help()`\n\n\n"
      ]
    },
    {
      "cell_type": "code",
      "execution_count": null,
      "metadata": {
        "collapsed": false
      },
      "outputs": [],
      "source": [
        "help(source.info)"
      ]
    },
    {
      "cell_type": "code",
      "execution_count": null,
      "metadata": {
        "collapsed": false
      },
      "outputs": [],
      "source": [
        "print(source.info(\"associations\"))"
      ]
    },
    {
      "cell_type": "code",
      "execution_count": null,
      "metadata": {
        "collapsed": false
      },
      "outputs": [],
      "source": [
        "plt.show()"
      ]
    }
  ],
  "metadata": {
    "kernelspec": {
      "display_name": "Python 3",
      "language": "python",
      "name": "python3"
    },
    "language_info": {
      "codemirror_mode": {
        "name": "ipython",
        "version": 3
      },
      "file_extension": ".py",
      "mimetype": "text/x-python",
      "name": "python",
      "nbconvert_exporter": "python",
      "pygments_lexer": "ipython3",
      "version": "3.9.16"
    }
  },
  "nbformat": 4,
  "nbformat_minor": 0
}