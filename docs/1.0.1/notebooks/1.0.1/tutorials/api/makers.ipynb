{
  "cells": [
    {
      "cell_type": "code",
      "execution_count": null,
      "metadata": {
        "collapsed": false
      },
      "outputs": [],
      "source": [
        "%matplotlib inline"
      ]
    },
    {
      "cell_type": "markdown",
      "metadata": {},
      "source": [
        "\n# Makers - Data reduction\n\nData reduction: from observations to binned datasets\n\n## Introduction\n\nThe `gammapy.makers` sub-package contains classes to perform data\nreduction tasks from DL3 data to binned datasets. In the data reduction\nstep the DL3 data is prepared for modeling and fitting, by binning\nevents into a counts map and interpolating the exposure, background, psf\nand energy dispersion on the chosen analysis geometry.\n\n## Setup\n"
      ]
    },
    {
      "cell_type": "code",
      "execution_count": null,
      "metadata": {
        "collapsed": false
      },
      "outputs": [],
      "source": [
        "import numpy as np\nfrom astropy import units as u\nfrom regions import CircleSkyRegion\nimport matplotlib.pyplot as plt\nfrom IPython.display import display\nfrom gammapy.data import DataStore\nfrom gammapy.datasets import Datasets, MapDataset, SpectrumDataset\nfrom gammapy.makers import (\n    DatasetsMaker,\n    FoVBackgroundMaker,\n    MapDatasetMaker,\n    ReflectedRegionsBackgroundMaker,\n    SafeMaskMaker,\n    SpectrumDatasetMaker,\n)\nfrom gammapy.maps import MapAxis, RegionGeom, WcsGeom"
      ]
    },
    {
      "cell_type": "markdown",
      "metadata": {},
      "source": [
        "## Check setup\n\n"
      ]
    },
    {
      "cell_type": "code",
      "execution_count": null,
      "metadata": {
        "collapsed": false
      },
      "outputs": [],
      "source": [
        "from gammapy.utils.check import check_tutorials_setup\n\ncheck_tutorials_setup()"
      ]
    },
    {
      "cell_type": "markdown",
      "metadata": {},
      "source": [
        "## Dataset\n\nThe counts, exposure, background and IRF maps are bundled together in a\ndata structure named `~gammapy.datasets.MapDataset`.\n\nThe first step of the data reduction is to create an empty dataset. A\n`~gammapy.datasets.MapDataset` can be created from any `~gammapy.maps.WcsGeom`\nobject. This is illustrated in the following example:\n\n\n"
      ]
    },
    {
      "cell_type": "code",
      "execution_count": null,
      "metadata": {
        "collapsed": false
      },
      "outputs": [],
      "source": [
        "energy_axis = MapAxis.from_bounds(\n    1, 10, nbin=11, name=\"energy\", unit=\"TeV\", interp=\"log\"\n)\ngeom = WcsGeom.create(\n    skydir=(83.63, 22.01),\n    axes=[energy_axis],\n    width=5 * u.deg,\n    binsz=0.05 * u.deg,\n    frame=\"icrs\",\n)\ndataset_empty = MapDataset.create(geom=geom)\nprint(dataset_empty)"
      ]
    },
    {
      "cell_type": "markdown",
      "metadata": {},
      "source": [
        "It is possible to compute the instrument response functions with\ndifferent spatial and energy binnings as compared to the counts and\nbackground maps. For example, one can specify a true energy axis which\ndefines the energy binning of the IRFs:\n\n\n"
      ]
    },
    {
      "cell_type": "code",
      "execution_count": null,
      "metadata": {
        "collapsed": false
      },
      "outputs": [],
      "source": [
        "energy_axis_true = MapAxis.from_bounds(\n    0.3, 10, nbin=31, name=\"energy_true\", unit=\"TeV\", interp=\"log\"\n)\ndataset_empty = MapDataset.create(geom=geom, energy_axis_true=energy_axis_true)"
      ]
    },
    {
      "cell_type": "markdown",
      "metadata": {},
      "source": [
        "For the detail of the other options availables, you can always call the\nhelp:\n\n\n"
      ]
    },
    {
      "cell_type": "code",
      "execution_count": null,
      "metadata": {
        "collapsed": false
      },
      "outputs": [],
      "source": [
        "help(MapDataset.create)"
      ]
    },
    {
      "cell_type": "markdown",
      "metadata": {},
      "source": [
        "Once this empty \u201creference\u201d dataset is defined, it can be filled with\nobservational data using the `~gammapy.makers.MapDatasetMaker`:\n\n\n"
      ]
    },
    {
      "cell_type": "code",
      "execution_count": null,
      "metadata": {
        "collapsed": false
      },
      "outputs": [],
      "source": [
        "# get observation\ndata_store = DataStore.from_dir(\"$GAMMAPY_DATA/hess-dl3-dr1\")\nobs = data_store.get_observations([23592])[0]\n\n# fill dataset\nmaker = MapDatasetMaker()\ndataset = maker.run(dataset_empty, obs)\nprint(dataset)\nplt.figure()\ndataset.counts.sum_over_axes().plot(stretch=\"sqrt\", add_cbar=True)"
      ]
    },
    {
      "cell_type": "markdown",
      "metadata": {},
      "source": [
        "The `~gammapy.makers.MapDatasetMaker` fills the corresponding `counts`,\n`exposure`, `background`, `psf` and `edisp` map per observation.\nThe `~gammapy.makers.MapDatasetMaker` has a `selection` parameter, in case some of\nthe maps should not be computed. There is also a\n`background_oversampling` parameter that defines the oversampling\nfactor in energy used to compute the bakcground (default is None).\n\n## Safe data range handling\n\nTo exclude the data range from a `~gammapy.makers.MapDataset`, that is associated with\nhigh systematics on instrument response functions, a `~gammapy.makers.MapDataset.mask_safe`\ncan be defined. The `~gammapy.makers.MapDataset.mask_safe` is a `~gammapy.maps.Map` object\nwith `bool` data type, which indicates for each pixel, whether it should be included in\nthe analysis. The convention is that a value of `True` or `1`\nincludes the pixel, while a value of `False` or `0` excludes a\npixels from the analysis. To compute safe data range masks according to\ncertain criteria, Gammapy provides a `~gammapy.makers.SafeMaskMaker` class. The\ndifferent criteria are given by the `methods`\\ argument, available\noptions are :\n\n-  aeff-default, uses the energy ranged specified in the DL3 data files,\n   if available.\n-  aeff-max, the lower energy threshold is determined such as the\n   effective area is above a given percentage of its maximum\n-  edisp-bias, the lower energy threshold is determined such as the\n   energy bias is below a given percentage\n-  offset-max, the data beyond a given offset radius from the\n   observation center are excluded\n-  bkg-peak, the energy threshold is defined as the upper edge of the\n   energy bin with the highest predicted background rate. This method\n   was introduced in the HESS DL3 validation paper:\n   https://arxiv.org/pdf/1910.08088.pdf\n\nNote that currently some methods computing a safe energy range\n(\"aeff-default\", \"aeff-max\" and \"edisp-bias\") determine a true energy range and\napply it to reconstructed energy, effectively neglecting the energy dispersion.\n\nMultiple methods can be combined. Here is an example :\n\n\n"
      ]
    },
    {
      "cell_type": "code",
      "execution_count": null,
      "metadata": {
        "collapsed": false
      },
      "outputs": [],
      "source": [
        "safe_mask_maker = SafeMaskMaker(\n    methods=[\"aeff-default\", \"offset-max\"], offset_max=\"3 deg\"\n)\n\ndataset = maker.run(dataset_empty, obs)\ndataset = safe_mask_maker.run(dataset, obs)\nprint(dataset.mask_safe)\nplt.figure()\ndataset.mask_safe.sum_over_axes().plot()"
      ]
    },
    {
      "cell_type": "markdown",
      "metadata": {},
      "source": [
        "The `~gammapy.makers.SafeMaskMaker` does not modify any data, but only defines the\n`~gammapy.datasets.MapDataset.mask_safe` attribute. This means that the safe data range\ncan be defined and modified in between the data reduction and stacking\nand fitting. For a joint-likelihood analysis of multiple observations\nthe safe mask is applied to the counts and predicted number of counts\nmap during fitting. This correctly accounts for contributions\n(spill-over) by the PSF from outside the field of view.\n\n## Background estimation\n\nThe background computed by the `MapDatasetMaker` gives the number of\ncounts predicted by the background IRF of the observation. Because its\nactual normalization, or even its spectral shape, might be poorly\nconstrained, it is necessary to correct it with the data themselves.\nThis is the role of background estimation Makers.\n\n### FoV background\n\nIf the background energy dependent morphology is well reproduced by the\nbackground model stored in the IRF, it might be that its normalization\nis incorrect and that some spectral corrections are necessary. This is\nmade possible thanks to the `~gammapy.makers.FoVBackgroundMaker`. This\ntechnique is recommended in most 3D data reductions. For more details\nand usage, see [fov_background](../../user-guide/makers/fov.rst)_.\n\nHere we are going to use a `~gammapy.makers.FoVBackgroundMaker` that\nwill rescale the background model to the data excluding the region where\na known source is present. For more details on the way to create\nexclusion masks see the :doc:`mask maps </tutorials/api/mask_maps>` notebook.\n\n\n"
      ]
    },
    {
      "cell_type": "code",
      "execution_count": null,
      "metadata": {
        "collapsed": false
      },
      "outputs": [],
      "source": [
        "circle = CircleSkyRegion(center=geom.center_skydir, radius=0.2 * u.deg)\nexclusion_mask = geom.region_mask([circle], inside=False)\n\nfov_bkg_maker = FoVBackgroundMaker(method=\"scale\", exclusion_mask=exclusion_mask)\ndataset = fov_bkg_maker.run(dataset)"
      ]
    },
    {
      "cell_type": "markdown",
      "metadata": {},
      "source": [
        "Other backgrounds production methods are available as listed below.\n\n### Ring background\n\nIf the background model does not reproduce well the morphology, a\nclassical approach consists in applying local corrections by smoothing\nthe data with a ring kernel. This allows to build a set of OFF counts\ntaking into account the inperfect knowledge of the background. This is\nimplemented in the `~gammapy.makers.RingBackgroundMaker` which\ntransforms the Dataset in a `~gammapy.datasets.MapDatasetOnOff`. This technique is\nmostly used for imaging, and should not be applied for 3D modeling and\nfitting.\n\nFor more details and usage, see\n[ring_background](../../user-guide/makers/ring.rst)_.\n\n### Reflected regions background\n\nIn the absence of a solid background model, a classical technique in\nCherenkov astronomy for 1D spectral analysis is to estimate the\nbackground in a number of OFF regions. When the background can be safely\nestimated as radially symmetric w.r.t. the pointing direction, one can\napply the reflected regions background technique. This is implemented in\nthe `~gammapy.makers.ReflectedRegionsBackgroundMaker` which transforms\na `~gammapy.datasets.SpectrumDataset` in a `~gammapy.datasets.SpectrumDatasetOnOff`.\nThis method is only used for 1D spectral analysis.\n\nFor more details and usage, see\n[reflected_background](../../user-guide/makers/reflected.rst)_.\n\n## Data reduction loop\n\nThe data reduction steps can be combined in a single loop to run a full\ndata reduction chain. For this the `MapDatasetMaker` is run first and\nthe output dataset is the passed on to the next maker step. Finally the\ndataset per observation is stacked into a larger map.\n\n\n"
      ]
    },
    {
      "cell_type": "code",
      "execution_count": null,
      "metadata": {
        "collapsed": false
      },
      "outputs": [],
      "source": [
        "data_store = DataStore.from_dir(\"$GAMMAPY_DATA/hess-dl3-dr1\")\nobservations = data_store.get_observations([23523, 23592, 23526, 23559])\n\nenergy_axis = MapAxis.from_bounds(\n    1, 10, nbin=11, name=\"energy\", unit=\"TeV\", interp=\"log\"\n)\ngeom = WcsGeom.create(skydir=(83.63, 22.01), axes=[energy_axis], width=5, binsz=0.02)\n\ndataset_maker = MapDatasetMaker()\nsafe_mask_maker = SafeMaskMaker(\n    methods=[\"aeff-default\", \"offset-max\"], offset_max=\"3 deg\"\n)\n\nstacked = MapDataset.create(geom)\n\nfor obs in observations:\n    local_dataset = stacked.cutout(obs.pointing_radec, width=\"6 deg\")\n    dataset = dataset_maker.run(local_dataset, obs)\n    dataset = safe_mask_maker.run(dataset, obs)\n    dataset = fov_bkg_maker.run(dataset)\n    stacked.stack(dataset)\n\nprint(stacked)"
      ]
    },
    {
      "cell_type": "markdown",
      "metadata": {},
      "source": [
        "To maintain good performance it is always recommended to do a cutout of\nthe `MapDataset` as shown above. In case you want to increase the\noffset-cut later, you can also choose a larger width of the cutout than\n`2 * offset_max`.\n\nNote that we stack the individual `~gammapy.datasets.MapDataset`, which are computed per\nobservation into a larger dataset. During the stacking the safe data\nrange mask (`~gammapy.datasets.MapDataset.mask_safe`) is applied by setting data outside\nto zero, then data is added to the larger map dataset. To stack multiple\nobservations, the larger dataset must be created first.\n\nThe data reduction loop shown above can be done throught the\n`~gammapy.makers.DatasetsMaker` class that take as argument a list of makers. **Note\nthat the order of the makers list is important as it determines their\nexecution order.** Moreover the `stack_datasets` option offers the\npossibily to stack or not the output datasets, and the `n_jobs` option\nallow to use multiple processes on run.\n\n\n"
      ]
    },
    {
      "cell_type": "code",
      "execution_count": null,
      "metadata": {
        "collapsed": false
      },
      "outputs": [],
      "source": [
        "global_dataset = MapDataset.create(geom)\nmakers = [dataset_maker, safe_mask_maker, fov_bkg_maker]  # the order matter\ndatasets_maker = DatasetsMaker(makers, stack_datasets=False, n_jobs=1)\ndatasets = datasets_maker.run(global_dataset, observations)\nprint(datasets)"
      ]
    },
    {
      "cell_type": "markdown",
      "metadata": {},
      "source": [
        "## Spectrum dataset\n\nThe spectrum datasets represent 1D spectra along an energy axis whitin a\ngiven on region. The `~gammapy.datasets.SpectrumDataset` contains a counts spectrum, and\na background model. The `~gammapy.datasets.SpectrumDatasetOnOff` contains ON and OFF\ncount spectra, background is implicitly modeled via the OFF counts\nspectrum.\n\nThe `~gammapy.datasets.SpectrumDatasetMaker` make spectrum dataset for a single\nobservation. In that case the irfs and background are computed at a\nsingle fixed offset, which is recommend only for point-sources.\n\nHere is an example of data reduction loop to create\n`~gammapy.datasets.SpectrumDatasetOnOff` datasets:\n\n\n"
      ]
    },
    {
      "cell_type": "code",
      "execution_count": null,
      "metadata": {
        "collapsed": false
      },
      "outputs": [],
      "source": [
        "# on region is given by the CircleSkyRegion previously defined\ngeom = RegionGeom.create(region=circle, axes=[energy_axis])\nexclusion_mask_2d = exclusion_mask.reduce_over_axes(np.logical_or, keepdims=False)\n\nspectrum_dataset_empty = SpectrumDataset.create(\n    geom=geom, energy_axis_true=energy_axis_true\n)\n\nspectrum_dataset_maker = SpectrumDatasetMaker(\n    containment_correction=False, selection=[\"counts\", \"exposure\", \"edisp\"]\n)\nreflected_bkg_maker = ReflectedRegionsBackgroundMaker(exclusion_mask=exclusion_mask_2d)\nsafe_mask_masker = SafeMaskMaker(methods=[\"aeff-max\"], aeff_percent=10)\n\ndatasets = Datasets()\n\nfor observation in observations:\n    dataset = spectrum_dataset_maker.run(\n        spectrum_dataset_empty.copy(name=f\"obs-{observation.obs_id}\"),\n        observation,\n    )\n    dataset_on_off = reflected_bkg_maker.run(dataset, observation)\n    dataset_on_off = safe_mask_masker.run(dataset_on_off, observation)\n    datasets.append(dataset_on_off)\nprint(datasets)\n\nplt.show()"
      ]
    }
  ],
  "metadata": {
    "kernelspec": {
      "display_name": "Python 3",
      "language": "python",
      "name": "python3"
    },
    "language_info": {
      "codemirror_mode": {
        "name": "ipython",
        "version": 3
      },
      "file_extension": ".py",
      "mimetype": "text/x-python",
      "name": "python",
      "nbconvert_exporter": "python",
      "pygments_lexer": "ipython3",
      "version": "3.9.16"
    }
  },
  "nbformat": 4,
  "nbformat_minor": 0
}