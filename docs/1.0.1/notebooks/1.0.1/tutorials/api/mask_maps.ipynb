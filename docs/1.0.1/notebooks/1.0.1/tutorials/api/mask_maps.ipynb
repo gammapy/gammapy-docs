{
  "cells": [
    {
      "cell_type": "code",
      "execution_count": null,
      "metadata": {
        "collapsed": false
      },
      "outputs": [],
      "source": [
        "%matplotlib inline"
      ]
    },
    {
      "cell_type": "markdown",
      "metadata": {},
      "source": [
        "\n# Mask maps\n\nCreate and apply masks maps.\n\n## Prerequisites\n\n-  Understanding of basic analyses in 1D or 3D.\n-  Usage of `~regions` and catalogs, see the :doc:`catalog\n   notebook </tutorials/api/catalog>`.\n\n## Context\n\nThere are two main categories of masks in Gammapy for different use\ncases. - Fitting often requires to ignore some parts of a reduced\ndataset, e.g. to restrict the fit to a specific energy range or to\nignore parts of the region of interest that the user does not want to\nmodel, or both. Gammapy\u2019s `Datasets` therefore contain a `mask_fit`\nsharing the same geometry as the data (i.e. `counts`). - During data\nreduction, some background makers will normalize the background model\ntemplate on the data themselves. To limit contamination by real photons,\none has to exclude parts of the field-of-view where signal is expected\nto be large. To do so, one needs to provide an exclusion mask. The\nlatter can be provided in a different geometry as it will be reprojected\nby the `Makers`.\n\nWe explain in more details these two types of masks below:\n\n### Masks for fitting\n\nThe region of interest used for the fit can defined through the dataset\n`mask_fit` attribute. The `mask_fit` is a map containing boolean\nvalues where pixels used in the fit are stored as True.\n\nA spectral fit (1D or 3D) can be restricted to a specific energy range\nwhere e.g. the background is well estimated or where the number of\ncounts is large enough. Similarly, 2D and 3D analyses usually require to\nwork with a wider map than the region of interest so sources laying\noutside but reconstructed inside because of the PSF are correctly taken\ninto account. Then the `mask_fit` have to include a margin that take\ninto account the PSF width. We will show an example in the boundary mask\nsub-section.\n\nThe `mask_fit` also can be used to exclude sources or complex regions\nfor which we don\u2019t have good enough models. In that case the masking is\nan extra security, it is preferable to include the available models\neven if the sources are masked and frozen.\n\nNote that a dataset contains also a `mask_safe` attribute that is\ncreated and filled during data reduction. It is not to be modified\ndirectly by users. The `mask_safe` is defined only from the options\npassed to the `~gammapy.makers.SafeMaskMaker` (for more details see\n`Safe Data Range Handling`_).\n\n### Exclusion masks\n\nBackground templates stored in the DL3 IRF are often not reliable enough\nto be used without some corrections. A set of common techniques to\nperform background or normalisation from the data is implemented in\ngammapy: reflected regions for 1D spectrum analysis, field-of-view (FoV)\nbackground or ring background for 2D and 3D analyses.\n\nTo avoid contamination of the background estimate from gamma-ray bright\nregions these methods require to exclude those regions from the data\nused for the estimation. To do so, we use exclusion masks. They are maps\ncontaining boolean values where excluded pixels are stored as False.\n\n## Proposed approach\n\nEven if the use cases for exclusion masks and fit masks are different,\nthe way to create these masks is exactly the same, so in the following\nwe show how to work with masks in general: - Creating masks from scratch\n- Combining multiple masks - Extending and reducing an existing mask -\nReading and writing masks\n"
      ]
    },
    {
      "cell_type": "markdown",
      "metadata": {},
      "source": [
        "## Setup\n\n\n"
      ]
    },
    {
      "cell_type": "code",
      "execution_count": null,
      "metadata": {
        "collapsed": false
      },
      "outputs": [],
      "source": [
        "import numpy as np\nimport astropy.units as u\nfrom astropy.coordinates import Angle, SkyCoord\nfrom regions import CircleSkyRegion, Regions\n\n# %matplotlib inline\nimport matplotlib.pyplot as plt\nfrom gammapy.catalog import CATALOG_REGISTRY\nfrom gammapy.datasets import Datasets\nfrom gammapy.estimators import ExcessMapEstimator\nfrom gammapy.maps import Map, WcsGeom"
      ]
    },
    {
      "cell_type": "markdown",
      "metadata": {},
      "source": [
        "## Check setup\n\n"
      ]
    },
    {
      "cell_type": "code",
      "execution_count": null,
      "metadata": {
        "collapsed": false
      },
      "outputs": [],
      "source": [
        "from gammapy.utils.check import check_tutorials_setup\n\ncheck_tutorials_setup()"
      ]
    },
    {
      "cell_type": "markdown",
      "metadata": {},
      "source": [
        "\n## Creating a mask for fitting\n\nOne can build a `mask_fit` to restrict the energy range of pixels used\nto fit a `Dataset`. The mask being a `Map` it needs to use the same\ngeometry (i.e.\u00a0a `Geom` object) as the `Dataset` it will be applied\nto.\n\nWe show here how to proceed on a `MapDataset` taken from Fermi data\nused in the 3FHL catalog. The dataset is already in the form of a\n`Datasets` object. We read it from disk.\n\n\n"
      ]
    },
    {
      "cell_type": "code",
      "execution_count": null,
      "metadata": {
        "collapsed": false
      },
      "outputs": [],
      "source": [
        "filename = \"$GAMMAPY_DATA/fermi-3fhl-crab/Fermi-LAT-3FHL_datasets.yaml\"\ndatasets = Datasets.read(filename=filename)\ndataset = datasets[\"Fermi-LAT\"]"
      ]
    },
    {
      "cell_type": "markdown",
      "metadata": {},
      "source": [
        "We can check the default energy range of the dataset. In the absence of\na `mask_fit` it is equal to the safe energy range.\n\n\n"
      ]
    },
    {
      "cell_type": "code",
      "execution_count": null,
      "metadata": {
        "collapsed": false
      },
      "outputs": [],
      "source": [
        "print(f\"Fit range : {dataset.energy_range}\")"
      ]
    },
    {
      "cell_type": "markdown",
      "metadata": {},
      "source": [
        "### Create a mask in energy\n\nWe show first how to use a simple helper function\n`~gammapy.maps.Geom.energy_range()`.\n\nWe obtain the `Geom` that is stored on the `counts` map inside the\n`Dataset` and we can directly create the `Map`.\n\n\n"
      ]
    },
    {
      "cell_type": "code",
      "execution_count": null,
      "metadata": {
        "collapsed": false
      },
      "outputs": [],
      "source": [
        "mask_energy = dataset.counts.geom.energy_mask(10 * u.GeV, 700 * u.GeV)"
      ]
    },
    {
      "cell_type": "markdown",
      "metadata": {},
      "source": [
        "We can now set the dataset `mask_fit` attribute.\n\nAnd we check that the total fit range has changed accordingly. The bin\nedges closest to requested range provide the actual fit range.\n\n\n"
      ]
    },
    {
      "cell_type": "code",
      "execution_count": null,
      "metadata": {
        "collapsed": false
      },
      "outputs": [],
      "source": [
        "dataset.mask_fit = mask_energy\nprint(f\"Fit range : {dataset.energy_range}\")"
      ]
    },
    {
      "cell_type": "markdown",
      "metadata": {},
      "source": [
        "### Mask some sky regions\n\nOne might also exclude some specific part of the sky for the fit. For\ninstance, if one wants not to model a specific source in the region of\ninterest, or if one want to reduce the region of interest in the dataset\n`Geom`.\n\nIn the following we restrict the fit region to a square around the Crab\nnebula. **Note**: the dataset geometry is aligned on the galactic frame,\nwe use the same frame to define the box to ensure a correct alignment.\nWe can now create the map. We use the `WcsGeom.region_mask` method\nputting all pixels outside the regions to False (because we only want to\nconsider pixels inside the region. For convenience we can directly pass\na ds9 region string to the method:\n\n\n"
      ]
    },
    {
      "cell_type": "code",
      "execution_count": null,
      "metadata": {
        "collapsed": false
      },
      "outputs": [],
      "source": [
        "regions = \"galactic;box(184.55, -5.78, 3.0, 3.0)\"\nmask_map = dataset.counts.geom.region_mask(regions)"
      ]
    },
    {
      "cell_type": "markdown",
      "metadata": {},
      "source": [
        "We can now combine this mask with the energy mask using the logical and\noperator\n\n\n"
      ]
    },
    {
      "cell_type": "code",
      "execution_count": null,
      "metadata": {
        "collapsed": false
      },
      "outputs": [],
      "source": [
        "dataset.mask_fit &= mask_map"
      ]
    },
    {
      "cell_type": "markdown",
      "metadata": {},
      "source": [
        "Let\u2019s check the result and plot the full mask.\n\n\n"
      ]
    },
    {
      "cell_type": "code",
      "execution_count": null,
      "metadata": {
        "collapsed": false
      },
      "outputs": [],
      "source": [
        "_ = dataset.mask_fit.plot_grid(ncols=5, vmin=0, vmax=1, figsize=(14, 3))"
      ]
    },
    {
      "cell_type": "markdown",
      "metadata": {},
      "source": [
        "### Creating a mask manually\n\nIf you are more familiar with the `Geom` and `Map` API, you can also\ncreate the mask manually from the coordinates of all pixels in the\ngeometry. Here we simply show how to obtain the same behaviour as the\n`energy_mask` helper method.\n\nIn practice, this allows to create complex energy dependent masks.\n\n\n"
      ]
    },
    {
      "cell_type": "code",
      "execution_count": null,
      "metadata": {
        "collapsed": false
      },
      "outputs": [],
      "source": [
        "coords = dataset.counts.geom.get_coord()\nmask_data = (coords[\"energy\"] >= 10 * u.GeV) & (coords[\"energy\"] < 700 * u.GeV)\nmask_energy = Map.from_geom(dataset.counts.geom, data=mask_data)"
      ]
    },
    {
      "cell_type": "markdown",
      "metadata": {},
      "source": [
        "## Creating an exclusion mask\n\nExclusion masks are typically used for background estimation to mask out\nregions where gamma-ray signal is expected. An exclusion mask is usually\na simple 2D boolean `Map` where excluded positions are stored as\n`False`. Their actual geometries are independent of the target\ndatasets that a user might want to build. The first thing to do is to\nbuild the geometry.\n\n### Define the geometry\n\nMasks are stored in `Map` objects. We must first define its geometry\nand then we can determine which pixels to exclude. Here we consider a\nregion at the Galactic anticentre around the crab nebula.\n\n\n"
      ]
    },
    {
      "cell_type": "code",
      "execution_count": null,
      "metadata": {
        "collapsed": false
      },
      "outputs": [],
      "source": [
        "position = SkyCoord(83.633083, 22.0145, unit=\"deg\", frame=\"icrs\")\ngeom = WcsGeom.create(skydir=position, width=\"5 deg\", binsz=0.02, frame=\"galactic\")"
      ]
    },
    {
      "cell_type": "markdown",
      "metadata": {},
      "source": [
        "### Create the mask from a list of regions\n\nOne can build an exclusion mask from regions. We show here how to\nproceed.\n\nWe can rely on known sources positions and properties to build a list of\nregions (here `~regions.SkyRegions`) enclosing most of the signal that\nour detector would see from these objects.\n\nA useful function to create region objects is\n`~regions.regions.parse`. It can take strings defining regions\ne.g.\u00a0following the \u201cds9\u201d format and convert them to `regions`.\n\nHere we use a region enclosing the Crab nebula with 0.3 degrees. The\nactual region size should depend on the expected PSF of the data used.\nWe also add another region with a different shape as en example.\n\n\n"
      ]
    },
    {
      "cell_type": "code",
      "execution_count": null,
      "metadata": {
        "collapsed": false
      },
      "outputs": [],
      "source": [
        "regions_ds9 = \"galactic;box(185,-4,1.0,0.5, 45);icrs;circle(83.633083, 22.0145, 0.3)\"\nregions = Regions.parse(regions_ds9, format=\"ds9\")\nprint(regions)"
      ]
    },
    {
      "cell_type": "markdown",
      "metadata": {},
      "source": [
        "Equivalently the regions can be read from a ds9 file, this time using\n`Regions.read`.\n\n\n"
      ]
    },
    {
      "cell_type": "code",
      "execution_count": null,
      "metadata": {
        "collapsed": false
      },
      "outputs": [],
      "source": [
        "# regions = Regions.read('ds9.reg', format=\"ds9\")"
      ]
    },
    {
      "cell_type": "markdown",
      "metadata": {},
      "source": [
        "#### Create the mask map\n\nWe can now create the map. We use the `WcsGeom.region_mask` method\nputting all pixels inside the regions to False.\n\n\n"
      ]
    },
    {
      "cell_type": "code",
      "execution_count": null,
      "metadata": {
        "collapsed": false
      },
      "outputs": [],
      "source": [
        "# to define the exclusion mask we take the inverse\nmask_map = ~geom.region_mask(regions)\nplt.figure()\nmask_map.plot()"
      ]
    },
    {
      "cell_type": "markdown",
      "metadata": {},
      "source": [
        "### Create the mask from a catalog of sources\n\nWe can also build our list of regions from a list of catalog sources.\nHere we use the Fermi 4FGL catalog which we read using\n`~gammapy.catalog.SourceCatalog`.\n\n\n"
      ]
    },
    {
      "cell_type": "code",
      "execution_count": null,
      "metadata": {
        "collapsed": false
      },
      "outputs": [],
      "source": [
        "fgl = CATALOG_REGISTRY.get_cls(\"4fgl\")()"
      ]
    },
    {
      "cell_type": "markdown",
      "metadata": {},
      "source": [
        "We now select sources that are contained in the region we are interested\nin.\n\n\n"
      ]
    },
    {
      "cell_type": "code",
      "execution_count": null,
      "metadata": {
        "collapsed": false
      },
      "outputs": [],
      "source": [
        "inside_geom = geom.contains(fgl.positions)\npositions = fgl.positions[inside_geom]"
      ]
    },
    {
      "cell_type": "markdown",
      "metadata": {},
      "source": [
        "We now create the list of regions using our 0.3 degree radius a priori\nvalue. If the sources were extended, one would have to adapt the sizes\nto account for the larger size.\n\n\n"
      ]
    },
    {
      "cell_type": "code",
      "execution_count": null,
      "metadata": {
        "collapsed": false
      },
      "outputs": [],
      "source": [
        "exclusion_radius = Angle(\"0.3 deg\")\nregions = [CircleSkyRegion(position, exclusion_radius) for position in positions]"
      ]
    },
    {
      "cell_type": "markdown",
      "metadata": {},
      "source": [
        "Now we can build the mask map the same way as above.\n\n\n"
      ]
    },
    {
      "cell_type": "code",
      "execution_count": null,
      "metadata": {
        "collapsed": false
      },
      "outputs": [],
      "source": [
        "mask_map_catalog = ~geom.region_mask(regions)\nplt.figure()\nmask_map_catalog.plot()"
      ]
    },
    {
      "cell_type": "markdown",
      "metadata": {},
      "source": [
        "### Create the mask from statistically significant pixels in a dataset\n\nHere we want to determine an exclusion from the data directly. We will\nestimate the significance of the data using the `ExcessMapEstimator`,\nand exclude all pixels above a given threshold.\n\nHere we use the `MapDataset` taken from the Fermi data used above.\n\n\n"
      ]
    },
    {
      "cell_type": "markdown",
      "metadata": {},
      "source": [
        "We apply a significance estimation. We integrate the counts using a\ncorrelation radius of 0.4 degree and apply regular significance\nestimate.\n\n\n"
      ]
    },
    {
      "cell_type": "code",
      "execution_count": null,
      "metadata": {
        "collapsed": false
      },
      "outputs": [],
      "source": [
        "estimator = ExcessMapEstimator(\"0.4 deg\", selection_optional=[])\nresult = estimator.run(dataset)"
      ]
    },
    {
      "cell_type": "markdown",
      "metadata": {},
      "source": [
        "Finally, we create the mask map by applying a threshold of 5 sigma to\nremove pixels.\n\n\n"
      ]
    },
    {
      "cell_type": "code",
      "execution_count": null,
      "metadata": {
        "collapsed": false
      },
      "outputs": [],
      "source": [
        "significance_mask = result[\"sqrt_ts\"] < 5.0"
      ]
    },
    {
      "cell_type": "markdown",
      "metadata": {},
      "source": [
        "Because the `ExcessMapEstimator` returns NaN for masked pixels, we\nneed to put the NaN values to `True` to avoid incorrectly excluding\nthem.\n\n\n"
      ]
    },
    {
      "cell_type": "code",
      "execution_count": null,
      "metadata": {
        "collapsed": false
      },
      "outputs": [],
      "source": [
        "invalid_pixels = np.isnan(result[\"sqrt_ts\"].data)\nsignificance_mask.data[invalid_pixels] = True\nplt.figure()\nsignificance_mask.plot()"
      ]
    },
    {
      "cell_type": "markdown",
      "metadata": {},
      "source": [
        "This method frequently yields isolated pixels or weakly significant\nfeatures if one places the threshold too low.\n\nTo overcome this issue, one can use\n`~skimage.filters.apply_hysteresis_threshold` . This filter allows to\ndefine two thresholds and mask only the pixels between the low and high\nthresholds if they are not continuously connected to a pixel above the\nhigh threshold. This allows to better preserve the structure of the\nexcesses.\n\nNote that scikit-image is not a required dependency of gammapy, you\nmight need to install it.\n\n\n"
      ]
    },
    {
      "cell_type": "markdown",
      "metadata": {},
      "source": [
        "## Masks operations\n\nIf two masks share the same geometry it is easy to combine them with\n`Map` arithmetic.\n\nOR condition is represented by `|` operator :\n\n\n"
      ]
    },
    {
      "cell_type": "code",
      "execution_count": null,
      "metadata": {
        "collapsed": false
      },
      "outputs": [],
      "source": [
        "mask = mask_map | mask_map_catalog\nplt.figure()\nmask.plot()"
      ]
    },
    {
      "cell_type": "markdown",
      "metadata": {},
      "source": [
        "AND condition is represented by `&` or `*` operators :\n\n\n"
      ]
    },
    {
      "cell_type": "code",
      "execution_count": null,
      "metadata": {
        "collapsed": false
      },
      "outputs": [],
      "source": [
        "mask_map &= mask_map_catalog\nplt.figure()\nmask_map.plot()"
      ]
    },
    {
      "cell_type": "markdown",
      "metadata": {},
      "source": [
        "The NOT operator is represented by `~` symbol:\n\n\n"
      ]
    },
    {
      "cell_type": "code",
      "execution_count": null,
      "metadata": {
        "collapsed": false
      },
      "outputs": [],
      "source": [
        "significance_mask_inv = ~significance_mask\nplt.figure()\nsignificance_mask_inv.plot()"
      ]
    },
    {
      "cell_type": "markdown",
      "metadata": {},
      "source": [
        "## Mask modifications\n\n### Mask dilation and erosion\n\nOne can reduce or extend a mask using `binary_erode` and\n`binary_dilate` methods, respectively.\n\n\n"
      ]
    },
    {
      "cell_type": "code",
      "execution_count": null,
      "metadata": {
        "collapsed": false
      },
      "outputs": [],
      "source": [
        "plt.figure()\nmask = significance_mask_inv.binary_erode(width=0.2 * u.deg, kernel=\"disk\")\nmask.plot()\n\nplt.figure()\nmask = significance_mask_inv.binary_dilate(width=0.2 * u.deg)\nmask.plot()"
      ]
    },
    {
      "cell_type": "markdown",
      "metadata": {},
      "source": [
        "### Boundary mask\n\nIn the following example we use the Fermi dataset previously loaded and\nadd its `mask_fit` taking into account a margin based on the psf\nwidth. The margin width is determined using the `containment_radius`\nmethod of the psf object and the mask is created using the\n`boundary_mask` method available on the geometry object.\n\n\n"
      ]
    },
    {
      "cell_type": "code",
      "execution_count": null,
      "metadata": {
        "collapsed": false
      },
      "outputs": [],
      "source": [
        "# get PSF 95% containment radius\nenergy_true = dataset.exposure.geom.axes[0].center\npsf_r95 = dataset.psf.containment_radius(fraction=0.95, energy_true=energy_true)\n# create mask_fit with margin based on PSF\nmask_fit = dataset.counts.geom.boundary_mask(psf_r95.max())\ndataset.mask_fit = mask_fit\nplt.figure()\ndataset.mask_fit.sum_over_axes().plot()\n\nplt.show()"
      ]
    },
    {
      "cell_type": "markdown",
      "metadata": {},
      "source": [
        "## Reading and writing masks\n\n`gammapy.maps` can directly read/write maps with boolean content as\nfollows:\n\n\n"
      ]
    },
    {
      "cell_type": "code",
      "execution_count": null,
      "metadata": {
        "collapsed": false
      },
      "outputs": [],
      "source": [
        "# To save masks to disk\nmask_map.write(\"exclusion_mask.fits\", overwrite=\"True\")\n\n# To read maps from disk\nmask_map = Map.read(\"exclusion_mask.fits\")"
      ]
    }
  ],
  "metadata": {
    "kernelspec": {
      "display_name": "Python 3",
      "language": "python",
      "name": "python3"
    },
    "language_info": {
      "codemirror_mode": {
        "name": "ipython",
        "version": 3
      },
      "file_extension": ".py",
      "mimetype": "text/x-python",
      "name": "python",
      "nbconvert_exporter": "python",
      "pygments_lexer": "ipython3",
      "version": "3.9.16"
    }
  },
  "nbformat": 4,
  "nbformat_minor": 0
}