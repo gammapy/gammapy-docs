{
  "cells": [
    {
      "cell_type": "code",
      "execution_count": null,
      "metadata": {
        "collapsed": false
      },
      "outputs": [],
      "source": [
        "%matplotlib inline"
      ]
    },
    {
      "cell_type": "markdown",
      "metadata": {},
      "source": [
        "\n# Fermi-LAT with Gammapy\n\nData inspection and preliminary analysis with Fermi-LAT data.\n\n## Introduction\n\nThis tutorial will show you how to work with Fermi-LAT data with\nGammapy. As an example, we will look at the Galactic center region using\nthe high-energy dataset that was used for the 3FHL catalog, in the\nenergy range 10 GeV to 2 TeV.\n\nWe note that support for Fermi-LAT data analysis in Gammapy is very\nlimited. For most tasks, we recommend you use\n[Fermipy](http://fermipy.readthedocs.io/)_, which is based on the\n[Fermi Science\nTools](https://fermi.gsfc.nasa.gov/ssc/data/analysis/software/)_\n(Fermi ST).\n\nUsing Gammapy with Fermi-LAT data could be an option for you if you want\nto do an analysis that is not easily possible with Fermipy and the Fermi\nScience Tools. For example a joint likelihood fit of Fermi-LAT data with\ndata e.g.\u00a0from H.E.S.S., MAGIC, VERITAS or some other instrument, or\nanalysis of Fermi-LAT data with a complex spatial or spectral model that\nis not available in Fermipy or the Fermi ST.\n\nBesides Gammapy, you might want to look at are\n[Sherpa](http://cxc.harvard.edu/sherpa/)_ or\n[3ML](https://threeml.readthedocs.io/)_. Or just using Python to roll\nyour own analysis using several existing analysis packages. E.g. it it\npossible to use Fermipy and the Fermi ST to evaluate the likelihood on\nFermi-LAT data, and Gammapy to evaluate it e.g.\u00a0for IACT data, and to do\na joint likelihood fit using\ne.g.\u00a0[iminuit](http://iminuit.readthedocs.io/)_ or\n[emcee](http://dfm.io/emcee)_.\n\nTo use Fermi-LAT data with Gammapy, you first have to use the Fermi ST\nto prepare an event list (using `gtselect` and `gtmktime`, exposure\ncube (using `gtexpcube2` and PSF (using `gtpsf`). You can then use\n`~gammapy.data.EventList`, `~gammapy.maps` and the\n`~gammapy.irf.PSFMap` to read the Fermi-LAT maps and PSF, i.e.\u00a0support\nfor these high level analysis products from the Fermi ST is built in. To\ndo a 3D map analysis, you can use Fit for Fermi-LAT data in the same way\nthat it\u2019s use for IACT data. This is illustrated in this notebook. A 1D\nregion-based spectral analysis is also possible, this will be\nillustrated in a future tutorial.\n\n## Setup\n\n**IMPORTANT**: For this notebook you have to get the prepared `3fhl`\ndataset provided in your $GAMMAPY_DATA.\n\nNote that the `3fhl` dataset is high-energy only, ranging from 10 GeV\nto 2 TeV.\n"
      ]
    },
    {
      "cell_type": "code",
      "execution_count": null,
      "metadata": {
        "collapsed": false
      },
      "outputs": [],
      "source": [
        "from astropy import units as u\nfrom astropy.coordinates import SkyCoord\n\n# %matplotlib inline\nimport matplotlib.pyplot as plt\nfrom IPython.display import display\nfrom gammapy.data import EventList\nfrom gammapy.datasets import Datasets, MapDataset\nfrom gammapy.irf import EDispKernelMap, PSFMap\nfrom gammapy.maps import Map, MapAxis, WcsGeom\nfrom gammapy.modeling import Fit\nfrom gammapy.modeling.models import (\n    Models,\n    PointSpatialModel,\n    PowerLawNormSpectralModel,\n    PowerLawSpectralModel,\n    SkyModel,\n    TemplateSpatialModel,\n    create_fermi_isotropic_diffuse_model,\n)"
      ]
    },
    {
      "cell_type": "markdown",
      "metadata": {},
      "source": [
        "## Check setup\n\n"
      ]
    },
    {
      "cell_type": "code",
      "execution_count": null,
      "metadata": {
        "collapsed": false
      },
      "outputs": [],
      "source": [
        "from gammapy.utils.check import check_tutorials_setup\n\ncheck_tutorials_setup()"
      ]
    },
    {
      "cell_type": "markdown",
      "metadata": {},
      "source": [
        "## Events\n\nTo load up the Fermi-LAT event list, use the `~gammapy.data.EventList`\nclass:\n\n\n"
      ]
    },
    {
      "cell_type": "code",
      "execution_count": null,
      "metadata": {
        "collapsed": false
      },
      "outputs": [],
      "source": [
        "events = EventList.read(\"$GAMMAPY_DATA/fermi_3fhl/fermi_3fhl_events_selected.fits.gz\")\nprint(events)"
      ]
    },
    {
      "cell_type": "markdown",
      "metadata": {},
      "source": [
        "The event data is stored in a\n[astropy.table.Table](http://docs.astropy.org/en/stable/api/astropy.table.Table.html)_\nobject. In case of the Fermi-LAT event list this contains all the\nadditional information on position, zenith angle, earth azimuth angle,\nevent class, event type etc.\n\n\n"
      ]
    },
    {
      "cell_type": "code",
      "execution_count": null,
      "metadata": {
        "collapsed": false
      },
      "outputs": [],
      "source": [
        "print(events.table.colnames)\n\ndisplay(events.table[:5][[\"ENERGY\", \"RA\", \"DEC\"]])\n\nprint(events.time[0].iso)\nprint(events.time[-1].iso)\n\nenergy = events.energy\nenergy.info(\"stats\")"
      ]
    },
    {
      "cell_type": "markdown",
      "metadata": {},
      "source": [
        "As a short analysis example we will count the number of events above a\ncertain minimum energy:\n\n\n"
      ]
    },
    {
      "cell_type": "code",
      "execution_count": null,
      "metadata": {
        "collapsed": false
      },
      "outputs": [],
      "source": [
        "for e_min in [10, 100, 1000] * u.GeV:\n    n = (events.energy > e_min).sum()\n    print(f\"Events above {e_min:4.0f}: {n:5.0f}\")"
      ]
    },
    {
      "cell_type": "markdown",
      "metadata": {},
      "source": [
        "## Counts\n\nLet us start to prepare things for an 3D map analysis of the Galactic\ncenter region with Gammapy. The first thing we do is to define the map\ngeometry. We chose a TAN projection centered on position\n`(glon, glat) = (0, 0)` with pixel size 0.1 deg, and four energy bins.\n\n\n"
      ]
    },
    {
      "cell_type": "code",
      "execution_count": null,
      "metadata": {
        "collapsed": false
      },
      "outputs": [],
      "source": [
        "gc_pos = SkyCoord(0, 0, unit=\"deg\", frame=\"galactic\")\nenergy_axis = MapAxis.from_edges(\n    [1e4, 3e4, 1e5, 3e5, 2e6], name=\"energy\", unit=\"MeV\", interp=\"log\"\n)\ncounts = Map.create(\n    skydir=gc_pos,\n    npix=(100, 80),\n    proj=\"TAN\",\n    frame=\"galactic\",\n    binsz=0.1,\n    axes=[energy_axis],\n    dtype=float,\n)\n# We put this call into the same Jupyter cell as the Map.create\n# because otherwise we could accidentally fill the counts\n# multiple times when executing the `fill_by_coord` multiple times.\ncounts.fill_events(events)\n\nprint(counts.geom.axes[0])\n\nplt.figure()\ncounts.sum_over_axes().smooth(2).plot(stretch=\"sqrt\", vmax=30)"
      ]
    },
    {
      "cell_type": "markdown",
      "metadata": {},
      "source": [
        "## Exposure\n\nThe Fermi-LAT dataset contains the energy-dependent exposure for the\nwhole sky as a HEALPix map computed with `gtexpcube2`. This format is\nsupported by `~gammapy.maps.Map` directly.\n\nInterpolating the exposure cube from the Fermi ST to get an exposure\ncube matching the spatial geometry and energy axis defined above with\nGammapy is easy. The only point to watch out for is how exactly you want\nthe energy axis and binning handled.\n\nBelow we just use the default behaviour, which is linear interpolation\nin energy on the original exposure cube. Probably log interpolation\nwould be better, but it doesn\u2019t matter much here, because the energy\nbinning is fine. Finally, we just copy the counts map geometry, which\ncontains an energy axis with `node_type=\"edges\"`. This is non-ideal\nfor exposure cubes, but again, acceptable because exposure doesn\u2019t vary\nmuch from bin to bin, so the exact way interpolation occurs in later use\nof that exposure cube doesn\u2019t matter a lot. Of course you could define\nany energy axis for your exposure cube that you like.\n\n\n"
      ]
    },
    {
      "cell_type": "code",
      "execution_count": null,
      "metadata": {
        "collapsed": false
      },
      "outputs": [],
      "source": [
        "exposure_hpx = Map.read(\"$GAMMAPY_DATA/fermi_3fhl/fermi_3fhl_exposure_cube_hpx.fits.gz\")\nprint(exposure_hpx.geom)\nprint(exposure_hpx.geom.axes[0])\n\nplt.figure()\nexposure_hpx.plot()"
      ]
    },
    {
      "cell_type": "markdown",
      "metadata": {},
      "source": [
        "For exposure, we choose a geometry with node_type='center',\n\n"
      ]
    },
    {
      "cell_type": "code",
      "execution_count": null,
      "metadata": {
        "collapsed": false
      },
      "outputs": [],
      "source": [
        "axis = MapAxis.from_energy_bounds(\n    \"10 GeV\",\n    \"2 TeV\",\n    nbin=10,\n    per_decade=True,\n    name=\"energy_true\",\n)\ngeom = WcsGeom(wcs=counts.geom.wcs, npix=counts.geom.npix, axes=[axis])\n\nexposure = exposure_hpx.interp_to_geom(geom)\n\nprint(exposure.geom)\nprint(exposure.geom.axes[0])"
      ]
    },
    {
      "cell_type": "markdown",
      "metadata": {},
      "source": [
        "Exposure is almost constant across the field of view\n\n"
      ]
    },
    {
      "cell_type": "code",
      "execution_count": null,
      "metadata": {
        "collapsed": false
      },
      "outputs": [],
      "source": [
        "plt.figure()\nexposure.slice_by_idx({\"energy_true\": 0}).plot(add_cbar=True)"
      ]
    },
    {
      "cell_type": "markdown",
      "metadata": {},
      "source": [
        "Exposure varies very little with energy at these high energies\n\n"
      ]
    },
    {
      "cell_type": "code",
      "execution_count": null,
      "metadata": {
        "collapsed": false
      },
      "outputs": [],
      "source": [
        "energy = [10, 100, 1000] * u.GeV\nprint(exposure.get_by_coord({\"skycoord\": gc_pos, \"energy_true\": energy}))"
      ]
    },
    {
      "cell_type": "markdown",
      "metadata": {},
      "source": [
        "## Galactic diffuse background\n\n\n"
      ]
    },
    {
      "cell_type": "markdown",
      "metadata": {},
      "source": [
        "The Fermi-LAT collaboration provides a galactic diffuse emission model,\nthat can be used as a background model for Fermi-LAT source analysis.\n\nDiffuse model maps are very large (100s of MB), so as an example here,\nwe just load one that represents a small cutout for the Galactic center\nregion.\n\nIn this case, the maps are already in differential units, so we do not\nwant to normalise it again.\n\n\n"
      ]
    },
    {
      "cell_type": "code",
      "execution_count": null,
      "metadata": {
        "collapsed": false
      },
      "outputs": [],
      "source": [
        "template_diffuse = TemplateSpatialModel.read(\n    filename=\"$GAMMAPY_DATA/fermi-3fhl-gc/gll_iem_v06_gc.fits.gz\", normalize=False\n)\n\nprint(template_diffuse.map)\n\ndiffuse_iem = SkyModel(\n    spectral_model=PowerLawNormSpectralModel(),\n    spatial_model=template_diffuse,\n    name=\"diffuse-iem\",\n)"
      ]
    },
    {
      "cell_type": "markdown",
      "metadata": {},
      "source": [
        "Let\u2019s look at the map of first energy band of the cube:\n\n\n"
      ]
    },
    {
      "cell_type": "code",
      "execution_count": null,
      "metadata": {
        "collapsed": false
      },
      "outputs": [],
      "source": [
        "plt.figure()\ntemplate_diffuse.map.slice_by_idx({\"energy_true\": 0}).plot(add_cbar=True)"
      ]
    },
    {
      "cell_type": "markdown",
      "metadata": {},
      "source": [
        "Here is the spectrum at the Galactic center:\n\n\n"
      ]
    },
    {
      "cell_type": "code",
      "execution_count": null,
      "metadata": {
        "collapsed": false
      },
      "outputs": [],
      "source": [
        "dnde = template_diffuse.map.to_region_nd_map(region=gc_pos)\nplt.figure()\ndnde.plot()\nplt.xlabel(\"Energy (GeV)\")\nplt.ylabel(\"Flux (cm-2 s-1 MeV-1 sr-1)\")"
      ]
    },
    {
      "cell_type": "markdown",
      "metadata": {},
      "source": [
        "## Isotropic diffuse background\n\nTo load the isotropic diffuse model with Gammapy, use the\n`~gammapy.modeling.models.TemplateSpectralModel`. We are using\n`'fill_value': 'extrapolate'` to extrapolate the model above 500 GeV:\n\n\n"
      ]
    },
    {
      "cell_type": "code",
      "execution_count": null,
      "metadata": {
        "collapsed": false
      },
      "outputs": [],
      "source": [
        "filename = \"$GAMMAPY_DATA/fermi_3fhl/iso_P8R2_SOURCE_V6_v06.txt\"\n\ndiffuse_iso = create_fermi_isotropic_diffuse_model(\n    filename=filename, interp_kwargs={\"fill_value\": None}\n)"
      ]
    },
    {
      "cell_type": "markdown",
      "metadata": {},
      "source": [
        "We can plot the model in the energy range between 50 GeV and 2000 GeV:\n\n\n"
      ]
    },
    {
      "cell_type": "code",
      "execution_count": null,
      "metadata": {
        "collapsed": false
      },
      "outputs": [],
      "source": [
        "plt.figure()\nenergy_bounds = [50, 2000] * u.GeV\ndiffuse_iso.spectral_model.plot(energy_bounds, yunits=u.Unit(\"1 / (cm2 MeV s)\"))"
      ]
    },
    {
      "cell_type": "markdown",
      "metadata": {},
      "source": [
        "## PSF\n\nNext we will tke a look at the PSF. It was computed using `gtpsf`, in\nthis case for the Galactic center position. Note that generally for\nFermi-LAT, the PSF only varies little within a given regions of the sky,\nespecially at high energies like what we have here. We use the\n`~gammapy.irf.PSFMap` class to load the PSF and use some of it\u2019s\nmethods to get some information about it.\n\n\n"
      ]
    },
    {
      "cell_type": "code",
      "execution_count": null,
      "metadata": {
        "collapsed": false
      },
      "outputs": [],
      "source": [
        "psf = PSFMap.read(\"$GAMMAPY_DATA/fermi_3fhl/fermi_3fhl_psf_gc.fits.gz\", format=\"gtpsf\")\nprint(psf)"
      ]
    },
    {
      "cell_type": "markdown",
      "metadata": {},
      "source": [
        "To get an idea of the size of the PSF we check how the containment radii\nof the Fermi-LAT PSF vari with energy and different containment\nfractions:\n\n\n"
      ]
    },
    {
      "cell_type": "code",
      "execution_count": null,
      "metadata": {
        "collapsed": false
      },
      "outputs": [],
      "source": [
        "plt.figure(figsize=(8, 5))\npsf.plot_containment_radius_vs_energy()"
      ]
    },
    {
      "cell_type": "markdown",
      "metadata": {},
      "source": [
        "In addition we can check how the actual shape of the PSF varies with\nenergy and compare it against the mean PSF between 50 GeV and 2000 GeV:\n\n\n"
      ]
    },
    {
      "cell_type": "code",
      "execution_count": null,
      "metadata": {
        "collapsed": false
      },
      "outputs": [],
      "source": [
        "plt.figure(figsize=(8, 5))\n\nenergy = [100, 300, 1000] * u.GeV\npsf.plot_psf_vs_rad(energy_true=energy)\n\nspectrum = PowerLawSpectralModel(index=2.3)\npsf_mean = psf.to_image(spectrum=spectrum)\npsf_mean.plot_psf_vs_rad(c=\"k\", ls=\"--\", energy_true=[500] * u.GeV)\n\nplt.xlim(1e-3, 0.3)\nplt.ylim(1e3, 1e6)\nplt.legend()"
      ]
    },
    {
      "cell_type": "markdown",
      "metadata": {},
      "source": [
        "This is whaty the corresponding PSF kernel looks like:\n\n\n"
      ]
    },
    {
      "cell_type": "code",
      "execution_count": null,
      "metadata": {
        "collapsed": false
      },
      "outputs": [],
      "source": [
        "psf_kernel = psf.get_psf_kernel(\n    position=geom.center_skydir, geom=geom, max_radius=\"1 deg\"\n)\nplt.figure()\npsf_kernel.to_image().psf_kernel_map.plot(stretch=\"log\", add_cbar=True)"
      ]
    },
    {
      "cell_type": "markdown",
      "metadata": {},
      "source": [
        "### Energy Dispersion\n\nFor simplicity we assume a diagonal energy dispersion:\n\n\n"
      ]
    },
    {
      "cell_type": "code",
      "execution_count": null,
      "metadata": {
        "collapsed": false
      },
      "outputs": [],
      "source": [
        "e_true = exposure.geom.axes[\"energy_true\"]\nedisp = EDispKernelMap.from_diagonal_response(\n    energy_axis_true=e_true, energy_axis=energy_axis\n)\n\nplt.figure()\nedisp.get_edisp_kernel().plot_matrix()"
      ]
    },
    {
      "cell_type": "markdown",
      "metadata": {},
      "source": [
        "## Fit\n\nNow, the big finale: let\u2019s do a 3D map fit for the source at the\nGalactic center, to measure it\u2019s position and spectrum. We keep the\nbackground normalization free.\n\n\n"
      ]
    },
    {
      "cell_type": "code",
      "execution_count": null,
      "metadata": {
        "collapsed": false
      },
      "outputs": [],
      "source": [
        "spatial_model = PointSpatialModel(lon_0=\"0 deg\", lat_0=\"0 deg\", frame=\"galactic\")\nspectral_model = PowerLawSpectralModel(\n    index=2.7, amplitude=\"5.8e-10 cm-2 s-1 TeV-1\", reference=\"100 GeV\"\n)\n\nsource = SkyModel(\n    spectral_model=spectral_model,\n    spatial_model=spatial_model,\n    name=\"source-gc\",\n)\n\nmodels = Models([source, diffuse_iem, diffuse_iso])\n\ndataset = MapDataset(\n    models=models,\n    counts=counts,\n    exposure=exposure,\n    psf=psf,\n    edisp=edisp,\n    name=\"fermi-dataset\",\n)"
      ]
    },
    {
      "cell_type": "code",
      "execution_count": null,
      "metadata": {
        "collapsed": false
      },
      "outputs": [],
      "source": [
        "fit = Fit()\nresult = fit.run(datasets=[dataset])\n\nprint(result)\n\nprint(models)\n\nresidual = counts - dataset.npred()\n\nplt.figure()\nresidual.sum_over_axes().smooth(\"0.1 deg\").plot(\n    cmap=\"coolwarm\", vmin=-3, vmax=3, add_cbar=True\n)"
      ]
    },
    {
      "cell_type": "markdown",
      "metadata": {},
      "source": [
        "## Serialisation\n\nTo serialise the created dataset, you must proceed through the\nDatasets API\n\n\n"
      ]
    },
    {
      "cell_type": "code",
      "execution_count": null,
      "metadata": {
        "collapsed": false
      },
      "outputs": [],
      "source": [
        "Datasets([dataset]).write(\n    filename=\"fermi_dataset.yaml\", filename_models=\"fermi_models.yaml\", overwrite=True\n)\ndatasets_read = Datasets.read(\n    filename=\"fermi_dataset.yaml\", filename_models=\"fermi_models.yaml\"\n)\nprint(datasets_read)\n\nplt.show()"
      ]
    },
    {
      "cell_type": "markdown",
      "metadata": {},
      "source": [
        "## Exercises\n\n-  Fit the position and spectrum of the source [SNR\n   G0.9+0.1](http://gamma-sky.net/#/cat/tev/110)_.\n-  Make maps and fit the position and spectrum of the [Crab\n   nebula](http://gamma-sky.net/#/cat/tev/25)_.\n\n\n"
      ]
    },
    {
      "cell_type": "markdown",
      "metadata": {},
      "source": [
        "## Summary\n\nIn this tutorial you have seen how to work with Fermi-LAT data with\nGammapy. You have to use the Fermi ST to prepare the exposure cube and\nPSF, and then you can use Gammapy for any event or map analysis using\nthe same methods that are used to analyse IACT data.\n\nThis works very well at high energies (here above 10 GeV), where the\nexposure and PSF is almost constant spatially and only varies a little\nwith energy. It is not expected to give good results for low-energy\ndata, where the Fermi-LAT PSF is very large. If you are interested to\nhelp us validate down to what energy Fermi-LAT analysis with Gammapy\nworks well (e.g.\u00a0by re-computing results from 3FHL or other published\nanalysis results), or to extend the Gammapy capabilities (e.g.\u00a0to work\nwith energy-dependent multi-resolution maps and PSF), that would be very\nwelcome!\n\n\n"
      ]
    }
  ],
  "metadata": {
    "kernelspec": {
      "display_name": "Python 3",
      "language": "python",
      "name": "python3"
    },
    "language_info": {
      "codemirror_mode": {
        "name": "ipython",
        "version": 3
      },
      "file_extension": ".py",
      "mimetype": "text/x-python",
      "name": "python",
      "nbconvert_exporter": "python",
      "pygments_lexer": "ipython3",
      "version": "3.9.16"
    }
  },
  "nbformat": 4,
  "nbformat_minor": 0
}