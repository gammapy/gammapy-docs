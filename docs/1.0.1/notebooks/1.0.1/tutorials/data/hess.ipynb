{
  "cells": [
    {
      "cell_type": "code",
      "execution_count": null,
      "metadata": {
        "collapsed": false
      },
      "outputs": [],
      "source": [
        "%matplotlib inline"
      ]
    },
    {
      "cell_type": "markdown",
      "metadata": {},
      "source": [
        "\n# H.E.S.S. with Gammapy\nExplore H.E.S.S. event lists and IRFs.\n\n[H.E.S.S.](https://www.mpi-hd.mpg.de/hfm/HESS/)_ is an array of\ngamma-ray telescopes located in Namibia. Gammapy is regularly used and\nfully supports H.E.S.S. high level data analysis, after export to the\ncurrent [open data level 3\nformat](https://gamma-astro-data-formats.readthedocs.io/)_.\n\nThe H.E.S.S. data is private, and H.E.S.S. analysis is mostly documented\nand discussed at https://hess-confluence.desy.de/ and in\nH.E.S.S.-internal communication channels. However, in 2018, a small\nsub-set of archival H.E.S.S. data was publicly released, called the\n[H.E.S.S. DL3\nDR1](https://www.mpi-hd.mpg.de/hfm/HESS/pages/dl3-dr1/)_, the data\nlevel 3, data release number 1. This dataset is 50 MB in size and is\nused in many Gammapy analysis tutorials, and can be downloaded via\n[gammapy\ndownload](https://docs.gammapy.org/dev/getting-started/index.html#quickstart-setup)_.\n\nThis notebook is a quick introduction to this specific DR1 release. It\nbriefly describes H.E.S.S. data and instrument responses and show a\nsimple exploration of the data with the creation of theta-squared plot.\n\nH.E.S.S. members can find details on the DL3 FITS production on this\n[Confluence\npage](https://hess-confluence.desy.de/confluence/display/HESS/HESS+FITS+data)_\nand access more detailed tutorials in this\n[repository](https://bitbucket.org/hess_software/hess-open-source-tools/src/master/)_\n\n## DL3 DR1\n\nThis is how to access data and IRFs from the H.E.S.S. data level 3, data\nrelease 1.\n"
      ]
    },
    {
      "cell_type": "code",
      "execution_count": null,
      "metadata": {
        "collapsed": false
      },
      "outputs": [],
      "source": [
        "import astropy.units as u\nfrom astropy.coordinates import SkyCoord\nimport matplotlib.pyplot as plt\nfrom IPython.display import display\nfrom gammapy.data import DataStore\nfrom gammapy.makers import MapDatasetMaker\nfrom gammapy.makers.utils import make_theta_squared_table\nfrom gammapy.maps import Map, MapAxis, WcsGeom"
      ]
    },
    {
      "cell_type": "markdown",
      "metadata": {},
      "source": [
        "## Check setup\n\n"
      ]
    },
    {
      "cell_type": "code",
      "execution_count": null,
      "metadata": {
        "collapsed": false
      },
      "outputs": [],
      "source": [
        "from gammapy.utils.check import check_tutorials_setup\nfrom gammapy.visualization import plot_theta_squared_table\n\ncheck_tutorials_setup()"
      ]
    },
    {
      "cell_type": "markdown",
      "metadata": {},
      "source": [
        "A useful way to organize the relevant files are the index tables. The\nobservation index table contains information on each particular run,\nsuch as the pointing, or the run ID. The HDU index table has a row per\nrelevant file (i.e., events, effective area, psf\u2026) and contains the path\nto said file. Together they can be loaded into a Datastore by indicating\nthe directory in which they can be found, in this case\n\u201c$GAMMAPY_DATA/hess-dl3-dr1\u201d:\n\n\n"
      ]
    },
    {
      "cell_type": "markdown",
      "metadata": {},
      "source": [
        "Create and get info on the data store\n\n"
      ]
    },
    {
      "cell_type": "code",
      "execution_count": null,
      "metadata": {
        "collapsed": false
      },
      "outputs": [],
      "source": [
        "data_store = DataStore.from_dir(\"$GAMMAPY_DATA/hess-dl3-dr1\")\n\ndata_store.info()"
      ]
    },
    {
      "cell_type": "markdown",
      "metadata": {},
      "source": [
        "Preview an excerpt from the observtaion table\n\n"
      ]
    },
    {
      "cell_type": "code",
      "execution_count": null,
      "metadata": {
        "collapsed": false
      },
      "outputs": [],
      "source": [
        "display(data_store.obs_table[:2][[\"OBS_ID\", \"DATE-OBS\", \"RA_PNT\", \"DEC_PNT\", \"OBJECT\"]])"
      ]
    },
    {
      "cell_type": "markdown",
      "metadata": {},
      "source": [
        "Get a single obervation\n\n"
      ]
    },
    {
      "cell_type": "code",
      "execution_count": null,
      "metadata": {
        "collapsed": false
      },
      "outputs": [],
      "source": [
        "obs = data_store.obs(23523)"
      ]
    },
    {
      "cell_type": "markdown",
      "metadata": {},
      "source": [
        "Select and peek events\n\n"
      ]
    },
    {
      "cell_type": "code",
      "execution_count": null,
      "metadata": {
        "collapsed": false
      },
      "outputs": [],
      "source": [
        "obs.events.select_offset([0, 2.5] * u.deg).peek()"
      ]
    },
    {
      "cell_type": "markdown",
      "metadata": {},
      "source": [
        "Peek the effective area\n\n"
      ]
    },
    {
      "cell_type": "code",
      "execution_count": null,
      "metadata": {
        "collapsed": false
      },
      "outputs": [],
      "source": [
        "obs.aeff.peek()"
      ]
    },
    {
      "cell_type": "markdown",
      "metadata": {},
      "source": [
        "Peek the energy dispersion\n\n"
      ]
    },
    {
      "cell_type": "code",
      "execution_count": null,
      "metadata": {
        "collapsed": false
      },
      "outputs": [],
      "source": [
        "obs.edisp.peek()"
      ]
    },
    {
      "cell_type": "markdown",
      "metadata": {},
      "source": [
        "Peek the psf\n\n"
      ]
    },
    {
      "cell_type": "code",
      "execution_count": null,
      "metadata": {
        "collapsed": false
      },
      "outputs": [],
      "source": [
        "obs.psf.peek()"
      ]
    },
    {
      "cell_type": "markdown",
      "metadata": {},
      "source": [
        "Peek the background rate\n\n"
      ]
    },
    {
      "cell_type": "code",
      "execution_count": null,
      "metadata": {
        "collapsed": false
      },
      "outputs": [],
      "source": [
        "plt.figure()\nobs.bkg.to_2d().plot()"
      ]
    },
    {
      "cell_type": "markdown",
      "metadata": {},
      "source": [
        "## Theta squared event distribution\n\nAs a quick look plot it can be helpful to plot the quadratic offset\n(theta squared) distribution of the events.\n\n\n"
      ]
    },
    {
      "cell_type": "code",
      "execution_count": null,
      "metadata": {
        "collapsed": false
      },
      "outputs": [],
      "source": [
        "position = SkyCoord(ra=83.63, dec=22.01, unit=\"deg\", frame=\"icrs\")\ntheta2_axis = MapAxis.from_bounds(0, 0.2, nbin=20, interp=\"lin\", unit=\"deg2\")\n\nobservations = data_store.get_observations([23523, 23526])\ntheta2_table = make_theta_squared_table(\n    observations=observations,\n    position=position,\n    theta_squared_axis=theta2_axis,\n)\n\nplt.figure(figsize=(10, 5))\nplot_theta_squared_table(theta2_table)"
      ]
    },
    {
      "cell_type": "markdown",
      "metadata": {},
      "source": [
        "## On-axis equivalent livetime\n\nSince the acceptance of the H.E.S.S. camera varies within the field of\nview, what is often interesting is not the simply the total number of\nhours a source was observed, but the on-axis equivalent number of hours.\nWe calculated the same for the MSH 1552 runs here.\n\n\n"
      ]
    },
    {
      "cell_type": "code",
      "execution_count": null,
      "metadata": {
        "collapsed": false
      },
      "outputs": [],
      "source": [
        "# Get the observations\nobs_id = data_store.obs_table[\"OBS_ID\"][data_store.obs_table[\"OBJECT\"] == \"MSH 15-5-02\"]\nobservations = data_store.get_observations(obs_id)\nprint(\"No. of observations: \", len(observations))\n\n# Define an energy range\nenergy_min = 100 * u.GeV\nenergy_max = 10.0 * u.TeV\n\n# define a offset cut\noffset_max = 2.5 * u.deg\n\n# define the geom\nsource_pos = SkyCoord(228.32, -59.08, unit=\"deg\")\nenergy_axis_true = MapAxis.from_energy_bounds(\n    energy_min, energy_max, nbin=1, name=\"energy_true\"\n)\ngeom = WcsGeom.create(\n    skydir=source_pos,\n    binsz=0.02,\n    width=(6, 6),\n    frame=\"icrs\",\n    proj=\"CAR\",\n    axes=[energy_axis_true],\n)\n\n# compute\nlivetime = Map.from_geom(geom, unit=u.hr)\nfor obs in observations:\n    geom_obs = geom.cutout(position=obs.pointing_radec, width=2.0 * offset_max)\n    exposure = MapDatasetMaker.make_exposure(geom=geom_obs, observation=obs)\n    on_axis = obs.aeff.evaluate(\n        offset=0.0 * u.deg, energy_true=geom.axes[\"energy_true\"].center\n    )\n    on_axis = on_axis.reshape((on_axis.shape[0], 1, 1))\n    lv_obs = exposure / on_axis\n    livetime.stack(lv_obs)\n\n# Plot\nplt.figure()\nax = livetime.plot(add_cbar=True)\n\n# Add the pointing position on top\nfor obs in observations:\n    ax.plot(\n        obs.pointing_radec.to_pixel(wcs=ax.wcs)[0],\n        obs.pointing_radec.to_pixel(wcs=ax.wcs)[1],\n        \"+\",\n        color=\"black\",\n    )\n\nplt.show()"
      ]
    },
    {
      "cell_type": "markdown",
      "metadata": {},
      "source": [
        "## Exercises\n\n-  Find the `OBS_ID` for the runs of the Crab nebula\n-  Compute the expected number of background events in the whole RoI for\n   `OBS_ID=23523` in the 1 TeV to 3 TeV energy band, from the\n   background IRF.\n\n\n"
      ]
    },
    {
      "cell_type": "markdown",
      "metadata": {},
      "source": [
        "## Next steps\n\nNow you know how to access and work with H.E.S.S. data. All other\ntutorials and documentation apply to H.E.S.S. and CTA or any other IACT\nthat provides DL3 data and IRFs in the standard format.\n\n\n"
      ]
    }
  ],
  "metadata": {
    "kernelspec": {
      "display_name": "Python 3",
      "language": "python",
      "name": "python3"
    },
    "language_info": {
      "codemirror_mode": {
        "name": "ipython",
        "version": 3
      },
      "file_extension": ".py",
      "mimetype": "text/x-python",
      "name": "python",
      "nbconvert_exporter": "python",
      "pygments_lexer": "ipython3",
      "version": "3.9.16"
    }
  },
  "nbformat": 4,
  "nbformat_minor": 0
}