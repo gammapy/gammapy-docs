{
  "cells": [
    {
      "cell_type": "code",
      "execution_count": null,
      "metadata": {
        "collapsed": false
      },
      "outputs": [],
      "source": [
        "%matplotlib inline"
      ]
    },
    {
      "cell_type": "markdown",
      "metadata": {},
      "source": [
        "\n\n# Generalized gaussian spatial model\n\nThis is a spatial model parametrising a generalized Gaussian function.\n\nBy default, the Generalized Gaussian is defined as :\n\n\\begin{align}\\phi(\\text{lon}, \\text{lat})  = \\phi(\\text{r}) = N \\times \\exp \\left[ - \\left( \\frac{r}{r_{\\rm eff}} \\right)^ \\left( 1/\\eta \\right) \\right] \\,,\\end{align}\n\nthe normalization is expressed as:\n\n\\begin{align}N = \\frac{1}{ 2 \\pi \\sqrt(1-e^2) r_{0}^2 \\eta \\Gamma(2\\eta)}\\,\\end{align}\n\nwhere $\\Gamma$ is the gamma function.\nThis analytical norm is approximated so it may not integrate to unity in extreme cases\nif ellipticity tend to one and radius is large or $\\eta$ much larger than one (outside the default range).\n\nThe effective radius is given by:\n\n\\begin{align}\\r_{rm eff}(\\text{lon}, \\text{lat}) = \\sqrt{\n        (r_M \\sin(\\Delta \\phi))^2 +\n        (r_m \\cos(\\Delta \\phi))^2\n    }.\\end{align}\n\nwhere $r_M$ ($r_m$) is the major (minor) semiaxis, and\n$\\Delta \\phi$ is the difference between `phi`, the position angle of the model, and the\nposition angle of the evaluation point.\nIf the eccentricity ($e$) is null it reduces to $r_0$.\n"
      ]
    },
    {
      "cell_type": "markdown",
      "metadata": {},
      "source": [
        "## Example plot\nHere is an example plot of the model for different shape parameter:\n\n"
      ]
    },
    {
      "cell_type": "code",
      "execution_count": null,
      "metadata": {
        "collapsed": false
      },
      "outputs": [],
      "source": [
        "from astropy import units as u\nimport matplotlib.pyplot as plt\nfrom gammapy.maps import Map, WcsGeom\nfrom gammapy.modeling.models import (\n    GeneralizedGaussianSpatialModel,\n    Models,\n    PowerLawSpectralModel,\n    SkyModel,\n)\n\nlon_0 = 20\nlat_0 = 0\nreval = 3\ndr = 0.02\ngeom = WcsGeom.create(\n    skydir=(lon_0, lat_0),\n    binsz=dr,\n    width=(2 * reval, 2 * reval),\n    frame=\"galactic\",\n)\n\ntags = [r\"Disk, $\\eta=0.01$\", r\"Gaussian, $\\eta=0.5$\", r\"Laplace, $\\eta=1$\"]\neta_range = [0.01, 0.5, 1]\nr_0 = 1\ne = 0.5\nphi = 45 * u.deg\nfig, axes = plt.subplots(1, 3, figsize=(9, 6))\nfor ax, eta, tag in zip(axes, eta_range, tags):\n    model = GeneralizedGaussianSpatialModel(\n        lon_0=lon_0 * u.deg,\n        lat_0=lat_0 * u.deg,\n        eta=eta,\n        r_0=r_0 * u.deg,\n        e=e,\n        phi=phi,\n        frame=\"galactic\",\n    )\n    meval = model.evaluate_geom(geom)\n    Map.from_geom(geom=geom, data=meval.value, unit=meval.unit).plot(ax=ax)\n    pixreg = model.to_region().to_pixel(geom.wcs)\n    pixreg.plot(ax=ax, edgecolor=\"g\", facecolor=\"none\", lw=2)\n    ax.set_title(tag)\n    ax.set_xticks([])\n    ax.set_yticks([])\nplt.tight_layout()"
      ]
    },
    {
      "cell_type": "markdown",
      "metadata": {},
      "source": [
        "## YAML representation\nHere is an example YAML file using the model:\n\n"
      ]
    },
    {
      "cell_type": "code",
      "execution_count": null,
      "metadata": {
        "collapsed": false
      },
      "outputs": [],
      "source": [
        "pwl = PowerLawSpectralModel()\ngengauss = GeneralizedGaussianSpatialModel()\n\nmodel = SkyModel(spectral_model=pwl, spatial_model=gengauss, name=\"pwl-gengauss-model\")\nmodels = Models([model])\n\nprint(models.to_yaml())"
      ]
    }
  ],
  "metadata": {
    "kernelspec": {
      "display_name": "Python 3",
      "language": "python",
      "name": "python3"
    },
    "language_info": {
      "codemirror_mode": {
        "name": "ipython",
        "version": 3
      },
      "file_extension": ".py",
      "mimetype": "text/x-python",
      "name": "python",
      "nbconvert_exporter": "python",
      "pygments_lexer": "ipython3",
      "version": "3.9.12"
    }
  },
  "nbformat": 4,
  "nbformat_minor": 0
}