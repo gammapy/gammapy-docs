{
  "cells": [
    {
      "cell_type": "code",
      "execution_count": null,
      "metadata": {
        "collapsed": false
      },
      "outputs": [],
      "source": [
        "%matplotlib inline"
      ]
    },
    {
      "cell_type": "markdown",
      "metadata": {},
      "source": [
        "\n\n# Exponential cutoff power law spectral model used for 3FGL\n\nThis model parametrises a cutoff power law spectrum used for 3FGL.\n\nIt is defined by the following equation:\n\n\\begin{align}\\phi(E) = \\phi_0 \\cdot \\left(\\frac{E}{E_0}\\right)^{-\\Gamma}\n              \\exp \\left( \\frac{E_0 - E}{E_{C}} \\right)\\end{align}\n"
      ]
    },
    {
      "cell_type": "markdown",
      "metadata": {},
      "source": [
        "## Example plot\nHere is an example plot of the model:\n\n"
      ]
    },
    {
      "cell_type": "code",
      "execution_count": null,
      "metadata": {
        "collapsed": false
      },
      "outputs": [],
      "source": [
        "from astropy import units as u\nimport matplotlib.pyplot as plt\nfrom gammapy.modeling.models import ExpCutoffPowerLaw3FGLSpectralModel, Models, SkyModel\n\nenergy_bounds = [0.1, 100] * u.TeV\nmodel = ExpCutoffPowerLaw3FGLSpectralModel(\n    index=2.3 * u.Unit(\"\"),\n    amplitude=4 / u.cm**2 / u.s / u.TeV,\n    reference=1 * u.TeV,\n    ecut=10 * u.TeV,\n)\nmodel.plot(energy_bounds)\nplt.grid(which=\"both\")"
      ]
    },
    {
      "cell_type": "markdown",
      "metadata": {},
      "source": [
        "## YAML representation\nHere is an example YAML file using the model:\n\n"
      ]
    },
    {
      "cell_type": "code",
      "execution_count": null,
      "metadata": {
        "collapsed": false
      },
      "outputs": [],
      "source": [
        "model = SkyModel(spectral_model=model, name=\"exp-cutoff-power-law-3fgl-model\")\nmodels = Models([model])\n\nprint(models.to_yaml())"
      ]
    }
  ],
  "metadata": {
    "kernelspec": {
      "display_name": "Python 3",
      "language": "python",
      "name": "python3"
    },
    "language_info": {
      "codemirror_mode": {
        "name": "ipython",
        "version": 3
      },
      "file_extension": ".py",
      "mimetype": "text/x-python",
      "name": "python",
      "nbconvert_exporter": "python",
      "pygments_lexer": "ipython3",
      "version": "3.9.12"
    }
  },
  "nbformat": 4,
  "nbformat_minor": 0
}