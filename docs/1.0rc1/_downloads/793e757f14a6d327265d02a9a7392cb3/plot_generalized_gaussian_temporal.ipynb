{
  "cells": [
    {
      "cell_type": "code",
      "execution_count": null,
      "metadata": {
        "collapsed": false
      },
      "outputs": [],
      "source": [
        "%matplotlib inline"
      ]
    },
    {
      "cell_type": "markdown",
      "metadata": {},
      "source": [
        "\n\n# Generalized Gaussian temporal model\n\nThis model parametrises a generalized Gaussian time model.\n\n\\begin{align}F(t) = \\exp \\left( - 0.5 \\cdot \\left( \\frac{|t - t_{\\rm{ref}}|}{t_{\\rm{rise}}} \\right) ^ {1 / \\eta} \\right) \\text{ for } t < t_{\\rm{ref}}\n\n        F(t) = \\exp \\left( - 0.5 \\cdot \\left( \\frac{|t - t_{\\rm{ref}}|}{t_{\\rm{decay}}} \\right) ^ {1 / \\eta} \\right) \\text{ for } t > t_{\\rm{ref}}\\end{align}\n"
      ]
    },
    {
      "cell_type": "markdown",
      "metadata": {},
      "source": [
        "## Example plot\nHere is an example plot of the model:\n\n"
      ]
    },
    {
      "cell_type": "code",
      "execution_count": null,
      "metadata": {
        "collapsed": false
      },
      "outputs": [],
      "source": [
        "from astropy import units as u\nfrom astropy.time import Time\nfrom astropy.units import Quantity\nimport matplotlib.pyplot as plt\nfrom gammapy.modeling.models import (\n    GeneralizedGaussianTemporalModel,\n    Models,\n    PowerLawSpectralModel,\n    SkyModel,\n)\n\nt_rise = Quantity(0.1, \"d\")\nt_decay = Quantity(1, \"d\")\neta = Quantity(2 / 3, \"\")\nt_ref = Time(\"2020-10-01\")\ntime_range = [t_ref - 1 * u.d, t_ref + 1 * u.d]\ngen_gaussian_model = GeneralizedGaussianTemporalModel(\n    t_ref=t_ref.mjd * u.d, t_rise=t_rise, t_decay=t_decay, eta=eta\n)\ngen_gaussian_model.plot(time_range)\nplt.grid(which=\"both\")"
      ]
    },
    {
      "cell_type": "markdown",
      "metadata": {},
      "source": [
        "## YAML representation\nHere is an example YAML file using the model:\n\n"
      ]
    },
    {
      "cell_type": "code",
      "execution_count": null,
      "metadata": {
        "collapsed": false
      },
      "outputs": [],
      "source": [
        "model = SkyModel(\n    spectral_model=PowerLawSpectralModel(),\n    temporal_model=gen_gaussian_model,\n    name=\"generalized_gaussian_model\",\n)\nmodels = Models([model])\n\nprint(models.to_yaml())"
      ]
    }
  ],
  "metadata": {
    "kernelspec": {
      "display_name": "Python 3",
      "language": "python",
      "name": "python3"
    },
    "language_info": {
      "codemirror_mode": {
        "name": "ipython",
        "version": 3
      },
      "file_extension": ".py",
      "mimetype": "text/x-python",
      "name": "python",
      "nbconvert_exporter": "python",
      "pygments_lexer": "ipython3",
      "version": "3.9.12"
    }
  },
  "nbformat": 4,
  "nbformat_minor": 0
}