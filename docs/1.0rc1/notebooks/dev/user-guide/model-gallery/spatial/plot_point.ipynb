{
  "cells": [
    {
      "cell_type": "code",
      "execution_count": null,
      "metadata": {
        "collapsed": false
      },
      "outputs": [],
      "source": [
        "%matplotlib inline"
      ]
    },
    {
      "cell_type": "markdown",
      "metadata": {},
      "source": [
        "\n\n# Point spatial model\n\nThis model is a delta function centered in *lon_0* and *lat_0* parameters provided:\n\n\\begin{align}\\phi(lon, lat) = \\delta{(lon - lon_0, lat - lat_0)}\\end{align}\n\nThe model is defined on the celestial sphere in the coordinate frame provided by the user.\n\nIf the point source is not centered on a pixel, the flux is re-distributed\nacross 4 neighbouring pixels. This ensured that the center of mass position\nis conserved.\n"
      ]
    },
    {
      "cell_type": "markdown",
      "metadata": {},
      "source": [
        "## Example plot\nHere is an example plot of the model:\n\n"
      ]
    },
    {
      "cell_type": "code",
      "execution_count": null,
      "metadata": {
        "collapsed": false
      },
      "outputs": [],
      "source": [
        "from astropy.coordinates import SkyCoord\nfrom gammapy.maps import WcsGeom\nfrom gammapy.modeling.models import (\n    Models,\n    PointSpatialModel,\n    PowerLawSpectralModel,\n    SkyModel,\n)\n\nmodel = PointSpatialModel(\n    lon_0=\"0.01 deg\",\n    lat_0=\"0.01 deg\",\n    frame=\"galactic\",\n)\n\ngeom = WcsGeom.create(\n    skydir=SkyCoord(\"0d 0d\", frame=\"galactic\"), width=(1, 1), binsz=0.1\n)\nmodel.plot(geom=geom, add_cbar=True)"
      ]
    },
    {
      "cell_type": "markdown",
      "metadata": {},
      "source": [
        "## YAML representation\nHere is an example YAML file using the model:\n\n"
      ]
    },
    {
      "cell_type": "code",
      "execution_count": null,
      "metadata": {
        "collapsed": false
      },
      "outputs": [],
      "source": [
        "pwl = PowerLawSpectralModel()\npoint = PointSpatialModel()\n\nmodel = SkyModel(spectral_model=pwl, spatial_model=point, name=\"pwl-point-model\")\nmodels = Models([model])\n\nprint(models.to_yaml())"
      ]
    }
  ],
  "metadata": {
    "kernelspec": {
      "display_name": "Python 3",
      "language": "python",
      "name": "python3"
    },
    "language_info": {
      "codemirror_mode": {
        "name": "ipython",
        "version": 3
      },
      "file_extension": ".py",
      "mimetype": "text/x-python",
      "name": "python",
      "nbconvert_exporter": "python",
      "pygments_lexer": "ipython3",
      "version": "3.9.12"
    }
  },
  "nbformat": 4,
  "nbformat_minor": 0
}