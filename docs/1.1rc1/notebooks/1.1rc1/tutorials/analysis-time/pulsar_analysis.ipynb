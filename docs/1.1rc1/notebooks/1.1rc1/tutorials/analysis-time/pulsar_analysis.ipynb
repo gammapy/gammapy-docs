{
  "cells": [
    {
      "cell_type": "code",
      "execution_count": null,
      "metadata": {
        "collapsed": false
      },
      "outputs": [],
      "source": [
        "%matplotlib inline"
      ]
    },
    {
      "cell_type": "markdown",
      "metadata": {},
      "source": [
        "\n# Pulsar analysis\n\nProduce a phasogram, phased-resolved maps and spectra for pulsar analysis.\n \n# Introduction\n\nThis notebook shows how to do a simple pulsar analysis with Gammapy. We will produce a\nphasogram, a phase-resolved map and a phase-resolved spectrum of the Vela pulsar. In\norder to build these products, we will use the\n`~PhaseBackgroundMaker` which takes into account the on and off phase to compute a\n`~MapDatasetOnOff` and a `~SpectrumDatasetOnOff` in the phase space.\n\nThis tutorial uses a simulated run of vel observation from the CTA DC1, which already contains a\ncolumn for the pulsar phases. The phasing in itself is therefore not show here. It\nrequires specific packages like Tempo2 or [PINT]((https://nanograv-pint.readthedocs.io). A gammapy\nrecipe shows how to compute phases with PINT in the framework of Gammapy.\n\n\n\n# Opening the data\n\nLet\u2019s first do the imports and load the only observation containing Vela\nin the CTA 1DC dataset shipped with Gammapy.\n"
      ]
    },
    {
      "cell_type": "code",
      "execution_count": null,
      "metadata": {
        "collapsed": false
      },
      "outputs": [],
      "source": [
        "# Remove warnings\nimport warnings\nimport numpy as np\nimport astropy.units as u\nfrom astropy.coordinates import SkyCoord\nimport matplotlib.pyplot as plt\n\n# %matplotlib inline\nfrom IPython.display import display\nfrom gammapy.data import DataStore\nfrom gammapy.datasets import Datasets, FluxPointsDataset, MapDataset, SpectrumDataset\nfrom gammapy.estimators import ExcessMapEstimator, FluxPointsEstimator\nfrom gammapy.makers import (\n    MapDatasetMaker,\n    PhaseBackgroundMaker,\n    SafeMaskMaker,\n    SpectrumDatasetMaker,\n)\nfrom gammapy.maps import MapAxis, RegionGeom, WcsGeom\nfrom gammapy.modeling import Fit\nfrom gammapy.modeling.models import PowerLawSpectralModel, SkyModel\nfrom gammapy.stats import WStatCountsStatistic\nfrom gammapy.utils.regions import SphericalCircleSkyRegion\n\nwarnings.filterwarnings(\"ignore\")"
      ]
    },
    {
      "cell_type": "markdown",
      "metadata": {},
      "source": [
        "# Check setup\n\n"
      ]
    },
    {
      "cell_type": "code",
      "execution_count": null,
      "metadata": {
        "collapsed": false
      },
      "outputs": [],
      "source": [
        "from gammapy.utils.check import check_tutorials_setup\n\ncheck_tutorials_setup()"
      ]
    },
    {
      "cell_type": "markdown",
      "metadata": {},
      "source": [
        "Load the data store (which is a subset of CTA-DC1 data):\n\n"
      ]
    },
    {
      "cell_type": "code",
      "execution_count": null,
      "metadata": {
        "collapsed": false
      },
      "outputs": [],
      "source": [
        "data_store = DataStore.from_dir(\"$GAMMAPY_DATA/cta-1dc/index/gps\")"
      ]
    },
    {
      "cell_type": "markdown",
      "metadata": {},
      "source": [
        "Define observation ID and print events:\n\n"
      ]
    },
    {
      "cell_type": "code",
      "execution_count": null,
      "metadata": {
        "collapsed": false
      },
      "outputs": [],
      "source": [
        "id_obs_vela = [111630]\nobs_list_vela = data_store.get_observations(id_obs_vela)\nprint(obs_list_vela[0].events)"
      ]
    },
    {
      "cell_type": "markdown",
      "metadata": {},
      "source": [
        "Now that we have our observation, let\u2019s select the events in 0.2\u00b0 radius\naround the pulsar position.\n\n"
      ]
    },
    {
      "cell_type": "code",
      "execution_count": null,
      "metadata": {
        "collapsed": false
      },
      "outputs": [],
      "source": [
        "pos_target = SkyCoord(ra=128.836 * u.deg, dec=-45.176 * u.deg, frame=\"icrs\")\non_radius = 0.2 * u.deg\non_region = SphericalCircleSkyRegion(pos_target, on_radius)\n\n# Apply angular selection\nevents_vela = obs_list_vela[0].events.select_region(on_region)\nprint(events_vela)"
      ]
    },
    {
      "cell_type": "markdown",
      "metadata": {},
      "source": [
        "Let\u2019s load the phases of the selected events in a dedicated array.\n\n"
      ]
    },
    {
      "cell_type": "code",
      "execution_count": null,
      "metadata": {
        "collapsed": false
      },
      "outputs": [],
      "source": [
        "phases = events_vela.table[\"PHASE\"]\n\n# Let's take a look at the first 10 phases\ndisplay(phases[:10])"
      ]
    },
    {
      "cell_type": "markdown",
      "metadata": {},
      "source": [
        "# Phasogram\n\nOnce we have the phases, we can make a phasogram. A phasogram is a\nhistogram of phases. It works exactly like any other histogram (you\ncan set the binning, evaluate the errors based on the counts in each\nbin, etc).\n\n"
      ]
    },
    {
      "cell_type": "code",
      "execution_count": null,
      "metadata": {
        "collapsed": false
      },
      "outputs": [],
      "source": [
        "nbins = 30\nphase_min, phase_max = (0, 1)\nvalues, bin_edges = np.histogram(phases, range=(phase_min, phase_max), bins=nbins)\nbin_width = (phase_max - phase_min) / nbins\n\nbin_center = (bin_edges[:-1] + bin_edges[1:]) / 2\n\n# Poissonian uncertainty on each bin\nvalues_err = np.sqrt(values)\n\nfig, ax = plt.subplots()\nax.bar(\n    x=bin_center,\n    height=values,\n    width=bin_width,\n    color=\"orangered\",\n    alpha=0.7,\n    edgecolor=\"black\",\n    yerr=values_err,\n)\nax.set_xlim(0, 1)\nax.set_xlabel(\"Phase\")\nax.set_ylabel(\"Counts\")\nax.set_title(f\"Phasogram with angular cut of {on_radius}\")\nplt.show()\n\non_phase_range = (0.5, 0.6)\noff_phase_range = (0.7, 1)"
      ]
    },
    {
      "cell_type": "markdown",
      "metadata": {},
      "source": [
        "Now let\u2019s add some fancy additions to our phasogram: a patch on the ON-\nand OFF-phase regions and one for the background level.\n\n"
      ]
    },
    {
      "cell_type": "code",
      "execution_count": null,
      "metadata": {
        "collapsed": false
      },
      "outputs": [],
      "source": [
        "# Evaluate background level\nmask_off = (off_phase_range[0] < phases) & (phases < off_phase_range[1])\n\ncount_bkg = mask_off.sum()\nprint(f\"Number of Off events: {count_bkg}\")\n\n# bkg level normalized by the size of the OFF zone (0.3)\nbkg = count_bkg / nbins / (off_phase_range[1] - off_phase_range[0])\n\n# error on the background estimation\nbkg_err = np.sqrt(count_bkg) / nbins / (off_phase_range[1] - off_phase_range[0])"
      ]
    },
    {
      "cell_type": "markdown",
      "metadata": {},
      "source": [
        "Let's redo the same plot for the basis\n\n"
      ]
    },
    {
      "cell_type": "code",
      "execution_count": null,
      "metadata": {
        "collapsed": false
      },
      "outputs": [],
      "source": [
        "fig, ax = plt.subplots(figsize=(10, 7))\nax.bar(\n    x=bin_center,\n    height=values,\n    width=bin_width,\n    color=\"orangered\",\n    alpha=0.7,\n    edgecolor=\"black\",\n    yerr=values_err,\n)\n\n# Plot background level\nx_bkg = np.linspace(0, 1, 50)\n\nkwargs = {\"color\": \"black\", \"alpha\": 0.7, \"ls\": \"--\", \"lw\": 2}\n\nax.plot(x_bkg, (bkg - bkg_err) * np.ones_like(x_bkg), **kwargs)\nax.plot(x_bkg, (bkg + bkg_err) * np.ones_like(x_bkg), **kwargs)\n\nax.fill_between(\n    x_bkg, bkg - bkg_err, bkg + bkg_err, facecolor=\"grey\", alpha=0.5\n)  # grey area for the background level\n\n# Let's make patches for the on and off phase zones\non_patch = ax.axvspan(\n    on_phase_range[0], on_phase_range[1], alpha=0.5, color=\"royalblue\", ec=\"black\"\n)\n\noff_patch = ax.axvspan(\n    off_phase_range[0],\n    off_phase_range[1],\n    alpha=0.25,\n    color=\"white\",\n    hatch=\"x\",\n    ec=\"black\",\n)\n\n# Legends \"ON\" and \"OFF\"\nax.text(0.55, 5, \"ON\", color=\"black\", fontsize=17, ha=\"center\")\nax.text(0.895, 5, \"OFF\", color=\"black\", fontsize=17, ha=\"center\")\nax.set_xlabel(\"Phase\")\nax.set_ylabel(\"Counts\")\nax.set_xlim(0, 1)\nax.set_title(f\"Phasogram with angular cut of {on_radius}\")\nplt.show()"
      ]
    },
    {
      "cell_type": "markdown",
      "metadata": {},
      "source": [
        "# Make a Li&Ma test over the events\n\nAnother thing that we want to do is to compute a Li&Ma test between the on-phase and the off-phase.\n\n"
      ]
    },
    {
      "cell_type": "code",
      "execution_count": null,
      "metadata": {
        "collapsed": false
      },
      "outputs": [],
      "source": [
        "# Calculate the ratio between the on-phase and the off-phase\nalpha = (on_phase_range[1] - on_phase_range[0]) / (\n    off_phase_range[1] - off_phase_range[0]\n)\n\n# Select events in the on region\nregion_events = obs_list_vela[0].events.select_region(on_region)\n\n# Select events in phase space\non_events = region_events.select_parameter(\"PHASE\", band=on_phase_range)\noff_events = region_events.select_parameter(\"PHASE\", band=off_phase_range)\n\n# Apply the WStat (Li&Ma statistic)\npulse_stat = WStatCountsStatistic(\n    len(on_events.time), len(off_events.time), alpha=alpha\n)\n\nprint(f\"Number of excess counts: {pulse_stat.n_sig}\")\nprint(f\"TS: {pulse_stat.ts}\")\nprint(f\"Significance: {pulse_stat.sqrt_ts}\")"
      ]
    },
    {
      "cell_type": "markdown",
      "metadata": {},
      "source": [
        "# Phase-resolved map\n\n"
      ]
    },
    {
      "cell_type": "markdown",
      "metadata": {},
      "source": [
        "Now that we have an overview of the phasogram of the pulsar, we can do a phase-resolved sky map\n: a map of the ON-phase events minus alpha times the OFF-phase events.\nAlpha is the ratio between the size of the ON-phase zone (here 0.1) and\nthe OFF-phase zone (0.3).\n\n"
      ]
    },
    {
      "cell_type": "code",
      "execution_count": null,
      "metadata": {
        "collapsed": false
      },
      "outputs": [],
      "source": [
        "e_true = MapAxis.from_energy_bounds(\n    0.003, 10, 6, per_decade=True, unit=\"TeV\", name=\"energy_true\"\n)\ne_reco = MapAxis.from_energy_bounds(\n    0.01, 10, 4, per_decade=True, unit=\"TeV\", name=\"energy\"\n)\n\ngeom = WcsGeom.create(\n    binsz=0.02 * u.deg, skydir=pos_target, width=\"4 deg\", axes=[e_reco]\n)"
      ]
    },
    {
      "cell_type": "markdown",
      "metadata": {},
      "source": [
        "Let\u2019s create an ON-map and an OFF-map:\n\n"
      ]
    },
    {
      "cell_type": "code",
      "execution_count": null,
      "metadata": {
        "collapsed": false
      },
      "outputs": [],
      "source": [
        "map_dataset_empty = MapDataset.create(geom=geom, energy_axis_true=e_true)\n\nmap_dataset_maker = MapDatasetMaker()\nphase_bkg_maker = PhaseBackgroundMaker(\n    on_phase=on_phase_range, off_phase=off_phase_range, phase_column_name=\"PHASE\"\n)\n\noffset_max = 5 * u.deg\nsafe_mask_maker = SafeMaskMaker(methods=[\"offset-max\"], offset_max=offset_max)\n\nmap_datasets = Datasets()\n\nfor obs in obs_list_vela:\n    map_dataset = map_dataset_maker.run(map_dataset_empty, obs)\n    map_dataset = safe_mask_maker.run(map_dataset, obs)\n    map_dataset_on_off = phase_bkg_maker.run(map_dataset, obs)\n    map_datasets.append(map_dataset_on_off)"
      ]
    },
    {
      "cell_type": "markdown",
      "metadata": {},
      "source": [
        "Once the data reduction is done, we can plot the map of the counts-ON (i.e. in the ON-phase)\nand the map of the background (i.e. the counts-OFF, selected in the OFF-phase, multiplied by alpha).\nIf one wants to plot the counts-OFF instead, `~background` should be replaced by `~counts_off` in the following cell.\n\n"
      ]
    },
    {
      "cell_type": "code",
      "execution_count": null,
      "metadata": {
        "collapsed": false
      },
      "outputs": [],
      "source": [
        "counts = (\n    map_datasets[0].counts.smooth(kernel=\"gauss\", width=0.1 * u.deg).sum_over_axes()\n)\nbackground = (\n    map_datasets[0].background.smooth(kernel=\"gauss\", width=0.1 * u.deg).sum_over_axes()\n)\n\nfig, (ax1, ax2) = plt.subplots(\n    figsize=(11, 5), ncols=2, subplot_kw={\"projection\": counts.geom.wcs}\n)\n\ncounts.plot(ax=ax1, add_cbar=True)\nax1.set_title(\"Counts\")\n\nbackground.plot(ax=ax2, add_cbar=True)\nax2.set_title(\"Background\")\n\nplt.show()"
      ]
    },
    {
      "cell_type": "markdown",
      "metadata": {},
      "source": [
        "Finally, we can run an `~gammapy.estimators.ExcessMapEstimator` to compute the excess and significance maps.\n\n"
      ]
    },
    {
      "cell_type": "code",
      "execution_count": null,
      "metadata": {
        "collapsed": false
      },
      "outputs": [],
      "source": [
        "excess_map_estimator = ExcessMapEstimator(\n    correlation_radius=\"0.2 deg\", energy_edges=[50 * u.GeV, 10 * u.TeV]\n)\nestimator_results = excess_map_estimator.run(dataset=map_datasets[0])\n\nnpred_excess = estimator_results.npred_excess\nsqrt_ts = estimator_results.sqrt_ts\n\nfig, (ax1, ax2) = plt.subplots(\n    figsize=(11, 5), ncols=2, subplot_kw={\"projection\": npred_excess.geom.wcs}\n)\n\nnpred_excess.plot(ax=ax1, add_cbar=True)\nax1.set_title(\"Excess counts\")\n\nsqrt_ts.plot(ax=ax2, add_cbar=True)\nax2.set_title(\"Significance\")\n\nplt.show()"
      ]
    },
    {
      "cell_type": "markdown",
      "metadata": {},
      "source": [
        "Note that here we are lacking statistic because we only use one run of CTA.\n\n# Phase-resolved spectrum\n\nWe can also make a phase-resolved spectrum.\nIn order to do that, we are going to use the `~gammapy.makers.PhaseBackgroundMaker` to create a\n`~gammapy.makers.SpectrumDatasetOnOff` with the ON and OFF taken in the phase space.\nNote that this maker take the ON and OFF in the same spatial region.\n\nHere to create the `~gammapy.datasets.SpectrumDatasetOnOff`, we are going to redo the whole data reduction.\nHowever, note that one can use the `to_spectrum_dataset()` method of `~gammapy.datasets.MapDatasetOnOff`\n(with the `containment_correction` parameter set to True) if such a `~gammapy.datasets.MapDatasetOnOff`\nhas been created as shown above.\n\n"
      ]
    },
    {
      "cell_type": "code",
      "execution_count": null,
      "metadata": {
        "collapsed": false
      },
      "outputs": [],
      "source": [
        "e_true = MapAxis.from_energy_bounds(0.003, 10, 100, unit=\"TeV\", name=\"energy_true\")\ne_reco = MapAxis.from_energy_bounds(0.01, 10, 30, unit=\"TeV\", name=\"energy\")\n\n\ngeom = RegionGeom.create(region=on_region, axes=[e_reco])\n\nspectrum_dataset_empty = SpectrumDataset.create(geom=geom, energy_axis_true=e_true)\n\nspectrum_dataset_maker = SpectrumDatasetMaker()\nphase_bkg_maker = PhaseBackgroundMaker(\n    on_phase=on_phase_range, off_phase=off_phase_range, phase_column_name=\"PHASE\"\n)\n\noffset_max = 5 * u.deg\nsafe_mask_maker = SafeMaskMaker(methods=[\"offset-max\"], offset_max=offset_max)\n\nspectrum_datasets = Datasets()\n\nfor obs in obs_list_vela:\n    spectrum_dataset = spectrum_dataset_maker.run(spectrum_dataset_empty, obs)\n    spectrum_dataset = safe_mask_maker.run(spectrum_dataset, obs)\n    spectrum_dataset_on_off = phase_bkg_maker.run(spectrum_dataset, obs)\n    spectrum_datasets.append(spectrum_dataset_on_off)"
      ]
    },
    {
      "cell_type": "markdown",
      "metadata": {},
      "source": [
        "Now let\u2019s take a look at the datasets we just created:\n\n"
      ]
    },
    {
      "cell_type": "code",
      "execution_count": null,
      "metadata": {
        "collapsed": false
      },
      "outputs": [],
      "source": [
        "spectrum_datasets[0].peek()\nplt.show()"
      ]
    },
    {
      "cell_type": "markdown",
      "metadata": {},
      "source": [
        "Now we\u2019ll fit a model to the spectrum with the `~gammapy.modeling.Fit` class. First we\nload a power law model with an initial value for the index and the\namplitude and then wo do a likelihood fit. The fit results are printed\nbelow.\n\n"
      ]
    },
    {
      "cell_type": "code",
      "execution_count": null,
      "metadata": {
        "collapsed": false
      },
      "outputs": [],
      "source": [
        "spectral_model = PowerLawSpectralModel(\n    index=4, amplitude=\"1.3e-9 cm-2 s-1 TeV-1\", reference=\"0.02 TeV\"\n)\nmodel = SkyModel(spectral_model=spectral_model, name=\"vela psr\")\nemin_fit, emax_fit = (0.04 * u.TeV, 0.4 * u.TeV)\n\nmask_fit = geom.energy_mask(energy_min=emin_fit, energy_max=emax_fit)\n\nfor dataset in spectrum_datasets:\n    dataset.models = model\n    dataset.mask_fit = mask_fit\n\njoint_fit = Fit()\njoint_result = joint_fit.run(datasets=spectrum_datasets)\n\nprint(joint_result)"
      ]
    },
    {
      "cell_type": "markdown",
      "metadata": {},
      "source": [
        "Now you might want to do the stacking here even if in our case there is\nonly one observation which makes it superfluous. We can compute flux\npoints by fitting the norm of the global model in energy bands.\n\n"
      ]
    },
    {
      "cell_type": "code",
      "execution_count": null,
      "metadata": {
        "collapsed": false
      },
      "outputs": [],
      "source": [
        "energy_edges = np.logspace(np.log10(0.04), np.log10(0.4), 7) * u.TeV\n\nstack_dataset = spectrum_datasets.stack_reduce()\n\nstack_dataset.models = model\n\nfpe = FluxPointsEstimator(\n    energy_edges=energy_edges, source=\"vela psr\", selection_optional=\"all\"\n)\n\nflux_points = fpe.run(datasets=[stack_dataset])\nflux_points.meta[\"ts_threshold_ul\"] = 1\n\namplitude_ref = 0.57 * 19.4e-14 * u.Unit(\"1 / (cm2 s MeV)\")\nspec_model_true = PowerLawSpectralModel(\n    index=4.5, amplitude=amplitude_ref, reference=\"20 GeV\"\n)\n\nflux_points_dataset = FluxPointsDataset(data=flux_points, models=model)"
      ]
    },
    {
      "cell_type": "markdown",
      "metadata": {},
      "source": [
        "Now we can plot.\n\n"
      ]
    },
    {
      "cell_type": "code",
      "execution_count": null,
      "metadata": {
        "collapsed": false
      },
      "outputs": [],
      "source": [
        "ax_spectrum, ax_residuals = flux_points_dataset.plot_fit()\n\nax_spectrum.set_ylim([1e-14, 3e-11])\nax_residuals.set_ylim([-1.7, 1.7])\n\nspec_model_true.plot(\n    ax=ax_spectrum,\n    energy_bounds=(emin_fit, emax_fit),\n    label=\"Reference model\",\n    c=\"black\",\n    linestyle=\"dashed\",\n    energy_power=2,\n)\n\nax_spectrum.legend(loc=\"best\")\n\nplt.show()"
      ]
    },
    {
      "cell_type": "markdown",
      "metadata": {},
      "source": [
        "This tutorial suffers a bit from the lack of statistics: there were 9\nVela observations in the CTA DC1 while there is only one here. When done\non the 9 observations, the spectral analysis is much better agreement\nbetween the input model and the gammapy fit.\n\n"
      ]
    }
  ],
  "metadata": {
    "kernelspec": {
      "display_name": "Python 3",
      "language": "python",
      "name": "python3"
    },
    "language_info": {
      "codemirror_mode": {
        "name": "ipython",
        "version": 3
      },
      "file_extension": ".py",
      "mimetype": "text/x-python",
      "name": "python",
      "nbconvert_exporter": "python",
      "pygments_lexer": "ipython3",
      "version": "3.9.16"
    }
  },
  "nbformat": 4,
  "nbformat_minor": 0
}