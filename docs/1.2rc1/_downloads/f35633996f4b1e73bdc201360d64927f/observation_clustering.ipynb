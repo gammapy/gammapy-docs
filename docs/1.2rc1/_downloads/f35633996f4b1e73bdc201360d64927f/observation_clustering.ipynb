{
  "cells": [
    {
      "cell_type": "code",
      "execution_count": null,
      "metadata": {
        "collapsed": false
      },
      "outputs": [],
      "source": [
        "%matplotlib inline"
      ]
    },
    {
      "cell_type": "markdown",
      "metadata": {},
      "source": [
        "\n# Observational clustering\n\nClustering observations into specific groups.\n\n\n## Context\n\nTypically, observations from gamma-ray telescopes can span a number of\ndifferent observation periods, therefore it is likely that the observation\nconditions and quality are not always the same. This tutorial aims to provide\na way in which observations can be grouped such that similar observations are grouped\ntogether, and then the data reduction is performed.\n\n\n## Objective\n\nTo cluster similar observations based on various quantities.\n\n## Proposed approach\n\nFor completeness two different methods for grouping of observations are shown here.\n\n- A simple grouping based on zenith angle from an existing observations table.\n\n- Grouping the observations depending on the IRF quality, by means of hierarchical clustering.\n"
      ]
    },
    {
      "cell_type": "code",
      "execution_count": null,
      "metadata": {
        "collapsed": false
      },
      "outputs": [],
      "source": [
        "import numpy as np\nimport astropy.units as u\nfrom astropy.coordinates import SkyCoord\nimport matplotlib.pyplot as plt\nfrom gammapy.data import DataStore\nfrom gammapy.data.observations import Observations\nfrom gammapy.data.utils import get_irfs_features\nfrom gammapy.utils.cluster import hierarchical_clustering, standard_scaler"
      ]
    },
    {
      "cell_type": "markdown",
      "metadata": {},
      "source": [
        "## Obtain the observations\n\nFirst need to define the `~gammapy.data.DataStore` object for the HESS DL3 DR1\ndata. Next, utilise a cone search to select only the observations of interest.\nIn this case, we choose PKS 2155-304 as the object of interest.\n\nThe `~gammapy.data.ObservationTable` is then filtered using the `select_observations` tool.\n\n\n"
      ]
    },
    {
      "cell_type": "code",
      "execution_count": null,
      "metadata": {
        "collapsed": false
      },
      "outputs": [],
      "source": [
        "data_store = DataStore.from_dir(\"$GAMMAPY_DATA/hess-dl3-dr1\")\n\nselection = dict(\n    type=\"sky_circle\",\n    frame=\"icrs\",\n    lon=\"329.71693826 deg\",\n    lat=\"-30.2255 deg\",\n    radius=\"2 deg\",\n)\nobs_table = data_store.obs_table\nselected_obs_table = obs_table.select_observations(selection)"
      ]
    },
    {
      "cell_type": "markdown",
      "metadata": {},
      "source": [
        "More complex selection can be done by utilising the obs_table entries directly.\nWe can now retrieve the relevant observations by passing their obs_id to the\n`~gammapy.data.DataStore.get_observations` method.\n\n\n"
      ]
    },
    {
      "cell_type": "code",
      "execution_count": null,
      "metadata": {
        "collapsed": false
      },
      "outputs": [],
      "source": [
        "obs_ids = selected_obs_table[\"OBS_ID\"]\nobservations = data_store.get_observations(obs_ids)"
      ]
    },
    {
      "cell_type": "markdown",
      "metadata": {},
      "source": [
        "### Show various observation quantities\n\nPrint here the range of zenith angles and muon efficiencies, to see\nif there is a sensible way to group the observations.\n\n\n"
      ]
    },
    {
      "cell_type": "code",
      "execution_count": null,
      "metadata": {
        "collapsed": false
      },
      "outputs": [],
      "source": [
        "obs_zenith = selected_obs_table[\"ZEN_PNT\"].to(u.deg)\nobs_muoneff = selected_obs_table[\"MUONEFF\"]\n\nprint(f\"{np.min(obs_zenith):.2f} < zenith angle < {np.max(obs_zenith):.2f}\")\nprint(f\"{np.min(obs_muoneff):.2f} < muon efficiency < {np.max(obs_muoneff):.2f}\")"
      ]
    },
    {
      "cell_type": "markdown",
      "metadata": {},
      "source": [
        "## Manual grouping of observations\n\nHere we can plot the zenith angle vs muon efficiency of the observations.\nWe decide to group the observations according to their zenith angle.\nThis is done manually as per a user defined cut, in this case we take the\nmedian value of the zenith angles to define each observation group.\n\nThis type of grouping can be utilised according to different parameters i.e.\nzenith angle, muon efficiency, offset angle. The quantity chosen can therefore\nbe adjusted according to each specific science case.\n\n\n"
      ]
    },
    {
      "cell_type": "code",
      "execution_count": null,
      "metadata": {
        "collapsed": false
      },
      "outputs": [],
      "source": [
        "median_zenith = np.median(obs_zenith)\n\nlabels = []\nfor obs in observations:\n    zenith = obs.get_pointing_altaz(time=obs.tmid).zen\n    labels.append(\"low_zenith\" if zenith < median_zenith else \"high_zenith\")\ngrouped_observations = observations.group_by_label(labels)\n\nprint(grouped_observations)"
      ]
    },
    {
      "cell_type": "markdown",
      "metadata": {},
      "source": [
        "The results for each group of observations is shown visually below.\n\n\n"
      ]
    },
    {
      "cell_type": "code",
      "execution_count": null,
      "metadata": {
        "collapsed": false
      },
      "outputs": [],
      "source": [
        "fix, ax = plt.subplots(1, 1, figsize=(7, 5))\nfor obs in grouped_observations[\"group_low_zenith\"]:\n    ax.plot(\n        obs.get_pointing_altaz(time=obs.tmid).zen,\n        obs.meta.optional[\"MUONEFF\"],\n        \"d\",\n        color=\"red\",\n    )\nfor obs in grouped_observations[\"group_high_zenith\"]:\n    ax.plot(\n        obs.get_pointing_altaz(time=obs.tmid).zen,\n        obs.meta.optional[\"MUONEFF\"],\n        \"o\",\n        color=\"blue\",\n    )\nax.set_ylabel(\"Muon efficiency\")\nax.set_xlabel(\"Zenith angle (deg)\")\nax.axvline(median_zenith.value, ls=\"--\", color=\"black\")\nplt.show()"
      ]
    },
    {
      "cell_type": "markdown",
      "metadata": {},
      "source": [
        "This shows the observations grouped by zenith angle. The diamonds\nare observations which have a zenith angle less than the median value,\nwhilst the circles are observations above the median.\n\nThe `grouped_observations` provide a list of `~gammapy.data.Observations`\nwhich can be utilised in the usual way to show the various properties\nof the observations i.e. see the :doc:`/tutorials/data/cta` tutorial.\n\n\n"
      ]
    },
    {
      "cell_type": "markdown",
      "metadata": {},
      "source": [
        "## Hierarchical clustering of observations\n\nThis method shows how to cluster observations based on their IRF quantities,\nin this case those that have a similar edisp and psf. The\n`~gammapy.data.utils.get_irfs_features` is utilised to achieve this. The\nobservations are then clustered based on these criteria using\n`~gammapy.utils.cluster.hierarchical_clustering`. The idea here is to minimise\nthe variance of both edisp and psf within a specific group to limit the error\non the quantity when they are stacked at the dataset level.\n\nIn this example, the irf features are computed for the `edisp-res` and\n`psf-radius` at 1 TeV. This is stored as a `~astropy.table.table.Table`, as shown below.\n\n\n"
      ]
    },
    {
      "cell_type": "code",
      "execution_count": null,
      "metadata": {
        "collapsed": false
      },
      "outputs": [],
      "source": [
        "source_position = SkyCoord(329.71693826 * u.deg, -30.2255890 * u.deg, frame=\"icrs\")\nnames = [\"edisp-res\", \"psf-radius\"]\nfeatures_irfs = get_irfs_features(\n    observations, energy_true=\"1 TeV\", position=source_position, names=names\n)\nprint(features_irfs)"
      ]
    },
    {
      "cell_type": "markdown",
      "metadata": {},
      "source": [
        "Compute standardized features by removing the mean and scaling to unit\nvariance:\n\n\n"
      ]
    },
    {
      "cell_type": "code",
      "execution_count": null,
      "metadata": {
        "collapsed": false
      },
      "outputs": [],
      "source": [
        "scaled_features_irfs = standard_scaler(features_irfs)\nprint(scaled_features_irfs)"
      ]
    },
    {
      "cell_type": "markdown",
      "metadata": {},
      "source": [
        "The `~gammapy.utils.cluster.hierarchical_clustering` then clusters\nthis table into ``t=2`` groups with a corresponding label for each group.\nIn this case, we choose to cluster the observations into two groups.\nWe can print this table to show the corresponding label which has been\nadded to the previous ``feature_irfs`` table.\n\nThe arguments for `~scipy.cluster.hierarchy.fcluster` are passed as\na dictionary here.\n\n\n"
      ]
    },
    {
      "cell_type": "code",
      "execution_count": null,
      "metadata": {
        "collapsed": false
      },
      "outputs": [],
      "source": [
        "features = hierarchical_clustering(scaled_features_irfs, fcluster_kwargs={\"t\": 2})\nprint(features)"
      ]
    },
    {
      "cell_type": "markdown",
      "metadata": {},
      "source": [
        "Finally, ``observations.group_by_label`` creates a dictionary containing ``t``\n`~gammapy.data.Observations` objects by grouping the similar labels.\n\n\n"
      ]
    },
    {
      "cell_type": "code",
      "execution_count": null,
      "metadata": {
        "collapsed": false
      },
      "outputs": [],
      "source": [
        "obs_clusters = observations.group_by_label(features[\"labels\"])\nprint(obs_clusters)\n\n\nmask_1 = features[\"labels\"] == 1\nmask_2 = features[\"labels\"] == 2\nfix, ax = plt.subplots(1, 1, figsize=(7, 5))\nax.set_ylabel(\"edisp-res\")\nax.set_xlabel(\"psf-radius\")\nax.plot(\n    features_irfs[mask_1][\"edisp-res\"],\n    features_irfs[mask_1][\"psf-radius\"],\n    \"d\",\n    color=\"green\",\n    label=\"Group 1\",\n)\nax.plot(\n    features_irfs[mask_2][\"edisp-res\"],\n    features_irfs[mask_2][\"psf-radius\"],\n    \"o\",\n    color=\"magenta\",\n    label=\"Group 2\",\n)\nax.legend()\nplt.show()"
      ]
    },
    {
      "cell_type": "markdown",
      "metadata": {},
      "source": [
        "The groups here are divided by the quality of the IRFs values ``edisp-res``\nand ``psf-radius``. The diamond and circular points indicate how the observations\nare grouped.\n\n\nIn both examples we have a set of `~gammapy.data.Observation` objects which\ncan be reduced using the `~gammapy.makers.DatasetsMaker` to create two (in this\nspecific case) separate datasets. These can then be jointly fitted using the\n:doc:`/tutorials/analysis-3d/analysis_mwl` tutorial.\n\n\n"
      ]
    }
  ],
  "metadata": {
    "kernelspec": {
      "display_name": "Python 3",
      "language": "python",
      "name": "python3"
    },
    "language_info": {
      "codemirror_mode": {
        "name": "ipython",
        "version": 3
      },
      "file_extension": ".py",
      "mimetype": "text/x-python",
      "name": "python",
      "nbconvert_exporter": "python",
      "pygments_lexer": "ipython3",
      "version": "3.9.18"
    }
  },
  "nbformat": 4,
  "nbformat_minor": 0
}