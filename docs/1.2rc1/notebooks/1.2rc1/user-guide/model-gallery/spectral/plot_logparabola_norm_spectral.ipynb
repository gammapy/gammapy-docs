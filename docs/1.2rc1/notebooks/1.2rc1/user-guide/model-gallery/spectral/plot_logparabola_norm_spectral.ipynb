{
  "cells": [
    {
      "cell_type": "code",
      "execution_count": null,
      "metadata": {
        "collapsed": false
      },
      "outputs": [],
      "source": [
        "%matplotlib inline"
      ]
    },
    {
      "cell_type": "markdown",
      "metadata": {},
      "source": [
        "\n\n# Log parabola spectral norm model\n\nThis model parametrises a log parabola spectral correction with a norm parameter.\n"
      ]
    },
    {
      "cell_type": "markdown",
      "metadata": {},
      "source": [
        "## Example plot\nHere is an example plot of the model:\n\n"
      ]
    },
    {
      "cell_type": "code",
      "execution_count": null,
      "metadata": {
        "collapsed": false
      },
      "outputs": [],
      "source": [
        "from astropy import units as u\nimport matplotlib.pyplot as plt\nfrom gammapy.modeling.models import (\n    LogParabolaNormSpectralModel,\n    LogParabolaSpectralModel,\n    Models,\n    SkyModel,\n    TemplateSpectralModel,\n)\n\nenergy_bounds = [0.1, 100] * u.TeV\n\nenergy = [0.3, 1, 3, 10, 30] * u.TeV\nvalues = [40, 30, 20, 10, 1] * u.Unit(\"TeV-1 s-1 cm-2\")\ntemplate = TemplateSpectralModel(energy, values)\nnorm = LogParabolaNormSpectralModel(\n    norm=1.5,\n    reference=1 * u.TeV,\n)\n\ntemplate.plot(energy_bounds=energy_bounds, label=\"Template model\")\nlp_norm = template * norm\nlp_norm.plot(energy_bounds, label=\"Template model with LogParabola norm correction\")\nplt.legend(loc=\"best\")\nplt.grid(which=\"both\")"
      ]
    },
    {
      "cell_type": "markdown",
      "metadata": {},
      "source": [
        "## YAML representation\nHere is an example YAML file using the model:\n\n"
      ]
    },
    {
      "cell_type": "code",
      "execution_count": null,
      "metadata": {
        "collapsed": false
      },
      "outputs": [],
      "source": [
        "model = SkyModel(spectral_model=lp_norm, name=\"log-parabola-norm-model\")\nmodels = Models([model])\n\nprint(models.to_yaml())"
      ]
    }
  ],
  "metadata": {
    "kernelspec": {
      "display_name": "Python 3",
      "language": "python",
      "name": "python3"
    },
    "language_info": {
      "codemirror_mode": {
        "name": "ipython",
        "version": 3
      },
      "file_extension": ".py",
      "mimetype": "text/x-python",
      "name": "python",
      "nbconvert_exporter": "python",
      "pygments_lexer": "ipython3",
      "version": "3.9.18"
    }
  },
  "nbformat": 4,
  "nbformat_minor": 0
}