{
  "cells": [
    {
      "cell_type": "markdown",
      "metadata": {},
      "source": [
        "\n# Point source sensitivity\n\nEstimate the CTAO sensitivity for a point-like IRF at a fixed zenith angle and fixed offset.\n\n## Introduction\n\nThis notebook explains how to estimate the CTAO sensitivity for a\npoint-like IRF at a fixed zenith angle and fixed offset, using the full\ncontainment IRFs distributed for the CTA 1DC. The significance is\ncomputed for a 1D analysis (ON-OFF regions) with the Li&Ma formula.\n\nWe use here an approximate approach with an energy dependent integration\nradius to take into account the variation of the PSF. We will first\ndetermine the 1D IRFs including a containment correction.\n\nWe will be using the following Gammapy class:\n\n-  `~gammapy.estimators.SensitivityEstimator`\n"
      ]
    },
    {
      "cell_type": "code",
      "execution_count": null,
      "metadata": {
        "collapsed": false
      },
      "outputs": [],
      "source": [
        "from cycler import cycler\nimport numpy as np\nimport astropy.units as u\nfrom astropy.coordinates import SkyCoord\n\n# %matplotlib inline\nfrom regions import CircleSkyRegion\nimport matplotlib.pyplot as plt"
      ]
    },
    {
      "cell_type": "markdown",
      "metadata": {},
      "source": [
        "## Setup\n\nAs usual, we\u2019ll start with some setup \u2026\n\n\n"
      ]
    },
    {
      "cell_type": "code",
      "execution_count": null,
      "metadata": {
        "collapsed": false
      },
      "outputs": [],
      "source": [
        "from IPython.display import display\nfrom gammapy.data import FixedPointingInfo, Observation, observatory_locations\nfrom gammapy.datasets import SpectrumDataset, SpectrumDatasetOnOff\nfrom gammapy.estimators import FluxPoints, SensitivityEstimator\nfrom gammapy.irf import load_irf_dict_from_file\nfrom gammapy.makers import SpectrumDatasetMaker\nfrom gammapy.maps import MapAxis, RegionGeom\nfrom gammapy.maps.axes import UNIT_STRING_FORMAT"
      ]
    },
    {
      "cell_type": "markdown",
      "metadata": {},
      "source": [
        "## Check setup\n\n"
      ]
    },
    {
      "cell_type": "code",
      "execution_count": null,
      "metadata": {
        "collapsed": false
      },
      "outputs": [],
      "source": [
        "from gammapy.utils.check import check_tutorials_setup\n\ncheck_tutorials_setup()"
      ]
    },
    {
      "cell_type": "markdown",
      "metadata": {},
      "source": [
        "## Define analysis region and energy binning\n\nHere we assume a source at 0.5 degree from pointing position. We perform\na simple energy independent extraction for now with a radius of 0.1\ndegree.\n\n\n"
      ]
    },
    {
      "cell_type": "code",
      "execution_count": null,
      "metadata": {
        "collapsed": false
      },
      "outputs": [],
      "source": [
        "energy_axis = MapAxis.from_energy_bounds(0.03 * u.TeV, 30 * u.TeV, nbin=20)\nenergy_axis_true = MapAxis.from_energy_bounds(\n    0.01 * u.TeV, 100 * u.TeV, nbin=100, name=\"energy_true\"\n)\n\npointing = SkyCoord(ra=0 * u.deg, dec=0 * u.deg)\npointing_info = FixedPointingInfo(fixed_icrs=pointing)\noffset = 0.5 * u.deg\n\nsource_position = pointing.directional_offset_by(0 * u.deg, offset)\non_region_radius = 0.1 * u.deg\non_region = CircleSkyRegion(source_position, radius=on_region_radius)\n\ngeom = RegionGeom.create(on_region, axes=[energy_axis])\nempty_dataset = SpectrumDataset.create(geom=geom, energy_axis_true=energy_axis_true)"
      ]
    },
    {
      "cell_type": "markdown",
      "metadata": {},
      "source": [
        "## Load IRFs and prepare dataset\n\nWe extract the 1D IRFs from the full 3D IRFs provided by CTAO.\n\n\n"
      ]
    },
    {
      "cell_type": "code",
      "execution_count": null,
      "metadata": {
        "collapsed": false
      },
      "outputs": [],
      "source": [
        "irfs = load_irf_dict_from_file(\n    \"$GAMMAPY_DATA/cta-1dc/caldb/data/cta/1dc/bcf/South_z20_50h/irf_file.fits\"\n)\nlocation = observatory_locations[\"cta_south\"]\nlivetime = 50.0 * u.h\nobs = Observation.create(\n    pointing=pointing_info, irfs=irfs, livetime=livetime, location=location\n)"
      ]
    },
    {
      "cell_type": "markdown",
      "metadata": {},
      "source": [
        "Initiate and run the `~gammapy.makers.SpectrumDatasetMaker`.\n\nNote that here we ensure ``containment_correction=False`` which allows us to\napply our own containment correction in the next part of the tutorial.\n\n\n"
      ]
    },
    {
      "cell_type": "code",
      "execution_count": null,
      "metadata": {
        "collapsed": false
      },
      "outputs": [],
      "source": [
        "spectrum_maker = SpectrumDatasetMaker(\n    selection=[\"exposure\", \"edisp\", \"background\"],\n    containment_correction=False,\n)\ndataset = spectrum_maker.run(empty_dataset, obs)"
      ]
    },
    {
      "cell_type": "markdown",
      "metadata": {},
      "source": [
        "Now we correct for the energy dependent region size.\n\n**Note**: In the calculation of the containment radius, we use the point spread function\nwhich is defined dependent on true energy to compute the correction we apply in reconstructed\nenergy, thus neglecting the energy dispersion in this step.\n\nStart by correcting the exposure:\n\n\n"
      ]
    },
    {
      "cell_type": "code",
      "execution_count": null,
      "metadata": {
        "collapsed": false
      },
      "outputs": [],
      "source": [
        "containment = 0.68\ndataset.exposure *= containment"
      ]
    },
    {
      "cell_type": "markdown",
      "metadata": {},
      "source": [
        "Next, correct the background estimation.\n\nWarning: this neglects the energy dispersion by computing the containment\nradius from the PSF in true energy but using the reco energy axis.\n\n\n"
      ]
    },
    {
      "cell_type": "code",
      "execution_count": null,
      "metadata": {
        "collapsed": false
      },
      "outputs": [],
      "source": [
        "on_radii = obs.psf.containment_radius(\n    energy_true=energy_axis.center, offset=offset, fraction=containment\n)\nfactor = (1 - np.cos(on_radii)) / (1 - np.cos(on_region_radius))\ndataset.background *= factor.value.reshape((-1, 1, 1))"
      ]
    },
    {
      "cell_type": "markdown",
      "metadata": {},
      "source": [
        "Finally, define a `~gammapy.datasets.SpectrumDatasetOnOff` with an alpha of 0.2.\nThe off counts are created from the background model:\n\n\n"
      ]
    },
    {
      "cell_type": "code",
      "execution_count": null,
      "metadata": {
        "collapsed": false
      },
      "outputs": [],
      "source": [
        "dataset_on_off = SpectrumDatasetOnOff.from_spectrum_dataset(\n    dataset=dataset, acceptance=1, acceptance_off=5\n)"
      ]
    },
    {
      "cell_type": "markdown",
      "metadata": {},
      "source": [
        "## Compute sensitivity\n\nWe impose a minimal number of expected signal counts of 10 per bin and a\nminimal significance of 5 per bin. The excess must also be larger than 5% of the background.\n\nWe assume an alpha of 0.2 (ratio between ON and OFF area). We then run the sensitivity estimator.\n\nThese are the conditions imposed in standard CTAO sensitivity computations.\n\n"
      ]
    },
    {
      "cell_type": "code",
      "execution_count": null,
      "metadata": {
        "collapsed": false
      },
      "outputs": [],
      "source": [
        "sensitivity_estimator = SensitivityEstimator(\n    gamma_min=10,\n    n_sigma=5,\n    bkg_syst_fraction=0.05,\n)\nsensitivity_table = sensitivity_estimator.run(dataset_on_off)"
      ]
    },
    {
      "cell_type": "markdown",
      "metadata": {},
      "source": [
        "## Results\n\nThe results are given as a `~astropy.table.Table`, which can be written to\ndisk utilising the usual `~astropy.table.Table.write` method.\nA column criterion allows us\nto distinguish bins where the significance is limited by the signal\nstatistical significance from bins where the sensitivity is limited by\nthe number of signal counts. This is visible in the plot below.\n\n\n"
      ]
    },
    {
      "cell_type": "code",
      "execution_count": null,
      "metadata": {
        "collapsed": false
      },
      "outputs": [],
      "source": [
        "display(sensitivity_table)"
      ]
    },
    {
      "cell_type": "markdown",
      "metadata": {},
      "source": [
        "Plot the sensitivity curve\n\n\n"
      ]
    },
    {
      "cell_type": "code",
      "execution_count": null,
      "metadata": {
        "collapsed": false
      },
      "outputs": [],
      "source": [
        "fig, ax = plt.subplots()\n\nax.set_prop_cycle(cycler(\"marker\", \"s*v\") + cycler(\"color\", \"rgb\"))\n\nfor criterion in (\"significance\", \"gamma\", \"bkg\"):\n    mask = sensitivity_table[\"criterion\"] == criterion\n    t = sensitivity_table[mask]\n\n    ax.errorbar(\n        t[\"e_ref\"],\n        t[\"e2dnde\"],\n        xerr=0.5 * (t[\"e_max\"] - t[\"e_min\"]),\n        label=criterion,\n        linestyle=\"\",\n    )\n\nax.loglog()\n\nax.set_xlabel(f\"Energy [{t['e_ref'].unit.to_string(UNIT_STRING_FORMAT)}]\")\nax.set_ylabel(f\"Sensitivity [{t['e2dnde'].unit.to_string(UNIT_STRING_FORMAT)}]\")\n\nax.legend()\n\nplt.show()"
      ]
    },
    {
      "cell_type": "markdown",
      "metadata": {},
      "source": [
        "We add some control plots showing the expected number of background\ncounts per bin and the ON region size cut (here the 68% containment\nradius of the PSF).\n\nPlot expected number of counts for signal and background.\n\n\n"
      ]
    },
    {
      "cell_type": "code",
      "execution_count": null,
      "metadata": {
        "collapsed": false
      },
      "outputs": [],
      "source": [
        "fig, ax1 = plt.subplots()\nax1.plot(\n    sensitivity_table[\"e_ref\"],\n    sensitivity_table[\"background\"],\n    \"o-\",\n    color=\"black\",\n    label=\"blackground\",\n)\n\nax1.loglog()\nax1.set_xlabel(f\"Energy [{t['e_ref'].unit.to_string(UNIT_STRING_FORMAT)}]\")\nax1.set_ylabel(\"Expected number of bkg counts\")\n\nax2 = ax1.twinx()\nax2.set_ylabel(\n    f\"ON region radius [{on_radii.unit.to_string(UNIT_STRING_FORMAT)}]\", color=\"red\"\n)\nax2.semilogy(sensitivity_table[\"e_ref\"], on_radii, color=\"red\", label=\"PSF68\")\nax2.tick_params(axis=\"y\", labelcolor=\"red\")\nax2.set_ylim(0.01, 0.5)\nplt.show()"
      ]
    },
    {
      "cell_type": "markdown",
      "metadata": {},
      "source": [
        "## Obtaining an integral flux sensitivity\n\nIt is often useful to obtain the integral sensitivity above a certain\nthreshold. In this case, it is simplest to use a dataset with one energy bin\nwhile setting the high energy edge to a very large value.\nHere, we simply squash the previously created dataset into one with a single\nenergy\n\n\n"
      ]
    },
    {
      "cell_type": "code",
      "execution_count": null,
      "metadata": {
        "collapsed": false
      },
      "outputs": [],
      "source": [
        "dataset_on_off1 = dataset_on_off.to_image()\nsensitivity_estimator = SensitivityEstimator(\n    gamma_min=5, n_sigma=3, bkg_syst_fraction=0.10\n)\nsensitivity_table = sensitivity_estimator.run(dataset_on_off1)\nprint(sensitivity_table)"
      ]
    },
    {
      "cell_type": "markdown",
      "metadata": {},
      "source": [
        "To get the integral flux, we convert to a `~gammapy.estimators.FluxPoints` object\nthat does the conversion internally.\n\n\n"
      ]
    },
    {
      "cell_type": "code",
      "execution_count": null,
      "metadata": {
        "collapsed": false
      },
      "outputs": [],
      "source": [
        "flux_points = FluxPoints.from_table(\n    sensitivity_table,\n    sed_type=\"e2dnde\",\n    reference_model=sensitivity_estimator.spectral_model,\n)\nprint(\n    f\"Integral sensitivity in {livetime:.2f} above {energy_axis.edges[0]:.2e} \"\n    f\"is {np.squeeze(flux_points.flux.quantity):.2e}\"\n)"
      ]
    },
    {
      "cell_type": "markdown",
      "metadata": {},
      "source": [
        "## Exercises\n\n-  Compute the sensitivity for a 20 hour observation\n-  Compare how the sensitivity differs between 5 and 20 hours by\n   plotting the ratio as a function of energy.\n\n\n"
      ]
    }
  ],
  "metadata": {
    "kernelspec": {
      "display_name": "Python 3",
      "language": "python",
      "name": "python3"
    },
    "language_info": {
      "codemirror_mode": {
        "name": "ipython",
        "version": 3
      },
      "file_extension": ".py",
      "mimetype": "text/x-python",
      "name": "python",
      "nbconvert_exporter": "python",
      "pygments_lexer": "ipython3",
      "version": "3.9.20"
    }
  },
  "nbformat": 4,
  "nbformat_minor": 0
}