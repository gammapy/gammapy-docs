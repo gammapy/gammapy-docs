{
  "cells": [
    {
      "cell_type": "markdown",
      "metadata": {},
      "source": [
        "\n# Morphological energy dependence estimation\n\nLearn how to test for energy-dependent morphology in your dataset.\n\n## Prerequisites\nKnowledge on data reduction and datasets used in Gammapy, for example see\nthe :doc:`/tutorials/data/hess` and :doc:`/tutorials/analysis-2d/ring_background` tutorials.\n\n\n## Context\n\nThis tutorial introduces a method to investigate the potential of energy-dependent morphology from spatial maps.\nIt is possible for gamma-ray sources to exhibit energy-dependent morphology, in which the spatial morphology of\nthe gamma rays varies across different energy bands. This is plausible for different source types, including pulsar\nwind nebulae (PWNe) and supernova remnants. HESS J1825\u2212137 is a well-known example of a PWNe which shows a clear\nenergy-dependent gamma-ray morphology (see [Aharonian et al., 2006](https://ui.adsabs.harvard.edu/abs/2019A%26A...621A.116H/abstract)_,\n[H.E.S.S. Collaboration et al., 2019](https://ui.adsabs.harvard.edu/abs/2006A%26A...460..365A/abstract)_ and\n[Principe et al., 2020](https://ui.adsabs.harvard.edu/abs/2020A%26A...640A..76P/abstract)_.)\n\nMany different techniques of measuring this energy-dependence have been utilised over the years.\nThe method shown here is to perform a morphological fit of extension and position in various energy slices and\ncompare this with a global morphology fit.\n\n\n**Objective: Perform an energy-dependent morphology study of a mock source.**\n\n\n## Tutorial overview\n\nThis tutorial consists of two main steps.\n\nFirstly, the user defines the initial `~gammapy.modeling.models.SkyModel` based on previous investigations\nand selects the energy bands of interest to test for energy dependence. The null hypothesis is defined as\nonly the background component being free (norm). The alternative hypothesis introduces the source model.\nThe results of this first step show the significance of the source above the background in each energy band.\n\nThe second step is to quantify any energy-dependent morphology. The null hypothesis is determined by performing\na joint fit of the parameters. In the alternative hypothesis, the free parameters of the model are fit\nindividually within each energy band.\n\n\n## Setup\n"
      ]
    },
    {
      "cell_type": "code",
      "execution_count": null,
      "metadata": {
        "collapsed": false
      },
      "outputs": [],
      "source": [
        "from astropy import units as u\nfrom astropy.coordinates import SkyCoord\nfrom astropy.table import Table\nimport matplotlib.pyplot as plt\nfrom IPython.display import display\nfrom gammapy.datasets import Datasets, MapDataset\nfrom gammapy.estimators import EnergyDependentMorphologyEstimator\nfrom gammapy.estimators.energydependentmorphology import weighted_chi2_parameter\nfrom gammapy.maps import Map\nfrom gammapy.modeling.models import (\n    GaussianSpatialModel,\n    PowerLawSpectralModel,\n    SkyModel,\n)\nfrom gammapy.stats.utils import ts_to_sigma\nfrom gammapy.utils.check import check_tutorials_setup"
      ]
    },
    {
      "cell_type": "markdown",
      "metadata": {},
      "source": [
        "## Check setup\n\n"
      ]
    },
    {
      "cell_type": "code",
      "execution_count": null,
      "metadata": {
        "collapsed": false
      },
      "outputs": [],
      "source": [
        "check_tutorials_setup()"
      ]
    },
    {
      "cell_type": "markdown",
      "metadata": {},
      "source": [
        "## Obtain the data to use\n\nUtilise the pre-defined dataset within `$GAMMAPY_DATA`.\n\nP.S.: do not forget to set up your environment variable `$GAMMAPY_DATA`\nto your local directory.\n\n"
      ]
    },
    {
      "cell_type": "code",
      "execution_count": null,
      "metadata": {
        "collapsed": false
      },
      "outputs": [],
      "source": [
        "stacked_dataset = MapDataset.read(\n    \"$GAMMAPY_DATA/estimators/mock_DL4/dataset_energy_dependent.fits.gz\"\n)\ndatasets = Datasets([stacked_dataset])"
      ]
    },
    {
      "cell_type": "markdown",
      "metadata": {},
      "source": [
        "Define the energy edges of interest. These will be utilised to\ninvestigate the potential of energy-dependent morphology in the dataset.\n\n"
      ]
    },
    {
      "cell_type": "code",
      "execution_count": null,
      "metadata": {
        "collapsed": false
      },
      "outputs": [],
      "source": [
        "energy_edges = [1, 3, 5, 20] * u.TeV"
      ]
    },
    {
      "cell_type": "markdown",
      "metadata": {},
      "source": [
        "Define the spectral and spatial models of interest. We utilise\na `~gammapy.modeling.models.PowerLawSpectralModel` and a\n`~gammapy.modeling.models.GaussianSpatialModel` to test the energy-dependent\nmorphology component in each energy band. A standard 3D fit (see the\n:doc:`/tutorials/analysis-3d/analysis_3d` tutorial)\nis performed, then the best fit model is utilised here for the initial parameters\nin each model.\n\n"
      ]
    },
    {
      "cell_type": "code",
      "execution_count": null,
      "metadata": {
        "collapsed": false
      },
      "outputs": [],
      "source": [
        "source_position = SkyCoord(5.58, 0.2, unit=\"deg\", frame=\"galactic\")\n\nspectral_model = PowerLawSpectralModel(\n    index=2.5, amplitude=9.8e-12 * u.Unit(\"cm-2 s-1 TeV-1\"), reference=1.0 * u.TeV\n)\n\nspatial_model = GaussianSpatialModel(\n    lon_0=source_position.l,\n    lat_0=source_position.b,\n    frame=\"galactic\",\n    sigma=0.2 * u.deg,\n)\n\n# Limit the search for the position on the spatial model\nspatial_model.lon_0.min = source_position.galactic.l.deg - 0.8\nspatial_model.lon_0.max = source_position.galactic.l.deg + 0.8\nspatial_model.lat_0.min = source_position.galactic.b.deg - 0.8\nspatial_model.lat_0.max = source_position.galactic.b.deg + 0.8\n\nmodel = SkyModel(spatial_model=spatial_model, spectral_model=spectral_model, name=\"src\")"
      ]
    },
    {
      "cell_type": "markdown",
      "metadata": {},
      "source": [
        "## Run Estimator\n\nWe can now run the energy-dependent estimation tool and explore the results.\n\nLet's start with the initial hypothesis, in which the source is introduced\nto compare with the background. We specify which parameters we\nwish to use for testing the energy dependence.\nTo test for the energy dependence, it is recommended to keep the position and\nextension parameters free. This allows them to be used for fitting the spatial model\nin each energy band.\n\n\n"
      ]
    },
    {
      "cell_type": "code",
      "execution_count": null,
      "metadata": {
        "collapsed": false
      },
      "outputs": [],
      "source": [
        "model.spatial_model.lon_0.frozen = False\nmodel.spatial_model.lat_0.frozen = False\nmodel.spatial_model.sigma.frozen = False\n\nmodel.spectral_model.amplitude.frozen = False\nmodel.spectral_model.index.frozen = True\n\ndatasets.models = model\n\nestimator = EnergyDependentMorphologyEstimator(energy_edges=energy_edges, source=\"src\")"
      ]
    },
    {
      "cell_type": "markdown",
      "metadata": {},
      "source": [
        "## Show the results tables\n\n### The results of the source signal above the background in each energy bin\n\nFirstly, the estimator is run to produce the results.\nThe table here shows the \u2206(TS) value, the number of degrees of freedom (df)\nand the significance (\u03c3) in each energy bin. The significance values here show that each\nenergy band has significant signal above the background.\n\n\n"
      ]
    },
    {
      "cell_type": "code",
      "execution_count": null,
      "metadata": {
        "collapsed": false
      },
      "outputs": [],
      "source": [
        "results = estimator.run(datasets)\ntable_bkg_src = Table(results[\"src_above_bkg\"])\ndisplay(table_bkg_src)"
      ]
    },
    {
      "cell_type": "markdown",
      "metadata": {},
      "source": [
        "### The results for testing energy dependence\n\nNext, the results of the energy-dependent estimator are shown.\nThe table shows the various free parameters for the joint fit for $H_0$ across the entire\nenergy band and for each energy bin shown for $H_1$.\n\n"
      ]
    },
    {
      "cell_type": "code",
      "execution_count": null,
      "metadata": {
        "collapsed": false
      },
      "outputs": [],
      "source": [
        "ts = results[\"energy_dependence\"][\"delta_ts\"]\ndf = results[\"energy_dependence\"][\"df\"]\nsigma = ts_to_sigma(ts, df=df)\n\nprint(f\"The delta_ts for the energy-dependent study: {ts:.3f}.\")\nprint(f\"Converting this to a significance gives: {sigma:.3f} \\u03C3\")\n\nresults_table = Table(results[\"energy_dependence\"][\"result\"])\ndisplay(results_table)"
      ]
    },
    {
      "cell_type": "markdown",
      "metadata": {},
      "source": [
        "### The chi-squared value for each parameter of interest\n\nWe can also utilise the `~gammapy.estimators.energydependence.weighted_chi2_parameter`\nfunction for each parameter.\n\nThe weighted chi-squared significance for the ``sigma``, ``lat_0`` and ``lon_0`` values.\n\n\n"
      ]
    },
    {
      "cell_type": "code",
      "execution_count": null,
      "metadata": {
        "collapsed": false
      },
      "outputs": [],
      "source": [
        "display(\n    Table(\n        weighted_chi2_parameter(\n            results[\"energy_dependence\"][\"result\"],\n            parameters=[\"sigma\", \"lat_0\", \"lon_0\"],\n        )\n    )\n)"
      ]
    },
    {
      "cell_type": "markdown",
      "metadata": {},
      "source": [
        "Note: The chi-squared parameter does not include potential correlation between the\nparameters, so it should be used cautiously.\n\n\n"
      ]
    },
    {
      "cell_type": "markdown",
      "metadata": {},
      "source": [
        "## Plotting the results\n\n"
      ]
    },
    {
      "cell_type": "code",
      "execution_count": null,
      "metadata": {
        "collapsed": false
      },
      "outputs": [],
      "source": [
        "empty_map = Map.create(\n    skydir=spatial_model.position, frame=spatial_model.frame, width=1, binsz=0.02\n)\n\ncolors = [\"red\", \"blue\", \"green\", \"magenta\"]\n\nfig = plt.figure(figsize=(6, 4))\nax = empty_map.plot()\n\nlat_0 = results[\"energy_dependence\"][\"result\"][\"lat_0\"][1:]\nlat_0_err = results[\"energy_dependence\"][\"result\"][\"lat_0_err\"][1:]\nlon_0 = results[\"energy_dependence\"][\"result\"][\"lon_0\"][1:]\nlon_0_err = results[\"energy_dependence\"][\"result\"][\"lon_0_err\"][1:]\nsigma = results[\"energy_dependence\"][\"result\"][\"sigma\"][1:]\nsigma_err = results[\"energy_dependence\"][\"result\"][\"sigma_err\"][1:]\n\nfor i in range(len(lat_0)):\n    model_plot = GaussianSpatialModel(\n        lat_0=lat_0[i], lon_0=lon_0[i], sigma=sigma[i], frame=spatial_model.frame\n    )\n    model_plot.lat_0.error = lat_0_err[i]\n    model_plot.lon_0.error = lon_0_err[i]\n    model_plot.sigma.error = sigma_err[i]\n\n    model_plot.plot_error(\n        ax=ax,\n        which=\"all\",\n        kwargs_extension={\"facecolor\": colors[i], \"edgecolor\": colors[i]},\n        kwargs_position={\"color\": colors[i]},\n    )\nplt.show()\n\n\n# sphinx_gallery_thumbnail_number = 1"
      ]
    }
  ],
  "metadata": {
    "kernelspec": {
      "display_name": "Python 3",
      "language": "python",
      "name": "python3"
    },
    "language_info": {
      "codemirror_mode": {
        "name": "ipython",
        "version": 3
      },
      "file_extension": ".py",
      "mimetype": "text/x-python",
      "name": "python",
      "nbconvert_exporter": "python",
      "pygments_lexer": "ipython3",
      "version": "3.9.20"
    }
  },
  "nbformat": 4,
  "nbformat_minor": 0
}