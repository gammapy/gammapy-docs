{
  "cells": [
    {
      "cell_type": "markdown",
      "metadata": {},
      "source": [
        "\n# Estimators\n\nThis tutorial provides an overview of the `Estimator` API. All estimators live in the\n`gammapy.estimators` sub-module, offering a range of algorithms and classes for high-level flux and\nsignificance estimation. This is accomplished through a common functionality allowing the estimation of\nflux points, light curves, flux maps and profiles via a common API.\n\n\n\n## Key Features\n\n-  **Hypothesis Testing**: Estimations are based on testing a reference model\n   against a null hypothesis, deriving flux and significance values.\n\n-  **Estimation via Two Methods**:\n\n   -   **Model Fitting (Forward Folding)**: Refit the flux of a model component\n       within specified energy, time, or spatial regions.\n   -   **Excess Calculation (Backward Folding)**: Use the analytical solution by Li and Ma\n       for significance based on excess counts, currently available in `~gammapy.estimators.ExcessMapEstimator`.\n\nFor further information on these details please refer to :doc:`/user-guide/estimators`.\n\n## The setup\n"
      ]
    },
    {
      "cell_type": "code",
      "execution_count": null,
      "metadata": {
        "collapsed": false
      },
      "outputs": [],
      "source": [
        "import numpy as np\nimport matplotlib.pyplot as plt\nfrom astropy import units as u\nfrom IPython.display import display\nfrom gammapy.datasets import SpectrumDatasetOnOff, Datasets, MapDataset\nfrom gammapy.estimators import (\n    FluxPointsEstimator,\n    ExcessMapEstimator,\n    FluxPoints,\n)\nfrom gammapy.modeling import Fit, Parameter\nfrom gammapy.modeling.models import SkyModel, PowerLawSpectralModel\nfrom gammapy.utils.scripts import make_path"
      ]
    },
    {
      "cell_type": "markdown",
      "metadata": {},
      "source": [
        "## Flux Points Estimation\n\nWe start with a simple example for flux points estimation taking multiple datasets into account.\nIn this section we show the steps to estimate the flux points.\nFirst we read the pre-computed datasets from `$GAMMAPY_DATA`.\n\n\n"
      ]
    },
    {
      "cell_type": "code",
      "execution_count": null,
      "metadata": {
        "collapsed": false
      },
      "outputs": [],
      "source": [
        "datasets = Datasets()\npath = make_path(\"$GAMMAPY_DATA/joint-crab/spectra/hess/\")\n\nfor filename in path.glob(\"pha_obs*.fits\"):\n    dataset = SpectrumDatasetOnOff.read(filename)\n    datasets.append(dataset)"
      ]
    },
    {
      "cell_type": "markdown",
      "metadata": {},
      "source": [
        "Next we define a spectral model and set it on the datasets:\n\n\n"
      ]
    },
    {
      "cell_type": "code",
      "execution_count": null,
      "metadata": {
        "collapsed": false
      },
      "outputs": [],
      "source": [
        "pwl = PowerLawSpectralModel(index=2.7, amplitude=\"5e-11  cm-2 s-1 TeV-1\")\ndatasets.models = SkyModel(spectral_model=pwl, name=\"crab\")"
      ]
    },
    {
      "cell_type": "markdown",
      "metadata": {},
      "source": [
        "Before using the estimators, it is necessary to first ensure that the model is properly\nfitted. This applies to all scenarios, including light curve estimation. To optimize the\nmodel parameters to best fit the data we utilise the following:\n\n\n"
      ]
    },
    {
      "cell_type": "code",
      "execution_count": null,
      "metadata": {
        "collapsed": false
      },
      "outputs": [],
      "source": [
        "fit = Fit()\nfit_result = fit.optimize(datasets=datasets)\nprint(fit_result)"
      ]
    },
    {
      "cell_type": "markdown",
      "metadata": {},
      "source": [
        "### A fully configured Flux Points Estimation\n\nThe `~gammapy.estimators.FluxPointsEstimator` estimates flux points for a given list of datasets,\nenergies and spectral model. The most simple way to call the estimator is by defining both\nthe name of the ``source`` and its ``energy_edges``.\nHere we prepare a full configuration of the flux point estimation.\nFirstly we define the ``backend`` for the fit:\n\n\n"
      ]
    },
    {
      "cell_type": "code",
      "execution_count": null,
      "metadata": {
        "collapsed": false
      },
      "outputs": [],
      "source": [
        "fit = Fit(\n    optimize_opts={\"backend\": \"minuit\"},\n    confidence_opts={\"backend\": \"scipy\"},\n)"
      ]
    },
    {
      "cell_type": "markdown",
      "metadata": {},
      "source": [
        "Define the fully configured flux points estimator:\n\n\n"
      ]
    },
    {
      "cell_type": "code",
      "execution_count": null,
      "metadata": {
        "collapsed": false
      },
      "outputs": [],
      "source": [
        "energy_edges = np.geomspace(0.7, 100, 9) * u.TeV\nnorm = Parameter(name=\"norm\", value=1.0)\n\nfp_estimator = FluxPointsEstimator(\n    source=\"crab\",\n    energy_edges=energy_edges,\n    n_sigma=1,\n    n_sigma_ul=2,\n    selection_optional=\"all\",\n    fit=fit,\n    norm=norm,\n)"
      ]
    },
    {
      "cell_type": "markdown",
      "metadata": {},
      "source": [
        "The ``norm`` parameter can be adjusted in a few different ways. For example, we can change its\nminimum and maximum values that it scans over, as follows.\n\n\n"
      ]
    },
    {
      "cell_type": "code",
      "execution_count": null,
      "metadata": {
        "collapsed": false
      },
      "outputs": [],
      "source": [
        "fp_estimator.norm.scan_min = 0.1\nfp_estimator.norm.scan_max = 10"
      ]
    },
    {
      "cell_type": "markdown",
      "metadata": {},
      "source": [
        "Note: The default scan range of the norm parameter is between 0.2 to 5. In case the upper\nlimit values lie outside this range, nan values will be returned. It may thus be useful to\nincrease this range, specially for the computation of upper limits from weak sources.\n\nThe various quantities utilised in this tutorial are described here:\n\n-  ``source``: which source from the model to compute the flux points for\n-  ``energy_edges``: edges of the flux points energy bins\n-  ``n_sigma``: number of sigma for the flux error\n-  ``n_sigma_ul``: the number of sigma for the flux upper limits\n-  ``selection_optional``: what additional maps to compute\n-  ``fit``: the fit instance (as defined above)\n-  ``reoptimize``: whether to reoptimize the flux points with other model parameters, aside from the ``norm``\n-  ``norm``: normalisation parameter for the fit\n\n**Important note**: the output ``energy_edges`` are taken from the parent dataset energy bins,\nselecting the bins closest to the requested ``energy_edges``. To match the input bins directly,\nspecific binning must be defined based on the parent dataset geometry. This could be done in the following way:\n`energy_edges = datasets[0].geoms[\"geom\"].axes[\"energy\"].downsample(factor=5).edges`\n\n\n"
      ]
    },
    {
      "cell_type": "code",
      "execution_count": null,
      "metadata": {
        "collapsed": false
      },
      "outputs": [],
      "source": [
        "fp_result = fp_estimator.run(datasets=datasets)"
      ]
    },
    {
      "cell_type": "markdown",
      "metadata": {},
      "source": [
        "### Accessing and visualising the results\n\n"
      ]
    },
    {
      "cell_type": "code",
      "execution_count": null,
      "metadata": {
        "collapsed": false
      },
      "outputs": [],
      "source": [
        "print(fp_result)"
      ]
    },
    {
      "cell_type": "markdown",
      "metadata": {},
      "source": [
        "We can specify the SED type to plot:\n\n\n"
      ]
    },
    {
      "cell_type": "code",
      "execution_count": null,
      "metadata": {
        "collapsed": false
      },
      "outputs": [],
      "source": [
        "fp_result.plot(sed_type=\"dnde\")\nplt.show()"
      ]
    },
    {
      "cell_type": "markdown",
      "metadata": {},
      "source": [
        "We can also access\nthe quantities names through ``fp_result.available_quantities``.\nHere we show how you can plot a different plot type and define the axes units,\nwe also overlay the TS profile.\n\n"
      ]
    },
    {
      "cell_type": "code",
      "execution_count": null,
      "metadata": {
        "collapsed": false
      },
      "outputs": [],
      "source": [
        "ax = plt.subplot()\nax.xaxis.set_units(u.eV)\nax.yaxis.set_units(u.Unit(\"TeV cm-2 s-1\"))\nfp_result.plot(ax=ax, sed_type=\"e2dnde\", color=\"tab:orange\")\nfp_result.plot_ts_profiles(sed_type=\"e2dnde\")\nplt.show()"
      ]
    },
    {
      "cell_type": "markdown",
      "metadata": {},
      "source": [
        "The actual data members are N-dimensional `~gammapy.maps.region.ndmap.RegionNDMap` objects. So you can\nalso plot them:\n\n"
      ]
    },
    {
      "cell_type": "code",
      "execution_count": null,
      "metadata": {
        "collapsed": false
      },
      "outputs": [],
      "source": [
        "print(type(fp_result.dnde))"
      ]
    },
    {
      "cell_type": "code",
      "execution_count": null,
      "metadata": {
        "collapsed": false
      },
      "outputs": [],
      "source": [
        "fp_result.dnde.plot()\nplt.show()"
      ]
    },
    {
      "cell_type": "markdown",
      "metadata": {},
      "source": [
        "From the above, we can see that we access to many quantities.\n\n"
      ]
    },
    {
      "cell_type": "markdown",
      "metadata": {},
      "source": [
        "Access the data:\n\n"
      ]
    },
    {
      "cell_type": "code",
      "execution_count": null,
      "metadata": {
        "collapsed": false
      },
      "outputs": [],
      "source": [
        "print(fp_result.e2dnde.quantity.to(\"TeV cm-2 s-1\"))"
      ]
    },
    {
      "cell_type": "code",
      "execution_count": null,
      "metadata": {
        "collapsed": false
      },
      "outputs": [],
      "source": [
        "print(fp_result.dnde.quantity.shape)"
      ]
    },
    {
      "cell_type": "code",
      "execution_count": null,
      "metadata": {
        "collapsed": false
      },
      "outputs": [],
      "source": [
        "print(fp_result.dnde.quantity[:, 0, 0])"
      ]
    },
    {
      "cell_type": "markdown",
      "metadata": {},
      "source": [
        "Or even extract an energy range:\n\n"
      ]
    },
    {
      "cell_type": "code",
      "execution_count": null,
      "metadata": {
        "collapsed": false
      },
      "outputs": [],
      "source": [
        "fp_result.dnde.slice_by_idx({\"energy\": slice(3, 10)})"
      ]
    },
    {
      "cell_type": "markdown",
      "metadata": {},
      "source": [
        "### A note on the internal representation\n\nThe result contains a reference spectral model, which defines the spectral shape.\nTypically, it is the best fit model:\n\n"
      ]
    },
    {
      "cell_type": "code",
      "execution_count": null,
      "metadata": {
        "collapsed": false
      },
      "outputs": [],
      "source": [
        "print(fp_result.reference_model)"
      ]
    },
    {
      "cell_type": "markdown",
      "metadata": {},
      "source": [
        "`~gammapy.estimators.FluxPoints` are the represented by the \"norm\" scaling factor with\nrespect to the reference model:\n\n"
      ]
    },
    {
      "cell_type": "code",
      "execution_count": null,
      "metadata": {
        "collapsed": false
      },
      "outputs": [],
      "source": [
        "fp_result.norm.plot()\nplt.show()"
      ]
    },
    {
      "cell_type": "markdown",
      "metadata": {},
      "source": [
        "### Dataset specific quantities (\"counts like\")\n\nWhile the flux estimate and associated errors are common to all datasets,\nthe result also stores some dataset specific quantities, which can be useful\nfor debugging.\nHere we remind the user of the meaning of the forthcoming quantities:\n\n-  ``counts``: predicted counts from the null hypothesis,\n-  ``npred``: predicted number of counts from best fit hypothesis,\n-  ``npred_excess``: predicted number of excess counts from best fit hypothesis.\n\nThe `~gammapy.maps.region.ndmap.RegionNDMap` allows for plotting of multidimensional data\nas well, by specifying the primary ``axis_name``:\n\n"
      ]
    },
    {
      "cell_type": "code",
      "execution_count": null,
      "metadata": {
        "collapsed": false
      },
      "outputs": [],
      "source": [
        "fp_result.counts.plot(axis_name=\"energy\")\nplt.show()"
      ]
    },
    {
      "cell_type": "code",
      "execution_count": null,
      "metadata": {
        "collapsed": false
      },
      "outputs": [],
      "source": [
        "fp_result.npred.plot(axis_name=\"energy\")\nplt.show()"
      ]
    },
    {
      "cell_type": "code",
      "execution_count": null,
      "metadata": {
        "collapsed": false
      },
      "outputs": [],
      "source": [
        "fp_result.npred_excess.plot(axis_name=\"energy\")\nplt.show()"
      ]
    },
    {
      "cell_type": "markdown",
      "metadata": {},
      "source": [
        "### Table conversion\n\nFlux points can be converted to tables:\n\n\n"
      ]
    },
    {
      "cell_type": "code",
      "execution_count": null,
      "metadata": {
        "collapsed": false
      },
      "outputs": [],
      "source": [
        "table = fp_result.to_table(sed_type=\"flux\", format=\"gadf-sed\")\ndisplay(table)"
      ]
    },
    {
      "cell_type": "code",
      "execution_count": null,
      "metadata": {
        "collapsed": false
      },
      "outputs": [],
      "source": [
        "table = fp_result.to_table(sed_type=\"likelihood\", format=\"gadf-sed\", formatted=True)\ndisplay(table)"
      ]
    },
    {
      "cell_type": "markdown",
      "metadata": {},
      "source": [
        "## Common API\nIn `GAMMAPY_DATA` we have access to other `~gammapy.estimators.FluxPoints` objects\nwhich have been created utilising the above method. Here we read the PKS 2155-304 light curve\nand create a `~gammapy.estimators.FluxMaps` object and show the data structure of such objects.\nWe emphasize that these follow a very similar structure.\n\n\n"
      ]
    },
    {
      "cell_type": "markdown",
      "metadata": {},
      "source": [
        "### Load the light curve for the PKS 2155-304 as a `~gammapy.estimators.FluxPoints` object.\n\n\n"
      ]
    },
    {
      "cell_type": "code",
      "execution_count": null,
      "metadata": {
        "collapsed": false
      },
      "outputs": [],
      "source": [
        "lightcurve = FluxPoints.read(\n    \"$GAMMAPY_DATA/estimators/pks2155_hess_lc/pks2155_hess_lc.fits\", format=\"lightcurve\"\n)\n\ndisplay(lightcurve.available_quantities)"
      ]
    },
    {
      "cell_type": "markdown",
      "metadata": {},
      "source": [
        "### Create a `~gammapy.estimators.FluxMaps` object through one of the estimators.\n\n\n"
      ]
    },
    {
      "cell_type": "code",
      "execution_count": null,
      "metadata": {
        "collapsed": false
      },
      "outputs": [],
      "source": [
        "dataset = MapDataset.read(\"$GAMMAPY_DATA/cta-1dc-gc/cta-1dc-gc.fits.gz\")\nestimator = ExcessMapEstimator(correlation_radius=\"0.1 deg\")\nresult = estimator.run(dataset)\ndisplay(result)"
      ]
    },
    {
      "cell_type": "code",
      "execution_count": null,
      "metadata": {
        "collapsed": false
      },
      "outputs": [],
      "source": [
        "display(result.available_quantities)"
      ]
    }
  ],
  "metadata": {
    "kernelspec": {
      "display_name": "Python 3",
      "language": "python",
      "name": "python3"
    },
    "language_info": {
      "codemirror_mode": {
        "name": "ipython",
        "version": 3
      },
      "file_extension": ".py",
      "mimetype": "text/x-python",
      "name": "python",
      "nbconvert_exporter": "python",
      "pygments_lexer": "ipython3",
      "version": "3.9.20"
    }
  },
  "nbformat": 4,
  "nbformat_minor": 0
}