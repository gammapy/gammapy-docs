{
  "cells": [
    {
      "cell_type": "markdown",
      "metadata": {},
      "source": [
        "\n# H.E.S.S. with Gammapy\n\nExplore H.E.S.S. event lists and IRFs.\n\n\n## Introduction\n\n[H.E.S.S.](https://www.mpi-hd.mpg.de/hfm/HESS/)_ is an array of\ngamma-ray telescopes located in Namibia. Gammapy is regularly used and\nfully supports H.E.S.S. high level data analysis, after export to the\ncurrent [open data level 3\nformat](https://gamma-astro-data-formats.readthedocs.io/)_.\n\nThe H.E.S.S. data is private, and H.E.S.S. analysis is mostly documented\nand discussed in the internal Wiki pages and in\nH.E.S.S.-internal communication channels. However, in 2018, a small\nsub-set of archival H.E.S.S. data was publicly released, called the\n[H.E.S.S. DL3\nDR1](https://www.mpi-hd.mpg.de/hfm/HESS/pages/dl3-dr1/)_, the data\nlevel 3, data release number 1. This dataset is 50 MB in size and is\nused in many Gammapy analysis tutorials, and can be downloaded via\n[gammapy\ndownload](https://docs.gammapy.org/dev/getting-started/index.html#quickstart-setup)_.\n\nThis notebook is a quick introduction to this specific DR1 release. It\nbriefly describes H.E.S.S. data and instrument responses and show a\nsimple exploration of the data with the creation of theta-squared plot.\n\nH.E.S.S. members can find details on the DL3 FITS production on this\n[Confluence\npage](https://cchesswiki.in2p3.fr/en/hess/working_groups/analysis_and_reconstruction_working_group/ar_active_tasks/hess_fits_data)_\nand access more detailed tutorials in the BitBucket `hess-open-tools` repository.\n\n## DL3 DR1\n\nThis is how to access data and IRFs from the H.E.S.S. data level 3, data\nrelease 1.\n"
      ]
    },
    {
      "cell_type": "code",
      "execution_count": null,
      "metadata": {
        "collapsed": false
      },
      "outputs": [],
      "source": [
        "import astropy.units as u\nfrom astropy.coordinates import SkyCoord\n\n# %matplotlib inline\nimport matplotlib.pyplot as plt\nfrom IPython.display import display\nfrom gammapy.data import DataStore\nfrom gammapy.makers.utils import make_theta_squared_table\nfrom gammapy.maps import MapAxis"
      ]
    },
    {
      "cell_type": "markdown",
      "metadata": {},
      "source": [
        "## Check setup\n\n"
      ]
    },
    {
      "cell_type": "code",
      "execution_count": null,
      "metadata": {
        "collapsed": false
      },
      "outputs": [],
      "source": [
        "from gammapy.utils.check import check_tutorials_setup\nfrom gammapy.visualization import plot_theta_squared_table\n\ncheck_tutorials_setup()"
      ]
    },
    {
      "cell_type": "markdown",
      "metadata": {},
      "source": [
        "A useful way to organize the relevant files are the index tables. The\nobservation index table contains information on each particular run,\nsuch as the pointing, or the run ID. The HDU index table has a row per\nrelevant file (i.e., events, effective area, psf\u2026) and contains the path\nto said file. Together they can be loaded into a Datastore by indicating\nthe directory in which they can be found, in this case\n`$GAMMAPY_DATA/hess-dl3-dr1`:\n\n\n"
      ]
    },
    {
      "cell_type": "markdown",
      "metadata": {},
      "source": [
        "Create and get info on the data store\n\n"
      ]
    },
    {
      "cell_type": "code",
      "execution_count": null,
      "metadata": {
        "collapsed": false
      },
      "outputs": [],
      "source": [
        "data_store = DataStore.from_dir(\"$GAMMAPY_DATA/hess-dl3-dr1\")\n\ndata_store.info()"
      ]
    },
    {
      "cell_type": "markdown",
      "metadata": {},
      "source": [
        "Preview an excerpt from the observation table\n\n"
      ]
    },
    {
      "cell_type": "code",
      "execution_count": null,
      "metadata": {
        "collapsed": false
      },
      "outputs": [],
      "source": [
        "display(data_store.obs_table[:2][[\"OBS_ID\", \"DATE-OBS\", \"RA_PNT\", \"DEC_PNT\", \"OBJECT\"]])"
      ]
    },
    {
      "cell_type": "markdown",
      "metadata": {},
      "source": [
        "Get a single observation\n\n"
      ]
    },
    {
      "cell_type": "code",
      "execution_count": null,
      "metadata": {
        "collapsed": false
      },
      "outputs": [],
      "source": [
        "obs = data_store.obs(23523)"
      ]
    },
    {
      "cell_type": "markdown",
      "metadata": {},
      "source": [
        "Select and peek events\n\n"
      ]
    },
    {
      "cell_type": "code",
      "execution_count": null,
      "metadata": {
        "collapsed": false
      },
      "outputs": [],
      "source": [
        "obs.events.select_offset([0, 2.5] * u.deg).peek()"
      ]
    },
    {
      "cell_type": "markdown",
      "metadata": {},
      "source": [
        "Peek the effective area\n\n"
      ]
    },
    {
      "cell_type": "code",
      "execution_count": null,
      "metadata": {
        "collapsed": false
      },
      "outputs": [],
      "source": [
        "obs.aeff.peek()"
      ]
    },
    {
      "cell_type": "markdown",
      "metadata": {},
      "source": [
        "Peek the energy dispersion\n\n"
      ]
    },
    {
      "cell_type": "code",
      "execution_count": null,
      "metadata": {
        "collapsed": false
      },
      "outputs": [],
      "source": [
        "obs.edisp.peek()"
      ]
    },
    {
      "cell_type": "markdown",
      "metadata": {},
      "source": [
        "Peek the psf\n\n"
      ]
    },
    {
      "cell_type": "code",
      "execution_count": null,
      "metadata": {
        "collapsed": false
      },
      "outputs": [],
      "source": [
        "obs.psf.peek()"
      ]
    },
    {
      "cell_type": "markdown",
      "metadata": {},
      "source": [
        "Peek the background rate\n\n"
      ]
    },
    {
      "cell_type": "code",
      "execution_count": null,
      "metadata": {
        "collapsed": false
      },
      "outputs": [],
      "source": [
        "obs.bkg.to_2d().plot()\nplt.show()"
      ]
    },
    {
      "cell_type": "markdown",
      "metadata": {},
      "source": [
        "## Theta squared event distribution\n\nAs a quick look plot it can be helpful to plot the quadratic offset\n(theta squared) distribution of the events.\n\n\n"
      ]
    },
    {
      "cell_type": "code",
      "execution_count": null,
      "metadata": {
        "collapsed": false
      },
      "outputs": [],
      "source": [
        "position = SkyCoord(ra=83.63, dec=22.01, unit=\"deg\", frame=\"icrs\")\ntheta2_axis = MapAxis.from_bounds(0, 0.2, nbin=20, interp=\"lin\", unit=\"deg2\")\n\nobservations = data_store.get_observations([23523, 23526])\ntheta2_table = make_theta_squared_table(\n    observations=observations,\n    position=position,\n    theta_squared_axis=theta2_axis,\n)\n\nplt.figure(figsize=(10, 5))\nplot_theta_squared_table(theta2_table)\nplt.show()"
      ]
    },
    {
      "cell_type": "markdown",
      "metadata": {},
      "source": [
        "## Exercises\n\n-  Find the `OBS_ID` for the runs of the Crab nebula\n-  Compute the expected number of background events in the whole RoI for\n   `OBS_ID=23523` in the 1 TeV to 3 TeV energy band, from the\n   background IRF.\n\n\n"
      ]
    },
    {
      "cell_type": "markdown",
      "metadata": {},
      "source": [
        "## Next steps\n\nNow you know how to access and work with H.E.S.S. data. All other\ntutorials and documentation apply to H.E.S.S. and CTAO or any other IACT\nthat provides DL3 data and IRFs in the standard format.\n\n\n"
      ]
    }
  ],
  "metadata": {
    "kernelspec": {
      "display_name": "Python 3",
      "language": "python",
      "name": "python3"
    },
    "language_info": {
      "codemirror_mode": {
        "name": "ipython",
        "version": 3
      },
      "file_extension": ".py",
      "mimetype": "text/x-python",
      "name": "python",
      "nbconvert_exporter": "python",
      "pygments_lexer": "ipython3",
      "version": "3.9.20"
    }
  },
  "nbformat": 4,
  "nbformat_minor": 0
}