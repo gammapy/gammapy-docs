{
  "cells": [
    {
      "cell_type": "code",
      "execution_count": null,
      "metadata": {
        "collapsed": false
      },
      "outputs": [],
      "source": [
        "%matplotlib inline"
      ]
    },
    {
      "cell_type": "markdown",
      "metadata": {},
      "source": [
        "\n# Models\nThis is an introduction and overview on how to work with models in\nGammapy.\n\nThe sub-package `~gammapy.modeling` contains all the functionality\nrelated to modeling and fitting data. This includes spectral, spatial\nand temporal model classes, as well as the fit and parameter API.The\nmodels follow a naming scheme which contains the category as a suffix to\nthe class name. An overview of all the available models can be found in\nthe [model gallery](../../user-guide/model-gallery/index.rst)_.\n\nNote that there are separate tutorials,\n:doc:`/tutorials/api/model_management` and\n:doc:`/tutorials/api/fitting` that explains about\n`~gammapy.modeling`, the Gammapy modeling and fitting framework. You\nhave to read that to learn how to work with models in order to analyse\ndata.\n"
      ]
    },
    {
      "cell_type": "markdown",
      "metadata": {},
      "source": [
        "## Setup\n\n\n"
      ]
    },
    {
      "cell_type": "code",
      "execution_count": null,
      "metadata": {
        "collapsed": false
      },
      "outputs": [],
      "source": [
        "# %matplotlib inline\nimport numpy as np\nfrom astropy import units as u\nimport matplotlib.pyplot as plt\nfrom IPython.display import display\nfrom gammapy.maps import Map, MapAxis, WcsGeom"
      ]
    },
    {
      "cell_type": "markdown",
      "metadata": {},
      "source": [
        "## Check setup\n\n"
      ]
    },
    {
      "cell_type": "code",
      "execution_count": null,
      "metadata": {
        "collapsed": false
      },
      "outputs": [],
      "source": [
        "from gammapy.utils.check import check_tutorials_setup\n\ncheck_tutorials_setup()"
      ]
    },
    {
      "cell_type": "markdown",
      "metadata": {},
      "source": [
        "## Spectral models\n\nAll models are imported from the `~gammapy.modeling.models` namespace.\nLet\u2019s start with a `PowerLawSpectralModel`:\n\n\n"
      ]
    },
    {
      "cell_type": "code",
      "execution_count": null,
      "metadata": {
        "collapsed": false
      },
      "outputs": [],
      "source": [
        "from gammapy.modeling.models import PowerLawSpectralModel\n\npwl = PowerLawSpectralModel()\nprint(pwl)"
      ]
    },
    {
      "cell_type": "markdown",
      "metadata": {},
      "source": [
        "To get a list of all available spectral models you can import and print\nthe spectral model registry or take a look at the `spectral-models-gallery`\n\n\n"
      ]
    },
    {
      "cell_type": "code",
      "execution_count": null,
      "metadata": {
        "collapsed": false
      },
      "outputs": [],
      "source": [
        "from gammapy.modeling.models import SPECTRAL_MODEL_REGISTRY\n\nprint(SPECTRAL_MODEL_REGISTRY)"
      ]
    },
    {
      "cell_type": "markdown",
      "metadata": {},
      "source": [
        "Spectral models all come with default parameters. Different parameter\nvalues can be passed on creation of the model, either as a string\ndefining the value and unit or as an `astropy.units.Quantity` object\ndirectly:\n\n\n"
      ]
    },
    {
      "cell_type": "code",
      "execution_count": null,
      "metadata": {
        "collapsed": false
      },
      "outputs": [],
      "source": [
        "amplitude = 1e-12 * u.Unit(\"TeV-1 cm-2 s-1\")\npwl = PowerLawSpectralModel(amplitude=amplitude, index=2.2)"
      ]
    },
    {
      "cell_type": "markdown",
      "metadata": {},
      "source": [
        "For convenience a `str` specifying the value and unit can be passed as\nwell:\n\n\n"
      ]
    },
    {
      "cell_type": "code",
      "execution_count": null,
      "metadata": {
        "collapsed": false
      },
      "outputs": [],
      "source": [
        "pwl = PowerLawSpectralModel(amplitude=\"2.7e-12 TeV-1 cm-2 s-1\", index=2.2)\nprint(pwl)"
      ]
    },
    {
      "cell_type": "markdown",
      "metadata": {},
      "source": [
        "The model can be evaluated at given energies by calling the model\ninstance:\n\n\n"
      ]
    },
    {
      "cell_type": "code",
      "execution_count": null,
      "metadata": {
        "collapsed": false
      },
      "outputs": [],
      "source": [
        "energy = [1, 3, 10, 30] * u.TeV\ndnde = pwl(energy)\nprint(dnde)"
      ]
    },
    {
      "cell_type": "markdown",
      "metadata": {},
      "source": [
        "The returned quantity is a differential photon flux.\n\nFor spectral models you can additionally compute the integrated and\nenergy flux in a given energy range:\n\n\n"
      ]
    },
    {
      "cell_type": "code",
      "execution_count": null,
      "metadata": {
        "collapsed": false
      },
      "outputs": [],
      "source": [
        "flux = pwl.integral(energy_min=1 * u.TeV, energy_max=10 * u.TeV)\nprint(flux)\n\neflux = pwl.energy_flux(energy_min=1 * u.TeV, energy_max=10 * u.TeV)\nprint(eflux)"
      ]
    },
    {
      "cell_type": "markdown",
      "metadata": {},
      "source": [
        "This also works for a list or an array of integration boundaries:\n\n\n"
      ]
    },
    {
      "cell_type": "code",
      "execution_count": null,
      "metadata": {
        "collapsed": false
      },
      "outputs": [],
      "source": [
        "energy = [1, 3, 10, 30] * u.TeV\nflux = pwl.integral(energy_min=energy[:-1], energy_max=energy[1:])\nprint(flux)"
      ]
    },
    {
      "cell_type": "markdown",
      "metadata": {},
      "source": [
        "In some cases it can be useful to find use the inverse of a spectral\nmodel, to find the energy at which a given flux is reached:\n\n\n"
      ]
    },
    {
      "cell_type": "code",
      "execution_count": null,
      "metadata": {
        "collapsed": false
      },
      "outputs": [],
      "source": [
        "dnde = 2.7e-12 * u.Unit(\"TeV-1 cm-2 s-1\")\nenergy = pwl.inverse(dnde)\nprint(energy)"
      ]
    },
    {
      "cell_type": "markdown",
      "metadata": {},
      "source": [
        "As a convenience you can also plot any spectral model in a given energy\nrange:\n\n\n"
      ]
    },
    {
      "cell_type": "code",
      "execution_count": null,
      "metadata": {
        "collapsed": false
      },
      "outputs": [],
      "source": [
        "plt.figure()\npwl.plot(energy_bounds=[1, 100] * u.TeV)"
      ]
    },
    {
      "cell_type": "markdown",
      "metadata": {},
      "source": [
        "### Norm Spectral Models\n\n\n"
      ]
    },
    {
      "cell_type": "markdown",
      "metadata": {},
      "source": [
        "Normed spectral models are a special class of Spectral Models, which\nhave a dimension-less normalisation. These spectral models feature a\nnorm parameter instead of amplitude and are named using the\n`NormSpectralModel` suffix. They **must** be used along with another\nspectral model, as a multiplicative correction factor according to their\nspectral shape. They can be typically used for adjusting template based\nmodels, or adding a EBL correction to some analytic model.\n\nTo check if a given `SpectralModel` is a norm model, you can simply\nlook at the `is_norm_spectral_model` property\n\n\n"
      ]
    },
    {
      "cell_type": "code",
      "execution_count": null,
      "metadata": {
        "collapsed": false
      },
      "outputs": [],
      "source": [
        "# To see the available norm models shipped with gammapy:\nfor model in SPECTRAL_MODEL_REGISTRY:\n    if model.is_norm_spectral_model:\n        print(model)"
      ]
    },
    {
      "cell_type": "markdown",
      "metadata": {},
      "source": [
        "As an example, we see the `PowerLawNormSpectralModel`\n\n\n"
      ]
    },
    {
      "cell_type": "code",
      "execution_count": null,
      "metadata": {
        "collapsed": false
      },
      "outputs": [],
      "source": [
        "from gammapy.modeling.models import PowerLawNormSpectralModel\n\npwl_norm = PowerLawNormSpectralModel(tilt=0.1)\nprint(pwl_norm)"
      ]
    },
    {
      "cell_type": "markdown",
      "metadata": {},
      "source": [
        "We can check the correction introduced at each energy\n\n\n"
      ]
    },
    {
      "cell_type": "code",
      "execution_count": null,
      "metadata": {
        "collapsed": false
      },
      "outputs": [],
      "source": [
        "energy = [0.3, 1, 3, 10, 30] * u.TeV\nprint(pwl_norm(energy))"
      ]
    },
    {
      "cell_type": "markdown",
      "metadata": {},
      "source": [
        "A typical use case of a norm model would be in applying spectral\ncorrection to a `TemplateSpectralModel`. A template model is defined\nby custom tabular values provided at initialization.\n\n\n"
      ]
    },
    {
      "cell_type": "code",
      "execution_count": null,
      "metadata": {
        "collapsed": false
      },
      "outputs": [],
      "source": [
        "from gammapy.modeling.models import TemplateSpectralModel\n\nplt.figure()\nenergy = [0.3, 1, 3, 10, 30] * u.TeV\nvalues = [40, 30, 20, 10, 1] * u.Unit(\"TeV-1 s-1 cm-2\")\ntemplate = TemplateSpectralModel(energy, values)\ntemplate.plot(energy_bounds=[0.2, 50] * u.TeV, label=\"template model\")\nnormed_template = template * pwl_norm\nnormed_template.plot(energy_bounds=[0.2, 50] * u.TeV, label=\"normed_template model\")\nplt.legend()"
      ]
    },
    {
      "cell_type": "markdown",
      "metadata": {},
      "source": [
        "### Compound Spectral Model\n\nA `CompoundSpectralModel` is an arithmetic combination of two spectral\nmodels. The model `normed_template` created in the preceding example\nis an example of a `CompoundSpectralModel`\n\n\n"
      ]
    },
    {
      "cell_type": "code",
      "execution_count": null,
      "metadata": {
        "collapsed": false
      },
      "outputs": [],
      "source": [
        "print(normed_template)"
      ]
    },
    {
      "cell_type": "markdown",
      "metadata": {},
      "source": [
        "To create an additive model, you can do simply:\n\n\n"
      ]
    },
    {
      "cell_type": "code",
      "execution_count": null,
      "metadata": {
        "collapsed": false
      },
      "outputs": [],
      "source": [
        "model_add = pwl + template\nprint(model_add)"
      ]
    },
    {
      "cell_type": "markdown",
      "metadata": {},
      "source": [
        "## Spatial models\n\n\n"
      ]
    },
    {
      "cell_type": "markdown",
      "metadata": {},
      "source": [
        "Spatial models are imported from the same `~gammapy.modeling.models`\nnamespace, let\u2019s start with a `GaussianSpatialModel`:\n\n\n"
      ]
    },
    {
      "cell_type": "code",
      "execution_count": null,
      "metadata": {
        "collapsed": false
      },
      "outputs": [],
      "source": [
        "from gammapy.modeling.models import GaussianSpatialModel\n\ngauss = GaussianSpatialModel(lon_0=\"0 deg\", lat_0=\"0 deg\", sigma=\"0.2 deg\")\nprint(gauss)"
      ]
    },
    {
      "cell_type": "markdown",
      "metadata": {},
      "source": [
        "Again you can check the `SPATIAL_MODELS` registry to see which models\nare available or take a look at the `spatial-models-gallery`\n\n\n"
      ]
    },
    {
      "cell_type": "code",
      "execution_count": null,
      "metadata": {
        "collapsed": false
      },
      "outputs": [],
      "source": [
        "from gammapy.modeling.models import SPATIAL_MODEL_REGISTRY\n\nprint(SPATIAL_MODEL_REGISTRY)"
      ]
    },
    {
      "cell_type": "markdown",
      "metadata": {},
      "source": [
        "The default coordinate frame for all spatial models is `\"icrs\"`, but\nthe frame can be modified using the `frame` argument:\n\n\n"
      ]
    },
    {
      "cell_type": "code",
      "execution_count": null,
      "metadata": {
        "collapsed": false
      },
      "outputs": [],
      "source": [
        "gauss = GaussianSpatialModel(\n    lon_0=\"0 deg\", lat_0=\"0 deg\", sigma=\"0.2 deg\", frame=\"galactic\"\n)"
      ]
    },
    {
      "cell_type": "markdown",
      "metadata": {},
      "source": [
        "You can specify any valid `astropy.coordinates` frame. The center\nposition of the model can be retrieved as a\n`astropy.coordinates.SkyCoord` object using `SpatialModel.position`:\n\n\n"
      ]
    },
    {
      "cell_type": "code",
      "execution_count": null,
      "metadata": {
        "collapsed": false
      },
      "outputs": [],
      "source": [
        "print(gauss.position)"
      ]
    },
    {
      "cell_type": "markdown",
      "metadata": {},
      "source": [
        "Spatial models can be evaluated again by calling the instance:\n\n\n"
      ]
    },
    {
      "cell_type": "code",
      "execution_count": null,
      "metadata": {
        "collapsed": false
      },
      "outputs": [],
      "source": [
        "lon = [0, 0.1] * u.deg\nlat = [0, 0.1] * u.deg\n\nflux_per_omega = gauss(lon, lat)\nprint(flux_per_omega)"
      ]
    },
    {
      "cell_type": "markdown",
      "metadata": {},
      "source": [
        "The returned quantity corresponds to a surface brightness. Spatial model\ncan be also evaluated using `~gammapy.maps.Map` and\n`~gammapy.maps.Geom` objects:\n\n\n"
      ]
    },
    {
      "cell_type": "code",
      "execution_count": null,
      "metadata": {
        "collapsed": false
      },
      "outputs": [],
      "source": [
        "m = Map.create(skydir=(0, 0), width=(1, 1), binsz=0.02, frame=\"galactic\")\nm.quantity = gauss.evaluate_geom(m.geom)\nplt.figure()\nm.plot(add_cbar=True)"
      ]
    },
    {
      "cell_type": "markdown",
      "metadata": {},
      "source": [
        "Again for convenience the model can be plotted directly:\n\n\n"
      ]
    },
    {
      "cell_type": "code",
      "execution_count": null,
      "metadata": {
        "collapsed": false
      },
      "outputs": [],
      "source": [
        "plt.figure()\ngauss.plot(add_cbar=True)"
      ]
    },
    {
      "cell_type": "markdown",
      "metadata": {},
      "source": [
        "All spatial models have an associated sky region to it e.g.\u00a0to\nillustrate the extend of the model on a sky image. The returned object\nis an `~regions.SkyRegion` object:\n\n\n"
      ]
    },
    {
      "cell_type": "code",
      "execution_count": null,
      "metadata": {
        "collapsed": false
      },
      "outputs": [],
      "source": [
        "print(gauss.to_region())"
      ]
    },
    {
      "cell_type": "markdown",
      "metadata": {},
      "source": [
        "Now we can plot the region on an sky image:\n\n\n"
      ]
    },
    {
      "cell_type": "code",
      "execution_count": null,
      "metadata": {
        "collapsed": false
      },
      "outputs": [],
      "source": [
        "# create and plot the model\nplt.figure()\ngauss_elongated = GaussianSpatialModel(\n    lon_0=\"0 deg\", lat_0=\"0 deg\", sigma=\"0.2 deg\", e=0.7, phi=\"45 deg\"\n)\nax = gauss_elongated.plot(add_cbar=True)\n\n# add region illustration\nregion = gauss_elongated.to_region()\nregion_pix = region.to_pixel(ax.wcs)\nax.add_artist(region_pix.as_artist(ec=\"w\", fc=\"None\"))"
      ]
    },
    {
      "cell_type": "markdown",
      "metadata": {},
      "source": [
        "The `~gammapy.modeling.models.SpatialModel.to_region()` method can also be useful to write e.g.\u00a0ds9 region\nfiles using `write_ds9` from the `regions` package:\n\n\n"
      ]
    },
    {
      "cell_type": "code",
      "execution_count": null,
      "metadata": {
        "collapsed": false
      },
      "outputs": [],
      "source": [
        "from regions import Regions\n\nregions = Regions([gauss.to_region(), gauss_elongated.to_region()])\n\nfilename = \"regions.reg\"\nregions.write(\n    filename,\n    format=\"ds9\",\n    overwrite=True,\n)\n\n# !cat regions.reg"
      ]
    },
    {
      "cell_type": "markdown",
      "metadata": {},
      "source": [
        "## Temporal models\n\n\n"
      ]
    },
    {
      "cell_type": "markdown",
      "metadata": {},
      "source": [
        "Temporal models are imported from the same `~gammapy.modeling.models`\nnamespace, let\u2019s start with a `GaussianTemporalModel`:\n\n\n"
      ]
    },
    {
      "cell_type": "code",
      "execution_count": null,
      "metadata": {
        "collapsed": false
      },
      "outputs": [],
      "source": [
        "from gammapy.modeling.models import GaussianTemporalModel\n\ngauss_temp = GaussianTemporalModel(t_ref=59240.0 * u.d, sigma=2.0 * u.d)\nprint(gauss_temp)"
      ]
    },
    {
      "cell_type": "markdown",
      "metadata": {},
      "source": [
        "To check the `TEMPORAL_MODELS` registry to see which models are\navailable:\n\n\n"
      ]
    },
    {
      "cell_type": "code",
      "execution_count": null,
      "metadata": {
        "collapsed": false
      },
      "outputs": [],
      "source": [
        "from gammapy.modeling.models import TEMPORAL_MODEL_REGISTRY\n\nprint(TEMPORAL_MODEL_REGISTRY)"
      ]
    },
    {
      "cell_type": "markdown",
      "metadata": {},
      "source": [
        "Temporal models can be evaluated on `astropy.time.Time` objects. The\nreturned quantity is a dimensionless number\n\n\n"
      ]
    },
    {
      "cell_type": "code",
      "execution_count": null,
      "metadata": {
        "collapsed": false
      },
      "outputs": [],
      "source": [
        "from astropy.time import Time\n\ntime = Time(\"2021-01-29 00:00:00.000\")\ngauss_temp(time)"
      ]
    },
    {
      "cell_type": "markdown",
      "metadata": {},
      "source": [
        "As for other models, they can be plotted in a given time range\n\n\n"
      ]
    },
    {
      "cell_type": "code",
      "execution_count": null,
      "metadata": {
        "collapsed": false
      },
      "outputs": [],
      "source": [
        "time = Time([59233.0, 59250], format=\"mjd\")\ngauss_temp.plot(time)"
      ]
    },
    {
      "cell_type": "markdown",
      "metadata": {},
      "source": [
        "## SkyModel\n\n\n"
      ]
    },
    {
      "cell_type": "markdown",
      "metadata": {},
      "source": [
        "The `~gammapy.modeling.models.SkyModel` class combines a spectral, and\noptionally, a spatial model and a temporal. It can be created from\nexisting spectral, spatial and temporal model components:\n\n\n"
      ]
    },
    {
      "cell_type": "code",
      "execution_count": null,
      "metadata": {
        "collapsed": false
      },
      "outputs": [],
      "source": [
        "from gammapy.modeling.models import SkyModel\n\nmodel = SkyModel(\n    spectral_model=pwl,\n    spatial_model=gauss,\n    temporal_model=gauss_temp,\n    name=\"my-source\",\n)\nprint(model)"
      ]
    },
    {
      "cell_type": "markdown",
      "metadata": {},
      "source": [
        "It is good practice to specify a name for your sky model, so that you\ncan access it later by name and have meaningful identifier you\nserialisation. If you don\u2019t define a name, a unique random name is\ngenerated:\n\n\n"
      ]
    },
    {
      "cell_type": "code",
      "execution_count": null,
      "metadata": {
        "collapsed": false
      },
      "outputs": [],
      "source": [
        "model_without_name = SkyModel(spectral_model=pwl, spatial_model=gauss)\nprint(model_without_name.name)"
      ]
    },
    {
      "cell_type": "markdown",
      "metadata": {},
      "source": [
        "The individual components of the source model can be accessed using\n``.spectral_model``, ``.spatial_model`` and ``.temporal_model``:\n\n\n"
      ]
    },
    {
      "cell_type": "code",
      "execution_count": null,
      "metadata": {
        "collapsed": false
      },
      "outputs": [],
      "source": [
        "print(model.spectral_model)"
      ]
    },
    {
      "cell_type": "code",
      "execution_count": null,
      "metadata": {
        "collapsed": false
      },
      "outputs": [],
      "source": [
        "print(model.spatial_model)"
      ]
    },
    {
      "cell_type": "code",
      "execution_count": null,
      "metadata": {
        "collapsed": false
      },
      "outputs": [],
      "source": [
        "print(model.temporal_model)"
      ]
    },
    {
      "cell_type": "markdown",
      "metadata": {},
      "source": [
        "And can be used as you have seen already seen above:\n\n\n"
      ]
    },
    {
      "cell_type": "code",
      "execution_count": null,
      "metadata": {
        "collapsed": false
      },
      "outputs": [],
      "source": [
        "plt.figure()\nmodel.spectral_model.plot(energy_bounds=[1, 10] * u.TeV)"
      ]
    },
    {
      "cell_type": "markdown",
      "metadata": {},
      "source": [
        "Note that the gammapy fitting can interface only with a `~gammapy.modeling.models.SkyModel` and\n**not** its individual components. So, it is customary to work with\n`~gammapy.modeling.models.SkyModel` even if you are not doing a 3D fit. Since the amplitude\nparameter resides on the `~gammapy.modeling.models.SpectralModel`, specifying a spectral\ncomponent is compulsory. The temporal and spatial components are\noptional. The temporal model needs to be specified only for timing\nanalysis. In some cases (e.g.\u00a0when doing a spectral analysis) there is\nno need for a spatial component either, and only a spectral model is\nassociated with the source.\n\n\n"
      ]
    },
    {
      "cell_type": "code",
      "execution_count": null,
      "metadata": {
        "collapsed": false
      },
      "outputs": [],
      "source": [
        "model_spectrum = SkyModel(spectral_model=pwl, name=\"source-spectrum\")\nprint(model_spectrum)"
      ]
    },
    {
      "cell_type": "markdown",
      "metadata": {},
      "source": [
        "Additionally the spatial model of `~gammapy.modeling.models.SkyModel`\ncan be used to represent source models based on templates, where the\nspatial and energy axes are correlated. It can be created e.g.\u00a0from an\nexisting FITS file:\n\n\n"
      ]
    },
    {
      "cell_type": "code",
      "execution_count": null,
      "metadata": {
        "collapsed": false
      },
      "outputs": [],
      "source": [
        "from gammapy.modeling.models import PowerLawNormSpectralModel, TemplateSpatialModel\n\ndiffuse_cube = TemplateSpatialModel.read(\n    \"$GAMMAPY_DATA/fermi-3fhl-gc/gll_iem_v06_gc.fits.gz\", normalize=False\n)\ndiffuse = SkyModel(PowerLawNormSpectralModel(), diffuse_cube)\nprint(diffuse)"
      ]
    },
    {
      "cell_type": "markdown",
      "metadata": {},
      "source": [
        "Note that if the spatial model is not normalized over the sky it has to\nbe combined with a normalized spectral model, for example\n`~gammapy.modeling.models.PowerLawNormSpectralModel`. This is the only\ncase in `gammapy.models.SkyModel` where the unit is fully attached to\nthe spatial model.\n\n\n"
      ]
    },
    {
      "cell_type": "markdown",
      "metadata": {},
      "source": [
        "## Modifying model parameters\n\nModel parameters can be modified (eg: frozen, values changed, etc at any\npoint), eg:\n\n\n"
      ]
    },
    {
      "cell_type": "code",
      "execution_count": null,
      "metadata": {
        "collapsed": false
      },
      "outputs": [],
      "source": [
        "# Freezing a parameter\nmodel.spectral_model.index.frozen = True\n# Making a parameter free\nmodel.spectral_model.index.frozen = False\n\n# Changing a value\nmodel.spectral_model.index.value = 3\n\n# Setting min and max ranges on parameters\nmodel.spectral_model.index.min = 1.0\nmodel.spectral_model.index.max = 5.0\n\n# Visualise the model as a table\ndisplay(model.parameters.to_table())"
      ]
    },
    {
      "cell_type": "markdown",
      "metadata": {},
      "source": [
        "You can use the interactive boxes to choose model parameters by name,\ntype or other attrributes mentioned in the column names.\n\n\n"
      ]
    },
    {
      "cell_type": "markdown",
      "metadata": {},
      "source": [
        "## Model lists and serialisation\n\nIn a typical analysis scenario a model consists of multiple model\ncomponents, or a \u201ccatalog\u201d or \u201csource library\u201d. To handle this list of\nmultiple model components, Gammapy has a `Models` class:\n\n\n"
      ]
    },
    {
      "cell_type": "code",
      "execution_count": null,
      "metadata": {
        "collapsed": false
      },
      "outputs": [],
      "source": [
        "from gammapy.modeling.models import Models\n\nmodels = Models([model, diffuse])\nprint(models)"
      ]
    },
    {
      "cell_type": "markdown",
      "metadata": {},
      "source": [
        "Individual model components in the list can be accessed by their name:\n\n\n"
      ]
    },
    {
      "cell_type": "code",
      "execution_count": null,
      "metadata": {
        "collapsed": false
      },
      "outputs": [],
      "source": [
        "print(models[\"my-source\"])"
      ]
    },
    {
      "cell_type": "markdown",
      "metadata": {},
      "source": [
        "**Note:**\u00a0To make the access by name unambiguous, models are required to\nhave a unique name, otherwise an error will be thrown.\n\nTo see which models are available you can use the ``.names`` attribute:\n\n\n"
      ]
    },
    {
      "cell_type": "code",
      "execution_count": null,
      "metadata": {
        "collapsed": false
      },
      "outputs": [],
      "source": [
        "print(models.names)"
      ]
    },
    {
      "cell_type": "markdown",
      "metadata": {},
      "source": [
        "Note that a `SkyModel` object can be evaluated for a given longitude,\nlatitude, and energy, but the `Models` object cannot. This `Models`\ncontainer object will be assigned to `Dataset` or `Datasets`\ntogether with the data to be fitted. Checkout e.g. the\n:doc:`/tutorials/api/model_management` tutorial for details.\n\nThe `~gammapy.modeling.models.Models` class also has in place ``.append()`` and ``.extend()``\nmethods:\n\n\n"
      ]
    },
    {
      "cell_type": "code",
      "execution_count": null,
      "metadata": {
        "collapsed": false
      },
      "outputs": [],
      "source": [
        "model_copy = model.copy(name=\"my-source-copy\")\nmodels.append(model_copy)"
      ]
    },
    {
      "cell_type": "markdown",
      "metadata": {},
      "source": [
        "This list of models can be also serialised to a custom YAML based\nformat:\n\n\n"
      ]
    },
    {
      "cell_type": "code",
      "execution_count": null,
      "metadata": {
        "collapsed": false
      },
      "outputs": [],
      "source": [
        "models_yaml = models.to_yaml()\nprint(models_yaml)"
      ]
    },
    {
      "cell_type": "markdown",
      "metadata": {},
      "source": [
        "The structure of the yaml files follows the structure of the python\nobjects. The ``components`` listed correspond to the `SkyModel` and\ncomponents of the ``Models``. For each ``SkyModel``\nwe have information about its ``name``, ``type`` (corresponding to the\ntag attribute) and sub-mobels (i.e ``spectral`` model and eventually\n``spatial`` model). Then the spatial and spectral models are defined by\ntheir type and parameters. The ``parameters`` keys name/value/unit are\nmandatory, while the keys min/max/frozen are optionnals (so you can\nprepare shorter files).\n\nIf you want to write this list of models to disk and read it back later\nyou can use:\n\n\n"
      ]
    },
    {
      "cell_type": "code",
      "execution_count": null,
      "metadata": {
        "collapsed": false
      },
      "outputs": [],
      "source": [
        "models.write(\"models.yaml\", overwrite=True)\n\nmodels_read = Models.read(\"models.yaml\")"
      ]
    },
    {
      "cell_type": "markdown",
      "metadata": {},
      "source": [
        "Additionally the models can exported and imported togeter with the data\nusing the ``Datasets.read()`` and ``Datasets.write()`` methods as shown\nin the :doc:`/tutorials/analysis-3d/analysis_mwl`\nnotebook.\n\n## Models with shared parameter\n\nA model parameter can be shared with other models, for example we can\ndefine two power-law models with the same spectral index but different\namplitudes:\n\n\n"
      ]
    },
    {
      "cell_type": "code",
      "execution_count": null,
      "metadata": {
        "collapsed": false
      },
      "outputs": [],
      "source": [
        "pwl2 = PowerLawSpectralModel()\npwl2.index = pwl.index\npwl.index.value = (\n    2.3  # also update pwl2 as the parameter object is now the same as shown below\n)\nprint(pwl.index)\nprint(pwl2.index)"
      ]
    },
    {
      "cell_type": "markdown",
      "metadata": {},
      "source": [
        "In the YAML files the shared parameter is flagged by the additional\n``link`` entry that follows the convention ``parameter.name@unique_id``:\n\n\n"
      ]
    },
    {
      "cell_type": "code",
      "execution_count": null,
      "metadata": {
        "collapsed": false
      },
      "outputs": [],
      "source": [
        "models = Models([SkyModel(pwl, name=\"source1\"), SkyModel(pwl2, name=\"source2\")])\nmodels_yaml = models.to_yaml()\nprint(models_yaml)"
      ]
    },
    {
      "cell_type": "markdown",
      "metadata": {},
      "source": [
        "\n## Implementing a custom model\n\nIn order to add a user defined spectral model you have to create a\nSpectralModel subclass. This new model class should include:\n\n-  a tag used for serialization (it can be the same as the class name)\n-  an instantiation of each Parameter with their unit, default values\n   and frozen status\n-  the evaluate function where the mathematical expression for the model\n   is defined.\n\nAs an example we will use a PowerLawSpectralModel plus a Gaussian (with\nfixed width). First we define the new custom model class that we name\n``MyCustomSpectralModel``:\n\n\n"
      ]
    },
    {
      "cell_type": "code",
      "execution_count": null,
      "metadata": {
        "collapsed": false
      },
      "outputs": [],
      "source": [
        "from gammapy.modeling import Parameter\nfrom gammapy.modeling.models import SpectralModel\n\n\nclass MyCustomSpectralModel(SpectralModel):\n    \"\"\"My custom spectral model, parametrising a power law plus a Gaussian spectral line.\n\n    Parameters\n    ----------\n    amplitude : `astropy.units.Quantity`\n        Amplitude of the spectra model.\n    index : `astropy.units.Quantity`\n        Spectral index of the model.\n    reference : `astropy.units.Quantity`\n        Reference energy of the power law.\n    mean : `astropy.units.Quantity`\n        Mean value of the Gaussian.\n    width : `astropy.units.Quantity`\n        Sigma width of the Gaussian line.\n\n    \"\"\"\n\n    tag = \"MyCustomSpectralModel\"\n    amplitude = Parameter(\"amplitude\", \"1e-12 cm-2 s-1 TeV-1\", min=0, is_norm=True)\n    index = Parameter(\"index\", 2, min=0)\n    reference = Parameter(\"reference\", \"1 TeV\", frozen=True)\n    mean = Parameter(\"mean\", \"1 TeV\", min=0)\n    width = Parameter(\"width\", \"0.1 TeV\", min=0, frozen=True)\n\n    @staticmethod\n    def evaluate(energy, index, amplitude, reference, mean, width):\n        pwl = PowerLawSpectralModel.evaluate(\n            energy=energy,\n            index=index,\n            amplitude=amplitude,\n            reference=reference,\n        )\n        gauss = amplitude * np.exp(-((energy - mean) ** 2) / (2 * width**2))\n        return pwl + gauss"
      ]
    },
    {
      "cell_type": "markdown",
      "metadata": {},
      "source": [
        "It is good practice to also implement a docstring for the model,\ndefining the parameters and also definig a ``.tag``, which specifies the\nname of the model for serialisation. Also note that gammapy assumes that\nall SpectralModel evaluate functions return a flux in unit of\n`\"cm-2 s-1 TeV-1\"` (or equivalent dimensions).\n\nThis model can now be used as any other spectral model in Gammapy:\n\n\n"
      ]
    },
    {
      "cell_type": "code",
      "execution_count": null,
      "metadata": {
        "collapsed": false
      },
      "outputs": [],
      "source": [
        "my_custom_model = MyCustomSpectralModel(mean=\"3 TeV\")\nprint(my_custom_model)\n\nprint(my_custom_model.integral(1 * u.TeV, 10 * u.TeV))\n\nplt.figure()\nmy_custom_model.plot(energy_bounds=[1, 10] * u.TeV)"
      ]
    },
    {
      "cell_type": "markdown",
      "metadata": {},
      "source": [
        "As a next step we can also register the custom model in the\n``SPECTRAL_MODELS`` registry, so that it becomes available for\nserilisation:\n\n\n"
      ]
    },
    {
      "cell_type": "code",
      "execution_count": null,
      "metadata": {
        "collapsed": false
      },
      "outputs": [],
      "source": [
        "SPECTRAL_MODEL_REGISTRY.append(MyCustomSpectralModel)\n\nmodel = SkyModel(spectral_model=my_custom_model, name=\"my-source\")\nmodels = Models([model])\nmodels.write(\"my-custom-models.yaml\", overwrite=True)\n\n# !cat my-custom-models.yaml"
      ]
    },
    {
      "cell_type": "markdown",
      "metadata": {},
      "source": [
        "Similarly you can also create custom spatial models and add them to the\n``SPATIAL_MODELS`` registry. In that case gammapy assumes that the\nevaluate function return a normalized quantity in \u201csr-1\u201d such as the\nmodel integral over the whole sky is one.\n\n\n"
      ]
    },
    {
      "cell_type": "markdown",
      "metadata": {},
      "source": [
        "## Models with energy dependent morphology\n\nA common science case in the study of extended sources is to probe for\nenergy dependent morphology, eg: in Supernova Remnants or Pulsar Wind\nNebulae. Traditionally, this has been done by splitting the data into\nenergy bands and doing individual fits of the morphology in these energy\nbands.\n\n`~gammapy.modeling.models.SkyModel` offers a natural framework to simultaneously model the\nenergy and morphology, e.g. spatial extent described by a parametric\nmodel expression with energy dependent parameters.\n\nThe models shipped within gammapy use a \u201cfactorised\u201d representation of\nthe source model, where the spatial ($l,b$), energy ($E$)\nand time ($t$) dependence are independent model components and not\ncorrelated:\n\n\\begin{align}\\begin{align}f(l, b, E, t) = F(l, b) \\cdot G(E) \\cdot H(t)\\end{align}\\end{align}\n\nTo use full 3D models, ie $f(l, b, E) = F(l, b, E) \\cdot \\ G(E)$,\nyou have to implement your own custom\n`SpatialModel`. Note that it is still necessary to multiply by a\n`SpectralModel`, $G(E)$ to be dimensionally consistent.\n\nIn this example, we create Gaussian Spatial Model with the extension\nvarying with energy. For simplicity, we assume a linear dependency on\nenergy and parameterize this by specifying the extension at 2 energies.\nYou can add more complex dependencies, probably motivated by physical\nmodels.\n\n\n"
      ]
    },
    {
      "cell_type": "code",
      "execution_count": null,
      "metadata": {
        "collapsed": false
      },
      "outputs": [],
      "source": [
        "from astropy.coordinates.angle_utilities import angular_separation\nfrom gammapy.modeling.models import SpatialModel\n\n\nclass MyCustomGaussianModel(SpatialModel):\n    \"\"\"My custom Energy Dependent Gaussian model.\n\n    Parameters\n    ----------\n    lon_0, lat_0 : `~astropy.coordinates.Angle`\n        Center position\n    sigma_1TeV : `~astropy.coordinates.Angle`\n        Width of the Gaussian at 1 TeV\n    sigma_10TeV : `~astropy.coordinates.Angle`\n        Width of the Gaussian at 10 TeV\n\n    \"\"\"\n\n    tag = \"MyCustomGaussianModel\"\n    is_energy_dependent = True\n    lon_0 = Parameter(\"lon_0\", \"0 deg\")\n    lat_0 = Parameter(\"lat_0\", \"0 deg\", min=-90, max=90)\n\n    sigma_1TeV = Parameter(\"sigma_1TeV\", \"2.0 deg\", min=0)\n    sigma_10TeV = Parameter(\"sigma_10TeV\", \"0.2 deg\", min=0)\n\n    @staticmethod\n    def evaluate(lon, lat, energy, lon_0, lat_0, sigma_1TeV, sigma_10TeV):\n\n        sep = angular_separation(lon, lat, lon_0, lat_0)\n\n        # Compute sigma for the given energy using linear interpolation in log energy\n        sigma_nodes = u.Quantity([sigma_1TeV, sigma_10TeV])\n        energy_nodes = [1, 10] * u.TeV\n        log_s = np.log(sigma_nodes.to(\"deg\").value)\n        log_en = np.log(energy_nodes.to(\"TeV\").value)\n        log_e = np.log(energy.to(\"TeV\").value)\n        sigma = np.exp(np.interp(log_e, log_en, log_s)) * u.deg\n\n        exponent = -0.5 * (sep / sigma) ** 2\n        norm = 1 / (2 * np.pi * sigma**2)\n        return norm * np.exp(exponent)"
      ]
    },
    {
      "cell_type": "markdown",
      "metadata": {},
      "source": [
        "Serialisation of this model can be achieved as explained in the previous\nsection. You can now use it as standard ``SpatialModel`` in your\nanalysis. Note that this is still a ``SpatialModel`` and not a\n``SkyModel``, so it needs to be multiplied by a ``SpectralModel`` as\nbefore.\n\n\n"
      ]
    },
    {
      "cell_type": "code",
      "execution_count": null,
      "metadata": {
        "collapsed": false
      },
      "outputs": [],
      "source": [
        "spatial_model = MyCustomGaussianModel()\nspectral_model = PowerLawSpectralModel()\nsky_model = SkyModel(spatial_model=spatial_model, spectral_model=spectral_model)\n\nprint(spatial_model.evaluation_radius)"
      ]
    },
    {
      "cell_type": "markdown",
      "metadata": {},
      "source": [
        "To visualise it, we evaluate it on a 3D geom.\n\n\n"
      ]
    },
    {
      "cell_type": "code",
      "execution_count": null,
      "metadata": {
        "collapsed": false
      },
      "outputs": [],
      "source": [
        "energy_axis = MapAxis.from_energy_bounds(\n    energy_min=0.1 * u.TeV, energy_max=10.0 * u.TeV, nbin=3, name=\"energy_true\"\n)\ngeom = WcsGeom.create(skydir=(0, 0), width=5.0 * u.deg, binsz=0.1, axes=[energy_axis])\n\nspatial_model.plot_grid(geom=geom, add_cbar=True, figsize=(14, 3))\n\nplt.show()"
      ]
    },
    {
      "cell_type": "markdown",
      "metadata": {},
      "source": [
        "For computational purposes, it is useful to specify a\n``evaluation_radius`` for ``SpatialModels`` - this gives a size on which\nto compute the model. Though optional, it is highly recommended for\nCustom Spatial Models. This can be done, for ex, by defining the\nfollowing function inside the above class:\n\n\n"
      ]
    },
    {
      "cell_type": "code",
      "execution_count": null,
      "metadata": {
        "collapsed": false
      },
      "outputs": [],
      "source": [
        "@property\ndef evaluation_radius(self):\n    \"\"\"Evaluation radius (`~astropy.coordinates.Angle`).\"\"\"\n    return 5 * np.max([self.sigma_1TeV.value, self.sigma_10TeV.value]) * u.deg"
      ]
    }
  ],
  "metadata": {
    "kernelspec": {
      "display_name": "Python 3",
      "language": "python",
      "name": "python3"
    },
    "language_info": {
      "codemirror_mode": {
        "name": "ipython",
        "version": 3
      },
      "file_extension": ".py",
      "mimetype": "text/x-python",
      "name": "python",
      "nbconvert_exporter": "python",
      "pygments_lexer": "ipython3",
      "version": "3.9.16"
    }
  },
  "nbformat": 4,
  "nbformat_minor": 0
}