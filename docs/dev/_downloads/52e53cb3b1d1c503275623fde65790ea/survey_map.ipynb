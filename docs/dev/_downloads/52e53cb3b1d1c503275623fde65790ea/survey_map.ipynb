{
  "cells": [
    {
      "cell_type": "code",
      "execution_count": null,
      "metadata": {
        "collapsed": false
      },
      "outputs": [],
      "source": [
        "%matplotlib inline"
      ]
    },
    {
      "cell_type": "markdown",
      "metadata": {},
      "source": [
        "\n# Survey Map Script\n\nMake a survey counts map using a script.\n\nWe create an all-sky map in AIT projection\nfor the HESS DL3 DR1 dataset.\n"
      ]
    },
    {
      "cell_type": "code",
      "execution_count": null,
      "metadata": {
        "collapsed": false
      },
      "outputs": [],
      "source": [
        "import logging\nfrom gammapy.data import DataStore\nfrom gammapy.maps import Map\n\nlog = logging.getLogger(__name__)\n\n\ndef main():\n    data_store = DataStore.from_dir(\"$GAMMAPY_DATA/hess-dl3-dr1\")\n    obs_id = data_store.obs_table[\"OBS_ID\"]\n    observations = data_store.get_observations(obs_id)\n\n    m = Map.create()\n    for obs in observations:\n        log.info(f\"Processing obs_id: {obs.obs_id}\")\n        m.fill_events(obs.events)\n\n    m.write(\"survey_map.fits.gz\", overwrite=True)\n\n\nif __name__ == \"__main__\":\n    logging.basicConfig(level=logging.INFO)\n    main()"
      ]
    }
  ],
  "metadata": {
    "kernelspec": {
      "display_name": "Python 3",
      "language": "python",
      "name": "python3"
    },
    "language_info": {
      "codemirror_mode": {
        "name": "ipython",
        "version": 3
      },
      "file_extension": ".py",
      "mimetype": "text/x-python",
      "name": "python",
      "nbconvert_exporter": "python",
      "pygments_lexer": "ipython3",
      "version": "3.9.16"
    }
  },
  "nbformat": 4,
  "nbformat_minor": 0
}