{
  "cells": [
    {
      "cell_type": "markdown",
      "metadata": {},
      "source": [
        "\n# Sample a source with energy-dependent temporal evolution\n\nThis notebook shows how to sample events of sources whose model evolves in energy and time.\n\n## Prerequisites\n\nTo understand how to generate a model and a MapDataset and how to fit the data, please refer to\nthe `~gammapy.modeling.models.SkyModel` and :doc:`/tutorials/analysis-3d/simulate_3d` tutorial.\nTo know how to sample events for standards sources, we suggest to visit the event sampler\n:doc:`/tutorials/analysis-3d/event_sampling` tutorial.\n\n## Objective\n\nDescribe the process of sampling events of a source having an energy-dependent temporal model,\nand obtain an output event-list.\n\n## Proposed approach\n\nHere we will show how to create an energy dependent temporal model; then we also create an observation\nand define a Dataset object. Finally, we describe how to sample events from the given model.\n\nWe will work with the following functions and classes:\n\n-  `~gammapy.data.Observations`\n-  `~gammapy.datasets.Dataset`\n-  `~gammapy.modeling.models.SkyModel`\n-  `~gammapy.datasets.MapDatasetEventSampler`\n-  `~gammapy.data.EventList`\n-  `~gammapy.maps.RegionNDMap`\n"
      ]
    },
    {
      "cell_type": "markdown",
      "metadata": {},
      "source": [
        "## Setup\n\nAs usual, let\u2019s start with some general imports\u2026\n\n\n"
      ]
    },
    {
      "cell_type": "code",
      "execution_count": null,
      "metadata": {
        "collapsed": false
      },
      "outputs": [],
      "source": [
        "from pathlib import Path\nimport astropy.units as u\nfrom astropy.coordinates import Angle, SkyCoord\nfrom astropy.time import Time\nfrom regions import CircleSkyRegion, PointSkyRegion\nimport matplotlib.pyplot as plt\nfrom gammapy.data import FixedPointingInfo, Observation, observatory_locations\nfrom gammapy.datasets import MapDataset, MapDatasetEventSampler\nfrom gammapy.irf import load_irf_dict_from_file\nfrom gammapy.makers import MapDatasetMaker\nfrom gammapy.maps import MapAxis, RegionNDMap, WcsGeom\nfrom gammapy.modeling.models import (\n    ConstantSpectralModel,\n    FoVBackgroundModel,\n    LightCurveTemplateTemporalModel,\n    PointSpatialModel,\n    PowerLawSpectralModel,\n    SkyModel,\n)"
      ]
    },
    {
      "cell_type": "markdown",
      "metadata": {},
      "source": [
        "## Check setup\n\n"
      ]
    },
    {
      "cell_type": "code",
      "execution_count": null,
      "metadata": {
        "collapsed": false
      },
      "outputs": [],
      "source": [
        "from gammapy.utils.check import check_tutorials_setup\n\ncheck_tutorials_setup()"
      ]
    },
    {
      "cell_type": "markdown",
      "metadata": {},
      "source": [
        "## Create the energy-dependent temporal model\n\nThe source we want to simulate has a spectrum that varies as a function of\nthe time.\nHere we show how to create an energy dependent temporal model. If you already\nhave such a model, go directly to the `corresponding<read-the-energy-dependent-model>` section.\n\n\nIn the following example, the source spectrum will vary continuously\nwith time. Here we define 5 time bins and represent the spectrum\nat the center of each bin as a powerlaw. The spectral evolution\nis also shown in the following plot:\n\n\n"
      ]
    },
    {
      "cell_type": "code",
      "execution_count": null,
      "metadata": {
        "collapsed": false
      },
      "outputs": [],
      "source": [
        "amplitudes = u.Quantity(\n    [2e-10, 8e-11, 5e-11, 3e-11, 1e-11], unit=\"cm-2s-1TeV-1\"\n)  # amplitude\nindices = u.Quantity([2.2, 2.0, 1.8, 1.6, 1.4], unit=\"\")  # index\n\nfor i in range(len(amplitudes)):\n    spec = PowerLawSpectralModel(\n        index=indices[i], amplitude=amplitudes[i], reference=\"1 TeV\"\n    )\n    spec.plot([0.2, 100] * u.TeV, label=f\"Time bin {i+1}\")\nplt.legend()\nplt.show()"
      ]
    },
    {
      "cell_type": "markdown",
      "metadata": {},
      "source": [
        "Let's now create the temporal model (if you already have this model,\nplease go directly to the `Read the energy-dependent model` section),\nthat will be defined as a `LightCurveTemplateTemporalModel`. The latter\ntake as input a `RegionNDMap` with temporal and energy axes, on which\nthe fluxes are stored.\n\nTo create such map, we first need to define a time axis with `MapAxis`:\nhere we consider 5 time bins of 720 s (i.e. 1 hr in total).\nAs a second step, we create an energy axis with 10 bins where the\npowerlaw spectral models will be evaluated.\n\n\n"
      ]
    },
    {
      "cell_type": "code",
      "execution_count": null,
      "metadata": {
        "collapsed": false
      },
      "outputs": [],
      "source": [
        "# source position\npointing_position = SkyCoord(\"100 deg\", \"30 deg\", frame=\"icrs\")\nposition = FixedPointingInfo(fixed_icrs=pointing_position.icrs)\n\n# time axis\ntime_axis = MapAxis.from_bounds(0 * u.s, 3600 * u.s, nbin=5, name=\"time\", interp=\"lin\")\n\n# energy axis\nenergy_axis = MapAxis.from_energy_bounds(\n    energy_min=0.2 * u.TeV, energy_max=100 * u.TeV, nbin=10\n)"
      ]
    },
    {
      "cell_type": "markdown",
      "metadata": {},
      "source": [
        "Now let's create the `RegionNDMap` and fill it with the expected\nspectral values:\n\n\n"
      ]
    },
    {
      "cell_type": "code",
      "execution_count": null,
      "metadata": {
        "collapsed": false
      },
      "outputs": [],
      "source": [
        "# create the RegionNDMap containing fluxes\nm = RegionNDMap.create(\n    region=PointSkyRegion(center=pointing_position),\n    axes=[energy_axis, time_axis],\n    unit=\"cm-2s-1TeV-1\",\n)\n\n# to compute the spectra as a function of time we extract the coordinates of the geometry\ncoords = m.geom.get_coord(sparse=True)\n\n# We reshape the indices and amplitudes array to perform broadcasting\nindices = indices.reshape(coords[\"time\"].shape)\namplitudes = amplitudes.reshape(coords[\"time\"].shape)\n\n# evaluate the spectra and fill the RegionNDMap\nm.quantity = PowerLawSpectralModel.evaluate(\n    coords[\"energy\"], indices, amplitudes, 1 * u.TeV\n)"
      ]
    },
    {
      "cell_type": "markdown",
      "metadata": {},
      "source": [
        "### Create the temporal model and write it to disk\n\nNow, we define the `LightCurveTemplateTemporalModel`. It needs the\nmap we created above and a reference time. The latter\nis crucial to evaluate the model as a function of time.\nWe show also how to write the model on disk, noting that we explicitly\nset the `format` to `map`.\n\n"
      ]
    },
    {
      "cell_type": "code",
      "execution_count": null,
      "metadata": {
        "collapsed": false
      },
      "outputs": [],
      "source": [
        "t_ref = Time(51544.00074287037, format=\"mjd\", scale=\"tt\")\nfilename = \"./temporal_model_map.fits\"\ntemp = LightCurveTemplateTemporalModel(m, t_ref=t_ref, filename=filename)\ntemp.write(filename, format=\"map\", overwrite=True)"
      ]
    },
    {
      "cell_type": "markdown",
      "metadata": {},
      "source": [
        "\n### Read the energy-dependent model\n\nWe read the map written on disc again with `LightCurveTemplateTemporalModel.read`.\nWhen the model is from a map, the arguments `format=\"map\"` is mandatory.\nThe map is `fits` file, with 3 extensions:\n\n1) `SKYMAP`: a table with a `CHANNEL` and `DATA` column; the number of rows is given\nby the product of the energy and time bins. The `DATA` represent the values of the model\nat each energy;\n\n2) `SKYMAP_BANDS`: a table with `CHANNEL`, `ENERGY`, `E_MIN`, `E_MAX`, `TIME`,\n`TIME_MIN` and `TIME_MAX`. `ENERGY` is the mean of `E_MIN` and `E_MAX`, as well as\n`TIME` is the mean of `TIME_MIN` and `TIME_MAX`; this extension should contain the\nreference time in the header, through the keywords `MJDREFI` and `MJDREFF`.\n\n3) `SKYMAP_REGION`: it gives information on the spatial morphology, i.e. `SHAPE`\n(only `point` is accepted), `X` and `Y` (source position), `R` (the radius if\nextended; not used in our case) and `ROTANG` (the angular rotation of the spatial\nmodel, if extended; not used in our case).\n\n\n"
      ]
    },
    {
      "cell_type": "code",
      "execution_count": null,
      "metadata": {
        "collapsed": false
      },
      "outputs": [],
      "source": [
        "temporal_model = LightCurveTemplateTemporalModel.read(filename, format=\"map\")"
      ]
    },
    {
      "cell_type": "markdown",
      "metadata": {},
      "source": [
        "We note that an interpolation scheme is also provided when loading\na map: for an energy-dependent temporal model, the `method` and\n`values_scale` arguments by default are set to `linear` and `log`.\nWe warn the reader to carefully check the interpolation method used\nfor the time axis while creating the template model, as different\nmethods provide different results.\nBy default, we assume `linear` interpolation for the time, `log`\nfor the energies and values.\nUsers can modify the `method` and `values_scale` arguments but we\nwarn that this should be done only when the user knows the consequences\nof the changes. Here, we show how to set them explicitly:\n\n\n"
      ]
    },
    {
      "cell_type": "code",
      "execution_count": null,
      "metadata": {
        "collapsed": false
      },
      "outputs": [],
      "source": [
        "temporal_model.method = \"linear\"  # default\ntemporal_model.values_scale = \"log\"  # default"
      ]
    },
    {
      "cell_type": "markdown",
      "metadata": {},
      "source": [
        "We can have a visual inspection of the temporal model at different energies:\n\n\n"
      ]
    },
    {
      "cell_type": "code",
      "execution_count": null,
      "metadata": {
        "collapsed": false
      },
      "outputs": [],
      "source": [
        "time_range = temporal_model.reference_time + [-100, 3600] * u.s\n\ntemporal_model.plot(time_range=time_range, energy=[0.1, 0.5, 1, 5] * u.TeV)\nplt.semilogy()\nplt.show()"
      ]
    },
    {
      "cell_type": "markdown",
      "metadata": {},
      "source": [
        "## Prepare and run the event sampler\n\n### Define the simulation source model\n\nNow that the temporal model is complete, we create the whole source\n`SkyModel`. We define its spatial morphology as `point-like`. This\nis a mandatory condition to simulate energy-dependent temporal model.\nOther morphologies will raise an error!\nNote also that the source `spectral_model` is a `ConstantSpectralModel`:\nthis is necessary and mandatory, as the real source spectrum is actually\npassed through the map.\n\n\n"
      ]
    },
    {
      "cell_type": "code",
      "execution_count": null,
      "metadata": {
        "collapsed": false
      },
      "outputs": [],
      "source": [
        "spatial_model = PointSpatialModel.from_position(pointing_position)\nspectral_model = ConstantSpectralModel(const=\"1 cm-2 s-1 TeV-1\")\n\nmodel = SkyModel(\n    spatial_model=spatial_model,\n    spectral_model=spectral_model,\n    temporal_model=temporal_model,\n    name=\"test-source\",\n)\n\nbkg_model = FoVBackgroundModel(dataset_name=\"my-dataset\")\n\nmodels = [model, bkg_model]"
      ]
    },
    {
      "cell_type": "markdown",
      "metadata": {},
      "source": [
        "### Define an observation and make a dataset\n\nIn the following, we define an observation of 1 hr with CTAO in the\nalpha-configuration for the south array, and we also create a dataset\nto be passed to the event sampler. The full `SkyModel` created above\nis passed to the dataset.\n\n\n"
      ]
    },
    {
      "cell_type": "code",
      "execution_count": null,
      "metadata": {
        "collapsed": false
      },
      "outputs": [],
      "source": [
        "path = Path(\"$GAMMAPY_DATA/cta-caldb\")\nirf_filename = \"Prod5-South-20deg-AverageAz-14MSTs37SSTs.180000s-v0.1.fits.gz\"\n\npointing_position = SkyCoord(ra=100 * u.deg, dec=30 * u.deg)\npointing = FixedPointingInfo(fixed_icrs=pointing_position)\nlivetime = 1 * u.hr\n\nirfs = load_irf_dict_from_file(path / irf_filename)\nlocation = observatory_locations[\"cta_south\"]\n\nobservation = Observation.create(\n    obs_id=1001,\n    pointing=pointing,\n    livetime=livetime,\n    irfs=irfs,\n    location=location,\n)"
      ]
    },
    {
      "cell_type": "code",
      "execution_count": null,
      "metadata": {
        "collapsed": false
      },
      "outputs": [],
      "source": [
        "energy_axis = MapAxis.from_energy_bounds(\"0.2 TeV\", \"100 TeV\", nbin=5, per_decade=True)\nenergy_axis_true = MapAxis.from_energy_bounds(\n    \"0.05 TeV\", \"150 TeV\", nbin=10, per_decade=True, name=\"energy_true\"\n)\nmigra_axis = MapAxis.from_bounds(0.5, 2, nbin=150, node_type=\"edges\", name=\"migra\")\n\ngeom = WcsGeom.create(\n    skydir=pointing_position,\n    width=(2, 2),\n    binsz=0.02,\n    frame=\"icrs\",\n    axes=[energy_axis],\n)"
      ]
    },
    {
      "cell_type": "code",
      "execution_count": null,
      "metadata": {
        "collapsed": false
      },
      "outputs": [],
      "source": [
        "empty = MapDataset.create(\n    geom,\n    energy_axis_true=energy_axis_true,\n    migra_axis=migra_axis,\n    name=\"my-dataset\",\n)\nmaker = MapDatasetMaker(selection=[\"exposure\", \"background\", \"psf\", \"edisp\"])\ndataset = maker.run(empty, observation)\n\ndataset.models = models\n\nprint(dataset.models)"
      ]
    },
    {
      "cell_type": "markdown",
      "metadata": {},
      "source": [
        "### Let's simulate the model\n\nInitialize and run the `MapDatasetEventSampler` class. We also define\nthe `oversample_energy_factor` arguments: this should be carefully\nconsidered by the user, as a higher `oversample_energy_factor` gives\na more precise source flux estimate, at the expense of computational\ntime. Here we adopt an `oversample_energy_factor` of 10:\n\n\n"
      ]
    },
    {
      "cell_type": "code",
      "execution_count": null,
      "metadata": {
        "collapsed": false
      },
      "outputs": [],
      "source": [
        "sampler = MapDatasetEventSampler(random_state=0, oversample_energy_factor=10)\nevents = sampler.run(dataset, observation)"
      ]
    },
    {
      "cell_type": "markdown",
      "metadata": {},
      "source": [
        "Let's inspect the simulated events in the source region:\n\n\n"
      ]
    },
    {
      "cell_type": "code",
      "execution_count": null,
      "metadata": {
        "collapsed": false
      },
      "outputs": [],
      "source": [
        "src_position = SkyCoord(100.0, 30.0, frame=\"icrs\", unit=\"deg\")\n\non_region_radius = Angle(\"0.15 deg\")\non_region = CircleSkyRegion(center=src_position, radius=on_region_radius)\n\nsrc_events = events.select_region(on_region)\n\nsrc_events.peek()\nplt.show()"
      ]
    },
    {
      "cell_type": "markdown",
      "metadata": {},
      "source": [
        "Let's inspect the simulated events as a function of time:\n\n\n"
      ]
    },
    {
      "cell_type": "code",
      "execution_count": null,
      "metadata": {
        "collapsed": false
      },
      "outputs": [],
      "source": [
        "time_interval = temporal_model.reference_time + [300, 700] * u.s\nsrc_events.select_time(time_interval).plot_energy(label=\"500 s\")\n\ntime_interval = temporal_model.reference_time + [1600, 2000] * u.s\nsrc_events.select_time(time_interval).plot_energy(label=\"1800 s\")\n\nplt.legend()\nplt.show()"
      ]
    },
    {
      "cell_type": "markdown",
      "metadata": {},
      "source": [
        "## Exercises\n\n-  Try to create a temporal model with a more complex energy-dependent\n   evolution;\n-  Read your temporal model in Gammapy and simulate it;\n\n\n"
      ]
    }
  ],
  "metadata": {
    "kernelspec": {
      "display_name": "Python 3",
      "language": "python",
      "name": "python3"
    },
    "language_info": {
      "codemirror_mode": {
        "name": "ipython",
        "version": 3
      },
      "file_extension": ".py",
      "mimetype": "text/x-python",
      "name": "python",
      "nbconvert_exporter": "python",
      "pygments_lexer": "ipython3",
      "version": "3.9.20"
    }
  },
  "nbformat": 4,
  "nbformat_minor": 0
}