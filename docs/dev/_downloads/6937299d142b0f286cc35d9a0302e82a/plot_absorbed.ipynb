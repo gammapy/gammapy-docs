{
  "cells": [
    {
      "cell_type": "markdown",
      "metadata": {},
      "source": [
        "\n\n# EBL absorption spectral model\n\nThis model evaluates absorbed spectral model.\n\nThe EBL absorption factor given by\n\n\\begin{align}\\exp{ \\left ( -\\alpha \\times \\tau(E, z) \\right )}\\end{align}\n\nwhere $\\tau(E, z)$ is the optical depth predicted by the model\n(`~gammapy.modeling.models.EBLAbsorptionNormSpectralModel`), which depends on the energy of the gamma-rays and the\nredshift z of the source, and $\\alpha$ is a scale factor\n(default: 1) for the optical depth.\n\nThe available EBL models are defined in `~gammapy.modeling.models.EBL_DATA_BUILTIN`.\n"
      ]
    },
    {
      "cell_type": "markdown",
      "metadata": {},
      "source": [
        "## Example plot\nHere is an example plot of the model:\n\n"
      ]
    },
    {
      "cell_type": "code",
      "execution_count": null,
      "metadata": {
        "collapsed": false
      },
      "outputs": [],
      "source": [
        "from astropy import units as u\nimport matplotlib.pyplot as plt\nfrom gammapy.modeling.models import (\n    EBL_DATA_BUILTIN,\n    EBLAbsorptionNormSpectralModel,\n    Models,\n    PowerLawSpectralModel,\n    SkyModel,\n)\n\n# Print the available EBL models\nprint(EBL_DATA_BUILTIN.keys())\n\n# Here we illustrate how to create and plot EBL absorption models for a redshift of 0.5\n# sphinx_gallery_thumbnail_number = 1\n\nredshift = 0.5\ndominguez = EBLAbsorptionNormSpectralModel.read_builtin(\"dominguez\", redshift=redshift)\nfranceschini = EBLAbsorptionNormSpectralModel.read_builtin(\n    \"franceschini\", redshift=redshift\n)\nfinke = EBLAbsorptionNormSpectralModel.read_builtin(\"finke\", redshift=redshift)\nfranceschini17 = EBLAbsorptionNormSpectralModel.read_builtin(\n    \"franceschini17\", redshift=redshift\n)\nsaldana21 = EBLAbsorptionNormSpectralModel.read_builtin(\n    \"saldana-lopez21\", redshift=redshift\n)\n\nfig, (ax_ebl, ax_model) = plt.subplots(\n    nrows=1, ncols=2, figsize=(10, 4), gridspec_kw={\"left\": 0.08, \"right\": 0.96}\n)\n\nenergy_bounds = [0.08, 3] * u.TeV\nopts = dict(energy_bounds=energy_bounds, xunits=u.TeV)\n\nfranceschini.plot(ax=ax_ebl, label=\"Franceschini 2008\", **opts)\nfinke.plot(ax=ax_ebl, label=\"Finke 2010\", **opts)\ndominguez.plot(ax=ax_ebl, label=\"Dominguez 2011\", **opts)\nfranceschini17.plot(ax=ax_ebl, label=\"Franceschni 2017\", **opts)\nsaldana21.plot(ax=ax_ebl, label=\"Saldana-Lopez 2021\", **opts)\n\nax_ebl.set_ylabel(r\"Absorption coefficient [$\\exp{(-\\tau(E))}$]\")\nax_ebl.set_xlim(energy_bounds.value)\nax_ebl.set_ylim(1e-4, 2)\nax_ebl.set_title(f\"EBL models (z={redshift})\")\nax_ebl.grid(which=\"both\")\nax_ebl.legend(loc=\"best\")\n\n\n# Spectral model corresponding to PKS 2155-304 (quiescent state)\nindex = 3.53\namplitude = 1.81 * 1e-12 * u.Unit(\"cm-2 s-1 TeV-1\")\nreference = 1 * u.TeV\npwl = PowerLawSpectralModel(index=index, amplitude=amplitude, reference=reference)\n\n# The power-law model is multiplied by the EBL norm spectral model\nredshift = 0.117\nabsorption = EBLAbsorptionNormSpectralModel.read_builtin(\"dominguez\", redshift=redshift)\n\nmodel = pwl * absorption\n\nenergy_bounds = [0.1, 100] * u.TeV\n\nmodel.plot(energy_bounds, ax=ax_model)\nax_model.grid(which=\"both\")\nax_model.set_ylim(1e-24, 1e-8)\nax_model.set_title(\"Absorbed Power Law\")\nplt.show()"
      ]
    },
    {
      "cell_type": "markdown",
      "metadata": {},
      "source": [
        "## YAML representation\nHere is an example YAML file using the model:\n\n"
      ]
    },
    {
      "cell_type": "code",
      "execution_count": null,
      "metadata": {
        "collapsed": false
      },
      "outputs": [],
      "source": [
        "model = SkyModel(spectral_model=model, name=\"absorbed-model\")\nmodels = Models([model])\n\nprint(models.to_yaml())"
      ]
    }
  ],
  "metadata": {
    "kernelspec": {
      "display_name": "Python 3",
      "language": "python",
      "name": "python3"
    },
    "language_info": {
      "codemirror_mode": {
        "name": "ipython",
        "version": 3
      },
      "file_extension": ".py",
      "mimetype": "text/x-python",
      "name": "python",
      "nbconvert_exporter": "python",
      "pygments_lexer": "ipython3",
      "version": "3.9.20"
    }
  },
  "nbformat": 4,
  "nbformat_minor": 0
}