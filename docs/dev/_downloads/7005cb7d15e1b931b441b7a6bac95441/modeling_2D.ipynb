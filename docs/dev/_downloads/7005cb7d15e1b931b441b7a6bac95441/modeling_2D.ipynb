{
  "cells": [
    {
      "cell_type": "code",
      "execution_count": null,
      "metadata": {
        "collapsed": false
      },
      "outputs": [],
      "source": [
        "%matplotlib inline"
      ]
    },
    {
      "cell_type": "markdown",
      "metadata": {},
      "source": [
        "\n# 2D map fitting\n\nSource modelling and fitting in stacked observations using the high level interface.\n\n## Prerequisites\n\n-  To understand how a generel modelling and fiiting works in gammapy,\n   please refer to the :doc:`/tutorials/analysis-3d/analysis_3d` tutorial.\n\n## Context\n\nWe often want the determine the position and morphology of an object. To\ndo so, we don\u2019t necessarily have to resort to a full 3D fitting but can\nperform a simple image fitting, in particular, in an energy range where\nthe PSF does not vary strongly, or if we want to explore a possible\nenergy dependence of the morphology.\n\n## Objective\n\nTo localize a source and/or constrain its morphology.\n\n## Proposed approach\n\nThe first step here, as in most analysis with DL3 data, is to create\nreduced datasets. For this, we will use the `Analysis` class to create\na single set of stacked maps with a single bin in energy (thus, an\n*image* which behaves as a *cube*). This, we will then model with a\nspatial model of our choice, while keeping the spectral model fixed to\nan integrated power law.\n"
      ]
    },
    {
      "cell_type": "code",
      "execution_count": null,
      "metadata": {
        "collapsed": false
      },
      "outputs": [],
      "source": [
        "# %matplotlib inline\nimport astropy.units as u\nimport matplotlib.pyplot as plt"
      ]
    },
    {
      "cell_type": "markdown",
      "metadata": {},
      "source": [
        "## Setup\n\nAs usual, we\u2019ll start with some general imports\u2026\n\n\n"
      ]
    },
    {
      "cell_type": "code",
      "execution_count": null,
      "metadata": {
        "collapsed": false
      },
      "outputs": [],
      "source": [
        "from IPython.display import display\nfrom gammapy.analysis import Analysis, AnalysisConfig"
      ]
    },
    {
      "cell_type": "markdown",
      "metadata": {},
      "source": [
        "## Check setup\n\n"
      ]
    },
    {
      "cell_type": "code",
      "execution_count": null,
      "metadata": {
        "collapsed": false
      },
      "outputs": [],
      "source": [
        "from gammapy.utils.check import check_tutorials_setup\n\ncheck_tutorials_setup()"
      ]
    },
    {
      "cell_type": "markdown",
      "metadata": {},
      "source": [
        "## Creating the config file\n\nNow, we create a config file for out analysis. You may load this from\ndisc if you have a pre-defined config file.\n\nHere, we use 3 simulated CTA runs of the galactic center.\n\n\n"
      ]
    },
    {
      "cell_type": "code",
      "execution_count": null,
      "metadata": {
        "collapsed": false
      },
      "outputs": [],
      "source": [
        "config = AnalysisConfig()\n# Selecting the observations\nconfig.observations.datastore = \"$GAMMAPY_DATA/cta-1dc/index/gps/\"\nconfig.observations.obs_ids = [110380, 111140, 111159]"
      ]
    },
    {
      "cell_type": "markdown",
      "metadata": {},
      "source": [
        "Technically, gammapy implements 2D analysis as a special case of 3D\nanalysis (one one bin in energy). So, we must specify the type of\nanalysis as *3D*, and define the geometry of the analysis.\n\n\n"
      ]
    },
    {
      "cell_type": "code",
      "execution_count": null,
      "metadata": {
        "collapsed": false
      },
      "outputs": [],
      "source": [
        "config.datasets.type = \"3d\"\nconfig.datasets.geom.wcs.skydir = {\n    \"lon\": \"0 deg\",\n    \"lat\": \"0 deg\",\n    \"frame\": \"galactic\",\n}  # The WCS geometry - centered on the galactic center\nconfig.datasets.geom.wcs.width = {\"width\": \"8 deg\", \"height\": \"6 deg\"}\nconfig.datasets.geom.wcs.binsize = \"0.02 deg\"\n\n# The FoV radius to use for cutouts\nconfig.datasets.geom.selection.offset_max = 2.5 * u.deg\nconfig.datasets.safe_mask.methods = [\"offset-max\"]\nconfig.datasets.safe_mask.parameters = {\"offset_max\": 2.5 * u.deg}\nconfig.datasets.background.method = \"fov_background\"\nconfig.fit.fit_range = {\"min\": \"0.1 TeV\", \"max\": \"30.0 TeV\"}\n\n# We now fix the energy axis for the counts map - (the reconstructed energy binning)\nconfig.datasets.geom.axes.energy.min = \"0.1 TeV\"\nconfig.datasets.geom.axes.energy.max = \"10 TeV\"\nconfig.datasets.geom.axes.energy.nbins = 1\n\nconfig.datasets.geom.wcs.binsize_irf = 0.2 * u.deg\n\nprint(config)"
      ]
    },
    {
      "cell_type": "markdown",
      "metadata": {},
      "source": [
        "## Getting the reduced dataset\n\n\n"
      ]
    },
    {
      "cell_type": "markdown",
      "metadata": {},
      "source": [
        "We now use the config file and create a single `MapDataset` containing\n`counts`, `background`, `exposure`, `psf` and `edisp` maps.\n\n\n"
      ]
    },
    {
      "cell_type": "code",
      "execution_count": null,
      "metadata": {
        "collapsed": false
      },
      "outputs": [],
      "source": [
        "analysis = Analysis(config)\nanalysis.get_observations()\nanalysis.get_datasets()\n\nprint(analysis.datasets[\"stacked\"])"
      ]
    },
    {
      "cell_type": "markdown",
      "metadata": {},
      "source": [
        "The counts and background maps have only one bin in reconstructed\nenergy. The exposure and IRF maps are in true energy, and hence, have a\ndifferent binning based upon the binning of the IRFs. We need not bother\nabout them presently.\n\n\n"
      ]
    },
    {
      "cell_type": "code",
      "execution_count": null,
      "metadata": {
        "collapsed": false
      },
      "outputs": [],
      "source": [
        "print(analysis.datasets[\"stacked\"].counts)\n\nprint(analysis.datasets[\"stacked\"].background)\n\nprint(analysis.datasets[\"stacked\"].exposure)"
      ]
    },
    {
      "cell_type": "markdown",
      "metadata": {},
      "source": [
        "We can have a quick look of these maps in the following way:\n\n\n"
      ]
    },
    {
      "cell_type": "code",
      "execution_count": null,
      "metadata": {
        "collapsed": false
      },
      "outputs": [],
      "source": [
        "analysis.datasets[\"stacked\"].counts.reduce_over_axes().plot(vmax=10, add_cbar=True)"
      ]
    },
    {
      "cell_type": "markdown",
      "metadata": {},
      "source": [
        "## Modelling\n\nNow, we define a model to be fitted to the dataset. **The important\nthing to note here is the dummy spectral model - an integrated powerlaw\nwith only free normalisation**. Here, we use its YAML definition to load\nit:\n\n\n"
      ]
    },
    {
      "cell_type": "code",
      "execution_count": null,
      "metadata": {
        "collapsed": false
      },
      "outputs": [],
      "source": [
        "model_config = \"\"\"\ncomponents:\n- name: GC-1\n  type: SkyModel\n  spatial:\n    type: PointSpatialModel\n    frame: galactic\n    parameters:\n    - name: lon_0\n      value: 0.02\n      unit: deg\n    - name: lat_0\n      value: 0.01\n      unit: deg\n  spectral:\n    type: PowerLaw2SpectralModel\n    parameters:\n    - name: amplitude\n      value: 1.0e-12\n      unit: cm-2 s-1\n    - name: index\n      value: 2.0\n      unit: ''\n      frozen: true\n    - name: emin\n      value: 0.1\n      unit: TeV\n      frozen: true\n    - name: emax\n      value: 10.0\n      unit: TeV\n      frozen: true\n\"\"\"\n\nanalysis.set_models(model_config)"
      ]
    },
    {
      "cell_type": "markdown",
      "metadata": {},
      "source": [
        "We will freeze the parameters of the background\n\n\n"
      ]
    },
    {
      "cell_type": "code",
      "execution_count": null,
      "metadata": {
        "collapsed": false
      },
      "outputs": [],
      "source": [
        "analysis.datasets[\"stacked\"].background_model.parameters[\"tilt\"].frozen = True\n\n# To run the fit\nanalysis.run_fit()\n\n# To see the best fit values along with the errors\ndisplay(analysis.models.to_parameters_table())\nplt.show()"
      ]
    }
  ],
  "metadata": {
    "kernelspec": {
      "display_name": "Python 3",
      "language": "python",
      "name": "python3"
    },
    "language_info": {
      "codemirror_mode": {
        "name": "ipython",
        "version": 3
      },
      "file_extension": ".py",
      "mimetype": "text/x-python",
      "name": "python",
      "nbconvert_exporter": "python",
      "pygments_lexer": "ipython3",
      "version": "3.9.16"
    }
  },
  "nbformat": 4,
  "nbformat_minor": 0
}