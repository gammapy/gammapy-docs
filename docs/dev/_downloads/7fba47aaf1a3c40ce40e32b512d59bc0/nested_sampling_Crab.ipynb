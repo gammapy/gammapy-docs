{
  "cells": [
    {
      "cell_type": "markdown",
      "metadata": {},
      "source": [
        "\n# Bayesian analysis with nested sampling\n\nA demonstration of a Bayesian analysis using the nested sampling technique.\n"
      ]
    },
    {
      "cell_type": "markdown",
      "metadata": {},
      "source": [
        "## Context\n\n### 1. Bayesian analysis\n\nBayesian inference uses prior knowledge, in the form of a prior\ndistribution, in order to estimate posterior probabilities which we\ntraditionally visualise in the form of corner plots. These distributions\ncontain more information than a maximum likelihood fit as they reveal not\nonly the \u201cbest model\u201d but provide a more accurate representation of errors and\ncorrelation between parameters. In particular, non-Gaussian degeneracies are\ncomplex to estimate with a maximum likelihood approach.\n\n### 2. Limitations of the Markov Chain Monte Carlo approach\n\nA well-known approach to estimate this posterior distribution is the\nMarkov Chain Monte Carlo (MCMC). This uses an ensemble of walkers to\nproduce a chain of samples that after a convergence period will reach a\nstationary state. *Once convergence* is reached, the successive elements\nof the chain are samples of the target posterior distribution. However,\nthe weakness of the MCMC approach lies in the \"*Once convergence*\" part.\nIf the walkers are started far from the best likelihood region, the convergence time can be\nlong or never reached if the walkers fall in a local minima. The choice\nof the initialisation point can become critical for complex models with\na high number of dimensions and the ability of these walkers to escape a\nlocal minimum or to accurately describe a complex likelihood space is\nnot guaranteed.\n\n### 3. Nested sampling approach\n\nTo overcome these issues, the nested sampling (NS) algorithm has\ngained traction in physics and astronomy. It is a Monte Carlo\nalgorithm for computing an integral of the likelihood function over\nthe prior model parameter space introduced in\n[Skilling, 2004](https://ui.adsabs.harvard.edu/abs/2004AIPC..735..395S)_.\nThe method performs this integral by evolving a collection of points\nthrough the parameter space (see recent reviews from [Ashton et al.,\n2022](https://ui.adsabs.harvard.edu/abs/2022NRvMP...2...39A)_, and\n[Buchner, 2023](http://arxiv.org/abs/2101.09675)_). Without going\ninto too many details, one important specificity of the NS method is\nthat it starts from the entire parameter space and evolves a\ncollection of live points to map all minima (including multiple modes\nif any), whereas Markov Chain Monte Carlo methods require an\ninitialisation point and the walkers will explore the local\nlikelihood. The ability of these walkers to escape a local minimum or\nto accurately describe a complex likelihood space is not guaranteed.\nThis is a fundamental difference with MCMC or Minuit which will\nonly ever probe the vicinity along their minimisation paths and do not\nhave an overview of the global likelihood landscape. The analysis\nusing the NS framework is more CPU time consuming than a standard\nclassical fit, but it provides the full posterior distribution for all\nparameters, which is out of reach with traditional fitting techniques\n(N*(N-1)/2 contour plots to generate). In addition, it is more robust\nto the choice of initialisation, requires less human intervention and\nis therefore readily integrated in pipeline analysis. In Gammapy, we\nused the NS implementation of the UltraNest package\n(see [here](https://johannesbuchner.github.io/UltraNest/)_ for more information), one of the\nleading package in Astronomy (already used in Cosmology and in\nX-rays).\nFor a nice visualisation of the NS method see here : [sampling\nvisualisation](https://johannesbuchner.github.io/UltraNest/method.html#visualisation)_.\nAnd for a tutorial of UltraNest applied to X-ray fitting with concrete examples and questions see : [BXA\nTutorial](https://peterboorman.com/tutorial_bxa.html)_.\n\n\n**Note: please cite UltraNest if used for a paper**\n\nIf you are using the \"UltraNest\" library for a paper, please follow its citation scheme:\n[Cite UltraNest](https://johannesbuchner.github.io/UltraNest/issues.html#how-should-i-cite-ultranest)_.\n\n\n\n"
      ]
    },
    {
      "cell_type": "markdown",
      "metadata": {},
      "source": [
        "## Proposed approach\n\nIn this example, we will perform a Bayesian analysis with multiple 1D\nspectra of the Crab nebula data and investigate their posterior\ndistributions.\n\n\n"
      ]
    },
    {
      "cell_type": "markdown",
      "metadata": {},
      "source": [
        "## Setup\n\nAs usual, we\u2019ll start with some setup \u2026\n\n\n"
      ]
    },
    {
      "cell_type": "code",
      "execution_count": null,
      "metadata": {
        "collapsed": false
      },
      "outputs": [],
      "source": [
        "import matplotlib.pyplot as plt\nimport numpy as np\nfrom gammapy.datasets import Datasets\nfrom gammapy.datasets import SpectrumDatasetOnOff\n\nfrom gammapy.modeling.models import (\n    SkyModel,\n    UniformPrior,\n    LogUniformPrior,\n)\n\nfrom gammapy.modeling.sampler import Sampler"
      ]
    },
    {
      "cell_type": "markdown",
      "metadata": {},
      "source": [
        "## Loading the spectral datasets\n\nHere we will load a few Crab 1D spectral data for which we will do a\nfit.\n\n\n"
      ]
    },
    {
      "cell_type": "code",
      "execution_count": null,
      "metadata": {
        "collapsed": false
      },
      "outputs": [],
      "source": [
        "path = \"$GAMMAPY_DATA/joint-crab/spectra/hess/\"\n\ndatasets = Datasets()\nfor id in [\"23526\", \"23559\", \"23592\"]:\n    dataset = SpectrumDatasetOnOff.read(f\"{path}pha_obs{id}.fits\")\n    datasets.append(dataset)"
      ]
    },
    {
      "cell_type": "markdown",
      "metadata": {},
      "source": [
        "## Model definition\n\nNow we want to define the spectral model that will be fitted to the\ndata.\nThe Crab spectra will be fitted here with a simple powerlaw for\nsimplicity.\n\n\n"
      ]
    },
    {
      "cell_type": "code",
      "execution_count": null,
      "metadata": {
        "collapsed": false
      },
      "outputs": [],
      "source": [
        "model = SkyModel.create(spectral_model=\"pl\", name=\"crab\")"
      ]
    },
    {
      "cell_type": "markdown",
      "metadata": {},
      "source": [
        ".. WARNING:: Priors definition:\n   Unlike a traditional fit where priors on the\n   parameters are optional, here it is inherent to the Bayesian approach and\n   are therefore mandatory.\n\nIn this case we will set (min,max) prior that will define the\nboundaries in which the sampling will be performed.\nNote that it is usually recommended to use a `~gammapy.modeling.models.LogUniformPrior` for\nthe parameters that have a large amplitude range like the\n`amplitude` parameter.\nA `~gammapy.modeling.models.UniformPrior` means that the samples will be drawn with uniform\nprobability between the (min,max) values in the linear or log space\nin the case of a `~gammapy.modeling.models.LogUniformPrior`.\n\n\n"
      ]
    },
    {
      "cell_type": "code",
      "execution_count": null,
      "metadata": {
        "collapsed": false
      },
      "outputs": [],
      "source": [
        "model.spectral_model.amplitude.prior = LogUniformPrior(min=1e-12, max=1e-10)\nmodel.spectral_model.index.prior = UniformPrior(min=1, max=5)\ndatasets.models = [model]\nprint(datasets.models)"
      ]
    },
    {
      "cell_type": "markdown",
      "metadata": {},
      "source": [
        "## Defining the sampler and options\n\nAs for the `~gammapy.modeling.Fit` object, the `~gammapy.modeling.Sampler` object can receive\ndifferent backend (although just one is available for now).\nThe `~gammapy.modeling.Sampler` comes with \u201creasonable\u201d default parameters, but you can\nchange them via the `sampler_opts` dictionnary.\nHere is a short description of the most relevant parameters that you\ncould change :\n\n-  `live_points`: minimum number of live points throughout the run.\n   More points allow to discover multiple peaks if existing, but is\n   slower. To test the Prior boundaries and for debugging, a lower\n   number (~100) can be used before a production run with more points\n   (~400 or more).\n-  `frac_remain`: the cut-off condition for the integration, set by the maximum\n   allowed fraction of posterior mass left in the live points vs the dead points. High\n   values (e.g., 0.5) are faster and can be used if the posterior\n   distribution is a relatively simple shape. A low value (1e-1, 1e-2)\n   is optimal for finding peaks, but slower.\n-  `log_dir`: directory where the output files will be stored.\n   If set to None, no files will be written. If set to a string, a directory\n   will be created containing the ongoing status of the run and final results.\n   For time consuming analysis, it is highly recommended to use that option to monitor\n   the run and restart it in case of a crash (with `resume=True`).\n\n**Important note:** unlike the MCMC method, you don\u2019t need to define the\nnumber of steps for which the sampler will run. The algorithm will\nautomatically stop once a convergence criteria has been reached.\n\n\n"
      ]
    },
    {
      "cell_type": "code",
      "execution_count": null,
      "metadata": {
        "collapsed": false
      },
      "outputs": [],
      "source": [
        "sampler_opts = {\n    \"live_points\": 300,\n    \"frac_remain\": 0.3,\n    \"log_dir\": None,\n}\n\nsampler = Sampler(backend=\"ultranest\", sampler_opts=sampler_opts)"
      ]
    },
    {
      "cell_type": "markdown",
      "metadata": {},
      "source": [
        "Next we can run the sampler on a given dataset.\nNo options are accepted in the run method.\n\n\n"
      ]
    },
    {
      "cell_type": "code",
      "execution_count": null,
      "metadata": {
        "collapsed": false
      },
      "outputs": [],
      "source": [
        "result_joint = sampler.run(datasets)"
      ]
    },
    {
      "cell_type": "markdown",
      "metadata": {},
      "source": [
        "## Understanding the outputs\n\nIn the Jupyter notebook, you should be able to see an interactive\nvisualisation of how the parameter space shrinks which starts from the\n(min,max) shrinks down towards the optimal parameters.\n\nThe output above is filled with interesting information. Here we\nprovide a short description of the most relevant information provided\nabove.\nFor more detailed information see the [UltraNest\ndocs](https://johannesbuchner.github.io/UltraNest/issues.html#what-does-the-status-line-mean)_.\n\n**During the sampling**\n\n`Z=-68.8(0.53%) | Like=-63.96..-58.75 [-63.9570..-63.9539]*| it/evals=640/1068 eff=73.7327% N=300`\n\nSome important information here is:\n\n-  Progress (0.53%): the completed fraction of the integral. This is not a time progress bar.\n   Stays at zero for a good fraction of the run.\n\n-  Efficiency (eff value) of the sampling: this indicates out of the proposed new points,\n   how many were accepted. If your efficiency is too small (<<1%), maybe\n   you should revise your priors (e.g use a LogUniform prior for the\n   normalisation).\n\n**Final outputs**\n\nThe final lines indicate that all three \u201cconvergence\u201d strategies are\nsatisfied (samples, posterior uncertainty, and evidence uncertainty).\n\n`logZ = -65.104 +- 0.292`\n\nThe main goal of the Nested sampling algorithm is to estimate Z (the\nBayesian evidence) which is given above together with an uncertainty.\nIn a similar way to deltaLogLike and deltaAIC, deltaLogZ values can be\nused for model comparison.\nFor more information see : [on the use of the evidence for model comparison](https://ned.ipac.caltech.edu/level5/Sept13/Trotta/Trotta4.html)_.\nAn interesting comparison of the efficiency and false discovery rate of\nmodel selection with deltaLogLike and deltaLogZ is given in Appendix C of\n[Buchner et al., 2014](https://ui.adsabs.harvard.edu/abs/2014A%2526A...564A.125B%252F/)_.\n\n**Results stored on disk**\n\nif `log_dir` is set to a name where the results will be stored, then\na directory is created containing many useful results and plots.\nA description of these outputs is given in the [Ultranest\ndocs](https://johannesbuchner.github.io/UltraNest/performance.html#output-files)_.\n\n\n"
      ]
    },
    {
      "cell_type": "markdown",
      "metadata": {},
      "source": [
        "## Results\n\n\n"
      ]
    },
    {
      "cell_type": "markdown",
      "metadata": {},
      "source": [
        "Within a Bayesian analysis, the concept of best-fit has to be viewed\ndifferently from what is done in a gradient descent fit.\n\nThe output of the Bayesian analysis is the posterior distribution and\nthere is no \u201cbest-fit\u201d output.\nOne has to define, based on the posteriors, what we want to consider\nas \u201cbest-fit\u201d and several options are possible:\n\n-  the mean of the distribution\n-  the median\n-  the lowest likelihood value\n\nBy default the `~gammapy.modeling.models.DatasetModels` will be updated with the `mean` of\nthe posterior distributions.\n\n\n"
      ]
    },
    {
      "cell_type": "code",
      "execution_count": null,
      "metadata": {
        "collapsed": false
      },
      "outputs": [],
      "source": [
        "print(result_joint.models)"
      ]
    },
    {
      "cell_type": "markdown",
      "metadata": {},
      "source": [
        "The `~gammapy.modeling.Sampler` class returns a very rich dictionnary.\nThe most \u201cstandard\u201d information about the posterior distributions can\nbe found in :\n\n\n"
      ]
    },
    {
      "cell_type": "code",
      "execution_count": null,
      "metadata": {
        "collapsed": false
      },
      "outputs": [],
      "source": [
        "print(result_joint.sampler_results[\"posterior\"])"
      ]
    },
    {
      "cell_type": "markdown",
      "metadata": {},
      "source": [
        "Besides mean, errors, etc, an interesting value is the\n`information gain` which estimates how much the posterior\ndistribution has shrinked with respect to the prior (i.e.\u00a0how much\nwe\u2019ve learned). A value < 1 means that the parameter is poorly\nconstrained within the prior range (we haven't learned much with respect to our prior assumption).\nFor a physical example see this\n[example](https://arxiv.org/abs/2205.00009)_.\n\nThe `~gammapy.modeling.SamplerResult` dictionary contains also other interesting\ninformation :\n\n\n"
      ]
    },
    {
      "cell_type": "code",
      "execution_count": null,
      "metadata": {
        "collapsed": false
      },
      "outputs": [],
      "source": [
        "print(result_joint.sampler_results.keys())"
      ]
    },
    {
      "cell_type": "markdown",
      "metadata": {},
      "source": [
        "Of particular interest, the samples used in the process to approximate\nthe posterior distribution can be accessed via :\n\n\n"
      ]
    },
    {
      "cell_type": "code",
      "execution_count": null,
      "metadata": {
        "collapsed": false
      },
      "outputs": [],
      "source": [
        "for i, n in enumerate(model.parameters.free_parameters.names):\n    s = result_joint.samples[:, i]\n    fig, ax = plt.subplots()\n    ax.hist(s, bins=30)\n    ax.axvline(np.mean(s), ls=\"--\", color=\"red\")\n    ax.set_xlabel(n)\n    plt.show()"
      ]
    },
    {
      "cell_type": "markdown",
      "metadata": {},
      "source": [
        "While the above plots are interesting, the real strength of the Bayesian\nanalysis is to visualise all parameters correlations which is usually\ndone using \u201ccorner plots\u201d.\nUltranest corner plot function is a wrapper around the [corner](https://corner.readthedocs.io/en/latest/api)_ package.\nSee the above link for optional keywords.\nOther packages exist for corner plots, like\n[chainconsumer](https://samreay.github.io/ChainConsumer)_ which is discussed later in this tutorial.\n\n"
      ]
    },
    {
      "cell_type": "code",
      "execution_count": null,
      "metadata": {
        "collapsed": false
      },
      "outputs": [],
      "source": [
        "from ultranest.plot import cornerplot\n\ncornerplot(\n    result_joint.sampler_results,\n    plot_datapoints=True,\n    plot_density=True,\n    bins=20,\n    title_fmt=\".2e\",\n    smooth=False,\n)\nplt.show()"
      ]
    },
    {
      "cell_type": "markdown",
      "metadata": {},
      "source": [
        "## Individual run analysis\n\nNow we\u2019ll analyse several Crab runs individually so that we can compare\nthem.\n\n\n"
      ]
    },
    {
      "cell_type": "code",
      "execution_count": null,
      "metadata": {
        "collapsed": false
      },
      "outputs": [],
      "source": [
        "result_0 = sampler.run(datasets[0])\nresult_1 = sampler.run(datasets[1])\nresult_2 = sampler.run(datasets[2])"
      ]
    },
    {
      "cell_type": "markdown",
      "metadata": {},
      "source": [
        "## Comparing the posterior distribution of all runs\n\nFor a comparison of different posterior distributions, we can use the\npackage chainconsumer.\nAs this is not a Gammapy dependency, you\u2019ll need to install it.\nMore info here : https://samreay.github.io/ChainConsumer/\n\n\n"
      ]
    },
    {
      "cell_type": "code",
      "execution_count": null,
      "metadata": {
        "collapsed": false
      },
      "outputs": [],
      "source": [
        "# Uncomment this if you have installed `chainconsumer`.\n\n# from chainconsumer import Chain, ChainConfig, ChainConsumer, PlotConfig, Truth, make_sample\n# from pandas import DataFrame\n# c = ChainConsumer()\n# def create_chain(result, name, color=\"k\"):\n#    return Chain(\n#        samples=DataFrame(result, columns=[\"index\", \"amplitude\"]),\n#        name=name,\n#        color=color,\n#        smooth=7,\n#        shade=False,\n#        linewidth=1.0,\n#        cmap=\"magma\",\n#        show_contour_labels=True,\n#        kde= True\n#    )\n# c.add_chain(create_chain(result_joint.samples, \"joint\"))\n# c.add_chain(create_chain(result_0.samples, \"run0\", \"g\"))\n# c.add_chain(create_chain(result_1.samples, \"run1\", \"b\"))\n# c.add_chain(create_chain(result_2.samples, \"run2\", \"y\"))\n# fig = c.plotter.plot()\n# plt.show()"
      ]
    },
    {
      "cell_type": "markdown",
      "metadata": {},
      "source": [
        "## Corner plot comparison\n\n.. figure:: ../../_static/cornerplot-multiple-runs-Crab.png\n    :alt: Corner plot of Crab runs\n\n    Corner plot comparing the three Crab runs.\n\n\nWe can see the joint analysis allows to better constrain the\nparameters than the individual runs (more observation time is of\ncourse better).\nOne can note as well that one of the run has a notably different\namplitude (possibly due to calibrations or/and atmospheric issues).\n\n\n"
      ]
    }
  ],
  "metadata": {
    "kernelspec": {
      "display_name": "Python 3",
      "language": "python",
      "name": "python3"
    },
    "language_info": {
      "codemirror_mode": {
        "name": "ipython",
        "version": 3
      },
      "file_extension": ".py",
      "mimetype": "text/x-python",
      "name": "python",
      "nbconvert_exporter": "python",
      "pygments_lexer": "ipython3",
      "version": "3.11.12"
    }
  },
  "nbformat": 4,
  "nbformat_minor": 0
}