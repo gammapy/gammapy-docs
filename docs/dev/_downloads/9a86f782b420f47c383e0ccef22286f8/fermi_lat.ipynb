{
  "cells": [
    {
      "cell_type": "markdown",
      "metadata": {},
      "source": [
        "\n# Fermi-LAT with Gammapy\n\nData inspection and preliminary analysis with Fermi-LAT data.\n\n## Introduction\n\nGammapy fully supports Fermi-LAT data analysis from DL4 level (binned\nmaps). In order to perform data reduction from the events list and\nspacecraft files to binned counts and IRFs maps we recommend to use\n[Fermipy](http://fermipy.readthedocs.io/)_, which is based on\nthe [Fermi Science\nTools](https://fermi.gsfc.nasa.gov/ssc/data/analysis/software/)_\n(Fermi ST).\n\nUsing Gammapy with Fermi-LAT data could be an option for you if you want\nto do an analysis that is not easily possible with Fermipy and the Fermi\nScience Tools. For example a joint likelihood fit of Fermi-LAT data with\ndata e.g. from H.E.S.S., MAGIC, VERITAS or some other instrument, or\nanalysis of Fermi-LAT data with a complex spatial or spectral model that\nis not available in Fermipy or the Fermi ST.\n\nThis tutorial will show you how to convert Fermi-LAT data into a DL4\nformat  that can be used by Gammapy (`~gammapy.datasets.MapDataset`) and perform a 3D analysis. As an\nexample, we will look at the Galactic center.\nWe are going to analyses high-energy data from 10 GeV from 1 TeV (in reconstructed energy).\n\n## Setup\n\nFor this notebook you have to get the prepared\n`fermi-gc` data provided in your `$GAMMAPY_DATA`.\n"
      ]
    },
    {
      "cell_type": "code",
      "execution_count": null,
      "metadata": {
        "collapsed": false
      },
      "outputs": [],
      "source": [
        "# %matplotlib inline\n\nimport numpy as np\nfrom astropy import units as u\nimport matplotlib.pyplot as plt\n\nfrom gammapy.catalog import CATALOG_REGISTRY\nfrom gammapy.datasets import Datasets, FermipyDatasetsReader\nfrom gammapy.estimators import TSMapEstimator\nfrom gammapy.maps import Map\nfrom gammapy.modeling import Fit\nfrom gammapy.modeling.models import (\n    Models,\n    PointSpatialModel,\n    PowerLawSpectralModel,\n    TemplateSpatialModel,\n    SkyModel,\n    PowerLawNormSpectralModel,\n)\nfrom gammapy.utils.scripts import make_path"
      ]
    },
    {
      "cell_type": "markdown",
      "metadata": {},
      "source": [
        "### Check setup\n\nWe check the setup in this tutorial, as we require specific files to be\ndownloaded to continue.\n\n"
      ]
    },
    {
      "cell_type": "code",
      "execution_count": null,
      "metadata": {
        "collapsed": false
      },
      "outputs": [],
      "source": [
        "from gammapy.utils.check import check_tutorials_setup\n\ncheck_tutorials_setup()"
      ]
    },
    {
      "cell_type": "markdown",
      "metadata": {},
      "source": [
        "## Fermipy configuration file\n\nGammapy can utilise the same configuration file as Fermipy to convert\nthe Fermipy-generated maps into Gammapy datasets. For more information on the\nstructure of these files, refer to the [Fermipy configuration\npage](https://fermipy.readthedocs.io/en/latest/config.html)_. In this\ntutorial, we will analyse Galactic center data generated with Fermipy version 1.3 and\nthe configuration given in\n`$GAMMAPY_DATA/fermi-gc/config_fermipy_gc_example.yaml`:\n\n\n"
      ]
    },
    {
      "cell_type": "markdown",
      "metadata": {},
      "source": [
        ".. code:: yaml\n\n   # Fermipy example configuration\n   # for details, see https://fermipy.readthedocs.io/en/latest/config.html\n   # For IRFs, event type and event class options, see https://fermi.gsfc.nasa.gov/ssc/data/analysis/documentation/Cicerone/Cicerone_Data/LAT_DP.html\n   components:\n     - model: {isodiff: $FERMI_DIR/refdata/fermi/galdiffuse/iso_P8R3_CLEAN_V3_PSF2_v1.txt}\n       selection: {evtype: 16}  #4 is PSF0, 8 PSF1, 16 PSF2, 32 PSF3\n       data: {ltcube: null}\n     - model: {isodiff: $FERMI_DIR/refdata/fermi/galdiffuse/iso_P8R3_CLEAN_V3_PSF3_v1.txt}\n       selection: {evtype: 32}\n       data: {ltcube: null}\n\n   data:\n     evfile : ./raw/events_list.lst\n     scfile : ./raw/L241227031840F357373F12_SC00.fits\n\n   binning:\n     roiwidth   : 8.0\n     binsz      : 0.1\n     binsperdec   : 10\n     coordsys : GAL\n     proj: CAR\n     projtype: WCS\n\n   selection :\n   # gtselect parameters\n     emin : 3981.0717055349733 # ENERGY TRUE for Gammapy\n     emax : 2511886.4315095823 # ENERGY TRUE for Gammapy\n     zmax    : 105 # deg\n     evclass : 256 # CLEAN\n     tmin    : 239557417\n     tmax    : 752112005\n\n   # gtmktime parameters\n     filter : 'DATA_QUAL>0 && LAT_CONFIG==1'\n     roicut : 'no'\n\n   # Set the ROI center to the coordinates of this source\n     glon : 0.\n     glat : 0.\n\n   fileio:\n      outdir : ''\n      logfile : 'out.log'\n      usescratch : False\n      scratchdir  : '/scratch'\n\n   gtlike:\n     edisp : True\n     edisp_bins : 0 # DO NOT CHANGE edisp_bins will be handled by Gammapy\n     irfs : 'P8R3_CLEAN_V3'\n\n   model:\n     src_roiwidth : 10.0 # This is used by Fermipy to compute the PSF RADMAX, even if no models are set\n\n\n"
      ]
    },
    {
      "cell_type": "markdown",
      "metadata": {},
      "source": [
        "The most important points for Gammapy users are:\n\n- ``emin`` and ``emax`` in this file should be considered as the energy true range.\n  It should be larger that the reconstructed energy range.\n- ``edisp_bins : 0`` is strongly recommended at this stage otherwise you\n  might face inconsistencies in the energy axes of the different IRFs created by Fermipy.\n- The ``edisp_bins`` value will be redefined later on by Gammapy as a positive value\n  in order to create the reconstructed energy axis properly.\n- If you want to use the `$FERMI_DIR` variable to read the background models\n  it must also be defined in your Gammapy environment,\n  otherwise you have to define your own paths.\n- For this tutorial we copied the iso files in `$GAMMAPY_DATA/fermi-gc` and\n  edited the paths in the yaml file for simplicity.\n\nMore generally in order to select a good binning it is important to know\nthe instrument resolution, for that you can have a quick look at the\nIRFs in the [Fermi-LAT performance\npage](https://www.slac.stanford.edu/exp/glast/groups/canda/lat_Performance.htm)_.\n\nSince the energy resolution varies with energy, it is important to\nchoose an energy binning that is fine enough to capture this energy\ndependence. That is why we recommend a binning with 8 to 10 bins per\ndecade. The energy axes will be created such as it is linear in log space\nso it's better to define ``emin`` and ``emax`` such as they align with a log binning.\nHere we have as true energy range $\\log(emin) = 0.6 \\sim 4$ GeV to\n$\\log(emax) = 3.4 \\sim 2500$ GeV.\nWhile the reconstructed energy range of our analysis will be 10 GeV to 1000 GeV.\n\nThe spatial binning should be of the same order of the PSF 68%\ncontainment radius which is in average 0.1 degree above 10 GeV and\nrapidly increases at lower energy. Ideally it should remain within a\nfactor of 2 or 3 of the PSF radius at most. In order to properly take\ninto account for the sources outside the region of interest that\ncontribute inside due to the PSF we have to define a wider ``roiwidth``\nthan our actual region of interest. Typically, we need a margin equal to the\n99% containment of the PSF on each side. Above 10 GeV considering only\nPSF2&3 the 99% PSF containment radius is about 1 degree. Thus, if we\nwant to study a 3 degree radius around the GC we have to take a ``roiwidth`` of 8\ndeg. (If considering lower energies or including PSF0 and PSF1, it should be much\nlarger).\n\n\n"
      ]
    },
    {
      "cell_type": "markdown",
      "metadata": {},
      "source": [
        "## From Fermipy maps to Gammapy datasets\n\nIn your Fermipy environment you have to run the following commands\n\n.. code:: python\n\n   from fermipy.gtanalysis import GTAnalysis\n   gta = GTAnalysis('config_fermipy_gc_example.yaml',logging={'verbosity' : 3})\n   gta.setup()\n\n   gta.compute_psf(overwrite=True) # this creates the psf kernel\n   gta.compute_drm(edisp_bins=0, overwrite=True) # this creates the energy dispersion matrix\n   # DO NOT CHANGE edisp_bins here, it will be redefined by Gammapy later on\n\nThis will produce a number of files including:\n\n- \u201cccube_00.fits\u201d (counts)\n- \u201cbexpmap_00.fits\u201d (exposure)\n- \u201cpsf_00.fits\u201d (psf)\n- \u201cdrm_00.fits\u201d (edisp)\n\n\n\n"
      ]
    },
    {
      "cell_type": "markdown",
      "metadata": {},
      "source": [
        "In your Gammapy environment you can create the datasets using the\nsame configuration file.\n\n\n"
      ]
    },
    {
      "cell_type": "code",
      "execution_count": null,
      "metadata": {
        "collapsed": false
      },
      "outputs": [],
      "source": [
        "reader = FermipyDatasetsReader(\n    \"$GAMMAPY_DATA/fermi-gc/config_fermipy_gc_example.yaml\", edisp_bins=4\n)\ndatasets = reader.read()\nprint(datasets)"
      ]
    },
    {
      "cell_type": "markdown",
      "metadata": {},
      "source": [
        "Note that the ``edisp_bins`` is set again here as a positive number so\nGammapy can create its reconstructed energy axis properly. The energy\ndispersion correction implemented Gammapy is closer to the version\nimplemented in Fermitools >1.2.0, which take into account the interplay\nbetween the energy dispersion and PSF.\n\nAcross most of the Fermi energy range, the level of migration in log10(E)\nremains within 0.2, increasing up to 0.4 below 100 MeV,\ndue to energy dispersion. Therefore, we recommend that the\nproduct of \\|edisp_bins\\| and the width of the log10(E) bins be at\nleast equal to 0.2. For a binning of 8 to 10 bins per decade, this\ncorresponds to \\|edisp_bins\\| \u2265 2. For further information, see\n[Pass8_edisp_usage](https://fermi.gsfc.nasa.gov/ssc/data/analysis/documentation/Pass8_edisp_usage.html)_.\nIn our case, we have 10 bins per decade and true energy axis starts\nat about 4 GeV, so with ``edisp_bins=4`` the reconstructed energy axis\nstarts at 10 GeV:\n\n\n"
      ]
    },
    {
      "cell_type": "code",
      "execution_count": null,
      "metadata": {
        "collapsed": false
      },
      "outputs": [],
      "source": [
        "print(datasets[0].exposure.geom.axes[\"energy_true\"])\nprint(datasets[0].counts.geom.axes[\"energy\"])"
      ]
    },
    {
      "cell_type": "markdown",
      "metadata": {},
      "source": [
        "Note that selecting ``edisp_bins=2`` means the reconstructed energy\nof the counts geometry will start at $10^{0.8} \\sim 6.3$ GeV.\nIf we want to start the analysis at 10 GeV in this case, we need to\nupdate the ``mask_fit`` to exclude the first 2 reconstructed energy bins.\nConsidering more ``edisp_bins`` is generally safer but requires more memory\nand increases computation time.\n\nAlternatively, if you created the counts and IRF files from the\nFermi-LAT science tools without Fermipy you can use the\n``create_dataset``  method. Note that in this case we cannot guarantee\nthat your maps have the correct axes dimensions to be properly converted\ninto Gammapy datasets.\n\n\n"
      ]
    },
    {
      "cell_type": "code",
      "execution_count": null,
      "metadata": {
        "collapsed": false
      },
      "outputs": [],
      "source": [
        "path = make_path(\"$GAMMAPY_DATA/fermi-gc\")\ndataset0 = reader.create_dataset(\n    path / \"ccube_00.fits\",\n    path / \"bexpmap_00.fits\",\n    path / \"psf_00.fits\",\n    path / \"drm_00.fits\",\n    isotropic_file=None,\n    edisp_bins=0,\n    name=\"fermi_lat_gc_psf2\",\n)\ndataset1 = reader.create_dataset(\n    path / \"ccube_01.fits\",\n    path / \"bexpmap_01.fits\",\n    path / \"psf_01.fits\",\n    path / \"drm_01.fits\",\n    isotropic_file=None,\n    edisp_bins=0,\n    name=\"fermi_lat_gc_psf3\",\n)\n\ndatasets_fromST = Datasets([dataset0, dataset1])\n\n\n# The above was an alternative reading method we don't need those after\ndel dataset0, dataset1, datasets_fromST"
      ]
    },
    {
      "cell_type": "markdown",
      "metadata": {},
      "source": [
        "## Fermi-LAT IRF properties\n\n### Exposure\n\n\n"
      ]
    },
    {
      "cell_type": "markdown",
      "metadata": {},
      "source": [
        "Exposure is almost constant across the field of view, with less than 5%\nvariation at a given energy.\n\n\n"
      ]
    },
    {
      "cell_type": "code",
      "execution_count": null,
      "metadata": {
        "collapsed": false
      },
      "outputs": [],
      "source": [
        "datasets[0].exposure.plot_interactive(add_cbar=True)\nplt.show()"
      ]
    },
    {
      "cell_type": "markdown",
      "metadata": {},
      "source": [
        "### PSF\n\nFor Fermi-LAT, the PSF only varies little within a given regions of\nthe sky, especially at high energies like what we have here.\nSo we have only one PSF kernel.\n\n\n"
      ]
    },
    {
      "cell_type": "code",
      "execution_count": null,
      "metadata": {
        "collapsed": false
      },
      "outputs": [],
      "source": [
        "datasets[0].psf.plot_containment_radius_vs_energy(fraction=(0.68, 0.95, 0.99))\nplt.show()"
      ]
    },
    {
      "cell_type": "markdown",
      "metadata": {},
      "source": [
        "## Region of interest and mask definition\n\nAs mentioned previously, the width of dataset is larger that our actual\nregion of interest in order to properly take into account for the\nsources outside that contributes inside due to the PSF. So we define the\nvalid RoI for fitting by creating a ``mask_fit``.\n\n\n"
      ]
    },
    {
      "cell_type": "code",
      "execution_count": null,
      "metadata": {
        "collapsed": false
      },
      "outputs": [],
      "source": [
        "margin = (\n    2.0 * u.deg\n)  # >1 deg should be fine for this dataset we take 2 so the notebook is faster\ngeom = datasets[0].counts.geom\nmask_fit = Map.from_geom(geom, data=True, dtype=bool)\nmask_fit = mask_fit.binary_erode(width=margin, kernel=\"disk\")\n\nmask_fit.plot_interactive()\nplt.show()"
      ]
    },
    {
      "cell_type": "markdown",
      "metadata": {},
      "source": [
        "Now we attach it the datasets\n\n\n"
      ]
    },
    {
      "cell_type": "code",
      "execution_count": null,
      "metadata": {
        "collapsed": false
      },
      "outputs": [],
      "source": [
        "for d in datasets:\n    d.mask_fit = mask_fit"
      ]
    },
    {
      "cell_type": "markdown",
      "metadata": {},
      "source": [
        "## Models\n\n### Isotropic diffuse background\n\nThe `~gammapy.datasets.FermipyDatasetsReader` also created one isotropic diffuse model\nfor each dataset:\n\n\n"
      ]
    },
    {
      "cell_type": "code",
      "execution_count": null,
      "metadata": {
        "collapsed": false
      },
      "outputs": [],
      "source": [
        "models_iso = Models(datasets.models)\nprint(models_iso)"
      ]
    },
    {
      "cell_type": "markdown",
      "metadata": {},
      "source": [
        "### Galactic diffuse background\n\n\n"
      ]
    },
    {
      "cell_type": "markdown",
      "metadata": {},
      "source": [
        "The Fermi-LAT collaboration provides a galactic diffuse emission model,\nthat can be used as a background model for Fermi-LAT source analysis.\nThese files are called usually IEM for interstellar emission model, the\nlatest is\n[gll_iem_v07.fits](https://fermi.gsfc.nasa.gov/ssc/data/analysis/software/aux/4fgl/gll_iem_v07.fits)_.\nFor details see the [BackgroundModels\npage](https://fermi.gsfc.nasa.gov/ssc/data/access/lat/BackgroundModels.html)_.\nIf you have Fermipy installed it can also be found in\n`$FERMI_DIR/refdata/fermi/galdiffuse/gll_iem_v07.fits`\n\nDiffuse model maps are very large (100s of MB), so as an example here,\nwe just load one that represents a small cutout for the Galactic center\nregion.\n\nIn this case, the maps are already in differential units, so we do not\nwant to normalise it again.\n\n\n"
      ]
    },
    {
      "cell_type": "code",
      "execution_count": null,
      "metadata": {
        "collapsed": false
      },
      "outputs": [],
      "source": [
        "template_iem = TemplateSpatialModel.read(\n    filename=\"$GAMMAPY_DATA/fermi-gc/gll_iem_v07_gc.fits.gz\", normalize=False\n)\n\nmodel_iem = SkyModel(\n    spectral_model=PowerLawNormSpectralModel(),\n    spatial_model=template_iem,\n    name=\"diffuse-iem\",\n)"
      ]
    },
    {
      "cell_type": "markdown",
      "metadata": {},
      "source": [
        "Let\u2019s look at the template :\n\n\n"
      ]
    },
    {
      "cell_type": "code",
      "execution_count": null,
      "metadata": {
        "collapsed": false
      },
      "outputs": [],
      "source": [
        "template_iem.map.plot_interactive(add_cbar=True)\nplt.show()\n\n\nmodels_diffuse = models_iso + model_iem"
      ]
    },
    {
      "cell_type": "markdown",
      "metadata": {},
      "source": [
        "### Sources\n\nSource models can be loaded from the 4FGL catalog directly available in\n`$GAMMAPY_DATA`. For details see the [Fermi-LAT catalog\npage](https://fermi.gsfc.nasa.gov/ssc/data/access/lat/14yr_catalog/)_.\n\n\n"
      ]
    },
    {
      "cell_type": "code",
      "execution_count": null,
      "metadata": {
        "collapsed": false
      },
      "outputs": [],
      "source": [
        "catalog_4fgl = CATALOG_REGISTRY.get_cls(\"4fgl\")()  # load 4FGL catalog"
      ]
    },
    {
      "cell_type": "markdown",
      "metadata": {},
      "source": [
        "We want to select only the sources inside the dataset spatial geometry:\n\n\n"
      ]
    },
    {
      "cell_type": "code",
      "execution_count": null,
      "metadata": {
        "collapsed": false
      },
      "outputs": [],
      "source": [
        "in_geom = geom.to_image().contains(catalog_4fgl.positions)\ncatalog_4fgl_gc = catalog_4fgl[in_geom]\n\nmodels_4fgl_gc = catalog_4fgl_gc.to_models()"
      ]
    },
    {
      "cell_type": "markdown",
      "metadata": {},
      "source": [
        "That's still quite a lot of sources\n\n\n"
      ]
    },
    {
      "cell_type": "code",
      "execution_count": null,
      "metadata": {
        "collapsed": false
      },
      "outputs": [],
      "source": [
        "print(\"Number of source models\", len(models_4fgl_gc))"
      ]
    },
    {
      "cell_type": "markdown",
      "metadata": {},
      "source": [
        "In order to improve performances we can store all the sources outside\nthe ``mask_fit`` region into a single template (the same could be done\nfor all the sources we want to keep frozen).\n\n\n"
      ]
    },
    {
      "cell_type": "code",
      "execution_count": null,
      "metadata": {
        "collapsed": false
      },
      "outputs": [],
      "source": [
        "sources_ouside_roi = models_4fgl_gc.select_mask(~mask_fit, use_evaluation_region=False)\nsources_inside_roi = Models([m for m in models_4fgl_gc if m not in sources_ouside_roi])\n\ngeom_true = datasets[0].exposure.geom\nsources_outside_roi = sources_ouside_roi.to_template_sky_model(\n    geom_true, name=\"sources_outside\"\n)\n\nsources_outside_roi.spatial_model.filename = \"sources_outside.fits\"\n\nsources_outside_roi.spatial_model.map.plot_interactive(add_cbar=True)\nplt.show()"
      ]
    },
    {
      "cell_type": "markdown",
      "metadata": {},
      "source": [
        "Now we have less models to describe the sources\n\n\n"
      ]
    },
    {
      "cell_type": "code",
      "execution_count": null,
      "metadata": {
        "collapsed": false
      },
      "outputs": [],
      "source": [
        "models_sources = sources_inside_roi + sources_outside_roi\n\nprint(\"Number of source models\", len(models_sources))"
      ]
    },
    {
      "cell_type": "markdown",
      "metadata": {},
      "source": [
        "## Fit\n\nNow, the big finale: let\u2019s do a 3D of the brightest sources and IEM\nmodels.\n\nFirst we attach the models to the datasets.\n\n\n"
      ]
    },
    {
      "cell_type": "code",
      "execution_count": null,
      "metadata": {
        "collapsed": false
      },
      "outputs": [],
      "source": [
        "models = models_sources + models_diffuse\n\ndatasets.models = models\n\nprint(\"Number of models\", len(models))"
      ]
    },
    {
      "cell_type": "markdown",
      "metadata": {},
      "source": [
        "Let\u2019s find the 3 brightest sources:\n\n\n"
      ]
    },
    {
      "cell_type": "code",
      "execution_count": null,
      "metadata": {
        "collapsed": false
      },
      "outputs": [],
      "source": [
        "n_brightest = 3\nintegrated_flux = u.Quantity(\n    [m.spectral_model.integral(10 * u.GeV, 1 * u.TeV) for m in sources_inside_roi]\n)\norder = np.argsort(integrated_flux)\nselected_sources = Models([sources_inside_roi[int(ii)] for ii in order[:n_brightest]])\n\nprint(selected_sources.names)\n\nfree_models = selected_sources + model_iem"
      ]
    },
    {
      "cell_type": "markdown",
      "metadata": {},
      "source": [
        "We keep only their normalisation free for simplicity:\n\n\n"
      ]
    },
    {
      "cell_type": "code",
      "execution_count": null,
      "metadata": {
        "collapsed": false
      },
      "outputs": [],
      "source": [
        "models.freeze()  # freeze all parameters\n\n# and unfreeze only the amplitude or norm of the selected models\nfor p in free_models.parameters:\n    if p.name in [\"amplitude\", \"norm\"]:\n        p.frozen = False\n        p.min = 0\n\nprint(\"Number of free parameters\", len(models.parameters.free_parameters))\n\nfit = Fit()\nresult = fit.run(datasets=datasets)\n\nprint(result)"
      ]
    },
    {
      "cell_type": "markdown",
      "metadata": {},
      "source": [
        "## Residual TS map\n\nNow we can look at the residual TS map to check there is no significant\nexcess left:\n\n\n"
      ]
    },
    {
      "cell_type": "code",
      "execution_count": null,
      "metadata": {
        "collapsed": false
      },
      "outputs": [],
      "source": [
        "spatial_model = PointSpatialModel()\nspectral_model = PowerLawSpectralModel(index=2)\nmodel = SkyModel(spatial_model=spatial_model, spectral_model=spectral_model)\n\nts_estimator = TSMapEstimator(\n    model,\n    kernel_width=\"1 deg\",  # this set close to the 95-99% containment radius of the PSF\n    selection_optional=[],\n    sum_over_energy_groups=True,\n    energy_edges=[10, 1000] * u.GeV,\n)\n\n\nts_results = ts_estimator.run(datasets)\n\n\nimage = ts_results[\"sqrt_ts\"]\nimage = image.cutout(\n    image.geom.center_skydir, width=np.max(image.geom.width) - 2 * margin\n)\n\nfig = plt.figure(figsize=(7, 5))\nax = image.plot(\n    clim=[-8, 8],\n    cmap=plt.cm.RdBu_r,\n    add_cbar=True,\n    kwargs_colorbar={\"label\": r\"$\\sqrt{TS}$ [$\\sigma$]\"},\n)\nsources_inside_roi.plot_regions(\n    ax=ax, edgecolor=\"g\", linestyle=\"-\", kwargs_point=dict(marker=\".\")\n)\nplt.show()"
      ]
    },
    {
      "cell_type": "markdown",
      "metadata": {},
      "source": [
        "## Serialisation\n\nTo serialise the created dataset, you must proceed through the Datasets\nAPI\n\n\n"
      ]
    },
    {
      "cell_type": "code",
      "execution_count": null,
      "metadata": {
        "collapsed": false
      },
      "outputs": [],
      "source": [
        "datasets.write(\n    filename=\"fermi_lat_gc_datasets.yaml\",\n    filename_models=\"fermi_lat_gc_models.yaml\",\n    overwrite=True,\n)\ndatasets_read = Datasets.read(\n    filename=\"fermi_lat_gc_datasets.yaml\", filename_models=\"fermi_lat_gc_models.yaml\"\n)"
      ]
    },
    {
      "cell_type": "markdown",
      "metadata": {},
      "source": [
        "## Exercises\n\n- Fit the position and spectrum of the source [SNR\n  G0.9+0.1](http://gamma-sky.net/#/cat/tev/110)_.\n- Make maps and fit the position and spectrum of the [Crab\n  nebula](http://gamma-sky.net/#/cat/tev/25)_.\n\n\n"
      ]
    },
    {
      "cell_type": "markdown",
      "metadata": {},
      "source": [
        "## Summary\n\nIn this tutorial you have seen how to work with Fermi-LAT data with\nGammapy. You have to use Fermipy or the Fermi ST to perform the data\nreduction then you can use Gammapy for analysis using the same methods\nthat are used to analyse IACT data.\n\n\n"
      ]
    }
  ],
  "metadata": {
    "kernelspec": {
      "display_name": "Python 3",
      "language": "python",
      "name": "python3"
    },
    "language_info": {
      "codemirror_mode": {
        "name": "ipython",
        "version": 3
      },
      "file_extension": ".py",
      "mimetype": "text/x-python",
      "name": "python",
      "nbconvert_exporter": "python",
      "pygments_lexer": "ipython3",
      "version": "3.11.14"
    }
  },
  "nbformat": 4,
  "nbformat_minor": 0
}