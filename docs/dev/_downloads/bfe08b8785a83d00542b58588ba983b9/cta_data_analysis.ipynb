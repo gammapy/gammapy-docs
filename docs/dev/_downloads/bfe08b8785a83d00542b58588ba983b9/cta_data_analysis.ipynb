{
  "cells": [
    {
      "cell_type": "code",
      "execution_count": null,
      "metadata": {
        "collapsed": false
      },
      "outputs": [],
      "source": [
        "%matplotlib inline"
      ]
    },
    {
      "cell_type": "markdown",
      "metadata": {},
      "source": [
        "\n# Basic image exploration and fitting\n\nDetect sources, produce a sky image and a spectrum using CTA 1DC data.\n\n## Introduction\n\n**This notebook shows an example how to make a sky image and spectrum\nfor simulated CTA data with Gammapy.**\n\nThe dataset we will use is three observation runs on the Galactic\ncenter. This is a tiny (and thus quick to process and play with and\nlearn) subset of the simulated CTA dataset that was produced for the\nfirst data challenge in August 2017.\n"
      ]
    },
    {
      "cell_type": "markdown",
      "metadata": {},
      "source": [
        "## Setup\n\nAs usual, we\u2019ll start with some setup \u2026\n\n\n"
      ]
    },
    {
      "cell_type": "code",
      "execution_count": null,
      "metadata": {
        "collapsed": false
      },
      "outputs": [],
      "source": [
        "# Configure the logger, so that the spectral analysis\n# isn't so chatty about what it's doing.\nimport logging\nimport numpy as np\nimport astropy.units as u\nfrom astropy.coordinates import SkyCoord\nfrom regions import CircleSkyRegion\n\n# %matplotlib inline\nimport matplotlib.pyplot as plt\nfrom IPython.display import display\nfrom gammapy.data import DataStore\nfrom gammapy.datasets import Datasets, FluxPointsDataset, MapDataset, SpectrumDataset\nfrom gammapy.estimators import FluxPointsEstimator, TSMapEstimator\nfrom gammapy.estimators.utils import find_peaks\nfrom gammapy.makers import (\n    MapDatasetMaker,\n    ReflectedRegionsBackgroundMaker,\n    SafeMaskMaker,\n    SpectrumDatasetMaker,\n)\nfrom gammapy.maps import MapAxis, RegionGeom, WcsGeom\nfrom gammapy.modeling import Fit\nfrom gammapy.modeling.models import (\n    GaussianSpatialModel,\n    PowerLawSpectralModel,\n    SkyModel,\n)\nfrom gammapy.visualization import plot_spectrum_datasets_off_regions\n\nlogging.basicConfig()\nlog = logging.getLogger(\"gammapy.spectrum\")\nlog.setLevel(logging.ERROR)"
      ]
    },
    {
      "cell_type": "markdown",
      "metadata": {},
      "source": [
        "## Check setup\n\n"
      ]
    },
    {
      "cell_type": "code",
      "execution_count": null,
      "metadata": {
        "collapsed": false
      },
      "outputs": [],
      "source": [
        "from gammapy.utils.check import check_tutorials_setup\n\ncheck_tutorials_setup()"
      ]
    },
    {
      "cell_type": "markdown",
      "metadata": {},
      "source": [
        "## Select observations\n\nA Gammapy analysis usually starts by creating a\n`~gammapy.data.DataStore` and selecting observations.\n\nThis is shown in detail in the other notebook, here we just pick three\nobservations near the galactic center.\n\n\n"
      ]
    },
    {
      "cell_type": "code",
      "execution_count": null,
      "metadata": {
        "collapsed": false
      },
      "outputs": [],
      "source": [
        "data_store = DataStore.from_dir(\"$GAMMAPY_DATA/cta-1dc/index/gps\")\n\n# Just as a reminder: this is how to select observations\n# from astropy.coordinates import SkyCoord\n# table = data_store.obs_table\n# pos_obs = SkyCoord(table['GLON_PNT'], table['GLAT_PNT'], frame='galactic', unit='deg')\n# pos_target = SkyCoord(0, 0, frame='galactic', unit='deg')\n# offset = pos_target.separation(pos_obs).deg\n# mask = (1 < offset) & (offset < 2)\n# table = table[mask]\n# table.show_in_browser(jsviewer=True)\n\nobs_id = [110380, 111140, 111159]\nobservations = data_store.get_observations(obs_id)\n\nobs_cols = [\"OBS_ID\", \"GLON_PNT\", \"GLAT_PNT\", \"LIVETIME\"]\ndisplay(data_store.obs_table.select_obs_id(obs_id)[obs_cols])"
      ]
    },
    {
      "cell_type": "markdown",
      "metadata": {},
      "source": [
        "## Make sky images\n\n### Define map geometry\n\nSelect the target position and define an ON region for the spectral\nanalysis\n\n\n"
      ]
    },
    {
      "cell_type": "code",
      "execution_count": null,
      "metadata": {
        "collapsed": false
      },
      "outputs": [],
      "source": [
        "axis = MapAxis.from_edges(\n    np.logspace(-1.0, 1.0, 10), unit=\"TeV\", name=\"energy\", interp=\"log\"\n)\ngeom = WcsGeom.create(\n    skydir=(0, 0), npix=(500, 400), binsz=0.02, frame=\"galactic\", axes=[axis]\n)\nprint(geom)"
      ]
    },
    {
      "cell_type": "markdown",
      "metadata": {},
      "source": [
        "### Compute images\n\n\n"
      ]
    },
    {
      "cell_type": "code",
      "execution_count": null,
      "metadata": {
        "collapsed": false
      },
      "outputs": [],
      "source": [
        "stacked = MapDataset.create(geom=geom)\nstacked.edisp = None\nmaker = MapDatasetMaker(selection=[\"counts\", \"background\", \"exposure\", \"psf\"])\nmaker_safe_mask = SafeMaskMaker(methods=[\"offset-max\"], offset_max=2.5 * u.deg)\n\nfor obs in observations:\n    cutout = stacked.cutout(obs.pointing_radec, width=\"5 deg\")\n    dataset = maker.run(cutout, obs)\n    dataset = maker_safe_mask.run(dataset, obs)\n    stacked.stack(dataset)\n\n#\n# The maps are cubes, with an energy axis.\n# Let's also make some images:\n#\n\ndataset_image = stacked.to_image()\ngeom_image = dataset_image.geoms[\"geom\"]"
      ]
    },
    {
      "cell_type": "markdown",
      "metadata": {},
      "source": [
        "### Show images\n\nLet\u2019s have a quick look at the images we computed \u2026\n\n\n"
      ]
    },
    {
      "cell_type": "code",
      "execution_count": null,
      "metadata": {
        "collapsed": false
      },
      "outputs": [],
      "source": [
        "fig, (ax1, ax2, ax3) = plt.subplots(\n    figsize=(15, 5),\n    ncols=3,\n    subplot_kw={\"projection\": geom_image.wcs},\n    gridspec_kw={\"left\": 0.1, \"right\": 0.9},\n)\n\nax1.set_title(\"Counts map\")\ndataset_image.counts.smooth(2).plot(ax=ax1, vmax=5)\n\nax2.set_title(\"Background map\")\ndataset_image.background.plot(ax=ax2, vmax=5)\n\nax3.set_title(\"Excess map\")\ndataset_image.excess.smooth(3).plot(ax=ax3, vmax=2)"
      ]
    },
    {
      "cell_type": "markdown",
      "metadata": {},
      "source": [
        "## Source Detection\n\nUse the class `~gammapy.estimators.TSMapEstimator` and function\n`~gammapy.estimators.utils.find_peaks` to detect sources on the images.\nWe search for 0.1 deg sigma gaussian sources in the dataset.\n\n\n"
      ]
    },
    {
      "cell_type": "code",
      "execution_count": null,
      "metadata": {
        "collapsed": false
      },
      "outputs": [],
      "source": [
        "spatial_model = GaussianSpatialModel(sigma=\"0.05 deg\")\nspectral_model = PowerLawSpectralModel(index=2)\nmodel = SkyModel(spatial_model=spatial_model, spectral_model=spectral_model)\n\nts_image_estimator = TSMapEstimator(\n    model,\n    kernel_width=\"0.5 deg\",\n    selection_optional=[],\n    downsampling_factor=2,\n    sum_over_energy_groups=False,\n    energy_edges=[0.1, 10] * u.TeV,\n)"
      ]
    },
    {
      "cell_type": "code",
      "execution_count": null,
      "metadata": {
        "collapsed": false
      },
      "outputs": [],
      "source": [
        "images_ts = ts_image_estimator.run(stacked)\n\nsources = find_peaks(\n    images_ts[\"sqrt_ts\"],\n    threshold=5,\n    min_distance=\"0.2 deg\",\n)\ndisplay(sources)"
      ]
    },
    {
      "cell_type": "markdown",
      "metadata": {},
      "source": [
        "To get the position of the sources, simply\n\n\n"
      ]
    },
    {
      "cell_type": "code",
      "execution_count": null,
      "metadata": {
        "collapsed": false
      },
      "outputs": [],
      "source": [
        "source_pos = SkyCoord(sources[\"ra\"], sources[\"dec\"])\nprint(source_pos)"
      ]
    },
    {
      "cell_type": "markdown",
      "metadata": {},
      "source": [
        "Plot sources on top of significance sky image\n\n\n"
      ]
    },
    {
      "cell_type": "code",
      "execution_count": null,
      "metadata": {
        "collapsed": false
      },
      "outputs": [],
      "source": [
        "fig, ax = plt.subplots(figsize=(8, 6), subplot_kw={\"projection\": geom_image.wcs})\nimages_ts[\"sqrt_ts\"].plot(ax=ax, add_cbar=True)\n\nax.scatter(\n    source_pos.ra.deg,\n    source_pos.dec.deg,\n    transform=ax.get_transform(\"icrs\"),\n    color=\"none\",\n    edgecolor=\"white\",\n    marker=\"o\",\n    s=200,\n    lw=1.5,\n)"
      ]
    },
    {
      "cell_type": "markdown",
      "metadata": {},
      "source": [
        "## Spatial analysis\n\nSee other notebooks for how to run a 3D cube or 2D image based analysis.\n\n\n"
      ]
    },
    {
      "cell_type": "markdown",
      "metadata": {},
      "source": [
        "## Spectrum\n\nWe\u2019ll run a spectral analysis using the classical reflected regions\nbackground estimation method, and using the on-off (often called WSTAT)\nlikelihood function.\n\n\n"
      ]
    },
    {
      "cell_type": "code",
      "execution_count": null,
      "metadata": {
        "collapsed": false
      },
      "outputs": [],
      "source": [
        "target_position = SkyCoord(0, 0, unit=\"deg\", frame=\"galactic\")\non_radius = 0.2 * u.deg\non_region = CircleSkyRegion(center=target_position, radius=on_radius)\n\nexclusion_mask = ~geom.to_image().region_mask([on_region])\nplt.figure()\nexclusion_mask.plot()"
      ]
    },
    {
      "cell_type": "markdown",
      "metadata": {},
      "source": [
        "Configure spectral analysis\n\n"
      ]
    },
    {
      "cell_type": "code",
      "execution_count": null,
      "metadata": {
        "collapsed": false
      },
      "outputs": [],
      "source": [
        "energy_axis = MapAxis.from_energy_bounds(0.1, 40, 40, unit=\"TeV\", name=\"energy\")\nenergy_axis_true = MapAxis.from_energy_bounds(\n    0.05, 100, 200, unit=\"TeV\", name=\"energy_true\"\n)\n\ngeom = RegionGeom.create(region=on_region, axes=[energy_axis])\ndataset_empty = SpectrumDataset.create(geom=geom, energy_axis_true=energy_axis_true)\n\ndataset_maker = SpectrumDatasetMaker(\n    containment_correction=False, selection=[\"counts\", \"exposure\", \"edisp\"]\n)\nbkg_maker = ReflectedRegionsBackgroundMaker(exclusion_mask=exclusion_mask)\nsafe_mask_masker = SafeMaskMaker(methods=[\"aeff-max\"], aeff_percent=10)"
      ]
    },
    {
      "cell_type": "markdown",
      "metadata": {},
      "source": [
        "Run data reduction\n\n"
      ]
    },
    {
      "cell_type": "code",
      "execution_count": null,
      "metadata": {
        "collapsed": false
      },
      "outputs": [],
      "source": [
        "datasets = Datasets()\n\nfor observation in observations:\n    dataset = dataset_maker.run(\n        dataset_empty.copy(name=f\"obs-{observation.obs_id}\"), observation\n    )\n    dataset_on_off = bkg_maker.run(dataset, observation)\n    dataset_on_off = safe_mask_masker.run(dataset_on_off, observation)\n    datasets.append(dataset_on_off)"
      ]
    },
    {
      "cell_type": "markdown",
      "metadata": {},
      "source": [
        "Plot results\n\n"
      ]
    },
    {
      "cell_type": "code",
      "execution_count": null,
      "metadata": {
        "collapsed": false
      },
      "outputs": [],
      "source": [
        "plt.figure(figsize=(8, 6))\nax = dataset_image.counts.smooth(\"0.03 deg\").plot(vmax=8)\n\non_region.to_pixel(ax.wcs).plot(ax=ax, edgecolor=\"white\")\nplot_spectrum_datasets_off_regions(datasets, ax=ax)"
      ]
    },
    {
      "cell_type": "markdown",
      "metadata": {},
      "source": [
        "### Model fit\n\nThe next step is to fit a spectral model, using all data (i.e.\u00a0a\n\u201cglobal\u201d fit, using all energies).\n\n\n"
      ]
    },
    {
      "cell_type": "code",
      "execution_count": null,
      "metadata": {
        "collapsed": false
      },
      "outputs": [],
      "source": [
        "spectral_model = PowerLawSpectralModel(\n    index=2, amplitude=1e-11 * u.Unit(\"cm-2 s-1 TeV-1\"), reference=1 * u.TeV\n)\n\nmodel = SkyModel(spectral_model=spectral_model, name=\"source-gc\")\n\ndatasets.models = model\n\nfit = Fit()\nresult = fit.run(datasets=datasets)\nprint(result)"
      ]
    },
    {
      "cell_type": "markdown",
      "metadata": {},
      "source": [
        "### Spectral points\n\nFinally, let\u2019s compute spectral points. The method used is to first\nchoose an energy binning, and then to do a 1-dim likelihood fit /\nprofile to compute the flux and flux error.\n\n\n"
      ]
    },
    {
      "cell_type": "code",
      "execution_count": null,
      "metadata": {
        "collapsed": false
      },
      "outputs": [],
      "source": [
        "# Flux points are computed on stacked observation\nstacked_dataset = datasets.stack_reduce(name=\"stacked\")\n\nprint(stacked_dataset)\n\nenergy_edges = MapAxis.from_energy_bounds(\"1 TeV\", \"30 TeV\", nbin=5).edges\n\nstacked_dataset.models = model\n\nfpe = FluxPointsEstimator(energy_edges=energy_edges, source=\"source-gc\")\nflux_points = fpe.run(datasets=[stacked_dataset])\nflux_points.to_table(sed_type=\"dnde\", formatted=True)"
      ]
    },
    {
      "cell_type": "markdown",
      "metadata": {},
      "source": [
        "### Plot\n\nLet\u2019s plot the spectral model and points. You could do it directly, but\nfor convenience we bundle the model and the flux points in a\n`FluxPointDataset`:\n\n\n"
      ]
    },
    {
      "cell_type": "code",
      "execution_count": null,
      "metadata": {
        "collapsed": false
      },
      "outputs": [],
      "source": [
        "flux_points_dataset = FluxPointsDataset(data=flux_points, models=model)\nflux_points_dataset.plot_fit()\nplt.show()"
      ]
    },
    {
      "cell_type": "markdown",
      "metadata": {},
      "source": [
        "## Exercises\n\n-  Re-run the analysis above, varying some analysis parameters, e.g.\n\n   -  Select a few other observations\n   -  Change the energy band for the map\n   -  Change the spectral model for the fit\n   -  Change the energy binning for the spectral points\n\n-  Change the target. Make a sky image and spectrum for your favourite\n   source.\n\n   -  If you don\u2019t know any, the Crab nebula is the \u201chello world!\u201d\n      analysis of gamma-ray astronomy.\n\n\n"
      ]
    },
    {
      "cell_type": "code",
      "execution_count": null,
      "metadata": {
        "collapsed": false
      },
      "outputs": [],
      "source": [
        "# print('hello world')\n# SkyCoord.from_name('crab')"
      ]
    },
    {
      "cell_type": "markdown",
      "metadata": {},
      "source": [
        "## What next?\n\n-  This notebook showed an example of a first CTA analysis with Gammapy,\n   using simulated 1DC data.\n-  Let us know if you have any question or issues!\n\n\n"
      ]
    }
  ],
  "metadata": {
    "kernelspec": {
      "display_name": "Python 3",
      "language": "python",
      "name": "python3"
    },
    "language_info": {
      "codemirror_mode": {
        "name": "ipython",
        "version": 3
      },
      "file_extension": ".py",
      "mimetype": "text/x-python",
      "name": "python",
      "nbconvert_exporter": "python",
      "pygments_lexer": "ipython3",
      "version": "3.9.16"
    }
  },
  "nbformat": 4,
  "nbformat_minor": 0
}