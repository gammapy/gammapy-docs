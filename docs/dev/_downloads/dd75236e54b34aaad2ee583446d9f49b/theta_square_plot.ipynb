{
  "cells": [
    {
      "cell_type": "markdown",
      "metadata": {},
      "source": [
        "\n# Make a theta-square plot\n\nThis tutorial explains how to make such a plot, that is the distribution\nof event counts as a function of the squared angular distance, to a test\nposition.\n"
      ]
    },
    {
      "cell_type": "markdown",
      "metadata": {},
      "source": [
        "## Setup\n\n\n"
      ]
    },
    {
      "cell_type": "code",
      "execution_count": null,
      "metadata": {
        "collapsed": false
      },
      "outputs": [],
      "source": [
        "# %matplotlib inline\nimport matplotlib.pyplot as plt\nfrom astropy.coordinates import SkyCoord\nfrom astropy import units as u\nfrom gammapy.data import DataStore\nfrom gammapy.maps import MapAxis\nfrom gammapy.makers.utils import make_theta_squared_table\nfrom gammapy.visualization import plot_theta_squared_table"
      ]
    },
    {
      "cell_type": "markdown",
      "metadata": {},
      "source": [
        "## Check setup\n\n\n"
      ]
    },
    {
      "cell_type": "code",
      "execution_count": null,
      "metadata": {
        "collapsed": false
      },
      "outputs": [],
      "source": [
        "from gammapy.utils.check import check_tutorials_setup\n\ncheck_tutorials_setup()"
      ]
    },
    {
      "cell_type": "markdown",
      "metadata": {},
      "source": [
        "## Get some data\n\nSome data taken on the Crab by H.E.S.S. are used.\n\n\n"
      ]
    },
    {
      "cell_type": "code",
      "execution_count": null,
      "metadata": {
        "collapsed": false
      },
      "outputs": [],
      "source": [
        "data_store = DataStore.from_dir(\"$GAMMAPY_DATA/hess-dl3-dr1\")\nobservations = data_store.get_observations([23523, 23526])"
      ]
    },
    {
      "cell_type": "markdown",
      "metadata": {},
      "source": [
        "## Define a test position\n\nHere we define the position of Crab\n\n\n"
      ]
    },
    {
      "cell_type": "code",
      "execution_count": null,
      "metadata": {
        "collapsed": false
      },
      "outputs": [],
      "source": [
        "position = SkyCoord(83.6324, 22.0174, unit=\"deg\")\nprint(position)"
      ]
    },
    {
      "cell_type": "markdown",
      "metadata": {},
      "source": [
        "## Creation of the theta2 plot\n\n\n"
      ]
    },
    {
      "cell_type": "code",
      "execution_count": null,
      "metadata": {
        "collapsed": false
      },
      "outputs": [],
      "source": [
        "theta2_axis = MapAxis.from_bounds(0, 0.2, nbin=20, interp=\"lin\", unit=\"deg2\")\ntheta2_table = make_theta_squared_table(\n    observations=observations,\n    position=position,\n    theta_squared_axis=theta2_axis,\n)\n\nplt.figure(figsize=(10, 5))\nplot_theta_squared_table(theta2_table)\nplt.show()"
      ]
    },
    {
      "cell_type": "markdown",
      "metadata": {},
      "source": [
        "## Making a theta2 plot for a given energy range\n\nwith the function `make_theta_squared_table`, one can also select a fixed energy range.\n\n\n"
      ]
    },
    {
      "cell_type": "code",
      "execution_count": null,
      "metadata": {
        "collapsed": false
      },
      "outputs": [],
      "source": [
        "theta2_table_en = make_theta_squared_table(\n    observations=observations,\n    position=position,\n    theta_squared_axis=theta2_axis,\n    energy_edges=[1.2, 11] * u.TeV,\n)\nplt.figure(figsize=(10, 5))\nplot_theta_squared_table(theta2_table_en)\nplt.show()"
      ]
    },
    {
      "cell_type": "markdown",
      "metadata": {},
      "source": [
        "## Statistical significance of a detection\n\nTo get the significance of a signal, the usual method consists of using the reflected background method\n(see the maker tutorial: :doc:`/user-guide/makers/reflected`) to compute the WStat statistics\n(see `wstat`, :doc:`/user-guide/stats/fit_statistics`). This is the well-known method of [LiMa1983]_\nusing ON and OFF regions.\n\nThe following tutorials show how to get an excess significance:\n\n-  :doc:`/tutorials/analysis-1d/spectral_analysis`\n-  :doc:`/tutorials/analysis-1d/extended_source_spectral_analysis`\n\n\n"
      ]
    }
  ],
  "metadata": {
    "kernelspec": {
      "display_name": "Python 3",
      "language": "python",
      "name": "python3"
    },
    "language_info": {
      "codemirror_mode": {
        "name": "ipython",
        "version": 3
      },
      "file_extension": ".py",
      "mimetype": "text/x-python",
      "name": "python",
      "nbconvert_exporter": "python",
      "pygments_lexer": "ipython3",
      "version": "3.11.12"
    }
  },
  "nbformat": 4,
  "nbformat_minor": 0
}