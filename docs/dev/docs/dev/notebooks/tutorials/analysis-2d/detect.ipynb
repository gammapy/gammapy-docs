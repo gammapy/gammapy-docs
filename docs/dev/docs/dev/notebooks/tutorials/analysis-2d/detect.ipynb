{
  "cells": [
    {
      "cell_type": "code",
      "execution_count": null,
      "metadata": {
        "collapsed": false
      },
      "outputs": [],
      "source": [
        "%matplotlib inline"
      ]
    },
    {
      "cell_type": "markdown",
      "metadata": {},
      "source": [
        "\n# Source detection and significance maps\n\nBuild a list of significant excesses in a Fermi-LAT map.\n\n## Context\n\nThe first task in a source catalogue production is to identify\nsignificant excesses in the data that can be associated to unknown\nsources and provide a preliminary parametrization in term of position,\nextent, and flux. In this notebook we will use Fermi-LAT data to\nillustrate how to detect candidate sources in counts images with known\nbackground.\n\n**Objective: build a list of significant excesses in a Fermi-LAT map**\n\n## Proposed approach\n\nThis notebook show how to do source detection with Gammapy using the\nmethods available in `~gammapy.estimators`. We will use images from a\nFermi-LAT 3FHL high-energy Galactic center dataset to do this:\n\n-  perform adaptive smoothing on counts image\n-  produce 2-dimensional test-statistics (TS)\n-  run a peak finder to detect point-source candidates\n-  compute Li & Ma significance images\n-  estimate source candidates radius and excess counts\n\nNote that what we do here is a quick-look analysis, the production of\nreal source catalogs use more elaborate procedures.\n\nWe will work with the following functions and classes:\n\n-  `~gammapy.maps.WcsNDMap`\n-  `~gammapy.estimators.ASmoothMapEstimator`\n-  `~gammapy.estimators.TSMapEstimator`\n-  `~gammapy.estimators.utils.find_peaks`\n"
      ]
    },
    {
      "cell_type": "markdown",
      "metadata": {},
      "source": [
        "## Setup\n\nAs always, let\u2019s get started with some setup \u2026\n\n\n"
      ]
    },
    {
      "cell_type": "code",
      "execution_count": null,
      "metadata": {
        "collapsed": false
      },
      "outputs": [],
      "source": [
        "# %matplotlib inline\nimport matplotlib.pyplot as plt\nimport matplotlib.cm as cm\nfrom gammapy.maps import Map\nfrom gammapy.estimators import ASmoothMapEstimator, TSMapEstimator\nfrom gammapy.estimators.utils import find_peaks\nfrom gammapy.datasets import MapDataset\nfrom gammapy.modeling.models import (\n    SkyModel,\n    PowerLawSpectralModel,\n    PointSpatialModel,\n)\nfrom gammapy.irf import PSFMap, EDispKernelMap\nfrom astropy.coordinates import SkyCoord\nimport astropy.units as u\nimport numpy as np"
      ]
    },
    {
      "cell_type": "markdown",
      "metadata": {},
      "source": [
        "## Check setup\n\n"
      ]
    },
    {
      "cell_type": "code",
      "execution_count": null,
      "metadata": {
        "collapsed": false
      },
      "outputs": [],
      "source": [
        "from gammapy.utils.check import check_tutorials_setup\n\ncheck_tutorials_setup()"
      ]
    },
    {
      "cell_type": "markdown",
      "metadata": {},
      "source": [
        "## Read in input images\n\nWe first read the relevant maps:\n\n\n"
      ]
    },
    {
      "cell_type": "code",
      "execution_count": null,
      "metadata": {
        "collapsed": false
      },
      "outputs": [],
      "source": [
        "counts = Map.read(\n    \"$GAMMAPY_DATA/fermi-3fhl-gc/fermi-3fhl-gc-counts-cube.fits.gz\"\n)\nbackground = Map.read(\n    \"$GAMMAPY_DATA/fermi-3fhl-gc/fermi-3fhl-gc-background-cube.fits.gz\"\n)\n\nexposure = Map.read(\n    \"$GAMMAPY_DATA/fermi-3fhl-gc/fermi-3fhl-gc-exposure-cube.fits.gz\"\n)\n\npsfmap = PSFMap.read(\n    \"$GAMMAPY_DATA/fermi-3fhl-gc/fermi-3fhl-gc-psf-cube.fits.gz\",\n    format=\"gtpsf\",\n)\n\nedisp = EDispKernelMap.from_diagonal_response(\n    energy_axis=counts.geom.axes[\"energy\"],\n    energy_axis_true=exposure.geom.axes[\"energy_true\"],\n)\n\ndataset = MapDataset(\n    counts=counts,\n    background=background,\n    exposure=exposure,\n    psf=psfmap,\n    name=\"fermi-3fhl-gc\",\n    edisp=edisp,\n)"
      ]
    },
    {
      "cell_type": "markdown",
      "metadata": {},
      "source": [
        "## Adaptive smoothing\n\nFor visualisation purpose it can be nice to look at a smoothed counts\nimage. This can be performed using the adaptive smoothing algorithm from\n[Ebeling et\nal.\u00a0(2006)](https://ui.adsabs.harvard.edu/abs/2006MNRAS.368...65E/abstract)_.\n\nIn the following example the `ASmoothMapEstimator.threshold` argument gives the minimum\nsignificance expected, values below are clipped.\n\n\n"
      ]
    },
    {
      "cell_type": "code",
      "execution_count": null,
      "metadata": {
        "collapsed": false
      },
      "outputs": [],
      "source": [
        "scales = u.Quantity(np.arange(0.05, 1, 0.05), unit=\"deg\")\nsmooth = ASmoothMapEstimator(\n    threshold=3, scales=scales, energy_edges=[10, 500] * u.GeV\n)\nimages = smooth.run(dataset)\n\nplt.figure(figsize=(15, 5))\nimages[\"flux\"].plot(add_cbar=True, stretch=\"asinh\");"
      ]
    },
    {
      "cell_type": "markdown",
      "metadata": {},
      "source": [
        "## TS map estimation\n\nThe Test Statistic, TS = 2 \u2206 log L ([Mattox et\nal.\u00a01996](https://ui.adsabs.harvard.edu/abs/1996ApJ...461..396M/abstract)_),\ncompares the likelihood function L optimized with and without a given\nsource. The TS map is computed by fitting by a single amplitude\nparameter on each pixel as described in Appendix A of [Stewart\n(2009)](https://ui.adsabs.harvard.edu/abs/2009A%26A...495..989S/abstract)_.\nThe fit is simplified by finding roots of the derivative of the fit\nstatistics (default settings use [Brent\u2019s\nmethod](https://en.wikipedia.org/wiki/Brent%27s_method)_).\n\nWe first need to define the model that will be used to test for the\nexistence of a source. Here, we use a point source.\n\n\n"
      ]
    },
    {
      "cell_type": "code",
      "execution_count": null,
      "metadata": {
        "collapsed": false
      },
      "outputs": [],
      "source": [
        "spatial_model = PointSpatialModel()\n\n# We choose units consistent with the map units here...\nspectral_model = PowerLawSpectralModel(\n    amplitude=\"1e-22 cm-2 s-1 keV-1\", index=2\n)\nmodel = SkyModel(spatial_model=spatial_model, spectral_model=spectral_model)"
      ]
    },
    {
      "cell_type": "code",
      "execution_count": null,
      "metadata": {
        "collapsed": false
      },
      "outputs": [],
      "source": [
        "estimator = TSMapEstimator(\n    model,\n    kernel_width=\"1 deg\",\n    energy_edges=[10, 500] * u.GeV,\n)\nmaps = estimator.run(dataset)"
      ]
    },
    {
      "cell_type": "markdown",
      "metadata": {},
      "source": [
        "### Plot resulting images\n\n\n"
      ]
    },
    {
      "cell_type": "code",
      "execution_count": null,
      "metadata": {
        "collapsed": false
      },
      "outputs": [],
      "source": [
        "plt.figure(figsize=(15, 5))\nmaps[\"sqrt_ts\"].plot(add_cbar=True);\n\nplt.figure(figsize=(15, 5))\nmaps[\"flux\"].plot(add_cbar=True, stretch=\"sqrt\", vmin=0);\n\nplt.figure(figsize=(15, 5))\nmaps[\"niter\"].plot(add_cbar=True);"
      ]
    },
    {
      "cell_type": "markdown",
      "metadata": {},
      "source": [
        "## Source candidates\n\nLet\u2019s run a peak finder on the `sqrt_ts` image to get a list of\npoint-sources candidates (positions and peak `sqrt_ts` values). The\n`~gammapy.estimators.utils.find_peaks` function performs a local maximum search in a sliding\nwindow, the argument `min_distance` is the minimum pixel distance\nbetween peaks (smallest possible value and default is 1 pixel).\n\n\n"
      ]
    },
    {
      "cell_type": "code",
      "execution_count": null,
      "metadata": {
        "collapsed": false
      },
      "outputs": [],
      "source": [
        "sources = find_peaks(maps[\"sqrt_ts\"], threshold=5, min_distance=\"0.25 deg\")\nnsou = len(sources)\nsources\n\n# Plot sources on top of significance sky image\nplt.figure(figsize=(15, 5))\n\nax = maps[\"sqrt_ts\"].plot(add_cbar=True)\n\nax.scatter(\n    sources[\"ra\"],\n    sources[\"dec\"],\n    transform=plt.gca().get_transform(\"icrs\"),\n    color=\"none\",\n    edgecolor=\"w\",\n    marker=\"o\",\n    s=600,\n    lw=1.5,\n);"
      ]
    },
    {
      "cell_type": "markdown",
      "metadata": {},
      "source": [
        "Note that we used the instrument point-spread-function (PSF) as kernel,\nso the hypothesis we test is the presence of a point source. In order to\ntest for extended sources we would have to use as kernel an extended\ntemplate convolved by the PSF. Alternatively, we can compute the\nsignificance of an extended excess using the Li & Ma formalism, which is\nfaster as no fitting is involve.\n\n\n"
      ]
    },
    {
      "cell_type": "markdown",
      "metadata": {},
      "source": [
        "## What next?\n\nIn this notebook, we have seen how to work with images and compute TS\nand significance images from counts data, if a background estimate is\nalready available.\n\nHere\u2019s some suggestions what to do next:\n\n-  Look how background estimation is performed for IACTs with and\n   without the high level interface in\n   [analysis_1](../../starting/analysis_1.ipynb)_ and\n   [analysis_2](../../starting/analysis_2.ipynb)_ notebooks,\n   respectively\n-  Learn about 2D model fitting in the [modeling\n   2D](modeling_2D.ipynb)_ notebook\n-  find more about Fermi-LAT data analysis in the\n   [fermi_lat](../../data/fermi_lat.ipynb)_ notebook\n-  Use source candidates to build a model and perform a 3D fitting (see\n   [analysis_3d](../3D/analysis_3d.ipynb)_,\n   [analysis_mwl](../3D/analysis_mwl.ipynb)_ notebooks for some hints)\n\n\n"
      ]
    }
  ],
  "metadata": {
    "kernelspec": {
      "display_name": "Python 3",
      "language": "python",
      "name": "python3"
    },
    "language_info": {
      "codemirror_mode": {
        "name": "ipython",
        "version": 3
      },
      "file_extension": ".py",
      "mimetype": "text/x-python",
      "name": "python",
      "nbconvert_exporter": "python",
      "pygments_lexer": "ipython3",
      "version": "3.8.13"
    }
  },
  "nbformat": 4,
  "nbformat_minor": 0
}