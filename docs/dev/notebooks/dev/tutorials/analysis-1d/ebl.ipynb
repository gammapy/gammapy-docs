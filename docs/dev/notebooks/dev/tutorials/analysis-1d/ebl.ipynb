{
  "cells": [
    {
      "cell_type": "markdown",
      "metadata": {},
      "source": [
        "\n# Account for spectral absorption due to the EBL\n\nGamma rays emitted from extra-galactic objects, eg blazars, interact\nwith the photons of the Extragalactic Background Light (EBL) through\npair production and are attenuated, thus modifying the intrinsic\nspectrum.\n\nVarious models of the EBL are supplied in `GAMMAPY_DATA`. This\nnotebook shows how to use these models to correct for this interaction.\n"
      ]
    },
    {
      "cell_type": "markdown",
      "metadata": {},
      "source": [
        "## Setup\n\nAs usual, we\u2019ll start with the standard imports \u2026\n\n\n"
      ]
    },
    {
      "cell_type": "code",
      "execution_count": null,
      "metadata": {
        "collapsed": false
      },
      "outputs": [],
      "source": [
        "import astropy.units as u\nimport matplotlib.pyplot as plt\nfrom gammapy.catalog import SourceCatalog4FGL\nfrom gammapy.datasets import SpectrumDatasetOnOff\nfrom gammapy.estimators import FluxPointsEstimator\nfrom gammapy.modeling import Fit\nfrom gammapy.modeling.models import (\n    EBL_DATA_BUILTIN,\n    EBLAbsorptionNormSpectralModel,\n    GaussianPrior,\n    PowerLawSpectralModel,\n    SkyModel,\n)"
      ]
    },
    {
      "cell_type": "markdown",
      "metadata": {},
      "source": [
        "## Load the data\n\nWe will use 6 observations of the blazars PKS 2155-304 taken in 2008 by\nH.E.S.S. when it was in a steady state. The data have already been\nreduced to OGIP format `SpectrumDatasetOnOff` following the procedure\n:doc:`/tutorials/analysis-1d/spectral_analysis` tutorial using a\n`ReflectedRegions` background estimation. The spectra and IRFs from the\n6 observations have been stacked together.\n\nWe will load this dataset as a `~gammapy.datasets.SpectrumDatasetOnOff` and proceed with\nthe modeling. You can do a 3D analysis as well.\n\n\n"
      ]
    },
    {
      "cell_type": "code",
      "execution_count": null,
      "metadata": {
        "collapsed": false
      },
      "outputs": [],
      "source": [
        "dataset = SpectrumDatasetOnOff.read(\n    \"$GAMMAPY_DATA/PKS2155-steady/pks2155-304_steady.fits.gz\"\n)\n\nprint(dataset)"
      ]
    },
    {
      "cell_type": "markdown",
      "metadata": {},
      "source": [
        "## Model the observed spectrum\n\nThe observed spectrum is already attenuated due to the EBL. Assuming\nthat the intrinsic spectrum is a power law, the observed spectrum is a\n`gammapy.modeling.models.CompoundSpectralModel` given by the product of an EBL model with the\nintrinsic model.\n\n\n"
      ]
    },
    {
      "cell_type": "markdown",
      "metadata": {},
      "source": [
        "For a list of available models, see\n:doc:`/api/gammapy.modeling.models.EBL_DATA_BUILTIN`.\n\n\n"
      ]
    },
    {
      "cell_type": "code",
      "execution_count": null,
      "metadata": {
        "collapsed": false
      },
      "outputs": [],
      "source": [
        "print(EBL_DATA_BUILTIN.keys())"
      ]
    },
    {
      "cell_type": "markdown",
      "metadata": {},
      "source": [
        "To use other EBL models, you need to save the optical depth as a\nfunction of energy and redshift as an XSPEC model.\nAlternatively, you can use packages like [ebltable](https://github.com/me-manu/ebltable)\nwhich shows how to interface other EBL models with Gammapy.\n\n\n"
      ]
    },
    {
      "cell_type": "markdown",
      "metadata": {},
      "source": [
        "Define the power law\n\n\n"
      ]
    },
    {
      "cell_type": "code",
      "execution_count": null,
      "metadata": {
        "collapsed": false
      },
      "outputs": [],
      "source": [
        "index = 2.3\namplitude = 1.81 * 1e-12 * u.Unit(\"cm-2 s-1 TeV-1\")\nreference = 1 * u.TeV\npwl = PowerLawSpectralModel(index=index, amplitude=amplitude, reference=reference)\npwl.index.frozen = False\n# Specify the redshift of the source\nredshift = 0.116\n\n# Load the EBL model. Here we use the model from Dominguez, 2011\nabsorption = EBLAbsorptionNormSpectralModel.read_builtin(\"dominguez\", redshift=redshift)\n\n\n# The power-law model is multiplied by the EBL to get the final model\nspectral_model = pwl * absorption\nprint(spectral_model)"
      ]
    },
    {
      "cell_type": "markdown",
      "metadata": {},
      "source": [
        "Now, create a sky model and proceed with the fit\n\n\n"
      ]
    },
    {
      "cell_type": "code",
      "execution_count": null,
      "metadata": {
        "collapsed": false
      },
      "outputs": [],
      "source": [
        "sky_model = SkyModel(spatial_model=None, spectral_model=spectral_model, name=\"pks2155\")\n\ndataset.models = sky_model"
      ]
    },
    {
      "cell_type": "markdown",
      "metadata": {},
      "source": [
        "Note that since this dataset has been produced\nby a reflected region analysis, it uses ON-OFF statistic\nand does not require a background model.\n\n\n"
      ]
    },
    {
      "cell_type": "code",
      "execution_count": null,
      "metadata": {
        "collapsed": false
      },
      "outputs": [],
      "source": [
        "fit = Fit()\nresult = fit.run(datasets=[dataset])\n\n# we make a copy here to compare it later\nmodel_best = sky_model.copy()\n\nprint(result.models.to_parameters_table())"
      ]
    },
    {
      "cell_type": "markdown",
      "metadata": {},
      "source": [
        "# Get the flux points\n\nTo get the observed flux points, just run the `~gammapy.estimators.FluxPointsEstimator`\nnormally\n\n\n"
      ]
    },
    {
      "cell_type": "code",
      "execution_count": null,
      "metadata": {
        "collapsed": false
      },
      "outputs": [],
      "source": [
        "energy_edges = dataset.counts.geom.axes[\"energy\"].edges\nfpe = FluxPointsEstimator(\n    energy_edges=energy_edges, source=\"pks2155\", selection_optional=\"all\"\n)\nflux_points_obs = fpe.run(datasets=[dataset])"
      ]
    },
    {
      "cell_type": "markdown",
      "metadata": {},
      "source": [
        "To get the deabsorbed flux points (ie, intrinsic points), we simply need\nto set the reference model to the best fit power law instead of the\ncompound model.\n\n\n"
      ]
    },
    {
      "cell_type": "code",
      "execution_count": null,
      "metadata": {
        "collapsed": false
      },
      "outputs": [],
      "source": [
        "flux_points_intrinsic = flux_points_obs.copy(\n    reference_model=SkyModel(spectral_model=pwl)\n)\n\n#\nprint(flux_points_obs.reference_model)\n\n#\nprint(flux_points_intrinsic.reference_model)"
      ]
    },
    {
      "cell_type": "markdown",
      "metadata": {},
      "source": [
        "## Plot the observed and intrinsic fluxes\n\n\n"
      ]
    },
    {
      "cell_type": "code",
      "execution_count": null,
      "metadata": {
        "collapsed": false
      },
      "outputs": [],
      "source": [
        "plt.figure()\nsed_type = \"e2dnde\"\nenergy_bounds = [0.2, 20] * u.TeV\nax = flux_points_obs.plot(sed_type=sed_type, label=\"observed\", color=\"navy\")\nflux_points_intrinsic.plot(ax=ax, sed_type=sed_type, label=\"intrinsic\", color=\"red\")\n\nmodel_best.spectral_model.plot(\n    ax=ax, energy_bounds=energy_bounds, sed_type=sed_type, color=\"blue\"\n)\nmodel_best.spectral_model.plot_error(\n    ax=ax, energy_bounds=energy_bounds, sed_type=\"e2dnde\", facecolor=\"blue\"\n)\n\npwl.plot(ax=ax, energy_bounds=energy_bounds, sed_type=sed_type, color=\"tomato\")\npwl.plot_error(\n    ax=ax, energy_bounds=energy_bounds, sed_type=sed_type, facecolor=\"tomato\"\n)\nplt.ylim(bottom=1e-13)\nplt.legend()\nplt.show()\n# sphinx_gallery_thumbnail_number = 2"
      ]
    },
    {
      "cell_type": "markdown",
      "metadata": {},
      "source": [
        "## Further extensions\n\nIn this notebook, we have kept the parameters of the EBL model, the\n`alpha_norm` and the `redshift` frozen. Under reasonable assumptions\non the intrinsic spectrum, it can be possible to constrain these\nparameters.\n\nExample: We now assume that the FermiLAT 4FGL catalog spectrum of the\nsource is a good assumption of the intrinsic spectrum.\n\n*NOTE*: This is a very simplified assumption and in reality, EBL\nabsorption can affect the Fermi spectrum significantly. Also, blazar\nspectra vary with time and long term averaged states may not be\nrepresentative of a specific steady state\n\n\n"
      ]
    },
    {
      "cell_type": "code",
      "execution_count": null,
      "metadata": {
        "collapsed": false
      },
      "outputs": [],
      "source": [
        "catalog = SourceCatalog4FGL()\n\nsrc = catalog[\"PKS 2155-304\"]\n\n# Get the intrinsic model\nintrinsic_model = src.spectral_model()\nprint(intrinsic_model)"
      ]
    },
    {
      "cell_type": "markdown",
      "metadata": {},
      "source": [
        "We add Gaussian priors on the `alpha` and `beta` parameters based on the 4FGL\nmeasurements and the associated errors. For more details on using priors, see\n:doc:`/tutorials/api/priors`\n\n\n"
      ]
    },
    {
      "cell_type": "code",
      "execution_count": null,
      "metadata": {
        "collapsed": false
      },
      "outputs": [],
      "source": [
        "intrinsic_model.alpha.prior = GaussianPrior(\n    mu=intrinsic_model.alpha.value, sigma=intrinsic_model.alpha.error\n)\nintrinsic_model.beta.prior = GaussianPrior(\n    mu=intrinsic_model.beta.value, sigma=intrinsic_model.beta.error\n)"
      ]
    },
    {
      "cell_type": "markdown",
      "metadata": {},
      "source": [
        "As before, multiply the intrinsic model with the EBL model\n\n\n"
      ]
    },
    {
      "cell_type": "code",
      "execution_count": null,
      "metadata": {
        "collapsed": false
      },
      "outputs": [],
      "source": [
        "obs_model = intrinsic_model * absorption"
      ]
    },
    {
      "cell_type": "markdown",
      "metadata": {},
      "source": [
        "Now, free the redshift of the source\n\n\n"
      ]
    },
    {
      "cell_type": "code",
      "execution_count": null,
      "metadata": {
        "collapsed": false
      },
      "outputs": [],
      "source": [
        "obs_model.parameters[\"redshift\"].frozen = False\n\nprint(obs_model.parameters.to_table())\n\nsky_model = SkyModel(spectral_model=obs_model, name=\"observed\")\ndataset.models = sky_model\n\nresult1 = fit.run([dataset])\n\nprint(result1.parameters.to_table())"
      ]
    },
    {
      "cell_type": "markdown",
      "metadata": {},
      "source": [
        "## Get a fit stat profile for the redshift\n\nFor more information about stat profiles, see\n:doc:`/tutorials/api/fitting`\n\n\n"
      ]
    },
    {
      "cell_type": "code",
      "execution_count": null,
      "metadata": {
        "collapsed": false
      },
      "outputs": [],
      "source": [
        "total_stat = result1.total_stat\n\npar = sky_model.parameters[\"redshift\"]\npar.scan_max = par.value + 5.0 * par.error\npar.scan_min = max(0, par.value - 5.0 * par.error)\npar.scan_n_values = 31\n\n# %time\nprofile = fit.stat_profile(\n    datasets=[dataset], parameter=sky_model.parameters[\"redshift\"], reoptimize=True\n)\n\nplt.figure()\nax = plt.gca()\nax.plot(\n    profile[\"observed.spectral.model2.redshift_scan\"], profile[\"stat_scan\"] - total_stat\n)\nax.set_title(\"TS profile\")\nax.set_xlabel(\"Redshift\")\nax.set_ylabel(\"$\\Delta$ TS\")\nplt.show()"
      ]
    },
    {
      "cell_type": "markdown",
      "metadata": {},
      "source": [
        "We see that the redshift is well constrained.\n\n\n"
      ]
    }
  ],
  "metadata": {
    "kernelspec": {
      "display_name": "Python 3",
      "language": "python",
      "name": "python3"
    },
    "language_info": {
      "codemirror_mode": {
        "name": "ipython",
        "version": 3
      },
      "file_extension": ".py",
      "mimetype": "text/x-python",
      "name": "python",
      "nbconvert_exporter": "python",
      "pygments_lexer": "ipython3",
      "version": "3.9.20"
    }
  },
  "nbformat": 4,
  "nbformat_minor": 0
}