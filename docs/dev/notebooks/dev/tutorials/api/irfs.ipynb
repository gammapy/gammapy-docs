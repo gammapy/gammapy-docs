{
  "cells": [
    {
      "cell_type": "code",
      "execution_count": null,
      "metadata": {
        "collapsed": false
      },
      "outputs": [],
      "source": [
        "%matplotlib inline"
      ]
    },
    {
      "cell_type": "markdown",
      "metadata": {},
      "source": [
        "\n# Using Gammapy IRFs\n\n`gammapy.irf` contains classes for handling Instrument Response\nFunctions typically stored as multi-dimensional tables. For a list of\nIRF classes internally supported, see\nhttps://gamma-astro-data-formats.readthedocs.io/en/v0.3/irfs/full_enclosure/index.html\n\nThis tutorial is intended for advanced users typically creating IRFs.\n"
      ]
    },
    {
      "cell_type": "code",
      "execution_count": null,
      "metadata": {
        "collapsed": false
      },
      "outputs": [],
      "source": [
        "import numpy as np\nimport astropy.units as u\nfrom astropy.coordinates import SkyCoord\nfrom astropy.visualization import quantity_support\nimport matplotlib.pyplot as plt\nfrom gammapy.irf import (\n    IRF,\n    Background3D,\n    EffectiveAreaTable2D,\n    EnergyDependentMultiGaussPSF,\n    EnergyDispersion2D,\n)\nfrom gammapy.irf.io import COMMON_IRF_HEADERS, IRF_DL3_HDU_SPECIFICATION\nfrom gammapy.makers.utils import (\n    make_edisp_kernel_map,\n    make_map_exposure_true_energy,\n    make_psf_map,\n)\nfrom gammapy.maps import MapAxis, WcsGeom"
      ]
    },
    {
      "cell_type": "markdown",
      "metadata": {},
      "source": [
        "## Inbuilt Gammapy IRFs\n\n\n"
      ]
    },
    {
      "cell_type": "code",
      "execution_count": null,
      "metadata": {
        "collapsed": false
      },
      "outputs": [],
      "source": [
        "irf_filename = (\n    \"$GAMMAPY_DATA/cta-1dc/caldb/data/cta/1dc/bcf/South_z20_50h/irf_file.fits\"\n)\n\naeff = EffectiveAreaTable2D.read(irf_filename, hdu=\"EFFECTIVE AREA\")\nprint(aeff)"
      ]
    },
    {
      "cell_type": "markdown",
      "metadata": {},
      "source": [
        "We can see that the Effective Area Table is defined in terms of\n`energy_true` and `offset` from the camera center\n\n\n"
      ]
    },
    {
      "cell_type": "code",
      "execution_count": null,
      "metadata": {
        "collapsed": false
      },
      "outputs": [],
      "source": [
        "# To see the IRF axes binning, eg, offset\nprint(aeff.axes[\"offset\"])\n\n# To get the IRF data\nprint(aeff.data)\n\n# the aeff is evaluated at a given energy and offset\nprint(aeff.evaluate(energy_true=[1, 10] * u.TeV, offset=[0.2, 2.5] * u.deg))\n\n\n# The peek method gives a quick look into the IRF\naeff.peek()"
      ]
    },
    {
      "cell_type": "markdown",
      "metadata": {},
      "source": [
        "Similarly, we can access other IRFs as well\n\n\n"
      ]
    },
    {
      "cell_type": "code",
      "execution_count": null,
      "metadata": {
        "collapsed": false
      },
      "outputs": [],
      "source": [
        "psf = EnergyDependentMultiGaussPSF.read(irf_filename, hdu=\"Point Spread Function\")\nbkg = Background3D.read(irf_filename, hdu=\"BACKGROUND\")\nedisp = EnergyDispersion2D.read(irf_filename, hdu=\"ENERGY DISPERSION\")\n\nprint(bkg)"
      ]
    },
    {
      "cell_type": "markdown",
      "metadata": {},
      "source": [
        "Note that the background is given in FoV coordiantes with `fov_lon`\nand `fov_lat` axis, and not in `offset` from the camera center. We\ncan also check the Field of view alignment. Currently, two possible\nalignments are supported: alignment with the horizontal coordinate\nsystem (ALTAZ) and alignment with the equatorial coordinate system\n(RADEC).\n\n\n"
      ]
    },
    {
      "cell_type": "code",
      "execution_count": null,
      "metadata": {
        "collapsed": false
      },
      "outputs": [],
      "source": [
        "print(bkg.fov_alignment)"
      ]
    },
    {
      "cell_type": "markdown",
      "metadata": {},
      "source": [
        "To evaluate the IRFs, pass the values for each axis. To know the default\ninterpolation scheme for the data\n\n\n"
      ]
    },
    {
      "cell_type": "code",
      "execution_count": null,
      "metadata": {
        "collapsed": false
      },
      "outputs": [],
      "source": [
        "print(bkg.interp_kwargs)\n\n# Evaluate background\n# Note that evaluate functions support  numpy-style broadcasting\nenergy = [1, 10, 100, 1000] * u.TeV\nfov_lon = [1, 2] * u.deg\nfov_lat = [1, 2] * u.deg\nev = bkg.evaluate(\n    energy=energy.reshape(-1, 1, 1),\n    fov_lat=fov_lat.reshape(1, -1, 1),\n    fov_lon=fov_lon.reshape(1, 1, -1),\n)\nprint(ev)"
      ]
    },
    {
      "cell_type": "markdown",
      "metadata": {},
      "source": [
        "We can customise the interpolation scheme. Here, we adapt to fill\n`nan` instead of `0` for extrapolated values\n\n\n"
      ]
    },
    {
      "cell_type": "code",
      "execution_count": null,
      "metadata": {
        "collapsed": false
      },
      "outputs": [],
      "source": [
        "bkg.interp_kwargs[\"fill_value\"] = np.nan\n\nev2 = bkg.evaluate(\n    energy=energy.reshape(-1, 1, 1),\n    fov_lat=fov_lat.reshape(1, -1, 1),\n    fov_lon=fov_lon.reshape(1, 1, -1),\n)\nprint(ev2)"
      ]
    },
    {
      "cell_type": "markdown",
      "metadata": {},
      "source": [
        "The interpolation scheme along each axis is taken from the `MapAxis`\nspecification. eg\n\n\n"
      ]
    },
    {
      "cell_type": "code",
      "execution_count": null,
      "metadata": {
        "collapsed": false
      },
      "outputs": [],
      "source": [
        "print(\n    \"Interpolation scheme for energy axis is: \",\n    bkg.axes[\"energy\"].interp,\n    \"and for the fov_lon axis is: \",\n    bkg.axes[\"fov_lon\"].interp,\n)\n\n# Evaluate energy dispersion\nev = edisp.evaluate(energy_true=1 * u.TeV, offset=[0, 1] * u.deg, migra=[1, 1.2])\nprint(ev)\n\nedisp.peek()\n\nprint(psf)"
      ]
    },
    {
      "cell_type": "markdown",
      "metadata": {},
      "source": [
        "The PointSpreadFunction for the CTA DC1 is stored as a combination of 3\nGaussians. Other PSFs, like a `PSF_TABLE` and analytic expressions\nlike KING function are also supported. All PSF classes inherit from a\ncommon base `PSF` class.\n\n\n"
      ]
    },
    {
      "cell_type": "code",
      "execution_count": null,
      "metadata": {
        "collapsed": false
      },
      "outputs": [],
      "source": [
        "print(psf.axes.names)\n\n# To get the containment radius for a fixed fraction at a given position\nprint(\n    psf.containment_radius(\n        fraction=0.68, energy_true=1.0 * u.TeV, offset=[0.2, 4.0] * u.deg\n    )\n)\n\n# Alternatively, to get the containment fraction for at a given position\nprint(\n    psf.containment(\n        rad=0.05 * u.deg, energy_true=1.0 * u.TeV, offset=[0.2, 4.0] * u.deg\n    )\n)"
      ]
    },
    {
      "cell_type": "markdown",
      "metadata": {},
      "source": [
        "## Support for Asymmetric IRFs\n\n\n"
      ]
    },
    {
      "cell_type": "markdown",
      "metadata": {},
      "source": [
        "While Gammapy does not have inbuilt classes for supporting asymmetric\nIRFs (except for `Background3D`), custom classes can be created. For\nthis to work correctly with the `MapDatasetMaker`, only variations\nwith `fov_lon` and `fov_lat` can be allowed.\n\nThe main idea is that the list of required axes should be correctly\nmentioned in the class definition.\n\n\n"
      ]
    },
    {
      "cell_type": "markdown",
      "metadata": {},
      "source": [
        "### Effective Area\n\n\n"
      ]
    },
    {
      "cell_type": "code",
      "execution_count": null,
      "metadata": {
        "collapsed": false
      },
      "outputs": [],
      "source": [
        "class EffectiveArea3D(IRF):\n    tag = \"aeff_3d\"\n    required_axes = [\"energy_true\", \"fov_lon\", \"fov_lat\"]\n    default_unit = u.m**2\n\n\nenergy_axis = MapAxis.from_energy_edges(\n    [0.1, 0.3, 1.0, 3.0, 10.0] * u.TeV, name=\"energy_true\"\n)\n\nnbin = 7\nfov_lon_axis = MapAxis.from_edges([-1.5, -0.5, 0.5, 1.5] * u.deg, name=\"fov_lon\")\nfov_lat_axis = MapAxis.from_edges([-1.5, -0.5, 0.5, 1.5] * u.deg, name=\"fov_lat\")\n\ndata = np.ones((4, 3, 3))\nfor i in range(1, 4):\n    data[i] = data[i - 1] * 2.0\n    data[i][-1] = data[i][0] * 1.2\n\n\naeff_3d = EffectiveArea3D(\n    [energy_axis, fov_lon_axis, fov_lat_axis], data=data, unit=u.m**2\n)\nprint(aeff_3d)\n\nres = aeff_3d.evaluate(\n    fov_lon=[-0.5, 0.8] * u.deg,\n    fov_lat=[-0.5, 1.0] * u.deg,\n    energy_true=[0.2, 8.0] * u.TeV,\n)\nprint(res)\n\n# to visualise at a given energy\n# sphinx_gallery_thumbnail_number = 1\naeff_eval = aeff_3d.evaluate(energy_true=[1.0] * u.TeV)\n\nax = plt.subplot()\nwith quantity_support():\n    caxes = ax.pcolormesh(\n        fov_lat_axis.edges, fov_lon_axis.edges, aeff_eval.value.squeeze()\n    )\nfov_lat_axis.format_plot_xaxis(ax)\nfov_lon_axis.format_plot_yaxis(ax)\nax.set_title(\"Asymmetric effective area\")"
      ]
    },
    {
      "cell_type": "markdown",
      "metadata": {},
      "source": [
        "Unless specified, it is assumed these IRFs are in the RADEC frame\n\n\n"
      ]
    },
    {
      "cell_type": "code",
      "execution_count": null,
      "metadata": {
        "collapsed": false
      },
      "outputs": [],
      "source": [
        "aeff_3d.fov_alignment"
      ]
    },
    {
      "cell_type": "markdown",
      "metadata": {},
      "source": [
        "### Serialisation\n\nFor serialisation, we need to add the class definition to the\n`IRF_DL3_HDU_SPECIFICATION` dictionary\n\n\n"
      ]
    },
    {
      "cell_type": "code",
      "execution_count": null,
      "metadata": {
        "collapsed": false
      },
      "outputs": [],
      "source": [
        "IRF_DL3_HDU_SPECIFICATION[\"aeff_3d\"] = {\n    \"extname\": \"EFFECTIVE AREA\",\n    \"column_name\": \"EFFAREA\",\n    \"mandatory_keywords\": {\n        **COMMON_IRF_HEADERS,\n        \"HDUCLAS2\": \"EFF_AREA\",\n        \"HDUCLAS3\": \"FULL-ENCLOSURE\",  # added here to have HDUCLASN in order\n        \"HDUCLAS4\": \"AEFF_3D\",\n    },\n}\n\naeff_3d.write(\"test_aeff3d.fits\", overwrite=True)\n\naeff_new = EffectiveArea3D.read(\"test_aeff3d.fits\")\nprint(aeff_new)"
      ]
    },
    {
      "cell_type": "markdown",
      "metadata": {},
      "source": [
        "### Create exposure map\n\nDL4 data products can be created from these IRFs.\n\n\n"
      ]
    },
    {
      "cell_type": "code",
      "execution_count": null,
      "metadata": {
        "collapsed": false
      },
      "outputs": [],
      "source": [
        "axis = MapAxis.from_energy_bounds(0.1 * u.TeV, 10 * u.TeV, 6, name=\"energy_true\")\npointing = SkyCoord(2, 1, unit=\"deg\")\ngeom = WcsGeom.create(npix=(4, 3), binsz=2, axes=[axis], skydir=pointing)\n\nprint(geom)\n\nexposure_map = make_map_exposure_true_energy(\n    pointing=pointing, livetime=\"42 h\", aeff=aeff_3d, geom=geom\n)\n\nexposure_map.plot_grid(add_cbar=True, figsize=(17, 7))\nplt.show()"
      ]
    },
    {
      "cell_type": "markdown",
      "metadata": {},
      "source": [
        "## Energy Dispersion\n\n\n"
      ]
    },
    {
      "cell_type": "code",
      "execution_count": null,
      "metadata": {
        "collapsed": false
      },
      "outputs": [],
      "source": [
        "class EnergyDispersion3D(IRF):\n    tag = \"edisp_3d\"\n    required_axes = [\"energy_true\", \"migra\", \"fov_lon\", \"fov_lat\"]\n    default_unit = u.one"
      ]
    },
    {
      "cell_type": "markdown",
      "metadata": {},
      "source": [
        "Note that most functions defined on the inbuilt IRF classes can be\neasily generalised to higher dimensions.\n\n\n"
      ]
    },
    {
      "cell_type": "code",
      "execution_count": null,
      "metadata": {
        "collapsed": false
      },
      "outputs": [],
      "source": [
        "# Make a test case\nenergy_axis_true = MapAxis.from_energy_bounds(\n    \"0.1 TeV\", \"100 TeV\", nbin=3, name=\"energy_true\"\n)\n\nmigra_axis = MapAxis.from_bounds(0, 4, nbin=2, node_type=\"edges\", name=\"migra\")\n\nfov_lon_axis = MapAxis.from_edges([-1.5, -0.5, 0.5, 1.5] * u.deg, name=\"fov_lon\")\nfov_lat_axis = MapAxis.from_edges([-1.5, -0.5, 0.5, 1.5] * u.deg, name=\"fov_lat\")\n\ndata = np.array(\n    [\n        [\n            [\n                [5.00e-01, 5.10e-01, 5.20e-01],\n                [6.00e-01, 6.10e-01, 6.30e-01],\n                [6.00e-01, 6.00e-01, 6.00e-01],\n            ],\n            [\n                [2.0e-02, 2.0e-02, 2.0e-03],\n                [2.0e-02, 2.0e-02, 2.0e-03],\n                [2.0e-02, 2.0e-02, 2.0e-03],\n            ],\n        ],\n        [\n            [\n                [5.00e-01, 5.10e-01, 5.20e-01],\n                [6.00e-01, 6.10e-01, 6.30e-01],\n                [6.00e-01, 6.00e-01, 6.00e-01],\n            ],\n            [\n                [2.0e-02, 2.0e-02, 2.0e-03],\n                [2.0e-02, 2.0e-02, 2.0e-03],\n                [2.0e-02, 2.0e-02, 2.0e-03],\n            ],\n        ],\n        [\n            [\n                [5.00e-01, 5.10e-01, 5.20e-01],\n                [6.00e-01, 6.10e-01, 6.30e-01],\n                [6.00e-01, 6.00e-01, 6.00e-01],\n            ],\n            [\n                [3.0e-02, 6.0e-02, 2.0e-03],\n                [3.0e-02, 5.0e-02, 2.0e-03],\n                [3.0e-02, 4.0e-02, 2.0e-03],\n            ],\n        ],\n    ]\n)\n\n\nedisp3d = EnergyDispersion3D(\n    [energy_axis_true, migra_axis, fov_lon_axis, fov_lat_axis], data=data\n)\n\nprint(edisp3d)\n\nenergy = [1, 2] * u.TeV\nmigra = np.array([0.98, 0.97, 0.7])\nfov_lon = [0.1, 1.5] * u.deg\nfov_lat = [0.0, 0.3] * u.deg\n\nedisp_eval = edisp3d.evaluate(\n    energy_true=energy.reshape(-1, 1, 1, 1),\n    migra=migra.reshape(1, -1, 1, 1),\n    fov_lon=fov_lon.reshape(1, 1, -1, 1),\n    fov_lat=fov_lat.reshape(1, 1, 1, -1),\n)\nprint(edisp_eval[0])"
      ]
    },
    {
      "cell_type": "markdown",
      "metadata": {},
      "source": [
        "### Serialisation\n\n\n"
      ]
    },
    {
      "cell_type": "code",
      "execution_count": null,
      "metadata": {
        "collapsed": false
      },
      "outputs": [],
      "source": [
        "IRF_DL3_HDU_SPECIFICATION[\"edisp_3d\"] = {\n    \"extname\": \"ENERGY DISPERSION\",\n    \"column_name\": \"MATRIX\",\n    \"mandatory_keywords\": {\n        **COMMON_IRF_HEADERS,\n        \"HDUCLAS2\": \"EDISP\",\n        \"HDUCLAS3\": \"FULL-ENCLOSURE\",  # added here to have HDUCLASN in order\n        \"HDUCLAS4\": \"EDISP_3D\",\n    },\n}\n\nedisp3d.write(\"test_edisp.fits\", overwrite=True)\n\nedisp_new = EnergyDispersion3D.read(\"test_edisp.fits\")\nedisp_new"
      ]
    },
    {
      "cell_type": "markdown",
      "metadata": {},
      "source": [
        "### Create edisp kernel map\n\n\n"
      ]
    },
    {
      "cell_type": "code",
      "execution_count": null,
      "metadata": {
        "collapsed": false
      },
      "outputs": [],
      "source": [
        "migra = MapAxis.from_edges(np.linspace(0.5, 1.5, 50), unit=\"\", name=\"migra\")\netrue = MapAxis.from_energy_bounds(0.5, 2, 6, unit=\"TeV\", name=\"energy_true\")\nereco = MapAxis.from_energy_bounds(0.5, 2, 3, unit=\"TeV\", name=\"energy\")\ngeom = WcsGeom.create(10, binsz=0.5, axes=[ereco, etrue], skydir=pointing)\n\nedispmap = make_edisp_kernel_map(edisp3d, pointing, geom)\n\nedispmap.peek()\nplt.show()\n\n#\nprint(edispmap.edisp_map.data[3][1][3])"
      ]
    },
    {
      "cell_type": "markdown",
      "metadata": {},
      "source": [
        "## PSF\n\nThere are two types of asymmetric PSFs that can be considered\n- Asymmetry about the camera center: Such PSF Tables can be supported\n- Asymmetry about the source position: These PSF models cannot be supported\ncorrectly within the data reduction scheme at present\nAlso, analytic PSF models defined within the GADF scheme cannot be\ndirectly generalised to the 3D case for use within Gammapy.\n\n\n"
      ]
    },
    {
      "cell_type": "code",
      "execution_count": null,
      "metadata": {
        "collapsed": false
      },
      "outputs": [],
      "source": [
        "class PSF_assym(IRF):\n    tag = \"psf_assym\"\n    required_axes = [\"energy_true\", \"fov_lon\", \"fov_lat\", \"rad\"]\n    default_unit = u.sr**-1\n\n\nenergy_axis = MapAxis.from_energy_edges(\n    [0.1, 0.3, 1.0, 3.0, 10.0] * u.TeV, name=\"energy_true\"\n)\n\nnbin = 7\nfov_lon_axis = MapAxis.from_edges([-1.5, -0.5, 0.5, 1.5] * u.deg, name=\"fov_lon\")\nfov_lat_axis = MapAxis.from_edges([-1.5, -0.5, 0.5, 1.5] * u.deg, name=\"fov_lat\")\n\nrad_axis = MapAxis.from_edges([0, 1, 2], unit=\"deg\", name=\"rad\")\n\ndata = 0.1 * np.ones((4, 3, 3, 2))\nfor i in range(1, 4):\n    data[i] = data[i - 1] * 1.5\n\n\npsf_assym = PSF_assym(\n    axes=[energy_axis, fov_lon_axis, fov_lat_axis, rad_axis],\n    data=data,\n)\nprint(psf_assym)\n\nenergy = [1, 2] * u.TeV\nrad = np.array([0.98, 0.97, 0.7]) * u.deg\nfov_lon = [0.1, 1.5] * u.deg\nfov_lat = [0.0, 0.3] * u.deg\n\npsf_assym.evaluate(\n    energy_true=energy.reshape(-1, 1, 1, 1),\n    rad=rad.reshape(1, -1, 1, 1),\n    fov_lon=fov_lon.reshape(1, 1, -1, 1),\n    fov_lat=fov_lat.reshape(1, 1, 1, -1),\n)"
      ]
    },
    {
      "cell_type": "markdown",
      "metadata": {},
      "source": [
        "### Serialisation\n\n\n"
      ]
    },
    {
      "cell_type": "code",
      "execution_count": null,
      "metadata": {
        "collapsed": false
      },
      "outputs": [],
      "source": [
        "IRF_DL3_HDU_SPECIFICATION[\"psf_assym\"] = {\n    \"extname\": \"POINT SPREAD FUNCTION\",\n    \"column_name\": \"MATRIX\",\n    \"mandatory_keywords\": {\n        **COMMON_IRF_HEADERS,\n        \"HDUCLAS2\": \"PSF\",\n        \"HDUCLAS3\": \"FULL-ENCLOSURE\",\n        \"HDUCLAS4\": \"PSFnD\",\n    },\n}\n\npsf_assym.write(\"test_psf.fits.gz\", overwrite=True)\n\npsf_new = PSF_assym.read(\"test_psf.fits.gz\")\n\nprint(psf_new == psf_assym)"
      ]
    },
    {
      "cell_type": "markdown",
      "metadata": {},
      "source": [
        "### Create DL4 product - `PSFMap`\n\n\n"
      ]
    },
    {
      "cell_type": "code",
      "execution_count": null,
      "metadata": {
        "collapsed": false
      },
      "outputs": [],
      "source": [
        "rad = MapAxis.from_edges(np.linspace(0.5, 3.0, 10), unit=\"deg\", name=\"rad\")\netrue = MapAxis.from_energy_bounds(0.5, 2, 6, unit=\"TeV\", name=\"energy_true\")\ngeom = WcsGeom.create(10, binsz=0.5, axes=[rad, etrue], skydir=pointing)\n\npsfmap = make_psf_map(psf_assym, pointing, geom)\n\npsfmap.peek()\nplt.show()"
      ]
    },
    {
      "cell_type": "markdown",
      "metadata": {},
      "source": [
        "Containers for asymmetric analytic PSFs are not supported at present.\n\n**NOTE**: Support for asymmetric IRFs is preliminary at the moment, and\nwill evolve depending on feedback.\n\n\n"
      ]
    }
  ],
  "metadata": {
    "kernelspec": {
      "display_name": "Python 3",
      "language": "python",
      "name": "python3"
    },
    "language_info": {
      "codemirror_mode": {
        "name": "ipython",
        "version": 3
      },
      "file_extension": ".py",
      "mimetype": "text/x-python",
      "name": "python",
      "nbconvert_exporter": "python",
      "pygments_lexer": "ipython3",
      "version": "3.9.18"
    }
  },
  "nbformat": 4,
  "nbformat_minor": 0
}