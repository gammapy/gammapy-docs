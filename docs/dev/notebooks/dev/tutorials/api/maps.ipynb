{
  "cells": [
    {
      "cell_type": "code",
      "execution_count": null,
      "metadata": {
        "collapsed": false
      },
      "outputs": [],
      "source": [
        "%matplotlib inline"
      ]
    },
    {
      "cell_type": "markdown",
      "metadata": {},
      "source": [
        "\n# Maps\n\nA thorough tutorial to work with WCS maps.\n\n.. figure:: ../../_static/gammapy_maps.png\n   :alt: Gammapy Maps Illustration\n\n   Gammapy Maps Illustration\n\n## Introduction\n\nThe `~gammapy.maps` submodule contains classes for representing\npixilised data on the sky with an arbitrary number of non-spatial\ndimensions such as energy, time, event class or any possible\nuser-defined dimension (illustrated in the image above). The main\n`Map` data structure features a uniform API for\n[WCS](https://fits.gsfc.nasa.gov/fits_wcs.html)_ as well as\n[HEALPix](https://en.wikipedia.org/wiki/HEALPix)_ based images. The\nAPI also generalizes simple image based operations such as smoothing,\ninterpolation and reprojection to the arbitrary extra dimensions and\nmakes working with (2 + N)-dimensional hypercubes as easy as working\nwith a simple 2D image. Further information is also provided on the\n`~gammapy.maps` docs page.\n\nIn the following introduction we will learn all the basics of working\nwith WCS based maps. HEALPix based maps will be covered in a future\ntutorial. Make sure you have worked through the :doc:`Gammapy\noverview </tutorials/starting/overview>`, because a solid knowledge\nabout working with `SkyCoord` and `Quantity` objects as well as\n[Numpy](http://www.numpy.org/)_ is required for this tutorial.\n\nThis notebook is rather lengthy, but getting to know the `Map` data\nstructure in detail is essential for working with Gammapy and will allow\nyou to fulfill complex analysis tasks with very few and simple code in\nfuture!\n"
      ]
    },
    {
      "cell_type": "markdown",
      "metadata": {},
      "source": [
        "## Setup\n\n\n"
      ]
    },
    {
      "cell_type": "code",
      "execution_count": null,
      "metadata": {
        "collapsed": false
      },
      "outputs": [],
      "source": [
        "import os\n\n# %matplotlib inline\nimport numpy as np\nfrom astropy import units as u\nfrom astropy.convolution import convolve\nfrom astropy.coordinates import SkyCoord\nfrom astropy.io import fits\nfrom astropy.table import Table\nimport matplotlib.pyplot as plt\nfrom gammapy.data import EventList\nfrom gammapy.maps import Map, MapAxis, WcsGeom, WcsNDMap"
      ]
    },
    {
      "cell_type": "markdown",
      "metadata": {},
      "source": [
        "## Check setup\n\n"
      ]
    },
    {
      "cell_type": "code",
      "execution_count": null,
      "metadata": {
        "collapsed": false
      },
      "outputs": [],
      "source": [
        "from gammapy.utils.check import check_tutorials_setup\n\ncheck_tutorials_setup()"
      ]
    },
    {
      "cell_type": "markdown",
      "metadata": {},
      "source": [
        "## Creating WCS Maps\n\n### Using Factory Methods\n\nMaps are most easily created using the `~gammapy.maps.Map.create`\nfactory method:\n\n\n"
      ]
    },
    {
      "cell_type": "code",
      "execution_count": null,
      "metadata": {
        "collapsed": false
      },
      "outputs": [],
      "source": [
        "m_allsky = Map.create()"
      ]
    },
    {
      "cell_type": "markdown",
      "metadata": {},
      "source": [
        "Calling `~gammapy.maps.Map.create` without any further arguments creates by\ndefault an allsky WCS map using a CAR projection, ICRS coordinates and a\npixel size of 1 deg. This can be easily checked by printing the\n`~gammapy.maps.Map.geom` attribute of the map:\n\n\n"
      ]
    },
    {
      "cell_type": "code",
      "execution_count": null,
      "metadata": {
        "collapsed": false
      },
      "outputs": [],
      "source": [
        "print(m_allsky.geom)"
      ]
    },
    {
      "cell_type": "markdown",
      "metadata": {},
      "source": [
        "The `~gammapy.maps.Map.geom` attribute is a `~gammapy.maps.Geom` object, that defines the basic\ngeometry of the map, such as size of the pixels, width and height of the\nimage, coordinate system etc., but we will learn more about this object\nlater.\n\nBesides the ``.geom`` attribute the map has also a ``.data`` attribute,\nwhich is just a plain ``~numpy.ndarray`` and stores the data associated\nwith this map:\n\n\n"
      ]
    },
    {
      "cell_type": "code",
      "execution_count": null,
      "metadata": {
        "collapsed": false
      },
      "outputs": [],
      "source": [
        "print(m_allsky.data)"
      ]
    },
    {
      "cell_type": "markdown",
      "metadata": {},
      "source": [
        "By default maps are filled with zeros.\n\nThe ``map_type`` argument can be used to control the pixelization scheme\n(WCS or HPX).\n\n\n"
      ]
    },
    {
      "cell_type": "code",
      "execution_count": null,
      "metadata": {
        "collapsed": false
      },
      "outputs": [],
      "source": [
        "position = SkyCoord(0.0, 5.0, frame=\"galactic\", unit=\"deg\")\n\n# Create a WCS Map\nm_wcs = Map.create(binsz=0.1, map_type=\"wcs\", skydir=position, width=10.0)\n\n# Create a HPX Map\nm_hpx = Map.create(binsz=0.1, map_type=\"hpx\", skydir=position, width=10.0)"
      ]
    },
    {
      "cell_type": "markdown",
      "metadata": {},
      "source": [
        "Here is an example that creates a WCS map centered on the Galactic\ncenter and now uses Galactic coordinates:\n\n\n"
      ]
    },
    {
      "cell_type": "code",
      "execution_count": null,
      "metadata": {
        "collapsed": false
      },
      "outputs": [],
      "source": [
        "skydir = SkyCoord(0, 0, frame=\"galactic\", unit=\"deg\")\nm_gc = Map.create(\n    binsz=0.02, width=(10, 5), skydir=skydir, frame=\"galactic\", proj=\"TAN\"\n)\nprint(m_gc.geom)"
      ]
    },
    {
      "cell_type": "markdown",
      "metadata": {},
      "source": [
        "In addition we have defined a TAN projection, a pixel size of ``0.02``\ndeg and a width of the map of ``10 deg x 5 deg``. The `width` argument\nalso takes scalar value instead of a tuple, which is interpreted as both\nthe width and height of the map, so that a quadratic map is created.\n\n\n"
      ]
    },
    {
      "cell_type": "markdown",
      "metadata": {},
      "source": [
        "### Creating from a Map Geometry\n\nAs we have seen in the first examples, the `~gammapy.maps.Map` object couples the\ndata (stored as a `~numpy.ndarray`) with a `~gammapy.maps.Geom` object. The\n`~gammapy.maps.~Geom` object can be seen as a generalization of an\n`astropy.wcs.WCS` object, providing the information on how the data\nmaps to physical coordinate systems. In some cases e.g.\u00a0when creating\nmany maps with the same WCS geometry it can be advantegeous to first\ncreate the map geometry independent of the map object itsself:\n\n\n"
      ]
    },
    {
      "cell_type": "code",
      "execution_count": null,
      "metadata": {
        "collapsed": false
      },
      "outputs": [],
      "source": [
        "wcs_geom = WcsGeom.create(binsz=0.02, width=(10, 5), skydir=(0, 0), frame=\"galactic\")"
      ]
    },
    {
      "cell_type": "markdown",
      "metadata": {},
      "source": [
        "And then create the map objects from the ``wcs_geom`` geometry\nspecification:\n\n\n"
      ]
    },
    {
      "cell_type": "code",
      "execution_count": null,
      "metadata": {
        "collapsed": false
      },
      "outputs": [],
      "source": [
        "maps = {}\n\nfor name in [\"counts\", \"background\"]:\n    maps[name] = Map.from_geom(wcs_geom)"
      ]
    },
    {
      "cell_type": "markdown",
      "metadata": {},
      "source": [
        "The `~gammapy.maps.Geom` object also has a few helpful methods. E.g. we can check\nwhether a given position on the sky is contained in the map geometry:\n\n\n"
      ]
    },
    {
      "cell_type": "code",
      "execution_count": null,
      "metadata": {
        "collapsed": false
      },
      "outputs": [],
      "source": [
        "# define the position of the Galactic center and anti-center\npositions = SkyCoord([0, 180], [0, 0], frame=\"galactic\", unit=\"deg\")\nwcs_geom.contains(positions)"
      ]
    },
    {
      "cell_type": "markdown",
      "metadata": {},
      "source": [
        "Or get the image center of the map:\n\n\n"
      ]
    },
    {
      "cell_type": "code",
      "execution_count": null,
      "metadata": {
        "collapsed": false
      },
      "outputs": [],
      "source": [
        "print(wcs_geom.center_skydir)"
      ]
    },
    {
      "cell_type": "markdown",
      "metadata": {},
      "source": [
        "Or we can also retrieve the solid angle per pixel of the map:\n\n\n"
      ]
    },
    {
      "cell_type": "code",
      "execution_count": null,
      "metadata": {
        "collapsed": false
      },
      "outputs": [],
      "source": [
        "print(wcs_geom.solid_angle())"
      ]
    },
    {
      "cell_type": "markdown",
      "metadata": {},
      "source": [
        "### Adding Non-Spatial Axes\n\nIn many analysis scenarios we would like to add extra dimension to the\nmaps to study e.g.\u00a0energy or time dependency of the data. Those\nnon-spatial dimensions are handled with the `~gammapy.maps.MapAxis` object. Let us\nfirst define an energy axis, with 4 bins:\n\n\n"
      ]
    },
    {
      "cell_type": "code",
      "execution_count": null,
      "metadata": {
        "collapsed": false
      },
      "outputs": [],
      "source": [
        "energy_axis = MapAxis.from_bounds(\n    1, 100, nbin=4, unit=\"TeV\", name=\"energy\", interp=\"log\"\n)\nprint(energy_axis)"
      ]
    },
    {
      "cell_type": "markdown",
      "metadata": {},
      "source": [
        "Where ``interp='log'`` specifies that a logarithmic spacing is used\nbetween the bins, equivalent to ``np.logspace(0, 2, 4)``. This\n`~gammapy.maps.MapAxis` object we can now pass to `~gammapy.maps.Map.create()` using the\n``axes=`` argument:\n\n\n"
      ]
    },
    {
      "cell_type": "code",
      "execution_count": null,
      "metadata": {
        "collapsed": false
      },
      "outputs": [],
      "source": [
        "m_cube = Map.create(binsz=0.02, width=(10, 5), frame=\"galactic\", axes=[energy_axis])\nprint(m_cube.geom)"
      ]
    },
    {
      "cell_type": "markdown",
      "metadata": {},
      "source": [
        "Now we see that besides ``lon`` and ``lat`` the map has an additional\naxes named ``energy`` with 4 bins. The total dimension of the map is now\n``ndim=3``.\n\nWe can also add further axes by passing a list of `~gammapy.maps.MapAxis` objects.\nTo demonstrate this we create a time axis with linearly spaced bins and\npass both axes to `Map.create()`:\n\n\n"
      ]
    },
    {
      "cell_type": "code",
      "execution_count": null,
      "metadata": {
        "collapsed": false
      },
      "outputs": [],
      "source": [
        "time_axis = MapAxis.from_bounds(0, 24, nbin=24, unit=\"hour\", name=\"time\", interp=\"lin\")\n\nm_4d = Map.create(\n    binsz=0.02, width=(10, 5), frame=\"galactic\", axes=[energy_axis, time_axis]\n)\nprint(m_4d.geom)"
      ]
    },
    {
      "cell_type": "markdown",
      "metadata": {},
      "source": [
        "The `~gammapy.maps.MapAxis` object internally stores the coordinates or \u201cposition\nvalues\u201d associated with every map axis bin or \u201cnode\u201d. We distinguish\nbetween two node types: ``\"edges\"`` and ``\"center\"``. The node type\n``\"edges\"``\\ (which is also the default) specifies that the data\nassociated with this axis is integrated between the edges of the bin\n(e.g.\u00a0counts data). The node type ``\"center\"`` specifies that the data is\ngiven at the center of the bin (e.g.\u00a0exposure or differential fluxes).\n\nThe edges of the bins can be checked with `~gammapy.maps.MapAxis.edges` attribute:\n\n\n"
      ]
    },
    {
      "cell_type": "code",
      "execution_count": null,
      "metadata": {
        "collapsed": false
      },
      "outputs": [],
      "source": [
        "print(energy_axis.edges)"
      ]
    },
    {
      "cell_type": "markdown",
      "metadata": {},
      "source": [
        "The numbers are given in the units we specified above, which can be\nchecked again with:\n\n\n"
      ]
    },
    {
      "cell_type": "code",
      "execution_count": null,
      "metadata": {
        "collapsed": false
      },
      "outputs": [],
      "source": [
        "print(energy_axis.unit)"
      ]
    },
    {
      "cell_type": "markdown",
      "metadata": {},
      "source": [
        "The centers of the axis bins can be checked with the `~gammapy.maps.MapAxis.center`\nattribute:\n\n\n"
      ]
    },
    {
      "cell_type": "code",
      "execution_count": null,
      "metadata": {
        "collapsed": false
      },
      "outputs": [],
      "source": [
        "print(energy_axis.center)"
      ]
    },
    {
      "cell_type": "markdown",
      "metadata": {},
      "source": [
        "## Reading and Writing\n\nGammapy `~gammapy.maps.Map` objects are serialized using the Flexible Image\nTransport Format (FITS). Depending on the pixelisation scheme (HEALPix\nor WCS) and presence of non-spatial dimensions the actual convention to\nwrite the FITS file is different. By default Gammpy uses a generic\nconvention named ``\"gadf\"``, which will support WCS and HEALPix formats as\nwell as an arbitrary number of non-spatial axes. The convention is\ndocumented in detail on the [Gamma Astro Data\nFormats](https://gamma-astro-data-formats.readthedocs.io/en/latest/skymaps/index.html)_\npage.\n\nOther conventions required by specific software (e.g.\u00a0the Fermi Science\nTools) are supported as well. At the moment those are the following\n\n-  ``\"fgst-ccube\"``: Fermi counts cube format.\n-  ``\"fgst-ltcube\"``: Fermi livetime cube format.\n-  ``\"fgst-bexpcube\"``: Fermi exposure cube format\n-  ``\"fgst-template\"``: Fermi Galactic diffuse and source template format.\n-  ``\"fgst-srcmap\"`` and ``\"fgst-srcmap-sparse\"``: Fermi source map and\n   sparse source map format.\n\nThe conventions listed above only support an additional energy axis.\n\n### Reading Maps\n\nReading FITS files is mainly exposed via the `~gammapy.maps.Map.read()` method. Let\nus take a look at a first example:\n\n\n"
      ]
    },
    {
      "cell_type": "code",
      "execution_count": null,
      "metadata": {
        "collapsed": false
      },
      "outputs": [],
      "source": [
        "filename = \"$GAMMAPY_DATA/fermi-3fhl-gc/fermi-3fhl-gc-counts.fits.gz\"\nm_3fhl_gc = Map.read(filename)\nprint(m_3fhl_gc)"
      ]
    },
    {
      "cell_type": "markdown",
      "metadata": {},
      "source": [
        "If ``map_type`` argument is not given when calling read a map object\nwill be instantiated with the pixelization of the input HDU.\n\nBy default ``Map.read()`` will try to find the first valid data hdu in\nthe filename and read the data from there. If multiple HDUs are present\nin the FITS file, the desired one can be chosen with the additional\n`hdu=` argument:\n\n\n"
      ]
    },
    {
      "cell_type": "code",
      "execution_count": null,
      "metadata": {
        "collapsed": false
      },
      "outputs": [],
      "source": [
        "m_3fhl_gc = Map.read(filename, hdu=\"PRIMARY\")\nprint(m_3fhl_gc)"
      ]
    },
    {
      "cell_type": "markdown",
      "metadata": {},
      "source": [
        "In rare cases e.g.\u00a0when the FITS file is not valid or meta data is\nmissing from the header it can be necessary to modify the header of a\ncertain HDU before creating the `Map` object. In this case we can use\n`astropy.io.fits` directly to read the FITS file:\n\n\n"
      ]
    },
    {
      "cell_type": "code",
      "execution_count": null,
      "metadata": {
        "collapsed": false
      },
      "outputs": [],
      "source": [
        "filename = os.environ[\"GAMMAPY_DATA\"] + \"/fermi-3fhl-gc/fermi-3fhl-gc-exposure.fits.gz\"\nhdulist = fits.open(filename)\nprint(hdulist.info())"
      ]
    },
    {
      "cell_type": "markdown",
      "metadata": {},
      "source": [
        "And then modify the header keyword and use `Map.from_hdulist()` to\ncreate the `Map` object after:\n\n\n"
      ]
    },
    {
      "cell_type": "code",
      "execution_count": null,
      "metadata": {
        "collapsed": false
      },
      "outputs": [],
      "source": [
        "hdulist[\"PRIMARY\"].header[\"BUNIT\"] = \"cm2 s\"\nprint(Map.from_hdulist(hdulist=hdulist))"
      ]
    },
    {
      "cell_type": "markdown",
      "metadata": {},
      "source": [
        "### Writing Maps\n\nWriting FITS files is mainoy exposure via the `Map.write()` method.\nHere is a first example:\n\n\n"
      ]
    },
    {
      "cell_type": "code",
      "execution_count": null,
      "metadata": {
        "collapsed": false
      },
      "outputs": [],
      "source": [
        "m_cube.write(\"example_cube.fits\", overwrite=True)"
      ]
    },
    {
      "cell_type": "markdown",
      "metadata": {},
      "source": [
        "By default Gammapy does not overwrite files. In this example we set\n`overwrite=True` in case the cell gets executed multiple times. Now we\ncan read back the cube from disk using `Map.read()`:\n\n\n"
      ]
    },
    {
      "cell_type": "code",
      "execution_count": null,
      "metadata": {
        "collapsed": false
      },
      "outputs": [],
      "source": [
        "m_cube = Map.read(\"example_cube.fits\")\nprint(m_cube)"
      ]
    },
    {
      "cell_type": "markdown",
      "metadata": {},
      "source": [
        "We can also choose a different FITS convention to write the example cube\nin a format compatible to the Fermi Galactic diffuse background model:\n\n\n"
      ]
    },
    {
      "cell_type": "code",
      "execution_count": null,
      "metadata": {
        "collapsed": false
      },
      "outputs": [],
      "source": [
        "m_cube.write(\"example_cube_fgst.fits\", format=\"fgst-template\", overwrite=True)"
      ]
    },
    {
      "cell_type": "markdown",
      "metadata": {},
      "source": [
        "To understand a little bit better the generic `gadf` convention we use\n`Map.to_hdulist()` to generate a list of FITS HDUs first:\n\n\n"
      ]
    },
    {
      "cell_type": "code",
      "execution_count": null,
      "metadata": {
        "collapsed": false
      },
      "outputs": [],
      "source": [
        "hdulist = m_4d.to_hdulist(format=\"gadf\")\nprint(hdulist.info())"
      ]
    },
    {
      "cell_type": "markdown",
      "metadata": {},
      "source": [
        "As we can see the `HDUList` object contains to HDUs. The first one\nnamed `PRIMARY` contains the data array with shape corresponding to\nour data and the WCS information stored in the header:\n\n\n"
      ]
    },
    {
      "cell_type": "code",
      "execution_count": null,
      "metadata": {
        "collapsed": false
      },
      "outputs": [],
      "source": [
        "print(hdulist[\"PRIMARY\"].header)"
      ]
    },
    {
      "cell_type": "markdown",
      "metadata": {},
      "source": [
        "The second HDU is a `BinTableHDU` named `PRIMARY_BANDS` contains the\ninformation on the non-spatial axes such as name, order, unit, min, max\nand center values of the axis bins. We use an `astropy.table.Table` to\nshow the information:\n\n\n"
      ]
    },
    {
      "cell_type": "code",
      "execution_count": null,
      "metadata": {
        "collapsed": false
      },
      "outputs": [],
      "source": [
        "print(Table.read(hdulist[\"PRIMARY_BANDS\"]))"
      ]
    },
    {
      "cell_type": "markdown",
      "metadata": {},
      "source": [
        "Maps can be serialized to a sparse data format by calling write with\n`sparse=True`. This will write all non-zero pixels in the map to a\ndata table appropriate to the pixelization scheme.\n\n\n"
      ]
    },
    {
      "cell_type": "code",
      "execution_count": null,
      "metadata": {
        "collapsed": false
      },
      "outputs": [],
      "source": [
        "m = Map.create(binsz=0.1, map_type=\"wcs\", width=10.0)\nm.write(\"file.fits\", hdu=\"IMAGE\", sparse=True, overwrite=True)\nm = Map.read(\"file.fits\", hdu=\"IMAGE\", map_type=\"wcs\")"
      ]
    },
    {
      "cell_type": "markdown",
      "metadata": {},
      "source": [
        "## Accessing Data\n\n### How to get data values\n\nAll map objects have a set of accessor methods, which can be used to\naccess or update the contents of the map irrespective of its underlying\nrepresentation. Those accessor methods accept as their first argument a\ncoordinate `tuple` containing scalars, `list`, or `numpy.ndarray`\nwith one tuple element for each dimension. Some methods additionally\naccept a `dict` or `MapCoord` argument, of which both allow to\nassign coordinates by axis name.\n\nLet us first begin with the `~gammapy.maps.Map.get_by_idx()` method, that accepts a\ntuple of indices. The order of the indices corresponds to the axis order\nof the map:\n\n\n"
      ]
    },
    {
      "cell_type": "code",
      "execution_count": null,
      "metadata": {
        "collapsed": false
      },
      "outputs": [],
      "source": [
        "print(m_gc.get_by_idx((50, 30)))"
      ]
    },
    {
      "cell_type": "markdown",
      "metadata": {},
      "source": [
        "**Important:** Gammapy uses a reversed index order in the map API with\nthe longitude axes first. To achieve the same by directly indexing into\nthe numpy array we have to call:\n\n\n"
      ]
    },
    {
      "cell_type": "code",
      "execution_count": null,
      "metadata": {
        "collapsed": false
      },
      "outputs": [],
      "source": [
        "print(m_gc.data[([30], [50])])"
      ]
    },
    {
      "cell_type": "markdown",
      "metadata": {},
      "source": [
        "To check the order of the axes you can always print the ``.geom```\nattribute:\n\n\n"
      ]
    },
    {
      "cell_type": "code",
      "execution_count": null,
      "metadata": {
        "collapsed": false
      },
      "outputs": [],
      "source": [
        "print(m_gc.geom)"
      ]
    },
    {
      "cell_type": "markdown",
      "metadata": {},
      "source": [
        "To access values directly by sky coordinates we can use the\n`~gammapy.maps.Map.get_by_coord()` method. This time we pass in a `dict`, specifying\nthe axes names corresponding to the given coordinates:\n\n\n"
      ]
    },
    {
      "cell_type": "code",
      "execution_count": null,
      "metadata": {
        "collapsed": false
      },
      "outputs": [],
      "source": [
        "print(m_gc.get_by_coord({\"lon\": [0, 180], \"lat\": [0, 0]}))"
      ]
    },
    {
      "cell_type": "markdown",
      "metadata": {},
      "source": [
        "The units of the coordinates are assumed to be in degrees in the\ncoordinate system used by the map. If the coordinates do not correspond\nto the exact pixel center, the value of the nearest pixel center will be\nreturned. For positions outside the map geometry `np.nan` is returned.\n\nThe coordinate or idx arrays follow normal [Numpy broadcasting\nrules](https://jakevdp.github.io/PythonDataScienceHandbook/02.05-computation-on-arrays-broadcasting.html)_.\nSo the following works as expected:\n\n\n"
      ]
    },
    {
      "cell_type": "code",
      "execution_count": null,
      "metadata": {
        "collapsed": false
      },
      "outputs": [],
      "source": [
        "lons = np.linspace(-4, 4, 10)\nprint(m_gc.get_by_coord({\"lon\": lons, \"lat\": 0}))"
      ]
    },
    {
      "cell_type": "markdown",
      "metadata": {},
      "source": [
        "Or as an even more advanced example, we can provide `lats` as column\nvector and broadcasting to a 2D result array will be applied:\n\n\n"
      ]
    },
    {
      "cell_type": "code",
      "execution_count": null,
      "metadata": {
        "collapsed": false
      },
      "outputs": [],
      "source": [
        "lons = np.linspace(-4, 4, 8)\nlats = np.linspace(-4, 4, 8).reshape(-1, 1)\nprint(m_gc.get_by_coord({\"lon\": lons, \"lat\": lats}))"
      ]
    },
    {
      "cell_type": "markdown",
      "metadata": {},
      "source": [
        "### Indexing and Slicing Sub-Maps\n\nWhen you have worked with Numpy arrays in the past you are probably\nfamiliar with the concept of indexing and slicing into data arrays. To\nsupport slicing of non-spatial axes of `Map` objects, the `Map`\nobject has a `~gammapy.maps.Map.slice_by_idx()` method, which allows to extract\nsub-maps from a larger map.\n\nThe following example demonstrates how to get the map at the energy bin\nnumber 3:\n\n\n"
      ]
    },
    {
      "cell_type": "code",
      "execution_count": null,
      "metadata": {
        "collapsed": false
      },
      "outputs": [],
      "source": [
        "m_sub = m_cube.slice_by_idx({\"energy\": 3})\nprint(m_sub)"
      ]
    },
    {
      "cell_type": "markdown",
      "metadata": {},
      "source": [
        "Note that the returned object is again a `~gammapy.maps.Map` with updated axes\ninformation. In this case, because we extracted only a single image, the\nenergy axes is dropped from the map.\n\nTo extract a sub-cube with a sliced energy axes we can use a normal\n``slice()`` object:\n\n\n"
      ]
    },
    {
      "cell_type": "code",
      "execution_count": null,
      "metadata": {
        "collapsed": false
      },
      "outputs": [],
      "source": [
        "m_sub = m_cube.slice_by_idx({\"energy\": slice(1, 3)})\nprint(m_sub)"
      ]
    },
    {
      "cell_type": "markdown",
      "metadata": {},
      "source": [
        "Note that the returned object is also a `~gammapy.maps.Map` object, but this time\nwith updated energy axis specification.\n\nSlicing of multiple dimensions is supported by adding further entries to\nthe dict passed to `~gammapy.maps.Map.slice_by_idx()`\n\n\n"
      ]
    },
    {
      "cell_type": "code",
      "execution_count": null,
      "metadata": {
        "collapsed": false
      },
      "outputs": [],
      "source": [
        "m_sub = m_4d.slice_by_idx({\"energy\": slice(1, 3), \"time\": slice(4, 10)})\nprint(m_sub)"
      ]
    },
    {
      "cell_type": "markdown",
      "metadata": {},
      "source": [
        "For convenience there is also a `~gammapy.maps.Map.get_image_by_coord()` method which\nallows to access image planes at given non-spatial physical coordinates.\nThis method also supports `~astropy.units.Quantity` objects:\n\n\n"
      ]
    },
    {
      "cell_type": "code",
      "execution_count": null,
      "metadata": {
        "collapsed": false
      },
      "outputs": [],
      "source": [
        "image = m_4d.get_image_by_coord({\"energy\": 4 * u.TeV, \"time\": 5 * u.h})\nprint(image.geom)"
      ]
    },
    {
      "cell_type": "markdown",
      "metadata": {},
      "source": [
        "### Iterating by image\n\nFor maps with non-spatial dimensions the `~gammapy.maps.Map.iter_by_image_data`\nmethod can be used to loop over image slices. The image plane index\n`idx` is returned in data order, so that the data array can be indexed\ndirectly. Here is an example for an in-place convolution of an image\nusing `~astropy.convolution.convolve` to interpolate NaN values:\n\n\n"
      ]
    },
    {
      "cell_type": "code",
      "execution_count": null,
      "metadata": {
        "collapsed": false
      },
      "outputs": [],
      "source": [
        "axis1 = MapAxis([1, 10, 100], interp=\"log\", name=\"energy\")\naxis2 = MapAxis([1, 2, 3], interp=\"lin\", name=\"time\")\nm = Map.create(width=(5, 3), axes=[axis1, axis2], binsz=0.1)\nm.data[:, :, 15:18, 20:25] = np.nan\n\nfor img, idx in m.iter_by_image_data():\n    kernel = np.ones((5, 5))\n    m.data[idx] = convolve(img, kernel)\n\nassert not np.isnan(m.data).any()"
      ]
    },
    {
      "cell_type": "markdown",
      "metadata": {},
      "source": [
        "## Modifying Data\n\n### How to set data values\n\nTo modify and set map data values the `Map` object features as well a\n`~gammapy.maps.Map.set_by_idx()` method:\n\n\n"
      ]
    },
    {
      "cell_type": "code",
      "execution_count": null,
      "metadata": {
        "collapsed": false
      },
      "outputs": [],
      "source": [
        "m_cube.set_by_idx(idx=(10, 20, 3), vals=42)"
      ]
    },
    {
      "cell_type": "markdown",
      "metadata": {},
      "source": [
        "here we check that data have been updated:\n\n\n"
      ]
    },
    {
      "cell_type": "code",
      "execution_count": null,
      "metadata": {
        "collapsed": false
      },
      "outputs": [],
      "source": [
        "print(m_cube.get_by_idx((10, 20, 3)))"
      ]
    },
    {
      "cell_type": "markdown",
      "metadata": {},
      "source": [
        "Of course there is also a `~gammapy.maps.Map.set_by_coord()` method, which allows to\nset map data values in physical coordinates.\n\n\n"
      ]
    },
    {
      "cell_type": "code",
      "execution_count": null,
      "metadata": {
        "collapsed": false
      },
      "outputs": [],
      "source": [
        "m_cube.set_by_coord({\"lon\": 0, \"lat\": 0, \"energy\": 2 * u.TeV}, vals=42)"
      ]
    },
    {
      "cell_type": "markdown",
      "metadata": {},
      "source": [
        "Again the `lon` and `lat` values are assumed to be given in degrees\nin the coordinate system used by the map. For the energy axis, the unit\nis the one specified on the axis (use ``m_cube.geom.axes[0].unit`` to\ncheck if needed\u2026).\n\nAll ``.xxx_by_coord()`` methods accept `~astropy.coordinates.SkyCoord` objects as well. In\nthis case we have to use the ``\"skycoord\"`` keyword instead of ``\"lon\"`` and\n``\"lat\"``:\n\n\n"
      ]
    },
    {
      "cell_type": "code",
      "execution_count": null,
      "metadata": {
        "collapsed": false
      },
      "outputs": [],
      "source": [
        "skycoords = SkyCoord([1.2, 3.4], [-0.5, 1.1], frame=\"galactic\", unit=\"deg\")\nm_cube.set_by_coord({\"skycoord\": skycoords, \"energy\": 2 * u.TeV}, vals=42)"
      ]
    },
    {
      "cell_type": "markdown",
      "metadata": {},
      "source": [
        "### Filling maps from event lists\n\nThis example shows how to fill a counts cube from an event list:\n\n\n"
      ]
    },
    {
      "cell_type": "code",
      "execution_count": null,
      "metadata": {
        "collapsed": false
      },
      "outputs": [],
      "source": [
        "energy_axis = MapAxis.from_bounds(\n    10.0, 2e3, 12, interp=\"log\", name=\"energy\", unit=\"GeV\"\n)\ncounts_3d = WcsNDMap.create(\n    binsz=0.1, width=10.0, skydir=(0, 0), frame=\"galactic\", axes=[energy_axis]\n)\n\nevents = EventList.read(\"$GAMMAPY_DATA/fermi-3fhl-gc/fermi-3fhl-gc-events.fits.gz\")\n\ncounts_3d.fill_by_coord({\"skycoord\": events.radec, \"energy\": events.energy})\ncounts_3d.write(\"ccube.fits\", format=\"fgst-ccube\", overwrite=True)"
      ]
    },
    {
      "cell_type": "markdown",
      "metadata": {},
      "source": [
        "Alternatively you can use the `~gammapy.maps.Map.fill_events` method:\n\n\n"
      ]
    },
    {
      "cell_type": "code",
      "execution_count": null,
      "metadata": {
        "collapsed": false
      },
      "outputs": [],
      "source": [
        "counts_3d = WcsNDMap.create(\n    binsz=0.1, width=10.0, skydir=(0, 0), frame=\"galactic\", axes=[energy_axis]\n)\n\ncounts_3d.fill_events(events)"
      ]
    },
    {
      "cell_type": "markdown",
      "metadata": {},
      "source": [
        "If you have a given map already, and want to make a counts image with\nthe same geometry (not using the pixel data from the original map), you\ncan also use the `~gammapy.maps.Map.fill_events` method.\n\n\n"
      ]
    },
    {
      "cell_type": "code",
      "execution_count": null,
      "metadata": {
        "collapsed": false
      },
      "outputs": [],
      "source": [
        "events = EventList.read(\"$GAMMAPY_DATA/fermi-3fhl-gc/fermi-3fhl-gc-events.fits.gz\")\nreference_map = Map.read(\"$GAMMAPY_DATA/fermi-3fhl-gc/fermi-3fhl-gc-counts.fits.gz\")\ncounts = Map.from_geom(reference_map.geom)\ncounts.fill_events(events)"
      ]
    },
    {
      "cell_type": "markdown",
      "metadata": {},
      "source": [
        "It works for IACT and Fermi-LAT events, for WCS or HEALPix map\ngeometries, and also for extra axes. Especially energy axes are\nautomatically handled correctly.\n\n\n"
      ]
    },
    {
      "cell_type": "markdown",
      "metadata": {},
      "source": [
        "### Filling maps from interpolation\n\nMaps support interpolation via the `~~gammapy.maps.Map.interp_by_coord` and\n`~~gammapy.maps.Map.interp_by_pix` methods. Currently the following interpolation\nmethods are supported:\n\n-  ``\"nearest\"`` : Return value of nearest pixel (no interpolation).\n-  ``\"linear\"`` : Interpolation with first order polynomial. This is the\n   only interpolation method that is supported for all map types.\n-  `quadratic` : Interpolation with second order polynomial.\n-  `cubic` : Interpolation with third order polynomial.\n\nNote that ``\"quadratic\"`` and ``\"cubic\"`` interpolation are currently only\nsupported for WCS-based maps with regular geometry (e.g.\u00a02D or ND with\nthe same geometry in every image plane). ``\"linear\"`` and higher order\ninterpolation by pixel coordinates is only supported for WCS-based maps.\n\nIn the following example we create a new map and fill it by\ninterpolating another map:\n\n\n"
      ]
    },
    {
      "cell_type": "code",
      "execution_count": null,
      "metadata": {
        "collapsed": false
      },
      "outputs": [],
      "source": [
        "# read map\nfilename = \"$GAMMAPY_DATA/fermi-3fhl-gc/gll_iem_v06_gc.fits.gz\"\nm_iem_gc = Map.read(filename)\n\n# create new geometry\nskydir = SkyCoord(266.4, -28.9, frame=\"icrs\", unit=\"deg\")\nwcs_geom_cel = WcsGeom.create(skydir=skydir, binsz=0.1, frame=\"icrs\", width=(8, 4))\n\n# create new empty map from geometry\nm_iem_10GeV = Map.from_geom(wcs_geom_cel)\ncoords = m_iem_10GeV.geom.get_coord()\n\n# fill new map using interpolation\nm_iem_10GeV.data = m_iem_gc.interp_by_coord(\n    {\"skycoord\": coords.skycoord, \"energy_true\": 10 * u.GeV},\n    method=\"linear\",\n    fill_value=np.nan,\n)"
      ]
    },
    {
      "cell_type": "markdown",
      "metadata": {},
      "source": [
        "### Interpolating onto a different geometry\n\n\n"
      ]
    },
    {
      "cell_type": "markdown",
      "metadata": {},
      "source": [
        "For 3d geometries this operation can be performed directly using the\n`~gammapy.maps.Map.interp_to_geom()` method. This is very useful, ex: while using map\narithmetic.\n\n\n"
      ]
    },
    {
      "cell_type": "code",
      "execution_count": null,
      "metadata": {
        "collapsed": false
      },
      "outputs": [],
      "source": [
        "# create new geometry\nenergy_axis = MapAxis.from_bounds(\n    10.0, 2e3, 6, interp=\"log\", name=\"energy_true\", unit=\"GeV\"\n)\nskydir = SkyCoord(266.4, -28.9, frame=\"icrs\", unit=\"deg\")\nwcs_geom_3d = WcsGeom.create(\n    skydir=skydir, binsz=0.1, frame=\"icrs\", width=(8, 4), axes=[energy_axis]\n)\n\n# create the interpolated map\nm_iem_interp = m_iem_gc.interp_to_geom(\n    wcs_geom_3d, preserve_counts=False, method=\"linear\", fill_value=np.nan\n)\nprint(m_iem_interp)"
      ]
    },
    {
      "cell_type": "markdown",
      "metadata": {},
      "source": [
        "Note that ``preserve_counts=`` option should be true if the map is an\nintegral quantity (e.g.\u00a0counts) and false if the map is a differential\nquantity (e.g.\u00a0intensity).\n\n\n"
      ]
    },
    {
      "cell_type": "markdown",
      "metadata": {},
      "source": [
        "## Maps operations\n\n### Basic operators\n\nOne can perform simple arithmetic on maps using the `+`, `-`, `*`,\n`/` operators, this works only for maps with the same geometry:\n\n\n"
      ]
    },
    {
      "cell_type": "code",
      "execution_count": null,
      "metadata": {
        "collapsed": false
      },
      "outputs": [],
      "source": [
        "iem_plus_iem = m_iem_10GeV + m_iem_10GeV\n\niem_minus_iem = m_iem_10GeV - m_iem_10GeV"
      ]
    },
    {
      "cell_type": "markdown",
      "metadata": {},
      "source": [
        "These operations can be applied between a Map and a scalar in that\nspecific order:\n\n\n"
      ]
    },
    {
      "cell_type": "code",
      "execution_count": null,
      "metadata": {
        "collapsed": false
      },
      "outputs": [],
      "source": [
        "iem_times_two = m_iem_10GeV * 2\n# iem_times_two = 2 * m_iem_10GeV # this won't work"
      ]
    },
    {
      "cell_type": "markdown",
      "metadata": {},
      "source": [
        "The logic operators can also by applied on maps (the result is a map of\nboolean type):\n\n\n"
      ]
    },
    {
      "cell_type": "code",
      "execution_count": null,
      "metadata": {
        "collapsed": false
      },
      "outputs": [],
      "source": [
        "is_null = iem_minus_iem == 0\nprint(is_null)"
      ]
    },
    {
      "cell_type": "markdown",
      "metadata": {},
      "source": [
        "Here we check that the result is `True` for all the well-defiend\npixels (not `NaN`):\n\n\n"
      ]
    },
    {
      "cell_type": "code",
      "execution_count": null,
      "metadata": {
        "collapsed": false
      },
      "outputs": [],
      "source": [
        "print(np.all(is_null.data[~np.isnan(iem_minus_iem)]))"
      ]
    },
    {
      "cell_type": "markdown",
      "metadata": {},
      "source": [
        "### Cutouts\n\nThe `WCSNDMap` objects features a `~gammapy.maps.Map.cutout()` method, which allows\nyou to cut out a smaller part of a larger map. This can be useful,\ne.g.\u00a0when working with allsky diffuse maps. Here is an example:\n\n\n"
      ]
    },
    {
      "cell_type": "code",
      "execution_count": null,
      "metadata": {
        "collapsed": false
      },
      "outputs": [],
      "source": [
        "position = SkyCoord(0, 0, frame=\"galactic\", unit=\"deg\")\nm_iem_cutout = m_iem_gc.cutout(position=position, width=(4 * u.deg, 2 * u.deg))"
      ]
    },
    {
      "cell_type": "markdown",
      "metadata": {},
      "source": [
        "The returned object is again a `~gammapy.maps.Map` object with updated WCS\ninformation and data size. As one can see the cutout is automatically\napplied to all the non-spatial axes as well. The cutout width is given\nin the order of `(lon, lat)` and can be specified with units that will\nbe handled correctly.\n\n\n"
      ]
    },
    {
      "cell_type": "markdown",
      "metadata": {},
      "source": [
        "## Visualizing and Plotting\n\nAll map objects provide a `~gammapy.maps.Map.plot` method for generating a visualization\nof a map. This method returns figure, axes, and image objects that can\nbe used to further tweak/customize the image. The `~gammapy.maps.Map.plot` method should\nbe used with 2D maps, while 3D maps can be displayed with the\n`~gammapy.maps.Map.plot_interative()` or `~gammapy.maps.Map.plot_grid()` methods.\n\n### Image Plotting\n\nFor debugging and inspecting the map data it is useful to plot or\nvisualize the images planes contained in the map.\n\n\n"
      ]
    },
    {
      "cell_type": "code",
      "execution_count": null,
      "metadata": {
        "collapsed": false
      },
      "outputs": [],
      "source": [
        "filename = \"$GAMMAPY_DATA/fermi-3fhl-gc/fermi-3fhl-gc-counts.fits.gz\"\nm_3fhl_gc = Map.read(filename)"
      ]
    },
    {
      "cell_type": "markdown",
      "metadata": {},
      "source": [
        "After reading the map we can now plot it on the screen by calling the\n``.plot()`` method:\n\n\n"
      ]
    },
    {
      "cell_type": "code",
      "execution_count": null,
      "metadata": {
        "collapsed": false
      },
      "outputs": [],
      "source": [
        "plt.figure()\nm_3fhl_gc.plot()"
      ]
    },
    {
      "cell_type": "markdown",
      "metadata": {},
      "source": [
        "We can easily improve the plot by calling `~gammapy.maps.Map.smooth()` first and\nproviding additional arguments to `~gammapy.maps.Map.plot()`. Most of them are passed\nfurther to\n[plt.imshow()](https://matplotlib.org/api/_as_gen/matplotlib.pyplot.imshow.html)_:\n\n\n"
      ]
    },
    {
      "cell_type": "code",
      "execution_count": null,
      "metadata": {
        "collapsed": false
      },
      "outputs": [],
      "source": [
        "plt.figure()\nsmoothed = m_3fhl_gc.smooth(width=0.2 * u.deg, kernel=\"gauss\")\nsmoothed.plot(stretch=\"sqrt\", add_cbar=True, vmax=4, cmap=\"inferno\")"
      ]
    },
    {
      "cell_type": "markdown",
      "metadata": {},
      "source": [
        "We can use the\n[plt.rc_context()](https://matplotlib.org/api/_as_gen/matplotlib.pyplot.rc_context.html)_\ncontext manager to further tweak the plot by adapting the figure and\nfont size:\n\n\n"
      ]
    },
    {
      "cell_type": "code",
      "execution_count": null,
      "metadata": {
        "collapsed": false
      },
      "outputs": [],
      "source": [
        "plt.figure()\nrc_params = {\"figure.figsize\": (12, 5.4), \"font.size\": 12}\nwith plt.rc_context(rc=rc_params):\n    smoothed = m_3fhl_gc.smooth(width=0.2 * u.deg, kernel=\"gauss\")\n    smoothed.plot(stretch=\"sqrt\", add_cbar=True, vmax=4)"
      ]
    },
    {
      "cell_type": "markdown",
      "metadata": {},
      "source": [
        "### Cube plotting\n\nFor maps with non-spatial dimensions the `~gammapy.maps.Map` object features an\ninteractive plotting method, that works in jupyter notebooks only (Note:\nit requires the package `ipywidgets` to be installed). We first read a\nsmall example cutout from the Fermi Galactic diffuse model and display\nthe data cube by calling `~gammapy.maps.Map.plot_interactive()`:\n\n\n"
      ]
    },
    {
      "cell_type": "code",
      "execution_count": null,
      "metadata": {
        "collapsed": false
      },
      "outputs": [],
      "source": [
        "plt.figure()\nrc_params = {\n    \"figure.figsize\": (12, 5.4),\n    \"font.size\": 12,\n    \"axes.formatter.limits\": (2, -2),\n}\nm_iem_gc.plot_interactive(add_cbar=True, stretch=\"sqrt\", rc_params=rc_params)"
      ]
    },
    {
      "cell_type": "markdown",
      "metadata": {},
      "source": [
        "Now you can use the interactive slider to select an energy range and the\ncorresponding image is displayed on the screen. You can also use the\nradio buttons to select your preferred image stretching. We have passed\nadditional keywords using the `rc_params` argument to improve the\nfigure and font size. Those keywords are directly passed to the\n[plt.rc_context()](https://matplotlib.org/api/_as_gen/matplotlib.pyplot.rc_context.html)_\ncontext manager.\n\nAdditionally all the slices of a 3D `~gammapy.maps.Map` can be displayed using the\n`~gammapy.maps.Map.plot_grid()` method. By default the colorbars bounds of the subplots\nare not the same, we can make them consistent using the `vmin` and\n`vmax` options:\n\n\n"
      ]
    },
    {
      "cell_type": "code",
      "execution_count": null,
      "metadata": {
        "collapsed": false
      },
      "outputs": [],
      "source": [
        "counts_3d.plot_grid(ncols=4, figsize=(16, 12), vmin=0, vmax=100, stretch=\"log\")\n\nplt.show()"
      ]
    }
  ],
  "metadata": {
    "kernelspec": {
      "display_name": "Python 3",
      "language": "python",
      "name": "python3"
    },
    "language_info": {
      "codemirror_mode": {
        "name": "ipython",
        "version": 3
      },
      "file_extension": ".py",
      "mimetype": "text/x-python",
      "name": "python",
      "nbconvert_exporter": "python",
      "pygments_lexer": "ipython3",
      "version": "3.9.16"
    }
  },
  "nbformat": 4,
  "nbformat_minor": 0
}