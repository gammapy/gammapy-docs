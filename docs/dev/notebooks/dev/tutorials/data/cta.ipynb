{
  "cells": [
    {
      "cell_type": "code",
      "execution_count": null,
      "metadata": {
        "collapsed": false
      },
      "outputs": [],
      "source": [
        "%matplotlib inline"
      ]
    },
    {
      "cell_type": "markdown",
      "metadata": {},
      "source": [
        "\n# CTA with Gammapy\n\nAccess and inspect CTA data and instrument response functions (IRFs) using Gammapy.\n\n## Introduction\n\nThe [Cherenkov Telescope Array\n(CTA)](https://www.cta-observatory.org/)_ is the next generation\nground-based observatory for gamma-ray astronomy. Gammapy is the core\nlibrary for the Cherenkov Telescope Array (CTA) science tools\n([2017ICRC\u202635..766D](https://ui.adsabs.harvard.edu/abs/2017ICRC...35..766D)_\nand [CTAO Press\nRelease](https://www.cta-observatory.org/ctao-adopts-the-gammapy-software-package-for-science-analysis/)_).\n\nCTA will start taking data in the coming years. For now, to learn how to\nanalyse CTA data and to use Gammapy, if you are a member of the CTA\nconsortium, you can use the simulated dataset from the CTA first data\nchallenge which ran in 2017 and 2018.\n\n-  https://forge.in2p3.fr/projects/data-challenge-1-dc-1/wiki (CTA\n   internal)\n\nGammapy fully supports the FITS data formats (events, IRFs) used in CTA\n1DC. The XML sky model format is not supported, but are also not needed\nto analyse the data, you have to specify your model via the Gammapy YAML\nmodel format, or Python code, as shown below.\n\nYou can use Gammapy to simulate CTA data and evaluate CTA performance\nusing the CTA response files available here:\n\n-  https://www.cta-observatory.org/science/cta-performance/\n\nThe current FITS format `CTA-Performance-prod3b-v2-FITS.tar` is fully\nsupported by Gammapy, as shown below.\n\n## Tutorial overview\n\nThis notebook shows how to access CTA data and instrument response\nfunctions (IRFs) using Gammapy, and gives some examples how to quick\nlook the content of CTA files, especially to see the shape of CTA IRFs.\n\nAt the end of the notebooks, we give several links to other tutorial\nnotebooks that show how to simulate CTA data and how to evaluate CTA\nobservability and sensitivity, or how to analyse CTA data.\n\nNote that the FITS data and IRF format currently used by CTA is the one\ndocumented at https://gamma-astro-data-formats.readthedocs.io/, and is\nalso used by H.E.S.S. and other imaging atmospheric Cherenkov telescopes\n(IACTs). So if you see other Gammapy tutorials using e.g.\u00a0H.E.S.S.\nexample data, know that they also apply to CTA, all you have to do is to\nchange the loaded data or IRFs to CTA.\n\n## Setup\n"
      ]
    },
    {
      "cell_type": "code",
      "execution_count": null,
      "metadata": {
        "collapsed": false
      },
      "outputs": [],
      "source": [
        "import os\nfrom pathlib import Path\nfrom astropy import units as u\n\n# %matplotlib inline\nimport matplotlib.pyplot as plt\nfrom IPython.display import display\nfrom gammapy.data import DataStore, EventList\nfrom gammapy.irf import EffectiveAreaTable2D, load_cta_irfs"
      ]
    },
    {
      "cell_type": "markdown",
      "metadata": {},
      "source": [
        "## Check setup\n\n"
      ]
    },
    {
      "cell_type": "code",
      "execution_count": null,
      "metadata": {
        "collapsed": false
      },
      "outputs": [],
      "source": [
        "from gammapy.utils.check import check_tutorials_setup\n\ncheck_tutorials_setup()"
      ]
    },
    {
      "cell_type": "markdown",
      "metadata": {},
      "source": [
        "## CTA 1DC\n\nThe CTA first data challenge (1DC) ran in 2017 and 2018. It is described\nin detail\n[here](https://forge.in2p3.fr/projects/data-challenge-1-dc-1/wiki)_\nand a description of the data and how to download it is\n[here](https://forge.in2p3.fr/projects/data-challenge-1-dc-1/wiki#Data-access)_.\n\nYou should download `caldb.tar.gz` (1.2 MB), `models.tar.gz` (0.9\nGB), `index.tar.gz` (0.5 MB), as well as optionally the simulated\nsurvey data you are interested in: Galactic plane survey `gps.tar.gz`\n(8.3 GB), Galactic center `gc.tar.gz` (4.4 MB), Extragalactic survey\n`egal.tar.gz` (2.5 GB), AGN monitoring `agn.wobble.tar.gz` (4.7 GB).\nAfter download, follow the instructions how to `untar` the files, and\nset a `CTADATA` environment variable to point to the data.\n\nFor convenience, since the 1DC data files are large, and not publicly\navailable to anyone, we have taken a tiny subset of the CTA 1DC data,\nfour observations with the southern array from the GPS survey, pointing\nnear the Galactic center, and included them at `$GAMMAPY_DATA/cta-1dc`\nwhich you get via `gammapy download datasets`.\n\n### Files\n\nNext we will show a quick overview of the files and how to load them,\nand some quick look plots showing the shape of the CTA IRFs. How to do\nCTA simulations and analyses is shown in other tutorials, see links at\nthe end of this notebook.\n\n\n"
      ]
    },
    {
      "cell_type": "code",
      "execution_count": null,
      "metadata": {
        "collapsed": false
      },
      "outputs": [],
      "source": [
        "# !ls -1 $GAMMAPY_DATA/cta-1dc\n\n# !ls -1 $GAMMAPY_DATA/cta-1dc/data/baseline/gps\n\n# !ls -1 $GAMMAPY_DATA/cta-1dc/caldb/data/cta/1dc/bcf/South_z20_50h\n\n# !ls -1 $GAMMAPY_DATA/cta-1dc/index/gps"
      ]
    },
    {
      "cell_type": "markdown",
      "metadata": {},
      "source": [
        "The access to the IRFs files requires to define a `CALDB` environment\nvariable. We are going to define it only for this notebook so it won\u2019t\noverwrite the one you may have already defined.\n\n\n"
      ]
    },
    {
      "cell_type": "code",
      "execution_count": null,
      "metadata": {
        "collapsed": false
      },
      "outputs": [],
      "source": [
        "os.environ[\"CALDB\"] = os.environ[\"GAMMAPY_DATA\"] + \"/cta-1dc/caldb\""
      ]
    },
    {
      "cell_type": "markdown",
      "metadata": {},
      "source": [
        "### Datastore\n\nYou can use the `~gammapy.data.DataStore` to load via the index files\n\n\n"
      ]
    },
    {
      "cell_type": "code",
      "execution_count": null,
      "metadata": {
        "collapsed": false
      },
      "outputs": [],
      "source": [
        "data_store = DataStore.from_dir(\"$GAMMAPY_DATA/cta-1dc/index/gps\")\nprint(data_store)"
      ]
    },
    {
      "cell_type": "markdown",
      "metadata": {},
      "source": [
        "If you can\u2019t download the index files, or got errors related to the data\naccess using them, you can generate the `DataStore` directly from the\nevent files.\n\n\n"
      ]
    },
    {
      "cell_type": "code",
      "execution_count": null,
      "metadata": {
        "collapsed": false
      },
      "outputs": [],
      "source": [
        "path = Path(os.environ[\"GAMMAPY_DATA\"]) / \"cta-1dc/data\"\npaths = list(path.rglob(\"*.fits\"))\ndata_store = DataStore.from_events_files(paths)\nprint(data_store)\n\ndata_store.obs_table[[\"OBS_ID\", \"GLON_PNT\", \"GLAT_PNT\", \"IRF\"]]\n\nobservation = data_store.obs(110380)\nprint(observation)"
      ]
    },
    {
      "cell_type": "markdown",
      "metadata": {},
      "source": [
        "## Events\n\nWe can load events data via the data store and observation, or\nequivalently via the `~gammapy.data.EventList` class by specifying the\nEVENTS filename.\n\nThe quick-look `events.peek()` plot below shows that CTA has a field\nof view of a few degrees, and two energy thresholds, one significantly\nbelow 100 GeV where the CTA large-size telescopes (LSTs) detect events,\nand a second one near 100 GeV where the mid-sized telescopes (MSTs)\nstart to detect events.\n\nNote that most events are \u201chadronic background\u201d due to cosmic ray\nshowers in the atmosphere that pass the gamma-hadron selection cuts for\nthis analysis configuration. Since this is simulated data, column\n`MC_ID` is available that gives an emission component identifier code,\nand the EVENTS header in `events.table.meta` can be used to look up\nwhich `MC_ID` corresponds to which emission component.\n\nEvents can be accessed from the observatiosn object like:\n\n"
      ]
    },
    {
      "cell_type": "code",
      "execution_count": null,
      "metadata": {
        "collapsed": false
      },
      "outputs": [],
      "source": [
        "events = observation.events"
      ]
    },
    {
      "cell_type": "markdown",
      "metadata": {},
      "source": [
        "Or read directly from an event file:\n\n\n"
      ]
    },
    {
      "cell_type": "code",
      "execution_count": null,
      "metadata": {
        "collapsed": false
      },
      "outputs": [],
      "source": [
        "events = EventList.read(\n    \"$GAMMAPY_DATA/cta-1dc/data/baseline/gps/gps_baseline_110380.fits\"\n)"
      ]
    },
    {
      "cell_type": "markdown",
      "metadata": {},
      "source": [
        "Here we print the data from the first 5 events listed in the table:\n\n\n"
      ]
    },
    {
      "cell_type": "code",
      "execution_count": null,
      "metadata": {
        "collapsed": false
      },
      "outputs": [],
      "source": [
        "display(events.table[:5])"
      ]
    },
    {
      "cell_type": "markdown",
      "metadata": {},
      "source": [
        "And show a summary plot:\n\n\n"
      ]
    },
    {
      "cell_type": "code",
      "execution_count": null,
      "metadata": {
        "collapsed": false
      },
      "outputs": [],
      "source": [
        "events.peek()"
      ]
    },
    {
      "cell_type": "markdown",
      "metadata": {},
      "source": [
        "## IRFs\n\nThe CTA instrument response functions (IRFs) are given as FITS files in\nthe `caldb` folder, the following IRFs are available:\n\n-  effective area\n-  energy dispersion\n-  point spread function\n-  background\n\nNotes:\n\n-  The IRFs contain the energy and offset dependence of the CTA response\n-  CTA 1DC was based on an early version of the CTA FITS responses\n   produced in 2017, improvements have been made since.\n-  The point spread function was approximated by a Gaussian shape\n-  The background is from hadronic and electron air shower events that\n   pass CTA selection cuts. It was given as a function of field of view\n   coordinates, although it is radially symmetric.\n-  The energy dispersion in CTA 1DC is noisy at low energy, leading to\n   unreliable spectral points for some analyses.\n-  The CTA 1DC response files have the first node at field of view\n   offset 0.5 deg, so to get the on-axis response at offset 0 deg,\n   Gammapy has to extrapolate. Furthermore, because diffuse gamma-rays\n   in the FOV were used to derive the IRFs, and the solid angle at small\n   FOV offset circles is small, the IRFs at the center of the FOV are\n   somewhat noisy. This leads to unstable analysis and simulation issues\n   when using the DC1 IRFs for some analyses.\n\n\n"
      ]
    },
    {
      "cell_type": "code",
      "execution_count": null,
      "metadata": {
        "collapsed": false
      },
      "outputs": [],
      "source": [
        "print(observation.aeff)\n\nirf_filename = (\n    \"$GAMMAPY_DATA/cta-1dc/caldb/data/cta/1dc/bcf/South_z20_50h/irf_file.fits\"\n)\nirfs = load_cta_irfs(irf_filename)\nprint(irfs)"
      ]
    },
    {
      "cell_type": "markdown",
      "metadata": {},
      "source": [
        "### Effective area\n\n\n"
      ]
    },
    {
      "cell_type": "code",
      "execution_count": null,
      "metadata": {
        "collapsed": false
      },
      "outputs": [],
      "source": [
        "# Equivalent alternative way to load IRFs directly\naeff = EffectiveAreaTable2D.read(irf_filename, hdu=\"EFFECTIVE AREA\")\nprint(aeff)\n\nirfs[\"aeff\"].peek()\n\n# What is the on-axis effective area at 10 TeV?\nprint(aeff.evaluate(energy_true=\"10 TeV\", offset=\"0 deg\").to(\"km2\"))"
      ]
    },
    {
      "cell_type": "markdown",
      "metadata": {},
      "source": [
        "### Energy dispersion\n\n\n"
      ]
    },
    {
      "cell_type": "code",
      "execution_count": null,
      "metadata": {
        "collapsed": false
      },
      "outputs": [],
      "source": [
        "irfs[\"edisp\"].peek()"
      ]
    },
    {
      "cell_type": "markdown",
      "metadata": {},
      "source": [
        "### Point spread function\n\n\n"
      ]
    },
    {
      "cell_type": "code",
      "execution_count": null,
      "metadata": {
        "collapsed": false
      },
      "outputs": [],
      "source": [
        "irfs[\"psf\"].peek()\n\n# This is how for analysis you could slice out the PSF\n# at a given field of view offset\nirfs[\"psf\"].plot_containment_radius_vs_energy(\n    offset=[1] * u.deg, fraction=[0.68, 0.8, 0.95]\n)"
      ]
    },
    {
      "cell_type": "markdown",
      "metadata": {},
      "source": [
        "### Background\n\nThe background is given as a rate in units `MeV-1 s-1 sr-1`.\n\n\n"
      ]
    },
    {
      "cell_type": "code",
      "execution_count": null,
      "metadata": {
        "collapsed": false
      },
      "outputs": [],
      "source": [
        "irfs[\"bkg\"].peek()\n\nprint(irfs[\"bkg\"].evaluate(energy=\"3 TeV\", fov_lon=\"1 deg\", fov_lat=\"0 deg\"))"
      ]
    },
    {
      "cell_type": "markdown",
      "metadata": {},
      "source": [
        "To visualise the background at particular energies:\n\n\n"
      ]
    },
    {
      "cell_type": "code",
      "execution_count": null,
      "metadata": {
        "collapsed": false
      },
      "outputs": [],
      "source": [
        "irfs[\"bkg\"].plot_at_energy(\n    [\"100 GeV\", \"500 GeV\", \"1 TeV\", \"3 TeV\", \"10 TeV\", \"100 TeV\"]\n)\n\nplt.show()"
      ]
    },
    {
      "cell_type": "markdown",
      "metadata": {},
      "source": [
        "## Source models\n\nThe 1DC sky model is distributed as a set of XML files, which in turn\nlink to a ton of other FITS and text files. Gammapy doesn\u2019t support this\nXML model file format. We are currently developing a YAML based format\nthat improves upon the XML format, to be easier to write and read, add\nrelevant information (units for physical quantities), and omit useless\ninformation (e.g.\u00a0parameter scales in addition to values).\n\nIf you must or want to read the XML model files, you can use\ne.g.\u00a0[ElementTree](https://docs.python.org/3/library/xml.etree.elementtree.html)_\nfrom the Python standard library, or\n[xmltodict](https://github.com/martinblech/xmltodict)_ if you\n`pip install xmltodict`. Here\u2019s an example how to load the information\nfor a given source, and to convert it into the sky model format Gammapy\nunderstands.\n\n\n"
      ]
    },
    {
      "cell_type": "code",
      "execution_count": null,
      "metadata": {
        "collapsed": false
      },
      "outputs": [],
      "source": [
        "# This is what the XML file looks like\n# !tail -n 20 $CTADATA/models/models_gps.xml\n\n# TODO: write this example!\n\n# Read XML file and access spectrum parameters\n# from gammapy.extern import xmltodict\n\n# filename = os.path.join(os.environ[\"CTADATA\"], \"models/models_gps.xml\")\n# data = xmltodict.parse(open(filename).read())\n# data = data[\"source_library\"][\"source\"][-1]\n# data = data[\"spectrum\"][\"parameter\"]\n# data\n\n# Create a spectral model the the right units\n# from astropy import units as u\n# from gammapy.modeling.models import PowerLawSpectralModel\n\n# par_to_val = lambda par: float(par[\"@value\"]) * float(par[\"@scale\"])\n# spec = PowerLawSpectralModel(\n#     amplitude=par_to_val(data[0]) * u.Unit(\"cm-2 s-1 MeV-1\"),\n#     index=par_to_val(data[1]),\n#     reference=par_to_val(data[2]) * u.Unit(\"MeV\"),\n# )\n# print(spec)"
      ]
    },
    {
      "cell_type": "markdown",
      "metadata": {},
      "source": [
        "## CTA performance files\n\nCTA 1DC is useful to learn how to analyse CTA data. But to do\nsimulations and studies for CTA now, you should get the most recent CTA\nIRFs in FITS format from\nhttps://www.cta-observatory.org/science/cta-performance/\n\nIf you want to run the download and examples in the next code cells,\nremove the # to uncomment.\n\n\n"
      ]
    },
    {
      "cell_type": "code",
      "execution_count": null,
      "metadata": {
        "collapsed": false
      },
      "outputs": [],
      "source": [
        "# !curl -O https://www.cta-observatory.org/wp-content/uploads/2019/04/CTA-Performance-prod3b-v2-FITS.tar.gz\n\n# !tar xf CTA-Performance-prod3b-v2-FITS.tar.gz\n\n# !ls caldb/data/cta/prod3b-v2/bcf\n\n# irfs1 = load_cta_irfs(\"caldb/data/cta/prod3b-v2/bcf/South_z20_50h/irf_file.fits\")\n# irfs1[\"aeff\"].plot_energy_dependence()\n\n# irfs2 = load_cta_irfs(\"caldb/data/cta/prod3b-v2/bcf/South_z40_50h/irf_file.fits\")\n# irfs2[\"aeff\"].plot_energy_dependence()"
      ]
    },
    {
      "cell_type": "markdown",
      "metadata": {},
      "source": [
        "## Exercises\n\n-  Load the EVENTS file for `obs_id=111159` as a\n   `~gammapy.data.EventList` object.\n-  Use `~gammapy.data.EventList.table` to find the energy, sky coordinate and time of\n   the highest-energy envent.\n-  Use `~gammapy.data.EventList.pointing_radec` to find the pointing position of this\n   observation, and use `astropy.coordinates.SkyCoord` methods to find\n   the field of view offset of the highest-energy event.\n-  What is the effective area and PSF 68% containment radius of CTA at 1\n   TeV for the `South_z20_50h` configuration used for the CTA 1DC\n   simulation?\n-  Get the latest CTA FITS performance files from\n   https://www.cta-observatory.org/science/cta-performance/ and run the\n   code example above. Make an effective area ratio plot of 40 deg\n   zenith versus 20 deg zenith for the `South_z40_50h` and\n   `South_z20_50h` configurations.\n\n\n"
      ]
    },
    {
      "cell_type": "code",
      "execution_count": null,
      "metadata": {
        "collapsed": false
      },
      "outputs": [],
      "source": [
        "# start typing here ..."
      ]
    },
    {
      "cell_type": "markdown",
      "metadata": {},
      "source": [
        "## Next steps\n\n-  Learn how to analyse data with\n   :doc:`/tutorials/starting/analysis_1` and\n   :doc:`/tutorials/starting/analysis_2` or any other\n   Gammapy analysis tutorial.\n-  Learn how to evaluate CTA observability and sensitivity with\n   :doc:`/tutorials/analysis-3d/simulate_3d`,\n   :doc:`/tutorials/analysis-1d/spectrum_simulation`\n   or :doc:`/tutorials/analysis-1d/cta_sensitivity`.\n\n\n"
      ]
    }
  ],
  "metadata": {
    "kernelspec": {
      "display_name": "Python 3",
      "language": "python",
      "name": "python3"
    },
    "language_info": {
      "codemirror_mode": {
        "name": "ipython",
        "version": 3
      },
      "file_extension": ".py",
      "mimetype": "text/x-python",
      "name": "python",
      "nbconvert_exporter": "python",
      "pygments_lexer": "ipython3",
      "version": "3.9.16"
    }
  },
  "nbformat": 4,
  "nbformat_minor": 0
}