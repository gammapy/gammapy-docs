{
  "cells": [
    {
      "cell_type": "code",
      "execution_count": null,
      "metadata": {
        "collapsed": false
      },
      "outputs": [],
      "source": [
        "%matplotlib inline"
      ]
    },
    {
      "cell_type": "markdown",
      "metadata": {},
      "source": [
        "\n\n# Piecewise norm spatial model\n\nThis model parametrises a piecewise spatial correction\nwith a free norm parameter at each fixed node in longitude, latitude\nand optionaly energy.\n"
      ]
    },
    {
      "cell_type": "markdown",
      "metadata": {},
      "source": [
        "## Example plot\nHere is an example plot of the model:\n\n"
      ]
    },
    {
      "cell_type": "code",
      "execution_count": null,
      "metadata": {
        "collapsed": false
      },
      "outputs": [],
      "source": [
        "import numpy as np\nfrom astropy import units as u\nfrom gammapy.maps import MapCoord, WcsGeom\nfrom gammapy.modeling.models import (\n    FoVBackgroundModel,\n    Models,\n    PiecewiseNormSpatialModel,\n)\n\ngeom = WcsGeom.create(skydir=(50, 0), npix=(120, 120), binsz=0.03, frame=\"galactic\")\ncoords = MapCoord.create(geom.footprint)\ncoords[\"lon\"] *= u.deg\ncoords[\"lat\"] *= u.deg\n\nmodel = PiecewiseNormSpatialModel(\n    coords, norms=np.array([0.5, 3, 2, 1]), frame=\"galactic\"\n)\n\nmodel.plot(geom=geom)"
      ]
    },
    {
      "cell_type": "markdown",
      "metadata": {},
      "source": [
        "## YAML representation\nHere is an example YAML file using the model:\n\n"
      ]
    },
    {
      "cell_type": "code",
      "execution_count": null,
      "metadata": {
        "collapsed": false
      },
      "outputs": [],
      "source": [
        "bkg_model = FoVBackgroundModel(spatial_model=model, dataset_name=\"dataset\")\nmodels = Models([bkg_model])\n\nprint(models.to_yaml())"
      ]
    }
  ],
  "metadata": {
    "kernelspec": {
      "display_name": "Python 3",
      "language": "python",
      "name": "python3"
    },
    "language_info": {
      "codemirror_mode": {
        "name": "ipython",
        "version": 3
      },
      "file_extension": ".py",
      "mimetype": "text/x-python",
      "name": "python",
      "nbconvert_exporter": "python",
      "pygments_lexer": "ipython3",
      "version": "3.9.18"
    }
  },
  "nbformat": 4,
  "nbformat_minor": 0
}