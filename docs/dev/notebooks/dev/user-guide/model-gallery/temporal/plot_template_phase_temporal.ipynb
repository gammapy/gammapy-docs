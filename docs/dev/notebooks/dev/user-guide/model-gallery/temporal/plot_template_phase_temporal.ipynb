{
  "cells": [
    {
      "cell_type": "code",
      "execution_count": null,
      "metadata": {
        "collapsed": false
      },
      "outputs": [],
      "source": [
        "%matplotlib inline"
      ]
    },
    {
      "cell_type": "markdown",
      "metadata": {},
      "source": [
        "\n\n# Phase curve temporal model\n\nThis model parametrises a PhaseCurve time model, i.e. with a template phasogram and timing parameters\n"
      ]
    },
    {
      "cell_type": "code",
      "execution_count": null,
      "metadata": {
        "collapsed": false
      },
      "outputs": [],
      "source": [
        "import astropy.units as u\nfrom astropy.time import Time\nfrom gammapy.modeling.models import (\n    Models,\n    PowerLawSpectralModel,\n    SkyModel,\n    TemplatePhaseCurveTemporalModel,\n)\n\npath = \"$GAMMAPY_DATA/tests/phasecurve_LSI_DC.fits\"\nt_ref = 43366.275 * u.d\nf0 = 1.0 / (26.7 * u.d)\n\nphase_model = TemplatePhaseCurveTemporalModel.read(path, t_ref, 0.0, f0)\ntime_range = [Time(\"59100\", format=\"mjd\"), Time(\"59200\", format=\"mjd\")]\n\nphase_model.plot(time_range, n_points=400)"
      ]
    },
    {
      "cell_type": "markdown",
      "metadata": {},
      "source": [
        "## YAML representation\nHere is an example YAML file using the model:\n\n"
      ]
    },
    {
      "cell_type": "code",
      "execution_count": null,
      "metadata": {
        "collapsed": false
      },
      "outputs": [],
      "source": [
        "model = SkyModel(\n    spectral_model=PowerLawSpectralModel(),\n    temporal_model=phase_model,\n    name=\"phase_curve_model\",\n)\nmodels = Models([model])\n\nprint(models.to_yaml())"
      ]
    }
  ],
  "metadata": {
    "kernelspec": {
      "display_name": "Python 3",
      "language": "python",
      "name": "python3"
    },
    "language_info": {
      "codemirror_mode": {
        "name": "ipython",
        "version": 3
      },
      "file_extension": ".py",
      "mimetype": "text/x-python",
      "name": "python",
      "nbconvert_exporter": "python",
      "pygments_lexer": "ipython3",
      "version": "3.9.16"
    }
  },
  "nbformat": 4,
  "nbformat_minor": 0
}