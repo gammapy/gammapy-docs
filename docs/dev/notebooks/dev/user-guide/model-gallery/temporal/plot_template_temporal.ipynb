{
  "cells": [
    {
      "cell_type": "markdown",
      "metadata": {},
      "source": [
        "\n\n# Light curve temporal model\n\nThis model parametrises a LightCurve time model.\n\nThe gammapy internal lightcurve model format is a `~gammapy.maps.RegionNDMap`\nwith `time`, and optionally `energy` axes. The times are defined wrt to a reference time.\n\nFor serialisation, a `table` and a `map` format are supported.\nA `table` format is a `~astropy.table.Table` with the reference_time`\nserialised as a dictionary in the table meta. Only maps without an energy axis can\nbe serialised to this format.\n\nIn `map` format, a `~gammapy.maps.RegionNDMap` is serialised, with the `reference_time`\nin the SKYMAP_BANDS HDU.\n"
      ]
    },
    {
      "cell_type": "code",
      "execution_count": null,
      "metadata": {
        "collapsed": false
      },
      "outputs": [],
      "source": [
        "from astropy.time import Time\nfrom gammapy.modeling.models import (\n    LightCurveTemplateTemporalModel,\n    Models,\n    PowerLawSpectralModel,\n    SkyModel,\n)\n\ntime_range = [Time(\"59100\", format=\"mjd\"), Time(\"59365\", format=\"mjd\")]\npath = \"$GAMMAPY_DATA/tests/models/light_curve/lightcrv_PKSB1222+216.fits\"\nlight_curve_model = LightCurveTemplateTemporalModel.read(path)\nlight_curve_model.plot(time_range)"
      ]
    },
    {
      "cell_type": "markdown",
      "metadata": {},
      "source": [
        "## YAML representation\nHere is an example YAML file using the model:\n\n"
      ]
    },
    {
      "cell_type": "code",
      "execution_count": null,
      "metadata": {
        "collapsed": false
      },
      "outputs": [],
      "source": [
        "model = SkyModel(\n    spectral_model=PowerLawSpectralModel(),\n    temporal_model=light_curve_model,\n    name=\"light_curve_model\",\n)\nmodels = Models([model])\n\nprint(models.to_yaml())"
      ]
    }
  ],
  "metadata": {
    "kernelspec": {
      "display_name": "Python 3",
      "language": "python",
      "name": "python3"
    },
    "language_info": {
      "codemirror_mode": {
        "name": "ipython",
        "version": 3
      },
      "file_extension": ".py",
      "mimetype": "text/x-python",
      "name": "python",
      "nbconvert_exporter": "python",
      "pygments_lexer": "ipython3",
      "version": "3.9.20"
    }
  },
  "nbformat": 4,
  "nbformat_minor": 0
}